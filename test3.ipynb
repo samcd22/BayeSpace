{
 "cells": [
  {
   "attachments": {},
   "cell_type": "markdown",
   "metadata": {},
   "source": [
    "# Controller #"
   ]
  },
  {
   "attachments": {},
   "cell_type": "markdown",
   "metadata": {},
   "source": [
    "Import all neccessary packages"
   ]
  },
  {
   "cell_type": "code",
   "execution_count": 1,
   "metadata": {},
   "outputs": [
    {
     "name": "stderr",
     "output_type": "stream",
     "text": [
      "No GPU/TPU found, falling back to CPU. (Set TF_CPP_MIN_LOG_LEVEL=0 and rerun for more info.)\n"
     ]
    }
   ],
   "source": [
    "import os\n",
    "import pandas as pd\n",
    "import numpy as np\n",
    "\n",
    "from controllers.inference_controllers.sandbox import Sandbox\n",
    "from controllers.inference_controllers.generator import Generator\n",
    "from controllers.inference_controllers.optimiser import Optimiser\n",
    "\n",
    "from toolboxes.plotting_toolbox.domain import Domain\n",
    "from toolboxes.inference_toolbox.parameter import Parameter\n",
    "from toolboxes.inference_toolbox.model import Model\n",
    "from toolboxes.inference_toolbox.likelihood import Likelihood\n",
    "\n",
    "current_directory = os.getcwd()\n",
    "if current_directory != '/project/':\n",
    "    os.chdir('/project/')"
   ]
  },
  {
   "attachments": {},
   "cell_type": "markdown",
   "metadata": {},
   "source": [
    "Defining simulated data"
   ]
  },
  {
   "cell_type": "code",
   "execution_count": 2,
   "metadata": {},
   "outputs": [],
   "source": [
    "data_params = {\n",
    "    'data_type': 'simulated_data',\n",
    "    'model': {\n",
    "        'model_select': 'log_gpm_norm',\n",
    "        'model_params':{\n",
    "            'H': 10\n",
    "        },\n",
    "        'inference_params':{\n",
    "            'I_y': 1.6,\n",
    "            'I_z': 1.2,\n",
    "            'Q': 3e13,\n",
    "            'sigma': 0.05\n",
    "        }\n",
    "    },\n",
    "    'domain':{\n",
    "        'domain_select': 'cone_from_source_z_limited',\n",
    "        'domain_params': {\n",
    "            'r': 1000,\n",
    "            'theta': np.pi/8,\n",
    "            'source': [0,0,10]\n",
    "        },\n",
    "        'resolution': 20\n",
    "    },\n",
    "    'noise_dist': 'gaussian',\n",
    "    'noise_level': 0.05,\n",
    "    'output_header': 'Concentration',\n",
    "}\n",
    "\n",
    "# data_params = {\n",
    "#     'data_type': 'normalised_data',\n",
    "#     'data_select': 'GBR_data',\n",
    "#     'normaliser_select': 'GBR_normaliser',\n",
    "#     'normaliser_params':{\n",
    "#         'experiments_list': [\n",
    "#             'Exp1',\n",
    "#             'Exp2',\n",
    "#             'Exp3',\n",
    "#             'Exp4',\n",
    "#             'Exp5',\n",
    "#             'Exp6',\n",
    "#             'Exp7',\n",
    "#             'Exp8',\n",
    "#             'Exp9',\n",
    "#             'Exp10',\n",
    "#             'Exp11',\n",
    "#             'Exp12',\n",
    "#         ],\n",
    "#         'meta_data_select': 'GBR_data_summary',\n",
    "#         'input_header': 'Concentration'\n",
    "#     },\n",
    "#     'log':True,\n",
    "#     'output_header': 'Concentration',\n",
    "#     'gridding': [100,100,25]\n",
    "# }\n",
    "\n",
    "prior_plots = [\n",
    "    {\n",
    "        'Q': [1e12, 5e13],\n",
    "        'references':{\n",
    "            'Q' : [2.82e13, 3.11e13, 2.89e13, 4.83e13],\n",
    "            'labels': ['250m','200m','750m','1000m'] \n",
    "        }\n",
    "    },\n",
    "    # {\n",
    "    #     'sigma': [0.001, 4],\n",
    "    # },\n",
    "    {\n",
    "        'I_y': [0.0001, 1.7],\n",
    "        'I_z': [0.0001, 1.7],\n",
    "        'references':{\n",
    "            'I_y' : [0.22, 1.6, 0.11, 0.08, 0.06, 0.04],\n",
    "            'I_z' : [0.2, 1.2, 0.08, 0.06, 0.03, 0.016],\n",
    "            'labels': ['A','B','C','D','E','F'] \n",
    "        }\n",
    "    }\n",
    "]\n",
    "\n",
    "results_name = 'simulated_data_3'"
   ]
  },
  {
   "cell_type": "markdown",
   "metadata": {},
   "source": [
    "Defining default parameters and prior plots for gamma priors of the simulated data"
   ]
  },
  {
   "cell_type": "code",
   "execution_count": 3,
   "metadata": {},
   "outputs": [],
   "source": [
    "default_params = {\n",
    "    'infered_params':pd.Series({\n",
    "        'model_params':pd.Series({\n",
    "            'I_y_and_I_z': Parameter('I_y','I_z', prior_select='log_norm', order = 1)\n",
    "                                    .add_prior_param('mu', [1.6,1.2])\n",
    "                                    .add_prior_param('cov', [[0.1,0],[0,0.1]]),\n",
    "            'Q': Parameter('Q', prior_select = 'log_norm', order = 1e13).add_prior_param('mu', 5).add_prior_param('cov',3.6),\n",
    "\n",
    "        }),\n",
    "        'likelihood_params':pd.Series({\n",
    "            # 'sigma': Parameter('sigma', prior_select = 'log_norm', order = 1).add_prior_param('mu', 5).add_prior_param('cov',5)\n",
    "        })\n",
    "    }),\n",
    "    'model':Model('log_gpm_norm').add_model_param('H',5),\n",
    "    'likelihood': Likelihood('gaussian_fixed_sigma').add_likelihood_param('sigma', 0.05),\n",
    "    'sampler': {\n",
    "        'n_samples': 10000,\n",
    "        'n_chains': 3,\n",
    "        'thinning_rate': 3\n",
    "    }\n",
    "}"
   ]
  },
  {
   "attachments": {},
   "cell_type": "markdown",
   "metadata": {},
   "source": [
    "Running a general instance for gamma priors and simulated data"
   ]
  },
  {
   "cell_type": "code",
   "execution_count": 4,
   "metadata": {},
   "outputs": [
    {
     "name": "stderr",
     "output_type": "stream",
     "text": [
      "sample: 100%|██████████| 15000/15000 [00:07<00:00, 2062.67it/s, 83 steps of size 2.97e-02. acc. prob=0.93] \n",
      "sample: 100%|██████████| 15000/15000 [00:05<00:00, 2597.01it/s, 15 steps of size 3.09e-02. acc. prob=0.93] \n",
      "sample: 100%|██████████| 15000/15000 [00:05<00:00, 2502.10it/s, 63 steps of size 3.09e-02. acc. prob=0.93] \n"
     ]
    },
    {
     "name": "stdout",
     "output_type": "stream",
     "text": [
      "Creating instance\n"
     ]
    }
   ],
   "source": [
    "\n",
    "\n",
    "\n",
    "sandbox = Sandbox(results_name=results_name, \n",
    "                  data_params=data_params,\n",
    "                  default_params=default_params)\n",
    "\n",
    "visualiser = sandbox.run()\n",
    "# sandbox.sampler.test_priors()\n",
    "\n",
    "visualiser.get_summary()\n",
    "visualiser.get_traceplot()\n",
    "visualiser.get_autocorrelations()\n",
    "visualiser.get_prior_plots(prior_plots)\n",
    "\n",
    "\n",
    "\n",
    "domain = Domain('cone_from_source_z_limited', resolution=80)\n",
    "domain.add_domain_param('r', 1000)\n",
    "domain.add_domain_param('theta', np.pi/8)\n",
    "domain.add_domain_param('source', [0,0,5])\n",
    "domain.add_domain_param('z_slice', 0)\n",
    "domain.add_domain_param('y_slice', 0)\n",
    "domain.add_domain_param('x_slice', 100)\n",
    "\n",
    "\n",
    "visualiser.visualise_results(domain = domain, plot_type = '2D_slice', name = 'small_scale', title='Log Concentration of Droplets', log_results=False)\n",
    "visualiser.visualise_results(domain = domain, plot_type = '3D', name = 'small_scale', title='Log Concentration of Droplets', log_results=False)"
   ]
  }
 ],
 "metadata": {
  "kernelspec": {
   "display_name": "base",
   "language": "python",
   "name": "python3"
  },
  "language_info": {
   "codemirror_mode": {
    "name": "ipython",
    "version": 3
   },
   "file_extension": ".py",
   "mimetype": "text/x-python",
   "name": "python",
   "nbconvert_exporter": "python",
   "pygments_lexer": "ipython3",
   "version": "3.9.16"
  },
  "orig_nbformat": 4
 },
 "nbformat": 4,
 "nbformat_minor": 2
}
