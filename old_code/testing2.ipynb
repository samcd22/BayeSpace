{
 "cells": [
  {
   "cell_type": "code",
   "execution_count": 1,
   "metadata": {},
   "outputs": [
    {
     "name": "stderr",
     "output_type": "stream",
     "text": [
      "/build/miniconda3/lib/python3.12/site-packages/tqdm/auto.py:21: TqdmWarning: IProgress not found. Please update jupyter and ipywidgets. See https://ipywidgets.readthedocs.io/en/stable/user_install.html\n",
      "  from .autonotebook import tqdm as notebook_tqdm\n"
     ]
    }
   ],
   "source": [
    "from regression_toolbox.model import Model, add_model, delete_model\n",
    "from regression_toolbox.likelihood import Likelihood\n",
    "from regression_toolbox.parameter import Parameter\n",
    "from visualisation_toolbox.domain import Domain\n",
    "from regression_toolbox.sampler import Sampler\n",
    "from visualisation_toolbox.visualiser import Visualiser\n",
    "from data_processing.sim_data_processor import SimDataProcessor\n",
    "from data_processing.raw_data_processor import RawDataProcessor\n",
    "import numpy as np\n",
    "import pandas as pd\n",
    "import os\n",
    "\n",
    "os.chdir('/PhD_project/')"
   ]
  },
  {
   "cell_type": "code",
   "execution_count": 2,
   "metadata": {},
   "outputs": [
    {
     "name": "stdout",
     "output_type": "stream",
     "text": [
      "Data loaded from /PhD_project/data/processed_sim_data/sim_data_line\n"
     ]
    },
    {
     "name": "stderr",
     "output_type": "stream",
     "text": [
      "sample: 100%|██████████| 1500/1500 [00:01<00:00, 1204.25it/s, 23 steps of size 4.28e-01. acc. prob=0.90]\n"
     ]
    },
    {
     "name": "stdout",
     "output_type": "stream",
     "text": [
      "Samples saved to /PhD_project/results/inference_results/sim_data_line/general_instances/instance_2\n",
      "   Unnamed: 0     x          y  y_true\n",
      "0           0   0.1   2.246714    1.75\n",
      "1           1   1.2   4.361736    4.50\n",
      "2           2   2.3   7.897688    7.25\n",
      "3           3   3.4  11.523029   10.00\n",
      "4           4   4.5  12.515846   12.75\n",
      "5           5   5.6  15.265863   15.50\n",
      "6           6   6.7  19.829212   18.25\n",
      "7           7   7.8  21.767435   21.00\n",
      "8           8   8.9  23.280525   23.75\n",
      "9           9  10.0  27.042560   26.50\n",
      "   Unnamed: 0     x          y  y_true\n",
      "0           0   0.1   2.246714    1.75\n",
      "1           1   1.2   4.361736    4.50\n",
      "2           2   2.3   7.897688    7.25\n",
      "3           3   3.4  11.523029   10.00\n",
      "4           4   4.5  12.515846   12.75\n",
      "5           5   5.6  15.265863   15.50\n",
      "6           6   6.7  19.829212   18.25\n",
      "7           7   7.8  21.767435   21.00\n",
      "8           8   8.9  23.280525   23.75\n",
      "9           9  10.0  27.042560   26.50\n"
     ]
    }
   ],
   "source": [
    "report_title = 'Simulation run with noise level 1 on line model'\n",
    "\n",
    "seed = 42\n",
    "# Set the seed for numpy\n",
    "np.random.seed(seed)\n",
    "\n",
    "\n",
    "# PARAMETERS\n",
    "n_samples = 10            # Number of data samples (per dimension for 2D/3D)\n",
    "noise_scale = 1            # Noise scale for data generation\n",
    "num_warmup = 500            # Number of warmup steps for MCMC\n",
    "num_samples = 1000         # Number of MCMC samples\n",
    "model_name = 'line'    \n",
    "\n",
    "delete_model(model_name)\n",
    "add_model(model_name, 'a*x + b', ['x'], ['y'], ['a', 'b'])\n",
    "\n",
    "# TRUE VALUES FOR PARAMETERS\n",
    "true_params = {'a': 2.5, 'b': 1.5}#, 'c': 3.5, 'd': 4.5, 'e': 5.5, 'f': 6.5}\n",
    "\n",
    "sim_model = Model('line').add_fixed_model_param('a', true_params['a']).add_fixed_model_param('b',true_params['b'])\n",
    "sim_domain = Domain('one_D').add_domain_param('x_min', 0.1).add_domain_param('x_max', 10).add_domain_param('resolution', n_samples)\n",
    "sim_data_processor = SimDataProcessor('sim_data_line', sim_model, sim_domain, noise_dist='gaussian', noise_level=noise_scale, train_test_split=1.0)\n",
    "\n",
    "model = Model('line')\n",
    "likelihood = Likelihood('gaussian')\n",
    "a = Parameter(name='a', prior_select='gaussian').add_prior_param('mu', 1).add_prior_param('sigma', 10)\n",
    "b = Parameter(name='b', prior_select='gaussian').add_prior_param('mu', 1).add_prior_param('sigma', 1)\n",
    "sigma = Parameter(name='sigma', prior_select='exponential').add_prior_param('rate', 1)\n",
    "inference_params = pd.Series({'a': a, 'b': b, 'sigma': sigma})\n",
    "\n",
    "sampler = Sampler(inference_params, model, likelihood, sim_data_processor, n_samples = num_samples, n_chains=1)\n",
    "sampler.sample_all()\n",
    "print(sampler.data_processor.processed_data)\n",
    "print(sampler.testing_data)\n",
    "\n",
    "\n",
    "visualiser = Visualiser(sampler)\n",
    "visualiser.get_traceplots()\n",
    "\n",
    "visualiser.get_summary()\n",
    "\n",
    "visualiser.plot_prior('a', [0,10])\n",
    "visualiser.plot_prior('b', [0,10])\n",
    "visualiser.plot_prior('sigma', [0,10])\n",
    "\n",
    "visualiser.plot_posterior('a', [0,10])\n",
    "visualiser.plot_posterior('b', [0,10])\n",
    "visualiser.plot_posterior('sigma', [0,10])\n",
    "\n",
    "visualiser.generate_report(report_title)\n",
    "visualiser.embed_report()\n"
   ]
  }
 ],
 "metadata": {
  "kernelspec": {
   "display_name": "base",
   "language": "python",
   "name": "python3"
  },
  "language_info": {
   "codemirror_mode": {
    "name": "ipython",
    "version": 3
   },
   "file_extension": ".py",
   "mimetype": "text/x-python",
   "name": "python",
   "nbconvert_exporter": "python",
   "pygments_lexer": "ipython3",
   "version": "3.12.5"
  }
 },
 "nbformat": 4,
 "nbformat_minor": 2
}
