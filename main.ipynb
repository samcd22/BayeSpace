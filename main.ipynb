{
 "cells": [
  {
   "attachments": {},
   "cell_type": "markdown",
   "metadata": {},
   "source": [
    "# Controller #"
   ]
  },
  {
   "attachments": {},
   "cell_type": "markdown",
   "metadata": {},
   "source": [
    "Import all neccessary packages"
   ]
  },
  {
   "cell_type": "code",
   "execution_count": 1,
   "metadata": {},
   "outputs": [
    {
     "name": "stderr",
     "output_type": "stream",
     "text": [
      "No GPU/TPU found, falling back to CPU. (Set TF_CPP_MIN_LOG_LEVEL=0 and rerun for more info.)\n"
     ]
    }
   ],
   "source": [
    "import os\n",
    "import pandas as pd\n",
    "import numpy as np\n",
    "\n",
    "from controllers.inference_controllers.sandbox import Sandbox\n",
    "from controllers.inference_controllers.generator import Generator\n",
    "from controllers.inference_controllers.optimiser import Optimiser\n",
    "\n",
    "from toolboxes.plotting_toolbox.domain import Domain\n",
    "from toolboxes.inference_toolbox.parameter import Parameter\n",
    "from toolboxes.inference_toolbox.model import Model\n",
    "from toolboxes.inference_toolbox.likelihood import Likelihood\n",
    "\n",
    "current_directory = os.getcwd()\n",
    "if current_directory != '/project/':\n",
    "    os.chdir('/project/')"
   ]
  },
  {
   "attachments": {},
   "cell_type": "markdown",
   "metadata": {},
   "source": [
    "Define how the data is to be generated and what default inputs should be used"
   ]
  },
  {
   "cell_type": "code",
   "execution_count": 2,
   "metadata": {},
   "outputs": [],
   "source": [
    "data_params = {\n",
    "    'data_type': 'dummy',\n",
    "    'data_path': 'data',\n",
    "    'sigma': 1,\n",
    "    'model_select': 'log_gpm_alt_norm',\n",
    "    'noise_dist': 'gaussian',\n",
    "    'model': {\n",
    "        'model_params':{\n",
    "            'H': 10\n",
    "        },\n",
    "        'inference_params':{\n",
    "            'I_y': 0.1,\n",
    "            'I_z': 0.1,\n",
    "            'Q': 3e13,\n",
    "            'sigma': 1\n",
    "        },\n",
    "    },\n",
    "    'domain': {\n",
    "        'domain_select': 'cone_from_source_z_limited', \n",
    "        'resolution': 20,\n",
    "        'domain_params':{\n",
    "            'r': 100,\n",
    "            'theta': np.pi/8,\n",
    "            'source': [0,0,10]}\n",
    "    },\n",
    "    'output_header': 'Concentration',\n",
    "    'grid_dummy': True,\n",
    "    'grid_size': [10, 10, 10]\n",
    "}\n",
    "\n",
    "# data_params = {\n",
    "#     'data_type': 'gridded',\n",
    "#     'output_header': 'Concentration',\n",
    "#     'log':True,\n",
    "#     'grid_size': [100,100,25],\n",
    "#     'target': False,\n",
    "#     'data_path':'data'\n",
    "# }\n",
    "\n",
    "\n",
    "default_params = {\n",
    "    'infered_params':pd.Series({\n",
    "        'model_params':pd.Series({\n",
    "            'I_y': Parameter('I_y', prior_select = 'gamma', default_value=0.1).add_prior_param('mu', 0.1).add_prior_param('sigma',0.1),\n",
    "            'I_z': Parameter('I_z', prior_select = 'gamma', default_value=0.1).add_prior_param('mu', 0.1).add_prior_param('sigma',0.1),\n",
    "            'Q': Parameter('Q', prior_select = 'gamma', default_value=3e13).add_prior_param('mu', 3e13).add_prior_param('sigma',1e13),\n",
    "        }),\n",
    "        'likelihood_params':pd.Series({\n",
    "            'sigma': Parameter('sigma', prior_select = 'gamma', default_value=1).add_prior_param('mu', 1).add_prior_param('sigma',1)\n",
    "        })\n",
    "    }),\n",
    "    'model':Model('log_gpm_alt_norm').add_model_param('H',10),\n",
    "    'likelihood': Likelihood('gaussian'),\n",
    "    'sampler': {\n",
    "        'n_samples': 10000,\n",
    "        'n_chains': 3,\n",
    "        'thinning_rate': 1\n",
    "    }\n",
    "}\n",
    "\n",
    "results_name = 'gridded_simulated_data_10_10_10'"
   ]
  },
  {
   "attachments": {},
   "cell_type": "markdown",
   "metadata": {},
   "source": [
    "## Sandbox ##\n",
    "\n",
    "Create an instance with the inputted default parameters and visualise it in different ways"
   ]
  },
  {
   "cell_type": "code",
   "execution_count": 3,
   "metadata": {},
   "outputs": [
    {
     "name": "stdout",
     "output_type": "stream",
     "text": [
      "Generating grid averages...\n"
     ]
    },
    {
     "name": "stderr",
     "output_type": "stream",
     "text": [
      "sample: 100%|██████████| 12500/12500 [00:08<00:00, 1500.38it/s, 3 steps of size 4.24e-01. acc. prob=0.88] \n",
      "sample: 100%|██████████| 12500/12500 [00:04<00:00, 2595.83it/s, 7 steps of size 4.49e-01. acc. prob=0.84] \n",
      "sample: 100%|██████████| 12500/12500 [00:04<00:00, 2698.23it/s, 15 steps of size 3.84e-01. acc. prob=0.92]\n"
     ]
    },
    {
     "name": "stdout",
     "output_type": "stream",
     "text": [
      "Creating instance\n"
     ]
    }
   ],
   "source": [
    "sandbox = Sandbox(results_name=results_name, \n",
    "                  data_params=data_params,\n",
    "                  default_params=default_params)\n",
    "\n",
    "visualiser = sandbox.run()\n",
    "visualiser.get_summary()\n",
    "visualiser.get_traceplot()\n",
    "visualiser.get_autocorrelations()\n",
    "\n",
    "domain = Domain('cone_from_source_z_limited', resolution=80)\n",
    "domain.add_domain_param('r', 100)\n",
    "domain.add_domain_param('theta', np.pi/8)\n",
    "domain.add_domain_param('source', [0,0,10])\n",
    "\n",
    "visualiser.visualise_results(domain = domain, name = 'small_scale_3D_plots', title='Log Concentration of Droplets', log_results=False)\n",
    "visualiser.animate(name = 'small_scale_3D_plots')"
   ]
  },
  {
   "attachments": {},
   "cell_type": "markdown",
   "metadata": {},
   "source": [
    "## Generator ##\n",
    "\n",
    "Generate different instances by varying the hyperparameters with respect to their defaults"
   ]
  },
  {
   "cell_type": "code",
   "execution_count": 4,
   "metadata": {},
   "outputs": [],
   "source": [
    "generator = Generator(results_name=results_name, \n",
    "                  data_params=data_params,\n",
    "                  default_params=default_params)"
   ]
  },
  {
   "attachments": {},
   "cell_type": "markdown",
   "metadata": {},
   "source": [
    "Vary one hyperparameter"
   ]
  },
  {
   "cell_type": "code",
   "execution_count": 5,
   "metadata": {},
   "outputs": [],
   "source": [
    "# analysis_iterations = {\n",
    "#     'parameters':\n",
    "#     [\n",
    "#         'sigma_mu', \n",
    "#         'sigma_sigma'\n",
    "#     ],\n",
    "#     'values':\n",
    "#     [\n",
    "#         np.array([0.2, 0.4, 0.6, 0.8, 1, 1.2, 1.4, 1.6, 1.8, 2]),\n",
    "#         np.array([0.2, 0.4, 0.6, 0.8, 1, 1.2, 1.4, 1.6, 1.8, 2]),\n",
    "#     ]\n",
    "# }\n",
    "\n",
    "# for i in range(len(analysis_iterations['parameters'])):\n",
    "#     parameter = analysis_iterations['parameters'][i]\n",
    "#     print('Working on varying ' + parameter + '...')\n",
    "#     values = analysis_iterations['values'][i]\n",
    "#     inputs = generator.vary_one_parameter(parameter, values, xscale='linear', plot=True)"
   ]
  },
  {
   "attachments": {},
   "cell_type": "markdown",
   "metadata": {},
   "source": [
    "Vary two hyperparameters"
   ]
  },
  {
   "cell_type": "code",
   "execution_count": 6,
   "metadata": {},
   "outputs": [
    {
     "name": "stdout",
     "output_type": "stream",
     "text": [
      "Working on varying I_y_mu...\n",
      "CPU Usage: 17.7%\n",
      "Total Memory: 3934777344 bytes\n",
      "Available Memory: 780722176 bytes\n",
      "Used Memory: 2965245952 bytes\n",
      "Memory Usage: 80.2%\n",
      "Generating instance 1...\n"
     ]
    },
    {
     "name": "stderr",
     "output_type": "stream",
     "text": [
      "sample:  71%|███████   | 8860/12500 [00:05<00:01, 3050.22it/s, 5 steps of size 7.89e-02. acc. prob=0.67] "
     ]
    },
    {
     "name": "stderr",
     "output_type": "stream",
     "text": [
      "sample:  92%|█████████▏| 11497/12500 [00:08<00:01, 773.32it/s, 6 steps of size 7.89e-02. acc. prob=0.68]  "
     ]
    }
   ],
   "source": [
    "analysis_iterations = {\n",
    "    'parameters_1':\n",
    "    [\n",
    "        'I_y_mu',\n",
    "        'I_z_mu',\n",
    "        'Q_mu',\n",
    "    ],\n",
    "    'parameters_2':\n",
    "    [\n",
    "        'I_y_sigma',\n",
    "        'I_z_sigma',\n",
    "        'Q_sigma',\n",
    "\n",
    "    ],\n",
    "    'values_1':\n",
    "    [\n",
    "        np.array([1e-4, 1e-3, 1e-2, 1e-1, 1e0, 1e1, 1e2, 1e3, 1e4, 1e5]),\n",
    "        np.array([1e-4, 1e-3, 1e-2, 1e-1, 1e0, 1e1, 1e2, 1e3, 1e4, 1e5]),\n",
    "        np.array([1e9, 1e10, 1e11, 1e12, 1e13, 1e14, 1e15, 1e16, 1e17, 1e18]),    ],\n",
    "    'values_2':\n",
    "    [\n",
    "        np.array([1e-4, 1e-3, 1e-2, 1e-1, 1e0, 1e1, 1e2, 1e3, 1e4, 1e5]),\n",
    "        np.array([1e-4, 1e-3, 1e-2, 1e-1, 1e0, 1e1, 1e2, 1e3, 1e4, 1e5]),\n",
    "        np.array([1e9, 1e10, 1e11, 1e12, 1e13, 1e14, 1e15, 1e16, 1e17, 1e18]),    ]\n",
    "}\n",
    "\n",
    "for i in range(len(analysis_iterations['parameters_1'])):\n",
    "    parameter_1 = analysis_iterations['parameters_1'][i]\n",
    "    parameter_2 = analysis_iterations['parameters_2'][i]\n",
    "\n",
    "    print('Working on varying ' + parameter_1 + '...')\n",
    "    values_1 = analysis_iterations['values_1'][i]\n",
    "    values_2 = analysis_iterations['values_2'][i]\n",
    "    inputs = generator.vary_two_parameters(parameter_1, parameter_2, values_1, values_2, scale_1='log', scale_2='log', plot=True)"
   ]
  },
  {
   "attachments": {},
   "cell_type": "markdown",
   "metadata": {},
   "source": [
    "## Optimiser ##\n",
    "\n",
    "Optimise the default construction using Bayesian Optimisation"
   ]
  },
  {
   "cell_type": "code",
   "execution_count": null,
   "metadata": {},
   "outputs": [
    {
     "name": "stderr",
     "output_type": "stream",
     "text": [
      "[I 2023-07-28 12:08:28,287] A new study created in memory with name: no-name-35bdb3a9-5e00-40d8-9472-96212be3c101\n",
      "sample: 100%|██████████| 12500/12500 [00:07<00:00, 1640.39it/s, 3 steps of size 4.54e-01. acc. prob=0.93] \n",
      "sample: 100%|██████████| 12500/12500 [00:05<00:00, 2098.39it/s, 7 steps of size 4.78e-01. acc. prob=0.93] \n",
      "sample: 100%|██████████| 12500/12500 [00:08<00:00, 1393.03it/s, 3 steps of size 5.16e-01. acc. prob=0.91]\n",
      "[I 2023-07-28 12:08:59,760] Trial 0 finished with value: 283.00164794921875 and parameters: {'I_y_mu': 4.712087753026529, 'I_y_sigma': 8.835988871637127, 'I_z_mu': 3.6895512187907555, 'I_z_sigma': 1.3774047446847253, 'Q_mu': 9.003436586367254e+17, 'Q_sigma': 7.630440437777642e+17, 'sigma_mu': 1.561518988016868, 'sigma_sigma': 0.6087030381021383}. Best is trial 0 with value: 283.00164794921875.\n",
      "sample: 100%|██████████| 12500/12500 [00:09<00:00, 1359.88it/s, 3 steps of size 5.13e-01. acc. prob=0.91]\n",
      "sample: 100%|██████████| 12500/12500 [00:05<00:00, 2362.07it/s, 7 steps of size 4.98e-01. acc. prob=0.91] \n",
      "sample: 100%|██████████| 12500/12500 [00:05<00:00, 2231.56it/s, 15 steps of size 6.05e-01. acc. prob=0.88]\n",
      "[I 2023-07-28 12:09:24,600] Trial 1 finished with value: 282.70867919921875 and parameters: {'I_y_mu': 3.6899628934401996, 'I_y_sigma': 1.8347872013269941, 'I_z_mu': 7.165041358375334, 'I_z_sigma': 1.8040397007651363, 'Q_mu': 4.0297602291266086e+17, 'Q_sigma': 2.2709163065220448e+17, 'sigma_mu': 1.8121804358554556, 'sigma_sigma': 0.3928850042419353}. Best is trial 1 with value: 282.70867919921875.\n",
      "sample: 100%|██████████| 12500/12500 [00:09<00:00, 1307.69it/s, 3 steps of size 4.98e-01. acc. prob=0.92]\n",
      "sample: 100%|██████████| 12500/12500 [00:05<00:00, 2255.46it/s, 3 steps of size 4.72e-01. acc. prob=0.93] \n",
      "sample: 100%|██████████| 12500/12500 [00:04<00:00, 2518.29it/s, 3 steps of size 5.26e-01. acc. prob=0.91] \n"
     ]
    },
    {
     "ename": "",
     "evalue": "",
     "output_type": "error",
     "traceback": [
      "\u001b[1;31mCannot execute code, session has been disposed. Please try restarting the Kernel."
     ]
    },
    {
     "ename": "",
     "evalue": "",
     "output_type": "error",
     "traceback": [
      "\u001b[1;31mThe Kernel crashed while executing code in the the current cell or a previous cell. Please review the code in the cell(s) to identify a possible cause of the failure. Click <a href='https://aka.ms/vscodeJupyterKernelCrash'>here</a> for more info. View Jupyter <a href='command:jupyter.viewOutput'>log</a> for further details."
     ]
    }
   ],
   "source": [
    "optimising_parameters = {\n",
    "                    'I_y_mu': [1e-2, 10],\n",
    "                    'I_y_sigma': [1e-2, 10],\n",
    "                    'I_z_mu': [1e-2, 10],\n",
    "                    'I_z_sigma': [1e-2, 10],\n",
    "                    'Q_mu': [1e9, 1e18],\n",
    "                    'Q_sigma': [1e9, 1e18],\n",
    "                    'sigma_mu':[0.2, 2],\n",
    "                    'sigma_sigma':[0.2, 2]\n",
    "                }\n",
    "\n",
    "optimiser = Optimiser(results_name=results_name, \n",
    "                  data_params=data_params,\n",
    "                  default_params=default_params)\n",
    "\n",
    "study = optimiser.run(n_trials=100, optimiser_name='AIC_1', optimising_parameters=optimising_parameters, index_name='aic')\n",
    "optimiser.get_plots(study)\n",
    "\n",
    "optimiser.run_best_params(study)"
   ]
  }
 ],
 "metadata": {
  "kernelspec": {
   "display_name": "base",
   "language": "python",
   "name": "python3"
  },
  "language_info": {
   "codemirror_mode": {
    "name": "ipython",
    "version": 3
   },
   "file_extension": ".py",
   "mimetype": "text/x-python",
   "name": "python",
   "nbconvert_exporter": "python",
   "pygments_lexer": "ipython3",
   "version": "3.9.16"
  },
  "orig_nbformat": 4
 },
 "nbformat": 4,
 "nbformat_minor": 2
}
