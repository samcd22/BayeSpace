{
 "cells": [
  {
   "attachments": {},
   "cell_type": "markdown",
   "metadata": {},
   "source": [
    "# Controller #"
   ]
  },
  {
   "attachments": {},
   "cell_type": "markdown",
   "metadata": {},
   "source": [
    "Import all neccessary packages"
   ]
  },
  {
   "cell_type": "code",
   "execution_count": 1,
   "metadata": {},
   "outputs": [
    {
     "name": "stderr",
     "output_type": "stream",
     "text": [
      "No GPU/TPU found, falling back to CPU. (Set TF_CPP_MIN_LOG_LEVEL=0 and rerun for more info.)\n"
     ]
    }
   ],
   "source": [
    "import os\n",
    "import pandas as pd\n",
    "import numpy as np\n",
    "\n",
    "from controllers.inference_controllers.sandbox import Sandbox\n",
    "from controllers.inference_controllers.generator import Generator\n",
    "from controllers.inference_controllers.optimiser import Optimiser\n",
    "\n",
    "from toolboxes.plotting_toolbox.domain import Domain\n",
    "from toolboxes.inference_toolbox.parameter import Parameter\n",
    "from toolboxes.inference_toolbox.model import Model\n",
    "from toolboxes.inference_toolbox.likelihood import Likelihood\n",
    "\n",
    "current_directory = os.getcwd()\n",
    "if current_directory != '/project/':\n",
    "    os.chdir('/project/')"
   ]
  },
  {
   "attachments": {},
   "cell_type": "markdown",
   "metadata": {},
   "source": [
    "Define how the data is to be generated and what default inputs should be used"
   ]
  },
  {
   "cell_type": "code",
   "execution_count": 2,
   "metadata": {},
   "outputs": [],
   "source": [
    "# data_params = {\n",
    "#     'data_type': 'simulated_data',\n",
    "#     'data_path': 'data',\n",
    "#     'sigma': 1,\n",
    "#     'model_select': 'log_gpm_alt_norm',\n",
    "#     'noise_dist': 'gaussian',\n",
    "#     'model': {\n",
    "#         'model_params':{\n",
    "#             'H': 10\n",
    "#         },\n",
    "#         'inference_params':{\n",
    "#             'I_y': 0.1,\n",
    "#             'I_z': 0.1,\n",
    "#             'Q': 3e13,\n",
    "#             'sigma': 1\n",
    "#         },\n",
    "#     },\n",
    "#     'domain': {\n",
    "#         'domain_select': 'cone_from_source_z_limited', \n",
    "#         'resolution': 20,\n",
    "#         'domain_params':{\n",
    "#             'r': 100,\n",
    "#             'theta': np.pi/8,\n",
    "#             'source': [0,0,10]}\n",
    "#     },\n",
    "#     'output_header': 'Concentration',\n",
    "#     'grid_dummy': True,\n",
    "#     'grid_size': [10, 10, 10]\n",
    "# }\n",
    "\n",
    "data_params = {\n",
    "    'data_type': 'normalised_data',\n",
    "    'data_select': 'GBR_data',\n",
    "    'normaliser_select': 'GBR_normaliser',\n",
    "    'normaliser_params':{\n",
    "        'experiments_list': [\n",
    "            'Exp1',\n",
    "            'Exp2',\n",
    "            'Exp3',\n",
    "            'Exp4',\n",
    "            'Exp5',\n",
    "            'Exp6',\n",
    "            'Exp7',\n",
    "            'Exp8',\n",
    "            'Exp9',\n",
    "            'Exp10',\n",
    "            'Exp11',\n",
    "            'Exp12',\n",
    "        ],\n",
    "        'meta_data_select': 'GBR_data_summary',\n",
    "        'input_header': 'Concentration'\n",
    "    },\n",
    "    'log':True,\n",
    "    'output_header': 'Concentration',\n",
    "    'gridding': [100,100,25]\n",
    "}\n",
    "\n",
    "# data_params = {\n",
    "#     'data_type': 'gridded',\n",
    "#     'output_header': 'Concentration',\n",
    "#     'log':True,\n",
    "#     'grid_size': [100,100,25],\n",
    "#     'target': False,\n",
    "#     'data_path':'data'\n",
    "# }\n",
    "\n",
    "\n",
    "default_params = {\n",
    "    'infered_params':pd.Series({\n",
    "        'model_params':pd.Series({\n",
    "            'I_y': Parameter('I_y', prior_select = 'gamma', default_value=0.1).add_prior_param('mu', 0.1).add_prior_param('sigma',0.1),\n",
    "            'I_z': Parameter('I_z', prior_select = 'gamma', default_value=0.1).add_prior_param('mu', 0.1).add_prior_param('sigma',0.1),\n",
    "            'Q': Parameter('Q', prior_select = 'gamma', default_value=3e13).add_prior_param('mu', 3e13).add_prior_param('sigma',1e13),\n",
    "        }),\n",
    "        'likelihood_params':pd.Series({\n",
    "            'sigma': Parameter('sigma', prior_select = 'gamma', default_value=1).add_prior_param('mu', 1).add_prior_param('sigma',1)\n",
    "        })\n",
    "    }),\n",
    "    'model':Model('log_gpm_norm').add_model_param('H',10),\n",
    "    'likelihood': Likelihood('gaussian'),\n",
    "    'sampler': {\n",
    "        'n_samples': 10000,\n",
    "        'n_chains': 3,\n",
    "        'thinning_rate': 1\n",
    "    }\n",
    "}\n",
    "\n",
    "results_name = 'gridded_simulated_data_10_10_10'"
   ]
  },
  {
   "attachments": {},
   "cell_type": "markdown",
   "metadata": {},
   "source": [
    "## Sandbox ##\n",
    "\n",
    "Create an instance with the inputted default parameters and visualise it in different ways"
   ]
  },
  {
   "cell_type": "code",
   "execution_count": 3,
   "metadata": {},
   "outputs": [
    {
     "ename": "TypeError",
     "evalue": "'NoneType' object is not callable",
     "output_type": "error",
     "traceback": [
      "\u001b[0;31m---------------------------------------------------------------------------\u001b[0m",
      "\u001b[0;31mTypeError\u001b[0m                                 Traceback (most recent call last)",
      "\u001b[1;32m/project/main.ipynb Cell 7\u001b[0m line \u001b[0;36m5\n\u001b[1;32m      <a href='vscode-notebook-cell://dev-container%2B7b22686f737450617468223a22633a5c5c55736572735c5c53616d5c5c4f6e6544726976655c5c446f63756d656e74735c5c5068445c5c5068445f70726f6a656374222c22636f6e66696746696c65223a7b22246d6964223a312c22667350617468223a22633a5c5c55736572735c5c53616d5c5c4f6e6544726976655c5c446f63756d656e74735c5c5068445c5c5068445f70726f6a6563745c5c2e646576636f6e7461696e65725c5c646576636f6e7461696e65722e6a736f6e222c225f736570223a312c2265787465726e616c223a2266696c653a2f2f2f632533412f55736572732f53616d2f4f6e6544726976652f446f63756d656e74732f5068442f5068445f70726f6a6563742f2e646576636f6e7461696e65722f646576636f6e7461696e65722e6a736f6e222c2270617468223a222f633a2f55736572732f53616d2f4f6e6544726976652f446f63756d656e74732f5068442f5068445f70726f6a6563742f2e646576636f6e7461696e65722f646576636f6e7461696e65722e6a736f6e222c22736368656d65223a2266696c65227d7d/project/main.ipynb#W6sdnNjb2RlLXJlbW90ZQ%3D%3D?line=0'>1</a>\u001b[0m sandbox \u001b[39m=\u001b[39m Sandbox(results_name\u001b[39m=\u001b[39mresults_name, \n\u001b[1;32m      <a href='vscode-notebook-cell://dev-container%2B7b22686f737450617468223a22633a5c5c55736572735c5c53616d5c5c4f6e6544726976655c5c446f63756d656e74735c5c5068445c5c5068445f70726f6a656374222c22636f6e66696746696c65223a7b22246d6964223a312c22667350617468223a22633a5c5c55736572735c5c53616d5c5c4f6e6544726976655c5c446f63756d656e74735c5c5068445c5c5068445f70726f6a6563745c5c2e646576636f6e7461696e65725c5c646576636f6e7461696e65722e6a736f6e222c225f736570223a312c2265787465726e616c223a2266696c653a2f2f2f632533412f55736572732f53616d2f4f6e6544726976652f446f63756d656e74732f5068442f5068445f70726f6a6563742f2e646576636f6e7461696e65722f646576636f6e7461696e65722e6a736f6e222c2270617468223a222f633a2f55736572732f53616d2f4f6e6544726976652f446f63756d656e74732f5068442f5068445f70726f6a6563742f2e646576636f6e7461696e65722f646576636f6e7461696e65722e6a736f6e222c22736368656d65223a2266696c65227d7d/project/main.ipynb#W6sdnNjb2RlLXJlbW90ZQ%3D%3D?line=1'>2</a>\u001b[0m                   data_params\u001b[39m=\u001b[39mdata_params,\n\u001b[1;32m      <a href='vscode-notebook-cell://dev-container%2B7b22686f737450617468223a22633a5c5c55736572735c5c53616d5c5c4f6e6544726976655c5c446f63756d656e74735c5c5068445c5c5068445f70726f6a656374222c22636f6e66696746696c65223a7b22246d6964223a312c22667350617468223a22633a5c5c55736572735c5c53616d5c5c4f6e6544726976655c5c446f63756d656e74735c5c5068445c5c5068445f70726f6a6563745c5c2e646576636f6e7461696e65725c5c646576636f6e7461696e65722e6a736f6e222c225f736570223a312c2265787465726e616c223a2266696c653a2f2f2f632533412f55736572732f53616d2f4f6e6544726976652f446f63756d656e74732f5068442f5068445f70726f6a6563742f2e646576636f6e7461696e65722f646576636f6e7461696e65722e6a736f6e222c2270617468223a222f633a2f55736572732f53616d2f4f6e6544726976652f446f63756d656e74732f5068442f5068445f70726f6a6563742f2e646576636f6e7461696e65722f646576636f6e7461696e65722e6a736f6e222c22736368656d65223a2266696c65227d7d/project/main.ipynb#W6sdnNjb2RlLXJlbW90ZQ%3D%3D?line=2'>3</a>\u001b[0m                   default_params\u001b[39m=\u001b[39mdefault_params)\n\u001b[0;32m----> <a href='vscode-notebook-cell://dev-container%2B7b22686f737450617468223a22633a5c5c55736572735c5c53616d5c5c4f6e6544726976655c5c446f63756d656e74735c5c5068445c5c5068445f70726f6a656374222c22636f6e66696746696c65223a7b22246d6964223a312c22667350617468223a22633a5c5c55736572735c5c53616d5c5c4f6e6544726976655c5c446f63756d656e74735c5c5068445c5c5068445f70726f6a6563745c5c2e646576636f6e7461696e65725c5c646576636f6e7461696e65722e6a736f6e222c225f736570223a312c2265787465726e616c223a2266696c653a2f2f2f632533412f55736572732f53616d2f4f6e6544726976652f446f63756d656e74732f5068442f5068445f70726f6a6563742f2e646576636f6e7461696e65722f646576636f6e7461696e65722e6a736f6e222c2270617468223a222f633a2f55736572732f53616d2f4f6e6544726976652f446f63756d656e74732f5068442f5068445f70726f6a6563742f2e646576636f6e7461696e65722f646576636f6e7461696e65722e6a736f6e222c22736368656d65223a2266696c65227d7d/project/main.ipynb#W6sdnNjb2RlLXJlbW90ZQ%3D%3D?line=4'>5</a>\u001b[0m visualiser \u001b[39m=\u001b[39m sandbox\u001b[39m.\u001b[39;49mrun()\n\u001b[1;32m      <a href='vscode-notebook-cell://dev-container%2B7b22686f737450617468223a22633a5c5c55736572735c5c53616d5c5c4f6e6544726976655c5c446f63756d656e74735c5c5068445c5c5068445f70726f6a656374222c22636f6e66696746696c65223a7b22246d6964223a312c22667350617468223a22633a5c5c55736572735c5c53616d5c5c4f6e6544726976655c5c446f63756d656e74735c5c5068445c5c5068445f70726f6a6563745c5c2e646576636f6e7461696e65725c5c646576636f6e7461696e65722e6a736f6e222c225f736570223a312c2265787465726e616c223a2266696c653a2f2f2f632533412f55736572732f53616d2f4f6e6544726976652f446f63756d656e74732f5068442f5068445f70726f6a6563742f2e646576636f6e7461696e65722f646576636f6e7461696e65722e6a736f6e222c2270617468223a222f633a2f55736572732f53616d2f4f6e6544726976652f446f63756d656e74732f5068442f5068445f70726f6a6563742f2e646576636f6e7461696e65722f646576636f6e7461696e65722e6a736f6e222c22736368656d65223a2266696c65227d7d/project/main.ipynb#W6sdnNjb2RlLXJlbW90ZQ%3D%3D?line=5'>6</a>\u001b[0m visualiser\u001b[39m.\u001b[39mget_summary()\n\u001b[1;32m      <a href='vscode-notebook-cell://dev-container%2B7b22686f737450617468223a22633a5c5c55736572735c5c53616d5c5c4f6e6544726976655c5c446f63756d656e74735c5c5068445c5c5068445f70726f6a656374222c22636f6e66696746696c65223a7b22246d6964223a312c22667350617468223a22633a5c5c55736572735c5c53616d5c5c4f6e6544726976655c5c446f63756d656e74735c5c5068445c5c5068445f70726f6a6563745c5c2e646576636f6e7461696e65725c5c646576636f6e7461696e65722e6a736f6e222c225f736570223a312c2265787465726e616c223a2266696c653a2f2f2f632533412f55736572732f53616d2f4f6e6544726976652f446f63756d656e74732f5068442f5068445f70726f6a6563742f2e646576636f6e7461696e65722f646576636f6e7461696e65722e6a736f6e222c2270617468223a222f633a2f55736572732f53616d2f4f6e6544726976652f446f63756d656e74732f5068442f5068445f70726f6a6563742f2e646576636f6e7461696e65722f646576636f6e7461696e65722e6a736f6e222c22736368656d65223a2266696c65227d7d/project/main.ipynb#W6sdnNjb2RlLXJlbW90ZQ%3D%3D?line=6'>7</a>\u001b[0m visualiser\u001b[39m.\u001b[39mget_traceplot()\n",
      "File \u001b[0;32m/project/controllers/inference_controllers/sandbox.py:108\u001b[0m, in \u001b[0;36mSandbox.run\u001b[0;34m(self)\u001b[0m\n\u001b[1;32m     97\u001b[0m sampler \u001b[39m=\u001b[39m Sampler(params, \n\u001b[1;32m     98\u001b[0m                   model, \n\u001b[1;32m     99\u001b[0m                   likelihood, \n\u001b[0;32m   (...)\u001b[0m\n\u001b[1;32m    104\u001b[0m                   thinning_rate\u001b[39m=\u001b[39mthinning_rate,  \n\u001b[1;32m    105\u001b[0m                   data_path \u001b[39m=\u001b[39m \u001b[39mself\u001b[39m\u001b[39m.\u001b[39mfull_results_path)\n\u001b[1;32m    107\u001b[0m \u001b[39m# Runs the sampler for the allotted number of samples\u001b[39;00m\n\u001b[0;32m--> 108\u001b[0m sampler\u001b[39m.\u001b[39;49msample_all()\n\u001b[1;32m    110\u001b[0m \u001b[39m# Initialises the sampler object\u001b[39;00m\n\u001b[1;32m    111\u001b[0m visualiser \u001b[39m=\u001b[39m Visualiser(testing_data,\n\u001b[1;32m    112\u001b[0m                         sampler,\n\u001b[1;32m    113\u001b[0m                         model,\n\u001b[1;32m    114\u001b[0m                         previous_instance\u001b[39m=\u001b[39msampler\u001b[39m.\u001b[39minstance,\n\u001b[1;32m    115\u001b[0m                         data_path \u001b[39m=\u001b[39m \u001b[39mself\u001b[39m\u001b[39m.\u001b[39mfull_results_path,\n\u001b[1;32m    116\u001b[0m                         actual_values \u001b[39m=\u001b[39m \u001b[39mself\u001b[39m\u001b[39m.\u001b[39mactual_values)\n",
      "File \u001b[0;32m/project/toolboxes/inference_toolbox/sampler.py:43\u001b[0m, in \u001b[0;36mSampler.sample_all\u001b[0;34m(self, rng_key)\u001b[0m\n\u001b[1;32m     41\u001b[0m kernel \u001b[39m=\u001b[39m numpyro\u001b[39m.\u001b[39minfer\u001b[39m.\u001b[39mNUTS(\u001b[39mself\u001b[39m\u001b[39m.\u001b[39msample_one)\n\u001b[1;32m     42\u001b[0m \u001b[39mself\u001b[39m\u001b[39m.\u001b[39mmcmc_obj \u001b[39m=\u001b[39m numpyro\u001b[39m.\u001b[39minfer\u001b[39m.\u001b[39mMCMC(kernel, num_warmup\u001b[39m=\u001b[39m\u001b[39mself\u001b[39m\u001b[39m.\u001b[39mn_warmup, num_samples\u001b[39m=\u001b[39m\u001b[39mself\u001b[39m\u001b[39m.\u001b[39mn_samples, num_chains\u001b[39m=\u001b[39m\u001b[39mself\u001b[39m\u001b[39m.\u001b[39mn_chains, thinning\u001b[39m=\u001b[39m\u001b[39mself\u001b[39m\u001b[39m.\u001b[39mthinning_rate, chain_method \u001b[39m=\u001b[39m \u001b[39m'\u001b[39m\u001b[39msequential\u001b[39m\u001b[39m'\u001b[39m)\n\u001b[0;32m---> 43\u001b[0m \u001b[39mself\u001b[39;49m\u001b[39m.\u001b[39;49mmcmc_obj\u001b[39m.\u001b[39;49mrun(rng_key\u001b[39m=\u001b[39;49mrng_key)\n\u001b[1;32m     44\u001b[0m samples \u001b[39m=\u001b[39m \u001b[39mself\u001b[39m\u001b[39m.\u001b[39mmcmc_obj\u001b[39m.\u001b[39mget_samples(group_by_chain\u001b[39m=\u001b[39m\u001b[39mTrue\u001b[39;00m)\n\u001b[1;32m     45\u001b[0m \u001b[39mself\u001b[39m\u001b[39m.\u001b[39mfields \u001b[39m=\u001b[39m \u001b[39mself\u001b[39m\u001b[39m.\u001b[39mmcmc_obj\u001b[39m.\u001b[39mget_extra_fields(group_by_chain\u001b[39m=\u001b[39m\u001b[39mTrue\u001b[39;00m)\n",
      "File \u001b[0;32m/build/miniconda3/lib/python3.9/site-packages/numpyro/infer/mcmc.py:598\u001b[0m, in \u001b[0;36mMCMC.run\u001b[0;34m(self, rng_key, extra_fields, init_params, *args, **kwargs)\u001b[0m\n\u001b[1;32m    596\u001b[0m \u001b[39melse\u001b[39;00m:\n\u001b[1;32m    597\u001b[0m     \u001b[39mif\u001b[39;00m \u001b[39mself\u001b[39m\u001b[39m.\u001b[39mchain_method \u001b[39m==\u001b[39m \u001b[39m\"\u001b[39m\u001b[39msequential\u001b[39m\u001b[39m\"\u001b[39m:\n\u001b[0;32m--> 598\u001b[0m         states, last_state \u001b[39m=\u001b[39m _laxmap(partial_map_fn, map_args)\n\u001b[1;32m    599\u001b[0m     \u001b[39melif\u001b[39;00m \u001b[39mself\u001b[39m\u001b[39m.\u001b[39mchain_method \u001b[39m==\u001b[39m \u001b[39m\"\u001b[39m\u001b[39mparallel\u001b[39m\u001b[39m\"\u001b[39m:\n\u001b[1;32m    600\u001b[0m         states, last_state \u001b[39m=\u001b[39m pmap(partial_map_fn)(map_args)\n",
      "File \u001b[0;32m/build/miniconda3/lib/python3.9/site-packages/numpyro/infer/mcmc.py:160\u001b[0m, in \u001b[0;36m_laxmap\u001b[0;34m(f, xs)\u001b[0m\n\u001b[1;32m    158\u001b[0m \u001b[39mfor\u001b[39;00m i \u001b[39min\u001b[39;00m \u001b[39mrange\u001b[39m(n):\n\u001b[1;32m    159\u001b[0m     x \u001b[39m=\u001b[39m jit(_get_value_from_index)(xs, i)\n\u001b[0;32m--> 160\u001b[0m     ys\u001b[39m.\u001b[39mappend(f(x))\n\u001b[1;32m    162\u001b[0m \u001b[39mreturn\u001b[39;00m tree_map(\u001b[39mlambda\u001b[39;00m \u001b[39m*\u001b[39margs: jnp\u001b[39m.\u001b[39mstack(args), \u001b[39m*\u001b[39mys)\n",
      "File \u001b[0;32m/build/miniconda3/lib/python3.9/site-packages/numpyro/infer/mcmc.py:381\u001b[0m, in \u001b[0;36mMCMC._single_chain_mcmc\u001b[0;34m(self, init, args, kwargs, collect_fields)\u001b[0m\n\u001b[1;32m    379\u001b[0m rng_key, init_state, init_params \u001b[39m=\u001b[39m init\n\u001b[1;32m    380\u001b[0m \u001b[39mif\u001b[39;00m init_state \u001b[39mis\u001b[39;00m \u001b[39mNone\u001b[39;00m:\n\u001b[0;32m--> 381\u001b[0m     init_state \u001b[39m=\u001b[39m \u001b[39mself\u001b[39;49m\u001b[39m.\u001b[39;49msampler\u001b[39m.\u001b[39;49minit(\n\u001b[1;32m    382\u001b[0m         rng_key,\n\u001b[1;32m    383\u001b[0m         \u001b[39mself\u001b[39;49m\u001b[39m.\u001b[39;49mnum_warmup,\n\u001b[1;32m    384\u001b[0m         init_params,\n\u001b[1;32m    385\u001b[0m         model_args\u001b[39m=\u001b[39;49margs,\n\u001b[1;32m    386\u001b[0m         model_kwargs\u001b[39m=\u001b[39;49mkwargs,\n\u001b[1;32m    387\u001b[0m     )\n\u001b[1;32m    388\u001b[0m sample_fn, postprocess_fn \u001b[39m=\u001b[39m \u001b[39mself\u001b[39m\u001b[39m.\u001b[39m_get_cached_fns()\n\u001b[1;32m    389\u001b[0m diagnostics \u001b[39m=\u001b[39m (\n\u001b[1;32m    390\u001b[0m     \u001b[39mlambda\u001b[39;00m x: \u001b[39mself\u001b[39m\u001b[39m.\u001b[39msampler\u001b[39m.\u001b[39mget_diagnostics_str(x[\u001b[39m0\u001b[39m])\n\u001b[1;32m    391\u001b[0m     \u001b[39mif\u001b[39;00m rng_key\u001b[39m.\u001b[39mndim \u001b[39m==\u001b[39m \u001b[39m1\u001b[39m\n\u001b[1;32m    392\u001b[0m     \u001b[39melse\u001b[39;00m \u001b[39m\"\u001b[39m\u001b[39m\"\u001b[39m\n\u001b[1;32m    393\u001b[0m )  \u001b[39m# noqa: E731\u001b[39;00m\n",
      "File \u001b[0;32m/build/miniconda3/lib/python3.9/site-packages/numpyro/infer/hmc.py:706\u001b[0m, in \u001b[0;36mHMC.init\u001b[0;34m(self, rng_key, num_warmup, init_params, model_args, model_kwargs)\u001b[0m\n\u001b[1;32m    701\u001b[0m \u001b[39m# vectorized\u001b[39;00m\n\u001b[1;32m    702\u001b[0m \u001b[39melse\u001b[39;00m:\n\u001b[1;32m    703\u001b[0m     rng_key, rng_key_init_model \u001b[39m=\u001b[39m jnp\u001b[39m.\u001b[39mswapaxes(\n\u001b[1;32m    704\u001b[0m         vmap(random\u001b[39m.\u001b[39msplit)(rng_key), \u001b[39m0\u001b[39m, \u001b[39m1\u001b[39m\n\u001b[1;32m    705\u001b[0m     )\n\u001b[0;32m--> 706\u001b[0m init_params \u001b[39m=\u001b[39m \u001b[39mself\u001b[39;49m\u001b[39m.\u001b[39;49m_init_state(\n\u001b[1;32m    707\u001b[0m     rng_key_init_model, model_args, model_kwargs, init_params\n\u001b[1;32m    708\u001b[0m )\n\u001b[1;32m    709\u001b[0m \u001b[39mif\u001b[39;00m \u001b[39mself\u001b[39m\u001b[39m.\u001b[39m_potential_fn \u001b[39mand\u001b[39;00m init_params \u001b[39mis\u001b[39;00m \u001b[39mNone\u001b[39;00m:\n\u001b[1;32m    710\u001b[0m     \u001b[39mraise\u001b[39;00m \u001b[39mValueError\u001b[39;00m(\n\u001b[1;32m    711\u001b[0m         \u001b[39m\"\u001b[39m\u001b[39mValid value of `init_params` must be provided with\u001b[39m\u001b[39m\"\u001b[39m \u001b[39m\"\u001b[39m\u001b[39m `potential_fn`.\u001b[39m\u001b[39m\"\u001b[39m\n\u001b[1;32m    712\u001b[0m     )\n",
      "File \u001b[0;32m/build/miniconda3/lib/python3.9/site-packages/numpyro/infer/hmc.py:652\u001b[0m, in \u001b[0;36mHMC._init_state\u001b[0;34m(self, rng_key, model_args, model_kwargs, init_params)\u001b[0m\n\u001b[1;32m    650\u001b[0m \u001b[39mdef\u001b[39;00m \u001b[39m_init_state\u001b[39m(\u001b[39mself\u001b[39m, rng_key, model_args, model_kwargs, init_params):\n\u001b[1;32m    651\u001b[0m     \u001b[39mif\u001b[39;00m \u001b[39mself\u001b[39m\u001b[39m.\u001b[39m_model \u001b[39mis\u001b[39;00m \u001b[39mnot\u001b[39;00m \u001b[39mNone\u001b[39;00m:\n\u001b[0;32m--> 652\u001b[0m         init_params, potential_fn, postprocess_fn, model_trace \u001b[39m=\u001b[39m initialize_model(\n\u001b[1;32m    653\u001b[0m             rng_key,\n\u001b[1;32m    654\u001b[0m             \u001b[39mself\u001b[39;49m\u001b[39m.\u001b[39;49m_model,\n\u001b[1;32m    655\u001b[0m             dynamic_args\u001b[39m=\u001b[39;49m\u001b[39mTrue\u001b[39;49;00m,\n\u001b[1;32m    656\u001b[0m             init_strategy\u001b[39m=\u001b[39;49m\u001b[39mself\u001b[39;49m\u001b[39m.\u001b[39;49m_init_strategy,\n\u001b[1;32m    657\u001b[0m             model_args\u001b[39m=\u001b[39;49mmodel_args,\n\u001b[1;32m    658\u001b[0m             model_kwargs\u001b[39m=\u001b[39;49mmodel_kwargs,\n\u001b[1;32m    659\u001b[0m             forward_mode_differentiation\u001b[39m=\u001b[39;49m\u001b[39mself\u001b[39;49m\u001b[39m.\u001b[39;49m_forward_mode_differentiation,\n\u001b[1;32m    660\u001b[0m         )\n\u001b[1;32m    661\u001b[0m         \u001b[39mif\u001b[39;00m \u001b[39mself\u001b[39m\u001b[39m.\u001b[39m_init_fn \u001b[39mis\u001b[39;00m \u001b[39mNone\u001b[39;00m:\n\u001b[1;32m    662\u001b[0m             \u001b[39mself\u001b[39m\u001b[39m.\u001b[39m_init_fn, \u001b[39mself\u001b[39m\u001b[39m.\u001b[39m_sample_fn \u001b[39m=\u001b[39m hmc(\n\u001b[1;32m    663\u001b[0m                 potential_fn_gen\u001b[39m=\u001b[39mpotential_fn,\n\u001b[1;32m    664\u001b[0m                 kinetic_fn\u001b[39m=\u001b[39m\u001b[39mself\u001b[39m\u001b[39m.\u001b[39m_kinetic_fn,\n\u001b[1;32m    665\u001b[0m                 algo\u001b[39m=\u001b[39m\u001b[39mself\u001b[39m\u001b[39m.\u001b[39m_algo,\n\u001b[1;32m    666\u001b[0m             )\n",
      "File \u001b[0;32m/build/miniconda3/lib/python3.9/site-packages/numpyro/infer/util.py:609\u001b[0m, in \u001b[0;36minitialize_model\u001b[0;34m(rng_key, model, init_strategy, dynamic_args, model_args, model_kwargs, forward_mode_differentiation, validate_grad)\u001b[0m\n\u001b[1;32m    599\u001b[0m model_kwargs \u001b[39m=\u001b[39m {} \u001b[39mif\u001b[39;00m model_kwargs \u001b[39mis\u001b[39;00m \u001b[39mNone\u001b[39;00m \u001b[39melse\u001b[39;00m model_kwargs\n\u001b[1;32m    600\u001b[0m substituted_model \u001b[39m=\u001b[39m substitute(\n\u001b[1;32m    601\u001b[0m     seed(model, rng_key \u001b[39mif\u001b[39;00m jnp\u001b[39m.\u001b[39mndim(rng_key) \u001b[39m==\u001b[39m \u001b[39m1\u001b[39m \u001b[39melse\u001b[39;00m rng_key[\u001b[39m0\u001b[39m]),\n\u001b[1;32m    602\u001b[0m     substitute_fn\u001b[39m=\u001b[39minit_strategy,\n\u001b[1;32m    603\u001b[0m )\n\u001b[1;32m    604\u001b[0m (\n\u001b[1;32m    605\u001b[0m     inv_transforms,\n\u001b[1;32m    606\u001b[0m     replay_model,\n\u001b[1;32m    607\u001b[0m     has_enumerate_support,\n\u001b[1;32m    608\u001b[0m     model_trace,\n\u001b[0;32m--> 609\u001b[0m ) \u001b[39m=\u001b[39m _get_model_transforms(substituted_model, model_args, model_kwargs)\n\u001b[1;32m    610\u001b[0m \u001b[39m# substitute param sites from model_trace to model so\u001b[39;00m\n\u001b[1;32m    611\u001b[0m \u001b[39m# we don't need to generate again parameters of `numpyro.module`\u001b[39;00m\n\u001b[1;32m    612\u001b[0m model \u001b[39m=\u001b[39m substitute(\n\u001b[1;32m    613\u001b[0m     model,\n\u001b[1;32m    614\u001b[0m     data\u001b[39m=\u001b[39m{\n\u001b[0;32m   (...)\u001b[0m\n\u001b[1;32m    618\u001b[0m     },\n\u001b[1;32m    619\u001b[0m )\n",
      "File \u001b[0;32m/build/miniconda3/lib/python3.9/site-packages/numpyro/infer/util.py:407\u001b[0m, in \u001b[0;36m_get_model_transforms\u001b[0;34m(model, model_args, model_kwargs)\u001b[0m\n\u001b[1;32m    405\u001b[0m \u001b[39mdef\u001b[39;00m \u001b[39m_get_model_transforms\u001b[39m(model, model_args\u001b[39m=\u001b[39m(), model_kwargs\u001b[39m=\u001b[39m\u001b[39mNone\u001b[39;00m):\n\u001b[1;32m    406\u001b[0m     model_kwargs \u001b[39m=\u001b[39m {} \u001b[39mif\u001b[39;00m model_kwargs \u001b[39mis\u001b[39;00m \u001b[39mNone\u001b[39;00m \u001b[39melse\u001b[39;00m model_kwargs\n\u001b[0;32m--> 407\u001b[0m     model_trace \u001b[39m=\u001b[39m trace(model)\u001b[39m.\u001b[39;49mget_trace(\u001b[39m*\u001b[39;49mmodel_args, \u001b[39m*\u001b[39;49m\u001b[39m*\u001b[39;49mmodel_kwargs)\n\u001b[1;32m    408\u001b[0m     inv_transforms \u001b[39m=\u001b[39m {}\n\u001b[1;32m    409\u001b[0m     \u001b[39m# model code may need to be replayed in the presence of deterministic sites\u001b[39;00m\n",
      "File \u001b[0;32m/build/miniconda3/lib/python3.9/site-packages/numpyro/handlers.py:171\u001b[0m, in \u001b[0;36mtrace.get_trace\u001b[0;34m(self, *args, **kwargs)\u001b[0m\n\u001b[1;32m    163\u001b[0m \u001b[39mdef\u001b[39;00m \u001b[39mget_trace\u001b[39m(\u001b[39mself\u001b[39m, \u001b[39m*\u001b[39margs, \u001b[39m*\u001b[39m\u001b[39m*\u001b[39mkwargs):\n\u001b[1;32m    164\u001b[0m \u001b[39m    \u001b[39m\u001b[39m\"\"\"\u001b[39;00m\n\u001b[1;32m    165\u001b[0m \u001b[39m    Run the wrapped callable and return the recorded trace.\u001b[39;00m\n\u001b[1;32m    166\u001b[0m \n\u001b[0;32m   (...)\u001b[0m\n\u001b[1;32m    169\u001b[0m \u001b[39m    :return: `OrderedDict` containing the execution trace.\u001b[39;00m\n\u001b[1;32m    170\u001b[0m \u001b[39m    \"\"\"\u001b[39;00m\n\u001b[0;32m--> 171\u001b[0m     \u001b[39mself\u001b[39;49m(\u001b[39m*\u001b[39;49margs, \u001b[39m*\u001b[39;49m\u001b[39m*\u001b[39;49mkwargs)\n\u001b[1;32m    172\u001b[0m     \u001b[39mreturn\u001b[39;00m \u001b[39mself\u001b[39m\u001b[39m.\u001b[39mtrace\n",
      "File \u001b[0;32m/build/miniconda3/lib/python3.9/site-packages/numpyro/primitives.py:105\u001b[0m, in \u001b[0;36mMessenger.__call__\u001b[0;34m(self, *args, **kwargs)\u001b[0m\n\u001b[1;32m    103\u001b[0m     \u001b[39mreturn\u001b[39;00m \u001b[39mself\u001b[39m\n\u001b[1;32m    104\u001b[0m \u001b[39mwith\u001b[39;00m \u001b[39mself\u001b[39m:\n\u001b[0;32m--> 105\u001b[0m     \u001b[39mreturn\u001b[39;00m \u001b[39mself\u001b[39;49m\u001b[39m.\u001b[39;49mfn(\u001b[39m*\u001b[39;49margs, \u001b[39m*\u001b[39;49m\u001b[39m*\u001b[39;49mkwargs)\n",
      "File \u001b[0;32m/build/miniconda3/lib/python3.9/site-packages/numpyro/primitives.py:105\u001b[0m, in \u001b[0;36mMessenger.__call__\u001b[0;34m(self, *args, **kwargs)\u001b[0m\n\u001b[1;32m    103\u001b[0m     \u001b[39mreturn\u001b[39;00m \u001b[39mself\u001b[39m\n\u001b[1;32m    104\u001b[0m \u001b[39mwith\u001b[39;00m \u001b[39mself\u001b[39m:\n\u001b[0;32m--> 105\u001b[0m     \u001b[39mreturn\u001b[39;00m \u001b[39mself\u001b[39;49m\u001b[39m.\u001b[39;49mfn(\u001b[39m*\u001b[39;49margs, \u001b[39m*\u001b[39;49m\u001b[39m*\u001b[39;49mkwargs)\n",
      "File \u001b[0;32m/build/miniconda3/lib/python3.9/site-packages/numpyro/primitives.py:105\u001b[0m, in \u001b[0;36mMessenger.__call__\u001b[0;34m(self, *args, **kwargs)\u001b[0m\n\u001b[1;32m    103\u001b[0m     \u001b[39mreturn\u001b[39;00m \u001b[39mself\u001b[39m\n\u001b[1;32m    104\u001b[0m \u001b[39mwith\u001b[39;00m \u001b[39mself\u001b[39m:\n\u001b[0;32m--> 105\u001b[0m     \u001b[39mreturn\u001b[39;00m \u001b[39mself\u001b[39;49m\u001b[39m.\u001b[39;49mfn(\u001b[39m*\u001b[39;49margs, \u001b[39m*\u001b[39;49m\u001b[39m*\u001b[39;49mkwargs)\n",
      "File \u001b[0;32m/project/toolboxes/inference_toolbox/sampler.py:83\u001b[0m, in \u001b[0;36mSampler.sample_one\u001b[0;34m(self)\u001b[0m\n\u001b[1;32m     80\u001b[0m     s \u001b[39m=\u001b[39m \u001b[39mself\u001b[39m\u001b[39m.\u001b[39mparams[param_ind]\u001b[39m.\u001b[39msample_param()\n\u001b[1;32m     81\u001b[0m     current_params_sample[param_ind] \u001b[39m=\u001b[39m s\n\u001b[0;32m---> 83\u001b[0m mu \u001b[39m=\u001b[39m \u001b[39mself\u001b[39;49m\u001b[39m.\u001b[39;49mmodel_func(current_params_sample, \u001b[39mself\u001b[39;49m\u001b[39m.\u001b[39;49mdata\u001b[39m.\u001b[39;49mx, \u001b[39mself\u001b[39;49m\u001b[39m.\u001b[39;49mdata\u001b[39m.\u001b[39;49my, \u001b[39mself\u001b[39;49m\u001b[39m.\u001b[39;49mdata\u001b[39m.\u001b[39;49mz)\n\u001b[1;32m     84\u001b[0m numpyro\u001b[39m.\u001b[39mdeterministic(\u001b[39m'\u001b[39m\u001b[39mmu\u001b[39m\u001b[39m'\u001b[39m, mu)\n\u001b[1;32m     85\u001b[0m observations_modelled \u001b[39m=\u001b[39m numpyro\u001b[39m.\u001b[39msample(\u001b[39m'\u001b[39m\u001b[39mobs\u001b[39m\u001b[39m'\u001b[39m, \u001b[39mself\u001b[39m\u001b[39m.\u001b[39mlikelihood_func(mu, current_params_sample), obs\u001b[39m=\u001b[39mjnp\u001b[39m.\u001b[39marray(\u001b[39mself\u001b[39m\u001b[39m.\u001b[39mdata\u001b[39m.\u001b[39mConcentration))\n",
      "\u001b[0;31mTypeError\u001b[0m: 'NoneType' object is not callable"
     ]
    }
   ],
   "source": [
    "sandbox = Sandbox(results_name=results_name, \n",
    "                  data_params=data_params,\n",
    "                  default_params=default_params)\n",
    "\n",
    "visualiser = sandbox.run()\n",
    "visualiser.get_summary()\n",
    "visualiser.get_traceplot()\n",
    "visualiser.get_autocorrelations()\n",
    "\n",
    "domain = Domain('cone_from_source_z_limited', resolution=80)\n",
    "domain.add_domain_param('r', 1000)\n",
    "domain.add_domain_param('theta', np.pi/8)\n",
    "domain.add_domain_param('source', [0,0,10])\n",
    "\n",
    "visualiser.visualise_results(domain = domain, name = 'small_scale_3D_plots', title='Log Concentration of Droplets', log_results=False)\n",
    "visualiser.animate(name = 'small_scale_3D_plots')"
   ]
  },
  {
   "attachments": {},
   "cell_type": "markdown",
   "metadata": {},
   "source": [
    "## Generator ##\n",
    "\n",
    "Generate different instances by varying the hyperparameters with respect to their defaults"
   ]
  },
  {
   "cell_type": "code",
   "execution_count": null,
   "metadata": {},
   "outputs": [],
   "source": [
    "generator = Generator(results_name=results_name, \n",
    "                  data_params=data_params,\n",
    "                  default_params=default_params)"
   ]
  },
  {
   "attachments": {},
   "cell_type": "markdown",
   "metadata": {},
   "source": [
    "Vary one hyperparameter"
   ]
  },
  {
   "cell_type": "code",
   "execution_count": null,
   "metadata": {},
   "outputs": [],
   "source": [
    "# analysis_iterations = {\n",
    "#     'parameters':\n",
    "#     [\n",
    "#         'sigma_mu', \n",
    "#         'sigma_sigma'\n",
    "#     ],\n",
    "#     'values':\n",
    "#     [\n",
    "#         np.array([0.2, 0.4, 0.6, 0.8, 1, 1.2, 1.4, 1.6, 1.8, 2]),\n",
    "#         np.array([0.2, 0.4, 0.6, 0.8, 1, 1.2, 1.4, 1.6, 1.8, 2]),\n",
    "#     ]\n",
    "# }\n",
    "\n",
    "# for i in range(len(analysis_iterations['parameters'])):\n",
    "#     parameter = analysis_iterations['parameters'][i]\n",
    "#     print('Working on varying ' + parameter + '...')\n",
    "#     values = analysis_iterations['values'][i]\n",
    "#     inputs = generator.vary_one_parameter(parameter, values, xscale='linear', plot=True)"
   ]
  },
  {
   "attachments": {},
   "cell_type": "markdown",
   "metadata": {},
   "source": [
    "Vary two hyperparameters"
   ]
  },
  {
   "cell_type": "code",
   "execution_count": null,
   "metadata": {},
   "outputs": [
    {
     "name": "stdout",
     "output_type": "stream",
     "text": [
      "Working on varying I_y_mu...\n"
     ]
    },
    {
     "name": "stdout",
     "output_type": "stream",
     "text": [
      "Working on varying I_z_mu...\n",
      "Generating instance 1...\n",
      "Generating instance 2...\n",
      "Generating instance 3...\n",
      "Generating instance 4...\n",
      "Generating instance 5...\n",
      "Generating instance 6...\n",
      "Generating instance 7...\n",
      "Generating instance 8...\n",
      "Generating instance 9...\n",
      "Generating instance 10...\n",
      "Generating instance 11...\n",
      "Generating instance 12...\n",
      "Generating instance 13...\n",
      "Generating instance 14...\n",
      "Generating instance 15...\n",
      "Generating instance 16...\n",
      "Generating instance 17...\n",
      "Generating instance 18...\n",
      "Generating instance 19...\n",
      "Generating instance 20...\n",
      "Generating instance 21...\n",
      "Generating instance 22...\n",
      "Generating instance 23...\n",
      "Generating instance 24...\n",
      "Generating instance 25...\n",
      "Generating instance 26...\n",
      "Generating instance 27...\n",
      "Generating instance 28...\n",
      "Generating instance 29...\n",
      "Generating instance 30...\n",
      "Generating instance 31...\n",
      "Generating instance 32...\n",
      "Generating instance 33...\n",
      "Generating instance 34...\n",
      "Generating instance 35...\n",
      "Generating instance 36...\n",
      "Generating instance 37...\n",
      "Generating instance 38...\n",
      "Generating instance 39...\n",
      "Generating instance 40...\n",
      "Generating instance 41...\n",
      "Generating instance 42...\n"
     ]
    },
    {
     "name": "stderr",
     "output_type": "stream",
     "text": [
      "sample: 100%|██████████| 12500/12500 [00:17<00:00, 706.01it/s, 3 steps of size 4.35e-01. acc. prob=0.94]  \n",
      "sample: 100%|██████████| 12500/12500 [00:09<00:00, 1296.55it/s, 7 steps of size 4.54e-01. acc. prob=0.94] \n",
      "sample: 100%|██████████| 12500/12500 [00:12<00:00, 1037.97it/s, 3 steps of size 5.05e-01. acc. prob=0.92]\n"
     ]
    },
    {
     "name": "stdout",
     "output_type": "stream",
     "text": [
      "Generating instance 43...\n"
     ]
    },
    {
     "name": "stderr",
     "output_type": "stream",
     "text": [
      "sample: 100%|██████████| 12500/12500 [00:15<00:00, 830.20it/s, 3 steps of size 5.56e-01. acc. prob=0.90] \n",
      "sample: 100%|██████████| 12500/12500 [00:08<00:00, 1448.79it/s, 7 steps of size 5.21e-01. acc. prob=0.91] \n",
      "sample: 100%|██████████| 12500/12500 [00:08<00:00, 1422.05it/s, 3 steps of size 5.02e-01. acc. prob=0.92] \n"
     ]
    },
    {
     "name": "stdout",
     "output_type": "stream",
     "text": [
      "Generating instance 44...\n"
     ]
    },
    {
     "name": "stderr",
     "output_type": "stream",
     "text": [
      "sample: 100%|██████████| 12500/12500 [00:13<00:00, 913.28it/s, 7 steps of size 4.58e-01. acc. prob=0.93] \n",
      "sample: 100%|██████████| 12500/12500 [00:10<00:00, 1155.47it/s, 7 steps of size 4.74e-01. acc. prob=0.93] \n",
      "sample: 100%|██████████| 12500/12500 [00:10<00:00, 1196.08it/s, 3 steps of size 5.01e-01. acc. prob=0.92]\n"
     ]
    },
    {
     "name": "stdout",
     "output_type": "stream",
     "text": [
      "Generating instance 45...\n"
     ]
    },
    {
     "name": "stderr",
     "output_type": "stream",
     "text": [
      "sample: 100%|██████████| 12500/12500 [00:16<00:00, 744.13it/s, 3 steps of size 5.13e-01. acc. prob=0.92]  \n",
      "sample: 100%|██████████| 12500/12500 [00:09<00:00, 1277.25it/s, 3 steps of size 4.89e-01. acc. prob=0.92]\n",
      "sample: 100%|██████████| 12500/12500 [00:11<00:00, 1082.61it/s, 3 steps of size 5.04e-01. acc. prob=0.93] \n"
     ]
    }
   ],
   "source": [
    "analysis_iterations = {\n",
    "    'parameters_1':\n",
    "    [\n",
    "        'I_y_mu',\n",
    "        'I_z_mu',\n",
    "        'Q_mu',\n",
    "    ],\n",
    "    'parameters_2':\n",
    "    [\n",
    "        'I_y_sigma',\n",
    "        'I_z_sigma',\n",
    "        'Q_sigma',\n",
    "\n",
    "    ],\n",
    "    'values_1':\n",
    "    [\n",
    "        np.array([1e-4, 1e-3, 1e-2, 1e-1, 1e0, 1e1, 1e2, 1e3, 1e4, 1e5]),\n",
    "        np.array([1e-4, 1e-3, 1e-2, 1e-1, 1e0, 1e1, 1e2, 1e3, 1e4, 1e5]),\n",
    "        np.array([1e9, 1e10, 1e11, 1e12, 1e13, 1e14, 1e15, 1e16, 1e17, 1e18]),    ],\n",
    "    'values_2':\n",
    "    [\n",
    "        np.array([1e-4, 1e-3, 1e-2, 1e-1, 1e0, 1e1, 1e2, 1e3, 1e4, 1e5]),\n",
    "        np.array([1e-4, 1e-3, 1e-2, 1e-1, 1e0, 1e1, 1e2, 1e3, 1e4, 1e5]),\n",
    "        np.array([1e9, 1e10, 1e11, 1e12, 1e13, 1e14, 1e15, 1e16, 1e17, 1e18]),    ]\n",
    "}\n",
    "\n",
    "for i in range(len(analysis_iterations['parameters_1'])):\n",
    "    parameter_1 = analysis_iterations['parameters_1'][i]\n",
    "    parameter_2 = analysis_iterations['parameters_2'][i]\n",
    "\n",
    "    print('Working on varying ' + parameter_1 + '...')\n",
    "    values_1 = analysis_iterations['values_1'][i]\n",
    "    values_2 = analysis_iterations['values_2'][i]\n",
    "    inputs = generator.vary_two_parameters(parameter_1, parameter_2, values_1, values_2, scale_1='log', scale_2='log', plot=True)"
   ]
  },
  {
   "attachments": {},
   "cell_type": "markdown",
   "metadata": {},
   "source": [
    "## Optimiser ##\n",
    "\n",
    "Optimise the default construction using Bayesian Optimisation"
   ]
  },
  {
   "cell_type": "code",
   "execution_count": null,
   "metadata": {},
   "outputs": [
    {
     "name": "stderr",
     "output_type": "stream",
     "text": [
      "[I 2023-07-28 12:08:28,287] A new study created in memory with name: no-name-35bdb3a9-5e00-40d8-9472-96212be3c101\n",
      "sample: 100%|██████████| 12500/12500 [00:07<00:00, 1640.39it/s, 3 steps of size 4.54e-01. acc. prob=0.93] \n",
      "sample: 100%|██████████| 12500/12500 [00:05<00:00, 2098.39it/s, 7 steps of size 4.78e-01. acc. prob=0.93] \n",
      "sample: 100%|██████████| 12500/12500 [00:08<00:00, 1393.03it/s, 3 steps of size 5.16e-01. acc. prob=0.91]\n",
      "[I 2023-07-28 12:08:59,760] Trial 0 finished with value: 283.00164794921875 and parameters: {'I_y_mu': 4.712087753026529, 'I_y_sigma': 8.835988871637127, 'I_z_mu': 3.6895512187907555, 'I_z_sigma': 1.3774047446847253, 'Q_mu': 9.003436586367254e+17, 'Q_sigma': 7.630440437777642e+17, 'sigma_mu': 1.561518988016868, 'sigma_sigma': 0.6087030381021383}. Best is trial 0 with value: 283.00164794921875.\n",
      "sample: 100%|██████████| 12500/12500 [00:09<00:00, 1359.88it/s, 3 steps of size 5.13e-01. acc. prob=0.91]\n",
      "sample: 100%|██████████| 12500/12500 [00:05<00:00, 2362.07it/s, 7 steps of size 4.98e-01. acc. prob=0.91] \n",
      "sample: 100%|██████████| 12500/12500 [00:05<00:00, 2231.56it/s, 15 steps of size 6.05e-01. acc. prob=0.88]\n",
      "[I 2023-07-28 12:09:24,600] Trial 1 finished with value: 282.70867919921875 and parameters: {'I_y_mu': 3.6899628934401996, 'I_y_sigma': 1.8347872013269941, 'I_z_mu': 7.165041358375334, 'I_z_sigma': 1.8040397007651363, 'Q_mu': 4.0297602291266086e+17, 'Q_sigma': 2.2709163065220448e+17, 'sigma_mu': 1.8121804358554556, 'sigma_sigma': 0.3928850042419353}. Best is trial 1 with value: 282.70867919921875.\n",
      "sample: 100%|██████████| 12500/12500 [00:09<00:00, 1307.69it/s, 3 steps of size 4.98e-01. acc. prob=0.92]\n",
      "sample: 100%|██████████| 12500/12500 [00:05<00:00, 2255.46it/s, 3 steps of size 4.72e-01. acc. prob=0.93] \n",
      "sample: 100%|██████████| 12500/12500 [00:04<00:00, 2518.29it/s, 3 steps of size 5.26e-01. acc. prob=0.91] \n"
     ]
    },
    {
     "ename": "",
     "evalue": "",
     "output_type": "error",
     "traceback": [
      "\u001b[1;31mCannot execute code, session has been disposed. Please try restarting the Kernel."
     ]
    },
    {
     "ename": "",
     "evalue": "",
     "output_type": "error",
     "traceback": [
      "\u001b[1;31mThe Kernel crashed while executing code in the the current cell or a previous cell. Please review the code in the cell(s) to identify a possible cause of the failure. Click <a href='https://aka.ms/vscodeJupyterKernelCrash'>here</a> for more info. View Jupyter <a href='command:jupyter.viewOutput'>log</a> for further details."
     ]
    }
   ],
   "source": [
    "optimising_parameters = {\n",
    "                    'I_y_mu': [1e-2, 10],\n",
    "                    'I_y_sigma': [1e-2, 10],\n",
    "                    'I_z_mu': [1e-2, 10],\n",
    "                    'I_z_sigma': [1e-2, 10],\n",
    "                    'Q_mu': [1e9, 1e18],\n",
    "                    'Q_sigma': [1e9, 1e18],\n",
    "                    'sigma_mu':[0.2, 2],\n",
    "                    'sigma_sigma':[0.2, 2]\n",
    "                }\n",
    "\n",
    "optimiser = Optimiser(results_name=results_name, \n",
    "                  data_params=data_params,\n",
    "                  default_params=default_params)\n",
    "\n",
    "study = optimiser.run(n_trials=100, optimiser_name='AIC_1', optimising_parameters=optimising_parameters, index_name='aic')\n",
    "optimiser.get_plots(study)\n",
    "\n",
    "optimiser.run_best_params(study)"
   ]
  }
 ],
 "metadata": {
  "kernelspec": {
   "display_name": "base",
   "language": "python",
   "name": "python3"
  },
  "language_info": {
   "codemirror_mode": {
    "name": "ipython",
    "version": 3
   },
   "file_extension": ".py",
   "mimetype": "text/x-python",
   "name": "python",
   "nbconvert_exporter": "python",
   "pygments_lexer": "ipython3",
   "version": "3.9.16"
  },
  "orig_nbformat": 4
 },
 "nbformat": 4,
 "nbformat_minor": 2
}
