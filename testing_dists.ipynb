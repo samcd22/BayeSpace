{
 "cells": [
  {
   "cell_type": "code",
   "execution_count": 1,
   "metadata": {},
   "outputs": [
    {
     "name": "stderr",
     "output_type": "stream",
     "text": [
      "No GPU/TPU found, falling back to CPU. (Set TF_CPP_MIN_LOG_LEVEL=0 and rerun for more info.)\n"
     ]
    }
   ],
   "source": [
    "import os\n",
    "import pandas as pd\n",
    "import numpy as np\n",
    "\n",
    "from controllers.inference_controllers.sandbox import Sandbox\n",
    "from controllers.inference_controllers.generator import Generator\n",
    "from controllers.inference_controllers.optimiser import Optimiser\n",
    "\n",
    "from toolboxes.plotting_toolbox.domain import Domain\n",
    "from toolboxes.inference_toolbox.parameter import Parameter\n",
    "from toolboxes.inference_toolbox.model import Model\n",
    "from toolboxes.inference_toolbox.likelihood import Likelihood\n",
    "\n",
    "current_directory = os.getcwd()\n",
    "if current_directory != '/project/':\n",
    "    os.chdir('/project/')"
   ]
  },
  {
   "cell_type": "code",
   "execution_count": 2,
   "metadata": {},
   "outputs": [
    {
     "name": "stderr",
     "output_type": "stream",
     "text": [
      "sample: 100%|██████████| 125/125 [00:01<00:00, 86.94it/s, 15 steps of size 1.78e-02. acc. prob=0.22]\n",
      "sample: 100%|██████████| 125/125 [00:00<00:00, 4944.48it/s, 1 steps of size 1.59e-01. acc. prob=0.00]\n",
      "sample: 100%|██████████| 125/125 [00:00<00:00, 5124.85it/s, 1 steps of size 3.03e-01. acc. prob=0.00]\n"
     ]
    },
    {
     "name": "stdout",
     "output_type": "stream",
     "text": [
      "Creating instance\n"
     ]
    }
   ],
   "source": [
    "# data_params = {\n",
    "#     'data_type': 'normalised_data',\n",
    "#     'data_select': 'GBR_data',\n",
    "#     'normaliser_select': 'GBR_normaliser',\n",
    "#     'normaliser_params':{\n",
    "#         'experiments_list': [\n",
    "#             'Exp1',\n",
    "#             'Exp2',\n",
    "#             'Exp3',\n",
    "#             'Exp4',\n",
    "#             'Exp5',\n",
    "#             'Exp6',\n",
    "#             'Exp7',\n",
    "#             'Exp8',\n",
    "#             'Exp9',\n",
    "#             'Exp10',\n",
    "#             'Exp11',\n",
    "#             'Exp12',\n",
    "#         ],\n",
    "#         'meta_data_select': 'GBR_data_summary',\n",
    "#         'input_header': 'Concentration'\n",
    "#     },\n",
    "#     'log':True,\n",
    "#     'output_header': 'Concentration',\n",
    "#     'gridding': [100,100,25]\n",
    "# }\n",
    "\n",
    "data_params = {\n",
    "    'data_type': 'simulated_data',\n",
    "    'model': {\n",
    "        'model_select': 'log_gpm_norm',\n",
    "        'model_params':{\n",
    "            'H': 10\n",
    "        },\n",
    "        'inference_params':{\n",
    "            'I_y': 1.6,\n",
    "            'I_z': 1.2,\n",
    "            'Q': 3e13,\n",
    "            'sigma': 1\n",
    "        }\n",
    "    },\n",
    "    'domain':{\n",
    "        'domain_select': 'cone_from_source_z_limited',\n",
    "        'domain_params': {\n",
    "            'r': 100,\n",
    "            'theta': np.pi/8,\n",
    "            'source': [0,0,10]\n",
    "        },\n",
    "        'resolution': 20\n",
    "    },\n",
    "    'noise_dist': 'gaussian',\n",
    "    'noise_level': 1,\n",
    "    'output_header': 'Concentration',\n",
    "}\n",
    "\n",
    "default_params = {\n",
    "    'infered_params':pd.Series({\n",
    "        'model_params':pd.Series({\n",
    "            'I_y_and_I_z': Parameter('I_y','I_z', prior_select='log_norm')\n",
    "                                    .add_prior_param('mu', [0.4,0.4])\n",
    "                                    .add_prior_param('cov', [[0.8,0],[0,0.8]]),\n",
    "                                    'Q': Parameter('Q', prior_select = 'log_norm').add_prior_param('mu', 6e13).add_prior_param('sigma',6e6),\n",
    "        }),\n",
    "        'likelihood_params':pd.Series({\n",
    "            'sigma': Parameter('sigma', prior_select = 'log_norm').add_prior_param('mu', 1.5).add_prior_param('sigma',0.7)\n",
    "        })\n",
    "    }),\n",
    "    'model':Model('log_gpm_norm').add_model_param('H',10),\n",
    "    'likelihood': Likelihood('gaussian'),\n",
    "    'sampler': {\n",
    "        'n_samples': 100,\n",
    "        'n_chains': 3,\n",
    "        'thinning_rate': 1\n",
    "    }\n",
    "}\n",
    "\n",
    "prior_plots = [\n",
    "    {\n",
    "        'Q': [1e12, 5e13],\n",
    "        'references':{\n",
    "            'Q' : [2.82e13, 3.11e13, 2.89e13, 4.83e13],\n",
    "            'labels': ['250m','200m','750m','1000m'] \n",
    "        }\n",
    "    },\n",
    "    {\n",
    "        'sigma': [0.001, 4],\n",
    "    },\n",
    "    {\n",
    "        'I_y': [0.0001, 1.7],\n",
    "        'I_z': [0.0001, 1.7],\n",
    "        'references':{\n",
    "            'I_y' : [0.22, 1.6, 0.11, 0.08, 0.06, 0.04],\n",
    "            'I_z' : [0.2, 1.2, 0.08, 0.06, 0.03, 0.016],\n",
    "            'labels': ['A','B','C','D','E','F'] \n",
    "        }\n",
    "    }\n",
    "]\n",
    "\n",
    "\n",
    "results_name = 'testing_dists2'\n",
    "\n",
    "sandbox = Sandbox(results_name=results_name, \n",
    "                  data_params=data_params,\n",
    "                  default_params=default_params)\n",
    "\n",
    "visualiser = sandbox.run()\n",
    "# visualiser.get_summary()\n",
    "visualiser.get_traceplot()\n",
    "# visualiser.get_autocorrelations()\n",
    "visualiser.get_prior_plots(prior_plots)\n",
    "\n",
    "# domain = Domain('cone_from_source_z_limited', resolution=80)\n",
    "# domain.add_domain_param('r', 1000)\n",
    "# domain.add_domain_param('theta', np.pi/8)\n",
    "# domain.add_domain_param('source', [0,0,10])\n",
    "\n",
    "# visualiser.visualise_results(domain = domain, name = 'small_scale_3D_plots', title='Log Concentration of Droplets', log_results=False)\n",
    "# visualiser.animate(name = 'small_scale_3D_plots')"
   ]
  },
  {
   "cell_type": "code",
   "execution_count": 3,
   "metadata": {},
   "outputs": [
    {
     "name": "stderr",
     "output_type": "stream",
     "text": [
      "[I 2023-11-01 07:05:28,198] A new study created in RDB with name: AIC_1\n",
      "sample: 100%|██████████| 125/125 [00:01<00:00, 89.90it/s, 15 steps of size 1.78e-02. acc. prob=0.22]\n",
      "sample: 100%|██████████| 125/125 [00:00<00:00, 4820.86it/s, 1 steps of size 1.59e-01. acc. prob=0.00]\n",
      "sample: 100%|██████████| 125/125 [00:00<00:00, 5465.09it/s, 1 steps of size 3.03e-01. acc. prob=0.00]\n",
      "[I 2023-11-01 07:05:30,184] Trial 0 finished with value: 569.8035888671875 and parameters: {}. Best is trial 0 with value: 569.8035888671875.\n",
      "[I 2023-11-01 07:05:30,318] Trial 1 finished with value: 569.8035888671875 and parameters: {}. Best is trial 0 with value: 569.8035888671875.\n",
      "[I 2023-11-01 07:05:30,456] Trial 2 finished with value: 569.8035888671875 and parameters: {}. Best is trial 0 with value: 569.8035888671875.\n"
     ]
    },
    {
     "ename": "KeyError",
     "evalue": "'I_y_and_I_z_mus_0_mode_0'",
     "output_type": "error",
     "traceback": [
      "\u001b[0;31m---------------------------------------------------------------------------\u001b[0m",
      "\u001b[0;31mKeyError\u001b[0m                                  Traceback (most recent call last)",
      "\u001b[1;32m/project/testing_dists.ipynb Cell 3\u001b[0m line \u001b[0;36m1\n\u001b[1;32m      <a href='vscode-notebook-cell://dev-container%2B7b22686f737450617468223a22633a5c5c55736572735c5c53616d5c5c4f6e6544726976655c5c446f63756d656e74735c5c5068445c5c5068445f70726f6a656374222c22636f6e66696746696c65223a7b22246d6964223a312c22667350617468223a22633a5c5c55736572735c5c53616d5c5c4f6e6544726976655c5c446f63756d656e74735c5c5068445c5c5068445f70726f6a6563745c5c2e646576636f6e7461696e65725c5c646576636f6e7461696e65722e6a736f6e222c225f736570223a312c2265787465726e616c223a2266696c653a2f2f2f632533412f55736572732f53616d2f4f6e6544726976652f446f63756d656e74732f5068442f5068445f70726f6a6563742f2e646576636f6e7461696e65722f646576636f6e7461696e65722e6a736f6e222c2270617468223a222f633a2f55736572732f53616d2f4f6e6544726976652f446f63756d656e74732f5068442f5068445f70726f6a6563742f2e646576636f6e7461696e65722f646576636f6e7461696e65722e6a736f6e222c22736368656d65223a2266696c65227d7d/project/testing_dists.ipynb#X12sdnNjb2RlLXJlbW90ZQ%3D%3D?line=5'>6</a>\u001b[0m optimiser \u001b[39m=\u001b[39m Optimiser(results_name\u001b[39m=\u001b[39mresults_name, \n\u001b[1;32m      <a href='vscode-notebook-cell://dev-container%2B7b22686f737450617468223a22633a5c5c55736572735c5c53616d5c5c4f6e6544726976655c5c446f63756d656e74735c5c5068445c5c5068445f70726f6a656374222c22636f6e66696746696c65223a7b22246d6964223a312c22667350617468223a22633a5c5c55736572735c5c53616d5c5c4f6e6544726976655c5c446f63756d656e74735c5c5068445c5c5068445f70726f6a6563745c5c2e646576636f6e7461696e65725c5c646576636f6e7461696e65722e6a736f6e222c225f736570223a312c2265787465726e616c223a2266696c653a2f2f2f632533412f55736572732f53616d2f4f6e6544726976652f446f63756d656e74732f5068442f5068445f70726f6a6563742f2e646576636f6e7461696e65722f646576636f6e7461696e65722e6a736f6e222c2270617468223a222f633a2f55736572732f53616d2f4f6e6544726976652f446f63756d656e74732f5068442f5068445f70726f6a6563742f2e646576636f6e7461696e65722f646576636f6e7461696e65722e6a736f6e222c22736368656d65223a2266696c65227d7d/project/testing_dists.ipynb#X12sdnNjb2RlLXJlbW90ZQ%3D%3D?line=6'>7</a>\u001b[0m                   data_params\u001b[39m=\u001b[39mdata_params,\n\u001b[1;32m      <a href='vscode-notebook-cell://dev-container%2B7b22686f737450617468223a22633a5c5c55736572735c5c53616d5c5c4f6e6544726976655c5c446f63756d656e74735c5c5068445c5c5068445f70726f6a656374222c22636f6e66696746696c65223a7b22246d6964223a312c22667350617468223a22633a5c5c55736572735c5c53616d5c5c4f6e6544726976655c5c446f63756d656e74735c5c5068445c5c5068445f70726f6a6563745c5c2e646576636f6e7461696e65725c5c646576636f6e7461696e65722e6a736f6e222c225f736570223a312c2265787465726e616c223a2266696c653a2f2f2f632533412f55736572732f53616d2f4f6e6544726976652f446f63756d656e74732f5068442f5068445f70726f6a6563742f2e646576636f6e7461696e65722f646576636f6e7461696e65722e6a736f6e222c2270617468223a222f633a2f55736572732f53616d2f4f6e6544726976652f446f63756d656e74732f5068442f5068445f70726f6a6563742f2e646576636f6e7461696e65722f646576636f6e7461696e65722e6a736f6e222c22736368656d65223a2266696c65227d7d/project/testing_dists.ipynb#X12sdnNjb2RlLXJlbW90ZQ%3D%3D?line=7'>8</a>\u001b[0m                   default_params\u001b[39m=\u001b[39mdefault_params)\n\u001b[1;32m     <a href='vscode-notebook-cell://dev-container%2B7b22686f737450617468223a22633a5c5c55736572735c5c53616d5c5c4f6e6544726976655c5c446f63756d656e74735c5c5068445c5c5068445f70726f6a656374222c22636f6e66696746696c65223a7b22246d6964223a312c22667350617468223a22633a5c5c55736572735c5c53616d5c5c4f6e6544726976655c5c446f63756d656e74735c5c5068445c5c5068445f70726f6a6563745c5c2e646576636f6e7461696e65725c5c646576636f6e7461696e65722e6a736f6e222c225f736570223a312c2265787465726e616c223a2266696c653a2f2f2f632533412f55736572732f53616d2f4f6e6544726976652f446f63756d656e74732f5068442f5068445f70726f6a6563742f2e646576636f6e7461696e65722f646576636f6e7461696e65722e6a736f6e222c2270617468223a222f633a2f55736572732f53616d2f4f6e6544726976652f446f63756d656e74732f5068442f5068445f70726f6a6563742f2e646576636f6e7461696e65722f646576636f6e7461696e65722e6a736f6e222c22736368656d65223a2266696c65227d7d/project/testing_dists.ipynb#X12sdnNjb2RlLXJlbW90ZQ%3D%3D?line=9'>10</a>\u001b[0m study \u001b[39m=\u001b[39m optimiser\u001b[39m.\u001b[39mrun(n_trials\u001b[39m=\u001b[39m\u001b[39m3\u001b[39m, optimiser_name\u001b[39m=\u001b[39m\u001b[39m'\u001b[39m\u001b[39mAIC_1\u001b[39m\u001b[39m'\u001b[39m, optimising_parameters\u001b[39m=\u001b[39moptimising_parameters, index_name\u001b[39m=\u001b[39m\u001b[39m'\u001b[39m\u001b[39maic\u001b[39m\u001b[39m'\u001b[39m)\n\u001b[0;32m---> <a href='vscode-notebook-cell://dev-container%2B7b22686f737450617468223a22633a5c5c55736572735c5c53616d5c5c4f6e6544726976655c5c446f63756d656e74735c5c5068445c5c5068445f70726f6a656374222c22636f6e66696746696c65223a7b22246d6964223a312c22667350617468223a22633a5c5c55736572735c5c53616d5c5c4f6e6544726976655c5c446f63756d656e74735c5c5068445c5c5068445f70726f6a6563745c5c2e646576636f6e7461696e65725c5c646576636f6e7461696e65722e6a736f6e222c225f736570223a312c2265787465726e616c223a2266696c653a2f2f2f632533412f55736572732f53616d2f4f6e6544726976652f446f63756d656e74732f5068442f5068445f70726f6a6563742f2e646576636f6e7461696e65722f646576636f6e7461696e65722e6a736f6e222c2270617468223a222f633a2f55736572732f53616d2f4f6e6544726976652f446f63756d656e74732f5068442f5068445f70726f6a6563742f2e646576636f6e7461696e65722f646576636f6e7461696e65722e6a736f6e222c22736368656d65223a2266696c65227d7d/project/testing_dists.ipynb#X12sdnNjb2RlLXJlbW90ZQ%3D%3D?line=10'>11</a>\u001b[0m optimiser\u001b[39m.\u001b[39;49mget_plots(study)\n\u001b[1;32m     <a href='vscode-notebook-cell://dev-container%2B7b22686f737450617468223a22633a5c5c55736572735c5c53616d5c5c4f6e6544726976655c5c446f63756d656e74735c5c5068445c5c5068445f70726f6a656374222c22636f6e66696746696c65223a7b22246d6964223a312c22667350617468223a22633a5c5c55736572735c5c53616d5c5c4f6e6544726976655c5c446f63756d656e74735c5c5068445c5c5068445f70726f6a6563745c5c2e646576636f6e7461696e65725c5c646576636f6e7461696e65722e6a736f6e222c225f736570223a312c2265787465726e616c223a2266696c653a2f2f2f632533412f55736572732f53616d2f4f6e6544726976652f446f63756d656e74732f5068442f5068445f70726f6a6563742f2e646576636f6e7461696e65722f646576636f6e7461696e65722e6a736f6e222c2270617468223a222f633a2f55736572732f53616d2f4f6e6544726976652f446f63756d656e74732f5068442f5068445f70726f6a6563742f2e646576636f6e7461696e65722f646576636f6e7461696e65722e6a736f6e222c22736368656d65223a2266696c65227d7d/project/testing_dists.ipynb#X12sdnNjb2RlLXJlbW90ZQ%3D%3D?line=11'>12</a>\u001b[0m domain \u001b[39m=\u001b[39m Domain(\u001b[39m'\u001b[39m\u001b[39mcone_from_source_z_limited\u001b[39m\u001b[39m'\u001b[39m, resolution\u001b[39m=\u001b[39m\u001b[39m80\u001b[39m)\n\u001b[1;32m     <a href='vscode-notebook-cell://dev-container%2B7b22686f737450617468223a22633a5c5c55736572735c5c53616d5c5c4f6e6544726976655c5c446f63756d656e74735c5c5068445c5c5068445f70726f6a656374222c22636f6e66696746696c65223a7b22246d6964223a312c22667350617468223a22633a5c5c55736572735c5c53616d5c5c4f6e6544726976655c5c446f63756d656e74735c5c5068445c5c5068445f70726f6a6563745c5c2e646576636f6e7461696e65725c5c646576636f6e7461696e65722e6a736f6e222c225f736570223a312c2265787465726e616c223a2266696c653a2f2f2f632533412f55736572732f53616d2f4f6e6544726976652f446f63756d656e74732f5068442f5068445f70726f6a6563742f2e646576636f6e7461696e65722f646576636f6e7461696e65722e6a736f6e222c2270617468223a222f633a2f55736572732f53616d2f4f6e6544726976652f446f63756d656e74732f5068442f5068445f70726f6a6563742f2e646576636f6e7461696e65722f646576636f6e7461696e65722e6a736f6e222c22736368656d65223a2266696c65227d7d/project/testing_dists.ipynb#X12sdnNjb2RlLXJlbW90ZQ%3D%3D?line=12'>13</a>\u001b[0m domain\u001b[39m.\u001b[39madd_domain_param(\u001b[39m'\u001b[39m\u001b[39mr\u001b[39m\u001b[39m'\u001b[39m, \u001b[39m1000\u001b[39m)\n",
      "File \u001b[0;32m/project/controllers/inference_controllers/optimiser.py:705\u001b[0m, in \u001b[0;36mOptimiser.get_plots\u001b[0;34m(self, study)\u001b[0m\n\u001b[1;32m    702\u001b[0m plt\u001b[39m.\u001b[39msavefig(\u001b[39mself\u001b[39m\u001b[39m.\u001b[39moptimiser_path \u001b[39m+\u001b[39m \u001b[39m'\u001b[39m\u001b[39m/parameter_importances.png\u001b[39m\u001b[39m'\u001b[39m, bbox_inches\u001b[39m=\u001b[39m\u001b[39m\"\u001b[39m\u001b[39mtight\u001b[39m\u001b[39m\"\u001b[39m)\n\u001b[1;32m    703\u001b[0m plt\u001b[39m.\u001b[39mclose()\n\u001b[0;32m--> 705\u001b[0m \u001b[39mself\u001b[39;49m\u001b[39m.\u001b[39;49mplot_parameter_history()\n",
      "File \u001b[0;32m/project/controllers/inference_controllers/optimiser.py:718\u001b[0m, in \u001b[0;36mOptimiser.plot_parameter_history\u001b[0;34m(self)\u001b[0m\n\u001b[1;32m    716\u001b[0m best_current_index \u001b[39m=\u001b[39m optimising_index_vals[\u001b[39m0\u001b[39m]\n\u001b[1;32m    717\u001b[0m best_current_params\u001b[39m=\u001b[39m np\u001b[39m.\u001b[39mzeros(optimising_index_vals\u001b[39m.\u001b[39msize)\n\u001b[0;32m--> 718\u001b[0m param_data \u001b[39m=\u001b[39m all_results[\u001b[39mself\u001b[39;49m\u001b[39m.\u001b[39;49mpar_to_col[optimising_param]]\n\u001b[1;32m    720\u001b[0m \u001b[39mfor\u001b[39;00m i, index_val \u001b[39min\u001b[39;00m \u001b[39menumerate\u001b[39m(optimising_index_vals):\n\u001b[1;32m    721\u001b[0m     \u001b[39mif\u001b[39;00m \u001b[39mself\u001b[39m\u001b[39m.\u001b[39mdirection \u001b[39m==\u001b[39m \u001b[39m'\u001b[39m\u001b[39mminimize\u001b[39m\u001b[39m'\u001b[39m:\n",
      "\u001b[0;31mKeyError\u001b[0m: 'I_y_and_I_z_mus_0_mode_0'"
     ]
    },
    {
     "data": {
      "text/plain": [
       "<Figure size 640x480 with 0 Axes>"
      ]
     },
     "metadata": {},
     "output_type": "display_data"
    }
   ],
   "source": [
    "optimising_parameters = {\n",
    "                    'I_y_and_I_z_mus_0_mode_0': [0.0001,2],\n",
    "                    'I_y_and_I_z_mus_0_mode_1': [0.0001,2]\n",
    "                }\n",
    "\n",
    "optimiser = Optimiser(results_name=results_name, \n",
    "                  data_params=data_params,\n",
    "                  default_params=default_params)\n",
    "\n",
    "study = optimiser.run(n_trials=3, optimiser_name='AIC_1', optimising_parameters=optimising_parameters, index_name='aic')\n",
    "optimiser.get_plots(study)\n",
    "domain = Domain('cone_from_source_z_limited', resolution=80)\n",
    "domain.add_domain_param('r', 1000)\n",
    "domain.add_domain_param('theta', np.pi/8)\n",
    "domain.add_domain_param('source', [0,0,10])\n",
    "optimiser.run_best_params(study, domain, name = 'small_scale_3D_plots', prior_plots=prior_plots)"
   ]
  },
  {
   "cell_type": "markdown",
   "metadata": {},
   "source": []
  },
  {
   "cell_type": "markdown",
   "metadata": {},
   "source": []
  }
 ],
 "metadata": {
  "kernelspec": {
   "display_name": "base",
   "language": "python",
   "name": "python3"
  },
  "language_info": {
   "codemirror_mode": {
    "name": "ipython",
    "version": 3
   },
   "file_extension": ".py",
   "mimetype": "text/x-python",
   "name": "python",
   "nbconvert_exporter": "python",
   "pygments_lexer": "ipython3",
   "version": "3.9.16"
  }
 },
 "nbformat": 4,
 "nbformat_minor": 2
}
