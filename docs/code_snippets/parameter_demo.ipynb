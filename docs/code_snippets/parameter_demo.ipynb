{
 "cells": [
  {
   "cell_type": "code",
   "execution_count": 1,
   "metadata": {},
   "outputs": [
    {
     "name": "stdout",
     "output_type": "stream",
     "text": [
      "/PhD_project/docs/code_snippets\n"
     ]
    }
   ],
   "source": [
    "import os\n",
    "\n",
    "print(os.getcwd())\n",
    "if not os.getcwd() == '/PhD_project/app':\n",
    "    os.chdir('/PhD_project/app')"
   ]
  },
  {
   "cell_type": "code",
   "execution_count": 2,
   "metadata": {},
   "outputs": [
    {
     "name": "stderr",
     "output_type": "stream",
     "text": [
      "/build/miniconda3/lib/python3.12/site-packages/tqdm/auto.py:21: TqdmWarning: IProgress not found. Please update jupyter and ipywidgets. See https://ipywidgets.readthedocs.io/en/stable/user_install.html\n",
      "  from .autonotebook import tqdm as notebook_tqdm\n"
     ]
    },
    {
     "data": {
      "text/plain": [
       "Array([-0.3721109 ,  0.26423115, -0.18252768, -0.7368197 , -0.44030377,\n",
       "       -0.1521442 , -0.67135346, -0.5908641 ,  0.73168886,  0.5673026 ],      dtype=float32)"
      ]
     },
     "execution_count": 2,
     "metadata": {},
     "output_type": "execute_result"
    }
   ],
   "source": [
    "from regression_toolbox.parameter import Parameter # Import the Parameter class\n",
    "\n",
    "parameter = Parameter(name = 'c', prior_select = 'gaussian', order=0) # Create a Parameter object with the name 'c' and Gaussian prior\n",
    "\n",
    "parameter.add_prior_param('mu', 0) # Add the mean of the Gaussian prior\n",
    "parameter.add_prior_param('sigma', 1) # Add the standard deviation of the Gaussian prior\n",
    "\n",
    "parameter.sample_param(10) # Sample 10 values from the prior distribution\n",
    "\n",
    "# Output:\n",
    "# Array([-0.3721109 ,  0.26423115, -0.18252768, -0.7368197 , -0.44030377,\n",
    "#        -0.1521442 , -0.67135346, -0.5908641 ,  0.73168886,  0.5673026 ],      dtype=float32)"
   ]
  },
  {
   "cell_type": "code",
   "execution_count": 3,
   "metadata": {},
   "outputs": [
    {
     "data": {
      "text/plain": [
       "Array([[1.8474733e+01, 9.6222773e+00],\n",
       "       [6.5111077e-01, 1.1829020e+01],\n",
       "       [4.0147505e+00, 3.9619006e+02],\n",
       "       [6.1634526e+00, 2.9021896e+01],\n",
       "       [2.3662214e+00, 1.1953840e+01],\n",
       "       [2.1363058e+00, 2.2604366e+01],\n",
       "       [3.1386003e+01, 9.2624521e-01],\n",
       "       [8.0565691e+00, 1.9489038e+01],\n",
       "       [1.9445075e-01, 1.0469644e+01],\n",
       "       [2.0345449e+00, 7.7092018e+00]], dtype=float32)"
      ]
     },
     "execution_count": 3,
     "metadata": {},
     "output_type": "execute_result"
    }
   ],
   "source": [
    "from regression_toolbox.parameter import Parameter # Import the Parameter class\n",
    "\n",
    "parameter = Parameter(name = ['c', 'd'], prior_select = 'log_norm', order=0, multi_mode=True) # Create a Parameter object with the name 'c' and Gaussian prior\n",
    "\n",
    "parameter.add_prior_param('peak', [[1, 2], [3, 4]]) # Add the modes of the multi-modal log-normal prior\n",
    "parameter.add_prior_param('overall_scale', 1) # Add the overall scale of the multi-modal log-normal prior\n",
    "\n",
    "parameter.sample_param(10) # Sample 10 values from the prior distribution\n",
    "\n",
    "# Output:\n",
    "# Array([[1.8474733e+01, 9.6222773e+00],\n",
    "#        [6.5111077e-01, 1.1829020e+01],\n",
    "#        [4.0147505e+00, 3.9619006e+02],\n",
    "#        [6.1634526e+00, 2.9021896e+01],\n",
    "#        [2.3662214e+00, 1.1953840e+01],\n",
    "#        [2.1363058e+00, 2.2604366e+01],\n",
    "#        [3.1386003e+01, 9.2624521e-01],\n",
    "#        [8.0565691e+00, 1.9489038e+01],\n",
    "#        [1.9445075e-01, 1.0469644e+01],\n",
    "#        [2.0345449e+00, 7.7092018e+00]], dtype=float32)"
   ]
  }
 ],
 "metadata": {
  "kernelspec": {
   "display_name": "base",
   "language": "python",
   "name": "python3"
  },
  "language_info": {
   "codemirror_mode": {
    "name": "ipython",
    "version": 3
   },
   "file_extension": ".py",
   "mimetype": "text/x-python",
   "name": "python",
   "nbconvert_exporter": "python",
   "pygments_lexer": "ipython3",
   "version": "3.12.5"
  }
 },
 "nbformat": 4,
 "nbformat_minor": 2
}
