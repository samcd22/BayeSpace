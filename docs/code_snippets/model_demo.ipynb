{
 "cells": [
  {
   "cell_type": "code",
   "execution_count": 13,
   "metadata": {},
   "outputs": [
    {
     "name": "stdout",
     "output_type": "stream",
     "text": [
      "/PhD_project/app\n"
     ]
    }
   ],
   "source": [
    "import os\n",
    "\n",
    "print(os.getcwd())\n",
    "if not os.getcwd() == '/PhD_project/app':\n",
    "    os.chdir('/PhD_project/app')"
   ]
  },
  {
   "cell_type": "code",
   "execution_count": 20,
   "metadata": {},
   "outputs": [
    {
     "name": "stdout",
     "output_type": "stream",
     "text": [
      "[ 6  8 10]\n"
     ]
    }
   ],
   "source": [
    "from inference_toolbox.model import Model # Import the Model class\n",
    "\n",
    "model = Model(model_select='line') # Create an instance of the Model class with the model_select parameter set to 'line'\n",
    "# Note that the 'line' model is a simple linear model with the equation y = mx + c\n",
    "\n",
    "model = model.add_fixed_model_param('m', 2) # Add a fixed model parameter with the name 'm' and value 2\n",
    "# This means that the model function will be y = 2x + c\n",
    "\n",
    "model_func = model.get_model() # Get the model function\n",
    "# The model function is a lambda function that takes the arguments x and c and returns the value of y\n",
    "\n",
    "# Note that the first argument of the model function is a dictionary or Series containing the inferred model parameters\n",
    "# The second argument is a dictionary, Series of DataFrame containing the input data (independent variables)\n",
    "print(model_func({'c':4}, {'x':[1,2,3]})) # Output: [6, 8, 10]\n"
   ]
  }
 ],
 "metadata": {
  "kernelspec": {
   "display_name": "base",
   "language": "python",
   "name": "python3"
  },
  "language_info": {
   "codemirror_mode": {
    "name": "ipython",
    "version": 3
   },
   "file_extension": ".py",
   "mimetype": "text/x-python",
   "name": "python",
   "nbconvert_exporter": "python",
   "pygments_lexer": "ipython3",
   "version": "3.12.5"
  }
 },
 "nbformat": 4,
 "nbformat_minor": 2
}
