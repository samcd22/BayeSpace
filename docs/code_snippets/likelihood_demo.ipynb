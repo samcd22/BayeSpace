{
 "cells": [
  {
   "cell_type": "code",
   "execution_count": 13,
   "metadata": {},
   "outputs": [
    {
     "name": "stdout",
     "output_type": "stream",
     "text": [
      "/PhD_project/app\n"
     ]
    }
   ],
   "source": [
    "import os\n",
    "\n",
    "print(os.getcwd())\n",
    "if not os.getcwd() == '/PhD_project/app':\n",
    "    os.chdir('/PhD_project/app')"
   ]
  },
  {
   "cell_type": "code",
   "execution_count": 20,
   "metadata": {},
   "outputs": [
    {
     "name": "stdout",
     "output_type": "stream",
     "text": [
      "[ 6  8 10]\n"
     ]
    }
   ],
   "source": [
    "from regression_toolbox.likelihood import Likelihood # Import the Likelihood class\n",
    "\n",
    "likelihood = Likelihood(likelihood_select='gaussian') # Create an instance of the Likelihood class with the likelihood_select parameter set to 'gaussian'\n",
    "\n",
    "likelihood = likelihood.add_likelihood_param('sigma', 1) # Add a fixed likelihood parameter with the name 'sigma' and value 1\n",
    "\n",
    "likelihood_func = likelihood.get_likelihood_function() # Get the likelihood function\n",
    "\n",
    "# Output the likelihood function"
   ]
  }
 ],
 "metadata": {
  "kernelspec": {
   "display_name": "base",
   "language": "python",
   "name": "python3"
  },
  "language_info": {
   "codemirror_mode": {
    "name": "ipython",
    "version": 3
   },
   "file_extension": ".py",
   "mimetype": "text/x-python",
   "name": "python",
   "nbconvert_exporter": "python",
   "pygments_lexer": "ipython3",
   "version": "3.12.5"
  }
 },
 "nbformat": 4,
 "nbformat_minor": 2
}
