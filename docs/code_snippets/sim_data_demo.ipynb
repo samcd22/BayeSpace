{
 "cells": [
  {
   "cell_type": "code",
   "execution_count": 1,
   "metadata": {},
   "outputs": [
    {
     "name": "stdout",
     "output_type": "stream",
     "text": [
      "/PhD_project/app\n"
     ]
    }
   ],
   "source": [
    "import os\n",
    "\n",
    "if not os.getcwd() == '/PhD_project/app':\n",
    "    os.chdir('/PhD_project/app')\n",
    "print(os.getcwd())"
   ]
  },
  {
   "cell_type": "code",
   "execution_count": 2,
   "metadata": {},
   "outputs": [
    {
     "name": "stdout",
     "output_type": "stream",
     "text": [
      "here /PhD_project/app/../data/processed_sim_data/sim_data_demo\n",
      "Data generated and saved to /PhD_project/app/../data/processed_sim_data/sim_data_demo\n"
     ]
    }
   ],
   "source": [
    "from data_processing.sim_data_processor import SimDataProcessor # Import the SimDataProcessor class\n",
    "from inference_toolbox.model import Model # Import the Model class\n",
    "from visualisation_toolbox.domain import Domain # Import the Domain class\n",
    "\n",
    "sim_model = Model('line').add_fixed_model_param('m', 1).add_fixed_model_param('c', 2) # Create a model object with fixed parameters\n",
    "sim_domain = Domain('one_D').add_domain_param('x_min',0).add_domain_param('x_max',10).add_domain_param('resolution',50) # Create a domain object with domain parameters\n",
    "\n",
    "sim_data_processor = SimDataProcessor('sim_data_demo', sim_model, sim_domain, noise_dist='gaussian', noise_level=1, data_path = '/../data') # Create a SimDataProcessor object\n",
    "data = sim_data_processor.process_data() # Process the data and programmatically save it\n",
    "\n",
    "sim_data_processor.plot_sim_data() # Plot the simulated data and programmatically save the plot"
   ]
  }
 ],
 "metadata": {
  "kernelspec": {
   "display_name": "base",
   "language": "python",
   "name": "python3"
  },
  "language_info": {
   "codemirror_mode": {
    "name": "ipython",
    "version": 3
   },
   "file_extension": ".py",
   "mimetype": "text/x-python",
   "name": "python",
   "nbconvert_exporter": "python",
   "pygments_lexer": "ipython3",
   "version": "3.12.5"
  }
 },
 "nbformat": 4,
 "nbformat_minor": 2
}
