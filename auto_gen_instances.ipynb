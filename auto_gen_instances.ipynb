{
 "cells": [
  {
   "cell_type": "code",
   "execution_count": 1,
   "metadata": {},
   "outputs": [
    {
     "name": "stderr",
     "output_type": "stream",
     "text": [
      "No GPU/TPU found, falling back to CPU. (Set TF_CPP_MIN_LOG_LEVEL=0 and rerun for more info.)\n"
     ]
    }
   ],
   "source": [
    "import numpy as np\n",
    "import pandas as pd\n",
    "from sklearn.model_selection import train_test_split\n",
    "\n",
    "from inference_toolbox.parameter import Parameter\n",
    "from inference_toolbox.model import Model\n",
    "from inference_toolbox.likelihood import Likelihood\n",
    "from inference_toolbox.sampler import Sampler\n",
    "from inference_toolbox.visualiser import Visualiser\n",
    "from inference_toolbox.domain import Domain\n",
    "\n",
    "from data_processing.normaliser import Normaliser\n",
    "from data_processing.box_gridder import BoxGridder\n",
    "import os\n",
    "\n",
    "current_directory = os.getcwd()\n",
    "if current_directory != '/project/':\n",
    "    os.chdir('/project/')"
   ]
  },
  {
   "cell_type": "code",
   "execution_count": 2,
   "metadata": {},
   "outputs": [],
   "source": [
    "log_dummy_data = pd.read_csv('data/log_dummy_data.csv')\n",
    "training_data, testing_data = train_test_split(log_dummy_data, test_size=0.2)"
   ]
  },
  {
   "cell_type": "code",
   "execution_count": 3,
   "metadata": {},
   "outputs": [
    {
     "data": {
      "text/plain": [
       "MultiIndex([('Parameters',        'I_y',     'Initial Value'),\n",
       "            ('Parameters',        'I_y',             'Prior'),\n",
       "            ('Parameters',        'I_y',                'Mu'),\n",
       "            ('Parameters',        'I_y',             'Sigma'),\n",
       "            ('Parameters',        'I_z',     'Initial Value'),\n",
       "            ('Parameters',        'I_z',             'Prior'),\n",
       "            ('Parameters',        'I_z',                'Mu'),\n",
       "            ('Parameters',        'I_z',             'Sigma'),\n",
       "            ('Parameters',          'Q',     'Initial Value'),\n",
       "            ('Parameters',          'Q',             'Prior'),\n",
       "            ('Parameters',          'Q',                'Mu'),\n",
       "            ('Parameters',          'Q',             'Sigma'),\n",
       "            ('Parameters',      'Model',              'Type'),\n",
       "            ('Parameters',      'Model',                 'H'),\n",
       "            ('Parameters', 'Likelihood',              'Type'),\n",
       "            ('Parameters', 'Likelihood',             'sigma'),\n",
       "            ('Parameters',    'Sampler',         'N_samples'),\n",
       "            ('Parameters',    'Sampler',          'N_chains'),\n",
       "            ('Parameters',    'Sampler',     'Thinning rate'),\n",
       "            (   'Results',        'I_y',             'Lower'),\n",
       "            (   'Results',        'I_y',              'Mean'),\n",
       "            (   'Results',        'I_y',             'Upper'),\n",
       "            (   'Results',        'I_y',       'Average tau'),\n",
       "            (   'Results',        'I_z',             'Lower'),\n",
       "            (   'Results',        'I_z',              'Mean'),\n",
       "            (   'Results',        'I_z',             'Upper'),\n",
       "            (   'Results',        'I_z',       'Average tau'),\n",
       "            (   'Results',          'Q',             'Lower'),\n",
       "            (   'Results',          'Q',              'Mean'),\n",
       "            (   'Results',          'Q',             'Upper'),\n",
       "            (   'Results',          'Q',       'Average tau'),\n",
       "            (   'Results',       'Misc',              'RMSE'),\n",
       "            (   'Results',       'Misc', 'Average Diverging'),\n",
       "            (   'Results',       'Misc',     'Chains agree?')],\n",
       "           names=['Instance', None, None])"
      ]
     },
     "execution_count": 3,
     "metadata": {},
     "output_type": "execute_result"
    }
   ],
   "source": [
    "inputs = pd.read_csv('results/all_results.csv',header=[0,1,2], index_col=0)\n",
    "inputs.columns\n"
   ]
  },
  {
   "cell_type": "code",
   "execution_count": 4,
   "metadata": {},
   "outputs": [
    {
     "name": "stdout",
     "output_type": "stream",
     "text": [
      "Generating instance 1...\n",
      "Loading Chain Samples...\n",
      "Loading Samples...\n",
      "Traceplot 1 already exists\n",
      "Traceplot 2 already exists\n",
      "Traceplot 3 already exists\n"
     ]
    }
   ],
   "source": [
    "for instance in inputs.index:\n",
    "\n",
    "    # Initialize parameter series\n",
    "    params = pd.Series({},dtype='float64')\n",
    "\n",
    "    print('Generating instance ' +str(instance) + '...')\n",
    "\n",
    "    # Parameter Assignment\n",
    "    I_y = Parameter(name = 'I_y', init_val=inputs[('Parameters','I_y','Initial Value')][instance], prior_select=inputs[('Parameters','I_y','Prior')][instance].lower())\n",
    "    I_y.add_prior_param(\"mu\",inputs[('Parameters','I_y','Mu')][instance])\n",
    "    I_y.add_prior_param(\"sigma\",inputs[('Parameters','I_y','Sigma')][instance])\n",
    "    params['I_y'] = I_y\n",
    "\n",
    "    I_z = Parameter(name = 'I_z', init_val=inputs[('Parameters','I_z','Initial Value')][instance], prior_select=inputs[('Parameters','I_z','Prior')][instance].lower())\n",
    "    I_z.add_prior_param(\"mu\",inputs[('Parameters','I_z','Mu')][instance])\n",
    "    I_z.add_prior_param(\"sigma\",inputs[('Parameters','I_z','Sigma')][instance])\n",
    "    params['I_z'] = I_z\n",
    "\n",
    "    Q = Parameter(name = 'Q', init_val=inputs[('Parameters','Q','Initial Value')][instance], prior_select=inputs[('Parameters','Q','Prior')][instance].lower())\n",
    "    Q.add_prior_param(\"mu\",inputs[('Parameters','Q','Mu')][instance])\n",
    "    Q.add_prior_param(\"sigma\",inputs[('Parameters','Q','Sigma')][instance])\n",
    "    params['Q'] = Q\n",
    "\n",
    "    # Model Assignment\n",
    "    model = Model(inputs[('Parameters','Model','Type')][instance].lower())\n",
    "    model.add_model_param(\"H\",inputs[('Parameters','Model','H')][instance])\n",
    "\n",
    "    # Likelihood function assigmnent\n",
    "    likelihood = Likelihood(inputs[('Parameters','Likelihood','Type')][instance].lower())\n",
    "    likelihood.add_likelihood_param(\"sigma\",inputs[('Parameters','Likelihood','sigma')][instance])\n",
    "    # likelihood.add_likelihood_param(\"lambda_1\",1)\n",
    "    # likelihood.add_likelihood_param(\"lambda_2\",0.05)\n",
    "\n",
    "    num_samples = int(inputs[('Parameters','Sampler','N_samples')][instance])\n",
    "    num_chains = int(inputs[('Parameters','Sampler','N_chains')][instance])\n",
    "    thinning_rate_= int(inputs[('Parameters','Sampler','Thinning rate')][instance])\n",
    "\n",
    "\n",
    "    # Initialize the sampler\n",
    "    sampler = Sampler(params, model, likelihood, training_data, num_samples, show_sample_info = True, n_chains=num_chains, thinning_rate=thinning_rate_)\n",
    "    hyperparams = sampler.get_hyperparams()\n",
    "    params_samples, chain_samples, fields = sampler.sample_all()\n",
    "    visualiser = Visualiser(testing_data, params_samples, model, sampler.hyperparams, chain_samples=chain_samples,fields = fields, previous_instance = sampler.instance, data_path = 'results/inference')\n",
    "    summary = visualiser.get_summary()\n",
    "    visualiser.get_traceplot()\n",
    "\n",
    "    inputs.loc[instance,('Results','I_y', 'Lower')] = summary['overall']['I_y']['lower']\n",
    "    inputs.loc[instance,('Results','I_y', 'Mean')] = summary['overall']['I_y']['mean']\n",
    "    inputs.loc[instance,('Results','I_y', 'Upper')] = summary['overall']['I_y']['upper']\n",
    "    inputs.loc[instance,('Results','I_y', 'Average tau')] = summary['overall']['I_y']['tau']\n",
    "\n",
    "    inputs.loc[instance,('Results','I_z', 'Lower')] = summary['overall']['I_z']['lower']\n",
    "    inputs.loc[instance,('Results','I_z', 'Mean')] = summary['overall']['I_z']['mean']\n",
    "    inputs.loc[instance,('Results','I_z', 'Upper')] = summary['overall']['I_z']['upper']\n",
    "    inputs.loc[instance,('Results','I_z', 'Average tau')] = summary['overall']['I_z']['tau']\n",
    "\n",
    "    inputs.loc[instance,('Results','Q', 'Lower')] = summary['overall']['Q']['lower']\n",
    "    inputs.loc[instance,('Results','Q', 'Mean')] = summary['overall']['Q']['mean']\n",
    "    inputs.loc[instance,('Results','Q', 'Upper')] = summary['overall']['Q']['upper']\n",
    "    inputs.loc[instance,('Results','Q', 'Average tau')] = summary['overall']['Q']['tau']\n",
    "\n",
    "    inputs.loc[instance,('Results','Misc', 'RMSE')] = summary['RMSE']\n",
    "\n",
    "    divergences = []\n",
    "    for i in range(visualiser.num_chains):\n",
    "        divergences.append(summary['chain_' + str(i+1)]['fields']['diverging'])\n",
    "\n",
    "    inputs.loc[instance,('Results','Misc', 'Average Diverging')] = np.mean(divergences)\n",
    "\n",
    "inputs.to_csv('results/all_results.xlsx')\n",
    "\n",
    "# Sample the parameters\n",
    "# params_samples, chain_samples, fields = sampler.sample_all()"
   ]
  }
 ],
 "metadata": {
  "kernelspec": {
   "display_name": "base",
   "language": "python",
   "name": "python3"
  },
  "language_info": {
   "codemirror_mode": {
    "name": "ipython",
    "version": 3
   },
   "file_extension": ".py",
   "mimetype": "text/x-python",
   "name": "python",
   "nbconvert_exporter": "python",
   "pygments_lexer": "ipython3",
   "version": "3.9.16"
  },
  "orig_nbformat": 4
 },
 "nbformat": 4,
 "nbformat_minor": 2
}
