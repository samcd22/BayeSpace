{
 "cells": [
  {
   "attachments": {},
   "cell_type": "markdown",
   "metadata": {},
   "source": [
    "# Controller #"
   ]
  },
  {
   "attachments": {},
   "cell_type": "markdown",
   "metadata": {},
   "source": [
    "Import all neccessary packages"
   ]
  },
  {
   "cell_type": "code",
   "execution_count": 1,
   "metadata": {},
   "outputs": [
    {
     "name": "stderr",
     "output_type": "stream",
     "text": [
      "No GPU/TPU found, falling back to CPU. (Set TF_CPP_MIN_LOG_LEVEL=0 and rerun for more info.)\n"
     ]
    }
   ],
   "source": [
    "import os\n",
    "import pandas as pd\n",
    "import numpy as np\n",
    "\n",
    "from controllers.inference_controllers.sandbox import Sandbox\n",
    "from controllers.inference_controllers.generator import Generator\n",
    "from controllers.inference_controllers.optimiser import Optimiser\n",
    "\n",
    "from toolboxes.plotting_toolbox.domain import Domain\n",
    "from toolboxes.inference_toolbox.parameter import Parameter\n",
    "from toolboxes.inference_toolbox.model import Model\n",
    "from toolboxes.inference_toolbox.likelihood import Likelihood\n",
    "\n",
    "current_directory = os.getcwd()\n",
    "if current_directory != '/project/':\n",
    "    os.chdir('/project/')"
   ]
  },
  {
   "attachments": {},
   "cell_type": "markdown",
   "metadata": {},
   "source": [
    "Define how the data is to be generated and what default inputs should be used"
   ]
  },
  {
   "cell_type": "code",
   "execution_count": 2,
   "metadata": {},
   "outputs": [],
   "source": [
    "data_params = {\n",
    "    'data_type': 'simulated_data',\n",
    "    'model': {\n",
    "        'model_select': 'sarah_model',\n",
    "        'model_params':{\n",
    "            'u': 10\n",
    "        },\n",
    "        'inference_params':{\n",
    "            'I_y': 0.1,\n",
    "            'I_z': 0.1,\n",
    "            'Q': 3e13,\n",
    "            'sigma': 1,\n",
    "            'x_0': 0,\n",
    "            'y_0': 0,\n",
    "            'z_0':0\n",
    "        }\n",
    "    },\n",
    "    'domain':{\n",
    "        'domain_select': 'cone_from_source_z_limited',\n",
    "        'domain_params': {\n",
    "            'r': 100,\n",
    "            'theta': np.pi/8,\n",
    "            'source': [0,0,0]\n",
    "        },\n",
    "        'resolution': 20\n",
    "    },\n",
    "    'noise_dist': 'gaussian',\n",
    "    'noise_level': 1,\n",
    "    'output_header': 'Concentration',\n",
    "}\n",
    "\n",
    "# data_params = {\n",
    "#     'data_type': 'normalised_data',\n",
    "#     'data_select': 'GBR_data',\n",
    "#     'normaliser_select': 'GBR_normaliser',\n",
    "#     'normaliser_params':{\n",
    "#         'experiments_list': [\n",
    "#             'Exp1',\n",
    "#             'Exp2',\n",
    "#             'Exp3',\n",
    "#             'Exp4',\n",
    "#             'Exp5',\n",
    "#             'Exp6',\n",
    "#             'Exp7',\n",
    "#             'Exp8',\n",
    "#             'Exp9',\n",
    "#             'Exp10',\n",
    "#             'Exp11',\n",
    "#             'Exp12',\n",
    "#         ],\n",
    "#         'meta_data_select': 'GBR_data_summary',\n",
    "#         'input_header': 'Concentration'\n",
    "#     },\n",
    "#     'log':True,\n",
    "#     'output_header': 'Concentration',\n",
    "#     'gridding': [100,100,25]\n",
    "# }\n",
    "\n",
    "\n",
    "\n",
    "default_params = {\n",
    "    'infered_params':pd.Series({\n",
    "        'model_params':pd.Series({\n",
    "            'I_y': Parameter('I_y', prior_select = 'gamma', default_value=0.1).add_prior_param('mu', 0.1).add_prior_param('sigma',0.1),\n",
    "            'I_z': Parameter('I_z', prior_select = 'gamma', default_value=0.1).add_prior_param('mu', 0.1).add_prior_param('sigma',0.1),\n",
    "            'Q': Parameter('Q', prior_select = 'gamma', default_value=3e13).add_prior_param('mu', 3e13).add_prior_param('sigma',1e13),\n",
    "            'x_0': Parameter('x_0', prior_select = 'uniform', default_value=0).add_prior_param('low', -3).add_prior_param('high',3),\n",
    "            'y_0': Parameter('y_0', prior_select = 'uniform', default_value=0).add_prior_param('low', -3).add_prior_param('high',3),\n",
    "            'z_0': Parameter('z_0', prior_select = 'uniform', default_value=0).add_prior_param('low', -3).add_prior_param('high',3),\n",
    "        }),\n",
    "        'likelihood_params':pd.Series({\n",
    "            'sigma': Parameter('sigma', prior_select = 'gamma', default_value=1).add_prior_param('mu', 1).add_prior_param('sigma',1)\n",
    "        })\n",
    "    }),\n",
    "    'model':Model('sarah_model').add_model_param('u',10),\n",
    "    'likelihood': Likelihood('gaussian'),\n",
    "    'sampler': {\n",
    "        'n_samples': 10000,\n",
    "        'n_chains': 3,\n",
    "        'thinning_rate': 1\n",
    "    }\n",
    "}\n",
    "\n",
    "results_name = 'sarah_results_simulated'"
   ]
  },
  {
   "attachments": {},
   "cell_type": "markdown",
   "metadata": {},
   "source": [
    "## Sandbox ##\n",
    "\n",
    "Create an instance with the inputted default parameters and visualise it in different ways"
   ]
  },
  {
   "cell_type": "code",
   "execution_count": 3,
   "metadata": {},
   "outputs": [
    {
     "ename": "ValueError",
     "evalue": "Normal distribution got invalid loc parameter.",
     "output_type": "error",
     "traceback": [
      "\u001b[0;31m---------------------------------------------------------------------------\u001b[0m",
      "\u001b[0;31mValueError\u001b[0m                                Traceback (most recent call last)",
      "\u001b[1;32m/project/test.ipynb Cell 7\u001b[0m line \u001b[0;36m5\n\u001b[1;32m      <a href='vscode-notebook-cell://dev-container%2B7b22686f737450617468223a22633a5c5c55736572735c5c53616d5c5c4f6e6544726976655c5c446f63756d656e74735c5c5068445c5c5068445f70726f6a656374222c22636f6e66696746696c65223a7b22246d6964223a312c22667350617468223a22633a5c5c55736572735c5c53616d5c5c4f6e6544726976655c5c446f63756d656e74735c5c5068445c5c5068445f70726f6a6563745c5c2e646576636f6e7461696e65725c5c646576636f6e7461696e65722e6a736f6e222c225f736570223a312c2265787465726e616c223a2266696c653a2f2f2f632533412f55736572732f53616d2f4f6e6544726976652f446f63756d656e74732f5068442f5068445f70726f6a6563742f2e646576636f6e7461696e65722f646576636f6e7461696e65722e6a736f6e222c2270617468223a222f633a2f55736572732f53616d2f4f6e6544726976652f446f63756d656e74732f5068442f5068445f70726f6a6563742f2e646576636f6e7461696e65722f646576636f6e7461696e65722e6a736f6e222c22736368656d65223a2266696c65227d7d/project/test.ipynb#W6sdnNjb2RlLXJlbW90ZQ%3D%3D?line=0'>1</a>\u001b[0m sandbox \u001b[39m=\u001b[39m Sandbox(results_name\u001b[39m=\u001b[39mresults_name, \n\u001b[1;32m      <a href='vscode-notebook-cell://dev-container%2B7b22686f737450617468223a22633a5c5c55736572735c5c53616d5c5c4f6e6544726976655c5c446f63756d656e74735c5c5068445c5c5068445f70726f6a656374222c22636f6e66696746696c65223a7b22246d6964223a312c22667350617468223a22633a5c5c55736572735c5c53616d5c5c4f6e6544726976655c5c446f63756d656e74735c5c5068445c5c5068445f70726f6a6563745c5c2e646576636f6e7461696e65725c5c646576636f6e7461696e65722e6a736f6e222c225f736570223a312c2265787465726e616c223a2266696c653a2f2f2f632533412f55736572732f53616d2f4f6e6544726976652f446f63756d656e74732f5068442f5068445f70726f6a6563742f2e646576636f6e7461696e65722f646576636f6e7461696e65722e6a736f6e222c2270617468223a222f633a2f55736572732f53616d2f4f6e6544726976652f446f63756d656e74732f5068442f5068445f70726f6a6563742f2e646576636f6e7461696e65722f646576636f6e7461696e65722e6a736f6e222c22736368656d65223a2266696c65227d7d/project/test.ipynb#W6sdnNjb2RlLXJlbW90ZQ%3D%3D?line=1'>2</a>\u001b[0m                   data_params\u001b[39m=\u001b[39mdata_params,\n\u001b[1;32m      <a href='vscode-notebook-cell://dev-container%2B7b22686f737450617468223a22633a5c5c55736572735c5c53616d5c5c4f6e6544726976655c5c446f63756d656e74735c5c5068445c5c5068445f70726f6a656374222c22636f6e66696746696c65223a7b22246d6964223a312c22667350617468223a22633a5c5c55736572735c5c53616d5c5c4f6e6544726976655c5c446f63756d656e74735c5c5068445c5c5068445f70726f6a6563745c5c2e646576636f6e7461696e65725c5c646576636f6e7461696e65722e6a736f6e222c225f736570223a312c2265787465726e616c223a2266696c653a2f2f2f632533412f55736572732f53616d2f4f6e6544726976652f446f63756d656e74732f5068442f5068445f70726f6a6563742f2e646576636f6e7461696e65722f646576636f6e7461696e65722e6a736f6e222c2270617468223a222f633a2f55736572732f53616d2f4f6e6544726976652f446f63756d656e74732f5068442f5068445f70726f6a6563742f2e646576636f6e7461696e65722f646576636f6e7461696e65722e6a736f6e222c22736368656d65223a2266696c65227d7d/project/test.ipynb#W6sdnNjb2RlLXJlbW90ZQ%3D%3D?line=2'>3</a>\u001b[0m                   default_params\u001b[39m=\u001b[39mdefault_params)\n\u001b[0;32m----> <a href='vscode-notebook-cell://dev-container%2B7b22686f737450617468223a22633a5c5c55736572735c5c53616d5c5c4f6e6544726976655c5c446f63756d656e74735c5c5068445c5c5068445f70726f6a656374222c22636f6e66696746696c65223a7b22246d6964223a312c22667350617468223a22633a5c5c55736572735c5c53616d5c5c4f6e6544726976655c5c446f63756d656e74735c5c5068445c5c5068445f70726f6a6563745c5c2e646576636f6e7461696e65725c5c646576636f6e7461696e65722e6a736f6e222c225f736570223a312c2265787465726e616c223a2266696c653a2f2f2f632533412f55736572732f53616d2f4f6e6544726976652f446f63756d656e74732f5068442f5068445f70726f6a6563742f2e646576636f6e7461696e65722f646576636f6e7461696e65722e6a736f6e222c2270617468223a222f633a2f55736572732f53616d2f4f6e6544726976652f446f63756d656e74732f5068442f5068445f70726f6a6563742f2e646576636f6e7461696e65722f646576636f6e7461696e65722e6a736f6e222c22736368656d65223a2266696c65227d7d/project/test.ipynb#W6sdnNjb2RlLXJlbW90ZQ%3D%3D?line=4'>5</a>\u001b[0m visualiser \u001b[39m=\u001b[39m sandbox\u001b[39m.\u001b[39;49mrun()\n\u001b[1;32m      <a href='vscode-notebook-cell://dev-container%2B7b22686f737450617468223a22633a5c5c55736572735c5c53616d5c5c4f6e6544726976655c5c446f63756d656e74735c5c5068445c5c5068445f70726f6a656374222c22636f6e66696746696c65223a7b22246d6964223a312c22667350617468223a22633a5c5c55736572735c5c53616d5c5c4f6e6544726976655c5c446f63756d656e74735c5c5068445c5c5068445f70726f6a6563745c5c2e646576636f6e7461696e65725c5c646576636f6e7461696e65722e6a736f6e222c225f736570223a312c2265787465726e616c223a2266696c653a2f2f2f632533412f55736572732f53616d2f4f6e6544726976652f446f63756d656e74732f5068442f5068445f70726f6a6563742f2e646576636f6e7461696e65722f646576636f6e7461696e65722e6a736f6e222c2270617468223a222f633a2f55736572732f53616d2f4f6e6544726976652f446f63756d656e74732f5068442f5068445f70726f6a6563742f2e646576636f6e7461696e65722f646576636f6e7461696e65722e6a736f6e222c22736368656d65223a2266696c65227d7d/project/test.ipynb#W6sdnNjb2RlLXJlbW90ZQ%3D%3D?line=5'>6</a>\u001b[0m visualiser\u001b[39m.\u001b[39mget_summary()\n\u001b[1;32m      <a href='vscode-notebook-cell://dev-container%2B7b22686f737450617468223a22633a5c5c55736572735c5c53616d5c5c4f6e6544726976655c5c446f63756d656e74735c5c5068445c5c5068445f70726f6a656374222c22636f6e66696746696c65223a7b22246d6964223a312c22667350617468223a22633a5c5c55736572735c5c53616d5c5c4f6e6544726976655c5c446f63756d656e74735c5c5068445c5c5068445f70726f6a6563745c5c2e646576636f6e7461696e65725c5c646576636f6e7461696e65722e6a736f6e222c225f736570223a312c2265787465726e616c223a2266696c653a2f2f2f632533412f55736572732f53616d2f4f6e6544726976652f446f63756d656e74732f5068442f5068445f70726f6a6563742f2e646576636f6e7461696e65722f646576636f6e7461696e65722e6a736f6e222c2270617468223a222f633a2f55736572732f53616d2f4f6e6544726976652f446f63756d656e74732f5068442f5068445f70726f6a6563742f2e646576636f6e7461696e65722f646576636f6e7461696e65722e6a736f6e222c22736368656d65223a2266696c65227d7d/project/test.ipynb#W6sdnNjb2RlLXJlbW90ZQ%3D%3D?line=6'>7</a>\u001b[0m visualiser\u001b[39m.\u001b[39mget_traceplot()\n",
      "File \u001b[0;32m/project/controllers/inference_controllers/sandbox.py:88\u001b[0m, in \u001b[0;36mSandbox.run\u001b[0;34m(self)\u001b[0m\n\u001b[1;32m     77\u001b[0m sampler \u001b[39m=\u001b[39m Sampler(params, \n\u001b[1;32m     78\u001b[0m                   model, \n\u001b[1;32m     79\u001b[0m                   likelihood, \n\u001b[0;32m   (...)\u001b[0m\n\u001b[1;32m     84\u001b[0m                   thinning_rate\u001b[39m=\u001b[39mthinning_rate,  \n\u001b[1;32m     85\u001b[0m                   data_path \u001b[39m=\u001b[39m \u001b[39mself\u001b[39m\u001b[39m.\u001b[39mfull_results_path)\n\u001b[1;32m     87\u001b[0m \u001b[39m# Runs the sampler for the allotted number of samples\u001b[39;00m\n\u001b[0;32m---> 88\u001b[0m sampler\u001b[39m.\u001b[39;49msample_all()\n\u001b[1;32m     90\u001b[0m \u001b[39m# Initialises the sampler object\u001b[39;00m\n\u001b[1;32m     91\u001b[0m visualiser \u001b[39m=\u001b[39m Visualiser(testing_data,\n\u001b[1;32m     92\u001b[0m                         sampler,\n\u001b[1;32m     93\u001b[0m                         model,\n\u001b[1;32m     94\u001b[0m                         previous_instance\u001b[39m=\u001b[39msampler\u001b[39m.\u001b[39minstance,\n\u001b[1;32m     95\u001b[0m                         data_path \u001b[39m=\u001b[39m \u001b[39mself\u001b[39m\u001b[39m.\u001b[39mfull_results_path,\n\u001b[1;32m     96\u001b[0m                         actual_values \u001b[39m=\u001b[39m \u001b[39mself\u001b[39m\u001b[39m.\u001b[39mactual_values)\n",
      "File \u001b[0;32m/project/toolboxes/inference_toolbox/sampler.py:43\u001b[0m, in \u001b[0;36mSampler.sample_all\u001b[0;34m(self, rng_key)\u001b[0m\n\u001b[1;32m     41\u001b[0m kernel \u001b[39m=\u001b[39m numpyro\u001b[39m.\u001b[39minfer\u001b[39m.\u001b[39mNUTS(\u001b[39mself\u001b[39m\u001b[39m.\u001b[39msample_one)\n\u001b[1;32m     42\u001b[0m \u001b[39mself\u001b[39m\u001b[39m.\u001b[39mmcmc_obj \u001b[39m=\u001b[39m numpyro\u001b[39m.\u001b[39minfer\u001b[39m.\u001b[39mMCMC(kernel, num_warmup\u001b[39m=\u001b[39m\u001b[39mself\u001b[39m\u001b[39m.\u001b[39mn_warmup, num_samples\u001b[39m=\u001b[39m\u001b[39mself\u001b[39m\u001b[39m.\u001b[39mn_samples, num_chains\u001b[39m=\u001b[39m\u001b[39mself\u001b[39m\u001b[39m.\u001b[39mn_chains, thinning\u001b[39m=\u001b[39m\u001b[39mself\u001b[39m\u001b[39m.\u001b[39mthinning_rate, chain_method \u001b[39m=\u001b[39m \u001b[39m'\u001b[39m\u001b[39msequential\u001b[39m\u001b[39m'\u001b[39m)\n\u001b[0;32m---> 43\u001b[0m \u001b[39mself\u001b[39;49m\u001b[39m.\u001b[39;49mmcmc_obj\u001b[39m.\u001b[39;49mrun(rng_key\u001b[39m=\u001b[39;49mrng_key)\n\u001b[1;32m     44\u001b[0m samples \u001b[39m=\u001b[39m \u001b[39mself\u001b[39m\u001b[39m.\u001b[39mmcmc_obj\u001b[39m.\u001b[39mget_samples(group_by_chain\u001b[39m=\u001b[39m\u001b[39mTrue\u001b[39;00m)\n\u001b[1;32m     45\u001b[0m \u001b[39mself\u001b[39m\u001b[39m.\u001b[39mfields \u001b[39m=\u001b[39m \u001b[39mself\u001b[39m\u001b[39m.\u001b[39mmcmc_obj\u001b[39m.\u001b[39mget_extra_fields(group_by_chain\u001b[39m=\u001b[39m\u001b[39mTrue\u001b[39;00m)\n",
      "File \u001b[0;32m/build/miniconda3/lib/python3.9/site-packages/numpyro/infer/mcmc.py:598\u001b[0m, in \u001b[0;36mMCMC.run\u001b[0;34m(self, rng_key, extra_fields, init_params, *args, **kwargs)\u001b[0m\n\u001b[1;32m    596\u001b[0m \u001b[39melse\u001b[39;00m:\n\u001b[1;32m    597\u001b[0m     \u001b[39mif\u001b[39;00m \u001b[39mself\u001b[39m\u001b[39m.\u001b[39mchain_method \u001b[39m==\u001b[39m \u001b[39m\"\u001b[39m\u001b[39msequential\u001b[39m\u001b[39m\"\u001b[39m:\n\u001b[0;32m--> 598\u001b[0m         states, last_state \u001b[39m=\u001b[39m _laxmap(partial_map_fn, map_args)\n\u001b[1;32m    599\u001b[0m     \u001b[39melif\u001b[39;00m \u001b[39mself\u001b[39m\u001b[39m.\u001b[39mchain_method \u001b[39m==\u001b[39m \u001b[39m\"\u001b[39m\u001b[39mparallel\u001b[39m\u001b[39m\"\u001b[39m:\n\u001b[1;32m    600\u001b[0m         states, last_state \u001b[39m=\u001b[39m pmap(partial_map_fn)(map_args)\n",
      "File \u001b[0;32m/build/miniconda3/lib/python3.9/site-packages/numpyro/infer/mcmc.py:160\u001b[0m, in \u001b[0;36m_laxmap\u001b[0;34m(f, xs)\u001b[0m\n\u001b[1;32m    158\u001b[0m \u001b[39mfor\u001b[39;00m i \u001b[39min\u001b[39;00m \u001b[39mrange\u001b[39m(n):\n\u001b[1;32m    159\u001b[0m     x \u001b[39m=\u001b[39m jit(_get_value_from_index)(xs, i)\n\u001b[0;32m--> 160\u001b[0m     ys\u001b[39m.\u001b[39mappend(f(x))\n\u001b[1;32m    162\u001b[0m \u001b[39mreturn\u001b[39;00m tree_map(\u001b[39mlambda\u001b[39;00m \u001b[39m*\u001b[39margs: jnp\u001b[39m.\u001b[39mstack(args), \u001b[39m*\u001b[39mys)\n",
      "File \u001b[0;32m/build/miniconda3/lib/python3.9/site-packages/numpyro/infer/mcmc.py:381\u001b[0m, in \u001b[0;36mMCMC._single_chain_mcmc\u001b[0;34m(self, init, args, kwargs, collect_fields)\u001b[0m\n\u001b[1;32m    379\u001b[0m rng_key, init_state, init_params \u001b[39m=\u001b[39m init\n\u001b[1;32m    380\u001b[0m \u001b[39mif\u001b[39;00m init_state \u001b[39mis\u001b[39;00m \u001b[39mNone\u001b[39;00m:\n\u001b[0;32m--> 381\u001b[0m     init_state \u001b[39m=\u001b[39m \u001b[39mself\u001b[39;49m\u001b[39m.\u001b[39;49msampler\u001b[39m.\u001b[39;49minit(\n\u001b[1;32m    382\u001b[0m         rng_key,\n\u001b[1;32m    383\u001b[0m         \u001b[39mself\u001b[39;49m\u001b[39m.\u001b[39;49mnum_warmup,\n\u001b[1;32m    384\u001b[0m         init_params,\n\u001b[1;32m    385\u001b[0m         model_args\u001b[39m=\u001b[39;49margs,\n\u001b[1;32m    386\u001b[0m         model_kwargs\u001b[39m=\u001b[39;49mkwargs,\n\u001b[1;32m    387\u001b[0m     )\n\u001b[1;32m    388\u001b[0m sample_fn, postprocess_fn \u001b[39m=\u001b[39m \u001b[39mself\u001b[39m\u001b[39m.\u001b[39m_get_cached_fns()\n\u001b[1;32m    389\u001b[0m diagnostics \u001b[39m=\u001b[39m (\n\u001b[1;32m    390\u001b[0m     \u001b[39mlambda\u001b[39;00m x: \u001b[39mself\u001b[39m\u001b[39m.\u001b[39msampler\u001b[39m.\u001b[39mget_diagnostics_str(x[\u001b[39m0\u001b[39m])\n\u001b[1;32m    391\u001b[0m     \u001b[39mif\u001b[39;00m rng_key\u001b[39m.\u001b[39mndim \u001b[39m==\u001b[39m \u001b[39m1\u001b[39m\n\u001b[1;32m    392\u001b[0m     \u001b[39melse\u001b[39;00m \u001b[39m\"\u001b[39m\u001b[39m\"\u001b[39m\n\u001b[1;32m    393\u001b[0m )  \u001b[39m# noqa: E731\u001b[39;00m\n",
      "File \u001b[0;32m/build/miniconda3/lib/python3.9/site-packages/numpyro/infer/hmc.py:706\u001b[0m, in \u001b[0;36mHMC.init\u001b[0;34m(self, rng_key, num_warmup, init_params, model_args, model_kwargs)\u001b[0m\n\u001b[1;32m    701\u001b[0m \u001b[39m# vectorized\u001b[39;00m\n\u001b[1;32m    702\u001b[0m \u001b[39melse\u001b[39;00m:\n\u001b[1;32m    703\u001b[0m     rng_key, rng_key_init_model \u001b[39m=\u001b[39m jnp\u001b[39m.\u001b[39mswapaxes(\n\u001b[1;32m    704\u001b[0m         vmap(random\u001b[39m.\u001b[39msplit)(rng_key), \u001b[39m0\u001b[39m, \u001b[39m1\u001b[39m\n\u001b[1;32m    705\u001b[0m     )\n\u001b[0;32m--> 706\u001b[0m init_params \u001b[39m=\u001b[39m \u001b[39mself\u001b[39;49m\u001b[39m.\u001b[39;49m_init_state(\n\u001b[1;32m    707\u001b[0m     rng_key_init_model, model_args, model_kwargs, init_params\n\u001b[1;32m    708\u001b[0m )\n\u001b[1;32m    709\u001b[0m \u001b[39mif\u001b[39;00m \u001b[39mself\u001b[39m\u001b[39m.\u001b[39m_potential_fn \u001b[39mand\u001b[39;00m init_params \u001b[39mis\u001b[39;00m \u001b[39mNone\u001b[39;00m:\n\u001b[1;32m    710\u001b[0m     \u001b[39mraise\u001b[39;00m \u001b[39mValueError\u001b[39;00m(\n\u001b[1;32m    711\u001b[0m         \u001b[39m\"\u001b[39m\u001b[39mValid value of `init_params` must be provided with\u001b[39m\u001b[39m\"\u001b[39m \u001b[39m\"\u001b[39m\u001b[39m `potential_fn`.\u001b[39m\u001b[39m\"\u001b[39m\n\u001b[1;32m    712\u001b[0m     )\n",
      "File \u001b[0;32m/build/miniconda3/lib/python3.9/site-packages/numpyro/infer/hmc.py:652\u001b[0m, in \u001b[0;36mHMC._init_state\u001b[0;34m(self, rng_key, model_args, model_kwargs, init_params)\u001b[0m\n\u001b[1;32m    650\u001b[0m \u001b[39mdef\u001b[39;00m \u001b[39m_init_state\u001b[39m(\u001b[39mself\u001b[39m, rng_key, model_args, model_kwargs, init_params):\n\u001b[1;32m    651\u001b[0m     \u001b[39mif\u001b[39;00m \u001b[39mself\u001b[39m\u001b[39m.\u001b[39m_model \u001b[39mis\u001b[39;00m \u001b[39mnot\u001b[39;00m \u001b[39mNone\u001b[39;00m:\n\u001b[0;32m--> 652\u001b[0m         init_params, potential_fn, postprocess_fn, model_trace \u001b[39m=\u001b[39m initialize_model(\n\u001b[1;32m    653\u001b[0m             rng_key,\n\u001b[1;32m    654\u001b[0m             \u001b[39mself\u001b[39;49m\u001b[39m.\u001b[39;49m_model,\n\u001b[1;32m    655\u001b[0m             dynamic_args\u001b[39m=\u001b[39;49m\u001b[39mTrue\u001b[39;49;00m,\n\u001b[1;32m    656\u001b[0m             init_strategy\u001b[39m=\u001b[39;49m\u001b[39mself\u001b[39;49m\u001b[39m.\u001b[39;49m_init_strategy,\n\u001b[1;32m    657\u001b[0m             model_args\u001b[39m=\u001b[39;49mmodel_args,\n\u001b[1;32m    658\u001b[0m             model_kwargs\u001b[39m=\u001b[39;49mmodel_kwargs,\n\u001b[1;32m    659\u001b[0m             forward_mode_differentiation\u001b[39m=\u001b[39;49m\u001b[39mself\u001b[39;49m\u001b[39m.\u001b[39;49m_forward_mode_differentiation,\n\u001b[1;32m    660\u001b[0m         )\n\u001b[1;32m    661\u001b[0m         \u001b[39mif\u001b[39;00m \u001b[39mself\u001b[39m\u001b[39m.\u001b[39m_init_fn \u001b[39mis\u001b[39;00m \u001b[39mNone\u001b[39;00m:\n\u001b[1;32m    662\u001b[0m             \u001b[39mself\u001b[39m\u001b[39m.\u001b[39m_init_fn, \u001b[39mself\u001b[39m\u001b[39m.\u001b[39m_sample_fn \u001b[39m=\u001b[39m hmc(\n\u001b[1;32m    663\u001b[0m                 potential_fn_gen\u001b[39m=\u001b[39mpotential_fn,\n\u001b[1;32m    664\u001b[0m                 kinetic_fn\u001b[39m=\u001b[39m\u001b[39mself\u001b[39m\u001b[39m.\u001b[39m_kinetic_fn,\n\u001b[1;32m    665\u001b[0m                 algo\u001b[39m=\u001b[39m\u001b[39mself\u001b[39m\u001b[39m.\u001b[39m_algo,\n\u001b[1;32m    666\u001b[0m             )\n",
      "File \u001b[0;32m/build/miniconda3/lib/python3.9/site-packages/numpyro/infer/util.py:679\u001b[0m, in \u001b[0;36minitialize_model\u001b[0;34m(rng_key, model, init_strategy, dynamic_args, model_args, model_kwargs, forward_mode_differentiation, validate_grad)\u001b[0m\n\u001b[1;32m    676\u001b[0m \u001b[39mif\u001b[39;00m device_get(\u001b[39m~\u001b[39mjnp\u001b[39m.\u001b[39mall(is_valid)):\n\u001b[1;32m    677\u001b[0m     \u001b[39mwith\u001b[39;00m numpyro\u001b[39m.\u001b[39mvalidation_enabled(), trace() \u001b[39mas\u001b[39;00m tr:\n\u001b[1;32m    678\u001b[0m         \u001b[39m# validate parameters\u001b[39;00m\n\u001b[0;32m--> 679\u001b[0m         substituted_model(\u001b[39m*\u001b[39;49mmodel_args, \u001b[39m*\u001b[39;49m\u001b[39m*\u001b[39;49mmodel_kwargs)\n\u001b[1;32m    680\u001b[0m         \u001b[39m# validate values\u001b[39;00m\n\u001b[1;32m    681\u001b[0m         \u001b[39mfor\u001b[39;00m site \u001b[39min\u001b[39;00m tr\u001b[39m.\u001b[39mvalues():\n",
      "File \u001b[0;32m/build/miniconda3/lib/python3.9/site-packages/numpyro/primitives.py:105\u001b[0m, in \u001b[0;36mMessenger.__call__\u001b[0;34m(self, *args, **kwargs)\u001b[0m\n\u001b[1;32m    103\u001b[0m     \u001b[39mreturn\u001b[39;00m \u001b[39mself\u001b[39m\n\u001b[1;32m    104\u001b[0m \u001b[39mwith\u001b[39;00m \u001b[39mself\u001b[39m:\n\u001b[0;32m--> 105\u001b[0m     \u001b[39mreturn\u001b[39;00m \u001b[39mself\u001b[39;49m\u001b[39m.\u001b[39;49mfn(\u001b[39m*\u001b[39;49margs, \u001b[39m*\u001b[39;49m\u001b[39m*\u001b[39;49mkwargs)\n",
      "File \u001b[0;32m/build/miniconda3/lib/python3.9/site-packages/numpyro/primitives.py:105\u001b[0m, in \u001b[0;36mMessenger.__call__\u001b[0;34m(self, *args, **kwargs)\u001b[0m\n\u001b[1;32m    103\u001b[0m     \u001b[39mreturn\u001b[39;00m \u001b[39mself\u001b[39m\n\u001b[1;32m    104\u001b[0m \u001b[39mwith\u001b[39;00m \u001b[39mself\u001b[39m:\n\u001b[0;32m--> 105\u001b[0m     \u001b[39mreturn\u001b[39;00m \u001b[39mself\u001b[39;49m\u001b[39m.\u001b[39;49mfn(\u001b[39m*\u001b[39;49margs, \u001b[39m*\u001b[39;49m\u001b[39m*\u001b[39;49mkwargs)\n",
      "File \u001b[0;32m/project/toolboxes/inference_toolbox/sampler.py:85\u001b[0m, in \u001b[0;36mSampler.sample_one\u001b[0;34m(self)\u001b[0m\n\u001b[1;32m     83\u001b[0m mu \u001b[39m=\u001b[39m \u001b[39mself\u001b[39m\u001b[39m.\u001b[39mmodel_func(current_params_sample, \u001b[39mself\u001b[39m\u001b[39m.\u001b[39mdata\u001b[39m.\u001b[39mx, \u001b[39mself\u001b[39m\u001b[39m.\u001b[39mdata\u001b[39m.\u001b[39my, \u001b[39mself\u001b[39m\u001b[39m.\u001b[39mdata\u001b[39m.\u001b[39mz)\n\u001b[1;32m     84\u001b[0m numpyro\u001b[39m.\u001b[39mdeterministic(\u001b[39m'\u001b[39m\u001b[39mmu\u001b[39m\u001b[39m'\u001b[39m, mu)\n\u001b[0;32m---> 85\u001b[0m observations_modelled \u001b[39m=\u001b[39m numpyro\u001b[39m.\u001b[39msample(\u001b[39m'\u001b[39m\u001b[39mobs\u001b[39m\u001b[39m'\u001b[39m, \u001b[39mself\u001b[39;49m\u001b[39m.\u001b[39;49mlikelihood_func(mu, current_params_sample), obs\u001b[39m=\u001b[39mjnp\u001b[39m.\u001b[39marray(\u001b[39mself\u001b[39m\u001b[39m.\u001b[39mdata\u001b[39m.\u001b[39mConcentration))\n",
      "File \u001b[0;32m/project/toolboxes/inference_toolbox/likelihood.py:34\u001b[0m, in \u001b[0;36mLikelihood.get_likelihood_function.<locals>.gaussian_likelihood\u001b[0;34m(mu, params)\u001b[0m\n\u001b[1;32m     33\u001b[0m \u001b[39mdef\u001b[39;00m \u001b[39mgaussian_likelihood\u001b[39m(mu, params):\n\u001b[0;32m---> 34\u001b[0m     \u001b[39mreturn\u001b[39;00m numpyro\u001b[39m.\u001b[39;49mdistributions\u001b[39m.\u001b[39;49mNormal(mu, params[\u001b[39m'\u001b[39;49m\u001b[39msigma\u001b[39;49m\u001b[39m'\u001b[39;49m])\n",
      "File \u001b[0;32m/build/miniconda3/lib/python3.9/site-packages/numpyro/distributions/distribution.py:99\u001b[0m, in \u001b[0;36mDistributionMeta.__call__\u001b[0;34m(cls, *args, **kwargs)\u001b[0m\n\u001b[1;32m     97\u001b[0m     \u001b[39mif\u001b[39;00m result \u001b[39mis\u001b[39;00m \u001b[39mnot\u001b[39;00m \u001b[39mNone\u001b[39;00m:\n\u001b[1;32m     98\u001b[0m         \u001b[39mreturn\u001b[39;00m result\n\u001b[0;32m---> 99\u001b[0m \u001b[39mreturn\u001b[39;00m \u001b[39msuper\u001b[39;49m()\u001b[39m.\u001b[39;49m\u001b[39m__call__\u001b[39;49m(\u001b[39m*\u001b[39;49margs, \u001b[39m*\u001b[39;49m\u001b[39m*\u001b[39;49mkwargs)\n",
      "File \u001b[0;32m/build/miniconda3/lib/python3.9/site-packages/numpyro/distributions/continuous.py:2003\u001b[0m, in \u001b[0;36mNormal.__init__\u001b[0;34m(self, loc, scale, validate_args)\u001b[0m\n\u001b[1;32m   2001\u001b[0m \u001b[39mself\u001b[39m\u001b[39m.\u001b[39mloc, \u001b[39mself\u001b[39m\u001b[39m.\u001b[39mscale \u001b[39m=\u001b[39m promote_shapes(loc, scale)\n\u001b[1;32m   2002\u001b[0m batch_shape \u001b[39m=\u001b[39m lax\u001b[39m.\u001b[39mbroadcast_shapes(jnp\u001b[39m.\u001b[39mshape(loc), jnp\u001b[39m.\u001b[39mshape(scale))\n\u001b[0;32m-> 2003\u001b[0m \u001b[39msuper\u001b[39;49m(Normal, \u001b[39mself\u001b[39;49m)\u001b[39m.\u001b[39;49m\u001b[39m__init__\u001b[39;49m(\n\u001b[1;32m   2004\u001b[0m     batch_shape\u001b[39m=\u001b[39;49mbatch_shape, validate_args\u001b[39m=\u001b[39;49mvalidate_args\n\u001b[1;32m   2005\u001b[0m )\n",
      "File \u001b[0;32m/build/miniconda3/lib/python3.9/site-packages/numpyro/distributions/distribution.py:175\u001b[0m, in \u001b[0;36mDistribution.__init__\u001b[0;34m(self, batch_shape, event_shape, validate_args)\u001b[0m\n\u001b[1;32m    173\u001b[0m         \u001b[39mif\u001b[39;00m not_jax_tracer(is_valid):\n\u001b[1;32m    174\u001b[0m             \u001b[39mif\u001b[39;00m \u001b[39mnot\u001b[39;00m np\u001b[39m.\u001b[39mall(is_valid):\n\u001b[0;32m--> 175\u001b[0m                 \u001b[39mraise\u001b[39;00m \u001b[39mValueError\u001b[39;00m(\n\u001b[1;32m    176\u001b[0m                     \u001b[39m\"\u001b[39m\u001b[39m{}\u001b[39;00m\u001b[39m distribution got invalid \u001b[39m\u001b[39m{}\u001b[39;00m\u001b[39m parameter.\u001b[39m\u001b[39m\"\u001b[39m\u001b[39m.\u001b[39mformat(\n\u001b[1;32m    177\u001b[0m                         \u001b[39mself\u001b[39m\u001b[39m.\u001b[39m\u001b[39m__class__\u001b[39m\u001b[39m.\u001b[39m\u001b[39m__name__\u001b[39m, param\n\u001b[1;32m    178\u001b[0m                     )\n\u001b[1;32m    179\u001b[0m                 )\n\u001b[1;32m    180\u001b[0m \u001b[39msuper\u001b[39m(Distribution, \u001b[39mself\u001b[39m)\u001b[39m.\u001b[39m\u001b[39m__init__\u001b[39m()\n",
      "\u001b[0;31mValueError\u001b[0m: Normal distribution got invalid loc parameter."
     ]
    }
   ],
   "source": [
    "sandbox = Sandbox(results_name=results_name, \n",
    "                  data_params=data_params,\n",
    "                  default_params=default_params)\n",
    "\n",
    "visualiser = sandbox.run()\n",
    "visualiser.get_summary()\n",
    "visualiser.get_traceplot()\n",
    "visualiser.get_autocorrelations()\n",
    "\n",
    "domain = Domain('cone_from_source_z_limited', resolution=80)\n",
    "domain.add_domain_param('r', 1000)\n",
    "domain.add_domain_param('theta', np.pi/8)\n",
    "domain.add_domain_param('source', [0,0,0])\n",
    "\n",
    "visualiser.visualise_results(domain = domain, name = 'small_scale_3D_plots', title='Log Concentration of Droplets', log_results=False)\n",
    "visualiser.animate(name = 'small_scale_3D_plots')"
   ]
  }
 ],
 "metadata": {
  "kernelspec": {
   "display_name": "base",
   "language": "python",
   "name": "python3"
  },
  "language_info": {
   "codemirror_mode": {
    "name": "ipython",
    "version": 3
   },
   "file_extension": ".py",
   "mimetype": "text/x-python",
   "name": "python",
   "nbconvert_exporter": "python",
   "pygments_lexer": "ipython3",
   "version": "3.9.16"
  },
  "orig_nbformat": 4
 },
 "nbformat": 4,
 "nbformat_minor": 2
}
