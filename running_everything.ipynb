{
 "cells": [
  {
   "attachments": {},
   "cell_type": "markdown",
   "metadata": {},
   "source": [
    "# Controller #"
   ]
  },
  {
   "attachments": {},
   "cell_type": "markdown",
   "metadata": {},
   "source": [
    "Import all neccessary packages"
   ]
  },
  {
   "cell_type": "code",
   "execution_count": 1,
   "metadata": {},
   "outputs": [
    {
     "name": "stderr",
     "output_type": "stream",
     "text": [
      "No GPU/TPU found, falling back to CPU. (Set TF_CPP_MIN_LOG_LEVEL=0 and rerun for more info.)\n"
     ]
    }
   ],
   "source": [
    "import os\n",
    "import pandas as pd\n",
    "import numpy as np\n",
    "\n",
    "from controllers.inference_controllers.sandbox import Sandbox\n",
    "from controllers.inference_controllers.generator import Generator\n",
    "from controllers.inference_controllers.optimiser import Optimiser\n",
    "\n",
    "from toolboxes.plotting_toolbox.domain import Domain\n",
    "from toolboxes.inference_toolbox.parameter import Parameter\n",
    "from toolboxes.inference_toolbox.model import Model\n",
    "from toolboxes.inference_toolbox.likelihood import Likelihood\n",
    "\n",
    "current_directory = os.getcwd()\n",
    "if current_directory != '/project/':\n",
    "    os.chdir('/project/')"
   ]
  },
  {
   "attachments": {},
   "cell_type": "markdown",
   "metadata": {},
   "source": [
    "Defining simulated data"
   ]
  },
  {
   "cell_type": "code",
   "execution_count": 2,
   "metadata": {},
   "outputs": [],
   "source": [
    "data_params = {\n",
    "    'data_type': 'simulated_data',\n",
    "    'model': {\n",
    "        'model_select': 'log_gpm_norm',\n",
    "        'model_params':{\n",
    "            'H': 10\n",
    "        },\n",
    "        'inference_params':{\n",
    "            'I_y': 0.1,\n",
    "            'I_z': 0.1,\n",
    "            'Q': 3e13,\n",
    "            'sigma': 1\n",
    "        }\n",
    "    },\n",
    "    'domain':{\n",
    "        'domain_select': 'cone_from_source_z_limited',\n",
    "        'domain_params': {\n",
    "            'r': 1000,\n",
    "            'theta': np.pi/8,\n",
    "            'source': [0,0,10]\n",
    "        },\n",
    "        'resolution': 20\n",
    "    },\n",
    "    'noise_dist': 'gaussian',\n",
    "    'noise_level': 1,\n",
    "    'output_header': 'Concentration',\n",
    "}\n",
    "\n",
    "prior_plots = [\n",
    "    {\n",
    "        'I_y': [0.0001, 1.7],\n",
    "        'references':{\n",
    "            'I_y' : [0.22, 1.6, 0.11, 0.08, 0.06, 0.04],\n",
    "            'labels': ['A','B','C','D','E','F'] \n",
    "        }\n",
    "    },\n",
    "    {\n",
    "        'I_z': [0.0001, 1.7],\n",
    "        'references':{\n",
    "            'I_z' : [0.2, 1.2, 0.08, 0.06, 0.03, 0.016],\n",
    "            'labels': ['A','B','C','D','E','F'] \n",
    "        }\n",
    "    },\n",
    "    {\n",
    "        'Q': [1e12, 5e13],\n",
    "        'references':{\n",
    "            'Q' : [2.82e13, 3.11e13, 2.89e13, 4.83e13],\n",
    "            'labels': ['250m','200m','750m','1000m'] \n",
    "        }\n",
    "    },\n",
    "    {\n",
    "        'I_y': [0.0001, 1.7],\n",
    "        'I_z': [0.0001, 1.7],\n",
    "        'references':{\n",
    "            'I_y' : [0.22, 1.6, 0.11, 0.08, 0.06, 0.04],\n",
    "            'I_z' : [0.2, 1.2, 0.08, 0.06, 0.03, 0.016],\n",
    "            'labels': ['A','B','C','D','E','F'] \n",
    "        }\n",
    "    }\n",
    "]\n",
    "\n",
    "results_name = 'simulated_data'"
   ]
  },
  {
   "cell_type": "markdown",
   "metadata": {},
   "source": [
    "Defining default parameters and prior plots for gamma priors of the simulated data"
   ]
  },
  {
   "cell_type": "code",
   "execution_count": 3,
   "metadata": {},
   "outputs": [],
   "source": [
    "default_params = {\n",
    "    'infered_params':pd.Series({\n",
    "        'model_params':pd.Series({\n",
    "            'I_y': Parameter('I_y', prior_select = 'gamma', default_value=0.1).add_prior_param('mu', 0.1).add_prior_param('sigma',0.1),\n",
    "            'I_z': Parameter('I_z', prior_select = 'gamma', default_value=0.1).add_prior_param('mu', 0.1).add_prior_param('sigma',0.1),\n",
    "            'Q': Parameter('Q', prior_select = 'gamma', default_value=3e13).add_prior_param('mu', 3e13).add_prior_param('sigma',1e13),\n",
    "        }),\n",
    "        'likelihood_params':pd.Series({\n",
    "            'sigma': Parameter('sigma', prior_select = 'gamma', default_value=1).add_prior_param('mu', 1).add_prior_param('sigma',1)\n",
    "        })\n",
    "    }),\n",
    "    'model':Model('log_gpm_norm').add_model_param('H',10),\n",
    "    'likelihood': Likelihood('gaussian'),\n",
    "    'sampler': {\n",
    "        'n_samples': 10000,\n",
    "        'n_chains': 3,\n",
    "        'thinning_rate': 1\n",
    "    }\n",
    "}"
   ]
  },
  {
   "attachments": {},
   "cell_type": "markdown",
   "metadata": {},
   "source": [
    "Running a general instance for gamma priors and simulated data"
   ]
  },
  {
   "cell_type": "code",
   "execution_count": 4,
   "metadata": {},
   "outputs": [
    {
     "name": "stdout",
     "output_type": "stream",
     "text": [
      "Loading Chain Samples...\n",
      "Loading Samples...\n",
      "Traceplot 1 already exists\n",
      "Traceplot 2 already exists\n",
      "Traceplot 3 already exists\n",
      "Autocorrelations plot 1 already exists\n",
      "Autocorrelations plot 2 already exists\n",
      "Autocorrelations plot 3 already exists\n",
      "Plots already exist!\n",
      "Animation already exist!\n"
     ]
    }
   ],
   "source": [
    "sandbox = Sandbox(results_name=results_name, \n",
    "                  data_params=data_params,\n",
    "                  default_params=default_params)\n",
    "\n",
    "visualiser = sandbox.run()\n",
    "visualiser.get_summary()\n",
    "visualiser.get_traceplot()\n",
    "visualiser.get_autocorrelations()\n",
    "\n",
    "domain = Domain('cone_from_source_z_limited', resolution=80)\n",
    "domain.add_domain_param('r', 1000)\n",
    "domain.add_domain_param('theta', np.pi/8)\n",
    "domain.add_domain_param('source', [0,0,10])\n",
    "\n",
    "visualiser.visualise_results(domain = domain, name = 'small_scale_3D_plots', title='Log Concentration of Droplets', log_results=False)\n",
    "visualiser.animate(name = 'small_scale_3D_plots')"
   ]
  },
  {
   "attachments": {},
   "cell_type": "markdown",
   "metadata": {},
   "source": [
    "Analysing the sensitivity of the gamma prior simulated data"
   ]
  },
  {
   "cell_type": "code",
   "execution_count": 5,
   "metadata": {},
   "outputs": [
    {
     "name": "stdout",
     "output_type": "stream",
     "text": [
      "Working on varying I_y_mu...\n",
      "Working on varying I_z_mu...\n",
      "Working on varying Q_mu...\n",
      "Working on varying sigma_mu...\n",
      "Generating instance 1...\n"
     ]
    },
    {
     "name": "stderr",
     "output_type": "stream",
     "text": [
      "sample: 100%|██████████| 12500/12500 [00:03<00:00, 3237.35it/s, 3 steps of size 4.74e-01. acc. prob=0.93] \n",
      "sample: 100%|██████████| 12500/12500 [00:02<00:00, 5521.14it/s, 7 steps of size 5.05e-01. acc. prob=0.93]\n",
      "sample: 100%|██████████| 12500/12500 [00:02<00:00, 5524.80it/s, 3 steps of size 5.43e-01. acc. prob=0.91]\n"
     ]
    },
    {
     "name": "stdout",
     "output_type": "stream",
     "text": [
      "Generating instance 2...\n"
     ]
    },
    {
     "name": "stderr",
     "output_type": "stream",
     "text": [
      "sample: 100%|██████████| 12500/12500 [00:03<00:00, 3221.36it/s, 3 steps of size 5.07e-01. acc. prob=0.92]\n",
      "sample: 100%|██████████| 12500/12500 [00:02<00:00, 5358.01it/s, 7 steps of size 4.61e-01. acc. prob=0.94] \n",
      "sample: 100%|██████████| 12500/12500 [00:02<00:00, 5574.58it/s, 3 steps of size 5.23e-01. acc. prob=0.92] \n"
     ]
    },
    {
     "name": "stdout",
     "output_type": "stream",
     "text": [
      "Generating instance 3...\n"
     ]
    },
    {
     "name": "stderr",
     "output_type": "stream",
     "text": [
      "sample: 100%|██████████| 12500/12500 [00:03<00:00, 3300.68it/s, 3 steps of size 5.23e-01. acc. prob=0.91] \n",
      "sample: 100%|██████████| 12500/12500 [00:02<00:00, 5530.67it/s, 7 steps of size 4.77e-01. acc. prob=0.93]\n",
      "sample: 100%|██████████| 12500/12500 [00:02<00:00, 5619.26it/s, 3 steps of size 5.34e-01. acc. prob=0.91]\n"
     ]
    },
    {
     "name": "stdout",
     "output_type": "stream",
     "text": [
      "Generating instance 4...\n"
     ]
    },
    {
     "name": "stderr",
     "output_type": "stream",
     "text": [
      "sample: 100%|██████████| 12500/12500 [00:03<00:00, 3291.65it/s, 3 steps of size 5.03e-01. acc. prob=0.92] \n",
      "sample: 100%|██████████| 12500/12500 [00:02<00:00, 5574.15it/s, 7 steps of size 5.36e-01. acc. prob=0.92]\n",
      "sample: 100%|██████████| 12500/12500 [00:02<00:00, 5631.47it/s, 3 steps of size 5.45e-01. acc. prob=0.91]\n"
     ]
    },
    {
     "name": "stdout",
     "output_type": "stream",
     "text": [
      "Generating instance 5...\n"
     ]
    },
    {
     "name": "stderr",
     "output_type": "stream",
     "text": [
      "sample: 100%|██████████| 12500/12500 [00:03<00:00, 3370.98it/s, 3 steps of size 5.46e-01. acc. prob=0.90]\n",
      "sample: 100%|██████████| 12500/12500 [00:02<00:00, 5563.10it/s, 7 steps of size 4.81e-01. acc. prob=0.93]\n",
      "sample: 100%|██████████| 12500/12500 [00:02<00:00, 5728.66it/s, 3 steps of size 5.73e-01. acc. prob=0.89]\n"
     ]
    },
    {
     "name": "stdout",
     "output_type": "stream",
     "text": [
      "Generating instance 6...\n"
     ]
    },
    {
     "name": "stderr",
     "output_type": "stream",
     "text": [
      "sample: 100%|██████████| 12500/12500 [00:03<00:00, 3321.74it/s, 3 steps of size 4.94e-01. acc. prob=0.92]\n",
      "sample: 100%|██████████| 12500/12500 [00:02<00:00, 5565.37it/s, 7 steps of size 4.52e-01. acc. prob=0.93] \n",
      "sample: 100%|██████████| 12500/12500 [00:02<00:00, 5673.94it/s, 3 steps of size 5.67e-01. acc. prob=0.90]\n"
     ]
    },
    {
     "name": "stdout",
     "output_type": "stream",
     "text": [
      "Generating instance 7...\n"
     ]
    },
    {
     "name": "stderr",
     "output_type": "stream",
     "text": [
      "sample: 100%|██████████| 12500/12500 [00:03<00:00, 3340.23it/s, 3 steps of size 5.47e-01. acc. prob=0.90]\n",
      "sample: 100%|██████████| 12500/12500 [00:02<00:00, 5558.40it/s, 7 steps of size 4.49e-01. acc. prob=0.94] \n",
      "sample: 100%|██████████| 12500/12500 [00:02<00:00, 5723.93it/s, 3 steps of size 5.26e-01. acc. prob=0.92]\n"
     ]
    },
    {
     "name": "stdout",
     "output_type": "stream",
     "text": [
      "Generating instance 8...\n"
     ]
    },
    {
     "name": "stderr",
     "output_type": "stream",
     "text": [
      "sample: 100%|██████████| 12500/12500 [00:03<00:00, 3439.80it/s, 7 steps of size 4.73e-01. acc. prob=0.93]\n",
      "sample: 100%|██████████| 12500/12500 [00:02<00:00, 5763.18it/s, 7 steps of size 4.95e-01. acc. prob=0.93]\n",
      "sample: 100%|██████████| 12500/12500 [00:02<00:00, 5746.85it/s, 3 steps of size 4.94e-01. acc. prob=0.93]\n"
     ]
    },
    {
     "name": "stdout",
     "output_type": "stream",
     "text": [
      "Generating instance 9...\n"
     ]
    },
    {
     "name": "stderr",
     "output_type": "stream",
     "text": [
      "sample: 100%|██████████| 12500/12500 [00:03<00:00, 3233.66it/s, 3 steps of size 5.06e-01. acc. prob=0.92]\n",
      "sample: 100%|██████████| 12500/12500 [00:02<00:00, 5534.22it/s, 7 steps of size 4.80e-01. acc. prob=0.93]\n",
      "sample: 100%|██████████| 12500/12500 [00:02<00:00, 5602.51it/s, 15 steps of size 5.34e-01. acc. prob=0.91]\n"
     ]
    },
    {
     "name": "stdout",
     "output_type": "stream",
     "text": [
      "Generating instance 10...\n"
     ]
    },
    {
     "name": "stderr",
     "output_type": "stream",
     "text": [
      "sample: 100%|██████████| 12500/12500 [00:03<00:00, 3328.86it/s, 7 steps of size 5.43e-01. acc. prob=0.91] \n",
      "sample: 100%|██████████| 12500/12500 [00:02<00:00, 5497.89it/s, 7 steps of size 4.85e-01. acc. prob=0.93]\n",
      "sample: 100%|██████████| 12500/12500 [00:02<00:00, 5506.90it/s, 3 steps of size 5.13e-01. acc. prob=0.92]\n"
     ]
    },
    {
     "name": "stdout",
     "output_type": "stream",
     "text": [
      "Generating instance 11...\n"
     ]
    },
    {
     "name": "stderr",
     "output_type": "stream",
     "text": [
      "sample: 100%|██████████| 12500/12500 [00:04<00:00, 2961.20it/s, 3 steps of size 4.94e-01. acc. prob=0.92]\n",
      "sample: 100%|██████████| 12500/12500 [00:02<00:00, 5406.52it/s, 7 steps of size 4.96e-01. acc. prob=0.93] \n",
      "sample: 100%|██████████| 12500/12500 [00:02<00:00, 5381.04it/s, 3 steps of size 4.97e-01. acc. prob=0.93]\n"
     ]
    },
    {
     "name": "stdout",
     "output_type": "stream",
     "text": [
      "Generating instance 12...\n"
     ]
    },
    {
     "name": "stderr",
     "output_type": "stream",
     "text": [
      "sample: 100%|██████████| 12500/12500 [00:04<00:00, 3099.61it/s, 3 steps of size 4.99e-01. acc. prob=0.92]\n",
      "sample: 100%|██████████| 12500/12500 [00:02<00:00, 5165.22it/s, 7 steps of size 4.56e-01. acc. prob=0.94] \n",
      "sample: 100%|██████████| 12500/12500 [00:02<00:00, 5419.47it/s, 3 steps of size 5.11e-01. acc. prob=0.91]\n"
     ]
    },
    {
     "name": "stdout",
     "output_type": "stream",
     "text": [
      "Generating instance 13...\n"
     ]
    },
    {
     "name": "stderr",
     "output_type": "stream",
     "text": [
      "sample: 100%|██████████| 12500/12500 [00:03<00:00, 3195.22it/s, 3 steps of size 5.31e-01. acc. prob=0.91] \n",
      "sample: 100%|██████████| 12500/12500 [00:02<00:00, 5354.38it/s, 7 steps of size 5.42e-01. acc. prob=0.91]\n",
      "sample: 100%|██████████| 12500/12500 [00:02<00:00, 5427.10it/s, 3 steps of size 5.59e-01. acc. prob=0.91]\n"
     ]
    },
    {
     "name": "stdout",
     "output_type": "stream",
     "text": [
      "Generating instance 14...\n"
     ]
    },
    {
     "name": "stderr",
     "output_type": "stream",
     "text": [
      "sample: 100%|██████████| 12500/12500 [00:04<00:00, 2881.52it/s, 7 steps of size 4.20e-01. acc. prob=0.94] \n",
      "sample: 100%|██████████| 12500/12500 [00:02<00:00, 5162.63it/s, 7 steps of size 4.47e-01. acc. prob=0.94] \n",
      "sample: 100%|██████████| 12500/12500 [00:02<00:00, 5330.85it/s, 7 steps of size 4.57e-01. acc. prob=0.93] \n"
     ]
    },
    {
     "name": "stdout",
     "output_type": "stream",
     "text": [
      "Generating instance 15...\n"
     ]
    },
    {
     "name": "stderr",
     "output_type": "stream",
     "text": [
      "sample: 100%|██████████| 12500/12500 [00:03<00:00, 3243.78it/s, 3 steps of size 5.09e-01. acc. prob=0.92] \n",
      "sample: 100%|██████████| 12500/12500 [00:02<00:00, 5507.20it/s, 3 steps of size 5.48e-01. acc. prob=0.90]\n",
      "sample: 100%|██████████| 12500/12500 [00:02<00:00, 5493.59it/s, 3 steps of size 5.08e-01. acc. prob=0.92]\n"
     ]
    },
    {
     "name": "stdout",
     "output_type": "stream",
     "text": [
      "Generating instance 16...\n"
     ]
    },
    {
     "name": "stderr",
     "output_type": "stream",
     "text": [
      "sample: 100%|██████████| 12500/12500 [00:03<00:00, 3250.76it/s, 7 steps of size 5.74e-01. acc. prob=0.90]\n",
      "sample: 100%|██████████| 12500/12500 [00:02<00:00, 5400.82it/s, 7 steps of size 4.92e-01. acc. prob=0.92]\n",
      "sample: 100%|██████████| 12500/12500 [00:02<00:00, 5587.32it/s, 3 steps of size 5.45e-01. acc. prob=0.91] \n"
     ]
    },
    {
     "name": "stdout",
     "output_type": "stream",
     "text": [
      "Generating instance 17...\n"
     ]
    },
    {
     "name": "stderr",
     "output_type": "stream",
     "text": [
      "sample: 100%|██████████| 12500/12500 [00:03<00:00, 3270.12it/s, 3 steps of size 4.84e-01. acc. prob=0.93]\n",
      "sample: 100%|██████████| 12500/12500 [00:02<00:00, 5401.81it/s, 3 steps of size 4.82e-01. acc. prob=0.92]\n",
      "sample: 100%|██████████| 12500/12500 [00:02<00:00, 5449.45it/s, 15 steps of size 5.22e-01. acc. prob=0.92]\n"
     ]
    },
    {
     "name": "stdout",
     "output_type": "stream",
     "text": [
      "Generating instance 18...\n"
     ]
    },
    {
     "name": "stderr",
     "output_type": "stream",
     "text": [
      "sample: 100%|██████████| 12500/12500 [00:04<00:00, 3002.37it/s, 3 steps of size 5.18e-01. acc. prob=0.92]\n",
      "sample: 100%|██████████| 12500/12500 [00:02<00:00, 5165.70it/s, 7 steps of size 4.40e-01. acc. prob=0.94]\n",
      "sample: 100%|██████████| 12500/12500 [00:02<00:00, 5336.91it/s, 7 steps of size 4.93e-01. acc. prob=0.93] \n"
     ]
    },
    {
     "name": "stdout",
     "output_type": "stream",
     "text": [
      "Generating instance 19...\n"
     ]
    },
    {
     "name": "stderr",
     "output_type": "stream",
     "text": [
      "sample: 100%|██████████| 12500/12500 [00:03<00:00, 3201.35it/s, 3 steps of size 5.03e-01. acc. prob=0.92] \n",
      "sample: 100%|██████████| 12500/12500 [00:02<00:00, 5391.09it/s, 7 steps of size 4.96e-01. acc. prob=0.93]\n",
      "sample: 100%|██████████| 12500/12500 [00:02<00:00, 5413.75it/s, 3 steps of size 5.06e-01. acc. prob=0.92]\n"
     ]
    },
    {
     "name": "stdout",
     "output_type": "stream",
     "text": [
      "Generating instance 20...\n"
     ]
    },
    {
     "name": "stderr",
     "output_type": "stream",
     "text": [
      "sample: 100%|██████████| 12500/12500 [00:03<00:00, 3228.31it/s, 3 steps of size 5.34e-01. acc. prob=0.91]\n",
      "sample: 100%|██████████| 12500/12500 [00:02<00:00, 5374.47it/s, 7 steps of size 4.96e-01. acc. prob=0.92]\n",
      "sample: 100%|██████████| 12500/12500 [00:02<00:00, 5272.71it/s, 3 steps of size 5.26e-01. acc. prob=0.92]\n"
     ]
    },
    {
     "name": "stdout",
     "output_type": "stream",
     "text": [
      "Generating instance 21...\n"
     ]
    },
    {
     "name": "stderr",
     "output_type": "stream",
     "text": [
      "sample: 100%|██████████| 12500/12500 [00:04<00:00, 3106.95it/s, 3 steps of size 4.57e-01. acc. prob=0.94] \n",
      "sample: 100%|██████████| 12500/12500 [00:02<00:00, 4863.42it/s, 7 steps of size 5.17e-01. acc. prob=0.92]\n",
      "sample: 100%|██████████| 12500/12500 [00:02<00:00, 5274.51it/s, 3 steps of size 5.25e-01. acc. prob=0.91]\n"
     ]
    },
    {
     "name": "stdout",
     "output_type": "stream",
     "text": [
      "Generating instance 22...\n"
     ]
    },
    {
     "name": "stderr",
     "output_type": "stream",
     "text": [
      "sample: 100%|██████████| 12500/12500 [00:03<00:00, 3133.55it/s, 3 steps of size 4.60e-01. acc. prob=0.93]\n",
      "sample: 100%|██████████| 12500/12500 [00:02<00:00, 5457.75it/s, 7 steps of size 4.95e-01. acc. prob=0.92]\n",
      "sample: 100%|██████████| 12500/12500 [00:02<00:00, 5502.60it/s, 3 steps of size 4.76e-01. acc. prob=0.93]\n"
     ]
    },
    {
     "name": "stdout",
     "output_type": "stream",
     "text": [
      "Generating instance 23...\n"
     ]
    },
    {
     "name": "stderr",
     "output_type": "stream",
     "text": [
      "sample: 100%|██████████| 12500/12500 [00:03<00:00, 3233.37it/s, 3 steps of size 4.77e-01. acc. prob=0.93]\n",
      "sample: 100%|██████████| 12500/12500 [00:02<00:00, 5545.16it/s, 7 steps of size 5.13e-01. acc. prob=0.92] \n",
      "sample: 100%|██████████| 12500/12500 [00:02<00:00, 5628.64it/s, 7 steps of size 5.84e-01. acc. prob=0.89]\n"
     ]
    },
    {
     "name": "stdout",
     "output_type": "stream",
     "text": [
      "Generating instance 24...\n"
     ]
    },
    {
     "name": "stderr",
     "output_type": "stream",
     "text": [
      "sample: 100%|██████████| 12500/12500 [00:03<00:00, 3307.97it/s, 3 steps of size 4.94e-01. acc. prob=0.93]\n",
      "sample: 100%|██████████| 12500/12500 [00:02<00:00, 5470.58it/s, 7 steps of size 4.64e-01. acc. prob=0.94] \n",
      "sample: 100%|██████████| 12500/12500 [00:02<00:00, 5521.18it/s, 3 steps of size 5.45e-01. acc. prob=0.91]\n"
     ]
    },
    {
     "name": "stdout",
     "output_type": "stream",
     "text": [
      "Generating instance 25...\n"
     ]
    },
    {
     "name": "stderr",
     "output_type": "stream",
     "text": [
      "sample: 100%|██████████| 12500/12500 [00:03<00:00, 3284.93it/s, 7 steps of size 5.13e-01. acc. prob=0.92]\n",
      "sample: 100%|██████████| 12500/12500 [00:02<00:00, 5496.86it/s, 3 steps of size 4.81e-01. acc. prob=0.93]\n",
      "sample: 100%|██████████| 12500/12500 [00:02<00:00, 5507.28it/s, 3 steps of size 5.42e-01. acc. prob=0.91] \n"
     ]
    },
    {
     "name": "stdout",
     "output_type": "stream",
     "text": [
      "Generating instance 26...\n"
     ]
    },
    {
     "name": "stderr",
     "output_type": "stream",
     "text": [
      "sample: 100%|██████████| 12500/12500 [00:03<00:00, 3249.50it/s, 3 steps of size 4.43e-01. acc. prob=0.94] \n",
      "sample: 100%|██████████| 12500/12500 [00:02<00:00, 5440.69it/s, 7 steps of size 4.96e-01. acc. prob=0.93]\n",
      "sample: 100%|██████████| 12500/12500 [00:02<00:00, 5465.60it/s, 7 steps of size 5.29e-01. acc. prob=0.92] \n"
     ]
    },
    {
     "name": "stdout",
     "output_type": "stream",
     "text": [
      "Generating instance 27...\n"
     ]
    },
    {
     "name": "stderr",
     "output_type": "stream",
     "text": [
      "sample: 100%|██████████| 12500/12500 [00:03<00:00, 3248.23it/s, 3 steps of size 4.98e-01. acc. prob=0.92]\n",
      "sample: 100%|██████████| 12500/12500 [00:02<00:00, 5417.96it/s, 7 steps of size 5.40e-01. acc. prob=0.91] \n",
      "sample: 100%|██████████| 12500/12500 [00:02<00:00, 5456.73it/s, 7 steps of size 5.97e-01. acc. prob=0.89]\n"
     ]
    },
    {
     "name": "stdout",
     "output_type": "stream",
     "text": [
      "Generating instance 28...\n"
     ]
    },
    {
     "name": "stderr",
     "output_type": "stream",
     "text": [
      "sample: 100%|██████████| 12500/12500 [00:03<00:00, 3285.08it/s, 3 steps of size 5.27e-01. acc. prob=0.91]\n",
      "sample: 100%|██████████| 12500/12500 [00:02<00:00, 5401.08it/s, 7 steps of size 5.26e-01. acc. prob=0.92] \n",
      "sample: 100%|██████████| 12500/12500 [00:02<00:00, 5494.11it/s, 3 steps of size 5.54e-01. acc. prob=0.91]\n"
     ]
    },
    {
     "name": "stdout",
     "output_type": "stream",
     "text": [
      "Generating instance 29...\n"
     ]
    },
    {
     "name": "stderr",
     "output_type": "stream",
     "text": [
      "sample: 100%|██████████| 12500/12500 [00:03<00:00, 3283.50it/s, 3 steps of size 5.18e-01. acc. prob=0.92]\n",
      "sample: 100%|██████████| 12500/12500 [00:02<00:00, 5394.92it/s, 7 steps of size 5.07e-01. acc. prob=0.92]\n",
      "sample: 100%|██████████| 12500/12500 [00:02<00:00, 5356.47it/s, 3 steps of size 5.62e-01. acc. prob=0.91]\n"
     ]
    },
    {
     "name": "stdout",
     "output_type": "stream",
     "text": [
      "Generating instance 30...\n"
     ]
    },
    {
     "name": "stderr",
     "output_type": "stream",
     "text": [
      "sample: 100%|██████████| 12500/12500 [00:04<00:00, 3104.36it/s, 7 steps of size 4.68e-01. acc. prob=0.93] \n",
      "sample: 100%|██████████| 12500/12500 [00:02<00:00, 5372.20it/s, 7 steps of size 5.04e-01. acc. prob=0.92] \n",
      "sample: 100%|██████████| 12500/12500 [00:02<00:00, 5403.70it/s, 3 steps of size 5.20e-01. acc. prob=0.92]\n"
     ]
    },
    {
     "name": "stdout",
     "output_type": "stream",
     "text": [
      "Generating instance 31...\n"
     ]
    },
    {
     "name": "stderr",
     "output_type": "stream",
     "text": [
      "sample: 100%|██████████| 12500/12500 [00:03<00:00, 3192.81it/s, 3 steps of size 5.04e-01. acc. prob=0.92]\n",
      "sample: 100%|██████████| 12500/12500 [00:02<00:00, 5329.93it/s, 7 steps of size 5.01e-01. acc. prob=0.92]\n",
      "sample: 100%|██████████| 12500/12500 [00:02<00:00, 5446.36it/s, 3 steps of size 5.13e-01. acc. prob=0.92]\n"
     ]
    },
    {
     "name": "stdout",
     "output_type": "stream",
     "text": [
      "Generating instance 32...\n"
     ]
    },
    {
     "name": "stderr",
     "output_type": "stream",
     "text": [
      "sample: 100%|██████████| 12500/12500 [00:03<00:00, 3205.17it/s, 3 steps of size 4.39e-01. acc. prob=0.94] \n",
      "sample: 100%|██████████| 12500/12500 [00:02<00:00, 5341.17it/s, 7 steps of size 5.28e-01. acc. prob=0.91] \n",
      "sample: 100%|██████████| 12500/12500 [00:02<00:00, 5367.37it/s, 3 steps of size 5.20e-01. acc. prob=0.92]\n"
     ]
    },
    {
     "name": "stdout",
     "output_type": "stream",
     "text": [
      "Generating instance 33...\n"
     ]
    },
    {
     "name": "stderr",
     "output_type": "stream",
     "text": [
      "sample: 100%|██████████| 12500/12500 [00:03<00:00, 3233.28it/s, 3 steps of size 5.47e-01. acc. prob=0.91]\n",
      "sample: 100%|██████████| 12500/12500 [00:02<00:00, 5393.08it/s, 7 steps of size 4.89e-01. acc. prob=0.93]\n",
      "sample: 100%|██████████| 12500/12500 [00:02<00:00, 5536.76it/s, 3 steps of size 5.22e-01. acc. prob=0.92]\n"
     ]
    },
    {
     "name": "stdout",
     "output_type": "stream",
     "text": [
      "Generating instance 34...\n"
     ]
    },
    {
     "name": "stderr",
     "output_type": "stream",
     "text": [
      "sample: 100%|██████████| 12500/12500 [00:03<00:00, 3157.18it/s, 7 steps of size 4.75e-01. acc. prob=0.93] \n",
      "sample: 100%|██████████| 12500/12500 [00:02<00:00, 5434.73it/s, 7 steps of size 4.97e-01. acc. prob=0.93] \n",
      "sample: 100%|██████████| 12500/12500 [00:02<00:00, 5327.67it/s, 3 steps of size 5.52e-01. acc. prob=0.90]\n"
     ]
    },
    {
     "name": "stdout",
     "output_type": "stream",
     "text": [
      "Generating instance 35...\n"
     ]
    },
    {
     "name": "stderr",
     "output_type": "stream",
     "text": [
      "sample: 100%|██████████| 12500/12500 [00:04<00:00, 3018.33it/s, 3 steps of size 4.84e-01. acc. prob=0.93]\n",
      "sample: 100%|██████████| 12500/12500 [00:02<00:00, 5309.12it/s, 7 steps of size 4.65e-01. acc. prob=0.93] \n",
      "sample: 100%|██████████| 12500/12500 [00:02<00:00, 5420.72it/s, 3 steps of size 5.25e-01. acc. prob=0.92] \n"
     ]
    },
    {
     "name": "stdout",
     "output_type": "stream",
     "text": [
      "Generating instance 36...\n"
     ]
    },
    {
     "name": "stderr",
     "output_type": "stream",
     "text": [
      "sample: 100%|██████████| 12500/12500 [00:03<00:00, 3190.40it/s, 3 steps of size 5.15e-01. acc. prob=0.92]\n",
      "sample: 100%|██████████| 12500/12500 [00:02<00:00, 5372.48it/s, 7 steps of size 5.10e-01. acc. prob=0.92]\n",
      "sample: 100%|██████████| 12500/12500 [00:02<00:00, 5471.20it/s, 3 steps of size 5.10e-01. acc. prob=0.92]\n"
     ]
    },
    {
     "name": "stdout",
     "output_type": "stream",
     "text": [
      "Generating instance 37...\n"
     ]
    },
    {
     "name": "stderr",
     "output_type": "stream",
     "text": [
      "sample: 100%|██████████| 12500/12500 [00:03<00:00, 3249.68it/s, 3 steps of size 4.56e-01. acc. prob=0.94]\n",
      "sample: 100%|██████████| 12500/12500 [00:02<00:00, 5355.82it/s, 7 steps of size 4.82e-01. acc. prob=0.93]\n",
      "sample: 100%|██████████| 12500/12500 [00:02<00:00, 5305.71it/s, 3 steps of size 5.35e-01. acc. prob=0.92]\n"
     ]
    },
    {
     "name": "stdout",
     "output_type": "stream",
     "text": [
      "Generating instance 38...\n"
     ]
    },
    {
     "name": "stderr",
     "output_type": "stream",
     "text": [
      "sample: 100%|██████████| 12500/12500 [00:03<00:00, 3191.78it/s, 3 steps of size 4.59e-01. acc. prob=0.94]\n",
      "sample: 100%|██████████| 12500/12500 [00:02<00:00, 5554.50it/s, 3 steps of size 5.66e-01. acc. prob=0.90]\n",
      "sample: 100%|██████████| 12500/12500 [00:02<00:00, 5480.15it/s, 7 steps of size 5.30e-01. acc. prob=0.92]\n"
     ]
    },
    {
     "name": "stdout",
     "output_type": "stream",
     "text": [
      "Generating instance 39...\n"
     ]
    },
    {
     "name": "stderr",
     "output_type": "stream",
     "text": [
      "sample: 100%|██████████| 12500/12500 [00:03<00:00, 3154.91it/s, 3 steps of size 5.05e-01. acc. prob=0.92] \n",
      "sample: 100%|██████████| 12500/12500 [00:02<00:00, 5379.92it/s, 7 steps of size 4.81e-01. acc. prob=0.93] \n",
      "sample: 100%|██████████| 12500/12500 [00:02<00:00, 5419.04it/s, 7 steps of size 5.29e-01. acc. prob=0.91]\n"
     ]
    },
    {
     "name": "stdout",
     "output_type": "stream",
     "text": [
      "Generating instance 40...\n"
     ]
    },
    {
     "name": "stderr",
     "output_type": "stream",
     "text": [
      "sample: 100%|██████████| 12500/12500 [00:03<00:00, 3202.97it/s, 3 steps of size 4.77e-01. acc. prob=0.93]\n",
      "sample: 100%|██████████| 12500/12500 [00:02<00:00, 5316.23it/s, 7 steps of size 4.53e-01. acc. prob=0.94] \n",
      "sample: 100%|██████████| 12500/12500 [00:02<00:00, 5345.34it/s, 15 steps of size 5.30e-01. acc. prob=0.91]\n"
     ]
    },
    {
     "name": "stdout",
     "output_type": "stream",
     "text": [
      "Generating instance 41...\n"
     ]
    },
    {
     "name": "stderr",
     "output_type": "stream",
     "text": [
      "sample: 100%|██████████| 12500/12500 [00:03<00:00, 3198.65it/s, 7 steps of size 4.77e-01. acc. prob=0.93]\n",
      "sample: 100%|██████████| 12500/12500 [00:02<00:00, 5273.41it/s, 7 steps of size 4.73e-01. acc. prob=0.93]\n",
      "sample: 100%|██████████| 12500/12500 [00:02<00:00, 5345.64it/s, 3 steps of size 4.80e-01. acc. prob=0.93] \n"
     ]
    },
    {
     "name": "stdout",
     "output_type": "stream",
     "text": [
      "Generating instance 42...\n"
     ]
    },
    {
     "name": "stderr",
     "output_type": "stream",
     "text": [
      "sample: 100%|██████████| 12500/12500 [00:03<00:00, 3249.65it/s, 3 steps of size 4.55e-01. acc. prob=0.94] \n",
      "sample: 100%|██████████| 12500/12500 [00:02<00:00, 5442.79it/s, 7 steps of size 5.02e-01. acc. prob=0.93]\n",
      "sample: 100%|██████████| 12500/12500 [00:02<00:00, 5468.98it/s, 3 steps of size 5.06e-01. acc. prob=0.93]\n"
     ]
    },
    {
     "name": "stdout",
     "output_type": "stream",
     "text": [
      "Generating instance 43...\n"
     ]
    },
    {
     "name": "stderr",
     "output_type": "stream",
     "text": [
      "sample: 100%|██████████| 12500/12500 [00:03<00:00, 3212.40it/s, 3 steps of size 5.03e-01. acc. prob=0.92] \n",
      "sample: 100%|██████████| 12500/12500 [00:02<00:00, 5388.67it/s, 3 steps of size 4.95e-01. acc. prob=0.93]\n",
      "sample: 100%|██████████| 12500/12500 [00:02<00:00, 5349.06it/s, 3 steps of size 5.83e-01. acc. prob=0.90]\n"
     ]
    },
    {
     "name": "stdout",
     "output_type": "stream",
     "text": [
      "Generating instance 44...\n"
     ]
    },
    {
     "name": "stderr",
     "output_type": "stream",
     "text": [
      "sample: 100%|██████████| 12500/12500 [00:03<00:00, 3135.70it/s, 7 steps of size 4.65e-01. acc. prob=0.94]\n",
      "sample: 100%|██████████| 12500/12500 [00:02<00:00, 5352.65it/s, 7 steps of size 4.94e-01. acc. prob=0.93] \n",
      "sample: 100%|██████████| 12500/12500 [00:02<00:00, 5408.96it/s, 3 steps of size 5.30e-01. acc. prob=0.92] \n"
     ]
    },
    {
     "name": "stdout",
     "output_type": "stream",
     "text": [
      "Generating instance 45...\n"
     ]
    },
    {
     "name": "stderr",
     "output_type": "stream",
     "text": [
      "sample: 100%|██████████| 12500/12500 [00:03<00:00, 3209.28it/s, 3 steps of size 5.38e-01. acc. prob=0.91]\n",
      "sample: 100%|██████████| 12500/12500 [00:02<00:00, 5460.42it/s, 3 steps of size 6.01e-01. acc. prob=0.88]\n",
      "sample: 100%|██████████| 12500/12500 [00:02<00:00, 5420.60it/s, 3 steps of size 5.25e-01. acc. prob=0.92]\n"
     ]
    },
    {
     "name": "stdout",
     "output_type": "stream",
     "text": [
      "Generating instance 46...\n"
     ]
    },
    {
     "name": "stderr",
     "output_type": "stream",
     "text": [
      "sample: 100%|██████████| 12500/12500 [00:03<00:00, 3237.21it/s, 3 steps of size 4.94e-01. acc. prob=0.93]\n",
      "sample: 100%|██████████| 12500/12500 [00:02<00:00, 5462.61it/s, 3 steps of size 4.85e-01. acc. prob=0.93]\n",
      "sample: 100%|██████████| 12500/12500 [00:02<00:00, 5505.17it/s, 3 steps of size 5.30e-01. acc. prob=0.91]\n"
     ]
    },
    {
     "name": "stdout",
     "output_type": "stream",
     "text": [
      "Generating instance 47...\n"
     ]
    },
    {
     "name": "stderr",
     "output_type": "stream",
     "text": [
      "sample: 100%|██████████| 12500/12500 [00:03<00:00, 3251.99it/s, 3 steps of size 5.27e-01. acc. prob=0.92]\n",
      "sample: 100%|██████████| 12500/12500 [00:02<00:00, 5413.35it/s, 7 steps of size 4.82e-01. acc. prob=0.93] \n",
      "sample: 100%|██████████| 12500/12500 [00:02<00:00, 5457.97it/s, 15 steps of size 5.35e-01. acc. prob=0.92]\n"
     ]
    },
    {
     "name": "stdout",
     "output_type": "stream",
     "text": [
      "Generating instance 48...\n"
     ]
    },
    {
     "name": "stderr",
     "output_type": "stream",
     "text": [
      "sample: 100%|██████████| 12500/12500 [00:03<00:00, 3223.99it/s, 3 steps of size 4.37e-01. acc. prob=0.94] \n",
      "sample: 100%|██████████| 12500/12500 [00:02<00:00, 5329.59it/s, 7 steps of size 4.62e-01. acc. prob=0.93]\n",
      "sample: 100%|██████████| 12500/12500 [00:02<00:00, 5288.72it/s, 15 steps of size 4.48e-01. acc. prob=0.94]\n"
     ]
    },
    {
     "name": "stdout",
     "output_type": "stream",
     "text": [
      "Generating instance 49...\n"
     ]
    },
    {
     "name": "stderr",
     "output_type": "stream",
     "text": [
      "sample: 100%|██████████| 12500/12500 [00:03<00:00, 3130.26it/s, 3 steps of size 4.32e-01. acc. prob=0.94] \n",
      "sample: 100%|██████████| 12500/12500 [00:02<00:00, 5491.17it/s, 3 steps of size 5.39e-01. acc. prob=0.90]\n",
      "sample: 100%|██████████| 12500/12500 [00:02<00:00, 5464.47it/s, 3 steps of size 5.08e-01. acc. prob=0.93]\n"
     ]
    },
    {
     "name": "stdout",
     "output_type": "stream",
     "text": [
      "Generating instance 50...\n"
     ]
    },
    {
     "name": "stderr",
     "output_type": "stream",
     "text": [
      "sample: 100%|██████████| 12500/12500 [00:03<00:00, 3199.32it/s, 3 steps of size 4.36e-01. acc. prob=0.94]\n",
      "sample: 100%|██████████| 12500/12500 [00:02<00:00, 5427.46it/s, 7 steps of size 5.16e-01. acc. prob=0.91]\n",
      "sample: 100%|██████████| 12500/12500 [00:02<00:00, 5440.16it/s, 3 steps of size 5.14e-01. acc. prob=0.92]\n"
     ]
    },
    {
     "name": "stdout",
     "output_type": "stream",
     "text": [
      "Generating instance 51...\n"
     ]
    },
    {
     "name": "stderr",
     "output_type": "stream",
     "text": [
      "sample: 100%|██████████| 12500/12500 [00:03<00:00, 3248.61it/s, 3 steps of size 5.09e-01. acc. prob=0.92]\n",
      "sample: 100%|██████████| 12500/12500 [00:02<00:00, 5397.31it/s, 7 steps of size 4.67e-01. acc. prob=0.93]\n",
      "sample: 100%|██████████| 12500/12500 [00:02<00:00, 5420.22it/s, 7 steps of size 5.83e-01. acc. prob=0.89]\n"
     ]
    },
    {
     "name": "stdout",
     "output_type": "stream",
     "text": [
      "Generating instance 52...\n"
     ]
    },
    {
     "name": "stderr",
     "output_type": "stream",
     "text": [
      "sample: 100%|██████████| 12500/12500 [00:04<00:00, 2577.90it/s, 3 steps of size 5.18e-01. acc. prob=0.92]\n",
      "sample: 100%|██████████| 12500/12500 [00:02<00:00, 5249.56it/s, 7 steps of size 4.75e-01. acc. prob=0.93] \n",
      "sample: 100%|██████████| 12500/12500 [00:02<00:00, 5308.19it/s, 3 steps of size 5.32e-01. acc. prob=0.91]\n"
     ]
    },
    {
     "name": "stdout",
     "output_type": "stream",
     "text": [
      "Generating instance 53...\n"
     ]
    },
    {
     "name": "stderr",
     "output_type": "stream",
     "text": [
      "sample: 100%|██████████| 12500/12500 [00:03<00:00, 3135.13it/s, 7 steps of size 4.90e-01. acc. prob=0.93] \n",
      "sample: 100%|██████████| 12500/12500 [00:02<00:00, 5290.78it/s, 7 steps of size 4.61e-01. acc. prob=0.93]\n",
      "sample: 100%|██████████| 12500/12500 [00:02<00:00, 5358.05it/s, 3 steps of size 5.12e-01. acc. prob=0.92]\n"
     ]
    },
    {
     "name": "stdout",
     "output_type": "stream",
     "text": [
      "Generating instance 54...\n"
     ]
    },
    {
     "name": "stderr",
     "output_type": "stream",
     "text": [
      "sample: 100%|██████████| 12500/12500 [00:03<00:00, 3161.88it/s, 3 steps of size 5.01e-01. acc. prob=0.92]\n",
      "sample: 100%|██████████| 12500/12500 [00:02<00:00, 5413.40it/s, 7 steps of size 5.45e-01. acc. prob=0.90] \n",
      "sample: 100%|██████████| 12500/12500 [00:02<00:00, 5437.10it/s, 3 steps of size 4.90e-01. acc. prob=0.93] \n"
     ]
    },
    {
     "name": "stdout",
     "output_type": "stream",
     "text": [
      "Generating instance 55...\n"
     ]
    },
    {
     "name": "stderr",
     "output_type": "stream",
     "text": [
      "sample: 100%|██████████| 12500/12500 [00:03<00:00, 3175.46it/s, 3 steps of size 4.84e-01. acc. prob=0.93]\n",
      "sample: 100%|██████████| 12500/12500 [00:02<00:00, 5413.31it/s, 3 steps of size 5.49e-01. acc. prob=0.90]\n",
      "sample: 100%|██████████| 12500/12500 [00:02<00:00, 5359.14it/s, 3 steps of size 5.05e-01. acc. prob=0.92]\n"
     ]
    },
    {
     "name": "stdout",
     "output_type": "stream",
     "text": [
      "Generating instance 56...\n"
     ]
    },
    {
     "name": "stderr",
     "output_type": "stream",
     "text": [
      "sample: 100%|██████████| 12500/12500 [00:03<00:00, 3171.65it/s, 3 steps of size 4.97e-01. acc. prob=0.92] \n",
      "sample: 100%|██████████| 12500/12500 [00:02<00:00, 5419.47it/s, 3 steps of size 5.74e-01. acc. prob=0.90]\n",
      "sample: 100%|██████████| 12500/12500 [00:02<00:00, 5360.75it/s, 15 steps of size 5.08e-01. acc. prob=0.92]\n"
     ]
    },
    {
     "name": "stdout",
     "output_type": "stream",
     "text": [
      "Generating instance 57...\n"
     ]
    },
    {
     "name": "stderr",
     "output_type": "stream",
     "text": [
      "sample: 100%|██████████| 12500/12500 [00:03<00:00, 3143.13it/s, 3 steps of size 5.27e-01. acc. prob=0.92]\n",
      "sample: 100%|██████████| 12500/12500 [00:02<00:00, 5422.25it/s, 7 steps of size 5.37e-01. acc. prob=0.91]\n",
      "sample: 100%|██████████| 12500/12500 [00:02<00:00, 5341.13it/s, 7 steps of size 4.82e-01. acc. prob=0.93] \n"
     ]
    },
    {
     "name": "stdout",
     "output_type": "stream",
     "text": [
      "Generating instance 58...\n"
     ]
    },
    {
     "name": "stderr",
     "output_type": "stream",
     "text": [
      "sample: 100%|██████████| 12500/12500 [00:04<00:00, 3048.80it/s, 3 steps of size 4.56e-01. acc. prob=0.94] \n",
      "sample: 100%|██████████| 12500/12500 [00:02<00:00, 5225.18it/s, 7 steps of size 5.32e-01. acc. prob=0.91]\n",
      "sample: 100%|██████████| 12500/12500 [00:02<00:00, 5307.87it/s, 3 steps of size 5.50e-01. acc. prob=0.91] \n"
     ]
    },
    {
     "name": "stdout",
     "output_type": "stream",
     "text": [
      "Generating instance 59...\n"
     ]
    },
    {
     "name": "stderr",
     "output_type": "stream",
     "text": [
      "sample: 100%|██████████| 12500/12500 [00:03<00:00, 3145.89it/s, 3 steps of size 4.48e-01. acc. prob=0.94]\n",
      "sample: 100%|██████████| 12500/12500 [00:02<00:00, 5242.94it/s, 7 steps of size 5.08e-01. acc. prob=0.92]\n",
      "sample: 100%|██████████| 12500/12500 [00:02<00:00, 5237.79it/s, 3 steps of size 5.08e-01. acc. prob=0.92] \n"
     ]
    },
    {
     "name": "stdout",
     "output_type": "stream",
     "text": [
      "Generating instance 60...\n"
     ]
    },
    {
     "name": "stderr",
     "output_type": "stream",
     "text": [
      "sample: 100%|██████████| 12500/12500 [00:04<00:00, 3088.85it/s, 3 steps of size 5.08e-01. acc. prob=0.92]\n",
      "sample: 100%|██████████| 12500/12500 [00:02<00:00, 5106.98it/s, 7 steps of size 5.40e-01. acc. prob=0.91] \n",
      "sample: 100%|██████████| 12500/12500 [00:02<00:00, 5024.81it/s, 3 steps of size 4.94e-01. acc. prob=0.93]\n"
     ]
    },
    {
     "name": "stdout",
     "output_type": "stream",
     "text": [
      "Generating instance 61...\n"
     ]
    },
    {
     "name": "stderr",
     "output_type": "stream",
     "text": [
      "sample: 100%|██████████| 12500/12500 [00:04<00:00, 2846.13it/s, 7 steps of size 4.64e-01. acc. prob=0.94] \n",
      "sample: 100%|██████████| 12500/12500 [00:02<00:00, 5112.20it/s, 7 steps of size 5.21e-01. acc. prob=0.92]\n",
      "sample: 100%|██████████| 12500/12500 [00:02<00:00, 4944.43it/s, 7 steps of size 4.81e-01. acc. prob=0.93]\n"
     ]
    },
    {
     "name": "stdout",
     "output_type": "stream",
     "text": [
      "Generating instance 62...\n"
     ]
    },
    {
     "name": "stderr",
     "output_type": "stream",
     "text": [
      "sample: 100%|██████████| 12500/12500 [00:04<00:00, 2927.07it/s, 3 steps of size 5.24e-01. acc. prob=0.91]\n",
      "sample: 100%|██████████| 12500/12500 [00:02<00:00, 4886.67it/s, 7 steps of size 4.80e-01. acc. prob=0.93] \n",
      "sample: 100%|██████████| 12500/12500 [00:02<00:00, 5089.60it/s, 3 steps of size 5.46e-01. acc. prob=0.90]\n"
     ]
    },
    {
     "name": "stdout",
     "output_type": "stream",
     "text": [
      "Generating instance 63...\n"
     ]
    },
    {
     "name": "stderr",
     "output_type": "stream",
     "text": [
      "sample: 100%|██████████| 12500/12500 [00:04<00:00, 2945.84it/s, 3 steps of size 5.46e-01. acc. prob=0.90]\n",
      "sample: 100%|██████████| 12500/12500 [00:02<00:00, 5019.24it/s, 7 steps of size 4.93e-01. acc. prob=0.93] \n",
      "sample: 100%|██████████| 12500/12500 [00:02<00:00, 5047.39it/s, 3 steps of size 5.01e-01. acc. prob=0.93]\n"
     ]
    },
    {
     "name": "stdout",
     "output_type": "stream",
     "text": [
      "Generating instance 64...\n"
     ]
    },
    {
     "name": "stderr",
     "output_type": "stream",
     "text": [
      "sample: 100%|██████████| 12500/12500 [00:04<00:00, 3007.80it/s, 7 steps of size 4.73e-01. acc. prob=0.93]\n",
      "sample: 100%|██████████| 12500/12500 [00:02<00:00, 5126.28it/s, 7 steps of size 4.57e-01. acc. prob=0.94] \n",
      "sample: 100%|██████████| 12500/12500 [00:02<00:00, 5114.01it/s, 7 steps of size 5.31e-01. acc. prob=0.92]\n"
     ]
    },
    {
     "name": "stdout",
     "output_type": "stream",
     "text": [
      "Generating instance 65...\n"
     ]
    },
    {
     "name": "stderr",
     "output_type": "stream",
     "text": [
      "sample: 100%|██████████| 12500/12500 [00:04<00:00, 3030.53it/s, 7 steps of size 5.37e-01. acc. prob=0.91] \n",
      "sample: 100%|██████████| 12500/12500 [00:02<00:00, 5152.75it/s, 7 steps of size 5.59e-01. acc. prob=0.91]\n",
      "sample: 100%|██████████| 12500/12500 [00:02<00:00, 5221.71it/s, 3 steps of size 5.21e-01. acc. prob=0.92] \n"
     ]
    },
    {
     "name": "stdout",
     "output_type": "stream",
     "text": [
      "Generating instance 66...\n"
     ]
    },
    {
     "name": "stderr",
     "output_type": "stream",
     "text": [
      "sample: 100%|██████████| 12500/12500 [00:04<00:00, 3040.63it/s, 7 steps of size 4.72e-01. acc. prob=0.93] \n",
      "sample: 100%|██████████| 12500/12500 [00:02<00:00, 5216.69it/s, 7 steps of size 5.13e-01. acc. prob=0.92]\n",
      "sample: 100%|██████████| 12500/12500 [00:02<00:00, 5175.13it/s, 3 steps of size 5.09e-01. acc. prob=0.92]\n"
     ]
    },
    {
     "name": "stdout",
     "output_type": "stream",
     "text": [
      "Generating instance 67...\n"
     ]
    },
    {
     "name": "stderr",
     "output_type": "stream",
     "text": [
      "sample: 100%|██████████| 12500/12500 [00:04<00:00, 3022.32it/s, 3 steps of size 4.41e-01. acc. prob=0.94] \n",
      "sample: 100%|██████████| 12500/12500 [00:02<00:00, 5143.51it/s, 11 steps of size 4.88e-01. acc. prob=0.93]\n",
      "sample: 100%|██████████| 12500/12500 [00:02<00:00, 5164.50it/s, 3 steps of size 4.97e-01. acc. prob=0.92]\n"
     ]
    },
    {
     "name": "stdout",
     "output_type": "stream",
     "text": [
      "Generating instance 68...\n"
     ]
    },
    {
     "name": "stderr",
     "output_type": "stream",
     "text": [
      "sample: 100%|██████████| 12500/12500 [00:04<00:00, 2599.40it/s, 3 steps of size 4.77e-01. acc. prob=0.93]\n",
      "sample: 100%|██████████| 12500/12500 [00:02<00:00, 5291.75it/s, 7 steps of size 5.01e-01. acc. prob=0.92]\n",
      "sample: 100%|██████████| 12500/12500 [00:02<00:00, 5385.54it/s, 3 steps of size 5.50e-01. acc. prob=0.91]\n"
     ]
    },
    {
     "name": "stdout",
     "output_type": "stream",
     "text": [
      "Generating instance 69...\n"
     ]
    },
    {
     "name": "stderr",
     "output_type": "stream",
     "text": [
      "sample: 100%|██████████| 12500/12500 [00:03<00:00, 3126.69it/s, 3 steps of size 4.64e-01. acc. prob=0.93]\n",
      "sample: 100%|██████████| 12500/12500 [00:02<00:00, 5228.28it/s, 7 steps of size 4.38e-01. acc. prob=0.94]\n",
      "sample: 100%|██████████| 12500/12500 [00:02<00:00, 5289.64it/s, 3 steps of size 5.57e-01. acc. prob=0.90]\n"
     ]
    },
    {
     "name": "stdout",
     "output_type": "stream",
     "text": [
      "Generating instance 70...\n"
     ]
    },
    {
     "name": "stderr",
     "output_type": "stream",
     "text": [
      "sample: 100%|██████████| 12500/12500 [00:03<00:00, 3156.79it/s, 3 steps of size 5.32e-01. acc. prob=0.91]\n",
      "sample: 100%|██████████| 12500/12500 [00:02<00:00, 5261.72it/s, 7 steps of size 5.14e-01. acc. prob=0.92] \n",
      "sample: 100%|██████████| 12500/12500 [00:02<00:00, 5324.86it/s, 3 steps of size 5.04e-01. acc. prob=0.92] \n"
     ]
    },
    {
     "name": "stdout",
     "output_type": "stream",
     "text": [
      "Generating instance 71...\n"
     ]
    },
    {
     "name": "stderr",
     "output_type": "stream",
     "text": [
      "sample: 100%|██████████| 12500/12500 [00:03<00:00, 3150.73it/s, 3 steps of size 5.01e-01. acc. prob=0.92]\n",
      "sample: 100%|██████████| 12500/12500 [00:02<00:00, 5311.59it/s, 7 steps of size 4.71e-01. acc. prob=0.93] \n",
      "sample: 100%|██████████| 12500/12500 [00:02<00:00, 5391.08it/s, 3 steps of size 4.91e-01. acc. prob=0.93]\n"
     ]
    },
    {
     "name": "stdout",
     "output_type": "stream",
     "text": [
      "Generating instance 72...\n"
     ]
    },
    {
     "name": "stderr",
     "output_type": "stream",
     "text": [
      "sample: 100%|██████████| 12500/12500 [00:03<00:00, 3161.91it/s, 7 steps of size 4.63e-01. acc. prob=0.93]\n",
      "sample: 100%|██████████| 12500/12500 [00:02<00:00, 5236.87it/s, 7 steps of size 5.07e-01. acc. prob=0.92]\n",
      "sample: 100%|██████████| 12500/12500 [00:02<00:00, 5425.03it/s, 3 steps of size 5.82e-01. acc. prob=0.89] \n"
     ]
    },
    {
     "name": "stdout",
     "output_type": "stream",
     "text": [
      "Generating instance 73...\n"
     ]
    },
    {
     "name": "stderr",
     "output_type": "stream",
     "text": [
      "sample: 100%|██████████| 12500/12500 [00:03<00:00, 3151.26it/s, 3 steps of size 5.03e-01. acc. prob=0.92]\n",
      "sample: 100%|██████████| 12500/12500 [00:02<00:00, 5429.69it/s, 7 steps of size 4.75e-01. acc. prob=0.93]\n",
      "sample: 100%|██████████| 12500/12500 [00:02<00:00, 5396.92it/s, 3 steps of size 4.96e-01. acc. prob=0.93]\n"
     ]
    },
    {
     "name": "stdout",
     "output_type": "stream",
     "text": [
      "Generating instance 74...\n"
     ]
    },
    {
     "name": "stderr",
     "output_type": "stream",
     "text": [
      "sample: 100%|██████████| 12500/12500 [00:04<00:00, 3099.62it/s, 3 steps of size 4.88e-01. acc. prob=0.93] \n",
      "sample: 100%|██████████| 12500/12500 [00:02<00:00, 5292.82it/s, 7 steps of size 4.81e-01. acc. prob=0.93]\n",
      "sample: 100%|██████████| 12500/12500 [00:02<00:00, 5198.78it/s, 3 steps of size 5.36e-01. acc. prob=0.91] \n"
     ]
    },
    {
     "name": "stdout",
     "output_type": "stream",
     "text": [
      "Generating instance 75...\n"
     ]
    },
    {
     "name": "stderr",
     "output_type": "stream",
     "text": [
      "sample: 100%|██████████| 12500/12500 [00:04<00:00, 3100.64it/s, 3 steps of size 4.52e-01. acc. prob=0.94] \n",
      "sample: 100%|██████████| 12500/12500 [00:02<00:00, 5369.06it/s, 7 steps of size 4.67e-01. acc. prob=0.93] \n",
      "sample: 100%|██████████| 12500/12500 [00:02<00:00, 5374.34it/s, 3 steps of size 5.06e-01. acc. prob=0.92]\n"
     ]
    },
    {
     "name": "stdout",
     "output_type": "stream",
     "text": [
      "Generating instance 76...\n"
     ]
    },
    {
     "name": "stderr",
     "output_type": "stream",
     "text": [
      "sample: 100%|██████████| 12500/12500 [00:03<00:00, 3216.10it/s, 3 steps of size 4.99e-01. acc. prob=0.92] \n",
      "sample: 100%|██████████| 12500/12500 [00:02<00:00, 5361.40it/s, 7 steps of size 4.49e-01. acc. prob=0.94] \n",
      "sample: 100%|██████████| 12500/12500 [00:02<00:00, 5414.42it/s, 3 steps of size 5.17e-01. acc. prob=0.92]\n"
     ]
    },
    {
     "name": "stdout",
     "output_type": "stream",
     "text": [
      "Generating instance 77...\n"
     ]
    },
    {
     "name": "stderr",
     "output_type": "stream",
     "text": [
      "sample: 100%|██████████| 12500/12500 [00:03<00:00, 3158.73it/s, 3 steps of size 5.19e-01. acc. prob=0.92] \n",
      "sample: 100%|██████████| 12500/12500 [00:02<00:00, 5301.79it/s, 7 steps of size 4.76e-01. acc. prob=0.93]\n",
      "sample: 100%|██████████| 12500/12500 [00:02<00:00, 5298.13it/s, 3 steps of size 4.95e-01. acc. prob=0.92]\n"
     ]
    },
    {
     "name": "stdout",
     "output_type": "stream",
     "text": [
      "Generating instance 78...\n"
     ]
    },
    {
     "name": "stderr",
     "output_type": "stream",
     "text": [
      "sample: 100%|██████████| 12500/12500 [00:04<00:00, 3092.00it/s, 3 steps of size 5.11e-01. acc. prob=0.92]\n",
      "sample: 100%|██████████| 12500/12500 [00:02<00:00, 5410.25it/s, 7 steps of size 5.20e-01. acc. prob=0.91]\n",
      "sample: 100%|██████████| 12500/12500 [00:02<00:00, 5403.71it/s, 3 steps of size 5.05e-01. acc. prob=0.92]\n"
     ]
    },
    {
     "name": "stdout",
     "output_type": "stream",
     "text": [
      "Generating instance 79...\n"
     ]
    },
    {
     "name": "stderr",
     "output_type": "stream",
     "text": [
      "sample: 100%|██████████| 12500/12500 [00:03<00:00, 3129.86it/s, 3 steps of size 4.87e-01. acc. prob=0.93]\n",
      "sample: 100%|██████████| 12500/12500 [00:02<00:00, 5270.63it/s, 7 steps of size 4.72e-01. acc. prob=0.93]\n",
      "sample: 100%|██████████| 12500/12500 [00:02<00:00, 5210.75it/s, 3 steps of size 4.92e-01. acc. prob=0.93] \n"
     ]
    },
    {
     "name": "stdout",
     "output_type": "stream",
     "text": [
      "Generating instance 80...\n"
     ]
    },
    {
     "name": "stderr",
     "output_type": "stream",
     "text": [
      "sample: 100%|██████████| 12500/12500 [00:03<00:00, 3149.43it/s, 3 steps of size 4.76e-01. acc. prob=0.93]\n",
      "sample: 100%|██████████| 12500/12500 [00:02<00:00, 5348.82it/s, 7 steps of size 5.03e-01. acc. prob=0.93] \n",
      "sample: 100%|██████████| 12500/12500 [00:02<00:00, 5386.25it/s, 3 steps of size 5.68e-01. acc. prob=0.90]\n"
     ]
    },
    {
     "name": "stdout",
     "output_type": "stream",
     "text": [
      "Generating instance 81...\n"
     ]
    },
    {
     "name": "stderr",
     "output_type": "stream",
     "text": [
      "sample: 100%|██████████| 12500/12500 [00:03<00:00, 3157.40it/s, 3 steps of size 4.75e-01. acc. prob=0.93]\n",
      "sample: 100%|██████████| 12500/12500 [00:02<00:00, 5101.50it/s, 7 steps of size 4.79e-01. acc. prob=0.93] \n",
      "sample: 100%|██████████| 12500/12500 [00:02<00:00, 5229.98it/s, 3 steps of size 4.88e-01. acc. prob=0.93]\n"
     ]
    },
    {
     "name": "stdout",
     "output_type": "stream",
     "text": [
      "Generating instance 82...\n"
     ]
    },
    {
     "name": "stderr",
     "output_type": "stream",
     "text": [
      "sample: 100%|██████████| 12500/12500 [00:04<00:00, 3056.91it/s, 3 steps of size 4.89e-01. acc. prob=0.93]\n",
      "sample: 100%|██████████| 12500/12500 [00:02<00:00, 5131.88it/s, 7 steps of size 4.52e-01. acc. prob=0.94] \n",
      "sample: 100%|██████████| 12500/12500 [00:02<00:00, 5190.47it/s, 3 steps of size 5.15e-01. acc. prob=0.92]\n"
     ]
    },
    {
     "name": "stdout",
     "output_type": "stream",
     "text": [
      "Generating instance 83...\n"
     ]
    },
    {
     "name": "stderr",
     "output_type": "stream",
     "text": [
      "sample: 100%|██████████| 12500/12500 [00:04<00:00, 3093.61it/s, 3 steps of size 4.29e-01. acc. prob=0.94] \n",
      "sample: 100%|██████████| 12500/12500 [00:02<00:00, 5294.59it/s, 7 steps of size 5.33e-01. acc. prob=0.91] \n",
      "sample: 100%|██████████| 12500/12500 [00:02<00:00, 5359.68it/s, 3 steps of size 5.66e-01. acc. prob=0.90]\n"
     ]
    },
    {
     "name": "stdout",
     "output_type": "stream",
     "text": [
      "Generating instance 84...\n"
     ]
    },
    {
     "name": "stderr",
     "output_type": "stream",
     "text": [
      "sample: 100%|██████████| 12500/12500 [00:03<00:00, 3147.96it/s, 3 steps of size 4.36e-01. acc. prob=0.94]\n",
      "sample: 100%|██████████| 12500/12500 [00:02<00:00, 5315.14it/s, 7 steps of size 4.43e-01. acc. prob=0.94] \n",
      "sample: 100%|██████████| 12500/12500 [00:02<00:00, 5374.38it/s, 3 steps of size 4.71e-01. acc. prob=0.93]\n"
     ]
    },
    {
     "name": "stdout",
     "output_type": "stream",
     "text": [
      "Generating instance 85...\n"
     ]
    },
    {
     "name": "stderr",
     "output_type": "stream",
     "text": [
      "sample: 100%|██████████| 12500/12500 [00:04<00:00, 3088.85it/s, 3 steps of size 5.27e-01. acc. prob=0.91]\n",
      "sample: 100%|██████████| 12500/12500 [00:02<00:00, 5293.43it/s, 7 steps of size 4.84e-01. acc. prob=0.93]\n",
      "sample: 100%|██████████| 12500/12500 [00:02<00:00, 5258.99it/s, 3 steps of size 4.85e-01. acc. prob=0.93] \n"
     ]
    },
    {
     "name": "stdout",
     "output_type": "stream",
     "text": [
      "Generating instance 86...\n"
     ]
    },
    {
     "name": "stderr",
     "output_type": "stream",
     "text": [
      "sample: 100%|██████████| 12500/12500 [00:04<00:00, 3069.10it/s, 3 steps of size 5.10e-01. acc. prob=0.92]\n",
      "sample: 100%|██████████| 12500/12500 [00:02<00:00, 5224.50it/s, 7 steps of size 4.78e-01. acc. prob=0.93]\n",
      "sample: 100%|██████████| 12500/12500 [00:02<00:00, 5194.56it/s, 3 steps of size 5.07e-01. acc. prob=0.92]\n"
     ]
    },
    {
     "name": "stdout",
     "output_type": "stream",
     "text": [
      "Generating instance 87...\n"
     ]
    },
    {
     "name": "stderr",
     "output_type": "stream",
     "text": [
      "sample: 100%|██████████| 12500/12500 [00:04<00:00, 3069.80it/s, 7 steps of size 5.10e-01. acc. prob=0.92] \n",
      "sample: 100%|██████████| 12500/12500 [00:02<00:00, 5311.82it/s, 7 steps of size 4.78e-01. acc. prob=0.93] \n",
      "sample: 100%|██████████| 12500/12500 [00:02<00:00, 5357.91it/s, 3 steps of size 5.24e-01. acc. prob=0.92] \n"
     ]
    },
    {
     "name": "stdout",
     "output_type": "stream",
     "text": [
      "Generating instance 88...\n"
     ]
    },
    {
     "name": "stderr",
     "output_type": "stream",
     "text": [
      "sample: 100%|██████████| 12500/12500 [00:03<00:00, 3140.15it/s, 3 steps of size 4.99e-01. acc. prob=0.92]\n",
      "sample: 100%|██████████| 12500/12500 [00:02<00:00, 5378.92it/s, 7 steps of size 5.19e-01. acc. prob=0.92]\n",
      "sample: 100%|██████████| 12500/12500 [00:02<00:00, 5378.16it/s, 3 steps of size 5.24e-01. acc. prob=0.91] \n"
     ]
    },
    {
     "name": "stdout",
     "output_type": "stream",
     "text": [
      "Generating instance 89...\n"
     ]
    },
    {
     "name": "stderr",
     "output_type": "stream",
     "text": [
      "sample: 100%|██████████| 12500/12500 [00:04<00:00, 3105.63it/s, 3 steps of size 5.33e-01. acc. prob=0.91] \n",
      "sample: 100%|██████████| 12500/12500 [00:02<00:00, 5418.77it/s, 3 steps of size 5.58e-01. acc. prob=0.90]\n",
      "sample: 100%|██████████| 12500/12500 [00:02<00:00, 5291.25it/s, 3 steps of size 5.42e-01. acc. prob=0.91]\n"
     ]
    },
    {
     "name": "stdout",
     "output_type": "stream",
     "text": [
      "Generating instance 90...\n"
     ]
    },
    {
     "name": "stderr",
     "output_type": "stream",
     "text": [
      "sample: 100%|██████████| 12500/12500 [00:03<00:00, 3153.55it/s, 3 steps of size 4.87e-01. acc. prob=0.93] \n",
      "sample: 100%|██████████| 12500/12500 [00:02<00:00, 5182.74it/s, 7 steps of size 4.57e-01. acc. prob=0.94]\n",
      "sample: 100%|██████████| 12500/12500 [00:02<00:00, 5363.43it/s, 7 steps of size 5.93e-01. acc. prob=0.88]\n"
     ]
    },
    {
     "name": "stdout",
     "output_type": "stream",
     "text": [
      "Generating instance 91...\n"
     ]
    },
    {
     "name": "stderr",
     "output_type": "stream",
     "text": [
      "sample: 100%|██████████| 12500/12500 [00:04<00:00, 3071.04it/s, 3 steps of size 5.00e-01. acc. prob=0.92] \n",
      "sample: 100%|██████████| 12500/12500 [00:02<00:00, 5232.32it/s, 7 steps of size 4.46e-01. acc. prob=0.94]\n",
      "sample: 100%|██████████| 12500/12500 [00:02<00:00, 5177.00it/s, 3 steps of size 5.21e-01. acc. prob=0.92]\n"
     ]
    },
    {
     "name": "stdout",
     "output_type": "stream",
     "text": [
      "Generating instance 92...\n"
     ]
    },
    {
     "name": "stderr",
     "output_type": "stream",
     "text": [
      "sample: 100%|██████████| 12500/12500 [00:04<00:00, 3036.15it/s, 7 steps of size 4.80e-01. acc. prob=0.93]\n",
      "sample: 100%|██████████| 12500/12500 [00:02<00:00, 5095.50it/s, 3 steps of size 5.35e-01. acc. prob=0.90]\n",
      "sample: 100%|██████████| 12500/12500 [00:02<00:00, 5304.48it/s, 3 steps of size 4.99e-01. acc. prob=0.92]\n"
     ]
    },
    {
     "name": "stdout",
     "output_type": "stream",
     "text": [
      "Generating instance 93...\n"
     ]
    },
    {
     "name": "stderr",
     "output_type": "stream",
     "text": [
      "sample: 100%|██████████| 12500/12500 [00:04<00:00, 3035.33it/s, 3 steps of size 4.64e-01. acc. prob=0.94]\n",
      "sample: 100%|██████████| 12500/12500 [00:02<00:00, 5191.15it/s, 3 steps of size 4.84e-01. acc. prob=0.93]\n",
      "sample: 100%|██████████| 12500/12500 [00:02<00:00, 5253.93it/s, 3 steps of size 5.05e-01. acc. prob=0.93]\n"
     ]
    },
    {
     "name": "stdout",
     "output_type": "stream",
     "text": [
      "Generating instance 94...\n"
     ]
    },
    {
     "name": "stderr",
     "output_type": "stream",
     "text": [
      "sample: 100%|██████████| 12500/12500 [00:04<00:00, 3053.66it/s, 3 steps of size 4.92e-01. acc. prob=0.92] \n",
      "sample: 100%|██████████| 12500/12500 [00:02<00:00, 5081.32it/s, 7 steps of size 4.78e-01. acc. prob=0.93]\n",
      "sample: 100%|██████████| 12500/12500 [00:02<00:00, 5365.87it/s, 3 steps of size 5.76e-01. acc. prob=0.90]\n"
     ]
    },
    {
     "name": "stdout",
     "output_type": "stream",
     "text": [
      "Generating instance 95...\n"
     ]
    },
    {
     "name": "stderr",
     "output_type": "stream",
     "text": [
      "sample: 100%|██████████| 12500/12500 [00:04<00:00, 3095.48it/s, 3 steps of size 4.95e-01. acc. prob=0.92] \n",
      "sample: 100%|██████████| 12500/12500 [00:02<00:00, 5235.65it/s, 7 steps of size 4.67e-01. acc. prob=0.93]\n",
      "sample: 100%|██████████| 12500/12500 [00:02<00:00, 5309.31it/s, 3 steps of size 5.05e-01. acc. prob=0.93]\n"
     ]
    },
    {
     "name": "stdout",
     "output_type": "stream",
     "text": [
      "Generating instance 96...\n"
     ]
    },
    {
     "name": "stderr",
     "output_type": "stream",
     "text": [
      "sample: 100%|██████████| 12500/12500 [00:04<00:00, 3084.43it/s, 3 steps of size 5.19e-01. acc. prob=0.92]\n",
      "sample: 100%|██████████| 12500/12500 [00:02<00:00, 5192.64it/s, 7 steps of size 4.53e-01. acc. prob=0.94]\n",
      "sample: 100%|██████████| 12500/12500 [00:02<00:00, 5229.14it/s, 3 steps of size 5.14e-01. acc. prob=0.92]\n"
     ]
    },
    {
     "name": "stdout",
     "output_type": "stream",
     "text": [
      "Generating instance 97...\n"
     ]
    },
    {
     "name": "stderr",
     "output_type": "stream",
     "text": [
      "sample: 100%|██████████| 12500/12500 [00:04<00:00, 3064.44it/s, 7 steps of size 4.58e-01. acc. prob=0.93] \n",
      "sample: 100%|██████████| 12500/12500 [00:02<00:00, 5133.26it/s, 7 steps of size 4.37e-01. acc. prob=0.94] \n",
      "sample: 100%|██████████| 12500/12500 [00:02<00:00, 5189.32it/s, 3 steps of size 5.12e-01. acc. prob=0.92]\n"
     ]
    },
    {
     "name": "stdout",
     "output_type": "stream",
     "text": [
      "Generating instance 98...\n"
     ]
    },
    {
     "name": "stderr",
     "output_type": "stream",
     "text": [
      "sample: 100%|██████████| 12500/12500 [00:04<00:00, 3118.92it/s, 3 steps of size 5.05e-01. acc. prob=0.92]\n",
      "sample: 100%|██████████| 12500/12500 [00:02<00:00, 5315.80it/s, 7 steps of size 4.86e-01. acc. prob=0.93]\n",
      "sample: 100%|██████████| 12500/12500 [00:02<00:00, 5392.51it/s, 3 steps of size 5.47e-01. acc. prob=0.90]\n"
     ]
    },
    {
     "name": "stdout",
     "output_type": "stream",
     "text": [
      "Generating instance 99...\n"
     ]
    },
    {
     "name": "stderr",
     "output_type": "stream",
     "text": [
      "sample: 100%|██████████| 12500/12500 [00:03<00:00, 3141.88it/s, 7 steps of size 4.70e-01. acc. prob=0.93] \n",
      "sample: 100%|██████████| 12500/12500 [00:02<00:00, 5226.53it/s, 7 steps of size 4.63e-01. acc. prob=0.93]\n",
      "sample: 100%|██████████| 12500/12500 [00:02<00:00, 5279.17it/s, 3 steps of size 4.75e-01. acc. prob=0.93]\n"
     ]
    },
    {
     "name": "stdout",
     "output_type": "stream",
     "text": [
      "Generating instance 100...\n"
     ]
    },
    {
     "name": "stderr",
     "output_type": "stream",
     "text": [
      "sample: 100%|██████████| 12500/12500 [00:03<00:00, 3159.56it/s, 3 steps of size 5.31e-01. acc. prob=0.91] \n",
      "sample: 100%|██████████| 12500/12500 [00:02<00:00, 5231.17it/s, 7 steps of size 4.72e-01. acc. prob=0.93] \n",
      "sample: 100%|██████████| 12500/12500 [00:02<00:00, 5293.97it/s, 3 steps of size 5.07e-01. acc. prob=0.92]\n"
     ]
    }
   ],
   "source": [
    "generator = Generator(results_name=results_name, \n",
    "                  data_params=data_params,\n",
    "                  default_params=default_params)\n",
    "\n",
    "analysis_iterations = {\n",
    "    'parameters_1': ['I_y_mu','I_z_mu','Q_mu','sigma_mu'],\n",
    "    'parameters_2': ['I_y_sigma','I_z_sigma','Q_sigma','sigma_sigma'],\n",
    "    'values_1':\n",
    "    [\n",
    "        np.array([1e-4, 1e-3, 1e-2, 1e-1, 1e0, 1e1, 1e2, 1e3, 1e4, 1e5]),\n",
    "        np.array([1e-4, 1e-3, 1e-2, 1e-1, 1e0, 1e1, 1e2, 1e3, 1e4, 1e5]),\n",
    "        np.array([1e9, 1e10, 1e11, 1e12, 1e13, 1e14, 1e15, 1e16, 1e17, 1e18]),\n",
    "        np.array([0.5, 1, 1.5, 2, 2.5, 3, 3.5, 4, 4.5, 5])     \n",
    "    ],\n",
    "\n",
    "    'values_2':\n",
    "    [\n",
    "        np.array([1e-4, 1e-3, 1e-2, 1e-1, 1e0, 1e1, 1e2, 1e3, 1e4, 1e5]),\n",
    "        np.array([1e-4, 1e-3, 1e-2, 1e-1, 1e0, 1e1, 1e2, 1e3, 1e4, 1e5]),\n",
    "        np.array([1e9, 1e10, 1e11, 1e12, 1e13, 1e14, 1e15, 1e16, 1e17, 1e18]),\n",
    "        np.array([0.5, 1, 1.5, 2, 2.5, 3, 3.5, 4, 4.5, 5]) \n",
    "    ],\n",
    "    'scales_1': ['log','log', 'log', 'linear'],\n",
    "    'scales_2': ['log','log', 'log', 'linear'],\n",
    "}\n",
    "\n",
    "for i in range(len(analysis_iterations['parameters_1'])):\n",
    "    parameter_1 = analysis_iterations['parameters_1'][i]\n",
    "    parameter_2 = analysis_iterations['parameters_2'][i]\n",
    "\n",
    "    print('Working on varying ' + parameter_1 + '...')\n",
    "    values_1 = analysis_iterations['values_1'][i]\n",
    "    values_2 = analysis_iterations['values_2'][i]\n",
    "\n",
    "    scale_1 = analysis_iterations['scales_1'][i]\n",
    "    scale_2 = analysis_iterations['scales_2'][i]\n",
    "\n",
    "    inputs = generator.vary_two_parameters(parameter_1, parameter_2, values_1, values_2, scale_1=scale_1, scale_2=scale_2, plot=True)"
   ]
  },
  {
   "attachments": {},
   "cell_type": "markdown",
   "metadata": {},
   "source": [
    "Optimising the hyperparameters for gamma prior simulated data"
   ]
  },
  {
   "cell_type": "code",
   "execution_count": 6,
   "metadata": {},
   "outputs": [
    {
     "name": "stderr",
     "output_type": "stream",
     "text": [
      "[I 2023-10-10 03:11:37,233] A new study created in RDB with name: AIC_1\n",
      "sample: 100%|██████████| 12500/12500 [00:04<00:00, 3074.55it/s, 3 steps of size 4.51e-01. acc. prob=0.93] \n",
      "sample: 100%|██████████| 12500/12500 [00:02<00:00, 5082.71it/s, 7 steps of size 4.54e-01. acc. prob=0.93]\n",
      "sample: 100%|██████████| 12500/12500 [00:02<00:00, 5286.39it/s, 3 steps of size 5.48e-01. acc. prob=0.89] \n",
      "[I 2023-10-10 03:11:47,811] Trial 0 finished with value: 237.4508056640625 and parameters: {'I_y_mu': 6.440204924232917, 'I_y_sigma': 3.3313797565103105, 'I_z_mu': 5.5808513669636675, 'I_z_sigma': 8.073648212438696, 'Q_mu': 7.493147453693784e+17, 'Q_sigma': 9.784820575726449e+17, 'sigma_mu': 1.5243427778751524, 'sigma_sigma': 1.3349257631585791}. Best is trial 0 with value: 237.4508056640625.\n",
      "sample: 100%|██████████| 12500/12500 [00:04<00:00, 2966.26it/s, 3 steps of size 4.39e-01. acc. prob=0.94] \n",
      "sample: 100%|██████████| 12500/12500 [00:02<00:00, 4980.85it/s, 7 steps of size 4.94e-01. acc. prob=0.92] \n",
      "sample: 100%|██████████| 12500/12500 [00:02<00:00, 4844.08it/s, 3 steps of size 4.83e-01. acc. prob=0.92]\n",
      "[I 2023-10-10 03:11:58,780] Trial 1 finished with value: 237.46707153320312 and parameters: {'I_y_mu': 0.8448106046515884, 'I_y_sigma': 6.425935513476739, 'I_z_mu': 5.2982551914397495, 'I_z_sigma': 6.076867329019261, 'Q_mu': 1.0997431616976168e+17, 'Q_sigma': 1.4648824495994323e+17, 'sigma_mu': 0.5300214933947293, 'sigma_sigma': 0.655534177034665}. Best is trial 0 with value: 237.4508056640625.\n",
      "sample: 100%|██████████| 12500/12500 [00:04<00:00, 2959.60it/s, 7 steps of size 4.06e-01. acc. prob=0.94] \n",
      "sample: 100%|██████████| 12500/12500 [00:02<00:00, 4846.01it/s, 7 steps of size 4.30e-01. acc. prob=0.94] \n",
      "sample: 100%|██████████| 12500/12500 [00:02<00:00, 5058.61it/s, 7 steps of size 4.72e-01. acc. prob=0.93] \n",
      "[I 2023-10-10 03:12:09,696] Trial 2 finished with value: 237.67971801757812 and parameters: {'I_y_mu': 5.954548821844348, 'I_y_sigma': 8.009530650743832, 'I_z_mu': 6.647058916819771, 'I_z_sigma': 6.724177870733419, 'Q_mu': 9.432812731955538e+17, 'Q_sigma': 3.422097380478909e+17, 'sigma_mu': 0.9378224804323734, 'sigma_sigma': 1.8732419782064529}. Best is trial 0 with value: 237.4508056640625.\n",
      "sample: 100%|██████████| 12500/12500 [00:04<00:00, 3093.95it/s, 3 steps of size 5.29e-01. acc. prob=0.90] \n",
      "sample: 100%|██████████| 12500/12500 [00:02<00:00, 4970.98it/s, 7 steps of size 4.49e-01. acc. prob=0.93]\n",
      "sample: 100%|██████████| 12500/12500 [00:02<00:00, 5075.30it/s, 3 steps of size 4.76e-01. acc. prob=0.93] \n",
      "[I 2023-10-10 03:12:20,347] Trial 3 finished with value: 237.40231323242188 and parameters: {'I_y_mu': 7.522214130537686, 'I_y_sigma': 5.02823268011636, 'I_z_mu': 6.898064550296431, 'I_z_sigma': 3.5514646214559544, 'Q_mu': 600457646914834.0, 'Q_sigma': 6.861033258000045e+17, 'sigma_mu': 0.5609822324205005, 'sigma_sigma': 0.5008998088329992}. Best is trial 3 with value: 237.40231323242188.\n",
      "sample: 100%|██████████| 12500/12500 [00:04<00:00, 3066.50it/s, 7 steps of size 4.53e-01. acc. prob=0.93]\n",
      "sample: 100%|██████████| 12500/12500 [00:02<00:00, 5001.41it/s, 7 steps of size 4.29e-01. acc. prob=0.94] \n",
      "sample: 100%|██████████| 12500/12500 [00:02<00:00, 5050.49it/s, 3 steps of size 5.06e-01. acc. prob=0.91]\n",
      "[I 2023-10-10 03:12:31,053] Trial 4 finished with value: 237.44766235351562 and parameters: {'I_y_mu': 2.1764594617176387, 'I_y_sigma': 7.018100395506565, 'I_z_mu': 5.510659061778213, 'I_z_sigma': 3.327355427707807, 'Q_mu': 1.2816970170672451e+17, 'Q_sigma': 8.131423079424612e+17, 'sigma_mu': 1.4333926464251534, 'sigma_sigma': 0.8233908228640903}. Best is trial 3 with value: 237.40231323242188.\n",
      "sample: 100%|██████████| 12500/12500 [00:04<00:00, 3122.59it/s, 3 steps of size 6.00e-01. acc. prob=0.91]\n",
      "sample: 100%|██████████| 12500/12500 [00:02<00:00, 5180.32it/s, 7 steps of size 5.31e-01. acc. prob=0.93] \n",
      "sample: 100%|██████████| 12500/12500 [00:02<00:00, 5171.58it/s, 7 steps of size 5.80e-01. acc. prob=0.92]\n",
      "[I 2023-10-10 03:12:41,557] Trial 5 finished with value: 305.07012939453125 and parameters: {'I_y_mu': 2.162861097926454, 'I_y_sigma': 0.2219790976768393, 'I_z_mu': 9.823756380312775, 'I_z_sigma': 4.80798634110755, 'Q_mu': 2.7516613493871235e+17, 'Q_sigma': 5.97945382640246e+17, 'sigma_mu': 1.5658291830410473, 'sigma_sigma': 1.061137327243491}. Best is trial 3 with value: 237.40231323242188.\n",
      "sample: 100%|██████████| 12500/12500 [00:04<00:00, 3013.78it/s, 7 steps of size 3.54e-01. acc. prob=0.94] \n",
      "sample: 100%|██████████| 12500/12500 [00:02<00:00, 4849.16it/s, 15 steps of size 4.55e-01. acc. prob=0.91]\n",
      "sample: 100%|██████████| 12500/12500 [00:02<00:00, 5053.58it/s, 11 steps of size 4.93e-01. acc. prob=0.91]\n",
      "[I 2023-10-10 03:12:52,422] Trial 6 finished with value: 247.60824584960938 and parameters: {'I_y_mu': 3.9092443518087836, 'I_y_sigma': 9.55894876412011, 'I_z_mu': 7.891359881935009, 'I_z_sigma': 3.351263558308594, 'Q_mu': 9.865275075871647e+17, 'Q_sigma': 1.3976709506707643e+17, 'sigma_mu': 1.9982278225762597, 'sigma_sigma': 1.025848271126235}. Best is trial 3 with value: 237.40231323242188.\n",
      "sample: 100%|██████████| 12500/12500 [00:04<00:00, 3054.62it/s, 3 steps of size 4.23e-01. acc. prob=0.94] \n",
      "sample: 100%|██████████| 12500/12500 [00:02<00:00, 5059.20it/s, 3 steps of size 5.50e-01. acc. prob=0.90]\n",
      "sample: 100%|██████████| 12500/12500 [00:02<00:00, 4917.98it/s, 15 steps of size 4.53e-01. acc. prob=0.93]\n",
      "[I 2023-10-10 03:13:03,216] Trial 7 finished with value: 237.46270751953125 and parameters: {'I_y_mu': 8.521612121143349, 'I_y_sigma': 9.835439491617791, 'I_z_mu': 7.353375122039785, 'I_z_sigma': 7.543134805602098, 'Q_mu': 5.589165666725916e+17, 'Q_sigma': 9.284525743815535e+17, 'sigma_mu': 1.0134115814263196, 'sigma_sigma': 1.364166756603229}. Best is trial 3 with value: 237.40231323242188.\n",
      "sample: 100%|██████████| 12500/12500 [00:04<00:00, 2989.13it/s, 7 steps of size 4.10e-01. acc. prob=0.95]\n",
      "sample: 100%|██████████| 12500/12500 [00:02<00:00, 4864.63it/s, 7 steps of size 5.14e-01. acc. prob=0.91]\n",
      "sample: 100%|██████████| 12500/12500 [00:02<00:00, 4962.62it/s, 3 steps of size 5.68e-01. acc. prob=0.89] \n",
      "[I 2023-10-10 03:13:14,186] Trial 8 finished with value: 237.46499633789062 and parameters: {'I_y_mu': 0.8667254523094896, 'I_y_sigma': 5.240034440034475, 'I_z_mu': 9.925427471548396, 'I_z_sigma': 9.237777178213628, 'Q_mu': 5.337236577752622e+17, 'Q_sigma': 9.529083374012737e+17, 'sigma_mu': 1.5750204560757595, 'sigma_sigma': 1.0120880321892038}. Best is trial 3 with value: 237.40231323242188.\n",
      "sample: 100%|██████████| 12500/12500 [00:04<00:00, 2987.13it/s, 3 steps of size 6.42e-01. acc. prob=0.90]\n",
      "sample: 100%|██████████| 12500/12500 [00:02<00:00, 4721.04it/s, 7 steps of size 5.80e-01. acc. prob=0.92]\n",
      "sample: 100%|██████████| 12500/12500 [00:02<00:00, 4875.29it/s, 7 steps of size 5.94e-01. acc. prob=0.93]\n",
      "[I 2023-10-10 03:13:25,326] Trial 9 finished with value: 305.2360534667969 and parameters: {'I_y_mu': 5.755869957453853, 'I_y_sigma': 0.5060997487134258, 'I_z_mu': 6.313965391019259, 'I_z_sigma': 8.439407819186576, 'Q_mu': 2.946911576715268e+17, 'Q_sigma': 5.465777177276771e+17, 'sigma_mu': 0.8095144324328039, 'sigma_sigma': 1.097781428081688}. Best is trial 3 with value: 237.40231323242188.\n",
      "sample: 100%|██████████| 12500/12500 [00:04<00:00, 2949.01it/s, 3 steps of size 5.51e-01. acc. prob=0.92]\n",
      "sample: 100%|██████████| 12500/12500 [00:02<00:00, 4825.11it/s, 7 steps of size 5.40e-01. acc. prob=0.93]\n",
      "sample: 100%|██████████| 12500/12500 [00:02<00:00, 4976.68it/s, 7 steps of size 6.07e-01. acc. prob=0.91]\n",
      "[I 2023-10-10 03:13:36,373] Trial 10 finished with value: 295.15631103515625 and parameters: {'I_y_mu': 9.546762228651948, 'I_y_sigma': 3.6638546674928056, 'I_z_mu': 2.9268677520855633, 'I_z_sigma': 0.06111599736732032, 'Q_mu': 3.903225591109094e+16, 'Q_sigma': 6.874288915056914e+17, 'sigma_mu': 0.21891739786883746, 'sigma_sigma': 0.28503843285026664}. Best is trial 3 with value: 237.40231323242188.\n",
      "sample: 100%|██████████| 12500/12500 [00:04<00:00, 2998.05it/s, 3 steps of size 5.06e-01. acc. prob=0.91]\n",
      "sample: 100%|██████████| 12500/12500 [00:02<00:00, 4708.02it/s, 7 steps of size 4.55e-01. acc. prob=0.93] \n",
      "sample: 100%|██████████| 12500/12500 [00:02<00:00, 4855.94it/s, 3 steps of size 5.26e-01. acc. prob=0.91] \n",
      "[I 2023-10-10 03:13:47,510] Trial 11 finished with value: 237.44107055664062 and parameters: {'I_y_mu': 3.22348908711537, 'I_y_sigma': 7.069312951152608, 'I_z_mu': 3.377264758999262, 'I_z_sigma': 2.8990097290743297, 'Q_mu': 2.4924564561665376e+16, 'Q_sigma': 7.469704372870542e+17, 'sigma_mu': 0.6137516733035298, 'sigma_sigma': 0.5037236355580716}. Best is trial 3 with value: 237.40231323242188.\n",
      "sample: 100%|██████████| 12500/12500 [00:04<00:00, 2970.19it/s, 3 steps of size 4.68e-01. acc. prob=0.92] \n",
      "sample: 100%|██████████| 12500/12500 [00:02<00:00, 4780.79it/s, 7 steps of size 4.62e-01. acc. prob=0.93] \n",
      "sample: 100%|██████████| 12500/12500 [00:02<00:00, 4929.34it/s, 3 steps of size 5.51e-01. acc. prob=0.89]\n",
      "[I 2023-10-10 03:13:58,601] Trial 12 finished with value: 237.40219116210938 and parameters: {'I_y_mu': 7.838265209682806, 'I_y_sigma': 5.350987049406133, 'I_z_mu': 3.1035248326114253, 'I_z_sigma': 1.9363434142811418, 'Q_mu': 2074609643236480.0, 'Q_sigma': 7.442622539358739e+17, 'sigma_mu': 0.5956665209500241, 'sigma_sigma': 0.2893952589923177}. Best is trial 12 with value: 237.40219116210938.\n",
      "sample: 100%|██████████| 12500/12500 [00:04<00:00, 2839.15it/s, 7 steps of size 4.17e-01. acc. prob=0.94] \n",
      "sample: 100%|██████████| 12500/12500 [00:02<00:00, 4854.17it/s, 7 steps of size 4.37e-01. acc. prob=0.94] \n",
      "sample: 100%|██████████| 12500/12500 [00:02<00:00, 4868.85it/s, 3 steps of size 4.80e-01. acc. prob=0.92]\n",
      "[I 2023-10-10 03:14:09,954] Trial 13 finished with value: 237.415283203125 and parameters: {'I_y_mu': 7.4502210973619905, 'I_y_sigma': 4.731806223684458, 'I_z_mu': 1.0774456728242074, 'I_z_sigma': 1.4982033651230227, 'Q_mu': 2.3577129831438826e+17, 'Q_sigma': 4.710351497441993e+17, 'sigma_mu': 0.3650186154935301, 'sigma_sigma': 0.2282661550034382}. Best is trial 12 with value: 237.40219116210938.\n",
      "sample: 100%|██████████| 12500/12500 [00:04<00:00, 2922.95it/s, 7 steps of size 4.04e-01. acc. prob=0.95]\n",
      "sample: 100%|██████████| 12500/12500 [00:02<00:00, 4655.26it/s, 7 steps of size 4.33e-01. acc. prob=0.94]\n",
      "sample: 100%|██████████| 12500/12500 [00:02<00:00, 4841.65it/s, 3 steps of size 4.78e-01. acc. prob=0.92]\n",
      "[I 2023-10-10 03:14:21,239] Trial 14 finished with value: 237.41094970703125 and parameters: {'I_y_mu': 7.697156148186583, 'I_y_sigma': 2.778386927483882, 'I_z_mu': 3.750264305286119, 'I_z_sigma': 4.402582803166856, 'Q_mu': 1.9970658736751576e+16, 'Q_sigma': 7.984711557130847e+17, 'sigma_mu': 0.6652056970628042, 'sigma_sigma': 0.46631743323702185}. Best is trial 12 with value: 237.40219116210938.\n",
      "sample: 100%|██████████| 12500/12500 [00:04<00:00, 2945.50it/s, 3 steps of size 4.41e-01. acc. prob=0.93] \n",
      "sample: 100%|██████████| 12500/12500 [00:02<00:00, 4755.24it/s, 7 steps of size 4.33e-01. acc. prob=0.94] \n",
      "sample: 100%|██████████| 12500/12500 [00:02<00:00, 4833.37it/s, 3 steps of size 5.04e-01. acc. prob=0.91]\n",
      "[I 2023-10-10 03:14:32,473] Trial 15 finished with value: 237.4110107421875 and parameters: {'I_y_mu': 8.439872398097444, 'I_y_sigma': 5.410203359966046, 'I_z_mu': 2.125078796609225, 'I_z_sigma': 1.8271727931086137, 'Q_mu': 4.0886028343481005e+17, 'Q_sigma': 6.630604109453492e+17, 'sigma_mu': 0.4534489614579812, 'sigma_sigma': 0.2652748453560754}. Best is trial 12 with value: 237.40219116210938.\n",
      "sample: 100%|██████████| 12500/12500 [00:04<00:00, 2849.26it/s, 3 steps of size 4.27e-01. acc. prob=0.94]\n",
      "sample: 100%|██████████| 12500/12500 [00:02<00:00, 4675.76it/s, 7 steps of size 5.35e-01. acc. prob=0.90] \n",
      "sample: 100%|██████████| 12500/12500 [00:02<00:00, 4877.87it/s, 7 steps of size 5.63e-01. acc. prob=0.89]\n",
      "[I 2023-10-10 03:14:43,901] Trial 16 finished with value: 237.4295654296875 and parameters: {'I_y_mu': 9.697258159251891, 'I_y_sigma': 4.668062530584005, 'I_z_mu': 0.8279520995202239, 'I_z_sigma': 5.609994800787846, 'Q_mu': 1.5906776133887677e+17, 'Q_sigma': 4.571067852277404e+17, 'sigma_mu': 0.7853345921840933, 'sigma_sigma': 0.5840124517182458}. Best is trial 12 with value: 237.40219116210938.\n",
      "sample: 100%|██████████| 12500/12500 [00:04<00:00, 2822.44it/s, 7 steps of size 4.08e-01. acc. prob=0.94] \n",
      "sample: 100%|██████████| 12500/12500 [00:02<00:00, 4821.64it/s, 7 steps of size 4.49e-01. acc. prob=0.93] \n",
      "sample: 100%|██████████| 12500/12500 [00:02<00:00, 4816.31it/s, 3 steps of size 4.79e-01. acc. prob=0.93]\n",
      "[I 2023-10-10 03:14:55,331] Trial 17 finished with value: 237.40512084960938 and parameters: {'I_y_mu': 6.843322078989752, 'I_y_sigma': 2.0370362011330005, 'I_z_mu': 4.280025541072325, 'I_z_sigma': 4.207483723075489, 'Q_mu': 9227327313567778.0, 'Q_sigma': 8.00822003966075e+17, 'sigma_mu': 0.2637880470999925, 'sigma_sigma': 0.7486564269343754}. Best is trial 12 with value: 237.40219116210938.\n",
      "sample: 100%|██████████| 12500/12500 [00:04<00:00, 2709.13it/s, 3 steps of size 4.43e-01. acc. prob=0.93] \n",
      "sample: 100%|██████████| 12500/12500 [00:02<00:00, 4789.39it/s, 7 steps of size 5.05e-01. acc. prob=0.91] \n",
      "sample: 100%|██████████| 12500/12500 [00:02<00:00, 4544.39it/s, 3 steps of size 5.14e-01. acc. prob=0.91] \n",
      "[I 2023-10-10 03:15:07,106] Trial 18 finished with value: 237.39532470703125 and parameters: {'I_y_mu': 5.154612412614952, 'I_y_sigma': 5.711264607712016, 'I_z_mu': 4.282986832931614, 'I_z_sigma': 1.7819194039577146, 'Q_mu': 1.7587139598008035e+17, 'Q_sigma': 6.196213562635561e+17, 'sigma_mu': 0.4485783475266083, 'sigma_sigma': 0.4336216236573498}. Best is trial 18 with value: 237.39532470703125.\n",
      "sample: 100%|██████████| 12500/12500 [00:04<00:00, 2879.14it/s, 3 steps of size 5.18e-01. acc. prob=0.92]\n",
      "sample: 100%|██████████| 12500/12500 [00:02<00:00, 4806.88it/s, 7 steps of size 4.68e-01. acc. prob=0.93]\n",
      "sample: 100%|██████████| 12500/12500 [00:02<00:00, 4782.70it/s, 7 steps of size 5.29e-01. acc. prob=0.91]\n",
      "[I 2023-10-10 03:15:18,428] Trial 19 finished with value: 295.067138671875 and parameters: {'I_y_mu': 4.5362847817896625, 'I_y_sigma': 6.1269318837232145, 'I_z_mu': 2.323519159335044, 'I_z_sigma': 0.23563230562300674, 'Q_mu': 1.9342030332408093e+17, 'Q_sigma': 5.908290739686945e+17, 'sigma_mu': 0.379906787686591, 'sigma_sigma': 0.36316939842713764}. Best is trial 18 with value: 237.39532470703125.\n",
      "sample: 100%|██████████| 12500/12500 [00:04<00:00, 2763.92it/s, 7 steps of size 4.42e-01. acc. prob=0.93]\n",
      "sample: 100%|██████████| 12500/12500 [00:02<00:00, 4843.48it/s, 7 steps of size 4.43e-01. acc. prob=0.93]\n",
      "sample: 100%|██████████| 12500/12500 [00:02<00:00, 4893.67it/s, 3 steps of size 5.27e-01. acc. prob=0.90]\n",
      "[I 2023-10-10 03:15:29,875] Trial 20 finished with value: 237.40386962890625 and parameters: {'I_y_mu': 4.993218015455047, 'I_y_sigma': 8.13216892317367, 'I_z_mu': 4.50163222486724, 'I_z_sigma': 1.9599620539768634, 'Q_mu': 3.6736986668164365e+17, 'Q_sigma': 4.3310786962649434e+17, 'sigma_mu': 0.7533662664623895, 'sigma_sigma': 0.4006464442369718}. Best is trial 18 with value: 237.39532470703125.\n",
      "sample: 100%|██████████| 12500/12500 [00:04<00:00, 2928.77it/s, 7 steps of size 4.25e-01. acc. prob=0.94] \n",
      "sample: 100%|██████████| 12500/12500 [00:02<00:00, 4737.42it/s, 7 steps of size 5.13e-01. acc. prob=0.91] \n",
      "sample: 100%|██████████| 12500/12500 [00:02<00:00, 4850.73it/s, 3 steps of size 4.70e-01. acc. prob=0.93] \n",
      "[I 2023-10-10 03:15:41,100] Trial 21 finished with value: 237.39013671875 and parameters: {'I_y_mu': 5.656770234219978, 'I_y_sigma': 4.51925878123675, 'I_z_mu': 4.585578773409615, 'I_z_sigma': 2.6256059432976606, 'Q_mu': 1.4183280391781544e+17, 'Q_sigma': 7.037989890555648e+17, 'sigma_mu': 0.6017202878279353, 'sigma_sigma': 0.20851467245927352}. Best is trial 21 with value: 237.39013671875.\n",
      "sample: 100%|██████████| 12500/12500 [00:04<00:00, 2980.56it/s, 7 steps of size 4.76e-01. acc. prob=0.93] \n",
      "sample: 100%|██████████| 12500/12500 [00:02<00:00, 4954.45it/s, 3 steps of size 5.44e-01. acc. prob=0.90] \n",
      "sample: 100%|██████████| 12500/12500 [00:02<00:00, 4916.50it/s, 3 steps of size 4.97e-01. acc. prob=0.91]\n",
      "[I 2023-10-10 03:15:52,088] Trial 22 finished with value: 237.27142333984375 and parameters: {'I_y_mu': 5.455018628343643, 'I_y_sigma': 4.088284244949383, 'I_z_mu': 4.079824085968672, 'I_z_sigma': 1.1145535939010156, 'Q_mu': 1.266826996405316e+17, 'Q_sigma': 8.687224317890958e+17, 'sigma_mu': 0.4739710551220155, 'sigma_sigma': 0.2455736641099455}. Best is trial 22 with value: 237.27142333984375.\n",
      "sample: 100%|██████████| 12500/12500 [00:04<00:00, 2894.59it/s, 3 steps of size 4.46e-01. acc. prob=0.93] \n",
      "sample: 100%|██████████| 12500/12500 [00:02<00:00, 4892.07it/s, 7 steps of size 5.18e-01. acc. prob=0.91]\n",
      "sample: 100%|██████████| 12500/12500 [00:02<00:00, 4969.77it/s, 3 steps of size 5.14e-01. acc. prob=0.91] \n",
      "[I 2023-10-10 03:16:03,200] Trial 23 finished with value: 237.21702575683594 and parameters: {'I_y_mu': 5.146123615822369, 'I_y_sigma': 3.982109494929434, 'I_z_mu': 4.491444821091105, 'I_z_sigma': 0.9822552256907299, 'Q_mu': 1.349323132910759e+17, 'Q_sigma': 8.691686236121428e+17, 'sigma_mu': 0.4001743078468699, 'sigma_sigma': 0.40702798500492055}. Best is trial 23 with value: 237.21702575683594.\n",
      "sample: 100%|██████████| 12500/12500 [00:04<00:00, 2928.28it/s, 3 steps of size 4.31e-01. acc. prob=0.94] \n",
      "sample: 100%|██████████| 12500/12500 [00:02<00:00, 4951.89it/s, 7 steps of size 4.94e-01. acc. prob=0.92]\n",
      "sample: 100%|██████████| 12500/12500 [00:02<00:00, 5134.06it/s, 3 steps of size 5.10e-01. acc. prob=0.91] \n",
      "[I 2023-10-10 03:16:14,151] Trial 24 finished with value: 237.02371215820312 and parameters: {'I_y_mu': 5.429012457137995, 'I_y_sigma': 3.7338113985399977, 'I_z_mu': 4.835923757862198, 'I_z_sigma': 0.7821407416882223, 'Q_mu': 1.1954532480068779e+17, 'Q_sigma': 8.814678908685738e+17, 'sigma_mu': 0.2442626768922853, 'sigma_sigma': 0.24789320382740612}. Best is trial 24 with value: 237.02371215820312.\n",
      "sample: 100%|██████████| 12500/12500 [00:04<00:00, 2919.84it/s, 3 steps of size 4.87e-01. acc. prob=0.92]\n",
      "sample: 100%|██████████| 12500/12500 [00:02<00:00, 4844.87it/s, 7 steps of size 4.23e-01. acc. prob=0.94]\n",
      "sample: 100%|██████████| 12500/12500 [00:02<00:00, 4981.74it/s, 7 steps of size 5.43e-01. acc. prob=0.90]\n",
      "[I 2023-10-10 03:16:25,298] Trial 25 finished with value: 237.1236572265625 and parameters: {'I_y_mu': 4.353131363710767, 'I_y_sigma': 3.9512030664811264, 'I_z_mu': 3.8166882245074927, 'I_z_sigma': 0.732115972352873, 'Q_mu': 2.931280530244023e+17, 'Q_sigma': 8.941174534177667e+17, 'sigma_mu': 0.20435096638925618, 'sigma_sigma': 0.20612823085151577}. Best is trial 24 with value: 237.02371215820312.\n",
      "sample: 100%|██████████| 12500/12500 [00:04<00:00, 2907.64it/s, 7 steps of size 4.27e-01. acc. prob=0.94] \n",
      "sample: 100%|██████████| 12500/12500 [00:02<00:00, 4579.46it/s, 7 steps of size 4.73e-01. acc. prob=0.93] \n",
      "sample: 100%|██████████| 12500/12500 [00:02<00:00, 4844.02it/s, 15 steps of size 4.53e-01. acc. prob=0.94]\n",
      "[I 2023-10-10 03:16:36,655] Trial 26 finished with value: 236.98797607421875 and parameters: {'I_y_mu': 4.291842688647852, 'I_y_sigma': 2.829810023794262, 'I_z_mu': 4.968551702539962, 'I_z_sigma': 0.7401070622477958, 'Q_mu': 3.207115704087016e+17, 'Q_sigma': 9.983395511833228e+17, 'sigma_mu': 0.2019330095742511, 'sigma_sigma': 0.6275541220988706}. Best is trial 26 with value: 236.98797607421875.\n",
      "sample: 100%|██████████| 12500/12500 [00:04<00:00, 2925.64it/s, 7 steps of size 4.51e-01. acc. prob=0.93]\n",
      "sample: 100%|██████████| 12500/12500 [00:02<00:00, 4599.27it/s, 7 steps of size 4.36e-01. acc. prob=0.94] \n",
      "sample: 100%|██████████| 12500/12500 [00:02<00:00, 4730.41it/s, 3 steps of size 5.30e-01. acc. prob=0.90]\n",
      "[I 2023-10-10 03:16:48,003] Trial 27 finished with value: 295.39190673828125 and parameters: {'I_y_mu': 4.016809728650192, 'I_y_sigma': 2.5184575298886096, 'I_z_mu': 5.153814361165283, 'I_z_sigma': 0.6198968685824122, 'Q_mu': 3.265245621412858e+17, 'Q_sigma': 9.186758294143282e+17, 'sigma_mu': 0.20499351580575054, 'sigma_sigma': 0.691203563179378}. Best is trial 26 with value: 236.98797607421875.\n",
      "sample: 100%|██████████| 12500/12500 [00:04<00:00, 2880.99it/s, 3 steps of size 4.46e-01. acc. prob=0.93]\n",
      "sample: 100%|██████████| 12500/12500 [00:02<00:00, 4623.22it/s, 7 steps of size 4.80e-01. acc. prob=0.92] \n",
      "sample: 100%|██████████| 12500/12500 [00:02<00:00, 4917.77it/s, 3 steps of size 5.46e-01. acc. prob=0.90] \n",
      "[I 2023-10-10 03:16:59,311] Trial 28 finished with value: 237.25282287597656 and parameters: {'I_y_mu': 3.6209439180078697, 'I_y_sigma': 1.8812027520178813, 'I_z_mu': 3.763494964416566, 'I_z_sigma': 0.9050289130668984, 'Q_mu': 2.33927663897942e+17, 'Q_sigma': 9.926212091778557e+17, 'sigma_mu': 0.2929211398302181, 'sigma_sigma': 0.6032841485900449}. Best is trial 26 with value: 236.98797607421875.\n",
      "sample: 100%|██████████| 12500/12500 [00:04<00:00, 2891.32it/s, 3 steps of size 5.27e-01. acc. prob=0.93]\n",
      "sample: 100%|██████████| 12500/12500 [00:02<00:00, 4907.40it/s, 7 steps of size 5.89e-01. acc. prob=0.91]\n",
      "sample: 100%|██████████| 12500/12500 [00:02<00:00, 4946.54it/s, 7 steps of size 5.80e-01. acc. prob=0.91]\n",
      "[I 2023-10-10 03:17:10,496] Trial 29 finished with value: 295.2565612792969 and parameters: {'I_y_mu': 4.464561922444918, 'I_y_sigma': 3.1494027651237992, 'I_z_mu': 5.776841000342236, 'I_z_sigma': 0.26838765199897113, 'Q_mu': 4.345390271114602e+17, 'Q_sigma': 9.947396775762175e+17, 'sigma_mu': 0.2059163408929603, 'sigma_sigma': 0.5449477524289487}. Best is trial 26 with value: 236.98797607421875.\n",
      "sample: 100%|██████████| 12500/12500 [00:04<00:00, 2899.53it/s, 7 steps of size 5.25e-01. acc. prob=0.94]\n",
      "sample: 100%|██████████| 12500/12500 [00:02<00:00, 4681.51it/s, 3 steps of size 6.66e-01. acc. prob=0.88]\n",
      "sample: 100%|██████████| 12500/12500 [00:02<00:00, 4743.26it/s, 7 steps of size 6.23e-01. acc. prob=0.90]\n",
      "[I 2023-10-10 03:17:21,895] Trial 30 finished with value: 295.2283935546875 and parameters: {'I_y_mu': 6.399228451460031, 'I_y_sigma': 3.642309803568458, 'I_z_mu': 5.966385462811494, 'I_z_sigma': 0.07593283438060572, 'Q_mu': 4.6589649700161235e+17, 'Q_sigma': 8.732393524332905e+17, 'sigma_mu': 0.3212772117921985, 'sigma_sigma': 0.36144776020918634}. Best is trial 26 with value: 236.98797607421875.\n",
      "sample: 100%|██████████| 12500/12500 [00:04<00:00, 2982.62it/s, 3 steps of size 4.90e-01. acc. prob=0.92]\n",
      "sample: 100%|██████████| 12500/12500 [00:02<00:00, 4744.75it/s, 7 steps of size 4.55e-01. acc. prob=0.93] \n",
      "sample: 100%|██████████| 12500/12500 [00:02<00:00, 4775.06it/s, 3 steps of size 4.76e-01. acc. prob=0.93] \n",
      "[I 2023-10-10 03:17:33,130] Trial 31 finished with value: 237.20938110351562 and parameters: {'I_y_mu': 4.9430161155199706, 'I_y_sigma': 4.101826847942221, 'I_z_mu': 4.8485832332733105, 'I_z_sigma': 1.0588185191992308, 'Q_mu': 3.313507858789692e+17, 'Q_sigma': 9.051366078224338e+17, 'sigma_mu': 0.373304455209701, 'sigma_sigma': 0.44611204095812074}. Best is trial 26 with value: 236.98797607421875.\n",
      "sample: 100%|██████████| 12500/12500 [00:04<00:00, 2880.72it/s, 7 steps of size 4.46e-01. acc. prob=0.93]\n",
      "sample: 100%|██████████| 12500/12500 [00:02<00:00, 4683.68it/s, 7 steps of size 4.38e-01. acc. prob=0.94]\n",
      "sample: 100%|██████████| 12500/12500 [00:02<00:00, 4723.55it/s, 3 steps of size 4.83e-01. acc. prob=0.92]\n",
      "[I 2023-10-10 03:17:44,591] Trial 32 finished with value: 237.1492462158203 and parameters: {'I_y_mu': 4.71597189525923, 'I_y_sigma': 3.0491091186490973, 'I_z_mu': 4.953900356723878, 'I_z_sigma': 0.9598247696846063, 'Q_mu': 3.5681119389039014e+17, 'Q_sigma': 9.990254007818726e+17, 'sigma_mu': 0.31971082741598816, 'sigma_sigma': 0.3569073112683985}. Best is trial 26 with value: 236.98797607421875.\n",
      "sample: 100%|██████████| 12500/12500 [00:04<00:00, 2801.78it/s, 7 steps of size 4.05e-01. acc. prob=0.95] \n",
      "sample: 100%|██████████| 12500/12500 [00:02<00:00, 4768.20it/s, 3 steps of size 5.74e-01. acc. prob=0.88]\n",
      "sample: 100%|██████████| 12500/12500 [00:02<00:00, 4763.27it/s, 3 steps of size 4.59e-01. acc. prob=0.93] \n",
      "[I 2023-10-10 03:17:56,102] Trial 33 finished with value: 237.38522338867188 and parameters: {'I_y_mu': 6.18849942952977, 'I_y_sigma': 3.0533245149986703, 'I_z_mu': 5.099618214767512, 'I_z_sigma': 2.4578001470354636, 'Q_mu': 2.549052038886363e+17, 'Q_sigma': 9.994701876127476e+17, 'sigma_mu': 0.3106306003791668, 'sigma_sigma': 0.33846782144368115}. Best is trial 26 with value: 236.98797607421875.\n",
      "sample: 100%|██████████| 12500/12500 [00:04<00:00, 2902.02it/s, 7 steps of size 4.57e-01. acc. prob=0.93] \n",
      "sample: 100%|██████████| 12500/12500 [00:02<00:00, 4704.30it/s, 7 steps of size 4.37e-01. acc. prob=0.94]\n",
      "sample: 100%|██████████| 12500/12500 [00:02<00:00, 4781.36it/s, 3 steps of size 5.08e-01. acc. prob=0.92] \n",
      "[I 2023-10-10 03:18:07,439] Trial 34 finished with value: 237.26025390625 and parameters: {'I_y_mu': 4.29052708528213, 'I_y_sigma': 3.3941503587418476, 'I_z_mu': 5.416469759945701, 'I_z_sigma': 1.4325333171614294, 'Q_mu': 3.9095495657927974e+17, 'Q_sigma': 9.387329153940512e+17, 'sigma_mu': 0.3110260132916733, 'sigma_sigma': 0.2044196807168571}. Best is trial 26 with value: 236.98797607421875.\n",
      "sample: 100%|██████████| 12500/12500 [00:04<00:00, 2792.91it/s, 7 steps of size 4.85e-01. acc. prob=0.92] \n",
      "sample: 100%|██████████| 12500/12500 [00:02<00:00, 4673.32it/s, 7 steps of size 4.70e-01. acc. prob=0.93] \n",
      "sample: 100%|██████████| 12500/12500 [00:02<00:00, 4689.78it/s, 7 steps of size 4.81e-01. acc. prob=0.92] \n",
      "[I 2023-10-10 03:18:19,044] Trial 35 finished with value: 236.8489227294922 and parameters: {'I_y_mu': 3.307535225950243, 'I_y_sigma': 2.4091469930189806, 'I_z_mu': 5.224013583951974, 'I_z_sigma': 0.6511460452092064, 'Q_mu': 3.587393803749656e+17, 'Q_sigma': 8.410553165208742e+17, 'sigma_mu': 0.5379440607212231, 'sigma_sigma': 0.5964541114484834}. Best is trial 35 with value: 236.8489227294922.\n",
      "sample: 100%|██████████| 12500/12500 [00:04<00:00, 2845.15it/s, 3 steps of size 5.01e-01. acc. prob=0.91]\n",
      "sample: 100%|██████████| 12500/12500 [00:02<00:00, 4636.78it/s, 7 steps of size 4.85e-01. acc. prob=0.92]\n",
      "sample: 100%|██████████| 12500/12500 [00:02<00:00, 4576.04it/s, 15 steps of size 4.70e-01. acc. prob=0.93]\n",
      "[I 2023-10-10 03:18:30,661] Trial 36 finished with value: 237.38009643554688 and parameters: {'I_y_mu': 3.2230659270992628, 'I_y_sigma': 2.139024542519617, 'I_z_mu': 5.934974967313835, 'I_z_sigma': 2.2711209272080928, 'Q_mu': 2.984240148552954e+17, 'Q_sigma': 8.439282563398523e+17, 'sigma_mu': 0.4689682846286977, 'sigma_sigma': 0.6522534661971389}. Best is trial 35 with value: 236.8489227294922.\n",
      "sample: 100%|██████████| 12500/12500 [00:04<00:00, 2767.10it/s, 3 steps of size 5.28e-01. acc. prob=0.92] \n",
      "sample: 100%|██████████| 12500/12500 [00:02<00:00, 4617.50it/s, 7 steps of size 4.68e-01. acc. prob=0.93] \n",
      "sample: 100%|██████████| 12500/12500 [00:02<00:00, 4753.00it/s, 7 steps of size 5.90e-01. acc. prob=0.89]\n",
      "[I 2023-10-10 03:18:42,312] Trial 37 finished with value: 295.25738525390625 and parameters: {'I_y_mu': 2.8077539727514713, 'I_y_sigma': 1.6383450814179208, 'I_z_mu': 6.521999158904849, 'I_z_sigma': 0.6208122506689817, 'Q_mu': 4.9279833111049165e+17, 'Q_sigma': 8.115866458397787e+17, 'sigma_mu': 0.49423362058584175, 'sigma_sigma': 0.8150623480264821}. Best is trial 35 with value: 236.8489227294922.\n",
      "sample: 100%|██████████| 12500/12500 [00:04<00:00, 2782.21it/s, 7 steps of size 4.57e-01. acc. prob=0.93] \n",
      "sample: 100%|██████████| 12500/12500 [00:02<00:00, 4426.47it/s, 7 steps of size 4.28e-01. acc. prob=0.94] \n",
      "sample: 100%|██████████| 12500/12500 [00:02<00:00, 4683.62it/s, 15 steps of size 4.54e-01. acc. prob=0.93]\n",
      "[I 2023-10-10 03:18:54,084] Trial 38 finished with value: 237.388916015625 and parameters: {'I_y_mu': 3.8679874064852795, 'I_y_sigma': 1.2644867328136966, 'I_z_mu': 5.416060114270311, 'I_z_sigma': 3.034430982305236, 'Q_mu': 7.78816410350122e+16, 'Q_sigma': 9.308807650235802e+17, 'sigma_mu': 0.5042221478250493, 'sigma_sigma': 0.5133710703531927}. Best is trial 35 with value: 236.8489227294922.\n",
      "sample: 100%|██████████| 12500/12500 [00:04<00:00, 2858.05it/s, 3 steps of size 4.39e-01. acc. prob=0.93] \n",
      "sample: 100%|██████████| 12500/12500 [00:02<00:00, 4535.58it/s, 7 steps of size 4.61e-01. acc. prob=0.93] \n",
      "sample: 100%|██████████| 12500/12500 [00:02<00:00, 4662.45it/s, 3 steps of size 4.73e-01. acc. prob=0.92] \n",
      "[I 2023-10-10 03:19:05,667] Trial 39 finished with value: 237.3897705078125 and parameters: {'I_y_mu': 1.8938867028723436, 'I_y_sigma': 2.4302303236405396, 'I_z_mu': 3.7558863869601735, 'I_z_sigma': 1.4515491824202569, 'Q_mu': 1.977965337237116e+17, 'Q_sigma': 8.956095044559483e+17, 'sigma_mu': 0.23115590642418807, 'sigma_sigma': 0.8764245850640221}. Best is trial 35 with value: 236.8489227294922.\n",
      "sample: 100%|██████████| 12500/12500 [00:04<00:00, 2839.37it/s, 7 steps of size 4.81e-01. acc. prob=0.92] \n",
      "sample: 100%|██████████| 12500/12500 [00:02<00:00, 4577.10it/s, 7 steps of size 4.88e-01. acc. prob=0.91]\n",
      "sample: 100%|██████████| 12500/12500 [00:02<00:00, 4643.35it/s, 3 steps of size 5.24e-01. acc. prob=0.91]\n",
      "[I 2023-10-10 03:19:17,274] Trial 40 finished with value: 237.33143615722656 and parameters: {'I_y_mu': 4.3563816938937965, 'I_y_sigma': 2.573393143433809, 'I_z_mu': 7.390141611463875, 'I_z_sigma': 2.287669766206844, 'Q_mu': 6.225295166826335e+17, 'Q_sigma': 8.35633743942785e+17, 'sigma_mu': 0.40254639665145575, 'sigma_sigma': 0.5859591246431821}. Best is trial 35 with value: 236.8489227294922.\n",
      "sample: 100%|██████████| 12500/12500 [00:04<00:00, 2820.90it/s, 7 steps of size 4.79e-01. acc. prob=0.92]\n",
      "sample: 100%|██████████| 12500/12500 [00:02<00:00, 4445.84it/s, 7 steps of size 4.87e-01. acc. prob=0.92] \n",
      "sample: 100%|██████████| 12500/12500 [00:02<00:00, 4639.22it/s, 3 steps of size 5.26e-01. acc. prob=0.90]\n",
      "[I 2023-10-10 03:19:28,994] Trial 41 finished with value: 237.10980224609375 and parameters: {'I_y_mu': 4.587932538224167, 'I_y_sigma': 3.1312628323944662, 'I_z_mu': 4.854273532616215, 'I_z_sigma': 0.8690724668898926, 'Q_mu': 3.442270767273668e+17, 'Q_sigma': 9.667300644761181e+17, 'sigma_mu': 0.31006044296374935, 'sigma_sigma': 0.3335380494781887}. Best is trial 35 with value: 236.8489227294922.\n",
      "sample: 100%|██████████| 12500/12500 [00:04<00:00, 2745.71it/s, 7 steps of size 4.81e-01. acc. prob=0.93] \n",
      "sample: 100%|██████████| 12500/12500 [00:02<00:00, 4576.38it/s, 7 steps of size 5.16e-01. acc. prob=0.91]\n",
      "sample: 100%|██████████| 12500/12500 [00:02<00:00, 4587.11it/s, 7 steps of size 5.07e-01. acc. prob=0.92]\n",
      "[I 2023-10-10 03:19:40,804] Trial 42 finished with value: 295.1939392089844 and parameters: {'I_y_mu': 5.532283401355029, 'I_y_sigma': 3.350263467339296, 'I_z_mu': 4.7664374836042045, 'I_z_sigma': 0.49664132174136566, 'Q_mu': 2.896697633930605e+17, 'Q_sigma': 9.557880021070317e+17, 'sigma_mu': 0.5275123429500397, 'sigma_sigma': 0.31596660495874374}. Best is trial 35 with value: 236.8489227294922.\n",
      "sample: 100%|██████████| 12500/12500 [00:04<00:00, 2839.26it/s, 3 steps of size 5.74e-01. acc. prob=0.92]\n",
      "sample: 100%|██████████| 12500/12500 [00:02<00:00, 4709.79it/s, 3 steps of size 6.26e-01. acc. prob=0.90]\n",
      "sample: 100%|██████████| 12500/12500 [00:02<00:00, 4692.50it/s, 7 steps of size 6.08e-01. acc. prob=0.91]\n",
      "[I 2023-10-10 03:19:52,327] Trial 43 finished with value: 295.2468566894531 and parameters: {'I_y_mu': 3.629915963583649, 'I_y_sigma': 3.765045497659012, 'I_z_mu': 5.566549021950777, 'I_z_sigma': 0.0527801923482113, 'Q_mu': 3.5469596730209856e+17, 'Q_sigma': 9.439404027108881e+17, 'sigma_mu': 0.21472035697978437, 'sigma_sigma': 0.503658828495024}. Best is trial 35 with value: 236.8489227294922.\n",
      "sample: 100%|██████████| 12500/12500 [00:04<00:00, 2882.03it/s, 3 steps of size 5.66e-01. acc. prob=0.90]\n",
      "sample: 100%|██████████| 12500/12500 [00:02<00:00, 4581.47it/s, 7 steps of size 5.13e-01. acc. prob=0.92]\n",
      "sample: 100%|██████████| 12500/12500 [00:02<00:00, 4686.02it/s, 7 steps of size 5.69e-01. acc. prob=0.89]\n",
      "[I 2023-10-10 03:20:03,845] Trial 44 finished with value: 295.2243347167969 and parameters: {'I_y_mu': 5.8970717447765315, 'I_y_sigma': 2.858163936245181, 'I_z_mu': 6.216281026945918, 'I_z_sigma': 0.6164031889379677, 'Q_mu': 4.263662166830948e+17, 'Q_sigma': 8.955417435851087e+17, 'sigma_mu': 0.30419323301408996, 'sigma_sigma': 0.2982029700021474}. Best is trial 35 with value: 236.8489227294922.\n",
      "sample: 100%|██████████| 12500/12500 [00:04<00:00, 2828.93it/s, 7 steps of size 4.48e-01. acc. prob=0.93] \n",
      "sample: 100%|██████████| 12500/12500 [00:02<00:00, 4524.14it/s, 7 steps of size 4.85e-01. acc. prob=0.92]\n",
      "sample: 100%|██████████| 12500/12500 [00:02<00:00, 4611.01it/s, 3 steps of size 5.26e-01. acc. prob=0.91]\n",
      "[I 2023-10-10 03:20:15,478] Trial 45 finished with value: 237.29452514648438 and parameters: {'I_y_mu': 4.119490812549559, 'I_y_sigma': 4.446704090923946, 'I_z_mu': 5.038816643625553, 'I_z_sigma': 1.3612966738209709, 'Q_mu': 2.3638567307384963e+17, 'Q_sigma': 7.778777650732156e+17, 'sigma_mu': 0.39502933239831234, 'sigma_sigma': 0.4421003436098089}. Best is trial 35 with value: 236.8489227294922.\n",
      "sample: 100%|██████████| 12500/12500 [00:04<00:00, 2771.19it/s, 3 steps of size 4.38e-01. acc. prob=0.94]\n",
      "sample: 100%|██████████| 12500/12500 [00:02<00:00, 4538.52it/s, 3 steps of size 4.71e-01. acc. prob=0.93] \n",
      "sample: 100%|██████████| 12500/12500 [00:02<00:00, 4501.02it/s, 3 steps of size 5.15e-01. acc. prob=0.91]\n",
      "[I 2023-10-10 03:20:27,315] Trial 46 finished with value: 237.11309814453125 and parameters: {'I_y_mu': 4.574550358924309, 'I_y_sigma': 3.4269978605743736, 'I_z_mu': 3.94949392641501, 'I_z_sigma': 0.7122322604960034, 'Q_mu': 2.974317889493187e+17, 'Q_sigma': 8.496953372456884e+17, 'sigma_mu': 0.5606917304164545, 'sigma_sigma': 0.6950638052277467}. Best is trial 35 with value: 236.8489227294922.\n",
      "sample: 100%|██████████| 12500/12500 [00:04<00:00, 2822.59it/s, 7 steps of size 4.74e-01. acc. prob=0.92]\n",
      "sample: 100%|██████████| 12500/12500 [00:02<00:00, 4564.82it/s, 7 steps of size 4.96e-01. acc. prob=0.91] \n",
      "sample: 100%|██████████| 12500/12500 [00:02<00:00, 4665.76it/s, 7 steps of size 5.73e-01. acc. prob=0.88]\n",
      "[I 2023-10-10 03:20:38,965] Trial 47 finished with value: 237.1969757080078 and parameters: {'I_y_mu': 5.268873129397164, 'I_y_sigma': 1.3075518661092738, 'I_z_mu': 6.659961244833246, 'I_z_sigma': 1.5668319670154893, 'Q_mu': 6.736431011135123e+16, 'Q_sigma': 8.42638184578089e+17, 'sigma_mu': 0.6847191913134214, 'sigma_sigma': 0.6818636150708599}. Best is trial 35 with value: 236.8489227294922.\n",
      "sample: 100%|██████████| 12500/12500 [00:04<00:00, 2823.69it/s, 7 steps of size 4.18e-01. acc. prob=0.94]\n",
      "sample: 100%|██████████| 12500/12500 [00:02<00:00, 4502.39it/s, 3 steps of size 4.78e-01. acc. prob=0.93] \n",
      "sample: 100%|██████████| 12500/12500 [00:02<00:00, 4567.14it/s, 3 steps of size 4.87e-01. acc. prob=0.92]\n",
      "[I 2023-10-10 03:20:50,707] Trial 48 finished with value: 237.43597412109375 and parameters: {'I_y_mu': 4.82656640866567, 'I_y_sigma': 3.232146470251382, 'I_z_mu': 3.268242261823647, 'I_z_sigma': 2.129253138452298, 'Q_mu': 3.845893943526584e+17, 'Q_sigma': 7.645065670848937e+17, 'sigma_mu': 0.5785957372656207, 'sigma_sigma': 0.5766206328795257}. Best is trial 35 with value: 236.8489227294922.\n",
      "sample: 100%|██████████| 12500/12500 [00:04<00:00, 2820.75it/s, 3 steps of size 4.23e-01. acc. prob=0.94] \n",
      "sample: 100%|██████████| 12500/12500 [00:02<00:00, 4540.14it/s, 3 steps of size 4.77e-01. acc. prob=0.93] \n",
      "sample: 100%|██████████| 12500/12500 [00:02<00:00, 4604.68it/s, 3 steps of size 4.69e-01. acc. prob=0.92] \n",
      "[I 2023-10-10 03:21:02,416] Trial 49 finished with value: 237.40878295898438 and parameters: {'I_y_mu': 6.156856160531647, 'I_y_sigma': 2.383704559951193, 'I_z_mu': 5.486139110283495, 'I_z_sigma': 3.4384139904556124, 'Q_mu': 8.86627273935688e+16, 'Q_sigma': 9.584677863856961e+17, 'sigma_mu': 0.9027467134566458, 'sigma_sigma': 0.7413996571339743}. Best is trial 35 with value: 236.8489227294922.\n",
      "sample: 100%|██████████| 12500/12500 [00:04<00:00, 2786.96it/s, 3 steps of size 4.49e-01. acc. prob=0.93] \n",
      "sample: 100%|██████████| 12500/12500 [00:02<00:00, 4411.61it/s, 7 steps of size 4.29e-01. acc. prob=0.94] \n",
      "sample: 100%|██████████| 12500/12500 [00:02<00:00, 4606.46it/s, 3 steps of size 4.91e-01. acc. prob=0.92] \n",
      "[I 2023-10-10 03:21:14,275] Trial 50 finished with value: 237.31201171875 and parameters: {'I_y_mu': 3.009633340565424, 'I_y_sigma': 2.7128188886191595, 'I_z_mu': 4.635709504871525, 'I_z_sigma': 1.3184458733503976, 'Q_mu': 2.0898528127696486e+17, 'Q_sigma': 7.332759909245472e+17, 'sigma_mu': 0.5309446089851471, 'sigma_sigma': 0.49448390400284975}. Best is trial 35 with value: 236.8489227294922.\n",
      "sample: 100%|██████████| 12500/12500 [00:04<00:00, 2824.17it/s, 7 steps of size 4.32e-01. acc. prob=0.94]\n",
      "sample: 100%|██████████| 12500/12500 [00:02<00:00, 4550.75it/s, 7 steps of size 4.84e-01. acc. prob=0.92]\n",
      "sample: 100%|██████████| 12500/12500 [00:02<00:00, 4594.45it/s, 3 steps of size 5.32e-01. acc. prob=0.90]\n",
      "[I 2023-10-10 03:21:25,973] Trial 51 finished with value: 236.96969604492188 and parameters: {'I_y_mu': 4.647085855469719, 'I_y_sigma': 3.777556573375284, 'I_z_mu': 3.888189983997805, 'I_z_sigma': 0.5638103516829374, 'Q_mu': 2.7330256642070534e+17, 'Q_sigma': 9.021167743276433e+17, 'sigma_mu': 0.2542956121552679, 'sigma_sigma': 0.2784331545861797}. Best is trial 35 with value: 236.8489227294922.\n",
      "sample: 100%|██████████| 12500/12500 [00:04<00:00, 2801.12it/s, 7 steps of size 4.93e-01. acc. prob=0.93]\n",
      "sample: 100%|██████████| 12500/12500 [00:02<00:00, 4636.84it/s, 3 steps of size 5.73e-01. acc. prob=0.89]\n",
      "sample: 100%|██████████| 12500/12500 [00:02<00:00, 4646.28it/s, 7 steps of size 5.64e-01. acc. prob=0.90]\n",
      "[I 2023-10-10 03:21:37,638] Trial 52 finished with value: 295.20465087890625 and parameters: {'I_y_mu': 4.7068809386724215, 'I_y_sigma': 3.520340779529551, 'I_z_mu': 4.073902453051013, 'I_z_sigma': 0.37639374813651344, 'Q_mu': 3.26216685107098e+17, 'Q_sigma': 8.276249528078488e+17, 'sigma_mu': 0.27342251359584396, 'sigma_sigma': 0.39260999511659767}. Best is trial 35 with value: 236.8489227294922.\n",
      "sample: 100%|██████████| 12500/12500 [00:04<00:00, 2724.01it/s, 3 steps of size 4.93e-01. acc. prob=0.92]\n",
      "sample: 100%|██████████| 12500/12500 [00:02<00:00, 4512.89it/s, 7 steps of size 5.09e-01. acc. prob=0.91]\n",
      "sample: 100%|██████████| 12500/12500 [00:02<00:00, 4510.00it/s, 23 steps of size 4.34e-01. acc. prob=0.94]\n",
      "[I 2023-10-10 03:21:49,613] Trial 53 finished with value: 237.40907287597656 and parameters: {'I_y_mu': 3.6569965773638127, 'I_y_sigma': 4.941735629367596, 'I_z_mu': 3.4214125420385058, 'I_z_sigma': 1.8333611284413471, 'Q_mu': 2.392978442321177e+17, 'Q_sigma': 9.591064358135657e+17, 'sigma_mu': 0.419367855332906, 'sigma_sigma': 0.32483832689665965}. Best is trial 35 with value: 236.8489227294922.\n",
      "sample: 100%|██████████| 12500/12500 [00:04<00:00, 2768.52it/s, 7 steps of size 4.23e-01. acc. prob=0.94] \n",
      "sample: 100%|██████████| 12500/12500 [00:02<00:00, 4486.04it/s, 7 steps of size 4.72e-01. acc. prob=0.93] \n",
      "sample: 100%|██████████| 12500/12500 [00:02<00:00, 4547.20it/s, 3 steps of size 4.77e-01. acc. prob=0.93] \n",
      "[I 2023-10-10 03:22:01,487] Trial 54 finished with value: 237.378662109375 and parameters: {'I_y_mu': 5.43278059147079, 'I_y_sigma': 4.42669526504643, 'I_z_mu': 2.7849760335466764, 'I_z_sigma': 1.0958056202575013, 'Q_mu': 2.747435498538178e+17, 'Q_sigma': 9.182594186454166e+17, 'sigma_mu': 0.3622769911817374, 'sigma_sigma': 0.46982307775555054}. Best is trial 35 with value: 236.8489227294922.\n",
      "sample: 100%|██████████| 12500/12500 [00:04<00:00, 2817.51it/s, 3 steps of size 5.43e-01. acc. prob=0.93]\n",
      "sample: 100%|██████████| 12500/12500 [00:02<00:00, 4556.12it/s, 3 steps of size 6.26e-01. acc. prob=0.90]\n",
      "sample: 100%|██████████| 12500/12500 [00:02<00:00, 4386.77it/s, 7 steps of size 5.73e-01. acc. prob=0.92]\n",
      "[I 2023-10-10 03:22:13,347] Trial 55 finished with value: 295.224609375 and parameters: {'I_y_mu': 4.713801538004244, 'I_y_sigma': 2.9502785464660852, 'I_z_mu': 4.121073601816715, 'I_z_sigma': 0.03903044637674591, 'Q_mu': 1.833989159927636e+17, 'Q_sigma': 7.828362265946066e+17, 'sigma_mu': 0.6679747608562192, 'sigma_sigma': 0.6241916416305626}. Best is trial 35 with value: 236.8489227294922.\n",
      "sample: 100%|██████████| 12500/12500 [00:04<00:00, 2526.78it/s, 7 steps of size 4.73e-01. acc. prob=0.93] \n",
      "sample: 100%|██████████| 12500/12500 [00:02<00:00, 4330.03it/s, 7 steps of size 4.67e-01. acc. prob=0.93]\n",
      "warmup:   3%|▎         | 429/12500 [00:00<00:02, 4284.96it/s, 3 steps of size 4.36e-01. acc. prob=0.79]"
     ]
    }
   ],
   "source": [
    "optimising_parameters = {\n",
    "                    'I_y_mu': [1e-2, 10],\n",
    "                    'I_y_sigma': [1e-2, 10],\n",
    "                    'I_z_mu': [1e-2, 10],\n",
    "                    'I_z_sigma': [1e-2, 10],\n",
    "                    'Q_mu': [1e9, 1e18],\n",
    "                    'Q_sigma': [1e9, 1e18],\n",
    "                    'sigma_mu':[0.2, 2],\n",
    "                    'sigma_sigma':[0.2, 2]\n",
    "                }\n",
    "\n",
    "optimiser = Optimiser(results_name=results_name, \n",
    "                  data_params=data_params,\n",
    "                  default_params=default_params)\n",
    "\n",
    "# AIC\n",
    "study = optimiser.run(n_trials=100, optimiser_name='AIC_1', optimising_parameters=optimising_parameters, index_name='aic')\n",
    "optimiser.get_plots(study)\n",
    "domain = Domain('cone_from_source_z_limited', resolution=80)\n",
    "domain.add_domain_param('r', 100)\n",
    "domain.add_domain_param('theta', np.pi/8)\n",
    "domain.add_domain_param('source', [0,0,10])\n",
    "optimiser.run_best_params(study, domain, name = 'small_scale_3D_plots', prior_plots=prior_plots)\n",
    "\n",
    "# RMSE\n",
    "study = optimiser.run(n_trials=100, optimiser_name='RMSE_1', optimising_parameters=optimising_parameters, index_name='rmse')\n",
    "optimiser.get_plots(study)\n",
    "domain = Domain('cone_from_source_z_limited', resolution=80)\n",
    "domain.add_domain_param('r', 1000)\n",
    "domain.add_domain_param('theta', np.pi/8)\n",
    "domain.add_domain_param('source', [0,0,10])\n",
    "optimiser.run_best_params(study, domain, name = 'small_scale_3D_plots', prior_plots=prior_plots)\n",
    "\n",
    "# BIC\n",
    "study = optimiser.run(n_trials=100, optimiser_name='BIC_1', optimising_parameters=optimising_parameters, index_name='bic')\n",
    "optimiser.get_plots(study)\n",
    "domain = Domain('cone_from_source_z_limited', resolution=80)\n",
    "domain.add_domain_param('r', 1000)\n",
    "domain.add_domain_param('theta', np.pi/8)\n",
    "domain.add_domain_param('source', [0,0,10])\n",
    "optimiser.run_best_params(study, domain, name = 'small_scale_3D_plots', prior_plots=prior_plots)"
   ]
  }
 ],
 "metadata": {
  "kernelspec": {
   "display_name": "base",
   "language": "python",
   "name": "python3"
  },
  "language_info": {
   "codemirror_mode": {
    "name": "ipython",
    "version": 3
   },
   "file_extension": ".py",
   "mimetype": "text/x-python",
   "name": "python",
   "nbconvert_exporter": "python",
   "pygments_lexer": "ipython3",
   "version": "3.9.16"
  },
  "orig_nbformat": 4
 },
 "nbformat": 4,
 "nbformat_minor": 2
}
