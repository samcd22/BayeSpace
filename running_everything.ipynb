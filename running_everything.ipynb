{
 "cells": [
  {
   "attachments": {},
   "cell_type": "markdown",
   "metadata": {},
   "source": [
    "# Controller #"
   ]
  },
  {
   "attachments": {},
   "cell_type": "markdown",
   "metadata": {},
   "source": [
    "Import all neccessary packages"
   ]
  },
  {
   "cell_type": "code",
   "execution_count": 1,
   "metadata": {},
   "outputs": [
    {
     "name": "stderr",
     "output_type": "stream",
     "text": [
      "No GPU/TPU found, falling back to CPU. (Set TF_CPP_MIN_LOG_LEVEL=0 and rerun for more info.)\n"
     ]
    }
   ],
   "source": [
    "import os\n",
    "import pandas as pd\n",
    "import numpy as np\n",
    "\n",
    "from controllers.inference_controllers.sandbox import Sandbox\n",
    "from controllers.inference_controllers.generator import Generator\n",
    "from controllers.inference_controllers.optimiser import Optimiser\n",
    "\n",
    "from toolboxes.plotting_toolbox.domain import Domain\n",
    "from toolboxes.inference_toolbox.parameter import Parameter\n",
    "from toolboxes.inference_toolbox.model import Model\n",
    "from toolboxes.inference_toolbox.likelihood import Likelihood\n",
    "\n",
    "current_directory = os.getcwd()\n",
    "if current_directory != '/project/':\n",
    "    os.chdir('/project/')"
   ]
  },
  {
   "attachments": {},
   "cell_type": "markdown",
   "metadata": {},
   "source": [
    "Defining simulated data"
   ]
  },
  {
   "cell_type": "code",
   "execution_count": 5,
   "metadata": {},
   "outputs": [],
   "source": [
    "data_params = {\n",
    "    'data_type': 'simulated_data',\n",
    "    'model': {\n",
    "        'model_select': 'log_gpm_norm',\n",
    "        'model_params':{\n",
    "            'H': 10\n",
    "        },\n",
    "        'inference_params':{\n",
    "            'I_y': 1.6,\n",
    "            'I_z': 1.2,\n",
    "            'Q': 3e13,\n",
    "            'sigma': 1\n",
    "        }\n",
    "    },\n",
    "    'domain':{\n",
    "        'domain_select': 'cone_from_source_z_limited',\n",
    "        'domain_params': {\n",
    "            'r': 1000,\n",
    "            'theta': np.pi/8,\n",
    "            'source': [0,0,10]\n",
    "        },\n",
    "        'resolution': 20\n",
    "    },\n",
    "    'noise_dist': 'gaussian',\n",
    "    'noise_level': 1,\n",
    "    'output_header': 'Concentration',\n",
    "}\n",
    "\n",
    "# data_params = {\n",
    "#     'data_type': 'normalised_data',\n",
    "#     'data_select': 'GBR_data',\n",
    "#     'normaliser_select': 'GBR_normaliser',\n",
    "#     'normaliser_params':{\n",
    "#         'experiments_list': [\n",
    "#             'Exp1',\n",
    "#             'Exp2',\n",
    "#             'Exp3',\n",
    "#             'Exp4',\n",
    "#             'Exp5',\n",
    "#             'Exp6',\n",
    "#             'Exp7',\n",
    "#             'Exp8',\n",
    "#             'Exp9',\n",
    "#             'Exp10',\n",
    "#             'Exp11',\n",
    "#             'Exp12',\n",
    "#         ],\n",
    "#         'meta_data_select': 'GBR_data_summary',\n",
    "#         'input_header': 'Concentration'\n",
    "#     },\n",
    "#     'log':True,\n",
    "#     'output_header': 'Concentration',\n",
    "#     'gridding': [100,100,25]\n",
    "# }\n",
    "\n",
    "prior_plots = [\n",
    "    {\n",
    "        'Q': [1e12, 5e13],\n",
    "        'references':{\n",
    "            'Q' : [2.82e13, 3.11e13, 2.89e13, 4.83e13],\n",
    "            'labels': ['250m','200m','750m','1000m'] \n",
    "        }\n",
    "    },\n",
    "    {\n",
    "        'sigma': [0.001, 4],\n",
    "    },\n",
    "    {\n",
    "        'I_y': [0.0001, 1.7],\n",
    "        'I_z': [0.0001, 1.7],\n",
    "        'references':{\n",
    "            'I_y' : [0.22, 1.6, 0.11, 0.08, 0.06, 0.04],\n",
    "            'I_z' : [0.2, 1.2, 0.08, 0.06, 0.03, 0.016],\n",
    "            'labels': ['A','B','C','D','E','F'] \n",
    "        }\n",
    "    }\n",
    "]\n",
    "\n",
    "results_name = 'simulated_data'"
   ]
  },
  {
   "cell_type": "markdown",
   "metadata": {},
   "source": [
    "Defining default parameters and prior plots for gamma priors of the simulated data"
   ]
  },
  {
   "cell_type": "code",
   "execution_count": 3,
   "metadata": {},
   "outputs": [],
   "source": [
    "default_params = {\n",
    "    'infered_params':pd.Series({\n",
    "        'model_params':pd.Series({\n",
    "            'I_y_and_I_z': Parameter('I_y','I_z', prior_select='log_norm')\n",
    "                                    .add_prior_param('mu', [0.4,0.4])\n",
    "                                    .add_prior_param('cov', [[0.8,0],[0,0.8]]),\n",
    "            'Q': Parameter('Q', prior_select = 'log_norm').add_prior_param('mu', 6e13).add_prior_param('sigma',6e6),\n",
    "        }),\n",
    "        'likelihood_params':pd.Series({\n",
    "            'sigma': Parameter('sigma', prior_select = 'log_norm').add_prior_param('mu', 1.5).add_prior_param('sigma',0.7)\n",
    "        })\n",
    "    }),\n",
    "    'model':Model('log_gpm_norm').add_model_param('H',10),\n",
    "    'likelihood': Likelihood('gaussian'),\n",
    "    'sampler': {\n",
    "        'n_samples': 10000,\n",
    "        'n_chains': 3,\n",
    "        'thinning_rate': 1\n",
    "    }\n",
    "}"
   ]
  },
  {
   "attachments": {},
   "cell_type": "markdown",
   "metadata": {},
   "source": [
    "Running a general instance for gamma priors and simulated data"
   ]
  },
  {
   "cell_type": "code",
   "execution_count": 4,
   "metadata": {},
   "outputs": [
    {
     "name": "stdout",
     "output_type": "stream",
     "text": [
      "Loading Chain Samples...\n",
      "Loading Samples...\n",
      "Traceplot 1 already exists\n",
      "Traceplot 2 already exists\n",
      "Traceplot 3 already exists\n",
      "Autocorrelations plot 1 already exists\n",
      "Autocorrelations plot 2 already exists\n",
      "Autocorrelations plot 3 already exists\n"
     ]
    },
    {
     "ename": "KeyError",
     "evalue": "'I_y_and_I_z'",
     "output_type": "error",
     "traceback": [
      "\u001b[0;31m---------------------------------------------------------------------------\u001b[0m",
      "\u001b[0;31mKeyError\u001b[0m                                  Traceback (most recent call last)",
      "\u001b[1;32m/project/running_everything.ipynb Cell 9\u001b[0m line \u001b[0;36m9\n\u001b[1;32m      <a href='vscode-notebook-cell://dev-container%2B7b22686f737450617468223a22633a5c5c55736572735c5c53616d5c5c4f6e6544726976655c5c446f63756d656e74735c5c5068445c5c5068445f70726f6a656374222c22636f6e66696746696c65223a7b22246d6964223a312c22667350617468223a22633a5c5c55736572735c5c53616d5c5c4f6e6544726976655c5c446f63756d656e74735c5c5068445c5c5068445f70726f6a6563745c5c2e646576636f6e7461696e65725c5c646576636f6e7461696e65722e6a736f6e222c225f736570223a312c2265787465726e616c223a2266696c653a2f2f2f632533412f55736572732f53616d2f4f6e6544726976652f446f63756d656e74732f5068442f5068445f70726f6a6563742f2e646576636f6e7461696e65722f646576636f6e7461696e65722e6a736f6e222c2270617468223a222f633a2f55736572732f53616d2f4f6e6544726976652f446f63756d656e74732f5068442f5068445f70726f6a6563742f2e646576636f6e7461696e65722f646576636f6e7461696e65722e6a736f6e222c22736368656d65223a2266696c65227d7d/project/running_everything.ipynb#X11sdnNjb2RlLXJlbW90ZQ%3D%3D?line=6'>7</a>\u001b[0m visualiser\u001b[39m.\u001b[39mget_traceplot()\n\u001b[1;32m      <a href='vscode-notebook-cell://dev-container%2B7b22686f737450617468223a22633a5c5c55736572735c5c53616d5c5c4f6e6544726976655c5c446f63756d656e74735c5c5068445c5c5068445f70726f6a656374222c22636f6e66696746696c65223a7b22246d6964223a312c22667350617468223a22633a5c5c55736572735c5c53616d5c5c4f6e6544726976655c5c446f63756d656e74735c5c5068445c5c5068445f70726f6a6563745c5c2e646576636f6e7461696e65725c5c646576636f6e7461696e65722e6a736f6e222c225f736570223a312c2265787465726e616c223a2266696c653a2f2f2f632533412f55736572732f53616d2f4f6e6544726976652f446f63756d656e74732f5068442f5068445f70726f6a6563742f2e646576636f6e7461696e65722f646576636f6e7461696e65722e6a736f6e222c2270617468223a222f633a2f55736572732f53616d2f4f6e6544726976652f446f63756d656e74732f5068442f5068445f70726f6a6563742f2e646576636f6e7461696e65722f646576636f6e7461696e65722e6a736f6e222c22736368656d65223a2266696c65227d7d/project/running_everything.ipynb#X11sdnNjb2RlLXJlbW90ZQ%3D%3D?line=7'>8</a>\u001b[0m visualiser\u001b[39m.\u001b[39mget_autocorrelations()\n\u001b[0;32m----> <a href='vscode-notebook-cell://dev-container%2B7b22686f737450617468223a22633a5c5c55736572735c5c53616d5c5c4f6e6544726976655c5c446f63756d656e74735c5c5068445c5c5068445f70726f6a656374222c22636f6e66696746696c65223a7b22246d6964223a312c22667350617468223a22633a5c5c55736572735c5c53616d5c5c4f6e6544726976655c5c446f63756d656e74735c5c5068445c5c5068445f70726f6a6563745c5c2e646576636f6e7461696e65725c5c646576636f6e7461696e65722e6a736f6e222c225f736570223a312c2265787465726e616c223a2266696c653a2f2f2f632533412f55736572732f53616d2f4f6e6544726976652f446f63756d656e74732f5068442f5068445f70726f6a6563742f2e646576636f6e7461696e65722f646576636f6e7461696e65722e6a736f6e222c2270617468223a222f633a2f55736572732f53616d2f4f6e6544726976652f446f63756d656e74732f5068442f5068445f70726f6a6563742f2e646576636f6e7461696e65722f646576636f6e7461696e65722e6a736f6e222c22736368656d65223a2266696c65227d7d/project/running_everything.ipynb#X11sdnNjb2RlLXJlbW90ZQ%3D%3D?line=8'>9</a>\u001b[0m visualiser\u001b[39m.\u001b[39;49mget_prior_plots(prior_plots)\n\u001b[1;32m     <a href='vscode-notebook-cell://dev-container%2B7b22686f737450617468223a22633a5c5c55736572735c5c53616d5c5c4f6e6544726976655c5c446f63756d656e74735c5c5068445c5c5068445f70726f6a656374222c22636f6e66696746696c65223a7b22246d6964223a312c22667350617468223a22633a5c5c55736572735c5c53616d5c5c4f6e6544726976655c5c446f63756d656e74735c5c5068445c5c5068445f70726f6a6563745c5c2e646576636f6e7461696e65725c5c646576636f6e7461696e65722e6a736f6e222c225f736570223a312c2265787465726e616c223a2266696c653a2f2f2f632533412f55736572732f53616d2f4f6e6544726976652f446f63756d656e74732f5068442f5068445f70726f6a6563742f2e646576636f6e7461696e65722f646576636f6e7461696e65722e6a736f6e222c2270617468223a222f633a2f55736572732f53616d2f4f6e6544726976652f446f63756d656e74732f5068442f5068445f70726f6a6563742f2e646576636f6e7461696e65722f646576636f6e7461696e65722e6a736f6e222c22736368656d65223a2266696c65227d7d/project/running_everything.ipynb#X11sdnNjb2RlLXJlbW90ZQ%3D%3D?line=10'>11</a>\u001b[0m domain \u001b[39m=\u001b[39m Domain(\u001b[39m'\u001b[39m\u001b[39mcone_from_source_z_limited\u001b[39m\u001b[39m'\u001b[39m, resolution\u001b[39m=\u001b[39m\u001b[39m80\u001b[39m)\n\u001b[1;32m     <a href='vscode-notebook-cell://dev-container%2B7b22686f737450617468223a22633a5c5c55736572735c5c53616d5c5c4f6e6544726976655c5c446f63756d656e74735c5c5068445c5c5068445f70726f6a656374222c22636f6e66696746696c65223a7b22246d6964223a312c22667350617468223a22633a5c5c55736572735c5c53616d5c5c4f6e6544726976655c5c446f63756d656e74735c5c5068445c5c5068445f70726f6a6563745c5c2e646576636f6e7461696e65725c5c646576636f6e7461696e65722e6a736f6e222c225f736570223a312c2265787465726e616c223a2266696c653a2f2f2f632533412f55736572732f53616d2f4f6e6544726976652f446f63756d656e74732f5068442f5068445f70726f6a6563742f2e646576636f6e7461696e65722f646576636f6e7461696e65722e6a736f6e222c2270617468223a222f633a2f55736572732f53616d2f4f6e6544726976652f446f63756d656e74732f5068442f5068445f70726f6a6563742f2e646576636f6e7461696e65722f646576636f6e7461696e65722e6a736f6e222c22736368656d65223a2266696c65227d7d/project/running_everything.ipynb#X11sdnNjb2RlLXJlbW90ZQ%3D%3D?line=11'>12</a>\u001b[0m domain\u001b[39m.\u001b[39madd_domain_param(\u001b[39m'\u001b[39m\u001b[39mr\u001b[39m\u001b[39m'\u001b[39m, \u001b[39m1000\u001b[39m)\n",
      "File \u001b[0;32m/project/toolboxes/inference_toolbox/visualiser.py:285\u001b[0m, in \u001b[0;36mVisualiser.get_prior_plots\u001b[0;34m(self, prior_plots)\u001b[0m\n\u001b[1;32m    283\u001b[0m     references \u001b[39m=\u001b[39m prior_plot_info[\u001b[39m'\u001b[39m\u001b[39mreferences\u001b[39m\u001b[39m'\u001b[39m]\n\u001b[1;32m    284\u001b[0m \u001b[39mif\u001b[39;00m \u001b[39mlen\u001b[39m(params) \u001b[39m==\u001b[39m \u001b[39m2\u001b[39m:\n\u001b[0;32m--> 285\u001b[0m     \u001b[39mself\u001b[39;49m\u001b[39m.\u001b[39;49mplot_two_priors(params[\u001b[39m0\u001b[39;49m], params[\u001b[39m1\u001b[39;49m], prior_plot_info[params[\u001b[39m0\u001b[39;49m]], prior_plot_info[params[\u001b[39m1\u001b[39;49m]], references)\n\u001b[1;32m    286\u001b[0m \u001b[39melif\u001b[39;00m \u001b[39mlen\u001b[39m(params) \u001b[39m==\u001b[39m \u001b[39m1\u001b[39m:\n\u001b[1;32m    287\u001b[0m     \u001b[39mself\u001b[39m\u001b[39m.\u001b[39mplot_one_prior(params[\u001b[39m0\u001b[39m], prior_plot_info[params[\u001b[39m0\u001b[39m]], references)\n",
      "File \u001b[0;32m/project/toolboxes/inference_toolbox/visualiser.py:299\u001b[0m, in \u001b[0;36mVisualiser.plot_two_priors\u001b[0;34m(self, param_1, param_2, param_1_range, param_2_range, references)\u001b[0m\n\u001b[1;32m    295\u001b[0m P \u001b[39m=\u001b[39m np\u001b[39m.\u001b[39mzeros(shape)\n\u001b[1;32m    297\u001b[0m multi_var_param \u001b[39m=\u001b[39m param_1\u001b[39m+\u001b[39m\u001b[39m'\u001b[39m\u001b[39m_and_\u001b[39m\u001b[39m'\u001b[39m\u001b[39m+\u001b[39mparam_2\n\u001b[0;32m--> 299\u001b[0m \u001b[39mif\u001b[39;00m \u001b[39mself\u001b[39;49m\u001b[39m.\u001b[39;49mhyperparams[\u001b[39m'\u001b[39;49m\u001b[39mparams\u001b[39;49m\u001b[39m'\u001b[39;49m][multi_var_param][\u001b[39m'\u001b[39m\u001b[39mprior_func\u001b[39m\u001b[39m'\u001b[39m] \u001b[39m==\u001b[39m \u001b[39m'\u001b[39m\u001b[39mlog_norm\u001b[39m\u001b[39m'\u001b[39m:\n\u001b[1;32m    300\u001b[0m     prior_dist \u001b[39m=\u001b[39m \u001b[39mself\u001b[39m\u001b[39m.\u001b[39mmulti_var_log_norm_setup(\u001b[39mself\u001b[39m\u001b[39m.\u001b[39mhyperparams[\u001b[39m'\u001b[39m\u001b[39mparams\u001b[39m\u001b[39m'\u001b[39m][multi_var_param][\u001b[39m'\u001b[39m\u001b[39mprior_params\u001b[39m\u001b[39m'\u001b[39m][\u001b[39m'\u001b[39m\u001b[39mmu\u001b[39m\u001b[39m'\u001b[39m], \u001b[39mself\u001b[39m\u001b[39m.\u001b[39mhyperparams[\u001b[39m'\u001b[39m\u001b[39mparams\u001b[39m\u001b[39m'\u001b[39m][multi_var_param][\u001b[39m'\u001b[39m\u001b[39mprior_params\u001b[39m\u001b[39m'\u001b[39m][\u001b[39m'\u001b[39m\u001b[39mcov\u001b[39m\u001b[39m'\u001b[39m])\n\u001b[1;32m    302\u001b[0m \u001b[39m# elif self.hyperparams['params'][param_1]['prior_func'] == 'gamma':\u001b[39;00m\n\u001b[1;32m    303\u001b[0m \u001b[39m#     prior_dist_1 = self.gamma_setup(self.hyperparams['params'][param_1]['prior_params']['mu'], self.hyperparams['params'][param_1]['prior_params']['sigma'])\u001b[39;00m\n\u001b[1;32m    304\u001b[0m \u001b[39m#     prior_dist_2 = self.gamma_setup(self.hyperparams['params'][param_2]['prior_params']['mu'], self.hyperparams['params'][param_2]['prior_params']['sigma'])\u001b[39;00m\n",
      "\u001b[0;31mKeyError\u001b[0m: 'I_y_and_I_z'"
     ]
    }
   ],
   "source": [
    "sandbox = Sandbox(results_name=results_name, \n",
    "                  data_params=data_params,\n",
    "                  default_params=default_params)\n",
    "\n",
    "visualiser = sandbox.run()\n",
    "visualiser.get_summary()\n",
    "visualiser.get_traceplot()\n",
    "visualiser.get_autocorrelations()\n",
    "visualiser.get_prior_plots(prior_plots)\n",
    "\n",
    "domain = Domain('cone_from_source_z_limited', resolution=80)\n",
    "domain.add_domain_param('r', 1000)\n",
    "domain.add_domain_param('theta', np.pi/8)\n",
    "domain.add_domain_param('source', [0,0,10])\n",
    "\n",
    "visualiser.visualise_results(domain = domain, name = 'small_scale_3D_plots', title='Log Concentration of Droplets', log_results=False)\n",
    "visualiser.animate(name = 'small_scale_3D_plots')"
   ]
  },
  {
   "cell_type": "code",
   "execution_count": null,
   "metadata": {},
   "outputs": [],
   "source": [
    "default_params = {\n",
    "    'infered_params':pd.Series({\n",
    "        'model_params':pd.Series({\n",
    "            'I_y_and_I_z': Parameter('I_y','I_z', prior_select='log_norm')\n",
    "                                    .add_prior_param('mu', [0.4,0.4])\n",
    "                                    .add_prior_param('cov', [[0.8,0],[0,0.8]]),\n",
    "            'Q': Parameter('Q', prior_select = 'log_norm').add_prior_param('mu', 6e13).add_prior_param('sigma',6e6),\n",
    "        }),\n",
    "        'likelihood_params':pd.Series({\n",
    "            'sigma': Parameter('sigma', prior_select = 'log_norm').add_prior_param('mu', 1.5).add_prior_param('sigma',0.7)\n",
    "        })\n",
    "    }),\n",
    "    'model':Model('log_gpm_norm').add_model_param('H',10),\n",
    "    'likelihood': Likelihood('gaussian'),\n",
    "    'sampler': {\n",
    "        'n_samples': 10000,\n",
    "        'n_chains': 1,\n",
    "        'thinning_rate': 1\n",
    "    }\n",
    "}"
   ]
  },
  {
   "attachments": {},
   "cell_type": "markdown",
   "metadata": {},
   "source": [
    "Analysing the sensitivity of the gamma prior simulated data"
   ]
  },
  {
   "cell_type": "code",
   "execution_count": null,
   "metadata": {},
   "outputs": [
    {
     "name": "stdout",
     "output_type": "stream",
     "text": [
      "Working on varying I_y_mu...\n",
      "Generating instance 1...\n"
     ]
    },
    {
     "name": "stderr",
     "output_type": "stream",
     "text": [
      "sample: 100%|██████████| 12500/12500 [00:06<00:00, 2019.49it/s, 29 steps of size 1.21e-03. acc. prob=0.86]\n",
      "sample: 100%|██████████| 12500/12500 [00:02<00:00, 4524.88it/s, 2 steps of size 5.10e-03. acc. prob=0.64]\n",
      "sample: 100%|██████████| 12500/12500 [00:02<00:00, 5227.14it/s, 3 steps of size 5.00e-03. acc. prob=0.67]\n"
     ]
    },
    {
     "name": "stdout",
     "output_type": "stream",
     "text": [
      "Generating instance 2...\n"
     ]
    },
    {
     "name": "stderr",
     "output_type": "stream",
     "text": [
      "sample: 100%|██████████| 12500/12500 [00:57<00:00, 218.17it/s, 1023 steps of size 2.49e-06. acc. prob=0.81]\n",
      "sample: 100%|██████████| 12500/12500 [00:55<00:00, 225.20it/s, 1023 steps of size 2.41e-06. acc. prob=0.82]\n",
      "sample: 100%|██████████| 12500/12500 [00:53<00:00, 233.25it/s, 1023 steps of size 3.16e-06. acc. prob=0.81]\n"
     ]
    },
    {
     "name": "stdout",
     "output_type": "stream",
     "text": [
      "Generating instance 3...\n"
     ]
    },
    {
     "name": "stderr",
     "output_type": "stream",
     "text": [
      "sample: 100%|██████████| 12500/12500 [00:57<00:00, 217.58it/s, 1023 steps of size 7.20e-07. acc. prob=0.81]\n",
      "sample: 100%|██████████| 12500/12500 [00:56<00:00, 222.05it/s, 1023 steps of size 6.64e-07. acc. prob=0.82]\n",
      "sample: 100%|██████████| 12500/12500 [00:55<00:00, 223.54it/s, 1023 steps of size 7.85e-07. acc. prob=0.81]\n"
     ]
    },
    {
     "name": "stdout",
     "output_type": "stream",
     "text": [
      "Generating instance 4...\n"
     ]
    },
    {
     "name": "stderr",
     "output_type": "stream",
     "text": [
      "sample: 100%|██████████| 12500/12500 [00:04<00:00, 2596.23it/s, 15 steps of size 1.72e-01. acc. prob=0.94]\n",
      "sample: 100%|██████████| 12500/12500 [00:02<00:00, 4173.66it/s, 15 steps of size 1.75e-01. acc. prob=0.94]\n",
      "sample: 100%|██████████| 12500/12500 [00:02<00:00, 4338.93it/s, 15 steps of size 1.85e-01. acc. prob=0.93]\n"
     ]
    },
    {
     "name": "stdout",
     "output_type": "stream",
     "text": [
      "Generating instance 5...\n"
     ]
    },
    {
     "name": "stderr",
     "output_type": "stream",
     "text": [
      "sample: 100%|██████████| 12500/12500 [00:05<00:00, 2101.40it/s, 31 steps of size 5.85e-02. acc. prob=0.93]\n",
      "sample: 100%|██████████| 12500/12500 [00:04<00:00, 3103.51it/s, 31 steps of size 6.45e-02. acc. prob=0.91]\n",
      "sample: 100%|██████████| 12500/12500 [00:04<00:00, 3010.78it/s, 47 steps of size 6.53e-02. acc. prob=0.91]\n"
     ]
    },
    {
     "name": "stdout",
     "output_type": "stream",
     "text": [
      "Generating instance 6...\n"
     ]
    },
    {
     "name": "stderr",
     "output_type": "stream",
     "text": [
      "sample: 100%|██████████| 12500/12500 [00:12<00:00, 1034.72it/s, 255 steps of size 1.85e-02. acc. prob=0.93]\n",
      "sample: 100%|██████████| 12500/12500 [00:09<00:00, 1300.80it/s, 127 steps of size 1.88e-02. acc. prob=0.93]\n",
      "sample: 100%|██████████| 12500/12500 [00:09<00:00, 1371.33it/s, 211 steps of size 1.70e-02. acc. prob=0.94]\n"
     ]
    },
    {
     "name": "stdout",
     "output_type": "stream",
     "text": [
      "Generating instance 7...\n"
     ]
    },
    {
     "name": "stderr",
     "output_type": "stream",
     "text": [
      "sample: 100%|██████████| 12500/12500 [00:25<00:00, 481.28it/s, 155 steps of size 6.07e-03. acc. prob=0.92] \n",
      "sample: 100%|██████████| 12500/12500 [00:19<00:00, 639.65it/s, 255 steps of size 6.15e-03. acc. prob=0.91] \n",
      "sample: 100%|██████████| 12500/12500 [00:24<00:00, 501.00it/s, 395 steps of size 4.62e-03. acc. prob=0.95] \n"
     ]
    },
    {
     "name": "stdout",
     "output_type": "stream",
     "text": [
      "Generating instance 8...\n"
     ]
    },
    {
     "name": "stderr",
     "output_type": "stream",
     "text": [
      "sample: 100%|██████████| 12500/12500 [00:58<00:00, 212.01it/s, 1023 steps of size 2.98e-06. acc. prob=0.83]\n",
      "sample: 100%|██████████| 12500/12500 [00:24<00:00, 505.47it/s, 1023 steps of size 1.59e-03. acc. prob=0.93]\n",
      "sample: 100%|██████████| 12500/12500 [00:13<00:00, 955.04it/s, 187 steps of size 1.94e-03. acc. prob=0.90] \n"
     ]
    },
    {
     "name": "stdout",
     "output_type": "stream",
     "text": [
      "Generating instance 9...\n"
     ]
    },
    {
     "name": "stderr",
     "output_type": "stream",
     "text": [
      "sample: 100%|██████████| 12500/12500 [00:58<00:00, 212.98it/s, 1023 steps of size 1.44e-07. acc. prob=0.81]\n",
      "sample: 100%|██████████| 12500/12500 [00:56<00:00, 221.62it/s, 1023 steps of size 9.48e-07. acc. prob=0.79]\n",
      "sample: 100%|██████████| 12500/12500 [00:56<00:00, 221.45it/s, 1023 steps of size 8.65e-07. acc. prob=0.81]\n"
     ]
    },
    {
     "name": "stdout",
     "output_type": "stream",
     "text": [
      "Generating instance 10...\n"
     ]
    },
    {
     "name": "stderr",
     "output_type": "stream",
     "text": [
      "sample: 100%|██████████| 12500/12500 [00:58<00:00, 211.92it/s, 1023 steps of size 3.73e-08. acc. prob=0.83]\n",
      "sample: 100%|██████████| 12500/12500 [00:57<00:00, 216.95it/s, 1023 steps of size 2.14e-09. acc. prob=0.82]\n",
      "sample: 100%|██████████| 12500/12500 [00:57<00:00, 217.59it/s, 1023 steps of size 4.07e-09. acc. prob=0.79]\n"
     ]
    },
    {
     "name": "stdout",
     "output_type": "stream",
     "text": [
      "Generating instance 11...\n"
     ]
    },
    {
     "name": "stderr",
     "output_type": "stream",
     "text": [
      "sample: 100%|██████████| 12500/12500 [00:04<00:00, 3052.23it/s, 7 steps of size 4.37e-01. acc. prob=0.93]\n",
      "sample: 100%|██████████| 12500/12500 [00:02<00:00, 5013.89it/s, 7 steps of size 4.10e-01. acc. prob=0.94]\n",
      "sample: 100%|██████████| 12500/12500 [00:02<00:00, 5175.20it/s, 3 steps of size 5.48e-01. acc. prob=0.89] \n"
     ]
    },
    {
     "name": "stdout",
     "output_type": "stream",
     "text": [
      "Generating instance 12...\n"
     ]
    },
    {
     "name": "stderr",
     "output_type": "stream",
     "text": [
      "sample: 100%|██████████| 12500/12500 [00:04<00:00, 2957.89it/s, 23 steps of size 4.12e-02. acc. prob=0.77]\n",
      "sample: 100%|██████████| 12500/12500 [00:02<00:00, 5095.28it/s, 2 steps of size 5.71e-02. acc. prob=0.70] \n",
      "sample: 100%|██████████| 12500/12500 [00:02<00:00, 4455.28it/s, 8 steps of size 3.66e-02. acc. prob=0.79] \n"
     ]
    },
    {
     "name": "stdout",
     "output_type": "stream",
     "text": [
      "Generating instance 13...\n"
     ]
    },
    {
     "name": "stderr",
     "output_type": "stream",
     "text": [
      "sample: 100%|██████████| 12500/12500 [00:04<00:00, 2781.89it/s, 29 steps of size 5.07e-03. acc. prob=0.86]\n",
      "sample: 100%|██████████| 12500/12500 [00:02<00:00, 5220.62it/s, 1 steps of size 1.58e-02. acc. prob=0.68]\n",
      "sample: 100%|██████████| 12500/12500 [00:02<00:00, 5387.19it/s, 9 steps of size 2.05e-02. acc. prob=0.64]\n"
     ]
    },
    {
     "name": "stdout",
     "output_type": "stream",
     "text": [
      "Generating instance 14...\n"
     ]
    },
    {
     "name": "stderr",
     "output_type": "stream",
     "text": [
      "sample: 100%|██████████| 12500/12500 [00:04<00:00, 3056.32it/s, 7 steps of size 6.51e-01. acc. prob=0.92]\n",
      "sample: 100%|██████████| 12500/12500 [00:02<00:00, 5365.86it/s, 3 steps of size 6.52e-01. acc. prob=0.91]\n",
      "sample: 100%|██████████| 12500/12500 [00:02<00:00, 5377.56it/s, 7 steps of size 6.95e-01. acc. prob=0.90]\n"
     ]
    },
    {
     "name": "stdout",
     "output_type": "stream",
     "text": [
      "Generating instance 15...\n"
     ]
    },
    {
     "name": "stderr",
     "output_type": "stream",
     "text": [
      "sample: 100%|██████████| 12500/12500 [00:04<00:00, 2628.84it/s, 15 steps of size 1.56e-01. acc. prob=0.93]\n",
      "sample: 100%|██████████| 12500/12500 [00:03<00:00, 4157.00it/s, 15 steps of size 1.62e-01. acc. prob=0.91]\n",
      "sample: 100%|██████████| 12500/12500 [00:02<00:00, 4212.27it/s, 15 steps of size 1.66e-01. acc. prob=0.92]\n"
     ]
    },
    {
     "name": "stdout",
     "output_type": "stream",
     "text": [
      "Generating instance 16...\n"
     ]
    },
    {
     "name": "stderr",
     "output_type": "stream",
     "text": [
      "sample: 100%|██████████| 12500/12500 [00:04<00:00, 2683.10it/s, 3 steps of size 1.88e-01. acc. prob=0.91] \n",
      "sample: 100%|██████████| 12500/12500 [00:03<00:00, 4164.11it/s, 15 steps of size 1.95e-01. acc. prob=0.91]\n",
      "sample: 100%|██████████| 12500/12500 [00:03<00:00, 4032.65it/s, 15 steps of size 1.65e-01. acc. prob=0.94]\n"
     ]
    },
    {
     "name": "stdout",
     "output_type": "stream",
     "text": [
      "Generating instance 17...\n"
     ]
    },
    {
     "name": "stderr",
     "output_type": "stream",
     "text": [
      "sample: 100%|██████████| 12500/12500 [00:06<00:00, 1870.01it/s, 63 steps of size 5.79e-02. acc. prob=0.94]\n",
      "sample: 100%|██████████| 12500/12500 [00:04<00:00, 2805.70it/s, 31 steps of size 6.42e-02. acc. prob=0.92]\n",
      "sample: 100%|██████████| 12500/12500 [00:04<00:00, 2647.23it/s, 47 steps of size 5.61e-02. acc. prob=0.94]\n"
     ]
    },
    {
     "name": "stdout",
     "output_type": "stream",
     "text": [
      "Generating instance 18...\n"
     ]
    },
    {
     "name": "stderr",
     "output_type": "stream",
     "text": [
      "sample: 100%|██████████| 12500/12500 [00:11<00:00, 1097.97it/s, 127 steps of size 2.01e-02. acc. prob=0.92]\n",
      "sample: 100%|██████████| 12500/12500 [00:10<00:00, 1213.21it/s, 191 steps of size 1.69e-02. acc. prob=0.95]\n",
      "sample: 100%|██████████| 12500/12500 [00:08<00:00, 1489.52it/s, 159 steps of size 1.97e-02. acc. prob=0.92]\n"
     ]
    },
    {
     "name": "stdout",
     "output_type": "stream",
     "text": [
      "Generating instance 19...\n"
     ]
    },
    {
     "name": "stderr",
     "output_type": "stream",
     "text": [
      "sample: 100%|██████████| 12500/12500 [00:25<00:00, 489.16it/s, 199 steps of size 5.23e-03. acc. prob=0.92] \n",
      "sample: 100%|██████████| 12500/12500 [00:23<00:00, 542.87it/s, 1023 steps of size 5.39e-03. acc. prob=0.91]\n",
      "sample: 100%|██████████| 12500/12500 [00:21<00:00, 587.42it/s, 435 steps of size 5.44e-03. acc. prob=0.92] \n"
     ]
    },
    {
     "name": "stdout",
     "output_type": "stream",
     "text": [
      "Generating instance 20...\n"
     ]
    },
    {
     "name": "stderr",
     "output_type": "stream",
     "text": [
      "sample: 100%|██████████| 12500/12500 [00:59<00:00, 211.24it/s, 1023 steps of size 3.72e-06. acc. prob=0.83]\n",
      "sample: 100%|██████████| 12500/12500 [00:57<00:00, 219.30it/s, 1023 steps of size 3.16e-06. acc. prob=0.79]\n",
      "sample: 100%|██████████| 12500/12500 [00:56<00:00, 221.89it/s, 1023 steps of size 7.26e-06. acc. prob=0.80]\n"
     ]
    },
    {
     "name": "stdout",
     "output_type": "stream",
     "text": [
      "Generating instance 21...\n"
     ]
    },
    {
     "name": "stderr",
     "output_type": "stream",
     "text": [
      "sample: 100%|██████████| 12500/12500 [00:04<00:00, 2570.45it/s, 31 steps of size 1.23e-01. acc. prob=0.94]\n",
      "sample: 100%|██████████| 12500/12500 [00:03<00:00, 3919.45it/s, 15 steps of size 1.28e-01. acc. prob=0.93]\n",
      "sample: 100%|██████████| 12500/12500 [00:03<00:00, 3950.56it/s, 31 steps of size 1.35e-01. acc. prob=0.93]\n"
     ]
    },
    {
     "name": "stdout",
     "output_type": "stream",
     "text": [
      "Generating instance 22...\n"
     ]
    },
    {
     "name": "stderr",
     "output_type": "stream",
     "text": [
      "sample: 100%|██████████| 12500/12500 [00:05<00:00, 2438.27it/s, 31 steps of size 1.12e-01. acc. prob=0.94]\n",
      "sample: 100%|██████████| 12500/12500 [00:03<00:00, 3524.49it/s, 31 steps of size 1.22e-01. acc. prob=0.94]\n",
      "sample: 100%|██████████| 12500/12500 [00:03<00:00, 3652.09it/s, 31 steps of size 1.19e-01. acc. prob=0.94]\n"
     ]
    },
    {
     "name": "stdout",
     "output_type": "stream",
     "text": [
      "Generating instance 23...\n"
     ]
    },
    {
     "name": "stderr",
     "output_type": "stream",
     "text": [
      "sample: 100%|██████████| 12500/12500 [00:04<00:00, 3114.21it/s, 7 steps of size 5.11e-01. acc. prob=0.93]\n",
      "sample: 100%|██████████| 12500/12500 [00:02<00:00, 5181.65it/s, 3 steps of size 3.48e-01. acc. prob=0.88]\n",
      "sample: 100%|██████████| 12500/12500 [00:02<00:00, 5351.52it/s, 7 steps of size 5.91e-01. acc. prob=0.90]\n"
     ]
    },
    {
     "name": "stdout",
     "output_type": "stream",
     "text": [
      "Generating instance 24...\n"
     ]
    },
    {
     "name": "stderr",
     "output_type": "stream",
     "text": [
      "sample: 100%|██████████| 12500/12500 [00:04<00:00, 3034.27it/s, 3 steps of size 4.05e-01. acc. prob=0.91] \n",
      "sample: 100%|██████████| 12500/12500 [00:02<00:00, 4945.60it/s, 15 steps of size 3.35e-01. acc. prob=0.90]\n",
      "sample: 100%|██████████| 12500/12500 [00:02<00:00, 5136.33it/s, 3 steps of size 4.18e-01. acc. prob=0.91] \n"
     ]
    },
    {
     "name": "stdout",
     "output_type": "stream",
     "text": [
      "Generating instance 25...\n"
     ]
    },
    {
     "name": "stderr",
     "output_type": "stream",
     "text": [
      "sample: 100%|██████████| 12500/12500 [00:04<00:00, 2732.15it/s, 23 steps of size 2.03e-01. acc. prob=0.93]\n",
      "sample: 100%|██████████| 12500/12500 [00:02<00:00, 4309.28it/s, 15 steps of size 2.03e-01. acc. prob=0.91]\n",
      "sample: 100%|██████████| 12500/12500 [00:03<00:00, 4102.40it/s, 15 steps of size 1.90e-01. acc. prob=0.94]\n"
     ]
    },
    {
     "name": "stdout",
     "output_type": "stream",
     "text": [
      "Generating instance 26...\n"
     ]
    },
    {
     "name": "stderr",
     "output_type": "stream",
     "text": [
      "sample: 100%|██████████| 12500/12500 [00:04<00:00, 2930.84it/s, 7 steps of size 3.44e-01. acc. prob=0.92] \n",
      "sample: 100%|██████████| 12500/12500 [00:02<00:00, 4854.94it/s, 15 steps of size 3.73e-01. acc. prob=0.89]\n",
      "sample: 100%|██████████| 12500/12500 [00:02<00:00, 4606.49it/s, 15 steps of size 2.84e-01. acc. prob=0.94]\n"
     ]
    },
    {
     "name": "stdout",
     "output_type": "stream",
     "text": [
      "Generating instance 27...\n"
     ]
    },
    {
     "name": "stderr",
     "output_type": "stream",
     "text": [
      "sample: 100%|██████████| 12500/12500 [00:04<00:00, 2638.30it/s, 7 steps of size 4.28e-01. acc. prob=0.91] \n",
      "sample: 100%|██████████| 12500/12500 [00:02<00:00, 4887.02it/s, 7 steps of size 4.79e-01. acc. prob=0.88] \n",
      "sample: 100%|██████████| 12500/12500 [00:02<00:00, 4829.03it/s, 7 steps of size 4.32e-01. acc. prob=0.91]\n"
     ]
    },
    {
     "name": "stdout",
     "output_type": "stream",
     "text": [
      "Generating instance 28...\n"
     ]
    },
    {
     "name": "stderr",
     "output_type": "stream",
     "text": [
      "sample: 100%|██████████| 12500/12500 [00:04<00:00, 2619.39it/s, 15 steps of size 1.68e-01. acc. prob=0.94]\n",
      "sample: 100%|██████████| 12500/12500 [00:02<00:00, 4177.45it/s, 15 steps of size 1.84e-01. acc. prob=0.93]\n",
      "sample: 100%|██████████| 12500/12500 [00:03<00:00, 4145.71it/s, 19 steps of size 1.73e-01. acc. prob=0.94]\n"
     ]
    },
    {
     "name": "stdout",
     "output_type": "stream",
     "text": [
      "Generating instance 29...\n"
     ]
    },
    {
     "name": "stderr",
     "output_type": "stream",
     "text": [
      "sample: 100%|██████████| 12500/12500 [00:06<00:00, 1923.05it/s, 23 steps of size 5.47e-02. acc. prob=0.94]\n",
      "sample: 100%|██████████| 12500/12500 [00:04<00:00, 2741.10it/s, 51 steps of size 6.16e-02. acc. prob=0.92]\n",
      "sample: 100%|██████████| 12500/12500 [00:04<00:00, 2754.33it/s, 63 steps of size 6.49e-02. acc. prob=0.91]\n"
     ]
    },
    {
     "name": "stdout",
     "output_type": "stream",
     "text": [
      "Generating instance 30...\n"
     ]
    },
    {
     "name": "stderr",
     "output_type": "stream",
     "text": [
      "sample: 100%|██████████| 12500/12500 [00:11<00:00, 1070.20it/s, 127 steps of size 1.80e-02. acc. prob=0.94]\n",
      "sample: 100%|██████████| 12500/12500 [00:09<00:00, 1260.68it/s, 159 steps of size 1.76e-02. acc. prob=0.94]\n",
      "sample: 100%|██████████| 12500/12500 [00:08<00:00, 1454.09it/s, 127 steps of size 1.87e-02. acc. prob=0.93]\n"
     ]
    },
    {
     "name": "stdout",
     "output_type": "stream",
     "text": [
      "Generating instance 31...\n"
     ]
    },
    {
     "name": "stderr",
     "output_type": "stream",
     "text": [
      "sample: 100%|██████████| 12500/12500 [00:05<00:00, 2428.25it/s, 31 steps of size 1.07e-01. acc. prob=0.93]\n",
      "sample: 100%|██████████| 12500/12500 [00:03<00:00, 3656.02it/s, 31 steps of size 1.07e-01. acc. prob=0.92]\n",
      "sample: 100%|██████████| 12500/12500 [00:03<00:00, 3760.39it/s, 15 steps of size 1.16e-01. acc. prob=0.92]\n"
     ]
    },
    {
     "name": "stdout",
     "output_type": "stream",
     "text": [
      "Generating instance 32...\n"
     ]
    },
    {
     "name": "stderr",
     "output_type": "stream",
     "text": [
      "sample: 100%|██████████| 12500/12500 [00:05<00:00, 2440.66it/s, 31 steps of size 1.07e-01. acc. prob=0.94]\n",
      "sample: 100%|██████████| 12500/12500 [00:03<00:00, 3751.51it/s, 31 steps of size 1.14e-01. acc. prob=0.91]\n",
      "sample: 100%|██████████| 12500/12500 [00:03<00:00, 3635.33it/s, 31 steps of size 1.09e-01. acc. prob=0.93]\n"
     ]
    },
    {
     "name": "stdout",
     "output_type": "stream",
     "text": [
      "Generating instance 33...\n"
     ]
    },
    {
     "name": "stderr",
     "output_type": "stream",
     "text": [
      "sample: 100%|██████████| 12500/12500 [00:05<00:00, 2267.82it/s, 31 steps of size 1.32e-01. acc. prob=0.93]\n",
      "sample: 100%|██████████| 12500/12500 [00:03<00:00, 3970.32it/s, 15 steps of size 1.44e-01. acc. prob=0.91]\n",
      "sample: 100%|██████████| 12500/12500 [00:03<00:00, 3798.73it/s, 27 steps of size 1.26e-01. acc. prob=0.94]\n"
     ]
    },
    {
     "name": "stdout",
     "output_type": "stream",
     "text": [
      "Generating instance 34...\n"
     ]
    },
    {
     "name": "stderr",
     "output_type": "stream",
     "text": [
      "sample: 100%|██████████| 12500/12500 [00:04<00:00, 2616.23it/s, 15 steps of size 1.68e-01. acc. prob=0.92]\n",
      "sample: 100%|██████████| 12500/12500 [00:02<00:00, 4220.38it/s, 15 steps of size 1.77e-01. acc. prob=0.88]\n",
      "sample: 100%|██████████| 12500/12500 [00:03<00:00, 3856.64it/s, 11 steps of size 1.67e-01. acc. prob=0.91]\n"
     ]
    },
    {
     "name": "stdout",
     "output_type": "stream",
     "text": [
      "Generating instance 35...\n"
     ]
    },
    {
     "name": "stderr",
     "output_type": "stream",
     "text": [
      "sample: 100%|██████████| 12500/12500 [00:04<00:00, 2543.99it/s, 7 steps of size 1.85e-01. acc. prob=0.94] \n",
      "sample: 100%|██████████| 12500/12500 [00:03<00:00, 3894.26it/s, 15 steps of size 1.76e-01. acc. prob=0.93]\n",
      "sample: 100%|██████████| 12500/12500 [00:03<00:00, 3868.54it/s, 15 steps of size 1.94e-01. acc. prob=0.92]\n"
     ]
    },
    {
     "name": "stdout",
     "output_type": "stream",
     "text": [
      "Generating instance 36...\n"
     ]
    },
    {
     "name": "stderr",
     "output_type": "stream",
     "text": [
      "sample: 100%|██████████| 12500/12500 [00:04<00:00, 2742.10it/s, 7 steps of size 2.70e-01. acc. prob=0.93] \n",
      "sample: 100%|██████████| 12500/12500 [00:02<00:00, 4434.02it/s, 7 steps of size 2.90e-01. acc. prob=0.90] \n",
      "sample: 100%|██████████| 12500/12500 [00:02<00:00, 4507.13it/s, 11 steps of size 2.82e-01. acc. prob=0.91]\n"
     ]
    },
    {
     "name": "stdout",
     "output_type": "stream",
     "text": [
      "Generating instance 37...\n"
     ]
    },
    {
     "name": "stderr",
     "output_type": "stream",
     "text": [
      "sample: 100%|██████████| 12500/12500 [00:04<00:00, 2966.95it/s, 7 steps of size 4.44e-01. acc. prob=0.92] \n",
      "sample: 100%|██████████| 12500/12500 [00:02<00:00, 4928.74it/s, 7 steps of size 4.28e-01. acc. prob=0.91] \n",
      "sample: 100%|██████████| 12500/12500 [00:02<00:00, 4877.49it/s, 15 steps of size 3.83e-01. acc. prob=0.93]\n"
     ]
    },
    {
     "name": "stdout",
     "output_type": "stream",
     "text": [
      "Generating instance 38...\n"
     ]
    },
    {
     "name": "stderr",
     "output_type": "stream",
     "text": [
      "sample: 100%|██████████| 12500/12500 [00:04<00:00, 3028.35it/s, 7 steps of size 6.33e-01. acc. prob=0.90]\n",
      "sample: 100%|██████████| 12500/12500 [00:02<00:00, 5083.56it/s, 7 steps of size 5.31e-01. acc. prob=0.92] \n",
      "sample: 100%|██████████| 12500/12500 [00:02<00:00, 5150.13it/s, 7 steps of size 5.77e-01. acc. prob=0.91]\n"
     ]
    },
    {
     "name": "stdout",
     "output_type": "stream",
     "text": [
      "Generating instance 39...\n"
     ]
    },
    {
     "name": "stderr",
     "output_type": "stream",
     "text": [
      "sample: 100%|██████████| 12500/12500 [00:04<00:00, 2865.63it/s, 7 steps of size 4.69e-01. acc. prob=0.91]\n",
      "sample: 100%|██████████| 12500/12500 [00:02<00:00, 4821.95it/s, 7 steps of size 4.98e-01. acc. prob=0.90]\n",
      "sample: 100%|██████████| 12500/12500 [00:02<00:00, 5033.97it/s, 7 steps of size 5.39e-01. acc. prob=0.88] \n"
     ]
    },
    {
     "name": "stdout",
     "output_type": "stream",
     "text": [
      "Generating instance 40...\n"
     ]
    },
    {
     "name": "stderr",
     "output_type": "stream",
     "text": [
      "sample: 100%|██████████| 12500/12500 [00:04<00:00, 2591.17it/s, 15 steps of size 1.90e-01. acc. prob=0.92]\n",
      "sample: 100%|██████████| 12500/12500 [00:03<00:00, 3974.76it/s, 15 steps of size 1.79e-01. acc. prob=0.94]\n",
      "sample: 100%|██████████| 12500/12500 [00:03<00:00, 3981.17it/s, 15 steps of size 1.72e-01. acc. prob=0.94]\n"
     ]
    },
    {
     "name": "stdout",
     "output_type": "stream",
     "text": [
      "Generating instance 41...\n"
     ]
    },
    {
     "name": "stderr",
     "output_type": "stream",
     "text": [
      "sample: 100%|██████████| 12500/12500 [00:05<00:00, 2201.37it/s, 31 steps of size 8.33e-02. acc. prob=0.93]\n",
      "sample: 100%|██████████| 12500/12500 [00:04<00:00, 3100.41it/s, 63 steps of size 8.04e-02. acc. prob=0.93]\n",
      "sample: 100%|██████████| 12500/12500 [00:03<00:00, 3166.10it/s, 15 steps of size 8.15e-02. acc. prob=0.93]\n"
     ]
    },
    {
     "name": "stdout",
     "output_type": "stream",
     "text": [
      "Generating instance 42...\n"
     ]
    },
    {
     "name": "stderr",
     "output_type": "stream",
     "text": [
      "sample: 100%|██████████| 12500/12500 [00:05<00:00, 2109.74it/s, 23 steps of size 8.09e-02. acc. prob=0.94]\n",
      "sample: 100%|██████████| 12500/12500 [00:03<00:00, 3181.12it/s, 63 steps of size 9.13e-02. acc. prob=0.91]\n",
      "sample: 100%|██████████| 12500/12500 [00:04<00:00, 2968.80it/s, 31 steps of size 7.48e-02. acc. prob=0.95]\n"
     ]
    },
    {
     "name": "stdout",
     "output_type": "stream",
     "text": [
      "Generating instance 43...\n"
     ]
    },
    {
     "name": "stderr",
     "output_type": "stream",
     "text": [
      "sample: 100%|██████████| 12500/12500 [00:05<00:00, 2257.68it/s, 11 steps of size 1.03e-01. acc. prob=0.90]\n",
      "sample: 100%|██████████| 12500/12500 [00:04<00:00, 3089.73it/s, 63 steps of size 8.33e-02. acc. prob=0.94]\n",
      "sample: 100%|██████████| 12500/12500 [00:03<00:00, 3162.38it/s, 31 steps of size 8.83e-02. acc. prob=0.93]\n"
     ]
    },
    {
     "name": "stdout",
     "output_type": "stream",
     "text": [
      "Generating instance 44...\n"
     ]
    },
    {
     "name": "stderr",
     "output_type": "stream",
     "text": [
      "sample: 100%|██████████| 12500/12500 [00:05<00:00, 2180.28it/s, 31 steps of size 8.91e-02. acc. prob=0.94]\n",
      "sample: 100%|██████████| 12500/12500 [00:03<00:00, 3327.47it/s, 47 steps of size 1.04e-01. acc. prob=0.91]\n",
      "sample: 100%|██████████| 12500/12500 [00:03<00:00, 3143.58it/s, 31 steps of size 8.59e-02. acc. prob=0.94]\n"
     ]
    },
    {
     "name": "stdout",
     "output_type": "stream",
     "text": [
      "Generating instance 45...\n"
     ]
    },
    {
     "name": "stderr",
     "output_type": "stream",
     "text": [
      "sample: 100%|██████████| 12500/12500 [00:05<00:00, 2220.01it/s, 31 steps of size 9.37e-02. acc. prob=0.93]\n",
      "sample: 100%|██████████| 12500/12500 [00:03<00:00, 3260.50it/s, 63 steps of size 9.53e-02. acc. prob=0.92]\n",
      "sample: 100%|██████████| 12500/12500 [00:03<00:00, 3233.64it/s, 29 steps of size 9.23e-02. acc. prob=0.93]\n"
     ]
    },
    {
     "name": "stdout",
     "output_type": "stream",
     "text": [
      "Generating instance 46...\n"
     ]
    },
    {
     "name": "stderr",
     "output_type": "stream",
     "text": [
      "sample: 100%|██████████| 12500/12500 [00:04<00:00, 2538.57it/s, 15 steps of size 1.83e-01. acc. prob=0.92]\n",
      "sample: 100%|██████████| 12500/12500 [00:03<00:00, 3976.30it/s, 15 steps of size 1.79e-01. acc. prob=0.92]\n",
      "sample: 100%|██████████| 12500/12500 [00:03<00:00, 3922.28it/s, 15 steps of size 1.70e-01. acc. prob=0.94]\n"
     ]
    },
    {
     "name": "stdout",
     "output_type": "stream",
     "text": [
      "Generating instance 47...\n"
     ]
    },
    {
     "name": "stderr",
     "output_type": "stream",
     "text": [
      "sample: 100%|██████████| 12500/12500 [00:04<00:00, 2844.56it/s, 7 steps of size 3.87e-01. acc. prob=0.91]\n",
      "sample: 100%|██████████| 12500/12500 [00:02<00:00, 4745.58it/s, 7 steps of size 3.75e-01. acc. prob=0.90] \n",
      "sample: 100%|██████████| 12500/12500 [00:02<00:00, 4632.27it/s, 15 steps of size 3.08e-01. acc. prob=0.94]\n"
     ]
    },
    {
     "name": "stdout",
     "output_type": "stream",
     "text": [
      "Generating instance 48...\n"
     ]
    },
    {
     "name": "stderr",
     "output_type": "stream",
     "text": [
      "sample: 100%|██████████| 12500/12500 [00:04<00:00, 2947.70it/s, 7 steps of size 5.36e-01. acc. prob=0.91]\n",
      "sample: 100%|██████████| 12500/12500 [00:02<00:00, 5022.26it/s, 7 steps of size 4.97e-01. acc. prob=0.92] \n",
      "sample: 100%|██████████| 12500/12500 [00:02<00:00, 4865.55it/s, 11 steps of size 4.55e-01. acc. prob=0.93]\n"
     ]
    },
    {
     "name": "stdout",
     "output_type": "stream",
     "text": [
      "Generating instance 49...\n"
     ]
    },
    {
     "name": "stderr",
     "output_type": "stream",
     "text": [
      "sample: 100%|██████████| 12500/12500 [00:04<00:00, 2930.88it/s, 7 steps of size 5.96e-01. acc. prob=0.91]\n",
      "sample: 100%|██████████| 12500/12500 [00:02<00:00, 5021.47it/s, 7 steps of size 6.28e-01. acc. prob=0.89]\n",
      "sample: 100%|██████████| 12500/12500 [00:02<00:00, 5001.60it/s, 7 steps of size 5.57e-01. acc. prob=0.91]\n"
     ]
    },
    {
     "name": "stdout",
     "output_type": "stream",
     "text": [
      "Generating instance 50...\n"
     ]
    },
    {
     "name": "stderr",
     "output_type": "stream",
     "text": [
      "sample: 100%|██████████| 12500/12500 [00:04<00:00, 2945.49it/s, 7 steps of size 5.69e-01. acc. prob=0.91]\n",
      "sample: 100%|██████████| 12500/12500 [00:02<00:00, 5026.04it/s, 7 steps of size 5.67e-01. acc. prob=0.91]\n",
      "sample: 100%|██████████| 12500/12500 [00:02<00:00, 4857.31it/s, 3 steps of size 6.78e-01. acc. prob=0.86] \n"
     ]
    },
    {
     "name": "stdout",
     "output_type": "stream",
     "text": [
      "Generating instance 51...\n"
     ]
    },
    {
     "name": "stderr",
     "output_type": "stream",
     "text": [
      "sample: 100%|██████████| 12500/12500 [00:05<00:00, 2131.61it/s, 31 steps of size 8.70e-02. acc. prob=0.91]\n",
      "sample: 100%|██████████| 12500/12500 [00:04<00:00, 2998.03it/s, 63 steps of size 7.03e-02. acc. prob=0.94]\n",
      "sample: 100%|██████████| 12500/12500 [00:04<00:00, 3079.80it/s, 15 steps of size 7.93e-02. acc. prob=0.92]\n"
     ]
    },
    {
     "name": "stdout",
     "output_type": "stream",
     "text": [
      "Generating instance 52...\n"
     ]
    },
    {
     "name": "stderr",
     "output_type": "stream",
     "text": [
      "sample: 100%|██████████| 12500/12500 [00:05<00:00, 2185.14it/s, 31 steps of size 8.27e-02. acc. prob=0.94]\n",
      "sample: 100%|██████████| 12500/12500 [00:03<00:00, 3222.53it/s, 31 steps of size 8.49e-02. acc. prob=0.93]\n",
      "sample: 100%|██████████| 12500/12500 [00:03<00:00, 3375.13it/s, 31 steps of size 9.47e-02. acc. prob=0.91]\n"
     ]
    },
    {
     "name": "stdout",
     "output_type": "stream",
     "text": [
      "Generating instance 53...\n"
     ]
    },
    {
     "name": "stderr",
     "output_type": "stream",
     "text": [
      "sample: 100%|██████████| 12500/12500 [00:05<00:00, 2170.98it/s, 23 steps of size 7.79e-02. acc. prob=0.94]\n",
      "sample: 100%|██████████| 12500/12500 [00:03<00:00, 3125.64it/s, 63 steps of size 7.81e-02. acc. prob=0.93]\n",
      "sample: 100%|██████████| 12500/12500 [00:03<00:00, 3214.91it/s, 31 steps of size 8.68e-02. acc. prob=0.91]\n"
     ]
    },
    {
     "name": "stdout",
     "output_type": "stream",
     "text": [
      "Generating instance 54...\n"
     ]
    },
    {
     "name": "stderr",
     "output_type": "stream",
     "text": [
      "sample: 100%|██████████| 12500/12500 [00:06<00:00, 2055.45it/s, 31 steps of size 7.41e-02. acc. prob=0.94]\n",
      "sample: 100%|██████████| 12500/12500 [00:04<00:00, 3101.05it/s, 31 steps of size 8.80e-02. acc. prob=0.91]\n",
      "sample: 100%|██████████| 12500/12500 [00:04<00:00, 3021.02it/s, 31 steps of size 8.04e-02. acc. prob=0.93]\n"
     ]
    },
    {
     "name": "stdout",
     "output_type": "stream",
     "text": [
      "Generating instance 55...\n"
     ]
    },
    {
     "name": "stderr",
     "output_type": "stream",
     "text": [
      "sample: 100%|██████████| 12500/12500 [00:05<00:00, 2114.46it/s, 31 steps of size 6.81e-02. acc. prob=0.95]\n",
      "sample: 100%|██████████| 12500/12500 [00:03<00:00, 3194.13it/s, 31 steps of size 8.14e-02. acc. prob=0.91]\n",
      "sample: 100%|██████████| 12500/12500 [00:03<00:00, 3246.43it/s, 31 steps of size 8.30e-02. acc. prob=0.91]\n"
     ]
    },
    {
     "name": "stdout",
     "output_type": "stream",
     "text": [
      "Generating instance 56...\n"
     ]
    },
    {
     "name": "stderr",
     "output_type": "stream",
     "text": [
      "sample: 100%|██████████| 12500/12500 [00:05<00:00, 2148.13it/s, 23 steps of size 8.47e-02. acc. prob=0.93]\n",
      "sample: 100%|██████████| 12500/12500 [00:03<00:00, 3191.15it/s, 31 steps of size 8.93e-02. acc. prob=0.92]\n",
      "sample: 100%|██████████| 12500/12500 [00:04<00:00, 3046.76it/s, 19 steps of size 8.16e-02. acc. prob=0.94]\n"
     ]
    },
    {
     "name": "stdout",
     "output_type": "stream",
     "text": [
      "Generating instance 57...\n"
     ]
    },
    {
     "name": "stderr",
     "output_type": "stream",
     "text": [
      "sample: 100%|██████████| 12500/12500 [00:05<00:00, 2305.86it/s, 19 steps of size 1.08e-01. acc. prob=0.93]\n",
      "sample: 100%|██████████| 12500/12500 [00:03<00:00, 3555.30it/s, 31 steps of size 1.15e-01. acc. prob=0.91]\n",
      "sample: 100%|██████████| 12500/12500 [00:03<00:00, 3575.83it/s, 15 steps of size 1.17e-01. acc. prob=0.92]\n"
     ]
    },
    {
     "name": "stdout",
     "output_type": "stream",
     "text": [
      "Generating instance 58...\n"
     ]
    },
    {
     "name": "stderr",
     "output_type": "stream",
     "text": [
      "sample: 100%|██████████| 12500/12500 [00:04<00:00, 2584.42it/s, 15 steps of size 1.87e-01. acc. prob=0.94]\n",
      "sample: 100%|██████████| 12500/12500 [00:03<00:00, 4162.56it/s, 15 steps of size 2.04e-01. acc. prob=0.91]\n",
      "sample: 100%|██████████| 12500/12500 [00:03<00:00, 4118.85it/s, 11 steps of size 2.07e-01. acc. prob=0.92]\n"
     ]
    },
    {
     "name": "stdout",
     "output_type": "stream",
     "text": [
      "Generating instance 59...\n"
     ]
    },
    {
     "name": "stderr",
     "output_type": "stream",
     "text": [
      "sample: 100%|██████████| 12500/12500 [00:04<00:00, 2873.78it/s, 7 steps of size 4.49e-01. acc. prob=0.91] \n",
      "sample: 100%|██████████| 12500/12500 [00:02<00:00, 4839.29it/s, 3 steps of size 4.75e-01. acc. prob=0.89] \n",
      "sample: 100%|██████████| 12500/12500 [00:02<00:00, 4705.97it/s, 15 steps of size 3.76e-01. acc. prob=0.94]\n"
     ]
    },
    {
     "name": "stdout",
     "output_type": "stream",
     "text": [
      "Generating instance 60...\n"
     ]
    },
    {
     "name": "stderr",
     "output_type": "stream",
     "text": [
      "sample: 100%|██████████| 12500/12500 [00:04<00:00, 2930.54it/s, 7 steps of size 6.47e-01. acc. prob=0.91]\n",
      "sample: 100%|██████████| 12500/12500 [00:02<00:00, 4985.49it/s, 7 steps of size 6.21e-01. acc. prob=0.91]\n",
      "sample: 100%|██████████| 12500/12500 [00:02<00:00, 5012.72it/s, 3 steps of size 6.40e-01. acc. prob=0.90]\n"
     ]
    },
    {
     "name": "stdout",
     "output_type": "stream",
     "text": [
      "Generating instance 61...\n"
     ]
    },
    {
     "name": "stderr",
     "output_type": "stream",
     "text": [
      "sample: 100%|██████████| 12500/12500 [00:05<00:00, 2122.37it/s, 31 steps of size 7.95e-02. acc. prob=0.93]\n",
      "sample: 100%|██████████| 12500/12500 [00:04<00:00, 2970.04it/s, 63 steps of size 7.13e-02. acc. prob=0.94]\n",
      "sample: 100%|██████████| 12500/12500 [00:04<00:00, 2984.54it/s, 11 steps of size 7.55e-02. acc. prob=0.93]\n"
     ]
    },
    {
     "name": "stdout",
     "output_type": "stream",
     "text": [
      "Generating instance 62...\n"
     ]
    },
    {
     "name": "stderr",
     "output_type": "stream",
     "text": [
      "sample: 100%|██████████| 12500/12500 [00:05<00:00, 2125.22it/s, 31 steps of size 7.26e-02. acc. prob=0.93]\n",
      "sample: 100%|██████████| 12500/12500 [00:04<00:00, 2905.05it/s, 63 steps of size 6.86e-02. acc. prob=0.94]\n",
      "sample: 100%|██████████| 12500/12500 [00:04<00:00, 3034.65it/s, 15 steps of size 7.24e-02. acc. prob=0.93]\n"
     ]
    },
    {
     "name": "stdout",
     "output_type": "stream",
     "text": [
      "Generating instance 63...\n"
     ]
    },
    {
     "name": "stderr",
     "output_type": "stream",
     "text": [
      "sample: 100%|██████████| 12500/12500 [00:06<00:00, 2067.92it/s, 19 steps of size 6.68e-02. acc. prob=0.94]\n",
      "sample: 100%|██████████| 12500/12500 [00:04<00:00, 3042.70it/s, 63 steps of size 7.51e-02. acc. prob=0.92]\n",
      "sample: 100%|██████████| 12500/12500 [00:04<00:00, 3003.87it/s, 35 steps of size 7.17e-02. acc. prob=0.93]\n"
     ]
    },
    {
     "name": "stdout",
     "output_type": "stream",
     "text": [
      "Generating instance 64...\n"
     ]
    },
    {
     "name": "stderr",
     "output_type": "stream",
     "text": [
      "sample: 100%|██████████| 12500/12500 [00:06<00:00, 2068.84it/s, 63 steps of size 7.32e-02. acc. prob=0.94]\n",
      "sample: 100%|██████████| 12500/12500 [00:04<00:00, 2938.87it/s, 31 steps of size 7.12e-02. acc. prob=0.93]\n",
      "sample: 100%|██████████| 12500/12500 [00:04<00:00, 2945.83it/s, 27 steps of size 7.10e-02. acc. prob=0.94]\n"
     ]
    },
    {
     "name": "stdout",
     "output_type": "stream",
     "text": [
      "Generating instance 65...\n"
     ]
    },
    {
     "name": "stderr",
     "output_type": "stream",
     "text": [
      "sample: 100%|██████████| 12500/12500 [00:06<00:00, 2071.70it/s, 31 steps of size 6.70e-02. acc. prob=0.95]\n",
      "sample: 100%|██████████| 12500/12500 [00:04<00:00, 2974.86it/s, 63 steps of size 6.68e-02. acc. prob=0.94]\n",
      "sample: 100%|██████████| 12500/12500 [00:03<00:00, 3165.44it/s, 31 steps of size 8.38e-02. acc. prob=0.90]\n"
     ]
    },
    {
     "name": "stdout",
     "output_type": "stream",
     "text": [
      "Generating instance 66...\n"
     ]
    },
    {
     "name": "stderr",
     "output_type": "stream",
     "text": [
      "sample: 100%|██████████| 12500/12500 [00:06<00:00, 2061.35it/s, 63 steps of size 7.10e-02. acc. prob=0.95]\n",
      "sample: 100%|██████████| 12500/12500 [00:04<00:00, 3105.30it/s, 31 steps of size 8.89e-02. acc. prob=0.90]\n",
      "sample: 100%|██████████| 12500/12500 [00:04<00:00, 2948.16it/s, 31 steps of size 7.92e-02. acc. prob=0.93]\n"
     ]
    },
    {
     "name": "stdout",
     "output_type": "stream",
     "text": [
      "Generating instance 67...\n"
     ]
    },
    {
     "name": "stderr",
     "output_type": "stream",
     "text": [
      "sample: 100%|██████████| 12500/12500 [00:06<00:00, 2001.01it/s, 31 steps of size 6.96e-02. acc. prob=0.94]\n",
      "sample: 100%|██████████| 12500/12500 [00:04<00:00, 2824.09it/s, 63 steps of size 7.24e-02. acc. prob=0.93]\n",
      "sample: 100%|██████████| 12500/12500 [00:04<00:00, 2915.76it/s, 31 steps of size 7.61e-02. acc. prob=0.92]\n"
     ]
    },
    {
     "name": "stdout",
     "output_type": "stream",
     "text": [
      "Generating instance 68...\n"
     ]
    },
    {
     "name": "stderr",
     "output_type": "stream",
     "text": [
      "sample: 100%|██████████| 12500/12500 [00:05<00:00, 2167.86it/s, 31 steps of size 9.15e-02. acc. prob=0.93]\n",
      "sample: 100%|██████████| 12500/12500 [00:03<00:00, 3167.30it/s, 31 steps of size 9.06e-02. acc. prob=0.92]\n",
      "sample: 100%|██████████| 12500/12500 [00:04<00:00, 3117.31it/s, 31 steps of size 8.91e-02. acc. prob=0.94]\n"
     ]
    },
    {
     "name": "stdout",
     "output_type": "stream",
     "text": [
      "Generating instance 69...\n"
     ]
    },
    {
     "name": "stderr",
     "output_type": "stream",
     "text": [
      "sample: 100%|██████████| 12500/12500 [00:05<00:00, 2329.62it/s, 7 steps of size 1.10e-01. acc. prob=0.94] \n",
      "sample: 100%|██████████| 12500/12500 [00:03<00:00, 3419.93it/s, 31 steps of size 1.05e-01. acc. prob=0.94]\n",
      "sample: 100%|██████████| 12500/12500 [00:03<00:00, 3543.79it/s, 15 steps of size 1.20e-01. acc. prob=0.92]\n"
     ]
    },
    {
     "name": "stdout",
     "output_type": "stream",
     "text": [
      "Generating instance 70...\n"
     ]
    },
    {
     "name": "stderr",
     "output_type": "stream",
     "text": [
      "sample: 100%|██████████| 12500/12500 [00:04<00:00, 2645.87it/s, 7 steps of size 2.07e-01. acc. prob=0.93] \n",
      "sample: 100%|██████████| 12500/12500 [00:03<00:00, 4096.15it/s, 15 steps of size 1.97e-01. acc. prob=0.93]\n",
      "sample: 100%|██████████| 12500/12500 [00:03<00:00, 3945.31it/s, 15 steps of size 1.84e-01. acc. prob=0.95]\n"
     ]
    },
    {
     "name": "stdout",
     "output_type": "stream",
     "text": [
      "Generating instance 71...\n"
     ]
    },
    {
     "name": "stderr",
     "output_type": "stream",
     "text": [
      "sample: 100%|██████████| 12500/12500 [00:05<00:00, 2121.70it/s, 31 steps of size 7.69e-02. acc. prob=0.92]\n",
      "sample: 100%|██████████| 12500/12500 [00:04<00:00, 2920.12it/s, 63 steps of size 6.74e-02. acc. prob=0.94]\n",
      "sample: 100%|██████████| 12500/12500 [00:04<00:00, 3012.00it/s, 31 steps of size 7.57e-02. acc. prob=0.93] \n"
     ]
    },
    {
     "name": "stdout",
     "output_type": "stream",
     "text": [
      "Generating instance 72...\n"
     ]
    },
    {
     "name": "stderr",
     "output_type": "stream",
     "text": [
      "sample: 100%|██████████| 12500/12500 [00:06<00:00, 2068.52it/s, 31 steps of size 7.04e-02. acc. prob=0.94]\n",
      "sample: 100%|██████████| 12500/12500 [00:04<00:00, 2944.28it/s, 63 steps of size 7.49e-02. acc. prob=0.93]\n",
      "sample: 100%|██████████| 12500/12500 [00:04<00:00, 2912.38it/s, 31 steps of size 7.01e-02. acc. prob=0.94]\n"
     ]
    },
    {
     "name": "stdout",
     "output_type": "stream",
     "text": [
      "Generating instance 73...\n"
     ]
    },
    {
     "name": "stderr",
     "output_type": "stream",
     "text": [
      "sample: 100%|██████████| 12500/12500 [00:06<00:00, 2079.05it/s, 63 steps of size 6.86e-02. acc. prob=0.95]\n",
      "sample: 100%|██████████| 12500/12500 [00:04<00:00, 2955.55it/s, 63 steps of size 7.14e-02. acc. prob=0.93]\n",
      "sample: 100%|██████████| 12500/12500 [00:04<00:00, 2981.29it/s, 15 steps of size 7.39e-02. acc. prob=0.93]\n"
     ]
    },
    {
     "name": "stdout",
     "output_type": "stream",
     "text": [
      "Generating instance 74...\n"
     ]
    },
    {
     "name": "stderr",
     "output_type": "stream",
     "text": [
      "sample: 100%|██████████| 12500/12500 [00:06<00:00, 2019.44it/s, 31 steps of size 6.70e-02. acc. prob=0.94]\n",
      "sample: 100%|██████████| 12500/12500 [00:04<00:00, 2926.44it/s, 31 steps of size 7.86e-02. acc. prob=0.92]\n",
      "sample: 100%|██████████| 12500/12500 [00:04<00:00, 2844.04it/s, 39 steps of size 6.65e-02. acc. prob=0.95]\n"
     ]
    },
    {
     "name": "stdout",
     "output_type": "stream",
     "text": [
      "Generating instance 75...\n"
     ]
    },
    {
     "name": "stderr",
     "output_type": "stream",
     "text": [
      "sample: 100%|██████████| 12500/12500 [00:06<00:00, 1949.49it/s, 63 steps of size 7.26e-02. acc. prob=0.92]\n",
      "sample: 100%|██████████| 12500/12500 [00:04<00:00, 2960.19it/s, 63 steps of size 7.60e-02. acc. prob=0.91]\n",
      "sample: 100%|██████████| 12500/12500 [00:04<00:00, 2811.95it/s, 63 steps of size 6.36e-02. acc. prob=0.95] \n"
     ]
    },
    {
     "name": "stdout",
     "output_type": "stream",
     "text": [
      "Generating instance 76...\n"
     ]
    },
    {
     "name": "stderr",
     "output_type": "stream",
     "text": [
      "sample: 100%|██████████| 12500/12500 [00:06<00:00, 2057.44it/s, 63 steps of size 7.41e-02. acc. prob=0.94]\n",
      "sample: 100%|██████████| 12500/12500 [00:04<00:00, 2959.81it/s, 63 steps of size 8.07e-02. acc. prob=0.92]\n",
      "sample: 100%|██████████| 12500/12500 [00:04<00:00, 2864.93it/s, 47 steps of size 7.11e-02. acc. prob=0.95]\n"
     ]
    },
    {
     "name": "stdout",
     "output_type": "stream",
     "text": [
      "Generating instance 77...\n"
     ]
    },
    {
     "name": "stderr",
     "output_type": "stream",
     "text": [
      "sample: 100%|██████████| 12500/12500 [00:06<00:00, 2080.56it/s, 31 steps of size 8.00e-02. acc. prob=0.93]\n",
      "sample: 100%|██████████| 12500/12500 [00:04<00:00, 2931.78it/s, 63 steps of size 8.00e-02. acc. prob=0.91]\n",
      "sample: 100%|██████████| 12500/12500 [00:04<00:00, 2928.33it/s, 31 steps of size 7.65e-02. acc. prob=0.94]\n"
     ]
    },
    {
     "name": "stdout",
     "output_type": "stream",
     "text": [
      "Generating instance 78...\n"
     ]
    },
    {
     "name": "stderr",
     "output_type": "stream",
     "text": [
      "sample: 100%|██████████| 12500/12500 [00:06<00:00, 2078.08it/s, 23 steps of size 7.47e-02. acc. prob=0.93]\n",
      "sample: 100%|██████████| 12500/12500 [00:04<00:00, 2905.86it/s, 63 steps of size 7.88e-02. acc. prob=0.92]\n",
      "sample: 100%|██████████| 12500/12500 [00:04<00:00, 2802.91it/s, 63 steps of size 6.46e-02. acc. prob=0.95]\n"
     ]
    },
    {
     "name": "stdout",
     "output_type": "stream",
     "text": [
      "Generating instance 79...\n"
     ]
    },
    {
     "name": "stderr",
     "output_type": "stream",
     "text": [
      "sample: 100%|██████████| 12500/12500 [00:05<00:00, 2167.45it/s, 31 steps of size 8.24e-02. acc. prob=0.94]\n",
      "sample: 100%|██████████| 12500/12500 [00:03<00:00, 3374.37it/s, 47 steps of size 1.01e-01. acc. prob=0.90]\n",
      "sample: 100%|██████████| 12500/12500 [00:04<00:00, 3055.75it/s, 31 steps of size 8.54e-02. acc. prob=0.94]\n"
     ]
    },
    {
     "name": "stdout",
     "output_type": "stream",
     "text": [
      "Generating instance 80...\n"
     ]
    },
    {
     "name": "stderr",
     "output_type": "stream",
     "text": [
      "sample: 100%|██████████| 12500/12500 [00:05<00:00, 2177.35it/s, 19 steps of size 8.87e-02. acc. prob=0.94]\n",
      "sample: 100%|██████████| 12500/12500 [00:03<00:00, 3170.97it/s, 31 steps of size 9.39e-02. acc. prob=0.93]\n",
      "sample: 100%|██████████| 12500/12500 [00:04<00:00, 3095.68it/s, 31 steps of size 9.08e-02. acc. prob=0.93]\n"
     ]
    },
    {
     "name": "stdout",
     "output_type": "stream",
     "text": [
      "Generating instance 81...\n"
     ]
    },
    {
     "name": "stderr",
     "output_type": "stream",
     "text": [
      "sample: 100%|██████████| 12500/12500 [00:05<00:00, 2107.87it/s, 31 steps of size 7.64e-02. acc. prob=0.94]\n",
      "sample: 100%|██████████| 12500/12500 [00:04<00:00, 3071.02it/s, 31 steps of size 8.58e-02. acc. prob=0.92]\n",
      "sample: 100%|██████████| 12500/12500 [00:04<00:00, 3029.70it/s, 31 steps of size 8.31e-02. acc. prob=0.94]\n"
     ]
    },
    {
     "name": "stdout",
     "output_type": "stream",
     "text": [
      "Generating instance 82...\n"
     ]
    },
    {
     "name": "stderr",
     "output_type": "stream",
     "text": [
      "sample: 100%|██████████| 12500/12500 [00:05<00:00, 2117.39it/s, 63 steps of size 6.91e-02. acc. prob=0.94]\n",
      "sample: 100%|██████████| 12500/12500 [00:04<00:00, 3033.69it/s, 63 steps of size 7.43e-02. acc. prob=0.93]\n",
      "sample: 100%|██████████| 12500/12500 [00:04<00:00, 2966.49it/s, 27 steps of size 6.82e-02. acc. prob=0.94]\n"
     ]
    },
    {
     "name": "stdout",
     "output_type": "stream",
     "text": [
      "Generating instance 83...\n"
     ]
    },
    {
     "name": "stderr",
     "output_type": "stream",
     "text": [
      "sample: 100%|██████████| 12500/12500 [00:05<00:00, 2149.04it/s, 31 steps of size 7.20e-02. acc. prob=0.93]\n",
      "sample: 100%|██████████| 12500/12500 [00:04<00:00, 2984.46it/s, 63 steps of size 7.06e-02. acc. prob=0.92]\n",
      "sample: 100%|██████████| 12500/12500 [00:04<00:00, 2887.37it/s, 31 steps of size 6.58e-02. acc. prob=0.94]\n"
     ]
    },
    {
     "name": "stdout",
     "output_type": "stream",
     "text": [
      "Generating instance 84...\n"
     ]
    },
    {
     "name": "stderr",
     "output_type": "stream",
     "text": [
      "sample: 100%|██████████| 12500/12500 [00:05<00:00, 2083.42it/s, 31 steps of size 7.31e-02. acc. prob=0.93]\n",
      "sample: 100%|██████████| 12500/12500 [00:04<00:00, 2868.65it/s, 31 steps of size 6.51e-02. acc. prob=0.94]\n",
      "sample: 100%|██████████| 12500/12500 [00:04<00:00, 2847.94it/s, 47 steps of size 6.66e-02. acc. prob=0.94]\n"
     ]
    },
    {
     "name": "stdout",
     "output_type": "stream",
     "text": [
      "Generating instance 85...\n"
     ]
    },
    {
     "name": "stderr",
     "output_type": "stream",
     "text": [
      "sample: 100%|██████████| 12500/12500 [00:05<00:00, 2124.15it/s, 43 steps of size 6.48e-02. acc. prob=0.94]\n",
      "sample: 100%|██████████| 12500/12500 [00:04<00:00, 3013.31it/s, 63 steps of size 7.14e-02. acc. prob=0.92]\n",
      "sample: 100%|██████████| 12500/12500 [00:03<00:00, 3162.56it/s, 23 steps of size 8.00e-02. acc. prob=0.90]\n"
     ]
    },
    {
     "name": "stdout",
     "output_type": "stream",
     "text": [
      "Generating instance 86...\n"
     ]
    },
    {
     "name": "stderr",
     "output_type": "stream",
     "text": [
      "sample: 100%|██████████| 12500/12500 [00:06<00:00, 2050.10it/s, 43 steps of size 6.85e-02. acc. prob=0.93]\n",
      "sample: 100%|██████████| 12500/12500 [00:04<00:00, 2675.13it/s, 63 steps of size 6.71e-02. acc. prob=0.93]\n",
      "sample: 100%|██████████| 12500/12500 [00:04<00:00, 2771.16it/s, 31 steps of size 7.09e-02. acc. prob=0.92]\n"
     ]
    },
    {
     "name": "stdout",
     "output_type": "stream",
     "text": [
      "Generating instance 87...\n"
     ]
    },
    {
     "name": "stderr",
     "output_type": "stream",
     "text": [
      "sample: 100%|██████████| 12500/12500 [00:06<00:00, 1887.03it/s, 31 steps of size 6.36e-02. acc. prob=0.95] \n",
      "sample: 100%|██████████| 12500/12500 [00:04<00:00, 2802.50it/s, 63 steps of size 7.17e-02. acc. prob=0.93]\n",
      "sample: 100%|██████████| 12500/12500 [00:04<00:00, 2912.78it/s, 31 steps of size 7.55e-02. acc. prob=0.92]\n"
     ]
    },
    {
     "name": "stdout",
     "output_type": "stream",
     "text": [
      "Generating instance 88...\n"
     ]
    },
    {
     "name": "stderr",
     "output_type": "stream",
     "text": [
      "sample: 100%|██████████| 12500/12500 [00:06<00:00, 1954.35it/s, 23 steps of size 7.29e-02. acc. prob=0.94]\n",
      "sample: 100%|██████████| 12500/12500 [00:04<00:00, 2784.94it/s, 31 steps of size 7.82e-02. acc. prob=0.92]\n",
      "sample: 100%|██████████| 12500/12500 [00:04<00:00, 2745.25it/s, 31 steps of size 6.79e-02. acc. prob=0.95]\n"
     ]
    },
    {
     "name": "stdout",
     "output_type": "stream",
     "text": [
      "Generating instance 89...\n"
     ]
    },
    {
     "name": "stderr",
     "output_type": "stream",
     "text": [
      "sample: 100%|██████████| 12500/12500 [00:05<00:00, 2093.89it/s, 31 steps of size 8.36e-02. acc. prob=0.92]\n",
      "sample: 100%|██████████| 12500/12500 [00:04<00:00, 2985.24it/s, 31 steps of size 7.86e-02. acc. prob=0.92]\n",
      "sample: 100%|██████████| 12500/12500 [00:04<00:00, 3014.90it/s, 15 steps of size 8.06e-02. acc. prob=0.92]\n"
     ]
    },
    {
     "name": "stdout",
     "output_type": "stream",
     "text": [
      "Generating instance 90...\n"
     ]
    },
    {
     "name": "stderr",
     "output_type": "stream",
     "text": [
      "sample: 100%|██████████| 12500/12500 [00:05<00:00, 2156.38it/s, 23 steps of size 8.61e-02. acc. prob=0.93]\n",
      "sample: 100%|██████████| 12500/12500 [00:04<00:00, 3074.22it/s, 31 steps of size 8.34e-02. acc. prob=0.92]\n",
      "sample: 100%|██████████| 12500/12500 [00:04<00:00, 3058.18it/s, 31 steps of size 8.19e-02. acc. prob=0.93]\n"
     ]
    },
    {
     "name": "stdout",
     "output_type": "stream",
     "text": [
      "Generating instance 91...\n"
     ]
    },
    {
     "name": "stderr",
     "output_type": "stream",
     "text": [
      "sample: 100%|██████████| 12500/12500 [00:05<00:00, 2284.96it/s, 27 steps of size 9.09e-02. acc. prob=0.94]\n",
      "sample: 100%|██████████| 12500/12500 [00:03<00:00, 3295.28it/s, 23 steps of size 8.00e-02. acc. prob=0.93]\n",
      "sample: 100%|██████████| 12500/12500 [00:03<00:00, 3403.38it/s, 31 steps of size 9.65e-02. acc. prob=0.92]\n"
     ]
    },
    {
     "name": "stdout",
     "output_type": "stream",
     "text": [
      "Generating instance 92...\n"
     ]
    },
    {
     "name": "stderr",
     "output_type": "stream",
     "text": [
      "sample: 100%|██████████| 12500/12500 [00:06<00:00, 2066.02it/s, 63 steps of size 7.13e-02. acc. prob=0.94]\n",
      "sample: 100%|██████████| 12500/12500 [00:04<00:00, 2982.10it/s, 31 steps of size 8.08e-02. acc. prob=0.92]\n",
      "sample: 100%|██████████| 12500/12500 [00:04<00:00, 2924.15it/s, 31 steps of size 7.65e-02. acc. prob=0.93]\n"
     ]
    },
    {
     "name": "stdout",
     "output_type": "stream",
     "text": [
      "Generating instance 93...\n"
     ]
    },
    {
     "name": "stderr",
     "output_type": "stream",
     "text": [
      "sample: 100%|██████████| 12500/12500 [00:06<00:00, 2035.97it/s, 31 steps of size 6.49e-02. acc. prob=0.95]\n",
      "sample: 100%|██████████| 12500/12500 [00:04<00:00, 2975.25it/s, 63 steps of size 7.11e-02. acc. prob=0.93]\n",
      "sample: 100%|██████████| 12500/12500 [00:04<00:00, 2988.86it/s, 31 steps of size 7.23e-02. acc. prob=0.93]\n"
     ]
    },
    {
     "name": "stdout",
     "output_type": "stream",
     "text": [
      "Generating instance 94...\n"
     ]
    },
    {
     "name": "stderr",
     "output_type": "stream",
     "text": [
      "sample: 100%|██████████| 12500/12500 [00:06<00:00, 2055.51it/s, 43 steps of size 6.25e-02. acc. prob=0.94]\n",
      "sample: 100%|██████████| 12500/12500 [00:04<00:00, 2846.70it/s, 31 steps of size 6.50e-02. acc. prob=0.92]\n",
      "sample: 100%|██████████| 12500/12500 [00:04<00:00, 2850.36it/s, 31 steps of size 5.89e-02. acc. prob=0.94]\n"
     ]
    },
    {
     "name": "stdout",
     "output_type": "stream",
     "text": [
      "Generating instance 95...\n"
     ]
    },
    {
     "name": "stderr",
     "output_type": "stream",
     "text": [
      "sample: 100%|██████████| 12500/12500 [00:05<00:00, 2085.29it/s, 63 steps of size 7.34e-02. acc. prob=0.93]\n",
      "sample: 100%|██████████| 12500/12500 [00:04<00:00, 2926.13it/s, 63 steps of size 6.82e-02. acc. prob=0.93]\n",
      "sample: 100%|██████████| 12500/12500 [00:04<00:00, 2870.68it/s, 31 steps of size 6.91e-02. acc. prob=0.94]\n"
     ]
    },
    {
     "name": "stdout",
     "output_type": "stream",
     "text": [
      "Generating instance 96...\n"
     ]
    },
    {
     "name": "stderr",
     "output_type": "stream",
     "text": [
      "sample: 100%|██████████| 12500/12500 [00:06<00:00, 1956.21it/s, 19 steps of size 7.09e-02. acc. prob=0.94]\n",
      "sample: 100%|██████████| 12500/12500 [00:04<00:00, 2903.82it/s, 31 steps of size 7.63e-02. acc. prob=0.93]\n",
      "sample: 100%|██████████| 12500/12500 [00:04<00:00, 2916.47it/s, 39 steps of size 7.37e-02. acc. prob=0.94]\n"
     ]
    },
    {
     "name": "stdout",
     "output_type": "stream",
     "text": [
      "Generating instance 97...\n"
     ]
    },
    {
     "name": "stderr",
     "output_type": "stream",
     "text": [
      "sample: 100%|██████████| 12500/12500 [00:05<00:00, 2083.69it/s, 31 steps of size 7.53e-02. acc. prob=0.92]\n",
      "sample: 100%|██████████| 12500/12500 [00:04<00:00, 2960.83it/s, 31 steps of size 7.60e-02. acc. prob=0.92]\n",
      "sample: 100%|██████████| 12500/12500 [00:04<00:00, 2784.85it/s, 15 steps of size 6.43e-02. acc. prob=0.95]\n"
     ]
    },
    {
     "name": "stdout",
     "output_type": "stream",
     "text": [
      "Generating instance 98...\n"
     ]
    },
    {
     "name": "stderr",
     "output_type": "stream",
     "text": [
      "sample: 100%|██████████| 12500/12500 [00:06<00:00, 2040.56it/s, 63 steps of size 7.07e-02. acc. prob=0.93]\n",
      "sample: 100%|██████████| 12500/12500 [00:04<00:00, 2796.50it/s, 63 steps of size 6.39e-02. acc. prob=0.93]\n",
      "sample: 100%|██████████| 12500/12500 [00:04<00:00, 2845.45it/s, 31 steps of size 6.90e-02. acc. prob=0.93] \n"
     ]
    },
    {
     "name": "stdout",
     "output_type": "stream",
     "text": [
      "Generating instance 99...\n"
     ]
    },
    {
     "name": "stderr",
     "output_type": "stream",
     "text": [
      "sample: 100%|██████████| 12500/12500 [00:05<00:00, 2088.69it/s, 23 steps of size 7.43e-02. acc. prob=0.93]\n",
      "sample: 100%|██████████| 12500/12500 [00:04<00:00, 3080.14it/s, 47 steps of size 8.75e-02. acc. prob=0.90]\n",
      "sample: 100%|██████████| 12500/12500 [00:04<00:00, 2923.98it/s, 31 steps of size 7.16e-02. acc. prob=0.94]\n"
     ]
    },
    {
     "name": "stdout",
     "output_type": "stream",
     "text": [
      "Generating instance 100...\n"
     ]
    },
    {
     "name": "stderr",
     "output_type": "stream",
     "text": [
      "sample: 100%|██████████| 12500/12500 [00:06<00:00, 2027.49it/s, 31 steps of size 6.99e-02. acc. prob=0.95]\n",
      "sample: 100%|██████████| 12500/12500 [00:04<00:00, 3066.16it/s, 31 steps of size 8.82e-02. acc. prob=0.91]\n",
      "sample: 100%|██████████| 12500/12500 [00:04<00:00, 2897.00it/s, 31 steps of size 7.37e-02. acc. prob=0.95]\n"
     ]
    },
    {
     "name": "stdout",
     "output_type": "stream",
     "text": [
      "Working on varying I_z_mu...\n",
      "Generating instance 1...\n"
     ]
    },
    {
     "name": "stderr",
     "output_type": "stream",
     "text": [
      "sample: 100%|██████████| 12500/12500 [00:05<00:00, 2461.51it/s, 4 steps of size 1.62e-03. acc. prob=0.81] \n",
      "sample: 100%|██████████| 12500/12500 [00:15<00:00, 795.92it/s, 78 steps of size 1.29e-04. acc. prob=0.96]  \n",
      "sample: 100%|██████████| 12500/12500 [00:03<00:00, 4075.08it/s, 2 steps of size 1.98e-03. acc. prob=0.77] \n"
     ]
    },
    {
     "name": "stdout",
     "output_type": "stream",
     "text": [
      "Generating instance 2...\n"
     ]
    },
    {
     "name": "stderr",
     "output_type": "stream",
     "text": [
      "sample: 100%|██████████| 12500/12500 [00:58<00:00, 213.49it/s, 1023 steps of size 2.66e-06. acc. prob=0.79]\n",
      "sample: 100%|██████████| 12500/12500 [00:56<00:00, 219.99it/s, 1023 steps of size 2.86e-06. acc. prob=0.78]\n",
      "sample: 100%|██████████| 12500/12500 [00:56<00:00, 222.48it/s, 1023 steps of size 2.65e-06. acc. prob=0.82]\n"
     ]
    },
    {
     "name": "stdout",
     "output_type": "stream",
     "text": [
      "Generating instance 3...\n"
     ]
    },
    {
     "name": "stderr",
     "output_type": "stream",
     "text": [
      "sample: 100%|██████████| 12500/12500 [01:00<00:00, 207.66it/s, 1023 steps of size 7.83e-07. acc. prob=0.79]\n",
      "sample: 100%|██████████| 12500/12500 [00:57<00:00, 218.90it/s, 1023 steps of size 8.19e-07. acc. prob=0.78]\n",
      "sample: 100%|██████████| 12500/12500 [00:56<00:00, 220.84it/s, 1023 steps of size 7.10e-07. acc. prob=0.82]\n"
     ]
    },
    {
     "name": "stdout",
     "output_type": "stream",
     "text": [
      "Generating instance 4...\n"
     ]
    },
    {
     "name": "stderr",
     "output_type": "stream",
     "text": [
      "sample: 100%|██████████| 12500/12500 [00:05<00:00, 2470.96it/s, 7 steps of size 1.98e-01. acc. prob=0.91] \n",
      "sample: 100%|██████████| 12500/12500 [00:03<00:00, 3860.60it/s, 15 steps of size 1.78e-01. acc. prob=0.94]\n",
      "sample: 100%|██████████| 12500/12500 [00:03<00:00, 3775.20it/s, 3 steps of size 1.78e-01. acc. prob=0.94] \n"
     ]
    },
    {
     "name": "stdout",
     "output_type": "stream",
     "text": [
      "Generating instance 5...\n"
     ]
    },
    {
     "name": "stderr",
     "output_type": "stream",
     "text": [
      "sample: 100%|██████████| 12500/12500 [00:06<00:00, 1857.13it/s, 35 steps of size 5.57e-02. acc. prob=0.92]\n",
      "sample: 100%|██████████| 12500/12500 [00:04<00:00, 2735.36it/s, 31 steps of size 5.87e-02. acc. prob=0.91]\n",
      "sample: 100%|██████████| 12500/12500 [00:04<00:00, 2761.05it/s, 3 steps of size 5.18e-02. acc. prob=0.93]  \n"
     ]
    },
    {
     "name": "stdout",
     "output_type": "stream",
     "text": [
      "Generating instance 6...\n"
     ]
    },
    {
     "name": "stderr",
     "output_type": "stream",
     "text": [
      "sample: 100%|██████████| 12500/12500 [00:12<00:00, 999.35it/s, 191 steps of size 1.84e-02. acc. prob=0.94] \n",
      "sample: 100%|██████████| 12500/12500 [00:08<00:00, 1487.39it/s, 255 steps of size 1.92e-02. acc. prob=0.93]\n",
      "sample: 100%|██████████| 12500/12500 [00:08<00:00, 1559.74it/s, 3 steps of size 1.87e-02. acc. prob=0.93]  \n"
     ]
    },
    {
     "name": "stdout",
     "output_type": "stream",
     "text": [
      "Generating instance 7...\n"
     ]
    },
    {
     "name": "stderr",
     "output_type": "stream",
     "text": [
      "sample: 100%|██████████| 12500/12500 [00:23<00:00, 533.93it/s, 255 steps of size 6.12e-03. acc. prob=0.91] \n",
      "sample: 100%|██████████| 12500/12500 [00:20<00:00, 614.39it/s, 511 steps of size 6.04e-03. acc. prob=0.92] \n",
      "sample: 100%|██████████| 12500/12500 [00:20<00:00, 619.28it/s, 1 steps of size 5.75e-03. acc. prob=0.93]   \n"
     ]
    },
    {
     "name": "stdout",
     "output_type": "stream",
     "text": [
      "Generating instance 8...\n"
     ]
    },
    {
     "name": "stderr",
     "output_type": "stream",
     "text": [
      "sample: 100%|██████████| 12500/12500 [00:59<00:00, 211.64it/s, 1023 steps of size 3.07e-08. acc. prob=0.83]\n",
      "sample: 100%|██████████| 12500/12500 [00:15<00:00, 790.92it/s, 83 steps of size 1.76e-03. acc. prob=0.93]  \n",
      "sample: 100%|██████████| 12500/12500 [00:16<00:00, 762.32it/s, 3 steps of size 1.63e-03. acc. prob=0.93]   \n"
     ]
    },
    {
     "name": "stdout",
     "output_type": "stream",
     "text": [
      "Generating instance 9...\n"
     ]
    },
    {
     "name": "stderr",
     "output_type": "stream",
     "text": [
      "sample: 100%|██████████| 12500/12500 [00:59<00:00, 210.17it/s, 1023 steps of size 2.19e-08. acc. prob=0.83]\n",
      "sample: 100%|██████████| 12500/12500 [00:57<00:00, 217.31it/s, 1023 steps of size 8.59e-07. acc. prob=0.81]\n",
      "sample: 100%|██████████| 12500/12500 [00:57<00:00, 217.52it/s, 1023 steps of size 4.06e-07. acc. prob=0.82]\n"
     ]
    },
    {
     "name": "stdout",
     "output_type": "stream",
     "text": [
      "Generating instance 10...\n"
     ]
    },
    {
     "name": "stderr",
     "output_type": "stream",
     "text": [
      "sample: 100%|██████████| 12500/12500 [00:59<00:00, 211.10it/s, 1023 steps of size 3.13e-08. acc. prob=0.79]\n",
      "sample: 100%|██████████| 12500/12500 [00:57<00:00, 218.63it/s, 1023 steps of size 3.37e-10. acc. prob=0.81]\n",
      "sample: 100%|██████████| 12500/12500 [00:57<00:00, 217.01it/s, 1023 steps of size 9.12e-08. acc. prob=0.80]\n"
     ]
    },
    {
     "name": "stdout",
     "output_type": "stream",
     "text": [
      "Generating instance 11...\n"
     ]
    },
    {
     "name": "stderr",
     "output_type": "stream",
     "text": [
      "sample: 100%|██████████| 12500/12500 [00:04<00:00, 2951.61it/s, 3 steps of size 4.78e-01. acc. prob=0.92]\n",
      "sample: 100%|██████████| 12500/12500 [00:02<00:00, 5024.45it/s, 7 steps of size 5.43e-01. acc. prob=0.90] \n",
      "sample: 100%|██████████| 12500/12500 [00:02<00:00, 5012.27it/s, 7 steps of size 5.22e-01. acc. prob=0.91] \n"
     ]
    },
    {
     "name": "stdout",
     "output_type": "stream",
     "text": [
      "Generating instance 12...\n"
     ]
    },
    {
     "name": "stderr",
     "output_type": "stream",
     "text": [
      "sample: 100%|██████████| 12500/12500 [00:04<00:00, 2675.60it/s, 6 steps of size 2.46e-02. acc. prob=0.84] \n",
      "sample: 100%|██████████| 12500/12500 [00:02<00:00, 4412.99it/s, 1 steps of size 2.85e-02. acc. prob=0.81] \n",
      "sample: 100%|██████████| 12500/12500 [00:02<00:00, 4988.74it/s, 2 steps of size 7.11e-02. acc. prob=0.65]\n"
     ]
    },
    {
     "name": "stdout",
     "output_type": "stream",
     "text": [
      "Generating instance 13...\n"
     ]
    },
    {
     "name": "stderr",
     "output_type": "stream",
     "text": [
      "sample: 100%|██████████| 12500/12500 [00:04<00:00, 2860.85it/s, 14 steps of size 1.03e-02. acc. prob=0.76]\n",
      "sample: 100%|██████████| 12500/12500 [00:02<00:00, 4717.64it/s, 1 steps of size 1.09e-02. acc. prob=0.75] \n",
      "sample: 100%|██████████| 12500/12500 [00:02<00:00, 5013.43it/s, 2 steps of size 2.31e-02. acc. prob=0.60]\n"
     ]
    },
    {
     "name": "stdout",
     "output_type": "stream",
     "text": [
      "Generating instance 14...\n"
     ]
    },
    {
     "name": "stderr",
     "output_type": "stream",
     "text": [
      "sample: 100%|██████████| 12500/12500 [00:04<00:00, 2927.00it/s, 3 steps of size 5.13e-01. acc. prob=0.95]\n",
      "sample: 100%|██████████| 12500/12500 [00:02<00:00, 4986.19it/s, 7 steps of size 6.20e-01. acc. prob=0.92]\n",
      "sample: 100%|██████████| 12500/12500 [00:02<00:00, 5116.54it/s, 7 steps of size 7.04e-01. acc. prob=0.89]\n"
     ]
    },
    {
     "name": "stdout",
     "output_type": "stream",
     "text": [
      "Generating instance 15...\n"
     ]
    },
    {
     "name": "stderr",
     "output_type": "stream",
     "text": [
      "sample: 100%|██████████| 12500/12500 [00:05<00:00, 2164.44it/s, 15 steps of size 7.15e-02. acc. prob=0.94]\n",
      "sample: 100%|██████████| 12500/12500 [00:03<00:00, 3173.94it/s, 63 steps of size 8.22e-02. acc. prob=0.92]\n",
      "sample: 100%|██████████| 12500/12500 [00:04<00:00, 3121.73it/s, 15 steps of size 7.39e-02. acc. prob=0.94]\n"
     ]
    },
    {
     "name": "stdout",
     "output_type": "stream",
     "text": [
      "Generating instance 16...\n"
     ]
    },
    {
     "name": "stderr",
     "output_type": "stream",
     "text": [
      "sample: 100%|██████████| 12500/12500 [00:05<00:00, 2475.19it/s, 7 steps of size 1.66e-01. acc. prob=0.93] \n",
      "sample: 100%|██████████| 12500/12500 [00:03<00:00, 3992.36it/s, 15 steps of size 1.67e-01. acc. prob=0.93]\n",
      "sample: 100%|██████████| 12500/12500 [00:03<00:00, 4143.05it/s, 3 steps of size 1.80e-01. acc. prob=0.92] \n"
     ]
    },
    {
     "name": "stdout",
     "output_type": "stream",
     "text": [
      "Generating instance 17...\n"
     ]
    },
    {
     "name": "stderr",
     "output_type": "stream",
     "text": [
      "sample: 100%|██████████| 12500/12500 [00:06<00:00, 1871.51it/s, 27 steps of size 6.42e-02. acc. prob=0.92]\n",
      "sample: 100%|██████████| 12500/12500 [00:04<00:00, 2762.34it/s, 27 steps of size 5.95e-02. acc. prob=0.93]\n",
      "sample: 100%|██████████| 12500/12500 [00:04<00:00, 2725.42it/s, 3 steps of size 6.27e-02. acc. prob=0.92] \n"
     ]
    },
    {
     "name": "stdout",
     "output_type": "stream",
     "text": [
      "Generating instance 18...\n"
     ]
    },
    {
     "name": "stderr",
     "output_type": "stream",
     "text": [
      "sample: 100%|██████████| 12500/12500 [00:11<00:00, 1050.51it/s, 127 steps of size 2.10e-02. acc. prob=0.91]\n",
      "sample: 100%|██████████| 12500/12500 [00:10<00:00, 1245.59it/s, 255 steps of size 1.82e-02. acc. prob=0.94]\n",
      "sample: 100%|██████████| 12500/12500 [00:09<00:00, 1340.82it/s, 3 steps of size 1.94e-02. acc. prob=0.93]  \n"
     ]
    },
    {
     "name": "stdout",
     "output_type": "stream",
     "text": [
      "Generating instance 19...\n"
     ]
    },
    {
     "name": "stderr",
     "output_type": "stream",
     "text": [
      "sample: 100%|██████████| 12500/12500 [00:26<00:00, 473.55it/s, 255 steps of size 5.15e-03. acc. prob=0.92] \n",
      "sample: 100%|██████████| 12500/12500 [00:20<00:00, 614.68it/s, 511 steps of size 6.35e-03. acc. prob=0.89] \n",
      "sample: 100%|██████████| 12500/12500 [00:11<00:00, 1044.56it/s, 3 steps of size 4.73e-03. acc. prob=0.94]  \n"
     ]
    },
    {
     "name": "stdout",
     "output_type": "stream",
     "text": [
      "Generating instance 20...\n"
     ]
    },
    {
     "name": "stderr",
     "output_type": "stream",
     "text": [
      "sample: 100%|██████████| 12500/12500 [00:58<00:00, 212.35it/s, 1023 steps of size 1.96e-08. acc. prob=0.83]\n",
      "sample: 100%|██████████| 12500/12500 [00:57<00:00, 218.77it/s, 1023 steps of size 1.98e-06. acc. prob=0.78]\n",
      "sample: 100%|██████████| 12500/12500 [00:55<00:00, 223.34it/s, 1023 steps of size 2.94e-06. acc. prob=0.80]\n"
     ]
    },
    {
     "name": "stdout",
     "output_type": "stream",
     "text": [
      "Generating instance 21...\n"
     ]
    },
    {
     "name": "stderr",
     "output_type": "stream",
     "text": [
      "sample: 100%|██████████| 12500/12500 [00:06<00:00, 2072.69it/s, 31 steps of size 8.05e-02. acc. prob=0.94]\n",
      "sample: 100%|██████████| 12500/12500 [00:04<00:00, 2936.71it/s, 31 steps of size 8.08e-02. acc. prob=0.93]\n",
      "sample: 100%|██████████| 12500/12500 [00:04<00:00, 2800.21it/s, 31 steps of size 7.56e-02. acc. prob=0.95]\n"
     ]
    },
    {
     "name": "stdout",
     "output_type": "stream",
     "text": [
      "Generating instance 22...\n"
     ]
    },
    {
     "name": "stderr",
     "output_type": "stream",
     "text": [
      "sample: 100%|██████████| 12500/12500 [00:06<00:00, 2029.64it/s, 63 steps of size 7.34e-02. acc. prob=0.94]\n",
      "sample: 100%|██████████| 12500/12500 [00:04<00:00, 2868.36it/s, 63 steps of size 7.60e-02. acc. prob=0.94]\n",
      "sample: 100%|██████████| 12500/12500 [00:04<00:00, 2994.17it/s, 19 steps of size 8.23e-02. acc. prob=0.93]\n"
     ]
    },
    {
     "name": "stdout",
     "output_type": "stream",
     "text": [
      "Generating instance 23...\n"
     ]
    },
    {
     "name": "stderr",
     "output_type": "stream",
     "text": [
      "sample: 100%|██████████| 12500/12500 [00:04<00:00, 2806.24it/s, 3 steps of size 5.41e-01. acc. prob=0.92]\n",
      "sample: 100%|██████████| 12500/12500 [00:02<00:00, 4966.50it/s, 3 steps of size 6.85e-01. acc. prob=0.88]\n",
      "sample: 100%|██████████| 12500/12500 [00:02<00:00, 5001.10it/s, 7 steps of size 6.90e-01. acc. prob=0.88]\n"
     ]
    },
    {
     "name": "stdout",
     "output_type": "stream",
     "text": [
      "Generating instance 24...\n"
     ]
    },
    {
     "name": "stderr",
     "output_type": "stream",
     "text": [
      "sample: 100%|██████████| 12500/12500 [00:05<00:00, 2374.05it/s, 23 steps of size 6.50e-02. acc. prob=0.94]\n",
      "sample: 100%|██████████| 12500/12500 [00:03<00:00, 3923.37it/s, 23 steps of size 9.65e-02. acc. prob=0.88]\n",
      "sample: 100%|██████████| 12500/12500 [00:02<00:00, 4816.70it/s, 7 steps of size 6.45e-01. acc. prob=0.90]\n"
     ]
    },
    {
     "name": "stdout",
     "output_type": "stream",
     "text": [
      "Generating instance 25...\n"
     ]
    },
    {
     "name": "stderr",
     "output_type": "stream",
     "text": [
      "sample: 100%|██████████| 12500/12500 [00:06<00:00, 2018.07it/s, 31 steps of size 7.26e-02. acc. prob=0.94]\n",
      "sample: 100%|██████████| 12500/12500 [00:04<00:00, 2926.12it/s, 63 steps of size 8.43e-02. acc. prob=0.90]\n",
      "sample: 100%|██████████| 12500/12500 [00:04<00:00, 2860.78it/s, 31 steps of size 7.30e-02. acc. prob=0.94]\n"
     ]
    },
    {
     "name": "stdout",
     "output_type": "stream",
     "text": [
      "Generating instance 26...\n"
     ]
    },
    {
     "name": "stderr",
     "output_type": "stream",
     "text": [
      "sample: 100%|██████████| 12500/12500 [00:04<00:00, 2700.11it/s, 3 steps of size 2.00e-01. acc. prob=0.92] \n",
      "sample: 100%|██████████| 12500/12500 [00:02<00:00, 4246.46it/s, 15 steps of size 1.92e-01. acc. prob=0.93]\n",
      "sample: 100%|██████████| 12500/12500 [00:02<00:00, 4400.06it/s, 15 steps of size 2.17e-01. acc. prob=0.91]\n"
     ]
    },
    {
     "name": "stdout",
     "output_type": "stream",
     "text": [
      "Generating instance 27...\n"
     ]
    },
    {
     "name": "stderr",
     "output_type": "stream",
     "text": [
      "sample: 100%|██████████| 12500/12500 [00:04<00:00, 2792.08it/s, 7 steps of size 3.63e-01. acc. prob=0.93] \n",
      "sample: 100%|██████████| 12500/12500 [00:02<00:00, 4647.76it/s, 3 steps of size 4.31e-01. acc. prob=0.90]\n",
      "sample: 100%|██████████| 12500/12500 [00:02<00:00, 4692.99it/s, 3 steps of size 4.20e-01. acc. prob=0.90] \n"
     ]
    },
    {
     "name": "stdout",
     "output_type": "stream",
     "text": [
      "Generating instance 28...\n"
     ]
    },
    {
     "name": "stderr",
     "output_type": "stream",
     "text": [
      "sample: 100%|██████████| 12500/12500 [00:04<00:00, 2511.43it/s, 3 steps of size 1.82e-01. acc. prob=0.93] \n",
      "sample: 100%|██████████| 12500/12500 [00:03<00:00, 3933.98it/s, 15 steps of size 1.72e-01. acc. prob=0.94]\n",
      "sample: 100%|██████████| 12500/12500 [00:03<00:00, 4026.88it/s, 3 steps of size 1.78e-01. acc. prob=0.94] \n"
     ]
    },
    {
     "name": "stdout",
     "output_type": "stream",
     "text": [
      "Generating instance 29...\n"
     ]
    },
    {
     "name": "stderr",
     "output_type": "stream",
     "text": [
      "sample: 100%|██████████| 12500/12500 [00:06<00:00, 1978.04it/s, 23 steps of size 7.17e-02. acc. prob=0.89]\n",
      "sample: 100%|██████████| 12500/12500 [00:04<00:00, 2604.36it/s, 31 steps of size 6.06e-02. acc. prob=0.93]\n",
      "sample: 100%|██████████| 12500/12500 [00:04<00:00, 2675.83it/s, 7 steps of size 5.32e-02. acc. prob=0.95] \n"
     ]
    },
    {
     "name": "stdout",
     "output_type": "stream",
     "text": [
      "Generating instance 30...\n"
     ]
    },
    {
     "name": "stderr",
     "output_type": "stream",
     "text": [
      "sample: 100%|██████████| 12500/12500 [00:11<00:00, 1048.34it/s, 127 steps of size 1.83e-02. acc. prob=0.93]\n",
      "sample: 100%|██████████| 12500/12500 [00:10<00:00, 1233.02it/s, 255 steps of size 1.83e-02. acc. prob=0.93]\n",
      "sample: 100%|██████████| 12500/12500 [00:09<00:00, 1287.60it/s, 3 steps of size 1.81e-02. acc. prob=0.93]  \n"
     ]
    },
    {
     "name": "stdout",
     "output_type": "stream",
     "text": [
      "Generating instance 31...\n"
     ]
    },
    {
     "name": "stderr",
     "output_type": "stream",
     "text": [
      "sample: 100%|██████████| 12500/12500 [00:06<00:00, 2067.36it/s, 23 steps of size 8.49e-02. acc. prob=0.93]\n",
      "sample: 100%|██████████| 12500/12500 [00:04<00:00, 2988.82it/s, 31 steps of size 8.55e-02. acc. prob=0.91]\n",
      "sample: 100%|██████████| 12500/12500 [00:04<00:00, 3017.31it/s, 17 steps of size 8.35e-02. acc. prob=0.93]\n"
     ]
    },
    {
     "name": "stdout",
     "output_type": "stream",
     "text": [
      "Generating instance 32...\n"
     ]
    },
    {
     "name": "stderr",
     "output_type": "stream",
     "text": [
      "sample: 100%|██████████| 12500/12500 [00:06<00:00, 2039.29it/s, 31 steps of size 7.67e-02. acc. prob=0.95]\n",
      "sample: 100%|██████████| 12500/12500 [00:03<00:00, 3243.09it/s, 31 steps of size 9.92e-02. acc. prob=0.90]\n",
      "sample: 100%|██████████| 12500/12500 [00:04<00:00, 2997.83it/s, 27 steps of size 8.23e-02. acc. prob=0.94]\n"
     ]
    },
    {
     "name": "stdout",
     "output_type": "stream",
     "text": [
      "Generating instance 33...\n"
     ]
    },
    {
     "name": "stderr",
     "output_type": "stream",
     "text": [
      "sample: 100%|██████████| 12500/12500 [00:05<00:00, 2154.72it/s, 31 steps of size 8.95e-02. acc. prob=0.92]\n",
      "sample: 100%|██████████| 12500/12500 [00:04<00:00, 2883.00it/s, 63 steps of size 7.75e-02. acc. prob=0.94]\n",
      "sample: 100%|██████████| 12500/12500 [00:04<00:00, 2993.23it/s, 31 steps of size 8.51e-02. acc. prob=0.92]\n"
     ]
    },
    {
     "name": "stdout",
     "output_type": "stream",
     "text": [
      "Generating instance 34...\n"
     ]
    },
    {
     "name": "stderr",
     "output_type": "stream",
     "text": [
      "sample: 100%|██████████| 12500/12500 [00:05<00:00, 2127.20it/s, 23 steps of size 8.43e-02. acc. prob=0.93]\n",
      "sample: 100%|██████████| 12500/12500 [00:04<00:00, 3096.48it/s, 63 steps of size 9.13e-02. acc. prob=0.91]\n",
      "sample: 100%|██████████| 12500/12500 [00:04<00:00, 3040.58it/s, 11 steps of size 8.96e-02. acc. prob=0.93]\n"
     ]
    },
    {
     "name": "stdout",
     "output_type": "stream",
     "text": [
      "Generating instance 35...\n"
     ]
    },
    {
     "name": "stderr",
     "output_type": "stream",
     "text": [
      "sample: 100%|██████████| 12500/12500 [00:06<00:00, 2053.36it/s, 63 steps of size 7.70e-02. acc. prob=0.94]\n",
      "sample: 100%|██████████| 12500/12500 [00:04<00:00, 3093.67it/s, 31 steps of size 9.11e-02. acc. prob=0.91]\n",
      "sample: 100%|██████████| 12500/12500 [00:04<00:00, 3000.92it/s, 51 steps of size 8.99e-02. acc. prob=0.93]\n"
     ]
    },
    {
     "name": "stdout",
     "output_type": "stream",
     "text": [
      "Generating instance 36...\n"
     ]
    },
    {
     "name": "stderr",
     "output_type": "stream",
     "text": [
      "sample: 100%|██████████| 12500/12500 [00:04<00:00, 2627.95it/s, 7 steps of size 2.74e-01. acc. prob=0.92] \n",
      "sample: 100%|██████████| 12500/12500 [00:02<00:00, 4380.66it/s, 15 steps of size 2.75e-01. acc. prob=0.91]\n",
      "sample: 100%|██████████| 12500/12500 [00:02<00:00, 4301.55it/s, 15 steps of size 2.70e-01. acc. prob=0.92]\n"
     ]
    },
    {
     "name": "stdout",
     "output_type": "stream",
     "text": [
      "Generating instance 37...\n"
     ]
    },
    {
     "name": "stderr",
     "output_type": "stream",
     "text": [
      "sample: 100%|██████████| 12500/12500 [00:04<00:00, 2644.92it/s, 7 steps of size 3.26e-01. acc. prob=0.94] \n",
      "sample: 100%|██████████| 12500/12500 [00:02<00:00, 4442.65it/s, 7 steps of size 3.39e-01. acc. prob=0.94]\n",
      "sample: 100%|██████████| 12500/12500 [00:02<00:00, 4708.36it/s, 7 steps of size 4.37e-01. acc. prob=0.90] \n"
     ]
    },
    {
     "name": "stdout",
     "output_type": "stream",
     "text": [
      "Generating instance 38...\n"
     ]
    },
    {
     "name": "stderr",
     "output_type": "stream",
     "text": [
      "sample: 100%|██████████| 12500/12500 [00:04<00:00, 2712.91it/s, 3 steps of size 5.52e-01. acc. prob=0.92]\n",
      "sample: 100%|██████████| 12500/12500 [00:02<00:00, 4719.08it/s, 7 steps of size 5.69e-01. acc. prob=0.91]\n",
      "sample: 100%|██████████| 12500/12500 [00:02<00:00, 4625.65it/s, 7 steps of size 5.60e-01. acc. prob=0.92]\n"
     ]
    },
    {
     "name": "stdout",
     "output_type": "stream",
     "text": [
      "Generating instance 39...\n"
     ]
    },
    {
     "name": "stderr",
     "output_type": "stream",
     "text": [
      "sample: 100%|██████████| 12500/12500 [00:04<00:00, 2703.33it/s, 7 steps of size 4.89e-01. acc. prob=0.90]\n",
      "sample: 100%|██████████| 12500/12500 [00:02<00:00, 4668.06it/s, 7 steps of size 4.48e-01. acc. prob=0.92] \n",
      "sample: 100%|██████████| 12500/12500 [00:02<00:00, 4852.61it/s, 3 steps of size 5.31e-01. acc. prob=0.88]\n"
     ]
    },
    {
     "name": "stdout",
     "output_type": "stream",
     "text": [
      "Generating instance 40...\n"
     ]
    },
    {
     "name": "stderr",
     "output_type": "stream",
     "text": [
      "sample: 100%|██████████| 12500/12500 [00:04<00:00, 2571.63it/s, 15 steps of size 1.91e-01. acc. prob=0.92]\n",
      "sample: 100%|██████████| 12500/12500 [00:03<00:00, 3948.10it/s, 15 steps of size 1.77e-01. acc. prob=0.94]\n",
      "sample: 100%|██████████| 12500/12500 [00:03<00:00, 4000.12it/s, 3 steps of size 1.88e-01. acc. prob=0.93] \n"
     ]
    },
    {
     "name": "stdout",
     "output_type": "stream",
     "text": [
      "Generating instance 41...\n"
     ]
    },
    {
     "name": "stderr",
     "output_type": "stream",
     "text": [
      "sample: 100%|██████████| 12500/12500 [00:06<00:00, 2076.44it/s, 31 steps of size 8.03e-02. acc. prob=0.94]\n",
      "sample: 100%|██████████| 12500/12500 [00:04<00:00, 2873.33it/s, 31 steps of size 8.05e-02. acc. prob=0.93]\n",
      "sample: 100%|██████████| 12500/12500 [00:04<00:00, 2888.12it/s, 47 steps of size 8.35e-02. acc. prob=0.94]\n"
     ]
    },
    {
     "name": "stdout",
     "output_type": "stream",
     "text": [
      "Generating instance 42...\n"
     ]
    },
    {
     "name": "stderr",
     "output_type": "stream",
     "text": [
      "sample: 100%|██████████| 12500/12500 [00:06<00:00, 1934.76it/s, 43 steps of size 6.81e-02. acc. prob=0.94]\n",
      "sample: 100%|██████████| 12500/12500 [00:04<00:00, 2741.21it/s, 63 steps of size 6.54e-02. acc. prob=0.93]\n",
      "sample: 100%|██████████| 12500/12500 [00:04<00:00, 2656.24it/s, 31 steps of size 6.60e-02. acc. prob=0.94]\n"
     ]
    },
    {
     "name": "stdout",
     "output_type": "stream",
     "text": [
      "Generating instance 43...\n"
     ]
    },
    {
     "name": "stderr",
     "output_type": "stream",
     "text": [
      "sample: 100%|██████████| 12500/12500 [00:06<00:00, 1977.58it/s, 31 steps of size 7.70e-02. acc. prob=0.94]\n",
      "sample: 100%|██████████| 12500/12500 [00:04<00:00, 2876.50it/s, 31 steps of size 7.76e-02. acc. prob=0.93]\n",
      "sample: 100%|██████████| 12500/12500 [00:04<00:00, 2662.72it/s, 63 steps of size 7.56e-02. acc. prob=0.94]\n"
     ]
    },
    {
     "name": "stdout",
     "output_type": "stream",
     "text": [
      "Generating instance 44...\n"
     ]
    },
    {
     "name": "stderr",
     "output_type": "stream",
     "text": [
      "sample: 100%|██████████| 12500/12500 [00:06<00:00, 2045.83it/s, 63 steps of size 7.07e-02. acc. prob=0.95]\n",
      "sample: 100%|██████████| 12500/12500 [00:04<00:00, 2858.58it/s, 63 steps of size 6.97e-02. acc. prob=0.95]\n",
      "sample: 100%|██████████| 12500/12500 [00:04<00:00, 2798.67it/s, 31 steps of size 7.60e-02. acc. prob=0.94]\n"
     ]
    },
    {
     "name": "stdout",
     "output_type": "stream",
     "text": [
      "Generating instance 45...\n"
     ]
    },
    {
     "name": "stderr",
     "output_type": "stream",
     "text": [
      "sample: 100%|██████████| 12500/12500 [00:06<00:00, 1947.15it/s, 63 steps of size 6.91e-02. acc. prob=0.94]\n",
      "sample: 100%|██████████| 12500/12500 [00:04<00:00, 3101.90it/s, 31 steps of size 9.25e-02. acc. prob=0.89]\n",
      "sample: 100%|██████████| 12500/12500 [00:04<00:00, 2881.26it/s, 39 steps of size 7.44e-02. acc. prob=0.94]\n"
     ]
    },
    {
     "name": "stdout",
     "output_type": "stream",
     "text": [
      "Generating instance 46...\n"
     ]
    },
    {
     "name": "stderr",
     "output_type": "stream",
     "text": [
      "sample: 100%|██████████| 12500/12500 [00:05<00:00, 2447.14it/s, 15 steps of size 1.41e-01. acc. prob=0.92]\n",
      "sample: 100%|██████████| 12500/12500 [00:03<00:00, 3753.12it/s, 15 steps of size 1.42e-01. acc. prob=0.92]\n",
      "sample: 100%|██████████| 12500/12500 [00:03<00:00, 3636.62it/s, 15 steps of size 1.44e-01. acc. prob=0.93]\n"
     ]
    },
    {
     "name": "stdout",
     "output_type": "stream",
     "text": [
      "Generating instance 47...\n"
     ]
    },
    {
     "name": "stderr",
     "output_type": "stream",
     "text": [
      "sample: 100%|██████████| 12500/12500 [00:04<00:00, 2582.24it/s, 7 steps of size 3.29e-01. acc. prob=0.93] \n",
      "sample: 100%|██████████| 12500/12500 [00:02<00:00, 4198.77it/s, 15 steps of size 2.96e-01. acc. prob=0.94]\n",
      "sample: 100%|██████████| 12500/12500 [00:02<00:00, 4454.27it/s, 15 steps of size 3.28e-01. acc. prob=0.93]\n"
     ]
    },
    {
     "name": "stdout",
     "output_type": "stream",
     "text": [
      "Generating instance 48...\n"
     ]
    },
    {
     "name": "stderr",
     "output_type": "stream",
     "text": [
      "sample: 100%|██████████| 12500/12500 [00:04<00:00, 2914.94it/s, 5 steps of size 6.16e-01. acc. prob=0.89]\n",
      "sample: 100%|██████████| 12500/12500 [00:02<00:00, 4875.05it/s, 7 steps of size 6.02e-01. acc. prob=0.89]\n",
      "sample: 100%|██████████| 12500/12500 [00:02<00:00, 5004.71it/s, 7 steps of size 5.45e-01. acc. prob=0.92]\n"
     ]
    },
    {
     "name": "stdout",
     "output_type": "stream",
     "text": [
      "Generating instance 49...\n"
     ]
    },
    {
     "name": "stderr",
     "output_type": "stream",
     "text": [
      "sample: 100%|██████████| 12500/12500 [00:04<00:00, 2785.50it/s, 7 steps of size 5.62e-01. acc. prob=0.91]\n",
      "sample: 100%|██████████| 12500/12500 [00:02<00:00, 4778.42it/s, 7 steps of size 5.81e-01. acc. prob=0.91]\n",
      "sample: 100%|██████████| 12500/12500 [00:02<00:00, 4732.45it/s, 7 steps of size 5.46e-01. acc. prob=0.91] \n"
     ]
    },
    {
     "name": "stdout",
     "output_type": "stream",
     "text": [
      "Generating instance 50...\n"
     ]
    },
    {
     "name": "stderr",
     "output_type": "stream",
     "text": [
      "sample: 100%|██████████| 12500/12500 [00:04<00:00, 2771.45it/s, 3 steps of size 5.62e-01. acc. prob=0.93]\n",
      "sample: 100%|██████████| 12500/12500 [00:02<00:00, 4920.79it/s, 7 steps of size 6.18e-01. acc. prob=0.91] \n",
      "sample: 100%|██████████| 12500/12500 [00:02<00:00, 5003.00it/s, 3 steps of size 6.54e-01. acc. prob=0.90]\n"
     ]
    },
    {
     "name": "stdout",
     "output_type": "stream",
     "text": [
      "Generating instance 51...\n"
     ]
    },
    {
     "name": "stderr",
     "output_type": "stream",
     "text": [
      "sample: 100%|██████████| 12500/12500 [00:06<00:00, 2024.60it/s, 63 steps of size 6.64e-02. acc. prob=0.95]\n",
      "sample: 100%|██████████| 12500/12500 [00:04<00:00, 2993.45it/s, 31 steps of size 8.33e-02. acc. prob=0.91]\n",
      "sample: 100%|██████████| 12500/12500 [00:04<00:00, 2906.83it/s, 47 steps of size 7.17e-02. acc. prob=0.94]\n"
     ]
    },
    {
     "name": "stdout",
     "output_type": "stream",
     "text": [
      "Generating instance 52...\n"
     ]
    },
    {
     "name": "stderr",
     "output_type": "stream",
     "text": [
      "sample: 100%|██████████| 12500/12500 [00:06<00:00, 1957.06it/s, 63 steps of size 6.58e-02. acc. prob=0.95]\n",
      "sample: 100%|██████████| 12500/12500 [00:04<00:00, 2960.62it/s, 31 steps of size 8.02e-02. acc. prob=0.91]\n",
      "sample: 100%|██████████| 12500/12500 [00:04<00:00, 2961.66it/s, 31 steps of size 7.88e-02. acc. prob=0.92]\n"
     ]
    },
    {
     "name": "stdout",
     "output_type": "stream",
     "text": [
      "Generating instance 53...\n"
     ]
    },
    {
     "name": "stderr",
     "output_type": "stream",
     "text": [
      "sample: 100%|██████████| 12500/12500 [00:06<00:00, 2053.41it/s, 31 steps of size 8.07e-02. acc. prob=0.92]\n",
      "sample: 100%|██████████| 12500/12500 [00:04<00:00, 2941.80it/s, 63 steps of size 7.67e-02. acc. prob=0.92]\n",
      "sample: 100%|██████████| 12500/12500 [00:04<00:00, 3075.29it/s, 15 steps of size 8.82e-02. acc. prob=0.90]\n"
     ]
    },
    {
     "name": "stdout",
     "output_type": "stream",
     "text": [
      "Generating instance 54...\n"
     ]
    },
    {
     "name": "stderr",
     "output_type": "stream",
     "text": [
      "sample: 100%|██████████| 12500/12500 [00:06<00:00, 2047.77it/s, 63 steps of size 7.23e-02. acc. prob=0.94]\n",
      "sample: 100%|██████████| 12500/12500 [00:04<00:00, 3001.31it/s, 31 steps of size 7.51e-02. acc. prob=0.93]\n",
      "sample: 100%|██████████| 12500/12500 [00:04<00:00, 2899.75it/s, 43 steps of size 6.78e-02. acc. prob=0.94]\n"
     ]
    },
    {
     "name": "stdout",
     "output_type": "stream",
     "text": [
      "Generating instance 55...\n"
     ]
    },
    {
     "name": "stderr",
     "output_type": "stream",
     "text": [
      "sample: 100%|██████████| 12500/12500 [00:06<00:00, 2020.48it/s, 31 steps of size 7.61e-02. acc. prob=0.94]\n",
      "sample: 100%|██████████| 12500/12500 [00:04<00:00, 2953.20it/s, 63 steps of size 7.46e-02. acc. prob=0.93]\n",
      "sample: 100%|██████████| 12500/12500 [00:04<00:00, 2808.10it/s, 31 steps of size 7.72e-02. acc. prob=0.93]\n"
     ]
    },
    {
     "name": "stdout",
     "output_type": "stream",
     "text": [
      "Generating instance 56...\n"
     ]
    },
    {
     "name": "stderr",
     "output_type": "stream",
     "text": [
      "sample: 100%|██████████| 12500/12500 [00:06<00:00, 2050.36it/s, 63 steps of size 7.28e-02. acc. prob=0.94]\n",
      "sample: 100%|██████████| 12500/12500 [00:04<00:00, 2949.51it/s, 31 steps of size 7.92e-02. acc. prob=0.91]\n",
      "sample: 100%|██████████| 12500/12500 [00:04<00:00, 2919.65it/s, 31 steps of size 7.70e-02. acc. prob=0.93]\n"
     ]
    },
    {
     "name": "stdout",
     "output_type": "stream",
     "text": [
      "Generating instance 57...\n"
     ]
    },
    {
     "name": "stderr",
     "output_type": "stream",
     "text": [
      "sample: 100%|██████████| 12500/12500 [00:05<00:00, 2326.24it/s, 31 steps of size 1.12e-01. acc. prob=0.91]\n",
      "sample: 100%|██████████| 12500/12500 [00:03<00:00, 3226.37it/s, 63 steps of size 9.38e-02. acc. prob=0.94]\n",
      "sample: 100%|██████████| 12500/12500 [00:03<00:00, 3275.35it/s, 31 steps of size 9.87e-02. acc. prob=0.94]\n"
     ]
    },
    {
     "name": "stdout",
     "output_type": "stream",
     "text": [
      "Generating instance 58...\n"
     ]
    },
    {
     "name": "stderr",
     "output_type": "stream",
     "text": [
      "sample: 100%|██████████| 12500/12500 [00:04<00:00, 2559.53it/s, 31 steps of size 2.08e-01. acc. prob=0.93]\n",
      "sample: 100%|██████████| 12500/12500 [00:03<00:00, 3905.18it/s, 15 steps of size 1.79e-01. acc. prob=0.94]\n",
      "sample: 100%|██████████| 12500/12500 [00:02<00:00, 4239.40it/s, 15 steps of size 2.46e-01. acc. prob=0.88]\n"
     ]
    },
    {
     "name": "stdout",
     "output_type": "stream",
     "text": [
      "Generating instance 59...\n"
     ]
    },
    {
     "name": "stderr",
     "output_type": "stream",
     "text": [
      "sample: 100%|██████████| 12500/12500 [00:04<00:00, 2774.27it/s, 7 steps of size 4.48e-01. acc. prob=0.93]\n",
      "sample: 100%|██████████| 12500/12500 [00:02<00:00, 4776.47it/s, 3 steps of size 4.91e-01. acc. prob=0.90] \n",
      "sample: 100%|██████████| 12500/12500 [00:02<00:00, 4605.43it/s, 15 steps of size 4.19e-01. acc. prob=0.93]\n"
     ]
    },
    {
     "name": "stdout",
     "output_type": "stream",
     "text": [
      "Generating instance 60...\n"
     ]
    },
    {
     "name": "stderr",
     "output_type": "stream",
     "text": [
      "sample: 100%|██████████| 12500/12500 [00:04<00:00, 2974.82it/s, 7 steps of size 6.37e-01. acc. prob=0.91]\n",
      "sample: 100%|██████████| 12500/12500 [00:02<00:00, 5016.17it/s, 7 steps of size 6.41e-01. acc. prob=0.91]\n",
      "sample: 100%|██████████| 12500/12500 [00:02<00:00, 4955.13it/s, 7 steps of size 6.58e-01. acc. prob=0.91]\n"
     ]
    },
    {
     "name": "stdout",
     "output_type": "stream",
     "text": [
      "Generating instance 61...\n"
     ]
    },
    {
     "name": "stderr",
     "output_type": "stream",
     "text": [
      "sample: 100%|██████████| 12500/12500 [00:06<00:00, 2065.56it/s, 31 steps of size 8.05e-02. acc. prob=0.92]\n",
      "sample: 100%|██████████| 12500/12500 [00:04<00:00, 2947.16it/s, 31 steps of size 7.99e-02. acc. prob=0.92]\n",
      "sample: 100%|██████████| 12500/12500 [00:04<00:00, 2927.39it/s, 127 steps of size 7.53e-02. acc. prob=0.94]\n"
     ]
    },
    {
     "name": "stdout",
     "output_type": "stream",
     "text": [
      "Generating instance 62...\n"
     ]
    },
    {
     "name": "stderr",
     "output_type": "stream",
     "text": [
      "sample: 100%|██████████| 12500/12500 [00:06<00:00, 2001.71it/s, 63 steps of size 7.75e-02. acc. prob=0.91] \n",
      "sample: 100%|██████████| 12500/12500 [00:04<00:00, 2800.43it/s, 63 steps of size 6.90e-02. acc. prob=0.93]\n",
      "sample: 100%|██████████| 12500/12500 [00:04<00:00, 2713.49it/s, 11 steps of size 6.71e-02. acc. prob=0.94]\n"
     ]
    },
    {
     "name": "stdout",
     "output_type": "stream",
     "text": [
      "Generating instance 63...\n"
     ]
    },
    {
     "name": "stderr",
     "output_type": "stream",
     "text": [
      "sample: 100%|██████████| 12500/12500 [00:06<00:00, 2055.51it/s, 31 steps of size 7.71e-02. acc. prob=0.94]\n",
      "sample: 100%|██████████| 12500/12500 [00:04<00:00, 2980.78it/s, 31 steps of size 8.29e-02. acc. prob=0.92]\n",
      "sample: 100%|██████████| 12500/12500 [00:04<00:00, 3041.94it/s, 31 steps of size 8.84e-02. acc. prob=0.92]\n"
     ]
    },
    {
     "name": "stdout",
     "output_type": "stream",
     "text": [
      "Generating instance 64...\n"
     ]
    },
    {
     "name": "stderr",
     "output_type": "stream",
     "text": [
      "sample: 100%|██████████| 12500/12500 [00:06<00:00, 2034.15it/s, 63 steps of size 7.10e-02. acc. prob=0.93]\n",
      "sample: 100%|██████████| 12500/12500 [00:04<00:00, 2825.29it/s, 63 steps of size 7.50e-02. acc. prob=0.90]\n",
      "sample: 100%|██████████| 12500/12500 [00:04<00:00, 2816.95it/s, 47 steps of size 6.75e-02. acc. prob=0.94]\n"
     ]
    },
    {
     "name": "stdout",
     "output_type": "stream",
     "text": [
      "Generating instance 65...\n"
     ]
    },
    {
     "name": "stderr",
     "output_type": "stream",
     "text": [
      "sample: 100%|██████████| 12500/12500 [00:06<00:00, 1932.48it/s, 63 steps of size 6.94e-02. acc. prob=0.94]\n",
      "sample: 100%|██████████| 12500/12500 [00:04<00:00, 2824.80it/s, 63 steps of size 7.58e-02. acc. prob=0.93]\n",
      "sample: 100%|██████████| 12500/12500 [00:04<00:00, 2787.45it/s, 31 steps of size 7.64e-02. acc. prob=0.94]\n"
     ]
    },
    {
     "name": "stdout",
     "output_type": "stream",
     "text": [
      "Generating instance 66...\n"
     ]
    },
    {
     "name": "stderr",
     "output_type": "stream",
     "text": [
      "sample: 100%|██████████| 12500/12500 [00:06<00:00, 1901.63it/s, 31 steps of size 6.94e-02. acc. prob=0.93]\n",
      "sample: 100%|██████████| 12500/12500 [00:04<00:00, 2793.83it/s, 63 steps of size 6.85e-02. acc. prob=0.93]\n",
      "sample: 100%|██████████| 12500/12500 [00:04<00:00, 2671.93it/s, 47 steps of size 6.67e-02. acc. prob=0.94]\n"
     ]
    },
    {
     "name": "stdout",
     "output_type": "stream",
     "text": [
      "Generating instance 67...\n"
     ]
    },
    {
     "name": "stderr",
     "output_type": "stream",
     "text": [
      "sample: 100%|██████████| 12500/12500 [00:06<00:00, 2000.98it/s, 63 steps of size 6.38e-02. acc. prob=0.95]\n",
      "sample: 100%|██████████| 12500/12500 [00:04<00:00, 2926.61it/s, 63 steps of size 7.43e-02. acc. prob=0.93]\n",
      "sample: 100%|██████████| 12500/12500 [00:04<00:00, 2825.47it/s, 11 steps of size 6.65e-02. acc. prob=0.95]\n"
     ]
    },
    {
     "name": "stdout",
     "output_type": "stream",
     "text": [
      "Generating instance 68...\n"
     ]
    },
    {
     "name": "stderr",
     "output_type": "stream",
     "text": [
      "sample: 100%|██████████| 12500/12500 [00:06<00:00, 1953.97it/s, 31 steps of size 6.03e-02. acc. prob=0.94] \n",
      "sample: 100%|██████████| 12500/12500 [00:04<00:00, 2900.92it/s, 63 steps of size 6.57e-02. acc. prob=0.93]\n",
      "sample: 100%|██████████| 12500/12500 [00:04<00:00, 2923.86it/s, 39 steps of size 7.18e-02. acc. prob=0.92]\n"
     ]
    },
    {
     "name": "stdout",
     "output_type": "stream",
     "text": [
      "Generating instance 69...\n"
     ]
    },
    {
     "name": "stderr",
     "output_type": "stream",
     "text": [
      "sample: 100%|██████████| 12500/12500 [00:05<00:00, 2313.94it/s, 31 steps of size 1.06e-01. acc. prob=0.94]\n",
      "sample: 100%|██████████| 12500/12500 [00:03<00:00, 3522.83it/s, 31 steps of size 1.19e-01. acc. prob=0.92]\n",
      "sample: 100%|██████████| 12500/12500 [00:03<00:00, 3473.58it/s, 27 steps of size 1.17e-01. acc. prob=0.93]\n"
     ]
    },
    {
     "name": "stdout",
     "output_type": "stream",
     "text": [
      "Generating instance 70...\n"
     ]
    },
    {
     "name": "stderr",
     "output_type": "stream",
     "text": [
      "sample: 100%|██████████| 12500/12500 [00:04<00:00, 2613.01it/s, 15 steps of size 2.25e-01. acc. prob=0.92]\n",
      "sample: 100%|██████████| 12500/12500 [00:02<00:00, 4208.83it/s, 15 steps of size 2.20e-01. acc. prob=0.92]\n",
      "sample: 100%|██████████| 12500/12500 [00:03<00:00, 4041.25it/s, 11 steps of size 2.01e-01. acc. prob=0.94]\n"
     ]
    },
    {
     "name": "stdout",
     "output_type": "stream",
     "text": [
      "Generating instance 71...\n"
     ]
    },
    {
     "name": "stderr",
     "output_type": "stream",
     "text": [
      "sample: 100%|██████████| 12500/12500 [00:06<00:00, 2006.65it/s, 63 steps of size 7.69e-02. acc. prob=0.93]\n",
      "sample: 100%|██████████| 12500/12500 [00:04<00:00, 2895.45it/s, 31 steps of size 8.30e-02. acc. prob=0.90]\n",
      "sample: 100%|██████████| 12500/12500 [00:04<00:00, 2817.85it/s, 39 steps of size 7.48e-02. acc. prob=0.93]\n"
     ]
    },
    {
     "name": "stdout",
     "output_type": "stream",
     "text": [
      "Generating instance 72...\n"
     ]
    },
    {
     "name": "stderr",
     "output_type": "stream",
     "text": [
      "sample: 100%|██████████| 12500/12500 [00:06<00:00, 1988.07it/s, 63 steps of size 6.46e-02. acc. prob=0.95]\n",
      "sample: 100%|██████████| 12500/12500 [00:04<00:00, 2779.85it/s, 63 steps of size 6.44e-02. acc. prob=0.94]\n",
      "sample: 100%|██████████| 12500/12500 [00:04<00:00, 2961.94it/s, 15 steps of size 7.89e-02. acc. prob=0.92]\n"
     ]
    },
    {
     "name": "stdout",
     "output_type": "stream",
     "text": [
      "Generating instance 73...\n"
     ]
    },
    {
     "name": "stderr",
     "output_type": "stream",
     "text": [
      "sample: 100%|██████████| 12500/12500 [00:06<00:00, 2014.57it/s, 31 steps of size 7.67e-02. acc. prob=0.94]\n",
      "sample: 100%|██████████| 12500/12500 [00:04<00:00, 2950.80it/s, 31 steps of size 8.62e-02. acc. prob=0.92]\n",
      "sample: 100%|██████████| 12500/12500 [00:04<00:00, 2924.80it/s, 31 steps of size 7.84e-02. acc. prob=0.94]\n"
     ]
    },
    {
     "name": "stdout",
     "output_type": "stream",
     "text": [
      "Generating instance 74...\n"
     ]
    },
    {
     "name": "stderr",
     "output_type": "stream",
     "text": [
      "sample: 100%|██████████| 12500/12500 [00:06<00:00, 2032.19it/s, 39 steps of size 7.00e-02. acc. prob=0.94]\n",
      "sample: 100%|██████████| 12500/12500 [00:04<00:00, 2873.41it/s, 63 steps of size 7.09e-02. acc. prob=0.93]\n",
      "sample: 100%|██████████| 12500/12500 [00:04<00:00, 2872.34it/s, 27 steps of size 6.68e-02. acc. prob=0.95]\n"
     ]
    },
    {
     "name": "stdout",
     "output_type": "stream",
     "text": [
      "Generating instance 75...\n"
     ]
    },
    {
     "name": "stderr",
     "output_type": "stream",
     "text": [
      "sample: 100%|██████████| 12500/12500 [00:05<00:00, 2131.00it/s, 31 steps of size 7.67e-02. acc. prob=0.94]\n",
      "sample: 100%|██████████| 12500/12500 [00:04<00:00, 3082.68it/s, 31 steps of size 8.48e-02. acc. prob=0.92]\n",
      "sample: 100%|██████████| 12500/12500 [00:04<00:00, 3039.43it/s, 63 steps of size 7.88e-02. acc. prob=0.94]\n"
     ]
    },
    {
     "name": "stdout",
     "output_type": "stream",
     "text": [
      "Generating instance 76...\n"
     ]
    },
    {
     "name": "stderr",
     "output_type": "stream",
     "text": [
      "sample: 100%|██████████| 12500/12500 [00:06<00:00, 1932.26it/s, 63 steps of size 6.61e-02. acc. prob=0.95]\n",
      "sample: 100%|██████████| 12500/12500 [00:04<00:00, 2923.99it/s, 63 steps of size 7.46e-02. acc. prob=0.92]\n",
      "sample: 100%|██████████| 12500/12500 [00:04<00:00, 2892.46it/s, 31 steps of size 7.40e-02. acc. prob=0.94]\n"
     ]
    },
    {
     "name": "stdout",
     "output_type": "stream",
     "text": [
      "Generating instance 77...\n"
     ]
    },
    {
     "name": "stderr",
     "output_type": "stream",
     "text": [
      "sample: 100%|██████████| 12500/12500 [00:05<00:00, 2098.67it/s, 23 steps of size 7.61e-02. acc. prob=0.93]\n",
      "sample: 100%|██████████| 12500/12500 [00:04<00:00, 3078.54it/s, 47 steps of size 8.93e-02. acc. prob=0.90]\n",
      "sample: 100%|██████████| 12500/12500 [00:04<00:00, 2836.57it/s, 63 steps of size 7.15e-02. acc. prob=0.94]\n"
     ]
    },
    {
     "name": "stdout",
     "output_type": "stream",
     "text": [
      "Generating instance 78...\n"
     ]
    },
    {
     "name": "stderr",
     "output_type": "stream",
     "text": [
      "sample: 100%|██████████| 12500/12500 [00:06<00:00, 2025.29it/s, 31 steps of size 6.44e-02. acc. prob=0.94]\n",
      "sample: 100%|██████████| 12500/12500 [00:04<00:00, 2870.85it/s, 63 steps of size 6.35e-02. acc. prob=0.94]\n",
      "sample: 100%|██████████| 12500/12500 [00:04<00:00, 2887.00it/s, 35 steps of size 7.11e-02. acc. prob=0.93]\n"
     ]
    },
    {
     "name": "stdout",
     "output_type": "stream",
     "text": [
      "Generating instance 79...\n"
     ]
    },
    {
     "name": "stderr",
     "output_type": "stream",
     "text": [
      "sample: 100%|██████████| 12500/12500 [00:06<00:00, 1948.19it/s, 19 steps of size 6.42e-02. acc. prob=0.93]\n",
      "sample: 100%|██████████| 12500/12500 [00:04<00:00, 2556.70it/s, 63 steps of size 6.04e-02. acc. prob=0.93]\n",
      "sample: 100%|██████████| 12500/12500 [00:04<00:00, 2697.44it/s, 31 steps of size 6.51e-02. acc. prob=0.92]\n"
     ]
    },
    {
     "name": "stdout",
     "output_type": "stream",
     "text": [
      "Generating instance 80...\n"
     ]
    },
    {
     "name": "stderr",
     "output_type": "stream",
     "text": [
      "sample: 100%|██████████| 12500/12500 [00:05<00:00, 2167.17it/s, 23 steps of size 8.47e-02. acc. prob=0.93]\n",
      "sample: 100%|██████████| 12500/12500 [00:03<00:00, 3132.61it/s, 31 steps of size 8.61e-02. acc. prob=0.93]\n",
      "sample: 100%|██████████| 12500/12500 [00:03<00:00, 3204.86it/s, 39 steps of size 8.62e-02. acc. prob=0.92]\n"
     ]
    },
    {
     "name": "stdout",
     "output_type": "stream",
     "text": [
      "Generating instance 81...\n"
     ]
    },
    {
     "name": "stderr",
     "output_type": "stream",
     "text": [
      "sample: 100%|██████████| 12500/12500 [00:05<00:00, 2084.17it/s, 23 steps of size 7.71e-02. acc. prob=0.94]\n",
      "sample: 100%|██████████| 12500/12500 [00:04<00:00, 3076.53it/s, 31 steps of size 8.11e-02. acc. prob=0.92]\n",
      "sample: 100%|██████████| 12500/12500 [00:04<00:00, 3060.24it/s, 11 steps of size 8.55e-02. acc. prob=0.92]\n"
     ]
    },
    {
     "name": "stdout",
     "output_type": "stream",
     "text": [
      "Generating instance 82...\n"
     ]
    },
    {
     "name": "stderr",
     "output_type": "stream",
     "text": [
      "sample: 100%|██████████| 12500/12500 [00:06<00:00, 2053.80it/s, 63 steps of size 7.02e-02. acc. prob=0.94]\n",
      "sample: 100%|██████████| 12500/12500 [00:04<00:00, 2895.96it/s, 63 steps of size 7.37e-02. acc. prob=0.93]\n",
      "sample: 100%|██████████| 12500/12500 [00:04<00:00, 2882.13it/s, 63 steps of size 7.24e-02. acc. prob=0.94]\n"
     ]
    },
    {
     "name": "stdout",
     "output_type": "stream",
     "text": [
      "Generating instance 83...\n"
     ]
    },
    {
     "name": "stderr",
     "output_type": "stream",
     "text": [
      "sample: 100%|██████████| 12500/12500 [00:06<00:00, 2039.35it/s, 63 steps of size 7.05e-02. acc. prob=0.94]\n",
      "sample: 100%|██████████| 12500/12500 [00:04<00:00, 2882.90it/s, 63 steps of size 7.53e-02. acc. prob=0.93]\n",
      "sample: 100%|██████████| 12500/12500 [00:04<00:00, 2878.92it/s, 31 steps of size 7.21e-02. acc. prob=0.94]\n"
     ]
    },
    {
     "name": "stdout",
     "output_type": "stream",
     "text": [
      "Generating instance 84...\n"
     ]
    },
    {
     "name": "stderr",
     "output_type": "stream",
     "text": [
      "sample: 100%|██████████| 12500/12500 [00:06<00:00, 2054.89it/s, 63 steps of size 6.82e-02. acc. prob=0.94]\n",
      "sample: 100%|██████████| 12500/12500 [00:04<00:00, 3096.53it/s, 47 steps of size 8.74e-02. acc. prob=0.90]\n",
      "sample: 100%|██████████| 12500/12500 [00:04<00:00, 2959.45it/s, 27 steps of size 7.76e-02. acc. prob=0.94]\n"
     ]
    },
    {
     "name": "stdout",
     "output_type": "stream",
     "text": [
      "Generating instance 85...\n"
     ]
    },
    {
     "name": "stderr",
     "output_type": "stream",
     "text": [
      "sample: 100%|██████████| 12500/12500 [00:06<00:00, 2005.74it/s, 39 steps of size 6.57e-02. acc. prob=0.94]\n",
      "sample: 100%|██████████| 12500/12500 [00:04<00:00, 2846.10it/s, 63 steps of size 6.66e-02. acc. prob=0.93]\n",
      "sample: 100%|██████████| 12500/12500 [00:04<00:00, 2861.62it/s, 31 steps of size 6.96e-02. acc. prob=0.94]\n"
     ]
    },
    {
     "name": "stdout",
     "output_type": "stream",
     "text": [
      "Generating instance 86...\n"
     ]
    },
    {
     "name": "stderr",
     "output_type": "stream",
     "text": [
      "sample: 100%|██████████| 12500/12500 [00:06<00:00, 2033.18it/s, 15 steps of size 6.92e-02. acc. prob=0.93]\n",
      "sample: 100%|██████████| 12500/12500 [00:04<00:00, 2907.11it/s, 63 steps of size 7.88e-02. acc. prob=0.90]\n",
      "sample: 100%|██████████| 12500/12500 [00:04<00:00, 2895.03it/s, 27 steps of size 7.23e-02. acc. prob=0.92]\n"
     ]
    },
    {
     "name": "stdout",
     "output_type": "stream",
     "text": [
      "Generating instance 87...\n"
     ]
    },
    {
     "name": "stderr",
     "output_type": "stream",
     "text": [
      "sample: 100%|██████████| 12500/12500 [00:09<00:00, 1352.13it/s, 39 steps of size 6.65e-02. acc. prob=0.94]\n",
      "sample: 100%|██████████| 12500/12500 [00:04<00:00, 2913.25it/s, 63 steps of size 7.76e-02. acc. prob=0.90]\n",
      "sample: 100%|██████████| 12500/12500 [00:04<00:00, 2852.15it/s, 15 steps of size 6.84e-02. acc. prob=0.93]\n"
     ]
    },
    {
     "name": "stdout",
     "output_type": "stream",
     "text": [
      "Generating instance 88...\n"
     ]
    },
    {
     "name": "stderr",
     "output_type": "stream",
     "text": [
      "sample: 100%|██████████| 12500/12500 [00:06<00:00, 1989.18it/s, 43 steps of size 6.26e-02. acc. prob=0.92]\n",
      "sample: 100%|██████████| 12500/12500 [00:04<00:00, 2532.58it/s, 63 steps of size 5.51e-02. acc. prob=0.95]\n",
      "sample: 100%|██████████| 12500/12500 [00:04<00:00, 2527.16it/s, 63 steps of size 5.21e-02. acc. prob=0.95] \n"
     ]
    },
    {
     "name": "stdout",
     "output_type": "stream",
     "text": [
      "Generating instance 89...\n"
     ]
    },
    {
     "name": "stderr",
     "output_type": "stream",
     "text": [
      "sample: 100%|██████████| 12500/12500 [00:06<00:00, 2020.23it/s, 11 steps of size 6.50e-02. acc. prob=0.93]\n",
      "sample: 100%|██████████| 12500/12500 [00:04<00:00, 2852.05it/s, 63 steps of size 7.40e-02. acc. prob=0.90]\n",
      "sample: 100%|██████████| 12500/12500 [00:04<00:00, 2896.38it/s, 35 steps of size 6.92e-02. acc. prob=0.92]\n"
     ]
    },
    {
     "name": "stdout",
     "output_type": "stream",
     "text": [
      "Generating instance 90...\n"
     ]
    },
    {
     "name": "stderr",
     "output_type": "stream",
     "text": [
      "sample: 100%|██████████| 12500/12500 [00:06<00:00, 2008.22it/s, 27 steps of size 6.62e-02. acc. prob=0.93]\n",
      "sample: 100%|██████████| 12500/12500 [00:04<00:00, 2966.86it/s, 63 steps of size 6.87e-02. acc. prob=0.91]\n",
      "sample: 100%|██████████| 12500/12500 [00:04<00:00, 2886.71it/s, 19 steps of size 5.83e-02. acc. prob=0.94] \n"
     ]
    },
    {
     "name": "stdout",
     "output_type": "stream",
     "text": [
      "Generating instance 91...\n"
     ]
    },
    {
     "name": "stderr",
     "output_type": "stream",
     "text": [
      "sample: 100%|██████████| 12500/12500 [00:06<00:00, 1998.21it/s, 63 steps of size 6.50e-02. acc. prob=0.94]\n",
      "sample: 100%|██████████| 12500/12500 [00:04<00:00, 2821.14it/s, 63 steps of size 6.78e-02. acc. prob=0.94]\n",
      "sample: 100%|██████████| 12500/12500 [00:04<00:00, 2801.48it/s, 27 steps of size 6.85e-02. acc. prob=0.93]\n"
     ]
    },
    {
     "name": "stdout",
     "output_type": "stream",
     "text": [
      "Generating instance 92...\n"
     ]
    },
    {
     "name": "stderr",
     "output_type": "stream",
     "text": [
      "sample: 100%|██████████| 12500/12500 [00:06<00:00, 2064.61it/s, 63 steps of size 6.82e-02. acc. prob=0.94]\n",
      "sample: 100%|██████████| 12500/12500 [00:04<00:00, 2942.29it/s, 63 steps of size 7.43e-02. acc. prob=0.92]\n",
      "sample: 100%|██████████| 12500/12500 [00:04<00:00, 2897.54it/s, 47 steps of size 7.03e-02. acc. prob=0.94]\n"
     ]
    },
    {
     "name": "stdout",
     "output_type": "stream",
     "text": [
      "Generating instance 93...\n"
     ]
    },
    {
     "name": "stderr",
     "output_type": "stream",
     "text": [
      "sample: 100%|██████████| 12500/12500 [00:06<00:00, 2082.95it/s, 23 steps of size 7.27e-02. acc. prob=0.94]\n",
      "sample: 100%|██████████| 12500/12500 [00:04<00:00, 3049.14it/s, 31 steps of size 8.40e-02. acc. prob=0.90]\n",
      "sample: 100%|██████████| 12500/12500 [00:04<00:00, 2908.79it/s, 31 steps of size 7.22e-02. acc. prob=0.94]\n"
     ]
    },
    {
     "name": "stdout",
     "output_type": "stream",
     "text": [
      "Generating instance 94...\n"
     ]
    },
    {
     "name": "stderr",
     "output_type": "stream",
     "text": [
      "sample: 100%|██████████| 12500/12500 [00:06<00:00, 2051.16it/s, 19 steps of size 7.13e-02. acc. prob=0.94]\n",
      "sample: 100%|██████████| 12500/12500 [00:04<00:00, 3080.74it/s, 63 steps of size 9.11e-02. acc. prob=0.89]\n",
      "sample: 100%|██████████| 12500/12500 [00:04<00:00, 2877.89it/s, 31 steps of size 7.21e-02. acc. prob=0.94]\n"
     ]
    },
    {
     "name": "stdout",
     "output_type": "stream",
     "text": [
      "Generating instance 95...\n"
     ]
    },
    {
     "name": "stderr",
     "output_type": "stream",
     "text": [
      "sample: 100%|██████████| 12500/12500 [00:06<00:00, 2031.45it/s, 63 steps of size 6.87e-02. acc. prob=0.94]\n",
      "sample: 100%|██████████| 12500/12500 [00:04<00:00, 2839.06it/s, 63 steps of size 6.95e-02. acc. prob=0.94]\n",
      "sample: 100%|██████████| 12500/12500 [00:04<00:00, 2831.20it/s, 19 steps of size 6.72e-02. acc. prob=0.95]\n"
     ]
    },
    {
     "name": "stdout",
     "output_type": "stream",
     "text": [
      "Generating instance 96...\n"
     ]
    },
    {
     "name": "stderr",
     "output_type": "stream",
     "text": [
      "sample: 100%|██████████| 12500/12500 [00:06<00:00, 2070.48it/s, 31 steps of size 7.84e-02. acc. prob=0.93]\n",
      "sample: 100%|██████████| 12500/12500 [00:04<00:00, 2920.86it/s, 31 steps of size 8.55e-02. acc. prob=0.92]\n",
      "sample: 100%|██████████| 12500/12500 [00:04<00:00, 2954.10it/s, 47 steps of size 8.04e-02. acc. prob=0.94]\n"
     ]
    },
    {
     "name": "stdout",
     "output_type": "stream",
     "text": [
      "Generating instance 97...\n"
     ]
    },
    {
     "name": "stderr",
     "output_type": "stream",
     "text": [
      "sample: 100%|██████████| 12500/12500 [00:06<00:00, 2036.23it/s, 31 steps of size 7.94e-02. acc. prob=0.92]\n",
      "sample: 100%|██████████| 12500/12500 [00:04<00:00, 2979.19it/s, 31 steps of size 8.28e-02. acc. prob=0.91]\n",
      "sample: 100%|██████████| 12500/12500 [00:04<00:00, 2932.31it/s, 15 steps of size 7.95e-02. acc. prob=0.93]\n"
     ]
    },
    {
     "name": "stdout",
     "output_type": "stream",
     "text": [
      "Generating instance 98...\n"
     ]
    },
    {
     "name": "stderr",
     "output_type": "stream",
     "text": [
      "sample: 100%|██████████| 12500/12500 [00:06<00:00, 2026.18it/s, 63 steps of size 6.84e-02. acc. prob=0.94]\n",
      "sample: 100%|██████████| 12500/12500 [00:04<00:00, 3025.58it/s, 63 steps of size 8.17e-02. acc. prob=0.90]\n",
      "sample: 100%|██████████| 12500/12500 [00:04<00:00, 2775.18it/s, 19 steps of size 6.75e-02. acc. prob=0.95]\n"
     ]
    },
    {
     "name": "stdout",
     "output_type": "stream",
     "text": [
      "Generating instance 99...\n"
     ]
    },
    {
     "name": "stderr",
     "output_type": "stream",
     "text": [
      "sample: 100%|██████████| 12500/12500 [00:06<00:00, 2037.83it/s, 63 steps of size 6.76e-02. acc. prob=0.95]\n",
      "sample: 100%|██████████| 12500/12500 [00:04<00:00, 2970.49it/s, 31 steps of size 7.67e-02. acc. prob=0.93]\n",
      "sample: 100%|██████████| 12500/12500 [00:04<00:00, 3008.00it/s, 11 steps of size 7.85e-02. acc. prob=0.93]\n"
     ]
    },
    {
     "name": "stdout",
     "output_type": "stream",
     "text": [
      "Generating instance 100...\n"
     ]
    },
    {
     "name": "stderr",
     "output_type": "stream",
     "text": [
      "sample: 100%|██████████| 12500/12500 [00:06<00:00, 2011.94it/s, 63 steps of size 6.38e-02. acc. prob=0.94]\n",
      "sample: 100%|██████████| 12500/12500 [00:04<00:00, 2863.29it/s, 63 steps of size 6.67e-02. acc. prob=0.93]\n",
      "sample: 100%|██████████| 12500/12500 [00:04<00:00, 2752.42it/s, 31 steps of size 6.01e-02. acc. prob=0.95]\n"
     ]
    },
    {
     "name": "stdout",
     "output_type": "stream",
     "text": [
      "Working on varying Q_mu...\n",
      "Generating instance 1...\n"
     ]
    },
    {
     "name": "stderr",
     "output_type": "stream",
     "text": [
      "sample: 100%|██████████| 12500/12500 [00:04<00:00, 2867.46it/s, 7 steps of size 6.46e-01. acc. prob=0.93]\n",
      "sample: 100%|██████████| 12500/12500 [00:02<00:00, 4888.21it/s, 3 steps of size 7.45e-01. acc. prob=0.91]\n",
      "sample: 100%|██████████| 12500/12500 [00:02<00:00, 5028.19it/s, 7 steps of size 8.32e-01. acc. prob=0.88]\n"
     ]
    },
    {
     "name": "stdout",
     "output_type": "stream",
     "text": [
      "Generating instance 2...\n"
     ]
    },
    {
     "name": "stderr",
     "output_type": "stream",
     "text": [
      "sample: 100%|██████████| 12500/12500 [00:04<00:00, 2845.81it/s, 3 steps of size 5.11e-01. acc. prob=0.91]\n",
      "sample: 100%|██████████| 12500/12500 [00:02<00:00, 4632.50it/s, 7 steps of size 4.89e-01. acc. prob=0.92]\n",
      "sample: 100%|██████████| 12500/12500 [00:02<00:00, 4721.79it/s, 7 steps of size 4.68e-01. acc. prob=0.93]\n"
     ]
    },
    {
     "name": "stdout",
     "output_type": "stream",
     "text": [
      "Generating instance 3...\n"
     ]
    },
    {
     "name": "stderr",
     "output_type": "stream",
     "text": [
      "sample: 100%|██████████| 12500/12500 [00:05<00:00, 2373.36it/s, 15 steps of size 1.61e-01. acc. prob=0.95]\n",
      "sample: 100%|██████████| 12500/12500 [00:03<00:00, 3535.18it/s, 15 steps of size 1.51e-01. acc. prob=0.96]\n",
      "sample: 100%|██████████| 12500/12500 [00:03<00:00, 3630.74it/s, 31 steps of size 1.69e-01. acc. prob=0.94]\n"
     ]
    },
    {
     "name": "stdout",
     "output_type": "stream",
     "text": [
      "Generating instance 4...\n"
     ]
    },
    {
     "name": "stderr",
     "output_type": "stream",
     "text": [
      "sample: 100%|██████████| 12500/12500 [00:07<00:00, 1741.71it/s, 63 steps of size 5.31e-02. acc. prob=0.95]\n",
      "sample: 100%|██████████| 12500/12500 [00:05<00:00, 2246.24it/s, 63 steps of size 5.01e-02. acc. prob=0.95]\n",
      "sample: 100%|██████████| 12500/12500 [00:05<00:00, 2226.11it/s, 43 steps of size 5.54e-02. acc. prob=0.94]\n"
     ]
    },
    {
     "name": "stdout",
     "output_type": "stream",
     "text": [
      "Generating instance 5...\n"
     ]
    },
    {
     "name": "stderr",
     "output_type": "stream",
     "text": [
      "sample: 100%|██████████| 12500/12500 [00:11<00:00, 1055.91it/s, 255 steps of size 1.77e-02. acc. prob=0.93]\n",
      "sample: 100%|██████████| 12500/12500 [00:10<00:00, 1149.97it/s, 127 steps of size 1.57e-02. acc. prob=0.95]\n",
      "sample: 100%|██████████| 12500/12500 [00:10<00:00, 1214.74it/s, 255 steps of size 1.66e-02. acc. prob=0.94]\n"
     ]
    },
    {
     "name": "stdout",
     "output_type": "stream",
     "text": [
      "Generating instance 6...\n"
     ]
    },
    {
     "name": "stderr",
     "output_type": "stream",
     "text": [
      "sample: 100%|██████████| 12500/12500 [00:58<00:00, 212.96it/s, 1023 steps of size 2.17e-05. acc. prob=0.81]\n",
      "sample: 100%|██████████| 12500/12500 [00:56<00:00, 220.66it/s, 1023 steps of size 5.07e-06. acc. prob=0.77]\n",
      "sample: 100%|██████████| 12500/12500 [00:56<00:00, 221.21it/s, 1023 steps of size 5.21e-06. acc. prob=0.81]\n"
     ]
    },
    {
     "name": "stdout",
     "output_type": "stream",
     "text": [
      "Generating instance 7...\n"
     ]
    },
    {
     "name": "stderr",
     "output_type": "stream",
     "text": [
      "sample: 100%|██████████| 12500/12500 [00:59<00:00, 211.69it/s, 1023 steps of size 9.25e-09. acc. prob=0.81]\n",
      "sample: 100%|██████████| 12500/12500 [00:56<00:00, 220.48it/s, 1023 steps of size 7.25e-08. acc. prob=0.77]\n",
      "sample: 100%|██████████| 12500/12500 [00:56<00:00, 221.61it/s, 1023 steps of size 1.88e-08. acc. prob=0.81]\n"
     ]
    },
    {
     "name": "stdout",
     "output_type": "stream",
     "text": [
      "Generating instance 8...\n"
     ]
    },
    {
     "name": "stderr",
     "output_type": "stream",
     "text": [
      "sample: 100%|██████████| 12500/12500 [00:58<00:00, 212.66it/s, 1023 steps of size 2.04e-07. acc. prob=0.81]\n",
      "sample: 100%|██████████| 12500/12500 [00:55<00:00, 225.41it/s, 1023 steps of size 2.60e-09. acc. prob=0.84]\n",
      "sample: 100%|██████████| 12500/12500 [00:56<00:00, 221.54it/s, 1023 steps of size 4.24e-08. acc. prob=0.81]\n"
     ]
    },
    {
     "name": "stdout",
     "output_type": "stream",
     "text": [
      "Generating instance 9...\n"
     ]
    },
    {
     "name": "stderr",
     "output_type": "stream",
     "text": [
      "sample: 100%|██████████| 12500/12500 [00:57<00:00, 215.82it/s, 1023 steps of size 1.27e-09. acc. prob=0.81]\n",
      "sample: 100%|██████████| 12500/12500 [00:56<00:00, 221.83it/s, 1023 steps of size 7.86e-11. acc. prob=0.78]\n",
      "sample: 100%|██████████| 12500/12500 [00:56<00:00, 219.43it/s, 1023 steps of size 5.78e-11. acc. prob=0.83]\n"
     ]
    },
    {
     "name": "stdout",
     "output_type": "stream",
     "text": [
      "Generating instance 10...\n"
     ]
    },
    {
     "name": "stderr",
     "output_type": "stream",
     "text": [
      "sample: 100%|██████████| 12500/12500 [00:57<00:00, 215.97it/s, 1023 steps of size 2.04e-09. acc. prob=0.81]\n",
      "sample: 100%|██████████| 12500/12500 [00:56<00:00, 222.16it/s, 1023 steps of size 6.34e-10. acc. prob=0.77]\n",
      "sample: 100%|██████████| 12500/12500 [00:56<00:00, 220.38it/s, 1023 steps of size 2.12e-09. acc. prob=0.81]\n"
     ]
    },
    {
     "name": "stdout",
     "output_type": "stream",
     "text": [
      "Generating instance 11...\n"
     ]
    },
    {
     "name": "stderr",
     "output_type": "stream",
     "text": [
      "sample: 100%|██████████| 12500/12500 [00:04<00:00, 2904.87it/s, 3 steps of size 6.76e-01. acc. prob=0.93]\n",
      "sample: 100%|██████████| 12500/12500 [00:02<00:00, 4986.11it/s, 3 steps of size 7.44e-01. acc. prob=0.91]\n",
      "sample: 100%|██████████| 12500/12500 [00:02<00:00, 5029.18it/s, 7 steps of size 7.64e-01. acc. prob=0.91]\n"
     ]
    },
    {
     "name": "stdout",
     "output_type": "stream",
     "text": [
      "Generating instance 12...\n"
     ]
    },
    {
     "name": "stderr",
     "output_type": "stream",
     "text": [
      "sample: 100%|██████████| 12500/12500 [00:04<00:00, 2701.98it/s, 7 steps of size 7.03e-01. acc. prob=0.92]\n",
      "sample: 100%|██████████| 12500/12500 [00:02<00:00, 5004.17it/s, 3 steps of size 7.54e-01. acc. prob=0.91]\n",
      "sample: 100%|██████████| 12500/12500 [00:02<00:00, 5061.35it/s, 7 steps of size 7.74e-01. acc. prob=0.91]\n"
     ]
    },
    {
     "name": "stdout",
     "output_type": "stream",
     "text": [
      "Generating instance 13...\n"
     ]
    },
    {
     "name": "stderr",
     "output_type": "stream",
     "text": [
      "sample: 100%|██████████| 12500/12500 [00:04<00:00, 2819.67it/s, 3 steps of size 6.74e-01. acc. prob=0.92]\n",
      "sample: 100%|██████████| 12500/12500 [00:02<00:00, 4983.33it/s, 3 steps of size 7.28e-01. acc. prob=0.91]\n",
      "sample: 100%|██████████| 12500/12500 [00:02<00:00, 5030.54it/s, 7 steps of size 7.93e-01. acc. prob=0.89]\n"
     ]
    },
    {
     "name": "stdout",
     "output_type": "stream",
     "text": [
      "Generating instance 14...\n"
     ]
    },
    {
     "name": "stderr",
     "output_type": "stream",
     "text": [
      "sample: 100%|██████████| 12500/12500 [00:04<00:00, 2802.08it/s, 3 steps of size 5.07e-01. acc. prob=0.91] \n",
      "sample: 100%|██████████| 12500/12500 [00:02<00:00, 4671.44it/s, 7 steps of size 4.76e-01. acc. prob=0.93]\n",
      "sample: 100%|██████████| 12500/12500 [00:02<00:00, 4688.28it/s, 7 steps of size 4.38e-01. acc. prob=0.94] \n"
     ]
    },
    {
     "name": "stdout",
     "output_type": "stream",
     "text": [
      "Generating instance 15...\n"
     ]
    },
    {
     "name": "stderr",
     "output_type": "stream",
     "text": [
      "sample: 100%|██████████| 12500/12500 [00:05<00:00, 2400.41it/s, 15 steps of size 1.64e-01. acc. prob=0.93]\n",
      "sample: 100%|██████████| 12500/12500 [00:03<00:00, 3755.96it/s, 31 steps of size 1.67e-01. acc. prob=0.93]\n",
      "sample: 100%|██████████| 12500/12500 [00:03<00:00, 3555.06it/s, 15 steps of size 1.53e-01. acc. prob=0.94]\n"
     ]
    },
    {
     "name": "stdout",
     "output_type": "stream",
     "text": [
      "Generating instance 16...\n"
     ]
    },
    {
     "name": "stderr",
     "output_type": "stream",
     "text": [
      "sample: 100%|██████████| 12500/12500 [00:06<00:00, 1992.60it/s, 31 steps of size 5.45e-02. acc. prob=0.92]\n",
      "sample: 100%|██████████| 12500/12500 [00:04<00:00, 2788.75it/s, 31 steps of size 5.85e-02. acc. prob=0.90]\n",
      "sample: 100%|██████████| 12500/12500 [00:04<00:00, 2688.50it/s, 15 steps of size 5.42e-02. acc. prob=0.92] \n"
     ]
    },
    {
     "name": "stdout",
     "output_type": "stream",
     "text": [
      "Generating instance 17...\n"
     ]
    },
    {
     "name": "stderr",
     "output_type": "stream",
     "text": [
      "sample: 100%|██████████| 12500/12500 [00:10<00:00, 1194.93it/s, 127 steps of size 1.83e-02. acc. prob=0.92]\n",
      "sample: 100%|██████████| 12500/12500 [00:09<00:00, 1308.13it/s, 255 steps of size 1.64e-02. acc. prob=0.93]\n",
      "sample: 100%|██████████| 12500/12500 [00:07<00:00, 1571.64it/s, 63 steps of size 1.53e-02. acc. prob=0.94] \n"
     ]
    },
    {
     "name": "stdout",
     "output_type": "stream",
     "text": [
      "Generating instance 18...\n"
     ]
    },
    {
     "name": "stderr",
     "output_type": "stream",
     "text": [
      "sample: 100%|██████████| 12500/12500 [00:58<00:00, 212.95it/s, 1023 steps of size 5.44e-06. acc. prob=0.81]\n",
      "sample: 100%|██████████| 12500/12500 [00:55<00:00, 223.88it/s, 1023 steps of size 4.88e-07. acc. prob=0.77]\n",
      "sample: 100%|██████████| 12500/12500 [00:55<00:00, 224.78it/s, 1023 steps of size 1.04e-05. acc. prob=0.81]\n"
     ]
    },
    {
     "name": "stdout",
     "output_type": "stream",
     "text": [
      "Generating instance 19...\n"
     ]
    },
    {
     "name": "stderr",
     "output_type": "stream",
     "text": [
      "sample: 100%|██████████| 12500/12500 [00:58<00:00, 214.66it/s, 1023 steps of size 8.11e-09. acc. prob=0.81]\n",
      "sample: 100%|██████████| 12500/12500 [00:56<00:00, 221.25it/s, 1023 steps of size 2.54e-06. acc. prob=0.77]\n",
      "sample: 100%|██████████| 12500/12500 [00:58<00:00, 212.30it/s, 1023 steps of size 2.12e-06. acc. prob=0.81]\n"
     ]
    },
    {
     "name": "stdout",
     "output_type": "stream",
     "text": [
      "Generating instance 20...\n"
     ]
    },
    {
     "name": "stderr",
     "output_type": "stream",
     "text": [
      "sample: 100%|██████████| 12500/12500 [00:59<00:00, 210.74it/s, 1023 steps of size 5.43e-08. acc. prob=0.81]\n",
      "sample: 100%|██████████| 12500/12500 [00:56<00:00, 219.33it/s, 1023 steps of size 5.08e-08. acc. prob=0.77]\n",
      "sample: 100%|██████████| 12500/12500 [00:57<00:00, 218.98it/s, 1023 steps of size 3.54e-08. acc. prob=0.81]\n"
     ]
    },
    {
     "name": "stdout",
     "output_type": "stream",
     "text": [
      "Generating instance 21...\n"
     ]
    },
    {
     "name": "stderr",
     "output_type": "stream",
     "text": [
      "sample: 100%|██████████| 12500/12500 [00:04<00:00, 2722.11it/s, 3 steps of size 5.96e-01. acc. prob=0.93]\n",
      "sample: 100%|██████████| 12500/12500 [00:02<00:00, 4593.08it/s, 7 steps of size 7.11e-01. acc. prob=0.90]\n",
      "sample: 100%|██████████| 12500/12500 [00:02<00:00, 4632.87it/s, 7 steps of size 7.90e-01. acc. prob=0.88]\n"
     ]
    },
    {
     "name": "stdout",
     "output_type": "stream",
     "text": [
      "Generating instance 22...\n"
     ]
    },
    {
     "name": "stderr",
     "output_type": "stream",
     "text": [
      "sample: 100%|██████████| 12500/12500 [00:04<00:00, 2732.82it/s, 3 steps of size 5.50e-01. acc. prob=0.94] \n",
      "sample: 100%|██████████| 12500/12500 [00:02<00:00, 4450.74it/s, 7 steps of size 5.07e-01. acc. prob=0.94]\n",
      "sample: 100%|██████████| 12500/12500 [00:02<00:00, 4541.21it/s, 7 steps of size 5.70e-01. acc. prob=0.93]\n"
     ]
    },
    {
     "name": "stdout",
     "output_type": "stream",
     "text": [
      "Generating instance 23...\n"
     ]
    },
    {
     "name": "stderr",
     "output_type": "stream",
     "text": [
      "sample: 100%|██████████| 12500/12500 [00:04<00:00, 2714.86it/s, 3 steps of size 6.48e-01. acc. prob=0.93]\n",
      "sample: 100%|██████████| 12500/12500 [00:02<00:00, 4632.53it/s, 3 steps of size 7.37e-01. acc. prob=0.91]\n",
      "sample: 100%|██████████| 12500/12500 [00:02<00:00, 4619.70it/s, 7 steps of size 7.43e-01. acc. prob=0.91]\n"
     ]
    },
    {
     "name": "stdout",
     "output_type": "stream",
     "text": [
      "Generating instance 24...\n"
     ]
    },
    {
     "name": "stderr",
     "output_type": "stream",
     "text": [
      "sample: 100%|██████████| 12500/12500 [00:04<00:00, 2787.32it/s, 7 steps of size 8.14e-01. acc. prob=0.88]\n",
      "sample: 100%|██████████| 12500/12500 [00:02<00:00, 4689.77it/s, 3 steps of size 8.60e-01. acc. prob=0.88] \n",
      "sample: 100%|██████████| 12500/12500 [00:02<00:00, 4633.83it/s, 7 steps of size 7.56e-01. acc. prob=0.91]\n"
     ]
    },
    {
     "name": "stdout",
     "output_type": "stream",
     "text": [
      "Generating instance 25...\n"
     ]
    },
    {
     "name": "stderr",
     "output_type": "stream",
     "text": [
      "sample: 100%|██████████| 12500/12500 [00:05<00:00, 2482.29it/s, 3 steps of size 2.48e-01. acc. prob=0.91] \n",
      "sample: 100%|██████████| 12500/12500 [00:03<00:00, 3862.42it/s, 15 steps of size 2.22e-01. acc. prob=0.94]\n",
      "sample: 100%|██████████| 12500/12500 [00:03<00:00, 3891.17it/s, 11 steps of size 2.35e-01. acc. prob=0.93]\n"
     ]
    },
    {
     "name": "stdout",
     "output_type": "stream",
     "text": [
      "Generating instance 26...\n"
     ]
    },
    {
     "name": "stderr",
     "output_type": "stream",
     "text": [
      "sample: 100%|██████████| 12500/12500 [00:05<00:00, 2348.27it/s, 15 steps of size 1.30e-01. acc. prob=0.94]\n",
      "sample: 100%|██████████| 12500/12500 [00:03<00:00, 3321.07it/s, 27 steps of size 7.68e-02. acc. prob=0.94]\n",
      "sample: 100%|██████████| 12500/12500 [00:03<00:00, 3543.61it/s, 23 steps of size 1.09e-01. acc. prob=0.91]\n"
     ]
    },
    {
     "name": "stdout",
     "output_type": "stream",
     "text": [
      "Generating instance 27...\n"
     ]
    },
    {
     "name": "stderr",
     "output_type": "stream",
     "text": [
      "sample: 100%|██████████| 12500/12500 [00:05<00:00, 2290.33it/s, 15 steps of size 9.98e-02. acc. prob=0.92]\n",
      "sample: 100%|██████████| 12500/12500 [00:03<00:00, 3467.03it/s, 15 steps of size 1.31e-01. acc. prob=0.91]\n",
      "sample: 100%|██████████| 12500/12500 [00:03<00:00, 3281.01it/s, 31 steps of size 8.10e-02. acc. prob=0.92]\n"
     ]
    },
    {
     "name": "stdout",
     "output_type": "stream",
     "text": [
      "Generating instance 28...\n"
     ]
    },
    {
     "name": "stderr",
     "output_type": "stream",
     "text": [
      "sample: 100%|██████████| 12500/12500 [00:07<00:00, 1754.21it/s, 63 steps of size 2.71e-02. acc. prob=0.93] \n",
      "sample: 100%|██████████| 12500/12500 [00:05<00:00, 2307.15it/s, 127 steps of size 2.92e-02. acc. prob=0.93]\n",
      "sample: 100%|██████████| 12500/12500 [00:05<00:00, 2397.77it/s, 31 steps of size 3.40e-02. acc. prob=0.91] \n"
     ]
    },
    {
     "name": "stdout",
     "output_type": "stream",
     "text": [
      "Generating instance 29...\n"
     ]
    },
    {
     "name": "stderr",
     "output_type": "stream",
     "text": [
      "sample: 100%|██████████| 12500/12500 [00:08<00:00, 1411.55it/s, 99 steps of size 1.80e-02. acc. prob=0.93] \n",
      "sample: 100%|██████████| 12500/12500 [00:07<00:00, 1627.29it/s, 143 steps of size 1.65e-02. acc. prob=0.93]\n",
      "sample: 100%|██████████| 12500/12500 [00:57<00:00, 217.67it/s, 1023 steps of size 1.93e-05. acc. prob=0.81]\n"
     ]
    },
    {
     "name": "stdout",
     "output_type": "stream",
     "text": [
      "Generating instance 30...\n"
     ]
    },
    {
     "name": "stderr",
     "output_type": "stream",
     "text": [
      "sample: 100%|██████████| 12500/12500 [00:59<00:00, 210.60it/s, 1023 steps of size 2.18e-05. acc. prob=0.81]\n",
      "sample: 100%|██████████| 12500/12500 [00:57<00:00, 218.43it/s, 1023 steps of size 2.57e-06. acc. prob=0.84]\n",
      "sample: 100%|██████████| 12500/12500 [00:56<00:00, 222.11it/s, 1023 steps of size 5.31e-06. acc. prob=0.81]\n"
     ]
    },
    {
     "name": "stdout",
     "output_type": "stream",
     "text": [
      "Generating instance 31...\n"
     ]
    },
    {
     "name": "stderr",
     "output_type": "stream",
     "text": [
      "sample: 100%|██████████| 12500/12500 [00:04<00:00, 2584.26it/s, 7 steps of size 2.24e-01. acc. prob=0.94] \n",
      "sample: 100%|██████████| 12500/12500 [00:02<00:00, 4403.07it/s, 15 steps of size 2.87e-01. acc. prob=0.93]\n",
      "sample: 100%|██████████| 12500/12500 [00:02<00:00, 4496.35it/s, 15 steps of size 3.14e-01. acc. prob=0.90]\n"
     ]
    },
    {
     "name": "stdout",
     "output_type": "stream",
     "text": [
      "Generating instance 32...\n"
     ]
    },
    {
     "name": "stderr",
     "output_type": "stream",
     "text": [
      "sample: 100%|██████████| 12500/12500 [00:04<00:00, 2834.24it/s, 7 steps of size 4.54e-01. acc. prob=0.92] \n",
      "sample: 100%|██████████| 12500/12500 [00:02<00:00, 4860.39it/s, 7 steps of size 4.91e-01. acc. prob=0.89] \n",
      "sample: 100%|██████████| 12500/12500 [00:02<00:00, 4699.60it/s, 15 steps of size 4.10e-01. acc. prob=0.93]\n"
     ]
    },
    {
     "name": "stdout",
     "output_type": "stream",
     "text": [
      "Generating instance 33...\n"
     ]
    },
    {
     "name": "stderr",
     "output_type": "stream",
     "text": [
      "sample: 100%|██████████| 12500/12500 [00:04<00:00, 2905.61it/s, 7 steps of size 6.57e-01. acc. prob=0.91]\n",
      "sample: 100%|██████████| 12500/12500 [00:02<00:00, 5102.61it/s, 7 steps of size 7.34e-01. acc. prob=0.88]\n",
      "sample: 100%|██████████| 12500/12500 [00:02<00:00, 4986.44it/s, 3 steps of size 7.00e-01. acc. prob=0.90]\n"
     ]
    },
    {
     "name": "stdout",
     "output_type": "stream",
     "text": [
      "Generating instance 34...\n"
     ]
    },
    {
     "name": "stderr",
     "output_type": "stream",
     "text": [
      "sample: 100%|██████████| 12500/12500 [00:04<00:00, 2890.89it/s, 3 steps of size 6.50e-01. acc. prob=0.93]\n",
      "sample: 100%|██████████| 12500/12500 [00:02<00:00, 5054.95it/s, 3 steps of size 7.65e-01. acc. prob=0.90]\n",
      "sample: 100%|██████████| 12500/12500 [00:02<00:00, 4979.08it/s, 3 steps of size 7.87e-01. acc. prob=0.90]\n"
     ]
    },
    {
     "name": "stdout",
     "output_type": "stream",
     "text": [
      "Generating instance 35...\n"
     ]
    },
    {
     "name": "stderr",
     "output_type": "stream",
     "text": [
      "sample: 100%|██████████| 12500/12500 [00:04<00:00, 2618.62it/s, 7 steps of size 2.24e-01. acc. prob=0.95] \n",
      "sample: 100%|██████████| 12500/12500 [00:02<00:00, 4380.25it/s, 15 steps of size 2.79e-01. acc. prob=0.92]\n",
      "sample: 100%|██████████| 12500/12500 [00:02<00:00, 4269.36it/s, 15 steps of size 2.32e-01. acc. prob=0.95]\n"
     ]
    },
    {
     "name": "stdout",
     "output_type": "stream",
     "text": [
      "Generating instance 36...\n"
     ]
    },
    {
     "name": "stderr",
     "output_type": "stream",
     "text": [
      "sample: 100%|██████████| 12500/12500 [00:05<00:00, 2260.25it/s, 15 steps of size 9.74e-02. acc. prob=0.95]\n",
      "sample: 100%|██████████| 12500/12500 [00:03<00:00, 3598.28it/s, 31 steps of size 1.21e-01. acc. prob=0.94]\n",
      "sample: 100%|██████████| 12500/12500 [00:03<00:00, 3560.77it/s, 15 steps of size 1.06e-01. acc. prob=0.94]\n"
     ]
    },
    {
     "name": "stdout",
     "output_type": "stream",
     "text": [
      "Generating instance 37...\n"
     ]
    },
    {
     "name": "stderr",
     "output_type": "stream",
     "text": [
      "sample: 100%|██████████| 12500/12500 [00:05<00:00, 2306.23it/s, 11 steps of size 9.40e-02. acc. prob=0.94]\n",
      "sample: 100%|██████████| 12500/12500 [00:03<00:00, 3762.29it/s, 31 steps of size 1.43e-01. acc. prob=0.92]\n",
      "sample: 100%|██████████| 12500/12500 [00:03<00:00, 3514.65it/s, 7 steps of size 9.39e-02. acc. prob=0.94] \n"
     ]
    },
    {
     "name": "stdout",
     "output_type": "stream",
     "text": [
      "Generating instance 38...\n"
     ]
    },
    {
     "name": "stderr",
     "output_type": "stream",
     "text": [
      "sample: 100%|██████████| 12500/12500 [00:05<00:00, 2304.42it/s, 11 steps of size 8.62e-02. acc. prob=0.94]\n",
      "sample: 100%|██████████| 12500/12500 [00:03<00:00, 3379.53it/s, 27 steps of size 7.34e-02. acc. prob=0.92]\n",
      "sample: 100%|██████████| 12500/12500 [00:03<00:00, 3399.56it/s, 15 steps of size 8.11e-02. acc. prob=0.92]\n"
     ]
    },
    {
     "name": "stdout",
     "output_type": "stream",
     "text": [
      "Generating instance 39...\n"
     ]
    },
    {
     "name": "stderr",
     "output_type": "stream",
     "text": [
      "sample: 100%|██████████| 12500/12500 [00:06<00:00, 2080.42it/s, 31 steps of size 3.50e-02. acc. prob=0.94]\n",
      "sample: 100%|██████████| 12500/12500 [00:03<00:00, 3169.91it/s, 63 steps of size 4.65e-02. acc. prob=0.92]\n",
      "sample: 100%|██████████| 12500/12500 [00:03<00:00, 3358.21it/s, 39 steps of size 6.20e-02. acc. prob=0.91]\n"
     ]
    },
    {
     "name": "stdout",
     "output_type": "stream",
     "text": [
      "Generating instance 40...\n"
     ]
    },
    {
     "name": "stderr",
     "output_type": "stream",
     "text": [
      "sample: 100%|██████████| 12500/12500 [00:07<00:00, 1642.61it/s, 127 steps of size 2.07e-02. acc. prob=0.96]\n",
      "sample: 100%|██████████| 12500/12500 [00:05<00:00, 2132.99it/s, 27 steps of size 1.81e-02. acc. prob=0.95] \n",
      "sample: 100%|██████████| 12500/12500 [00:05<00:00, 2384.60it/s, 47 steps of size 2.37e-02. acc. prob=0.92] \n"
     ]
    },
    {
     "name": "stdout",
     "output_type": "stream",
     "text": [
      "Generating instance 41...\n"
     ]
    },
    {
     "name": "stderr",
     "output_type": "stream",
     "text": [
      "sample: 100%|██████████| 12500/12500 [00:05<00:00, 2396.13it/s, 15 steps of size 1.22e-01. acc. prob=0.93]\n",
      "sample: 100%|██████████| 12500/12500 [00:03<00:00, 3823.18it/s, 15 steps of size 1.42e-01. acc. prob=0.91]\n",
      "sample: 100%|██████████| 12500/12500 [00:03<00:00, 3709.79it/s, 15 steps of size 1.24e-01. acc. prob=0.93]\n"
     ]
    },
    {
     "name": "stdout",
     "output_type": "stream",
     "text": [
      "Generating instance 42...\n"
     ]
    },
    {
     "name": "stderr",
     "output_type": "stream",
     "text": [
      "sample: 100%|██████████| 12500/12500 [00:04<00:00, 2513.91it/s, 15 steps of size 1.46e-01. acc. prob=0.94]\n",
      "sample: 100%|██████████| 12500/12500 [00:04<00:00, 2717.38it/s, 15 steps of size 2.05e-01. acc. prob=0.91]\n",
      "sample: 100%|██████████| 12500/12500 [00:03<00:00, 3888.04it/s, 23 steps of size 1.57e-01. acc. prob=0.94]\n"
     ]
    },
    {
     "name": "stdout",
     "output_type": "stream",
     "text": [
      "Generating instance 43...\n"
     ]
    },
    {
     "name": "stderr",
     "output_type": "stream",
     "text": [
      "sample: 100%|██████████| 12500/12500 [00:05<00:00, 2432.41it/s, 15 steps of size 1.39e-01. acc. prob=0.92]\n",
      "sample: 100%|██████████| 12500/12500 [00:03<00:00, 3840.91it/s, 31 steps of size 1.38e-01. acc. prob=0.93]\n",
      "sample: 100%|██████████| 12500/12500 [00:03<00:00, 3925.00it/s, 15 steps of size 1.56e-01. acc. prob=0.92]\n"
     ]
    },
    {
     "name": "stdout",
     "output_type": "stream",
     "text": [
      "Generating instance 44...\n"
     ]
    },
    {
     "name": "stderr",
     "output_type": "stream",
     "text": [
      "sample: 100%|██████████| 12500/12500 [00:04<00:00, 2722.07it/s, 7 steps of size 2.53e-01. acc. prob=0.93] \n",
      "sample: 100%|██████████| 12500/12500 [00:02<00:00, 4316.75it/s, 15 steps of size 2.61e-01. acc. prob=0.94]\n",
      "sample: 100%|██████████| 12500/12500 [00:02<00:00, 4310.38it/s, 15 steps of size 2.33e-01. acc. prob=0.95]\n"
     ]
    },
    {
     "name": "stdout",
     "output_type": "stream",
     "text": [
      "Generating instance 45...\n"
     ]
    },
    {
     "name": "stderr",
     "output_type": "stream",
     "text": [
      "sample: 100%|██████████| 12500/12500 [00:05<00:00, 2486.21it/s, 15 steps of size 1.70e-01. acc. prob=0.93]\n",
      "sample: 100%|██████████| 12500/12500 [00:03<00:00, 3852.41it/s, 15 steps of size 1.72e-01. acc. prob=0.93]\n",
      "sample: 100%|██████████| 12500/12500 [00:03<00:00, 3903.78it/s, 15 steps of size 1.79e-01. acc. prob=0.92]\n"
     ]
    },
    {
     "name": "stdout",
     "output_type": "stream",
     "text": [
      "Generating instance 46...\n"
     ]
    },
    {
     "name": "stderr",
     "output_type": "stream",
     "text": [
      "sample: 100%|██████████| 12500/12500 [00:05<00:00, 2198.78it/s, 31 steps of size 7.99e-02. acc. prob=0.92]\n",
      "sample: 100%|██████████| 12500/12500 [00:03<00:00, 3323.07it/s, 63 steps of size 8.09e-02. acc. prob=0.93]\n",
      "sample: 100%|██████████| 12500/12500 [00:04<00:00, 2836.91it/s, 19 steps of size 6.09e-02. acc. prob=0.95]\n"
     ]
    },
    {
     "name": "stdout",
     "output_type": "stream",
     "text": [
      "Generating instance 47...\n"
     ]
    },
    {
     "name": "stderr",
     "output_type": "stream",
     "text": [
      "sample: 100%|██████████| 12500/12500 [00:07<00:00, 1745.45it/s, 31 steps of size 3.91e-02. acc. prob=0.93] \n",
      "sample: 100%|██████████| 12500/12500 [00:05<00:00, 2388.41it/s, 63 steps of size 3.85e-02. acc. prob=0.90] \n",
      "sample: 100%|██████████| 12500/12500 [00:04<00:00, 2504.74it/s, 15 steps of size 4.39e-02. acc. prob=0.94] \n"
     ]
    },
    {
     "name": "stdout",
     "output_type": "stream",
     "text": [
      "Generating instance 48...\n"
     ]
    },
    {
     "name": "stderr",
     "output_type": "stream",
     "text": [
      "sample: 100%|██████████| 12500/12500 [00:07<00:00, 1701.29it/s, 63 steps of size 3.71e-02. acc. prob=0.93] \n",
      "sample: 100%|██████████| 12500/12500 [00:05<00:00, 2489.43it/s, 127 steps of size 4.59e-02. acc. prob=0.90]\n",
      "sample: 100%|██████████| 12500/12500 [00:05<00:00, 2458.50it/s, 63 steps of size 4.06e-02. acc. prob=0.93] \n"
     ]
    },
    {
     "name": "stdout",
     "output_type": "stream",
     "text": [
      "Generating instance 49...\n"
     ]
    },
    {
     "name": "stderr",
     "output_type": "stream",
     "text": [
      "sample: 100%|██████████| 12500/12500 [00:07<00:00, 1622.31it/s, 103 steps of size 3.18e-02. acc. prob=0.93]\n",
      "sample: 100%|██████████| 12500/12500 [00:05<00:00, 2159.37it/s, 63 steps of size 2.89e-02. acc. prob=0.94] \n",
      "sample: 100%|██████████| 12500/12500 [00:05<00:00, 2198.53it/s, 31 steps of size 2.98e-02. acc. prob=0.93] \n"
     ]
    },
    {
     "name": "stdout",
     "output_type": "stream",
     "text": [
      "Generating instance 50...\n"
     ]
    },
    {
     "name": "stderr",
     "output_type": "stream",
     "text": [
      "sample: 100%|██████████| 12500/12500 [00:09<00:00, 1303.26it/s, 127 steps of size 1.85e-02. acc. prob=0.95]\n",
      "sample: 100%|██████████| 12500/12500 [00:07<00:00, 1601.67it/s, 119 steps of size 1.93e-02. acc. prob=0.94]\n",
      "sample: 100%|██████████| 12500/12500 [00:07<00:00, 1596.95it/s, 99 steps of size 1.82e-02. acc. prob=0.94] \n"
     ]
    },
    {
     "name": "stdout",
     "output_type": "stream",
     "text": [
      "Generating instance 51...\n"
     ]
    },
    {
     "name": "stderr",
     "output_type": "stream",
     "text": [
      "sample: 100%|██████████| 12500/12500 [00:05<00:00, 2336.98it/s, 11 steps of size 9.90e-02. acc. prob=0.94]\n",
      "sample: 100%|██████████| 12500/12500 [00:03<00:00, 3487.23it/s, 19 steps of size 8.36e-02. acc. prob=0.95]\n",
      "sample: 100%|██████████| 12500/12500 [00:03<00:00, 3604.00it/s, 31 steps of size 9.83e-02. acc. prob=0.93]\n"
     ]
    },
    {
     "name": "stdout",
     "output_type": "stream",
     "text": [
      "Generating instance 52...\n"
     ]
    },
    {
     "name": "stderr",
     "output_type": "stream",
     "text": [
      "sample: 100%|██████████| 12500/12500 [00:04<00:00, 2539.33it/s, 15 steps of size 1.23e-01. acc. prob=0.94]\n",
      "sample: 100%|██████████| 12500/12500 [00:03<00:00, 3266.79it/s, 15 steps of size 1.92e-01. acc. prob=0.90]\n",
      "sample: 100%|██████████| 12500/12500 [00:03<00:00, 4107.98it/s, 15 steps of size 1.57e-01. acc. prob=0.94]\n"
     ]
    },
    {
     "name": "stdout",
     "output_type": "stream",
     "text": [
      "Generating instance 53...\n"
     ]
    },
    {
     "name": "stderr",
     "output_type": "stream",
     "text": [
      "sample: 100%|██████████| 12500/12500 [00:05<00:00, 2374.40it/s, 11 steps of size 1.04e-01. acc. prob=0.89]\n",
      "sample: 100%|██████████| 12500/12500 [00:06<00:00, 2019.86it/s, 23 steps of size 8.52e-02. acc. prob=0.92]\n",
      "sample: 100%|██████████| 12500/12500 [00:03<00:00, 3228.66it/s, 31 steps of size 9.19e-02. acc. prob=0.94]\n"
     ]
    },
    {
     "name": "stdout",
     "output_type": "stream",
     "text": [
      "Generating instance 54...\n"
     ]
    },
    {
     "name": "stderr",
     "output_type": "stream",
     "text": [
      "sample: 100%|██████████| 12500/12500 [00:05<00:00, 2088.74it/s, 31 steps of size 8.36e-02. acc. prob=0.91]\n",
      "sample: 100%|██████████| 12500/12500 [00:04<00:00, 2718.86it/s, 31 steps of size 8.01e-02. acc. prob=0.91]\n",
      "sample: 100%|██████████| 12500/12500 [00:04<00:00, 3090.25it/s, 47 steps of size 7.32e-02. acc. prob=0.94]\n"
     ]
    },
    {
     "name": "stdout",
     "output_type": "stream",
     "text": [
      "Generating instance 55...\n"
     ]
    },
    {
     "name": "stderr",
     "output_type": "stream",
     "text": [
      "sample: 100%|██████████| 12500/12500 [00:05<00:00, 2248.26it/s, 31 steps of size 7.88e-02. acc. prob=0.92]\n",
      "sample: 100%|██████████| 12500/12500 [00:04<00:00, 3070.15it/s, 31 steps of size 6.94e-02. acc. prob=0.94]\n",
      "sample: 100%|██████████| 12500/12500 [00:04<00:00, 3085.58it/s, 27 steps of size 6.57e-02. acc. prob=0.94]\n"
     ]
    },
    {
     "name": "stdout",
     "output_type": "stream",
     "text": [
      "Generating instance 56...\n"
     ]
    },
    {
     "name": "stderr",
     "output_type": "stream",
     "text": [
      "sample: 100%|██████████| 12500/12500 [00:06<00:00, 1903.78it/s, 63 steps of size 5.96e-02. acc. prob=0.94]\n",
      "sample: 100%|██████████| 12500/12500 [00:04<00:00, 2740.36it/s, 63 steps of size 6.39e-02. acc. prob=0.93]\n",
      "sample: 100%|██████████| 12500/12500 [00:04<00:00, 2676.12it/s, 31 steps of size 6.32e-02. acc. prob=0.94]\n"
     ]
    },
    {
     "name": "stdout",
     "output_type": "stream",
     "text": [
      "Generating instance 57...\n"
     ]
    },
    {
     "name": "stderr",
     "output_type": "stream",
     "text": [
      "sample: 100%|██████████| 12500/12500 [00:08<00:00, 1464.19it/s, 127 steps of size 3.29e-02. acc. prob=0.95]\n",
      "sample: 100%|██████████| 12500/12500 [00:05<00:00, 2128.24it/s, 127 steps of size 3.20e-02. acc. prob=0.94]\n",
      "sample: 100%|██████████| 12500/12500 [00:38<00:00, 325.71it/s, 15 steps of size 3.23e-02. acc. prob=0.93]  \n"
     ]
    },
    {
     "ename": "",
     "evalue": "",
     "output_type": "error",
     "traceback": [
      "\u001b[1;31mThe Kernel crashed while executing code in the the current cell or a previous cell. Please review the code in the cell(s) to identify a possible cause of the failure. Click <a href='https://aka.ms/vscodeJupyterKernelCrash'>here</a> for more info. View Jupyter <a href='command:jupyter.viewOutput'>log</a> for further details."
     ]
    }
   ],
   "source": [
    "generator = Generator(results_name=results_name, \n",
    "                  data_params=data_params,\n",
    "                  default_params=default_params)\n",
    "\n",
    "analysis_iterations = {\n",
    "    'parameters_1': ['I_y_and_I_z_mu_0','I_y_and_I_z_mu_1','Q_mu','sigma_mu'],\n",
    "    'parameters_2': ['I_y_and_I_z_cov_0_0','I_y_and_I_z_cov_1_1','Q_sigma','sigma_sigma'],\n",
    "    'values_1':\n",
    "    [\n",
    "        np.array([1e-4, 1e-3, 1e-2, 1e-1, 1e0, 1e1, 1e2, 1e3, 1e4, 1e5]),\n",
    "        np.array([1e-4, 1e-3, 1e-2, 1e-1, 1e0, 1e1, 1e2, 1e3, 1e4, 1e5]),\n",
    "        np.array([1e9, 1e10, 1e11, 1e12, 1e13, 1e14, 1e15, 1e16, 1e17, 1e18]),\n",
    "        np.array([0.5, 1, 1.5, 2, 2.5, 3, 3.5, 4, 4.5, 5])     \n",
    "    ],\n",
    "\n",
    "    'values_2':\n",
    "    [\n",
    "        np.array([1e-4, 1e-3, 1e-2, 1e-1, 1e0, 1e1, 1e2, 1e3, 1e4, 1e5]),\n",
    "        np.array([1e-4, 1e-3, 1e-2, 1e-1, 1e0, 1e1, 1e2, 1e3, 1e4, 1e5]),\n",
    "        np.array([1e2, 1e3, 1e4, 1e5, 1e6, 1e7, 1e8, 1e9, 1e10, 1e11]),\n",
    "        np.array([0.5, 1, 1.5, 2, 2.5, 3, 3.5, 4, 4.5, 5]) \n",
    "    ],\n",
    "    'scales_1': ['log','log', 'log', 'linear'],\n",
    "    'scales_2': ['log','log', 'log', 'linear'],\n",
    "}\n",
    "\n",
    "for i in range(len(analysis_iterations['parameters_1'])):\n",
    "    parameter_1 = analysis_iterations['parameters_1'][i]\n",
    "    parameter_2 = analysis_iterations['parameters_2'][i]\n",
    "\n",
    "    print('Working on varying ' + parameter_1 + '...')\n",
    "    values_1 = analysis_iterations['values_1'][i]\n",
    "    values_2 = analysis_iterations['values_2'][i]\n",
    "\n",
    "    scale_1 = analysis_iterations['scales_1'][i]\n",
    "    scale_2 = analysis_iterations['scales_2'][i]\n",
    "\n",
    "    inputs = generator.vary_two_parameters(parameter_1, parameter_2, values_1, values_2, scale_1=scale_1, scale_2=scale_2, plot=True)"
   ]
  },
  {
   "attachments": {},
   "cell_type": "markdown",
   "metadata": {},
   "source": [
    "Optimising the hyperparameters for gamma prior simulated data"
   ]
  },
  {
   "cell_type": "code",
   "execution_count": null,
   "metadata": {},
   "outputs": [
    {
     "name": "stderr",
     "output_type": "stream",
     "text": [
      "[I 2023-10-17 00:52:53,720] A new study created in RDB with name: AIC_1\n",
      "sample: 100%|██████████| 12500/12500 [00:04<00:00, 2901.25it/s, 3 steps of size 7.18e-01. acc. prob=0.89]\n",
      "sample: 100%|██████████| 12500/12500 [00:02<00:00, 5111.75it/s, 7 steps of size 7.05e-01. acc. prob=0.89]\n",
      "sample: 100%|██████████| 12500/12500 [00:02<00:00, 5222.09it/s, 5 steps of size 7.29e-01. acc. prob=0.89]\n",
      "[I 2023-10-17 00:53:06,108] Trial 0 finished with value: 64.68317413330078 and parameters: {'I_y_mu': 1.7259646638946395, 'I_y_sigma': 1.614344210442248, 'I_z_mu': 1.6832442190290895, 'I_z_sigma': 1.98811013757421, 'Q_mu': 138113822868418.78, 'Q_sigma': 7793230.8623969965, 'sigma_mu': 0.9662126801478261, 'sigma_sigma': 1.1061564087334241}. Best is trial 0 with value: 64.68317413330078.\n",
      "sample: 100%|██████████| 12500/12500 [00:04<00:00, 3016.02it/s, 3 steps of size 6.89e-01. acc. prob=0.90]\n",
      "sample: 100%|██████████| 12500/12500 [00:02<00:00, 5163.14it/s, 7 steps of size 7.20e-01. acc. prob=0.88]\n",
      "sample: 100%|██████████| 12500/12500 [00:02<00:00, 5365.77it/s, 5 steps of size 7.36e-01. acc. prob=0.89]\n",
      "[I 2023-10-17 00:53:17,075] Trial 1 finished with value: 64.69619369506836 and parameters: {'I_y_mu': 0.9924914979420515, 'I_y_sigma': 1.9703274788170275, 'I_z_mu': 0.34612666310080825, 'I_z_sigma': 1.6045283101629289, 'Q_mu': 894983044880725.0, 'Q_sigma': 8493407.7296945, 'sigma_mu': 0.8328451170310072, 'sigma_sigma': 1.2158661436377014}. Best is trial 0 with value: 64.68317413330078.\n",
      "sample: 100%|██████████| 12500/12500 [00:04<00:00, 3116.06it/s, 7 steps of size 6.30e-01. acc. prob=0.92]\n",
      "sample: 100%|██████████| 12500/12500 [00:02<00:00, 5439.76it/s, 7 steps of size 6.79e-01. acc. prob=0.89]\n",
      "sample: 100%|██████████| 12500/12500 [00:02<00:00, 5483.33it/s, 5 steps of size 7.16e-01. acc. prob=0.89]\n",
      "[I 2023-10-17 00:53:27,350] Trial 2 finished with value: 64.71779251098633 and parameters: {'I_y_mu': 0.0914021438842889, 'I_y_sigma': 0.8924831691637276, 'I_z_mu': 1.6145569327376978, 'I_z_sigma': 0.9628709984323326, 'Q_mu': 511830820492048.5, 'Q_sigma': 9919385.62651011, 'sigma_mu': 0.822081968886947, 'sigma_sigma': 1.071478579481464}. Best is trial 0 with value: 64.68317413330078.\n",
      "sample: 100%|██████████| 12500/12500 [00:04<00:00, 2891.46it/s, 7 steps of size 6.40e-01. acc. prob=0.89]\n",
      "sample: 100%|██████████| 12500/12500 [00:02<00:00, 5377.53it/s, 7 steps of size 5.61e-01. acc. prob=0.91]\n",
      "sample: 100%|██████████| 12500/12500 [00:02<00:00, 5405.45it/s, 7 steps of size 5.33e-01. acc. prob=0.93]\n",
      "[I 2023-10-17 00:53:38,118] Trial 3 finished with value: 74.07994079589844 and parameters: {'I_y_mu': 0.5165014217615546, 'I_y_sigma': 0.3635516835476804, 'I_z_mu': 0.48539274840688157, 'I_z_sigma': 0.0357143620673345, 'Q_mu': 566632030796407.5, 'Q_sigma': 3328720.764209322, 'sigma_mu': 0.6155881709563896, 'sigma_sigma': 1.804423661685791}. Best is trial 0 with value: 64.68317413330078.\n",
      "sample: 100%|██████████| 12500/12500 [00:03<00:00, 3223.27it/s, 3 steps of size 6.96e-01. acc. prob=0.91]\n",
      "sample: 100%|██████████| 12500/12500 [00:02<00:00, 5576.55it/s, 7 steps of size 6.71e-01. acc. prob=0.91]\n",
      "sample: 100%|██████████| 12500/12500 [00:02<00:00, 5723.46it/s, 3 steps of size 8.29e-01. acc. prob=0.87]\n",
      "[I 2023-10-17 00:53:48,121] Trial 4 finished with value: 65.08290100097656 and parameters: {'I_y_mu': 1.1377678711201182, 'I_y_sigma': 1.4576797835183755, 'I_z_mu': 0.8446395326631556, 'I_z_sigma': 1.4994470531362054, 'Q_mu': 365849571690090.44, 'Q_sigma': 1793628.990429042, 'sigma_mu': 0.6451503952750937, 'sigma_sigma': 0.9582819041914086}. Best is trial 0 with value: 64.68317413330078.\n",
      "sample: 100%|██████████| 12500/12500 [00:03<00:00, 3195.14it/s, 7 steps of size 6.66e-01. acc. prob=0.92]\n",
      "sample: 100%|██████████| 12500/12500 [00:02<00:00, 5489.89it/s, 3 steps of size 7.61e-01. acc. prob=0.88]\n",
      "sample: 100%|██████████| 12500/12500 [00:02<00:00, 5509.32it/s, 7 steps of size 7.17e-01. acc. prob=0.91]\n",
      "[I 2023-10-17 00:53:58,221] Trial 5 finished with value: 64.59109115600586 and parameters: {'I_y_mu': 0.12525249098360897, 'I_y_sigma': 1.872519311962957, 'I_z_mu': 0.06860041320162895, 'I_z_sigma': 0.5922566716471611, 'Q_mu': 643270954063233.4, 'Q_sigma': 1485612.3913203813, 'sigma_mu': 1.7679036962364307, 'sigma_sigma': 1.9895391060584107}. Best is trial 5 with value: 64.59109115600586.\n",
      "sample: 100%|██████████| 12500/12500 [00:04<00:00, 3121.43it/s, 7 steps of size 6.59e-01. acc. prob=0.91]\n",
      "sample: 100%|██████████| 12500/12500 [00:02<00:00, 5185.99it/s, 7 steps of size 7.17e-01. acc. prob=0.89]\n",
      "sample: 100%|██████████| 12500/12500 [00:02<00:00, 5503.56it/s, 7 steps of size 7.44e-01. acc. prob=0.89]\n",
      "[I 2023-10-17 00:54:08,550] Trial 6 finished with value: 64.61524963378906 and parameters: {'I_y_mu': 0.14368800078051774, 'I_y_sigma': 0.7021427405989927, 'I_z_mu': 0.09810255562683605, 'I_z_sigma': 1.2659006957274537, 'Q_mu': 690715278816299.4, 'Q_sigma': 1891511.0637174265, 'sigma_mu': 1.9884914666768836, 'sigma_sigma': 1.7659125793360468}. Best is trial 5 with value: 64.59109115600586.\n",
      "sample: 100%|██████████| 12500/12500 [00:03<00:00, 3165.70it/s, 3 steps of size 6.83e-01. acc. prob=0.91]\n",
      "sample: 100%|██████████| 12500/12500 [00:02<00:00, 5272.10it/s, 7 steps of size 7.12e-01. acc. prob=0.89] \n",
      "sample: 100%|██████████| 12500/12500 [00:02<00:00, 5515.83it/s, 3 steps of size 7.43e-01. acc. prob=0.88]\n",
      "[I 2023-10-17 00:54:18,817] Trial 7 finished with value: 64.67761611938477 and parameters: {'I_y_mu': 1.136896991469554, 'I_y_sigma': 1.2385584776647773, 'I_z_mu': 1.904331078336348, 'I_z_sigma': 1.8247325122618554, 'Q_mu': 415317999287436.25, 'Q_sigma': 3082973.4234103267, 'sigma_mu': 0.8061303563358146, 'sigma_sigma': 1.1124848971007684}. Best is trial 5 with value: 64.59109115600586.\n",
      "sample: 100%|██████████| 12500/12500 [00:03<00:00, 3176.09it/s, 7 steps of size 5.60e-01. acc. prob=0.94]\n",
      "sample: 100%|██████████| 12500/12500 [00:02<00:00, 5442.12it/s, 7 steps of size 6.66e-01. acc. prob=0.90]\n",
      "sample: 100%|██████████| 12500/12500 [00:02<00:00, 5363.62it/s, 5 steps of size 7.28e-01. acc. prob=0.89]\n",
      "[I 2023-10-17 00:54:29,057] Trial 8 finished with value: 64.67171478271484 and parameters: {'I_y_mu': 0.5208538735179855, 'I_y_sigma': 0.5889298817012634, 'I_z_mu': 1.9477980101291015, 'I_z_sigma': 1.8387630784425142, 'Q_mu': 899456969311532.4, 'Q_sigma': 9319034.299162382, 'sigma_mu': 1.3056030084492403, 'sigma_sigma': 1.0841790259268027}. Best is trial 5 with value: 64.59109115600586.\n",
      "sample: 100%|██████████| 12500/12500 [00:04<00:00, 3005.75it/s, 7 steps of size 5.37e-01. acc. prob=0.93] \n",
      "sample: 100%|██████████| 12500/12500 [00:02<00:00, 5244.19it/s, 7 steps of size 6.08e-01. acc. prob=0.91]\n",
      "sample: 100%|██████████| 12500/12500 [00:02<00:00, 5421.22it/s, 7 steps of size 6.40e-01. acc. prob=0.90]\n",
      "[I 2023-10-17 00:54:39,578] Trial 9 finished with value: 75.9149398803711 and parameters: {'I_y_mu': 0.3154215162629819, 'I_y_sigma': 1.990942783984573, 'I_z_mu': 1.0860018586797733, 'I_z_sigma': 0.0387374715539146, 'Q_mu': 315358273431811.8, 'Q_sigma': 6919030.0939925285, 'sigma_mu': 1.6169775168653278, 'sigma_sigma': 0.8737416080898923}. Best is trial 5 with value: 64.59109115600586.\n",
      "sample: 100%|██████████| 12500/12500 [00:04<00:00, 2998.26it/s, 7 steps of size 7.98e-01. acc. prob=0.89]\n",
      "sample: 100%|██████████| 12500/12500 [00:02<00:00, 5267.12it/s, 3 steps of size 7.43e-01. acc. prob=0.90]\n",
      "sample: 100%|██████████| 12500/12500 [00:02<00:00, 4947.14it/s, 3 steps of size 7.56e-01. acc. prob=0.90]\n",
      "[I 2023-10-17 00:54:50,414] Trial 10 finished with value: 64.58941650390625 and parameters: {'I_y_mu': 0.030214100703783595, 'I_y_sigma': 0.1186119705751254, 'I_z_mu': 0.07117311218235822, 'I_z_sigma': 0.6375468979133323, 'Q_mu': 715836839081161.6, 'Q_sigma': 160829.2000638405, 'sigma_mu': 0.3161213493884871, 'sigma_sigma': 0.4370703235928761}. Best is trial 10 with value: 64.58941650390625.\n",
      "sample: 100%|██████████| 12500/12500 [00:04<00:00, 2817.60it/s, 7 steps of size 5.90e-01. acc. prob=0.94]\n",
      "sample: 100%|██████████| 12500/12500 [00:02<00:00, 5215.16it/s, 3 steps of size 8.29e-01. acc. prob=0.88]\n",
      "sample: 100%|██████████| 12500/12500 [00:02<00:00, 4924.11it/s, 3 steps of size 7.43e-01. acc. prob=0.91]\n",
      "[I 2023-10-17 00:55:01,549] Trial 11 finished with value: 63.70527267456055 and parameters: {'I_y_mu': 0.05146709412362718, 'I_y_sigma': 0.052886219288977424, 'I_z_mu': 0.038512815929483746, 'I_z_sigma': 0.6653033160191353, 'Q_mu': 720273339270091.8, 'Q_sigma': 234807.00372697553, 'sigma_mu': 0.27471804687321344, 'sigma_sigma': 0.3494720134840821}. Best is trial 11 with value: 63.70527267456055.\n",
      "sample: 100%|██████████| 12500/12500 [00:04<00:00, 3002.34it/s, 7 steps of size 4.48e-01. acc. prob=0.94] \n",
      "sample: 100%|██████████| 12500/12500 [00:02<00:00, 5271.90it/s, 3 steps of size 5.56e-01. acc. prob=0.91]\n",
      "sample: 100%|██████████| 12500/12500 [00:02<00:00, 5353.27it/s, 7 steps of size 5.70e-01. acc. prob=0.91]\n",
      "[I 2023-10-17 00:55:12,155] Trial 12 finished with value: 67.29153823852539 and parameters: {'I_y_mu': 0.07193299589719315, 'I_y_sigma': 0.01676483184460953, 'I_z_mu': 0.015659225144222286, 'I_z_sigma': 0.7091976968272186, 'Q_mu': 735356411728394.0, 'Q_sigma': 147245.36889435948, 'sigma_mu': 0.20683510764037, 'sigma_sigma': 0.2006779914086773}. Best is trial 11 with value: 63.70527267456055.\n",
      "sample: 100%|██████████| 12500/12500 [00:04<00:00, 3094.04it/s, 3 steps of size 7.33e-01. acc. prob=0.90]\n",
      "sample: 100%|██████████| 12500/12500 [00:02<00:00, 5297.60it/s, 3 steps of size 6.92e-01. acc. prob=0.91]\n",
      "sample: 100%|██████████| 12500/12500 [00:02<00:00, 5412.88it/s, 3 steps of size 7.70e-01. acc. prob=0.89]\n",
      "[I 2023-10-17 00:55:22,548] Trial 13 finished with value: 64.40257263183594 and parameters: {'I_y_mu': 0.503392557167042, 'I_y_sigma': 0.06791658295033377, 'I_z_mu': 0.34999593128739004, 'I_z_sigma': 0.5138634631771696, 'Q_mu': 791219828067307.4, 'Q_sigma': 351402.7720514211, 'sigma_mu': 0.2318754227599787, 'sigma_sigma': 0.2240754738654468}. Best is trial 11 with value: 63.70527267456055.\n",
      "sample: 100%|██████████| 12500/12500 [00:04<00:00, 3058.03it/s, 3 steps of size 6.81e-01. acc. prob=0.91]\n",
      "sample: 100%|██████████| 12500/12500 [00:02<00:00, 5360.29it/s, 7 steps of size 6.76e-01. acc. prob=0.90]\n",
      "sample: 100%|██████████| 12500/12500 [00:02<00:00, 5365.34it/s, 7 steps of size 6.47e-01. acc. prob=0.92]\n",
      "[I 2023-10-17 00:55:32,989] Trial 14 finished with value: 64.584228515625 and parameters: {'I_y_mu': 0.5039149911636613, 'I_y_sigma': 0.2489293959611535, 'I_z_mu': 0.39971104878704244, 'I_z_sigma': 0.3638484757677153, 'Q_mu': 821646386341790.1, 'Q_sigma': 4727175.948770188, 'sigma_mu': 0.41585829504387106, 'sigma_sigma': 0.43893618785740807}. Best is trial 11 with value: 63.70527267456055.\n",
      "sample: 100%|██████████| 12500/12500 [00:04<00:00, 3088.01it/s, 7 steps of size 4.77e-01. acc. prob=0.94]\n",
      "sample: 100%|██████████| 12500/12500 [00:02<00:00, 5372.49it/s, 3 steps of size 5.46e-01. acc. prob=0.91]\n",
      "sample: 100%|██████████| 12500/12500 [00:02<00:00, 5411.01it/s, 3 steps of size 5.37e-01. acc. prob=0.92]\n",
      "[I 2023-10-17 00:55:43,353] Trial 15 finished with value: 68.77996063232422 and parameters: {'I_y_mu': 0.7687711568937775, 'I_y_sigma': 0.4093861784443506, 'I_z_mu': 0.7211374303561249, 'I_z_sigma': 0.9482520754072118, 'Q_mu': 980354590417230.0, 'Q_sigma': 249547.22209554695, 'sigma_mu': 0.4652362163986372, 'sigma_sigma': 0.2094092277551263}. Best is trial 11 with value: 63.70527267456055.\n",
      "sample: 100%|██████████| 12500/12500 [00:04<00:00, 3074.71it/s, 3 steps of size 6.37e-01. acc. prob=0.92]\n",
      "sample: 100%|██████████| 12500/12500 [00:02<00:00, 5077.06it/s, 3 steps of size 7.99e-01. acc. prob=0.86]\n",
      "sample: 100%|██████████| 12500/12500 [00:02<00:00, 5146.59it/s, 7 steps of size 6.51e-01. acc. prob=0.92]\n",
      "[I 2023-10-17 00:55:54,028] Trial 16 finished with value: 62.76990509033203 and parameters: {'I_y_mu': 0.4258828441031878, 'I_y_sigma': 0.06584264509665083, 'I_z_mu': 0.31226085407405113, 'I_z_sigma': 0.36416381207021054, 'Q_mu': 772289833622406.6, 'Q_sigma': 5376526.453419983, 'sigma_mu': 0.25794440189850687, 'sigma_sigma': 0.6363895163059599}. Best is trial 16 with value: 62.76990509033203.\n",
      "sample: 100%|██████████| 12500/12500 [00:04<00:00, 2972.61it/s, 7 steps of size 6.21e-01. acc. prob=0.92]\n",
      "sample: 100%|██████████| 12500/12500 [00:02<00:00, 5200.55it/s, 7 steps of size 6.67e-01. acc. prob=0.90]\n",
      "sample: 100%|██████████| 12500/12500 [00:02<00:00, 5148.67it/s, 5 steps of size 7.11e-01. acc. prob=0.89]\n",
      "[I 2023-10-17 00:56:04,819] Trial 17 finished with value: 64.73753356933594 and parameters: {'I_y_mu': 0.3366913852475901, 'I_y_sigma': 0.49769616324734967, 'I_z_mu': 0.6006737154777879, 'I_z_sigma': 0.3254644912167298, 'Q_mu': 587435990713057.5, 'Q_sigma': 5433500.582794851, 'sigma_mu': 0.5024878740822747, 'sigma_sigma': 0.6817561687872755}. Best is trial 16 with value: 62.76990509033203.\n",
      "sample: 100%|██████████| 12500/12500 [00:04<00:00, 2964.29it/s, 7 steps of size 6.28e-01. acc. prob=0.92]\n",
      "sample: 100%|██████████| 12500/12500 [00:02<00:00, 5001.69it/s, 7 steps of size 7.19e-01. acc. prob=0.88]\n",
      "sample: 100%|██████████| 12500/12500 [00:02<00:00, 5148.36it/s, 7 steps of size 6.78e-01. acc. prob=0.91]\n",
      "[I 2023-10-17 00:56:15,712] Trial 18 finished with value: 64.4879035949707 and parameters: {'I_y_mu': 0.3115449648695281, 'I_y_sigma': 0.2576711344832442, 'I_z_mu': 0.219534787983879, 'I_z_sigma': 0.8315752941412754, 'Q_mu': 627892411954337.1, 'Q_sigma': 5784793.660505735, 'sigma_mu': 0.21653313024622522, 'sigma_sigma': 0.647813499508779}. Best is trial 16 with value: 62.76990509033203.\n",
      "sample: 100%|██████████| 12500/12500 [00:04<00:00, 2910.50it/s, 3 steps of size 6.67e-01. acc. prob=0.91] \n",
      "sample: 100%|██████████| 12500/12500 [00:02<00:00, 5094.02it/s, 7 steps of size 6.79e-01. acc. prob=0.90]\n",
      "sample: 100%|██████████| 12500/12500 [00:02<00:00, 5178.60it/s, 5 steps of size 7.25e-01. acc. prob=0.89]\n",
      "[I 2023-10-17 00:56:26,604] Trial 19 finished with value: 64.68817520141602 and parameters: {'I_y_mu': 0.7129690527643455, 'I_y_sigma': 0.7449672765402977, 'I_z_mu': 0.23807479331784223, 'I_z_sigma': 1.1034346150318823, 'Q_mu': 800653597853413.8, 'Q_sigma': 4161358.17788301, 'sigma_mu': 0.5941159288651177, 'sigma_sigma': 0.4934780627386336}. Best is trial 16 with value: 62.76990509033203.\n",
      "sample: 100%|██████████| 12500/12500 [00:04<00:00, 3036.17it/s, 3 steps of size 5.80e-01. acc. prob=0.93]\n",
      "sample: 100%|██████████| 12500/12500 [00:02<00:00, 5083.64it/s, 3 steps of size 7.78e-01. acc. prob=0.86]\n",
      "sample: 100%|██████████| 12500/12500 [00:02<00:00, 5239.48it/s, 5 steps of size 7.24e-01. acc. prob=0.89]\n",
      "[I 2023-10-17 00:56:37,294] Trial 20 finished with value: 64.77257537841797 and parameters: {'I_y_mu': 0.015260531796477128, 'I_y_sigma': 0.2846177915178955, 'I_z_mu': 0.5560058120318128, 'I_z_sigma': 0.3566384752145626, 'Q_mu': 996621079691324.8, 'Q_sigma': 6451598.768464509, 'sigma_mu': 1.1524133523098672, 'sigma_sigma': 0.7391886539900312}. Best is trial 16 with value: 62.76990509033203.\n",
      "sample: 100%|██████████| 12500/12500 [00:04<00:00, 3044.69it/s, 3 steps of size 6.76e-01. acc. prob=0.91]\n",
      "sample: 100%|██████████| 12500/12500 [00:02<00:00, 5053.61it/s, 3 steps of size 7.56e-01. acc. prob=0.88]\n",
      "sample: 100%|██████████| 12500/12500 [00:02<00:00, 5029.64it/s, 7 steps of size 6.53e-01. acc. prob=0.92]\n",
      "[I 2023-10-17 00:56:48,056] Trial 21 finished with value: 62.750877380371094 and parameters: {'I_y_mu': 0.30191846529565614, 'I_y_sigma': 0.06456760501853945, 'I_z_mu': 0.2963538984046824, 'I_z_sigma': 0.5091182984307365, 'Q_mu': 783888001869129.8, 'Q_sigma': 4133890.8765920927, 'sigma_mu': 0.3484869403723395, 'sigma_sigma': 0.32632200568051106}. Best is trial 21 with value: 62.750877380371094.\n",
      "sample: 100%|██████████| 12500/12500 [00:04<00:00, 2852.51it/s, 15 steps of size 3.79e-01. acc. prob=0.92]\n",
      "sample: 100%|██████████| 12500/12500 [00:02<00:00, 4450.48it/s, 7 steps of size 3.55e-01. acc. prob=0.93] \n",
      "sample: 100%|██████████| 12500/12500 [00:02<00:00, 4539.78it/s, 7 steps of size 4.10e-01. acc. prob=0.90] \n",
      "[I 2023-10-17 00:56:59,781] Trial 22 finished with value: 102.8239974975586 and parameters: {'I_y_mu': 0.2675771795223407, 'I_y_sigma': 0.01556764866051115, 'I_z_mu': 0.25822068634712886, 'I_z_sigma': 0.7942227182367698, 'Q_mu': 715054341190887.0, 'Q_sigma': 4479933.915278723, 'sigma_mu': 0.37500721415372096, 'sigma_sigma': 0.3486789702620339}. Best is trial 21 with value: 62.750877380371094.\n",
      "sample: 100%|██████████| 12500/12500 [00:04<00:00, 3077.20it/s, 7 steps of size 6.48e-01. acc. prob=0.91]\n",
      "sample: 100%|██████████| 12500/12500 [00:02<00:00, 5147.48it/s, 3 steps of size 7.53e-01. acc. prob=0.86]\n",
      "sample: 100%|██████████| 12500/12500 [00:02<00:00, 5196.30it/s, 5 steps of size 7.28e-01. acc. prob=0.89]\n",
      "[I 2023-10-17 00:57:10,410] Trial 23 finished with value: 64.65679931640625 and parameters: {'I_y_mu': 0.23034375970700613, 'I_y_sigma': 0.21285808783891452, 'I_z_mu': 0.4828367937074581, 'I_z_sigma': 0.475886173173936, 'Q_mu': 860312389191762.0, 'Q_sigma': 3256268.085839502, 'sigma_mu': 0.3706819200296336, 'sigma_sigma': 0.5774418557600158}. Best is trial 21 with value: 62.750877380371094.\n",
      "sample: 100%|██████████| 12500/12500 [00:04<00:00, 2963.68it/s, 7 steps of size 6.35e-01. acc. prob=0.92]\n",
      "sample: 100%|██████████| 12500/12500 [00:02<00:00, 5237.28it/s, 7 steps of size 7.24e-01. acc. prob=0.88]\n",
      "sample: 100%|██████████| 12500/12500 [00:02<00:00, 5303.05it/s, 7 steps of size 6.38e-01. acc. prob=0.92]\n",
      "[I 2023-10-17 00:57:21,110] Trial 24 finished with value: 64.62909317016602 and parameters: {'I_y_mu': 0.37581083051414205, 'I_y_sigma': 0.4644584966153795, 'I_z_mu': 0.1742086857704636, 'I_z_sigma': 0.21402724865763156, 'Q_mu': 801242482752717.5, 'Q_sigma': 5245870.8712284565, 'sigma_mu': 0.49615553327071116, 'sigma_sigma': 0.37796863728349184}. Best is trial 21 with value: 62.750877380371094.\n",
      "sample: 100%|██████████| 12500/12500 [00:04<00:00, 3014.10it/s, 7 steps of size 6.26e-01. acc. prob=0.92]\n",
      "sample: 100%|██████████| 12500/12500 [00:02<00:00, 5226.31it/s, 7 steps of size 7.44e-01. acc. prob=0.87]\n",
      "sample: 100%|██████████| 12500/12500 [00:02<00:00, 5249.23it/s, 7 steps of size 6.66e-01. acc. prob=0.91]\n",
      "[I 2023-10-17 00:57:31,711] Trial 25 finished with value: 64.28445053100586 and parameters: {'I_y_mu': 0.20330459607921947, 'I_y_sigma': 0.1554617270929299, 'I_z_mu': 0.32397525283109047, 'I_z_sigma': 0.6710236951053725, 'Q_mu': 655108659823874.9, 'Q_sigma': 6034464.539212085, 'sigma_mu': 0.34277090761745327, 'sigma_sigma': 0.5596194897954708}. Best is trial 21 with value: 62.750877380371094.\n",
      "sample: 100%|██████████| 12500/12500 [00:04<00:00, 2989.51it/s, 3 steps of size 6.97e-01. acc. prob=0.90]\n",
      "sample: 100%|██████████| 12500/12500 [00:02<00:00, 5105.59it/s, 7 steps of size 6.75e-01. acc. prob=0.90]\n",
      "sample: 100%|██████████| 12500/12500 [00:02<00:00, 5236.04it/s, 5 steps of size 7.27e-01. acc. prob=0.89]\n",
      "[I 2023-10-17 00:57:42,443] Trial 26 finished with value: 64.64020156860352 and parameters: {'I_y_mu': 0.7090615914248155, 'I_y_sigma': 0.36586254893690284, 'I_z_mu': 0.02384836707715815, 'I_z_sigma': 0.5437090829872259, 'Q_mu': 737359648401052.8, 'Q_sigma': 4143010.3710070928, 'sigma_mu': 0.20061995355214193, 'sigma_sigma': 0.35562606507716477}. Best is trial 21 with value: 62.750877380371094.\n",
      "sample: 100%|██████████| 12500/12500 [00:04<00:00, 2911.29it/s, 7 steps of size 5.77e-01. acc. prob=0.93]\n",
      "sample: 100%|██████████| 12500/12500 [00:02<00:00, 4852.22it/s, 3 steps of size 6.23e-01. acc. prob=0.91]\n",
      "sample: 100%|██████████| 12500/12500 [00:02<00:00, 5050.39it/s, 3 steps of size 5.97e-01. acc. prob=0.92]\n",
      "[I 2023-10-17 00:57:53,486] Trial 27 finished with value: 60.728607177734375 and parameters: {'I_y_mu': 0.011370152586708482, 'I_y_sigma': 0.013019017260916997, 'I_z_mu': 0.22629013624411165, 'I_z_sigma': 0.189610107012003, 'Q_mu': 925872727870304.2, 'Q_sigma': 7012080.098030426, 'sigma_mu': 0.6100101825207407, 'sigma_sigma': 0.53881588316092}. Best is trial 27 with value: 60.728607177734375.\n",
      "sample: 100%|██████████| 12500/12500 [00:04<00:00, 3083.47it/s, 3 steps of size 6.42e-01. acc. prob=0.91]\n",
      "sample: 100%|██████████| 12500/12500 [00:02<00:00, 5205.26it/s, 7 steps of size 6.28e-01. acc. prob=0.90]\n",
      "sample: 100%|██████████| 12500/12500 [00:02<00:00, 5265.81it/s, 3 steps of size 6.34e-01. acc. prob=0.91]\n",
      "[I 2023-10-17 00:58:04,025] Trial 28 finished with value: 64.94977569580078 and parameters: {'I_y_mu': 0.41036742301348617, 'I_y_sigma': 0.19210825542108, 'I_z_mu': 0.6510216877760455, 'I_z_sigma': 0.20061317847316676, 'Q_mu': 913922045630984.2, 'Q_sigma': 7372345.711686426, 'sigma_mu': 0.6421342273458923, 'sigma_sigma': 0.7670938604755311}. Best is trial 27 with value: 60.728607177734375.\n",
      "sample: 100%|██████████| 12500/12500 [00:04<00:00, 2916.37it/s, 7 steps of size 5.81e-01. acc. prob=0.93]\n",
      "sample: 100%|██████████| 12500/12500 [00:02<00:00, 5208.00it/s, 7 steps of size 6.89e-01. acc. prob=0.89]\n",
      "sample: 100%|██████████| 12500/12500 [00:02<00:00, 5203.08it/s, 7 steps of size 6.64e-01. acc. prob=0.91]\n",
      "[I 2023-10-17 00:58:14,848] Trial 29 finished with value: 64.82359313964844 and parameters: {'I_y_mu': 1.8541611296507319, 'I_y_sigma': 0.5490816780034619, 'I_z_mu': 0.44156085559230507, 'I_z_sigma': 0.4389179785103261, 'Q_mu': 938999783678625.0, 'Q_sigma': 7764137.657363129, 'sigma_mu': 0.5533111309302086, 'sigma_sigma': 0.536198214452305}. Best is trial 27 with value: 60.728607177734375.\n",
      "sample: 100%|██████████| 12500/12500 [00:04<00:00, 3040.43it/s, 7 steps of size 6.55e-01. acc. prob=0.91]\n",
      "sample: 100%|██████████| 12500/12500 [00:02<00:00, 5254.88it/s, 7 steps of size 7.57e-01. acc. prob=0.87]\n",
      "sample: 100%|██████████| 12500/12500 [00:02<00:00, 5432.16it/s, 3 steps of size 8.17e-01. acc. prob=0.86]\n",
      "[I 2023-10-17 00:58:25,372] Trial 30 finished with value: 64.59215545654297 and parameters: {'I_y_mu': 0.23710172457072426, 'I_y_sigma': 0.31834410884466124, 'I_z_mu': 0.19256417923441504, 'I_z_sigma': 0.19261823485112795, 'Q_mu': 851326089437324.0, 'Q_sigma': 6599760.667512281, 'sigma_mu': 0.6975631278432872, 'sigma_sigma': 0.641924769514534}. Best is trial 27 with value: 60.728607177734375.\n",
      "sample: 100%|██████████| 12500/12500 [00:04<00:00, 2926.84it/s, 7 steps of size 4.99e-01. acc. prob=0.94]\n",
      "sample: 100%|██████████| 12500/12500 [00:02<00:00, 4996.92it/s, 3 steps of size 6.53e-01. acc. prob=0.89]\n",
      "sample: 100%|██████████| 12500/12500 [00:02<00:00, 4985.14it/s, 3 steps of size 6.03e-01. acc. prob=0.91]\n",
      "[I 2023-10-17 00:58:36,380] Trial 31 finished with value: 60.94213104248047 and parameters: {'I_y_mu': 0.023600227238617655, 'I_y_sigma': 0.014270574612345564, 'I_z_mu': 0.16815264180803532, 'I_z_sigma': 0.4562888911371906, 'Q_mu': 770927414117402.0, 'Q_sigma': 5027018.677815201, 'sigma_mu': 0.45169294563407925, 'sigma_sigma': 0.46801362386252277}. Best is trial 27 with value: 60.728607177734375.\n",
      "sample: 100%|██████████| 12500/12500 [00:04<00:00, 2877.13it/s, 7 steps of size 6.07e-01. acc. prob=0.93]\n",
      "sample: 100%|██████████| 12500/12500 [00:02<00:00, 4829.58it/s, 7 steps of size 6.57e-01. acc. prob=0.91]\n",
      "sample: 100%|██████████| 12500/12500 [00:02<00:00, 5248.13it/s, 5 steps of size 7.21e-01. acc. prob=0.89]\n",
      "[I 2023-10-17 00:58:47,440] Trial 32 finished with value: 64.31946182250977 and parameters: {'I_y_mu': 0.1862424891551275, 'I_y_sigma': 0.13749382511888786, 'I_z_mu': 0.31624387367067996, 'I_z_sigma': 0.41218521699674315, 'Q_mu': 936577439767161.9, 'Q_sigma': 5123931.070853526, 'sigma_mu': 0.41653399661492563, 'sigma_sigma': 0.510670617247178}. Best is trial 27 with value: 60.728607177734375.\n",
      "sample: 100%|██████████| 12500/12500 [00:04<00:00, 3064.59it/s, 7 steps of size 5.82e-01. acc. prob=0.94]\n",
      "sample: 100%|██████████| 12500/12500 [00:02<00:00, 5267.16it/s, 3 steps of size 7.20e-01. acc. prob=0.89]\n",
      "sample: 100%|██████████| 12500/12500 [00:02<00:00, 5290.40it/s, 3 steps of size 7.12e-01. acc. prob=0.90]\n",
      "[I 2023-10-17 00:58:57,992] Trial 33 finished with value: 62.843387603759766 and parameters: {'I_y_mu': 0.021874598947343782, 'I_y_sigma': 0.030549663887452616, 'I_z_mu': 0.38555654769969805, 'I_z_sigma': 0.2646106357405583, 'Q_mu': 864714370111805.2, 'Q_sigma': 6251018.136561219, 'sigma_mu': 0.48254407149153, 'sigma_sigma': 0.7895483213996821}. Best is trial 27 with value: 60.728607177734375.\n",
      "sample: 100%|██████████| 12500/12500 [00:04<00:00, 2930.23it/s, 3 steps of size 6.69e-01. acc. prob=0.91]\n",
      "sample: 100%|██████████| 12500/12500 [00:02<00:00, 5352.16it/s, 7 steps of size 7.12e-01. acc. prob=0.88]\n",
      "sample: 100%|██████████| 12500/12500 [00:02<00:00, 5381.08it/s, 5 steps of size 7.54e-01. acc. prob=0.88]\n",
      "[I 2023-10-17 00:59:08,642] Trial 34 finished with value: 64.41497802734375 and parameters: {'I_y_mu': 0.1611688495738721, 'I_y_sigma': 0.18549207752230037, 'I_z_mu': 0.16385006817349132, 'I_z_sigma': 0.069386465123353, 'Q_mu': 794080433031302.2, 'Q_sigma': 5669792.498848573, 'sigma_mu': 0.7893487937288868, 'sigma_sigma': 0.6070691580396743}. Best is trial 27 with value: 60.728607177734375.\n",
      "sample: 100%|██████████| 12500/12500 [00:04<00:00, 3018.22it/s, 3 steps of size 7.02e-01. acc. prob=0.89]\n",
      "sample: 100%|██████████| 12500/12500 [00:02<00:00, 5221.88it/s, 7 steps of size 7.00e-01. acc. prob=0.89]\n",
      "sample: 100%|██████████| 12500/12500 [00:02<00:00, 5328.95it/s, 5 steps of size 7.19e-01. acc. prob=0.89]\n",
      "[I 2023-10-17 00:59:19,282] Trial 35 finished with value: 64.51442337036133 and parameters: {'I_y_mu': 0.15147759081623238, 'I_y_sigma': 0.34022054825823933, 'I_z_mu': 0.4979785411935148, 'I_z_sigma': 0.5034404980599128, 'Q_mu': 888731471190223.6, 'Q_sigma': 6909394.79949677, 'sigma_mu': 0.9390145046576353, 'sigma_sigma': 0.3042324911938269}. Best is trial 27 with value: 60.728607177734375.\n",
      "sample: 100%|██████████| 12500/12500 [00:04<00:00, 3004.82it/s, 7 steps of size 6.59e-01. acc. prob=0.92]\n",
      "sample: 100%|██████████| 12500/12500 [00:02<00:00, 5246.11it/s, 7 steps of size 7.67e-01. acc. prob=0.87]\n",
      "sample: 100%|██████████| 12500/12500 [00:02<00:00, 5386.27it/s, 7 steps of size 7.11e-01. acc. prob=0.90]\n",
      "[I 2023-10-17 00:59:29,921] Trial 36 finished with value: 64.10548782348633 and parameters: {'I_y_mu': 0.4241791358490375, 'I_y_sigma': 0.14009033369836557, 'I_z_mu': 0.3115102198566641, 'I_z_sigma': 0.3110554852211338, 'Q_mu': 546326311669401.7, 'Q_sigma': 4830374.80454201, 'sigma_mu': 0.7057336697435876, 'sigma_sigma': 0.4413650017492577}. Best is trial 27 with value: 60.728607177734375.\n",
      "sample: 100%|██████████| 12500/12500 [00:04<00:00, 2980.68it/s, 7 steps of size 6.35e-01. acc. prob=0.91] \n",
      "sample: 100%|██████████| 12500/12500 [00:02<00:00, 5127.14it/s, 3 steps of size 7.80e-01. acc. prob=0.86]\n",
      "sample: 100%|██████████| 12500/12500 [00:02<00:00, 5326.72it/s, 7 steps of size 7.03e-01. acc. prob=0.90]\n",
      "[I 2023-10-17 00:59:40,673] Trial 37 finished with value: 64.71674346923828 and parameters: {'I_y_mu': 1.4070019887196499, 'I_y_sigma': 0.44226332543897096, 'I_z_mu': 0.15295058259703445, 'I_z_sigma': 0.12905534446843822, 'Q_mu': 757717407137405.6, 'Q_sigma': 8590743.74344938, 'sigma_mu': 0.31635749388665285, 'sigma_sigma': 0.8589725021209658}. Best is trial 27 with value: 60.728607177734375.\n",
      "sample: 100%|██████████| 12500/12500 [00:04<00:00, 2758.61it/s, 7 steps of size 2.21e-01. acc. prob=0.94] \n",
      "sample: 100%|██████████| 12500/12500 [00:02<00:00, 4719.39it/s, 7 steps of size 2.26e-01. acc. prob=0.93] \n",
      "sample: 100%|██████████| 12500/12500 [00:02<00:00, 4946.85it/s, 11 steps of size 2.57e-01. acc. prob=0.91]\n",
      "[I 2023-10-17 00:59:52,167] Trial 38 finished with value: 69.70779800415039 and parameters: {'I_y_mu': 0.1421443549057414, 'I_y_sigma': 1.0155889135650722, 'I_z_mu': 0.7761815203974749, 'I_z_sigma': 0.12674313533075204, 'Q_mu': 665995109802032.6, 'Q_sigma': 5853635.558075865, 'sigma_mu': 0.5473576788741382, 'sigma_sigma': 0.6801698342392212}. Best is trial 27 with value: 60.728607177734375.\n",
      "sample: 100%|██████████| 12500/12500 [00:04<00:00, 3030.56it/s, 7 steps of size 5.70e-01. acc. prob=0.93]\n",
      "sample: 100%|██████████| 12500/12500 [00:02<00:00, 5265.67it/s, 7 steps of size 6.85e-01. acc. prob=0.89]\n",
      "sample: 100%|██████████| 12500/12500 [00:02<00:00, 5259.84it/s, 3 steps of size 5.86e-01. acc. prob=0.93]\n",
      "[I 2023-10-17 01:00:02,803] Trial 39 finished with value: 64.8172607421875 and parameters: {'I_y_mu': 0.27292743938587516, 'I_y_sigma': 0.28384925011775153, 'I_z_mu': 0.5283056827733386, 'I_z_sigma': 0.2667665327687978, 'Q_mu': 843847656408670.6, 'Q_sigma': 3720218.0012505534, 'sigma_mu': 0.4331523105926735, 'sigma_sigma': 0.285744561292551}. Best is trial 27 with value: 60.728607177734375.\n",
      "sample: 100%|██████████| 12500/12500 [00:04<00:00, 2809.47it/s, 7 steps of size 5.28e-01. acc. prob=0.93]\n",
      "sample: 100%|██████████| 12500/12500 [00:02<00:00, 4881.43it/s, 7 steps of size 5.51e-01. acc. prob=0.93] \n",
      "sample: 100%|██████████| 12500/12500 [00:02<00:00, 5044.57it/s, 7 steps of size 6.31e-01. acc. prob=0.91]\n",
      "[I 2023-10-17 01:00:14,032] Trial 40 finished with value: 73.96688079833984 and parameters: {'I_y_mu': 0.1369784528515699, 'I_y_sigma': 0.02189144122197747, 'I_z_mu': 0.9120369259634689, 'I_z_sigma': 0.014984582018120585, 'Q_mu': 616685063721090.5, 'Q_sigma': 5174300.659724028, 'sigma_mu': 0.5810835064311588, 'sigma_sigma': 0.4571956402346095}. Best is trial 27 with value: 60.728607177734375.\n",
      "sample: 100%|██████████| 12500/12500 [00:04<00:00, 2987.19it/s, 3 steps of size 6.61e-01. acc. prob=0.91]\n",
      "sample: 100%|██████████| 12500/12500 [00:02<00:00, 4969.16it/s, 7 steps of size 7.61e-01. acc. prob=0.87]\n",
      "sample: 100%|██████████| 12500/12500 [00:02<00:00, 4888.27it/s, 7 steps of size 6.89e-01. acc. prob=0.90]\n",
      "[I 2023-10-17 01:00:25,143] Trial 41 finished with value: 64.42557525634766 and parameters: {'I_y_mu': 0.03923497328901547, 'I_y_sigma': 0.09855498657662617, 'I_z_mu': 0.426139539164086, 'I_z_sigma': 0.29442185065801796, 'Q_mu': 875729345163675.8, 'Q_sigma': 6287308.430062064, 'sigma_mu': 0.4564818435083009, 'sigma_sigma': 0.5462752171555514}. Best is trial 27 with value: 60.728607177734375.\n",
      "sample: 100%|██████████| 12500/12500 [00:04<00:00, 2865.88it/s, 7 steps of size 6.47e-01. acc. prob=0.91]\n",
      "sample: 100%|██████████| 12500/12500 [00:02<00:00, 4955.56it/s, 7 steps of size 6.69e-01. acc. prob=0.90]\n",
      "sample: 100%|██████████| 12500/12500 [00:02<00:00, 4978.01it/s, 7 steps of size 6.98e-01. acc. prob=0.90]\n",
      "[I 2023-10-17 01:00:36,332] Trial 42 finished with value: 64.63704681396484 and parameters: {'I_y_mu': 0.010370830758999194, 'I_y_sigma': 0.11626541372180704, 'I_z_mu': 0.279161347099022, 'I_z_sigma': 0.4169987612251591, 'Q_mu': 959558894410827.1, 'Q_sigma': 5607276.559136506, 'sigma_mu': 0.31020490399322226, 'sigma_sigma': 0.779840758979479}. Best is trial 27 with value: 60.728607177734375.\n",
      "sample: 100%|██████████| 12500/12500 [00:04<00:00, 2849.39it/s, 7 steps of size 6.54e-01. acc. prob=0.91]\n",
      "sample: 100%|██████████| 12500/12500 [00:02<00:00, 5041.40it/s, 7 steps of size 6.74e-01. acc. prob=0.90]\n",
      "sample: 100%|██████████| 12500/12500 [00:02<00:00, 5018.60it/s, 7 steps of size 6.92e-01. acc. prob=0.90]\n",
      "[I 2023-10-17 01:00:47,491] Trial 43 finished with value: 64.53743362426758 and parameters: {'I_y_mu': 0.12610729763187412, 'I_y_sigma': 0.22926710038644244, 'I_z_mu': 0.10850433752193159, 'I_z_sigma': 0.5657741199464654, 'Q_mu': 915561989027801.8, 'Q_sigma': 6875921.178071123, 'sigma_mu': 0.6958071591668833, 'sigma_sigma': 0.9717557238292776}. Best is trial 27 with value: 60.728607177734375.\n",
      "sample: 100%|██████████| 12500/12500 [00:04<00:00, 2905.67it/s, 7 steps of size 6.01e-01. acc. prob=0.93]\n",
      "sample: 100%|██████████| 12500/12500 [00:02<00:00, 4877.75it/s, 7 steps of size 7.07e-01. acc. prob=0.88] \n",
      "sample: 100%|██████████| 12500/12500 [00:02<00:00, 4964.22it/s, 7 steps of size 6.63e-01. acc. prob=0.91]\n",
      "[I 2023-10-17 01:00:58,678] Trial 44 finished with value: 64.68569564819336 and parameters: {'I_y_mu': 0.27335844692330613, 'I_y_sigma': 0.37793995359757404, 'I_z_mu': 0.378989371376488, 'I_z_sigma': 0.2524972171093376, 'Q_mu': 760131794715528.8, 'Q_sigma': 6305615.988824887, 'sigma_mu': 0.5305127856868438, 'sigma_sigma': 0.6011721886880141}. Best is trial 27 with value: 60.728607177734375.\n",
      "sample: 100%|██████████| 12500/12500 [00:05<00:00, 2491.61it/s, 15 steps of size 5.42e-01. acc. prob=0.92]\n",
      "sample: 100%|██████████| 12500/12500 [00:02<00:00, 4660.32it/s, 3 steps of size 5.62e-01. acc. prob=0.92]\n",
      "sample: 100%|██████████| 12500/12500 [00:02<00:00, 5078.55it/s, 3 steps of size 5.82e-01. acc. prob=0.91]\n",
      "[I 2023-10-17 01:01:10,620] Trial 45 finished with value: 61.426910400390625 and parameters: {'I_y_mu': 0.10410984077188319, 'I_y_sigma': 0.02148951779962747, 'I_z_mu': 0.13310064034481758, 'I_z_sigma': 0.13970398269391315, 'Q_mu': 837657443808478.4, 'Q_sigma': 7370252.329579968, 'sigma_mu': 0.3149191021784212, 'sigma_sigma': 0.4456578268145147}. Best is trial 27 with value: 60.728607177734375.\n",
      "sample: 100%|██████████| 12500/12500 [00:04<00:00, 2882.12it/s, 7 steps of size 6.09e-01. acc. prob=0.93]\n",
      "sample: 100%|██████████| 12500/12500 [00:02<00:00, 5052.33it/s, 7 steps of size 6.85e-01. acc. prob=0.90]\n",
      "sample: 100%|██████████| 12500/12500 [00:02<00:00, 5160.77it/s, 7 steps of size 6.91e-01. acc. prob=0.91]\n",
      "[I 2023-10-17 01:01:21,635] Trial 46 finished with value: 63.819454193115234 and parameters: {'I_y_mu': 0.3896129077333733, 'I_y_sigma': 0.11169758553149672, 'I_z_mu': 0.12790838475057595, 'I_z_sigma': 0.13687357304919773, 'Q_mu': 677619349667801.1, 'Q_sigma': 7349861.431186124, 'sigma_mu': 0.2961745925699168, 'sigma_sigma': 0.4356432445301566}. Best is trial 27 with value: 60.728607177734375.\n",
      "sample: 100%|██████████| 12500/12500 [00:04<00:00, 2968.24it/s, 7 steps of size 6.13e-01. acc. prob=0.92]\n",
      "sample: 100%|██████████| 12500/12500 [00:02<00:00, 4932.29it/s, 7 steps of size 6.84e-01. acc. prob=0.89]\n",
      "sample: 100%|██████████| 12500/12500 [00:02<00:00, 4627.02it/s, 7 steps of size 6.59e-01. acc. prob=0.91]\n",
      "[I 2023-10-17 01:01:32,925] Trial 47 finished with value: 64.55046081542969 and parameters: {'I_y_mu': 0.09070384501056479, 'I_y_sigma': 0.22030181224102216, 'I_z_mu': 0.24164873896031414, 'I_z_sigma': 0.4050246336432368, 'Q_mu': 774198260018441.6, 'Q_sigma': 7997014.1231534835, 'sigma_mu': 0.36781188257898134, 'sigma_sigma': 0.40573015791229494}. Best is trial 27 with value: 60.728607177734375.\n",
      "sample: 100%|██████████| 12500/12500 [00:04<00:00, 2898.22it/s, 7 steps of size 6.60e-01. acc. prob=0.91]\n",
      "sample: 100%|██████████| 12500/12500 [00:02<00:00, 4952.56it/s, 7 steps of size 7.01e-01. acc. prob=0.88]\n",
      "sample: 100%|██████████| 12500/12500 [00:02<00:00, 4888.23it/s, 3 steps of size 7.14e-01. acc. prob=0.89]\n",
      "[I 2023-10-17 01:01:44,128] Trial 48 finished with value: 61.09523391723633 and parameters: {'I_y_mu': 0.21438040604404368, 'I_y_sigma': 0.03467593967615597, 'I_z_mu': 0.03575337001672392, 'I_z_sigma': 0.5882199839303223, 'Q_mu': 823306356175158.0, 'Q_sigma': 2550366.313485163, 'sigma_mu': 0.2600991581729125, 'sigma_sigma': 0.2797846223987069}. Best is trial 27 with value: 60.728607177734375.\n",
      "sample: 100%|██████████| 12500/12500 [00:04<00:00, 2871.43it/s, 3 steps of size 6.62e-01. acc. prob=0.91]\n",
      "sample: 100%|██████████| 12500/12500 [00:02<00:00, 4455.95it/s, 7 steps of size 7.11e-01. acc. prob=0.88]\n",
      "sample: 100%|██████████| 12500/12500 [00:02<00:00, 5073.03it/s, 5 steps of size 7.22e-01. acc. prob=0.90]\n",
      "[I 2023-10-17 01:01:55,563] Trial 49 finished with value: 64.7170639038086 and parameters: {'I_y_mu': 0.18250599294144046, 'I_y_sigma': 0.32050279351545735, 'I_z_mu': 0.08990214951255057, 'I_z_sigma': 0.5866118032961275, 'Q_mu': 820460997712265.8, 'Q_sigma': 2635267.2298659403, 'sigma_mu': 0.4034327128237393, 'sigma_sigma': 0.27299105792908723}. Best is trial 27 with value: 60.728607177734375.\n",
      "sample: 100%|██████████| 12500/12500 [00:05<00:00, 2251.11it/s, 62 steps of size 2.47e-02. acc. prob=0.96] \n",
      "sample: 100%|██████████| 12500/12500 [00:02<00:00, 4318.84it/s, 3 steps of size 7.47e-02. acc. prob=0.87] \n",
      "sample: 100%|██████████| 12500/12500 [00:02<00:00, 4502.73it/s, 3 steps of size 1.43e-01. acc. prob=0.85] \n",
      "[I 2023-10-17 01:02:08,597] Trial 50 finished with value: 200.2372589111328 and parameters: {'I_y_mu': 0.10141431666145223, 'I_y_sigma': 0.011393940909081295, 'I_z_mu': 0.037915077922578, 'I_z_sigma': 0.4747834273805206, 'Q_mu': 970091619848118.4, 'Q_sigma': 2434334.3551537483, 'sigma_mu': 0.28297104015590246, 'sigma_sigma': 0.29647971715553395}. Best is trial 27 with value: 60.728607177734375.\n",
      "sample: 100%|██████████| 12500/12500 [00:04<00:00, 2990.60it/s, 3 steps of size 6.73e-01. acc. prob=0.91]\n",
      "sample: 100%|██████████| 12500/12500 [00:02<00:00, 4932.04it/s, 3 steps of size 7.52e-01. acc. prob=0.88]\n",
      "sample: 100%|██████████| 12500/12500 [00:02<00:00, 5029.54it/s, 3 steps of size 7.09e-01. acc. prob=0.90]\n",
      "[I 2023-10-17 01:02:19,578] Trial 51 finished with value: 63.34488296508789 and parameters: {'I_y_mu': 0.30233798407054313, 'I_y_sigma': 0.08217762773999437, 'I_z_mu': 0.13397504631574378, 'I_z_sigma': 0.34843200038903577, 'Q_mu': 706693819406625.0, 'Q_sigma': 3606050.856429218, 'sigma_mu': 0.23754655275619346, 'sigma_sigma': 0.5012538487092394}. Best is trial 27 with value: 60.728607177734375.\n",
      "sample: 100%|██████████| 12500/12500 [00:04<00:00, 2829.56it/s, 7 steps of size 6.37e-01. acc. prob=0.92]\n",
      "sample: 100%|██████████| 12500/12500 [00:02<00:00, 4820.52it/s, 7 steps of size 6.54e-01. acc. prob=0.91]\n",
      "sample: 100%|██████████| 12500/12500 [00:02<00:00, 4964.63it/s, 7 steps of size 6.61e-01. acc. prob=0.91]\n",
      "[I 2023-10-17 01:02:30,921] Trial 52 finished with value: 64.32404708862305 and parameters: {'I_y_mu': 0.45308750026509864, 'I_y_sigma': 0.16606401168978852, 'I_z_mu': 0.21683053791267132, 'I_z_sigma': 0.5331041566792737, 'Q_mu': 823733718090931.2, 'Q_sigma': 4942380.304330451, 'sigma_mu': 0.27385990175302194, 'sigma_sigma': 0.3770810721047727}. Best is trial 27 with value: 60.728607177734375.\n",
      "sample: 100%|██████████| 12500/12500 [00:04<00:00, 2806.81it/s, 3 steps of size 5.65e-01. acc. prob=0.94]\n",
      "sample: 100%|██████████| 12500/12500 [00:02<00:00, 4698.01it/s, 7 steps of size 7.35e-01. acc. prob=0.88]\n",
      "sample: 100%|██████████| 12500/12500 [00:02<00:00, 4961.15it/s, 3 steps of size 6.83e-01. acc. prob=0.91]\n",
      "[I 2023-10-17 01:02:42,626] Trial 53 finished with value: 63.64469528198242 and parameters: {'I_y_mu': 0.24520293164094045, 'I_y_sigma': 0.09018375066629755, 'I_z_mu': 0.014363537825002784, 'I_z_sigma': 0.5915553846723979, 'Q_mu': 897499618750525.5, 'Q_sigma': 4716112.230708815, 'sigma_mu': 0.35340164564872245, 'sigma_sigma': 0.2114720284385112}. Best is trial 27 with value: 60.728607177734375.\n",
      "sample: 100%|██████████| 12500/12500 [00:04<00:00, 2862.15it/s, 3 steps of size 6.66e-01. acc. prob=0.91]\n",
      "sample: 100%|██████████| 12500/12500 [00:02<00:00, 4787.00it/s, 7 steps of size 6.37e-01. acc. prob=0.91]\n",
      "sample: 100%|██████████| 12500/12500 [00:02<00:00, 4758.13it/s, 5 steps of size 7.43e-01. acc. prob=0.88]\n",
      "[I 2023-10-17 01:02:54,087] Trial 54 finished with value: 64.56910705566406 and parameters: {'I_y_mu': 0.561536548389828, 'I_y_sigma': 0.2695057961978522, 'I_z_mu': 0.2730223693978435, 'I_z_sigma': 0.37952170305167426, 'Q_mu': 769777956047795.8, 'Q_sigma': 4410710.398857732, 'sigma_mu': 0.4218895492569976, 'sigma_sigma': 0.47647255675122163}. Best is trial 27 with value: 60.728607177734375.\n",
      "sample: 100%|██████████| 12500/12500 [00:04<00:00, 2584.44it/s, 3 steps of size 8.55e-02. acc. prob=0.88] \n",
      "sample: 100%|██████████| 12500/12500 [00:03<00:00, 3844.68it/s, 19 steps of size 5.02e-02. acc. prob=0.90] \n",
      "sample: 100%|██████████| 12500/12500 [00:02<00:00, 4651.49it/s, 3 steps of size 1.30e-01. acc. prob=0.86] \n",
      "[I 2023-10-17 01:03:06,794] Trial 55 finished with value: 200.59666442871094 and parameters: {'I_y_mu': 0.09548111792490435, 'I_y_sigma': 0.011317561123645058, 'I_z_mu': 0.09367560686387397, 'I_z_sigma': 0.7636241953670326, 'Q_mu': 828171519416263.5, 'Q_sigma': 5348377.224396988, 'sigma_mu': 0.20367990048621393, 'sigma_sigma': 0.35201071848267196}. Best is trial 27 with value: 60.728607177734375.\n",
      "sample: 100%|██████████| 12500/12500 [00:04<00:00, 2741.23it/s, 3 steps of size 6.50e-01. acc. prob=0.91] \n",
      "sample: 100%|██████████| 12500/12500 [00:02<00:00, 4772.24it/s, 7 steps of size 6.29e-01. acc. prob=0.91]\n",
      "sample: 100%|██████████| 12500/12500 [00:02<00:00, 4996.06it/s, 5 steps of size 6.99e-01. acc. prob=0.90]\n",
      "[I 2023-10-17 01:03:18,374] Trial 56 finished with value: 64.6292495727539 and parameters: {'I_y_mu': 0.3288445220164586, 'I_y_sigma': 0.20262597159484647, 'I_z_mu': 0.3851831596191159, 'I_z_sigma': 0.6332391869188336, 'Q_mu': 997333800205360.9, 'Q_sigma': 3875053.9070085506, 'sigma_mu': 0.4791091590820493, 'sigma_sigma': 0.2661729702290714}. Best is trial 27 with value: 60.728607177734375.\n",
      "sample: 100%|██████████| 12500/12500 [00:04<00:00, 2765.17it/s, 3 steps of size 5.82e-01. acc. prob=0.93]\n",
      "sample: 100%|██████████| 12500/12500 [00:02<00:00, 4829.87it/s, 7 steps of size 6.66e-01. acc. prob=0.91]\n",
      "sample: 100%|██████████| 12500/12500 [00:02<00:00, 5125.77it/s, 5 steps of size 7.56e-01. acc. prob=0.88]\n",
      "[I 2023-10-17 01:03:29,683] Trial 57 finished with value: 63.91887664794922 and parameters: {'I_y_mu': 0.08686960180325735, 'I_y_sigma': 0.0850479890951075, 'I_z_mu': 0.18083497478656405, 'I_z_sigma': 0.17262387928111095, 'Q_mu': 699122661904506.0, 'Q_sigma': 5960225.567536339, 'sigma_mu': 0.28229258916451583, 'sigma_sigma': 0.41653587275824494}. Best is trial 27 with value: 60.728607177734375.\n",
      "sample: 100%|██████████| 12500/12500 [00:04<00:00, 2839.68it/s, 7 steps of size 6.34e-01. acc. prob=0.91]\n",
      "sample: 100%|██████████| 12500/12500 [00:02<00:00, 4869.80it/s, 7 steps of size 6.76e-01. acc. prob=0.88]\n",
      "sample: 100%|██████████| 12500/12500 [00:02<00:00, 4997.34it/s, 7 steps of size 7.36e-01. acc. prob=0.87]\n",
      "[I 2023-10-17 01:03:40,946] Trial 58 finished with value: 65.6415023803711 and parameters: {'I_y_mu': 0.36321109202462587, 'I_y_sigma': 0.4154983996964293, 'I_z_mu': 0.33732122998379055, 'I_z_sigma': 0.08012920359800041, 'Q_mu': 732702354973562.0, 'Q_sigma': 2872204.260215647, 'sigma_mu': 0.36959807060611816, 'sigma_sigma': 0.549039070886161}. Best is trial 27 with value: 60.728607177734375.\n",
      "sample: 100%|██████████| 12500/12500 [00:04<00:00, 2765.84it/s, 7 steps of size 7.72e-01. acc. prob=0.87]\n",
      "sample: 100%|██████████| 12500/12500 [00:02<00:00, 4683.24it/s, 7 steps of size 6.87e-01. acc. prob=0.90]\n",
      "sample: 100%|██████████| 12500/12500 [00:02<00:00, 4997.88it/s, 5 steps of size 7.38e-01. acc. prob=0.89]\n",
      "[I 2023-10-17 01:03:52,412] Trial 59 finished with value: 64.49258422851562 and parameters: {'I_y_mu': 0.21101923912968024, 'I_y_sigma': 0.17678224491132796, 'I_z_mu': 0.4678136202727603, 'I_z_sigma': 0.4691151426018557, 'Q_mu': 850751640870483.6, 'Q_sigma': 3416469.5151892686, 'sigma_mu': 0.6104540632907258, 'sigma_sigma': 0.31863783114487676}. Best is trial 27 with value: 60.728607177734375.\n",
      "sample: 100%|██████████| 12500/12500 [00:04<00:00, 2691.16it/s, 3 steps of size 6.72e-01. acc. prob=0.91]\n",
      "sample: 100%|██████████| 12500/12500 [00:02<00:00, 4833.35it/s, 7 steps of size 7.17e-01. acc. prob=0.88]\n",
      "sample: 100%|██████████| 12500/12500 [00:02<00:00, 4993.75it/s, 5 steps of size 7.39e-01. acc. prob=0.88]\n",
      "[I 2023-10-17 01:04:03,945] Trial 60 finished with value: 64.55824661254883 and parameters: {'I_y_mu': 0.564185653456162, 'I_y_sigma': 0.2687964427619687, 'I_z_mu': 0.011348863158877225, 'I_z_sigma': 0.22016500256198068, 'Q_mu': 938987375613322.8, 'Q_sigma': 4149281.0028363997, 'sigma_mu': 0.5378155125033792, 'sigma_sigma': 0.20225394530149857}. Best is trial 27 with value: 60.728607177734375.\n",
      "sample: 100%|██████████| 12500/12500 [00:04<00:00, 2858.50it/s, 3 steps of size 5.79e-01. acc. prob=0.93]\n",
      "sample: 100%|██████████| 12500/12500 [00:02<00:00, 4899.71it/s, 7 steps of size 6.99e-01. acc. prob=0.90]\n",
      "sample: 100%|██████████| 12500/12500 [00:02<00:00, 5068.57it/s, 7 steps of size 6.44e-01. acc. prob=0.92]\n",
      "[I 2023-10-17 01:04:15,111] Trial 61 finished with value: 63.75952911376953 and parameters: {'I_y_mu': 0.04552553316292768, 'I_y_sigma': 0.06080642013289349, 'I_z_mu': 0.23834103986363694, 'I_z_sigma': 0.27501101681469564, 'Q_mu': 879102314104200.4, 'Q_sigma': 5510152.077896289, 'sigma_mu': 0.4562480523032638, 'sigma_sigma': 0.7068406300987949}. Best is trial 27 with value: 60.728607177734375.\n",
      "sample: 100%|██████████| 12500/12500 [00:04<00:00, 2865.49it/s, 7 steps of size 6.04e-01. acc. prob=0.93]\n",
      "sample: 100%|██████████| 12500/12500 [00:02<00:00, 4691.19it/s, 7 steps of size 6.36e-01. acc. prob=0.92]\n",
      "sample: 100%|██████████| 12500/12500 [00:02<00:00, 4735.91it/s, 7 steps of size 6.75e-01. acc. prob=0.91]\n",
      "[I 2023-10-17 01:04:26,601] Trial 62 finished with value: 64.01739120483398 and parameters: {'I_y_mu': 0.023906113200961147, 'I_y_sigma': 0.06131477984404064, 'I_z_mu': 0.10111204183391073, 'I_z_sigma': 0.3322455803963398, 'Q_mu': 797811322906162.1, 'Q_sigma': 6106750.272063417, 'sigma_mu': 0.4955429421662736, 'sigma_sigma': 0.639771966891911}. Best is trial 27 with value: 60.728607177734375.\n",
      "sample: 100%|██████████| 12500/12500 [00:04<00:00, 2827.37it/s, 3 steps of size 6.61e-01. acc. prob=0.91]\n",
      "sample: 100%|██████████| 12500/12500 [00:02<00:00, 4697.28it/s, 7 steps of size 6.30e-01. acc. prob=0.92]\n",
      "sample: 100%|██████████| 12500/12500 [00:02<00:00, 4848.83it/s, 7 steps of size 6.62e-01. acc. prob=0.91]\n",
      "[I 2023-10-17 01:04:38,081] Trial 63 finished with value: 64.14551162719727 and parameters: {'I_y_mu': 0.20989233914959063, 'I_y_sigma': 0.11901805276684803, 'I_z_mu': 0.366080703008492, 'I_z_sigma': 0.2665211790654636, 'Q_mu': 870441378860465.8, 'Q_sigma': 6775503.219919806, 'sigma_mu': 0.3585113975146116, 'sigma_sigma': 0.4844535220118786}. Best is trial 27 with value: 60.728607177734375.\n",
      "sample: 100%|██████████| 12500/12500 [00:04<00:00, 2879.70it/s, 3 steps of size 6.68e-01. acc. prob=0.91]\n",
      "sample: 100%|██████████| 12500/12500 [00:02<00:00, 4779.79it/s, 7 steps of size 6.08e-01. acc. prob=0.92]\n",
      "sample: 100%|██████████| 12500/12500 [00:02<00:00, 4895.43it/s, 5 steps of size 7.36e-01. acc. prob=0.89]\n",
      "[I 2023-10-17 01:04:49,389] Trial 64 finished with value: 64.48504257202148 and parameters: {'I_y_mu': 0.08673128702404154, 'I_y_sigma': 0.1601094085870405, 'I_z_mu': 0.1970104545731394, 'I_z_sigma': 0.43528462039783467, 'Q_mu': 916186517158940.9, 'Q_sigma': 6179792.452799838, 'sigma_mu': 0.26620270207878854, 'sigma_sigma': 0.5927726899078944}. Best is trial 27 with value: 60.728607177734375.\n",
      "sample: 100%|██████████| 12500/12500 [00:04<00:00, 2802.27it/s, 3 steps of size 5.48e-01. acc. prob=0.93]\n",
      "sample: 100%|██████████| 12500/12500 [00:02<00:00, 4745.95it/s, 3 steps of size 6.08e-01. acc. prob=0.90]\n",
      "sample: 100%|██████████| 12500/12500 [00:02<00:00, 4747.42it/s, 3 steps of size 6.37e-01. acc. prob=0.90] \n",
      "[I 2023-10-17 01:05:00,924] Trial 65 finished with value: 61.73098373413086 and parameters: {'I_y_mu': 0.17351978499099635, 'I_y_sigma': 0.03426278572750087, 'I_z_mu': 0.2805572814069884, 'I_z_sigma': 0.07531464889552311, 'Q_mu': 836621449774515.5, 'Q_sigma': 6548989.42346102, 'sigma_mu': 0.41155037704559017, 'sigma_sigma': 0.34916224670647394}. Best is trial 27 with value: 60.728607177734375.\n",
      "sample: 100%|██████████| 12500/12500 [00:04<00:00, 2736.59it/s, 7 steps of size 5.60e-01. acc. prob=0.92]\n",
      "sample: 100%|██████████| 12500/12500 [00:02<00:00, 4740.84it/s, 7 steps of size 6.10e-01. acc. prob=0.89]\n",
      "sample: 100%|██████████| 12500/12500 [00:02<00:00, 4653.27it/s, 3 steps of size 5.72e-01. acc. prob=0.91]\n",
      "[I 2023-10-17 01:05:12,629] Trial 66 finished with value: 66.76316452026367 and parameters: {'I_y_mu': 0.3238094782331339, 'I_y_sigma': 0.23877316791151895, 'I_z_mu': 0.29896332105307677, 'I_z_sigma': 0.04955382444466201, 'Q_mu': 743584188730997.5, 'Q_sigma': 6581463.934091163, 'sigma_mu': 0.399384935385415, 'sigma_sigma': 0.4131447361551411}. Best is trial 27 with value: 60.728607177734375.\n",
      "sample: 100%|██████████| 12500/12500 [00:04<00:00, 2863.24it/s, 3 steps of size 7.14e-01. acc. prob=0.89]\n",
      "sample: 100%|██████████| 12500/12500 [00:02<00:00, 4720.45it/s, 7 steps of size 7.59e-01. acc. prob=0.86]\n",
      "sample: 100%|██████████| 12500/12500 [00:02<00:00, 4880.04it/s, 5 steps of size 7.44e-01. acc. prob=0.88]\n",
      "[I 2023-10-17 01:05:24,010] Trial 67 finished with value: 64.95001983642578 and parameters: {'I_y_mu': 0.24699077385897303, 'I_y_sigma': 0.3385050099083119, 'I_z_mu': 0.43813410722505275, 'I_z_sigma': 0.1684342009017914, 'Q_mu': 784589680723551.4, 'Q_sigma': 7254978.662352937, 'sigma_mu': 0.3202899121850806, 'sigma_sigma': 0.34571132315713965}. Best is trial 27 with value: 60.728607177734375.\n",
      "sample: 100%|██████████| 12500/12500 [00:04<00:00, 2833.93it/s, 7 steps of size 7.48e-01. acc. prob=0.89]\n",
      "sample: 100%|██████████| 12500/12500 [00:02<00:00, 4758.87it/s, 3 steps of size 7.23e-01. acc. prob=0.89]\n",
      "sample: 100%|██████████| 12500/12500 [00:02<00:00, 4795.35it/s, 3 steps of size 7.05e-01. acc. prob=0.90]\n",
      "[I 2023-10-17 01:05:35,458] Trial 68 finished with value: 63.078590393066406 and parameters: {'I_y_mu': 0.16775515365210447, 'I_y_sigma': 0.06686089438144899, 'I_z_mu': 0.08807083475208925, 'I_z_sigma': 0.11351414326886222, 'Q_mu': 831347824736432.1, 'Q_sigma': 4515934.43268373, 'sigma_mu': 0.2332204405583237, 'sigma_sigma': 0.24534918626051017}. Best is trial 27 with value: 60.728607177734375.\n",
      "sample: 100%|██████████| 12500/12500 [00:04<00:00, 2673.49it/s, 7 steps of size 3.28e-01. acc. prob=0.95] \n",
      "sample: 100%|██████████| 12500/12500 [00:02<00:00, 4436.90it/s, 7 steps of size 4.45e-01. acc. prob=0.90]\n",
      "sample: 100%|██████████| 12500/12500 [00:02<00:00, 4333.42it/s, 15 steps of size 4.01e-01. acc. prob=0.93]\n",
      "[I 2023-10-17 01:05:47,662] Trial 69 finished with value: 136.23077392578125 and parameters: {'I_y_mu': 0.2940219620041736, 'I_y_sigma': 0.013163254412471584, 'I_z_mu': 0.18100213211006666, 'I_z_sigma': 0.019649742747532062, 'Q_mu': 691871399956416.2, 'Q_sigma': 5079252.7028974, 'sigma_mu': 0.5806699750507933, 'sigma_sigma': 0.38338718780842207}. Best is trial 27 with value: 60.728607177734375.\n",
      "sample: 100%|██████████| 12500/12500 [00:04<00:00, 2888.71it/s, 3 steps of size 7.02e-01. acc. prob=0.90]\n",
      "sample: 100%|██████████| 12500/12500 [00:02<00:00, 4879.07it/s, 7 steps of size 7.61e-01. acc. prob=0.87]\n",
      "sample: 100%|██████████| 12500/12500 [00:02<00:00, 4848.97it/s, 5 steps of size 7.32e-01. acc. prob=0.89]\n",
      "[I 2023-10-17 01:05:58,922] Trial 70 finished with value: 64.36431121826172 and parameters: {'I_y_mu': 0.1893930824383369, 'I_y_sigma': 0.15843158266483, 'I_z_mu': 0.27728899280321606, 'I_z_sigma': 0.3406597349455839, 'Q_mu': 810497634675276.9, 'Q_sigma': 5594883.025533072, 'sigma_mu': 0.4237337113025414, 'sigma_sigma': 0.5116907782155942}. Best is trial 27 with value: 60.728607177734375.\n",
      "sample: 100%|██████████| 12500/12500 [00:05<00:00, 2287.43it/s, 15 steps of size 1.54e-01. acc. prob=0.96]\n",
      "sample: 100%|██████████| 12500/12500 [00:17<00:00, 707.43it/s, 1023 steps of size 3.27e-02. acc. prob=0.92]\n",
      "sample: 100%|██████████| 12500/12500 [00:03<00:00, 3381.56it/s, 15 steps of size 5.51e-02. acc. prob=0.93]\n",
      "[I 2023-10-17 01:06:27,598] Trial 71 finished with value: 116.21021270751953 and parameters: {'I_y_mu': 0.061915901384939145, 'I_y_sigma': 0.012291227675292279, 'I_z_mu': 0.4141011236041238, 'I_z_sigma': 0.22887983106162157, 'Q_mu': 857267288418908.4, 'Q_sigma': 7095055.102845608, 'sigma_mu': 0.4886375994845107, 'sigma_sigma': 0.46647699743962506}. Best is trial 27 with value: 60.728607177734375.\n",
      "sample: 100%|██████████| 12500/12500 [00:04<00:00, 2789.93it/s, 7 steps of size 6.37e-01. acc. prob=0.92]\n",
      "sample: 100%|██████████| 12500/12500 [00:02<00:00, 4728.82it/s, 7 steps of size 7.12e-01. acc. prob=0.88]\n",
      "sample: 100%|██████████| 12500/12500 [00:02<00:00, 4808.23it/s, 3 steps of size 6.17e-01. acc. prob=0.92]\n",
      "[I 2023-10-17 01:06:39,175] Trial 72 finished with value: 64.6385498046875 and parameters: {'I_y_mu': 0.013559674465294047, 'I_y_sigma': 0.08653149328045143, 'I_z_mu': 0.34538335092206135, 'I_z_sigma': 0.17878499335492148, 'Q_mu': 896723848210733.0, 'Q_sigma': 6587017.8289002655, 'sigma_mu': 0.3341775307980589, 'sigma_sigma': 0.31992956223869884}. Best is trial 27 with value: 60.728607177734375.\n",
      "sample: 100%|██████████| 12500/12500 [00:04<00:00, 2787.67it/s, 7 steps of size 3.34e-01. acc. prob=0.91] \n",
      "sample: 100%|██████████| 12500/12500 [00:02<00:00, 4467.80it/s, 7 steps of size 2.83e-01. acc. prob=0.93] \n",
      "sample: 100%|██████████| 12500/12500 [00:02<00:00, 4562.55it/s, 15 steps of size 3.04e-01. acc. prob=0.92]\n",
      "[I 2023-10-17 01:06:51,022] Trial 73 finished with value: 69.56372451782227 and parameters: {'I_y_mu': 0.12984017835420725, 'I_y_sigma': 0.14253683851077636, 'I_z_mu': 0.5511774537782997, 'I_z_sigma': 0.0895423193150206, 'Q_mu': 765020118809235.2, 'Q_sigma': 5832047.353530173, 'sigma_mu': 0.2524879764268334, 'sigma_sigma': 0.5586117567194536}. Best is trial 27 with value: 60.728607177734375.\n",
      "sample: 100%|██████████| 12500/12500 [00:04<00:00, 2643.89it/s, 7 steps of size 5.93e-01. acc. prob=0.93]\n",
      "sample: 100%|██████████| 12500/12500 [00:02<00:00, 4593.68it/s, 7 steps of size 6.56e-01. acc. prob=0.91]\n",
      "sample: 100%|██████████| 12500/12500 [00:02<00:00, 4696.37it/s, 7 steps of size 6.84e-01. acc. prob=0.91]\n",
      "[I 2023-10-17 01:07:02,963] Trial 74 finished with value: 64.51520919799805 and parameters: {'I_y_mu': 0.1388421640976155, 'I_y_sigma': 0.21564831250447053, 'I_z_mu': 0.15370164520774426, 'I_z_sigma': 0.5156330485150507, 'Q_mu': 873141772759392.8, 'Q_sigma': 5376375.061381346, 'sigma_mu': 0.5184806919819456, 'sigma_sigma': 0.40182936476140074}. Best is trial 27 with value: 60.728607177734375.\n",
      "sample: 100%|██████████| 12500/12500 [00:04<00:00, 2766.51it/s, 3 steps of size 6.06e-01. acc. prob=0.93]\n",
      "sample: 100%|██████████| 12500/12500 [00:02<00:00, 4571.99it/s, 7 steps of size 6.80e-01. acc. prob=0.91]\n",
      "sample: 100%|██████████| 12500/12500 [00:02<00:00, 4749.36it/s, 3 steps of size 7.04e-01. acc. prob=0.90]\n",
      "[I 2023-10-17 01:07:14,721] Trial 75 finished with value: 62.369319915771484 and parameters: {'I_y_mu': 0.2404397942203854, 'I_y_sigma': 0.05572308479218041, 'I_z_mu': 0.2371956299258506, 'I_z_sigma': 0.38809958430454516, 'Q_mu': 843873454630544.4, 'Q_sigma': 6233602.50179819, 'sigma_mu': 0.4577477660318544, 'sigma_sigma': 0.6096138770359313}. Best is trial 27 with value: 60.728607177734375.\n",
      "sample: 100%|██████████| 12500/12500 [00:04<00:00, 2872.05it/s, 3 steps of size 6.57e-01. acc. prob=0.91]\n",
      "sample: 100%|██████████| 12500/12500 [00:02<00:00, 4835.24it/s, 7 steps of size 6.59e-01. acc. prob=0.91]\n",
      "sample: 100%|██████████| 12500/12500 [00:02<00:00, 4850.27it/s, 5 steps of size 7.40e-01. acc. prob=0.89]\n",
      "[I 2023-10-17 01:07:26,028] Trial 76 finished with value: 64.55916976928711 and parameters: {'I_y_mu': 0.3559770610726807, 'I_y_sigma': 0.29334663803520505, 'I_z_mu': 0.23600944351839984, 'I_z_sigma': 0.38487054315913505, 'Q_mu': 728018601870166.2, 'Q_sigma': 6425359.106175882, 'sigma_mu': 0.325960021469629, 'sigma_sigma': 0.6331398941710489}. Best is trial 27 with value: 60.728607177734375.\n",
      "sample: 100%|██████████| 12500/12500 [00:04<00:00, 2853.78it/s, 3 steps of size 6.37e-01. acc. prob=0.92]\n",
      "sample: 100%|██████████| 12500/12500 [00:02<00:00, 4480.22it/s, 7 steps of size 6.82e-01. acc. prob=0.91]\n",
      "sample: 100%|██████████| 12500/12500 [00:02<00:00, 4567.71it/s, 7 steps of size 6.54e-01. acc. prob=0.91]\n",
      "[I 2023-10-17 01:07:37,771] Trial 77 finished with value: 62.89108657836914 and parameters: {'I_y_mu': 0.2180324696417555, 'I_y_sigma': 0.06585896834994853, 'I_z_mu': 0.05416913800294749, 'I_z_sigma': 0.44073822410804964, 'Q_mu': 835534610739525.4, 'Q_sigma': 7566107.641130726, 'sigma_mu': 0.3938417414726081, 'sigma_sigma': 0.5299170676701476}. Best is trial 27 with value: 60.728607177734375.\n",
      "sample: 100%|██████████| 12500/12500 [00:04<00:00, 2788.86it/s, 7 steps of size 6.40e-01. acc. prob=0.92]\n",
      "sample: 100%|██████████| 12500/12500 [00:02<00:00, 4652.81it/s, 7 steps of size 6.91e-01. acc. prob=0.89]\n",
      "sample: 100%|██████████| 12500/12500 [00:02<00:00, 4736.80it/s, 5 steps of size 6.27e-01. acc. prob=0.92]\n",
      "[I 2023-10-17 01:07:49,402] Trial 78 finished with value: 64.22115325927734 and parameters: {'I_y_mu': 0.26437677586030106, 'I_y_sigma': 0.15076031327092185, 'I_z_mu': 0.13911651731536367, 'I_z_sigma': 0.30558822078578046, 'Q_mu': 795291390808145.0, 'Q_sigma': 5997647.251586851, 'sigma_mu': 0.45503217445444594, 'sigma_sigma': 0.23837590994476787}. Best is trial 27 with value: 60.728607177734375.\n",
      "sample: 100%|██████████| 12500/12500 [00:04<00:00, 2814.35it/s, 7 steps of size 6.19e-01. acc. prob=0.92]\n",
      "sample: 100%|██████████| 12500/12500 [00:02<00:00, 4670.06it/s, 7 steps of size 7.06e-01. acc. prob=0.89] \n",
      "sample: 100%|██████████| 12500/12500 [00:02<00:00, 4830.79it/s, 7 steps of size 6.95e-01. acc. prob=0.90]\n",
      "[I 2023-10-17 01:08:00,954] Trial 79 finished with value: 63.94142150878906 and parameters: {'I_y_mu': 0.4410801930054936, 'I_y_sigma': 0.11946401709783722, 'I_z_mu': 0.30843600733775217, 'I_z_sigma': 0.631455794670848, 'Q_mu': 959468210241106.2, 'Q_sigma': 6964127.542775703, 'sigma_mu': 0.6334757565583269, 'sigma_sigma': 0.33439241781894735}. Best is trial 27 with value: 60.728607177734375.\n",
      "sample: 100%|██████████| 12500/12500 [00:04<00:00, 2734.90it/s, 3 steps of size 6.44e-01. acc. prob=0.91]\n",
      "sample: 100%|██████████| 12500/12500 [00:02<00:00, 4652.20it/s, 3 steps of size 6.97e-01. acc. prob=0.88]\n",
      "sample: 100%|██████████| 12500/12500 [00:02<00:00, 4715.39it/s, 7 steps of size 6.66e-01. acc. prob=0.90]\n",
      "[I 2023-10-17 01:08:12,734] Trial 80 finished with value: 65.87743759155273 and parameters: {'I_y_mu': 0.1683013439874711, 'I_y_sigma': 0.22044520181183214, 'I_z_mu': 0.2110508959406752, 'I_z_sigma': 0.21260035707640187, 'Q_mu': 923629153089784.1, 'Q_sigma': 1397068.2223324745, 'sigma_mu': 0.2101460781259661, 'sigma_sigma': 0.4391711759838641}. Best is trial 27 with value: 60.728607177734375.\n",
      "sample: 100%|██████████| 12500/12500 [00:04<00:00, 2729.30it/s, 7 steps of size 6.38e-01. acc. prob=0.92]\n",
      "sample: 100%|██████████| 12500/12500 [00:03<00:00, 3899.76it/s, 7 steps of size 6.35e-01. acc. prob=0.92]\n",
      "sample: 100%|██████████| 12500/12500 [00:02<00:00, 4664.57it/s, 5 steps of size 7.36e-01. acc. prob=0.89]\n",
      "[I 2023-10-17 01:08:25,043] Trial 81 finished with value: 63.114837646484375 and parameters: {'I_y_mu': 0.062469537749713304, 'I_y_sigma': 0.04967472739568112, 'I_z_mu': 0.2692520319437115, 'I_z_sigma': 0.267925161851887, 'Q_mu': 851825751535923.6, 'Q_sigma': 6291535.5197675545, 'sigma_mu': 0.4464662145031876, 'sigma_sigma': 0.689607429383369}. Best is trial 27 with value: 60.728607177734375.\n",
      "sample: 100%|██████████| 12500/12500 [00:04<00:00, 2646.84it/s, 3 steps of size 6.50e-01. acc. prob=0.92]\n",
      "sample: 100%|██████████| 12500/12500 [00:02<00:00, 4660.60it/s, 3 steps of size 7.64e-01. acc. prob=0.87]\n",
      "sample: 100%|██████████| 12500/12500 [00:02<00:00, 4817.70it/s, 5 steps of size 7.44e-01. acc. prob=0.89]\n",
      "[I 2023-10-17 01:08:36,866] Trial 82 finished with value: 63.178070068359375 and parameters: {'I_y_mu': 0.08844722312889862, 'I_y_sigma': 0.05629274562930166, 'I_z_mu': 0.38243746949433116, 'I_z_sigma': 0.38116276338458577, 'Q_mu': 895685493235362.6, 'Q_sigma': 5807099.992258482, 'sigma_mu': 0.5748933055121279, 'sigma_sigma': 0.6191065187048033}. Best is trial 27 with value: 60.728607177734375.\n",
      "sample: 100%|██████████| 12500/12500 [00:04<00:00, 2794.79it/s, 3 steps of size 6.70e-01. acc. prob=0.91]\n",
      "sample: 100%|██████████| 12500/12500 [00:02<00:00, 4398.73it/s, 3 steps of size 7.41e-01. acc. prob=0.87]\n",
      "sample: 100%|██████████| 12500/12500 [00:02<00:00, 4599.57it/s, 7 steps of size 6.77e-01. acc. prob=0.91]\n",
      "[I 2023-10-17 01:08:48,767] Trial 83 finished with value: 64.50165176391602 and parameters: {'I_y_mu': 0.012400144352079728, 'I_y_sigma': 0.1206078566184132, 'I_z_mu': 0.06190633318626779, 'I_z_sigma': 0.15606267856461425, 'Q_mu': 812858891304036.8, 'Q_sigma': 6677774.173691585, 'sigma_mu': 0.37774095924129986, 'sigma_sigma': 0.5738738643688869}. Best is trial 27 with value: 60.728607177734375.\n",
      "sample: 100%|██████████| 12500/12500 [00:04<00:00, 2797.36it/s, 3 steps of size 6.95e-01. acc. prob=0.90]\n",
      "sample: 100%|██████████| 12500/12500 [00:02<00:00, 4600.95it/s, 7 steps of size 6.08e-01. acc. prob=0.92]\n",
      "sample: 100%|██████████| 12500/12500 [00:02<00:00, 4781.09it/s, 7 steps of size 6.99e-01. acc. prob=0.90]\n",
      "[I 2023-10-17 01:09:00,383] Trial 84 finished with value: 64.43025588989258 and parameters: {'I_y_mu': 0.11696412157084263, 'I_y_sigma': 0.17126820157811862, 'I_z_mu': 0.13893352429282463, 'I_z_sigma': 0.31899695248496474, 'Q_mu': 755897293613644.0, 'Q_sigma': 5164491.79642982, 'sigma_mu': 0.3278191855948572, 'sigma_sigma': 0.47321209210543835}. Best is trial 27 with value: 60.728607177734375.\n",
      "sample: 100%|██████████| 12500/12500 [00:04<00:00, 2760.38it/s, 7 steps of size 6.48e-01. acc. prob=0.91]\n",
      "sample: 100%|██████████| 12500/12500 [00:02<00:00, 4678.23it/s, 3 steps of size 7.31e-01. acc. prob=0.88]\n",
      "sample: 100%|██████████| 12500/12500 [00:02<00:00, 4687.54it/s, 5 steps of size 6.03e-01. acc. prob=0.93]\n",
      "[I 2023-10-17 01:09:12,161] Trial 85 finished with value: 61.0389404296875 and parameters: {'I_y_mu': 0.21839997272314626, 'I_y_sigma': 0.03790750501130144, 'I_z_mu': 0.329326684320389, 'I_z_sigma': 0.48351817868826463, 'Q_mu': 781370310132135.0, 'Q_sigma': 7146368.983135157, 'sigma_mu': 0.2856890263840203, 'sigma_sigma': 0.3822479270423186}. Best is trial 27 with value: 60.728607177734375.\n",
      "sample: 100%|██████████| 12500/12500 [00:04<00:00, 2663.14it/s, 3 steps of size 7.03e-01. acc. prob=0.90]\n",
      "sample: 100%|██████████| 12500/12500 [00:02<00:00, 4452.58it/s, 7 steps of size 6.52e-01. acc. prob=0.91]\n",
      "sample: 100%|██████████| 12500/12500 [00:02<00:00, 4541.01it/s, 7 steps of size 6.80e-01. acc. prob=0.91]\n",
      "[I 2023-10-17 01:09:24,352] Trial 86 finished with value: 64.54288101196289 and parameters: {'I_y_mu': 0.2374262114052382, 'I_y_sigma': 0.24512894024656917, 'I_z_mu': 0.20161374938538304, 'I_z_sigma': 0.4574669985188905, 'Q_mu': 778180763756733.1, 'Q_sigma': 7057831.095022578, 'sigma_mu': 0.24811142647903858, 'sigma_sigma': 0.2768543133155976}. Best is trial 27 with value: 60.728607177734375.\n",
      "sample: 100%|██████████| 12500/12500 [00:05<00:00, 2448.20it/s, 3 steps of size 3.63e-01. acc. prob=0.92] \n",
      "sample: 100%|██████████| 12500/12500 [00:03<00:00, 4164.64it/s, 3 steps of size 3.98e-01. acc. prob=0.90] \n",
      "sample: 100%|██████████| 12500/12500 [00:02<00:00, 4429.24it/s, 11 steps of size 3.55e-01. acc. prob=0.92]\n",
      "[I 2023-10-17 01:09:37,160] Trial 87 finished with value: 120.80586242675781 and parameters: {'I_y_mu': 0.31147187914940777, 'I_y_sigma': 0.01383014959206028, 'I_z_mu': 0.467963629381455, 'I_z_sigma': 0.5355119823172129, 'Q_mu': 651442195306803.2, 'Q_sigma': 7929741.0147733465, 'sigma_mu': 0.29241114812059943, 'sigma_sigma': 0.37247415331805983}. Best is trial 27 with value: 60.728607177734375.\n",
      "sample: 100%|██████████| 12500/12500 [00:04<00:00, 2778.01it/s, 7 steps of size 5.76e-01. acc. prob=0.94]\n",
      "sample: 100%|██████████| 12500/12500 [00:02<00:00, 4787.28it/s, 3 steps of size 7.55e-01. acc. prob=0.87]\n",
      "sample: 100%|██████████| 12500/12500 [00:02<00:00, 4775.57it/s, 7 steps of size 7.10e-01. acc. prob=0.90]\n",
      "[I 2023-10-17 01:09:48,756] Trial 88 finished with value: 63.92293930053711 and parameters: {'I_y_mu': 0.18587877849807896, 'I_y_sigma': 0.1050458089564882, 'I_z_mu': 0.3138544043206245, 'I_z_sigma': 0.48273625865700553, 'Q_mu': 710279990572087.2, 'Q_sigma': 7575571.515356304, 'sigma_mu': 0.39960162641859737, 'sigma_sigma': 0.44464768289148104}. Best is trial 27 with value: 60.728607177734375.\n",
      "sample: 100%|██████████| 12500/12500 [00:04<00:00, 2835.78it/s, 7 steps of size 6.13e-01. acc. prob=0.92]\n",
      "sample: 100%|██████████| 12500/12500 [00:02<00:00, 4765.62it/s, 7 steps of size 7.25e-01. acc. prob=0.88]\n",
      "sample: 100%|██████████| 12500/12500 [00:02<00:00, 4733.16it/s, 5 steps of size 7.71e-01. acc. prob=0.88]\n",
      "[I 2023-10-17 01:10:00,299] Trial 89 finished with value: 64.43248748779297 and parameters: {'I_y_mu': 0.3905896530117519, 'I_y_sigma': 0.2009610871108925, 'I_z_mu': 0.06370303646962164, 'I_z_sigma': 0.5497320603015603, 'Q_mu': 804477425279272.0, 'Q_sigma': 6832348.648737349, 'sigma_mu': 0.20085714446192135, 'sigma_sigma': 0.30565033567761635}. Best is trial 27 with value: 60.728607177734375.\n",
      "sample: 100%|██████████| 12500/12500 [00:04<00:00, 2568.86it/s, 3 steps of size 6.53e-01. acc. prob=0.92]\n",
      "sample: 100%|██████████| 12500/12500 [00:02<00:00, 4438.46it/s, 3 steps of size 7.23e-01. acc. prob=0.89]\n",
      "sample: 100%|██████████| 12500/12500 [00:02<00:00, 4660.64it/s, 3 steps of size 7.00e-01. acc. prob=0.91]\n",
      "[I 2023-10-17 01:10:12,524] Trial 90 finished with value: 62.98847961425781 and parameters: {'I_y_mu': 0.28842568646088723, 'I_y_sigma': 0.07060433066724582, 'I_z_mu': 0.2492896700683773, 'I_z_sigma': 0.3976663159303306, 'Q_mu': 737595584195073.9, 'Q_sigma': 6508519.930099474, 'sigma_mu': 0.2751842594815054, 'sigma_sigma': 0.5204551056708511}. Best is trial 27 with value: 60.728607177734375.\n",
      "sample: 100%|██████████| 12500/12500 [00:04<00:00, 2622.80it/s, 7 steps of size 6.60e-01. acc. prob=0.91]\n",
      "sample: 100%|██████████| 12500/12500 [00:02<00:00, 4609.66it/s, 3 steps of size 7.76e-01. acc. prob=0.87]\n",
      "sample: 100%|██████████| 12500/12500 [00:02<00:00, 4559.36it/s, 7 steps of size 6.25e-01. acc. prob=0.92]\n",
      "[I 2023-10-17 01:10:24,591] Trial 91 finished with value: 62.42056655883789 and parameters: {'I_y_mu': 0.14190675675861594, 'I_y_sigma': 0.048990228285562376, 'I_z_mu': 0.3615119033372081, 'I_z_sigma': 0.2251660820063615, 'Q_mu': 833344896321486.1, 'Q_sigma': 6212553.69018195, 'sigma_mu': 0.49297662543980036, 'sigma_sigma': 0.38650172674936123}. Best is trial 27 with value: 60.728607177734375.\n",
      "sample: 100%|██████████| 12500/12500 [00:04<00:00, 2703.58it/s, 7 steps of size 6.85e-01. acc. prob=0.90]\n",
      "sample: 100%|██████████| 12500/12500 [00:02<00:00, 4432.45it/s, 7 steps of size 6.31e-01. acc. prob=0.90] \n",
      "sample: 100%|██████████| 12500/12500 [00:02<00:00, 4668.24it/s, 7 steps of size 6.91e-01. acc. prob=0.89]\n",
      "[I 2023-10-17 01:10:36,612] Trial 92 finished with value: 63.22468948364258 and parameters: {'I_y_mu': 0.14442668764569916, 'I_y_sigma': 0.04946590733206516, 'I_z_mu': 0.3297580444727426, 'I_z_sigma': 0.08824355954179977, 'Q_mu': 839691759502460.4, 'Q_sigma': 5680639.968481249, 'sigma_mu': 0.3461640017797634, 'sigma_sigma': 0.37802899473394336}. Best is trial 27 with value: 60.728607177734375.\n",
      "sample: 100%|██████████| 12500/12500 [00:04<00:00, 2630.75it/s, 7 steps of size 6.56e-01. acc. prob=0.91]\n",
      "sample: 100%|██████████| 12500/12500 [00:02<00:00, 4504.06it/s, 7 steps of size 7.18e-01. acc. prob=0.89]\n",
      "sample: 100%|██████████| 12500/12500 [00:02<00:00, 4368.81it/s, 5 steps of size 7.35e-01. acc. prob=0.89]\n",
      "[I 2023-10-17 01:10:48,889] Trial 93 finished with value: 64.0698471069336 and parameters: {'I_y_mu': 0.23376357685465635, 'I_y_sigma': 0.12639263017028837, 'I_z_mu': 0.16183978214756645, 'I_z_sigma': 0.22775054210981466, 'Q_mu': 781621827347012.8, 'Q_sigma': 5358595.172742734, 'sigma_mu': 0.5437145365047749, 'sigma_sigma': 0.34385520260463825}. Best is trial 27 with value: 60.728607177734375.\n",
      "sample: 100%|██████████| 12500/12500 [00:04<00:00, 2641.43it/s, 7 steps of size 6.00e-01. acc. prob=0.91]\n",
      "sample: 100%|██████████| 12500/12500 [00:02<00:00, 4585.13it/s, 7 steps of size 6.68e-01. acc. prob=0.87]\n",
      "sample: 100%|██████████| 12500/12500 [00:02<00:00, 4453.14it/s, 3 steps of size 6.35e-01. acc. prob=0.90]\n",
      "[I 2023-10-17 01:11:01,074] Trial 94 finished with value: 65.6957893371582 and parameters: {'I_y_mu': 0.07394180134920307, 'I_y_sigma': 0.18498215837479182, 'I_z_mu': 0.5014978928610259, 'I_z_sigma': 0.1230458558066887, 'Q_mu': 882198112858052.0, 'Q_sigma': 4905580.3145399, 'sigma_mu': 0.43469269328194415, 'sigma_sigma': 0.41074117636285706}. Best is trial 27 with value: 60.728607177734375.\n",
      "sample: 100%|██████████| 12500/12500 [00:04<00:00, 2704.31it/s, 3 steps of size 5.87e-01. acc. prob=0.93]\n",
      "sample: 100%|██████████| 12500/12500 [00:02<00:00, 4592.47it/s, 7 steps of size 7.31e-01. acc. prob=0.88]\n",
      "sample: 100%|██████████| 12500/12500 [00:02<00:00, 4645.32it/s, 3 steps of size 6.87e-01. acc. prob=0.90] \n",
      "[I 2023-10-17 01:11:12,994] Trial 95 finished with value: 63.908599853515625 and parameters: {'I_y_mu': 0.1908890814573988, 'I_y_sigma': 0.10809390848309036, 'I_z_mu': 0.11268433661660245, 'I_z_sigma': 0.3551616057744993, 'Q_mu': 819226794490580.0, 'Q_sigma': 6103515.380346361, 'sigma_mu': 0.5041723214286693, 'sigma_sigma': 0.2509738844173263}. Best is trial 27 with value: 60.728607177734375.\n",
      "sample: 100%|██████████| 12500/12500 [00:04<00:00, 2786.11it/s, 7 steps of size 6.65e-01. acc. prob=0.91]\n",
      "sample: 100%|██████████| 12500/12500 [00:02<00:00, 4656.88it/s, 3 steps of size 7.30e-01. acc. prob=0.88]\n",
      "sample: 100%|██████████| 12500/12500 [00:02<00:00, 4702.26it/s, 3 steps of size 6.59e-01. acc. prob=0.91]\n",
      "[I 2023-10-17 01:11:24,698] Trial 96 finished with value: 62.30982208251953 and parameters: {'I_y_mu': 0.35129895312746967, 'I_y_sigma': 0.05569368332234087, 'I_z_mu': 0.41362487289919303, 'I_z_sigma': 0.29865594953066, 'Q_mu': 863439962434820.6, 'Q_sigma': 7119494.099924596, 'sigma_mu': 0.3744929181830722, 'sigma_sigma': 0.48665229532861554}. Best is trial 27 with value: 60.728607177734375.\n",
      "sample: 100%|██████████| 12500/12500 [00:04<00:00, 2818.59it/s, 3 steps of size 5.88e-01. acc. prob=0.93]\n",
      "sample: 100%|██████████| 12500/12500 [00:02<00:00, 4699.09it/s, 3 steps of size 7.01e-01. acc. prob=0.89]\n",
      "sample: 100%|██████████| 12500/12500 [00:02<00:00, 4719.31it/s, 3 steps of size 7.11e-01. acc. prob=0.90]\n",
      "[I 2023-10-17 01:11:36,319] Trial 97 finished with value: 62.049102783203125 and parameters: {'I_y_mu': 0.34797069171649087, 'I_y_sigma': 0.05140089233348185, 'I_z_mu': 0.43418727635636645, 'I_z_sigma': 0.30536903056270825, 'Q_mu': 861332582341749.8, 'Q_sigma': 7206753.413716139, 'sigma_mu': 0.3583921698836745, 'sigma_sigma': 0.4902669572646312}. Best is trial 27 with value: 60.728607177734375.\n",
      "sample: 100%|██████████| 12500/12500 [00:04<00:00, 2730.66it/s, 7 steps of size 6.24e-01. acc. prob=0.92]\n",
      "sample: 100%|██████████| 12500/12500 [00:02<00:00, 4586.80it/s, 7 steps of size 6.18e-01. acc. prob=0.91]\n",
      "sample: 100%|██████████| 12500/12500 [00:02<00:00, 4456.70it/s, 3 steps of size 6.39e-01. acc. prob=0.91]\n",
      "[I 2023-10-17 01:11:48,303] Trial 98 finished with value: 60.88880157470703 and parameters: {'I_y_mu': 0.34936564062992576, 'I_y_sigma': 0.035647672925348456, 'I_z_mu': 0.4311179321272486, 'I_z_sigma': 0.2994111146868029, 'Q_mu': 914683995360629.1, 'Q_sigma': 7215676.5486994125, 'sigma_mu': 0.46803940671951855, 'sigma_sigma': 0.4846628378674474}. Best is trial 27 with value: 60.728607177734375.\n",
      "sample: 100%|██████████| 12500/12500 [00:04<00:00, 2555.60it/s, 7 steps of size 5.96e-01. acc. prob=0.93]\n",
      "sample: 100%|██████████| 12500/12500 [00:02<00:00, 4572.76it/s, 7 steps of size 6.41e-01. acc. prob=0.91]\n",
      "sample: 100%|██████████| 12500/12500 [00:02<00:00, 4609.50it/s, 7 steps of size 6.51e-01. acc. prob=0.91]\n",
      "[I 2023-10-17 01:12:00,483] Trial 99 finished with value: 64.28266143798828 and parameters: {'I_y_mu': 0.3379810666284089, 'I_y_sigma': 0.14523943519754431, 'I_z_mu': 0.4066950745693283, 'I_z_sigma': 0.3037185113219213, 'Q_mu': 936222355062113.2, 'Q_sigma': 7081088.577270328, 'sigma_mu': 0.3857070966417572, 'sigma_sigma': 0.4937197079314629}. Best is trial 27 with value: 60.728607177734375.\n",
      "sample: 100%|██████████| 12500/12500 [00:04<00:00, 2718.11it/s, 7 steps of size 5.77e-01. acc. prob=0.93]\n",
      "sample: 100%|██████████| 12500/12500 [00:02<00:00, 4241.80it/s, 3 steps of size 6.23e-01. acc. prob=0.91]\n",
      "sample: 100%|██████████| 12500/12500 [00:02<00:00, 4420.34it/s, 3 steps of size 5.97e-01. acc. prob=0.92] \n"
     ]
    }
   ],
   "source": [
    "optimising_parameters = {\n",
    "                    'I_y_and_I_z_mu_0': [1e-2, 2],\n",
    "                    'I_y_and_I_z_mu_1': [1e-2, 2],\n",
    "                    'I_y_and_I_z_cov_0_0': [1e-2, 2],\n",
    "                    'I_y_and_I_z_cov_1_1': [1e-2, 2],\n",
    "                    'Q_mu': [1e12, 1e15],\n",
    "                    'Q_sigma': [1e5, 1e7],\n",
    "                    'sigma_mu':[0.2, 2],\n",
    "                    'sigma_sigma':[0.2, 2]\n",
    "                }\n",
    "\n",
    "optimiser = Optimiser(results_name=results_name, \n",
    "                  data_params=data_params,\n",
    "                  default_params=default_params)\n",
    "\n",
    "# AIC\n",
    "study = optimiser.run(n_trials=100, optimiser_name='AIC_1', optimising_parameters=optimising_parameters, index_name='aic')\n",
    "optimiser.get_plots(study)\n",
    "domain = Domain('cone_from_source_z_limited', resolution=80)\n",
    "domain.add_domain_param('r', 1000)\n",
    "domain.add_domain_param('theta', np.pi/8)\n",
    "domain.add_domain_param('source', [0,0,10])\n",
    "optimiser.run_best_params(study, domain, name = 'small_scale_3D_plots', prior_plots=prior_plots)\n",
    "\n",
    "# # RMSE\n",
    "# study = optimiser.run(n_trials=100, optimiser_name='RMSE_1', optimising_parameters=optimising_parameters, index_name='rmse')\n",
    "# optimiser.get_plots(study)\n",
    "# domain = Domain('cone_from_source_z_limited', resolution=80)\n",
    "# domain.add_domain_param('r', 1000)\n",
    "# domain.add_domain_param('theta', np.pi/8)\n",
    "# domain.add_domain_param('source', [0,0,10])\n",
    "# optimiser.run_best_params(study, domain, name = 'small_scale_3D_plots', prior_plots=prior_plots)\n",
    "\n",
    "# # BIC\n",
    "# study = optimiser.run(n_trials=100, optimiser_name='BIC_1', optimising_parameters=optimising_parameters, index_name='bic')\n",
    "# optimiser.get_plots(study)\n",
    "# domain = Domain('cone_from_source_z_limited', resolution=80)\n",
    "# domain.add_domain_param('r', 1000)\n",
    "# domain.add_domain_param('theta', np.pi/8)\n",
    "# domain.add_domain_param('source', [0,0,10])\n",
    "# optimiser.run_best_params(study, domain, name = 'small_scale_3D_plots', prior_plots=prior_plots)"
   ]
  }
 ],
 "metadata": {
  "kernelspec": {
   "display_name": "base",
   "language": "python",
   "name": "python3"
  },
  "language_info": {
   "codemirror_mode": {
    "name": "ipython",
    "version": 3
   },
   "file_extension": ".py",
   "mimetype": "text/x-python",
   "name": "python",
   "nbconvert_exporter": "python",
   "pygments_lexer": "ipython3",
   "version": "3.9.16"
  },
  "orig_nbformat": 4
 },
 "nbformat": 4,
 "nbformat_minor": 2
}
