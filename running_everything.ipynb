{
 "cells": [
  {
   "attachments": {},
   "cell_type": "markdown",
   "metadata": {},
   "source": [
    "# Controller #"
   ]
  },
  {
   "attachments": {},
   "cell_type": "markdown",
   "metadata": {},
   "source": [
    "Import all neccessary packages"
   ]
  },
  {
   "cell_type": "code",
   "execution_count": 1,
   "metadata": {},
   "outputs": [
    {
     "name": "stderr",
     "output_type": "stream",
     "text": [
      "No GPU/TPU found, falling back to CPU. (Set TF_CPP_MIN_LOG_LEVEL=0 and rerun for more info.)\n"
     ]
    }
   ],
   "source": [
    "import os\n",
    "import pandas as pd\n",
    "import numpy as np\n",
    "\n",
    "from controllers.inference_controllers.sandbox import Sandbox\n",
    "from controllers.inference_controllers.generator import Generator\n",
    "from controllers.inference_controllers.optimiser import Optimiser\n",
    "\n",
    "from toolboxes.plotting_toolbox.domain import Domain\n",
    "from toolboxes.inference_toolbox.parameter import Parameter\n",
    "from toolboxes.inference_toolbox.model import Model\n",
    "from toolboxes.inference_toolbox.likelihood import Likelihood\n",
    "\n",
    "current_directory = os.getcwd()\n",
    "if current_directory != '/project/':\n",
    "    os.chdir('/project/')"
   ]
  },
  {
   "attachments": {},
   "cell_type": "markdown",
   "metadata": {},
   "source": [
    "Defining simulated data"
   ]
  },
  {
   "cell_type": "code",
   "execution_count": 2,
   "metadata": {},
   "outputs": [],
   "source": [
    "data_params = {\n",
    "    'data_type': 'normalised_data',\n",
    "    'data_select': 'GBR_data',\n",
    "    'normaliser_select': 'GBR_normaliser',\n",
    "    'normaliser_params':{\n",
    "        'experiments_list': [\n",
    "            'Exp1',\n",
    "            'Exp2',\n",
    "            'Exp3',\n",
    "            'Exp4',\n",
    "            'Exp5',\n",
    "            'Exp6',\n",
    "            'Exp7',\n",
    "            'Exp8',\n",
    "            'Exp9',\n",
    "            'Exp10',\n",
    "            'Exp11',\n",
    "            'Exp12',\n",
    "        ],\n",
    "        'meta_data_select': 'GBR_data_summary',\n",
    "        'input_header': 'Concentration'\n",
    "    },\n",
    "    'log':True,\n",
    "    'output_header': 'Concentration',\n",
    "    'gridding': [100,100,25]\n",
    "}\n",
    "\n",
    "prior_plots = [\n",
    "    {\n",
    "        'I_y': [0.0001, 1.7],\n",
    "        'references':{\n",
    "            'I_y' : [0.22, 1.6, 0.11, 0.08, 0.06, 0.04],\n",
    "            'labels': ['A','B','C','D','E','F'] \n",
    "        }\n",
    "    },\n",
    "    {\n",
    "        'I_z': [0.0001, 1.7],\n",
    "        'references':{\n",
    "            'I_z' : [0.2, 1.2, 0.08, 0.06, 0.03, 0.016],\n",
    "            'labels': ['A','B','C','D','E','F'] \n",
    "        }\n",
    "    },\n",
    "    {\n",
    "        'Q': [1e12, 5e13],\n",
    "        'references':{\n",
    "            'Q' : [2.82e13, 3.11e13, 2.89e13, 4.83e13],\n",
    "            'labels': ['250m','200m','750m','1000m'] \n",
    "        }\n",
    "    },\n",
    "    {\n",
    "        'I_y': [0.0001, 1.7],\n",
    "        'I_z': [0.0001, 1.7],\n",
    "        'references':{\n",
    "            'I_y' : [0.22, 1.6, 0.11, 0.08, 0.06, 0.04],\n",
    "            'I_z' : [0.2, 1.2, 0.08, 0.06, 0.03, 0.016],\n",
    "            'labels': ['A','B','C','D','E','F'] \n",
    "        }\n",
    "    }\n",
    "]\n",
    "\n",
    "results_name = 'GBR_data_gridded_100_100_25'"
   ]
  },
  {
   "cell_type": "markdown",
   "metadata": {},
   "source": [
    "Defining default parameters and prior plots for gamma priors of the simulated data"
   ]
  },
  {
   "cell_type": "code",
   "execution_count": 3,
   "metadata": {},
   "outputs": [],
   "source": [
    "default_params = {\n",
    "    'infered_params':pd.Series({\n",
    "        'model_params':pd.Series({\n",
    "            'I_y': Parameter('I_y', prior_select = 'gamma', default_value=0.1).add_prior_param('mu', 0.1).add_prior_param('sigma',0.1),\n",
    "            'I_z': Parameter('I_z', prior_select = 'gamma', default_value=0.1).add_prior_param('mu', 0.1).add_prior_param('sigma',0.1),\n",
    "            'Q': Parameter('Q', prior_select = 'gamma', default_value=3e13).add_prior_param('mu', 3e13).add_prior_param('sigma',1e13),\n",
    "        }),\n",
    "        'likelihood_params':pd.Series({\n",
    "            'sigma': Parameter('sigma', prior_select = 'gamma', default_value=1).add_prior_param('mu', 1).add_prior_param('sigma',1)\n",
    "        })\n",
    "    }),\n",
    "    'model':Model('log_gpm_norm').add_model_param('H',10),\n",
    "    'likelihood': Likelihood('gaussian'),\n",
    "    'sampler': {\n",
    "        'n_samples': 10000,\n",
    "        'n_chains': 3,\n",
    "        'thinning_rate': 1\n",
    "    }\n",
    "}"
   ]
  },
  {
   "attachments": {},
   "cell_type": "markdown",
   "metadata": {},
   "source": [
    "Running a general instance for gamma priors and simulated data"
   ]
  },
  {
   "cell_type": "code",
   "execution_count": 4,
   "metadata": {},
   "outputs": [
    {
     "name": "stdout",
     "output_type": "stream",
     "text": [
      "Loading Chain Samples...\n",
      "Loading Samples...\n",
      "Traceplot 1 already exists\n",
      "Traceplot 2 already exists\n",
      "Traceplot 3 already exists\n",
      "Autocorrelations plot 1 already exists\n",
      "Autocorrelations plot 2 already exists\n",
      "Autocorrelations plot 3 already exists\n",
      "Plots already exist!\n",
      "Animation already exist!\n"
     ]
    }
   ],
   "source": [
    "sandbox = Sandbox(results_name=results_name, \n",
    "                  data_params=data_params,\n",
    "                  default_params=default_params)\n",
    "\n",
    "visualiser = sandbox.run()\n",
    "visualiser.get_summary()\n",
    "visualiser.get_traceplot()\n",
    "visualiser.get_autocorrelations()\n",
    "visualiser.get_prior_plots(prior_plots)\n",
    "\n",
    "domain = Domain('cone_from_source_z_limited', resolution=80)\n",
    "domain.add_domain_param('r', 1000)\n",
    "domain.add_domain_param('theta', np.pi/8)\n",
    "domain.add_domain_param('source', [0,0,10])\n",
    "\n",
    "visualiser.visualise_results(domain = domain, name = 'small_scale_3D_plots', title='Log Concentration of Droplets', log_results=False)\n",
    "visualiser.animate(name = 'small_scale_3D_plots')"
   ]
  },
  {
   "attachments": {},
   "cell_type": "markdown",
   "metadata": {},
   "source": [
    "Analysing the sensitivity of the gamma prior simulated data"
   ]
  },
  {
   "cell_type": "code",
   "execution_count": 5,
   "metadata": {},
   "outputs": [
    {
     "name": "stdout",
     "output_type": "stream",
     "text": [
      "Working on varying I_y_mu...\n",
      "Working on varying I_z_mu...\n",
      "Working on varying Q_mu...\n",
      "Generating instance 1...\n"
     ]
    },
    {
     "name": "stderr",
     "output_type": "stream",
     "text": [
      "sample: 100%|██████████| 12500/12500 [00:03<00:00, 3358.31it/s, 7 steps of size 4.03e-01. acc. prob=0.94]\n",
      "sample: 100%|██████████| 12500/12500 [00:02<00:00, 5562.61it/s, 7 steps of size 4.77e-01. acc. prob=0.92]\n",
      "sample: 100%|██████████| 12500/12500 [00:02<00:00, 5613.62it/s, 15 steps of size 4.69e-01. acc. prob=0.93]\n"
     ]
    },
    {
     "name": "stdout",
     "output_type": "stream",
     "text": [
      "Generating instance 2...\n"
     ]
    },
    {
     "name": "stderr",
     "output_type": "stream",
     "text": [
      "sample: 100%|██████████| 12500/12500 [00:03<00:00, 3421.69it/s, 3 steps of size 5.07e-01. acc. prob=0.92]\n",
      "sample: 100%|██████████| 12500/12500 [00:02<00:00, 5690.75it/s, 7 steps of size 4.89e-01. acc. prob=0.92] \n",
      "sample: 100%|██████████| 12500/12500 [00:02<00:00, 5668.16it/s, 3 steps of size 4.68e-01. acc. prob=0.93]\n"
     ]
    },
    {
     "name": "stdout",
     "output_type": "stream",
     "text": [
      "Generating instance 3...\n"
     ]
    },
    {
     "name": "stderr",
     "output_type": "stream",
     "text": [
      "sample: 100%|██████████| 12500/12500 [00:03<00:00, 3439.76it/s, 7 steps of size 4.76e-01. acc. prob=0.92]\n",
      "sample: 100%|██████████| 12500/12500 [00:02<00:00, 5639.64it/s, 7 steps of size 4.37e-01. acc. prob=0.94]\n",
      "sample: 100%|██████████| 12500/12500 [00:02<00:00, 5824.44it/s, 3 steps of size 5.71e-01. acc. prob=0.89]\n"
     ]
    },
    {
     "name": "stdout",
     "output_type": "stream",
     "text": [
      "Generating instance 4...\n"
     ]
    },
    {
     "name": "stderr",
     "output_type": "stream",
     "text": [
      "sample: 100%|██████████| 12500/12500 [00:03<00:00, 3286.30it/s, 3 steps of size 4.28e-01. acc. prob=0.94] \n",
      "sample: 100%|██████████| 12500/12500 [00:02<00:00, 5723.18it/s, 3 steps of size 4.70e-01. acc. prob=0.92]\n",
      "sample: 100%|██████████| 12500/12500 [00:02<00:00, 5706.89it/s, 3 steps of size 4.88e-01. acc. prob=0.92]\n"
     ]
    },
    {
     "name": "stdout",
     "output_type": "stream",
     "text": [
      "Generating instance 5...\n"
     ]
    },
    {
     "name": "stderr",
     "output_type": "stream",
     "text": [
      "sample: 100%|██████████| 12500/12500 [00:03<00:00, 3442.42it/s, 7 steps of size 4.89e-01. acc. prob=0.92] \n",
      "sample: 100%|██████████| 12500/12500 [00:02<00:00, 5711.92it/s, 7 steps of size 4.90e-01. acc. prob=0.92]\n",
      "sample: 100%|██████████| 12500/12500 [00:02<00:00, 5723.38it/s, 3 steps of size 5.19e-01. acc. prob=0.91]\n"
     ]
    },
    {
     "name": "stdout",
     "output_type": "stream",
     "text": [
      "Generating instance 6...\n"
     ]
    },
    {
     "name": "stderr",
     "output_type": "stream",
     "text": [
      "sample: 100%|██████████| 12500/12500 [00:03<00:00, 3403.73it/s, 3 steps of size 4.34e-01. acc. prob=0.94]\n",
      "sample: 100%|██████████| 12500/12500 [00:02<00:00, 5626.22it/s, 7 steps of size 4.32e-01. acc. prob=0.94] \n",
      "sample: 100%|██████████| 12500/12500 [00:02<00:00, 5747.23it/s, 3 steps of size 4.96e-01. acc. prob=0.92]\n"
     ]
    },
    {
     "name": "stdout",
     "output_type": "stream",
     "text": [
      "Generating instance 7...\n"
     ]
    },
    {
     "name": "stderr",
     "output_type": "stream",
     "text": [
      "sample: 100%|██████████| 12500/12500 [00:03<00:00, 3397.14it/s, 3 steps of size 4.34e-01. acc. prob=0.94]\n",
      "sample: 100%|██████████| 12500/12500 [00:02<00:00, 5793.70it/s, 7 steps of size 5.31e-01. acc. prob=0.90]\n",
      "sample: 100%|██████████| 12500/12500 [00:02<00:00, 5754.41it/s, 3 steps of size 5.14e-01. acc. prob=0.91]\n"
     ]
    },
    {
     "name": "stdout",
     "output_type": "stream",
     "text": [
      "Generating instance 8...\n"
     ]
    },
    {
     "name": "stderr",
     "output_type": "stream",
     "text": [
      "sample: 100%|██████████| 12500/12500 [00:03<00:00, 3449.92it/s, 7 steps of size 4.79e-01. acc. prob=0.92]\n",
      "sample: 100%|██████████| 12500/12500 [00:02<00:00, 5713.90it/s, 7 steps of size 4.82e-01. acc. prob=0.93] \n",
      "sample: 100%|██████████| 12500/12500 [00:02<00:00, 5698.75it/s, 7 steps of size 4.71e-01. acc. prob=0.93]\n"
     ]
    },
    {
     "name": "stdout",
     "output_type": "stream",
     "text": [
      "Generating instance 9...\n"
     ]
    },
    {
     "name": "stderr",
     "output_type": "stream",
     "text": [
      "sample: 100%|██████████| 12500/12500 [00:03<00:00, 3340.54it/s, 7 steps of size 4.76e-01. acc. prob=0.92] \n",
      "sample: 100%|██████████| 12500/12500 [00:02<00:00, 5656.70it/s, 7 steps of size 5.35e-01. acc. prob=0.90]\n",
      "sample: 100%|██████████| 12500/12500 [00:02<00:00, 5639.56it/s, 3 steps of size 4.74e-01. acc. prob=0.93] \n"
     ]
    },
    {
     "name": "stdout",
     "output_type": "stream",
     "text": [
      "Generating instance 10...\n"
     ]
    },
    {
     "name": "stderr",
     "output_type": "stream",
     "text": [
      "sample: 100%|██████████| 12500/12500 [00:03<00:00, 3183.33it/s, 3 steps of size 4.55e-01. acc. prob=0.93]\n",
      "sample: 100%|██████████| 12500/12500 [00:02<00:00, 5660.85it/s, 7 steps of size 4.91e-01. acc. prob=0.92] \n",
      "sample: 100%|██████████| 12500/12500 [00:02<00:00, 5577.05it/s, 7 steps of size 4.54e-01. acc. prob=0.93]\n"
     ]
    },
    {
     "name": "stdout",
     "output_type": "stream",
     "text": [
      "Generating instance 11...\n"
     ]
    },
    {
     "name": "stderr",
     "output_type": "stream",
     "text": [
      "sample: 100%|██████████| 12500/12500 [00:03<00:00, 3343.43it/s, 7 steps of size 4.83e-01. acc. prob=0.92]\n",
      "sample: 100%|██████████| 12500/12500 [00:02<00:00, 5533.23it/s, 7 steps of size 5.08e-01. acc. prob=0.92]\n",
      "sample: 100%|██████████| 12500/12500 [00:02<00:00, 5681.02it/s, 3 steps of size 5.32e-01. acc. prob=0.90]\n"
     ]
    },
    {
     "name": "stdout",
     "output_type": "stream",
     "text": [
      "Generating instance 12...\n"
     ]
    },
    {
     "name": "stderr",
     "output_type": "stream",
     "text": [
      "sample: 100%|██████████| 12500/12500 [00:03<00:00, 3327.91it/s, 3 steps of size 4.37e-01. acc. prob=0.93] \n",
      "sample: 100%|██████████| 12500/12500 [00:02<00:00, 5659.88it/s, 7 steps of size 4.97e-01. acc. prob=0.91] \n",
      "sample: 100%|██████████| 12500/12500 [00:02<00:00, 5666.00it/s, 15 steps of size 5.37e-01. acc. prob=0.91]\n"
     ]
    },
    {
     "name": "stdout",
     "output_type": "stream",
     "text": [
      "Generating instance 13...\n"
     ]
    },
    {
     "name": "stderr",
     "output_type": "stream",
     "text": [
      "sample: 100%|██████████| 12500/12500 [00:03<00:00, 3326.57it/s, 7 steps of size 4.12e-01. acc. prob=0.94] \n",
      "sample: 100%|██████████| 12500/12500 [00:02<00:00, 5635.62it/s, 11 steps of size 4.80e-01. acc. prob=0.93]\n",
      "sample: 100%|██████████| 12500/12500 [00:02<00:00, 5583.94it/s, 15 steps of size 4.60e-01. acc. prob=0.93]\n"
     ]
    },
    {
     "name": "stdout",
     "output_type": "stream",
     "text": [
      "Generating instance 14...\n"
     ]
    },
    {
     "name": "stderr",
     "output_type": "stream",
     "text": [
      "sample: 100%|██████████| 12500/12500 [00:03<00:00, 3370.29it/s, 3 steps of size 4.98e-01. acc. prob=0.91]\n",
      "sample: 100%|██████████| 12500/12500 [00:02<00:00, 5540.69it/s, 7 steps of size 4.13e-01. acc. prob=0.94] \n",
      "sample: 100%|██████████| 12500/12500 [00:02<00:00, 5634.11it/s, 3 steps of size 4.83e-01. acc. prob=0.92] \n"
     ]
    },
    {
     "name": "stdout",
     "output_type": "stream",
     "text": [
      "Generating instance 15...\n"
     ]
    },
    {
     "name": "stderr",
     "output_type": "stream",
     "text": [
      "sample: 100%|██████████| 12500/12500 [00:03<00:00, 3354.81it/s, 3 steps of size 4.23e-01. acc. prob=0.94] \n",
      "sample: 100%|██████████| 12500/12500 [00:02<00:00, 5592.15it/s, 7 steps of size 4.41e-01. acc. prob=0.94] \n",
      "sample: 100%|██████████| 12500/12500 [00:02<00:00, 5668.67it/s, 3 steps of size 5.34e-01. acc. prob=0.90]\n"
     ]
    },
    {
     "name": "stdout",
     "output_type": "stream",
     "text": [
      "Generating instance 16...\n"
     ]
    },
    {
     "name": "stderr",
     "output_type": "stream",
     "text": [
      "sample: 100%|██████████| 12500/12500 [00:03<00:00, 3336.17it/s, 7 steps of size 4.06e-01. acc. prob=0.95] \n",
      "sample: 100%|██████████| 12500/12500 [00:02<00:00, 5637.19it/s, 7 steps of size 5.13e-01. acc. prob=0.91]\n",
      "sample: 100%|██████████| 12500/12500 [00:02<00:00, 5654.77it/s, 3 steps of size 4.91e-01. acc. prob=0.92] \n"
     ]
    },
    {
     "name": "stdout",
     "output_type": "stream",
     "text": [
      "Generating instance 17...\n"
     ]
    },
    {
     "name": "stderr",
     "output_type": "stream",
     "text": [
      "sample: 100%|██████████| 12500/12500 [00:03<00:00, 3295.71it/s, 7 steps of size 4.60e-01. acc. prob=0.93] \n",
      "sample: 100%|██████████| 12500/12500 [00:02<00:00, 5607.52it/s, 3 steps of size 5.51e-01. acc. prob=0.89] \n",
      "sample: 100%|██████████| 12500/12500 [00:02<00:00, 5550.83it/s, 3 steps of size 4.65e-01. acc. prob=0.93]\n"
     ]
    },
    {
     "name": "stdout",
     "output_type": "stream",
     "text": [
      "Generating instance 18...\n"
     ]
    },
    {
     "name": "stderr",
     "output_type": "stream",
     "text": [
      "sample: 100%|██████████| 12500/12500 [00:03<00:00, 3342.14it/s, 3 steps of size 5.60e-01. acc. prob=0.88]\n",
      "sample: 100%|██████████| 12500/12500 [00:02<00:00, 5511.88it/s, 7 steps of size 4.55e-01. acc. prob=0.93]\n",
      "sample: 100%|██████████| 12500/12500 [00:02<00:00, 5544.18it/s, 3 steps of size 4.70e-01. acc. prob=0.93]\n"
     ]
    },
    {
     "name": "stdout",
     "output_type": "stream",
     "text": [
      "Generating instance 19...\n"
     ]
    },
    {
     "name": "stderr",
     "output_type": "stream",
     "text": [
      "sample: 100%|██████████| 12500/12500 [00:03<00:00, 3269.87it/s, 3 steps of size 4.43e-01. acc. prob=0.93]\n",
      "sample: 100%|██████████| 12500/12500 [00:02<00:00, 5541.79it/s, 7 steps of size 4.67e-01. acc. prob=0.93]\n",
      "sample: 100%|██████████| 12500/12500 [00:02<00:00, 5533.60it/s, 15 steps of size 4.53e-01. acc. prob=0.93]\n"
     ]
    },
    {
     "name": "stdout",
     "output_type": "stream",
     "text": [
      "Generating instance 20...\n"
     ]
    },
    {
     "name": "stderr",
     "output_type": "stream",
     "text": [
      "sample: 100%|██████████| 12500/12500 [00:03<00:00, 3289.92it/s, 3 steps of size 4.43e-01. acc. prob=0.93]\n",
      "sample: 100%|██████████| 12500/12500 [00:02<00:00, 5431.10it/s, 7 steps of size 4.31e-01. acc. prob=0.94]\n",
      "sample: 100%|██████████| 12500/12500 [00:02<00:00, 5520.13it/s, 3 steps of size 4.77e-01. acc. prob=0.93] \n"
     ]
    },
    {
     "name": "stdout",
     "output_type": "stream",
     "text": [
      "Generating instance 21...\n"
     ]
    },
    {
     "name": "stderr",
     "output_type": "stream",
     "text": [
      "sample: 100%|██████████| 12500/12500 [00:03<00:00, 3308.70it/s, 7 steps of size 4.87e-01. acc. prob=0.92]\n",
      "sample: 100%|██████████| 12500/12500 [00:02<00:00, 5536.95it/s, 7 steps of size 4.38e-01. acc. prob=0.94] \n",
      "sample: 100%|██████████| 12500/12500 [00:02<00:00, 5586.40it/s, 3 steps of size 4.64e-01. acc. prob=0.93]\n"
     ]
    },
    {
     "name": "stdout",
     "output_type": "stream",
     "text": [
      "Generating instance 22...\n"
     ]
    },
    {
     "name": "stderr",
     "output_type": "stream",
     "text": [
      "sample: 100%|██████████| 12500/12500 [00:03<00:00, 3328.29it/s, 7 steps of size 4.86e-01. acc. prob=0.92] \n",
      "sample: 100%|██████████| 12500/12500 [00:02<00:00, 5536.03it/s, 7 steps of size 4.63e-01. acc. prob=0.93]\n",
      "sample: 100%|██████████| 12500/12500 [00:02<00:00, 5644.44it/s, 3 steps of size 5.52e-01. acc. prob=0.89]\n"
     ]
    },
    {
     "name": "stdout",
     "output_type": "stream",
     "text": [
      "Generating instance 23...\n"
     ]
    },
    {
     "name": "stderr",
     "output_type": "stream",
     "text": [
      "sample: 100%|██████████| 12500/12500 [00:04<00:00, 3099.57it/s, 3 steps of size 4.55e-01. acc. prob=0.93] \n",
      "sample: 100%|██████████| 12500/12500 [00:02<00:00, 5291.35it/s, 7 steps of size 4.99e-01. acc. prob=0.92]\n",
      "sample: 100%|██████████| 12500/12500 [00:02<00:00, 5289.47it/s, 3 steps of size 4.83e-01. acc. prob=0.93] \n"
     ]
    },
    {
     "name": "stdout",
     "output_type": "stream",
     "text": [
      "Generating instance 24...\n"
     ]
    },
    {
     "name": "stderr",
     "output_type": "stream",
     "text": [
      "sample: 100%|██████████| 12500/12500 [00:03<00:00, 3215.75it/s, 7 steps of size 4.23e-01. acc. prob=0.94] \n",
      "sample: 100%|██████████| 12500/12500 [00:02<00:00, 5390.72it/s, 7 steps of size 4.51e-01. acc. prob=0.93] \n",
      "sample: 100%|██████████| 12500/12500 [00:02<00:00, 5408.38it/s, 15 steps of size 4.54e-01. acc. prob=0.93]\n"
     ]
    },
    {
     "name": "stdout",
     "output_type": "stream",
     "text": [
      "Generating instance 25...\n"
     ]
    },
    {
     "name": "stderr",
     "output_type": "stream",
     "text": [
      "sample: 100%|██████████| 12500/12500 [00:04<00:00, 2790.87it/s, 3 steps of size 4.37e-01. acc. prob=0.93]\n",
      "sample: 100%|██████████| 12500/12500 [00:02<00:00, 5161.27it/s, 7 steps of size 4.40e-01. acc. prob=0.93]\n",
      "sample: 100%|██████████| 12500/12500 [00:02<00:00, 5387.66it/s, 3 steps of size 4.78e-01. acc. prob=0.93] \n"
     ]
    },
    {
     "name": "stdout",
     "output_type": "stream",
     "text": [
      "Generating instance 26...\n"
     ]
    },
    {
     "name": "stderr",
     "output_type": "stream",
     "text": [
      "sample: 100%|██████████| 12500/12500 [00:03<00:00, 3259.23it/s, 3 steps of size 4.88e-01. acc. prob=0.92]\n",
      "sample: 100%|██████████| 12500/12500 [00:02<00:00, 5374.86it/s, 7 steps of size 4.87e-01. acc. prob=0.92]\n",
      "sample: 100%|██████████| 12500/12500 [00:02<00:00, 5457.36it/s, 3 steps of size 5.21e-01. acc. prob=0.90]\n"
     ]
    },
    {
     "name": "stdout",
     "output_type": "stream",
     "text": [
      "Generating instance 27...\n"
     ]
    },
    {
     "name": "stderr",
     "output_type": "stream",
     "text": [
      "sample: 100%|██████████| 12500/12500 [00:03<00:00, 3285.35it/s, 3 steps of size 4.86e-01. acc. prob=0.92]\n",
      "sample: 100%|██████████| 12500/12500 [00:02<00:00, 5349.59it/s, 7 steps of size 4.65e-01. acc. prob=0.93]\n",
      "sample: 100%|██████████| 12500/12500 [00:02<00:00, 5471.17it/s, 3 steps of size 4.89e-01. acc. prob=0.92] \n"
     ]
    },
    {
     "name": "stdout",
     "output_type": "stream",
     "text": [
      "Generating instance 28...\n"
     ]
    },
    {
     "name": "stderr",
     "output_type": "stream",
     "text": [
      "sample: 100%|██████████| 12500/12500 [00:03<00:00, 3240.01it/s, 7 steps of size 4.72e-01. acc. prob=0.92]\n",
      "sample: 100%|██████████| 12500/12500 [00:02<00:00, 5383.08it/s, 7 steps of size 4.47e-01. acc. prob=0.93] \n",
      "sample: 100%|██████████| 12500/12500 [00:02<00:00, 5439.53it/s, 3 steps of size 4.89e-01. acc. prob=0.92]\n"
     ]
    },
    {
     "name": "stdout",
     "output_type": "stream",
     "text": [
      "Generating instance 29...\n"
     ]
    },
    {
     "name": "stderr",
     "output_type": "stream",
     "text": [
      "sample: 100%|██████████| 12500/12500 [00:03<00:00, 3280.21it/s, 7 steps of size 4.83e-01. acc. prob=0.92]\n",
      "sample: 100%|██████████| 12500/12500 [00:02<00:00, 5452.53it/s, 7 steps of size 5.01e-01. acc. prob=0.92] \n",
      "sample: 100%|██████████| 12500/12500 [00:02<00:00, 5510.62it/s, 3 steps of size 5.22e-01. acc. prob=0.91]\n"
     ]
    },
    {
     "name": "stdout",
     "output_type": "stream",
     "text": [
      "Generating instance 30...\n"
     ]
    },
    {
     "name": "stderr",
     "output_type": "stream",
     "text": [
      "sample: 100%|██████████| 12500/12500 [00:03<00:00, 3262.35it/s, 3 steps of size 4.69e-01. acc. prob=0.92]\n",
      "sample: 100%|██████████| 12500/12500 [00:02<00:00, 5401.14it/s, 3 steps of size 4.80e-01. acc. prob=0.93] \n",
      "sample: 100%|██████████| 12500/12500 [00:02<00:00, 5438.41it/s, 3 steps of size 4.80e-01. acc. prob=0.93]\n"
     ]
    },
    {
     "name": "stdout",
     "output_type": "stream",
     "text": [
      "Generating instance 31...\n"
     ]
    },
    {
     "name": "stderr",
     "output_type": "stream",
     "text": [
      "sample: 100%|██████████| 12500/12500 [00:04<00:00, 2863.18it/s, 3 steps of size 4.98e-01. acc. prob=0.92] \n",
      "sample: 100%|██████████| 12500/12500 [00:02<00:00, 5317.98it/s, 7 steps of size 4.96e-01. acc. prob=0.92]\n",
      "sample: 100%|██████████| 12500/12500 [00:02<00:00, 5379.85it/s, 3 steps of size 4.80e-01. acc. prob=0.93]\n"
     ]
    },
    {
     "name": "stdout",
     "output_type": "stream",
     "text": [
      "Generating instance 32...\n"
     ]
    },
    {
     "name": "stderr",
     "output_type": "stream",
     "text": [
      "sample: 100%|██████████| 12500/12500 [00:03<00:00, 3261.16it/s, 3 steps of size 4.28e-01. acc. prob=0.94]\n",
      "sample: 100%|██████████| 12500/12500 [00:02<00:00, 5413.10it/s, 7 steps of size 4.91e-01. acc. prob=0.92] \n",
      "sample: 100%|██████████| 12500/12500 [00:02<00:00, 5489.87it/s, 15 steps of size 5.04e-01. acc. prob=0.92]\n"
     ]
    },
    {
     "name": "stdout",
     "output_type": "stream",
     "text": [
      "Generating instance 33...\n"
     ]
    },
    {
     "name": "stderr",
     "output_type": "stream",
     "text": [
      "sample: 100%|██████████| 12500/12500 [00:03<00:00, 3249.86it/s, 3 steps of size 5.26e-01. acc. prob=0.90]\n",
      "sample: 100%|██████████| 12500/12500 [00:02<00:00, 5391.13it/s, 7 steps of size 4.60e-01. acc. prob=0.93] \n",
      "sample: 100%|██████████| 12500/12500 [00:02<00:00, 5567.31it/s, 3 steps of size 5.62e-01. acc. prob=0.89]\n"
     ]
    },
    {
     "name": "stdout",
     "output_type": "stream",
     "text": [
      "Generating instance 34...\n"
     ]
    },
    {
     "name": "stderr",
     "output_type": "stream",
     "text": [
      "sample: 100%|██████████| 12500/12500 [00:03<00:00, 3204.65it/s, 7 steps of size 4.08e-01. acc. prob=0.95]\n",
      "sample: 100%|██████████| 12500/12500 [00:02<00:00, 5457.25it/s, 7 steps of size 5.02e-01. acc. prob=0.92]\n",
      "sample: 100%|██████████| 12500/12500 [00:02<00:00, 5529.98it/s, 3 steps of size 5.55e-01. acc. prob=0.90] \n"
     ]
    },
    {
     "name": "stdout",
     "output_type": "stream",
     "text": [
      "Generating instance 35...\n"
     ]
    },
    {
     "name": "stderr",
     "output_type": "stream",
     "text": [
      "sample: 100%|██████████| 12500/12500 [00:03<00:00, 3209.94it/s, 3 steps of size 4.22e-01. acc. prob=0.94] \n",
      "sample: 100%|██████████| 12500/12500 [00:02<00:00, 5388.74it/s, 7 steps of size 4.34e-01. acc. prob=0.94] \n",
      "sample: 100%|██████████| 12500/12500 [00:02<00:00, 5435.61it/s, 7 steps of size 4.70e-01. acc. prob=0.93]\n"
     ]
    },
    {
     "name": "stdout",
     "output_type": "stream",
     "text": [
      "Generating instance 36...\n"
     ]
    },
    {
     "name": "stderr",
     "output_type": "stream",
     "text": [
      "sample: 100%|██████████| 12500/12500 [00:03<00:00, 3285.17it/s, 7 steps of size 4.86e-01. acc. prob=0.92]\n",
      "sample: 100%|██████████| 12500/12500 [00:02<00:00, 5455.51it/s, 7 steps of size 5.06e-01. acc. prob=0.92]\n",
      "sample: 100%|██████████| 12500/12500 [00:02<00:00, 5618.21it/s, 7 steps of size 5.83e-01. acc. prob=0.89]\n"
     ]
    },
    {
     "name": "stdout",
     "output_type": "stream",
     "text": [
      "Generating instance 37...\n"
     ]
    },
    {
     "name": "stderr",
     "output_type": "stream",
     "text": [
      "sample: 100%|██████████| 12500/12500 [00:03<00:00, 3217.59it/s, 7 steps of size 4.55e-01. acc. prob=0.93]\n",
      "sample: 100%|██████████| 12500/12500 [00:02<00:00, 5452.95it/s, 7 steps of size 4.78e-01. acc. prob=0.92]\n",
      "sample: 100%|██████████| 12500/12500 [00:02<00:00, 5446.62it/s, 15 steps of size 4.69e-01. acc. prob=0.93]\n"
     ]
    },
    {
     "name": "stdout",
     "output_type": "stream",
     "text": [
      "Generating instance 38...\n"
     ]
    },
    {
     "name": "stderr",
     "output_type": "stream",
     "text": [
      "sample: 100%|██████████| 12500/12500 [00:04<00:00, 2790.74it/s, 7 steps of size 4.87e-01. acc. prob=0.92]\n",
      "sample: 100%|██████████| 12500/12500 [00:02<00:00, 5415.20it/s, 7 steps of size 4.61e-01. acc. prob=0.93]\n",
      "sample: 100%|██████████| 12500/12500 [00:02<00:00, 5446.61it/s, 3 steps of size 4.51e-01. acc. prob=0.93]\n"
     ]
    },
    {
     "name": "stdout",
     "output_type": "stream",
     "text": [
      "Generating instance 39...\n"
     ]
    },
    {
     "name": "stderr",
     "output_type": "stream",
     "text": [
      "sample: 100%|██████████| 12500/12500 [00:03<00:00, 3249.33it/s, 3 steps of size 4.36e-01. acc. prob=0.93]\n",
      "sample: 100%|██████████| 12500/12500 [00:02<00:00, 5444.86it/s, 7 steps of size 4.89e-01. acc. prob=0.92] \n",
      "sample: 100%|██████████| 12500/12500 [00:02<00:00, 5486.74it/s, 3 steps of size 4.79e-01. acc. prob=0.92]\n"
     ]
    },
    {
     "name": "stdout",
     "output_type": "stream",
     "text": [
      "Generating instance 40...\n"
     ]
    },
    {
     "name": "stderr",
     "output_type": "stream",
     "text": [
      "sample: 100%|██████████| 12500/12500 [00:03<00:00, 3232.52it/s, 7 steps of size 4.71e-01. acc. prob=0.93]\n",
      "sample: 100%|██████████| 12500/12500 [00:02<00:00, 5391.01it/s, 7 steps of size 4.23e-01. acc. prob=0.94]\n",
      "sample: 100%|██████████| 12500/12500 [00:02<00:00, 5508.64it/s, 3 steps of size 4.98e-01. acc. prob=0.92]\n"
     ]
    },
    {
     "name": "stdout",
     "output_type": "stream",
     "text": [
      "Generating instance 41...\n"
     ]
    },
    {
     "name": "stderr",
     "output_type": "stream",
     "text": [
      "sample: 100%|██████████| 12500/12500 [00:03<00:00, 3215.29it/s, 7 steps of size 4.47e-01. acc. prob=0.93] \n",
      "sample: 100%|██████████| 12500/12500 [00:02<00:00, 5246.54it/s, 7 steps of size 4.32e-01. acc. prob=0.94]\n",
      "sample: 100%|██████████| 12500/12500 [00:02<00:00, 5329.45it/s, 23 steps of size 4.47e-01. acc. prob=0.94]\n"
     ]
    },
    {
     "name": "stdout",
     "output_type": "stream",
     "text": [
      "Generating instance 42...\n"
     ]
    },
    {
     "name": "stderr",
     "output_type": "stream",
     "text": [
      "sample: 100%|██████████| 12500/12500 [00:03<00:00, 3219.95it/s, 3 steps of size 4.30e-01. acc. prob=0.94] \n",
      "sample: 100%|██████████| 12500/12500 [00:02<00:00, 5329.22it/s, 7 steps of size 4.36e-01. acc. prob=0.94] \n",
      "sample: 100%|██████████| 12500/12500 [00:02<00:00, 5430.60it/s, 3 steps of size 5.04e-01. acc. prob=0.92]\n"
     ]
    },
    {
     "name": "stdout",
     "output_type": "stream",
     "text": [
      "Generating instance 43...\n"
     ]
    },
    {
     "name": "stderr",
     "output_type": "stream",
     "text": [
      "sample: 100%|██████████| 12500/12500 [00:03<00:00, 3182.92it/s, 3 steps of size 4.49e-01. acc. prob=0.93]\n",
      "sample: 100%|██████████| 12500/12500 [00:02<00:00, 5374.74it/s, 7 steps of size 4.83e-01. acc. prob=0.93] \n",
      "sample: 100%|██████████| 12500/12500 [00:02<00:00, 5288.15it/s, 7 steps of size 4.94e-01. acc. prob=0.92] \n"
     ]
    },
    {
     "name": "stdout",
     "output_type": "stream",
     "text": [
      "Generating instance 44...\n"
     ]
    },
    {
     "name": "stderr",
     "output_type": "stream",
     "text": [
      "sample: 100%|██████████| 12500/12500 [00:04<00:00, 3104.55it/s, 3 steps of size 4.44e-01. acc. prob=0.93] \n",
      "sample: 100%|██████████| 12500/12500 [00:02<00:00, 5143.44it/s, 7 steps of size 5.14e-01. acc. prob=0.91] \n",
      "sample: 100%|██████████| 12500/12500 [00:02<00:00, 5212.10it/s, 3 steps of size 4.89e-01. acc. prob=0.92] \n"
     ]
    },
    {
     "name": "stdout",
     "output_type": "stream",
     "text": [
      "Generating instance 45...\n"
     ]
    },
    {
     "name": "stderr",
     "output_type": "stream",
     "text": [
      "sample: 100%|██████████| 12500/12500 [00:04<00:00, 3101.94it/s, 3 steps of size 4.44e-01. acc. prob=0.93] \n",
      "sample: 100%|██████████| 12500/12500 [00:02<00:00, 5245.84it/s, 7 steps of size 4.75e-01. acc. prob=0.92]\n",
      "sample: 100%|██████████| 12500/12500 [00:02<00:00, 5274.88it/s, 3 steps of size 4.87e-01. acc. prob=0.92] \n"
     ]
    },
    {
     "name": "stdout",
     "output_type": "stream",
     "text": [
      "Generating instance 46...\n"
     ]
    },
    {
     "name": "stderr",
     "output_type": "stream",
     "text": [
      "sample: 100%|██████████| 12500/12500 [00:03<00:00, 3125.53it/s, 7 steps of size 4.84e-01. acc. prob=0.92] \n",
      "sample: 100%|██████████| 12500/12500 [00:02<00:00, 5182.72it/s, 7 steps of size 4.89e-01. acc. prob=0.92]\n",
      "sample: 100%|██████████| 12500/12500 [00:02<00:00, 5104.28it/s, 15 steps of size 4.58e-01. acc. prob=0.93]\n"
     ]
    },
    {
     "name": "stdout",
     "output_type": "stream",
     "text": [
      "Generating instance 47...\n"
     ]
    },
    {
     "name": "stderr",
     "output_type": "stream",
     "text": [
      "sample: 100%|██████████| 12500/12500 [00:04<00:00, 3051.28it/s, 3 steps of size 4.32e-01. acc. prob=0.94]\n",
      "sample: 100%|██████████| 12500/12500 [00:02<00:00, 5120.84it/s, 7 steps of size 4.96e-01. acc. prob=0.92]\n",
      "sample: 100%|██████████| 12500/12500 [00:02<00:00, 5226.28it/s, 3 steps of size 5.28e-01. acc. prob=0.90]\n"
     ]
    },
    {
     "name": "stdout",
     "output_type": "stream",
     "text": [
      "Generating instance 48...\n"
     ]
    },
    {
     "name": "stderr",
     "output_type": "stream",
     "text": [
      "sample: 100%|██████████| 12500/12500 [00:04<00:00, 3109.48it/s, 3 steps of size 4.44e-01. acc. prob=0.93] \n",
      "sample: 100%|██████████| 12500/12500 [00:02<00:00, 5053.03it/s, 7 steps of size 4.36e-01. acc. prob=0.94] \n",
      "sample: 100%|██████████| 12500/12500 [00:02<00:00, 5168.25it/s, 3 steps of size 4.86e-01. acc. prob=0.93]\n"
     ]
    },
    {
     "name": "stdout",
     "output_type": "stream",
     "text": [
      "Generating instance 49...\n"
     ]
    },
    {
     "name": "stderr",
     "output_type": "stream",
     "text": [
      "sample: 100%|██████████| 12500/12500 [00:04<00:00, 3084.16it/s, 7 steps of size 4.11e-01. acc. prob=0.95] \n",
      "sample: 100%|██████████| 12500/12500 [00:02<00:00, 5059.18it/s, 7 steps of size 4.24e-01. acc. prob=0.94] \n",
      "sample: 100%|██████████| 12500/12500 [00:02<00:00, 5187.09it/s, 3 steps of size 5.12e-01. acc. prob=0.91]\n"
     ]
    },
    {
     "name": "stdout",
     "output_type": "stream",
     "text": [
      "Generating instance 50...\n"
     ]
    },
    {
     "name": "stderr",
     "output_type": "stream",
     "text": [
      "sample: 100%|██████████| 12500/12500 [00:04<00:00, 3088.77it/s, 3 steps of size 4.28e-01. acc. prob=0.93] \n",
      "sample: 100%|██████████| 12500/12500 [00:02<00:00, 5115.80it/s, 3 steps of size 4.65e-01. acc. prob=0.93]\n",
      "sample: 100%|██████████| 12500/12500 [00:02<00:00, 5147.80it/s, 3 steps of size 4.85e-01. acc. prob=0.92]\n"
     ]
    },
    {
     "name": "stdout",
     "output_type": "stream",
     "text": [
      "Generating instance 51...\n"
     ]
    },
    {
     "name": "stderr",
     "output_type": "stream",
     "text": [
      "sample: 100%|██████████| 12500/12500 [00:04<00:00, 3056.41it/s, 3 steps of size 4.35e-01. acc. prob=0.93]\n",
      "sample: 100%|██████████| 12500/12500 [00:02<00:00, 5132.11it/s, 3 steps of size 4.73e-01. acc. prob=0.93] \n",
      "sample: 100%|██████████| 12500/12500 [00:02<00:00, 5083.74it/s, 15 steps of size 4.67e-01. acc. prob=0.93]\n"
     ]
    },
    {
     "name": "stdout",
     "output_type": "stream",
     "text": [
      "Generating instance 52...\n"
     ]
    },
    {
     "name": "stderr",
     "output_type": "stream",
     "text": [
      "sample: 100%|██████████| 12500/12500 [00:04<00:00, 3105.95it/s, 3 steps of size 4.98e-01. acc. prob=0.92] \n",
      "sample: 100%|██████████| 12500/12500 [00:02<00:00, 5152.39it/s, 7 steps of size 5.20e-01. acc. prob=0.90] \n",
      "sample: 100%|██████████| 12500/12500 [00:02<00:00, 5210.23it/s, 3 steps of size 5.27e-01. acc. prob=0.91]\n"
     ]
    },
    {
     "name": "stdout",
     "output_type": "stream",
     "text": [
      "Generating instance 53...\n"
     ]
    },
    {
     "name": "stderr",
     "output_type": "stream",
     "text": [
      "sample: 100%|██████████| 12500/12500 [00:04<00:00, 3115.63it/s, 3 steps of size 4.99e-01. acc. prob=0.92]\n",
      "sample: 100%|██████████| 12500/12500 [00:02<00:00, 5155.00it/s, 7 steps of size 5.21e-01. acc. prob=0.91]\n",
      "sample: 100%|██████████| 12500/12500 [00:02<00:00, 5250.31it/s, 7 steps of size 5.35e-01. acc. prob=0.90] \n"
     ]
    },
    {
     "name": "stdout",
     "output_type": "stream",
     "text": [
      "Generating instance 54...\n"
     ]
    },
    {
     "name": "stderr",
     "output_type": "stream",
     "text": [
      "sample: 100%|██████████| 12500/12500 [00:04<00:00, 3072.65it/s, 7 steps of size 4.13e-01. acc. prob=0.95] \n",
      "sample: 100%|██████████| 12500/12500 [00:02<00:00, 5086.53it/s, 7 steps of size 4.33e-01. acc. prob=0.94] \n",
      "sample: 100%|██████████| 12500/12500 [00:02<00:00, 5160.12it/s, 3 steps of size 5.60e-01. acc. prob=0.89]\n"
     ]
    },
    {
     "name": "stdout",
     "output_type": "stream",
     "text": [
      "Generating instance 55...\n"
     ]
    },
    {
     "name": "stderr",
     "output_type": "stream",
     "text": [
      "sample: 100%|██████████| 12500/12500 [00:04<00:00, 3048.18it/s, 3 steps of size 4.44e-01. acc. prob=0.93] \n",
      "sample: 100%|██████████| 12500/12500 [00:02<00:00, 5173.43it/s, 7 steps of size 5.02e-01. acc. prob=0.91]\n",
      "sample: 100%|██████████| 12500/12500 [00:02<00:00, 5084.62it/s, 15 steps of size 4.65e-01. acc. prob=0.93]\n"
     ]
    },
    {
     "name": "stdout",
     "output_type": "stream",
     "text": [
      "Generating instance 56...\n"
     ]
    },
    {
     "name": "stderr",
     "output_type": "stream",
     "text": [
      "sample: 100%|██████████| 12500/12500 [00:04<00:00, 3069.80it/s, 3 steps of size 4.97e-01. acc. prob=0.91]\n",
      "sample: 100%|██████████| 12500/12500 [00:02<00:00, 5012.85it/s, 7 steps of size 4.78e-01. acc. prob=0.93] \n",
      "sample: 100%|██████████| 12500/12500 [00:02<00:00, 5093.68it/s, 3 steps of size 4.83e-01. acc. prob=0.92] \n"
     ]
    },
    {
     "name": "stdout",
     "output_type": "stream",
     "text": [
      "Generating instance 57...\n"
     ]
    },
    {
     "name": "stderr",
     "output_type": "stream",
     "text": [
      "sample: 100%|██████████| 12500/12500 [00:04<00:00, 3018.27it/s, 3 steps of size 4.28e-01. acc. prob=0.94] \n",
      "sample: 100%|██████████| 12500/12500 [00:02<00:00, 5034.18it/s, 7 steps of size 4.27e-01. acc. prob=0.94]\n",
      "sample: 100%|██████████| 12500/12500 [00:02<00:00, 5114.01it/s, 3 steps of size 5.15e-01. acc. prob=0.91]\n"
     ]
    },
    {
     "name": "stdout",
     "output_type": "stream",
     "text": [
      "Generating instance 58...\n"
     ]
    },
    {
     "name": "stderr",
     "output_type": "stream",
     "text": [
      "sample: 100%|██████████| 12500/12500 [00:04<00:00, 3058.45it/s, 3 steps of size 5.04e-01. acc. prob=0.91]\n",
      "sample: 100%|██████████| 12500/12500 [00:02<00:00, 5099.47it/s, 7 steps of size 5.13e-01. acc. prob=0.91]\n",
      "sample: 100%|██████████| 12500/12500 [00:02<00:00, 5070.96it/s, 3 steps of size 4.93e-01. acc. prob=0.92]\n"
     ]
    },
    {
     "name": "stdout",
     "output_type": "stream",
     "text": [
      "Generating instance 59...\n"
     ]
    },
    {
     "name": "stderr",
     "output_type": "stream",
     "text": [
      "sample: 100%|██████████| 12500/12500 [00:04<00:00, 3101.33it/s, 3 steps of size 5.33e-01. acc. prob=0.90] \n",
      "sample: 100%|██████████| 12500/12500 [00:02<00:00, 5000.96it/s, 7 steps of size 4.59e-01. acc. prob=0.93] \n",
      "sample: 100%|██████████| 12500/12500 [00:02<00:00, 5095.79it/s, 3 steps of size 4.62e-01. acc. prob=0.93]\n"
     ]
    },
    {
     "name": "stdout",
     "output_type": "stream",
     "text": [
      "Generating instance 60...\n"
     ]
    },
    {
     "name": "stderr",
     "output_type": "stream",
     "text": [
      "sample: 100%|██████████| 12500/12500 [00:04<00:00, 3064.76it/s, 3 steps of size 4.85e-01. acc. prob=0.92] \n",
      "sample: 100%|██████████| 12500/12500 [00:02<00:00, 5075.18it/s, 7 steps of size 4.77e-01. acc. prob=0.92] \n",
      "sample: 100%|██████████| 12500/12500 [00:02<00:00, 5146.15it/s, 3 steps of size 5.20e-01. acc. prob=0.91]\n"
     ]
    },
    {
     "name": "stdout",
     "output_type": "stream",
     "text": [
      "Generating instance 61...\n"
     ]
    },
    {
     "name": "stderr",
     "output_type": "stream",
     "text": [
      "sample: 100%|██████████| 12500/12500 [00:04<00:00, 3038.38it/s, 7 steps of size 4.63e-01. acc. prob=0.92] \n",
      "sample: 100%|██████████| 12500/12500 [00:02<00:00, 5022.69it/s, 7 steps of size 4.37e-01. acc. prob=0.94] \n",
      "sample: 100%|██████████| 12500/12500 [00:02<00:00, 5076.89it/s, 3 steps of size 5.09e-01. acc. prob=0.92]\n"
     ]
    },
    {
     "name": "stdout",
     "output_type": "stream",
     "text": [
      "Generating instance 62...\n"
     ]
    },
    {
     "name": "stderr",
     "output_type": "stream",
     "text": [
      "sample: 100%|██████████| 12500/12500 [00:04<00:00, 3061.53it/s, 3 steps of size 4.55e-01. acc. prob=0.93]\n",
      "sample: 100%|██████████| 12500/12500 [00:02<00:00, 5131.90it/s, 3 steps of size 4.71e-01. acc. prob=0.92]\n",
      "sample: 100%|██████████| 12500/12500 [00:02<00:00, 5044.63it/s, 3 steps of size 4.69e-01. acc. prob=0.93] \n"
     ]
    },
    {
     "name": "stdout",
     "output_type": "stream",
     "text": [
      "Generating instance 63...\n"
     ]
    },
    {
     "name": "stderr",
     "output_type": "stream",
     "text": [
      "sample: 100%|██████████| 12500/12500 [00:04<00:00, 3048.28it/s, 3 steps of size 4.51e-01. acc. prob=0.93] \n",
      "sample: 100%|██████████| 12500/12500 [00:02<00:00, 5044.40it/s, 7 steps of size 4.48e-01. acc. prob=0.93] \n",
      "sample: 100%|██████████| 12500/12500 [00:02<00:00, 5038.83it/s, 3 steps of size 4.74e-01. acc. prob=0.93]\n"
     ]
    },
    {
     "name": "stdout",
     "output_type": "stream",
     "text": [
      "Generating instance 64...\n"
     ]
    },
    {
     "name": "stderr",
     "output_type": "stream",
     "text": [
      "sample: 100%|██████████| 12500/12500 [00:04<00:00, 3100.50it/s, 3 steps of size 5.31e-01. acc. prob=0.90]\n",
      "sample: 100%|██████████| 12500/12500 [00:02<00:00, 5144.22it/s, 3 steps of size 5.57e-01. acc. prob=0.90]\n",
      "sample: 100%|██████████| 12500/12500 [00:02<00:00, 5061.38it/s, 3 steps of size 4.75e-01. acc. prob=0.93]\n"
     ]
    },
    {
     "name": "stdout",
     "output_type": "stream",
     "text": [
      "Generating instance 65...\n"
     ]
    },
    {
     "name": "stderr",
     "output_type": "stream",
     "text": [
      "sample: 100%|██████████| 12500/12500 [00:04<00:00, 3053.45it/s, 3 steps of size 4.24e-01. acc. prob=0.94] \n",
      "sample: 100%|██████████| 12500/12500 [00:02<00:00, 5080.80it/s, 7 steps of size 4.49e-01. acc. prob=0.94]\n",
      "sample: 100%|██████████| 12500/12500 [00:02<00:00, 5036.72it/s, 3 steps of size 4.81e-01. acc. prob=0.93]\n"
     ]
    },
    {
     "name": "stdout",
     "output_type": "stream",
     "text": [
      "Generating instance 66...\n"
     ]
    },
    {
     "name": "stderr",
     "output_type": "stream",
     "text": [
      "sample: 100%|██████████| 12500/12500 [00:04<00:00, 3044.46it/s, 3 steps of size 4.27e-01. acc. prob=0.94]\n",
      "sample: 100%|██████████| 12500/12500 [00:02<00:00, 5082.08it/s, 7 steps of size 5.27e-01. acc. prob=0.90] \n",
      "sample: 100%|██████████| 12500/12500 [00:02<00:00, 5037.36it/s, 3 steps of size 4.94e-01. acc. prob=0.92]\n"
     ]
    },
    {
     "name": "stdout",
     "output_type": "stream",
     "text": [
      "Generating instance 67...\n"
     ]
    },
    {
     "name": "stderr",
     "output_type": "stream",
     "text": [
      "sample: 100%|██████████| 12500/12500 [00:04<00:00, 3037.78it/s, 3 steps of size 4.30e-01. acc. prob=0.94] \n",
      "sample: 100%|██████████| 12500/12500 [00:02<00:00, 5024.15it/s, 7 steps of size 4.84e-01. acc. prob=0.92]\n",
      "sample: 100%|██████████| 12500/12500 [00:02<00:00, 5057.20it/s, 3 steps of size 4.70e-01. acc. prob=0.93] \n"
     ]
    },
    {
     "name": "stdout",
     "output_type": "stream",
     "text": [
      "Generating instance 68...\n"
     ]
    },
    {
     "name": "stderr",
     "output_type": "stream",
     "text": [
      "sample: 100%|██████████| 12500/12500 [00:04<00:00, 3073.73it/s, 3 steps of size 5.12e-01. acc. prob=0.91] \n",
      "sample: 100%|██████████| 12500/12500 [00:02<00:00, 5029.10it/s, 7 steps of size 4.55e-01. acc. prob=0.93] \n",
      "sample: 100%|██████████| 12500/12500 [00:02<00:00, 5013.07it/s, 3 steps of size 4.91e-01. acc. prob=0.92]\n"
     ]
    },
    {
     "name": "stdout",
     "output_type": "stream",
     "text": [
      "Generating instance 69...\n"
     ]
    },
    {
     "name": "stderr",
     "output_type": "stream",
     "text": [
      "sample: 100%|██████████| 12500/12500 [00:05<00:00, 2253.08it/s, 3 steps of size 4.96e-01. acc. prob=0.92]\n",
      "sample: 100%|██████████| 12500/12500 [00:02<00:00, 4983.78it/s, 7 steps of size 4.94e-01. acc. prob=0.92] \n",
      "sample: 100%|██████████| 12500/12500 [00:02<00:00, 4975.56it/s, 7 steps of size 4.68e-01. acc. prob=0.93] \n"
     ]
    },
    {
     "name": "stdout",
     "output_type": "stream",
     "text": [
      "Generating instance 70...\n"
     ]
    },
    {
     "name": "stderr",
     "output_type": "stream",
     "text": [
      "sample: 100%|██████████| 12500/12500 [00:04<00:00, 3024.53it/s, 7 steps of size 4.08e-01. acc. prob=0.94] \n",
      "sample: 100%|██████████| 12500/12500 [00:02<00:00, 4966.97it/s, 7 steps of size 4.24e-01. acc. prob=0.94] \n",
      "sample: 100%|██████████| 12500/12500 [00:02<00:00, 5067.77it/s, 7 steps of size 5.40e-01. acc. prob=0.89]\n"
     ]
    },
    {
     "name": "stdout",
     "output_type": "stream",
     "text": [
      "Generating instance 71...\n"
     ]
    },
    {
     "name": "stderr",
     "output_type": "stream",
     "text": [
      "sample: 100%|██████████| 12500/12500 [00:04<00:00, 2991.01it/s, 7 steps of size 4.79e-01. acc. prob=0.92] \n",
      "sample: 100%|██████████| 12500/12500 [00:02<00:00, 5044.59it/s, 3 steps of size 5.26e-01. acc. prob=0.90]\n",
      "sample: 100%|██████████| 12500/12500 [00:02<00:00, 5002.54it/s, 3 steps of size 4.90e-01. acc. prob=0.92] \n"
     ]
    },
    {
     "name": "stdout",
     "output_type": "stream",
     "text": [
      "Generating instance 72...\n"
     ]
    },
    {
     "name": "stderr",
     "output_type": "stream",
     "text": [
      "sample: 100%|██████████| 12500/12500 [00:04<00:00, 3027.92it/s, 7 steps of size 4.80e-01. acc. prob=0.92]\n",
      "sample: 100%|██████████| 12500/12500 [00:02<00:00, 5014.57it/s, 7 steps of size 4.79e-01. acc. prob=0.92]\n",
      "sample: 100%|██████████| 12500/12500 [00:02<00:00, 4989.36it/s, 7 steps of size 4.60e-01. acc. prob=0.93]\n"
     ]
    },
    {
     "name": "stdout",
     "output_type": "stream",
     "text": [
      "Generating instance 73...\n"
     ]
    },
    {
     "name": "stderr",
     "output_type": "stream",
     "text": [
      "sample: 100%|██████████| 12500/12500 [00:04<00:00, 3042.33it/s, 7 steps of size 4.51e-01. acc. prob=0.93] \n",
      "sample: 100%|██████████| 12500/12500 [00:02<00:00, 4986.73it/s, 7 steps of size 4.49e-01. acc. prob=0.94]\n",
      "sample: 100%|██████████| 12500/12500 [00:02<00:00, 5078.03it/s, 3 steps of size 5.09e-01. acc. prob=0.92]\n"
     ]
    },
    {
     "name": "stdout",
     "output_type": "stream",
     "text": [
      "Generating instance 74...\n"
     ]
    },
    {
     "name": "stderr",
     "output_type": "stream",
     "text": [
      "sample: 100%|██████████| 12500/12500 [00:04<00:00, 3039.54it/s, 3 steps of size 4.94e-01. acc. prob=0.91]\n",
      "sample: 100%|██████████| 12500/12500 [00:02<00:00, 5018.22it/s, 7 steps of size 4.47e-01. acc. prob=0.94] \n",
      "sample: 100%|██████████| 12500/12500 [00:02<00:00, 5098.31it/s, 3 steps of size 5.05e-01. acc. prob=0.92]\n"
     ]
    },
    {
     "name": "stdout",
     "output_type": "stream",
     "text": [
      "Generating instance 75...\n"
     ]
    },
    {
     "name": "stderr",
     "output_type": "stream",
     "text": [
      "sample: 100%|██████████| 12500/12500 [00:04<00:00, 3040.00it/s, 3 steps of size 4.83e-01. acc. prob=0.92] \n",
      "sample: 100%|██████████| 12500/12500 [00:02<00:00, 5043.57it/s, 7 steps of size 5.24e-01. acc. prob=0.90]\n",
      "sample: 100%|██████████| 12500/12500 [00:02<00:00, 5028.12it/s, 3 steps of size 5.09e-01. acc. prob=0.91]\n"
     ]
    },
    {
     "name": "stdout",
     "output_type": "stream",
     "text": [
      "Generating instance 76...\n"
     ]
    },
    {
     "name": "stderr",
     "output_type": "stream",
     "text": [
      "sample: 100%|██████████| 12500/12500 [00:04<00:00, 3012.36it/s, 3 steps of size 4.26e-01. acc. prob=0.94] \n",
      "sample: 100%|██████████| 12500/12500 [00:02<00:00, 5040.28it/s, 7 steps of size 5.27e-01. acc. prob=0.90] \n",
      "sample: 100%|██████████| 12500/12500 [00:02<00:00, 4906.99it/s, 15 steps of size 4.56e-01. acc. prob=0.93]\n"
     ]
    },
    {
     "name": "stdout",
     "output_type": "stream",
     "text": [
      "Generating instance 77...\n"
     ]
    },
    {
     "name": "stderr",
     "output_type": "stream",
     "text": [
      "sample: 100%|██████████| 12500/12500 [00:04<00:00, 3033.21it/s, 3 steps of size 4.29e-01. acc. prob=0.94]\n",
      "sample: 100%|██████████| 12500/12500 [00:02<00:00, 5055.47it/s, 7 steps of size 5.08e-01. acc. prob=0.91]\n",
      "sample: 100%|██████████| 12500/12500 [00:02<00:00, 5061.56it/s, 3 steps of size 5.07e-01. acc. prob=0.92]\n"
     ]
    },
    {
     "name": "stdout",
     "output_type": "stream",
     "text": [
      "Generating instance 78...\n"
     ]
    },
    {
     "name": "stderr",
     "output_type": "stream",
     "text": [
      "sample: 100%|██████████| 12500/12500 [00:04<00:00, 3043.15it/s, 3 steps of size 4.89e-01. acc. prob=0.92] \n",
      "sample: 100%|██████████| 12500/12500 [00:02<00:00, 5057.08it/s, 7 steps of size 5.14e-01. acc. prob=0.91]\n",
      "sample: 100%|██████████| 12500/12500 [00:02<00:00, 5142.54it/s, 3 steps of size 5.24e-01. acc. prob=0.91]\n"
     ]
    },
    {
     "name": "stdout",
     "output_type": "stream",
     "text": [
      "Generating instance 79...\n"
     ]
    },
    {
     "name": "stderr",
     "output_type": "stream",
     "text": [
      "sample: 100%|██████████| 12500/12500 [00:04<00:00, 2996.44it/s, 3 steps of size 4.62e-01. acc. prob=0.93] \n",
      "sample: 100%|██████████| 12500/12500 [00:02<00:00, 4971.88it/s, 7 steps of size 4.37e-01. acc. prob=0.94] \n",
      "sample: 100%|██████████| 12500/12500 [00:02<00:00, 4989.72it/s, 3 steps of size 4.88e-01. acc. prob=0.92] \n"
     ]
    },
    {
     "name": "stdout",
     "output_type": "stream",
     "text": [
      "Generating instance 80...\n"
     ]
    },
    {
     "name": "stderr",
     "output_type": "stream",
     "text": [
      "sample: 100%|██████████| 12500/12500 [00:04<00:00, 3006.77it/s, 7 steps of size 4.28e-01. acc. prob=0.94] \n",
      "sample: 100%|██████████| 12500/12500 [00:02<00:00, 4985.03it/s, 3 steps of size 4.68e-01. acc. prob=0.93]\n",
      "sample: 100%|██████████| 12500/12500 [00:02<00:00, 4983.75it/s, 3 steps of size 4.85e-01. acc. prob=0.92]\n"
     ]
    },
    {
     "name": "stdout",
     "output_type": "stream",
     "text": [
      "Generating instance 81...\n"
     ]
    },
    {
     "name": "stderr",
     "output_type": "stream",
     "text": [
      "sample: 100%|██████████| 12500/12500 [00:04<00:00, 2971.60it/s, 7 steps of size 4.20e-01. acc. prob=0.94] \n",
      "sample: 100%|██████████| 12500/12500 [00:02<00:00, 5061.90it/s, 3 steps of size 5.38e-01. acc. prob=0.90]\n",
      "sample: 100%|██████████| 12500/12500 [00:02<00:00, 4991.32it/s, 3 steps of size 4.89e-01. acc. prob=0.92]\n"
     ]
    },
    {
     "name": "stdout",
     "output_type": "stream",
     "text": [
      "Generating instance 82...\n"
     ]
    },
    {
     "name": "stderr",
     "output_type": "stream",
     "text": [
      "sample: 100%|██████████| 12500/12500 [00:04<00:00, 3021.49it/s, 7 steps of size 4.79e-01. acc. prob=0.92]\n",
      "sample: 100%|██████████| 12500/12500 [00:02<00:00, 4914.57it/s, 7 steps of size 4.37e-01. acc. prob=0.94] \n",
      "sample: 100%|██████████| 12500/12500 [00:02<00:00, 5038.46it/s, 3 steps of size 5.48e-01. acc. prob=0.90] \n"
     ]
    },
    {
     "name": "stdout",
     "output_type": "stream",
     "text": [
      "Generating instance 83...\n"
     ]
    },
    {
     "name": "stderr",
     "output_type": "stream",
     "text": [
      "sample: 100%|██████████| 12500/12500 [00:04<00:00, 3028.60it/s, 3 steps of size 4.35e-01. acc. prob=0.94] \n",
      "sample: 100%|██████████| 12500/12500 [00:02<00:00, 5051.88it/s, 7 steps of size 5.28e-01. acc. prob=0.90] \n",
      "sample: 100%|██████████| 12500/12500 [00:02<00:00, 5074.18it/s, 3 steps of size 5.12e-01. acc. prob=0.91] \n"
     ]
    },
    {
     "name": "stdout",
     "output_type": "stream",
     "text": [
      "Generating instance 84...\n"
     ]
    },
    {
     "name": "stderr",
     "output_type": "stream",
     "text": [
      "sample: 100%|██████████| 12500/12500 [00:05<00:00, 2104.05it/s, 3 steps of size 5.01e-01. acc. prob=0.91]\n",
      "sample: 100%|██████████| 12500/12500 [00:02<00:00, 5013.33it/s, 7 steps of size 5.17e-01. acc. prob=0.91] \n",
      "sample: 100%|██████████| 12500/12500 [00:02<00:00, 5013.86it/s, 3 steps of size 4.74e-01. acc. prob=0.93]\n"
     ]
    },
    {
     "name": "stdout",
     "output_type": "stream",
     "text": [
      "Generating instance 85...\n"
     ]
    },
    {
     "name": "stderr",
     "output_type": "stream",
     "text": [
      "sample: 100%|██████████| 12500/12500 [00:04<00:00, 3006.00it/s, 3 steps of size 4.83e-01. acc. prob=0.92]\n",
      "sample: 100%|██████████| 12500/12500 [00:02<00:00, 5022.98it/s, 7 steps of size 5.02e-01. acc. prob=0.91]\n",
      "sample: 100%|██████████| 12500/12500 [00:02<00:00, 5032.22it/s, 15 steps of size 4.97e-01. acc. prob=0.91]\n"
     ]
    },
    {
     "name": "stdout",
     "output_type": "stream",
     "text": [
      "Generating instance 86...\n"
     ]
    },
    {
     "name": "stderr",
     "output_type": "stream",
     "text": [
      "sample: 100%|██████████| 12500/12500 [00:04<00:00, 3017.05it/s, 7 steps of size 4.68e-01. acc. prob=0.93] \n",
      "sample: 100%|██████████| 12500/12500 [00:02<00:00, 4933.31it/s, 7 steps of size 4.66e-01. acc. prob=0.92]\n",
      "sample: 100%|██████████| 12500/12500 [00:02<00:00, 5056.87it/s, 3 steps of size 5.15e-01. acc. prob=0.91] \n"
     ]
    },
    {
     "name": "stdout",
     "output_type": "stream",
     "text": [
      "Generating instance 87...\n"
     ]
    },
    {
     "name": "stderr",
     "output_type": "stream",
     "text": [
      "sample: 100%|██████████| 12500/12500 [00:04<00:00, 3011.32it/s, 3 steps of size 5.21e-01. acc. prob=0.90]\n",
      "sample: 100%|██████████| 12500/12500 [00:02<00:00, 5040.86it/s, 7 steps of size 5.13e-01. acc. prob=0.91] \n",
      "sample: 100%|██████████| 12500/12500 [00:02<00:00, 4925.44it/s, 15 steps of size 4.48e-01. acc. prob=0.94]\n"
     ]
    },
    {
     "name": "stdout",
     "output_type": "stream",
     "text": [
      "Generating instance 88...\n"
     ]
    },
    {
     "name": "stderr",
     "output_type": "stream",
     "text": [
      "sample: 100%|██████████| 12500/12500 [00:04<00:00, 2986.28it/s, 7 steps of size 4.69e-01. acc. prob=0.93]\n",
      "sample: 100%|██████████| 12500/12500 [00:02<00:00, 4932.18it/s, 7 steps of size 5.01e-01. acc. prob=0.91]\n",
      "sample: 100%|██████████| 12500/12500 [00:02<00:00, 4971.95it/s, 3 steps of size 5.06e-01. acc. prob=0.91]\n"
     ]
    },
    {
     "name": "stdout",
     "output_type": "stream",
     "text": [
      "Generating instance 89...\n"
     ]
    },
    {
     "name": "stderr",
     "output_type": "stream",
     "text": [
      "sample: 100%|██████████| 12500/12500 [00:04<00:00, 2994.23it/s, 3 steps of size 5.10e-01. acc. prob=0.91] \n",
      "sample: 100%|██████████| 12500/12500 [00:02<00:00, 4910.49it/s, 7 steps of size 4.82e-01. acc. prob=0.92] \n",
      "sample: 100%|██████████| 12500/12500 [00:02<00:00, 4972.14it/s, 15 steps of size 5.13e-01. acc. prob=0.92]\n"
     ]
    },
    {
     "name": "stdout",
     "output_type": "stream",
     "text": [
      "Generating instance 90...\n"
     ]
    },
    {
     "name": "stderr",
     "output_type": "stream",
     "text": [
      "sample: 100%|██████████| 12500/12500 [00:04<00:00, 3045.57it/s, 3 steps of size 5.17e-01. acc. prob=0.91] \n",
      "sample: 100%|██████████| 12500/12500 [00:02<00:00, 4995.91it/s, 7 steps of size 4.55e-01. acc. prob=0.93] \n",
      "sample: 100%|██████████| 12500/12500 [00:02<00:00, 5040.79it/s, 3 steps of size 4.93e-01. acc. prob=0.92] \n"
     ]
    },
    {
     "name": "stdout",
     "output_type": "stream",
     "text": [
      "Generating instance 91...\n"
     ]
    },
    {
     "name": "stderr",
     "output_type": "stream",
     "text": [
      "sample: 100%|██████████| 12500/12500 [00:04<00:00, 2983.27it/s, 3 steps of size 4.31e-01. acc. prob=0.94] \n",
      "sample: 100%|██████████| 12500/12500 [00:02<00:00, 4889.12it/s, 7 steps of size 4.33e-01. acc. prob=0.94] \n",
      "sample: 100%|██████████| 12500/12500 [00:02<00:00, 4959.83it/s, 3 steps of size 5.10e-01. acc. prob=0.91]\n"
     ]
    },
    {
     "name": "stdout",
     "output_type": "stream",
     "text": [
      "Generating instance 92...\n"
     ]
    },
    {
     "name": "stderr",
     "output_type": "stream",
     "text": [
      "sample: 100%|██████████| 12500/12500 [00:04<00:00, 2997.82it/s, 3 steps of size 4.50e-01. acc. prob=0.94]\n",
      "sample: 100%|██████████| 12500/12500 [00:02<00:00, 4937.67it/s, 3 steps of size 4.85e-01. acc. prob=0.92]\n",
      "sample: 100%|██████████| 12500/12500 [00:02<00:00, 4946.71it/s, 3 steps of size 4.91e-01. acc. prob=0.92]\n"
     ]
    },
    {
     "name": "stdout",
     "output_type": "stream",
     "text": [
      "Generating instance 93...\n"
     ]
    },
    {
     "name": "stderr",
     "output_type": "stream",
     "text": [
      "sample: 100%|██████████| 12500/12500 [00:04<00:00, 3009.91it/s, 7 steps of size 4.55e-01. acc. prob=0.93] \n",
      "sample: 100%|██████████| 12500/12500 [00:02<00:00, 4993.88it/s, 7 steps of size 4.93e-01. acc. prob=0.92]\n",
      "sample: 100%|██████████| 12500/12500 [00:02<00:00, 4886.65it/s, 15 steps of size 4.63e-01. acc. prob=0.93]\n"
     ]
    },
    {
     "name": "stdout",
     "output_type": "stream",
     "text": [
      "Generating instance 94...\n"
     ]
    },
    {
     "name": "stderr",
     "output_type": "stream",
     "text": [
      "sample: 100%|██████████| 12500/12500 [00:04<00:00, 2988.91it/s, 7 steps of size 4.52e-01. acc. prob=0.93] \n",
      "sample: 100%|██████████| 12500/12500 [00:02<00:00, 4859.53it/s, 7 steps of size 4.28e-01. acc. prob=0.94] \n",
      "sample: 100%|██████████| 12500/12500 [00:02<00:00, 4944.63it/s, 3 steps of size 5.50e-01. acc. prob=0.90]\n"
     ]
    },
    {
     "name": "stdout",
     "output_type": "stream",
     "text": [
      "Generating instance 95...\n"
     ]
    },
    {
     "name": "stderr",
     "output_type": "stream",
     "text": [
      "sample: 100%|██████████| 12500/12500 [00:04<00:00, 2941.81it/s, 7 steps of size 4.15e-01. acc. prob=0.94] \n",
      "sample: 100%|██████████| 12500/12500 [00:02<00:00, 4911.97it/s, 7 steps of size 4.61e-01. acc. prob=0.93] \n",
      "sample: 100%|██████████| 12500/12500 [00:02<00:00, 4926.12it/s, 3 steps of size 4.81e-01. acc. prob=0.92]\n"
     ]
    },
    {
     "name": "stdout",
     "output_type": "stream",
     "text": [
      "Generating instance 96...\n"
     ]
    },
    {
     "name": "stderr",
     "output_type": "stream",
     "text": [
      "sample: 100%|██████████| 12500/12500 [00:04<00:00, 2951.86it/s, 3 steps of size 4.36e-01. acc. prob=0.94] \n",
      "sample: 100%|██████████| 12500/12500 [00:02<00:00, 4928.80it/s, 7 steps of size 4.97e-01. acc. prob=0.92]\n",
      "sample: 100%|██████████| 12500/12500 [00:02<00:00, 4916.42it/s, 3 steps of size 4.69e-01. acc. prob=0.93]\n"
     ]
    },
    {
     "name": "stdout",
     "output_type": "stream",
     "text": [
      "Generating instance 97...\n"
     ]
    },
    {
     "name": "stderr",
     "output_type": "stream",
     "text": [
      "sample: 100%|██████████| 12500/12500 [00:04<00:00, 2975.83it/s, 3 steps of size 4.66e-01. acc. prob=0.92] \n",
      "sample: 100%|██████████| 12500/12500 [00:02<00:00, 4870.12it/s, 7 steps of size 4.32e-01. acc. prob=0.94]\n",
      "sample: 100%|██████████| 12500/12500 [00:02<00:00, 5196.36it/s, 3 steps of size 4.75e-01. acc. prob=0.93] \n"
     ]
    },
    {
     "name": "stdout",
     "output_type": "stream",
     "text": [
      "Generating instance 98...\n"
     ]
    },
    {
     "name": "stderr",
     "output_type": "stream",
     "text": [
      "sample: 100%|██████████| 12500/12500 [00:04<00:00, 3030.61it/s, 3 steps of size 4.41e-01. acc. prob=0.94] \n",
      "sample: 100%|██████████| 12500/12500 [00:02<00:00, 5259.58it/s, 3 steps of size 5.53e-01. acc. prob=0.89]\n",
      "sample: 100%|██████████| 12500/12500 [00:02<00:00, 5255.24it/s, 3 steps of size 4.86e-01. acc. prob=0.93] \n"
     ]
    },
    {
     "name": "stdout",
     "output_type": "stream",
     "text": [
      "Generating instance 99...\n"
     ]
    },
    {
     "name": "stderr",
     "output_type": "stream",
     "text": [
      "sample: 100%|██████████| 12500/12500 [00:04<00:00, 3105.06it/s, 3 steps of size 4.28e-01. acc. prob=0.94] \n",
      "sample: 100%|██████████| 12500/12500 [00:02<00:00, 5298.11it/s, 7 steps of size 5.18e-01. acc. prob=0.91] \n",
      "sample: 100%|██████████| 12500/12500 [00:02<00:00, 5310.56it/s, 3 steps of size 5.01e-01. acc. prob=0.92] \n"
     ]
    },
    {
     "name": "stdout",
     "output_type": "stream",
     "text": [
      "Generating instance 100...\n"
     ]
    },
    {
     "name": "stderr",
     "output_type": "stream",
     "text": [
      "sample: 100%|██████████| 12500/12500 [00:03<00:00, 3147.79it/s, 7 steps of size 4.69e-01. acc. prob=0.93] \n",
      "sample: 100%|██████████| 12500/12500 [00:02<00:00, 5163.23it/s, 7 steps of size 4.68e-01. acc. prob=0.93]\n",
      "sample: 100%|██████████| 12500/12500 [00:02<00:00, 5249.58it/s, 15 steps of size 4.63e-01. acc. prob=0.93]\n"
     ]
    },
    {
     "name": "stdout",
     "output_type": "stream",
     "text": [
      "Working on varying sigma_mu...\n",
      "Generating instance 1...\n"
     ]
    },
    {
     "name": "stderr",
     "output_type": "stream",
     "text": [
      "sample: 100%|██████████| 12500/12500 [00:03<00:00, 3177.66it/s, 7 steps of size 4.90e-01. acc. prob=0.92] \n",
      "sample: 100%|██████████| 12500/12500 [00:02<00:00, 5273.25it/s, 7 steps of size 4.83e-01. acc. prob=0.92]\n",
      "sample: 100%|██████████| 12500/12500 [00:02<00:00, 5314.91it/s, 7 steps of size 4.83e-01. acc. prob=0.93] \n"
     ]
    },
    {
     "name": "stdout",
     "output_type": "stream",
     "text": [
      "Generating instance 2...\n"
     ]
    },
    {
     "name": "stderr",
     "output_type": "stream",
     "text": [
      "sample: 100%|██████████| 12500/12500 [00:04<00:00, 3075.37it/s, 3 steps of size 4.46e-01. acc. prob=0.93] \n",
      "sample: 100%|██████████| 12500/12500 [00:02<00:00, 5330.18it/s, 7 steps of size 5.09e-01. acc. prob=0.91]\n",
      "sample: 100%|██████████| 12500/12500 [00:02<00:00, 5314.64it/s, 3 steps of size 4.89e-01. acc. prob=0.92] \n"
     ]
    },
    {
     "name": "stdout",
     "output_type": "stream",
     "text": [
      "Generating instance 3...\n"
     ]
    },
    {
     "name": "stderr",
     "output_type": "stream",
     "text": [
      "sample: 100%|██████████| 12500/12500 [00:04<00:00, 3119.22it/s, 3 steps of size 4.48e-01. acc. prob=0.93] \n",
      "sample: 100%|██████████| 12500/12500 [00:02<00:00, 5282.33it/s, 7 steps of size 4.90e-01. acc. prob=0.92] \n",
      "sample: 100%|██████████| 12500/12500 [00:02<00:00, 5241.29it/s, 3 steps of size 4.82e-01. acc. prob=0.93]\n"
     ]
    },
    {
     "name": "stdout",
     "output_type": "stream",
     "text": [
      "Generating instance 4...\n"
     ]
    },
    {
     "name": "stderr",
     "output_type": "stream",
     "text": [
      "sample: 100%|██████████| 12500/12500 [00:04<00:00, 3121.59it/s, 3 steps of size 4.48e-01. acc. prob=0.93]\n",
      "sample: 100%|██████████| 12500/12500 [00:02<00:00, 5253.91it/s, 7 steps of size 4.64e-01. acc. prob=0.93] \n",
      "sample: 100%|██████████| 12500/12500 [00:02<00:00, 5260.46it/s, 3 steps of size 4.70e-01. acc. prob=0.93] \n"
     ]
    },
    {
     "name": "stdout",
     "output_type": "stream",
     "text": [
      "Generating instance 5...\n"
     ]
    },
    {
     "name": "stderr",
     "output_type": "stream",
     "text": [
      "sample: 100%|██████████| 12500/12500 [00:04<00:00, 3116.85it/s, 7 steps of size 4.89e-01. acc. prob=0.92] \n",
      "sample: 100%|██████████| 12500/12500 [00:02<00:00, 5316.69it/s, 7 steps of size 4.81e-01. acc. prob=0.92]\n",
      "sample: 100%|██████████| 12500/12500 [00:02<00:00, 5353.73it/s, 7 steps of size 4.73e-01. acc. prob=0.93]\n"
     ]
    },
    {
     "name": "stdout",
     "output_type": "stream",
     "text": [
      "Generating instance 6...\n"
     ]
    },
    {
     "name": "stderr",
     "output_type": "stream",
     "text": [
      "sample: 100%|██████████| 12500/12500 [00:03<00:00, 3164.11it/s, 3 steps of size 4.35e-01. acc. prob=0.94]\n",
      "sample: 100%|██████████| 12500/12500 [00:02<00:00, 5162.88it/s, 7 steps of size 4.55e-01. acc. prob=0.93] \n",
      "sample: 100%|██████████| 12500/12500 [00:02<00:00, 5231.90it/s, 3 steps of size 4.82e-01. acc. prob=0.93]\n"
     ]
    },
    {
     "name": "stdout",
     "output_type": "stream",
     "text": [
      "Generating instance 7...\n"
     ]
    },
    {
     "name": "stderr",
     "output_type": "stream",
     "text": [
      "sample: 100%|██████████| 12500/12500 [00:04<00:00, 3116.39it/s, 3 steps of size 4.36e-01. acc. prob=0.93]\n",
      "sample: 100%|██████████| 12500/12500 [00:02<00:00, 5215.85it/s, 7 steps of size 4.56e-01. acc. prob=0.93] \n",
      "sample: 100%|██████████| 12500/12500 [00:02<00:00, 5322.97it/s, 3 steps of size 4.51e-01. acc. prob=0.94]\n"
     ]
    },
    {
     "name": "stdout",
     "output_type": "stream",
     "text": [
      "Generating instance 8...\n"
     ]
    },
    {
     "name": "stderr",
     "output_type": "stream",
     "text": [
      "sample: 100%|██████████| 12500/12500 [00:03<00:00, 3179.19it/s, 3 steps of size 4.40e-01. acc. prob=0.94]\n",
      "sample: 100%|██████████| 12500/12500 [00:02<00:00, 5188.01it/s, 7 steps of size 4.73e-01. acc. prob=0.93] \n",
      "sample: 100%|██████████| 12500/12500 [00:02<00:00, 5201.63it/s, 3 steps of size 4.87e-01. acc. prob=0.93] \n"
     ]
    },
    {
     "name": "stdout",
     "output_type": "stream",
     "text": [
      "Generating instance 9...\n"
     ]
    },
    {
     "name": "stderr",
     "output_type": "stream",
     "text": [
      "sample: 100%|██████████| 12500/12500 [00:04<00:00, 3091.26it/s, 7 steps of size 4.54e-01. acc. prob=0.93] \n",
      "sample: 100%|██████████| 12500/12500 [00:02<00:00, 5337.68it/s, 7 steps of size 5.29e-01. acc. prob=0.90] \n",
      "sample: 100%|██████████| 12500/12500 [00:02<00:00, 5347.29it/s, 3 steps of size 5.06e-01. acc. prob=0.92]\n"
     ]
    },
    {
     "name": "stdout",
     "output_type": "stream",
     "text": [
      "Generating instance 10...\n"
     ]
    },
    {
     "name": "stderr",
     "output_type": "stream",
     "text": [
      "sample: 100%|██████████| 12500/12500 [00:03<00:00, 3194.99it/s, 7 steps of size 4.08e-01. acc. prob=0.94] \n",
      "sample: 100%|██████████| 12500/12500 [00:02<00:00, 5398.84it/s, 7 steps of size 4.69e-01. acc. prob=0.93] \n",
      "sample: 100%|██████████| 12500/12500 [00:02<00:00, 5415.19it/s, 3 steps of size 5.08e-01. acc. prob=0.92] \n"
     ]
    },
    {
     "name": "stdout",
     "output_type": "stream",
     "text": [
      "Generating instance 11...\n"
     ]
    },
    {
     "name": "stderr",
     "output_type": "stream",
     "text": [
      "sample: 100%|██████████| 12500/12500 [00:04<00:00, 3008.15it/s, 7 steps of size 4.09e-01. acc. prob=0.94]\n",
      "sample: 100%|██████████| 12500/12500 [00:02<00:00, 5175.40it/s, 7 steps of size 4.62e-01. acc. prob=0.93]\n",
      "sample: 100%|██████████| 12500/12500 [00:02<00:00, 5303.35it/s, 3 steps of size 4.94e-01. acc. prob=0.92]\n"
     ]
    },
    {
     "name": "stdout",
     "output_type": "stream",
     "text": [
      "Generating instance 12...\n"
     ]
    },
    {
     "name": "stderr",
     "output_type": "stream",
     "text": [
      "sample: 100%|██████████| 12500/12500 [00:04<00:00, 3110.74it/s, 3 steps of size 5.00e-01. acc. prob=0.92]\n",
      "sample: 100%|██████████| 12500/12500 [00:02<00:00, 5283.30it/s, 7 steps of size 4.46e-01. acc. prob=0.94]\n",
      "sample: 100%|██████████| 12500/12500 [00:02<00:00, 5253.60it/s, 3 steps of size 4.54e-01. acc. prob=0.93]\n"
     ]
    },
    {
     "name": "stdout",
     "output_type": "stream",
     "text": [
      "Generating instance 13...\n"
     ]
    },
    {
     "name": "stderr",
     "output_type": "stream",
     "text": [
      "sample: 100%|██████████| 12500/12500 [00:04<00:00, 3111.85it/s, 7 steps of size 4.18e-01. acc. prob=0.94] \n",
      "sample: 100%|██████████| 12500/12500 [00:02<00:00, 5157.42it/s, 3 steps of size 4.76e-01. acc. prob=0.93] \n",
      "sample: 100%|██████████| 12500/12500 [00:02<00:00, 5255.23it/s, 15 steps of size 4.61e-01. acc. prob=0.93]\n"
     ]
    },
    {
     "name": "stdout",
     "output_type": "stream",
     "text": [
      "Generating instance 14...\n"
     ]
    },
    {
     "name": "stderr",
     "output_type": "stream",
     "text": [
      "sample: 100%|██████████| 12500/12500 [00:04<00:00, 3113.49it/s, 3 steps of size 4.59e-01. acc. prob=0.93]\n",
      "sample: 100%|██████████| 12500/12500 [00:02<00:00, 5324.56it/s, 3 steps of size 4.86e-01. acc. prob=0.92]\n",
      "sample: 100%|██████████| 12500/12500 [00:02<00:00, 5366.43it/s, 3 steps of size 5.36e-01. acc. prob=0.90]\n"
     ]
    },
    {
     "name": "stdout",
     "output_type": "stream",
     "text": [
      "Generating instance 15...\n"
     ]
    },
    {
     "name": "stderr",
     "output_type": "stream",
     "text": [
      "sample: 100%|██████████| 12500/12500 [00:03<00:00, 3126.99it/s, 7 steps of size 4.84e-01. acc. prob=0.92]\n",
      "sample: 100%|██████████| 12500/12500 [00:02<00:00, 5274.10it/s, 7 steps of size 4.58e-01. acc. prob=0.93]\n",
      "sample: 100%|██████████| 12500/12500 [00:02<00:00, 5329.87it/s, 3 steps of size 5.03e-01. acc. prob=0.92]\n"
     ]
    },
    {
     "name": "stdout",
     "output_type": "stream",
     "text": [
      "Generating instance 16...\n"
     ]
    },
    {
     "name": "stderr",
     "output_type": "stream",
     "text": [
      "sample: 100%|██████████| 12500/12500 [00:04<00:00, 3123.00it/s, 3 steps of size 4.51e-01. acc. prob=0.93] \n",
      "sample: 100%|██████████| 12500/12500 [00:02<00:00, 5358.10it/s, 7 steps of size 4.40e-01. acc. prob=0.94] \n",
      "sample: 100%|██████████| 12500/12500 [00:02<00:00, 5424.94it/s, 3 steps of size 5.08e-01. acc. prob=0.92]\n"
     ]
    },
    {
     "name": "stdout",
     "output_type": "stream",
     "text": [
      "Generating instance 17...\n"
     ]
    },
    {
     "name": "stderr",
     "output_type": "stream",
     "text": [
      "sample: 100%|██████████| 12500/12500 [00:03<00:00, 3242.33it/s, 3 steps of size 4.96e-01. acc. prob=0.91]\n",
      "sample: 100%|██████████| 12500/12500 [00:02<00:00, 5328.06it/s, 7 steps of size 4.45e-01. acc. prob=0.93]\n",
      "sample: 100%|██████████| 12500/12500 [00:02<00:00, 5354.89it/s, 7 steps of size 4.63e-01. acc. prob=0.93] \n"
     ]
    },
    {
     "name": "stdout",
     "output_type": "stream",
     "text": [
      "Generating instance 18...\n"
     ]
    },
    {
     "name": "stderr",
     "output_type": "stream",
     "text": [
      "sample: 100%|██████████| 12500/12500 [00:03<00:00, 3210.49it/s, 7 steps of size 4.69e-01. acc. prob=0.93]\n",
      "sample: 100%|██████████| 12500/12500 [00:02<00:00, 5429.69it/s, 7 steps of size 4.98e-01. acc. prob=0.92]\n",
      "sample: 100%|██████████| 12500/12500 [00:02<00:00, 5455.24it/s, 3 steps of size 4.89e-01. acc. prob=0.92]\n"
     ]
    },
    {
     "name": "stdout",
     "output_type": "stream",
     "text": [
      "Generating instance 19...\n"
     ]
    },
    {
     "name": "stderr",
     "output_type": "stream",
     "text": [
      "sample: 100%|██████████| 12500/12500 [00:03<00:00, 3222.47it/s, 7 steps of size 4.68e-01. acc. prob=0.93]\n",
      "sample: 100%|██████████| 12500/12500 [00:02<00:00, 5275.64it/s, 7 steps of size 5.06e-01. acc. prob=0.92]\n",
      "sample: 100%|██████████| 12500/12500 [00:02<00:00, 5302.17it/s, 3 steps of size 4.64e-01. acc. prob=0.93]\n"
     ]
    },
    {
     "name": "stdout",
     "output_type": "stream",
     "text": [
      "Generating instance 20...\n"
     ]
    },
    {
     "name": "stderr",
     "output_type": "stream",
     "text": [
      "sample: 100%|██████████| 12500/12500 [00:03<00:00, 3238.03it/s, 7 steps of size 4.62e-01. acc. prob=0.93]\n",
      "sample: 100%|██████████| 12500/12500 [00:02<00:00, 5318.24it/s, 7 steps of size 4.61e-01. acc. prob=0.93]\n",
      "sample: 100%|██████████| 12500/12500 [00:02<00:00, 5334.62it/s, 3 steps of size 4.99e-01. acc. prob=0.92] \n"
     ]
    },
    {
     "name": "stdout",
     "output_type": "stream",
     "text": [
      "Generating instance 21...\n"
     ]
    },
    {
     "name": "stderr",
     "output_type": "stream",
     "text": [
      "sample: 100%|██████████| 12500/12500 [00:03<00:00, 3252.50it/s, 3 steps of size 4.88e-01. acc. prob=0.92] \n",
      "sample: 100%|██████████| 12500/12500 [00:02<00:00, 5402.02it/s, 3 steps of size 5.45e-01. acc. prob=0.90]\n",
      "sample: 100%|██████████| 12500/12500 [00:02<00:00, 5359.73it/s, 7 steps of size 4.85e-01. acc. prob=0.92] \n"
     ]
    },
    {
     "name": "stdout",
     "output_type": "stream",
     "text": [
      "Generating instance 22...\n"
     ]
    },
    {
     "name": "stderr",
     "output_type": "stream",
     "text": [
      "sample: 100%|██████████| 12500/12500 [00:03<00:00, 3215.31it/s, 7 steps of size 4.53e-01. acc. prob=0.93] \n",
      "sample: 100%|██████████| 12500/12500 [00:02<00:00, 5448.29it/s, 3 steps of size 5.46e-01. acc. prob=0.90]\n",
      "sample: 100%|██████████| 12500/12500 [00:02<00:00, 5435.20it/s, 3 steps of size 5.18e-01. acc. prob=0.91]\n"
     ]
    },
    {
     "name": "stdout",
     "output_type": "stream",
     "text": [
      "Generating instance 23...\n"
     ]
    },
    {
     "name": "stderr",
     "output_type": "stream",
     "text": [
      "sample: 100%|██████████| 12500/12500 [00:03<00:00, 3224.80it/s, 7 steps of size 4.88e-01. acc. prob=0.92]\n",
      "sample: 100%|██████████| 12500/12500 [00:02<00:00, 5282.19it/s, 7 steps of size 4.99e-01. acc. prob=0.92]\n",
      "sample: 100%|██████████| 12500/12500 [00:02<00:00, 5321.66it/s, 3 steps of size 5.02e-01. acc. prob=0.92] \n"
     ]
    },
    {
     "name": "stdout",
     "output_type": "stream",
     "text": [
      "Generating instance 24...\n"
     ]
    },
    {
     "name": "stderr",
     "output_type": "stream",
     "text": [
      "sample: 100%|██████████| 12500/12500 [00:03<00:00, 3221.49it/s, 3 steps of size 4.38e-01. acc. prob=0.94] \n",
      "sample: 100%|██████████| 12500/12500 [00:02<00:00, 5284.90it/s, 7 steps of size 4.46e-01. acc. prob=0.94] \n",
      "sample: 100%|██████████| 12500/12500 [00:02<00:00, 5268.72it/s, 15 steps of size 4.54e-01. acc. prob=0.93]\n"
     ]
    },
    {
     "name": "stdout",
     "output_type": "stream",
     "text": [
      "Generating instance 25...\n"
     ]
    },
    {
     "name": "stderr",
     "output_type": "stream",
     "text": [
      "sample: 100%|██████████| 12500/12500 [00:03<00:00, 3224.55it/s, 7 steps of size 4.52e-01. acc. prob=0.93]\n",
      "sample: 100%|██████████| 12500/12500 [00:02<00:00, 5319.61it/s, 7 steps of size 4.53e-01. acc. prob=0.93]\n",
      "sample: 100%|██████████| 12500/12500 [00:02<00:00, 5355.73it/s, 3 steps of size 4.97e-01. acc. prob=0.92]\n"
     ]
    },
    {
     "name": "stdout",
     "output_type": "stream",
     "text": [
      "Generating instance 26...\n"
     ]
    },
    {
     "name": "stderr",
     "output_type": "stream",
     "text": [
      "sample: 100%|██████████| 12500/12500 [00:03<00:00, 3203.09it/s, 3 steps of size 4.38e-01. acc. prob=0.94]\n",
      "sample: 100%|██████████| 12500/12500 [00:02<00:00, 5285.80it/s, 7 steps of size 4.45e-01. acc. prob=0.94] \n",
      "sample: 100%|██████████| 12500/12500 [00:02<00:00, 5401.11it/s, 3 steps of size 5.40e-01. acc. prob=0.90] \n"
     ]
    },
    {
     "name": "stdout",
     "output_type": "stream",
     "text": [
      "Generating instance 27...\n"
     ]
    },
    {
     "name": "stderr",
     "output_type": "stream",
     "text": [
      "sample: 100%|██████████| 12500/12500 [00:03<00:00, 3231.10it/s, 7 steps of size 4.69e-01. acc. prob=0.92] \n",
      "sample: 100%|██████████| 12500/12500 [00:02<00:00, 5416.93it/s, 3 steps of size 5.33e-01. acc. prob=0.89]\n",
      "sample: 100%|██████████| 12500/12500 [00:02<00:00, 5372.83it/s, 3 steps of size 5.02e-01. acc. prob=0.92] \n"
     ]
    },
    {
     "name": "stdout",
     "output_type": "stream",
     "text": [
      "Generating instance 28...\n"
     ]
    },
    {
     "name": "stderr",
     "output_type": "stream",
     "text": [
      "sample: 100%|██████████| 12500/12500 [00:03<00:00, 3238.33it/s, 7 steps of size 4.74e-01. acc. prob=0.92] \n",
      "sample: 100%|██████████| 12500/12500 [00:02<00:00, 5360.10it/s, 3 steps of size 4.81e-01. acc. prob=0.92]\n",
      "sample: 100%|██████████| 12500/12500 [00:02<00:00, 5487.00it/s, 3 steps of size 5.47e-01. acc. prob=0.90]\n"
     ]
    },
    {
     "name": "stdout",
     "output_type": "stream",
     "text": [
      "Generating instance 29...\n"
     ]
    },
    {
     "name": "stderr",
     "output_type": "stream",
     "text": [
      "sample: 100%|██████████| 12500/12500 [00:03<00:00, 3183.63it/s, 3 steps of size 4.45e-01. acc. prob=0.93] \n",
      "sample: 100%|██████████| 12500/12500 [00:02<00:00, 5320.07it/s, 7 steps of size 5.11e-01. acc. prob=0.91]\n",
      "sample: 100%|██████████| 12500/12500 [00:02<00:00, 5362.35it/s, 3 steps of size 5.00e-01. acc. prob=0.92]\n"
     ]
    },
    {
     "name": "stdout",
     "output_type": "stream",
     "text": [
      "Generating instance 30...\n"
     ]
    },
    {
     "name": "stderr",
     "output_type": "stream",
     "text": [
      "sample: 100%|██████████| 12500/12500 [00:03<00:00, 3229.41it/s, 3 steps of size 4.87e-01. acc. prob=0.91] \n",
      "sample: 100%|██████████| 12500/12500 [00:02<00:00, 5369.85it/s, 7 steps of size 5.21e-01. acc. prob=0.91] \n",
      "sample: 100%|██████████| 12500/12500 [00:02<00:00, 5346.91it/s, 7 steps of size 4.58e-01. acc. prob=0.93]\n"
     ]
    },
    {
     "name": "stdout",
     "output_type": "stream",
     "text": [
      "Generating instance 31...\n"
     ]
    },
    {
     "name": "stderr",
     "output_type": "stream",
     "text": [
      "sample: 100%|██████████| 12500/12500 [00:03<00:00, 3220.00it/s, 7 steps of size 4.54e-01. acc. prob=0.93] \n",
      "sample: 100%|██████████| 12500/12500 [00:02<00:00, 5277.92it/s, 7 steps of size 4.37e-01. acc. prob=0.94] \n",
      "sample: 100%|██████████| 12500/12500 [00:02<00:00, 5391.95it/s, 3 steps of size 4.94e-01. acc. prob=0.92]\n"
     ]
    },
    {
     "name": "stdout",
     "output_type": "stream",
     "text": [
      "Generating instance 32...\n"
     ]
    },
    {
     "name": "stderr",
     "output_type": "stream",
     "text": [
      "sample: 100%|██████████| 12500/12500 [00:03<00:00, 3246.91it/s, 3 steps of size 5.18e-01. acc. prob=0.91]\n",
      "sample: 100%|██████████| 12500/12500 [00:02<00:00, 5272.65it/s, 7 steps of size 4.46e-01. acc. prob=0.94] \n",
      "sample: 100%|██████████| 12500/12500 [00:02<00:00, 5314.75it/s, 7 steps of size 4.64e-01. acc. prob=0.93] \n"
     ]
    },
    {
     "name": "stdout",
     "output_type": "stream",
     "text": [
      "Generating instance 33...\n"
     ]
    },
    {
     "name": "stderr",
     "output_type": "stream",
     "text": [
      "sample: 100%|██████████| 12500/12500 [00:03<00:00, 3202.76it/s, 3 steps of size 4.38e-01. acc. prob=0.94] \n",
      "sample: 100%|██████████| 12500/12500 [00:02<00:00, 5367.98it/s, 7 steps of size 5.23e-01. acc. prob=0.91]\n",
      "sample: 100%|██████████| 12500/12500 [00:02<00:00, 5334.19it/s, 7 steps of size 4.67e-01. acc. prob=0.93]\n"
     ]
    },
    {
     "name": "stdout",
     "output_type": "stream",
     "text": [
      "Generating instance 34...\n"
     ]
    },
    {
     "name": "stderr",
     "output_type": "stream",
     "text": [
      "sample: 100%|██████████| 12500/12500 [00:03<00:00, 3227.84it/s, 3 steps of size 4.83e-01. acc. prob=0.92]\n",
      "sample: 100%|██████████| 12500/12500 [00:02<00:00, 5356.78it/s, 7 steps of size 4.73e-01. acc. prob=0.93]\n",
      "sample: 100%|██████████| 12500/12500 [00:02<00:00, 5314.88it/s, 3 steps of size 4.61e-01. acc. prob=0.93]\n"
     ]
    },
    {
     "name": "stdout",
     "output_type": "stream",
     "text": [
      "Generating instance 35...\n"
     ]
    },
    {
     "name": "stderr",
     "output_type": "stream",
     "text": [
      "sample: 100%|██████████| 12500/12500 [00:03<00:00, 3209.85it/s, 3 steps of size 4.36e-01. acc. prob=0.94]\n",
      "sample: 100%|██████████| 12500/12500 [00:02<00:00, 5335.85it/s, 7 steps of size 4.78e-01. acc. prob=0.92]\n",
      "sample: 100%|██████████| 12500/12500 [00:02<00:00, 5314.54it/s, 3 steps of size 5.30e-01. acc. prob=0.91]\n"
     ]
    },
    {
     "name": "stdout",
     "output_type": "stream",
     "text": [
      "Generating instance 36...\n"
     ]
    },
    {
     "name": "stderr",
     "output_type": "stream",
     "text": [
      "sample: 100%|██████████| 12500/12500 [00:03<00:00, 3146.46it/s, 3 steps of size 4.71e-01. acc. prob=0.93]\n",
      "sample: 100%|██████████| 12500/12500 [00:02<00:00, 5226.34it/s, 7 steps of size 4.66e-01. acc. prob=0.93] \n",
      "sample: 100%|██████████| 12500/12500 [00:02<00:00, 5227.16it/s, 3 steps of size 5.13e-01. acc. prob=0.91]\n"
     ]
    },
    {
     "name": "stdout",
     "output_type": "stream",
     "text": [
      "Generating instance 37...\n"
     ]
    },
    {
     "name": "stderr",
     "output_type": "stream",
     "text": [
      "sample: 100%|██████████| 12500/12500 [00:04<00:00, 3113.87it/s, 7 steps of size 4.63e-01. acc. prob=0.93]\n",
      "sample: 100%|██████████| 12500/12500 [00:02<00:00, 5186.86it/s, 7 steps of size 4.56e-01. acc. prob=0.93]\n",
      "sample: 100%|██████████| 12500/12500 [00:02<00:00, 5385.83it/s, 3 steps of size 4.96e-01. acc. prob=0.92] \n"
     ]
    },
    {
     "name": "stdout",
     "output_type": "stream",
     "text": [
      "Generating instance 38...\n"
     ]
    },
    {
     "name": "stderr",
     "output_type": "stream",
     "text": [
      "sample: 100%|██████████| 12500/12500 [00:03<00:00, 3239.83it/s, 3 steps of size 4.84e-01. acc. prob=0.92] \n",
      "sample: 100%|██████████| 12500/12500 [00:02<00:00, 5362.49it/s, 7 steps of size 5.12e-01. acc. prob=0.91] \n",
      "sample: 100%|██████████| 12500/12500 [00:02<00:00, 5297.13it/s, 15 steps of size 4.69e-01. acc. prob=0.93]\n"
     ]
    },
    {
     "name": "stdout",
     "output_type": "stream",
     "text": [
      "Generating instance 39...\n"
     ]
    },
    {
     "name": "stderr",
     "output_type": "stream",
     "text": [
      "sample: 100%|██████████| 12500/12500 [00:03<00:00, 3248.99it/s, 3 steps of size 5.19e-01. acc. prob=0.91] \n",
      "sample: 100%|██████████| 12500/12500 [00:02<00:00, 5266.46it/s, 7 steps of size 4.50e-01. acc. prob=0.94] \n",
      "sample: 100%|██████████| 12500/12500 [00:02<00:00, 5276.20it/s, 7 steps of size 4.77e-01. acc. prob=0.93]\n"
     ]
    },
    {
     "name": "stdout",
     "output_type": "stream",
     "text": [
      "Generating instance 40...\n"
     ]
    },
    {
     "name": "stderr",
     "output_type": "stream",
     "text": [
      "sample: 100%|██████████| 12500/12500 [00:03<00:00, 3196.24it/s, 7 steps of size 4.62e-01. acc. prob=0.92]\n",
      "sample: 100%|██████████| 12500/12500 [00:02<00:00, 5262.36it/s, 7 steps of size 5.07e-01. acc. prob=0.91]\n",
      "sample: 100%|██████████| 12500/12500 [00:02<00:00, 5273.72it/s, 3 steps of size 5.08e-01. acc. prob=0.91]\n"
     ]
    },
    {
     "name": "stdout",
     "output_type": "stream",
     "text": [
      "Generating instance 41...\n"
     ]
    },
    {
     "name": "stderr",
     "output_type": "stream",
     "text": [
      "sample: 100%|██████████| 12500/12500 [00:03<00:00, 3136.31it/s, 3 steps of size 4.80e-01. acc. prob=0.93]\n",
      "sample: 100%|██████████| 12500/12500 [00:02<00:00, 4949.47it/s, 7 steps of size 4.41e-01. acc. prob=0.94] \n",
      "sample: 100%|██████████| 12500/12500 [00:02<00:00, 5197.45it/s, 3 steps of size 5.02e-01. acc. prob=0.92]\n"
     ]
    },
    {
     "name": "stdout",
     "output_type": "stream",
     "text": [
      "Generating instance 42...\n"
     ]
    },
    {
     "name": "stderr",
     "output_type": "stream",
     "text": [
      "sample: 100%|██████████| 12500/12500 [00:04<00:00, 3041.71it/s, 3 steps of size 4.88e-01. acc. prob=0.92] \n",
      "sample: 100%|██████████| 12500/12500 [00:02<00:00, 5193.90it/s, 7 steps of size 4.76e-01. acc. prob=0.92] \n",
      "sample: 100%|██████████| 12500/12500 [00:02<00:00, 5214.04it/s, 3 steps of size 5.24e-01. acc. prob=0.90]\n"
     ]
    },
    {
     "name": "stdout",
     "output_type": "stream",
     "text": [
      "Generating instance 43...\n"
     ]
    },
    {
     "name": "stderr",
     "output_type": "stream",
     "text": [
      "sample: 100%|██████████| 12500/12500 [00:04<00:00, 3053.14it/s, 3 steps of size 5.30e-01. acc. prob=0.90] \n",
      "sample: 100%|██████████| 12500/12500 [00:02<00:00, 5162.43it/s, 3 steps of size 5.50e-01. acc. prob=0.89]\n",
      "sample: 100%|██████████| 12500/12500 [00:02<00:00, 4989.48it/s, 3 steps of size 4.72e-01. acc. prob=0.93]\n"
     ]
    },
    {
     "name": "stdout",
     "output_type": "stream",
     "text": [
      "Generating instance 44...\n"
     ]
    },
    {
     "name": "stderr",
     "output_type": "stream",
     "text": [
      "sample: 100%|██████████| 12500/12500 [00:04<00:00, 3072.51it/s, 7 steps of size 4.57e-01. acc. prob=0.93] \n",
      "sample: 100%|██████████| 12500/12500 [00:02<00:00, 5229.53it/s, 7 steps of size 5.09e-01. acc. prob=0.91] \n",
      "sample: 100%|██████████| 12500/12500 [00:02<00:00, 5107.27it/s, 3 steps of size 4.99e-01. acc. prob=0.92] \n"
     ]
    },
    {
     "name": "stdout",
     "output_type": "stream",
     "text": [
      "Generating instance 45...\n"
     ]
    },
    {
     "name": "stderr",
     "output_type": "stream",
     "text": [
      "sample: 100%|██████████| 12500/12500 [00:04<00:00, 3122.60it/s, 3 steps of size 4.94e-01. acc. prob=0.92]\n",
      "sample: 100%|██████████| 12500/12500 [00:02<00:00, 5194.24it/s, 7 steps of size 4.86e-01. acc. prob=0.92] \n",
      "sample: 100%|██████████| 12500/12500 [00:02<00:00, 5220.32it/s, 3 steps of size 4.95e-01. acc. prob=0.92] \n"
     ]
    },
    {
     "name": "stdout",
     "output_type": "stream",
     "text": [
      "Generating instance 46...\n"
     ]
    },
    {
     "name": "stderr",
     "output_type": "stream",
     "text": [
      "sample: 100%|██████████| 12500/12500 [00:04<00:00, 3011.13it/s, 3 steps of size 4.39e-01. acc. prob=0.93] \n",
      "sample: 100%|██████████| 12500/12500 [00:02<00:00, 5146.50it/s, 7 steps of size 4.47e-01. acc. prob=0.93]\n",
      "sample: 100%|██████████| 12500/12500 [00:02<00:00, 5171.62it/s, 3 steps of size 4.91e-01. acc. prob=0.92] \n"
     ]
    },
    {
     "name": "stdout",
     "output_type": "stream",
     "text": [
      "Generating instance 47...\n"
     ]
    },
    {
     "name": "stderr",
     "output_type": "stream",
     "text": [
      "sample: 100%|██████████| 12500/12500 [00:04<00:00, 3068.46it/s, 7 steps of size 4.65e-01. acc. prob=0.93]\n",
      "sample: 100%|██████████| 12500/12500 [00:02<00:00, 5211.84it/s, 3 steps of size 5.38e-01. acc. prob=0.90]\n",
      "sample: 100%|██████████| 12500/12500 [00:02<00:00, 5130.88it/s, 3 steps of size 5.00e-01. acc. prob=0.91]\n"
     ]
    },
    {
     "name": "stdout",
     "output_type": "stream",
     "text": [
      "Generating instance 48...\n"
     ]
    },
    {
     "name": "stderr",
     "output_type": "stream",
     "text": [
      "sample: 100%|██████████| 12500/12500 [00:04<00:00, 3038.29it/s, 7 steps of size 4.54e-01. acc. prob=0.93]\n",
      "sample: 100%|██████████| 12500/12500 [00:02<00:00, 5091.73it/s, 3 steps of size 5.36e-01. acc. prob=0.90]\n",
      "sample: 100%|██████████| 12500/12500 [00:02<00:00, 5095.67it/s, 15 steps of size 4.49e-01. acc. prob=0.94]\n"
     ]
    },
    {
     "name": "stdout",
     "output_type": "stream",
     "text": [
      "Generating instance 49...\n"
     ]
    },
    {
     "name": "stderr",
     "output_type": "stream",
     "text": [
      "sample: 100%|██████████| 12500/12500 [00:04<00:00, 3013.95it/s, 3 steps of size 5.01e-01. acc. prob=0.91]\n",
      "sample: 100%|██████████| 12500/12500 [00:02<00:00, 5083.63it/s, 7 steps of size 4.58e-01. acc. prob=0.93] \n",
      "sample: 100%|██████████| 12500/12500 [00:02<00:00, 5200.18it/s, 3 steps of size 5.11e-01. acc. prob=0.91]\n"
     ]
    },
    {
     "name": "stdout",
     "output_type": "stream",
     "text": [
      "Generating instance 50...\n"
     ]
    },
    {
     "name": "stderr",
     "output_type": "stream",
     "text": [
      "sample: 100%|██████████| 12500/12500 [00:04<00:00, 2846.28it/s, 3 steps of size 5.09e-01. acc. prob=0.91]\n",
      "sample: 100%|██████████| 12500/12500 [00:02<00:00, 4962.52it/s, 7 steps of size 4.27e-01. acc. prob=0.94] \n",
      "sample: 100%|██████████| 12500/12500 [00:02<00:00, 5059.63it/s, 3 steps of size 4.56e-01. acc. prob=0.93]\n"
     ]
    },
    {
     "name": "stdout",
     "output_type": "stream",
     "text": [
      "Generating instance 51...\n"
     ]
    },
    {
     "name": "stderr",
     "output_type": "stream",
     "text": [
      "sample: 100%|██████████| 12500/12500 [00:04<00:00, 2979.84it/s, 7 steps of size 4.58e-01. acc. prob=0.93] \n",
      "sample: 100%|██████████| 12500/12500 [00:02<00:00, 5087.69it/s, 7 steps of size 5.07e-01. acc. prob=0.92]\n",
      "sample: 100%|██████████| 12500/12500 [00:02<00:00, 5158.62it/s, 7 steps of size 4.86e-01. acc. prob=0.92]\n"
     ]
    },
    {
     "name": "stdout",
     "output_type": "stream",
     "text": [
      "Generating instance 52...\n"
     ]
    },
    {
     "name": "stderr",
     "output_type": "stream",
     "text": [
      "sample: 100%|██████████| 12500/12500 [00:04<00:00, 3041.52it/s, 3 steps of size 5.28e-01. acc. prob=0.90]\n",
      "sample: 100%|██████████| 12500/12500 [00:02<00:00, 5199.02it/s, 7 steps of size 4.98e-01. acc. prob=0.91] \n",
      "sample: 100%|██████████| 12500/12500 [00:02<00:00, 5113.95it/s, 3 steps of size 4.75e-01. acc. prob=0.93]\n"
     ]
    },
    {
     "name": "stdout",
     "output_type": "stream",
     "text": [
      "Generating instance 53...\n"
     ]
    },
    {
     "name": "stderr",
     "output_type": "stream",
     "text": [
      "sample: 100%|██████████| 12500/12500 [00:04<00:00, 3038.43it/s, 3 steps of size 5.14e-01. acc. prob=0.91]\n",
      "sample: 100%|██████████| 12500/12500 [00:02<00:00, 5111.69it/s, 7 steps of size 4.33e-01. acc. prob=0.94] \n",
      "sample: 100%|██████████| 12500/12500 [00:02<00:00, 5234.27it/s, 3 steps of size 4.98e-01. acc. prob=0.92]\n"
     ]
    },
    {
     "name": "stdout",
     "output_type": "stream",
     "text": [
      "Generating instance 54...\n"
     ]
    },
    {
     "name": "stderr",
     "output_type": "stream",
     "text": [
      "sample: 100%|██████████| 12500/12500 [00:04<00:00, 2889.87it/s, 3 steps of size 4.70e-01. acc. prob=0.93] \n",
      "sample: 100%|██████████| 12500/12500 [00:02<00:00, 5119.55it/s, 7 steps of size 5.19e-01. acc. prob=0.91]\n",
      "sample: 100%|██████████| 12500/12500 [00:02<00:00, 5194.68it/s, 3 steps of size 4.92e-01. acc. prob=0.92]\n"
     ]
    },
    {
     "name": "stdout",
     "output_type": "stream",
     "text": [
      "Generating instance 55...\n"
     ]
    },
    {
     "name": "stderr",
     "output_type": "stream",
     "text": [
      "sample: 100%|██████████| 12500/12500 [00:04<00:00, 3025.09it/s, 3 steps of size 4.39e-01. acc. prob=0.93] \n",
      "sample: 100%|██████████| 12500/12500 [00:02<00:00, 5204.93it/s, 3 steps of size 5.37e-01. acc. prob=0.89]\n",
      "sample: 100%|██████████| 12500/12500 [00:02<00:00, 5143.44it/s, 3 steps of size 5.27e-01. acc. prob=0.90] \n"
     ]
    },
    {
     "name": "stdout",
     "output_type": "stream",
     "text": [
      "Generating instance 56...\n"
     ]
    },
    {
     "name": "stderr",
     "output_type": "stream",
     "text": [
      "sample: 100%|██████████| 12500/12500 [00:04<00:00, 2989.70it/s, 3 steps of size 4.30e-01. acc. prob=0.94] \n",
      "sample: 100%|██████████| 12500/12500 [00:02<00:00, 5185.49it/s, 7 steps of size 4.31e-01. acc. prob=0.94] \n",
      "sample: 100%|██████████| 12500/12500 [00:02<00:00, 5073.08it/s, 15 steps of size 4.50e-01. acc. prob=0.93]\n"
     ]
    },
    {
     "name": "stdout",
     "output_type": "stream",
     "text": [
      "Generating instance 57...\n"
     ]
    },
    {
     "name": "stderr",
     "output_type": "stream",
     "text": [
      "sample: 100%|██████████| 12500/12500 [00:04<00:00, 2915.99it/s, 3 steps of size 5.07e-01. acc. prob=0.91] \n",
      "sample: 100%|██████████| 12500/12500 [00:02<00:00, 4892.35it/s, 7 steps of size 4.67e-01. acc. prob=0.93]\n",
      "sample: 100%|██████████| 12500/12500 [00:02<00:00, 5002.43it/s, 3 steps of size 4.80e-01. acc. prob=0.93]\n"
     ]
    },
    {
     "name": "stdout",
     "output_type": "stream",
     "text": [
      "Generating instance 58...\n"
     ]
    },
    {
     "name": "stderr",
     "output_type": "stream",
     "text": [
      "sample: 100%|██████████| 12500/12500 [00:04<00:00, 3027.35it/s, 3 steps of size 5.34e-01. acc. prob=0.90] \n",
      "sample: 100%|██████████| 12500/12500 [00:02<00:00, 5117.12it/s, 7 steps of size 4.72e-01. acc. prob=0.93]\n",
      "sample: 100%|██████████| 12500/12500 [00:02<00:00, 5170.32it/s, 3 steps of size 5.40e-01. acc. prob=0.90] \n"
     ]
    },
    {
     "name": "stdout",
     "output_type": "stream",
     "text": [
      "Generating instance 59...\n"
     ]
    },
    {
     "name": "stderr",
     "output_type": "stream",
     "text": [
      "sample: 100%|██████████| 12500/12500 [00:04<00:00, 3006.28it/s, 3 steps of size 4.22e-01. acc. prob=0.94] \n",
      "sample: 100%|██████████| 12500/12500 [00:02<00:00, 5092.19it/s, 7 steps of size 4.51e-01. acc. prob=0.93] \n",
      "sample: 100%|██████████| 12500/12500 [00:02<00:00, 5090.30it/s, 7 steps of size 4.61e-01. acc. prob=0.93]\n"
     ]
    },
    {
     "name": "stdout",
     "output_type": "stream",
     "text": [
      "Generating instance 60...\n"
     ]
    },
    {
     "name": "stderr",
     "output_type": "stream",
     "text": [
      "sample: 100%|██████████| 12500/12500 [00:04<00:00, 2894.04it/s, 3 steps of size 4.44e-01. acc. prob=0.93] \n",
      "sample: 100%|██████████| 12500/12500 [00:02<00:00, 4949.15it/s, 7 steps of size 4.74e-01. acc. prob=0.93]\n",
      "sample: 100%|██████████| 12500/12500 [00:02<00:00, 4969.70it/s, 3 steps of size 5.18e-01. acc. prob=0.91] \n"
     ]
    },
    {
     "name": "stdout",
     "output_type": "stream",
     "text": [
      "Generating instance 61...\n"
     ]
    },
    {
     "name": "stderr",
     "output_type": "stream",
     "text": [
      "sample: 100%|██████████| 12500/12500 [00:04<00:00, 3003.17it/s, 3 steps of size 4.97e-01. acc. prob=0.92] \n",
      "sample: 100%|██████████| 12500/12500 [00:02<00:00, 5145.96it/s, 7 steps of size 4.57e-01. acc. prob=0.94] \n",
      "sample: 100%|██████████| 12500/12500 [00:02<00:00, 5275.70it/s, 3 steps of size 5.01e-01. acc. prob=0.92]\n"
     ]
    },
    {
     "name": "stdout",
     "output_type": "stream",
     "text": [
      "Generating instance 62...\n"
     ]
    },
    {
     "name": "stderr",
     "output_type": "stream",
     "text": [
      "sample: 100%|██████████| 12500/12500 [00:04<00:00, 3038.97it/s, 3 steps of size 4.18e-01. acc. prob=0.94] \n",
      "sample: 100%|██████████| 12500/12500 [00:02<00:00, 5176.21it/s, 7 steps of size 4.88e-01. acc. prob=0.92]\n",
      "sample: 100%|██████████| 12500/12500 [00:02<00:00, 5271.57it/s, 7 steps of size 5.25e-01. acc. prob=0.91]\n"
     ]
    },
    {
     "name": "stdout",
     "output_type": "stream",
     "text": [
      "Generating instance 63...\n"
     ]
    },
    {
     "name": "stderr",
     "output_type": "stream",
     "text": [
      "sample: 100%|██████████| 12500/12500 [00:04<00:00, 3123.29it/s, 7 steps of size 4.84e-01. acc. prob=0.92] \n",
      "sample: 100%|██████████| 12500/12500 [00:02<00:00, 5255.49it/s, 7 steps of size 4.89e-01. acc. prob=0.92] \n",
      "sample: 100%|██████████| 12500/12500 [00:02<00:00, 5290.90it/s, 3 steps of size 5.13e-01. acc. prob=0.91] \n"
     ]
    },
    {
     "name": "stdout",
     "output_type": "stream",
     "text": [
      "Generating instance 64...\n"
     ]
    },
    {
     "name": "stderr",
     "output_type": "stream",
     "text": [
      "sample: 100%|██████████| 12500/12500 [00:04<00:00, 2999.95it/s, 7 steps of size 4.10e-01. acc. prob=0.94] \n",
      "sample: 100%|██████████| 12500/12500 [00:02<00:00, 5180.75it/s, 7 steps of size 4.37e-01. acc. prob=0.94] \n",
      "sample: 100%|██████████| 12500/12500 [00:02<00:00, 5185.36it/s, 7 steps of size 4.59e-01. acc. prob=0.93] \n"
     ]
    },
    {
     "name": "stdout",
     "output_type": "stream",
     "text": [
      "Generating instance 65...\n"
     ]
    },
    {
     "name": "stderr",
     "output_type": "stream",
     "text": [
      "sample: 100%|██████████| 12500/12500 [00:04<00:00, 3069.87it/s, 3 steps of size 4.71e-01. acc. prob=0.92]\n",
      "sample: 100%|██████████| 12500/12500 [00:02<00:00, 5146.65it/s, 7 steps of size 4.92e-01. acc. prob=0.92]\n",
      "sample: 100%|██████████| 12500/12500 [00:02<00:00, 5277.87it/s, 3 steps of size 5.15e-01. acc. prob=0.91] \n"
     ]
    },
    {
     "name": "stdout",
     "output_type": "stream",
     "text": [
      "Generating instance 66...\n"
     ]
    },
    {
     "name": "stderr",
     "output_type": "stream",
     "text": [
      "sample: 100%|██████████| 12500/12500 [00:04<00:00, 3050.67it/s, 3 steps of size 4.26e-01. acc. prob=0.94] \n",
      "sample: 100%|██████████| 12500/12500 [00:02<00:00, 5219.56it/s, 7 steps of size 4.63e-01. acc. prob=0.92]\n",
      "sample: 100%|██████████| 12500/12500 [00:02<00:00, 5163.18it/s, 7 steps of size 4.74e-01. acc. prob=0.93]\n"
     ]
    },
    {
     "name": "stdout",
     "output_type": "stream",
     "text": [
      "Generating instance 67...\n"
     ]
    },
    {
     "name": "stderr",
     "output_type": "stream",
     "text": [
      "sample: 100%|██████████| 12500/12500 [00:04<00:00, 3012.00it/s, 3 steps of size 4.51e-01. acc. prob=0.93] \n",
      "sample: 100%|██████████| 12500/12500 [00:02<00:00, 5131.66it/s, 3 steps of size 4.77e-01. acc. prob=0.93] \n",
      "sample: 100%|██████████| 12500/12500 [00:02<00:00, 5260.24it/s, 3 steps of size 5.08e-01. acc. prob=0.92]\n"
     ]
    },
    {
     "name": "stdout",
     "output_type": "stream",
     "text": [
      "Generating instance 68...\n"
     ]
    },
    {
     "name": "stderr",
     "output_type": "stream",
     "text": [
      "sample: 100%|██████████| 12500/12500 [00:04<00:00, 3079.09it/s, 3 steps of size 4.76e-01. acc. prob=0.92] \n",
      "sample: 100%|██████████| 12500/12500 [00:02<00:00, 5041.95it/s, 7 steps of size 4.46e-01. acc. prob=0.93] \n",
      "sample: 100%|██████████| 12500/12500 [00:02<00:00, 5254.48it/s, 3 steps of size 5.31e-01. acc. prob=0.90]\n"
     ]
    },
    {
     "name": "stdout",
     "output_type": "stream",
     "text": [
      "Generating instance 69...\n"
     ]
    },
    {
     "name": "stderr",
     "output_type": "stream",
     "text": [
      "sample: 100%|██████████| 12500/12500 [00:04<00:00, 3051.31it/s, 3 steps of size 4.38e-01. acc. prob=0.94]\n",
      "sample: 100%|██████████| 12500/12500 [00:02<00:00, 5058.93it/s, 7 steps of size 4.46e-01. acc. prob=0.94] \n",
      "sample: 100%|██████████| 12500/12500 [00:02<00:00, 5153.32it/s, 15 steps of size 4.58e-01. acc. prob=0.93]\n"
     ]
    },
    {
     "name": "stdout",
     "output_type": "stream",
     "text": [
      "Generating instance 70...\n"
     ]
    },
    {
     "name": "stderr",
     "output_type": "stream",
     "text": [
      "sample: 100%|██████████| 12500/12500 [00:04<00:00, 3057.75it/s, 3 steps of size 4.72e-01. acc. prob=0.92] \n",
      "sample: 100%|██████████| 12500/12500 [00:02<00:00, 5173.90it/s, 7 steps of size 4.29e-01. acc. prob=0.94] \n",
      "sample: 100%|██████████| 12500/12500 [00:02<00:00, 5274.83it/s, 3 steps of size 5.14e-01. acc. prob=0.91] \n"
     ]
    },
    {
     "name": "stdout",
     "output_type": "stream",
     "text": [
      "Generating instance 71...\n"
     ]
    },
    {
     "name": "stderr",
     "output_type": "stream",
     "text": [
      "sample: 100%|██████████| 12500/12500 [00:04<00:00, 3098.46it/s, 3 steps of size 4.24e-01. acc. prob=0.94] \n",
      "sample: 100%|██████████| 12500/12500 [00:02<00:00, 5265.13it/s, 3 steps of size 4.68e-01. acc. prob=0.93]\n",
      "sample: 100%|██████████| 12500/12500 [00:02<00:00, 5228.78it/s, 15 steps of size 4.69e-01. acc. prob=0.93]\n"
     ]
    },
    {
     "name": "stdout",
     "output_type": "stream",
     "text": [
      "Generating instance 72...\n"
     ]
    },
    {
     "name": "stderr",
     "output_type": "stream",
     "text": [
      "sample: 100%|██████████| 12500/12500 [00:04<00:00, 3012.61it/s, 7 steps of size 4.08e-01. acc. prob=0.95] \n",
      "sample: 100%|██████████| 12500/12500 [00:02<00:00, 5146.56it/s, 7 steps of size 5.07e-01. acc. prob=0.92]\n",
      "sample: 100%|██████████| 12500/12500 [00:02<00:00, 5185.11it/s, 3 steps of size 4.69e-01. acc. prob=0.93]\n"
     ]
    },
    {
     "name": "stdout",
     "output_type": "stream",
     "text": [
      "Generating instance 73...\n"
     ]
    },
    {
     "name": "stderr",
     "output_type": "stream",
     "text": [
      "sample: 100%|██████████| 12500/12500 [00:04<00:00, 3018.55it/s, 3 steps of size 5.33e-01. acc. prob=0.90]\n",
      "sample: 100%|██████████| 12500/12500 [00:02<00:00, 4849.44it/s, 7 steps of size 5.10e-01. acc. prob=0.92]\n",
      "sample: 100%|██████████| 12500/12500 [00:02<00:00, 4660.35it/s, 3 steps of size 4.60e-01. acc. prob=0.93]\n"
     ]
    },
    {
     "name": "stdout",
     "output_type": "stream",
     "text": [
      "Generating instance 74...\n"
     ]
    },
    {
     "name": "stderr",
     "output_type": "stream",
     "text": [
      "sample: 100%|██████████| 12500/12500 [00:04<00:00, 3009.32it/s, 3 steps of size 4.87e-01. acc. prob=0.92]\n",
      "sample: 100%|██████████| 12500/12500 [00:02<00:00, 5247.48it/s, 7 steps of size 4.82e-01. acc. prob=0.92]\n",
      "sample: 100%|██████████| 12500/12500 [00:02<00:00, 5177.05it/s, 3 steps of size 4.73e-01. acc. prob=0.93]\n"
     ]
    },
    {
     "name": "stdout",
     "output_type": "stream",
     "text": [
      "Generating instance 75...\n"
     ]
    },
    {
     "name": "stderr",
     "output_type": "stream",
     "text": [
      "sample: 100%|██████████| 12500/12500 [00:04<00:00, 3106.91it/s, 3 steps of size 5.61e-01. acc. prob=0.89]\n",
      "sample: 100%|██████████| 12500/12500 [00:02<00:00, 5126.91it/s, 7 steps of size 4.92e-01. acc. prob=0.92] \n",
      "sample: 100%|██████████| 12500/12500 [00:02<00:00, 5220.09it/s, 3 steps of size 4.75e-01. acc. prob=0.93] \n"
     ]
    },
    {
     "name": "stdout",
     "output_type": "stream",
     "text": [
      "Generating instance 76...\n"
     ]
    },
    {
     "name": "stderr",
     "output_type": "stream",
     "text": [
      "sample: 100%|██████████| 12500/12500 [00:04<00:00, 3113.45it/s, 7 steps of size 4.50e-01. acc. prob=0.93] \n",
      "sample: 100%|██████████| 12500/12500 [00:02<00:00, 5177.68it/s, 7 steps of size 4.37e-01. acc. prob=0.94] \n",
      "sample: 100%|██████████| 12500/12500 [00:02<00:00, 5318.16it/s, 3 steps of size 5.19e-01. acc. prob=0.90]\n"
     ]
    },
    {
     "name": "stdout",
     "output_type": "stream",
     "text": [
      "Generating instance 77...\n"
     ]
    },
    {
     "name": "stderr",
     "output_type": "stream",
     "text": [
      "sample: 100%|██████████| 12500/12500 [00:04<00:00, 3097.11it/s, 7 steps of size 4.54e-01. acc. prob=0.93] \n",
      "sample: 100%|██████████| 12500/12500 [00:02<00:00, 5147.96it/s, 3 steps of size 4.77e-01. acc. prob=0.93]\n",
      "sample: 100%|██████████| 12500/12500 [00:02<00:00, 5166.35it/s, 3 steps of size 4.67e-01. acc. prob=0.93] \n"
     ]
    },
    {
     "name": "stdout",
     "output_type": "stream",
     "text": [
      "Generating instance 78...\n"
     ]
    },
    {
     "name": "stderr",
     "output_type": "stream",
     "text": [
      "sample: 100%|██████████| 12500/12500 [00:04<00:00, 3098.79it/s, 3 steps of size 4.13e-01. acc. prob=0.94] \n",
      "sample: 100%|██████████| 12500/12500 [00:02<00:00, 5301.80it/s, 3 steps of size 5.43e-01. acc. prob=0.89]\n",
      "sample: 100%|██████████| 12500/12500 [00:02<00:00, 5270.12it/s, 3 steps of size 5.15e-01. acc. prob=0.91] \n"
     ]
    },
    {
     "name": "stdout",
     "output_type": "stream",
     "text": [
      "Generating instance 79...\n"
     ]
    },
    {
     "name": "stderr",
     "output_type": "stream",
     "text": [
      "sample: 100%|██████████| 12500/12500 [00:04<00:00, 3111.65it/s, 3 steps of size 4.96e-01. acc. prob=0.92]\n",
      "sample: 100%|██████████| 12500/12500 [00:02<00:00, 5141.10it/s, 7 steps of size 4.63e-01. acc. prob=0.93] \n",
      "sample: 100%|██████████| 12500/12500 [00:02<00:00, 5139.06it/s, 15 steps of size 4.61e-01. acc. prob=0.93]\n"
     ]
    },
    {
     "name": "stdout",
     "output_type": "stream",
     "text": [
      "Generating instance 80...\n"
     ]
    },
    {
     "name": "stderr",
     "output_type": "stream",
     "text": [
      "sample: 100%|██████████| 12500/12500 [00:04<00:00, 2933.17it/s, 7 steps of size 4.02e-01. acc. prob=0.95] \n",
      "sample: 100%|██████████| 12500/12500 [00:02<00:00, 4924.09it/s, 7 steps of size 5.19e-01. acc. prob=0.91]\n",
      "sample: 100%|██████████| 12500/12500 [00:02<00:00, 5005.05it/s, 7 steps of size 4.65e-01. acc. prob=0.93]\n"
     ]
    },
    {
     "name": "stdout",
     "output_type": "stream",
     "text": [
      "Generating instance 81...\n"
     ]
    },
    {
     "name": "stderr",
     "output_type": "stream",
     "text": [
      "sample: 100%|██████████| 12500/12500 [00:04<00:00, 3006.72it/s, 7 steps of size 4.59e-01. acc. prob=0.93]\n",
      "sample: 100%|██████████| 12500/12500 [00:02<00:00, 5070.95it/s, 7 steps of size 4.29e-01. acc. prob=0.94] \n",
      "sample: 100%|██████████| 12500/12500 [00:02<00:00, 5072.96it/s, 3 steps of size 4.91e-01. acc. prob=0.92] \n"
     ]
    },
    {
     "name": "stdout",
     "output_type": "stream",
     "text": [
      "Generating instance 82...\n"
     ]
    },
    {
     "name": "stderr",
     "output_type": "stream",
     "text": [
      "sample: 100%|██████████| 12500/12500 [00:04<00:00, 2981.77it/s, 3 steps of size 4.71e-01. acc. prob=0.92] \n",
      "sample: 100%|██████████| 12500/12500 [00:02<00:00, 5134.94it/s, 7 steps of size 4.69e-01. acc. prob=0.92]\n",
      "sample: 100%|██████████| 12500/12500 [00:02<00:00, 5143.60it/s, 15 steps of size 4.84e-01. acc. prob=0.92]\n"
     ]
    },
    {
     "name": "stdout",
     "output_type": "stream",
     "text": [
      "Generating instance 83...\n"
     ]
    },
    {
     "name": "stderr",
     "output_type": "stream",
     "text": [
      "sample: 100%|██████████| 12500/12500 [00:04<00:00, 2967.28it/s, 3 steps of size 4.69e-01. acc. prob=0.92] \n",
      "sample: 100%|██████████| 12500/12500 [00:02<00:00, 5129.69it/s, 3 steps of size 5.50e-01. acc. prob=0.89]\n",
      "sample: 100%|██████████| 12500/12500 [00:02<00:00, 5176.95it/s, 3 steps of size 5.45e-01. acc. prob=0.89]\n"
     ]
    },
    {
     "name": "stdout",
     "output_type": "stream",
     "text": [
      "Generating instance 84...\n"
     ]
    },
    {
     "name": "stderr",
     "output_type": "stream",
     "text": [
      "sample: 100%|██████████| 12500/12500 [00:04<00:00, 3065.71it/s, 3 steps of size 4.31e-01. acc. prob=0.94] \n",
      "sample: 100%|██████████| 12500/12500 [00:02<00:00, 5071.67it/s, 7 steps of size 4.29e-01. acc. prob=0.94] \n",
      "sample: 100%|██████████| 12500/12500 [00:02<00:00, 4972.08it/s, 7 steps of size 4.81e-01. acc. prob=0.93] \n"
     ]
    },
    {
     "name": "stdout",
     "output_type": "stream",
     "text": [
      "Generating instance 85...\n"
     ]
    },
    {
     "name": "stderr",
     "output_type": "stream",
     "text": [
      "sample: 100%|██████████| 12500/12500 [00:04<00:00, 2995.66it/s, 7 steps of size 4.06e-01. acc. prob=0.94] \n",
      "sample: 100%|██████████| 12500/12500 [00:02<00:00, 5008.34it/s, 7 steps of size 4.58e-01. acc. prob=0.92]\n",
      "sample: 100%|██████████| 12500/12500 [00:02<00:00, 5158.83it/s, 3 steps of size 5.10e-01. acc. prob=0.91]\n"
     ]
    },
    {
     "name": "stdout",
     "output_type": "stream",
     "text": [
      "Generating instance 86...\n"
     ]
    },
    {
     "name": "stderr",
     "output_type": "stream",
     "text": [
      "sample: 100%|██████████| 12500/12500 [00:04<00:00, 3034.67it/s, 7 steps of size 4.74e-01. acc. prob=0.93] \n",
      "sample: 100%|██████████| 12500/12500 [00:02<00:00, 5041.76it/s, 7 steps of size 4.64e-01. acc. prob=0.93]\n",
      "sample: 100%|██████████| 12500/12500 [00:02<00:00, 5194.99it/s, 3 steps of size 5.39e-01. acc. prob=0.91] \n"
     ]
    },
    {
     "name": "stdout",
     "output_type": "stream",
     "text": [
      "Generating instance 87...\n"
     ]
    },
    {
     "name": "stderr",
     "output_type": "stream",
     "text": [
      "sample: 100%|██████████| 12500/12500 [00:04<00:00, 2994.17it/s, 3 steps of size 4.27e-01. acc. prob=0.94] \n",
      "sample: 100%|██████████| 12500/12500 [00:02<00:00, 5176.25it/s, 7 steps of size 5.25e-01. acc. prob=0.91]\n",
      "sample: 100%|██████████| 12500/12500 [00:02<00:00, 5162.86it/s, 3 steps of size 4.91e-01. acc. prob=0.93] \n"
     ]
    },
    {
     "name": "stdout",
     "output_type": "stream",
     "text": [
      "Generating instance 88...\n"
     ]
    },
    {
     "name": "stderr",
     "output_type": "stream",
     "text": [
      "sample: 100%|██████████| 12500/12500 [00:04<00:00, 2992.07it/s, 3 steps of size 4.86e-01. acc. prob=0.93] \n",
      "sample: 100%|██████████| 12500/12500 [00:02<00:00, 5026.97it/s, 7 steps of size 4.55e-01. acc. prob=0.94] \n",
      "sample: 100%|██████████| 12500/12500 [00:02<00:00, 5025.45it/s, 3 steps of size 4.53e-01. acc. prob=0.93]\n"
     ]
    },
    {
     "name": "stdout",
     "output_type": "stream",
     "text": [
      "Generating instance 89...\n"
     ]
    },
    {
     "name": "stderr",
     "output_type": "stream",
     "text": [
      "sample: 100%|██████████| 12500/12500 [00:04<00:00, 3058.16it/s, 7 steps of size 4.77e-01. acc. prob=0.92] \n",
      "sample: 100%|██████████| 12500/12500 [00:02<00:00, 5055.89it/s, 7 steps of size 4.64e-01. acc. prob=0.93] \n",
      "sample: 100%|██████████| 12500/12500 [00:02<00:00, 5129.62it/s, 7 steps of size 4.84e-01. acc. prob=0.93]\n"
     ]
    },
    {
     "name": "stdout",
     "output_type": "stream",
     "text": [
      "Generating instance 90...\n"
     ]
    },
    {
     "name": "stderr",
     "output_type": "stream",
     "text": [
      "sample: 100%|██████████| 12500/12500 [00:04<00:00, 3035.60it/s, 7 steps of size 4.58e-01. acc. prob=0.93] \n",
      "sample: 100%|██████████| 12500/12500 [00:02<00:00, 5092.19it/s, 7 steps of size 4.95e-01. acc. prob=0.92] \n",
      "sample: 100%|██████████| 12500/12500 [00:02<00:00, 5121.85it/s, 3 steps of size 4.88e-01. acc. prob=0.92]\n"
     ]
    },
    {
     "name": "stdout",
     "output_type": "stream",
     "text": [
      "Generating instance 91...\n"
     ]
    },
    {
     "name": "stderr",
     "output_type": "stream",
     "text": [
      "sample: 100%|██████████| 12500/12500 [00:04<00:00, 3049.95it/s, 3 steps of size 4.45e-01. acc. prob=0.93]\n",
      "sample: 100%|██████████| 12500/12500 [00:02<00:00, 5092.67it/s, 7 steps of size 4.32e-01. acc. prob=0.94]\n",
      "sample: 100%|██████████| 12500/12500 [00:02<00:00, 5246.00it/s, 3 steps of size 4.71e-01. acc. prob=0.93] \n"
     ]
    },
    {
     "name": "stdout",
     "output_type": "stream",
     "text": [
      "Generating instance 92...\n"
     ]
    },
    {
     "name": "stderr",
     "output_type": "stream",
     "text": [
      "sample: 100%|██████████| 12500/12500 [00:04<00:00, 3098.26it/s, 3 steps of size 4.95e-01. acc. prob=0.92]\n",
      "sample: 100%|██████████| 12500/12500 [00:02<00:00, 5058.49it/s, 7 steps of size 4.73e-01. acc. prob=0.92]\n",
      "sample: 100%|██████████| 12500/12500 [00:02<00:00, 5154.43it/s, 3 steps of size 5.12e-01. acc. prob=0.91] \n"
     ]
    },
    {
     "name": "stdout",
     "output_type": "stream",
     "text": [
      "Generating instance 93...\n"
     ]
    },
    {
     "name": "stderr",
     "output_type": "stream",
     "text": [
      "sample: 100%|██████████| 12500/12500 [00:04<00:00, 2956.69it/s, 7 steps of size 4.81e-01. acc. prob=0.92]\n",
      "sample: 100%|██████████| 12500/12500 [00:02<00:00, 4977.89it/s, 7 steps of size 4.31e-01. acc. prob=0.94] \n",
      "sample: 100%|██████████| 12500/12500 [00:02<00:00, 4994.82it/s, 7 steps of size 4.63e-01. acc. prob=0.93]\n"
     ]
    },
    {
     "name": "stdout",
     "output_type": "stream",
     "text": [
      "Generating instance 94...\n"
     ]
    },
    {
     "name": "stderr",
     "output_type": "stream",
     "text": [
      "sample: 100%|██████████| 12500/12500 [00:04<00:00, 3022.44it/s, 3 steps of size 4.43e-01. acc. prob=0.93]\n",
      "sample: 100%|██████████| 12500/12500 [00:02<00:00, 5390.84it/s, 3 steps of size 5.44e-01. acc. prob=0.89]\n",
      "sample: 100%|██████████| 12500/12500 [00:02<00:00, 5384.56it/s, 3 steps of size 4.71e-01. acc. prob=0.93] \n"
     ]
    },
    {
     "name": "stdout",
     "output_type": "stream",
     "text": [
      "Generating instance 95...\n"
     ]
    },
    {
     "name": "stderr",
     "output_type": "stream",
     "text": [
      "sample: 100%|██████████| 12500/12500 [00:03<00:00, 3181.56it/s, 3 steps of size 5.08e-01. acc. prob=0.91]\n",
      "sample: 100%|██████████| 12500/12500 [00:02<00:00, 5271.46it/s, 7 steps of size 4.57e-01. acc. prob=0.93] \n",
      "sample: 100%|██████████| 12500/12500 [00:02<00:00, 5027.79it/s, 3 steps of size 5.21e-01. acc. prob=0.91]\n"
     ]
    },
    {
     "name": "stdout",
     "output_type": "stream",
     "text": [
      "Generating instance 96...\n"
     ]
    },
    {
     "name": "stderr",
     "output_type": "stream",
     "text": [
      "sample: 100%|██████████| 12500/12500 [00:04<00:00, 3088.80it/s, 3 steps of size 5.01e-01. acc. prob=0.91] \n",
      "sample: 100%|██████████| 12500/12500 [00:02<00:00, 4790.69it/s, 7 steps of size 5.54e-01. acc. prob=0.90]\n",
      "sample: 100%|██████████| 12500/12500 [00:02<00:00, 4963.37it/s, 15 steps of size 5.01e-01. acc. prob=0.92]\n"
     ]
    },
    {
     "name": "stdout",
     "output_type": "stream",
     "text": [
      "Generating instance 97...\n"
     ]
    },
    {
     "name": "stderr",
     "output_type": "stream",
     "text": [
      "sample: 100%|██████████| 12500/12500 [00:04<00:00, 2858.17it/s, 7 steps of size 4.23e-01. acc. prob=0.94]\n",
      "sample: 100%|██████████| 12500/12500 [00:02<00:00, 4971.93it/s, 7 steps of size 4.33e-01. acc. prob=0.94] \n",
      "sample: 100%|██████████| 12500/12500 [00:02<00:00, 5220.98it/s, 3 steps of size 4.61e-01. acc. prob=0.93]\n"
     ]
    },
    {
     "name": "stdout",
     "output_type": "stream",
     "text": [
      "Generating instance 98...\n"
     ]
    },
    {
     "name": "stderr",
     "output_type": "stream",
     "text": [
      "sample: 100%|██████████| 12500/12500 [00:03<00:00, 3184.07it/s, 3 steps of size 4.68e-01. acc. prob=0.93] \n",
      "sample: 100%|██████████| 12500/12500 [00:02<00:00, 5409.08it/s, 7 steps of size 5.16e-01. acc. prob=0.91]\n",
      "sample: 100%|██████████| 12500/12500 [00:02<00:00, 5285.66it/s, 3 steps of size 5.11e-01. acc. prob=0.91]\n"
     ]
    },
    {
     "name": "stdout",
     "output_type": "stream",
     "text": [
      "Generating instance 99...\n"
     ]
    },
    {
     "name": "stderr",
     "output_type": "stream",
     "text": [
      "sample: 100%|██████████| 12500/12500 [00:03<00:00, 3196.22it/s, 3 steps of size 4.63e-01. acc. prob=0.92] \n",
      "sample: 100%|██████████| 12500/12500 [00:02<00:00, 5415.11it/s, 7 steps of size 4.94e-01. acc. prob=0.92]\n",
      "sample: 100%|██████████| 12500/12500 [00:02<00:00, 5375.73it/s, 15 steps of size 4.81e-01. acc. prob=0.93]\n"
     ]
    },
    {
     "name": "stdout",
     "output_type": "stream",
     "text": [
      "Generating instance 100...\n"
     ]
    },
    {
     "name": "stderr",
     "output_type": "stream",
     "text": [
      "sample: 100%|██████████| 12500/12500 [00:03<00:00, 3182.62it/s, 7 steps of size 4.79e-01. acc. prob=0.92] \n",
      "sample: 100%|██████████| 12500/12500 [00:02<00:00, 5206.52it/s, 3 steps of size 4.61e-01. acc. prob=0.93] \n",
      "sample: 100%|██████████| 12500/12500 [00:02<00:00, 5220.36it/s, 15 steps of size 4.80e-01. acc. prob=0.92]\n"
     ]
    }
   ],
   "source": [
    "generator = Generator(results_name=results_name, \n",
    "                  data_params=data_params,\n",
    "                  default_params=default_params)\n",
    "\n",
    "analysis_iterations = {\n",
    "    'parameters_1': ['I_y_mu','I_z_mu','Q_mu','sigma_mu'],\n",
    "    'parameters_2': ['I_y_sigma','I_z_sigma','Q_sigma','sigma_sigma'],\n",
    "    'values_1':\n",
    "    [\n",
    "        np.array([1e-4, 1e-3, 1e-2, 1e-1, 1e0, 1e1, 1e2, 1e3, 1e4, 1e5]),\n",
    "        np.array([1e-4, 1e-3, 1e-2, 1e-1, 1e0, 1e1, 1e2, 1e3, 1e4, 1e5]),\n",
    "        np.array([1e9, 1e10, 1e11, 1e12, 1e13, 1e14, 1e15, 1e16, 1e17, 1e18]),\n",
    "        np.array([0.5, 1, 1.5, 2, 2.5, 3, 3.5, 4, 4.5, 5])     \n",
    "    ],\n",
    "\n",
    "    'values_2':\n",
    "    [\n",
    "        np.array([1e-4, 1e-3, 1e-2, 1e-1, 1e0, 1e1, 1e2, 1e3, 1e4, 1e5]),\n",
    "        np.array([1e-4, 1e-3, 1e-2, 1e-1, 1e0, 1e1, 1e2, 1e3, 1e4, 1e5]),\n",
    "        np.array([1e9, 1e10, 1e11, 1e12, 1e13, 1e14, 1e15, 1e16, 1e17, 1e18]),\n",
    "        np.array([0.5, 1, 1.5, 2, 2.5, 3, 3.5, 4, 4.5, 5]) \n",
    "    ],\n",
    "    'scales_1': ['log','log', 'log', 'linear'],\n",
    "    'scales_2': ['log','log', 'log', 'linear'],\n",
    "}\n",
    "\n",
    "for i in range(len(analysis_iterations['parameters_1'])):\n",
    "    parameter_1 = analysis_iterations['parameters_1'][i]\n",
    "    parameter_2 = analysis_iterations['parameters_2'][i]\n",
    "\n",
    "    print('Working on varying ' + parameter_1 + '...')\n",
    "    values_1 = analysis_iterations['values_1'][i]\n",
    "    values_2 = analysis_iterations['values_2'][i]\n",
    "\n",
    "    scale_1 = analysis_iterations['scales_1'][i]\n",
    "    scale_2 = analysis_iterations['scales_2'][i]\n",
    "\n",
    "    inputs = generator.vary_two_parameters(parameter_1, parameter_2, values_1, values_2, scale_1=scale_1, scale_2=scale_2, plot=True)"
   ]
  },
  {
   "attachments": {},
   "cell_type": "markdown",
   "metadata": {},
   "source": [
    "Optimising the hyperparameters for gamma prior simulated data"
   ]
  },
  {
   "cell_type": "code",
   "execution_count": 6,
   "metadata": {},
   "outputs": [
    {
     "name": "stderr",
     "output_type": "stream",
     "text": [
      "[I 2023-10-11 05:54:14,546] A new study created in RDB with name: AIC_1\n",
      "sample: 100%|██████████| 12500/12500 [00:04<00:00, 3063.92it/s, 3 steps of size 4.47e-01. acc. prob=0.93] \n",
      "sample: 100%|██████████| 12500/12500 [00:02<00:00, 5298.14it/s, 3 steps of size 5.42e-01. acc. prob=0.90]\n",
      "sample: 100%|██████████| 12500/12500 [00:02<00:00, 5128.13it/s, 3 steps of size 5.23e-01. acc. prob=0.91] \n",
      "[I 2023-10-11 05:54:25,133] Trial 0 finished with value: 237.39369201660156 and parameters: {'I_y_mu': 7.289265054212893, 'I_y_sigma': 7.401877580952578, 'I_z_mu': 6.496340733068833, 'I_z_sigma': 2.9456790903921903, 'Q_mu': 1.0504240162054573e+17, 'Q_sigma': 6.900347928527343e+17, 'sigma_mu': 0.8487872642016416, 'sigma_sigma': 0.4357954730860833}. Best is trial 0 with value: 237.39369201660156.\n",
      "sample: 100%|██████████| 12500/12500 [00:04<00:00, 2874.67it/s, 7 steps of size 3.99e-01. acc. prob=0.95]\n",
      "sample: 100%|██████████| 12500/12500 [00:02<00:00, 4734.43it/s, 7 steps of size 5.06e-01. acc. prob=0.92]\n",
      "sample: 100%|██████████| 12500/12500 [00:02<00:00, 4623.77it/s, 3 steps of size 5.12e-01. acc. prob=0.91]\n",
      "[I 2023-10-11 05:54:36,537] Trial 1 finished with value: 237.4235382080078 and parameters: {'I_y_mu': 6.329994596831245, 'I_y_sigma': 4.7517655072630305, 'I_z_mu': 7.3704760633256, 'I_z_sigma': 3.608437327920101, 'Q_mu': 1.3249558435526822e+17, 'Q_sigma': 7.943522697793374e+16, 'sigma_mu': 1.7288209384995286, 'sigma_sigma': 1.3305659007661608}. Best is trial 0 with value: 237.39369201660156.\n",
      "sample: 100%|██████████| 12500/12500 [00:04<00:00, 3019.26it/s, 7 steps of size 4.20e-01. acc. prob=0.94]\n",
      "sample: 100%|██████████| 12500/12500 [00:02<00:00, 5036.63it/s, 3 steps of size 4.76e-01. acc. prob=0.93] \n",
      "sample: 100%|██████████| 12500/12500 [00:02<00:00, 4984.48it/s, 3 steps of size 5.48e-01. acc. prob=0.90]\n",
      "[I 2023-10-11 05:54:47,336] Trial 2 finished with value: 237.1741943359375 and parameters: {'I_y_mu': 7.177878981228949, 'I_y_sigma': 1.6015489936515803, 'I_z_mu': 5.012504851915176, 'I_z_sigma': 1.0085315460609767, 'Q_mu': 3.695892417976561e+17, 'Q_sigma': 3.7189553863094125e+17, 'sigma_mu': 1.3659766292268802, 'sigma_sigma': 1.1266399294409266}. Best is trial 2 with value: 237.1741943359375.\n",
      "sample: 100%|██████████| 12500/12500 [00:04<00:00, 3007.59it/s, 7 steps of size 4.09e-01. acc. prob=0.94] \n",
      "sample: 100%|██████████| 12500/12500 [00:02<00:00, 4730.20it/s, 7 steps of size 5.09e-01. acc. prob=0.91]\n",
      "sample: 100%|██████████| 12500/12500 [00:02<00:00, 4982.05it/s, 15 steps of size 4.56e-01. acc. prob=0.93]\n",
      "[I 2023-10-11 05:54:58,304] Trial 3 finished with value: 237.4314422607422 and parameters: {'I_y_mu': 6.006392053215705, 'I_y_sigma': 4.158513694423356, 'I_z_mu': 6.106682187635068, 'I_z_sigma': 4.644708644481514, 'Q_mu': 1.860400928750632e+17, 'Q_sigma': 2.024947341135248e+17, 'sigma_mu': 0.7133740697226725, 'sigma_sigma': 1.3662269204102941}. Best is trial 2 with value: 237.1741943359375.\n",
      "sample: 100%|██████████| 12500/12500 [00:04<00:00, 3050.99it/s, 7 steps of size 4.14e-01. acc. prob=0.94] \n",
      "sample: 100%|██████████| 12500/12500 [00:02<00:00, 4921.29it/s, 3 steps of size 4.74e-01. acc. prob=0.93] \n",
      "sample:  86%|████████▋ | 10801/12500 [00:02<00:00, 5045.37it/s, 7 steps of size 4.98e-01. acc. prob=0.92]"
     ]
    },
    {
     "name": "stderr",
     "output_type": "stream",
     "text": [
      "sample: 100%|██████████| 12500/12500 [00:02<00:00, 5007.96it/s, 3 steps of size 4.98e-01. acc. prob=0.92]\n",
      "[I 2023-10-11 05:55:09,113] Trial 4 finished with value: 237.42230224609375 and parameters: {'I_y_mu': 8.317231893890511, 'I_y_sigma': 3.194085709851302, 'I_z_mu': 5.537901561123522, 'I_z_sigma': 6.3316380597007385, 'Q_mu': 2.4305025017290752e+17, 'Q_sigma': 6.916688249896206e+17, 'sigma_mu': 1.0418290190377075, 'sigma_sigma': 0.8377704359609577}. Best is trial 2 with value: 237.1741943359375.\n",
      "sample: 100%|██████████| 12500/12500 [00:04<00:00, 3106.00it/s, 3 steps of size 5.22e-01. acc. prob=0.90] \n",
      "sample: 100%|██████████| 12500/12500 [00:02<00:00, 4861.73it/s, 7 steps of size 4.30e-01. acc. prob=0.94] \n",
      "sample: 100%|██████████| 12500/12500 [00:02<00:00, 5050.42it/s, 7 steps of size 5.76e-01. acc. prob=0.88]\n",
      "[I 2023-10-11 05:55:19,844] Trial 5 finished with value: 237.4148712158203 and parameters: {'I_y_mu': 1.7372401323469215, 'I_y_sigma': 2.5181846534243153, 'I_z_mu': 8.884765451965064, 'I_z_sigma': 4.456674710807064, 'Q_mu': 6.359503726854744e+17, 'Q_sigma': 8.308030738714089e+17, 'sigma_mu': 1.3666431579666856, 'sigma_sigma': 1.7494948903946141}. Best is trial 2 with value: 237.1741943359375.\n",
      "sample: 100%|██████████| 12500/12500 [00:04<00:00, 2963.21it/s, 7 steps of size 4.65e-01. acc. prob=0.93] \n",
      "sample: 100%|██████████| 12500/12500 [00:02<00:00, 4797.28it/s, 7 steps of size 4.51e-01. acc. prob=0.93]\n",
      "sample: 100%|██████████| 12500/12500 [00:02<00:00, 4953.87it/s, 3 steps of size 4.52e-01. acc. prob=0.93] \n",
      "[I 2023-10-11 05:55:30,856] Trial 6 finished with value: 237.4569091796875 and parameters: {'I_y_mu': 6.549641505629921, 'I_y_sigma': 7.922001030381076, 'I_z_mu': 1.1711900936527766, 'I_z_sigma': 4.00228931878689, 'Q_mu': 8.821669441623823e+17, 'Q_sigma': 1.8431575255773187e+17, 'sigma_mu': 0.6767147134007723, 'sigma_sigma': 0.5890006317635498}. Best is trial 2 with value: 237.1741943359375.\n",
      "sample: 100%|██████████| 12500/12500 [00:04<00:00, 2965.96it/s, 3 steps of size 5.25e-01. acc. prob=0.90]\n",
      "sample: 100%|██████████| 12500/12500 [00:02<00:00, 4737.71it/s, 7 steps of size 4.71e-01. acc. prob=0.93] \n",
      "sample: 100%|██████████| 12500/12500 [00:02<00:00, 4748.64it/s, 3 steps of size 4.94e-01. acc. prob=0.92] \n",
      "[I 2023-10-11 05:55:42,030] Trial 7 finished with value: 237.42575073242188 and parameters: {'I_y_mu': 0.17236086590054828, 'I_y_sigma': 3.633381783600978, 'I_z_mu': 2.9203506238742167, 'I_z_sigma': 2.4758403470403914, 'Q_mu': 1.1703342697239558e+17, 'Q_sigma': 6.510615279328928e+17, 'sigma_mu': 0.4827897735567783, 'sigma_sigma': 0.8425522010061497}. Best is trial 2 with value: 237.1741943359375.\n",
      "sample: 100%|██████████| 12500/12500 [00:04<00:00, 2985.29it/s, 3 steps of size 5.20e-01. acc. prob=0.90]\n",
      "sample: 100%|██████████| 12500/12500 [00:02<00:00, 4752.36it/s, 7 steps of size 4.53e-01. acc. prob=0.93]\n",
      "sample: 100%|██████████| 12500/12500 [00:02<00:00, 5101.54it/s, 3 steps of size 5.27e-01. acc. prob=0.91]\n",
      "[I 2023-10-11 05:55:52,967] Trial 8 finished with value: 237.45127868652344 and parameters: {'I_y_mu': 5.922995376216954, 'I_y_sigma': 3.7229259875596217, 'I_z_mu': 0.6470363306932022, 'I_z_sigma': 9.963329604032467, 'Q_mu': 9.867796528314263e+17, 'Q_sigma': 7.619889497502979e+17, 'sigma_mu': 1.3940474611497466, 'sigma_sigma': 1.7423267826794535}. Best is trial 2 with value: 237.1741943359375.\n",
      "sample: 100%|██████████| 12500/12500 [00:04<00:00, 2947.52it/s, 3 steps of size 4.35e-01. acc. prob=0.94] \n",
      "sample: 100%|██████████| 12500/12500 [00:02<00:00, 4887.46it/s, 7 steps of size 4.61e-01. acc. prob=0.93]\n",
      "sample: 100%|██████████| 12500/12500 [00:02<00:00, 4925.90it/s, 15 steps of size 4.53e-01. acc. prob=0.93]\n",
      "[I 2023-10-11 05:56:03,981] Trial 9 finished with value: 237.31759643554688 and parameters: {'I_y_mu': 1.3223144855561926, 'I_y_sigma': 0.38448827806745917, 'I_z_mu': 7.159973679200157, 'I_z_sigma': 6.869479342628217, 'Q_mu': 2.2875306725820685e+17, 'Q_sigma': 8.087315606571767e+17, 'sigma_mu': 0.40345565069418066, 'sigma_sigma': 0.3342561955914599}. Best is trial 2 with value: 237.1741943359375.\n",
      "sample: 100%|██████████| 12500/12500 [00:04<00:00, 2945.93it/s, 7 steps of size 6.20e-01. acc. prob=0.92]\n",
      "sample: 100%|██████████| 12500/12500 [00:02<00:00, 4870.16it/s, 3 steps of size 6.12e-01. acc. prob=0.92]\n",
      "sample: 100%|██████████| 12500/12500 [00:02<00:00, 4966.71it/s, 3 steps of size 6.80e-01. acc. prob=0.90]\n",
      "[I 2023-10-11 05:56:15,037] Trial 10 finished with value: 305.841552734375 and parameters: {'I_y_mu': 9.86429378482869, 'I_y_sigma': 0.173595920455206, 'I_z_mu': 3.9492344078281203, 'I_z_sigma': 0.5954936353163878, 'Q_mu': 4.6720232410600595e+17, 'Q_sigma': 4.817775955351757e+17, 'sigma_mu': 1.928766258447987, 'sigma_sigma': 1.9977227735228191}. Best is trial 2 with value: 237.1741943359375.\n",
      "sample: 100%|██████████| 12500/12500 [00:04<00:00, 2941.22it/s, 7 steps of size 6.51e-01. acc. prob=0.92]\n",
      "sample: 100%|██████████| 12500/12500 [00:02<00:00, 4851.00it/s, 7 steps of size 7.03e-01. acc. prob=0.90]\n",
      "sample: 100%|██████████| 12500/12500 [00:02<00:00, 4927.17it/s, 7 steps of size 7.36e-01. acc. prob=0.89]\n",
      "[I 2023-10-11 05:56:26,094] Trial 11 finished with value: 322.3023681640625 and parameters: {'I_y_mu': 3.819648783571433, 'I_y_sigma': 0.07527396260112368, 'I_z_mu': 9.627284448441808, 'I_z_sigma': 0.260984964132696, 'Q_mu': 3.632342022266336e+17, 'Q_sigma': 4.1774899820707315e+17, 'sigma_mu': 0.3137730035174475, 'sigma_sigma': 0.2058210019069352}. Best is trial 2 with value: 237.1741943359375.\n",
      "sample: 100%|██████████| 12500/12500 [00:04<00:00, 2999.83it/s, 7 steps of size 4.67e-01. acc. prob=0.92] \n",
      "sample: 100%|██████████| 12500/12500 [00:02<00:00, 4752.10it/s, 7 steps of size 4.58e-01. acc. prob=0.93]\n",
      "sample: 100%|██████████| 12500/12500 [00:02<00:00, 4822.23it/s, 3 steps of size 5.29e-01. acc. prob=0.90] \n",
      "[I 2023-10-11 05:56:37,207] Trial 12 finished with value: 237.4117889404297 and parameters: {'I_y_mu': 3.9250351909611148, 'I_y_sigma': 1.6121692579914328, 'I_z_mu': 4.560247030107404, 'I_z_sigma': 6.58126783515949, 'Q_mu': 1.060631069021568e+16, 'Q_sigma': 9.989248399566824e+17, 'sigma_mu': 0.20148327360276042, 'sigma_sigma': 1.045957392975689}. Best is trial 2 with value: 237.1741943359375.\n",
      "sample: 100%|██████████| 12500/12500 [00:04<00:00, 3051.65it/s, 3 steps of size 4.48e-01. acc. prob=0.93] \n",
      "sample: 100%|██████████| 12500/12500 [00:02<00:00, 4802.45it/s, 7 steps of size 4.61e-01. acc. prob=0.93] \n",
      "sample: 100%|██████████| 12500/12500 [00:02<00:00, 4755.21it/s, 3 steps of size 5.23e-01. acc. prob=0.91] \n",
      "[I 2023-10-11 05:56:48,229] Trial 13 finished with value: 237.41793823242188 and parameters: {'I_y_mu': 4.31849751824215, 'I_y_sigma': 1.6760870034689361, 'I_z_mu': 7.675586535531379, 'I_z_sigma': 6.34398281380678, 'Q_mu': 3.269105983389415e+17, 'Q_sigma': 3.6892166193604294e+17, 'sigma_mu': 1.1702661231790026, 'sigma_sigma': 0.6675553842493102}. Best is trial 2 with value: 237.1741943359375.\n",
      "sample: 100%|██████████| 12500/12500 [00:04<00:00, 2889.22it/s, 7 steps of size 4.72e-01. acc. prob=0.92] \n",
      "sample: 100%|██████████| 12500/12500 [00:02<00:00, 4526.27it/s, 7 steps of size 4.47e-01. acc. prob=0.93]\n",
      "sample: 100%|██████████| 12500/12500 [00:02<00:00, 4663.78it/s, 15 steps of size 4.61e-01. acc. prob=0.93]\n",
      "[I 2023-10-11 05:56:59,739] Trial 14 finished with value: 237.25177001953125 and parameters: {'I_y_mu': 2.7522477817529842, 'I_y_sigma': 1.2673260773662356, 'I_z_mu': 5.122111094353354, 'I_z_sigma': 1.483256967781032, 'Q_mu': 5.1304515763124096e+17, 'Q_sigma': 5.480602505276973e+17, 'sigma_mu': 0.5402998906596028, 'sigma_sigma': 0.21327266343413798}. Best is trial 2 with value: 237.1741943359375.\n",
      "sample: 100%|██████████| 12500/12500 [00:04<00:00, 2875.05it/s, 7 steps of size 4.17e-01. acc. prob=0.94] \n",
      "sample: 100%|██████████| 12500/12500 [00:02<00:00, 4581.45it/s, 7 steps of size 4.27e-01. acc. prob=0.94]\n",
      "sample: 100%|██████████| 12500/12500 [00:02<00:00, 4489.60it/s, 3 steps of size 4.68e-01. acc. prob=0.93] \n",
      "[I 2023-10-11 05:57:11,380] Trial 15 finished with value: 237.36009216308594 and parameters: {'I_y_mu': 2.7439011881055224, 'I_y_sigma': 6.46857063411159, 'I_z_mu': 4.740314343897345, 'I_z_sigma': 1.6123438241443158, 'Q_mu': 5.85780796449444e+17, 'Q_sigma': 3.299014169017249e+17, 'sigma_mu': 1.0112997650156785, 'sigma_sigma': 1.1033280109807475}. Best is trial 2 with value: 237.1741943359375.\n",
      "sample: 100%|██████████| 12500/12500 [00:04<00:00, 2727.07it/s, 3 steps of size 4.28e-01. acc. prob=0.94] \n",
      "sample: 100%|██████████| 12500/12500 [00:02<00:00, 4677.26it/s, 7 steps of size 5.37e-01. acc. prob=0.90] \n",
      "sample: 100%|██████████| 12500/12500 [00:02<00:00, 4750.24it/s, 3 steps of size 5.15e-01. acc. prob=0.91]\n",
      "[I 2023-10-11 05:57:23,013] Trial 16 finished with value: 237.33349609375 and parameters: {'I_y_mu': 2.890940408308535, 'I_y_sigma': 9.569719604892672, 'I_z_mu': 3.343840500808099, 'I_z_sigma': 1.6360717090349723, 'Q_mu': 4.7518116226309843e+17, 'Q_sigma': 5.4142620605459046e+17, 'sigma_mu': 0.5591022297648607, 'sigma_sigma': 0.21436958449103694}. Best is trial 2 with value: 237.1741943359375.\n",
      "sample: 100%|██████████| 12500/12500 [00:04<00:00, 2940.39it/s, 7 steps of size 4.76e-01. acc. prob=0.92] \n",
      "sample: 100%|██████████| 12500/12500 [00:02<00:00, 4506.48it/s, 7 steps of size 4.85e-01. acc. prob=0.92]\n",
      "sample: 100%|██████████| 12500/12500 [00:02<00:00, 4908.25it/s, 3 steps of size 4.78e-01. acc. prob=0.93] \n",
      "[I 2023-10-11 05:57:34,311] Trial 17 finished with value: 237.22311401367188 and parameters: {'I_y_mu': 5.511443754537943, 'I_y_sigma': 2.112300436120245, 'I_z_mu': 5.283384747492757, 'I_z_sigma': 1.1080081938656707, 'Q_mu': 6.602596235843638e+17, 'Q_sigma': 4.987349547359717e+17, 'sigma_mu': 0.8567648352817474, 'sigma_sigma': 0.5193628633685674}. Best is trial 2 with value: 237.1741943359375.\n",
      "sample: 100%|██████████| 12500/12500 [00:04<00:00, 2921.66it/s, 7 steps of size 4.10e-01. acc. prob=0.94] \n",
      "sample: 100%|██████████| 12500/12500 [00:02<00:00, 4681.25it/s, 7 steps of size 4.64e-01. acc. prob=0.93] \n",
      "sample: 100%|██████████| 12500/12500 [00:02<00:00, 4894.22it/s, 15 steps of size 4.65e-01. acc. prob=0.93]\n",
      "[I 2023-10-11 05:57:45,495] Trial 18 finished with value: 236.88299560546875 and parameters: {'I_y_mu': 5.063717347185156, 'I_y_sigma': 2.5753189021864733, 'I_z_mu': 2.34157649933731, 'I_z_sigma': 0.35469605913755275, 'Q_mu': 7.136574597036439e+17, 'Q_sigma': 3.23130581094895e+17, 'sigma_mu': 0.8365804179591931, 'sigma_sigma': 0.5255005565161059}. Best is trial 18 with value: 236.88299560546875.\n",
      "sample: 100%|██████████| 12500/12500 [00:04<00:00, 2910.00it/s, 3 steps of size 5.39e-01. acc. prob=0.90]\n",
      "sample: 100%|██████████| 12500/12500 [00:02<00:00, 4780.79it/s, 7 steps of size 5.19e-01. acc. prob=0.91] \n",
      "sample: 100%|██████████| 12500/12500 [00:02<00:00, 4821.52it/s, 7 steps of size 4.97e-01. acc. prob=0.92] \n",
      "[I 2023-10-11 05:57:56,684] Trial 19 finished with value: 295.06707763671875 and parameters: {'I_y_mu': 4.580992634423915, 'I_y_sigma': 2.9162577819211957, 'I_z_mu': 2.108538955986783, 'I_z_sigma': 0.16601689469826345, 'Q_mu': 7.288320934262995e+17, 'Q_sigma': 3.077256274262626e+17, 'sigma_mu': 1.4029346192819345, 'sigma_sigma': 0.7504283960992352}. Best is trial 18 with value: 236.88299560546875.\n",
      "sample: 100%|██████████| 12500/12500 [00:04<00:00, 2857.22it/s, 7 steps of size 4.14e-01. acc. prob=0.94] \n",
      "sample: 100%|██████████| 12500/12500 [00:02<00:00, 4730.29it/s, 7 steps of size 5.03e-01. acc. prob=0.91]\n",
      "sample: 100%|██████████| 12500/12500 [00:02<00:00, 4853.13it/s, 3 steps of size 4.77e-01. acc. prob=0.92]\n",
      "[I 2023-10-11 05:58:08,001] Trial 20 finished with value: 237.44297790527344 and parameters: {'I_y_mu': 4.97605354038547, 'I_y_sigma': 5.342771876688004, 'I_z_mu': 2.1451389636150764, 'I_z_sigma': 2.50709060688874, 'Q_mu': 7.713773170477135e+17, 'Q_sigma': 2.4089906093916138e+17, 'sigma_mu': 1.1799919194561703, 'sigma_sigma': 0.5051453694847408}. Best is trial 18 with value: 236.88299560546875.\n",
      "sample: 100%|██████████| 12500/12500 [00:04<00:00, 2914.14it/s, 3 steps of size 4.43e-01. acc. prob=0.93] \n",
      "sample: 100%|██████████| 12500/12500 [00:02<00:00, 4546.73it/s, 7 steps of size 5.02e-01. acc. prob=0.92] \n",
      "sample: 100%|██████████| 12500/12500 [00:02<00:00, 4803.17it/s, 7 steps of size 5.74e-01. acc. prob=0.88]\n",
      "[I 2023-10-11 05:58:19,350] Trial 21 finished with value: 237.4337158203125 and parameters: {'I_y_mu': 5.73898646905862, 'I_y_sigma': 2.0936149354098883, 'I_z_mu': 0.027578324967804768, 'I_z_sigma': 1.1655348677855486, 'Q_mu': 6.806328798930675e+17, 'Q_sigma': 4.370975458156711e+17, 'sigma_mu': 0.8697181671115951, 'sigma_sigma': 0.4939301784419338}. Best is trial 18 with value: 236.88299560546875.\n",
      "sample: 100%|██████████| 12500/12500 [00:04<00:00, 2953.61it/s, 7 steps of size 4.88e-01. acc. prob=0.94]\n",
      "sample: 100%|██████████| 12500/12500 [00:02<00:00, 4749.24it/s, 3 steps of size 5.68e-01. acc. prob=0.91]\n",
      "sample: 100%|██████████| 12500/12500 [00:02<00:00, 4864.64it/s, 7 steps of size 5.68e-01. acc. prob=0.91] \n",
      "[I 2023-10-11 05:58:30,489] Trial 22 finished with value: 295.3713073730469 and parameters: {'I_y_mu': 7.491667397132985, 'I_y_sigma': 1.1117819100380861, 'I_z_mu': 4.006314666975464, 'I_z_sigma': 0.1200793226036006, 'Q_mu': 7.806673025341064e+17, 'Q_sigma': 3.922135097350208e+17, 'sigma_mu': 0.8448938235003665, 'sigma_sigma': 0.6294117994963876}. Best is trial 18 with value: 236.88299560546875.\n",
      "sample: 100%|██████████| 12500/12500 [00:04<00:00, 2927.89it/s, 7 steps of size 4.19e-01. acc. prob=0.94] \n",
      "sample: 100%|██████████| 12500/12500 [00:02<00:00, 4689.82it/s, 7 steps of size 4.88e-01. acc. prob=0.92] \n",
      "sample: 100%|██████████| 12500/12500 [00:02<00:00, 4915.45it/s, 3 steps of size 5.15e-01. acc. prob=0.91]\n",
      "[I 2023-10-11 05:58:41,656] Trial 23 finished with value: 237.12208557128906 and parameters: {'I_y_mu': 5.272403709473905, 'I_y_sigma': 2.439859238883965, 'I_z_mu': 5.584092461392181, 'I_z_sigma': 0.9269087603194054, 'Q_mu': 6.012739793952417e+17, 'Q_sigma': 2.8835335391495955e+17, 'sigma_mu': 0.6919113737450076, 'sigma_sigma': 0.3979503215921057}. Best is trial 18 with value: 236.88299560546875.\n",
      "sample: 100%|██████████| 12500/12500 [00:04<00:00, 2998.09it/s, 3 steps of size 5.13e-01. acc. prob=0.91] \n",
      "sample: 100%|██████████| 12500/12500 [00:02<00:00, 4669.21it/s, 7 steps of size 4.31e-01. acc. prob=0.94] \n",
      "sample: 100%|██████████| 12500/12500 [00:02<00:00, 4699.45it/s, 3 steps of size 4.77e-01. acc. prob=0.93] \n",
      "[I 2023-10-11 05:58:52,908] Trial 24 finished with value: 237.34716796875 and parameters: {'I_y_mu': 5.032669448169943, 'I_y_sigma': 2.7598777087070485, 'I_z_mu': 5.947612543592702, 'I_z_sigma': 2.100045295961473, 'Q_mu': 5.619366462006849e+17, 'Q_sigma': 2.7711513685544765e+17, 'sigma_mu': 0.6797634708437084, 'sigma_sigma': 0.3946043004272871}. Best is trial 18 with value: 236.88299560546875.\n",
      "sample: 100%|██████████| 12500/12500 [00:04<00:00, 2919.34it/s, 7 steps of size 4.21e-01. acc. prob=0.94]\n",
      "sample: 100%|██████████| 12500/12500 [00:02<00:00, 4505.68it/s, 7 steps of size 4.72e-01. acc. prob=0.92] \n",
      "sample: 100%|██████████| 12500/12500 [00:02<00:00, 4670.41it/s, 3 steps of size 5.24e-01. acc. prob=0.90]\n",
      "[I 2023-10-11 05:59:04,386] Trial 25 finished with value: 237.10464477539062 and parameters: {'I_y_mu': 6.9969446804180215, 'I_y_sigma': 1.1162020439554559, 'I_z_mu': 4.282325810742403, 'I_z_sigma': 0.8276742250393279, 'Q_mu': 4.194686597556555e+17, 'Q_sigma': 1.715440322723185e+17, 'sigma_mu': 1.2653094359377661, 'sigma_sigma': 0.9255431328336461}. Best is trial 18 with value: 236.88299560546875.\n",
      "sample: 100%|██████████| 12500/12500 [00:04<00:00, 2867.73it/s, 3 steps of size 5.44e-01. acc. prob=0.92]\n",
      "sample: 100%|██████████| 12500/12500 [00:02<00:00, 4740.35it/s, 3 steps of size 6.34e-01. acc. prob=0.89]\n",
      "sample: 100%|██████████| 12500/12500 [00:02<00:00, 4892.84it/s, 7 steps of size 5.61e-01. acc. prob=0.91]\n",
      "[I 2023-10-11 05:59:15,700] Trial 26 finished with value: 295.3137512207031 and parameters: {'I_y_mu': 5.199829653659916, 'I_y_sigma': 0.9268895175729059, 'I_z_mu': 3.134184663850035, 'I_z_sigma': 0.08898523135393666, 'Q_mu': 5.818799537992003e+17, 'Q_sigma': 1.2865585897260691e+17, 'sigma_mu': 0.9949771097048279, 'sigma_sigma': 0.6912229285327326}. Best is trial 18 with value: 236.88299560546875.\n",
      "sample: 100%|██████████| 12500/12500 [00:04<00:00, 2758.24it/s, 7 steps of size 4.63e-01. acc. prob=0.93]\n",
      "sample: 100%|██████████| 12500/12500 [00:02<00:00, 4664.49it/s, 7 steps of size 5.20e-01. acc. prob=0.91]\n",
      "sample: 100%|██████████| 12500/12500 [00:02<00:00, 4788.05it/s, 3 steps of size 5.14e-01. acc. prob=0.91]\n",
      "[I 2023-10-11 05:59:27,265] Trial 27 finished with value: 237.33445739746094 and parameters: {'I_y_mu': 6.673992754118549, 'I_y_sigma': 2.76204900745131, 'I_z_mu': 2.063987344953769, 'I_z_sigma': 0.7831318754478789, 'Q_mu': 4.425947237939242e+17, 'Q_sigma': 8556815909863296.0, 'sigma_mu': 1.226126528743481, 'sigma_sigma': 0.33185524957273066}. Best is trial 18 with value: 236.88299560546875.\n",
      "sample: 100%|██████████| 12500/12500 [00:04<00:00, 2930.26it/s, 7 steps of size 4.66e-01. acc. prob=0.93]\n",
      "sample: 100%|██████████| 12500/12500 [00:02<00:00, 4744.93it/s, 7 steps of size 5.09e-01. acc. prob=0.91]\n",
      "sample: 100%|██████████| 12500/12500 [00:02<00:00, 4777.30it/s, 3 steps of size 4.91e-01. acc. prob=0.92]\n",
      "[I 2023-10-11 05:59:38,474] Trial 28 finished with value: 237.2690887451172 and parameters: {'I_y_mu': 8.10558110365482, 'I_y_sigma': 0.9082660698902387, 'I_z_mu': 4.004841887247166, 'I_z_sigma': 2.144090450116493, 'Q_mu': 5.224699965247051e+17, 'Q_sigma': 2.6127145912512246e+17, 'sigma_mu': 0.689954118995727, 'sigma_sigma': 0.8161093660272282}. Best is trial 18 with value: 236.88299560546875.\n",
      "sample: 100%|██████████| 12500/12500 [00:04<00:00, 2957.38it/s, 3 steps of size 4.96e-01. acc. prob=0.92] \n",
      "sample: 100%|██████████| 12500/12500 [00:02<00:00, 4719.95it/s, 7 steps of size 4.50e-01. acc. prob=0.93] \n",
      "sample: 100%|██████████| 12500/12500 [00:02<00:00, 4877.97it/s, 3 steps of size 5.04e-01. acc. prob=0.92] \n",
      "[I 2023-10-11 05:59:49,659] Trial 29 finished with value: 237.38229370117188 and parameters: {'I_y_mu': 5.457382163676629, 'I_y_sigma': 2.195381486973365, 'I_z_mu': 6.493701389430207, 'I_z_sigma': 3.0257059260185413, 'Q_mu': 4.2703066723104045e+17, 'Q_sigma': 1.7680725791039725e+17, 'sigma_mu': 0.9155550537266702, 'sigma_sigma': 0.4208883100371874}. Best is trial 18 with value: 236.88299560546875.\n",
      "sample: 100%|██████████| 12500/12500 [00:04<00:00, 2921.45it/s, 7 steps of size 4.62e-01. acc. prob=0.93] \n",
      "sample: 100%|██████████| 12500/12500 [00:02<00:00, 4611.19it/s, 3 steps of size 4.71e-01. acc. prob=0.93] \n",
      "sample: 100%|██████████| 12500/12500 [00:02<00:00, 4663.26it/s, 3 steps of size 4.76e-01. acc. prob=0.93]\n",
      "[I 2023-10-11 06:00:01,062] Trial 30 finished with value: 237.41766357421875 and parameters: {'I_y_mu': 6.861288441887463, 'I_y_sigma': 3.3536872015831944, 'I_z_mu': 4.401389739312972, 'I_z_sigma': 3.0931870357250753, 'Q_mu': 6.413462178833126e+17, 'Q_sigma': 3.120592036311958e+17, 'sigma_mu': 0.794080330279499, 'sigma_sigma': 0.5520310300379854}. Best is trial 18 with value: 236.88299560546875.\n",
      "sample: 100%|██████████| 12500/12500 [00:04<00:00, 2960.76it/s, 7 steps of size 4.57e-01. acc. prob=0.93] \n",
      "sample: 100%|██████████| 12500/12500 [00:02<00:00, 4454.09it/s, 7 steps of size 4.40e-01. acc. prob=0.94] \n",
      "sample: 100%|██████████| 12500/12500 [00:02<00:00, 4828.87it/s, 3 steps of size 5.39e-01. acc. prob=0.90]\n",
      "[I 2023-10-11 06:00:12,379] Trial 31 finished with value: 237.1950225830078 and parameters: {'I_y_mu': 7.335314197843839, 'I_y_sigma': 1.8881600847443796, 'I_z_mu': 5.338636996022544, 'I_z_sigma': 1.0953351941868348, 'Q_mu': 3.7553795851981344e+17, 'Q_sigma': 3.519426320385655e+17, 'sigma_mu': 1.1072421568840667, 'sigma_sigma': 0.9796781397657401}. Best is trial 18 with value: 236.88299560546875.\n",
      "sample: 100%|██████████| 12500/12500 [00:04<00:00, 2933.76it/s, 7 steps of size 4.63e-01. acc. prob=0.93] \n",
      "sample: 100%|██████████| 12500/12500 [00:02<00:00, 4645.52it/s, 7 steps of size 4.55e-01. acc. prob=0.93] \n",
      "sample: 100%|██████████| 12500/12500 [00:02<00:00, 4824.02it/s, 3 steps of size 5.16e-01. acc. prob=0.91]\n",
      "[I 2023-10-11 06:00:23,630] Trial 32 finished with value: 236.98751831054688 and parameters: {'I_y_mu': 6.263596749211028, 'I_y_sigma': 0.7718035677727757, 'I_z_mu': 5.779236852016883, 'I_z_sigma': 0.8186012572260647, 'Q_mu': 3.059537766518832e+17, 'Q_sigma': 2.2669646730724845e+17, 'sigma_mu': 1.493432088071319, 'sigma_sigma': 0.9570135363334403}. Best is trial 18 with value: 236.88299560546875.\n",
      "sample: 100%|██████████| 12500/12500 [00:04<00:00, 2909.48it/s, 7 steps of size 4.35e-01. acc. prob=0.94]\n",
      "sample: 100%|██████████| 12500/12500 [00:02<00:00, 4726.11it/s, 7 steps of size 4.97e-01. acc. prob=0.91]\n",
      "sample: 100%|██████████| 12500/12500 [00:02<00:00, 4804.60it/s, 3 steps of size 4.76e-01. acc. prob=0.92] \n",
      "[I 2023-10-11 06:00:34,936] Trial 33 finished with value: 236.887451171875 and parameters: {'I_y_mu': 6.02227336672809, 'I_y_sigma': 0.6602708475280767, 'I_z_mu': 5.438926006227607, 'I_z_sigma': 0.6400836869174467, 'Q_mu': 2.864822909042978e+17, 'Q_sigma': 1.2830270049287853e+17, 'sigma_mu': 1.5585723917231158, 'sigma_sigma': 0.9022343541498501}. Best is trial 18 with value: 236.88299560546875.\n",
      "sample: 100%|██████████| 12500/12500 [00:04<00:00, 2766.72it/s, 7 steps of size 4.11e-01. acc. prob=0.94] \n",
      "sample: 100%|██████████| 12500/12500 [00:02<00:00, 4459.67it/s, 3 steps of size 4.51e-01. acc. prob=0.93]\n",
      "sample: 100%|██████████| 12500/12500 [00:02<00:00, 4331.52it/s, 15 steps of size 4.03e-01. acc. prob=0.92]\n",
      "[I 2023-10-11 06:00:46,940] Trial 34 finished with value: 236.839599609375 and parameters: {'I_y_mu': 6.332175016487745, 'I_y_sigma': 0.5405665598003829, 'I_z_mu': 6.451637969274914, 'I_z_sigma': 1.7582048132261705, 'Q_mu': 2.9697051524711546e+17, 'Q_sigma': 1.2139374310500885e+17, 'sigma_mu': 1.5274083332086028, 'sigma_sigma': 0.9453315550734468}. Best is trial 34 with value: 236.839599609375.\n",
      "sample: 100%|██████████| 12500/12500 [00:04<00:00, 2877.47it/s, 7 steps of size 4.63e-01. acc. prob=0.93]\n",
      "sample: 100%|██████████| 12500/12500 [00:02<00:00, 4717.17it/s, 3 steps of size 4.84e-01. acc. prob=0.92]\n",
      "sample: 100%|██████████| 12500/12500 [00:02<00:00, 4782.12it/s, 3 steps of size 5.07e-01. acc. prob=0.91]\n",
      "[I 2023-10-11 06:00:58,307] Trial 35 finished with value: 237.20310974121094 and parameters: {'I_y_mu': 6.2485589697154555, 'I_y_sigma': 0.6167022816028612, 'I_z_mu': 6.873973079999409, 'I_z_sigma': 1.7727596965158978, 'Q_mu': 2.8426581872965136e+17, 'Q_sigma': 9.82867190653747e+16, 'sigma_mu': 1.5752300402761268, 'sigma_sigma': 1.218099639045113}. Best is trial 34 with value: 236.839599609375.\n",
      "sample: 100%|██████████| 12500/12500 [00:04<00:00, 2813.39it/s, 7 steps of size 3.83e-01. acc. prob=0.93] \n",
      "sample: 100%|██████████| 12500/12500 [00:02<00:00, 4544.56it/s, 7 steps of size 4.24e-01. acc. prob=0.91] \n",
      "sample: 100%|██████████| 12500/12500 [00:02<00:00, 4498.06it/s, 11 steps of size 3.97e-01. acc. prob=0.92]\n",
      "[I 2023-10-11 06:01:10,044] Trial 36 finished with value: 322.39471435546875 and parameters: {'I_y_mu': 6.131319763437409, 'I_y_sigma': 0.44275780872478243, 'I_z_mu': 6.193398999071487, 'I_z_sigma': 0.46966252482476645, 'Q_mu': 1.772217579795908e+17, 'Q_sigma': 8.916083664831221e+16, 'sigma_mu': 1.5845186414293253, 'sigma_sigma': 0.9319466461547476}. Best is trial 34 with value: 236.839599609375.\n",
      "sample: 100%|██████████| 12500/12500 [00:04<00:00, 2970.70it/s, 3 steps of size 8.02e-01. acc. prob=0.89]\n",
      "sample: 100%|██████████| 12500/12500 [00:02<00:00, 4820.28it/s, 3 steps of size 7.69e-01. acc. prob=0.90]\n",
      "sample: 100%|██████████| 12500/12500 [00:02<00:00, 4936.40it/s, 3 steps of size 9.01e-01. acc. prob=0.87] \n",
      "[I 2023-10-11 06:01:21,109] Trial 37 finished with value: 322.41339111328125 and parameters: {'I_y_mu': 6.276422940734886, 'I_y_sigma': 0.03360595097266483, 'I_z_mu': 7.649291367024672, 'I_z_sigma': 0.04380053567843223, 'Q_mu': 2.963800977379033e+17, 'Q_sigma': 1.3839509753459152e+16, 'sigma_mu': 1.5667150331876394, 'sigma_sigma': 0.7641566886813204}. Best is trial 34 with value: 236.839599609375.\n",
      "sample: 100%|██████████| 12500/12500 [00:04<00:00, 2834.48it/s, 3 steps of size 4.50e-01. acc. prob=0.93] \n",
      "sample: 100%|██████████| 12500/12500 [00:02<00:00, 4667.19it/s, 7 steps of size 4.86e-01. acc. prob=0.92] \n",
      "sample: 100%|██████████| 12500/12500 [00:02<00:00, 4734.80it/s, 3 steps of size 4.54e-01. acc. prob=0.93]\n",
      "[I 2023-10-11 06:01:32,565] Trial 38 finished with value: 237.34661865234375 and parameters: {'I_y_mu': 5.915173507351999, 'I_y_sigma': 1.4591314952468326, 'I_z_mu': 5.766559126595911, 'I_z_sigma': 1.9684343472385306, 'Q_mu': 2.1818190099587533e+17, 'Q_sigma': 2.3789047935884627e+17, 'sigma_mu': 1.6827813480874514, 'sigma_sigma': 1.2123393994347391}. Best is trial 34 with value: 236.839599609375.\n",
      "sample: 100%|██████████| 12500/12500 [00:04<00:00, 2910.09it/s, 7 steps of size 4.34e-01. acc. prob=0.94]\n",
      "sample: 100%|██████████| 12500/12500 [00:02<00:00, 4579.48it/s, 7 steps of size 4.74e-01. acc. prob=0.93]\n",
      "sample: 100%|██████████| 12500/12500 [00:02<00:00, 4757.13it/s, 3 steps of size 4.98e-01. acc. prob=0.92] \n",
      "[I 2023-10-11 06:01:43,956] Trial 39 finished with value: 237.16043090820312 and parameters: {'I_y_mu': 6.580758727032653, 'I_y_sigma': 0.9886959188178794, 'I_z_mu': 6.595519860106106, 'I_z_sigma': 1.27870219199153, 'Q_mu': 2.843653790212508e+17, 'Q_sigma': 1.473184809450112e+17, 'sigma_mu': 1.7989915059441632, 'sigma_sigma': 0.887307262701046}. Best is trial 34 with value: 236.839599609375.\n",
      "sample: 100%|██████████| 12500/12500 [00:04<00:00, 2881.56it/s, 7 steps of size 4.28e-01. acc. prob=0.94] \n",
      "sample: 100%|██████████| 12500/12500 [00:02<00:00, 4654.44it/s, 7 steps of size 4.80e-01. acc. prob=0.92]\n",
      "sample: 100%|██████████| 12500/12500 [00:02<00:00, 4769.97it/s, 15 steps of size 5.13e-01. acc. prob=0.91]\n",
      "[I 2023-10-11 06:01:55,378] Trial 40 finished with value: 237.28439331054688 and parameters: {'I_y_mu': 7.835711366449614, 'I_y_sigma': 0.6709060070663448, 'I_z_mu': 6.084297644217472, 'I_z_sigma': 3.481538322077437, 'Q_mu': 1.6449666235841942e+17, 'Q_sigma': 2.12552396516245e+17, 'sigma_mu': 1.4866342342159276, 'sigma_sigma': 1.0039367670922101}. Best is trial 34 with value: 236.839599609375.\n",
      "sample: 100%|██████████| 12500/12500 [00:04<00:00, 2828.28it/s, 7 steps of size 4.31e-01. acc. prob=0.94] \n",
      "sample: 100%|██████████| 12500/12500 [00:02<00:00, 4536.37it/s, 7 steps of size 4.79e-01. acc. prob=0.92]\n",
      "sample: 100%|██████████| 12500/12500 [00:02<00:00, 4632.71it/s, 3 steps of size 5.19e-01. acc. prob=0.91]\n",
      "[I 2023-10-11 06:02:07,029] Trial 41 finished with value: 236.95204162597656 and parameters: {'I_y_mu': 7.145707808875265, 'I_y_sigma': 1.3373063774515277, 'I_z_mu': 5.113419495570001, 'I_z_sigma': 0.6758336093950639, 'Q_mu': 3.8284033422398406e+17, 'Q_sigma': 1.5143523541553984e+17, 'sigma_mu': 1.2875209506464358, 'sigma_sigma': 0.9275690712286543}. Best is trial 34 with value: 236.839599609375.\n",
      "sample: 100%|██████████| 12500/12500 [00:04<00:00, 2744.72it/s, 7 steps of size 4.32e-01. acc. prob=0.94] \n",
      "sample: 100%|██████████| 12500/12500 [00:02<00:00, 4470.93it/s, 7 steps of size 4.81e-01. acc. prob=0.92] \n",
      "sample: 100%|██████████| 12500/12500 [00:02<00:00, 4563.16it/s, 3 steps of size 4.57e-01. acc. prob=0.93] \n",
      "[I 2023-10-11 06:02:18,902] Trial 42 finished with value: 236.98846435546875 and parameters: {'I_y_mu': 7.050985931548011, 'I_y_sigma': 1.6876070082493535, 'I_z_mu': 4.762628742283626, 'I_z_sigma': 0.6661419206382531, 'Q_mu': 3.668742879373407e+17, 'Q_sigma': 7.263681718748032e+16, 'sigma_mu': 1.3178935045829945, 'sigma_sigma': 0.8636825892790724}. Best is trial 34 with value: 236.839599609375.\n",
      "sample: 100%|██████████| 12500/12500 [00:04<00:00, 2609.48it/s, 7 steps of size 4.80e-01. acc. prob=0.92]\n",
      "sample: 100%|██████████| 12500/12500 [00:03<00:00, 4120.46it/s, 7 steps of size 3.52e-01. acc. prob=0.90] \n",
      "sample: 100%|██████████| 12500/12500 [00:02<00:00, 4511.53it/s, 3 steps of size 4.73e-01. acc. prob=0.93]\n",
      "[I 2023-10-11 06:02:31,322] Trial 43 finished with value: 236.7957763671875 and parameters: {'I_y_mu': 6.373244848000933, 'I_y_sigma': 0.5583059112779485, 'I_z_mu': 5.011243451744864, 'I_z_sigma': 0.5660176102618171, 'Q_mu': 2.4557559203242835e+17, 'Q_sigma': 2.030353642812901e+17, 'sigma_mu': 1.4578938099863454, 'sigma_sigma': 0.7529581971270585}. Best is trial 43 with value: 236.7957763671875.\n",
      "sample: 100%|██████████| 12500/12500 [00:04<00:00, 2700.26it/s, 3 steps of size 5.82e-01. acc. prob=0.94]\n",
      "sample: 100%|██████████| 12500/12500 [00:02<00:00, 4626.57it/s, 3 steps of size 8.04e-01. acc. prob=0.88]\n",
      "sample: 100%|██████████| 12500/12500 [00:02<00:00, 4636.51it/s, 7 steps of size 7.55e-01. acc. prob=0.89] \n",
      "[I 2023-10-11 06:02:43,165] Trial 44 finished with value: 305.30206298828125 and parameters: {'I_y_mu': 8.561847403853964, 'I_y_sigma': 0.05521149969398487, 'I_z_mu': 5.101686865022577, 'I_z_sigma': 1.3661414260263716, 'Q_mu': 2.3500429959001974e+17, 'Q_sigma': 1.4921271317240797e+17, 'sigma_mu': 1.295969585618242, 'sigma_sigma': 0.7617158139653448}. Best is trial 43 with value: 236.7957763671875.\n",
      "sample: 100%|██████████| 12500/12500 [00:04<00:00, 2704.95it/s, 7 steps of size 4.87e-01. acc. prob=0.92]\n",
      "sample: 100%|██████████| 12500/12500 [00:02<00:00, 4461.59it/s, 7 steps of size 5.05e-01. acc. prob=0.91] \n",
      "sample: 100%|██████████| 12500/12500 [00:02<00:00, 4521.86it/s, 15 steps of size 4.61e-01. acc. prob=0.93]\n",
      "[I 2023-10-11 06:02:55,209] Trial 45 finished with value: 236.77926635742188 and parameters: {'I_y_mu': 5.763615752027361, 'I_y_sigma': 1.4930173112798284, 'I_z_mu': 4.8777543882445915, 'I_z_sigma': 0.484812155042729, 'Q_mu': 2.5064215677256934e+17, 'Q_sigma': 1.949569446033629e+17, 'sigma_mu': 1.3586322216766655, 'sigma_sigma': 0.6232112984693154}. Best is trial 45 with value: 236.77926635742188.\n",
      "sample: 100%|██████████| 12500/12500 [00:04<00:00, 2629.82it/s, 7 steps of size 4.08e-01. acc. prob=0.94] \n",
      "sample: 100%|██████████| 12500/12500 [00:03<00:00, 4140.51it/s, 7 steps of size 3.41e-01. acc. prob=0.91] \n",
      "sample: 100%|██████████| 12500/12500 [00:02<00:00, 4317.11it/s, 15 steps of size 3.28e-01. acc. prob=0.92]\n",
      "[I 2023-10-11 06:03:07,728] Trial 46 finished with value: 322.0013122558594 and parameters: {'I_y_mu': 5.862220704807964, 'I_y_sigma': 0.5020931853942434, 'I_z_mu': 3.56397806954328, 'I_z_sigma': 0.46712758853807124, 'Q_mu': 1.3073859842191818e+17, 'Q_sigma': 2.0404087242270957e+17, 'sigma_mu': 1.424006858206681, 'sigma_sigma': 0.6044455823561687}. Best is trial 45 with value: 236.77926635742188.\n",
      "sample: 100%|██████████| 12500/12500 [00:04<00:00, 2637.14it/s, 7 steps of size 4.07e-01. acc. prob=0.95] \n",
      "sample: 100%|██████████| 12500/12500 [00:02<00:00, 4361.75it/s, 7 steps of size 4.91e-01. acc. prob=0.92] \n",
      "sample: 100%|██████████| 12500/12500 [00:02<00:00, 4367.96it/s, 3 steps of size 5.06e-01. acc. prob=0.91]\n",
      "[I 2023-10-11 06:03:20,276] Trial 47 finished with value: 237.38485717773438 and parameters: {'I_y_mu': 4.722283942916357, 'I_y_sigma': 1.6541542981667208, 'I_z_mu': 4.7906858300438575, 'I_z_sigma': 2.2651481865355154, 'Q_mu': 1.0118944314697683e+17, 'Q_sigma': 7.18318286814047e+16, 'sigma_mu': 1.7239126865839753, 'sigma_sigma': 0.6898482260981916}. Best is trial 45 with value: 236.77926635742188.\n",
      "sample: 100%|██████████| 12500/12500 [00:04<00:00, 2677.33it/s, 3 steps of size 4.72e-01. acc. prob=0.92]\n",
      "sample: 100%|██████████| 12500/12500 [00:02<00:00, 4285.20it/s, 7 steps of size 4.55e-01. acc. prob=0.93] \n",
      "sample: 100%|██████████| 12500/12500 [00:02<00:00, 4369.62it/s, 3 steps of size 4.82e-01. acc. prob=0.93]\n",
      "[I 2023-10-11 06:03:32,817] Trial 48 finished with value: 237.4018096923828 and parameters: {'I_y_mu': 5.609417259577735, 'I_y_sigma': 2.3939244859108304, 'I_z_mu': 2.7291533198867377, 'I_z_sigma': 1.6177471535608428, 'Q_mu': 2.5225099715338246e+17, 'Q_sigma': 1.9547378677210678e+17, 'sigma_mu': 1.3550759201029001, 'sigma_sigma': 0.6023360417724863}. Best is trial 45 with value: 236.77926635742188.\n",
      "sample: 100%|██████████| 12500/12500 [00:04<00:00, 2661.49it/s, 7 steps of size 4.32e-01. acc. prob=0.91] \n",
      "sample: 100%|██████████| 12500/12500 [00:02<00:00, 4299.17it/s, 7 steps of size 4.19e-01. acc. prob=0.90] \n",
      "sample: 100%|██████████| 12500/12500 [00:03<00:00, 3910.07it/s, 9 steps of size 3.68e-01. acc. prob=0.93] \n",
      "[I 2023-10-11 06:03:45,661] Trial 49 finished with value: 322.4007263183594 and parameters: {'I_y_mu': 6.448115376207676, 'I_y_sigma': 0.4853581070183619, 'I_z_mu': 7.256653633786351, 'I_z_sigma': 0.49438847586601065, 'Q_mu': 3.190211029298232e+17, 'Q_sigma': 2.530657769916108e+17, 'sigma_mu': 1.4714443728842121, 'sigma_sigma': 0.8327183245653629}. Best is trial 45 with value: 236.77926635742188.\n",
      "sample: 100%|██████████| 12500/12500 [00:04<00:00, 2682.31it/s, 7 steps of size 4.91e-01. acc. prob=0.92] \n",
      "sample: 100%|██████████| 12500/12500 [00:02<00:00, 4355.77it/s, 7 steps of size 4.81e-01. acc. prob=0.92] \n",
      "sample: 100%|██████████| 12500/12500 [00:02<00:00, 4373.40it/s, 15 steps of size 4.57e-01. acc. prob=0.93]\n",
      "[I 2023-10-11 06:03:58,006] Trial 50 finished with value: 237.37522888183594 and parameters: {'I_y_mu': 4.270063518445007, 'I_y_sigma': 1.3497585569110935, 'I_z_mu': 5.444056705395551, 'I_z_sigma': 2.4886768110296686, 'Q_mu': 3.398581812441456e+17, 'Q_sigma': 1.1407095976885397e+17, 'sigma_mu': 1.1099608869860205, 'sigma_sigma': 1.0614415367244996}. Best is trial 45 with value: 236.77926635742188.\n",
      "sample: 100%|██████████| 12500/12500 [00:04<00:00, 2660.74it/s, 7 steps of size 4.95e-01. acc. prob=0.88] \n",
      "sample: 100%|██████████| 12500/12500 [00:02<00:00, 4314.23it/s, 7 steps of size 4.54e-01. acc. prob=0.89] \n",
      "sample: 100%|██████████| 12500/12500 [00:02<00:00, 4399.62it/s, 7 steps of size 4.48e-01. acc. prob=0.90]\n",
      "[I 2023-10-11 06:04:10,329] Trial 51 finished with value: 295.33233642578125 and parameters: {'I_y_mu': 6.882151326400348, 'I_y_sigma': 1.3006104857894623, 'I_z_mu': 5.150162969801828, 'I_z_sigma': 0.4064306155384836, 'Q_mu': 3.9297700549151546e+17, 'Q_sigma': 1.5821239537799568e+17, 'sigma_mu': 1.3030171838659972, 'sigma_sigma': 0.7458398135265489}. Best is trial 45 with value: 236.77926635742188.\n",
      "sample: 100%|██████████| 12500/12500 [00:04<00:00, 2777.92it/s, 3 steps of size 5.24e-01. acc. prob=0.91] \n",
      "sample: 100%|██████████| 12500/12500 [00:02<00:00, 4430.36it/s, 7 steps of size 4.86e-01. acc. prob=0.93]\n",
      "sample: 100%|██████████| 12500/12500 [00:02<00:00, 4485.98it/s, 3 steps of size 4.78e-01. acc. prob=0.93] \n",
      "[I 2023-10-11 06:04:22,290] Trial 52 finished with value: 237.30194091796875 and parameters: {'I_y_mu': 5.490181770998822, 'I_y_sigma': 2.0130513807320556, 'I_z_mu': 4.363941524773054, 'I_z_sigma': 1.2559578959485633, 'Q_mu': 2.5412113136126618e+17, 'Q_sigma': 4.957996323772058e+16, 'sigma_mu': 1.3578040503377642, 'sigma_sigma': 0.8899092898612398}. Best is trial 45 with value: 236.77926635742188.\n",
      "sample: 100%|██████████| 12500/12500 [00:04<00:00, 2768.35it/s, 3 steps of size 5.99e-01. acc. prob=0.91]\n",
      "sample: 100%|██████████| 12500/12500 [00:02<00:00, 4496.40it/s, 3 steps of size 5.94e-01. acc. prob=0.91]\n",
      "sample: 100%|██████████| 12500/12500 [00:02<00:00, 4568.36it/s, 7 steps of size 5.68e-01. acc. prob=0.92]\n",
      "[I 2023-10-11 06:04:34,231] Trial 53 finished with value: 322.3748779296875 and parameters: {'I_y_mu': 5.921337272292055, 'I_y_sigma': 0.3544716342405346, 'I_z_mu': 4.923855047669696, 'I_z_sigma': 0.029403237264018, 'Q_mu': 3.365125659601536e+17, 'Q_sigma': 1.2504586995319184e+17, 'sigma_mu': 1.221324133342947, 'sigma_sigma': 0.6716688540472626}. Best is trial 45 with value: 236.77926635742188.\n",
      "sample: 100%|██████████| 12500/12500 [00:04<00:00, 2702.35it/s, 7 steps of size 4.55e-01. acc. prob=0.93] \n",
      "sample: 100%|██████████| 12500/12500 [00:02<00:00, 4502.46it/s, 7 steps of size 4.86e-01. acc. prob=0.92] \n",
      "sample: 100%|██████████| 12500/12500 [00:02<00:00, 4542.15it/s, 23 steps of size 4.37e-01. acc. prob=0.94]\n",
      "[I 2023-10-11 06:04:46,280] Trial 54 finished with value: 237.11746215820312 and parameters: {'I_y_mu': 6.470772254389732, 'I_y_sigma': 1.425982102356956, 'I_z_mu': 5.6254104409264265, 'I_z_sigma': 0.9423736569551155, 'Q_mu': 3.844189888088018e+17, 'Q_sigma': 1.916479045900091e+17, 'sigma_mu': 1.4047125593716043, 'sigma_sigma': 1.0172826137413384}. Best is trial 45 with value: 236.77926635742188.\n",
      "sample: 100%|██████████| 12500/12500 [00:04<00:00, 2769.05it/s, 7 steps of size 4.90e-01. acc. prob=0.92]\n",
      "sample: 100%|██████████| 12500/12500 [00:02<00:00, 4441.13it/s, 7 steps of size 4.72e-01. acc. prob=0.92] \n",
      "sample: 100%|██████████| 12500/12500 [00:02<00:00, 4481.24it/s, 15 steps of size 5.14e-01. acc. prob=0.91]\n",
      "[I 2023-10-11 06:04:58,533] Trial 55 finished with value: 237.24415588378906 and parameters: {'I_y_mu': 7.551716578954363, 'I_y_sigma': 0.8193717235285969, 'I_z_mu': 3.798654217550973, 'I_z_sigma': 1.638898351274059, 'Q_mu': 2.11649756935932e+17, 'Q_sigma': 2.8007614276575706e+17, 'sigma_mu': 1.1731273110316511, 'sigma_sigma': 0.8207495712740163}. Best is trial 45 with value: 236.77926635742188.\n",
      "sample: 100%|██████████| 12500/12500 [00:04<00:00, 2741.70it/s, 7 steps of size 4.71e-01. acc. prob=0.93] \n",
      "sample: 100%|██████████| 12500/12500 [00:02<00:00, 4440.18it/s, 7 steps of size 4.60e-01. acc. prob=0.93]\n",
      "sample: 100%|██████████| 12500/12500 [00:02<00:00, 4256.62it/s, 7 steps of size 3.96e-01. acc. prob=0.92] \n",
      "[I 2023-10-11 06:05:10,802] Trial 56 finished with value: 236.56707763671875 and parameters: {'I_y_mu': 4.8695531417960884, 'I_y_sigma': 1.7861207886551922, 'I_z_mu': 6.292073476856805, 'I_z_sigma': 0.5030186522069762, 'Q_mu': 2.6497682661538157e+17, 'Q_sigma': 1.1860297149086306e+17, 'sigma_mu': 1.5325032227568307, 'sigma_sigma': 0.553795551127293}. Best is trial 56 with value: 236.56707763671875.\n",
      "sample: 100%|██████████| 12500/12500 [00:04<00:00, 2711.80it/s, 3 steps of size 5.24e-01. acc. prob=0.91] \n",
      "sample: 100%|██████████| 12500/12500 [00:02<00:00, 4426.40it/s, 7 steps of size 4.59e-01. acc. prob=0.93] \n",
      "sample: 100%|██████████| 12500/12500 [00:02<00:00, 4447.52it/s, 3 steps of size 4.73e-01. acc. prob=0.93]\n",
      "[I 2023-10-11 06:05:22,989] Trial 57 finished with value: 237.24063110351562 and parameters: {'I_y_mu': 4.942630205908824, 'I_y_sigma': 1.7751469426294946, 'I_z_mu': 6.937708229296602, 'I_z_sigma': 1.289411560938278, 'Q_mu': 2.718410210405318e+17, 'Q_sigma': 4.425637835990534e+16, 'sigma_mu': 1.6289131118977342, 'sigma_sigma': 0.5291271913432292}. Best is trial 56 with value: 236.56707763671875.\n",
      "sample: 100%|██████████| 12500/12500 [00:04<00:00, 2726.76it/s, 7 steps of size 4.68e-01. acc. prob=0.93]\n",
      "sample: 100%|██████████| 12500/12500 [00:02<00:00, 4388.56it/s, 7 steps of size 4.42e-01. acc. prob=0.94] \n",
      "sample: 100%|██████████| 12500/12500 [00:02<00:00, 4426.82it/s, 15 steps of size 4.63e-01. acc. prob=0.93]\n",
      "[I 2023-10-11 06:05:35,226] Trial 58 finished with value: 237.3575439453125 and parameters: {'I_y_mu': 4.760793204730797, 'I_y_sigma': 2.517282163147905, 'I_z_mu': 6.237522241314096, 'I_z_sigma': 1.8644571643370274, 'Q_mu': 1.9456628135408042e+17, 'Q_sigma': 1.1186020000652682e+17, 'sigma_mu': 1.5065932545555705, 'sigma_sigma': 0.635898364651957}. Best is trial 56 with value: 236.56707763671875.\n",
      "sample: 100%|██████████| 12500/12500 [00:04<00:00, 2682.23it/s, 7 steps of size 4.51e-01. acc. prob=0.94] \n",
      "sample: 100%|██████████| 12500/12500 [00:03<00:00, 4101.06it/s, 7 steps of size 4.82e-01. acc. prob=0.92] \n",
      "sample: 100%|██████████| 12500/12500 [00:02<00:00, 4391.73it/s, 7 steps of size 5.42e-01. acc. prob=0.90]\n",
      "[I 2023-10-11 06:05:47,772] Trial 59 finished with value: 295.3141174316406 and parameters: {'I_y_mu': 5.277204314828333, 'I_y_sigma': 4.098409217646886, 'I_z_mu': 8.11805090467491, 'I_z_sigma': 0.35545784874269654, 'Q_mu': 2.5126203398084563e+17, 'Q_sigma': 3.328844797116374e+17, 'sigma_mu': 1.6546965271479683, 'sigma_sigma': 0.46440655707016976}. Best is trial 56 with value: 236.56707763671875.\n",
      "sample: 100%|██████████| 12500/12500 [00:04<00:00, 2700.15it/s, 3 steps of size 4.26e-01. acc. prob=0.94] \n",
      "sample: 100%|██████████| 12500/12500 [00:02<00:00, 4452.28it/s, 7 steps of size 5.27e-01. acc. prob=0.90]\n",
      "sample: 100%|██████████| 12500/12500 [00:02<00:00, 4571.82it/s, 3 steps of size 4.90e-01. acc. prob=0.92]\n",
      "[I 2023-10-11 06:06:00,201] Trial 60 finished with value: 237.15396118164062 and parameters: {'I_y_mu': 5.758231102878151, 'I_y_sigma': 2.9716734955586848, 'I_z_mu': 6.452086220216406, 'I_z_sigma': 1.0282497111257893, 'Q_mu': 1.5663305783172032e+17, 'Q_sigma': 2.2068124022257395e+17, 'sigma_mu': 1.538326441650992, 'sigma_sigma': 0.5679668610131656}. Best is trial 56 with value: 236.56707763671875.\n",
      "sample: 100%|██████████| 12500/12500 [00:04<00:00, 2708.23it/s, 7 steps of size 4.99e-01. acc. prob=0.92] \n",
      "sample: 100%|██████████| 12500/12500 [00:02<00:00, 4404.10it/s, 7 steps of size 4.41e-01. acc. prob=0.93]\n",
      "sample: 100%|██████████| 12500/12500 [00:02<00:00, 4563.44it/s, 3 steps of size 4.59e-01. acc. prob=0.93]\n",
      "[I 2023-10-11 06:06:12,321] Trial 61 finished with value: 236.9071502685547 and parameters: {'I_y_mu': 6.049670459529262, 'I_y_sigma': 1.3556440944989465, 'I_z_mu': 5.785526547316258, 'I_z_sigma': 0.673064873780087, 'Q_mu': 3.3924567610275475e+17, 'Q_sigma': 1.599980744726944e+17, 'sigma_mu': 1.4502395508784345, 'sigma_sigma': 0.7125796157860183}. Best is trial 56 with value: 236.56707763671875.\n",
      "sample: 100%|██████████| 12500/12500 [00:04<00:00, 2700.75it/s, 3 steps of size 4.32e-01. acc. prob=0.94] \n",
      "sample: 100%|██████████| 12500/12500 [00:02<00:00, 4335.52it/s, 7 steps of size 4.59e-01. acc. prob=0.93]\n",
      "sample: 100%|██████████| 12500/12500 [00:02<00:00, 4413.28it/s, 3 steps of size 4.83e-01. acc. prob=0.93]\n",
      "[I 2023-10-11 06:06:38,907] Trial 62 finished with value: 236.83995056152344 and parameters: {'I_y_mu': 5.2179822969954595, 'I_y_sigma': 0.9809395085543118, 'I_z_mu': 5.905768287155885, 'I_z_sigma': 0.6319392696851965, 'Q_mu': 3.4340441339284256e+17, 'Q_sigma': 1.590463900927287e+17, 'sigma_mu': 1.4289367757809106, 'sigma_sigma': 0.7085437758945915}. Best is trial 56 with value: 236.56707763671875.\n",
      "sample: 100%|██████████| 12500/12500 [00:06<00:00, 1965.29it/s, 7 steps of size 4.22e-01. acc. prob=0.94] \n",
      "sample: 100%|██████████| 12500/12500 [00:03<00:00, 3166.45it/s, 15 steps of size 3.89e-01. acc. prob=0.94]\n",
      "sample: 100%|██████████| 12500/12500 [00:03<00:00, 3182.64it/s, 7 steps of size 5.11e-01. acc. prob=0.89]\n",
      "[I 2023-10-11 06:06:55,492] Trial 63 finished with value: 295.361328125 and parameters: {'I_y_mu': 5.249098521981842, 'I_y_sigma': 1.0346562080296282, 'I_z_mu': 6.0327972883689185, 'I_z_sigma': 0.3628835708257335, 'Q_mu': 3.095249410876903e+17, 'Q_sigma': 1.8862438876146733e+17, 'sigma_mu': 1.4116857592404697, 'sigma_sigma': 0.6310008369873279}. Best is trial 56 with value: 236.56707763671875.\n",
      "sample: 100%|██████████| 12500/12500 [00:05<00:00, 2229.82it/s, 3 steps of size 7.49e-01. acc. prob=0.87]\n",
      "sample: 100%|██████████| 12500/12500 [00:03<00:00, 3705.29it/s, 3 steps of size 7.22e-01. acc. prob=0.88]\n",
      "sample: 100%|██████████| 12500/12500 [00:03<00:00, 3745.45it/s, 3 steps of size 7.26e-01. acc. prob=0.89]\n",
      "[I 2023-10-11 06:07:10,040] Trial 64 finished with value: 305.333251953125 and parameters: {'I_y_mu': 4.455203611947873, 'I_y_sigma': 0.15949534852922265, 'I_z_mu': 4.672714703029467, 'I_z_sigma': 0.9696307235330136, 'Q_mu': 2.062092048937173e+17, 'Q_sigma': 1.257857790156115e+17, 'sigma_mu': 1.5471866281530944, 'sigma_sigma': 0.78809012584745}. Best is trial 56 with value: 236.56707763671875.\n",
      "sample: 100%|██████████| 12500/12500 [00:05<00:00, 2321.06it/s, 7 steps of size 4.94e-01. acc. prob=0.94] \n",
      "sample: 100%|██████████| 12500/12500 [00:03<00:00, 3776.77it/s, 7 steps of size 6.29e-01. acc. prob=0.90]\n",
      "sample: 100%|██████████| 12500/12500 [00:03<00:00, 3807.01it/s, 7 steps of size 5.99e-01. acc. prob=0.91]\n",
      "[I 2023-10-11 06:07:24,311] Trial 65 finished with value: 295.279052734375 and parameters: {'I_y_mu': 5.004525122128898, 'I_y_sigma': 1.9942658204988923, 'I_z_mu': 5.3664044330006915, 'I_z_sigma': 0.015705906328951302, 'Q_mu': 2.751297828187292e+17, 'Q_sigma': 2.7498365778337475e+17, 'sigma_mu': 1.4540565232267788, 'sigma_sigma': 0.7146067149717237}. Best is trial 56 with value: 236.56707763671875.\n",
      "sample: 100%|██████████| 12500/12500 [00:05<00:00, 2389.35it/s, 3 steps of size 4.34e-01. acc. prob=0.94] \n",
      "sample: 100%|██████████| 12500/12500 [00:03<00:00, 3809.88it/s, 3 steps of size 4.69e-01. acc. prob=0.93] \n",
      "sample: 100%|██████████| 12500/12500 [00:03<00:00, 3803.58it/s, 3 steps of size 4.63e-01. acc. prob=0.93] \n",
      "[I 2023-10-11 06:07:38,560] Trial 66 finished with value: 237.21926879882812 and parameters: {'I_y_mu': 4.045551912465678, 'I_y_sigma': 0.7274676584685641, 'I_z_mu': 6.7692586267721175, 'I_z_sigma': 1.5206403032270424, 'Q_mu': 4.719215060576782e+17, 'Q_sigma': 2.4179434936659773e+17, 'sigma_mu': 1.628927930289071, 'sigma_sigma': 0.5429638866745303}. Best is trial 56 with value: 236.56707763671875.\n",
      "sample: 100%|██████████| 12500/12500 [00:05<00:00, 2397.87it/s, 7 steps of size 4.73e-01. acc. prob=0.93] \n",
      "sample: 100%|██████████| 12500/12500 [00:03<00:00, 3841.32it/s, 7 steps of size 4.62e-01. acc. prob=0.93] \n",
      "sample: 100%|██████████| 12500/12500 [00:03<00:00, 3842.14it/s, 7 steps of size 4.84e-01. acc. prob=0.93]\n",
      "[I 2023-10-11 06:07:52,710] Trial 67 finished with value: 236.89581298828125 and parameters: {'I_y_mu': 5.441322717883811, 'I_y_sigma': 1.1063022145314647, 'I_z_mu': 6.324150225794557, 'I_z_sigma': 0.6972053993584688, 'Q_mu': 2.3567356476418112e+17, 'Q_sigma': 7.35743470789075e+16, 'sigma_mu': 1.365459873321503, 'sigma_sigma': 0.45053865763775125}. Best is trial 56 with value: 236.56707763671875.\n",
      "sample: 100%|██████████| 12500/12500 [00:05<00:00, 2410.33it/s, 7 steps of size 4.23e-01. acc. prob=0.94] \n",
      "sample: 100%|██████████| 12500/12500 [00:03<00:00, 3858.46it/s, 7 steps of size 4.96e-01. acc. prob=0.92]\n",
      "sample: 100%|██████████| 12500/12500 [00:03<00:00, 3853.51it/s, 3 steps of size 4.87e-01. acc. prob=0.93]\n",
      "[I 2023-10-11 06:08:06,669] Trial 68 finished with value: 237.3083038330078 and parameters: {'I_y_mu': 4.744741827726327, 'I_y_sigma': 2.286463864705751, 'I_z_mu': 5.51014218700636, 'I_z_sigma': 1.3698288902716236, 'Q_mu': 4.155128486686185e+17, 'Q_sigma': 3.106591320541143e+17, 'sigma_mu': 1.7843989601524832, 'sigma_sigma': 0.8179720249648218}. Best is trial 56 with value: 236.56707763671875.\n",
      "sample: 100%|██████████| 12500/12500 [00:05<00:00, 2467.54it/s, 7 steps of size 4.78e-01. acc. prob=0.92] \n",
      "sample: 100%|██████████| 12500/12500 [00:03<00:00, 3881.54it/s, 7 steps of size 4.65e-01. acc. prob=0.93] \n",
      "sample: 100%|██████████| 12500/12500 [00:03<00:00, 3889.58it/s, 7 steps of size 5.63e-01. acc. prob=0.89]\n",
      "[I 2023-10-11 06:08:20,821] Trial 69 finished with value: 295.296630859375 and parameters: {'I_y_mu': 5.6559842001935134, 'I_y_sigma': 1.791989821833416, 'I_z_mu': 5.881077663454793, 'I_z_sigma': 0.298912156176818, 'Q_mu': 3.342597763162706e+17, 'Q_sigma': 1.0632981999266173e+17, 'sigma_mu': 1.5138813911038245, 'sigma_sigma': 0.6504031871673791}. Best is trial 56 with value: 236.56707763671875.\n",
      "sample: 100%|██████████| 12500/12500 [00:04<00:00, 2504.77it/s, 3 steps of size 4.88e-01. acc. prob=0.93] \n",
      "sample: 100%|██████████| 12500/12500 [00:03<00:00, 4020.87it/s, 7 steps of size 5.11e-01. acc. prob=0.93] \n",
      "sample: 100%|██████████| 12500/12500 [00:03<00:00, 4043.06it/s, 7 steps of size 6.10e-01. acc. prob=0.89]\n",
      "[I 2023-10-11 06:08:34,418] Trial 70 finished with value: 305.26275634765625 and parameters: {'I_y_mu': 6.084587899192847, 'I_y_sigma': 0.3180949143450418, 'I_z_mu': 4.146803702250704, 'I_z_sigma': 1.8741040795140986, 'Q_mu': 2.978765828914571e+17, 'Q_sigma': 1.7769078412236605e+17, 'sigma_mu': 1.5990175583384967, 'sigma_sigma': 0.573008232738213}. Best is trial 56 with value: 236.56707763671875.\n",
      "sample: 100%|██████████| 12500/12500 [00:06<00:00, 1962.68it/s, 7 steps of size 4.14e-01. acc. prob=0.94] \n",
      "sample: 100%|██████████| 12500/12500 [00:03<00:00, 3176.43it/s, 7 steps of size 4.98e-01. acc. prob=0.92]\n",
      "sample: 100%|██████████| 12500/12500 [00:04<00:00, 2859.19it/s, 3 steps of size 5.17e-01. acc. prob=0.92] \n",
      "[I 2023-10-11 06:08:51,956] Trial 71 finished with value: 236.90460205078125 and parameters: {'I_y_mu': 5.433357353802402, 'I_y_sigma': 1.0864683005752764, 'I_z_mu': 6.455459870985708, 'I_z_sigma': 0.717023597674829, 'Q_mu': 2.1646938584369222e+17, 'Q_sigma': 9.005663889648768e+16, 'sigma_mu': 1.3608619284081929, 'sigma_sigma': 0.4766682859677513}. Best is trial 56 with value: 236.56707763671875.\n",
      "sample: 100%|██████████| 12500/12500 [00:06<00:00, 1902.21it/s, 7 steps of size 4.96e-01. acc. prob=0.91]\n",
      "sample: 100%|██████████| 12500/12500 [00:03<00:00, 3298.66it/s, 7 steps of size 4.93e-01. acc. prob=0.92] \n",
      "sample: 100%|██████████| 12500/12500 [00:04<00:00, 3017.37it/s, 3 steps of size 4.74e-01. acc. prob=0.93] \n",
      "[I 2023-10-11 06:09:09,098] Trial 72 finished with value: 237.10513305664062 and parameters: {'I_y_mu': 5.037282547424675, 'I_y_sigma': 0.733707171599915, 'I_z_mu': 6.128404082020809, 'I_z_sigma': 0.9773183429785234, 'Q_mu': 2.4086435425135914e+17, 'Q_sigma': 5.294987367501802e+16, 'sigma_mu': 1.4478674151805806, 'sigma_sigma': 0.36161916295557217}. Best is trial 56 with value: 236.56707763671875.\n",
      "sample: 100%|██████████| 12500/12500 [00:06<00:00, 2033.60it/s, 7 steps of size 4.74e-01. acc. prob=0.92] \n",
      "sample: 100%|██████████| 12500/12500 [00:03<00:00, 3569.37it/s, 7 steps of size 5.04e-01. acc. prob=0.91]\n",
      "sample: 100%|██████████| 12500/12500 [00:03<00:00, 3456.70it/s, 3 steps of size 4.78e-01. acc. prob=0.93]\n",
      "[I 2023-10-11 06:09:24,952] Trial 73 finished with value: 236.77188110351562 and parameters: {'I_y_mu': 5.6900887204152095, 'I_y_sigma': 1.0964463813230236, 'I_z_mu': 7.070097801354212, 'I_z_sigma': 0.5896251395073688, 'Q_mu': 2.5849780778145133e+17, 'Q_sigma': 1.3722249751623715e+17, 'sigma_mu': 1.5363059054551473, 'sigma_sigma': 0.5051795750152481}. Best is trial 56 with value: 236.56707763671875.\n",
      "sample: 100%|██████████| 12500/12500 [00:05<00:00, 2295.84it/s, 7 steps of size 4.56e-01. acc. prob=0.93] \n",
      "sample: 100%|██████████| 12500/12500 [00:03<00:00, 3891.72it/s, 7 steps of size 4.72e-01. acc. prob=0.92] \n",
      "sample: 100%|██████████| 12500/12500 [00:03<00:00, 3972.60it/s, 7 steps of size 4.84e-01. acc. prob=0.92]\n",
      "[I 2023-10-11 06:09:39,190] Trial 74 finished with value: 322.396728515625 and parameters: {'I_y_mu': 6.721844393473826, 'I_y_sigma': 0.4101786153768483, 'I_z_mu': 7.064592881981854, 'I_z_sigma': 0.3189691331806534, 'Q_mu': 2.743204398158721e+17, 'Q_sigma': 2.2105673064839216e+17, 'sigma_mu': 1.5251599059962582, 'sigma_sigma': 0.5100051049978914}. Best is trial 56 with value: 236.56707763671875.\n",
      "sample: 100%|██████████| 12500/12500 [00:05<00:00, 2442.90it/s, 7 steps of size 4.89e-01. acc. prob=0.92] \n",
      "sample: 100%|██████████| 12500/12500 [00:03<00:00, 3844.22it/s, 7 steps of size 4.88e-01. acc. prob=0.92] \n",
      "sample: 100%|██████████| 12500/12500 [00:03<00:00, 3822.88it/s, 3 steps of size 4.64e-01. acc. prob=0.93]\n",
      "[I 2023-10-11 06:09:53,318] Trial 75 finished with value: 237.15496826171875 and parameters: {'I_y_mu': 6.25184847887855, 'I_y_sigma': 1.596934615187005, 'I_z_mu': 7.4417541400547496, 'I_z_sigma': 1.1516868465955126, 'Q_mu': 3.1222699502092563e+17, 'Q_sigma': 1.3848217627373658e+17, 'sigma_mu': 1.5848031190475107, 'sigma_sigma': 0.7363146929125316}. Best is trial 56 with value: 236.56707763671875.\n",
      "sample: 100%|██████████| 12500/12500 [00:05<00:00, 2349.12it/s, 15 steps of size 3.87e-01. acc. prob=0.93]\n",
      "sample: 100%|██████████| 12500/12500 [00:03<00:00, 3718.95it/s, 7 steps of size 4.69e-01. acc. prob=0.93]\n",
      "sample: 100%|██████████| 12500/12500 [00:03<00:00, 3572.74it/s, 7 steps of size 3.73e-01. acc. prob=0.93] \n",
      "[I 2023-10-11 06:10:08,083] Trial 76 finished with value: 295.4171142578125 and parameters: {'I_y_mu': 5.760067470617438, 'I_y_sigma': 0.8593566181426918, 'I_z_mu': 6.639359814097799, 'I_z_sigma': 0.5323501279303995, 'Q_mu': 3.568037499974222e+17, 'Q_sigma': 1.7748191972387776e+17, 'sigma_mu': 1.6724308005915451, 'sigma_sigma': 0.6747071541433091}. Best is trial 56 with value: 236.56707763671875.\n",
      "sample: 100%|██████████| 12500/12500 [00:05<00:00, 2419.72it/s, 3 steps of size 5.15e-01. acc. prob=0.93] \n",
      "sample: 100%|██████████| 12500/12500 [00:03<00:00, 3951.45it/s, 7 steps of size 5.01e-01. acc. prob=0.93]\n",
      "sample: 100%|██████████| 12500/12500 [00:03<00:00, 3979.59it/s, 7 steps of size 5.62e-01. acc. prob=0.91]\n",
      "[I 2023-10-11 06:10:22,086] Trial 77 finished with value: 295.28570556640625 and parameters: {'I_y_mu': 4.400051976661645, 'I_y_sigma': 2.230669500838083, 'I_z_mu': 6.766867615290468, 'I_z_sigma': 0.20342164139433894, 'Q_mu': 1.8514792920433683e+17, 'Q_sigma': 1.3278924516692832e+17, 'sigma_mu': 1.469390051838207, 'sigma_sigma': 0.5922314272989199}. Best is trial 56 with value: 236.56707763671875.\n",
      "sample: 100%|██████████| 12500/12500 [00:05<00:00, 2424.72it/s, 3 steps of size 4.81e-01. acc. prob=0.92]\n",
      "sample: 100%|██████████| 12500/12500 [00:03<00:00, 3785.26it/s, 7 steps of size 4.82e-01. acc. prob=0.92] \n",
      "sample: 100%|██████████| 12500/12500 [00:03<00:00, 3959.15it/s, 15 steps of size 4.60e-01. acc. prob=0.93]\n",
      "[I 2023-10-11 06:10:36,131] Trial 78 finished with value: 237.2880096435547 and parameters: {'I_y_mu': 6.549094727315593, 'I_y_sigma': 1.2138855699836155, 'I_z_mu': 4.549767843980016, 'I_z_sigma': 1.461723191156646, 'Q_mu': 4.5421819043801114e+17, 'Q_sigma': 2.5669186426033136e+17, 'sigma_mu': 1.5501741883048044, 'sigma_sigma': 0.7737673029191873}. Best is trial 56 with value: 236.56707763671875.\n",
      "sample: 100%|██████████| 12500/12500 [00:06<00:00, 1923.67it/s, 3 steps of size 7.26e-01. acc. prob=0.90]\n",
      "sample: 100%|██████████| 12500/12500 [00:03<00:00, 3729.19it/s, 3 steps of size 6.92e-01. acc. prob=0.91]\n",
      "sample: 100%|██████████| 12500/12500 [00:03<00:00, 3727.38it/s, 3 steps of size 7.47e-01. acc. prob=0.89]\n",
      "[I 2023-10-11 06:10:51,793] Trial 79 finished with value: 305.52252197265625 and parameters: {'I_y_mu': 5.18880090957722, 'I_y_sigma': 0.05765814412504344, 'I_z_mu': 5.684419358079061, 'I_z_sigma': 0.8725069638708701, 'Q_mu': 2.6913556087048938e+17, 'Q_sigma': 2.1300914668230483e+17, 'sigma_mu': 1.4163812581012305, 'sigma_sigma': 0.43094956972918}. Best is trial 56 with value: 236.56707763671875.\n",
      "sample: 100%|██████████| 12500/12500 [00:05<00:00, 2117.99it/s, 7 steps of size 5.02e-01. acc. prob=0.91]\n",
      "sample: 100%|██████████| 12500/12500 [00:03<00:00, 3430.30it/s, 7 steps of size 4.69e-01. acc. prob=0.93]\n",
      "sample: 100%|██████████| 12500/12500 [00:03<00:00, 3605.38it/s, 3 steps of size 5.06e-01. acc. prob=0.92] \n",
      "[I 2023-10-11 06:11:07,481] Trial 80 finished with value: 237.14666748046875 and parameters: {'I_y_mu': 5.652558676698422, 'I_y_sigma': 0.7170066431726777, 'I_z_mu': 4.903759812839979, 'I_z_sigma': 1.1309329702709832, 'Q_mu': 3.0294341043930464e+17, 'Q_sigma': 1.648415595988829e+17, 'sigma_mu': 1.2479051611436547, 'sigma_sigma': 0.8949395403643093}. Best is trial 56 with value: 236.56707763671875.\n",
      "sample: 100%|██████████| 12500/12500 [00:05<00:00, 2163.76it/s, 7 steps of size 5.02e-01. acc. prob=0.91] \n",
      "sample: 100%|██████████| 12500/12500 [00:03<00:00, 3726.18it/s, 7 steps of size 4.55e-01. acc. prob=0.93] \n",
      "sample: 100%|██████████| 12500/12500 [00:03<00:00, 3709.75it/s, 15 steps of size 5.59e-01. acc. prob=0.90]\n",
      "[I 2023-10-11 06:11:22,522] Trial 81 finished with value: 236.8502655029297 and parameters: {'I_y_mu': 5.409028708256269, 'I_y_sigma': 1.1257364597364896, 'I_z_mu': 6.277771485851977, 'I_z_sigma': 0.6454128310972136, 'Q_mu': 2.4845565502275357e+17, 'Q_sigma': 8.117188867770038e+16, 'sigma_mu': 1.370571999220917, 'sigma_sigma': 0.5162813146311019}. Best is trial 56 with value: 236.56707763671875.\n",
      "sample: 100%|██████████| 12500/12500 [00:05<00:00, 2272.11it/s, 7 steps of size 4.60e-01. acc. prob=0.93] \n",
      "sample: 100%|██████████| 12500/12500 [00:03<00:00, 3884.69it/s, 7 steps of size 4.92e-01. acc. prob=0.92]\n",
      "sample: 100%|██████████| 12500/12500 [00:03<00:00, 3743.37it/s, 3 steps of size 4.65e-01. acc. prob=0.93] \n",
      "[I 2023-10-11 06:11:37,205] Trial 82 finished with value: 236.83193969726562 and parameters: {'I_y_mu': 6.009428355965818, 'I_y_sigma': 1.520336418880492, 'I_z_mu': 5.304837414471281, 'I_z_sigma': 0.5537875025875538, 'Q_mu': 2.3046628367253658e+17, 'Q_sigma': 9.368815520526653e+16, 'sigma_mu': 1.327555684572396, 'sigma_sigma': 0.51400887887982}. Best is trial 56 with value: 236.56707763671875.\n",
      "sample: 100%|██████████| 12500/12500 [00:05<00:00, 2308.00it/s, 7 steps of size 4.93e-01. acc. prob=0.92] \n",
      "sample: 100%|██████████| 12500/12500 [00:03<00:00, 3750.79it/s, 7 steps of size 5.38e-01. acc. prob=0.91]\n",
      "sample: 100%|██████████| 12500/12500 [00:03<00:00, 3725.27it/s, 7 steps of size 4.78e-01. acc. prob=0.93]\n",
      "[I 2023-10-11 06:11:51,749] Trial 83 finished with value: 295.30010986328125 and parameters: {'I_y_mu': 5.879125205455196, 'I_y_sigma': 1.5566998486801178, 'I_z_mu': 6.044132142093561, 'I_z_sigma': 0.24100222078273792, 'Q_mu': 2.298608557541934e+17, 'Q_sigma': 2.9946902067104256e+16, 'sigma_mu': 1.3245753834243228, 'sigma_sigma': 0.5946197113609064}. Best is trial 56 with value: 236.56707763671875.\n",
      "sample: 100%|██████████| 12500/12500 [00:05<00:00, 2377.76it/s, 7 steps of size 4.85e-01. acc. prob=0.92]\n",
      "sample: 100%|██████████| 12500/12500 [00:03<00:00, 3806.69it/s, 7 steps of size 4.78e-01. acc. prob=0.92] \n",
      "sample: 100%|██████████| 12500/12500 [00:03<00:00, 3830.16it/s, 3 steps of size 5.19e-01. acc. prob=0.91]\n",
      "[I 2023-10-11 06:12:06,017] Trial 84 finished with value: 236.7611541748047 and parameters: {'I_y_mu': 6.2819192450256915, 'I_y_sigma': 1.8088158227100108, 'I_z_mu': 6.494574342527996, 'I_z_sigma': 0.5026009101421681, 'Q_mu': 1.4787622966137888e+17, 'Q_sigma': 9.931745937513834e+16, 'sigma_mu': 1.3861989069463116, 'sigma_sigma': 0.5055680819466558}. Best is trial 56 with value: 236.56707763671875.\n",
      "sample: 100%|██████████| 12500/12500 [00:05<00:00, 2418.56it/s, 7 steps of size 4.98e-01. acc. prob=0.92] \n",
      "sample: 100%|██████████| 12500/12500 [00:03<00:00, 3842.52it/s, 7 steps of size 4.81e-01. acc. prob=0.92] \n",
      "sample: 100%|██████████| 12500/12500 [00:03<00:00, 3873.10it/s, 3 steps of size 5.23e-01. acc. prob=0.91]\n",
      "[I 2023-10-11 06:12:20,108] Trial 85 finished with value: 236.80130004882812 and parameters: {'I_y_mu': 6.414822356474749, 'I_y_sigma': 1.9067999039836356, 'I_z_mu': 6.362417832562568, 'I_z_sigma': 0.5745956570425532, 'Q_mu': 1.6823338441115706e+17, 'Q_sigma': 7.973519375775789e+16, 'sigma_mu': 1.3865525038706878, 'sigma_sigma': 0.40239047038747816}. Best is trial 56 with value: 236.56707763671875.\n",
      "sample: 100%|██████████| 12500/12500 [00:05<00:00, 2448.37it/s, 7 steps of size 4.58e-01. acc. prob=0.93] \n",
      "sample: 100%|██████████| 12500/12500 [00:03<00:00, 3801.60it/s, 7 steps of size 5.34e-01. acc. prob=0.90]\n",
      "sample: 100%|██████████| 12500/12500 [00:03<00:00, 3911.47it/s, 3 steps of size 5.03e-01. acc. prob=0.92]\n",
      "[I 2023-10-11 06:12:34,111] Trial 86 finished with value: 237.02108764648438 and parameters: {'I_y_mu': 6.381851396623883, 'I_y_sigma': 1.8406705368939433, 'I_z_mu': 6.963738509843974, 'I_z_sigma': 0.837549307010705, 'Q_mu': 1.5057618108728893e+17, 'Q_sigma': 1272152481626160.0, 'sigma_mu': 1.5001136707423322, 'sigma_sigma': 0.36679504797040274}. Best is trial 56 with value: 236.56707763671875.\n",
      "sample: 100%|██████████| 12500/12500 [00:05<00:00, 2241.69it/s, 3 steps of size 5.52e-01. acc. prob=0.92]\n",
      "sample: 100%|██████████| 12500/12500 [00:03<00:00, 3846.05it/s, 3 steps of size 5.84e-01. acc. prob=0.91]\n",
      "sample: 100%|██████████| 12500/12500 [00:03<00:00, 3877.51it/s, 7 steps of size 6.15e-01. acc. prob=0.91]\n",
      "[I 2023-10-11 06:12:48,558] Trial 87 finished with value: 295.2744140625 and parameters: {'I_y_mu': 6.696070150415921, 'I_y_sigma': 2.1424439294758475, 'I_z_mu': 6.725798798948797, 'I_z_sigma': 0.07059234717955437, 'Q_mu': 1.0883101647666918e+17, 'Q_sigma': 9.748809263085568e+16, 'sigma_mu': 1.2586255191499494, 'sigma_sigma': 0.3045246503521461}. Best is trial 56 with value: 236.56707763671875.\n",
      "sample: 100%|██████████| 12500/12500 [00:05<00:00, 2240.05it/s, 3 steps of size 4.83e-01. acc. prob=0.92] \n",
      "sample: 100%|██████████| 12500/12500 [00:03<00:00, 3660.64it/s, 3 steps of size 5.38e-01. acc. prob=0.90]\n",
      "sample: 100%|██████████| 12500/12500 [00:03<00:00, 3728.53it/s, 3 steps of size 4.80e-01. acc. prob=0.92] \n",
      "[I 2023-10-11 06:13:03,395] Trial 88 finished with value: 237.32489013671875 and parameters: {'I_y_mu': 6.157107584158857, 'I_y_sigma': 1.5670526514959617, 'I_z_mu': 5.268447992242108, 'I_z_sigma': 1.6620492873428165, 'Q_mu': 1.8335777182335926e+17, 'Q_sigma': 2.376587667643155e+16, 'sigma_mu': 1.3231046052067672, 'sigma_sigma': 0.4210473905156099}. Best is trial 56 with value: 236.56707763671875.\n",
      "sample: 100%|██████████| 12500/12500 [00:07<00:00, 1754.00it/s, 7 steps of size 3.83e-01. acc. prob=0.92] \n",
      "sample: 100%|██████████| 12500/12500 [00:03<00:00, 3854.23it/s, 7 steps of size 4.62e-01. acc. prob=0.93]\n",
      "sample: 100%|██████████| 12500/12500 [00:03<00:00, 3865.27it/s, 7 steps of size 4.71e-01. acc. prob=0.93] \n",
      "[I 2023-10-11 06:13:19,557] Trial 89 finished with value: 236.49057006835938 and parameters: {'I_y_mu': 6.755491780110654, 'I_y_sigma': 2.588384388144637, 'I_z_mu': 5.869213712134014, 'I_z_sigma': 0.5341091420781785, 'Q_mu': 1.3903117970208547e+17, 'Q_sigma': 5.677687296734019e+16, 'sigma_mu': 1.3907150609253833, 'sigma_sigma': 0.49544910878829457}. Best is trial 89 with value: 236.49057006835938.\n",
      "sample: 100%|██████████| 12500/12500 [00:05<00:00, 2253.65it/s, 3 steps of size 5.07e-01. acc. prob=0.92]\n",
      "sample: 100%|██████████| 12500/12500 [00:03<00:00, 3866.12it/s, 7 steps of size 5.08e-01. acc. prob=0.91]\n",
      "sample: 100%|██████████| 12500/12500 [00:03<00:00, 3721.04it/s, 3 steps of size 4.87e-01. acc. prob=0.92]\n",
      "[I 2023-10-11 06:13:34,039] Trial 90 finished with value: 237.20889282226562 and parameters: {'I_y_mu': 6.907375169780625, 'I_y_sigma': 2.608678304424622, 'I_z_mu': 6.533061564856164, 'I_z_sigma': 1.1560228137820583, 'Q_mu': 8.753057914967053e+16, 'Q_sigma': 5.941107683307507e+16, 'sigma_mu': 1.3933533719148028, 'sigma_sigma': 0.4727374329446319}. Best is trial 89 with value: 236.49057006835938.\n",
      "sample: 100%|██████████| 12500/12500 [00:05<00:00, 2263.53it/s, 7 steps of size 4.83e-01. acc. prob=0.92]\n",
      "sample: 100%|██████████| 12500/12500 [00:03<00:00, 3566.55it/s, 7 steps of size 4.84e-01. acc. prob=0.92] \n",
      "sample: 100%|██████████| 12500/12500 [00:03<00:00, 3828.16it/s, 7 steps of size 4.77e-01. acc. prob=0.93]\n",
      "[I 2023-10-11 06:13:48,766] Trial 91 finished with value: 236.82516479492188 and parameters: {'I_y_mu': 6.432636293309212, 'I_y_sigma': 1.9654946418453045, 'I_z_mu': 5.8130580034392825, 'I_z_sigma': 0.584435260334976, 'Q_mu': 1.942190386766715e+17, 'Q_sigma': 3.474916668714172e+16, 'sigma_mu': 1.3261646504939288, 'sigma_sigma': 0.5635556257060402}. Best is trial 89 with value: 236.49057006835938.\n",
      "sample: 100%|██████████| 12500/12500 [00:05<00:00, 2247.40it/s, 7 steps of size 3.79e-01. acc. prob=0.92] \n",
      "sample: 100%|██████████| 12500/12500 [00:03<00:00, 3851.43it/s, 7 steps of size 5.14e-01. acc. prob=0.91] \n",
      "sample: 100%|██████████| 12500/12500 [00:03<00:00, 3692.32it/s, 3 steps of size 4.65e-01. acc. prob=0.93]\n",
      "[I 2023-10-11 06:14:03,396] Trial 92 finished with value: 236.48464965820312 and parameters: {'I_y_mu': 6.369572537198453, 'I_y_sigma': 2.010040675976862, 'I_z_mu': 5.597965417976453, 'I_z_sigma': 0.5258800379832241, 'Q_mu': 1.4909811093827552e+17, 'Q_sigma': 2.996831956343117e+16, 'sigma_mu': 1.3298263382361089, 'sigma_sigma': 0.4844255981999662}. Best is trial 92 with value: 236.48464965820312.\n",
      "sample: 100%|██████████| 12500/12500 [00:05<00:00, 2397.48it/s, 7 steps of size 3.96e-01. acc. prob=0.93] \n",
      "sample: 100%|██████████| 12500/12500 [00:03<00:00, 3737.70it/s, 15 steps of size 3.78e-01. acc. prob=0.94]\n",
      "sample: 100%|██████████| 12500/12500 [00:03<00:00, 3701.43it/s, 15 steps of size 3.70e-01. acc. prob=0.94]\n",
      "[I 2023-10-11 06:14:17,793] Trial 93 finished with value: 295.28228759765625 and parameters: {'I_y_mu': 6.749523769800761, 'I_y_sigma': 1.9500159828331278, 'I_z_mu': 5.516453116810288, 'I_z_sigma': 0.43654168591866294, 'Q_mu': 1.2491335191882416e+17, 'Q_sigma': 3.24681803980744e+16, 'sigma_mu': 1.2175687125309118, 'sigma_sigma': 0.5517912452680171}. Best is trial 92 with value: 236.48464965820312.\n",
      "sample: 100%|██████████| 12500/12500 [00:05<00:00, 2363.99it/s, 3 steps of size 4.99e-01. acc. prob=0.93] \n",
      "sample: 100%|██████████| 12500/12500 [00:03<00:00, 3813.85it/s, 7 steps of size 5.29e-01. acc. prob=0.92]\n",
      "sample: 100%|██████████| 12500/12500 [00:03<00:00, 3822.65it/s, 7 steps of size 5.51e-01. acc. prob=0.91] \n",
      "[I 2023-10-11 06:14:32,069] Trial 94 finished with value: 295.2728271484375 and parameters: {'I_y_mu': 6.468795692224404, 'I_y_sigma': 2.2704081780620284, 'I_z_mu': 5.253990512872066, 'I_z_sigma': 0.2052998877291547, 'Q_mu': 1.4230129549475845e+17, 'Q_sigma': 5.792404873618118e+16, 'sigma_mu': 1.3212372649361022, 'sigma_sigma': 0.49212886500967484}. Best is trial 92 with value: 236.48464965820312.\n",
      "sample: 100%|██████████| 12500/12500 [00:05<00:00, 2176.22it/s, 7 steps of size 4.14e-01. acc. prob=0.94]\n",
      "sample: 100%|██████████| 12500/12500 [00:03<00:00, 3632.74it/s, 7 steps of size 4.79e-01. acc. prob=0.92]\n",
      "sample: 100%|██████████| 12500/12500 [00:03<00:00, 3500.47it/s, 3 steps of size 4.97e-01. acc. prob=0.92]\n",
      "[I 2023-10-11 06:14:48,186] Trial 95 finished with value: 237.16607666015625 and parameters: {'I_y_mu': 7.139601572648857, 'I_y_sigma': 1.8839447138709964, 'I_z_mu': 5.051873324294536, 'I_z_sigma': 0.92878694984951, 'Q_mu': 1.670865600124359e+17, 'Q_sigma': 5919740007459888.0, 'sigma_mu': 1.3940515788563124, 'sigma_sigma': 0.44156188884611963}. Best is trial 92 with value: 236.48464965820312.\n",
      "sample: 100%|██████████| 12500/12500 [00:05<00:00, 2107.95it/s, 7 steps of size 4.62e-01. acc. prob=0.93]\n",
      "sample: 100%|██████████| 12500/12500 [00:03<00:00, 3477.04it/s, 7 steps of size 4.41e-01. acc. prob=0.94] \n",
      "sample: 100%|██████████| 12500/12500 [00:03<00:00, 3546.40it/s, 3 steps of size 5.07e-01. acc. prob=0.91]\n",
      "[I 2023-10-11 06:15:03,937] Trial 96 finished with value: 237.30398559570312 and parameters: {'I_y_mu': 6.033986492847183, 'I_y_sigma': 2.635834139822389, 'I_z_mu': 5.8268153268671234, 'I_z_sigma': 1.417389659943796, 'Q_mu': 1.9957956874527242e+17, 'Q_sigma': 3.605485103418244e+16, 'sigma_mu': 1.286156089854691, 'sigma_sigma': 0.39425773861067237}. Best is trial 92 with value: 236.48464965820312.\n",
      "sample: 100%|██████████| 12500/12500 [00:05<00:00, 2158.12it/s, 7 steps of size 4.56e-01. acc. prob=0.93] \n",
      "sample: 100%|██████████| 12500/12500 [00:03<00:00, 3523.49it/s, 3 steps of size 5.80e-01. acc. prob=0.88]\n",
      "sample: 100%|██████████| 12500/12500 [00:03<00:00, 3375.13it/s, 7 steps of size 3.65e-01. acc. prob=0.93] \n",
      "[I 2023-10-11 06:15:19,439] Trial 97 finished with value: 236.52371215820312 and parameters: {'I_y_mu': 6.960514903375248, 'I_y_sigma': 2.4627589669880647, 'I_z_mu': 6.181577383521814, 'I_z_sigma': 0.5099580024511075, 'Q_mu': 8.301134705169795e+16, 'Q_sigma': 9.343829172644789e+16, 'sigma_mu': 1.4514087798116524, 'sigma_sigma': 0.55477047764083}. Best is trial 92 with value: 236.48464965820312.\n",
      "sample: 100%|██████████| 12500/12500 [00:05<00:00, 2211.74it/s, 3 steps of size 5.71e-01. acc. prob=0.92]\n",
      "sample: 100%|██████████| 12500/12500 [00:03<00:00, 3692.47it/s, 7 steps of size 5.75e-01. acc. prob=0.92] \n",
      "sample: 100%|██████████| 12500/12500 [00:03<00:00, 3689.72it/s, 7 steps of size 6.48e-01. acc. prob=0.89]\n",
      "[I 2023-10-11 06:15:34,325] Trial 98 finished with value: 295.28375244140625 and parameters: {'I_y_mu': 6.8925714731618095, 'I_y_sigma': 3.0324347107970118, 'I_z_mu': 5.630877821119831, 'I_z_sigma': 0.010224522277294645, 'Q_mu': 6.63995639476393e+16, 'Q_sigma': 5.753859756885861e+16, 'sigma_mu': 1.4792410549361443, 'sigma_sigma': 0.6260899201652643}. Best is trial 92 with value: 236.48464965820312.\n",
      "sample: 100%|██████████| 12500/12500 [00:05<00:00, 2223.25it/s, 7 steps of size 4.38e-01. acc. prob=0.91]\n",
      "sample: 100%|██████████| 12500/12500 [00:03<00:00, 3591.39it/s, 15 steps of size 3.74e-01. acc. prob=0.93]\n",
      "sample: 100%|██████████| 12500/12500 [00:03<00:00, 3669.07it/s, 7 steps of size 4.07e-01. acc. prob=0.92] \n",
      "[I 2023-10-11 06:15:49,265] Trial 99 finished with value: 295.296142578125 and parameters: {'I_y_mu': 7.303888894509103, 'I_y_sigma': 2.173847414560515, 'I_z_mu': 6.288106898234274, 'I_z_sigma': 0.4747182932838929, 'Q_mu': 1.3932085246991109e+17, 'Q_sigma': 7.276257468774502e+16, 'sigma_mu': 1.4458086183908856, 'sigma_sigma': 0.5667849932863732}. Best is trial 92 with value: 236.48464965820312.\n",
      "sample: 100%|██████████| 12500/12500 [00:05<00:00, 2228.47it/s, 7 steps of size 3.79e-01. acc. prob=0.92] \n",
      "sample: 100%|██████████| 12500/12500 [00:03<00:00, 3788.49it/s, 7 steps of size 5.14e-01. acc. prob=0.91] \n",
      "sample: 100%|██████████| 12500/12500 [00:03<00:00, 3719.50it/s, 3 steps of size 4.65e-01. acc. prob=0.93] \n"
     ]
    },
    {
     "data": {
      "image/png": "[encoded data removed]",
      "text/plain": [
       "<Figure size 640x480 with 1 Axes>"
      ]
     },
     "metadata": {},
     "output_type": "display_data"
    },
    {
     "data": {
      "image/png": "[encoded data removed]",
      "text/plain": [
       "<Figure size 640x480 with 1 Axes>"
      ]
     },
     "metadata": {},
     "output_type": "display_data"
    }
   ],
   "source": [
    "optimising_parameters = {\n",
    "                    'I_y_mu': [1e-2, 10],\n",
    "                    'I_y_sigma': [1e-2, 10],\n",
    "                    'I_z_mu': [1e-2, 10],\n",
    "                    'I_z_sigma': [1e-2, 10],\n",
    "                    'Q_mu': [1e9, 1e18],\n",
    "                    'Q_sigma': [1e9, 1e18],\n",
    "                    'sigma_mu':[0.2, 2],\n",
    "                    'sigma_sigma':[0.2, 2]\n",
    "                }\n",
    "\n",
    "optimiser = Optimiser(results_name=results_name, \n",
    "                  data_params=data_params,\n",
    "                  default_params=default_params)\n",
    "\n",
    "# AIC\n",
    "study = optimiser.run(n_trials=100, optimiser_name='AIC_1', optimising_parameters=optimising_parameters, index_name='aic')\n",
    "optimiser.get_plots(study)\n",
    "domain = Domain('cone_from_source_z_limited', resolution=80)\n",
    "domain.add_domain_param('r', 1000)\n",
    "domain.add_domain_param('theta', np.pi/8)\n",
    "domain.add_domain_param('source', [0,0,10])\n",
    "optimiser.run_best_params(study, domain, name = 'small_scale_3D_plots', prior_plots=prior_plots)\n",
    "\n",
    "# # RMSE\n",
    "# study = optimiser.run(n_trials=100, optimiser_name='RMSE_1', optimising_parameters=optimising_parameters, index_name='rmse')\n",
    "# optimiser.get_plots(study)\n",
    "# domain = Domain('cone_from_source_z_limited', resolution=80)\n",
    "# domain.add_domain_param('r', 1000)\n",
    "# domain.add_domain_param('theta', np.pi/8)\n",
    "# domain.add_domain_param('source', [0,0,10])\n",
    "# optimiser.run_best_params(study, domain, name = 'small_scale_3D_plots', prior_plots=prior_plots)\n",
    "\n",
    "# # BIC\n",
    "# study = optimiser.run(n_trials=100, optimiser_name='BIC_1', optimising_parameters=optimising_parameters, index_name='bic')\n",
    "# optimiser.get_plots(study)\n",
    "# domain = Domain('cone_from_source_z_limited', resolution=80)\n",
    "# domain.add_domain_param('r', 1000)\n",
    "# domain.add_domain_param('theta', np.pi/8)\n",
    "# domain.add_domain_param('source', [0,0,10])\n",
    "# optimiser.run_best_params(study, domain, name = 'small_scale_3D_plots', prior_plots=prior_plots)"
   ]
  }
 ],
 "metadata": {
  "kernelspec": {
   "display_name": "base",
   "language": "python",
   "name": "python3"
  },
  "language_info": {
   "codemirror_mode": {
    "name": "ipython",
    "version": 3
   },
   "file_extension": ".py",
   "mimetype": "text/x-python",
   "name": "python",
   "nbconvert_exporter": "python",
   "pygments_lexer": "ipython3",
   "version": "3.9.16"
  },
  "orig_nbformat": 4
 },
 "nbformat": 4,
 "nbformat_minor": 2
}
