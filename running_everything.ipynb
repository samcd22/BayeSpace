{
 "cells": [
  {
   "attachments": {},
   "cell_type": "markdown",
   "metadata": {},
   "source": [
    "# Controller #"
   ]
  },
  {
   "attachments": {},
   "cell_type": "markdown",
   "metadata": {},
   "source": [
    "Import all neccessary packages"
   ]
  },
  {
   "cell_type": "code",
   "execution_count": 1,
   "metadata": {},
   "outputs": [
    {
     "name": "stderr",
     "output_type": "stream",
     "text": [
      "No GPU/TPU found, falling back to CPU. (Set TF_CPP_MIN_LOG_LEVEL=0 and rerun for more info.)\n"
     ]
    }
   ],
   "source": [
    "import os\n",
    "import pandas as pd\n",
    "import numpy as np\n",
    "\n",
    "from controllers.inference_controllers.sandbox import Sandbox\n",
    "from controllers.inference_controllers.generator import Generator\n",
    "from controllers.inference_controllers.optimiser import Optimiser\n",
    "\n",
    "from toolboxes.plotting_toolbox.domain import Domain\n",
    "from toolboxes.inference_toolbox.parameter import Parameter\n",
    "from toolboxes.inference_toolbox.model import Model\n",
    "from toolboxes.inference_toolbox.likelihood import Likelihood\n",
    "\n",
    "current_directory = os.getcwd()\n",
    "if current_directory != '/project/':\n",
    "    os.chdir('/project/')"
   ]
  },
  {
   "attachments": {},
   "cell_type": "markdown",
   "metadata": {},
   "source": [
    "Defining simulated data"
   ]
  },
  {
   "cell_type": "code",
   "execution_count": 2,
   "metadata": {},
   "outputs": [],
   "source": [
    "data_params = {\n",
    "    'data_type': 'simulated_data',\n",
    "    'model': {\n",
    "        'model_select': 'log_gpm_norm',\n",
    "        'model_params':{\n",
    "            'H': 10\n",
    "        },\n",
    "        'inference_params':{\n",
    "            'I_y': 1.6,\n",
    "            'I_z': 1.2,\n",
    "            'Q': 3e13,\n",
    "            'sigma': 1\n",
    "        }\n",
    "    },\n",
    "    'domain':{\n",
    "        'domain_select': 'cone_from_source_z_limited',\n",
    "        'domain_params': {\n",
    "            'r': 1000,\n",
    "            'theta': np.pi/8,\n",
    "            'source': [0,0,10]\n",
    "        },\n",
    "        'resolution': 20\n",
    "    },\n",
    "    'noise_dist': 'gaussian',\n",
    "    'noise_percentage': 0.1,\n",
    "    'output_header': 'Concentration',\n",
    "}\n",
    "\n",
    "# data_params = {\n",
    "#     'data_type': 'normalised_data',\n",
    "#     'data_select': 'GBR_data',\n",
    "#     'normaliser_select': 'GBR_normaliser',\n",
    "#     'normaliser_params':{\n",
    "#         'experiments_list': [\n",
    "#             'Exp1',\n",
    "#             'Exp2',\n",
    "#             'Exp3',\n",
    "#             'Exp4',\n",
    "#             'Exp5',\n",
    "#             'Exp6',\n",
    "#             'Exp7',\n",
    "#             'Exp8',\n",
    "#             'Exp9',\n",
    "#             'Exp10',\n",
    "#             'Exp11',\n",
    "#             'Exp12',\n",
    "#         ],\n",
    "#         'meta_data_select': 'GBR_data_summary',\n",
    "#         'input_header': 'Concentration'\n",
    "#     },\n",
    "#     'log':True,\n",
    "#     'output_header': 'Concentration',\n",
    "#     'gridding': [100,100,25]\n",
    "# }\n",
    "\n",
    "prior_plots = [\n",
    "    {\n",
    "        'Q': [1e12, 5e13],\n",
    "        'references':{\n",
    "            'Q' : [2.82e13, 3.11e13, 2.89e13, 4.83e13],\n",
    "            'labels': ['250m','200m','750m','1000m'] \n",
    "        }\n",
    "    },\n",
    "    {\n",
    "        'sigma': [0.001, 4],\n",
    "    },\n",
    "    {\n",
    "        'I_y': [0.0001, 1.7],\n",
    "        'I_z': [0.0001, 1.7],\n",
    "        'references':{\n",
    "            'I_y' : [0.22, 1.6, 0.11, 0.08, 0.06, 0.04],\n",
    "            'I_z' : [0.2, 1.2, 0.08, 0.06, 0.03, 0.016],\n",
    "            'labels': ['A','B','C','D','E','F'] \n",
    "        }\n",
    "    }\n",
    "]\n",
    "\n",
    "results_name = 'simulated_data'"
   ]
  },
  {
   "cell_type": "markdown",
   "metadata": {},
   "source": [
    "Defining default parameters and prior plots for gamma priors of the simulated data"
   ]
  },
  {
   "cell_type": "code",
   "execution_count": 3,
   "metadata": {},
   "outputs": [],
   "source": [
    "default_params = {\n",
    "    'infered_params':pd.Series({\n",
    "        'model_params':pd.Series({\n",
    "            'I_y_and_I_z': Parameter('I_y','I_z', prior_select='log_norm')\n",
    "                                    .add_prior_param('mu', [0.4,0.4])\n",
    "                                    .add_prior_param('cov', [[0.8,0],[0,0.8]]),\n",
    "            'Q': Parameter('Q', prior_select = 'log_norm').add_prior_param('mu', 6e13).add_prior_param('sigma',6e6),\n",
    "\n",
    "        }),\n",
    "        'likelihood_params':pd.Series({\n",
    "            'sigma': Parameter('sigma', prior_select = 'log_norm').add_prior_param('mu', 1.5).add_prior_param('sigma',0.7)\n",
    "        })\n",
    "    }),\n",
    "    'model':Model('log_gpm_norm').add_model_param('H',5),\n",
    "    'likelihood': Likelihood('gaussian'),\n",
    "    'sampler': {\n",
    "        'n_samples': 10000,\n",
    "        'n_chains': 3,\n",
    "        'thinning_rate': 3\n",
    "    }\n",
    "}"
   ]
  },
  {
   "attachments": {},
   "cell_type": "markdown",
   "metadata": {},
   "source": [
    "Running a general instance for gamma priors and simulated data"
   ]
  },
  {
   "cell_type": "code",
   "execution_count": 4,
   "metadata": {},
   "outputs": [
    {
     "name": "stderr",
     "output_type": "stream",
     "text": [
      "sample: 100%|██████████| 15000/15000 [00:06<00:00, 2284.12it/s, 39 steps of size 9.78e-02. acc. prob=0.94]\n",
      "sample: 100%|██████████| 15000/15000 [00:04<00:00, 3324.71it/s, 7 steps of size 1.04e-01. acc. prob=0.93] \n",
      "sample: 100%|██████████| 15000/15000 [00:04<00:00, 3408.53it/s, 31 steps of size 1.15e-01. acc. prob=0.92]\n"
     ]
    },
    {
     "name": "stdout",
     "output_type": "stream",
     "text": [
      "Creating instance\n"
     ]
    }
   ],
   "source": [
    "sandbox = Sandbox(results_name=results_name, \n",
    "                  data_params=data_params,\n",
    "                  default_params=default_params)\n",
    "\n",
    "visualiser = sandbox.run()\n",
    "visualiser.get_summary()\n",
    "visualiser.get_traceplot()\n",
    "visualiser.get_autocorrelations()\n",
    "visualiser.get_prior_plots(prior_plots)\n",
    "\n",
    "domain = Domain('cone_from_source_z_limited', resolution=80)\n",
    "domain.add_domain_param('r', 1000)\n",
    "domain.add_domain_param('theta', np.pi/8)\n",
    "domain.add_domain_param('source', [0,0,5])\n",
    "domain.add_domain_param('z_slice', 0)\n",
    "domain.add_domain_param('y_slice', 0)\n",
    "domain.add_domain_param('x_slice', 100)\n",
    "\n",
    "visualiser.visualise_results(domain = domain, plot_type = '2D_slice', name = 'small_scale', title='Log Concentration of Droplets', log_results=False)\n",
    "visualiser.visualise_results(domain = domain, plot_type = '3D', name = 'small_scale', title='Log Concentration of Droplets', log_results=False)"
   ]
  },
  {
   "cell_type": "code",
   "execution_count": 5,
   "metadata": {},
   "outputs": [],
   "source": [
    "default_params = {\n",
    "    'infered_params':pd.Series({\n",
    "        'model_params':pd.Series({\n",
    "            'I_y_and_I_z': Parameter('I_y','I_z', prior_select='log_norm')\n",
    "                                    .add_prior_param('mu', [0.4,0.4])\n",
    "                                    .add_prior_param('cov', [[0.8,0],[0,0.8]]),\n",
    "            'Q': Parameter('Q', prior_select = 'log_norm').add_prior_param('mu', 6e13).add_prior_param('sigma',6e6),\n",
    "        }),\n",
    "        'likelihood_params':pd.Series({\n",
    "            'sigma': Parameter('sigma', prior_select = 'log_norm').add_prior_param('mu', 1.5).add_prior_param('sigma',0.7)\n",
    "        })\n",
    "    }),\n",
    "    'model':Model('log_gpm_norm').add_model_param('H',5),\n",
    "    'likelihood': Likelihood('gaussian'),\n",
    "    'sampler': {\n",
    "        'n_samples': 10000,\n",
    "        'n_chains': 1,\n",
    "        'thinning_rate': 1\n",
    "    }\n",
    "}"
   ]
  },
  {
   "attachments": {},
   "cell_type": "markdown",
   "metadata": {},
   "source": [
    "Analysing the sensitivity of the gamma prior simulated data"
   ]
  },
  {
   "cell_type": "code",
   "execution_count": 6,
   "metadata": {},
   "outputs": [
    {
     "name": "stdout",
     "output_type": "stream",
     "text": [
      "Working on varying I_y_and_I_z_mu_0 and I_y_and_I_z_cov_0_0...\n",
      "Generating instance 1...\n"
     ]
    },
    {
     "name": "stderr",
     "output_type": "stream",
     "text": [
      "sample: 100%|██████████| 15000/15000 [00:05<00:00, 2511.33it/s, 31 steps of size 9.63e-02. acc. prob=0.94]\n"
     ]
    },
    {
     "name": "stdout",
     "output_type": "stream",
     "text": [
      "Generating instance 2...\n"
     ]
    },
    {
     "name": "stderr",
     "output_type": "stream",
     "text": [
      "sample: 100%|██████████| 15000/15000 [00:05<00:00, 2715.99it/s, 31 steps of size 1.10e-01. acc. prob=0.93]\n"
     ]
    },
    {
     "name": "stdout",
     "output_type": "stream",
     "text": [
      "Generating instance 3...\n"
     ]
    },
    {
     "name": "stderr",
     "output_type": "stream",
     "text": [
      "sample: 100%|██████████| 15000/15000 [00:04<00:00, 3027.74it/s, 31 steps of size 1.52e-01. acc. prob=0.93]\n"
     ]
    },
    {
     "name": "stdout",
     "output_type": "stream",
     "text": [
      "Generating instance 4...\n"
     ]
    },
    {
     "name": "stderr",
     "output_type": "stream",
     "text": [
      "sample: 100%|██████████| 15000/15000 [00:04<00:00, 3277.90it/s, 7 steps of size 2.18e-01. acc. prob=0.93] \n"
     ]
    },
    {
     "name": "stdout",
     "output_type": "stream",
     "text": [
      "Generating instance 5...\n"
     ]
    },
    {
     "name": "stderr",
     "output_type": "stream",
     "text": [
      "sample: 100%|██████████| 15000/15000 [00:04<00:00, 3534.08it/s, 7 steps of size 2.83e-01. acc. prob=0.95] \n"
     ]
    },
    {
     "name": "stdout",
     "output_type": "stream",
     "text": [
      "Generating instance 6...\n"
     ]
    },
    {
     "name": "stderr",
     "output_type": "stream",
     "text": [
      "sample: 100%|██████████| 15000/15000 [00:04<00:00, 3611.59it/s, 7 steps of size 3.63e-01. acc. prob=0.94] \n"
     ]
    },
    {
     "name": "stdout",
     "output_type": "stream",
     "text": [
      "Generating instance 7...\n"
     ]
    },
    {
     "name": "stderr",
     "output_type": "stream",
     "text": [
      "sample: 100%|██████████| 15000/15000 [00:05<00:00, 2582.35it/s, 47 steps of size 7.28e-02. acc. prob=0.95]\n"
     ]
    },
    {
     "name": "stdout",
     "output_type": "stream",
     "text": [
      "Generating instance 8...\n"
     ]
    },
    {
     "name": "stderr",
     "output_type": "stream",
     "text": [
      "sample: 100%|██████████| 15000/15000 [00:19<00:00, 784.43it/s, 511 steps of size 7.15e-03. acc. prob=0.94] \n"
     ]
    },
    {
     "name": "stdout",
     "output_type": "stream",
     "text": [
      "Generating instance 9...\n"
     ]
    },
    {
     "name": "stderr",
     "output_type": "stream",
     "text": [
      "sample: 100%|██████████| 15000/15000 [01:01<00:00, 245.54it/s, 1023 steps of size 8.56e-07. acc. prob=0.80]\n"
     ]
    },
    {
     "name": "stdout",
     "output_type": "stream",
     "text": [
      "Generating instance 10...\n"
     ]
    },
    {
     "name": "stderr",
     "output_type": "stream",
     "text": [
      "sample: 100%|██████████| 15000/15000 [00:58<00:00, 257.20it/s, 1023 steps of size 1.11e-08. acc. prob=0.83]\n"
     ]
    },
    {
     "name": "stdout",
     "output_type": "stream",
     "text": [
      "Generating instance 11...\n"
     ]
    },
    {
     "name": "stderr",
     "output_type": "stream",
     "text": [
      "sample: 100%|██████████| 15000/15000 [00:05<00:00, 2710.04it/s, 31 steps of size 9.63e-02. acc. prob=0.94]\n"
     ]
    },
    {
     "name": "stdout",
     "output_type": "stream",
     "text": [
      "Generating instance 12...\n"
     ]
    },
    {
     "name": "stderr",
     "output_type": "stream",
     "text": [
      "sample: 100%|██████████| 15000/15000 [00:05<00:00, 2905.96it/s, 31 steps of size 1.12e-01. acc. prob=0.92]\n"
     ]
    },
    {
     "name": "stdout",
     "output_type": "stream",
     "text": [
      "Generating instance 13...\n"
     ]
    },
    {
     "name": "stderr",
     "output_type": "stream",
     "text": [
      "sample: 100%|██████████| 15000/15000 [00:04<00:00, 3048.27it/s, 31 steps of size 1.23e-01. acc. prob=0.93]\n"
     ]
    },
    {
     "name": "stdout",
     "output_type": "stream",
     "text": [
      "Generating instance 14...\n"
     ]
    },
    {
     "name": "stderr",
     "output_type": "stream",
     "text": [
      "sample: 100%|██████████| 15000/15000 [00:04<00:00, 3305.92it/s, 31 steps of size 1.80e-01. acc. prob=0.94]\n"
     ]
    },
    {
     "name": "stdout",
     "output_type": "stream",
     "text": [
      "Generating instance 15...\n"
     ]
    },
    {
     "name": "stderr",
     "output_type": "stream",
     "text": [
      "sample: 100%|██████████| 15000/15000 [00:04<00:00, 3476.46it/s, 7 steps of size 2.28e-01. acc. prob=0.93] \n"
     ]
    },
    {
     "name": "stdout",
     "output_type": "stream",
     "text": [
      "Generating instance 16...\n"
     ]
    },
    {
     "name": "stderr",
     "output_type": "stream",
     "text": [
      "sample: 100%|██████████| 15000/15000 [00:04<00:00, 3433.36it/s, 7 steps of size 3.94e-01. acc. prob=0.93] \n"
     ]
    },
    {
     "name": "stdout",
     "output_type": "stream",
     "text": [
      "Generating instance 17...\n"
     ]
    },
    {
     "name": "stderr",
     "output_type": "stream",
     "text": [
      "sample: 100%|██████████| 15000/15000 [00:04<00:00, 3198.22it/s, 15 steps of size 2.59e-01. acc. prob=0.92]\n"
     ]
    },
    {
     "name": "stdout",
     "output_type": "stream",
     "text": [
      "Generating instance 18...\n"
     ]
    },
    {
     "name": "stderr",
     "output_type": "stream",
     "text": [
      "sample: 100%|██████████| 15000/15000 [00:09<00:00, 1645.79it/s, 127 steps of size 2.61e-02. acc. prob=0.94]\n"
     ]
    },
    {
     "name": "stdout",
     "output_type": "stream",
     "text": [
      "Generating instance 19...\n"
     ]
    },
    {
     "name": "stderr",
     "output_type": "stream",
     "text": [
      "sample: 100%|██████████| 15000/15000 [00:19<00:00, 784.13it/s, 191 steps of size 2.25e-03. acc. prob=0.90] \n"
     ]
    },
    {
     "name": "stdout",
     "output_type": "stream",
     "text": [
      "Generating instance 20...\n"
     ]
    },
    {
     "name": "stderr",
     "output_type": "stream",
     "text": [
      "sample: 100%|██████████| 15000/15000 [00:57<00:00, 259.35it/s, 1023 steps of size 2.65e-10. acc. prob=0.82]\n"
     ]
    },
    {
     "name": "stdout",
     "output_type": "stream",
     "text": [
      "Generating instance 21...\n"
     ]
    },
    {
     "name": "stderr",
     "output_type": "stream",
     "text": [
      "sample: 100%|██████████| 15000/15000 [00:05<00:00, 2930.54it/s, 31 steps of size 1.11e-01. acc. prob=0.91]\n"
     ]
    },
    {
     "name": "stdout",
     "output_type": "stream",
     "text": [
      "Generating instance 22...\n"
     ]
    },
    {
     "name": "stderr",
     "output_type": "stream",
     "text": [
      "sample: 100%|██████████| 15000/15000 [00:05<00:00, 2872.80it/s, 31 steps of size 9.47e-02. acc. prob=0.94]\n"
     ]
    },
    {
     "name": "stdout",
     "output_type": "stream",
     "text": [
      "Generating instance 23...\n"
     ]
    },
    {
     "name": "stderr",
     "output_type": "stream",
     "text": [
      "sample: 100%|██████████| 15000/15000 [00:04<00:00, 3016.02it/s, 15 steps of size 1.17e-01. acc. prob=0.91]\n"
     ]
    },
    {
     "name": "stdout",
     "output_type": "stream",
     "text": [
      "Generating instance 24...\n"
     ]
    },
    {
     "name": "stderr",
     "output_type": "stream",
     "text": [
      "sample: 100%|██████████| 15000/15000 [00:04<00:00, 3006.83it/s, 15 steps of size 1.50e-01. acc. prob=0.93]\n"
     ]
    },
    {
     "name": "stdout",
     "output_type": "stream",
     "text": [
      "Generating instance 25...\n"
     ]
    },
    {
     "name": "stderr",
     "output_type": "stream",
     "text": [
      "sample: 100%|██████████| 15000/15000 [00:04<00:00, 3223.73it/s, 7 steps of size 2.21e-01. acc. prob=0.94] \n"
     ]
    },
    {
     "name": "stdout",
     "output_type": "stream",
     "text": [
      "Generating instance 26...\n"
     ]
    },
    {
     "name": "stderr",
     "output_type": "stream",
     "text": [
      "sample: 100%|██████████| 15000/15000 [00:04<00:00, 3340.19it/s, 15 steps of size 3.14e-01. acc. prob=0.95]\n"
     ]
    },
    {
     "name": "stdout",
     "output_type": "stream",
     "text": [
      "Generating instance 27...\n"
     ]
    },
    {
     "name": "stderr",
     "output_type": "stream",
     "text": [
      "sample: 100%|██████████| 15000/15000 [00:04<00:00, 3415.60it/s, 7 steps of size 3.98e-01. acc. prob=0.93] \n"
     ]
    },
    {
     "name": "stdout",
     "output_type": "stream",
     "text": [
      "Generating instance 28...\n"
     ]
    },
    {
     "name": "stderr",
     "output_type": "stream",
     "text": [
      "sample: 100%|██████████| 15000/15000 [00:06<00:00, 2482.20it/s, 63 steps of size 7.66e-02. acc. prob=0.95]\n"
     ]
    },
    {
     "name": "stdout",
     "output_type": "stream",
     "text": [
      "Generating instance 29...\n"
     ]
    },
    {
     "name": "stderr",
     "output_type": "stream",
     "text": [
      "sample: 100%|██████████| 15000/15000 [00:17<00:00, 869.48it/s, 187 steps of size 7.09e-03. acc. prob=0.92] \n"
     ]
    },
    {
     "name": "stdout",
     "output_type": "stream",
     "text": [
      "Generating instance 30...\n"
     ]
    },
    {
     "name": "stderr",
     "output_type": "stream",
     "text": [
      "sample: 100%|██████████| 15000/15000 [00:57<00:00, 260.35it/s, 1023 steps of size 8.10e-07. acc. prob=0.80]\n"
     ]
    },
    {
     "name": "stdout",
     "output_type": "stream",
     "text": [
      "Generating instance 31...\n"
     ]
    },
    {
     "name": "stderr",
     "output_type": "stream",
     "text": [
      "sample: 100%|██████████| 15000/15000 [00:05<00:00, 2917.39it/s, 31 steps of size 1.05e-01. acc. prob=0.91]\n"
     ]
    },
    {
     "name": "stdout",
     "output_type": "stream",
     "text": [
      "Generating instance 32...\n"
     ]
    },
    {
     "name": "stderr",
     "output_type": "stream",
     "text": [
      "sample: 100%|██████████| 15000/15000 [00:05<00:00, 2711.04it/s, 31 steps of size 9.13e-02. acc. prob=0.94]\n"
     ]
    },
    {
     "name": "stdout",
     "output_type": "stream",
     "text": [
      "Generating instance 33...\n"
     ]
    },
    {
     "name": "stderr",
     "output_type": "stream",
     "text": [
      "sample: 100%|██████████| 15000/15000 [00:05<00:00, 2774.73it/s, 31 steps of size 1.03e-01. acc. prob=0.93]\n"
     ]
    },
    {
     "name": "stdout",
     "output_type": "stream",
     "text": [
      "Generating instance 34...\n"
     ]
    },
    {
     "name": "stderr",
     "output_type": "stream",
     "text": [
      "sample: 100%|██████████| 15000/15000 [00:05<00:00, 2774.02it/s, 31 steps of size 1.08e-01. acc. prob=0.92]\n"
     ]
    },
    {
     "name": "stdout",
     "output_type": "stream",
     "text": [
      "Generating instance 35...\n"
     ]
    },
    {
     "name": "stderr",
     "output_type": "stream",
     "text": [
      "sample: 100%|██████████| 15000/15000 [00:04<00:00, 3033.83it/s, 11 steps of size 1.68e-01. acc. prob=0.93]\n"
     ]
    },
    {
     "name": "stdout",
     "output_type": "stream",
     "text": [
      "Generating instance 36...\n"
     ]
    },
    {
     "name": "stderr",
     "output_type": "stream",
     "text": [
      "sample: 100%|██████████| 15000/15000 [00:04<00:00, 3170.40it/s, 7 steps of size 4.12e-01. acc. prob=0.93] \n"
     ]
    },
    {
     "name": "stdout",
     "output_type": "stream",
     "text": [
      "Generating instance 37...\n"
     ]
    },
    {
     "name": "stderr",
     "output_type": "stream",
     "text": [
      "sample: 100%|██████████| 15000/15000 [00:04<00:00, 3507.05it/s, 7 steps of size 4.02e-01. acc. prob=0.93] \n"
     ]
    },
    {
     "name": "stdout",
     "output_type": "stream",
     "text": [
      "Generating instance 38...\n"
     ]
    },
    {
     "name": "stderr",
     "output_type": "stream",
     "text": [
      "sample: 100%|██████████| 15000/15000 [00:04<00:00, 3328.35it/s, 7 steps of size 2.57e-01. acc. prob=0.92] \n"
     ]
    },
    {
     "name": "stdout",
     "output_type": "stream",
     "text": [
      "Generating instance 39...\n"
     ]
    },
    {
     "name": "stderr",
     "output_type": "stream",
     "text": [
      "sample: 100%|██████████| 15000/15000 [00:09<00:00, 1611.38it/s, 127 steps of size 2.49e-02. acc. prob=0.94]\n"
     ]
    },
    {
     "name": "stdout",
     "output_type": "stream",
     "text": [
      "Generating instance 40...\n"
     ]
    },
    {
     "name": "stderr",
     "output_type": "stream",
     "text": [
      "sample: 100%|██████████| 15000/15000 [00:18<00:00, 799.03it/s, 143 steps of size 2.33e-03. acc. prob=0.92] \n"
     ]
    },
    {
     "name": "stdout",
     "output_type": "stream",
     "text": [
      "Generating instance 41...\n"
     ]
    },
    {
     "name": "stderr",
     "output_type": "stream",
     "text": [
      "sample: 100%|██████████| 15000/15000 [00:05<00:00, 2733.22it/s, 15 steps of size 9.84e-02. acc. prob=0.92]\n"
     ]
    },
    {
     "name": "stdout",
     "output_type": "stream",
     "text": [
      "Generating instance 42...\n"
     ]
    },
    {
     "name": "stderr",
     "output_type": "stream",
     "text": [
      "sample: 100%|██████████| 15000/15000 [00:05<00:00, 2741.14it/s, 31 steps of size 9.86e-02. acc. prob=0.92]\n"
     ]
    },
    {
     "name": "stdout",
     "output_type": "stream",
     "text": [
      "Generating instance 43...\n"
     ]
    },
    {
     "name": "stderr",
     "output_type": "stream",
     "text": [
      "sample: 100%|██████████| 15000/15000 [00:05<00:00, 2711.65it/s, 31 steps of size 9.63e-02. acc. prob=0.93]\n"
     ]
    },
    {
     "name": "stdout",
     "output_type": "stream",
     "text": [
      "Generating instance 44...\n"
     ]
    },
    {
     "name": "stderr",
     "output_type": "stream",
     "text": [
      "sample: 100%|██████████| 15000/15000 [00:05<00:00, 2742.83it/s, 31 steps of size 1.08e-01. acc. prob=0.91]\n"
     ]
    },
    {
     "name": "stdout",
     "output_type": "stream",
     "text": [
      "Generating instance 45...\n"
     ]
    },
    {
     "name": "stderr",
     "output_type": "stream",
     "text": [
      "sample: 100%|██████████| 15000/15000 [00:05<00:00, 2902.65it/s, 15 steps of size 1.15e-01. acc. prob=0.92]\n"
     ]
    },
    {
     "name": "stdout",
     "output_type": "stream",
     "text": [
      "Generating instance 46...\n"
     ]
    },
    {
     "name": "stderr",
     "output_type": "stream",
     "text": [
      "sample: 100%|██████████| 15000/15000 [00:04<00:00, 3417.58it/s, 7 steps of size 3.21e-01. acc. prob=0.92] \n"
     ]
    },
    {
     "name": "stdout",
     "output_type": "stream",
     "text": [
      "Generating instance 47...\n"
     ]
    },
    {
     "name": "stderr",
     "output_type": "stream",
     "text": [
      "sample: 100%|██████████| 15000/15000 [00:04<00:00, 3520.52it/s, 7 steps of size 3.72e-01. acc. prob=0.94] \n"
     ]
    },
    {
     "name": "stdout",
     "output_type": "stream",
     "text": [
      "Generating instance 48...\n"
     ]
    },
    {
     "name": "stderr",
     "output_type": "stream",
     "text": [
      "sample: 100%|██████████| 15000/15000 [00:04<00:00, 3379.84it/s, 7 steps of size 3.58e-01. acc. prob=0.93] \n"
     ]
    },
    {
     "name": "stdout",
     "output_type": "stream",
     "text": [
      "Generating instance 49...\n"
     ]
    },
    {
     "name": "stderr",
     "output_type": "stream",
     "text": [
      "sample: 100%|██████████| 15000/15000 [00:06<00:00, 2472.72it/s, 47 steps of size 7.69e-02. acc. prob=0.95]\n"
     ]
    },
    {
     "name": "stdout",
     "output_type": "stream",
     "text": [
      "Generating instance 50...\n"
     ]
    },
    {
     "name": "stderr",
     "output_type": "stream",
     "text": [
      "sample: 100%|██████████| 15000/15000 [00:17<00:00, 854.56it/s, 511 steps of size 7.33e-03. acc. prob=0.92] \n"
     ]
    },
    {
     "name": "stdout",
     "output_type": "stream",
     "text": [
      "Generating instance 51...\n"
     ]
    },
    {
     "name": "stderr",
     "output_type": "stream",
     "text": [
      "sample: 100%|██████████| 15000/15000 [00:05<00:00, 2782.76it/s, 31 steps of size 1.14e-01. acc. prob=0.90]\n"
     ]
    },
    {
     "name": "stdout",
     "output_type": "stream",
     "text": [
      "Generating instance 52...\n"
     ]
    },
    {
     "name": "stderr",
     "output_type": "stream",
     "text": [
      "sample: 100%|██████████| 15000/15000 [00:05<00:00, 2654.26it/s, 31 steps of size 9.27e-02. acc. prob=0.94]\n"
     ]
    },
    {
     "name": "stdout",
     "output_type": "stream",
     "text": [
      "Generating instance 53...\n"
     ]
    },
    {
     "name": "stderr",
     "output_type": "stream",
     "text": [
      "sample: 100%|██████████| 15000/15000 [00:05<00:00, 2667.30it/s, 31 steps of size 8.99e-02. acc. prob=0.94]\n"
     ]
    },
    {
     "name": "stdout",
     "output_type": "stream",
     "text": [
      "Generating instance 54...\n"
     ]
    },
    {
     "name": "stderr",
     "output_type": "stream",
     "text": [
      "sample: 100%|██████████| 15000/15000 [00:05<00:00, 2767.21it/s, 31 steps of size 9.86e-02. acc. prob=0.92]\n"
     ]
    },
    {
     "name": "stdout",
     "output_type": "stream",
     "text": [
      "Generating instance 55...\n"
     ]
    },
    {
     "name": "stderr",
     "output_type": "stream",
     "text": [
      "sample: 100%|██████████| 15000/15000 [00:05<00:00, 2755.49it/s, 31 steps of size 9.58e-02. acc. prob=0.92]\n"
     ]
    },
    {
     "name": "stdout",
     "output_type": "stream",
     "text": [
      "Generating instance 56...\n"
     ]
    },
    {
     "name": "stderr",
     "output_type": "stream",
     "text": [
      "sample: 100%|██████████| 15000/15000 [00:04<00:00, 3027.41it/s, 15 steps of size 1.60e-01. acc. prob=0.92]\n"
     ]
    },
    {
     "name": "stdout",
     "output_type": "stream",
     "text": [
      "Generating instance 57...\n"
     ]
    },
    {
     "name": "stderr",
     "output_type": "stream",
     "text": [
      "sample: 100%|██████████| 15000/15000 [00:04<00:00, 3340.68it/s, 7 steps of size 3.69e-01. acc. prob=0.93] \n"
     ]
    },
    {
     "name": "stdout",
     "output_type": "stream",
     "text": [
      "Generating instance 58...\n"
     ]
    },
    {
     "name": "stderr",
     "output_type": "stream",
     "text": [
      "sample: 100%|██████████| 15000/15000 [00:04<00:00, 3335.01it/s, 7 steps of size 4.04e-01. acc. prob=0.94] \n"
     ]
    },
    {
     "name": "stdout",
     "output_type": "stream",
     "text": [
      "Generating instance 59...\n"
     ]
    },
    {
     "name": "stderr",
     "output_type": "stream",
     "text": [
      "sample: 100%|██████████| 15000/15000 [00:04<00:00, 3125.97it/s, 15 steps of size 2.55e-01. acc. prob=0.92]\n"
     ]
    },
    {
     "name": "stdout",
     "output_type": "stream",
     "text": [
      "Generating instance 60...\n"
     ]
    },
    {
     "name": "stderr",
     "output_type": "stream",
     "text": [
      "sample: 100%|██████████| 15000/15000 [00:09<00:00, 1517.31it/s, 127 steps of size 2.58e-02. acc. prob=0.94]\n"
     ]
    },
    {
     "name": "stdout",
     "output_type": "stream",
     "text": [
      "Generating instance 61...\n"
     ]
    },
    {
     "name": "stderr",
     "output_type": "stream",
     "text": [
      "sample: 100%|██████████| 15000/15000 [00:05<00:00, 2758.95it/s, 31 steps of size 1.06e-01. acc. prob=0.91]\n"
     ]
    },
    {
     "name": "stdout",
     "output_type": "stream",
     "text": [
      "Generating instance 62...\n"
     ]
    },
    {
     "name": "stderr",
     "output_type": "stream",
     "text": [
      "sample: 100%|██████████| 15000/15000 [00:05<00:00, 2658.97it/s, 15 steps of size 8.36e-02. acc. prob=0.95]\n"
     ]
    },
    {
     "name": "stdout",
     "output_type": "stream",
     "text": [
      "Generating instance 63...\n"
     ]
    },
    {
     "name": "stderr",
     "output_type": "stream",
     "text": [
      "sample: 100%|██████████| 15000/15000 [00:06<00:00, 2486.66it/s, 31 steps of size 9.31e-02. acc. prob=0.93]\n"
     ]
    },
    {
     "name": "stdout",
     "output_type": "stream",
     "text": [
      "Generating instance 64...\n"
     ]
    },
    {
     "name": "stderr",
     "output_type": "stream",
     "text": [
      "sample: 100%|██████████| 15000/15000 [00:05<00:00, 2721.94it/s, 15 steps of size 9.43e-02. acc. prob=0.92]\n"
     ]
    },
    {
     "name": "stdout",
     "output_type": "stream",
     "text": [
      "Generating instance 65...\n"
     ]
    },
    {
     "name": "stderr",
     "output_type": "stream",
     "text": [
      "sample: 100%|██████████| 15000/15000 [00:05<00:00, 2624.46it/s, 31 steps of size 8.88e-02. acc. prob=0.94]\n"
     ]
    },
    {
     "name": "stdout",
     "output_type": "stream",
     "text": [
      "Generating instance 66...\n"
     ]
    },
    {
     "name": "stderr",
     "output_type": "stream",
     "text": [
      "sample: 100%|██████████| 15000/15000 [00:05<00:00, 2688.50it/s, 31 steps of size 9.75e-02. acc. prob=0.93]\n"
     ]
    },
    {
     "name": "stdout",
     "output_type": "stream",
     "text": [
      "Generating instance 67...\n"
     ]
    },
    {
     "name": "stderr",
     "output_type": "stream",
     "text": [
      "sample: 100%|██████████| 15000/15000 [00:04<00:00, 3258.40it/s, 15 steps of size 3.20e-01. acc. prob=0.93]\n"
     ]
    },
    {
     "name": "stdout",
     "output_type": "stream",
     "text": [
      "Generating instance 68...\n"
     ]
    },
    {
     "name": "stderr",
     "output_type": "stream",
     "text": [
      "sample: 100%|██████████| 15000/15000 [00:04<00:00, 3349.40it/s, 7 steps of size 4.14e-01. acc. prob=0.94] \n"
     ]
    },
    {
     "name": "stdout",
     "output_type": "stream",
     "text": [
      "Generating instance 69...\n"
     ]
    },
    {
     "name": "stderr",
     "output_type": "stream",
     "text": [
      "sample: 100%|██████████| 15000/15000 [00:04<00:00, 3408.20it/s, 7 steps of size 4.26e-01. acc. prob=0.93] \n"
     ]
    },
    {
     "name": "stdout",
     "output_type": "stream",
     "text": [
      "Generating instance 70...\n"
     ]
    },
    {
     "name": "stderr",
     "output_type": "stream",
     "text": [
      "sample: 100%|██████████| 15000/15000 [00:05<00:00, 2548.59it/s, 15 steps of size 8.64e-02. acc. prob=0.93]\n"
     ]
    },
    {
     "name": "stdout",
     "output_type": "stream",
     "text": [
      "Generating instance 71...\n"
     ]
    },
    {
     "name": "stderr",
     "output_type": "stream",
     "text": [
      "sample: 100%|██████████| 15000/15000 [00:05<00:00, 2723.71it/s, 15 steps of size 9.75e-02. acc. prob=0.92]\n"
     ]
    },
    {
     "name": "stdout",
     "output_type": "stream",
     "text": [
      "Generating instance 72...\n"
     ]
    },
    {
     "name": "stderr",
     "output_type": "stream",
     "text": [
      "sample: 100%|██████████| 15000/15000 [00:05<00:00, 2765.97it/s, 31 steps of size 1.08e-01. acc. prob=0.90]\n"
     ]
    },
    {
     "name": "stdout",
     "output_type": "stream",
     "text": [
      "Generating instance 73...\n"
     ]
    },
    {
     "name": "stderr",
     "output_type": "stream",
     "text": [
      "sample: 100%|██████████| 15000/15000 [00:05<00:00, 2643.67it/s, 31 steps of size 9.09e-02. acc. prob=0.93]\n"
     ]
    },
    {
     "name": "stdout",
     "output_type": "stream",
     "text": [
      "Generating instance 74...\n"
     ]
    },
    {
     "name": "stderr",
     "output_type": "stream",
     "text": [
      "sample: 100%|██████████| 15000/15000 [00:05<00:00, 2650.02it/s, 15 steps of size 9.47e-02. acc. prob=0.93]\n"
     ]
    },
    {
     "name": "stdout",
     "output_type": "stream",
     "text": [
      "Generating instance 75...\n"
     ]
    },
    {
     "name": "stderr",
     "output_type": "stream",
     "text": [
      "sample: 100%|██████████| 15000/15000 [00:05<00:00, 2638.42it/s, 31 steps of size 9.35e-02. acc. prob=0.93]\n"
     ]
    },
    {
     "name": "stdout",
     "output_type": "stream",
     "text": [
      "Generating instance 76...\n"
     ]
    },
    {
     "name": "stderr",
     "output_type": "stream",
     "text": [
      "sample: 100%|██████████| 15000/15000 [00:05<00:00, 2503.69it/s, 39 steps of size 7.94e-02. acc. prob=0.94]\n"
     ]
    },
    {
     "name": "stdout",
     "output_type": "stream",
     "text": [
      "Generating instance 77...\n"
     ]
    },
    {
     "name": "stderr",
     "output_type": "stream",
     "text": [
      "sample: 100%|██████████| 15000/15000 [00:05<00:00, 2958.00it/s, 15 steps of size 1.58e-01. acc. prob=0.93]\n"
     ]
    },
    {
     "name": "stdout",
     "output_type": "stream",
     "text": [
      "Generating instance 78...\n"
     ]
    },
    {
     "name": "stderr",
     "output_type": "stream",
     "text": [
      "sample: 100%|██████████| 15000/15000 [00:04<00:00, 3377.05it/s, 7 steps of size 4.16e-01. acc. prob=0.93] \n"
     ]
    },
    {
     "name": "stdout",
     "output_type": "stream",
     "text": [
      "Generating instance 79...\n"
     ]
    },
    {
     "name": "stderr",
     "output_type": "stream",
     "text": [
      "sample: 100%|██████████| 15000/15000 [00:04<00:00, 3470.66it/s, 7 steps of size 4.91e-01. acc. prob=0.91] \n"
     ]
    },
    {
     "name": "stdout",
     "output_type": "stream",
     "text": [
      "Generating instance 80...\n"
     ]
    },
    {
     "name": "stderr",
     "output_type": "stream",
     "text": [
      "sample: 100%|██████████| 15000/15000 [00:04<00:00, 3110.79it/s, 15 steps of size 2.40e-01. acc. prob=0.94]\n"
     ]
    },
    {
     "name": "stdout",
     "output_type": "stream",
     "text": [
      "Generating instance 81...\n"
     ]
    },
    {
     "name": "stderr",
     "output_type": "stream",
     "text": [
      "sample: 100%|██████████| 15000/15000 [00:05<00:00, 2638.55it/s, 31 steps of size 9.10e-02. acc. prob=0.94]\n"
     ]
    },
    {
     "name": "stdout",
     "output_type": "stream",
     "text": [
      "Generating instance 82...\n"
     ]
    },
    {
     "name": "stderr",
     "output_type": "stream",
     "text": [
      "sample: 100%|██████████| 15000/15000 [00:05<00:00, 2605.49it/s, 31 steps of size 9.03e-02. acc. prob=0.94]\n"
     ]
    },
    {
     "name": "stdout",
     "output_type": "stream",
     "text": [
      "Generating instance 83...\n"
     ]
    },
    {
     "name": "stderr",
     "output_type": "stream",
     "text": [
      "sample: 100%|██████████| 15000/15000 [00:05<00:00, 2633.62it/s, 31 steps of size 9.10e-02. acc. prob=0.93]\n"
     ]
    },
    {
     "name": "stdout",
     "output_type": "stream",
     "text": [
      "Generating instance 84...\n"
     ]
    },
    {
     "name": "stderr",
     "output_type": "stream",
     "text": [
      "sample: 100%|██████████| 15000/15000 [00:05<00:00, 2607.09it/s, 15 steps of size 9.13e-02. acc. prob=0.93]\n"
     ]
    },
    {
     "name": "stdout",
     "output_type": "stream",
     "text": [
      "Generating instance 85...\n"
     ]
    },
    {
     "name": "stderr",
     "output_type": "stream",
     "text": [
      "sample: 100%|██████████| 15000/15000 [00:05<00:00, 2601.25it/s, 31 steps of size 9.00e-02. acc. prob=0.94]\n"
     ]
    },
    {
     "name": "stdout",
     "output_type": "stream",
     "text": [
      "Generating instance 86...\n"
     ]
    },
    {
     "name": "stderr",
     "output_type": "stream",
     "text": [
      "sample: 100%|██████████| 15000/15000 [00:05<00:00, 2716.94it/s, 31 steps of size 1.06e-01. acc. prob=0.89]\n"
     ]
    },
    {
     "name": "stdout",
     "output_type": "stream",
     "text": [
      "Generating instance 87...\n"
     ]
    },
    {
     "name": "stderr",
     "output_type": "stream",
     "text": [
      "sample: 100%|██████████| 15000/15000 [00:05<00:00, 2589.62it/s, 31 steps of size 8.87e-02. acc. prob=0.93]\n"
     ]
    },
    {
     "name": "stdout",
     "output_type": "stream",
     "text": [
      "Generating instance 88...\n"
     ]
    },
    {
     "name": "stderr",
     "output_type": "stream",
     "text": [
      "sample: 100%|██████████| 15000/15000 [00:04<00:00, 3175.59it/s, 7 steps of size 3.29e-01. acc. prob=0.93] \n"
     ]
    },
    {
     "name": "stdout",
     "output_type": "stream",
     "text": [
      "Generating instance 89...\n"
     ]
    },
    {
     "name": "stderr",
     "output_type": "stream",
     "text": [
      "sample: 100%|██████████| 15000/15000 [00:04<00:00, 3289.32it/s, 7 steps of size 4.51e-01. acc. prob=0.93] \n"
     ]
    },
    {
     "name": "stdout",
     "output_type": "stream",
     "text": [
      "Generating instance 90...\n"
     ]
    },
    {
     "name": "stderr",
     "output_type": "stream",
     "text": [
      "sample: 100%|██████████| 15000/15000 [00:04<00:00, 3211.24it/s, 7 steps of size 4.48e-01. acc. prob=0.93]\n"
     ]
    },
    {
     "name": "stdout",
     "output_type": "stream",
     "text": [
      "Generating instance 91...\n"
     ]
    },
    {
     "name": "stderr",
     "output_type": "stream",
     "text": [
      "sample: 100%|██████████| 15000/15000 [00:05<00:00, 2566.50it/s, 31 steps of size 9.82e-02. acc. prob=0.93]\n"
     ]
    },
    {
     "name": "stdout",
     "output_type": "stream",
     "text": [
      "Generating instance 92...\n"
     ]
    },
    {
     "name": "stderr",
     "output_type": "stream",
     "text": [
      "sample: 100%|██████████| 15000/15000 [00:06<00:00, 2464.36it/s, 15 steps of size 8.24e-02. acc. prob=0.95]\n"
     ]
    },
    {
     "name": "stdout",
     "output_type": "stream",
     "text": [
      "Generating instance 93...\n"
     ]
    },
    {
     "name": "stderr",
     "output_type": "stream",
     "text": [
      "sample: 100%|██████████| 15000/15000 [00:05<00:00, 2587.13it/s, 31 steps of size 9.68e-02. acc. prob=0.92]\n"
     ]
    },
    {
     "name": "stdout",
     "output_type": "stream",
     "text": [
      "Generating instance 94...\n"
     ]
    },
    {
     "name": "stderr",
     "output_type": "stream",
     "text": [
      "sample: 100%|██████████| 15000/15000 [00:05<00:00, 2715.08it/s, 31 steps of size 1.07e-01. acc. prob=0.91]\n"
     ]
    },
    {
     "name": "stdout",
     "output_type": "stream",
     "text": [
      "Generating instance 95...\n"
     ]
    },
    {
     "name": "stderr",
     "output_type": "stream",
     "text": [
      "sample: 100%|██████████| 15000/15000 [00:05<00:00, 2548.83it/s, 15 steps of size 8.69e-02. acc. prob=0.93]\n"
     ]
    },
    {
     "name": "stdout",
     "output_type": "stream",
     "text": [
      "Generating instance 96...\n"
     ]
    },
    {
     "name": "stderr",
     "output_type": "stream",
     "text": [
      "sample: 100%|██████████| 15000/15000 [00:05<00:00, 2578.47it/s, 31 steps of size 9.07e-02. acc. prob=0.92]\n"
     ]
    },
    {
     "name": "stdout",
     "output_type": "stream",
     "text": [
      "Generating instance 97...\n"
     ]
    },
    {
     "name": "stderr",
     "output_type": "stream",
     "text": [
      "sample: 100%|██████████| 15000/15000 [00:05<00:00, 2503.86it/s, 15 steps of size 9.12e-02. acc. prob=0.91]\n"
     ]
    },
    {
     "name": "stdout",
     "output_type": "stream",
     "text": [
      "Generating instance 98...\n"
     ]
    },
    {
     "name": "stderr",
     "output_type": "stream",
     "text": [
      "sample: 100%|██████████| 15000/15000 [00:05<00:00, 2890.23it/s, 15 steps of size 1.59e-01. acc. prob=0.93]\n"
     ]
    },
    {
     "name": "stdout",
     "output_type": "stream",
     "text": [
      "Generating instance 99...\n"
     ]
    },
    {
     "name": "stderr",
     "output_type": "stream",
     "text": [
      "sample: 100%|██████████| 15000/15000 [00:04<00:00, 3328.32it/s, 7 steps of size 4.46e-01. acc. prob=0.93] \n"
     ]
    },
    {
     "name": "stdout",
     "output_type": "stream",
     "text": [
      "Generating instance 100...\n"
     ]
    },
    {
     "name": "stderr",
     "output_type": "stream",
     "text": [
      "sample: 100%|██████████| 15000/15000 [00:04<00:00, 3234.60it/s, 7 steps of size 4.59e-01. acc. prob=0.94] \n"
     ]
    },
    {
     "name": "stdout",
     "output_type": "stream",
     "text": [
      "Working on varying I_y_and_I_z_mu_1 and I_y_and_I_z_cov_1_1...\n",
      "Generating instance 1...\n"
     ]
    },
    {
     "name": "stderr",
     "output_type": "stream",
     "text": [
      "sample: 100%|██████████| 15000/15000 [00:04<00:00, 3268.46it/s, 7 steps of size 4.54e-01. acc. prob=0.93] \n"
     ]
    },
    {
     "name": "stdout",
     "output_type": "stream",
     "text": [
      "Generating instance 2...\n"
     ]
    },
    {
     "name": "stderr",
     "output_type": "stream",
     "text": [
      "sample: 100%|██████████| 15000/15000 [00:04<00:00, 3261.68it/s, 7 steps of size 4.33e-01. acc. prob=0.94]\n"
     ]
    },
    {
     "name": "stdout",
     "output_type": "stream",
     "text": [
      "Generating instance 3...\n"
     ]
    },
    {
     "name": "stderr",
     "output_type": "stream",
     "text": [
      "sample: 100%|██████████| 15000/15000 [00:04<00:00, 3286.03it/s, 7 steps of size 4.36e-01. acc. prob=0.94]\n"
     ]
    },
    {
     "name": "stdout",
     "output_type": "stream",
     "text": [
      "Generating instance 4...\n"
     ]
    },
    {
     "name": "stderr",
     "output_type": "stream",
     "text": [
      "sample: 100%|██████████| 15000/15000 [00:04<00:00, 3353.14it/s, 7 steps of size 6.47e-01. acc. prob=0.92]\n"
     ]
    },
    {
     "name": "stdout",
     "output_type": "stream",
     "text": [
      "Generating instance 5...\n"
     ]
    },
    {
     "name": "stderr",
     "output_type": "stream",
     "text": [
      "sample: 100%|██████████| 15000/15000 [00:05<00:00, 2907.04it/s, 7 steps of size 7.09e-01. acc. prob=0.91]\n"
     ]
    },
    {
     "name": "stdout",
     "output_type": "stream",
     "text": [
      "Generating instance 6...\n"
     ]
    },
    {
     "name": "stderr",
     "output_type": "stream",
     "text": [
      "sample: 100%|██████████| 15000/15000 [00:04<00:00, 3383.02it/s, 7 steps of size 6.02e-01. acc. prob=0.91] \n"
     ]
    },
    {
     "name": "stdout",
     "output_type": "stream",
     "text": [
      "Generating instance 7...\n"
     ]
    },
    {
     "name": "stderr",
     "output_type": "stream",
     "text": [
      "sample: 100%|██████████| 15000/15000 [00:06<00:00, 2457.45it/s, 15 steps of size 8.93e-02. acc. prob=0.92]\n"
     ]
    },
    {
     "name": "stdout",
     "output_type": "stream",
     "text": [
      "Generating instance 8...\n"
     ]
    },
    {
     "name": "stderr",
     "output_type": "stream",
     "text": [
      "sample: 100%|██████████| 15000/15000 [00:58<00:00, 256.51it/s, 1023 steps of size 8.43e-07. acc. prob=0.80]\n"
     ]
    },
    {
     "name": "stdout",
     "output_type": "stream",
     "text": [
      "Generating instance 9...\n"
     ]
    },
    {
     "name": "stderr",
     "output_type": "stream",
     "text": [
      "sample: 100%|██████████| 15000/15000 [00:58<00:00, 256.83it/s, 1023 steps of size 6.61e-07. acc. prob=0.81]\n"
     ]
    },
    {
     "name": "stdout",
     "output_type": "stream",
     "text": [
      "Generating instance 10...\n"
     ]
    },
    {
     "name": "stderr",
     "output_type": "stream",
     "text": [
      "sample: 100%|██████████| 15000/15000 [00:57<00:00, 261.02it/s, 1023 steps of size 7.60e-07. acc. prob=0.80]\n"
     ]
    },
    {
     "name": "stdout",
     "output_type": "stream",
     "text": [
      "Generating instance 11...\n"
     ]
    },
    {
     "name": "stderr",
     "output_type": "stream",
     "text": [
      "sample: 100%|██████████| 15000/15000 [00:04<00:00, 3377.91it/s, 7 steps of size 4.44e-01. acc. prob=0.93]\n"
     ]
    },
    {
     "name": "stdout",
     "output_type": "stream",
     "text": [
      "Generating instance 12...\n"
     ]
    },
    {
     "name": "stderr",
     "output_type": "stream",
     "text": [
      "sample: 100%|██████████| 15000/15000 [00:04<00:00, 3396.09it/s, 7 steps of size 5.24e-01. acc. prob=0.90]\n"
     ]
    },
    {
     "name": "stdout",
     "output_type": "stream",
     "text": [
      "Generating instance 13...\n"
     ]
    },
    {
     "name": "stderr",
     "output_type": "stream",
     "text": [
      "sample: 100%|██████████| 15000/15000 [00:04<00:00, 3410.30it/s, 7 steps of size 5.05e-01. acc. prob=0.92] \n"
     ]
    },
    {
     "name": "stdout",
     "output_type": "stream",
     "text": [
      "Generating instance 14...\n"
     ]
    },
    {
     "name": "stderr",
     "output_type": "stream",
     "text": [
      "sample: 100%|██████████| 15000/15000 [00:04<00:00, 3427.23it/s, 7 steps of size 5.44e-01. acc. prob=0.93]\n"
     ]
    },
    {
     "name": "stdout",
     "output_type": "stream",
     "text": [
      "Generating instance 15...\n"
     ]
    },
    {
     "name": "stderr",
     "output_type": "stream",
     "text": [
      "sample: 100%|██████████| 15000/15000 [00:04<00:00, 3443.74it/s, 7 steps of size 6.11e-01. acc. prob=0.93]\n"
     ]
    },
    {
     "name": "stdout",
     "output_type": "stream",
     "text": [
      "Generating instance 16...\n"
     ]
    },
    {
     "name": "stderr",
     "output_type": "stream",
     "text": [
      "sample: 100%|██████████| 15000/15000 [00:04<00:00, 3250.47it/s, 7 steps of size 8.03e-01. acc. prob=0.89]\n"
     ]
    },
    {
     "name": "stdout",
     "output_type": "stream",
     "text": [
      "Generating instance 17...\n"
     ]
    },
    {
     "name": "stderr",
     "output_type": "stream",
     "text": [
      "sample: 100%|██████████| 15000/15000 [00:04<00:00, 3002.60it/s, 7 steps of size 2.62e-01. acc. prob=0.93] \n"
     ]
    },
    {
     "name": "stdout",
     "output_type": "stream",
     "text": [
      "Generating instance 18...\n"
     ]
    },
    {
     "name": "stderr",
     "output_type": "stream",
     "text": [
      "sample: 100%|██████████| 15000/15000 [01:00<00:00, 249.09it/s, 1023 steps of size 8.96e-07. acc. prob=0.80]\n"
     ]
    },
    {
     "name": "stdout",
     "output_type": "stream",
     "text": [
      "Generating instance 19...\n"
     ]
    },
    {
     "name": "stderr",
     "output_type": "stream",
     "text": [
      "sample: 100%|██████████| 15000/15000 [00:59<00:00, 251.45it/s, 1023 steps of size 7.63e-07. acc. prob=0.81]\n"
     ]
    },
    {
     "name": "stdout",
     "output_type": "stream",
     "text": [
      "Generating instance 20...\n"
     ]
    },
    {
     "name": "stderr",
     "output_type": "stream",
     "text": [
      "sample: 100%|██████████| 15000/15000 [01:00<00:00, 249.77it/s, 1023 steps of size 1.83e-08. acc. prob=0.78]\n"
     ]
    },
    {
     "name": "stdout",
     "output_type": "stream",
     "text": [
      "Generating instance 21...\n"
     ]
    },
    {
     "name": "stderr",
     "output_type": "stream",
     "text": [
      "sample: 100%|██████████| 15000/15000 [00:04<00:00, 3263.63it/s, 7 steps of size 4.63e-01. acc. prob=0.93] \n"
     ]
    },
    {
     "name": "stdout",
     "output_type": "stream",
     "text": [
      "Generating instance 22...\n"
     ]
    },
    {
     "name": "stderr",
     "output_type": "stream",
     "text": [
      "sample: 100%|██████████| 15000/15000 [00:04<00:00, 3184.96it/s, 7 steps of size 4.41e-01. acc. prob=0.94] \n"
     ]
    },
    {
     "name": "stdout",
     "output_type": "stream",
     "text": [
      "Generating instance 23...\n"
     ]
    },
    {
     "name": "stderr",
     "output_type": "stream",
     "text": [
      "sample: 100%|██████████| 15000/15000 [00:04<00:00, 3191.51it/s, 7 steps of size 4.94e-01. acc. prob=0.93]\n"
     ]
    },
    {
     "name": "stdout",
     "output_type": "stream",
     "text": [
      "Generating instance 24...\n"
     ]
    },
    {
     "name": "stderr",
     "output_type": "stream",
     "text": [
      "sample: 100%|██████████| 15000/15000 [00:04<00:00, 3071.38it/s, 7 steps of size 4.73e-01. acc. prob=0.93] \n"
     ]
    },
    {
     "name": "stdout",
     "output_type": "stream",
     "text": [
      "Generating instance 25...\n"
     ]
    },
    {
     "name": "stderr",
     "output_type": "stream",
     "text": [
      "sample: 100%|██████████| 15000/15000 [00:04<00:00, 3284.42it/s, 7 steps of size 5.36e-01. acc. prob=0.94]\n"
     ]
    },
    {
     "name": "stdout",
     "output_type": "stream",
     "text": [
      "Generating instance 26...\n"
     ]
    },
    {
     "name": "stderr",
     "output_type": "stream",
     "text": [
      "sample: 100%|██████████| 15000/15000 [00:04<00:00, 3327.59it/s, 7 steps of size 7.29e-01. acc. prob=0.91]\n"
     ]
    },
    {
     "name": "stdout",
     "output_type": "stream",
     "text": [
      "Generating instance 27...\n"
     ]
    },
    {
     "name": "stderr",
     "output_type": "stream",
     "text": [
      "sample: 100%|██████████| 15000/15000 [00:04<00:00, 3343.72it/s, 7 steps of size 6.02e-01. acc. prob=0.91] \n"
     ]
    },
    {
     "name": "stdout",
     "output_type": "stream",
     "text": [
      "Generating instance 28...\n"
     ]
    },
    {
     "name": "stderr",
     "output_type": "stream",
     "text": [
      "sample: 100%|██████████| 15000/15000 [00:06<00:00, 2249.86it/s, 31 steps of size 7.55e-02. acc. prob=0.95]\n"
     ]
    },
    {
     "name": "stdout",
     "output_type": "stream",
     "text": [
      "Generating instance 29...\n"
     ]
    },
    {
     "name": "stderr",
     "output_type": "stream",
     "text": [
      "sample: 100%|██████████| 15000/15000 [01:00<00:00, 249.50it/s, 1023 steps of size 8.03e-07. acc. prob=0.80]\n"
     ]
    },
    {
     "name": "stdout",
     "output_type": "stream",
     "text": [
      "Generating instance 30...\n"
     ]
    },
    {
     "name": "stderr",
     "output_type": "stream",
     "text": [
      "sample: 100%|██████████| 15000/15000 [01:00<00:00, 248.59it/s, 1023 steps of size 6.80e-07. acc. prob=0.80]\n"
     ]
    },
    {
     "name": "stdout",
     "output_type": "stream",
     "text": [
      "Generating instance 31...\n"
     ]
    },
    {
     "name": "stderr",
     "output_type": "stream",
     "text": [
      "sample: 100%|██████████| 15000/15000 [00:05<00:00, 2647.28it/s, 7 steps of size 4.70e-01. acc. prob=0.92] \n"
     ]
    },
    {
     "name": "stdout",
     "output_type": "stream",
     "text": [
      "Generating instance 32...\n"
     ]
    },
    {
     "name": "stderr",
     "output_type": "stream",
     "text": [
      "sample: 100%|██████████| 15000/15000 [00:04<00:00, 3270.70it/s, 7 steps of size 4.42e-01. acc. prob=0.94] \n"
     ]
    },
    {
     "name": "stdout",
     "output_type": "stream",
     "text": [
      "Generating instance 33...\n"
     ]
    },
    {
     "name": "stderr",
     "output_type": "stream",
     "text": [
      "sample: 100%|██████████| 15000/15000 [00:04<00:00, 3269.10it/s, 7 steps of size 4.17e-01. acc. prob=0.94] \n"
     ]
    },
    {
     "name": "stdout",
     "output_type": "stream",
     "text": [
      "Generating instance 34...\n"
     ]
    },
    {
     "name": "stderr",
     "output_type": "stream",
     "text": [
      "sample: 100%|██████████| 15000/15000 [00:04<00:00, 3225.30it/s, 7 steps of size 3.93e-01. acc. prob=0.94] \n"
     ]
    },
    {
     "name": "stdout",
     "output_type": "stream",
     "text": [
      "Generating instance 35...\n"
     ]
    },
    {
     "name": "stderr",
     "output_type": "stream",
     "text": [
      "sample: 100%|██████████| 15000/15000 [00:04<00:00, 3331.17it/s, 7 steps of size 4.71e-01. acc. prob=0.94] \n"
     ]
    },
    {
     "name": "stdout",
     "output_type": "stream",
     "text": [
      "Generating instance 36...\n"
     ]
    },
    {
     "name": "stderr",
     "output_type": "stream",
     "text": [
      "sample: 100%|██████████| 15000/15000 [00:04<00:00, 3340.34it/s, 7 steps of size 6.62e-01. acc. prob=0.92]\n"
     ]
    },
    {
     "name": "stdout",
     "output_type": "stream",
     "text": [
      "Generating instance 37...\n"
     ]
    },
    {
     "name": "stderr",
     "output_type": "stream",
     "text": [
      "sample: 100%|██████████| 15000/15000 [00:04<00:00, 3353.76it/s, 7 steps of size 6.78e-01. acc. prob=0.93]\n"
     ]
    },
    {
     "name": "stdout",
     "output_type": "stream",
     "text": [
      "Generating instance 38...\n"
     ]
    },
    {
     "name": "stderr",
     "output_type": "stream",
     "text": [
      "sample: 100%|██████████| 15000/15000 [00:04<00:00, 3005.87it/s, 7 steps of size 2.41e-01. acc. prob=0.94] \n"
     ]
    },
    {
     "name": "stdout",
     "output_type": "stream",
     "text": [
      "Generating instance 39...\n"
     ]
    },
    {
     "name": "stderr",
     "output_type": "stream",
     "text": [
      "sample: 100%|██████████| 15000/15000 [00:59<00:00, 252.49it/s, 1023 steps of size 8.12e-07. acc. prob=0.80]\n"
     ]
    },
    {
     "name": "stdout",
     "output_type": "stream",
     "text": [
      "Generating instance 40...\n"
     ]
    },
    {
     "name": "stderr",
     "output_type": "stream",
     "text": [
      "sample: 100%|██████████| 15000/15000 [00:59<00:00, 251.68it/s, 1023 steps of size 7.63e-07. acc. prob=0.80]\n"
     ]
    },
    {
     "name": "stdout",
     "output_type": "stream",
     "text": [
      "Generating instance 41...\n"
     ]
    },
    {
     "name": "stderr",
     "output_type": "stream",
     "text": [
      "sample: 100%|██████████| 15000/15000 [00:05<00:00, 2536.79it/s, 7 steps of size 4.08e-01. acc. prob=0.95] \n"
     ]
    },
    {
     "name": "stdout",
     "output_type": "stream",
     "text": [
      "Generating instance 42...\n"
     ]
    },
    {
     "name": "stderr",
     "output_type": "stream",
     "text": [
      "sample: 100%|██████████| 15000/15000 [00:04<00:00, 3329.10it/s, 7 steps of size 5.31e-01. acc. prob=0.91]\n"
     ]
    },
    {
     "name": "stdout",
     "output_type": "stream",
     "text": [
      "Generating instance 43...\n"
     ]
    },
    {
     "name": "stderr",
     "output_type": "stream",
     "text": [
      "sample: 100%|██████████| 15000/15000 [00:04<00:00, 3364.42it/s, 7 steps of size 4.75e-01. acc. prob=0.94]\n"
     ]
    },
    {
     "name": "stdout",
     "output_type": "stream",
     "text": [
      "Generating instance 44...\n"
     ]
    },
    {
     "name": "stderr",
     "output_type": "stream",
     "text": [
      "sample: 100%|██████████| 15000/15000 [00:04<00:00, 3371.11it/s, 7 steps of size 5.29e-01. acc. prob=0.92]\n"
     ]
    },
    {
     "name": "stdout",
     "output_type": "stream",
     "text": [
      "Generating instance 45...\n"
     ]
    },
    {
     "name": "stderr",
     "output_type": "stream",
     "text": [
      "sample: 100%|██████████| 15000/15000 [00:04<00:00, 3318.28it/s, 7 steps of size 4.55e-01. acc. prob=0.94] \n"
     ]
    },
    {
     "name": "stdout",
     "output_type": "stream",
     "text": [
      "Generating instance 46...\n"
     ]
    },
    {
     "name": "stderr",
     "output_type": "stream",
     "text": [
      "sample: 100%|██████████| 15000/15000 [00:04<00:00, 3225.97it/s, 7 steps of size 3.79e-01. acc. prob=0.94] \n"
     ]
    },
    {
     "name": "stdout",
     "output_type": "stream",
     "text": [
      "Generating instance 47...\n"
     ]
    },
    {
     "name": "stderr",
     "output_type": "stream",
     "text": [
      "sample: 100%|██████████| 15000/15000 [00:04<00:00, 3379.68it/s, 7 steps of size 7.69e-01. acc. prob=0.90]\n"
     ]
    },
    {
     "name": "stdout",
     "output_type": "stream",
     "text": [
      "Generating instance 48...\n"
     ]
    },
    {
     "name": "stderr",
     "output_type": "stream",
     "text": [
      "sample: 100%|██████████| 15000/15000 [00:04<00:00, 3262.19it/s, 7 steps of size 6.24e-01. acc. prob=0.91]\n"
     ]
    },
    {
     "name": "stdout",
     "output_type": "stream",
     "text": [
      "Generating instance 49...\n"
     ]
    },
    {
     "name": "stderr",
     "output_type": "stream",
     "text": [
      "sample: 100%|██████████| 15000/15000 [00:06<00:00, 2384.35it/s, 47 steps of size 8.63e-02. acc. prob=0.93]\n"
     ]
    },
    {
     "name": "stdout",
     "output_type": "stream",
     "text": [
      "Generating instance 50...\n"
     ]
    },
    {
     "name": "stderr",
     "output_type": "stream",
     "text": [
      "sample: 100%|██████████| 15000/15000 [00:59<00:00, 252.33it/s, 1023 steps of size 7.61e-07. acc. prob=0.80]\n"
     ]
    },
    {
     "name": "stdout",
     "output_type": "stream",
     "text": [
      "Generating instance 51...\n"
     ]
    },
    {
     "name": "stderr",
     "output_type": "stream",
     "text": [
      "sample: 100%|██████████| 15000/15000 [00:04<00:00, 3326.79it/s, 7 steps of size 5.13e-01. acc. prob=0.91]\n"
     ]
    },
    {
     "name": "stdout",
     "output_type": "stream",
     "text": [
      "Generating instance 52...\n"
     ]
    },
    {
     "name": "stderr",
     "output_type": "stream",
     "text": [
      "sample: 100%|██████████| 15000/15000 [00:04<00:00, 3304.21it/s, 7 steps of size 4.83e-01. acc. prob=0.93]\n"
     ]
    },
    {
     "name": "stdout",
     "output_type": "stream",
     "text": [
      "Generating instance 53...\n"
     ]
    },
    {
     "name": "stderr",
     "output_type": "stream",
     "text": [
      "sample: 100%|██████████| 15000/15000 [00:04<00:00, 3260.60it/s, 7 steps of size 4.86e-01. acc. prob=0.93] \n"
     ]
    },
    {
     "name": "stdout",
     "output_type": "stream",
     "text": [
      "Generating instance 54...\n"
     ]
    },
    {
     "name": "stderr",
     "output_type": "stream",
     "text": [
      "sample: 100%|██████████| 15000/15000 [00:04<00:00, 3305.48it/s, 7 steps of size 4.88e-01. acc. prob=0.93] \n"
     ]
    },
    {
     "name": "stdout",
     "output_type": "stream",
     "text": [
      "Generating instance 55...\n"
     ]
    },
    {
     "name": "stderr",
     "output_type": "stream",
     "text": [
      "sample: 100%|██████████| 15000/15000 [00:04<00:00, 3295.89it/s, 7 steps of size 4.37e-01. acc. prob=0.94]\n"
     ]
    },
    {
     "name": "stdout",
     "output_type": "stream",
     "text": [
      "Generating instance 56...\n"
     ]
    },
    {
     "name": "stderr",
     "output_type": "stream",
     "text": [
      "sample: 100%|██████████| 15000/15000 [00:04<00:00, 3227.23it/s, 7 steps of size 3.67e-01. acc. prob=0.95] \n"
     ]
    },
    {
     "name": "stdout",
     "output_type": "stream",
     "text": [
      "Generating instance 57...\n"
     ]
    },
    {
     "name": "stderr",
     "output_type": "stream",
     "text": [
      "sample: 100%|██████████| 15000/15000 [00:04<00:00, 3323.52it/s, 7 steps of size 6.57e-01. acc. prob=0.92]\n"
     ]
    },
    {
     "name": "stdout",
     "output_type": "stream",
     "text": [
      "Generating instance 58...\n"
     ]
    },
    {
     "name": "stderr",
     "output_type": "stream",
     "text": [
      "sample: 100%|██████████| 15000/15000 [00:04<00:00, 3364.04it/s, 7 steps of size 6.94e-01. acc. prob=0.92]\n"
     ]
    },
    {
     "name": "stdout",
     "output_type": "stream",
     "text": [
      "Generating instance 59...\n"
     ]
    },
    {
     "name": "stderr",
     "output_type": "stream",
     "text": [
      "sample: 100%|██████████| 15000/15000 [00:04<00:00, 3028.12it/s, 15 steps of size 2.36e-01. acc. prob=0.94]\n"
     ]
    },
    {
     "name": "stdout",
     "output_type": "stream",
     "text": [
      "Generating instance 60...\n"
     ]
    },
    {
     "name": "stderr",
     "output_type": "stream",
     "text": [
      "sample: 100%|██████████| 15000/15000 [00:10<00:00, 1490.47it/s, 127 steps of size 2.62e-02. acc. prob=0.91]\n"
     ]
    },
    {
     "name": "stdout",
     "output_type": "stream",
     "text": [
      "Generating instance 61...\n"
     ]
    },
    {
     "name": "stderr",
     "output_type": "stream",
     "text": [
      "sample: 100%|██████████| 15000/15000 [00:04<00:00, 3270.81it/s, 7 steps of size 4.66e-01. acc. prob=0.93] \n"
     ]
    },
    {
     "name": "stdout",
     "output_type": "stream",
     "text": [
      "Generating instance 62...\n"
     ]
    },
    {
     "name": "stderr",
     "output_type": "stream",
     "text": [
      "sample: 100%|██████████| 15000/15000 [00:05<00:00, 2757.12it/s, 7 steps of size 4.26e-01. acc. prob=0.94] \n"
     ]
    },
    {
     "name": "stdout",
     "output_type": "stream",
     "text": [
      "Generating instance 63...\n"
     ]
    },
    {
     "name": "stderr",
     "output_type": "stream",
     "text": [
      "sample: 100%|██████████| 15000/15000 [00:04<00:00, 3325.75it/s, 7 steps of size 5.33e-01. acc. prob=0.91] \n"
     ]
    },
    {
     "name": "stdout",
     "output_type": "stream",
     "text": [
      "Generating instance 64...\n"
     ]
    },
    {
     "name": "stderr",
     "output_type": "stream",
     "text": [
      "sample: 100%|██████████| 15000/15000 [00:04<00:00, 3323.71it/s, 7 steps of size 4.66e-01. acc. prob=0.93] \n"
     ]
    },
    {
     "name": "stdout",
     "output_type": "stream",
     "text": [
      "Generating instance 65...\n"
     ]
    },
    {
     "name": "stderr",
     "output_type": "stream",
     "text": [
      "sample: 100%|██████████| 15000/15000 [00:04<00:00, 3297.42it/s, 7 steps of size 4.38e-01. acc. prob=0.94] \n"
     ]
    },
    {
     "name": "stdout",
     "output_type": "stream",
     "text": [
      "Generating instance 66...\n"
     ]
    },
    {
     "name": "stderr",
     "output_type": "stream",
     "text": [
      "sample: 100%|██████████| 15000/15000 [00:04<00:00, 3265.05it/s, 7 steps of size 4.39e-01. acc. prob=0.93] \n"
     ]
    },
    {
     "name": "stdout",
     "output_type": "stream",
     "text": [
      "Generating instance 67...\n"
     ]
    },
    {
     "name": "stderr",
     "output_type": "stream",
     "text": [
      "sample: 100%|██████████| 15000/15000 [00:04<00:00, 3120.79it/s, 7 steps of size 4.28e-01. acc. prob=0.92] \n"
     ]
    },
    {
     "name": "stdout",
     "output_type": "stream",
     "text": [
      "Generating instance 68...\n"
     ]
    },
    {
     "name": "stderr",
     "output_type": "stream",
     "text": [
      "sample: 100%|██████████| 15000/15000 [00:04<00:00, 3193.95it/s, 7 steps of size 7.88e-01. acc. prob=0.90]\n"
     ]
    },
    {
     "name": "stdout",
     "output_type": "stream",
     "text": [
      "Generating instance 69...\n"
     ]
    },
    {
     "name": "stderr",
     "output_type": "stream",
     "text": [
      "sample: 100%|██████████| 15000/15000 [00:04<00:00, 3204.23it/s, 7 steps of size 5.94e-01. acc. prob=0.92]\n"
     ]
    },
    {
     "name": "stdout",
     "output_type": "stream",
     "text": [
      "Generating instance 70...\n"
     ]
    },
    {
     "name": "stderr",
     "output_type": "stream",
     "text": [
      "sample: 100%|██████████| 15000/15000 [00:06<00:00, 2308.71it/s, 63 steps of size 7.57e-02. acc. prob=0.91]\n"
     ]
    },
    {
     "name": "stdout",
     "output_type": "stream",
     "text": [
      "Generating instance 71...\n"
     ]
    },
    {
     "name": "stderr",
     "output_type": "stream",
     "text": [
      "sample: 100%|██████████| 15000/15000 [00:04<00:00, 3278.07it/s, 7 steps of size 4.70e-01. acc. prob=0.93] \n"
     ]
    },
    {
     "name": "stdout",
     "output_type": "stream",
     "text": [
      "Generating instance 72...\n"
     ]
    },
    {
     "name": "stderr",
     "output_type": "stream",
     "text": [
      "sample: 100%|██████████| 15000/15000 [00:04<00:00, 3224.09it/s, 7 steps of size 4.93e-01. acc. prob=0.93] \n"
     ]
    },
    {
     "name": "stdout",
     "output_type": "stream",
     "text": [
      "Generating instance 73...\n"
     ]
    },
    {
     "name": "stderr",
     "output_type": "stream",
     "text": [
      "sample: 100%|██████████| 15000/15000 [00:04<00:00, 3334.27it/s, 7 steps of size 4.57e-01. acc. prob=0.94]\n"
     ]
    },
    {
     "name": "stdout",
     "output_type": "stream",
     "text": [
      "Generating instance 74...\n"
     ]
    },
    {
     "name": "stderr",
     "output_type": "stream",
     "text": [
      "sample: 100%|██████████| 15000/15000 [00:04<00:00, 3155.12it/s, 7 steps of size 4.53e-01. acc. prob=0.94] \n"
     ]
    },
    {
     "name": "stdout",
     "output_type": "stream",
     "text": [
      "Generating instance 75...\n"
     ]
    },
    {
     "name": "stderr",
     "output_type": "stream",
     "text": [
      "sample: 100%|██████████| 15000/15000 [00:04<00:00, 3285.76it/s, 7 steps of size 4.22e-01. acc. prob=0.94] \n"
     ]
    },
    {
     "name": "stdout",
     "output_type": "stream",
     "text": [
      "Generating instance 76...\n"
     ]
    },
    {
     "name": "stderr",
     "output_type": "stream",
     "text": [
      "sample: 100%|██████████| 15000/15000 [00:04<00:00, 3172.10it/s, 7 steps of size 4.40e-01. acc. prob=0.93] \n"
     ]
    },
    {
     "name": "stdout",
     "output_type": "stream",
     "text": [
      "Generating instance 77...\n"
     ]
    },
    {
     "name": "stderr",
     "output_type": "stream",
     "text": [
      "sample: 100%|██████████| 15000/15000 [00:05<00:00, 2822.29it/s, 15 steps of size 1.64e-01. acc. prob=0.93]\n"
     ]
    },
    {
     "name": "stdout",
     "output_type": "stream",
     "text": [
      "Generating instance 78...\n"
     ]
    },
    {
     "name": "stderr",
     "output_type": "stream",
     "text": [
      "sample: 100%|██████████| 15000/15000 [00:04<00:00, 3361.73it/s, 7 steps of size 7.33e-01. acc. prob=0.89]\n"
     ]
    },
    {
     "name": "stdout",
     "output_type": "stream",
     "text": [
      "Generating instance 79...\n"
     ]
    },
    {
     "name": "stderr",
     "output_type": "stream",
     "text": [
      "sample: 100%|██████████| 15000/15000 [00:04<00:00, 3290.57it/s, 7 steps of size 7.69e-01. acc. prob=0.90]\n"
     ]
    },
    {
     "name": "stdout",
     "output_type": "stream",
     "text": [
      "Generating instance 80...\n"
     ]
    },
    {
     "name": "stderr",
     "output_type": "stream",
     "text": [
      "sample: 100%|██████████| 15000/15000 [00:05<00:00, 2966.80it/s, 15 steps of size 2.46e-01. acc. prob=0.90]\n"
     ]
    },
    {
     "name": "stdout",
     "output_type": "stream",
     "text": [
      "Generating instance 81...\n"
     ]
    },
    {
     "name": "stderr",
     "output_type": "stream",
     "text": [
      "sample: 100%|██████████| 15000/15000 [00:04<00:00, 3281.03it/s, 7 steps of size 4.57e-01. acc. prob=0.92] \n"
     ]
    },
    {
     "name": "stdout",
     "output_type": "stream",
     "text": [
      "Generating instance 82...\n"
     ]
    },
    {
     "name": "stderr",
     "output_type": "stream",
     "text": [
      "sample: 100%|██████████| 15000/15000 [00:04<00:00, 3288.24it/s, 7 steps of size 4.50e-01. acc. prob=0.93] \n"
     ]
    },
    {
     "name": "stdout",
     "output_type": "stream",
     "text": [
      "Generating instance 83...\n"
     ]
    },
    {
     "name": "stderr",
     "output_type": "stream",
     "text": [
      "sample: 100%|██████████| 15000/15000 [00:04<00:00, 3251.27it/s, 7 steps of size 4.31e-01. acc. prob=0.94] \n"
     ]
    },
    {
     "name": "stdout",
     "output_type": "stream",
     "text": [
      "Generating instance 84...\n"
     ]
    },
    {
     "name": "stderr",
     "output_type": "stream",
     "text": [
      "sample: 100%|██████████| 15000/15000 [00:06<00:00, 2202.29it/s, 7 steps of size 4.46e-01. acc. prob=0.94] \n"
     ]
    },
    {
     "name": "stdout",
     "output_type": "stream",
     "text": [
      "Generating instance 85...\n"
     ]
    },
    {
     "name": "stderr",
     "output_type": "stream",
     "text": [
      "sample: 100%|██████████| 15000/15000 [00:04<00:00, 3259.72it/s, 7 steps of size 4.94e-01. acc. prob=0.93] \n"
     ]
    },
    {
     "name": "stdout",
     "output_type": "stream",
     "text": [
      "Generating instance 86...\n"
     ]
    },
    {
     "name": "stderr",
     "output_type": "stream",
     "text": [
      "sample: 100%|██████████| 15000/15000 [00:04<00:00, 3224.97it/s, 7 steps of size 4.20e-01. acc. prob=0.94] \n"
     ]
    },
    {
     "name": "stdout",
     "output_type": "stream",
     "text": [
      "Generating instance 87...\n"
     ]
    },
    {
     "name": "stderr",
     "output_type": "stream",
     "text": [
      "sample: 100%|██████████| 15000/15000 [00:04<00:00, 3246.92it/s, 7 steps of size 4.22e-01. acc. prob=0.93] \n"
     ]
    },
    {
     "name": "stdout",
     "output_type": "stream",
     "text": [
      "Generating instance 88...\n"
     ]
    },
    {
     "name": "stderr",
     "output_type": "stream",
     "text": [
      "sample: 100%|██████████| 15000/15000 [00:04<00:00, 3139.72it/s, 15 steps of size 3.52e-01. acc. prob=0.95]\n"
     ]
    },
    {
     "name": "stdout",
     "output_type": "stream",
     "text": [
      "Generating instance 89...\n"
     ]
    },
    {
     "name": "stderr",
     "output_type": "stream",
     "text": [
      "sample: 100%|██████████| 15000/15000 [00:04<00:00, 3310.25it/s, 7 steps of size 7.08e-01. acc. prob=0.91]\n"
     ]
    },
    {
     "name": "stdout",
     "output_type": "stream",
     "text": [
      "Generating instance 90...\n"
     ]
    },
    {
     "name": "stderr",
     "output_type": "stream",
     "text": [
      "sample: 100%|██████████| 15000/15000 [00:04<00:00, 3230.96it/s, 7 steps of size 5.39e-01. acc. prob=0.89]\n"
     ]
    },
    {
     "name": "stdout",
     "output_type": "stream",
     "text": [
      "Generating instance 91...\n"
     ]
    },
    {
     "name": "stderr",
     "output_type": "stream",
     "text": [
      "sample: 100%|██████████| 15000/15000 [00:06<00:00, 2445.21it/s, 7 steps of size 4.84e-01. acc. prob=0.92] \n"
     ]
    },
    {
     "name": "stdout",
     "output_type": "stream",
     "text": [
      "Generating instance 92...\n"
     ]
    },
    {
     "name": "stderr",
     "output_type": "stream",
     "text": [
      "sample: 100%|██████████| 15000/15000 [00:05<00:00, 2687.25it/s, 7 steps of size 4.65e-01. acc. prob=0.93] \n"
     ]
    },
    {
     "name": "stdout",
     "output_type": "stream",
     "text": [
      "Generating instance 93...\n"
     ]
    },
    {
     "name": "stderr",
     "output_type": "stream",
     "text": [
      "sample: 100%|██████████| 15000/15000 [00:05<00:00, 2775.24it/s, 7 steps of size 3.92e-01. acc. prob=0.94] \n"
     ]
    },
    {
     "name": "stdout",
     "output_type": "stream",
     "text": [
      "Generating instance 94...\n"
     ]
    },
    {
     "name": "stderr",
     "output_type": "stream",
     "text": [
      "sample: 100%|██████████| 15000/15000 [00:04<00:00, 3285.07it/s, 7 steps of size 4.61e-01. acc. prob=0.93]\n"
     ]
    },
    {
     "name": "stdout",
     "output_type": "stream",
     "text": [
      "Generating instance 95...\n"
     ]
    },
    {
     "name": "stderr",
     "output_type": "stream",
     "text": [
      "sample: 100%|██████████| 15000/15000 [00:04<00:00, 3297.45it/s, 7 steps of size 4.61e-01. acc. prob=0.94] \n"
     ]
    },
    {
     "name": "stdout",
     "output_type": "stream",
     "text": [
      "Generating instance 96...\n"
     ]
    },
    {
     "name": "stderr",
     "output_type": "stream",
     "text": [
      "sample: 100%|██████████| 15000/15000 [00:04<00:00, 3231.16it/s, 7 steps of size 4.63e-01. acc. prob=0.93] \n"
     ]
    },
    {
     "name": "stdout",
     "output_type": "stream",
     "text": [
      "Generating instance 97...\n"
     ]
    },
    {
     "name": "stderr",
     "output_type": "stream",
     "text": [
      "sample: 100%|██████████| 15000/15000 [00:04<00:00, 3275.42it/s, 7 steps of size 4.21e-01. acc. prob=0.94] \n"
     ]
    },
    {
     "name": "stdout",
     "output_type": "stream",
     "text": [
      "Generating instance 98...\n"
     ]
    },
    {
     "name": "stderr",
     "output_type": "stream",
     "text": [
      "sample: 100%|██████████| 15000/15000 [00:05<00:00, 2826.17it/s, 15 steps of size 1.50e-01. acc. prob=0.94]\n"
     ]
    },
    {
     "name": "stdout",
     "output_type": "stream",
     "text": [
      "Generating instance 99...\n"
     ]
    },
    {
     "name": "stderr",
     "output_type": "stream",
     "text": [
      "sample: 100%|██████████| 15000/15000 [00:04<00:00, 3345.17it/s, 7 steps of size 6.56e-01. acc. prob=0.90]\n"
     ]
    },
    {
     "name": "stdout",
     "output_type": "stream",
     "text": [
      "Generating instance 100...\n"
     ]
    },
    {
     "name": "stderr",
     "output_type": "stream",
     "text": [
      "sample: 100%|██████████| 15000/15000 [00:04<00:00, 3301.35it/s, 7 steps of size 6.21e-01. acc. prob=0.87]\n"
     ]
    },
    {
     "name": "stdout",
     "output_type": "stream",
     "text": [
      "Working on varying Q_mu and Q_sigma...\n",
      "Generating instance 1...\n"
     ]
    },
    {
     "name": "stderr",
     "output_type": "stream",
     "text": [
      "sample: 100%|██████████| 15000/15000 [00:04<00:00, 3362.65it/s, 3 steps of size 8.26e-01. acc. prob=0.88]\n"
     ]
    },
    {
     "name": "stdout",
     "output_type": "stream",
     "text": [
      "Generating instance 2...\n"
     ]
    },
    {
     "name": "stderr",
     "output_type": "stream",
     "text": [
      "sample: 100%|██████████| 15000/15000 [00:04<00:00, 3297.77it/s, 7 steps of size 6.12e-01. acc. prob=0.91]\n"
     ]
    },
    {
     "name": "stdout",
     "output_type": "stream",
     "text": [
      "Generating instance 3...\n"
     ]
    },
    {
     "name": "stderr",
     "output_type": "stream",
     "text": [
      "sample: 100%|██████████| 15000/15000 [00:05<00:00, 2998.47it/s, 7 steps of size 2.60e-01. acc. prob=0.93] \n"
     ]
    },
    {
     "name": "stdout",
     "output_type": "stream",
     "text": [
      "Generating instance 4...\n"
     ]
    },
    {
     "name": "stderr",
     "output_type": "stream",
     "text": [
      "sample: 100%|██████████| 15000/15000 [01:00<00:00, 246.79it/s, 1023 steps of size 7.41e-07. acc. prob=0.83]\n"
     ]
    },
    {
     "name": "stdout",
     "output_type": "stream",
     "text": [
      "Generating instance 5...\n"
     ]
    },
    {
     "name": "stderr",
     "output_type": "stream",
     "text": [
      "sample: 100%|██████████| 15000/15000 [00:59<00:00, 253.54it/s, 1023 steps of size 6.87e-07. acc. prob=0.84]\n"
     ]
    },
    {
     "name": "stdout",
     "output_type": "stream",
     "text": [
      "Generating instance 6...\n"
     ]
    },
    {
     "name": "stderr",
     "output_type": "stream",
     "text": [
      "sample: 100%|██████████| 15000/15000 [00:58<00:00, 254.30it/s, 1023 steps of size 6.65e-07. acc. prob=0.84]\n"
     ]
    },
    {
     "name": "stdout",
     "output_type": "stream",
     "text": [
      "Generating instance 7...\n"
     ]
    },
    {
     "name": "stderr",
     "output_type": "stream",
     "text": [
      "sample: 100%|██████████| 15000/15000 [00:58<00:00, 254.41it/s, 1023 steps of size 6.01e-07. acc. prob=0.85]\n"
     ]
    },
    {
     "name": "stdout",
     "output_type": "stream",
     "text": [
      "Generating instance 8...\n"
     ]
    },
    {
     "name": "stderr",
     "output_type": "stream",
     "text": [
      "sample: 100%|██████████| 15000/15000 [00:59<00:00, 251.17it/s, 1023 steps of size 7.64e-08. acc. prob=0.79]\n"
     ]
    },
    {
     "name": "stdout",
     "output_type": "stream",
     "text": [
      "Generating instance 9...\n"
     ]
    },
    {
     "name": "stderr",
     "output_type": "stream",
     "text": [
      "sample: 100%|██████████| 15000/15000 [00:59<00:00, 250.24it/s, 1023 steps of size 1.80e-10. acc. prob=0.78]\n"
     ]
    },
    {
     "name": "stdout",
     "output_type": "stream",
     "text": [
      "Generating instance 10...\n"
     ]
    },
    {
     "name": "stderr",
     "output_type": "stream",
     "text": [
      "sample: 100%|██████████| 15000/15000 [00:59<00:00, 253.63it/s, 1023 steps of size 1.86e-09. acc. prob=0.90]\n"
     ]
    },
    {
     "name": "stdout",
     "output_type": "stream",
     "text": [
      "Generating instance 11...\n"
     ]
    },
    {
     "name": "stderr",
     "output_type": "stream",
     "text": [
      "sample: 100%|██████████| 15000/15000 [00:04<00:00, 3292.84it/s, 7 steps of size 7.05e-01. acc. prob=0.92]\n"
     ]
    },
    {
     "name": "stdout",
     "output_type": "stream",
     "text": [
      "Generating instance 12...\n"
     ]
    },
    {
     "name": "stderr",
     "output_type": "stream",
     "text": [
      "sample: 100%|██████████| 15000/15000 [00:04<00:00, 3370.58it/s, 7 steps of size 7.99e-01. acc. prob=0.89]\n"
     ]
    },
    {
     "name": "stdout",
     "output_type": "stream",
     "text": [
      "Generating instance 13...\n"
     ]
    },
    {
     "name": "stderr",
     "output_type": "stream",
     "text": [
      "sample: 100%|██████████| 15000/15000 [00:04<00:00, 3433.13it/s, 3 steps of size 8.09e-01. acc. prob=0.88]\n"
     ]
    },
    {
     "name": "stdout",
     "output_type": "stream",
     "text": [
      "Generating instance 14...\n"
     ]
    },
    {
     "name": "stderr",
     "output_type": "stream",
     "text": [
      "sample: 100%|██████████| 15000/15000 [00:04<00:00, 3368.12it/s, 7 steps of size 6.58e-01. acc. prob=0.89]\n"
     ]
    },
    {
     "name": "stdout",
     "output_type": "stream",
     "text": [
      "Generating instance 15...\n"
     ]
    },
    {
     "name": "stderr",
     "output_type": "stream",
     "text": [
      "sample: 100%|██████████| 15000/15000 [00:04<00:00, 3062.37it/s, 15 steps of size 2.24e-01. acc. prob=0.95]\n"
     ]
    },
    {
     "name": "stdout",
     "output_type": "stream",
     "text": [
      "Generating instance 16...\n"
     ]
    },
    {
     "name": "stderr",
     "output_type": "stream",
     "text": [
      "sample: 100%|██████████| 15000/15000 [00:59<00:00, 252.95it/s, 1023 steps of size 8.01e-07. acc. prob=0.83]\n"
     ]
    },
    {
     "name": "stdout",
     "output_type": "stream",
     "text": [
      "Generating instance 17...\n"
     ]
    },
    {
     "name": "stderr",
     "output_type": "stream",
     "text": [
      "sample: 100%|██████████| 15000/15000 [00:58<00:00, 254.78it/s, 1023 steps of size 7.05e-07. acc. prob=0.83]\n"
     ]
    },
    {
     "name": "stdout",
     "output_type": "stream",
     "text": [
      "Generating instance 18...\n"
     ]
    },
    {
     "name": "stderr",
     "output_type": "stream",
     "text": [
      "sample: 100%|██████████| 15000/15000 [00:59<00:00, 252.61it/s, 1023 steps of size 7.87e-07. acc. prob=0.79]\n"
     ]
    },
    {
     "name": "stdout",
     "output_type": "stream",
     "text": [
      "Generating instance 19...\n"
     ]
    },
    {
     "name": "stderr",
     "output_type": "stream",
     "text": [
      "sample: 100%|██████████| 15000/15000 [00:59<00:00, 250.99it/s, 1023 steps of size 1.81e-08. acc. prob=0.90]\n"
     ]
    },
    {
     "name": "stdout",
     "output_type": "stream",
     "text": [
      "Generating instance 20...\n"
     ]
    },
    {
     "name": "stderr",
     "output_type": "stream",
     "text": [
      "sample: 100%|██████████| 15000/15000 [00:59<00:00, 253.84it/s, 1023 steps of size 6.38e-08. acc. prob=0.79]\n"
     ]
    },
    {
     "name": "stdout",
     "output_type": "stream",
     "text": [
      "Generating instance 21...\n"
     ]
    },
    {
     "name": "stderr",
     "output_type": "stream",
     "text": [
      "sample: 100%|██████████| 15000/15000 [00:04<00:00, 3386.22it/s, 7 steps of size 7.10e-01. acc. prob=0.91]\n"
     ]
    },
    {
     "name": "stdout",
     "output_type": "stream",
     "text": [
      "Generating instance 22...\n"
     ]
    },
    {
     "name": "stderr",
     "output_type": "stream",
     "text": [
      "sample: 100%|██████████| 15000/15000 [00:04<00:00, 3389.48it/s, 7 steps of size 7.67e-01. acc. prob=0.90]\n"
     ]
    },
    {
     "name": "stdout",
     "output_type": "stream",
     "text": [
      "Generating instance 23...\n"
     ]
    },
    {
     "name": "stderr",
     "output_type": "stream",
     "text": [
      "sample: 100%|██████████| 15000/15000 [00:04<00:00, 3345.62it/s, 7 steps of size 7.97e-01. acc. prob=0.89]\n"
     ]
    },
    {
     "name": "stdout",
     "output_type": "stream",
     "text": [
      "Generating instance 24...\n"
     ]
    },
    {
     "name": "stderr",
     "output_type": "stream",
     "text": [
      "sample: 100%|██████████| 15000/15000 [00:04<00:00, 3395.37it/s, 7 steps of size 7.70e-01. acc. prob=0.90]\n"
     ]
    },
    {
     "name": "stdout",
     "output_type": "stream",
     "text": [
      "Generating instance 25...\n"
     ]
    },
    {
     "name": "stderr",
     "output_type": "stream",
     "text": [
      "sample: 100%|██████████| 15000/15000 [00:04<00:00, 3420.36it/s, 7 steps of size 7.63e-01. acc. prob=0.90]\n"
     ]
    },
    {
     "name": "stdout",
     "output_type": "stream",
     "text": [
      "Generating instance 26...\n"
     ]
    },
    {
     "name": "stderr",
     "output_type": "stream",
     "text": [
      "sample: 100%|██████████| 15000/15000 [00:04<00:00, 3281.49it/s, 7 steps of size 6.18e-01. acc. prob=0.91]\n"
     ]
    },
    {
     "name": "stdout",
     "output_type": "stream",
     "text": [
      "Generating instance 27...\n"
     ]
    },
    {
     "name": "stderr",
     "output_type": "stream",
     "text": [
      "sample: 100%|██████████| 15000/15000 [00:04<00:00, 3009.75it/s, 15 steps of size 2.76e-01. acc. prob=0.91]\n"
     ]
    },
    {
     "name": "stdout",
     "output_type": "stream",
     "text": [
      "Generating instance 28...\n"
     ]
    },
    {
     "name": "stderr",
     "output_type": "stream",
     "text": [
      "sample: 100%|██████████| 15000/15000 [01:01<00:00, 245.32it/s, 1023 steps of size 7.36e-07. acc. prob=0.83]\n"
     ]
    },
    {
     "name": "stdout",
     "output_type": "stream",
     "text": [
      "Generating instance 29...\n"
     ]
    },
    {
     "name": "stderr",
     "output_type": "stream",
     "text": [
      "sample: 100%|██████████| 15000/15000 [00:59<00:00, 251.50it/s, 1023 steps of size 6.95e-07. acc. prob=0.83]\n"
     ]
    },
    {
     "name": "stdout",
     "output_type": "stream",
     "text": [
      "Generating instance 30...\n"
     ]
    },
    {
     "name": "stderr",
     "output_type": "stream",
     "text": [
      "sample: 100%|██████████| 15000/15000 [00:58<00:00, 254.29it/s, 1023 steps of size 6.90e-07. acc. prob=0.83]\n"
     ]
    },
    {
     "name": "stdout",
     "output_type": "stream",
     "text": [
      "Generating instance 31...\n"
     ]
    },
    {
     "name": "stderr",
     "output_type": "stream",
     "text": [
      "sample: 100%|██████████| 15000/15000 [00:04<00:00, 3384.33it/s, 7 steps of size 7.51e-01. acc. prob=0.88]\n"
     ]
    },
    {
     "name": "stdout",
     "output_type": "stream",
     "text": [
      "Generating instance 32...\n"
     ]
    },
    {
     "name": "stderr",
     "output_type": "stream",
     "text": [
      "sample: 100%|██████████| 15000/15000 [00:04<00:00, 3317.63it/s, 7 steps of size 6.51e-01. acc. prob=0.87]\n"
     ]
    },
    {
     "name": "stdout",
     "output_type": "stream",
     "text": [
      "Generating instance 33...\n"
     ]
    },
    {
     "name": "stderr",
     "output_type": "stream",
     "text": [
      "sample: 100%|██████████| 15000/15000 [00:04<00:00, 3402.44it/s, 7 steps of size 6.91e-01. acc. prob=0.91]\n"
     ]
    },
    {
     "name": "stdout",
     "output_type": "stream",
     "text": [
      "Generating instance 34...\n"
     ]
    },
    {
     "name": "stderr",
     "output_type": "stream",
     "text": [
      "sample: 100%|██████████| 15000/15000 [00:04<00:00, 3371.40it/s, 7 steps of size 7.02e-01. acc. prob=0.92]\n"
     ]
    },
    {
     "name": "stdout",
     "output_type": "stream",
     "text": [
      "Generating instance 35...\n"
     ]
    },
    {
     "name": "stderr",
     "output_type": "stream",
     "text": [
      "sample: 100%|██████████| 15000/15000 [00:04<00:00, 3406.08it/s, 7 steps of size 7.85e-01. acc. prob=0.90]\n"
     ]
    },
    {
     "name": "stdout",
     "output_type": "stream",
     "text": [
      "Generating instance 36...\n"
     ]
    },
    {
     "name": "stderr",
     "output_type": "stream",
     "text": [
      "sample: 100%|██████████| 15000/15000 [00:04<00:00, 3388.51it/s, 7 steps of size 7.65e-01. acc. prob=0.90]\n"
     ]
    },
    {
     "name": "stdout",
     "output_type": "stream",
     "text": [
      "Generating instance 37...\n"
     ]
    },
    {
     "name": "stderr",
     "output_type": "stream",
     "text": [
      "sample: 100%|██████████| 15000/15000 [00:04<00:00, 3366.28it/s, 7 steps of size 7.58e-01. acc. prob=0.90]\n"
     ]
    },
    {
     "name": "stdout",
     "output_type": "stream",
     "text": [
      "Generating instance 38...\n"
     ]
    },
    {
     "name": "stderr",
     "output_type": "stream",
     "text": [
      "sample: 100%|██████████| 15000/15000 [00:04<00:00, 3252.75it/s, 7 steps of size 6.21e-01. acc. prob=0.91] \n"
     ]
    },
    {
     "name": "stdout",
     "output_type": "stream",
     "text": [
      "Generating instance 39...\n"
     ]
    },
    {
     "name": "stderr",
     "output_type": "stream",
     "text": [
      "sample: 100%|██████████| 15000/15000 [00:04<00:00, 3019.47it/s, 7 steps of size 2.53e-01. acc. prob=0.93] \n"
     ]
    },
    {
     "name": "stdout",
     "output_type": "stream",
     "text": [
      "Generating instance 40...\n"
     ]
    },
    {
     "name": "stderr",
     "output_type": "stream",
     "text": [
      "sample: 100%|██████████| 15000/15000 [01:00<00:00, 248.48it/s, 1023 steps of size 7.28e-07. acc. prob=0.83]\n"
     ]
    },
    {
     "name": "stdout",
     "output_type": "stream",
     "text": [
      "Generating instance 41...\n"
     ]
    },
    {
     "name": "stderr",
     "output_type": "stream",
     "text": [
      "sample: 100%|██████████| 15000/15000 [00:04<00:00, 3381.75it/s, 7 steps of size 7.73e-01. acc. prob=0.88]\n"
     ]
    },
    {
     "name": "stdout",
     "output_type": "stream",
     "text": [
      "Generating instance 42...\n"
     ]
    },
    {
     "name": "stderr",
     "output_type": "stream",
     "text": [
      "sample: 100%|██████████| 15000/15000 [00:04<00:00, 3372.57it/s, 7 steps of size 7.43e-01. acc. prob=0.89]\n"
     ]
    },
    {
     "name": "stdout",
     "output_type": "stream",
     "text": [
      "Generating instance 43...\n"
     ]
    },
    {
     "name": "stderr",
     "output_type": "stream",
     "text": [
      "sample: 100%|██████████| 15000/15000 [00:04<00:00, 3417.23it/s, 7 steps of size 7.21e-01. acc. prob=0.89]\n"
     ]
    },
    {
     "name": "stdout",
     "output_type": "stream",
     "text": [
      "Generating instance 44...\n"
     ]
    },
    {
     "name": "stderr",
     "output_type": "stream",
     "text": [
      "sample: 100%|██████████| 15000/15000 [00:04<00:00, 3334.49it/s, 7 steps of size 6.84e-01. acc. prob=0.87]\n"
     ]
    },
    {
     "name": "stdout",
     "output_type": "stream",
     "text": [
      "Generating instance 45...\n"
     ]
    },
    {
     "name": "stderr",
     "output_type": "stream",
     "text": [
      "sample: 100%|██████████| 15000/15000 [00:04<00:00, 3395.81it/s, 7 steps of size 6.73e-01. acc. prob=0.91]\n"
     ]
    },
    {
     "name": "stdout",
     "output_type": "stream",
     "text": [
      "Generating instance 46...\n"
     ]
    },
    {
     "name": "stderr",
     "output_type": "stream",
     "text": [
      "sample: 100%|██████████| 15000/15000 [00:04<00:00, 3425.86it/s, 7 steps of size 7.24e-01. acc. prob=0.91]\n"
     ]
    },
    {
     "name": "stdout",
     "output_type": "stream",
     "text": [
      "Generating instance 47...\n"
     ]
    },
    {
     "name": "stderr",
     "output_type": "stream",
     "text": [
      "sample: 100%|██████████| 15000/15000 [00:04<00:00, 3434.01it/s, 7 steps of size 8.01e-01. acc. prob=0.89]\n"
     ]
    },
    {
     "name": "stdout",
     "output_type": "stream",
     "text": [
      "Generating instance 48...\n"
     ]
    },
    {
     "name": "stderr",
     "output_type": "stream",
     "text": [
      "sample: 100%|██████████| 15000/15000 [00:04<00:00, 3431.36it/s, 3 steps of size 8.38e-01. acc. prob=0.88] \n"
     ]
    },
    {
     "name": "stdout",
     "output_type": "stream",
     "text": [
      "Generating instance 49...\n"
     ]
    },
    {
     "name": "stderr",
     "output_type": "stream",
     "text": [
      "sample: 100%|██████████| 15000/15000 [00:04<00:00, 3425.07it/s, 7 steps of size 7.64e-01. acc. prob=0.90]\n"
     ]
    },
    {
     "name": "stdout",
     "output_type": "stream",
     "text": [
      "Generating instance 50...\n"
     ]
    },
    {
     "name": "stderr",
     "output_type": "stream",
     "text": [
      "sample: 100%|██████████| 15000/15000 [00:04<00:00, 3327.40it/s, 7 steps of size 5.72e-01. acc. prob=0.92]\n"
     ]
    },
    {
     "name": "stdout",
     "output_type": "stream",
     "text": [
      "Generating instance 51...\n"
     ]
    },
    {
     "name": "stderr",
     "output_type": "stream",
     "text": [
      "sample: 100%|██████████| 15000/15000 [00:04<00:00, 3348.91it/s, 7 steps of size 7.02e-01. acc. prob=0.90]\n"
     ]
    },
    {
     "name": "stdout",
     "output_type": "stream",
     "text": [
      "Generating instance 52...\n"
     ]
    },
    {
     "name": "stderr",
     "output_type": "stream",
     "text": [
      "sample: 100%|██████████| 15000/15000 [00:04<00:00, 3374.73it/s, 7 steps of size 7.40e-01. acc. prob=0.89]\n"
     ]
    },
    {
     "name": "stdout",
     "output_type": "stream",
     "text": [
      "Generating instance 53...\n"
     ]
    },
    {
     "name": "stderr",
     "output_type": "stream",
     "text": [
      "sample: 100%|██████████| 15000/15000 [00:04<00:00, 3203.55it/s, 7 steps of size 7.09e-01. acc. prob=0.90]\n"
     ]
    },
    {
     "name": "stdout",
     "output_type": "stream",
     "text": [
      "Generating instance 54...\n"
     ]
    },
    {
     "name": "stderr",
     "output_type": "stream",
     "text": [
      "sample: 100%|██████████| 15000/15000 [00:04<00:00, 3450.26it/s, 7 steps of size 8.00e-01. acc. prob=0.88]\n"
     ]
    },
    {
     "name": "stdout",
     "output_type": "stream",
     "text": [
      "Generating instance 55...\n"
     ]
    },
    {
     "name": "stderr",
     "output_type": "stream",
     "text": [
      "sample: 100%|██████████| 15000/15000 [00:04<00:00, 3404.46it/s, 7 steps of size 7.34e-01. acc. prob=0.89]\n"
     ]
    },
    {
     "name": "stdout",
     "output_type": "stream",
     "text": [
      "Generating instance 56...\n"
     ]
    },
    {
     "name": "stderr",
     "output_type": "stream",
     "text": [
      "sample: 100%|██████████| 15000/15000 [00:04<00:00, 3376.18it/s, 7 steps of size 6.56e-01. acc. prob=0.88]\n"
     ]
    },
    {
     "name": "stdout",
     "output_type": "stream",
     "text": [
      "Generating instance 57...\n"
     ]
    },
    {
     "name": "stderr",
     "output_type": "stream",
     "text": [
      "sample: 100%|██████████| 15000/15000 [00:04<00:00, 3395.05it/s, 7 steps of size 5.65e-01. acc. prob=0.92]\n"
     ]
    },
    {
     "name": "stdout",
     "output_type": "stream",
     "text": [
      "Generating instance 58...\n"
     ]
    },
    {
     "name": "stderr",
     "output_type": "stream",
     "text": [
      "sample: 100%|██████████| 15000/15000 [00:04<00:00, 3410.69it/s, 7 steps of size 7.96e-01. acc. prob=0.89] \n"
     ]
    },
    {
     "name": "stdout",
     "output_type": "stream",
     "text": [
      "Generating instance 59...\n"
     ]
    },
    {
     "name": "stderr",
     "output_type": "stream",
     "text": [
      "sample: 100%|██████████| 15000/15000 [00:04<00:00, 3390.42it/s, 7 steps of size 8.28e-01. acc. prob=0.88]\n"
     ]
    },
    {
     "name": "stdout",
     "output_type": "stream",
     "text": [
      "Generating instance 60...\n"
     ]
    },
    {
     "name": "stderr",
     "output_type": "stream",
     "text": [
      "sample: 100%|██████████| 15000/15000 [00:04<00:00, 3448.38it/s, 7 steps of size 7.73e-01. acc. prob=0.90]\n"
     ]
    },
    {
     "name": "stdout",
     "output_type": "stream",
     "text": [
      "Generating instance 61...\n"
     ]
    },
    {
     "name": "stderr",
     "output_type": "stream",
     "text": [
      "sample: 100%|██████████| 15000/15000 [00:04<00:00, 3464.83it/s, 7 steps of size 7.50e-01. acc. prob=0.89]\n"
     ]
    },
    {
     "name": "stdout",
     "output_type": "stream",
     "text": [
      "Generating instance 62...\n"
     ]
    },
    {
     "name": "stderr",
     "output_type": "stream",
     "text": [
      "sample: 100%|██████████| 15000/15000 [00:04<00:00, 3474.01it/s, 7 steps of size 7.66e-01. acc. prob=0.89]\n"
     ]
    },
    {
     "name": "stdout",
     "output_type": "stream",
     "text": [
      "Generating instance 63...\n"
     ]
    },
    {
     "name": "stderr",
     "output_type": "stream",
     "text": [
      "sample: 100%|██████████| 15000/15000 [00:04<00:00, 3483.19it/s, 7 steps of size 7.37e-01. acc. prob=0.90]\n"
     ]
    },
    {
     "name": "stdout",
     "output_type": "stream",
     "text": [
      "Generating instance 64...\n"
     ]
    },
    {
     "name": "stderr",
     "output_type": "stream",
     "text": [
      "sample: 100%|██████████| 15000/15000 [00:04<00:00, 3468.62it/s, 7 steps of size 7.77e-01. acc. prob=0.89]\n"
     ]
    },
    {
     "name": "stdout",
     "output_type": "stream",
     "text": [
      "Generating instance 65...\n"
     ]
    },
    {
     "name": "stderr",
     "output_type": "stream",
     "text": [
      "sample: 100%|██████████| 15000/15000 [00:04<00:00, 3484.16it/s, 7 steps of size 7.24e-01. acc. prob=0.90]\n"
     ]
    },
    {
     "name": "stdout",
     "output_type": "stream",
     "text": [
      "Generating instance 66...\n"
     ]
    },
    {
     "name": "stderr",
     "output_type": "stream",
     "text": [
      "sample: 100%|██████████| 15000/15000 [00:04<00:00, 3426.43it/s, 7 steps of size 7.57e-01. acc. prob=0.89]\n"
     ]
    },
    {
     "name": "stdout",
     "output_type": "stream",
     "text": [
      "Generating instance 67...\n"
     ]
    },
    {
     "name": "stderr",
     "output_type": "stream",
     "text": [
      "sample: 100%|██████████| 15000/15000 [00:04<00:00, 3436.55it/s, 7 steps of size 7.31e-01. acc. prob=0.89]\n"
     ]
    },
    {
     "name": "stdout",
     "output_type": "stream",
     "text": [
      "Generating instance 68...\n"
     ]
    },
    {
     "name": "stderr",
     "output_type": "stream",
     "text": [
      "sample: 100%|██████████| 15000/15000 [00:04<00:00, 3448.68it/s, 3 steps of size 8.44e-01. acc. prob=0.85]\n"
     ]
    },
    {
     "name": "stdout",
     "output_type": "stream",
     "text": [
      "Generating instance 69...\n"
     ]
    },
    {
     "name": "stderr",
     "output_type": "stream",
     "text": [
      "sample: 100%|██████████| 15000/15000 [00:21<00:00, 697.51it/s, 127 steps of size 2.14e-02. acc. prob=0.79] \n"
     ]
    },
    {
     "name": "stdout",
     "output_type": "stream",
     "text": [
      "Generating instance 70...\n"
     ]
    },
    {
     "name": "stderr",
     "output_type": "stream",
     "text": [
      "sample: 100%|██████████| 15000/15000 [00:04<00:00, 3535.18it/s, 7 steps of size 8.69e-01. acc. prob=0.86] \n"
     ]
    },
    {
     "name": "stdout",
     "output_type": "stream",
     "text": [
      "Generating instance 71...\n"
     ]
    },
    {
     "name": "stderr",
     "output_type": "stream",
     "text": [
      "sample: 100%|██████████| 15000/15000 [00:04<00:00, 3483.80it/s, 7 steps of size 7.65e-01. acc. prob=0.89]\n"
     ]
    },
    {
     "name": "stdout",
     "output_type": "stream",
     "text": [
      "Generating instance 72...\n"
     ]
    },
    {
     "name": "stderr",
     "output_type": "stream",
     "text": [
      "sample: 100%|██████████| 15000/15000 [00:04<00:00, 3468.58it/s, 3 steps of size 8.38e-01. acc. prob=0.87]\n"
     ]
    },
    {
     "name": "stdout",
     "output_type": "stream",
     "text": [
      "Generating instance 73...\n"
     ]
    },
    {
     "name": "stderr",
     "output_type": "stream",
     "text": [
      "sample: 100%|██████████| 15000/15000 [00:04<00:00, 3489.55it/s, 7 steps of size 7.66e-01. acc. prob=0.89]\n"
     ]
    },
    {
     "name": "stdout",
     "output_type": "stream",
     "text": [
      "Generating instance 74...\n"
     ]
    },
    {
     "name": "stderr",
     "output_type": "stream",
     "text": [
      "sample: 100%|██████████| 15000/15000 [00:04<00:00, 3470.71it/s, 7 steps of size 7.32e-01. acc. prob=0.90]\n"
     ]
    },
    {
     "name": "stdout",
     "output_type": "stream",
     "text": [
      "Generating instance 75...\n"
     ]
    },
    {
     "name": "stderr",
     "output_type": "stream",
     "text": [
      "sample: 100%|██████████| 15000/15000 [00:04<00:00, 3468.91it/s, 7 steps of size 7.34e-01. acc. prob=0.90]\n"
     ]
    },
    {
     "name": "stdout",
     "output_type": "stream",
     "text": [
      "Generating instance 76...\n"
     ]
    },
    {
     "name": "stderr",
     "output_type": "stream",
     "text": [
      "sample: 100%|██████████| 15000/15000 [00:04<00:00, 3382.39it/s, 7 steps of size 7.37e-01. acc. prob=0.90]\n"
     ]
    },
    {
     "name": "stdout",
     "output_type": "stream",
     "text": [
      "Generating instance 77...\n"
     ]
    },
    {
     "name": "stderr",
     "output_type": "stream",
     "text": [
      "sample: 100%|██████████| 15000/15000 [00:04<00:00, 3477.18it/s, 7 steps of size 7.73e-01. acc. prob=0.89]\n"
     ]
    },
    {
     "name": "stdout",
     "output_type": "stream",
     "text": [
      "Generating instance 78...\n"
     ]
    },
    {
     "name": "stderr",
     "output_type": "stream",
     "text": [
      "sample: 100%|██████████| 15000/15000 [00:04<00:00, 3488.79it/s, 7 steps of size 7.53e-01. acc. prob=0.89]\n"
     ]
    },
    {
     "name": "stdout",
     "output_type": "stream",
     "text": [
      "Generating instance 79...\n"
     ]
    },
    {
     "name": "stderr",
     "output_type": "stream",
     "text": [
      "sample: 100%|██████████| 15000/15000 [00:04<00:00, 3474.31it/s, 7 steps of size 7.48e-01. acc. prob=0.89]\n"
     ]
    },
    {
     "name": "stdout",
     "output_type": "stream",
     "text": [
      "Generating instance 80...\n"
     ]
    },
    {
     "name": "stderr",
     "output_type": "stream",
     "text": [
      "sample: 100%|██████████| 15000/15000 [00:04<00:00, 3428.16it/s, 7 steps of size 5.92e-01. acc. prob=0.91]\n"
     ]
    },
    {
     "name": "stdout",
     "output_type": "stream",
     "text": [
      "Generating instance 81...\n"
     ]
    },
    {
     "name": "stderr",
     "output_type": "stream",
     "text": [
      "sample: 100%|██████████| 15000/15000 [00:04<00:00, 3436.41it/s, 7 steps of size 7.81e-01. acc. prob=0.88]\n"
     ]
    },
    {
     "name": "stdout",
     "output_type": "stream",
     "text": [
      "Generating instance 82...\n"
     ]
    },
    {
     "name": "stderr",
     "output_type": "stream",
     "text": [
      "sample: 100%|██████████| 15000/15000 [00:04<00:00, 3413.95it/s, 7 steps of size 7.15e-01. acc. prob=0.90]\n"
     ]
    },
    {
     "name": "stdout",
     "output_type": "stream",
     "text": [
      "Generating instance 83...\n"
     ]
    },
    {
     "name": "stderr",
     "output_type": "stream",
     "text": [
      "sample: 100%|██████████| 15000/15000 [00:04<00:00, 3470.68it/s, 7 steps of size 7.70e-01. acc. prob=0.89]\n"
     ]
    },
    {
     "name": "stdout",
     "output_type": "stream",
     "text": [
      "Generating instance 84...\n"
     ]
    },
    {
     "name": "stderr",
     "output_type": "stream",
     "text": [
      "sample: 100%|██████████| 15000/15000 [00:04<00:00, 3427.50it/s, 7 steps of size 7.98e-01. acc. prob=0.88]\n"
     ]
    },
    {
     "name": "stdout",
     "output_type": "stream",
     "text": [
      "Generating instance 85...\n"
     ]
    },
    {
     "name": "stderr",
     "output_type": "stream",
     "text": [
      "sample: 100%|██████████| 15000/15000 [00:04<00:00, 3463.82it/s, 7 steps of size 7.74e-01. acc. prob=0.89]\n"
     ]
    },
    {
     "name": "stdout",
     "output_type": "stream",
     "text": [
      "Generating instance 86...\n"
     ]
    },
    {
     "name": "stderr",
     "output_type": "stream",
     "text": [
      "sample: 100%|██████████| 15000/15000 [00:04<00:00, 3438.01it/s, 7 steps of size 7.12e-01. acc. prob=0.90]\n"
     ]
    },
    {
     "name": "stdout",
     "output_type": "stream",
     "text": [
      "Generating instance 87...\n"
     ]
    },
    {
     "name": "stderr",
     "output_type": "stream",
     "text": [
      "sample: 100%|██████████| 15000/15000 [00:04<00:00, 3481.01it/s, 7 steps of size 7.24e-01. acc. prob=0.90]\n"
     ]
    },
    {
     "name": "stdout",
     "output_type": "stream",
     "text": [
      "Generating instance 88...\n"
     ]
    },
    {
     "name": "stderr",
     "output_type": "stream",
     "text": [
      "sample: 100%|██████████| 15000/15000 [00:04<00:00, 3474.19it/s, 7 steps of size 7.62e-01. acc. prob=0.89]\n"
     ]
    },
    {
     "name": "stdout",
     "output_type": "stream",
     "text": [
      "Generating instance 89...\n"
     ]
    },
    {
     "name": "stderr",
     "output_type": "stream",
     "text": [
      "sample: 100%|██████████| 15000/15000 [00:04<00:00, 3464.32it/s, 3 steps of size 8.37e-01. acc. prob=0.87] \n"
     ]
    },
    {
     "name": "stdout",
     "output_type": "stream",
     "text": [
      "Generating instance 90...\n"
     ]
    },
    {
     "name": "stderr",
     "output_type": "stream",
     "text": [
      "sample: 100%|██████████| 15000/15000 [00:04<00:00, 3278.15it/s, 7 steps of size 7.81e-01. acc. prob=0.88]\n"
     ]
    },
    {
     "name": "stdout",
     "output_type": "stream",
     "text": [
      "Generating instance 91...\n"
     ]
    },
    {
     "name": "stderr",
     "output_type": "stream",
     "text": [
      "sample: 100%|██████████| 15000/15000 [00:04<00:00, 3412.47it/s, 7 steps of size 7.33e-01. acc. prob=0.90]\n"
     ]
    },
    {
     "name": "stdout",
     "output_type": "stream",
     "text": [
      "Generating instance 92...\n"
     ]
    },
    {
     "name": "stderr",
     "output_type": "stream",
     "text": [
      "sample: 100%|██████████| 15000/15000 [00:04<00:00, 3378.83it/s, 7 steps of size 7.82e-01. acc. prob=0.88]\n"
     ]
    },
    {
     "name": "stdout",
     "output_type": "stream",
     "text": [
      "Generating instance 93...\n"
     ]
    },
    {
     "name": "stderr",
     "output_type": "stream",
     "text": [
      "sample: 100%|██████████| 15000/15000 [00:04<00:00, 3411.35it/s, 7 steps of size 7.41e-01. acc. prob=0.89]\n"
     ]
    },
    {
     "name": "stdout",
     "output_type": "stream",
     "text": [
      "Generating instance 94...\n"
     ]
    },
    {
     "name": "stderr",
     "output_type": "stream",
     "text": [
      "sample: 100%|██████████| 15000/15000 [00:04<00:00, 3454.58it/s, 7 steps of size 6.85e-01. acc. prob=0.91]\n"
     ]
    },
    {
     "name": "stdout",
     "output_type": "stream",
     "text": [
      "Generating instance 95...\n"
     ]
    },
    {
     "name": "stderr",
     "output_type": "stream",
     "text": [
      "sample: 100%|██████████| 15000/15000 [00:04<00:00, 3456.66it/s, 7 steps of size 7.07e-01. acc. prob=0.90]\n"
     ]
    },
    {
     "name": "stdout",
     "output_type": "stream",
     "text": [
      "Generating instance 96...\n"
     ]
    },
    {
     "name": "stderr",
     "output_type": "stream",
     "text": [
      "sample: 100%|██████████| 15000/15000 [00:04<00:00, 3455.24it/s, 7 steps of size 7.79e-01. acc. prob=0.89]\n"
     ]
    },
    {
     "name": "stdout",
     "output_type": "stream",
     "text": [
      "Generating instance 97...\n"
     ]
    },
    {
     "name": "stderr",
     "output_type": "stream",
     "text": [
      "sample: 100%|██████████| 15000/15000 [00:04<00:00, 3443.18it/s, 7 steps of size 6.90e-01. acc. prob=0.91]\n"
     ]
    },
    {
     "name": "stdout",
     "output_type": "stream",
     "text": [
      "Generating instance 98...\n"
     ]
    },
    {
     "name": "stderr",
     "output_type": "stream",
     "text": [
      "sample: 100%|██████████| 15000/15000 [00:04<00:00, 3463.83it/s, 7 steps of size 7.54e-01. acc. prob=0.89]\n"
     ]
    },
    {
     "name": "stdout",
     "output_type": "stream",
     "text": [
      "Generating instance 99...\n"
     ]
    },
    {
     "name": "stderr",
     "output_type": "stream",
     "text": [
      "sample: 100%|██████████| 15000/15000 [00:04<00:00, 3478.61it/s, 7 steps of size 7.81e-01. acc. prob=0.89]\n"
     ]
    },
    {
     "name": "stdout",
     "output_type": "stream",
     "text": [
      "Generating instance 100...\n"
     ]
    },
    {
     "name": "stderr",
     "output_type": "stream",
     "text": [
      "sample: 100%|██████████| 15000/15000 [00:04<00:00, 3421.53it/s, 7 steps of size 7.42e-01. acc. prob=0.90]\n"
     ]
    },
    {
     "name": "stdout",
     "output_type": "stream",
     "text": [
      "Working on varying sigma_mu and sigma_sigma...\n",
      "Generating instance 1...\n"
     ]
    },
    {
     "name": "stderr",
     "output_type": "stream",
     "text": [
      "sample: 100%|██████████| 15000/15000 [00:57<00:00, 262.22it/s, 1023 steps of size 4.45e-04. acc. prob=0.79]\n"
     ]
    },
    {
     "name": "stdout",
     "output_type": "stream",
     "text": [
      "Generating instance 2...\n"
     ]
    },
    {
     "name": "stderr",
     "output_type": "stream",
     "text": [
      "sample: 100%|██████████| 15000/15000 [00:54<00:00, 274.35it/s, 511 steps of size 1.49e-03. acc. prob=0.81] \n"
     ]
    },
    {
     "name": "stdout",
     "output_type": "stream",
     "text": [
      "Generating instance 3...\n"
     ]
    },
    {
     "name": "stderr",
     "output_type": "stream",
     "text": [
      "sample: 100%|██████████| 15000/15000 [00:18<00:00, 790.84it/s, 127 steps of size 1.16e-02. acc. prob=0.79] \n"
     ]
    },
    {
     "name": "stdout",
     "output_type": "stream",
     "text": [
      "Generating instance 4...\n"
     ]
    },
    {
     "name": "stderr",
     "output_type": "stream",
     "text": [
      "sample: 100%|██████████| 15000/15000 [00:57<00:00, 258.84it/s, 1023 steps of size 3.08e-04. acc. prob=0.83]\n"
     ]
    },
    {
     "name": "stdout",
     "output_type": "stream",
     "text": [
      "Generating instance 5...\n"
     ]
    },
    {
     "name": "stderr",
     "output_type": "stream",
     "text": [
      "sample: 100%|██████████| 15000/15000 [00:58<00:00, 255.40it/s, 1023 steps of size 8.14e-07. acc. prob=0.82]\n"
     ]
    },
    {
     "name": "stdout",
     "output_type": "stream",
     "text": [
      "Generating instance 6...\n"
     ]
    },
    {
     "name": "stderr",
     "output_type": "stream",
     "text": [
      "sample: 100%|██████████| 15000/15000 [00:58<00:00, 257.14it/s, 1023 steps of size 7.11e-07. acc. prob=0.83]\n"
     ]
    },
    {
     "name": "stdout",
     "output_type": "stream",
     "text": [
      "Generating instance 7...\n"
     ]
    },
    {
     "name": "stderr",
     "output_type": "stream",
     "text": [
      "sample: 100%|██████████| 15000/15000 [01:00<00:00, 247.71it/s, 1023 steps of size 7.30e-07. acc. prob=0.82]\n"
     ]
    },
    {
     "name": "stdout",
     "output_type": "stream",
     "text": [
      "Generating instance 8...\n"
     ]
    },
    {
     "name": "stderr",
     "output_type": "stream",
     "text": [
      "sample: 100%|██████████| 15000/15000 [00:59<00:00, 251.29it/s, 1023 steps of size 3.42e-08. acc. prob=0.83]\n"
     ]
    },
    {
     "name": "stdout",
     "output_type": "stream",
     "text": [
      "Generating instance 9...\n"
     ]
    },
    {
     "name": "stderr",
     "output_type": "stream",
     "text": [
      "sample: 100%|██████████| 15000/15000 [00:58<00:00, 254.98it/s, 1023 steps of size 4.55e-07. acc. prob=0.83]\n"
     ]
    },
    {
     "name": "stdout",
     "output_type": "stream",
     "text": [
      "Generating instance 10...\n"
     ]
    },
    {
     "name": "stderr",
     "output_type": "stream",
     "text": [
      "sample: 100%|██████████| 15000/15000 [00:59<00:00, 253.57it/s, 1023 steps of size 2.36e-09. acc. prob=0.83]\n"
     ]
    },
    {
     "name": "stdout",
     "output_type": "stream",
     "text": [
      "Generating instance 11...\n"
     ]
    },
    {
     "name": "stderr",
     "output_type": "stream",
     "text": [
      "sample: 100%|██████████| 15000/15000 [00:05<00:00, 2669.43it/s, 7 steps of size 6.81e-01. acc. prob=0.89]\n"
     ]
    },
    {
     "name": "stdout",
     "output_type": "stream",
     "text": [
      "Generating instance 12...\n"
     ]
    },
    {
     "name": "stderr",
     "output_type": "stream",
     "text": [
      "sample: 100%|██████████| 15000/15000 [00:04<00:00, 3212.41it/s, 7 steps of size 6.03e-01. acc. prob=0.83]\n"
     ]
    },
    {
     "name": "stdout",
     "output_type": "stream",
     "text": [
      "Generating instance 13...\n"
     ]
    },
    {
     "name": "stderr",
     "output_type": "stream",
     "text": [
      "sample: 100%|██████████| 15000/15000 [00:05<00:00, 2631.92it/s, 15 steps of size 2.47e-01. acc. prob=0.80]\n"
     ]
    },
    {
     "name": "stdout",
     "output_type": "stream",
     "text": [
      "Generating instance 14...\n"
     ]
    },
    {
     "name": "stderr",
     "output_type": "stream",
     "text": [
      "sample: 100%|██████████| 15000/15000 [00:05<00:00, 2813.39it/s, 15 steps of size 2.73e-01. acc. prob=0.82] \n"
     ]
    },
    {
     "name": "stdout",
     "output_type": "stream",
     "text": [
      "Generating instance 15...\n"
     ]
    },
    {
     "name": "stderr",
     "output_type": "stream",
     "text": [
      "sample: 100%|██████████| 15000/15000 [00:04<00:00, 3269.93it/s, 7 steps of size 6.25e-01. acc. prob=0.90]\n"
     ]
    },
    {
     "name": "stdout",
     "output_type": "stream",
     "text": [
      "Generating instance 16...\n"
     ]
    },
    {
     "name": "stderr",
     "output_type": "stream",
     "text": [
      "sample: 100%|██████████| 15000/15000 [00:04<00:00, 3034.46it/s, 7 steps of size 2.44e-01. acc. prob=0.94] \n"
     ]
    },
    {
     "name": "stdout",
     "output_type": "stream",
     "text": [
      "Generating instance 17...\n"
     ]
    },
    {
     "name": "stderr",
     "output_type": "stream",
     "text": [
      "sample: 100%|██████████| 15000/15000 [00:06<00:00, 2428.17it/s, 3 steps of size 8.82e-02. acc. prob=0.92] \n"
     ]
    },
    {
     "name": "stdout",
     "output_type": "stream",
     "text": [
      "Generating instance 18...\n"
     ]
    },
    {
     "name": "stderr",
     "output_type": "stream",
     "text": [
      "sample: 100%|██████████| 15000/15000 [00:58<00:00, 254.44it/s, 1023 steps of size 7.34e-07. acc. prob=0.82]\n"
     ]
    },
    {
     "name": "stdout",
     "output_type": "stream",
     "text": [
      "Generating instance 19...\n"
     ]
    },
    {
     "name": "stderr",
     "output_type": "stream",
     "text": [
      "sample: 100%|██████████| 15000/15000 [00:58<00:00, 255.27it/s, 1023 steps of size 7.08e-07. acc. prob=0.83]\n"
     ]
    },
    {
     "name": "stdout",
     "output_type": "stream",
     "text": [
      "Generating instance 20...\n"
     ]
    },
    {
     "name": "stderr",
     "output_type": "stream",
     "text": [
      "sample: 100%|██████████| 15000/15000 [00:59<00:00, 254.05it/s, 1023 steps of size 7.33e-07. acc. prob=0.82]\n"
     ]
    },
    {
     "name": "stdout",
     "output_type": "stream",
     "text": [
      "Generating instance 21...\n"
     ]
    },
    {
     "name": "stderr",
     "output_type": "stream",
     "text": [
      "sample: 100%|██████████| 15000/15000 [00:04<00:00, 3456.13it/s, 7 steps of size 7.71e-01. acc. prob=0.89]\n"
     ]
    },
    {
     "name": "stdout",
     "output_type": "stream",
     "text": [
      "Generating instance 22...\n"
     ]
    },
    {
     "name": "stderr",
     "output_type": "stream",
     "text": [
      "sample: 100%|██████████| 15000/15000 [00:04<00:00, 3271.86it/s, 7 steps of size 7.11e-01. acc. prob=0.90]\n"
     ]
    },
    {
     "name": "stdout",
     "output_type": "stream",
     "text": [
      "Generating instance 23...\n"
     ]
    },
    {
     "name": "stderr",
     "output_type": "stream",
     "text": [
      "sample: 100%|██████████| 15000/15000 [00:04<00:00, 3441.15it/s, 3 steps of size 9.01e-01. acc. prob=0.84]\n"
     ]
    },
    {
     "name": "stdout",
     "output_type": "stream",
     "text": [
      "Generating instance 24...\n"
     ]
    },
    {
     "name": "stderr",
     "output_type": "stream",
     "text": [
      "sample: 100%|██████████| 15000/15000 [00:04<00:00, 3358.12it/s, 7 steps of size 7.54e-01. acc. prob=0.86]\n"
     ]
    },
    {
     "name": "stdout",
     "output_type": "stream",
     "text": [
      "Generating instance 25...\n"
     ]
    },
    {
     "name": "stderr",
     "output_type": "stream",
     "text": [
      "sample: 100%|██████████| 15000/15000 [00:04<00:00, 3419.28it/s, 7 steps of size 8.17e-01. acc. prob=0.88]\n"
     ]
    },
    {
     "name": "stdout",
     "output_type": "stream",
     "text": [
      "Generating instance 26...\n"
     ]
    },
    {
     "name": "stderr",
     "output_type": "stream",
     "text": [
      "sample: 100%|██████████| 15000/15000 [00:04<00:00, 3446.94it/s, 3 steps of size 8.37e-01. acc. prob=0.88] \n"
     ]
    },
    {
     "name": "stdout",
     "output_type": "stream",
     "text": [
      "Generating instance 27...\n"
     ]
    },
    {
     "name": "stderr",
     "output_type": "stream",
     "text": [
      "sample: 100%|██████████| 15000/15000 [00:04<00:00, 3307.06it/s, 7 steps of size 6.30e-01. acc. prob=0.90]\n"
     ]
    },
    {
     "name": "stdout",
     "output_type": "stream",
     "text": [
      "Generating instance 28...\n"
     ]
    },
    {
     "name": "stderr",
     "output_type": "stream",
     "text": [
      "sample: 100%|██████████| 15000/15000 [00:05<00:00, 2982.25it/s, 7 steps of size 2.82e-01. acc. prob=0.91] \n"
     ]
    },
    {
     "name": "stdout",
     "output_type": "stream",
     "text": [
      "Generating instance 29...\n"
     ]
    },
    {
     "name": "stderr",
     "output_type": "stream",
     "text": [
      "sample: 100%|██████████| 15000/15000 [00:06<00:00, 2327.16it/s, 11 steps of size 8.16e-02. acc. prob=0.94]\n"
     ]
    },
    {
     "name": "stdout",
     "output_type": "stream",
     "text": [
      "Generating instance 30...\n"
     ]
    },
    {
     "name": "stderr",
     "output_type": "stream",
     "text": [
      "sample: 100%|██████████| 15000/15000 [01:01<00:00, 245.18it/s, 1023 steps of size 7.12e-07. acc. prob=0.83]\n"
     ]
    },
    {
     "name": "stdout",
     "output_type": "stream",
     "text": [
      "Generating instance 31...\n"
     ]
    },
    {
     "name": "stderr",
     "output_type": "stream",
     "text": [
      "sample: 100%|██████████| 15000/15000 [00:04<00:00, 3362.65it/s, 7 steps of size 6.93e-01. acc. prob=0.91]\n"
     ]
    },
    {
     "name": "stdout",
     "output_type": "stream",
     "text": [
      "Generating instance 32...\n"
     ]
    },
    {
     "name": "stderr",
     "output_type": "stream",
     "text": [
      "sample: 100%|██████████| 15000/15000 [00:04<00:00, 3338.40it/s, 7 steps of size 6.72e-01. acc. prob=0.91]\n"
     ]
    },
    {
     "name": "stdout",
     "output_type": "stream",
     "text": [
      "Generating instance 33...\n"
     ]
    },
    {
     "name": "stderr",
     "output_type": "stream",
     "text": [
      "sample: 100%|██████████| 15000/15000 [00:04<00:00, 3329.30it/s, 7 steps of size 7.99e-01. acc. prob=0.88]\n"
     ]
    },
    {
     "name": "stdout",
     "output_type": "stream",
     "text": [
      "Generating instance 34...\n"
     ]
    },
    {
     "name": "stderr",
     "output_type": "stream",
     "text": [
      "sample: 100%|██████████| 15000/15000 [00:04<00:00, 3371.81it/s, 7 steps of size 6.85e-01. acc. prob=0.91]\n"
     ]
    },
    {
     "name": "stdout",
     "output_type": "stream",
     "text": [
      "Generating instance 35...\n"
     ]
    },
    {
     "name": "stderr",
     "output_type": "stream",
     "text": [
      "sample: 100%|██████████| 15000/15000 [00:04<00:00, 3423.86it/s, 3 steps of size 8.25e-01. acc. prob=0.87]\n"
     ]
    },
    {
     "name": "stdout",
     "output_type": "stream",
     "text": [
      "Generating instance 36...\n"
     ]
    },
    {
     "name": "stderr",
     "output_type": "stream",
     "text": [
      "sample: 100%|██████████| 15000/15000 [00:04<00:00, 3450.93it/s, 7 steps of size 7.98e-01. acc. prob=0.89]\n"
     ]
    },
    {
     "name": "stdout",
     "output_type": "stream",
     "text": [
      "Generating instance 37...\n"
     ]
    },
    {
     "name": "stderr",
     "output_type": "stream",
     "text": [
      "sample: 100%|██████████| 15000/15000 [00:04<00:00, 3414.38it/s, 3 steps of size 8.25e-01. acc. prob=0.89]\n"
     ]
    },
    {
     "name": "stdout",
     "output_type": "stream",
     "text": [
      "Generating instance 38...\n"
     ]
    },
    {
     "name": "stderr",
     "output_type": "stream",
     "text": [
      "sample: 100%|██████████| 15000/15000 [00:04<00:00, 3462.70it/s, 3 steps of size 8.17e-01. acc. prob=0.88] \n"
     ]
    },
    {
     "name": "stdout",
     "output_type": "stream",
     "text": [
      "Generating instance 39...\n"
     ]
    },
    {
     "name": "stderr",
     "output_type": "stream",
     "text": [
      "sample: 100%|██████████| 15000/15000 [00:04<00:00, 3335.12it/s, 7 steps of size 6.71e-01. acc. prob=0.89]\n"
     ]
    },
    {
     "name": "stdout",
     "output_type": "stream",
     "text": [
      "Generating instance 40...\n"
     ]
    },
    {
     "name": "stderr",
     "output_type": "stream",
     "text": [
      "sample: 100%|██████████| 15000/15000 [00:04<00:00, 3097.54it/s, 7 steps of size 2.83e-01. acc. prob=0.91] \n"
     ]
    },
    {
     "name": "stdout",
     "output_type": "stream",
     "text": [
      "Generating instance 41...\n"
     ]
    },
    {
     "name": "stderr",
     "output_type": "stream",
     "text": [
      "sample: 100%|██████████| 15000/15000 [00:04<00:00, 3233.83it/s, 7 steps of size 7.54e-01. acc. prob=0.89]\n"
     ]
    },
    {
     "name": "stdout",
     "output_type": "stream",
     "text": [
      "Generating instance 42...\n"
     ]
    },
    {
     "name": "stderr",
     "output_type": "stream",
     "text": [
      "sample: 100%|██████████| 15000/15000 [00:04<00:00, 3387.04it/s, 3 steps of size 7.95e-01. acc. prob=0.88]\n"
     ]
    },
    {
     "name": "stdout",
     "output_type": "stream",
     "text": [
      "Generating instance 43...\n"
     ]
    },
    {
     "name": "stderr",
     "output_type": "stream",
     "text": [
      "sample: 100%|██████████| 15000/15000 [00:04<00:00, 3432.97it/s, 7 steps of size 7.80e-01. acc. prob=0.88]\n"
     ]
    },
    {
     "name": "stdout",
     "output_type": "stream",
     "text": [
      "Generating instance 44...\n"
     ]
    },
    {
     "name": "stderr",
     "output_type": "stream",
     "text": [
      "sample: 100%|██████████| 15000/15000 [00:04<00:00, 3333.98it/s, 7 steps of size 7.68e-01. acc. prob=0.89]\n"
     ]
    },
    {
     "name": "stdout",
     "output_type": "stream",
     "text": [
      "Generating instance 45...\n"
     ]
    },
    {
     "name": "stderr",
     "output_type": "stream",
     "text": [
      "sample: 100%|██████████| 15000/15000 [00:04<00:00, 3406.32it/s, 7 steps of size 7.38e-01. acc. prob=0.89]\n"
     ]
    },
    {
     "name": "stdout",
     "output_type": "stream",
     "text": [
      "Generating instance 46...\n"
     ]
    },
    {
     "name": "stderr",
     "output_type": "stream",
     "text": [
      "sample: 100%|██████████| 15000/15000 [00:04<00:00, 3350.84it/s, 7 steps of size 7.60e-01. acc. prob=0.89]\n"
     ]
    },
    {
     "name": "stdout",
     "output_type": "stream",
     "text": [
      "Generating instance 47...\n"
     ]
    },
    {
     "name": "stderr",
     "output_type": "stream",
     "text": [
      "sample: 100%|██████████| 15000/15000 [00:04<00:00, 3363.54it/s, 7 steps of size 7.68e-01. acc. prob=0.90]\n"
     ]
    },
    {
     "name": "stdout",
     "output_type": "stream",
     "text": [
      "Generating instance 48...\n"
     ]
    },
    {
     "name": "stderr",
     "output_type": "stream",
     "text": [
      "sample: 100%|██████████| 15000/15000 [00:04<00:00, 3295.73it/s, 7 steps of size 7.83e-01. acc. prob=0.90]\n"
     ]
    },
    {
     "name": "stdout",
     "output_type": "stream",
     "text": [
      "Generating instance 49...\n"
     ]
    },
    {
     "name": "stderr",
     "output_type": "stream",
     "text": [
      "sample: 100%|██████████| 15000/15000 [00:04<00:00, 3252.20it/s, 7 steps of size 7.47e-01. acc. prob=0.91]\n"
     ]
    },
    {
     "name": "stdout",
     "output_type": "stream",
     "text": [
      "Generating instance 50...\n"
     ]
    },
    {
     "name": "stderr",
     "output_type": "stream",
     "text": [
      "sample: 100%|██████████| 15000/15000 [00:04<00:00, 3354.80it/s, 3 steps of size 8.02e-01. acc. prob=0.89]\n"
     ]
    },
    {
     "name": "stdout",
     "output_type": "stream",
     "text": [
      "Generating instance 51...\n"
     ]
    },
    {
     "name": "stderr",
     "output_type": "stream",
     "text": [
      "sample: 100%|██████████| 15000/15000 [00:04<00:00, 3315.13it/s, 3 steps of size 8.43e-01. acc. prob=0.87] \n"
     ]
    },
    {
     "name": "stdout",
     "output_type": "stream",
     "text": [
      "Generating instance 52...\n"
     ]
    },
    {
     "name": "stderr",
     "output_type": "stream",
     "text": [
      "sample: 100%|██████████| 15000/15000 [00:04<00:00, 3313.49it/s, 7 steps of size 8.04e-01. acc. prob=0.88]\n"
     ]
    },
    {
     "name": "stdout",
     "output_type": "stream",
     "text": [
      "Generating instance 53...\n"
     ]
    },
    {
     "name": "stderr",
     "output_type": "stream",
     "text": [
      "sample: 100%|██████████| 15000/15000 [00:04<00:00, 3319.65it/s, 7 steps of size 7.37e-01. acc. prob=0.90]\n"
     ]
    },
    {
     "name": "stdout",
     "output_type": "stream",
     "text": [
      "Generating instance 54...\n"
     ]
    },
    {
     "name": "stderr",
     "output_type": "stream",
     "text": [
      "sample: 100%|██████████| 15000/15000 [00:04<00:00, 3407.01it/s, 7 steps of size 7.73e-01. acc. prob=0.88]\n"
     ]
    },
    {
     "name": "stdout",
     "output_type": "stream",
     "text": [
      "Generating instance 55...\n"
     ]
    },
    {
     "name": "stderr",
     "output_type": "stream",
     "text": [
      "sample: 100%|██████████| 15000/15000 [00:04<00:00, 3277.10it/s, 7 steps of size 7.61e-01. acc. prob=0.89]\n"
     ]
    },
    {
     "name": "stdout",
     "output_type": "stream",
     "text": [
      "Generating instance 56...\n"
     ]
    },
    {
     "name": "stderr",
     "output_type": "stream",
     "text": [
      "sample: 100%|██████████| 15000/15000 [00:04<00:00, 3257.42it/s, 7 steps of size 7.21e-01. acc. prob=0.90]\n"
     ]
    },
    {
     "name": "stdout",
     "output_type": "stream",
     "text": [
      "Generating instance 57...\n"
     ]
    },
    {
     "name": "stderr",
     "output_type": "stream",
     "text": [
      "sample: 100%|██████████| 15000/15000 [00:04<00:00, 3318.90it/s, 3 steps of size 8.68e-01. acc. prob=0.86]\n"
     ]
    },
    {
     "name": "stdout",
     "output_type": "stream",
     "text": [
      "Generating instance 58...\n"
     ]
    },
    {
     "name": "stderr",
     "output_type": "stream",
     "text": [
      "sample: 100%|██████████| 15000/15000 [00:04<00:00, 3287.22it/s, 7 steps of size 7.74e-01. acc. prob=0.89]\n"
     ]
    },
    {
     "name": "stdout",
     "output_type": "stream",
     "text": [
      "Generating instance 59...\n"
     ]
    },
    {
     "name": "stderr",
     "output_type": "stream",
     "text": [
      "sample: 100%|██████████| 15000/15000 [00:04<00:00, 3329.58it/s, 7 steps of size 6.52e-01. acc. prob=0.92]\n"
     ]
    },
    {
     "name": "stdout",
     "output_type": "stream",
     "text": [
      "Generating instance 60...\n"
     ]
    },
    {
     "name": "stderr",
     "output_type": "stream",
     "text": [
      "sample: 100%|██████████| 15000/15000 [00:04<00:00, 3355.49it/s, 7 steps of size 7.50e-01. acc. prob=0.91]\n"
     ]
    },
    {
     "name": "stdout",
     "output_type": "stream",
     "text": [
      "Generating instance 61...\n"
     ]
    },
    {
     "name": "stderr",
     "output_type": "stream",
     "text": [
      "sample: 100%|██████████| 15000/15000 [00:04<00:00, 3343.08it/s, 7 steps of size 7.28e-01. acc. prob=0.90]\n"
     ]
    },
    {
     "name": "stdout",
     "output_type": "stream",
     "text": [
      "Generating instance 62...\n"
     ]
    },
    {
     "name": "stderr",
     "output_type": "stream",
     "text": [
      "sample: 100%|██████████| 15000/15000 [00:04<00:00, 3364.11it/s, 7 steps of size 7.58e-01. acc. prob=0.89]\n"
     ]
    },
    {
     "name": "stdout",
     "output_type": "stream",
     "text": [
      "Generating instance 63...\n"
     ]
    },
    {
     "name": "stderr",
     "output_type": "stream",
     "text": [
      "sample: 100%|██████████| 15000/15000 [00:04<00:00, 3372.57it/s, 7 steps of size 7.22e-01. acc. prob=0.90]\n"
     ]
    },
    {
     "name": "stdout",
     "output_type": "stream",
     "text": [
      "Generating instance 64...\n"
     ]
    },
    {
     "name": "stderr",
     "output_type": "stream",
     "text": [
      "sample: 100%|██████████| 15000/15000 [00:04<00:00, 3313.05it/s, 7 steps of size 7.42e-01. acc. prob=0.89]\n"
     ]
    },
    {
     "name": "stdout",
     "output_type": "stream",
     "text": [
      "Generating instance 65...\n"
     ]
    },
    {
     "name": "stderr",
     "output_type": "stream",
     "text": [
      "sample: 100%|██████████| 15000/15000 [00:04<00:00, 3379.45it/s, 7 steps of size 8.22e-01. acc. prob=0.87]\n"
     ]
    },
    {
     "name": "stdout",
     "output_type": "stream",
     "text": [
      "Generating instance 66...\n"
     ]
    },
    {
     "name": "stderr",
     "output_type": "stream",
     "text": [
      "sample: 100%|██████████| 15000/15000 [00:04<00:00, 3400.21it/s, 7 steps of size 7.56e-01. acc. prob=0.89]\n"
     ]
    },
    {
     "name": "stdout",
     "output_type": "stream",
     "text": [
      "Generating instance 67...\n"
     ]
    },
    {
     "name": "stderr",
     "output_type": "stream",
     "text": [
      "sample: 100%|██████████| 15000/15000 [00:04<00:00, 3317.07it/s, 7 steps of size 7.36e-01. acc. prob=0.90]\n"
     ]
    },
    {
     "name": "stdout",
     "output_type": "stream",
     "text": [
      "Generating instance 68...\n"
     ]
    },
    {
     "name": "stderr",
     "output_type": "stream",
     "text": [
      "sample: 100%|██████████| 15000/15000 [00:04<00:00, 3355.36it/s, 7 steps of size 7.49e-01. acc. prob=0.89]\n"
     ]
    },
    {
     "name": "stdout",
     "output_type": "stream",
     "text": [
      "Generating instance 69...\n"
     ]
    },
    {
     "name": "stderr",
     "output_type": "stream",
     "text": [
      "sample: 100%|██████████| 15000/15000 [00:04<00:00, 3409.33it/s, 7 steps of size 7.31e-01. acc. prob=0.90]\n"
     ]
    },
    {
     "name": "stdout",
     "output_type": "stream",
     "text": [
      "Generating instance 70...\n"
     ]
    },
    {
     "name": "stderr",
     "output_type": "stream",
     "text": [
      "sample: 100%|██████████| 15000/15000 [00:04<00:00, 3369.13it/s, 7 steps of size 7.49e-01. acc. prob=0.89]\n"
     ]
    },
    {
     "name": "stdout",
     "output_type": "stream",
     "text": [
      "Generating instance 71...\n"
     ]
    },
    {
     "name": "stderr",
     "output_type": "stream",
     "text": [
      "sample: 100%|██████████| 15000/15000 [00:04<00:00, 3380.98it/s, 7 steps of size 7.37e-01. acc. prob=0.90]\n"
     ]
    },
    {
     "name": "stdout",
     "output_type": "stream",
     "text": [
      "Generating instance 72...\n"
     ]
    },
    {
     "name": "stderr",
     "output_type": "stream",
     "text": [
      "sample: 100%|██████████| 15000/15000 [00:05<00:00, 2907.01it/s, 7 steps of size 7.50e-01. acc. prob=0.89]\n"
     ]
    },
    {
     "name": "stdout",
     "output_type": "stream",
     "text": [
      "Generating instance 73...\n"
     ]
    },
    {
     "name": "stderr",
     "output_type": "stream",
     "text": [
      "sample: 100%|██████████| 15000/15000 [00:04<00:00, 3355.41it/s, 7 steps of size 7.79e-01. acc. prob=0.89]\n"
     ]
    },
    {
     "name": "stdout",
     "output_type": "stream",
     "text": [
      "Generating instance 74...\n"
     ]
    },
    {
     "name": "stderr",
     "output_type": "stream",
     "text": [
      "sample: 100%|██████████| 15000/15000 [00:04<00:00, 3350.66it/s, 7 steps of size 7.62e-01. acc. prob=0.89]\n"
     ]
    },
    {
     "name": "stdout",
     "output_type": "stream",
     "text": [
      "Generating instance 75...\n"
     ]
    },
    {
     "name": "stderr",
     "output_type": "stream",
     "text": [
      "sample: 100%|██████████| 15000/15000 [00:04<00:00, 3340.24it/s, 7 steps of size 7.59e-01. acc. prob=0.89]\n"
     ]
    },
    {
     "name": "stdout",
     "output_type": "stream",
     "text": [
      "Generating instance 76...\n"
     ]
    },
    {
     "name": "stderr",
     "output_type": "stream",
     "text": [
      "sample: 100%|██████████| 15000/15000 [00:05<00:00, 2929.44it/s, 7 steps of size 7.11e-01. acc. prob=0.90]\n"
     ]
    },
    {
     "name": "stdout",
     "output_type": "stream",
     "text": [
      "Generating instance 77...\n"
     ]
    },
    {
     "name": "stderr",
     "output_type": "stream",
     "text": [
      "sample: 100%|██████████| 15000/15000 [00:04<00:00, 3308.65it/s, 3 steps of size 8.66e-01. acc. prob=0.86]\n"
     ]
    },
    {
     "name": "stdout",
     "output_type": "stream",
     "text": [
      "Generating instance 78...\n"
     ]
    },
    {
     "name": "stderr",
     "output_type": "stream",
     "text": [
      "sample: 100%|██████████| 15000/15000 [00:04<00:00, 3363.25it/s, 7 steps of size 7.71e-01. acc. prob=0.89]\n"
     ]
    },
    {
     "name": "stdout",
     "output_type": "stream",
     "text": [
      "Generating instance 79...\n"
     ]
    },
    {
     "name": "stderr",
     "output_type": "stream",
     "text": [
      "sample: 100%|██████████| 15000/15000 [00:04<00:00, 3329.93it/s, 7 steps of size 7.59e-01. acc. prob=0.89]\n"
     ]
    },
    {
     "name": "stdout",
     "output_type": "stream",
     "text": [
      "Generating instance 80...\n"
     ]
    },
    {
     "name": "stderr",
     "output_type": "stream",
     "text": [
      "sample: 100%|██████████| 15000/15000 [00:04<00:00, 3365.09it/s, 7 steps of size 7.73e-01. acc. prob=0.89]\n"
     ]
    },
    {
     "name": "stdout",
     "output_type": "stream",
     "text": [
      "Generating instance 81...\n"
     ]
    },
    {
     "name": "stderr",
     "output_type": "stream",
     "text": [
      "sample: 100%|██████████| 15000/15000 [00:04<00:00, 3399.20it/s, 7 steps of size 7.85e-01. acc. prob=0.89]\n"
     ]
    },
    {
     "name": "stdout",
     "output_type": "stream",
     "text": [
      "Generating instance 82...\n"
     ]
    },
    {
     "name": "stderr",
     "output_type": "stream",
     "text": [
      "sample: 100%|██████████| 15000/15000 [00:04<00:00, 3152.00it/s, 7 steps of size 7.10e-01. acc. prob=0.90]\n"
     ]
    },
    {
     "name": "stdout",
     "output_type": "stream",
     "text": [
      "Generating instance 83...\n"
     ]
    },
    {
     "name": "stderr",
     "output_type": "stream",
     "text": [
      "sample: 100%|██████████| 15000/15000 [00:04<00:00, 3118.53it/s, 7 steps of size 7.12e-01. acc. prob=0.90]\n"
     ]
    },
    {
     "name": "stdout",
     "output_type": "stream",
     "text": [
      "Generating instance 84...\n"
     ]
    },
    {
     "name": "stderr",
     "output_type": "stream",
     "text": [
      "sample: 100%|██████████| 15000/15000 [00:04<00:00, 3199.25it/s, 7 steps of size 7.08e-01. acc. prob=0.90]\n"
     ]
    },
    {
     "name": "stdout",
     "output_type": "stream",
     "text": [
      "Generating instance 85...\n"
     ]
    },
    {
     "name": "stderr",
     "output_type": "stream",
     "text": [
      "sample: 100%|██████████| 15000/15000 [00:04<00:00, 3230.61it/s, 7 steps of size 7.44e-01. acc. prob=0.89]\n"
     ]
    },
    {
     "name": "stdout",
     "output_type": "stream",
     "text": [
      "Generating instance 86...\n"
     ]
    },
    {
     "name": "stderr",
     "output_type": "stream",
     "text": [
      "sample: 100%|██████████| 15000/15000 [00:04<00:00, 3072.08it/s, 7 steps of size 7.65e-01. acc. prob=0.89]\n"
     ]
    },
    {
     "name": "stdout",
     "output_type": "stream",
     "text": [
      "Generating instance 87...\n"
     ]
    },
    {
     "name": "stderr",
     "output_type": "stream",
     "text": [
      "sample: 100%|██████████| 15000/15000 [00:07<00:00, 2045.88it/s, 7 steps of size 7.69e-01. acc. prob=0.89]\n"
     ]
    },
    {
     "name": "stdout",
     "output_type": "stream",
     "text": [
      "Generating instance 88...\n"
     ]
    },
    {
     "name": "stderr",
     "output_type": "stream",
     "text": [
      "sample: 100%|██████████| 15000/15000 [00:04<00:00, 3332.33it/s, 7 steps of size 6.94e-01. acc. prob=0.91]\n"
     ]
    },
    {
     "name": "stdout",
     "output_type": "stream",
     "text": [
      "Generating instance 89...\n"
     ]
    },
    {
     "name": "stderr",
     "output_type": "stream",
     "text": [
      "sample: 100%|██████████| 15000/15000 [00:04<00:00, 3330.45it/s, 7 steps of size 7.77e-01. acc. prob=0.89]\n"
     ]
    },
    {
     "name": "stdout",
     "output_type": "stream",
     "text": [
      "Generating instance 90...\n"
     ]
    },
    {
     "name": "stderr",
     "output_type": "stream",
     "text": [
      "sample: 100%|██████████| 15000/15000 [00:04<00:00, 3333.77it/s, 7 steps of size 7.18e-01. acc. prob=0.90]\n"
     ]
    },
    {
     "name": "stdout",
     "output_type": "stream",
     "text": [
      "Generating instance 91...\n"
     ]
    },
    {
     "name": "stderr",
     "output_type": "stream",
     "text": [
      "sample: 100%|██████████| 15000/15000 [00:04<00:00, 3224.70it/s, 7 steps of size 7.45e-01. acc. prob=0.89]\n"
     ]
    },
    {
     "name": "stdout",
     "output_type": "stream",
     "text": [
      "Generating instance 92...\n"
     ]
    },
    {
     "name": "stderr",
     "output_type": "stream",
     "text": [
      "sample: 100%|██████████| 15000/15000 [00:04<00:00, 3379.65it/s, 7 steps of size 7.24e-01. acc. prob=0.90]\n"
     ]
    },
    {
     "name": "stdout",
     "output_type": "stream",
     "text": [
      "Generating instance 93...\n"
     ]
    },
    {
     "name": "stderr",
     "output_type": "stream",
     "text": [
      "sample: 100%|██████████| 15000/15000 [00:04<00:00, 3331.82it/s, 7 steps of size 7.19e-01. acc. prob=0.90]\n"
     ]
    },
    {
     "name": "stdout",
     "output_type": "stream",
     "text": [
      "Generating instance 94...\n"
     ]
    },
    {
     "name": "stderr",
     "output_type": "stream",
     "text": [
      "sample: 100%|██████████| 15000/15000 [00:04<00:00, 3369.06it/s, 7 steps of size 7.47e-01. acc. prob=0.89]\n"
     ]
    },
    {
     "name": "stdout",
     "output_type": "stream",
     "text": [
      "Generating instance 95...\n"
     ]
    },
    {
     "name": "stderr",
     "output_type": "stream",
     "text": [
      "sample: 100%|██████████| 15000/15000 [00:04<00:00, 3312.67it/s, 7 steps of size 7.19e-01. acc. prob=0.90]\n"
     ]
    },
    {
     "name": "stdout",
     "output_type": "stream",
     "text": [
      "Generating instance 96...\n"
     ]
    },
    {
     "name": "stderr",
     "output_type": "stream",
     "text": [
      "sample: 100%|██████████| 15000/15000 [00:04<00:00, 3225.68it/s, 7 steps of size 7.22e-01. acc. prob=0.90]\n"
     ]
    },
    {
     "name": "stdout",
     "output_type": "stream",
     "text": [
      "Generating instance 97...\n"
     ]
    },
    {
     "name": "stderr",
     "output_type": "stream",
     "text": [
      "sample: 100%|██████████| 15000/15000 [00:04<00:00, 3290.90it/s, 7 steps of size 7.48e-01. acc. prob=0.89]\n"
     ]
    },
    {
     "name": "stdout",
     "output_type": "stream",
     "text": [
      "Generating instance 98...\n"
     ]
    },
    {
     "name": "stderr",
     "output_type": "stream",
     "text": [
      "sample: 100%|██████████| 15000/15000 [00:04<00:00, 3357.64it/s, 7 steps of size 7.71e-01. acc. prob=0.89]\n"
     ]
    },
    {
     "name": "stdout",
     "output_type": "stream",
     "text": [
      "Generating instance 99...\n"
     ]
    },
    {
     "name": "stderr",
     "output_type": "stream",
     "text": [
      "sample: 100%|██████████| 15000/15000 [00:04<00:00, 3329.11it/s, 7 steps of size 7.49e-01. acc. prob=0.89]\n"
     ]
    },
    {
     "name": "stdout",
     "output_type": "stream",
     "text": [
      "Generating instance 100...\n"
     ]
    },
    {
     "name": "stderr",
     "output_type": "stream",
     "text": [
      "sample: 100%|██████████| 15000/15000 [00:04<00:00, 3302.24it/s, 7 steps of size 7.18e-01. acc. prob=0.90]\n"
     ]
    }
   ],
   "source": [
    "generator = Generator(results_name=results_name, \n",
    "                  data_params=data_params,\n",
    "                  default_params=default_params)\n",
    "\n",
    "analysis_iterations = {\n",
    "    'parameters_1': ['I_y_and_I_z_mu_0','I_y_and_I_z_mu_1','Q_mu','sigma_mu'],\n",
    "    'parameters_2': ['I_y_and_I_z_cov_0_0','I_y_and_I_z_cov_1_1','Q_sigma','sigma_sigma'],\n",
    "    'values_1':\n",
    "    [\n",
    "        np.array([1e-4, 1e-3, 1e-2, 1e-1, 1e0, 1e1, 1e2, 1e3, 1e4, 1e5]),\n",
    "        np.array([1e-4, 1e-3, 1e-2, 1e-1, 1e0, 1e1, 1e2, 1e3, 1e4, 1e5]),\n",
    "        np.array([1e9, 1e10, 1e11, 1e12, 1e13, 1e14, 1e15, 1e16, 1e17, 1e18]),\n",
    "        np.array([1e-4, 1e-3, 1e-2, 1e-1, 1e0, 1e1, 1e2, 1e3, 1e4, 1e5])     \n",
    "    ],\n",
    "\n",
    "    'values_2':\n",
    "    [\n",
    "        np.array([1e-4, 1e-3, 1e-2, 1e-1, 1e0, 1e1, 1e2, 1e3, 1e4, 1e5]),\n",
    "        np.array([1e-4, 1e-3, 1e-2, 1e-1, 1e0, 1e1, 1e2, 1e3, 1e4, 1e5]),\n",
    "        np.array([1e2, 1e3, 1e4, 1e5, 1e6, 1e7, 1e8, 1e9, 1e10, 1e11]),\n",
    "        np.array([1e-4, 1e-3, 1e-2, 1e-1, 1e0, 1e1, 1e2, 1e3, 1e4, 1e5]) \n",
    "    ],\n",
    "    'scales_1': ['log','log', 'log', 'log'],\n",
    "    'scales_2': ['log','log', 'log', 'log'],\n",
    "}\n",
    "\n",
    "for i in range(len(analysis_iterations['parameters_1'])):\n",
    "    parameter_1 = analysis_iterations['parameters_1'][i]\n",
    "    parameter_2 = analysis_iterations['parameters_2'][i]\n",
    "\n",
    "    print('Working on varying ' + parameter_1 + ' and ' + parameter_2 + '...')\n",
    "    values_1 = analysis_iterations['values_1'][i]\n",
    "    values_2 = analysis_iterations['values_2'][i]\n",
    "\n",
    "    scale_1 = analysis_iterations['scales_1'][i]\n",
    "    scale_2 = analysis_iterations['scales_2'][i]\n",
    "\n",
    "    inputs = generator.vary_two_parameters(parameter_1, parameter_2, values_1, values_2, scale_1=scale_1, scale_2=scale_2, plot=True)"
   ]
  },
  {
   "attachments": {},
   "cell_type": "markdown",
   "metadata": {},
   "source": [
    "Optimising the hyperparameters for gamma prior simulated data"
   ]
  },
  {
   "cell_type": "code",
   "execution_count": 7,
   "metadata": {},
   "outputs": [
    {
     "name": "stderr",
     "output_type": "stream",
     "text": [
      "[I 2024-01-08 05:23:24,361] A new study created in RDB with name: AIC_1\n",
      "sample: 100%|██████████| 15000/15000 [00:05<00:00, 2764.58it/s, 15 steps of size 1.64e-01. acc. prob=0.91]\n",
      "[I 2024-01-08 05:23:30,419] Trial 0 finished with value: 174.24124145507812 and parameters: {'I_y_and_I_z_mu_0': 1.5516479452733478, 'I_y_and_I_z_mu_1': 1.2748978430549713, 'I_y_and_I_z_cov_0_0': 1.1232970465859138, 'I_y_and_I_z_cov_1_1': 1.3254405162775942, 'Q_mu': 100397865350958.6, 'Q_sigma': 3771164.89061987, 'sigma_mu': 1.6733966843642332, 'sigma_sigma': 1.836339990406147}. Best is trial 0 with value: 174.24124145507812.\n",
      "sample: 100%|██████████| 15000/15000 [00:05<00:00, 2859.55it/s, 15 steps of size 1.63e-01. acc. prob=0.92]\n",
      "[I 2024-01-08 05:23:36,270] Trial 1 finished with value: 173.56138610839844 and parameters: {'I_y_and_I_z_mu_0': 1.4122691529802474, 'I_y_and_I_z_mu_1': 1.2451946542443642, 'I_y_and_I_z_cov_0_0': 0.6066955045799265, 'I_y_and_I_z_cov_1_1': 1.6396849482881888, 'Q_mu': 451814208712684.5, 'Q_sigma': 5995530.478651622, 'sigma_mu': 1.978818447194978, 'sigma_sigma': 1.067168672493652}. Best is trial 1 with value: 173.56138610839844.\n",
      "sample: 100%|██████████| 15000/15000 [00:05<00:00, 2721.89it/s, 15 steps of size 1.41e-01. acc. prob=0.94]\n",
      "[I 2024-01-08 05:23:42,379] Trial 2 finished with value: 174.1826171875 and parameters: {'I_y_and_I_z_mu_0': 0.3656375064955206, 'I_y_and_I_z_mu_1': 1.177065695566544, 'I_y_and_I_z_cov_0_0': 1.935201365928308, 'I_y_and_I_z_cov_1_1': 1.6045823620715147, 'Q_mu': 890258492508807.5, 'Q_sigma': 8996722.037701257, 'sigma_mu': 1.7296178434854257, 'sigma_sigma': 0.4229765588975608}. Best is trial 1 with value: 173.56138610839844.\n",
      "sample: 100%|██████████| 15000/15000 [00:05<00:00, 2784.19it/s, 31 steps of size 1.45e-01. acc. prob=0.91]\n",
      "[I 2024-01-08 05:23:48,402] Trial 3 finished with value: 173.25628662109375 and parameters: {'I_y_and_I_z_mu_0': 1.917207362816182, 'I_y_and_I_z_mu_1': 0.5428542671819376, 'I_y_and_I_z_cov_0_0': 1.1080032995200486, 'I_y_and_I_z_cov_1_1': 1.2330817792219764, 'Q_mu': 908831744255313.4, 'Q_sigma': 6827535.04117715, 'sigma_mu': 0.9550627305348365, 'sigma_sigma': 1.7191756312554425}. Best is trial 3 with value: 173.25628662109375.\n",
      "sample: 100%|██████████| 15000/15000 [00:04<00:00, 3008.12it/s, 15 steps of size 2.08e-01. acc. prob=0.94]\n",
      "[I 2024-01-08 05:23:54,024] Trial 4 finished with value: 174.1356964111328 and parameters: {'I_y_and_I_z_mu_0': 0.08692789923625266, 'I_y_and_I_z_mu_1': 1.160991111549822, 'I_y_and_I_z_cov_0_0': 0.8564072599072023, 'I_y_and_I_z_cov_1_1': 1.4832245858226711, 'Q_mu': 813073775967738.5, 'Q_sigma': 4618595.331280588, 'sigma_mu': 0.2951882796264893, 'sigma_sigma': 1.100793353761646}. Best is trial 3 with value: 173.25628662109375.\n",
      "sample: 100%|██████████| 15000/15000 [00:05<00:00, 2503.07it/s, 31 steps of size 1.01e-01. acc. prob=0.93]\n",
      "[I 2024-01-08 05:24:00,637] Trial 5 finished with value: 174.2362060546875 and parameters: {'I_y_and_I_z_mu_0': 1.6406936564481098, 'I_y_and_I_z_mu_1': 1.0666250070201662, 'I_y_and_I_z_cov_0_0': 1.772126728889901, 'I_y_and_I_z_cov_1_1': 0.9466016771394568, 'Q_mu': 188189537682503.38, 'Q_sigma': 9337806.170655852, 'sigma_mu': 0.8367663727420791, 'sigma_sigma': 1.5311959529098649}. Best is trial 3 with value: 173.25628662109375.\n",
      "sample: 100%|██████████| 15000/15000 [00:05<00:00, 2878.59it/s, 11 steps of size 1.86e-01. acc. prob=0.92]\n",
      "[I 2024-01-08 05:24:06,479] Trial 6 finished with value: 173.77987670898438 and parameters: {'I_y_and_I_z_mu_0': 1.2274448260715327, 'I_y_and_I_z_mu_1': 0.33513883284821605, 'I_y_and_I_z_cov_0_0': 0.9006585918038889, 'I_y_and_I_z_cov_1_1': 1.279268020322318, 'Q_mu': 339674132837988.4, 'Q_sigma': 4042675.269152569, 'sigma_mu': 1.5025383760886877, 'sigma_sigma': 1.4672259243053525}. Best is trial 3 with value: 173.25628662109375.\n",
      "sample: 100%|██████████| 15000/15000 [00:05<00:00, 2984.26it/s, 15 steps of size 1.87e-01. acc. prob=0.92]\n",
      "[I 2024-01-08 05:24:12,138] Trial 7 finished with value: 173.54222106933594 and parameters: {'I_y_and_I_z_mu_0': 1.1866459058353385, 'I_y_and_I_z_mu_1': 0.1378980801422042, 'I_y_and_I_z_cov_0_0': 0.9274052867921583, 'I_y_and_I_z_cov_1_1': 0.9163438864016265, 'Q_mu': 801614969890052.4, 'Q_sigma': 1235197.2487788706, 'sigma_mu': 1.8203847428113424, 'sigma_sigma': 1.6673254499288441}. Best is trial 3 with value: 173.25628662109375.\n",
      "sample: 100%|██████████| 15000/15000 [00:05<00:00, 2883.13it/s, 11 steps of size 1.81e-01. acc. prob=0.93]\n",
      "[I 2024-01-08 05:24:17,970] Trial 8 finished with value: 173.8682861328125 and parameters: {'I_y_and_I_z_mu_0': 0.9151306962726855, 'I_y_and_I_z_mu_1': 1.9563328009882366, 'I_y_and_I_z_cov_0_0': 1.1271683906211598, 'I_y_and_I_z_cov_1_1': 1.0511652357582753, 'Q_mu': 794301639893454.5, 'Q_sigma': 6522558.280057378, 'sigma_mu': 1.6250386944548152, 'sigma_sigma': 1.6959056757725113}. Best is trial 3 with value: 173.25628662109375.\n",
      "sample: 100%|██████████| 15000/15000 [00:05<00:00, 2776.96it/s, 11 steps of size 1.65e-01. acc. prob=0.93]\n",
      "[I 2024-01-08 05:24:23,999] Trial 9 finished with value: 173.55856323242188 and parameters: {'I_y_and_I_z_mu_0': 1.7651495973030809, 'I_y_and_I_z_mu_1': 0.13529597010585243, 'I_y_and_I_z_cov_0_0': 1.5819437647925891, 'I_y_and_I_z_cov_1_1': 0.3013250381589347, 'Q_mu': 848799504069743.8, 'Q_sigma': 5335944.258462965, 'sigma_mu': 1.5615363016664545, 'sigma_sigma': 1.875015421327396}. Best is trial 3 with value: 173.25628662109375.\n",
      "sample: 100%|██████████| 15000/15000 [00:05<00:00, 2521.71it/s, 31 steps of size 1.09e-01. acc. prob=0.95]\n",
      "[I 2024-01-08 05:24:30,576] Trial 10 finished with value: 172.9412384033203 and parameters: {'I_y_and_I_z_mu_0': 1.9886626563466872, 'I_y_and_I_z_mu_1': 0.5777519875388188, 'I_y_and_I_z_cov_0_0': 0.044713197089567114, 'I_y_and_I_z_cov_1_1': 1.8899854844991872, 'Q_mu': 620778454075764.0, 'Q_sigma': 7818553.073639136, 'sigma_mu': 1.0380424608220316, 'sigma_sigma': 1.9555363402567445}. Best is trial 10 with value: 172.9412384033203.\n",
      "sample: 100%|██████████| 15000/15000 [00:05<00:00, 2674.30it/s, 31 steps of size 1.27e-01. acc. prob=0.94]\n",
      "[I 2024-01-08 05:24:36,839] Trial 11 finished with value: 172.99087524414062 and parameters: {'I_y_and_I_z_mu_0': 1.938607346893755, 'I_y_and_I_z_mu_1': 0.6095637021010561, 'I_y_and_I_z_cov_0_0': 0.04246287939208098, 'I_y_and_I_z_cov_1_1': 1.9375671717662142, 'Q_mu': 615005265778045.8, 'Q_sigma': 7484444.8331013415, 'sigma_mu': 1.0449126876985804, 'sigma_sigma': 1.9900097297938633}. Best is trial 10 with value: 172.9412384033203.\n",
      "sample: 100%|██████████| 15000/15000 [00:05<00:00, 2565.00it/s, 15 steps of size 1.10e-01. acc. prob=0.93]\n",
      "[I 2024-01-08 05:24:43,331] Trial 12 finished with value: 172.7791748046875 and parameters: {'I_y_and_I_z_mu_0': 1.9925891943307072, 'I_y_and_I_z_mu_1': 0.7081170889436305, 'I_y_and_I_z_cov_0_0': 0.18634505912758592, 'I_y_and_I_z_cov_1_1': 1.9900528879276729, 'Q_mu': 634102592279079.9, 'Q_sigma': 8022350.5011680005, 'sigma_mu': 1.216577085629684, 'sigma_sigma': 1.9824654607199983}. Best is trial 12 with value: 172.7791748046875.\n",
      "sample: 100%|██████████| 15000/15000 [00:05<00:00, 2615.80it/s, 15 steps of size 1.20e-01. acc. prob=0.94]\n",
      "[I 2024-01-08 05:24:49,707] Trial 13 finished with value: 172.8931427001953 and parameters: {'I_y_and_I_z_mu_0': 1.9914004748927039, 'I_y_and_I_z_mu_1': 0.7672593808001713, 'I_y_and_I_z_cov_0_0': 0.025592572588782607, 'I_y_and_I_z_cov_1_1': 1.8881953808838543, 'Q_mu': 606932769622684.2, 'Q_sigma': 8096569.866940763, 'sigma_mu': 1.3019426474679336, 'sigma_sigma': 1.9412574632481907}. Best is trial 12 with value: 172.7791748046875.\n",
      "sample: 100%|██████████| 15000/15000 [00:05<00:00, 2753.71it/s, 31 steps of size 1.30e-01. acc. prob=0.93]\n",
      "[I 2024-01-08 05:24:55,803] Trial 14 finished with value: 173.21847534179688 and parameters: {'I_y_and_I_z_mu_0': 1.708024799873264, 'I_y_and_I_z_mu_1': 0.8187660621253231, 'I_y_and_I_z_cov_0_0': 0.3155219236969234, 'I_y_and_I_z_cov_1_1': 1.9994159017838904, 'Q_mu': 632638910180272.1, 'Q_sigma': 9908717.597146934, 'sigma_mu': 1.3176992108776453, 'sigma_sigma': 1.3969811240168433}. Best is trial 12 with value: 172.7791748046875.\n",
      "sample: 100%|██████████| 15000/15000 [00:05<00:00, 2670.92it/s, 31 steps of size 1.30e-01. acc. prob=0.94]\n",
      "[I 2024-01-08 05:25:02,071] Trial 15 finished with value: 173.50942993164062 and parameters: {'I_y_and_I_z_mu_0': 1.511496431622386, 'I_y_and_I_z_mu_1': 0.9429337180651498, 'I_y_and_I_z_cov_0_0': 0.4263080055625029, 'I_y_and_I_z_cov_1_1': 1.7630064865475352, 'Q_mu': 469193706957558.1, 'Q_sigma': 8443925.537204184, 'sigma_mu': 1.281087682364457, 'sigma_sigma': 1.9213036776241121}. Best is trial 12 with value: 172.7791748046875.\n",
      "sample: 100%|██████████| 15000/15000 [00:05<00:00, 2616.44it/s, 11 steps of size 1.04e-01. acc. prob=0.94]\n",
      "[I 2024-01-08 05:25:08,474] Trial 16 finished with value: 172.77786254882812 and parameters: {'I_y_and_I_z_mu_0': 1.9896221675997436, 'I_y_and_I_z_mu_1': 0.7785251046087928, 'I_y_and_I_z_cov_0_0': 0.22243245849199694, 'I_y_and_I_z_cov_1_1': 1.7470534413425831, 'Q_mu': 676876948365939.2, 'Q_sigma': 8194313.491207633, 'sigma_mu': 1.3082864424381337, 'sigma_sigma': 1.3041104638914485}. Best is trial 16 with value: 172.77786254882812.\n",
      "sample: 100%|██████████| 15000/15000 [00:05<00:00, 2598.54it/s, 31 steps of size 9.55e-02. acc. prob=0.94]\n",
      "[I 2024-01-08 05:25:14,906] Trial 17 finished with value: 172.98321533203125 and parameters: {'I_y_and_I_z_mu_0': 1.7040810587757886, 'I_y_and_I_z_mu_1': 0.34852842459554045, 'I_y_and_I_z_cov_0_0': 0.2836133532432167, 'I_y_and_I_z_cov_1_1': 1.613336827880314, 'Q_mu': 702361632262260.8, 'Q_sigma': 9942390.54065938, 'sigma_mu': 0.6654084629020215, 'sigma_sigma': 1.235333183236564}. Best is trial 16 with value: 172.77786254882812.\n",
      "sample: 100%|██████████| 15000/15000 [00:05<00:00, 2813.94it/s, 15 steps of size 1.62e-01. acc. prob=0.92]\n",
      "[I 2024-01-08 05:25:20,911] Trial 18 finished with value: 173.619140625 and parameters: {'I_y_and_I_z_mu_0': 0.9179430338501855, 'I_y_and_I_z_mu_1': 0.820773881710856, 'I_y_and_I_z_cov_0_0': 0.5505168321897697, 'I_y_and_I_z_cov_1_1': 1.73642866105848, 'Q_mu': 720458713056238.1, 'Q_sigma': 7302743.004529505, 'sigma_mu': 1.2175178464551932, 'sigma_sigma': 0.8571266093009604}. Best is trial 16 with value: 172.77786254882812.\n",
      "sample: 100%|██████████| 15000/15000 [00:05<00:00, 2635.84it/s, 31 steps of size 1.01e-01. acc. prob=0.95]\n",
      "[I 2024-01-08 05:25:27,269] Trial 19 finished with value: 172.91482543945312 and parameters: {'I_y_and_I_z_mu_0': 1.795733227519054, 'I_y_and_I_z_mu_1': 1.428781955410242, 'I_y_and_I_z_cov_0_0': 0.20778915070412335, 'I_y_and_I_z_cov_1_1': 1.4374183016187885, 'Q_mu': 959676030890152.5, 'Q_sigma': 8834738.819205303, 'sigma_mu': 1.485940945264322, 'sigma_sigma': 1.3497177106577156}. Best is trial 16 with value: 172.77786254882812.\n",
      "sample: 100%|██████████| 15000/15000 [00:05<00:00, 2579.47it/s, 15 steps of size 1.43e-01. acc. prob=0.92]\n",
      "[I 2024-01-08 05:25:33,750] Trial 20 finished with value: 173.5677032470703 and parameters: {'I_y_and_I_z_mu_0': 1.3446795904896955, 'I_y_and_I_z_mu_1': 0.34506568511652097, 'I_y_and_I_z_cov_0_0': 0.6195679748307239, 'I_y_and_I_z_cov_1_1': 1.9854284702946847, 'Q_mu': 522110851572140.44, 'Q_sigma': 8292922.67843448, 'sigma_mu': 1.4003493728641943, 'sigma_sigma': 1.5409029344207759}. Best is trial 16 with value: 172.77786254882812.\n",
      "sample: 100%|██████████| 15000/15000 [00:05<00:00, 2555.38it/s, 15 steps of size 1.12e-01. acc. prob=0.94]\n",
      "[I 2024-01-08 05:25:40,296] Trial 21 finished with value: 172.8175048828125 and parameters: {'I_y_and_I_z_mu_0': 1.9941891811749008, 'I_y_and_I_z_mu_1': 0.7502171464125176, 'I_y_and_I_z_cov_0_0': 0.04845536126856109, 'I_y_and_I_z_cov_1_1': 1.797454327139155, 'Q_mu': 561149611626815.25, 'Q_sigma': 7955400.994320355, 'sigma_mu': 1.2369488184800261, 'sigma_sigma': 1.7365881083763894}. Best is trial 16 with value: 172.77786254882812.\n",
      "sample: 100%|██████████| 15000/15000 [00:05<00:00, 2500.01it/s, 15 steps of size 9.59e-02. acc. prob=0.95]\n",
      "[I 2024-01-08 05:25:46,981] Trial 22 finished with value: 172.83238220214844 and parameters: {'I_y_and_I_z_mu_0': 1.8247387206032717, 'I_y_and_I_z_mu_1': 0.9677622704454807, 'I_y_and_I_z_cov_0_0': 0.2253351848197489, 'I_y_and_I_z_cov_1_1': 1.7516405546117215, 'Q_mu': 713293360070926.5, 'Q_sigma': 7387501.84531899, 'sigma_mu': 1.1727532704296306, 'sigma_sigma': 1.703829249361804}. Best is trial 16 with value: 172.77786254882812.\n",
      "sample: 100%|██████████| 15000/15000 [00:05<00:00, 2645.98it/s, 31 steps of size 1.27e-01. acc. prob=0.93]\n",
      "[I 2024-01-08 05:25:53,333] Trial 23 finished with value: 172.96530151367188 and parameters: {'I_y_and_I_z_mu_0': 1.988671882123027, 'I_y_and_I_z_mu_1': 0.6712453027878742, 'I_y_and_I_z_cov_0_0': 0.4061321497134133, 'I_y_and_I_z_cov_1_1': 1.7935914363856524, 'Q_mu': 511696811748741.1, 'Q_sigma': 6229784.721436823, 'sigma_mu': 1.4096480454592812, 'sigma_sigma': 1.776599920084345}. Best is trial 16 with value: 172.77786254882812.\n",
      "sample: 100%|██████████| 15000/15000 [00:05<00:00, 2858.72it/s, 15 steps of size 1.82e-01. acc. prob=0.91]\n",
      "[I 2024-01-08 05:25:59,254] Trial 24 finished with value: 173.46188354492188 and parameters: {'I_y_and_I_z_mu_0': 1.6124519085170863, 'I_y_and_I_z_mu_1': 0.904259017229628, 'I_y_and_I_z_cov_0_0': 0.1418767707268054, 'I_y_and_I_z_cov_1_1': 1.5639341344541582, 'Q_mu': 386225210193171.5, 'Q_sigma': 8741519.479336828, 'sigma_mu': 1.1288767049209363, 'sigma_sigma': 1.6076710153887002}. Best is trial 16 with value: 172.77786254882812.\n",
      "sample: 100%|██████████| 15000/15000 [00:05<00:00, 2571.22it/s, 15 steps of size 1.25e-01. acc. prob=0.92]\n",
      "[I 2024-01-08 05:26:05,767] Trial 25 finished with value: 173.3328857421875 and parameters: {'I_y_and_I_z_mu_0': 1.821675531317718, 'I_y_and_I_z_mu_1': 0.7015999554592094, 'I_y_and_I_z_cov_0_0': 0.16459177246409268, 'I_y_and_I_z_cov_1_1': 1.996803605292324, 'Q_mu': 987104238546750.8, 'Q_sigma': 7956473.123981667, 'sigma_mu': 1.1821285926934268, 'sigma_sigma': 1.7815017145074619}. Best is trial 16 with value: 172.77786254882812.\n",
      "sample: 100%|██████████| 15000/15000 [00:05<00:00, 2690.07it/s, 15 steps of size 1.31e-01. acc. prob=0.92]\n",
      "[I 2024-01-08 05:26:12,025] Trial 26 finished with value: 173.12191772460938 and parameters: {'I_y_and_I_z_mu_0': 1.8045523641141221, 'I_y_and_I_z_mu_1': 0.5008973684254026, 'I_y_and_I_z_cov_0_0': 0.48029925073020857, 'I_y_and_I_z_cov_1_1': 1.7809662746723678, 'Q_mu': 559078875437350.6, 'Q_sigma': 6997478.037696548, 'sigma_mu': 1.3919265611212328, 'sigma_sigma': 1.5840525466733122}. Best is trial 16 with value: 172.77786254882812.\n",
      "sample: 100%|██████████| 15000/15000 [00:05<00:00, 2568.46it/s, 15 steps of size 9.98e-02. acc. prob=0.95]\n",
      "[I 2024-01-08 05:26:18,547] Trial 27 finished with value: 173.08135986328125 and parameters: {'I_y_and_I_z_mu_0': 1.5465504547163293, 'I_y_and_I_z_mu_1': 0.7568911618309759, 'I_y_and_I_z_cov_0_0': 0.0199324429619607, 'I_y_and_I_z_cov_1_1': 1.4615319677250538, 'Q_mu': 712744899279448.2, 'Q_sigma': 9330013.859384336, 'sigma_mu': 0.9458956900845292, 'sigma_sigma': 1.8242562238522197}. Best is trial 16 with value: 172.77786254882812.\n",
      "sample: 100%|██████████| 15000/15000 [00:05<00:00, 2691.68it/s, 15 steps of size 1.26e-01. acc. prob=0.92]\n",
      "[I 2024-01-08 05:26:24,798] Trial 28 finished with value: 172.992431640625 and parameters: {'I_y_and_I_z_mu_0': 1.8416772753559267, 'I_y_and_I_z_mu_1': 0.43033704469683426, 'I_y_and_I_z_cov_0_0': 0.33597648418169324, 'I_y_and_I_z_cov_1_1': 1.823232916539661, 'Q_mu': 564019412408917.6, 'Q_sigma': 7807818.237092049, 'sigma_mu': 1.5501438368778424, 'sigma_sigma': 1.9833627267507448}. Best is trial 16 with value: 172.77786254882812.\n",
      "sample: 100%|██████████| 15000/15000 [00:05<00:00, 2607.35it/s, 15 steps of size 1.25e-01. acc. prob=0.92]\n",
      "[I 2024-01-08 05:26:31,250] Trial 29 finished with value: 173.05088806152344 and parameters: {'I_y_and_I_z_mu_0': 1.5982997631206124, 'I_y_and_I_z_mu_1': 1.0133749387499766, 'I_y_and_I_z_cov_0_0': 0.1743831402134009, 'I_y_and_I_z_cov_1_1': 1.7009638410868972, 'Q_mu': 668689548441896.4, 'Q_sigma': 5714005.628008602, 'sigma_mu': 1.2811849107332636, 'sigma_sigma': 1.836408007795255}. Best is trial 16 with value: 172.77786254882812.\n",
      "sample: 100%|██████████| 15000/15000 [00:05<00:00, 2723.26it/s, 31 steps of size 1.16e-01. acc. prob=0.94]\n",
      "[I 2024-01-08 05:26:37,465] Trial 30 finished with value: 173.16065979003906 and parameters: {'I_y_and_I_z_mu_0': 1.6739490271871862, 'I_y_and_I_z_mu_1': 0.6445096326658708, 'I_y_and_I_z_cov_0_0': 0.7362192131742165, 'I_y_and_I_z_cov_1_1': 1.8596182153991923, 'Q_mu': 756885575657034.4, 'Q_sigma': 6439952.507352496, 'sigma_mu': 1.6987532218822352, 'sigma_sigma': 1.4414791256795048}. Best is trial 16 with value: 172.77786254882812.\n",
      "sample: 100%|██████████| 15000/15000 [00:05<00:00, 2605.75it/s, 31 steps of size 1.08e-01. acc. prob=0.93]\n",
      "[I 2024-01-08 05:26:43,936] Trial 31 finished with value: 172.77386474609375 and parameters: {'I_y_and_I_z_mu_0': 1.8729375883025337, 'I_y_and_I_z_mu_1': 0.8988744377377232, 'I_y_and_I_z_cov_0_0': 0.28222870674352035, 'I_y_and_I_z_cov_1_1': 1.7023647654181358, 'Q_mu': 677011616632443.9, 'Q_sigma': 7219429.496870441, 'sigma_mu': 1.1552319647514713, 'sigma_sigma': 1.6874515336328453}. Best is trial 31 with value: 172.77386474609375.\n",
      "sample: 100%|██████████| 15000/15000 [00:05<00:00, 2716.87it/s, 15 steps of size 1.27e-01. acc. prob=0.92]\n",
      "[I 2024-01-08 05:26:50,133] Trial 32 finished with value: 172.90982055664062 and parameters: {'I_y_and_I_z_mu_0': 1.8881692038247495, 'I_y_and_I_z_mu_1': 0.8685832630258294, 'I_y_and_I_z_cov_0_0': 0.3515743897232255, 'I_y_and_I_z_cov_1_1': 1.6533791328511271, 'Q_mu': 562267903887871.0, 'Q_sigma': 6953963.562576037, 'sigma_mu': 1.1197310953755883, 'sigma_sigma': 1.6299566424194216}. Best is trial 31 with value: 172.77386474609375.\n",
      "sample: 100%|██████████| 15000/15000 [00:05<00:00, 2636.35it/s, 11 steps of size 1.13e-01. acc. prob=0.95]\n",
      "[I 2024-01-08 05:26:56,516] Trial 33 finished with value: 172.87509155273438 and parameters: {'I_y_and_I_z_mu_0': 1.9948354581701064, 'I_y_and_I_z_mu_1': 0.7264512899594537, 'I_y_and_I_z_cov_0_0': 0.26098726411394935, 'I_y_and_I_z_cov_1_1': 1.5947745594799452, 'Q_mu': 644087163711870.8, 'Q_sigma': 5902189.138811527, 'sigma_mu': 1.2308069110025333, 'sigma_sigma': 1.8375016700243234}. Best is trial 31 with value: 172.77386474609375.\n",
      "sample: 100%|██████████| 15000/15000 [00:05<00:00, 2515.39it/s, 31 steps of size 1.07e-01. acc. prob=0.94]\n",
      "[I 2024-01-08 05:27:03,166] Trial 34 finished with value: 172.9915771484375 and parameters: {'I_y_and_I_z_mu_0': 1.8683639294848673, 'I_y_and_I_z_mu_1': 1.045584089376525, 'I_y_and_I_z_cov_0_0': 0.4673931647321333, 'I_y_and_I_z_cov_1_1': 1.8459023544939206, 'Q_mu': 760804056677452.8, 'Q_sigma': 8516577.502374418, 'sigma_mu': 1.3641489766872623, 'sigma_sigma': 1.7434066488957036}. Best is trial 31 with value: 172.77386474609375.\n",
      "sample: 100%|██████████| 15000/15000 [00:05<00:00, 2620.73it/s, 15 steps of size 1.11e-01. acc. prob=0.93]\n",
      "[I 2024-01-08 05:27:09,595] Trial 35 finished with value: 173.053466796875 and parameters: {'I_y_and_I_z_mu_0': 1.4877574126052673, 'I_y_and_I_z_mu_1': 0.8672483042053787, 'I_y_and_I_z_cov_0_0': 0.13165064147440614, 'I_y_and_I_z_cov_1_1': 1.6696533770349653, 'Q_mu': 667273150767106.6, 'Q_sigma': 6798841.494030474, 'sigma_mu': 1.436744916676097, 'sigma_sigma': 1.3070583033068395}. Best is trial 31 with value: 172.77386474609375.\n",
      "sample: 100%|██████████| 15000/15000 [00:05<00:00, 2781.57it/s, 11 steps of size 1.61e-01. acc. prob=0.92]\n",
      "[I 2024-01-08 05:27:15,732] Trial 36 finished with value: 173.4900665283203 and parameters: {'I_y_and_I_z_mu_0': 1.7154662678823112, 'I_y_and_I_z_mu_1': 0.5452444484353747, 'I_y_and_I_z_cov_0_0': 0.2924418568538739, 'I_y_and_I_z_cov_1_1': 1.3999663552824668, 'Q_mu': 439888688544174.8, 'Q_sigma': 9177977.203873333, 'sigma_mu': 1.0863752057715397, 'sigma_sigma': 1.508407453606189}. Best is trial 31 with value: 172.77386474609375.\n",
      "sample: 100%|██████████| 15000/15000 [00:05<00:00, 2623.54it/s, 31 steps of size 1.09e-01. acc. prob=0.93]\n",
      "[I 2024-01-08 05:27:22,153] Trial 37 finished with value: 172.76983642578125 and parameters: {'I_y_and_I_z_mu_0': 1.8918718692015828, 'I_y_and_I_z_mu_1': 1.189034587363591, 'I_y_and_I_z_cov_0_0': 0.5482649076861854, 'I_y_and_I_z_cov_1_1': 1.5440667743039858, 'Q_mu': 886692127935468.9, 'Q_sigma': 7615462.533698042, 'sigma_mu': 0.9370204350584255, 'sigma_sigma': 1.6544822370658594}. Best is trial 37 with value: 172.76983642578125.\n",
      "sample: 100%|██████████| 15000/15000 [00:05<00:00, 2709.65it/s, 15 steps of size 1.33e-01. acc. prob=0.89]\n",
      "[I 2024-01-08 05:27:28,414] Trial 38 finished with value: 172.846923828125 and parameters: {'I_y_and_I_z_mu_0': 1.8525677672570968, 'I_y_and_I_z_mu_1': 1.1620299140540877, 'I_y_and_I_z_cov_0_0': 0.5788367432266965, 'I_y_and_I_z_cov_1_1': 1.5145407193493976, 'Q_mu': 882207629619611.6, 'Q_sigma': 7436396.456346284, 'sigma_mu': 0.7871084272234314, 'sigma_sigma': 1.6037484055864555}. Best is trial 37 with value: 172.76983642578125.\n",
      "sample: 100%|██████████| 15000/15000 [00:05<00:00, 2747.16it/s, 15 steps of size 1.71e-01. acc. prob=0.89]\n",
      "[I 2024-01-08 05:27:34,585] Trial 39 finished with value: 173.41148376464844 and parameters: {'I_y_and_I_z_mu_0': 1.4382918780527159, 'I_y_and_I_z_mu_1': 1.3084981490913066, 'I_y_and_I_z_cov_0_0': 0.6906066340003038, 'I_y_and_I_z_cov_1_1': 1.5966137578739468, 'Q_mu': 827592846135237.6, 'Q_sigma': 8852040.913122209, 'sigma_mu': 0.950782763661112, 'sigma_sigma': 1.4761094483947135}. Best is trial 37 with value: 172.76983642578125.\n",
      "sample: 100%|██████████| 15000/15000 [00:05<00:00, 2507.60it/s, 15 steps of size 8.77e-02. acc. prob=0.95]\n",
      "[I 2024-01-08 05:27:41,273] Trial 40 finished with value: 172.85549926757812 and parameters: {'I_y_and_I_z_mu_0': 1.5922844135561942, 'I_y_and_I_z_mu_1': 1.0634788212875648, 'I_y_and_I_z_cov_0_0': 0.38482096521412135, 'I_y_and_I_z_cov_1_1': 1.3197718996814283, 'Q_mu': 885688427132412.2, 'Q_sigma': 5061359.424774432, 'sigma_mu': 1.8211029970579231, 'sigma_sigma': 1.6988161291505177}. Best is trial 37 with value: 172.76983642578125.\n",
      "sample: 100%|██████████| 15000/15000 [00:05<00:00, 2693.83it/s, 15 steps of size 1.19e-01. acc. prob=0.93]\n",
      "[I 2024-01-08 05:27:47,554] Trial 41 finished with value: 172.98086547851562 and parameters: {'I_y_and_I_z_mu_0': 1.91517218731951, 'I_y_and_I_z_mu_1': 0.9219636186385505, 'I_y_and_I_z_cov_0_0': 0.11310709348931869, 'I_y_and_I_z_cov_1_1': 1.8996497836471298, 'Q_mu': 757430300037176.9, 'Q_sigma': 8137473.897266049, 'sigma_mu': 1.216171323579399, 'sigma_sigma': 1.8766429727201077}. Best is trial 37 with value: 172.76983642578125.\n",
      "sample: 100%|██████████| 15000/15000 [00:05<00:00, 2645.43it/s, 31 steps of size 1.13e-01. acc. prob=0.94]\n",
      "[I 2024-01-08 05:27:53,949] Trial 42 finished with value: 173.31442260742188 and parameters: {'I_y_and_I_z_mu_0': 1.7568579971451828, 'I_y_and_I_z_mu_1': 0.7639118755974833, 'I_y_and_I_z_cov_0_0': 0.21911696256685773, 'I_y_and_I_z_cov_1_1': 1.702939729146511, 'Q_mu': 936669247626245.0, 'Q_sigma': 6552146.545370802, 'sigma_mu': 1.0056895754264785, 'sigma_sigma': 1.7444079815171716}. Best is trial 37 with value: 172.76983642578125.\n",
      "sample: 100%|██████████| 15000/15000 [00:05<00:00, 2580.62it/s, 31 steps of size 9.35e-02. acc. prob=0.94]\n",
      "[I 2024-01-08 05:28:00,459] Trial 43 finished with value: 172.73870849609375 and parameters: {'I_y_and_I_z_mu_0': 1.9126524598211612, 'I_y_and_I_z_mu_1': 0.6435107082821125, 'I_y_and_I_z_cov_0_0': 0.49334060085987125, 'I_y_and_I_z_cov_1_1': 1.5208980691096332, 'Q_mu': 801311718394418.5, 'Q_sigma': 7595229.448306166, 'sigma_mu': 1.1697656445710773, 'sigma_sigma': 1.6763301020350934}. Best is trial 43 with value: 172.73870849609375.\n",
      "sample: 100%|██████████| 15000/15000 [00:06<00:00, 2449.54it/s, 15 steps of size 9.22e-02. acc. prob=0.94]\n",
      "[I 2024-01-08 05:28:07,282] Trial 44 finished with value: 172.77377319335938 and parameters: {'I_y_and_I_z_mu_0': 1.8965606264705162, 'I_y_and_I_z_mu_1': 0.5670656180442121, 'I_y_and_I_z_cov_0_0': 0.46798385390047026, 'I_y_and_I_z_cov_1_1': 1.5212323371697059, 'Q_mu': 838037687027155.5, 'Q_sigma': 7025730.456915618, 'sigma_mu': 1.1371140766312724, 'sigma_sigma': 1.6414675363825324}. Best is trial 43 with value: 172.73870849609375.\n",
      "sample: 100%|██████████| 15000/15000 [00:05<00:00, 2503.44it/s, 15 steps of size 9.32e-02. acc. prob=0.94]\n",
      "[I 2024-01-08 05:28:13,976] Trial 45 finished with value: 172.78289794921875 and parameters: {'I_y_and_I_z_mu_0': 1.6688600974416685, 'I_y_and_I_z_mu_1': 0.5642930999961625, 'I_y_and_I_z_cov_0_0': 0.5156396974938179, 'I_y_and_I_z_cov_1_1': 1.2387287592404574, 'Q_mu': 829694461637788.1, 'Q_sigma': 7072864.165158124, 'sigma_mu': 0.8797313942028295, 'sigma_sigma': 1.6359134138035036}. Best is trial 43 with value: 172.73870849609375.\n",
      "sample: 100%|██████████| 15000/15000 [00:05<00:00, 2541.06it/s, 31 steps of size 9.70e-02. acc. prob=0.93]\n",
      "[I 2024-01-08 05:28:20,601] Trial 46 finished with value: 172.94049072265625 and parameters: {'I_y_and_I_z_mu_0': 1.9052409367820111, 'I_y_and_I_z_mu_1': 0.46449229368185535, 'I_y_and_I_z_cov_0_0': 0.4257542391186566, 'I_y_and_I_z_cov_1_1': 1.352253664124343, 'Q_mu': 865810541231936.0, 'Q_sigma': 6059397.135897363, 'sigma_mu': 1.110241855202932, 'sigma_sigma': 1.5414191523397203}. Best is trial 43 with value: 172.73870849609375.\n",
      "sample: 100%|██████████| 15000/15000 [00:05<00:00, 2626.14it/s, 15 steps of size 9.60e-02. acc. prob=0.94]\n",
      "[I 2024-01-08 05:28:27,024] Trial 47 finished with value: 172.90032958984375 and parameters: {'I_y_and_I_z_mu_0': 1.7565978793344763, 'I_y_and_I_z_mu_1': 0.6240026670474573, 'I_y_and_I_z_cov_0_0': 0.655685876136554, 'I_y_and_I_z_cov_1_1': 1.5064856186031306, 'Q_mu': 911037977180432.2, 'Q_sigma': 7442828.890867084, 'sigma_mu': 1.0274836608610691, 'sigma_sigma': 1.4188169382050086}. Best is trial 43 with value: 172.73870849609375.\n",
      "sample: 100%|██████████| 15000/15000 [00:05<00:00, 2756.04it/s, 31 steps of size 1.23e-01. acc. prob=0.94]\n",
      "[I 2024-01-08 05:28:33,240] Trial 48 finished with value: 173.08807373046875 and parameters: {'I_y_and_I_z_mu_0': 1.9251658125615712, 'I_y_and_I_z_mu_1': 1.1133902852696873, 'I_y_and_I_z_cov_0_0': 0.7713786488274031, 'I_y_and_I_z_cov_1_1': 1.5244520267884623, 'Q_mu': 800881772975641.6, 'Q_sigma': 6637040.43116269, 'sigma_mu': 1.3101211410494527, 'sigma_sigma': 1.5091444539879848}. Best is trial 43 with value: 172.73870849609375.\n",
      "sample: 100%|██████████| 15000/15000 [00:05<00:00, 2625.25it/s, 15 steps of size 9.82e-02. acc. prob=0.93]\n",
      "[I 2024-01-08 05:28:39,676] Trial 49 finished with value: 172.98040771484375 and parameters: {'I_y_and_I_z_mu_0': 1.6551489891983577, 'I_y_and_I_z_mu_1': 0.2376123196743143, 'I_y_and_I_z_cov_0_0': 0.5254538757534115, 'I_y_and_I_z_cov_1_1': 1.2055737302659935, 'Q_mu': 859867267328544.6, 'Q_sigma': 8498513.566141112, 'sigma_mu': 1.129251921505018, 'sigma_sigma': 1.675507570690243}. Best is trial 43 with value: 172.73870849609375.\n",
      "sample: 100%|██████████| 15000/15000 [00:06<00:00, 2430.10it/s, 31 steps of size 8.17e-02. acc. prob=0.93]\n",
      "[I 2024-01-08 05:28:46,557] Trial 50 finished with value: 172.75204467773438 and parameters: {'I_y_and_I_z_mu_0': 1.746138396843905, 'I_y_and_I_z_mu_1': 0.44338896091606506, 'I_y_and_I_z_cov_0_0': 0.590344931053148, 'I_y_and_I_z_cov_1_1': 1.407502962949056, 'Q_mu': 916152585457657.6, 'Q_sigma': 5735242.59969851, 'sigma_mu': 1.0331212928327087, 'sigma_sigma': 1.1900555346730242}. Best is trial 43 with value: 172.73870849609375.\n",
      "sample: 100%|██████████| 15000/15000 [00:06<00:00, 2360.73it/s, 15 steps of size 7.36e-02. acc. prob=0.92] \n",
      "[I 2024-01-08 05:28:53,622] Trial 51 finished with value: 172.95016479492188 and parameters: {'I_y_and_I_z_mu_0': 1.7623585167149391, 'I_y_and_I_z_mu_1': 0.028610876771725247, 'I_y_and_I_z_cov_0_0': 0.5342090224637197, 'I_y_and_I_z_cov_1_1': 1.4045388307992952, 'Q_mu': 933514056430905.4, 'Q_sigma': 5667851.4168937635, 'sigma_mu': 1.0536455834992884, 'sigma_sigma': 1.2135990087247002}. Best is trial 43 with value: 172.73870849609375.\n",
      "sample: 100%|██████████| 15000/15000 [00:05<00:00, 2607.49it/s, 15 steps of size 9.77e-02. acc. prob=0.94]\n",
      "[I 2024-01-08 05:29:00,086] Trial 52 finished with value: 172.8990936279297 and parameters: {'I_y_and_I_z_mu_0': 1.889977023558552, 'I_y_and_I_z_mu_1': 0.5972985541389272, 'I_y_and_I_z_cov_0_0': 0.6139249449450173, 'I_y_and_I_z_cov_1_1': 1.641101516278738, 'Q_mu': 841833400961945.5, 'Q_sigma': 7779533.943357989, 'sigma_mu': 0.9863187619948299, 'sigma_sigma': 1.1507819360108866}. Best is trial 43 with value: 172.73870849609375.\n",
      "sample: 100%|██████████| 15000/15000 [00:06<00:00, 2452.75it/s, 31 steps of size 9.76e-02. acc. prob=0.92]\n",
      "[I 2024-01-08 05:29:06,913] Trial 53 finished with value: 173.15306091308594 and parameters: {'I_y_and_I_z_mu_0': 1.9135139368429674, 'I_y_and_I_z_mu_1': 0.4221236440774878, 'I_y_and_I_z_cov_0_0': 0.36004202465573554, 'I_y_and_I_z_cov_1_1': 1.4716728885242365, 'Q_mu': 997539147265051.0, 'Q_sigma': 7126045.169280399, 'sigma_mu': 0.8797152084406771, 'sigma_sigma': 1.0199195464587834}. Best is trial 43 with value: 172.73870849609375.\n",
      "sample: 100%|██████████| 15000/15000 [00:06<00:00, 2444.06it/s, 15 steps of size 8.75e-02. acc. prob=0.94]\n",
      "[I 2024-01-08 05:29:13,785] Trial 54 finished with value: 172.77052307128906 and parameters: {'I_y_and_I_z_mu_0': 1.7257371786475337, 'I_y_and_I_z_mu_1': 0.5077484424065892, 'I_y_and_I_z_cov_0_0': 0.4501196349507788, 'I_y_and_I_z_cov_1_1': 1.5751532845050205, 'Q_mu': 792383408633173.0, 'Q_sigma': 6334598.461852512, 'sigma_mu': 1.148001412045559, 'sigma_sigma': 1.3697935457984494}. Best is trial 43 with value: 172.73870849609375.\n",
      "sample: 100%|██████████| 15000/15000 [00:06<00:00, 2457.61it/s, 15 steps of size 8.66e-02. acc. prob=0.91]\n",
      "[I 2024-01-08 05:29:20,599] Trial 55 finished with value: 172.78305053710938 and parameters: {'I_y_and_I_z_mu_0': 1.5465051254464053, 'I_y_and_I_z_mu_1': 0.4856833926595358, 'I_y_and_I_z_cov_0_0': 0.4569360232938727, 'I_y_and_I_z_cov_1_1': 1.5374083403014598, 'Q_mu': 910711341730369.8, 'Q_sigma': 6154965.071769044, 'sigma_mu': 1.050426345390136, 'sigma_sigma': 1.3547675877377792}. Best is trial 43 with value: 172.73870849609375.\n",
      "sample: 100%|██████████| 15000/15000 [00:05<00:00, 2642.57it/s, 31 steps of size 9.43e-02. acc. prob=0.94]\n",
      "[I 2024-01-08 05:29:26,992] Trial 56 finished with value: 173.03378295898438 and parameters: {'I_y_and_I_z_mu_0': 1.7105963806913935, 'I_y_and_I_z_mu_1': 0.37829646457184885, 'I_y_and_I_z_cov_0_0': 0.8169966500619332, 'I_y_and_I_z_cov_1_1': 1.3483645197022271, 'Q_mu': 796334593686250.8, 'Q_sigma': 4558963.381122945, 'sigma_mu': 1.1677560493245809, 'sigma_sigma': 1.5646573836321611}. Best is trial 43 with value: 172.73870849609375.\n",
      "sample: 100%|██████████| 15000/15000 [00:05<00:00, 2659.22it/s, 15 steps of size 9.59e-02. acc. prob=0.95]\n",
      "[I 2024-01-08 05:29:33,349] Trial 57 finished with value: 172.9599609375 and parameters: {'I_y_and_I_z_mu_0': 1.7811623366076241, 'I_y_and_I_z_mu_1': 0.5498991066938438, 'I_y_and_I_z_cov_0_0': 0.6823928522639692, 'I_y_and_I_z_cov_1_1': 1.5762578601380792, 'Q_mu': 771615134062501.0, 'Q_sigma': 6411453.8137482945, 'sigma_mu': 0.772861669655895, 'sigma_sigma': 1.4666679604539978}. Best is trial 43 with value: 172.73870849609375.\n",
      "sample: 100%|██████████| 15000/15000 [00:05<00:00, 2539.61it/s, 31 steps of size 1.08e-01. acc. prob=0.93]\n",
      "[I 2024-01-08 05:29:39,971] Trial 58 finished with value: 172.9456787109375 and parameters: {'I_y_and_I_z_mu_0': 1.6023905919939507, 'I_y_and_I_z_mu_1': 0.6557345871835105, 'I_y_and_I_z_cov_0_0': 0.5926469829569618, 'I_y_and_I_z_cov_1_1': 1.6550890292015736, 'Q_mu': 833843484307061.0, 'Q_sigma': 6727077.354421633, 'sigma_mu': 0.9470255336295593, 'sigma_sigma': 1.6858734810488976}. Best is trial 43 with value: 172.73870849609375.\n",
      "sample: 100%|██████████| 15000/15000 [00:06<00:00, 2384.13it/s, 39 steps of size 7.81e-02. acc. prob=0.94]\n",
      "[I 2024-01-08 05:29:47,008] Trial 59 finished with value: 172.887939453125 and parameters: {'I_y_and_I_z_mu_0': 1.8261006131396886, 'I_y_and_I_z_mu_1': 0.3045713610076104, 'I_y_and_I_z_cov_0_0': 0.42539042766985047, 'I_y_and_I_z_cov_1_1': 1.1560825053231067, 'Q_mu': 953338653494102.4, 'Q_sigma': 7610190.091618142, 'sigma_mu': 1.0952011814941742, 'sigma_sigma': 1.4243834587212292}. Best is trial 43 with value: 172.73870849609375.\n",
      "sample: 100%|██████████| 15000/15000 [00:05<00:00, 2894.65it/s, 15 steps of size 1.73e-01. acc. prob=0.90]\n",
      "[I 2024-01-08 05:29:52,915] Trial 60 finished with value: 173.51223754882812 and parameters: {'I_y_and_I_z_mu_0': 1.3470937343991134, 'I_y_and_I_z_mu_1': 0.49174612838138787, 'I_y_and_I_z_cov_0_0': 0.9531675325777125, 'I_y_and_I_z_cov_1_1': 1.4356336726383243, 'Q_mu': 889409238744706.1, 'Q_sigma': 7135997.668190938, 'sigma_mu': 1.1620697902288715, 'sigma_sigma': 1.620960403019904}. Best is trial 43 with value: 172.73870849609375.\n",
      "sample: 100%|██████████| 15000/15000 [00:05<00:00, 2575.36it/s, 31 steps of size 1.05e-01. acc. prob=0.94]\n",
      "[I 2024-01-08 05:29:59,466] Trial 61 finished with value: 172.85494995117188 and parameters: {'I_y_and_I_z_mu_0': 1.952118110867302, 'I_y_and_I_z_mu_1': 0.8148140579697071, 'I_y_and_I_z_cov_0_0': 0.25639102258545876, 'I_y_and_I_z_cov_1_1': 1.734499709734473, 'Q_mu': 742301480853101.2, 'Q_sigma': 7526362.142437964, 'sigma_mu': 1.2721993308326045, 'sigma_sigma': 1.278094287983065}. Best is trial 43 with value: 172.73870849609375.\n",
      "sample: 100%|██████████| 15000/15000 [00:05<00:00, 2521.47it/s, 31 steps of size 1.02e-01. acc. prob=0.93]\n",
      "[I 2024-01-08 05:30:06,161] Trial 62 finished with value: 172.78265380859375 and parameters: {'I_y_and_I_z_mu_0': 1.8491832721177617, 'I_y_and_I_z_mu_1': 0.6732747315863313, 'I_y_and_I_z_cov_0_0': 0.30232008503696084, 'I_y_and_I_z_cov_1_1': 1.561880213057729, 'Q_mu': 788128388028862.2, 'Q_sigma': 8246429.972300814, 'sigma_mu': 1.3566918317601897, 'sigma_sigma': 1.5652229183632753}. Best is trial 43 with value: 172.73870849609375.\n",
      "sample: 100%|██████████| 15000/15000 [00:05<00:00, 2527.69it/s, 31 steps of size 9.85e-02. acc. prob=0.92]\n",
      "[I 2024-01-08 05:30:12,833] Trial 63 finished with value: 172.772216796875 and parameters: {'I_y_and_I_z_mu_0': 1.9423661338506992, 'I_y_and_I_z_mu_1': 0.5996729155027168, 'I_y_and_I_z_cov_0_0': 0.48796969039530996, 'I_y_and_I_z_cov_1_1': 1.7149240186701724, 'Q_mu': 815777699831779.8, 'Q_sigma': 6762841.725983845, 'sigma_mu': 1.2384382243770888, 'sigma_sigma': 1.346843832609989}. Best is trial 43 with value: 172.73870849609375.\n",
      "sample: 100%|██████████| 15000/15000 [00:05<00:00, 2523.60it/s, 15 steps of size 9.31e-02. acc. prob=0.93]\n",
      "[I 2024-01-08 05:30:19,508] Trial 64 finished with value: 172.73533630371094 and parameters: {'I_y_and_I_z_mu_0': 1.735124865581319, 'I_y_and_I_z_mu_1': 0.6020826236453125, 'I_y_and_I_z_cov_0_0': 0.5087566001949622, 'I_y_and_I_z_cov_1_1': 1.6222153581143335, 'Q_mu': 812751627497089.0, 'Q_sigma': 6375274.903712901, 'sigma_mu': 1.1898663815969417, 'sigma_sigma': 1.4093302106789842}. Best is trial 64 with value: 172.73533630371094.\n",
      "sample: 100%|██████████| 15000/15000 [00:05<00:00, 2502.37it/s, 15 steps of size 9.18e-02. acc. prob=0.91]\n",
      "[I 2024-01-08 05:30:26,253] Trial 65 finished with value: 172.81243896484375 and parameters: {'I_y_and_I_z_mu_0': 1.7273788098328937, 'I_y_and_I_z_mu_1': 0.41558899255697856, 'I_y_and_I_z_cov_0_0': 0.49773822206637913, 'I_y_and_I_z_cov_1_1': 1.4761431461623191, 'Q_mu': 842631930994651.2, 'Q_sigma': 5514985.643074368, 'sigma_mu': 1.2386647137786992, 'sigma_sigma': 1.3569291271379516}. Best is trial 64 with value: 172.73533630371094.\n",
      "sample: 100%|██████████| 15000/15000 [00:05<00:00, 2659.86it/s, 15 steps of size 1.06e-01. acc. prob=0.92]\n",
      "[I 2024-01-08 05:30:32,633] Trial 66 finished with value: 172.86495971679688 and parameters: {'I_y_and_I_z_mu_0': 1.6617332109889391, 'I_y_and_I_z_mu_1': 0.5249486311052043, 'I_y_and_I_z_cov_0_0': 0.5808106503367199, 'I_y_and_I_z_cov_1_1': 1.616644880842692, 'Q_mu': 794776612140085.8, 'Q_sigma': 6276695.265182064, 'sigma_mu': 1.057537885695039, 'sigma_sigma': 1.3803915945946634}. Best is trial 64 with value: 172.73533630371094.\n",
      "sample: 100%|██████████| 15000/15000 [00:05<00:00, 2579.84it/s, 15 steps of size 1.07e-01. acc. prob=0.91]\n",
      "[I 2024-01-08 05:30:39,199] Trial 67 finished with value: 172.77989196777344 and parameters: {'I_y_and_I_z_mu_0': 1.7828011955107004, 'I_y_and_I_z_mu_1': 0.5956484987958695, 'I_y_and_I_z_cov_0_0': 0.6533489529992274, 'I_y_and_I_z_cov_1_1': 1.4130426393716313, 'Q_mu': 870062384739355.2, 'Q_sigma': 5948108.701014038, 'sigma_mu': 0.9885124751937108, 'sigma_sigma': 1.481906373175999}. Best is trial 64 with value: 172.73533630371094.\n",
      "sample: 100%|██████████| 15000/15000 [00:05<00:00, 2523.50it/s, 31 steps of size 1.01e-01. acc. prob=0.93]\n",
      "[I 2024-01-08 05:30:45,965] Trial 68 finished with value: 173.1697998046875 and parameters: {'I_y_and_I_z_mu_0': 1.9484095783560815, 'I_y_and_I_z_mu_1': 0.45599462517640144, 'I_y_and_I_z_cov_0_0': 0.38632142262919633, 'I_y_and_I_z_cov_1_1': 1.3040594434025705, 'Q_mu': 912285765453319.4, 'Q_sigma': 5282756.681561129, 'sigma_mu': 1.3394027942873674, 'sigma_sigma': 1.4301806740510994}. Best is trial 64 with value: 172.73533630371094.\n",
      "sample: 100%|██████████| 15000/15000 [00:06<00:00, 2392.40it/s, 15 steps of size 8.35e-02. acc. prob=0.93]\n",
      "[I 2024-01-08 05:30:52,990] Trial 69 finished with value: 172.865478515625 and parameters: {'I_y_and_I_z_mu_0': 1.8226491286960984, 'I_y_and_I_z_mu_1': 0.6895680836604245, 'I_y_and_I_z_cov_0_0': 0.48149885836650197, 'I_y_and_I_z_cov_1_1': 1.7997708198384452, 'Q_mu': 976823488827459.9, 'Q_sigma': 6850958.777790765, 'sigma_mu': 1.1854550089379225, 'sigma_sigma': 1.2935259370560115}. Best is trial 64 with value: 172.73533630371094.\n",
      "sample: 100%|██████████| 15000/15000 [00:06<00:00, 2463.39it/s, 31 steps of size 8.71e-02. acc. prob=0.95]\n",
      "[I 2024-01-08 05:30:59,833] Trial 70 finished with value: 172.80636596679688 and parameters: {'I_y_and_I_z_mu_0': 1.7032417878702615, 'I_y_and_I_z_mu_1': 0.6059799757422216, 'I_y_and_I_z_cov_0_0': 0.5571211608995507, 'I_y_and_I_z_cov_1_1': 1.5281206232315663, 'Q_mu': 822161687782156.1, 'Q_sigma': 6483654.197016392, 'sigma_mu': 1.0796260645861013, 'sigma_sigma': 1.5301810455409632}. Best is trial 64 with value: 172.73533630371094.\n",
      "sample: 100%|██████████| 15000/15000 [00:06<00:00, 2421.80it/s, 15 steps of size 9.38e-02. acc. prob=0.94]\n",
      "[I 2024-01-08 05:31:06,804] Trial 71 finished with value: 172.81948852539062 and parameters: {'I_y_and_I_z_mu_0': 1.8690501546740448, 'I_y_and_I_z_mu_1': 0.5229066535373862, 'I_y_and_I_z_cov_0_0': 0.3319124394492252, 'I_y_and_I_z_cov_1_1': 1.6939975355223955, 'Q_mu': 742460980520271.6, 'Q_sigma': 7251133.973704707, 'sigma_mu': 1.139638087738968, 'sigma_sigma': 1.6617872794443855}. Best is trial 64 with value: 172.73533630371094.\n",
      "sample: 100%|██████████| 15000/15000 [00:06<00:00, 2409.10it/s, 31 steps of size 8.94e-02. acc. prob=0.95]\n",
      "[I 2024-01-08 05:31:13,782] Trial 72 finished with value: 172.73275756835938 and parameters: {'I_y_and_I_z_mu_0': 1.9540108536036074, 'I_y_and_I_z_mu_1': 0.7097388677352955, 'I_y_and_I_z_cov_0_0': 0.439947912616533, 'I_y_and_I_z_cov_1_1': 1.6343527505656332, 'Q_mu': 808547689697767.4, 'Q_sigma': 7715799.467572144, 'sigma_mu': 1.2637505433076617, 'sigma_sigma': 1.7584036642809318}. Best is trial 72 with value: 172.73275756835938.\n",
      "sample: 100%|██████████| 15000/15000 [00:05<00:00, 2558.11it/s, 15 steps of size 1.12e-01. acc. prob=0.90]\n",
      "[I 2024-01-08 05:31:20,399] Trial 73 finished with value: 172.77877807617188 and parameters: {'I_y_and_I_z_mu_0': 1.9495782183797596, 'I_y_and_I_z_mu_1': 0.7066770405700208, 'I_y_and_I_z_cov_0_0': 0.4412198023940274, 'I_y_and_I_z_cov_1_1': 1.6209792495857, 'Q_mu': 857910800853905.2, 'Q_sigma': 7738475.681880205, 'sigma_mu': 1.2848856612565178, 'sigma_sigma': 1.2338559928472415}. Best is trial 72 with value: 172.73275756835938.\n",
      "sample: 100%|██████████| 15000/15000 [00:05<00:00, 2503.92it/s, 31 steps of size 8.64e-02. acc. prob=0.95]\n",
      "[I 2024-01-08 05:31:27,154] Trial 74 finished with value: 172.74014282226562 and parameters: {'I_y_and_I_z_mu_0': 1.7951807736188201, 'I_y_and_I_z_mu_1': 0.6341855711406965, 'I_y_and_I_z_cov_0_0': 0.5212073301877984, 'I_y_and_I_z_cov_1_1': 1.5706969855140618, 'Q_mu': 798966571802997.8, 'Q_sigma': 6828553.213788227, 'sigma_mu': 1.2194801952065923, 'sigma_sigma': 1.8091732371282256}. Best is trial 72 with value: 172.73275756835938.\n",
      "sample: 100%|██████████| 15000/15000 [00:05<00:00, 2626.74it/s, 31 steps of size 1.09e-01. acc. prob=0.92]\n",
      "[I 2024-01-08 05:31:33,613] Trial 75 finished with value: 172.79005432128906 and parameters: {'I_y_and_I_z_mu_0': 1.999974856682772, 'I_y_and_I_z_mu_1': 0.6350031135997785, 'I_y_and_I_z_cov_0_0': 0.6292206667353972, 'I_y_and_I_z_cov_1_1': 1.7410266338168485, 'Q_mu': 783377546884208.1, 'Q_sigma': 6733279.320445473, 'sigma_mu': 1.2554434978737425, 'sigma_sigma': 1.801089779819462}. Best is trial 72 with value: 172.73275756835938.\n",
      "sample: 100%|██████████| 15000/15000 [00:05<00:00, 2694.59it/s, 15 steps of size 1.33e-01. acc. prob=0.91]\n",
      "[I 2024-01-08 05:31:39,918] Trial 76 finished with value: 173.11578369140625 and parameters: {'I_y_and_I_z_mu_0': 1.8028687470834694, 'I_y_and_I_z_mu_1': 0.733031139442769, 'I_y_and_I_z_cov_0_0': 0.7215204360779381, 'I_y_and_I_z_cov_1_1': 1.5674251026422363, 'Q_mu': 723087522192930.6, 'Q_sigma': 6173386.269926159, 'sigma_mu': 1.2088977416390358, 'sigma_sigma': 1.895638501907292}. Best is trial 72 with value: 172.73275756835938.\n",
      "sample: 100%|██████████| 15000/15000 [00:06<00:00, 2443.90it/s, 11 steps of size 8.79e-02. acc. prob=0.94]\n",
      "[I 2024-01-08 05:31:46,832] Trial 77 finished with value: 172.8361358642578 and parameters: {'I_y_and_I_z_mu_0': 1.6371407940082878, 'I_y_and_I_z_mu_1': 0.8029366504720803, 'I_y_and_I_z_cov_0_0': 0.3878464502204216, 'I_y_and_I_z_cov_1_1': 1.6581692015847087, 'Q_mu': 807585341539074.2, 'Q_sigma': 5823579.564009668, 'sigma_mu': 1.43672389922253, 'sigma_sigma': 1.7309625629178778}. Best is trial 72 with value: 172.73275756835938.\n",
      "sample: 100%|██████████| 15000/15000 [00:06<00:00, 2428.90it/s, 19 steps of size 8.33e-02. acc. prob=0.93]\n",
      "[I 2024-01-08 05:31:53,788] Trial 78 finished with value: 172.74253845214844 and parameters: {'I_y_and_I_z_mu_0': 1.7459193706692224, 'I_y_and_I_z_mu_1': 0.38612882073100585, 'I_y_and_I_z_cov_0_0': 0.5416969526642657, 'I_y_and_I_z_cov_1_1': 1.3793680335539686, 'Q_mu': 880459394778192.1, 'Q_sigma': 6398350.063787569, 'sigma_mu': 1.3268264493978117, 'sigma_sigma': 1.936586560089156}. Best is trial 72 with value: 172.73275756835938.\n",
      "sample: 100%|██████████| 15000/15000 [00:06<00:00, 2398.36it/s, 47 steps of size 7.12e-02. acc. prob=0.94]\n",
      "[I 2024-01-08 05:32:00,819] Trial 79 finished with value: 172.7244110107422 and parameters: {'I_y_and_I_z_mu_0': 1.5796009352145766, 'I_y_and_I_z_mu_1': 0.2843093850753314, 'I_y_and_I_z_cov_0_0': 0.5737781827005761, 'I_y_and_I_z_cov_1_1': 1.3579256026949358, 'Q_mu': 891996473627242.4, 'Q_sigma': 5462513.592385247, 'sigma_mu': 1.3299027091205167, 'sigma_sigma': 1.9210473558509813}. Best is trial 79 with value: 172.7244110107422.\n",
      "sample: 100%|██████████| 15000/15000 [00:06<00:00, 2285.05it/s, 63 steps of size 6.88e-02. acc. prob=0.94]\n",
      "[I 2024-01-08 05:32:08,164] Trial 80 finished with value: 172.72105407714844 and parameters: {'I_y_and_I_z_mu_0': 1.5037245573781197, 'I_y_and_I_z_mu_1': 0.3397833493286832, 'I_y_and_I_z_cov_0_0': 0.5489757448203633, 'I_y_and_I_z_cov_1_1': 1.3927899498302274, 'Q_mu': 961500796240276.5, 'Q_sigma': 5643818.493806705, 'sigma_mu': 1.34609408857346, 'sigma_sigma': 1.9287084743106337}. Best is trial 80 with value: 172.72105407714844.\n",
      "sample: 100%|██████████| 15000/15000 [00:06<00:00, 2387.32it/s, 31 steps of size 7.95e-02. acc. prob=0.93]\n",
      "[I 2024-01-08 05:32:15,260] Trial 81 finished with value: 172.72222900390625 and parameters: {'I_y_and_I_z_mu_0': 1.49557139865986, 'I_y_and_I_z_mu_1': 0.38144256023915313, 'I_y_and_I_z_cov_0_0': 0.5841294523148394, 'I_y_and_I_z_cov_1_1': 1.3457260588124744, 'Q_mu': 955663097288245.8, 'Q_sigma': 5285188.298101286, 'sigma_mu': 1.3247239066403498, 'sigma_sigma': 1.9938567594237535}. Best is trial 80 with value: 172.72105407714844.\n",
      "sample: 100%|██████████| 15000/15000 [00:06<00:00, 2285.77it/s, 31 steps of size 5.95e-02. acc. prob=0.95]\n",
      "[I 2024-01-08 05:32:22,602] Trial 82 finished with value: 172.74749755859375 and parameters: {'I_y_and_I_z_mu_0': 1.5588078343956222, 'I_y_and_I_z_mu_1': 0.28466158149393633, 'I_y_and_I_z_cov_0_0': 0.5813140489619445, 'I_y_and_I_z_cov_1_1': 1.3663678430411472, 'Q_mu': 962702272546793.5, 'Q_sigma': 5481347.952023959, 'sigma_mu': 1.3358355768615497, 'sigma_sigma': 1.934760801671064}. Best is trial 80 with value: 172.72105407714844.\n",
      "sample: 100%|██████████| 15000/15000 [00:05<00:00, 2643.20it/s, 31 steps of size 1.01e-01. acc. prob=0.92]\n",
      "[I 2024-01-08 05:32:29,073] Trial 83 finished with value: 172.95828247070312 and parameters: {'I_y_and_I_z_mu_0': 1.5129023316632888, 'I_y_and_I_z_mu_1': 0.2759781662165537, 'I_y_and_I_z_cov_0_0': 0.7229676800588493, 'I_y_and_I_z_cov_1_1': 1.3578511341376889, 'Q_mu': 934693174054927.9, 'Q_sigma': 5506857.099369654, 'sigma_mu': 1.3448747074136667, 'sigma_sigma': 1.9384890283043323}. Best is trial 80 with value: 172.72105407714844.\n",
      "sample: 100%|██████████| 15000/15000 [00:06<00:00, 2396.07it/s, 31 steps of size 7.24e-02. acc. prob=0.94]\n",
      "[I 2024-01-08 05:32:36,119] Trial 84 finished with value: 172.7130889892578 and parameters: {'I_y_and_I_z_mu_0': 1.5816808591258982, 'I_y_and_I_z_mu_1': 0.3433828383974, 'I_y_and_I_z_cov_0_0': 0.6263610565542633, 'I_y_and_I_z_cov_1_1': 1.2799050485659633, 'Q_mu': 954340889164131.9, 'Q_sigma': 4921170.168372153, 'sigma_mu': 1.395253246240022, 'sigma_sigma': 1.988940155966695}. Best is trial 84 with value: 172.7130889892578.\n",
      "sample: 100%|██████████| 15000/15000 [00:06<00:00, 2411.58it/s, 63 steps of size 7.90e-02. acc. prob=0.94]\n",
      "[I 2024-01-08 05:32:43,116] Trial 85 finished with value: 172.80514526367188 and parameters: {'I_y_and_I_z_mu_0': 1.4747035199910834, 'I_y_and_I_z_mu_1': 0.37750715731988266, 'I_y_and_I_z_cov_0_0': 0.6632559070004321, 'I_y_and_I_z_cov_1_1': 1.264291325150988, 'Q_mu': 996313436603326.8, 'Q_sigma': 4509012.063822961, 'sigma_mu': 1.4825667641827487, 'sigma_sigma': 1.9969735907914643}. Best is trial 84 with value: 172.7130889892578.\n",
      "sample: 100%|██████████| 15000/15000 [00:06<00:00, 2304.08it/s, 15 steps of size 7.32e-02. acc. prob=0.91]\n",
      "[I 2024-01-08 05:32:50,400] Trial 86 finished with value: 172.92921447753906 and parameters: {'I_y_and_I_z_mu_0': 1.615821627897861, 'I_y_and_I_z_mu_1': 0.18273395806595816, 'I_y_and_I_z_cov_0_0': 0.5173965600935784, 'I_y_and_I_z_cov_1_1': 1.4390361439755694, 'Q_mu': 973610065529358.2, 'Q_sigma': 5064343.409438031, 'sigma_mu': 1.3796188449729212, 'sigma_sigma': 1.8619019005740058}. Best is trial 84 with value: 172.7130889892578.\n",
      "sample: 100%|██████████| 15000/15000 [00:05<00:00, 2685.67it/s, 31 steps of size 1.04e-01. acc. prob=0.93]\n",
      "[I 2024-01-08 05:32:56,783] Trial 87 finished with value: 173.0441436767578 and parameters: {'I_y_and_I_z_mu_0': 1.5657836356887032, 'I_y_and_I_z_mu_1': 0.37967097235620634, 'I_y_and_I_z_cov_0_0': 0.7831018146575371, 'I_y_and_I_z_cov_1_1': 1.28815244857985, 'Q_mu': 948204336345353.4, 'Q_sigma': 5233488.732491341, 'sigma_mu': 1.4168006769049895, 'sigma_sigma': 1.9144873284032582}. Best is trial 84 with value: 172.7130889892578.\n",
      "sample: 100%|██████████| 15000/15000 [00:05<00:00, 2579.28it/s, 15 steps of size 9.37e-02. acc. prob=0.93]\n",
      "[I 2024-01-08 05:33:03,393] Trial 88 finished with value: 172.95364379882812 and parameters: {'I_y_and_I_z_mu_0': 1.4063007893474768, 'I_y_and_I_z_mu_1': 0.3467834639270443, 'I_y_and_I_z_cov_0_0': 0.6293478616012896, 'I_y_and_I_z_cov_1_1': 1.4792364137165592, 'Q_mu': 892228872898867.4, 'Q_sigma': 4796217.620036416, 'sigma_mu': 1.465903515386907, 'sigma_sigma': 1.9651344962999677}. Best is trial 84 with value: 172.7130889892578.\n",
      "sample: 100%|██████████| 15000/15000 [00:06<00:00, 2239.79it/s, 15 steps of size 6.93e-02. acc. prob=0.93] \n",
      "[I 2024-01-08 05:33:10,881] Trial 89 finished with value: 172.94577026367188 and parameters: {'I_y_and_I_z_mu_0': 1.6381661399845566, 'I_y_and_I_z_mu_1': 0.24148428650393478, 'I_y_and_I_z_cov_0_0': 0.5362393174145129, 'I_y_and_I_z_cov_1_1': 1.3055606560155746, 'Q_mu': 966350864338517.4, 'Q_sigma': 4218752.688144407, 'sigma_mu': 1.29299642810421, 'sigma_sigma': 1.8523861389490313}. Best is trial 84 with value: 172.7130889892578.\n",
      "sample: 100%|██████████| 15000/15000 [00:06<00:00, 2243.53it/s, 47 steps of size 7.83e-02. acc. prob=0.94]\n",
      "[I 2024-01-08 05:33:18,360] Trial 90 finished with value: 173.04940795898438 and parameters: {'I_y_and_I_z_mu_0': 1.6837204837264095, 'I_y_and_I_z_mu_1': 0.3108509356557842, 'I_y_and_I_z_cov_0_0': 0.3989779913737765, 'I_y_and_I_z_cov_1_1': 1.1912250481867492, 'Q_mu': 932346074854012.2, 'Q_sigma': 6101632.296149697, 'sigma_mu': 1.5326834952262445, 'sigma_sigma': 1.8958447554338216}. Best is trial 84 with value: 172.7130889892578.\n",
      "sample: 100%|██████████| 15000/15000 [00:06<00:00, 2253.81it/s, 31 steps of size 6.50e-02. acc. prob=0.95]\n",
      "[I 2024-01-08 05:33:25,820] Trial 91 finished with value: 172.74838256835938 and parameters: {'I_y_and_I_z_mu_0': 1.5828239776610615, 'I_y_and_I_z_mu_1': 0.30121223219664334, 'I_y_and_I_z_cov_0_0': 0.5772829776227276, 'I_y_and_I_z_cov_1_1': 1.3754802403767379, 'Q_mu': 962041823126892.5, 'Q_sigma': 5445896.85929995, 'sigma_mu': 1.3156972300783656, 'sigma_sigma': 1.9594943712195823}. Best is trial 84 with value: 172.7130889892578.\n",
      "sample: 100%|██████████| 15000/15000 [00:05<00:00, 2535.66it/s, 31 steps of size 9.46e-02. acc. prob=0.93]\n",
      "[I 2024-01-08 05:33:32,582] Trial 92 finished with value: 172.88485717773438 and parameters: {'I_y_and_I_z_mu_0': 1.4399503383179602, 'I_y_and_I_z_mu_1': 0.3994340730668242, 'I_y_and_I_z_cov_0_0': 0.620405809339486, 'I_y_and_I_z_cov_1_1': 1.3533849161476454, 'Q_mu': 904482438802730.6, 'Q_sigma': 4908189.611852225, 'sigma_mu': 1.3900837700042945, 'sigma_sigma': 1.8021866158474644}. Best is trial 84 with value: 172.7130889892578.\n",
      "sample: 100%|██████████| 15000/15000 [00:06<00:00, 2473.57it/s, 15 steps of size 8.42e-02. acc. prob=0.94]\n",
      "[I 2024-01-08 05:33:39,441] Trial 93 finished with value: 172.75973510742188 and parameters: {'I_y_and_I_z_mu_0': 1.526418544002404, 'I_y_and_I_z_mu_1': 0.4555680463845906, 'I_y_and_I_z_cov_0_0': 0.551808274434277, 'I_y_and_I_z_cov_1_1': 1.4903046068251085, 'Q_mu': 865582484311140.0, 'Q_sigma': 5885060.715244364, 'sigma_mu': 1.3376187552064578, 'sigma_sigma': 1.9281366494438483}. Best is trial 84 with value: 172.7130889892578.\n",
      "sample: 100%|██████████| 15000/15000 [00:06<00:00, 2351.10it/s, 63 steps of size 7.30e-02. acc. prob=0.92]\n",
      "[I 2024-01-08 05:33:46,611] Trial 94 finished with value: 172.82720947265625 and parameters: {'I_y_and_I_z_mu_0': 1.5451868021033082, 'I_y_and_I_z_mu_1': 0.25568859447222425, 'I_y_and_I_z_cov_0_0': 0.48679866798699517, 'I_y_and_I_z_cov_1_1': 1.4342541014247376, 'Q_mu': 924682106667096.2, 'Q_sigma': 5597472.566834753, 'sigma_mu': 1.37700878700149, 'sigma_sigma': 1.99357114140183}. Best is trial 84 with value: 172.7130889892578.\n",
      "sample: 100%|██████████| 15000/15000 [00:06<00:00, 2408.27it/s, 15 steps of size 8.40e-02. acc. prob=0.93]\n",
      "[I 2024-01-08 05:33:53,775] Trial 95 finished with value: 172.74058532714844 and parameters: {'I_y_and_I_z_mu_0': 1.6216988476381269, 'I_y_and_I_z_mu_1': 0.3488085965832898, 'I_y_and_I_z_cov_0_0': 0.678266308959086, 'I_y_and_I_z_cov_1_1': 1.3761914224004879, 'Q_mu': 952482995730557.0, 'Q_sigma': 5130404.919572817, 'sigma_mu': 1.268265540659051, 'sigma_sigma': 1.8659321129131943}. Best is trial 84 with value: 172.7130889892578.\n",
      "sample: 100%|██████████| 15000/15000 [00:05<00:00, 2574.88it/s, 15 steps of size 9.61e-02. acc. prob=0.92]\n",
      "[I 2024-01-08 05:34:00,417] Trial 96 finished with value: 172.81219482421875 and parameters: {'I_y_and_I_z_mu_0': 1.6827513615377006, 'I_y_and_I_z_mu_1': 0.32745972629182113, 'I_y_and_I_z_cov_0_0': 0.7054530425632688, 'I_y_and_I_z_cov_1_1': 1.255471657281824, 'Q_mu': 886366971244606.0, 'Q_sigma': 5040075.866143444, 'sigma_mu': 1.1888006563236824, 'sigma_sigma': 1.834044234614094}. Best is trial 84 with value: 172.7130889892578.\n",
      "sample: 100%|██████████| 15000/15000 [00:06<00:00, 2312.18it/s, 15 steps of size 6.70e-02. acc. prob=0.94]\n",
      "[I 2024-01-08 05:34:07,727] Trial 97 finished with value: 172.79566955566406 and parameters: {'I_y_and_I_z_mu_0': 1.7799391787800993, 'I_y_and_I_z_mu_1': 0.2151663215142872, 'I_y_and_I_z_cov_0_0': 0.672839875289799, 'I_y_and_I_z_cov_1_1': 1.3110101387391448, 'Q_mu': 997585771650043.5, 'Q_sigma': 5344874.96711677, 'sigma_mu': 1.2589706460473522, 'sigma_sigma': 1.7622929079251717}. Best is trial 84 with value: 172.7130889892578.\n",
      "sample: 100%|██████████| 15000/15000 [00:06<00:00, 2344.03it/s, 63 steps of size 7.52e-02. acc. prob=0.94]\n",
      "[I 2024-01-08 05:34:14,947] Trial 98 finished with value: 173.11529541015625 and parameters: {'I_y_and_I_z_mu_0': 1.7398046406837486, 'I_y_and_I_z_mu_1': 0.17380390725469896, 'I_y_and_I_z_cov_0_0': 0.43711423618402306, 'I_y_and_I_z_cov_1_1': 1.4545317668741182, 'Q_mu': 951068018658720.6, 'Q_sigma': 5711152.980756406, 'sigma_mu': 1.3053799730327298, 'sigma_sigma': 1.882444090880757}. Best is trial 84 with value: 172.7130889892578.\n",
      "sample: 100%|██████████| 15000/15000 [00:05<00:00, 2644.41it/s, 31 steps of size 1.24e-01. acc. prob=0.91]\n",
      "[I 2024-01-08 05:34:21,465] Trial 99 finished with value: 173.0834503173828 and parameters: {'I_y_and_I_z_mu_0': 1.655041724209907, 'I_y_and_I_z_mu_1': 0.4190784121903185, 'I_y_and_I_z_cov_0_0': 0.7608145582736356, 'I_y_and_I_z_cov_1_1': 1.1538389912742861, 'Q_mu': 855367553040474.5, 'Q_sigma': 5973403.180658191, 'sigma_mu': 1.43894411079222, 'sigma_sigma': 1.7818091692878986}. Best is trial 84 with value: 172.7130889892578.\n",
      "sample: 100%|██████████| 15000/15000 [00:05<00:00, 2679.99it/s, 31 steps of size 1.16e-01. acc. prob=0.93]\n",
      "[I 2024-01-08 05:34:27,884] Trial 100 finished with value: 173.1900634765625 and parameters: {'I_y_and_I_z_mu_0': 1.5978022801856684, 'I_y_and_I_z_mu_1': 0.34228639628762025, 'I_y_and_I_z_cov_0_0': 0.8370725728248034, 'I_y_and_I_z_cov_1_1': 1.3935375284157638, 'Q_mu': 902791996621763.1, 'Q_sigma': 6489128.509170317, 'sigma_mu': 1.1996585643500162, 'sigma_sigma': 1.8190068716294767}. Best is trial 84 with value: 172.7130889892578.\n",
      "sample: 100%|██████████| 15000/15000 [00:06<00:00, 2300.22it/s, 31 steps of size 6.62e-02. acc. prob=0.94]\n",
      "[I 2024-01-08 05:34:35,224] Trial 101 finished with value: 172.73193359375 and parameters: {'I_y_and_I_z_mu_0': 1.5594075303064003, 'I_y_and_I_z_mu_1': 0.2829238752933301, 'I_y_and_I_z_cov_0_0': 0.5968188866794525, 'I_y_and_I_z_cov_1_1': 1.3994728994941188, 'Q_mu': 981108884579758.4, 'Q_sigma': 5353635.056208997, 'sigma_mu': 1.2706838102433167, 'sigma_sigma': 1.9398271282737742}. Best is trial 84 with value: 172.7130889892578.\n",
      "sample: 100%|██████████| 15000/15000 [00:06<00:00, 2227.83it/s, 31 steps of size 5.90e-02. acc. prob=0.95]\n",
      "[I 2024-01-08 05:34:42,786] Trial 102 finished with value: 172.82827758789062 and parameters: {'I_y_and_I_z_mu_0': 1.4865230428332386, 'I_y_and_I_z_mu_1': 0.3693158508062749, 'I_y_and_I_z_cov_0_0': 0.5006960052336829, 'I_y_and_I_z_cov_1_1': 1.4794849838347934, 'Q_mu': 972382556293588.5, 'Q_sigma': 4727523.146697174, 'sigma_mu': 1.246856286912208, 'sigma_sigma': 1.86661177948054}. Best is trial 84 with value: 172.7130889892578.\n",
      "sample: 100%|██████████| 15000/15000 [00:06<00:00, 2388.10it/s, 31 steps of size 7.89e-02. acc. prob=0.94]\n",
      "[I 2024-01-08 05:34:49,904] Trial 103 finished with value: 172.73681640625 and parameters: {'I_y_and_I_z_mu_0': 1.6172696760385188, 'I_y_and_I_z_mu_1': 0.5006477580701427, 'I_y_and_I_z_cov_0_0': 0.6191221939983065, 'I_y_and_I_z_cov_1_1': 1.3391770938056975, 'Q_mu': 977472563939799.4, 'Q_sigma': 6268736.411169174, 'sigma_mu': 1.2791758680872896, 'sigma_sigma': 1.9579397972242907}. Best is trial 84 with value: 172.7130889892578.\n",
      "sample: 100%|██████████| 15000/15000 [00:06<00:00, 2394.27it/s, 15 steps of size 7.54e-02. acc. prob=0.95]\n",
      "[I 2024-01-08 05:34:57,000] Trial 104 finished with value: 172.69869995117188 and parameters: {'I_y_and_I_z_mu_0': 1.628934902733413, 'I_y_and_I_z_mu_1': 0.4599379296826553, 'I_y_and_I_z_cov_0_0': 0.6167095838402745, 'I_y_and_I_z_cov_1_1': 1.3332445485113038, 'Q_mu': 943165686092819.9, 'Q_sigma': 5236324.231284375, 'sigma_mu': 1.2672396524713434, 'sigma_sigma': 1.9638195611827027}. Best is trial 104 with value: 172.69869995117188.\n",
      "sample: 100%|██████████| 15000/15000 [00:06<00:00, 2468.14it/s, 31 steps of size 8.69e-02. acc. prob=0.94]\n",
      "[I 2024-01-08 05:35:03,885] Trial 105 finished with value: 172.8100128173828 and parameters: {'I_y_and_I_z_mu_0': 1.5244711296817954, 'I_y_and_I_z_mu_1': 0.48647517710664157, 'I_y_and_I_z_cov_0_0': 0.6175847314932544, 'I_y_and_I_z_cov_1_1': 1.2753575090896327, 'Q_mu': 926016678973631.5, 'Q_sigma': 5334984.627824328, 'sigma_mu': 1.2054835688050587, 'sigma_sigma': 1.9034177266421062}. Best is trial 104 with value: 172.69869995117188.\n",
      "sample: 100%|██████████| 15000/15000 [00:06<00:00, 2287.85it/s, 31 steps of size 6.77e-02. acc. prob=0.96]\n",
      "[I 2024-01-08 05:35:11,256] Trial 106 finished with value: 173.14857482910156 and parameters: {'I_y_and_I_z_mu_0': 1.5851138870618904, 'I_y_and_I_z_mu_1': 0.539231677733911, 'I_y_and_I_z_cov_0_0': 0.357698384601107, 'I_y_and_I_z_cov_1_1': 1.5100397013407785, 'Q_mu': 976326290015139.5, 'Q_sigma': 5723966.45304066, 'sigma_mu': 1.3859368487718104, 'sigma_sigma': 1.9690665020555722}. Best is trial 104 with value: 172.69869995117188.\n",
      "sample: 100%|██████████| 15000/15000 [00:06<00:00, 2354.44it/s, 31 steps of size 9.57e-02. acc. prob=0.91]\n",
      "[I 2024-01-08 05:35:18,480] Trial 107 finished with value: 172.89300537109375 and parameters: {'I_y_and_I_z_mu_0': 1.835625302718913, 'I_y_and_I_z_mu_1': 0.5625336846053527, 'I_y_and_I_z_cov_0_0': 0.5167577081849027, 'I_y_and_I_z_cov_1_1': 1.3202907031421844, 'Q_mu': 983098344170726.6, 'Q_sigma': 6033908.782589236, 'sigma_mu': 1.293906039468753, 'sigma_sigma': 1.9918702741337075}. Best is trial 104 with value: 172.69869995117188.\n",
      "sample: 100%|██████████| 15000/15000 [00:07<00:00, 2117.23it/s, 63 steps of size 6.99e-02. acc. prob=0.94]\n",
      "[I 2024-01-08 05:35:26,429] Trial 108 finished with value: 172.73480224609375 and parameters: {'I_y_and_I_z_mu_0': 1.702625097689928, 'I_y_and_I_z_mu_1': 0.4338944158473018, 'I_y_and_I_z_cov_0_0': 0.6414468640425622, 'I_y_and_I_z_cov_1_1': 1.6031890840621978, 'Q_mu': 919108991424584.1, 'Q_sigma': 4891306.941065038, 'sigma_mu': 1.2174862224006087, 'sigma_sigma': 1.947574676968599}. Best is trial 104 with value: 172.69869995117188.\n",
      "sample: 100%|██████████| 15000/15000 [00:06<00:00, 2419.51it/s, 31 steps of size 8.81e-02. acc. prob=0.94]\n",
      "[I 2024-01-08 05:35:33,481] Trial 109 finished with value: 172.83419799804688 and parameters: {'I_y_and_I_z_mu_0': 1.6733830036862685, 'I_y_and_I_z_mu_1': 0.46666560498459886, 'I_y_and_I_z_cov_0_0': 0.7276428827263653, 'I_y_and_I_z_cov_1_1': 1.4317345556011547, 'Q_mu': 932103652308529.2, 'Q_sigma': 5219293.369536681, 'sigma_mu': 1.3584614946847853, 'sigma_sigma': 1.9529587406408289}. Best is trial 104 with value: 172.69869995117188.\n",
      "sample: 100%|██████████| 15000/15000 [00:06<00:00, 2371.56it/s, 15 steps of size 8.44e-02. acc. prob=0.94]\n",
      "[I 2024-01-08 05:35:40,725] Trial 110 finished with value: 172.80023193359375 and parameters: {'I_y_and_I_z_mu_0': 1.4642888086841235, 'I_y_and_I_z_mu_1': 0.43052392806900797, 'I_y_and_I_z_cov_0_0': 0.6435061950158447, 'I_y_and_I_z_cov_1_1': 1.6126965265923165, 'Q_mu': 943178720655592.5, 'Q_sigma': 4395088.527155009, 'sigma_mu': 1.1603846832215334, 'sigma_sigma': 1.9963311701382376}. Best is trial 104 with value: 172.69869995117188.\n",
      "sample: 100%|██████████| 15000/15000 [00:06<00:00, 2347.16it/s, 15 steps of size 8.90e-02. acc. prob=0.93]\n",
      "[I 2024-01-08 05:35:48,069] Trial 111 finished with value: 172.76124572753906 and parameters: {'I_y_and_I_z_mu_0': 1.7052194617991185, 'I_y_and_I_z_mu_1': 0.6533609864286114, 'I_y_and_I_z_cov_0_0': 0.5921079720978915, 'I_y_and_I_z_cov_1_1': 1.5349627071646315, 'Q_mu': 909583431798196.0, 'Q_sigma': 4921151.818245743, 'sigma_mu': 1.2244912493971833, 'sigma_sigma': 1.90557519290925}. Best is trial 104 with value: 172.69869995117188.\n",
      "sample: 100%|██████████| 15000/15000 [00:06<00:00, 2373.81it/s, 15 steps of size 8.07e-02. acc. prob=0.93]\n",
      "[I 2024-01-08 05:35:55,234] Trial 112 finished with value: 172.91046142578125 and parameters: {'I_y_and_I_z_mu_0': 1.8022332071869882, 'I_y_and_I_z_mu_1': 0.5120029383670135, 'I_y_and_I_z_cov_0_0': 0.5547739115367936, 'I_y_and_I_z_cov_1_1': 1.5893475499956564, 'Q_mu': 987453766943335.9, 'Q_sigma': 4955696.743948258, 'sigma_mu': 1.2836796538956308, 'sigma_sigma': 1.828978833511915}. Best is trial 104 with value: 172.69869995117188.\n",
      "sample: 100%|██████████| 15000/15000 [00:06<00:00, 2458.05it/s, 15 steps of size 9.01e-02. acc. prob=0.92]\n",
      "[I 2024-01-08 05:36:02,178] Trial 113 finished with value: 172.83377075195312 and parameters: {'I_y_and_I_z_mu_0': 1.6376215171818007, 'I_y_and_I_z_mu_1': 0.5599655626514304, 'I_y_and_I_z_cov_0_0': 0.4454778473540433, 'I_y_and_I_z_cov_1_1': 1.2271218150778251, 'Q_mu': 877210893112976.4, 'Q_sigma': 5588868.928086517, 'sigma_mu': 1.1104562784610348, 'sigma_sigma': 1.766978850390955}. Best is trial 104 with value: 172.69869995117188.\n",
      "sample: 100%|██████████| 15000/15000 [00:05<00:00, 2647.74it/s, 31 steps of size 1.07e-01. acc. prob=0.92]\n",
      "[I 2024-01-08 05:36:08,707] Trial 114 finished with value: 172.95004272460938 and parameters: {'I_y_and_I_z_mu_0': 1.5667126653507044, 'I_y_and_I_z_mu_1': 0.4226011302322169, 'I_y_and_I_z_cov_0_0': 0.6936326634458939, 'I_y_and_I_z_cov_1_1': 1.3317516867218058, 'Q_mu': 846609483005132.9, 'Q_sigma': 4782261.935568673, 'sigma_mu': 1.2347466758683225, 'sigma_sigma': 1.920063941980726}. Best is trial 104 with value: 172.69869995117188.\n",
      "sample: 100%|██████████| 15000/15000 [00:05<00:00, 2565.18it/s, 15 steps of size 9.86e-02. acc. prob=0.92]\n",
      "[I 2024-01-08 05:36:15,398] Trial 115 finished with value: 172.9913330078125 and parameters: {'I_y_and_I_z_mu_0': 1.5156184795456433, 'I_y_and_I_z_mu_1': 0.2776582121215302, 'I_y_and_I_z_cov_0_0': 0.6069875670056003, 'I_y_and_I_z_cov_1_1': 1.4162039031050082, 'Q_mu': 820392738375572.8, 'Q_sigma': 6274172.4552841205, 'sigma_mu': 1.4062541255048715, 'sigma_sigma': 1.8790872381594999}. Best is trial 104 with value: 172.69869995117188.\n",
      "sample: 100%|██████████| 15000/15000 [00:13<00:00, 1100.44it/s, 13 steps of size 7.64e-02. acc. prob=0.94]\n",
      "[I 2024-01-08 05:36:29,884] Trial 116 finished with value: 172.89678955078125 and parameters: {'I_y_and_I_z_mu_0': 1.7704283168667165, 'I_y_and_I_z_mu_1': 0.4811777855278424, 'I_y_and_I_z_cov_0_0': 0.47084957018448576, 'I_y_and_I_z_cov_1_1': 1.5499403242155507, 'Q_mu': 999464164530262.0, 'Q_sigma': 6946856.109167581, 'sigma_mu': 1.1857758494888841, 'sigma_sigma': 1.7177107242691525}. Best is trial 104 with value: 172.69869995117188.\n",
      "sample: 100%|██████████| 15000/15000 [00:07<00:00, 2028.85it/s, 43 steps of size 6.83e-02. acc. prob=0.94]\n",
      "[I 2024-01-08 05:36:38,119] Trial 117 finished with value: 172.88296508789062 and parameters: {'I_y_and_I_z_mu_0': 1.3808053726258607, 'I_y_and_I_z_mu_1': 0.6292251520845137, 'I_y_and_I_z_cov_0_0': 0.41263819236239474, 'I_y_and_I_z_cov_1_1': 1.6682097859850527, 'Q_mu': 921443462552765.8, 'Q_sigma': 3918221.677279288, 'sigma_mu': 1.2787911784751933, 'sigma_sigma': 1.9488927036483858}. Best is trial 104 with value: 172.69869995117188.\n",
      "sample: 100%|██████████| 15000/15000 [00:06<00:00, 2276.89it/s, 31 steps of size 8.49e-02. acc. prob=0.94]\n",
      "[I 2024-01-08 05:36:45,554] Trial 118 finished with value: 172.90957641601562 and parameters: {'I_y_and_I_z_mu_0': 1.4468460163157046, 'I_y_and_I_z_mu_1': 0.31239107373847264, 'I_y_and_I_z_cov_0_0': 0.6578526928279197, 'I_y_and_I_z_cov_1_1': 1.4870986250481995, 'Q_mu': 899433340805916.0, 'Q_sigma': 4627471.184709122, 'sigma_mu': 1.3192215695007847, 'sigma_sigma': 1.811884934852591}. Best is trial 104 with value: 172.69869995117188.\n",
      "sample: 100%|██████████| 15000/15000 [00:06<00:00, 2270.54it/s, 31 steps of size 9.83e-02. acc. prob=0.90]\n",
      "[I 2024-01-08 05:36:53,014] Trial 119 finished with value: 172.94076538085938 and parameters: {'I_y_and_I_z_mu_0': 1.8548721428390618, 'I_y_and_I_z_mu_1': 0.5856526685238199, 'I_y_and_I_z_cov_0_0': 0.519972512665046, 'I_y_and_I_z_cov_1_1': 1.632210360939834, 'Q_mu': 946185567253952.9, 'Q_sigma': 5220260.7215318475, 'sigma_mu': 1.1501795504040948, 'sigma_sigma': 1.852333789008445}. Best is trial 104 with value: 172.69869995117188.\n",
      "sample: 100%|██████████| 15000/15000 [00:06<00:00, 2448.90it/s, 31 steps of size 1.16e-01. acc. prob=0.94]\n",
      "[I 2024-01-08 05:36:59,986] Trial 120 finished with value: 173.17335510253906 and parameters: {'I_y_and_I_z_mu_0': 1.4829308931351592, 'I_y_and_I_z_mu_1': 0.5177969170006951, 'I_y_and_I_z_cov_0_0': 0.7947894797448568, 'I_y_and_I_z_cov_1_1': 1.4650715215412313, 'Q_mu': 963332324517959.4, 'Q_sigma': 5829029.5285579935, 'sigma_mu': 1.2493198245674608, 'sigma_sigma': 1.9636320980380733}. Best is trial 104 with value: 172.69869995117188.\n",
      "sample: 100%|██████████| 15000/15000 [00:06<00:00, 2184.92it/s, 15 steps of size 7.88e-02. acc. prob=0.92]\n",
      "[I 2024-01-08 05:37:07,713] Trial 121 finished with value: 172.76174926757812 and parameters: {'I_y_and_I_z_mu_0': 1.6298079847898108, 'I_y_and_I_z_mu_1': 0.4127714755000985, 'I_y_and_I_z_cov_0_0': 0.5719672668973005, 'I_y_and_I_z_cov_1_1': 1.3913227828690227, 'Q_mu': 949678214280738.5, 'Q_sigma': 5061164.214964284, 'sigma_mu': 1.2160376488379123, 'sigma_sigma': 1.8560401134823272}. Best is trial 104 with value: 172.69869995117188.\n",
      "sample: 100%|██████████| 15000/15000 [00:06<00:00, 2152.44it/s, 31 steps of size 9.00e-02. acc. prob=0.94]\n",
      "[I 2024-01-08 05:37:15,544] Trial 122 finished with value: 172.82293701171875 and parameters: {'I_y_and_I_z_mu_0': 1.704480341896424, 'I_y_and_I_z_mu_1': 0.3554866244795769, 'I_y_and_I_z_cov_0_0': 0.7455980316627089, 'I_y_and_I_z_cov_1_1': 1.336141355147077, 'Q_mu': 922585480635103.5, 'Q_sigma': 5337570.837278479, 'sigma_mu': 1.3592242589445054, 'sigma_sigma': 1.7922167182812307}. Best is trial 104 with value: 172.69869995117188.\n",
      "sample: 100%|██████████| 15000/15000 [00:06<00:00, 2156.37it/s, 31 steps of size 7.17e-02. acc. prob=0.96]\n",
      "[I 2024-01-08 05:37:23,355] Trial 123 finished with value: 172.7682647705078 and parameters: {'I_y_and_I_z_mu_0': 1.6212893608817636, 'I_y_and_I_z_mu_1': 0.3539946499247085, 'I_y_and_I_z_cov_0_0': 0.6844612549689375, 'I_y_and_I_z_cov_1_1': 1.2614510600716886, 'Q_mu': 869849296768945.6, 'Q_sigma': 4342340.291658733, 'sigma_mu': 1.2618669633347879, 'sigma_sigma': 1.9031125333940264}. Best is trial 104 with value: 172.69869995117188.\n",
      "sample: 100%|██████████| 15000/15000 [00:06<00:00, 2221.71it/s, 31 steps of size 1.22e-01. acc. prob=0.92]\n",
      "[I 2024-01-08 05:37:31,029] Trial 124 finished with value: 173.204345703125 and parameters: {'I_y_and_I_z_mu_0': 1.5683021569103273, 'I_y_and_I_z_mu_1': 0.4512442083913739, 'I_y_and_I_z_cov_0_0': 0.867826884209744, 'I_y_and_I_z_cov_1_1': 1.402792668045736, 'Q_mu': 979288164007711.6, 'Q_sigma': 6625315.029482318, 'sigma_mu': 1.3030252418292987, 'sigma_sigma': 1.9333447627269977}. Best is trial 104 with value: 172.69869995117188.\n",
      "sample: 100%|██████████| 15000/15000 [00:06<00:00, 2344.39it/s, 31 steps of size 1.16e-01. acc. prob=0.94]\n",
      "[I 2024-01-08 05:37:38,311] Trial 125 finished with value: 173.12808227539062 and parameters: {'I_y_and_I_z_mu_0': 1.2902673688873094, 'I_y_and_I_z_mu_1': 0.6859872139111319, 'I_y_and_I_z_cov_0_0': 0.6370906075802506, 'I_y_and_I_z_cov_1_1': 1.56469431973385, 'Q_mu': 951280431223183.4, 'Q_sigma': 5116297.46607331, 'sigma_mu': 1.2659570142787386, 'sigma_sigma': 1.8774561256592246}. Best is trial 104 with value: 172.69869995117188.\n",
      "sample: 100%|██████████| 15000/15000 [00:06<00:00, 2166.85it/s, 15 steps of size 8.14e-02. acc. prob=0.92]\n",
      "[I 2024-01-08 05:37:46,106] Trial 126 finished with value: 172.71957397460938 and parameters: {'I_y_and_I_z_mu_0': 1.6078312036293287, 'I_y_and_I_z_mu_1': 0.32153714753096635, 'I_y_and_I_z_cov_0_0': 0.6015688166815669, 'I_y_and_I_z_cov_1_1': 1.3531485798942318, 'Q_mu': 903557984931037.8, 'Q_sigma': 4793649.38589597, 'sigma_mu': 1.1882693392967991, 'sigma_sigma': 1.9982996079487538}. Best is trial 104 with value: 172.69869995117188.\n",
      "sample: 100%|██████████| 15000/15000 [00:07<00:00, 2083.50it/s, 63 steps of size 5.95e-02. acc. prob=0.95]\n",
      "[I 2024-01-08 05:37:54,196] Trial 127 finished with value: 172.7637481689453 and parameters: {'I_y_and_I_z_mu_0': 1.5181231449048767, 'I_y_and_I_z_mu_1': 0.21124496087082087, 'I_y_and_I_z_cov_0_0': 0.5545376345173033, 'I_y_and_I_z_cov_1_1': 1.5199091694849178, 'Q_mu': 901085609636387.2, 'Q_sigma': 4791172.05368575, 'sigma_mu': 1.1862541306765348, 'sigma_sigma': 1.998221204975695}. Best is trial 104 with value: 172.69869995117188.\n",
      "sample: 100%|██████████| 15000/15000 [00:06<00:00, 2186.68it/s, 31 steps of size 7.88e-02. acc. prob=0.94]\n",
      "[I 2024-01-08 05:38:01,964] Trial 128 finished with value: 172.86195373535156 and parameters: {'I_y_and_I_z_mu_0': 1.7249135482800155, 'I_y_and_I_z_mu_1': 0.25475383406841123, 'I_y_and_I_z_cov_0_0': 0.47132164440125957, 'I_y_and_I_z_cov_1_1': 1.4425808893123058, 'Q_mu': 771621821568583.9, 'Q_sigma': 4622321.627287836, 'sigma_mu': 1.1091073201221626, 'sigma_sigma': 1.9435608589693412}. Best is trial 104 with value: 172.69869995117188.\n",
      "sample: 100%|██████████| 15000/15000 [00:06<00:00, 2379.19it/s, 15 steps of size 1.02e-01. acc. prob=0.93]\n",
      "[I 2024-01-08 05:38:09,163] Trial 129 finished with value: 172.9635772705078 and parameters: {'I_y_and_I_z_mu_0': 1.6592499006906631, 'I_y_and_I_z_mu_1': 0.31807920381429206, 'I_y_and_I_z_cov_0_0': 0.6147638092705108, 'I_y_and_I_z_cov_1_1': 1.2202288983936327, 'Q_mu': 834421675115657.9, 'Q_sigma': 7254654.148169597, 'sigma_mu': 1.3348364173074456, 'sigma_sigma': 1.9709176401189052}. Best is trial 104 with value: 172.69869995117188.\n",
      "sample: 100%|██████████| 15000/15000 [00:06<00:00, 2322.50it/s, 31 steps of size 9.89e-02. acc. prob=0.93]\n",
      "[I 2024-01-08 05:38:16,521] Trial 130 finished with value: 172.7781219482422 and parameters: {'I_y_and_I_z_mu_0': 1.8879350022615347, 'I_y_and_I_z_mu_1': 0.7323988959425045, 'I_y_and_I_z_cov_0_0': 0.518866623469055, 'I_y_and_I_z_cov_1_1': 1.280439982250408, 'Q_mu': 812131045009563.4, 'Q_sigma': 5462513.916798477, 'sigma_mu': 1.4395484121347284, 'sigma_sigma': 1.9174659631823945}. Best is trial 104 with value: 172.69869995117188.\n",
      "sample: 100%|██████████| 15000/15000 [00:06<00:00, 2179.91it/s, 63 steps of size 7.25e-02. acc. prob=0.94]\n",
      "[I 2024-01-08 05:38:24,293] Trial 131 finished with value: 172.7292022705078 and parameters: {'I_y_and_I_z_mu_0': 1.5993349905870617, 'I_y_and_I_z_mu_1': 0.3855425084704778, 'I_y_and_I_z_cov_0_0': 0.5842061278233109, 'I_y_and_I_z_cov_1_1': 1.332832020448626, 'Q_mu': 941959978733452.8, 'Q_sigma': 5167772.1110686315, 'sigma_mu': 1.16516341528501, 'sigma_sigma': 1.8544179659655533}. Best is trial 104 with value: 172.69869995117188.\n",
      "sample: 100%|██████████| 15000/15000 [00:07<00:00, 1993.38it/s, 15 steps of size 7.28e-02. acc. prob=0.95]\n",
      "[I 2024-01-08 05:38:32,738] Trial 132 finished with value: 172.714599609375 and parameters: {'I_y_and_I_z_mu_0': 1.5921808227424585, 'I_y_and_I_z_mu_1': 0.3888770668904127, 'I_y_and_I_z_cov_0_0': 0.5776929372141858, 'I_y_and_I_z_cov_1_1': 1.3395660297140612, 'Q_mu': 888162042026694.2, 'Q_sigma': 5538762.394417888, 'sigma_mu': 1.1381299832777023, 'sigma_sigma': 1.7594929161944117}. Best is trial 104 with value: 172.69869995117188.\n",
      "sample: 100%|██████████| 15000/15000 [00:07<00:00, 1958.41it/s, 63 steps of size 6.57e-02. acc. prob=0.96]\n",
      "[I 2024-01-08 05:38:41,327] Trial 133 finished with value: 172.7199249267578 and parameters: {'I_y_and_I_z_mu_0': 1.5953107481695405, 'I_y_and_I_z_mu_1': 0.4005405870426004, 'I_y_and_I_z_cov_0_0': 0.5820916313248842, 'I_y_and_I_z_cov_1_1': 1.3405017803575685, 'Q_mu': 916594706512047.8, 'Q_sigma': 5673584.852442114, 'sigma_mu': 1.1406068891302126, 'sigma_sigma': 1.7719424881933352}. Best is trial 104 with value: 172.69869995117188.\n",
      "sample: 100%|██████████| 15000/15000 [00:07<00:00, 1968.59it/s, 31 steps of size 8.21e-02. acc. prob=0.92]\n",
      "[I 2024-01-08 05:38:49,877] Trial 134 finished with value: 172.7410888671875 and parameters: {'I_y_and_I_z_mu_0': 1.5558517212468823, 'I_y_and_I_z_mu_1': 0.28380020162775854, 'I_y_and_I_z_cov_0_0': 0.5915045943362676, 'I_y_and_I_z_cov_1_1': 1.340191214929721, 'Q_mu': 920773069637710.8, 'Q_sigma': 5592325.141140137, 'sigma_mu': 1.1570562746254638, 'sigma_sigma': 1.8934519667894238}. Best is trial 104 with value: 172.69869995117188.\n",
      "sample: 100%|██████████| 15000/15000 [00:06<00:00, 2196.40it/s, 31 steps of size 1.01e-01. acc. prob=0.93]\n",
      "[I 2024-01-08 05:38:57,654] Trial 135 finished with value: 172.932861328125 and parameters: {'I_y_and_I_z_mu_0': 1.607868718148, 'I_y_and_I_z_mu_1': 0.3936631004343994, 'I_y_and_I_z_cov_0_0': 0.6992322417745751, 'I_y_and_I_z_cov_1_1': 1.294069630877263, 'Q_mu': 895218957853962.1, 'Q_sigma': 5809528.595635546, 'sigma_mu': 1.0994372826229397, 'sigma_sigma': 1.7271909483348782}. Best is trial 104 with value: 172.69869995117188.\n",
      "sample: 100%|██████████| 15000/15000 [00:06<00:00, 2214.56it/s, 15 steps of size 9.95e-02. acc. prob=0.92]\n",
      "[I 2024-01-08 05:39:05,331] Trial 136 finished with value: 172.86061096191406 and parameters: {'I_y_and_I_z_mu_0': 1.492382120907982, 'I_y_and_I_z_mu_1': 0.39312355326788334, 'I_y_and_I_z_cov_0_0': 0.6359732099025018, 'I_y_and_I_z_cov_1_1': 1.193387824912444, 'Q_mu': 937976706050615.2, 'Q_sigma': 5372374.580768472, 'sigma_mu': 1.1249357689598707, 'sigma_sigma': 1.8390388128834763}. Best is trial 104 with value: 172.69869995117188.\n",
      "sample: 100%|██████████| 15000/15000 [00:06<00:00, 2336.82it/s, 15 steps of size 1.22e-01. acc. prob=0.94]\n",
      "[I 2024-01-08 05:39:12,684] Trial 137 finished with value: 173.25540161132812 and parameters: {'I_y_and_I_z_mu_0': 1.4343905938795731, 'I_y_and_I_z_mu_1': 0.45263311018296354, 'I_y_and_I_z_cov_0_0': 0.7565139130920775, 'I_y_and_I_z_cov_1_1': 1.2418754312671352, 'Q_mu': 876516162957340.0, 'Q_sigma': 6083425.553191366, 'sigma_mu': 1.0752381190821723, 'sigma_sigma': 1.965370821246145}. Best is trial 104 with value: 172.69869995117188.\n",
      "sample: 100%|██████████| 15000/15000 [00:06<00:00, 2146.63it/s, 31 steps of size 7.47e-02. acc. prob=0.93]\n",
      "[I 2024-01-08 05:39:20,628] Trial 138 finished with value: 172.74789428710938 and parameters: {'I_y_and_I_z_mu_0': 1.5898730314658316, 'I_y_and_I_z_mu_1': 0.325440587456608, 'I_y_and_I_z_cov_0_0': 0.5855473137548732, 'I_y_and_I_z_cov_1_1': 1.1475772277687564, 'Q_mu': 967440927074004.5, 'Q_sigma': 4934520.681890711, 'sigma_mu': 1.207043414389148, 'sigma_sigma': 1.7856993945734705}. Best is trial 104 with value: 172.69869995117188.\n",
      "sample: 100%|██████████| 15000/15000 [00:06<00:00, 2235.98it/s, 31 steps of size 7.55e-02. acc. prob=0.94]\n",
      "[I 2024-01-08 05:39:28,238] Trial 139 finished with value: 172.7107696533203 and parameters: {'I_y_and_I_z_mu_0': 1.5410302184020193, 'I_y_and_I_z_mu_1': 0.2421315822418742, 'I_y_and_I_z_cov_0_0': 0.555907006833844, 'I_y_and_I_z_cov_1_1': 1.340652062417314, 'Q_mu': 856061118871780.0, 'Q_sigma': 5660815.421354194, 'sigma_mu': 1.136221493835921, 'sigma_sigma': 1.7510872828278485}. Best is trial 104 with value: 172.69869995117188.\n",
      "sample: 100%|██████████| 15000/15000 [00:07<00:00, 2006.51it/s, 39 steps of size 7.25e-02. acc. prob=0.94]\n",
      "[I 2024-01-08 05:39:36,627] Trial 140 finished with value: 172.7197265625 and parameters: {'I_y_and_I_z_mu_0': 1.5200135751886314, 'I_y_and_I_z_mu_1': 0.23156352105652778, 'I_y_and_I_z_cov_0_0': 0.539251883393479, 'I_y_and_I_z_cov_1_1': 1.3803740109152067, 'Q_mu': 858459375962974.8, 'Q_sigma': 5176917.455678238, 'sigma_mu': 1.0711277678604636, 'sigma_sigma': 1.7338143982397245}. Best is trial 104 with value: 172.69869995117188.\n",
      "sample: 100%|██████████| 15000/15000 [00:07<00:00, 1974.30it/s, 63 steps of size 6.89e-02. acc. prob=0.94]\n",
      "[I 2024-01-08 05:39:45,158] Trial 141 finished with value: 172.78016662597656 and parameters: {'I_y_and_I_z_mu_0': 1.5268728203737336, 'I_y_and_I_z_mu_1': 0.24486385534456354, 'I_y_and_I_z_cov_0_0': 0.47923353701672367, 'I_y_and_I_z_cov_1_1': 1.377377758246988, 'Q_mu': 850230254767359.9, 'Q_sigma': 5134022.733811797, 'sigma_mu': 1.0655102451938705, 'sigma_sigma': 1.8279161282720326}. Best is trial 104 with value: 172.69869995117188.\n",
      "sample: 100%|██████████| 15000/15000 [00:07<00:00, 2018.82it/s, 15 steps of size 7.54e-02. acc. prob=0.93]\n",
      "[I 2024-01-08 05:39:53,531] Trial 142 finished with value: 172.73492431640625 and parameters: {'I_y_and_I_z_mu_0': 1.5498090074931414, 'I_y_and_I_z_mu_1': 0.1776308805657618, 'I_y_and_I_z_cov_0_0': 0.5505290333638523, 'I_y_and_I_z_cov_1_1': 1.3097930488546548, 'Q_mu': 865895623472409.6, 'Q_sigma': 5604946.892801427, 'sigma_mu': 1.0240220638791586, 'sigma_sigma': 1.7496082954114343}. Best is trial 104 with value: 172.69869995117188.\n",
      "sample: 100%|██████████| 15000/15000 [00:07<00:00, 1975.78it/s, 31 steps of size 7.22e-02. acc. prob=0.94]\n",
      "[I 2024-01-08 05:40:02,091] Trial 143 finished with value: 172.82266235351562 and parameters: {'I_y_and_I_z_mu_0': 1.407812415800952, 'I_y_and_I_z_mu_1': 0.13093036077842304, 'I_y_and_I_z_cov_0_0': 0.5627980738341125, 'I_y_and_I_z_cov_1_1': 1.3069302792678874, 'Q_mu': 888533474531219.4, 'Q_sigma': 5571812.907788018, 'sigma_mu': 1.0383900595198272, 'sigma_sigma': 1.7488268821491235}. Best is trial 104 with value: 172.69869995117188.\n",
      "sample: 100%|██████████| 15000/15000 [00:06<00:00, 2187.15it/s, 15 steps of size 9.46e-02. acc. prob=0.92]\n",
      "[I 2024-01-08 05:40:09,961] Trial 144 finished with value: 172.9171905517578 and parameters: {'I_y_and_I_z_mu_0': 1.485153422897783, 'I_y_and_I_z_mu_1': 0.19286585908621204, 'I_y_and_I_z_cov_0_0': 0.6546810993093277, 'I_y_and_I_z_cov_1_1': 1.2688073315894979, 'Q_mu': 864493245776346.9, 'Q_sigma': 5288370.241876647, 'sigma_mu': 1.1410743767155733, 'sigma_sigma': 1.7183530842022754}. Best is trial 104 with value: 172.69869995117188.\n",
      "sample: 100%|██████████| 15000/15000 [00:08<00:00, 1761.06it/s, 63 steps of size 6.48e-02. acc. prob=0.94]\n",
      "[I 2024-01-08 05:40:19,432] Trial 145 finished with value: 172.79783630371094 and parameters: {'I_y_and_I_z_mu_0': 1.5564379030864826, 'I_y_and_I_z_mu_1': 0.1421935851411118, 'I_y_and_I_z_cov_0_0': 0.5502759409128185, 'I_y_and_I_z_cov_1_1': 1.3625269761389505, 'Q_mu': 911426424342535.5, 'Q_sigma': 4814099.512502665, 'sigma_mu': 0.9950465901291726, 'sigma_sigma': 1.6794649069467502}. Best is trial 104 with value: 172.69869995117188.\n",
      "sample: 100%|██████████| 15000/15000 [00:07<00:00, 1999.04it/s, 31 steps of size 6.22e-02. acc. prob=0.93]\n",
      "[I 2024-01-08 05:40:27,864] Trial 146 finished with value: 172.90634155273438 and parameters: {'I_y_and_I_z_mu_0': 1.4386627836640102, 'I_y_and_I_z_mu_1': 0.2292300137394292, 'I_y_and_I_z_cov_0_0': 0.45304070205829877, 'I_y_and_I_z_cov_1_1': 1.4113000800076863, 'Q_mu': 921991687601271.5, 'Q_sigma': 4447816.917970883, 'sigma_mu': 1.079142562485843, 'sigma_sigma': 1.7519911322050103}. Best is trial 104 with value: 172.69869995117188.\n",
      "sample: 100%|██████████| 15000/15000 [00:06<00:00, 2204.51it/s, 31 steps of size 7.97e-02. acc. prob=0.93]\n",
      "[I 2024-01-08 05:40:35,599] Trial 147 finished with value: 172.72283935546875 and parameters: {'I_y_and_I_z_mu_0': 1.5276970316973137, 'I_y_and_I_z_mu_1': 0.2776139058351131, 'I_y_and_I_z_cov_0_0': 0.5922299836123428, 'I_y_and_I_z_cov_1_1': 1.3202279253284233, 'Q_mu': 888303332437197.0, 'Q_sigma': 4635273.476669959, 'sigma_mu': 1.0353899155390252, 'sigma_sigma': 1.7762280713393306}. Best is trial 104 with value: 172.69869995117188.\n",
      "sample: 100%|██████████| 15000/15000 [00:07<00:00, 2084.39it/s, 15 steps of size 8.54e-02. acc. prob=0.92]\n",
      "[I 2024-01-08 05:40:43,748] Trial 148 finished with value: 172.72479248046875 and parameters: {'I_y_and_I_z_mu_0': 1.670421542974235, 'I_y_and_I_z_mu_1': 0.28260928547212355, 'I_y_and_I_z_cov_0_0': 0.7119302901627023, 'I_y_and_I_z_cov_1_1': 1.4477455769011882, 'Q_mu': 885883560122744.6, 'Q_sigma': 4160480.820748847, 'sigma_mu': 1.1172878350420663, 'sigma_sigma': 1.800515244849617}. Best is trial 104 with value: 172.69869995117188.\n",
      "sample: 100%|██████████| 15000/15000 [00:07<00:00, 2070.94it/s, 31 steps of size 8.69e-02. acc. prob=0.95]\n",
      "[I 2024-01-08 05:40:51,947] Trial 149 finished with value: 172.92510986328125 and parameters: {'I_y_and_I_z_mu_0': 1.4981141355030132, 'I_y_and_I_z_mu_1': 0.2816099412069788, 'I_y_and_I_z_cov_0_0': 0.7249727058902327, 'I_y_and_I_z_cov_1_1': 1.4479688290208927, 'Q_mu': 888811389708178.6, 'Q_sigma': 3549931.326810275, 'sigma_mu': 1.117880248177971, 'sigma_sigma': 1.7831381325125948}. Best is trial 104 with value: 172.69869995117188.\n",
      "sample: 100%|██████████| 15000/15000 [00:07<00:00, 1941.95it/s, 63 steps of size 5.94e-02. acc. prob=0.96]\n",
      "[I 2024-01-08 05:41:00,613] Trial 150 finished with value: 172.76113891601562 and parameters: {'I_y_and_I_z_mu_0': 1.5873419724993576, 'I_y_and_I_z_mu_1': 0.30940064910809645, 'I_y_and_I_z_cov_0_0': 0.6021416559203024, 'I_y_and_I_z_cov_1_1': 1.3522269683545043, 'Q_mu': 946298299178370.9, 'Q_sigma': 4134844.008664345, 'sigma_mu': 1.0677030494097768, 'sigma_sigma': 1.694542964810439}. Best is trial 104 with value: 172.69869995117188.\n",
      "sample: 100%|██████████| 15000/15000 [00:06<00:00, 2229.58it/s, 31 steps of size 9.73e-02. acc. prob=0.89]\n",
      "[I 2024-01-08 05:41:08,296] Trial 151 finished with value: 172.73406982421875 and parameters: {'I_y_and_I_z_mu_0': 1.6757049210550137, 'I_y_and_I_z_mu_1': 0.3598333764897394, 'I_y_and_I_z_cov_0_0': 0.6572962088156807, 'I_y_and_I_z_cov_1_1': 1.3923860737458946, 'Q_mu': 907857293107938.2, 'Q_sigma': 4546624.21274751, 'sigma_mu': 1.1757999745778376, 'sigma_sigma': 1.8721272801930697}. Best is trial 104 with value: 172.69869995117188.\n",
      "sample: 100%|██████████| 15000/15000 [00:06<00:00, 2220.59it/s, 31 steps of size 9.19e-02. acc. prob=0.93]\n",
      "[I 2024-01-08 05:41:15,983] Trial 152 finished with value: 172.75656127929688 and parameters: {'I_y_and_I_z_mu_0': 1.6642526054214655, 'I_y_and_I_z_mu_1': 0.35884718239516133, 'I_y_and_I_z_cov_0_0': 0.6779733184337927, 'I_y_and_I_z_cov_1_1': 1.4018991369489437, 'Q_mu': 848905727499161.9, 'Q_sigma': 4265409.887496477, 'sigma_mu': 1.1710514730332096, 'sigma_sigma': 1.848733710410292}. Best is trial 104 with value: 172.69869995117188.\n",
      "sample: 100%|██████████| 15000/15000 [00:07<00:00, 2098.58it/s, 63 steps of size 6.57e-02. acc. prob=0.95]\n",
      "[I 2024-01-08 05:41:24,079] Trial 153 finished with value: 172.72845458984375 and parameters: {'I_y_and_I_z_mu_0': 1.524888906475192, 'I_y_and_I_z_mu_1': 0.26539444002334533, 'I_y_and_I_z_cov_0_0': 0.5917185421048187, 'I_y_and_I_z_cov_1_1': 1.3367013119699944, 'Q_mu': 901665687597799.4, 'Q_sigma': 4508892.35260595, 'sigma_mu': 1.1251275853605147, 'sigma_sigma': 1.6383546190645868}. Best is trial 104 with value: 172.69869995117188.\n",
      "sample: 100%|██████████| 15000/15000 [00:07<00:00, 2128.63it/s, 15 steps of size 6.98e-02. acc. prob=0.94]\n",
      "[I 2024-01-08 05:41:32,042] Trial 154 finished with value: 172.7174530029297 and parameters: {'I_y_and_I_z_mu_0': 1.5256733668888558, 'I_y_and_I_z_mu_1': 0.26875862499990466, 'I_y_and_I_z_cov_0_0': 0.584052837267369, 'I_y_and_I_z_cov_1_1': 1.3110865807607417, 'Q_mu': 878417439169124.9, 'Q_sigma': 4630818.248646171, 'sigma_mu': 1.0991993486415788, 'sigma_sigma': 1.8066974337246595}. Best is trial 104 with value: 172.69869995117188.\n",
      "sample: 100%|██████████| 15000/15000 [00:06<00:00, 2166.82it/s, 15 steps of size 7.56e-02. acc. prob=0.94]\n",
      "[I 2024-01-08 05:41:39,891] Trial 155 finished with value: 172.7213134765625 and parameters: {'I_y_and_I_z_mu_0': 1.5297802712608364, 'I_y_and_I_z_mu_1': 0.2583161293542486, 'I_y_and_I_z_cov_0_0': 0.5858040959757329, 'I_y_and_I_z_cov_1_1': 1.3248705426273817, 'Q_mu': 881906886224446.6, 'Q_sigma': 4679224.569261319, 'sigma_mu': 1.0272442786227087, 'sigma_sigma': 1.6294052499118572}. Best is trial 104 with value: 172.69869995117188.\n",
      "sample: 100%|██████████| 15000/15000 [00:07<00:00, 1972.40it/s, 31 steps of size 6.79e-02. acc. prob=0.94]\n",
      "[I 2024-01-08 05:41:48,441] Trial 156 finished with value: 172.73960876464844 and parameters: {'I_y_and_I_z_mu_0': 1.468945074427907, 'I_y_and_I_z_mu_1': 0.22626250088154365, 'I_y_and_I_z_cov_0_0': 0.5166598396153208, 'I_y_and_I_z_cov_1_1': 1.2414322929159418, 'Q_mu': 880158273321357.6, 'Q_sigma': 4625243.276060378, 'sigma_mu': 0.9889101473788982, 'sigma_sigma': 1.6192997292257323}. Best is trial 104 with value: 172.69869995117188.\n",
      "sample: 100%|██████████| 15000/15000 [00:06<00:00, 2189.50it/s, 31 steps of size 9.42e-02. acc. prob=0.92]\n",
      "[I 2024-01-08 05:41:56,225] Trial 157 finished with value: 172.8628692626953 and parameters: {'I_y_and_I_z_mu_0': 1.376639136458719, 'I_y_and_I_z_mu_1': 0.2625708664907499, 'I_y_and_I_z_cov_0_0': 0.5745642808208085, 'I_y_and_I_z_cov_1_1': 1.3024495628421493, 'Q_mu': 898471342446767.8, 'Q_sigma': 5012923.844913402, 'sigma_mu': 1.038859465083508, 'sigma_sigma': 1.698164320073623}. Best is trial 104 with value: 172.69869995117188.\n",
      "sample: 100%|██████████| 15000/15000 [00:06<00:00, 2160.62it/s, 31 steps of size 8.12e-02. acc. prob=0.93]\n",
      "[I 2024-01-08 05:42:04,118] Trial 158 finished with value: 172.73199462890625 and parameters: {'I_y_and_I_z_mu_0': 1.5222740038198548, 'I_y_and_I_z_mu_1': 0.14784763528494443, 'I_y_and_I_z_cov_0_0': 0.6195525267469633, 'I_y_and_I_z_cov_1_1': 1.338520296539336, 'Q_mu': 840251463470840.6, 'Q_sigma': 4069383.5049291486, 'sigma_mu': 1.093712117183752, 'sigma_sigma': 1.811123883228195}. Best is trial 104 with value: 172.69869995117188.\n",
      "sample: 100%|██████████| 15000/15000 [00:06<00:00, 2143.75it/s, 31 steps of size 8.05e-02. acc. prob=0.93]\n",
      "[I 2024-01-08 05:42:12,034] Trial 159 finished with value: 172.7522735595703 and parameters: {'I_y_and_I_z_mu_0': 1.5902174743121635, 'I_y_and_I_z_mu_1': 0.21033371876824059, 'I_y_and_I_z_cov_0_0': 0.7141277444290659, 'I_y_and_I_z_cov_1_1': 1.2819797477653097, 'Q_mu': 934927190042896.9, 'Q_sigma': 4414015.544119054, 'sigma_mu': 1.0170061125273417, 'sigma_sigma': 1.7744559892457543}. Best is trial 104 with value: 172.69869995117188.\n",
      "sample: 100%|██████████| 15000/15000 [00:07<00:00, 2061.88it/s, 63 steps of size 6.07e-02. acc. prob=0.95]\n",
      "[I 2024-01-08 05:42:20,242] Trial 160 finished with value: 172.73187255859375 and parameters: {'I_y_and_I_z_mu_0': 1.4534218269261536, 'I_y_and_I_z_mu_1': 0.10070036209209893, 'I_y_and_I_z_cov_0_0': 0.5357380219230393, 'I_y_and_I_z_cov_1_1': 1.3282711664621933, 'Q_mu': 861316645256765.9, 'Q_sigma': 4646560.935464864, 'sigma_mu': 1.1109075359546123, 'sigma_sigma': 1.6576683720459737}. Best is trial 104 with value: 172.69869995117188.\n",
      "sample: 100%|██████████| 15000/15000 [00:07<00:00, 2078.07it/s, 39 steps of size 6.35e-02. acc. prob=0.94]\n",
      "[I 2024-01-08 05:42:28,337] Trial 161 finished with value: 172.76034545898438 and parameters: {'I_y_and_I_z_mu_0': 1.4625715075492582, 'I_y_and_I_z_mu_1': 0.11990824341112702, 'I_y_and_I_z_cov_0_0': 0.5211523880926563, 'I_y_and_I_z_cov_1_1': 1.3328186144445553, 'Q_mu': 862675171134228.4, 'Q_sigma': 4697969.1618796885, 'sigma_mu': 1.126470893437784, 'sigma_sigma': 1.5991700907597117}. Best is trial 104 with value: 172.69869995117188.\n",
      "sample: 100%|██████████| 15000/15000 [00:06<00:00, 2182.90it/s, 15 steps of size 7.95e-02. acc. prob=0.93]\n",
      "[I 2024-01-08 05:42:36,135] Trial 162 finished with value: 172.71771240234375 and parameters: {'I_y_and_I_z_mu_0': 1.5360342962276639, 'I_y_and_I_z_mu_1': 0.25767154868539777, 'I_y_and_I_z_cov_0_0': 0.5576558370767108, 'I_y_and_I_z_cov_1_1': 1.21026203168853, 'Q_mu': 880775342455488.6, 'Q_sigma': 5164784.283394992, 'sigma_mu': 1.1025239465064385, 'sigma_sigma': 1.6516346707158789}. Best is trial 104 with value: 172.69869995117188.\n",
      "sample: 100%|██████████| 15000/15000 [00:06<00:00, 2172.61it/s, 47 steps of size 7.47e-02. acc. prob=0.94]\n",
      "[I 2024-01-08 05:42:43,975] Trial 163 finished with value: 172.7200927734375 and parameters: {'I_y_and_I_z_mu_0': 1.5352167796099192, 'I_y_and_I_z_mu_1': 0.31182695042015696, 'I_y_and_I_z_cov_0_0': 0.5670593198376632, 'I_y_and_I_z_cov_1_1': 1.210168597556755, 'Q_mu': 885388940964638.6, 'Q_sigma': 5018970.966105908, 'sigma_mu': 1.0628000719963142, 'sigma_sigma': 1.6637847663992973}. Best is trial 104 with value: 172.69869995117188.\n",
      "sample: 100%|██████████| 15000/15000 [00:07<00:00, 2027.91it/s, 15 steps of size 7.79e-02. acc. prob=0.92]\n",
      "[I 2024-01-08 05:42:52,342] Trial 164 finished with value: 172.78900146484375 and parameters: {'I_y_and_I_z_mu_0': 1.5188319775449461, 'I_y_and_I_z_mu_1': 0.2537286505238213, 'I_y_and_I_z_cov_0_0': 0.48913122629966094, 'I_y_and_I_z_cov_1_1': 1.1962936877121197, 'Q_mu': 884725787443848.5, 'Q_sigma': 5012481.5192288505, 'sigma_mu': 0.9817571078545291, 'sigma_sigma': 1.6331765546692645}. Best is trial 104 with value: 172.69869995117188.\n",
      "sample: 100%|██████████| 15000/15000 [00:07<00:00, 2071.86it/s, 31 steps of size 8.28e-02. acc. prob=0.93]\n",
      "[I 2024-01-08 05:43:00,560] Trial 165 finished with value: 172.7190399169922 and parameters: {'I_y_and_I_z_mu_0': 1.5333497482934246, 'I_y_and_I_z_mu_1': 0.3064769268586791, 'I_y_and_I_z_cov_0_0': 0.5656453333699325, 'I_y_and_I_z_cov_1_1': 1.232512923872431, 'Q_mu': 837520921196222.5, 'Q_sigma': 4856490.977078374, 'sigma_mu': 1.0585530246270671, 'sigma_sigma': 1.5657974252652793}. Best is trial 104 with value: 172.69869995117188.\n",
      "sample: 100%|██████████| 15000/15000 [00:06<00:00, 2252.56it/s, 15 steps of size 1.11e-01. acc. prob=0.93]\n",
      "[I 2024-01-08 05:43:08,206] Trial 166 finished with value: 173.0823211669922 and parameters: {'I_y_and_I_z_mu_0': 1.4083458852162676, 'I_y_and_I_z_mu_1': 0.300403873633305, 'I_y_and_I_z_cov_0_0': 0.6583101392818006, 'I_y_and_I_z_cov_1_1': 1.1498689064978953, 'Q_mu': 828748869960850.1, 'Q_sigma': 4867053.600775463, 'sigma_mu': 1.0385147494731888, 'sigma_sigma': 1.709803454410663}. Best is trial 104 with value: 172.69869995117188.\n",
      "sample: 100%|██████████| 15000/15000 [00:07<00:00, 2062.99it/s, 31 steps of size 8.03e-02. acc. prob=0.93]\n",
      "[I 2024-01-08 05:43:16,446] Trial 167 finished with value: 172.7248992919922 and parameters: {'I_y_and_I_z_mu_0': 1.639723634510643, 'I_y_and_I_z_mu_1': 0.31305093726662553, 'I_y_and_I_z_cov_0_0': 0.55703895070003, 'I_y_and_I_z_cov_1_1': 1.1062570397061116, 'Q_mu': 849740923823870.9, 'Q_sigma': 5195357.681157511, 'sigma_mu': 1.0840195145696307, 'sigma_sigma': 1.5869151022077934}. Best is trial 104 with value: 172.69869995117188.\n",
      "sample: 100%|██████████| 15000/15000 [00:07<00:00, 2111.91it/s, 15 steps of size 8.17e-02. acc. prob=0.94] \n",
      "[I 2024-01-08 05:43:24,541] Trial 168 finished with value: 172.75926208496094 and parameters: {'I_y_and_I_z_mu_0': 1.5424013594454766, 'I_y_and_I_z_mu_1': 0.20919955855202085, 'I_y_and_I_z_cov_0_0': 0.617174548522689, 'I_y_and_I_z_cov_1_1': 1.2311280142729406, 'Q_mu': 883520180977546.9, 'Q_sigma': 5421562.444284846, 'sigma_mu': 0.931013965441743, 'sigma_sigma': 1.6594827162471406}. Best is trial 104 with value: 172.69869995117188.\n",
      "sample: 100%|██████████| 15000/15000 [00:07<00:00, 2102.70it/s, 31 steps of size 7.42e-02. acc. prob=0.94]\n",
      "[I 2024-01-08 05:43:32,708] Trial 169 finished with value: 172.73809814453125 and parameters: {'I_y_and_I_z_mu_0': 1.4875382439472848, 'I_y_and_I_z_mu_1': 0.34143215335180765, 'I_y_and_I_z_cov_0_0': 0.48201523721567185, 'I_y_and_I_z_cov_1_1': 1.2468758522426964, 'Q_mu': 830578553662684.4, 'Q_sigma': 4831108.23005107, 'sigma_mu': 1.056150050101621, 'sigma_sigma': 1.7297471900738048}. Best is trial 104 with value: 172.69869995117188.\n",
      "sample: 100%|██████████| 15000/15000 [00:06<00:00, 2341.13it/s, 31 steps of size 9.86e-02. acc. prob=0.91]\n",
      "[I 2024-01-08 05:43:40,083] Trial 170 finished with value: 172.88375854492188 and parameters: {'I_y_and_I_z_mu_0': 1.5843033891372056, 'I_y_and_I_z_mu_1': 0.18214598486469902, 'I_y_and_I_z_cov_0_0': 0.6876592618968862, 'I_y_and_I_z_cov_1_1': 1.2740598198303317, 'Q_mu': 920206682669238.5, 'Q_sigma': 5738196.969861005, 'sigma_mu': 1.0761362419784806, 'sigma_sigma': 1.6884780546029012}. Best is trial 104 with value: 172.69869995117188.\n",
      "sample: 100%|██████████| 15000/15000 [00:06<00:00, 2201.05it/s, 15 steps of size 8.72e-02. acc. prob=0.91]\n",
      "[I 2024-01-08 05:43:47,857] Trial 171 finished with value: 172.74246215820312 and parameters: {'I_y_and_I_z_mu_0': 1.6357819771912787, 'I_y_and_I_z_mu_1': 0.2764409007633652, 'I_y_and_I_z_cov_0_0': 0.5472456823534897, 'I_y_and_I_z_cov_1_1': 1.1928131551027767, 'Q_mu': 848489625274457.5, 'Q_sigma': 5209875.043270028, 'sigma_mu': 1.0117987276585199, 'sigma_sigma': 1.5767999735382157}. Best is trial 104 with value: 172.69869995117188.\n",
      "sample: 100%|██████████| 15000/15000 [00:07<00:00, 2067.66it/s, 31 steps of size 7.67e-02. acc. prob=0.94]\n",
      "[I 2024-01-08 05:43:56,122] Trial 172 finished with value: 172.71661376953125 and parameters: {'I_y_and_I_z_mu_0': 1.547568372207018, 'I_y_and_I_z_mu_1': 0.31493863027874364, 'I_y_and_I_z_cov_0_0': 0.5585235130598388, 'I_y_and_I_z_cov_1_1': 1.0777264773386421, 'Q_mu': 873411531927217.6, 'Q_sigma': 5053844.031834144, 'sigma_mu': 1.058424241531995, 'sigma_sigma': 1.6049725778330615}. Best is trial 104 with value: 172.69869995117188.\n",
      "sample: 100%|██████████| 15000/15000 [00:07<00:00, 2093.27it/s, 31 steps of size 7.18e-02. acc. prob=0.94]\n",
      "[I 2024-01-08 05:44:04,269] Trial 173 finished with value: 172.74392700195312 and parameters: {'I_y_and_I_z_mu_0': 1.5559197750721112, 'I_y_and_I_z_mu_1': 0.33716193112601545, 'I_y_and_I_z_cov_0_0': 0.5104649684715261, 'I_y_and_I_z_cov_1_1': 1.2258976006617301, 'Q_mu': 868061319798162.5, 'Q_sigma': 5447210.525363271, 'sigma_mu': 1.0527976087133901, 'sigma_sigma': 1.6567133408879076}. Best is trial 104 with value: 172.69869995117188.\n",
      "sample: 100%|██████████| 15000/15000 [00:07<00:00, 1935.57it/s, 31 steps of size 8.81e-02. acc. prob=0.92]\n",
      "[I 2024-01-08 05:44:13,002] Trial 174 finished with value: 172.78260803222656 and parameters: {'I_y_and_I_z_mu_0': 1.5156383080305578, 'I_y_and_I_z_mu_1': 0.22650909463476523, 'I_y_and_I_z_cov_0_0': 0.6316563204637979, 'I_y_and_I_z_cov_1_1': 1.2846422798188677, 'Q_mu': 901726164974562.0, 'Q_sigma': 5020056.303364235, 'sigma_mu': 1.0942916390499264, 'sigma_sigma': 1.600555234915736}. Best is trial 104 with value: 172.69869995117188.\n",
      "sample: 100%|██████████| 15000/15000 [00:06<00:00, 2431.36it/s, 31 steps of size 1.23e-01. acc. prob=0.93]\n",
      "[I 2024-01-08 05:44:20,204] Trial 175 finished with value: 173.19386291503906 and parameters: {'I_y_and_I_z_mu_0': 1.1439910213639577, 'I_y_and_I_z_mu_1': 0.3113512371477835, 'I_y_and_I_z_cov_0_0': 0.5722844772101047, 'I_y_and_I_z_cov_1_1': 1.0456651464472, 'Q_mu': 873683229376140.2, 'Q_sigma': 4316450.82914095, 'sigma_mu': 0.9988127539797577, 'sigma_sigma': 1.5162238169260545}. Best is trial 104 with value: 172.69869995117188.\n",
      "sample: 100%|██████████| 15000/15000 [00:06<00:00, 2180.76it/s, 15 steps of size 8.99e-02. acc. prob=0.90]\n",
      "[I 2024-01-08 05:44:28,060] Trial 176 finished with value: 173.13259887695312 and parameters: {'I_y_and_I_z_mu_0': 1.6107390961669314, 'I_y_and_I_z_mu_1': 0.24247227197112448, 'I_y_and_I_z_cov_0_0': 0.4250160105057814, 'I_y_and_I_z_cov_1_1': 1.1638434868722496, 'Q_mu': 930551763425443.4, 'Q_sigma': 4772080.292600874, 'sigma_mu': 0.9731768631440496, 'sigma_sigma': 1.5505729427553125}. Best is trial 104 with value: 172.69869995117188.\n",
      "sample: 100%|██████████| 15000/15000 [00:06<00:00, 2203.42it/s, 15 steps of size 7.39e-02. acc. prob=0.96]\n",
      "[I 2024-01-08 05:44:35,853] Trial 177 finished with value: 172.76571655273438 and parameters: {'I_y_and_I_z_mu_0': 1.5664462155480485, 'I_y_and_I_z_mu_1': 0.3957200371990788, 'I_y_and_I_z_cov_0_0': 0.610402939267833, 'I_y_and_I_z_cov_1_1': 1.11425387124251, 'Q_mu': 900665176140962.2, 'Q_sigma': 5298602.528517063, 'sigma_mu': 1.1425537558356, 'sigma_sigma': 1.7257173759392408}. Best is trial 104 with value: 172.69869995117188.\n",
      "sample: 100%|██████████| 15000/15000 [00:05<00:00, 2566.37it/s, 15 steps of size 1.65e-01. acc. prob=0.93]\n",
      "[I 2024-01-08 05:44:42,673] Trial 178 finished with value: 173.60260009765625 and parameters: {'I_y_and_I_z_mu_0': 1.487207090491048, 'I_y_and_I_z_mu_1': 0.29743999608367866, 'I_y_and_I_z_cov_0_0': 1.1083389059922397, 'I_y_and_I_z_cov_1_1': 1.3732770612671645, 'Q_mu': 608809288797972.9, 'Q_sigma': 5034440.260903067, 'sigma_mu': 0.9419851249154778, 'sigma_sigma': 1.7847775385688818}. Best is trial 104 with value: 172.69869995117188.\n",
      "sample: 100%|██████████| 15000/15000 [00:06<00:00, 2346.71it/s, 15 steps of size 9.05e-02. acc. prob=0.94]\n",
      "[I 2024-01-08 05:44:50,021] Trial 179 finished with value: 172.86134338378906 and parameters: {'I_y_and_I_z_mu_0': 1.44465633334484, 'I_y_and_I_z_mu_1': 0.35571630100278995, 'I_y_and_I_z_cov_0_0': 0.5392869184195994, 'I_y_and_I_z_cov_1_1': 1.2490924101038328, 'Q_mu': 829676212729185.4, 'Q_sigma': 5886523.932166921, 'sigma_mu': 1.018836601778558, 'sigma_sigma': 1.6263244493034046}. Best is trial 104 with value: 172.69869995117188.\n",
      "sample: 100%|██████████| 15000/15000 [00:07<00:00, 2015.92it/s, 31 steps of size 6.20e-02. acc. prob=0.95]\n",
      "[I 2024-01-08 05:44:58,461] Trial 180 finished with value: 172.72857666015625 and parameters: {'I_y_and_I_z_mu_0': 1.6458989447829986, 'I_y_and_I_z_mu_1': 0.17177413525333862, 'I_y_and_I_z_cov_0_0': 0.6604201318309675, 'I_y_and_I_z_cov_1_1': 1.293443093928113, 'Q_mu': 959049582524060.8, 'Q_sigma': 5480931.72194443, 'sigma_mu': 1.051051344038865, 'sigma_sigma': 1.80903634095798}. Best is trial 104 with value: 172.69869995117188.\n",
      "sample: 100%|██████████| 15000/15000 [00:07<00:00, 2049.95it/s, 63 steps of size 7.25e-02. acc. prob=0.95]\n",
      "[I 2024-01-08 05:45:06,780] Trial 181 finished with value: 172.72479248046875 and parameters: {'I_y_and_I_z_mu_0': 1.639404270209009, 'I_y_and_I_z_mu_1': 0.32128146748469455, 'I_y_and_I_z_cov_0_0': 0.5719292175965184, 'I_y_and_I_z_cov_1_1': 1.114338470718457, 'Q_mu': 858506084207178.1, 'Q_sigma': 5178001.82157664, 'sigma_mu': 1.0864513552789739, 'sigma_sigma': 1.58699236505835}. Best is trial 104 with value: 172.69869995117188.\n",
      "sample: 100%|██████████| 15000/15000 [00:06<00:00, 2239.78it/s, 15 steps of size 9.06e-02. acc. prob=0.92]\n",
      "[I 2024-01-08 05:45:14,483] Trial 182 finished with value: 172.743896484375 and parameters: {'I_y_and_I_z_mu_0': 1.5969227418414795, 'I_y_and_I_z_mu_1': 0.3333687733595194, 'I_y_and_I_z_cov_0_0': 0.5868702018401033, 'I_y_and_I_z_cov_1_1': 1.0976230053152551, 'Q_mu': 877445547145585.6, 'Q_sigma': 5655857.852783135, 'sigma_mu': 1.0953434771363721, 'sigma_sigma': 1.5620406173530954}. Best is trial 104 with value: 172.69869995117188.\n",
      "sample: 100%|██████████| 15000/15000 [00:07<00:00, 2137.95it/s, 31 steps of size 7.27e-02. acc. prob=0.94]\n",
      "[I 2024-01-08 05:45:22,497] Trial 183 finished with value: 172.7515106201172 and parameters: {'I_y_and_I_z_mu_0': 1.546574756331292, 'I_y_and_I_z_mu_1': 0.26218545632381096, 'I_y_and_I_z_cov_0_0': 0.5039412362829475, 'I_y_and_I_z_cov_1_1': 1.199957709333963, 'Q_mu': 854509020006473.8, 'Q_sigma': 5184099.540966973, 'sigma_mu': 1.135988568535743, 'sigma_sigma': 1.6714827067876357}. Best is trial 104 with value: 172.69869995117188.\n",
      "sample: 100%|██████████| 15000/15000 [00:06<00:00, 2266.65it/s, 15 steps of size 8.28e-02. acc. prob=0.93]\n",
      "[I 2024-01-08 05:45:30,109] Trial 184 finished with value: 172.73580932617188 and parameters: {'I_y_and_I_z_mu_0': 1.5049636544443596, 'I_y_and_I_z_mu_1': 0.3828708825484634, 'I_y_and_I_z_cov_0_0': 0.5735492553847373, 'I_y_and_I_z_cov_1_1': 0.9943932984440881, 'Q_mu': 914174330797792.0, 'Q_sigma': 4894443.7378547685, 'sigma_mu': 1.0801409881067356, 'sigma_sigma': 1.524549096534169}. Best is trial 104 with value: 172.69869995117188.\n",
      "sample: 100%|██████████| 15000/15000 [00:06<00:00, 2248.35it/s, 31 steps of size 9.05e-02. acc. prob=0.90]\n",
      "[I 2024-01-08 05:45:37,764] Trial 185 finished with value: 172.72879028320312 and parameters: {'I_y_and_I_z_mu_0': 1.6242981937462566, 'I_y_and_I_z_mu_1': 0.2961572051905816, 'I_y_and_I_z_cov_0_0': 0.6264246045100712, 'I_y_and_I_z_cov_1_1': 1.3737961123523972, 'Q_mu': 884824855396904.0, 'Q_sigma': 4647073.3980081165, 'sigma_mu': 1.027761835016217, 'sigma_sigma': 1.902090435064068}. Best is trial 104 with value: 172.69869995117188.\n",
      "sample: 100%|██████████| 15000/15000 [00:06<00:00, 2317.49it/s, 31 steps of size 9.52e-02. acc. prob=0.94]\n",
      "[I 2024-01-08 05:45:45,223] Trial 186 finished with value: 172.751220703125 and parameters: {'I_y_and_I_z_mu_0': 1.6788314976675074, 'I_y_and_I_z_mu_1': 0.23156950172122348, 'I_y_and_I_z_cov_0_0': 0.4629636808659211, 'I_y_and_I_z_cov_1_1': 1.4219031260013115, 'Q_mu': 591099870902229.2, 'Q_sigma': 5333822.0250282455, 'sigma_mu': 1.1422600598188712, 'sigma_sigma': 1.9982450060559769}. Best is trial 104 with value: 172.69869995117188.\n",
      "sample: 100%|██████████| 15000/15000 [00:06<00:00, 2337.18it/s, 31 steps of size 9.93e-02. acc. prob=0.90]\n",
      "[I 2024-01-08 05:45:52,623] Trial 187 finished with value: 172.72792053222656 and parameters: {'I_y_and_I_z_mu_0': 1.5782702919673754, 'I_y_and_I_z_mu_1': 0.4274830916576686, 'I_y_and_I_z_cov_0_0': 0.5281783130654931, 'I_y_and_I_z_cov_1_1': 1.184444969672105, 'Q_mu': 817194750180952.8, 'Q_sigma': 5066723.55088328, 'sigma_mu': 1.1080468329645397, 'sigma_sigma': 1.7043619658632534}. Best is trial 104 with value: 172.69869995117188.\n",
      "sample: 100%|██████████| 15000/15000 [00:06<00:00, 2259.88it/s, 31 steps of size 9.69e-02. acc. prob=0.93]\n",
      "[I 2024-01-08 05:46:00,281] Trial 188 finished with value: 172.84864807128906 and parameters: {'I_y_and_I_z_mu_0': 1.5436958862460355, 'I_y_and_I_z_mu_1': 0.33283672208106196, 'I_y_and_I_z_cov_0_0': 0.7013852984772697, 'I_y_and_I_z_cov_1_1': 1.261290736652283, 'Q_mu': 932668043444786.6, 'Q_sigma': 4456429.074597467, 'sigma_mu': 1.059880132062309, 'sigma_sigma': 1.7472688426576297}. Best is trial 104 with value: 172.69869995117188.\n",
      "sample: 100%|██████████| 15000/15000 [00:06<00:00, 2181.66it/s, 15 steps of size 7.68e-02. acc. prob=0.94]\n",
      "[I 2024-01-08 05:46:08,155] Trial 189 finished with value: 172.84066772460938 and parameters: {'I_y_and_I_z_mu_0': 1.4204608580393576, 'I_y_and_I_z_mu_1': 0.2798353820816295, 'I_y_and_I_z_cov_0_0': 0.5718583887119844, 'I_y_and_I_z_cov_1_1': 1.2200106410249776, 'Q_mu': 892272693519996.2, 'Q_sigma': 5607173.643767339, 'sigma_mu': 1.1791066871368634, 'sigma_sigma': 1.6054450199607115}. Best is trial 104 with value: 172.69869995117188.\n",
      "sample: 100%|██████████| 15000/15000 [00:06<00:00, 2379.03it/s, 31 steps of size 1.10e-01. acc. prob=0.91]\n",
      "[I 2024-01-08 05:46:15,439] Trial 190 finished with value: 172.96331787109375 and parameters: {'I_y_and_I_z_mu_0': 1.4731655795161351, 'I_y_and_I_z_mu_1': 0.37902155198078424, 'I_y_and_I_z_cov_0_0': 0.6469968632615476, 'I_y_and_I_z_cov_1_1': 1.3148492290497482, 'Q_mu': 846782331379179.1, 'Q_sigma': 4758135.957776918, 'sigma_mu': 0.9650642890859544, 'sigma_sigma': 1.4851232469303042}. Best is trial 104 with value: 172.69869995117188.\n",
      "sample: 100%|██████████| 15000/15000 [00:06<00:00, 2233.89it/s, 15 steps of size 8.79e-02. acc. prob=0.91]\n",
      "[I 2024-01-08 05:46:23,156] Trial 191 finished with value: 172.73471069335938 and parameters: {'I_y_and_I_z_mu_0': 1.6393334568031437, 'I_y_and_I_z_mu_1': 0.31820087466179114, 'I_y_and_I_z_cov_0_0': 0.5525871918825214, 'I_y_and_I_z_cov_1_1': 1.1582714832644552, 'Q_mu': 858156985295775.1, 'Q_sigma': 5192832.026205597, 'sigma_mu': 1.0802554562309323, 'sigma_sigma': 1.5797939642506176}. Best is trial 104 with value: 172.69869995117188.\n",
      "sample: 100%|██████████| 15000/15000 [00:06<00:00, 2253.43it/s, 31 steps of size 8.10e-02. acc. prob=0.94]\n",
      "[I 2024-01-08 05:46:30,823] Trial 192 finished with value: 172.72137451171875 and parameters: {'I_y_and_I_z_mu_0': 1.6199617395510968, 'I_y_and_I_z_mu_1': 0.2024035049806652, 'I_y_and_I_z_cov_0_0': 0.6034866361027292, 'I_y_and_I_z_cov_1_1': 1.087973837383062, 'Q_mu': 839563327859836.0, 'Q_sigma': 5240972.294291935, 'sigma_mu': 1.0925403098786841, 'sigma_sigma': 1.6437078089060448}. Best is trial 104 with value: 172.69869995117188.\n",
      "sample: 100%|██████████| 15000/15000 [00:06<00:00, 2270.65it/s, 15 steps of size 8.37e-02. acc. prob=0.92]\n",
      "[I 2024-01-08 05:46:38,429] Trial 193 finished with value: 172.70599365234375 and parameters: {'I_y_and_I_z_mu_0': 1.5952738644247595, 'I_y_and_I_z_mu_1': 0.18904295027159113, 'I_y_and_I_z_cov_0_0': 0.6040153030643866, 'I_y_and_I_z_cov_1_1': 1.096543931242112, 'Q_mu': 871199890633024.5, 'Q_sigma': 4938094.28562961, 'sigma_mu': 1.122997773276768, 'sigma_sigma': 1.6437300884375665}. Best is trial 104 with value: 172.69869995117188.\n",
      "sample: 100%|██████████| 15000/15000 [00:07<00:00, 2116.29it/s, 63 steps of size 6.30e-02. acc. prob=0.94]\n",
      "[I 2024-01-08 05:46:46,519] Trial 194 finished with value: 172.74986267089844 and parameters: {'I_y_and_I_z_mu_0': 1.5938390245807323, 'I_y_and_I_z_mu_1': 0.08061750801633699, 'I_y_and_I_z_cov_0_0': 0.6125139316767036, 'I_y_and_I_z_cov_1_1': 1.077364107269361, 'Q_mu': 909526984229402.0, 'Q_sigma': 4936582.658853506, 'sigma_mu': 1.1396493452960659, 'sigma_sigma': 1.6603285634257277}. Best is trial 104 with value: 172.69869995117188.\n",
      "sample: 100%|██████████| 15000/15000 [00:06<00:00, 2251.63it/s, 15 steps of size 9.00e-02. acc. prob=0.88]\n",
      "[I 2024-01-08 05:46:54,197] Trial 195 finished with value: 172.7421875 and parameters: {'I_y_and_I_z_mu_0': 1.5204751011308462, 'I_y_and_I_z_mu_1': 0.1933210124752367, 'I_y_and_I_z_cov_0_0': 0.49800186992004514, 'I_y_and_I_z_cov_1_1': 1.01399801274605, 'Q_mu': 874987739808710.0, 'Q_sigma': 5506367.065782013, 'sigma_mu': 1.199569647757077, 'sigma_sigma': 1.7504996156695434}. Best is trial 104 with value: 172.69869995117188.\n",
      "sample: 100%|██████████| 15000/15000 [00:07<00:00, 2099.50it/s, 31 steps of size 7.26e-02. acc. prob=0.94]\n",
      "[I 2024-01-08 05:47:02,374] Trial 196 finished with value: 172.716552734375 and parameters: {'I_y_and_I_z_mu_0': 1.5698639815370787, 'I_y_and_I_z_mu_1': 0.21264502655070397, 'I_y_and_I_z_cov_0_0': 0.6075505548868195, 'I_y_and_I_z_cov_1_1': 1.0627736765235865, 'Q_mu': 897756380762411.8, 'Q_sigma': 4621462.089960473, 'sigma_mu': 1.0312986269509556, 'sigma_sigma': 1.702323182079432}. Best is trial 104 with value: 172.69869995117188.\n",
      "sample: 100%|██████████| 15000/15000 [00:06<00:00, 2403.15it/s, 15 steps of size 1.45e-01. acc. prob=0.94]\n",
      "[I 2024-01-08 05:47:09,653] Trial 197 finished with value: 173.88360595703125 and parameters: {'I_y_and_I_z_mu_0': 1.552497645485422, 'I_y_and_I_z_mu_1': 0.19867899841331843, 'I_y_and_I_z_cov_0_0': 1.1970282748960448, 'I_y_and_I_z_cov_1_1': 0.9421504993644667, 'Q_mu': 272155741456355.12, 'Q_sigma': 4681255.663955225, 'sigma_mu': 1.0157643035522796, 'sigma_sigma': 1.6890909801919558}. Best is trial 104 with value: 172.69869995117188.\n",
      "sample: 100%|██████████| 15000/15000 [00:06<00:00, 2190.00it/s, 31 steps of size 8.72e-02. acc. prob=0.93]\n",
      "[I 2024-01-08 05:47:17,516] Trial 198 finished with value: 172.79498291015625 and parameters: {'I_y_and_I_z_mu_0': 1.5786267839442083, 'I_y_and_I_z_mu_1': 0.158304569144553, 'I_y_and_I_z_cov_0_0': 0.6107799942807182, 'I_y_and_I_z_cov_1_1': 1.0693816619279073, 'Q_mu': 795977089473158.8, 'Q_sigma': 5008686.064778879, 'sigma_mu': 1.0144547847622973, 'sigma_sigma': 1.6355188148550304}. Best is trial 104 with value: 172.69869995117188.\n",
      "sample: 100%|██████████| 15000/15000 [00:05<00:00, 2515.67it/s, 15 steps of size 1.63e-01. acc. prob=0.89]\n",
      "[I 2024-01-08 05:47:24,495] Trial 199 finished with value: 173.30438232421875 and parameters: {'I_y_and_I_z_mu_0': 1.4940581791180214, 'I_y_and_I_z_mu_1': 0.23189242147010142, 'I_y_and_I_z_cov_0_0': 0.5358677155189261, 'I_y_and_I_z_cov_1_1': 1.0461331609940074, 'Q_mu': 491770263017098.8, 'Q_sigma': 5803440.588909256, 'sigma_mu': 1.369069278397033, 'sigma_sigma': 1.700580680471088}. Best is trial 104 with value: 172.69869995117188.\n",
      "sample: 100%|██████████| 15000/15000 [00:06<00:00, 2260.39it/s, 31 steps of size 8.21e-02. acc. prob=0.92]\n",
      "[I 2024-01-08 05:47:32,130] Trial 200 finished with value: 172.74853515625 and parameters: {'I_y_and_I_z_mu_0': 1.5312201369097675, 'I_y_and_I_z_mu_1': 0.16452078211408871, 'I_y_and_I_z_cov_0_0': 0.6701818598044644, 'I_y_and_I_z_cov_1_1': 1.1144100565323973, 'Q_mu': 955082786974034.4, 'Q_sigma': 4500452.182206125, 'sigma_mu': 0.9161341307901144, 'sigma_sigma': 1.7258505622800813}. Best is trial 104 with value: 172.69869995117188.\n",
      "sample: 100%|██████████| 15000/15000 [00:07<00:00, 2110.44it/s, 31 steps of size 7.15e-02. acc. prob=0.94]\n",
      "[I 2024-01-08 05:47:40,260] Trial 201 finished with value: 172.7987060546875 and parameters: {'I_y_and_I_z_mu_0': 1.6863966968596726, 'I_y_and_I_z_mu_1': 0.2608979195995987, 'I_y_and_I_z_cov_0_0': 0.6020112682469297, 'I_y_and_I_z_cov_1_1': 1.2936674758633973, 'Q_mu': 896008297766091.5, 'Q_sigma': 4156400.3536285753, 'sigma_mu': 1.054496729331809, 'sigma_sigma': 1.7803247249729663}. Best is trial 104 with value: 172.69869995117188.\n",
      "sample: 100%|██████████| 15000/15000 [00:06<00:00, 2267.08it/s, 15 steps of size 8.53e-02. acc. prob=0.91]\n",
      "[I 2024-01-08 05:47:47,886] Trial 202 finished with value: 172.716552734375 and parameters: {'I_y_and_I_z_mu_0': 1.6139917866750306, 'I_y_and_I_z_mu_1': 0.20893724898775695, 'I_y_and_I_z_cov_0_0': 0.6434729073757329, 'I_y_and_I_z_cov_1_1': 1.3618481204183075, 'Q_mu': 916838890896999.5, 'Q_sigma': 4829274.008648455, 'sigma_mu': 1.1063806569692751, 'sigma_sigma': 1.9996842011844467}. Best is trial 104 with value: 172.69869995117188.\n",
      "sample: 100%|██████████| 15000/15000 [00:06<00:00, 2180.79it/s, 31 steps of size 6.74e-02. acc. prob=0.94]\n",
      "[I 2024-01-08 05:47:55,775] Trial 203 finished with value: 172.73538208007812 and parameters: {'I_y_and_I_z_mu_0': 1.6049906232106208, 'I_y_and_I_z_mu_1': 0.21246729703729683, 'I_y_and_I_z_cov_0_0': 0.6301687671354377, 'I_y_and_I_z_cov_1_1': 1.3668701073276166, 'Q_mu': 922634538154287.0, 'Q_sigma': 4861302.765747351, 'sigma_mu': 1.1622967296052618, 'sigma_sigma': 1.9289120058789115}. Best is trial 104 with value: 172.69869995117188.\n",
      "sample: 100%|██████████| 15000/15000 [00:08<00:00, 1757.16it/s, 63 steps of size 5.89e-02. acc. prob=0.95]\n",
      "[I 2024-01-08 05:48:05,343] Trial 204 finished with value: 172.76144409179688 and parameters: {'I_y_and_I_z_mu_0': 1.558836787809656, 'I_y_and_I_z_mu_1': 0.08049558372625933, 'I_y_and_I_z_cov_0_0': 0.5783830378720254, 'I_y_and_I_z_cov_1_1': 1.3474074018569229, 'Q_mu': 937021051247144.8, 'Q_sigma': 5365798.519094922, 'sigma_mu': 1.1145585191729197, 'sigma_sigma': 1.9906687967084742}. Best is trial 104 with value: 172.69869995117188.\n",
      "sample: 100%|██████████| 15000/15000 [00:07<00:00, 2142.00it/s, 31 steps of size 7.69e-02. acc. prob=0.92]\n",
      "[I 2024-01-08 05:48:13,391] Trial 205 finished with value: 172.7696533203125 and parameters: {'I_y_and_I_z_mu_0': 1.6102598805215567, 'I_y_and_I_z_mu_1': 0.1481486019299257, 'I_y_and_I_z_cov_0_0': 0.5259555477585978, 'I_y_and_I_z_cov_1_1': 1.0088990793007662, 'Q_mu': 833019236102025.2, 'Q_sigma': 4766606.135172185, 'sigma_mu': 1.0510349226330373, 'sigma_sigma': 1.9641582112672409}. Best is trial 104 with value: 172.69869995117188.\n",
      "sample: 100%|██████████| 15000/15000 [00:06<00:00, 2297.29it/s, 31 steps of size 8.08e-02. acc. prob=0.94]\n",
      "[I 2024-01-08 05:48:20,958] Trial 206 finished with value: 172.93504333496094 and parameters: {'I_y_and_I_z_mu_0': 1.4575966197430332, 'I_y_and_I_z_mu_1': 0.235259893877574, 'I_y_and_I_z_cov_0_0': 0.6557079497383376, 'I_y_and_I_z_cov_1_1': 1.1394592483697872, 'Q_mu': 915079661490576.9, 'Q_sigma': 5038170.020977031, 'sigma_mu': 0.98257726166833, 'sigma_sigma': 1.6323088448136513}. Best is trial 104 with value: 172.69869995117188.\n",
      "sample: 100%|██████████| 15000/15000 [00:06<00:00, 2192.70it/s, 15 steps of size 8.11e-02. acc. prob=0.92]\n",
      "[I 2024-01-08 05:48:28,838] Trial 207 finished with value: 172.72012329101562 and parameters: {'I_y_and_I_z_mu_0': 1.5674922885202576, 'I_y_and_I_z_mu_1': 0.19491367094664125, 'I_y_and_I_z_cov_0_0': 0.550748403644364, 'I_y_and_I_z_cov_1_1': 1.3087941103855711, 'Q_mu': 870671224335192.8, 'Q_sigma': 5333114.071022766, 'sigma_mu': 1.1149911087766102, 'sigma_sigma': 1.9213551668120525}. Best is trial 104 with value: 172.69869995117188.\n",
      "sample: 100%|██████████| 15000/15000 [00:06<00:00, 2230.77it/s, 31 steps of size 8.41e-02. acc. prob=0.93]\n",
      "[I 2024-01-08 05:48:36,592] Trial 208 finished with value: 172.71810913085938 and parameters: {'I_y_and_I_z_mu_0': 1.5105342223337026, 'I_y_and_I_z_mu_1': 0.10244991171387718, 'I_y_and_I_z_cov_0_0': 0.48204728384553563, 'I_y_and_I_z_cov_1_1': 1.2754976142665222, 'Q_mu': 692320931408666.8, 'Q_sigma': 4525786.603473302, 'sigma_mu': 1.1056708914099613, 'sigma_sigma': 1.6703127327781386}. Best is trial 104 with value: 172.69869995117188.\n",
      "sample: 100%|██████████| 15000/15000 [00:05<00:00, 2515.47it/s, 15 steps of size 1.36e-01. acc. prob=0.95]\n",
      "[I 2024-01-08 05:48:43,631] Trial 209 finished with value: 173.63540649414062 and parameters: {'I_y_and_I_z_mu_0': 0.7147884680464163, 'I_y_and_I_z_mu_1': 0.09154784268095487, 'I_y_and_I_z_cov_0_0': 0.47533546857015785, 'I_y_and_I_z_cov_1_1': 1.217190589492407, 'Q_mu': 773401333108512.9, 'Q_sigma': 5299407.735335613, 'sigma_mu': 1.1079266338004208, 'sigma_sigma': 1.9950912366369558}. Best is trial 104 with value: 172.69869995117188.\n",
      "sample: 100%|██████████| 15000/15000 [00:06<00:00, 2268.15it/s, 31 steps of size 9.39e-02. acc. prob=0.90]\n",
      "[I 2024-01-08 05:48:51,300] Trial 210 finished with value: 172.79220581054688 and parameters: {'I_y_and_I_z_mu_0': 1.4990233512472249, 'I_y_and_I_z_mu_1': 0.1251430628025766, 'I_y_and_I_z_cov_0_0': 0.4025547052955032, 'I_y_and_I_z_cov_1_1': 1.2610994005678757, 'Q_mu': 659031612386341.1, 'Q_sigma': 4351817.531614442, 'sigma_mu': 1.1514940346407903, 'sigma_sigma': 1.6696660864505966}. Best is trial 104 with value: 172.69869995117188.\n",
      "sample: 100%|██████████| 15000/15000 [00:07<00:00, 2094.30it/s, 63 steps of size 6.49e-02. acc. prob=0.94]\n",
      "[I 2024-01-08 05:48:59,486] Trial 211 finished with value: 172.78164672851562 and parameters: {'I_y_and_I_z_mu_0': 1.544065717622324, 'I_y_and_I_z_mu_1': 0.05963714283749745, 'I_y_and_I_z_cov_0_0': 0.5431116005130692, 'I_y_and_I_z_cov_1_1': 1.3161659652744198, 'Q_mu': 866823273766727.2, 'Q_sigma': 4627788.224860871, 'sigma_mu': 1.0758806931625542, 'sigma_sigma': 1.6139363395421606}. Best is trial 104 with value: 172.69869995117188.\n",
      "sample: 100%|██████████| 15000/15000 [00:06<00:00, 2303.09it/s, 15 steps of size 9.33e-02. acc. prob=0.93]\n",
      "[I 2024-01-08 05:49:07,039] Trial 212 finished with value: 172.7637939453125 and parameters: {'I_y_and_I_z_mu_0': 1.5163279413139599, 'I_y_and_I_z_mu_1': 0.19161830955450943, 'I_y_and_I_z_cov_0_0': 0.49429293093370263, 'I_y_and_I_z_cov_1_1': 1.282788327032818, 'Q_mu': 679311103885265.9, 'Q_sigma': 4880248.41380647, 'sigma_mu': 1.043256655370806, 'sigma_sigma': 1.6632694544347597}. Best is trial 104 with value: 172.69869995117188.\n",
      "sample: 100%|██████████| 15000/15000 [00:07<00:00, 2109.43it/s, 15 steps of size 7.45e-02. acc. prob=0.93]\n",
      "[I 2024-01-08 05:49:15,195] Trial 213 finished with value: 172.7165985107422 and parameters: {'I_y_and_I_z_mu_0': 1.568786398087078, 'I_y_and_I_z_mu_1': 0.018773857669221516, 'I_y_and_I_z_cov_0_0': 0.5982484414122962, 'I_y_and_I_z_cov_1_1': 1.3879064809897301, 'Q_mu': 821242670060033.6, 'Q_sigma': 4585217.398205803, 'sigma_mu': 1.114475710491757, 'sigma_sigma': 1.709687981820697}. Best is trial 104 with value: 172.69869995117188.\n",
      "sample: 100%|██████████| 15000/15000 [00:06<00:00, 2184.05it/s, 15 steps of size 7.59e-02. acc. prob=0.94]\n",
      "[I 2024-01-08 05:49:23,158] Trial 214 finished with value: 172.70751953125 and parameters: {'I_y_and_I_z_mu_0': 1.574213569282261, 'I_y_and_I_z_mu_1': 0.02651072307768606, 'I_y_and_I_z_cov_0_0': 0.55243270437785, 'I_y_and_I_z_cov_1_1': 1.3927987714904844, 'Q_mu': 733530502887820.8, 'Q_sigma': 4498600.616448163, 'sigma_mu': 1.1298733354136496, 'sigma_sigma': 1.708441377860951}. Best is trial 104 with value: 172.69869995117188.\n",
      "sample: 100%|██████████| 15000/15000 [00:06<00:00, 2167.35it/s, 15 steps of size 7.70e-02. acc. prob=0.93]\n",
      "[I 2024-01-08 05:49:31,086] Trial 215 finished with value: 172.92205810546875 and parameters: {'I_y_and_I_z_mu_0': 1.6168184147843874, 'I_y_and_I_z_mu_1': 0.017926194827795477, 'I_y_and_I_z_cov_0_0': 0.437308136348785, 'I_y_and_I_z_cov_1_1': 1.419230692592095, 'Q_mu': 749118088915265.0, 'Q_sigma': 4445483.700512453, 'sigma_mu': 1.1432138383153603, 'sigma_sigma': 1.713253412909706}. Best is trial 104 with value: 172.69869995117188.\n",
      "sample: 100%|██████████| 15000/15000 [00:06<00:00, 2148.35it/s, 31 steps of size 6.73e-02. acc. prob=0.94]\n",
      "[I 2024-01-08 05:49:39,108] Trial 216 finished with value: 172.76382446289062 and parameters: {'I_y_and_I_z_mu_0': 1.5797829130838448, 'I_y_and_I_z_mu_1': 0.0401189813786762, 'I_y_and_I_z_cov_0_0': 0.5395704831192174, 'I_y_and_I_z_cov_1_1': 0.8879217819399305, 'Q_mu': 815734320373333.2, 'Q_sigma': 4276826.137181219, 'sigma_mu': 1.1065739961029464, 'sigma_sigma': 1.6861505859731822}. Best is trial 104 with value: 172.69869995117188.\n",
      "sample: 100%|██████████| 15000/15000 [00:06<00:00, 2165.05it/s, 31 steps of size 6.77e-02. acc. prob=0.95]\n",
      "[I 2024-01-08 05:49:47,068] Trial 217 finished with value: 172.72760009765625 and parameters: {'I_y_and_I_z_mu_0': 1.6594012440931574, 'I_y_and_I_z_mu_1': 0.036008885028472645, 'I_y_and_I_z_cov_0_0': 0.6265680675084697, 'I_y_and_I_z_cov_1_1': 1.3825352555784052, 'Q_mu': 801072780320051.1, 'Q_sigma': 4587209.449535125, 'sigma_mu': 1.1875952601563369, 'sigma_sigma': 1.6416492329675012}. Best is trial 104 with value: 172.69869995117188.\n",
      "sample: 100%|██████████| 15000/15000 [00:06<00:00, 2224.79it/s, 47 steps of size 7.63e-02. acc. prob=0.94]\n",
      "[I 2024-01-08 05:49:54,832] Trial 218 finished with value: 172.71812438964844 and parameters: {'I_y_and_I_z_mu_0': 1.5847717917059314, 'I_y_and_I_z_mu_1': 0.04343603504328564, 'I_y_and_I_z_cov_0_0': 0.49831760196961333, 'I_y_and_I_z_cov_1_1': 1.373498792051646, 'Q_mu': 707263782838556.8, 'Q_sigma': 4805106.126929784, 'sigma_mu': 1.1193936609830817, 'sigma_sigma': 1.7409173416729222}. Best is trial 104 with value: 172.69869995117188.\n",
      "sample: 100%|██████████| 15000/15000 [00:06<00:00, 2165.41it/s, 31 steps of size 7.42e-02. acc. prob=0.95]\n",
      "[I 2024-01-08 05:50:02,804] Trial 219 finished with value: 173.03912353515625 and parameters: {'I_y_and_I_z_mu_0': 1.5803414442521504, 'I_y_and_I_z_mu_1': 0.05273579770285803, 'I_y_and_I_z_cov_0_0': 0.3688975206323148, 'I_y_and_I_z_cov_1_1': 1.3989723702714234, 'Q_mu': 724365937548325.8, 'Q_sigma': 3950480.015430837, 'sigma_mu': 1.1644781598829488, 'sigma_sigma': 1.7424519276851027}. Best is trial 104 with value: 172.69869995117188.\n",
      "sample: 100%|██████████| 15000/15000 [00:07<00:00, 2056.50it/s, 31 steps of size 6.91e-02. acc. prob=0.94]\n",
      "[I 2024-01-08 05:50:11,161] Trial 220 finished with value: 172.796142578125 and parameters: {'I_y_and_I_z_mu_0': 1.542624112608414, 'I_y_and_I_z_mu_1': 0.10158210661079792, 'I_y_and_I_z_cov_0_0': 0.4510324324144964, 'I_y_and_I_z_cov_1_1': 1.3761316403428594, 'Q_mu': 758819460853957.9, 'Q_sigma': 4777310.433668217, 'sigma_mu': 1.1261615946982477, 'sigma_sigma': 1.7251822178435798}. Best is trial 104 with value: 172.69869995117188.\n",
      "sample: 100%|██████████| 15000/15000 [00:07<00:00, 1981.73it/s, 31 steps of size 6.18e-02. acc. prob=0.95]\n",
      "[I 2024-01-08 05:50:19,841] Trial 221 finished with value: 172.82777404785156 and parameters: {'I_y_and_I_z_mu_0': 1.6229285256430506, 'I_y_and_I_z_mu_1': 0.09859657857197447, 'I_y_and_I_z_cov_0_0': 0.5005201136795931, 'I_y_and_I_z_cov_1_1': 1.3133879130285782, 'Q_mu': 837088466883737.0, 'Q_sigma': 4967342.158630235, 'sigma_mu': 1.0822004328549018, 'sigma_sigma': 1.6902532357073154}. Best is trial 104 with value: 172.69869995117188.\n",
      "sample: 100%|██████████| 15000/15000 [00:06<00:00, 2210.66it/s, 15 steps of size 8.40e-02. acc. prob=0.93]\n",
      "[I 2024-01-08 05:50:27,609] Trial 222 finished with value: 172.70709228515625 and parameters: {'I_y_and_I_z_mu_0': 1.5829181302995512, 'I_y_and_I_z_mu_1': 0.027723237621000398, 'I_y_and_I_z_cov_0_0': 0.5415755187664152, 'I_y_and_I_z_cov_1_1': 1.3554406757890294, 'Q_mu': 701839379733654.0, 'Q_sigma': 4470092.118268996, 'sigma_mu': 1.1132503394853468, 'sigma_sigma': 1.6496730892444598}. Best is trial 104 with value: 172.69869995117188.\n",
      "sample: 100%|██████████| 15000/15000 [00:06<00:00, 2198.50it/s, 31 steps of size 8.21e-02. acc. prob=0.93]\n",
      "[I 2024-01-08 05:50:35,478] Trial 223 finished with value: 172.710693359375 and parameters: {'I_y_and_I_z_mu_0': 1.5644516306304919, 'I_y_and_I_z_mu_1': 0.02157089405725711, 'I_y_and_I_z_cov_0_0': 0.5570260041884556, 'I_y_and_I_z_cov_1_1': 1.361167759328925, 'Q_mu': 725806735854800.1, 'Q_sigma': 4460416.79719447, 'sigma_mu': 1.1340669298391142, 'sigma_sigma': 1.7556582688949853}. Best is trial 104 with value: 172.69869995117188.\n",
      "sample: 100%|██████████| 15000/15000 [00:06<00:00, 2171.70it/s, 63 steps of size 7.00e-02. acc. prob=0.95]\n",
      "[I 2024-01-08 05:50:43,424] Trial 224 finished with value: 172.71914672851562 and parameters: {'I_y_and_I_z_mu_0': 1.5742419984632579, 'I_y_and_I_z_mu_1': 0.056393652890741594, 'I_y_and_I_z_cov_0_0': 0.5159104895590849, 'I_y_and_I_z_cov_1_1': 1.4264474597328671, 'Q_mu': 698239569661102.0, 'Q_sigma': 4390364.238939488, 'sigma_mu': 1.2165836472479565, 'sigma_sigma': 1.7625626244370878}. Best is trial 104 with value: 172.69869995117188.\n",
      "sample: 100%|██████████| 15000/15000 [00:07<00:00, 2127.82it/s, 31 steps of size 7.33e-02. acc. prob=0.94]\n",
      "[I 2024-01-08 05:50:51,551] Trial 225 finished with value: 172.7537841796875 and parameters: {'I_y_and_I_z_mu_0': 1.5951158989365426, 'I_y_and_I_z_mu_1': 0.04371780451691787, 'I_y_and_I_z_cov_0_0': 0.4975892865094848, 'I_y_and_I_z_cov_1_1': 1.4307441699352879, 'Q_mu': 728800847443346.9, 'Q_sigma': 4392663.454944767, 'sigma_mu': 1.2191213095263345, 'sigma_sigma': 1.7583018338387202}. Best is trial 104 with value: 172.69869995117188.\n",
      "sample: 100%|██████████| 15000/15000 [00:06<00:00, 2327.21it/s, 15 steps of size 8.93e-02. acc. prob=0.92]\n",
      "[I 2024-01-08 05:50:59,047] Trial 226 finished with value: 172.73138427734375 and parameters: {'I_y_and_I_z_mu_0': 1.5657011226829416, 'I_y_and_I_z_mu_1': 0.059105159230545073, 'I_y_and_I_z_cov_0_0': 0.5356477303490971, 'I_y_and_I_z_cov_1_1': 1.3681409501217483, 'Q_mu': 708729440063381.0, 'Q_sigma': 4516560.45065947, 'sigma_mu': 1.1807644390368237, 'sigma_sigma': 1.7489656799622213}. Best is trial 104 with value: 172.69869995117188.\n",
      "sample: 100%|██████████| 15000/15000 [00:06<00:00, 2254.86it/s, 15 steps of size 8.67e-02. acc. prob=0.91]\n",
      "[I 2024-01-08 05:51:06,777] Trial 227 finished with value: 172.82913208007812 and parameters: {'I_y_and_I_z_mu_0': 1.6518591842564305, 'I_y_and_I_z_mu_1': 0.039234055712138116, 'I_y_and_I_z_cov_0_0': 0.47263274736192185, 'I_y_and_I_z_cov_1_1': 1.3536954977485005, 'Q_mu': 707482255772799.2, 'Q_sigma': 4311372.589529689, 'sigma_mu': 1.1330171715606894, 'sigma_sigma': 1.8234760814428324}. Best is trial 104 with value: 172.69869995117188.\n",
      "sample: 100%|██████████| 15000/15000 [00:06<00:00, 2227.82it/s, 31 steps of size 9.35e-02. acc. prob=0.92]\n",
      "[I 2024-01-08 05:51:14,653] Trial 228 finished with value: 172.89517211914062 and parameters: {'I_y_and_I_z_mu_0': 1.698272314788756, 'I_y_and_I_z_mu_1': 0.11704818821121274, 'I_y_and_I_z_cov_0_0': 0.4195827606036757, 'I_y_and_I_z_cov_1_1': 1.4712101357416858, 'Q_mu': 682445574876419.8, 'Q_sigma': 4090508.880604684, 'sigma_mu': 1.166946194194832, 'sigma_sigma': 1.7157534526308054}. Best is trial 104 with value: 172.69869995117188.\n",
      "sample: 100%|██████████| 15000/15000 [00:06<00:00, 2203.65it/s, 31 steps of size 8.93e-02. acc. prob=0.93]\n",
      "[I 2024-01-08 05:51:22,565] Trial 229 finished with value: 172.77444458007812 and parameters: {'I_y_and_I_z_mu_0': 1.5890837178308068, 'I_y_and_I_z_mu_1': 0.010063084117307719, 'I_y_and_I_z_cov_0_0': 0.5618188299764292, 'I_y_and_I_z_cov_1_1': 1.2668490759859166, 'Q_mu': 688156765300392.9, 'Q_sigma': 4768801.212156887, 'sigma_mu': 1.2175022906462227, 'sigma_sigma': 1.7734150153893826}. Best is trial 104 with value: 172.69869995117188.\n",
      "sample: 100%|██████████| 15000/15000 [00:07<00:00, 2067.42it/s, 31 steps of size 6.99e-02. acc. prob=0.94]\n",
      "[I 2024-01-08 05:51:30,924] Trial 230 finished with value: 172.7277374267578 and parameters: {'I_y_and_I_z_mu_0': 1.5613785787848382, 'I_y_and_I_z_mu_1': 0.01800054462243729, 'I_y_and_I_z_cov_0_0': 0.5138228165406273, 'I_y_and_I_z_cov_1_1': 1.4079333717302907, 'Q_mu': 740447738276822.4, 'Q_sigma': 4556538.987312351, 'sigma_mu': 1.1369840220245924, 'sigma_sigma': 1.6821369475288008}. Best is trial 104 with value: 172.69869995117188.\n",
      "sample: 100%|██████████| 15000/15000 [00:06<00:00, 2236.18it/s, 15 steps of size 8.69e-02. acc. prob=0.93]\n",
      "[I 2024-01-08 05:51:38,798] Trial 231 finished with value: 172.78219604492188 and parameters: {'I_y_and_I_z_mu_0': 1.4882061140337033, 'I_y_and_I_z_mu_1': 0.09249994387340704, 'I_y_and_I_z_cov_0_0': 0.5506558937328249, 'I_y_and_I_z_cov_1_1': 1.44734761209328, 'Q_mu': 704648046002611.5, 'Q_sigma': 4239957.776453982, 'sigma_mu': 1.1050196448054863, 'sigma_sigma': 1.733864946958851}. Best is trial 104 with value: 172.69869995117188.\n",
      "sample: 100%|██████████| 15000/15000 [00:06<00:00, 2293.92it/s, 15 steps of size 9.09e-02. acc. prob=0.92]\n",
      "[I 2024-01-08 05:51:46,429] Trial 232 finished with value: 172.74761962890625 and parameters: {'I_y_and_I_z_mu_0': 1.5402789236071777, 'I_y_and_I_z_mu_1': 0.0717255155359676, 'I_y_and_I_z_cov_0_0': 0.5684351896356661, 'I_y_and_I_z_cov_1_1': 1.3498158799198754, 'Q_mu': 694695950915421.1, 'Q_sigma': 3800071.23387728, 'sigma_mu': 0.3570953044737395, 'sigma_sigma': 1.815291910554074}. Best is trial 104 with value: 172.69869995117188.\n",
      "sample: 100%|██████████| 15000/15000 [00:06<00:00, 2237.57it/s, 31 steps of size 8.32e-02. acc. prob=0.94]\n",
      "[I 2024-01-08 05:51:54,229] Trial 233 finished with value: 172.71437072753906 and parameters: {'I_y_and_I_z_mu_0': 1.5950500518726556, 'I_y_and_I_z_mu_1': 0.01944662567475863, 'I_y_and_I_z_cov_0_0': 0.5146180469806234, 'I_y_and_I_z_cov_1_1': 1.3936109255930815, 'Q_mu': 667418607073584.2, 'Q_sigma': 4894569.470146775, 'sigma_mu': 1.1579012994890985, 'sigma_sigma': 1.7766620679398761}. Best is trial 104 with value: 172.69869995117188.\n",
      "sample: 100%|██████████| 15000/15000 [00:08<00:00, 1869.12it/s, 15 steps of size 8.50e-02. acc. prob=0.92]\n",
      "[I 2024-01-08 05:52:03,326] Trial 234 finished with value: 172.79815673828125 and parameters: {'I_y_and_I_z_mu_0': 1.622117809922277, 'I_y_and_I_z_mu_1': 0.06973487654012635, 'I_y_and_I_z_cov_0_0': 0.4592230587058194, 'I_y_and_I_z_cov_1_1': 1.3015607281850166, 'Q_mu': 731137032662167.0, 'Q_sigma': 4922193.070305414, 'sigma_mu': 1.1894912053271718, 'sigma_sigma': 1.7698875776414926}. Best is trial 104 with value: 172.69869995117188.\n",
      "sample: 100%|██████████| 15000/15000 [00:06<00:00, 2218.77it/s, 15 steps of size 8.23e-02. acc. prob=0.94]\n",
      "[I 2024-01-08 05:52:11,163] Trial 235 finished with value: 172.97384643554688 and parameters: {'I_y_and_I_z_mu_0': 1.5849099111316916, 'I_y_and_I_z_mu_1': 0.1156645067277873, 'I_y_and_I_z_cov_0_0': 0.3214415336268984, 'I_y_and_I_z_cov_1_1': 1.3989356910520843, 'Q_mu': 674381998553506.8, 'Q_sigma': 4711552.08927063, 'sigma_mu': 1.155069537094351, 'sigma_sigma': 1.7067276824367754}. Best is trial 104 with value: 172.69869995117188.\n",
      "sample: 100%|██████████| 15000/15000 [00:07<00:00, 2062.40it/s, 47 steps of size 6.47e-02. acc. prob=0.96]\n",
      "[I 2024-01-08 05:52:19,500] Trial 236 finished with value: 172.76995849609375 and parameters: {'I_y_and_I_z_mu_0': 1.6682811960268393, 'I_y_and_I_z_mu_1': 0.010513812489770596, 'I_y_and_I_z_cov_0_0': 0.5108723614552022, 'I_y_and_I_z_cov_1_1': 1.3503965970481975, 'Q_mu': 707901988682397.8, 'Q_sigma': 4489968.82273856, 'sigma_mu': 1.1170034246256568, 'sigma_sigma': 1.7963697088998387}. Best is trial 104 with value: 172.69869995117188.\n",
      "sample: 100%|██████████| 15000/15000 [00:06<00:00, 2398.89it/s, 31 steps of size 1.02e-01. acc. prob=0.94]\n",
      "[I 2024-01-08 05:52:26,856] Trial 237 finished with value: 172.94996643066406 and parameters: {'I_y_and_I_z_mu_0': 1.6328851901132269, 'I_y_and_I_z_mu_1': 0.14576420464700607, 'I_y_and_I_z_cov_0_0': 0.6022882792564869, 'I_y_and_I_z_cov_1_1': 1.2476607624176548, 'Q_mu': 643709618683516.6, 'Q_sigma': 5099063.845342932, 'sigma_mu': 1.0749316897164862, 'sigma_sigma': 0.8487568512296473}. Best is trial 104 with value: 172.69869995117188.\n",
      "sample: 100%|██████████| 15000/15000 [00:06<00:00, 2339.98it/s, 15 steps of size 9.52e-02. acc. prob=0.91]\n",
      "[I 2024-01-08 05:52:34,336] Trial 238 finished with value: 172.73703002929688 and parameters: {'I_y_and_I_z_mu_0': 1.5626982633359592, 'I_y_and_I_z_mu_1': 0.05734275169045064, 'I_y_and_I_z_cov_0_0': 0.5393637198885083, 'I_y_and_I_z_cov_1_1': 1.3020479303446708, 'Q_mu': 720914059614698.6, 'Q_sigma': 4860793.372964701, 'sigma_mu': 1.225098124735684, 'sigma_sigma': 1.7551939718680707}. Best is trial 104 with value: 172.69869995117188.\n",
      "sample: 100%|██████████| 15000/15000 [00:05<00:00, 2635.18it/s, 15 steps of size 1.92e-01. acc. prob=0.92]\n",
      "[I 2024-01-08 05:52:41,101] Trial 239 finished with value: 173.75912475585938 and parameters: {'I_y_and_I_z_mu_0': 1.5060119903364684, 'I_y_and_I_z_mu_1': 0.011791890393338066, 'I_y_and_I_z_cov_0_0': 1.9812143913969225, 'I_y_and_I_z_cov_1_1': 1.4410392944579349, 'Q_mu': 668939182876346.5, 'Q_sigma': 4604032.237630807, 'sigma_mu': 1.1555938561501515, 'sigma_sigma': 1.673109709563526}. Best is trial 104 with value: 172.69869995117188.\n",
      "sample: 100%|██████████| 15000/15000 [00:06<00:00, 2491.62it/s, 15 steps of size 1.25e-01. acc. prob=0.91]\n",
      "[I 2024-01-08 05:52:48,213] Trial 240 finished with value: 173.08523559570312 and parameters: {'I_y_and_I_z_mu_0': 1.600570445285051, 'I_y_and_I_z_mu_1': 0.07682811815946816, 'I_y_and_I_z_cov_0_0': 0.6413537154205317, 'I_y_and_I_z_cov_1_1': 1.3905022693518798, 'Q_mu': 630979086457003.2, 'Q_sigma': 5102130.446978428, 'sigma_mu': 1.4975461705504798, 'sigma_sigma': 1.7203209920364524}. Best is trial 104 with value: 172.69869995117188.\n",
      "sample: 100%|██████████| 15000/15000 [00:06<00:00, 2410.61it/s, 31 steps of size 1.00e-01. acc. prob=0.94]\n",
      "[I 2024-01-08 05:52:55,521] Trial 241 finished with value: 172.91336059570312 and parameters: {'I_y_and_I_z_mu_0': 1.530391715050743, 'I_y_and_I_z_mu_1': 0.13688724498618407, 'I_y_and_I_z_cov_0_0': 0.5703467246331054, 'I_y_and_I_z_cov_1_1': 1.3654418485660955, 'Q_mu': 654155335043658.5, 'Q_sigma': 4805778.88469312, 'sigma_mu': 1.1080430971231194, 'sigma_sigma': 1.9466059855389093}. Best is trial 104 with value: 172.69869995117188.\n",
      "sample: 100%|██████████| 15000/15000 [00:06<00:00, 2181.96it/s, 31 steps of size 6.98e-02. acc. prob=0.94]\n",
      "[I 2024-01-08 05:53:03,533] Trial 242 finished with value: 172.73338317871094 and parameters: {'I_y_and_I_z_mu_0': 1.460252255062916, 'I_y_and_I_z_mu_1': 0.04869772184987786, 'I_y_and_I_z_cov_0_0': 0.5019843913101304, 'I_y_and_I_z_cov_1_1': 1.415512797631223, 'Q_mu': 758701269846934.8, 'Q_sigma': 4386182.384016377, 'sigma_mu': 1.086208262078622, 'sigma_sigma': 1.855777429000884}. Best is trial 104 with value: 172.69869995117188.\n",
      "sample: 100%|██████████| 15000/15000 [00:06<00:00, 2336.27it/s, 31 steps of size 9.09e-02. acc. prob=0.94]\n",
      "[I 2024-01-08 05:53:11,038] Trial 243 finished with value: 172.8065643310547 and parameters: {'I_y_and_I_z_mu_0': 1.557574480749424, 'I_y_and_I_z_mu_1': 0.16364154054198582, 'I_y_and_I_z_cov_0_0': 0.5473424765618016, 'I_y_and_I_z_cov_1_1': 1.3299317068144418, 'Q_mu': 697624245014093.4, 'Q_sigma': 4981488.656640106, 'sigma_mu': 1.143621331041783, 'sigma_sigma': 1.8880848893034965}. Best is trial 104 with value: 172.69869995117188.\n",
      "sample: 100%|██████████| 15000/15000 [00:06<00:00, 2275.16it/s, 31 steps of size 8.73e-02. acc. prob=0.94]\n",
      "[I 2024-01-08 05:53:18,721] Trial 244 finished with value: 172.867919921875 and parameters: {'I_y_and_I_z_mu_0': 1.5045433102127663, 'I_y_and_I_z_mu_1': 0.0813026803410126, 'I_y_and_I_z_cov_0_0': 0.6035397990605149, 'I_y_and_I_z_cov_1_1': 1.3790949610538212, 'Q_mu': 745377725847079.1, 'Q_sigma': 4674475.114921172, 'sigma_mu': 1.1911296634301685, 'sigma_sigma': 1.7905107940412492}. Best is trial 104 with value: 172.69869995117188.\n",
      "sample: 100%|██████████| 15000/15000 [00:06<00:00, 2247.60it/s, 15 steps of size 8.98e-02. acc. prob=0.95]\n",
      "[I 2024-01-08 05:53:26,509] Trial 245 finished with value: 172.82730102539062 and parameters: {'I_y_and_I_z_mu_0': 1.5765044350280002, 'I_y_and_I_z_mu_1': 0.9549524499198512, 'I_y_and_I_z_cov_0_0': 0.4775880004544601, 'I_y_and_I_z_cov_1_1': 1.2942316125809794, 'Q_mu': 719058738863483.4, 'Q_sigma': 5426793.918454351, 'sigma_mu': 1.0660552182612453, 'sigma_sigma': 1.8282878222158034}. Best is trial 104 with value: 172.69869995117188.\n",
      "sample: 100%|██████████| 15000/15000 [00:06<00:00, 2475.76it/s, 15 steps of size 1.39e-01. acc. prob=0.92]\n",
      "[I 2024-01-08 05:53:33,643] Trial 246 finished with value: 173.3779754638672 and parameters: {'I_y_and_I_z_mu_0': 1.615344598649492, 'I_y_and_I_z_mu_1': 0.1192460311209749, 'I_y_and_I_z_cov_0_0': 0.14005657361624935, 'I_y_and_I_z_cov_1_1': 1.4756991288088521, 'Q_mu': 688630255770490.0, 'Q_sigma': 5158233.633061493, 'sigma_mu': 1.1172886746265434, 'sigma_sigma': 1.7457055216971047}. Best is trial 104 with value: 172.69869995117188.\n",
      "sample: 100%|██████████| 15000/15000 [00:06<00:00, 2242.43it/s, 15 steps of size 8.14e-02. acc. prob=0.92]\n",
      "[I 2024-01-08 05:53:41,416] Trial 247 finished with value: 172.74166870117188 and parameters: {'I_y_and_I_z_mu_0': 1.649999696030753, 'I_y_and_I_z_mu_1': 0.025241040933002442, 'I_y_and_I_z_cov_0_0': 0.529837373732503, 'I_y_and_I_z_cov_1_1': 1.1872621623594761, 'Q_mu': 781590644200186.8, 'Q_sigma': 5662667.456674726, 'sigma_mu': 1.1711923399077924, 'sigma_sigma': 1.9267030526715607}. Best is trial 104 with value: 172.69869995117188.\n",
      "sample: 100%|██████████| 15000/15000 [00:05<00:00, 2678.02it/s, 15 steps of size 1.94e-01. acc. prob=0.94]\n",
      "[I 2024-01-08 05:53:48,089] Trial 248 finished with value: 174.17605590820312 and parameters: {'I_y_and_I_z_mu_0': 0.027091880462815077, 'I_y_and_I_z_mu_1': 1.0489542876984517, 'I_y_and_I_z_cov_0_0': 0.5784809022534854, 'I_y_and_I_z_cov_1_1': 1.33059548820147, 'Q_mu': 663323840808417.8, 'Q_sigma': 4468610.163672237, 'sigma_mu': 1.0570265755169759, 'sigma_sigma': 1.663141861482581}. Best is trial 104 with value: 172.69869995117188.\n",
      "sample: 100%|██████████| 15000/15000 [00:06<00:00, 2416.45it/s, 15 steps of size 1.00e-01. acc. prob=0.92]\n",
      "[I 2024-01-08 05:53:55,388] Trial 249 finished with value: 172.948974609375 and parameters: {'I_y_and_I_z_mu_0': 1.5334729671890737, 'I_y_and_I_z_mu_1': 0.011177681610361798, 'I_y_and_I_z_cov_0_0': 0.6414959867750001, 'I_y_and_I_z_cov_1_1': 1.2282938128547718, 'Q_mu': 730903412611104.2, 'Q_sigma': 4897557.172428264, 'sigma_mu': 1.1254602581958397, 'sigma_sigma': 1.7004408991147857}. Best is trial 104 with value: 172.69869995117188.\n",
      "sample: 100%|██████████| 15000/15000 [00:06<00:00, 2494.53it/s, 31 steps of size 1.24e-01. acc. prob=0.90]\n",
      "[I 2024-01-08 05:54:02,496] Trial 250 finished with value: 173.02728271484375 and parameters: {'I_y_and_I_z_mu_0': 1.4688757073310124, 'I_y_and_I_z_mu_1': 0.11834280076672582, 'I_y_and_I_z_cov_0_0': 0.6004341657011532, 'I_y_and_I_z_cov_1_1': 1.4197122754536466, 'Q_mu': 695513574985178.1, 'Q_sigma': 5077418.813420452, 'sigma_mu': 1.2411614914825766, 'sigma_sigma': 1.9656883775848075}. Best is trial 104 with value: 172.69869995117188.\n",
      "sample: 100%|██████████| 15000/15000 [00:05<00:00, 2581.07it/s, 15 steps of size 1.81e-01. acc. prob=0.93]\n",
      "[I 2024-01-08 05:54:09,323] Trial 251 finished with value: 173.49913024902344 and parameters: {'I_y_and_I_z_mu_0': 1.5785180217745332, 'I_y_and_I_z_mu_1': 0.17840754175870605, 'I_y_and_I_z_cov_0_0': 0.10669518016532098, 'I_y_and_I_z_cov_1_1': 1.2659392786699126, 'Q_mu': 870700233316016.6, 'Q_sigma': 3991919.299319351, 'sigma_mu': 1.0862956356834315, 'sigma_sigma': 1.6048871056983618}. Best is trial 104 with value: 172.69869995117188.\n",
      "sample: 100%|██████████| 15000/15000 [00:06<00:00, 2368.22it/s, 31 steps of size 1.10e-01. acc. prob=0.93]\n",
      "[I 2024-01-08 05:54:16,642] Trial 252 finished with value: 172.86907958984375 and parameters: {'I_y_and_I_z_mu_0': 1.7278277257306733, 'I_y_and_I_z_mu_1': 0.23112525911398624, 'I_y_and_I_z_cov_0_0': 0.5109744433121695, 'I_y_and_I_z_cov_1_1': 1.3667656151144172, 'Q_mu': 546674073100996.4, 'Q_sigma': 4724871.619267257, 'sigma_mu': 1.8464866427482804, 'sigma_sigma': 1.8960765948183882}. Best is trial 104 with value: 172.69869995117188.\n",
      "sample: 100%|██████████| 15000/15000 [00:06<00:00, 2337.04it/s, 31 steps of size 1.05e-01. acc. prob=0.93]\n",
      "[I 2024-01-08 05:54:24,068] Trial 253 finished with value: 172.95513916015625 and parameters: {'I_y_and_I_z_mu_0': 1.4259664295702645, 'I_y_and_I_z_mu_1': 0.08544542998743912, 'I_y_and_I_z_cov_0_0': 0.4561003348047869, 'I_y_and_I_z_cov_1_1': 1.3167476862388794, 'Q_mu': 587513344813417.8, 'Q_sigma': 5362935.027411108, 'sigma_mu': 1.1995868476126148, 'sigma_sigma': 1.540523576236719}. Best is trial 104 with value: 172.69869995117188.\n",
      "sample: 100%|██████████| 15000/15000 [00:06<00:00, 2358.89it/s, 31 steps of size 1.08e-01. acc. prob=0.94]\n",
      "[I 2024-01-08 05:54:31,445] Trial 254 finished with value: 172.9010772705078 and parameters: {'I_y_and_I_z_mu_0': 1.514310856651761, 'I_y_and_I_z_mu_1': 1.2357388198782613, 'I_y_and_I_z_cov_0_0': 0.5540884094766448, 'I_y_and_I_z_cov_1_1': 1.3832989113587741, 'Q_mu': 770307174703112.1, 'Q_sigma': 4233344.736873451, 'sigma_mu': 1.1469235569193117, 'sigma_sigma': 1.7751741370389935}. Best is trial 104 with value: 172.69869995117188.\n",
      "sample: 100%|██████████| 15000/15000 [00:06<00:00, 2331.62it/s, 15 steps of size 1.02e-01. acc. prob=0.91]\n",
      "[I 2024-01-08 05:54:38,935] Trial 255 finished with value: 172.83892822265625 and parameters: {'I_y_and_I_z_mu_0': 1.623719588320989, 'I_y_and_I_z_mu_1': 0.3481209245219339, 'I_y_and_I_z_cov_0_0': 0.624458352241489, 'I_y_and_I_z_cov_1_1': 1.4505899000685014, 'Q_mu': 858209654134573.0, 'Q_sigma': 5956845.4075532975, 'sigma_mu': 1.0392288396790257, 'sigma_sigma': 1.711249281817278}. Best is trial 104 with value: 172.69869995117188.\n",
      "sample: 100%|██████████| 15000/15000 [00:05<00:00, 2546.50it/s, 31 steps of size 1.25e-01. acc. prob=0.91]\n",
      "[I 2024-01-08 05:54:45,865] Trial 256 finished with value: 173.0891876220703 and parameters: {'I_y_and_I_z_mu_0': 1.551640354765233, 'I_y_and_I_z_mu_1': 0.06263605005696388, 'I_y_and_I_z_cov_0_0': 0.6867355921210399, 'I_y_and_I_z_cov_1_1': 1.2787652718140574, 'Q_mu': 647362420465595.0, 'Q_sigma': 4566534.612816476, 'sigma_mu': 1.4102764105893282, 'sigma_sigma': 1.6528743164842281}. Best is trial 104 with value: 172.69869995117188.\n",
      "sample: 100%|██████████| 15000/15000 [00:06<00:00, 2430.82it/s, 31 steps of size 1.19e-01. acc. prob=0.94]\n",
      "[I 2024-01-08 05:54:53,170] Trial 257 finished with value: 173.7135772705078 and parameters: {'I_y_and_I_z_mu_0': 1.3676292308160587, 'I_y_and_I_z_mu_1': 0.17616128367557649, 'I_y_and_I_z_cov_0_0': 0.5687124244223235, 'I_y_and_I_z_cov_1_1': 1.3452540025972288, 'Q_mu': 432090835882632.1, 'Q_sigma': 9711588.595340643, 'sigma_mu': 1.0997238741246242, 'sigma_sigma': 1.8404039902557703}. Best is trial 104 with value: 172.69869995117188.\n",
      "sample: 100%|██████████| 15000/15000 [00:06<00:00, 2299.73it/s, 31 steps of size 1.03e-01. acc. prob=0.90]\n",
      "[I 2024-01-08 05:55:00,797] Trial 258 finished with value: 172.74639892578125 and parameters: {'I_y_and_I_z_mu_0': 1.601653711576291, 'I_y_and_I_z_mu_1': 0.4143886422979059, 'I_y_and_I_z_cov_0_0': 0.42022081333957273, 'I_y_and_I_z_cov_1_1': 1.2193829914122662, 'Q_mu': 715003887366328.6, 'Q_sigma': 5538348.87489412, 'sigma_mu': 1.172250348641035, 'sigma_sigma': 1.9996448124897936}. Best is trial 104 with value: 172.69869995117188.\n",
      "sample: 100%|██████████| 15000/15000 [00:05<00:00, 2578.67it/s, 31 steps of size 1.56e-01. acc. prob=0.90]\n",
      "[I 2024-01-08 05:55:07,748] Trial 259 finished with value: 173.3016357421875 and parameters: {'I_y_and_I_z_mu_0': 1.6879782227986364, 'I_y_and_I_z_mu_1': 0.2920387947772477, 'I_y_and_I_z_cov_0_0': 0.9900855878293875, 'I_y_and_I_z_cov_1_1': 1.1678759893423534, 'Q_mu': 746726399579013.6, 'Q_sigma': 4911717.083795466, 'sigma_mu': 1.1286299403055218, 'sigma_sigma': 1.4502351572557146}. Best is trial 104 with value: 172.69869995117188.\n",
      "sample: 100%|██████████| 15000/15000 [00:05<00:00, 2644.22it/s, 15 steps of size 2.10e-01. acc. prob=0.94]\n",
      "[I 2024-01-08 05:55:14,539] Trial 260 finished with value: 174.016357421875 and parameters: {'I_y_and_I_z_mu_0': 1.4838443352843047, 'I_y_and_I_z_mu_1': 0.886289152097042, 'I_y_and_I_z_cov_0_0': 0.5124551350250435, 'I_y_and_I_z_cov_1_1': 0.09844272575634572, 'Q_mu': 680298177634335.2, 'Q_sigma': 5225416.163483744, 'sigma_mu': 1.0503066869922442, 'sigma_sigma': 1.7335055158272838}. Best is trial 104 with value: 172.69869995117188.\n",
      "sample: 100%|██████████| 15000/15000 [00:06<00:00, 2337.01it/s, 31 steps of size 8.87e-02. acc. prob=0.93]\n",
      "[I 2024-01-08 05:55:22,078] Trial 261 finished with value: 172.99905395507812 and parameters: {'I_y_and_I_z_mu_0': 1.2341586055588278, 'I_y_and_I_z_mu_1': 0.011026766115399303, 'I_y_and_I_z_cov_0_0': 0.5971228092247504, 'I_y_and_I_z_cov_1_1': 1.395731610455502, 'Q_mu': 905291582475663.0, 'Q_sigma': 4387063.717925718, 'sigma_mu': 1.0067457576137042, 'sigma_sigma': 1.7944329753767898}. Best is trial 104 with value: 172.69869995117188.\n",
      "sample: 100%|██████████| 15000/15000 [00:06<00:00, 2440.60it/s, 15 steps of size 1.57e-01. acc. prob=0.92]\n",
      "[I 2024-01-08 05:55:29,346] Trial 262 finished with value: 173.28646850585938 and parameters: {'I_y_and_I_z_mu_0': 1.6537935984195378, 'I_y_and_I_z_mu_1': 1.4316675579703537, 'I_y_and_I_z_cov_0_0': 0.6731979869014237, 'I_y_and_I_z_cov_1_1': 1.3137246336924056, 'Q_mu': 627402688812784.5, 'Q_sigma': 5719391.709555737, 'sigma_mu': 1.230456750216995, 'sigma_sigma': 1.5690208451279561}. Best is trial 104 with value: 172.69869995117188.\n",
      "sample: 100%|██████████| 15000/15000 [00:06<00:00, 2351.13it/s, 15 steps of size 1.40e-01. acc. prob=0.93]\n",
      "[I 2024-01-08 05:55:36,884] Trial 263 finished with value: 174.50189208984375 and parameters: {'I_y_and_I_z_mu_0': 1.5537554440931087, 'I_y_and_I_z_mu_1': 0.2422764269574266, 'I_y_and_I_z_cov_0_0': 0.4862896733211065, 'I_y_and_I_z_cov_1_1': 1.4237648682724071, 'Q_mu': 46431118019135.81, 'Q_sigma': 4797434.444410128, 'sigma_mu': 1.089632257645808, 'sigma_sigma': 1.955920805022624}. Best is trial 104 with value: 172.69869995117188.\n",
      "sample: 100%|██████████| 15000/15000 [00:07<00:00, 2091.63it/s, 31 steps of size 7.62e-02. acc. prob=0.93]\n",
      "[I 2024-01-08 05:55:45,255] Trial 264 finished with value: 172.71829223632812 and parameters: {'I_y_and_I_z_mu_0': 1.5902523909213735, 'I_y_and_I_z_mu_1': 0.12809782877492337, 'I_y_and_I_z_cov_0_0': 0.5459427128761376, 'I_y_and_I_z_cov_1_1': 1.2634685773894272, 'Q_mu': 822183004277284.4, 'Q_sigma': 5063180.796706726, 'sigma_mu': 1.1968890967503927, 'sigma_sigma': 1.672798642797413}. Best is trial 104 with value: 172.69869995117188.\n",
      "sample: 100%|██████████| 15000/15000 [00:07<00:00, 1906.94it/s, 31 steps of size 1.00e-01. acc. prob=0.94]\n",
      "[I 2024-01-08 05:55:54,263] Trial 265 finished with value: 173.49484252929688 and parameters: {'I_y_and_I_z_mu_0': 1.3212009440025299, 'I_y_and_I_z_mu_1': 0.14236100579253042, 'I_y_and_I_z_cov_0_0': 0.19171357530817112, 'I_y_and_I_z_cov_1_1': 1.257823942431597, 'Q_mu': 818293332624773.2, 'Q_sigma': 4981556.306342645, 'sigma_mu': 1.1622778358808203, 'sigma_sigma': 1.6748223372110749}. Best is trial 104 with value: 172.69869995117188.\n",
      "sample: 100%|██████████| 15000/15000 [00:06<00:00, 2201.58it/s, 15 steps of size 7.50e-02. acc. prob=0.94]\n",
      "[I 2024-01-08 05:56:02,196] Trial 266 finished with value: 172.73788452148438 and parameters: {'I_y_and_I_z_mu_0': 1.6034924425988126, 'I_y_and_I_z_mu_1': 0.0965565183290496, 'I_y_and_I_z_cov_0_0': 0.6404662010828626, 'I_y_and_I_z_cov_1_1': 1.1337346177212426, 'Q_mu': 843844152418908.1, 'Q_sigma': 4617907.781794028, 'sigma_mu': 1.2184060691562209, 'sigma_sigma': 1.6124035749525}. Best is trial 104 with value: 172.69869995117188.\n",
      "sample: 100%|██████████| 15000/15000 [00:07<00:00, 2140.83it/s, 31 steps of size 7.49e-02. acc. prob=0.95]\n",
      "[I 2024-01-08 05:56:10,382] Trial 267 finished with value: 172.9942626953125 and parameters: {'I_y_and_I_z_mu_0': 1.6433605090947272, 'I_y_and_I_z_mu_1': 0.15109785718332908, 'I_y_and_I_z_cov_0_0': 0.3835122842188575, 'I_y_and_I_z_cov_1_1': 1.2258036599062077, 'Q_mu': 783375994644580.8, 'Q_sigma': 5055561.26319982, 'sigma_mu': 1.1943726586911758, 'sigma_sigma': 1.690030770756884}. Best is trial 104 with value: 172.69869995117188.\n",
      "sample: 100%|██████████| 15000/15000 [00:06<00:00, 2247.45it/s, 63 steps of size 7.17e-02. acc. prob=0.94]\n",
      "[I 2024-01-08 05:56:18,206] Trial 268 finished with value: 172.9817352294922 and parameters: {'I_y_and_I_z_mu_0': 1.111699131863152, 'I_y_and_I_z_mu_1': 0.053742959726251344, 'I_y_and_I_z_cov_0_0': 0.533218453549591, 'I_y_and_I_z_cov_1_1': 1.3032481080285192, 'Q_mu': 872429394863960.2, 'Q_sigma': 373571.35898552183, 'sigma_mu': 1.5817498973894577, 'sigma_sigma': 1.6353033286439682}. Best is trial 104 with value: 172.69869995117188.\n",
      "sample: 100%|██████████| 15000/15000 [00:05<00:00, 2536.61it/s, 15 steps of size 2.01e-01. acc. prob=0.94]\n",
      "[I 2024-01-08 05:56:25,252] Trial 269 finished with value: 174.03469848632812 and parameters: {'I_y_and_I_z_mu_0': 0.2149529457943411, 'I_y_and_I_z_mu_1': 0.2074180344574988, 'I_y_and_I_z_cov_0_0': 0.5807299808026052, 'I_y_and_I_z_cov_1_1': 1.2695895333080975, 'Q_mu': 806919855561973.1, 'Q_sigma': 4126029.4042775454, 'sigma_mu': 1.1277663338953432, 'sigma_sigma': 1.7452608404496859}. Best is trial 104 with value: 172.69869995117188.\n",
      "sample: 100%|██████████| 15000/15000 [00:06<00:00, 2388.24it/s, 31 steps of size 1.12e-01. acc. prob=0.93]\n",
      "[I 2024-01-08 05:56:32,669] Trial 270 finished with value: 173.10711669921875 and parameters: {'I_y_and_I_z_mu_0': 1.5762391055402505, 'I_y_and_I_z_mu_1': 0.11915082773176519, 'I_y_and_I_z_cov_0_0': 0.8045994986575956, 'I_y_and_I_z_cov_1_1': 1.1925005813766452, 'Q_mu': 829171737136387.2, 'Q_sigma': 5208903.687704465, 'sigma_mu': 1.069549863823446, 'sigma_sigma': 1.7139795770669717}. Best is trial 104 with value: 172.69869995117188.\n",
      "sample: 100%|██████████| 15000/15000 [00:07<00:00, 2038.60it/s, 35 steps of size 6.89e-02. acc. prob=0.94]\n",
      "[I 2024-01-08 05:56:41,159] Trial 271 finished with value: 172.9720458984375 and parameters: {'I_y_and_I_z_mu_0': 1.7022365223579163, 'I_y_and_I_z_mu_1': 0.054870151375193674, 'I_y_and_I_z_cov_0_0': 0.480777523970098, 'I_y_and_I_z_cov_1_1': 1.3441381658483613, 'Q_mu': 849483518950790.9, 'Q_sigma': 4783415.084408123, 'sigma_mu': 1.2525923692229926, 'sigma_sigma': 1.6544074939073836}. Best is trial 104 with value: 172.69869995117188.\n",
      "sample: 100%|██████████| 15000/15000 [00:07<00:00, 2091.17it/s, 63 steps of size 6.44e-02. acc. prob=0.94]\n",
      "[I 2024-01-08 05:56:49,478] Trial 272 finished with value: 172.76296997070312 and parameters: {'I_y_and_I_z_mu_0': 1.5352223445830226, 'I_y_and_I_z_mu_1': 0.1952721014874991, 'I_y_and_I_z_cov_0_0': 0.5440524849180226, 'I_y_and_I_z_cov_1_1': 1.244185659450934, 'Q_mu': 882107371510190.8, 'Q_sigma': 4447041.972810771, 'sigma_mu': 1.1630998726245352, 'sigma_sigma': 1.7690047152221613}. Best is trial 104 with value: 172.69869995117188.\n",
      "sample: 100%|██████████| 15000/15000 [00:05<00:00, 2646.11it/s, 15 steps of size 2.08e-01. acc. prob=0.90]\n",
      "[I 2024-01-08 05:56:56,353] Trial 273 finished with value: 173.68087768554688 and parameters: {'I_y_and_I_z_mu_0': 0.9446751623315169, 'I_y_and_I_z_mu_1': 0.2609782056545472, 'I_y_and_I_z_cov_0_0': 0.8757753256828325, 'I_y_and_I_z_cov_1_1': 1.2899179402141991, 'Q_mu': 909852723575207.0, 'Q_sigma': 5378256.36471351, 'sigma_mu': 1.1209947903213378, 'sigma_sigma': 1.5910251211396171}. Best is trial 104 with value: 172.69869995117188.\n",
      "sample: 100%|██████████| 15000/15000 [00:05<00:00, 2560.03it/s, 15 steps of size 1.67e-01. acc. prob=0.94]\n",
      "[I 2024-01-08 05:57:03,354] Trial 274 finished with value: 173.63865661621094 and parameters: {'I_y_and_I_z_mu_0': 1.6004233562128642, 'I_y_and_I_z_mu_1': 0.09283604710157298, 'I_y_and_I_z_cov_0_0': 1.7665028000082605, 'I_y_and_I_z_cov_1_1': 1.044033559128352, 'Q_mu': 865081473910225.9, 'Q_sigma': 4890719.314988556, 'sigma_mu': 1.0991159246063111, 'sigma_sigma': 1.6837405385020277}. Best is trial 104 with value: 172.69869995117188.\n",
      "sample: 100%|██████████| 15000/15000 [00:06<00:00, 2426.52it/s, 15 steps of size 1.09e-01. acc. prob=0.93]\n",
      "[I 2024-01-08 05:57:10,673] Trial 275 finished with value: 172.98324584960938 and parameters: {'I_y_and_I_z_mu_0': 1.5100931109941684, 'I_y_and_I_z_mu_1': 0.14694005746176036, 'I_y_and_I_z_cov_0_0': 0.6178018166733604, 'I_y_and_I_z_cov_1_1': 1.351349835154439, 'Q_mu': 699731142459651.2, 'Q_sigma': 4644579.5948274005, 'sigma_mu': 1.190387179432031, 'sigma_sigma': 1.8123669872571186}. Best is trial 104 with value: 172.69869995117188.\n",
      "sample: 100%|██████████| 15000/15000 [00:06<00:00, 2341.43it/s, 15 steps of size 1.08e-01. acc. prob=0.92]\n",
      "[I 2024-01-08 05:57:18,221] Trial 276 finished with value: 173.25888061523438 and parameters: {'I_y_and_I_z_mu_0': 1.6550328091884177, 'I_y_and_I_z_mu_1': 0.31650874231724196, 'I_y_and_I_z_cov_0_0': 0.2935439236020158, 'I_y_and_I_z_cov_1_1': 1.0804778025324069, 'Q_mu': 796068968958562.2, 'Q_sigma': 4241494.2681553755, 'sigma_mu': 1.144651894766894, 'sigma_sigma': 1.2591262738512312}. Best is trial 104 with value: 172.69869995117188.\n",
      "sample: 100%|██████████| 15000/15000 [00:06<00:00, 2212.91it/s, 63 steps of size 7.60e-02. acc. prob=0.94]\n",
      "[I 2024-01-08 05:57:26,152] Trial 277 finished with value: 172.76345825195312 and parameters: {'I_y_and_I_z_mu_0': 1.5716230941729725, 'I_y_and_I_z_mu_1': 0.22241486396312798, 'I_y_and_I_z_cov_0_0': 0.4483891612040315, 'I_y_and_I_z_cov_1_1': 1.158536644168765, 'Q_mu': 760223813570251.5, 'Q_sigma': 5227612.518369509, 'sigma_mu': 1.0190904856834937, 'sigma_sigma': 1.7193586010882065}. Best is trial 104 with value: 172.69869995117188.\n",
      "sample: 100%|██████████| 15000/15000 [00:05<00:00, 2506.45it/s, 31 steps of size 1.32e-01. acc. prob=0.94]\n",
      "[I 2024-01-08 05:57:33,281] Trial 278 finished with value: 173.3798065185547 and parameters: {'I_y_and_I_z_mu_0': 1.6225944860965782, 'I_y_and_I_z_mu_1': 0.3908858948112045, 'I_y_and_I_z_cov_0_0': 0.9344307804107523, 'I_y_and_I_z_cov_1_1': 1.3361609761394377, 'Q_mu': 664871931526614.1, 'Q_sigma': 5034306.962964848, 'sigma_mu': 1.0599729097160235, 'sigma_sigma': 1.7576861523425502}. Best is trial 104 with value: 172.69869995117188.\n",
      "sample: 100%|██████████| 15000/15000 [00:07<00:00, 2084.47it/s, 63 steps of size 6.06e-02. acc. prob=0.95]\n",
      "[I 2024-01-08 05:57:41,654] Trial 279 finished with value: 172.78668212890625 and parameters: {'I_y_and_I_z_mu_0': 1.5411776814443625, 'I_y_and_I_z_mu_1': 0.046838215170146025, 'I_y_and_I_z_cov_0_0': 0.5716775771618869, 'I_y_and_I_z_cov_1_1': 0.9823261722949946, 'Q_mu': 894188884703104.2, 'Q_sigma': 4541688.829716513, 'sigma_mu': 1.106655261114832, 'sigma_sigma': 1.303901527096872}. Best is trial 104 with value: 172.69869995117188.\n",
      "sample: 100%|██████████| 15000/15000 [00:05<00:00, 2617.03it/s, 7 steps of size 1.65e-01. acc. prob=0.91] \n",
      "[I 2024-01-08 05:57:48,606] Trial 280 finished with value: 173.37026977539062 and parameters: {'I_y_and_I_z_mu_0': 1.4199638811411819, 'I_y_and_I_z_mu_1': 0.8022417698170454, 'I_y_and_I_z_cov_0_0': 0.7532763598584087, 'I_y_and_I_z_cov_1_1': 1.2017439788311217, 'Q_mu': 728951594425375.4, 'Q_sigma': 4792351.046610009, 'sigma_mu': 1.1908475216762755, 'sigma_sigma': 1.6207041043829666}. Best is trial 104 with value: 172.69869995117188.\n",
      "sample: 100%|██████████| 15000/15000 [00:07<00:00, 2111.54it/s, 31 steps of size 7.24e-02. acc. prob=0.93]\n",
      "[I 2024-01-08 05:57:56,854] Trial 281 finished with value: 172.716552734375 and parameters: {'I_y_and_I_z_mu_0': 1.4749487011894564, 'I_y_and_I_z_mu_1': 0.1689454603846784, 'I_y_and_I_z_cov_0_0': 0.5184234609513307, 'I_y_and_I_z_cov_1_1': 1.4610971431096564, 'Q_mu': 818141728087280.4, 'Q_sigma': 5089215.388944508, 'sigma_mu': 1.2446803547129983, 'sigma_sigma': 1.8586963393569929}. Best is trial 104 with value: 172.69869995117188.\n",
      "sample: 100%|██████████| 15000/15000 [00:06<00:00, 2204.74it/s, 15 steps of size 8.49e-02. acc. prob=0.92]\n",
      "[I 2024-01-08 05:58:04,810] Trial 282 finished with value: 172.7228546142578 and parameters: {'I_y_and_I_z_mu_0': 1.460813206368429, 'I_y_and_I_z_mu_1': 0.2726837050262394, 'I_y_and_I_z_cov_0_0': 0.5086349418922091, 'I_y_and_I_z_cov_1_1': 1.4957041757510325, 'Q_mu': 820134901915400.8, 'Q_sigma': 5056825.237305148, 'sigma_mu': 1.279779036600394, 'sigma_sigma': 1.8355137674209299}. Best is trial 104 with value: 172.69869995117188.\n",
      "sample: 100%|██████████| 15000/15000 [00:05<00:00, 2552.02it/s, 15 steps of size 1.43e-01. acc. prob=0.93]\n",
      "[I 2024-01-08 05:58:11,847] Trial 283 finished with value: 173.75628662109375 and parameters: {'I_y_and_I_z_mu_0': 0.7857200105641983, 'I_y_and_I_z_mu_1': 0.45837392492542706, 'I_y_and_I_z_cov_0_0': 0.6614374496440387, 'I_y_and_I_z_cov_1_1': 1.4326211102075743, 'Q_mu': 786414529800314.1, 'Q_sigma': 9107183.792877866, 'sigma_mu': 1.2256432318369002, 'sigma_sigma': 1.7853200391961621}. Best is trial 104 with value: 172.69869995117188.\n",
      "sample: 100%|██████████| 15000/15000 [00:06<00:00, 2266.15it/s, 31 steps of size 7.49e-02. acc. prob=0.94]\n",
      "[I 2024-01-08 05:58:19,549] Trial 284 finished with value: 172.72793579101562 and parameters: {'I_y_and_I_z_mu_0': 1.5145538342362448, 'I_y_and_I_z_mu_1': 0.094582556800823, 'I_y_and_I_z_cov_0_0': 0.5986792980695086, 'I_y_and_I_z_cov_1_1': 1.482356747018111, 'Q_mu': 828889773867648.4, 'Q_sigma': 4697884.646746557, 'sigma_mu': 1.258079008493808, 'sigma_sigma': 1.7413300295217917}. Best is trial 104 with value: 172.69869995117188.\n",
      "sample: 100%|██████████| 15000/15000 [00:06<00:00, 2347.20it/s, 31 steps of size 9.92e-02. acc. prob=0.91]\n",
      "[I 2024-01-08 05:58:27,101] Trial 285 finished with value: 172.9488525390625 and parameters: {'I_y_and_I_z_mu_0': 1.7416150172130491, 'I_y_and_I_z_mu_1': 0.17403393563973124, 'I_y_and_I_z_cov_0_0': 0.4267718512013853, 'I_y_and_I_z_cov_1_1': 1.3928301007424042, 'Q_mu': 742747683292560.0, 'Q_sigma': 4327378.276533494, 'sigma_mu': 1.1500540357701003, 'sigma_sigma': 1.8090996606847372}. Best is trial 104 with value: 172.69869995117188.\n",
      "sample: 100%|██████████| 15000/15000 [00:06<00:00, 2192.11it/s, 63 steps of size 6.69e-02. acc. prob=0.93]\n",
      "[I 2024-01-08 05:58:35,078] Trial 286 finished with value: 172.74444580078125 and parameters: {'I_y_and_I_z_mu_0': 1.4742704844462438, 'I_y_and_I_z_mu_1': 0.05584682916232891, 'I_y_and_I_z_cov_0_0': 0.5194640253937829, 'I_y_and_I_z_cov_1_1': 1.4441846526132198, 'Q_mu': 845464340654282.4, 'Q_sigma': 4899622.660716328, 'sigma_mu': 1.2152926166986044, 'sigma_sigma': 1.5573289884605053}. Best is trial 104 with value: 172.69869995117188.\n",
      "sample: 100%|██████████| 15000/15000 [00:06<00:00, 2499.83it/s, 31 steps of size 1.31e-01. acc. prob=0.93]\n",
      "[I 2024-01-08 05:58:42,206] Trial 287 finished with value: 173.2904052734375 and parameters: {'I_y_and_I_z_mu_0': 1.6072349282768295, 'I_y_and_I_z_mu_1': 0.012783200111384618, 'I_y_and_I_z_cov_0_0': 1.0543532828858115, 'I_y_and_I_z_cov_1_1': 1.3762624044185459, 'Q_mu': 800390001068810.2, 'Q_sigma': 3990951.1681574658, 'sigma_mu': 1.295511519124442, 'sigma_sigma': 1.6591814741590407}. Best is trial 104 with value: 172.69869995117188.\n",
      "sample: 100%|██████████| 15000/15000 [00:07<00:00, 2125.66it/s, 15 steps of size 6.96e-02. acc. prob=0.94]\n",
      "[I 2024-01-08 05:58:50,429] Trial 288 finished with value: 172.8579559326172 and parameters: {'I_y_and_I_z_mu_0': 1.5455632560385766, 'I_y_and_I_z_mu_1': 0.37048425582913297, 'I_y_and_I_z_cov_0_0': 0.4784799275624132, 'I_y_and_I_z_cov_1_1': 1.123869405490389, 'Q_mu': 927083607866129.9, 'Q_sigma': 4513307.665060459, 'sigma_mu': 1.4655711978311028, 'sigma_sigma': 1.4988961472684463}. Best is trial 104 with value: 172.69869995117188.\n",
      "sample: 100%|██████████| 15000/15000 [00:06<00:00, 2263.88it/s, 31 steps of size 9.78e-02. acc. prob=0.92]\n",
      "[I 2024-01-08 05:58:58,258] Trial 289 finished with value: 172.94949340820312 and parameters: {'I_y_and_I_z_mu_0': 1.6863816614107277, 'I_y_and_I_z_mu_1': 0.12715504176859938, 'I_y_and_I_z_cov_0_0': 0.3395620386196093, 'I_y_and_I_z_cov_1_1': 1.4983329103594536, 'Q_mu': 686195088893023.4, 'Q_sigma': 5103500.661679203, 'sigma_mu': 0.9841243597482839, 'sigma_sigma': 1.6947893072041076}. Best is trial 104 with value: 172.69869995117188.\n",
      "sample: 100%|██████████| 15000/15000 [00:06<00:00, 2394.79it/s, 31 steps of size 1.12e-01. acc. prob=0.92]\n",
      "[I 2024-01-08 05:59:05,763] Trial 290 finished with value: 173.21751403808594 and parameters: {'I_y_and_I_z_mu_0': 1.5008638462952544, 'I_y_and_I_z_mu_1': 0.2345559439535856, 'I_y_and_I_z_cov_0_0': 0.631148195717656, 'I_y_and_I_z_cov_1_1': 1.0665021434874415, 'Q_mu': 896007680969649.4, 'Q_sigma': 8656065.659377735, 'sigma_mu': 1.5465467987740507, 'sigma_sigma': 1.761159063165046}. Best is trial 104 with value: 172.69869995117188.\n",
      "sample: 100%|██████████| 15000/15000 [00:06<00:00, 2338.27it/s, 15 steps of size 1.20e-01. acc. prob=0.90]\n",
      "[I 2024-01-08 05:59:13,371] Trial 291 finished with value: 172.87615966796875 and parameters: {'I_y_and_I_z_mu_0': 1.5925124676447786, 'I_y_and_I_z_mu_1': 0.08420509420296445, 'I_y_and_I_z_cov_0_0': 0.5597178313594469, 'I_y_and_I_z_cov_1_1': 1.9238097373446177, 'Q_mu': 623284400399510.5, 'Q_sigma': 4741786.03280225, 'sigma_mu': 1.246372593378545, 'sigma_sigma': 1.7258271146527215}. Best is trial 104 with value: 172.69869995117188.\n",
      "sample: 100%|██████████| 15000/15000 [00:06<00:00, 2263.89it/s, 15 steps of size 9.22e-02. acc. prob=0.94]\n",
      "[I 2024-01-08 05:59:21,192] Trial 292 finished with value: 172.75111389160156 and parameters: {'I_y_and_I_z_mu_0': 1.6444046110557533, 'I_y_and_I_z_mu_1': 0.3023300974361922, 'I_y_and_I_z_cov_0_0': 0.5956217478372581, 'I_y_and_I_z_cov_1_1': 1.4134093444372597, 'Q_mu': 645482817604624.4, 'Q_sigma': 3272034.064454412, 'sigma_mu': 1.0632728065391785, 'sigma_sigma': 1.871912901612846}. Best is trial 104 with value: 172.69869995117188.\n",
      "sample: 100%|██████████| 15000/15000 [00:06<00:00, 2426.06it/s, 15 steps of size 1.30e-01. acc. prob=0.93]\n",
      "[I 2024-01-08 05:59:28,634] Trial 293 finished with value: 173.201171875 and parameters: {'I_y_and_I_z_mu_0': 1.4321865960671274, 'I_y_and_I_z_mu_1': 0.3389206212885364, 'I_y_and_I_z_cov_0_0': 0.6791860492406581, 'I_y_and_I_z_cov_1_1': 0.7988719190813225, 'Q_mu': 772960073559807.1, 'Q_sigma': 5401632.741585282, 'sigma_mu': 1.1785282316460135, 'sigma_sigma': 1.6430651838514563}. Best is trial 104 with value: 172.69869995117188.\n",
      "sample: 100%|██████████| 15000/15000 [00:05<00:00, 2528.08it/s, 11 steps of size 1.79e-01. acc. prob=0.92]\n",
      "[I 2024-01-08 05:59:35,850] Trial 294 finished with value: 173.59132385253906 and parameters: {'I_y_and_I_z_mu_0': 1.4012281948673773, 'I_y_and_I_z_mu_1': 0.16243855220625253, 'I_y_and_I_z_cov_0_0': 1.1860662346682251, 'I_y_and_I_z_cov_1_1': 1.46269386744213, 'Q_mu': 715776716333005.0, 'Q_sigma': 4923443.692523643, 'sigma_mu': 1.09377962626102, 'sigma_sigma': 1.128084803700078}. Best is trial 104 with value: 172.69869995117188.\n",
      "sample: 100%|██████████| 15000/15000 [00:06<00:00, 2372.35it/s, 31 steps of size 9.60e-02. acc. prob=0.95]\n",
      "[I 2024-01-08 05:59:43,410] Trial 295 finished with value: 172.97125244140625 and parameters: {'I_y_and_I_z_mu_0': 1.5668637117168158, 'I_y_and_I_z_mu_1': 0.427702715630124, 'I_y_and_I_z_cov_0_0': 0.7264558163724023, 'I_y_and_I_z_cov_1_1': 1.2762772451324125, 'Q_mu': 852278479019238.0, 'Q_sigma': 4554232.851009676, 'sigma_mu': 1.034011348997672, 'sigma_sigma': 1.799422056813763}. Best is trial 104 with value: 172.69869995117188.\n",
      "sample: 100%|██████████| 15000/15000 [00:07<00:00, 1978.00it/s, 31 steps of size 1.04e-01. acc. prob=0.93]\n",
      "[I 2024-01-08 05:59:52,282] Trial 296 finished with value: 172.79995727539062 and parameters: {'I_y_and_I_z_mu_0': 1.530549246729035, 'I_y_and_I_z_mu_1': 0.9216518401365728, 'I_y_and_I_z_cov_0_0': 0.523020029151331, 'I_y_and_I_z_cov_1_1': 1.3604169404032185, 'Q_mu': 818798122742152.1, 'Q_sigma': 5176123.697326725, 'sigma_mu': 1.1376434853085184, 'sigma_sigma': 1.3622403895945203}. Best is trial 104 with value: 172.69869995117188.\n",
      "sample: 100%|██████████| 15000/15000 [00:07<00:00, 2034.60it/s, 63 steps of size 6.51e-02. acc. prob=0.95] \n",
      "[I 2024-01-08 06:00:00,854] Trial 297 finished with value: 173.0558319091797 and parameters: {'I_y_and_I_z_mu_0': 1.6195562687311753, 'I_y_and_I_z_mu_1': 0.2707527249342508, 'I_y_and_I_z_cov_0_0': 0.4531535207388144, 'I_y_and_I_z_cov_1_1': 1.2393351106122732, 'Q_mu': 909408963651385.9, 'Q_sigma': 4300002.721913445, 'sigma_mu': 1.1933993106547756, 'sigma_sigma': 1.8678589528632468}. Best is trial 104 with value: 172.69869995117188.\n",
      "sample: 100%|██████████| 15000/15000 [00:05<00:00, 2630.08it/s, 15 steps of size 1.73e-01. acc. prob=0.90]\n",
      "[I 2024-01-08 06:00:07,769] Trial 298 finished with value: 173.2675323486328 and parameters: {'I_y_and_I_z_mu_0': 1.47120449632829, 'I_y_and_I_z_mu_1': 1.0023710608547436, 'I_y_and_I_z_cov_0_0': 0.5638219075302565, 'I_y_and_I_z_cov_1_1': 1.3237795324984853, 'Q_mu': 537095056976224.25, 'Q_sigma': 4796889.330676809, 'sigma_mu': 1.1576546616236432, 'sigma_sigma': 1.6800806722979442}. Best is trial 104 with value: 172.69869995117188.\n",
      "sample: 100%|██████████| 15000/15000 [00:06<00:00, 2407.88it/s, 15 steps of size 9.91e-02. acc. prob=0.94]\n",
      "[I 2024-01-08 06:00:15,069] Trial 299 finished with value: 172.81298828125 and parameters: {'I_y_and_I_z_mu_0': 1.588770115087047, 'I_y_and_I_z_mu_1': 0.043790870844338615, 'I_y_and_I_z_cov_0_0': 0.39097341252515055, 'I_y_and_I_z_cov_1_1': 1.400798858839046, 'Q_mu': 511070956686632.1, 'Q_sigma': 5028333.922918091, 'sigma_mu': 1.0696200813104024, 'sigma_sigma': 1.4026335947917903}. Best is trial 104 with value: 172.69869995117188.\n",
      "sample: 100%|██████████| 15000/15000 [00:05<00:00, 2635.93it/s, 15 steps of size 1.65e-01. acc. prob=0.93]\n",
      "[I 2024-01-08 06:00:21,911] Trial 300 finished with value: 173.51593017578125 and parameters: {'I_y_and_I_z_mu_0': 1.6722844915459083, 'I_y_and_I_z_mu_1': 0.7476775919208127, 'I_y_and_I_z_cov_0_0': 1.3219355735019338, 'I_y_and_I_z_cov_1_1': 1.1876064805796909, 'Q_mu': 883088099177884.8, 'Q_sigma': 5655763.49979484, 'sigma_mu': 1.3014401637954092, 'sigma_sigma': 1.9695267004734147}. Best is trial 104 with value: 172.69869995117188.\n",
      "sample: 100%|██████████| 15000/15000 [00:05<00:00, 2517.72it/s, 31 steps of size 1.37e-01. acc. prob=0.92]\n",
      "[I 2024-01-08 06:00:29,067] Trial 301 finished with value: 173.2480926513672 and parameters: {'I_y_and_I_z_mu_0': 1.5264633198003046, 'I_y_and_I_z_mu_1': 0.11979358828495831, 'I_y_and_I_z_cov_0_0': 0.6291399909944113, 'I_y_and_I_z_cov_1_1': 1.2900699264673618, 'Q_mu': 577702038734008.9, 'Q_sigma': 5502984.747857908, 'sigma_mu': 1.4409210864153141, 'sigma_sigma': 1.3306745062801657}. Best is trial 104 with value: 172.69869995117188.\n",
      "sample: 100%|██████████| 15000/15000 [00:06<00:00, 2275.16it/s, 19 steps of size 8.25e-02. acc. prob=0.94]\n",
      "[I 2024-01-08 06:00:36,850] Trial 302 finished with value: 172.75543212890625 and parameters: {'I_y_and_I_z_mu_0': 1.5628946460271194, 'I_y_and_I_z_mu_1': 0.8548695694055382, 'I_y_and_I_z_cov_0_0': 0.5112045929989524, 'I_y_and_I_z_cov_1_1': 1.3625730716432258, 'Q_mu': 933328864328737.0, 'Q_sigma': 4609617.929394631, 'sigma_mu': 1.0141624690789357, 'sigma_sigma': 0.9602983797590673}. Best is trial 104 with value: 172.69869995117188.\n",
      "sample: 100%|██████████| 15000/15000 [00:05<00:00, 2666.56it/s, 15 steps of size 2.03e-01. acc. prob=0.93]\n",
      "[I 2024-01-08 06:00:43,578] Trial 303 finished with value: 173.53079223632812 and parameters: {'I_y_and_I_z_mu_0': 1.3525766463304312, 'I_y_and_I_z_mu_1': 0.21248938036288345, 'I_y_and_I_z_cov_0_0': 0.0135632082004985, 'I_y_and_I_z_cov_1_1': 1.0354370345003057, 'Q_mu': 675675870469237.0, 'Q_sigma': 5227086.789238003, 'sigma_mu': 1.2375236200122204, 'sigma_sigma': 1.716078480396591}. Best is trial 104 with value: 172.69869995117188.\n",
      "sample: 100%|██████████| 15000/15000 [00:06<00:00, 2367.38it/s, 31 steps of size 8.48e-02. acc. prob=0.94]\n",
      "[I 2024-01-08 06:00:51,091] Trial 304 finished with value: 172.90789794921875 and parameters: {'I_y_and_I_z_mu_0': 1.4932166605288624, 'I_y_and_I_z_mu_1': 0.366780189087724, 'I_y_and_I_z_cov_0_0': 0.5961266995902692, 'I_y_and_I_z_cov_1_1': 1.434628145095317, 'Q_mu': 859956755933209.4, 'Q_sigma': 5950037.123046043, 'sigma_mu': 1.1180666128333472, 'sigma_sigma': 1.2116246785533038}. Best is trial 104 with value: 172.69869995117188.\n",
      "sample: 100%|██████████| 15000/15000 [00:06<00:00, 2273.69it/s, 31 steps of size 9.05e-02. acc. prob=0.92]\n",
      "[I 2024-01-08 06:00:58,872] Trial 305 finished with value: 172.75845336914062 and parameters: {'I_y_and_I_z_mu_0': 1.6454231532869796, 'I_y_and_I_z_mu_1': 0.3047187580603047, 'I_y_and_I_z_cov_0_0': 0.48065345235653784, 'I_y_and_I_z_cov_1_1': 1.2447751335686046, 'Q_mu': 710348956580223.9, 'Q_sigma': 4417378.939716302, 'sigma_mu': 1.085000257343491, 'sigma_sigma': 1.5993089330834767}. Best is trial 104 with value: 172.69869995117188.\n",
      "sample: 100%|██████████| 15000/15000 [00:06<00:00, 2166.54it/s, 31 steps of size 6.64e-02. acc. prob=0.95]\n",
      "[I 2024-01-08 06:01:06,988] Trial 306 finished with value: 172.7335968017578 and parameters: {'I_y_and_I_z_mu_0': 1.6064655954359601, 'I_y_and_I_z_mu_1': 0.01117902452812207, 'I_y_and_I_z_cov_0_0': 0.5444246707241929, 'I_y_and_I_z_cov_1_1': 1.1044487594000696, 'Q_mu': 757200035690268.2, 'Q_sigma': 4912835.241070436, 'sigma_mu': 1.163657709079562, 'sigma_sigma': 1.7680413202676422}. Best is trial 104 with value: 172.69869995117188.\n",
      "sample: 100%|██████████| 15000/15000 [00:06<00:00, 2230.99it/s, 15 steps of size 8.50e-02. acc. prob=0.92]\n",
      "[I 2024-01-08 06:01:14,989] Trial 307 finished with value: 172.74334716796875 and parameters: {'I_y_and_I_z_mu_0': 1.7146066866172942, 'I_y_and_I_z_mu_1': 0.07297076793551896, 'I_y_and_I_z_cov_0_0': 0.6982822130652696, 'I_y_and_I_z_cov_1_1': 1.1488473059757205, 'Q_mu': 838835557393261.9, 'Q_sigma': 4697497.06043079, 'sigma_mu': 1.2107171979388154, 'sigma_sigma': 1.523312213524907}. Best is trial 104 with value: 172.69869995117188.\n",
      "sample: 100%|██████████| 15000/15000 [00:06<00:00, 2292.28it/s, 15 steps of size 1.43e-01. acc. prob=0.93]\n",
      "[I 2024-01-08 06:01:22,780] Trial 308 finished with value: 173.41970825195312 and parameters: {'I_y_and_I_z_mu_0': 1.5541316225049855, 'I_y_and_I_z_mu_1': 0.24153631921842567, 'I_y_and_I_z_cov_0_0': 0.839747864116837, 'I_y_and_I_z_cov_1_1': 1.5251407787245952, 'Q_mu': 612961066775348.4, 'Q_sigma': 5310081.819729998, 'sigma_mu': 1.0497869944391596, 'sigma_sigma': 0.3197398738440427}. Best is trial 104 with value: 172.69869995117188.\n",
      "sample: 100%|██████████| 15000/15000 [00:06<00:00, 2314.31it/s, 15 steps of size 9.46e-02. acc. prob=0.93]\n",
      "[I 2024-01-08 06:01:30,479] Trial 309 finished with value: 172.98248291015625 and parameters: {'I_y_and_I_z_mu_0': 1.498677698556955, 'I_y_and_I_z_mu_1': 0.14214927565350485, 'I_y_and_I_z_cov_0_0': 0.7626482850871961, 'I_y_and_I_z_cov_1_1': 1.3288988385629696, 'Q_mu': 878681613685855.2, 'Q_sigma': 4189837.789210772, 'sigma_mu': 1.1283626953649548, 'sigma_sigma': 1.836085279035935}. Best is trial 104 with value: 172.69869995117188.\n",
      "sample: 100%|██████████| 15000/15000 [00:06<00:00, 2427.73it/s, 15 steps of size 9.82e-02. acc. prob=0.94]\n",
      "[I 2024-01-08 06:01:37,865] Trial 310 finished with value: 172.92510986328125 and parameters: {'I_y_and_I_z_mu_0': 1.590433219027361, 'I_y_and_I_z_mu_1': 0.48338930880267167, 'I_y_and_I_z_cov_0_0': 0.6557173091879479, 'I_y_and_I_z_cov_1_1': 1.397106483548617, 'Q_mu': 809348057666192.9, 'Q_sigma': 5074281.907764038, 'sigma_mu': 1.3746076846441226, 'sigma_sigma': 1.9956488050878136}. Best is trial 104 with value: 172.69869995117188.\n",
      "sample: 100%|██████████| 15000/15000 [00:05<00:00, 2664.67it/s, 15 steps of size 1.95e-01. acc. prob=0.92]\n",
      "[I 2024-01-08 06:01:44,733] Trial 311 finished with value: 173.83949279785156 and parameters: {'I_y_and_I_z_mu_0': 0.550732500712826, 'I_y_and_I_z_mu_1': 0.33775207063564266, 'I_y_and_I_z_cov_0_0': 0.574982361199758, 'I_y_and_I_z_cov_1_1': 1.2944532556889141, 'Q_mu': 912478148690977.6, 'Q_sigma': 4857338.226044103, 'sigma_mu': 0.9542506437662848, 'sigma_sigma': 1.6415139775307903}. Best is trial 104 with value: 172.69869995117188.\n",
      "sample: 100%|██████████| 15000/15000 [00:05<00:00, 2538.52it/s, 31 steps of size 1.67e-01. acc. prob=0.95]\n",
      "[I 2024-01-08 06:01:51,897] Trial 312 finished with value: 173.42584228515625 and parameters: {'I_y_and_I_z_mu_0': 1.7687740735672244, 'I_y_and_I_z_mu_1': 0.17637021218060275, 'I_y_and_I_z_cov_0_0': 0.07434364639446389, 'I_y_and_I_z_cov_1_1': 1.9798011192852312, 'Q_mu': 701427906457151.9, 'Q_sigma': 4526142.317833884, 'sigma_mu': 1.6099132013371413, 'sigma_sigma': 1.8996735373577}. Best is trial 104 with value: 172.69869995117188.\n",
      "sample: 100%|██████████| 15000/15000 [00:06<00:00, 2436.72it/s, 15 steps of size 1.01e-01. acc. prob=0.93]\n",
      "[I 2024-01-08 06:01:59,272] Trial 313 finished with value: 172.97738647460938 and parameters: {'I_y_and_I_z_mu_0': 1.448826960415496, 'I_y_and_I_z_mu_1': 0.399030848486671, 'I_y_and_I_z_cov_0_0': 0.6219815525329413, 'I_y_and_I_z_cov_1_1': 1.8464935445909254, 'Q_mu': 734328505734017.2, 'Q_sigma': 3740388.3494871007, 'sigma_mu': 1.5109744651407186, 'sigma_sigma': 1.7385603715444837}. Best is trial 104 with value: 172.69869995117188.\n",
      "sample: 100%|██████████| 15000/15000 [00:06<00:00, 2250.18it/s, 15 steps of size 7.09e-02. acc. prob=0.94]\n",
      "[I 2024-01-08 06:02:07,178] Trial 314 finished with value: 172.90225219726562 and parameters: {'I_y_and_I_z_mu_0': 1.2456900513166553, 'I_y_and_I_z_mu_1': 0.1034214787211834, 'I_y_and_I_z_cov_0_0': 0.5302192392903299, 'I_y_and_I_z_cov_1_1': 1.365014561967377, 'Q_mu': 940145066655339.9, 'Q_sigma': 5420254.630819335, 'sigma_mu': 1.0985279082870285, 'sigma_sigma': 1.6886313150700716}. Best is trial 104 with value: 172.69869995117188.\n",
      "sample: 100%|██████████| 15000/15000 [00:06<00:00, 2166.00it/s, 31 steps of size 6.92e-02. acc. prob=0.94]\n",
      "[I 2024-01-08 06:02:15,361] Trial 315 finished with value: 172.73187255859375 and parameters: {'I_y_and_I_z_mu_0': 1.32512526826381, 'I_y_and_I_z_mu_1': 0.2996181885827086, 'I_y_and_I_z_cov_0_0': 0.4806567840042978, 'I_y_and_I_z_cov_1_1': 1.2156343355307815, 'Q_mu': 898624119325291.9, 'Q_sigma': 4381539.2723624315, 'sigma_mu': 1.1736130550987929, 'sigma_sigma': 1.791412408375379}. Best is trial 104 with value: 172.69869995117188.\n",
      "sample: 100%|██████████| 15000/15000 [00:06<00:00, 2225.91it/s, 31 steps of size 1.01e-01. acc. prob=0.93]\n",
      "[I 2024-01-08 06:02:23,329] Trial 316 finished with value: 173.05592346191406 and parameters: {'I_y_and_I_z_mu_0': 1.3952290769139624, 'I_y_and_I_z_mu_1': 0.261484338241867, 'I_y_and_I_z_cov_0_0': 0.5887066948376047, 'I_y_and_I_z_cov_1_1': 1.4670235272103527, 'Q_mu': 786959595915356.6, 'Q_sigma': 5842074.6839508815, 'sigma_mu': 1.001290687445808, 'sigma_sigma': 1.4461283928261284}. Best is trial 104 with value: 172.69869995117188.\n",
      "sample: 100%|██████████| 15000/15000 [00:06<00:00, 2148.07it/s, 15 steps of size 7.76e-02. acc. prob=0.93]\n",
      "[I 2024-01-08 06:02:31,633] Trial 317 finished with value: 173.28851318359375 and parameters: {'I_y_and_I_z_mu_0': 1.6380374795901749, 'I_y_and_I_z_mu_1': 0.010584896242104066, 'I_y_and_I_z_cov_0_0': 0.43698792967860395, 'I_y_and_I_z_cov_1_1': 1.334412306892779, 'Q_mu': 858965364444237.1, 'Q_sigma': 2643258.2029354414, 'sigma_mu': 1.3192776786891967, 'sigma_sigma': 1.587997132885242}. Best is trial 104 with value: 172.69869995117188.\n",
      "sample: 100%|██████████| 15000/15000 [00:06<00:00, 2291.68it/s, 31 steps of size 8.02e-02. acc. prob=0.94]\n",
      "[I 2024-01-08 06:02:39,445] Trial 318 finished with value: 172.76187133789062 and parameters: {'I_y_and_I_z_mu_0': 1.5340461004278332, 'I_y_and_I_z_mu_1': 0.1689435991585414, 'I_y_and_I_z_cov_0_0': 0.5398681531065509, 'I_y_and_I_z_cov_1_1': 1.417762458055431, 'Q_mu': 832776635186143.1, 'Q_sigma': 6227716.706174748, 'sigma_mu': 1.2542071335768419, 'sigma_sigma': 1.82726167064537}. Best is trial 104 with value: 172.69869995117188.\n",
      "sample: 100%|██████████| 15000/15000 [00:05<00:00, 2547.70it/s, 31 steps of size 1.20e-01. acc. prob=0.94]\n",
      "[I 2024-01-08 06:02:46,533] Trial 319 finished with value: 173.2907257080078 and parameters: {'I_y_and_I_z_mu_0': 1.5670047247883399, 'I_y_and_I_z_mu_1': 0.05890175533022024, 'I_y_and_I_z_cov_0_0': 0.801849630860337, 'I_y_and_I_z_cov_1_1': 1.2778491925471238, 'Q_mu': 663480702487796.9, 'Q_sigma': 5576890.784599501, 'sigma_mu': 0.8436209263444323, 'sigma_sigma': 1.7029390132480418}. Best is trial 104 with value: 172.69869995117188.\n",
      "sample: 100%|██████████| 15000/15000 [00:05<00:00, 2570.27it/s, 15 steps of size 1.50e-01. acc. prob=0.92]\n",
      "[I 2024-01-08 06:02:53,601] Trial 320 finished with value: 173.0320281982422 and parameters: {'I_y_and_I_z_mu_0': 1.6103913181003229, 'I_y_and_I_z_mu_1': 1.9792876362546945, 'I_y_and_I_z_cov_0_0': 0.6640108883233847, 'I_y_and_I_z_cov_1_1': 1.357526270167939, 'Q_mu': 874984026922820.9, 'Q_sigma': 5153126.493402058, 'sigma_mu': 1.1370939862225504, 'sigma_sigma': 1.9344882196739503}. Best is trial 104 with value: 172.69869995117188.\n",
      "sample: 100%|██████████| 15000/15000 [00:05<00:00, 2629.76it/s, 15 steps of size 1.87e-01. acc. prob=0.90]\n",
      "[I 2024-01-08 06:03:00,522] Trial 321 finished with value: 173.53976440429688 and parameters: {'I_y_and_I_z_mu_0': 1.6785154044620731, 'I_y_and_I_z_mu_1': 0.20805877240981033, 'I_y_and_I_z_cov_0_0': 0.5004085623319025, 'I_y_and_I_z_cov_1_1': 1.1691290011866906, 'Q_mu': 278803167405404.06, 'Q_sigma': 4714911.640127687, 'sigma_mu': 1.0481363672809274, 'sigma_sigma': 1.6258706224279433}. Best is trial 104 with value: 172.69869995117188.\n",
      "sample: 100%|██████████| 15000/15000 [00:06<00:00, 2459.10it/s, 15 steps of size 9.56e-02. acc. prob=0.95]\n",
      "[I 2024-01-08 06:03:07,789] Trial 322 finished with value: 173.14356994628906 and parameters: {'I_y_and_I_z_mu_0': 1.507839436420026, 'I_y_and_I_z_mu_1': 0.10770103604520716, 'I_y_and_I_z_cov_0_0': 0.8860258341415796, 'I_y_and_I_z_cov_1_1': 1.2525587986171738, 'Q_mu': 965420043900992.8, 'Q_sigma': 4980551.696819855, 'sigma_mu': 1.1958874211695278, 'sigma_sigma': 1.1649005840368327}. Best is trial 104 with value: 172.69869995117188.\n",
      "sample: 100%|██████████| 15000/15000 [00:05<00:00, 2548.32it/s, 15 steps of size 1.46e-01. acc. prob=0.94]\n",
      "[I 2024-01-08 06:03:14,770] Trial 323 finished with value: 173.42343139648438 and parameters: {'I_y_and_I_z_mu_0': 1.0371012144940412, 'I_y_and_I_z_mu_1': 0.5534579635580642, 'I_y_and_I_z_cov_0_0': 0.6100687954446261, 'I_y_and_I_z_cov_1_1': 1.0852522977652128, 'Q_mu': 919546675829406.1, 'Q_sigma': 4827829.098740145, 'sigma_mu': 1.099555049721707, 'sigma_sigma': 1.6646810945382955}. Best is trial 104 with value: 172.69869995117188.\n",
      "sample: 100%|██████████| 15000/15000 [00:06<00:00, 2217.88it/s, 15 steps of size 7.29e-02. acc. prob=0.94]\n",
      "[I 2024-01-08 06:03:22,662] Trial 324 finished with value: 172.720458984375 and parameters: {'I_y_and_I_z_mu_0': 1.5747076656778427, 'I_y_and_I_z_mu_1': 0.2473495783352564, 'I_y_and_I_z_cov_0_0': 0.5642233686108612, 'I_y_and_I_z_cov_1_1': 0.9700784506004677, 'Q_mu': 894650079113682.8, 'Q_sigma': 5226718.547879734, 'sigma_mu': 0.6368933740662495, 'sigma_sigma': 1.7631722840456423}. Best is trial 104 with value: 172.69869995117188.\n",
      "sample: 100%|██████████| 15000/15000 [00:06<00:00, 2455.81it/s, 31 steps of size 1.26e-01. acc. prob=0.94]\n",
      "[I 2024-01-08 06:03:29,991] Trial 325 finished with value: 173.42263793945312 and parameters: {'I_y_and_I_z_mu_0': 1.4709793998393885, 'I_y_and_I_z_mu_1': 0.6831627383255227, 'I_y_and_I_z_cov_0_0': 0.6409656855359098, 'I_y_and_I_z_cov_1_1': 1.3236490136344263, 'Q_mu': 729387776154470.5, 'Q_sigma': 8826775.223266877, 'sigma_mu': 1.1416952463271104, 'sigma_sigma': 1.7206207275561425}. Best is trial 104 with value: 172.69869995117188.\n",
      "sample: 100%|██████████| 15000/15000 [00:06<00:00, 2245.84it/s, 31 steps of size 9.92e-02. acc. prob=0.92]\n",
      "[I 2024-01-08 06:03:37,876] Trial 326 finished with value: 172.78668212890625 and parameters: {'I_y_and_I_z_mu_0': 1.6443735083850333, 'I_y_and_I_z_mu_1': 0.3563538259616791, 'I_y_and_I_z_cov_0_0': 0.4062202206069666, 'I_y_and_I_z_cov_1_1': 0.6332193475387426, 'Q_mu': 689003679862022.1, 'Q_sigma': 4635291.704869375, 'sigma_mu': 1.0751086797666567, 'sigma_sigma': 1.8585676052919595}. Best is trial 104 with value: 172.69869995117188.\n",
      "sample: 100%|██████████| 15000/15000 [00:07<00:00, 2061.94it/s, 15 steps of size 1.51e-01. acc. prob=0.92]\n",
      "[I 2024-01-08 06:03:46,361] Trial 327 finished with value: 173.453857421875 and parameters: {'I_y_and_I_z_mu_0': 1.2741993293886402, 'I_y_and_I_z_mu_1': 0.44299528346224015, 'I_y_and_I_z_cov_0_0': 0.5157129905562297, 'I_y_and_I_z_cov_1_1': 1.459614556160729, 'Q_mu': 475113581308442.9, 'Q_sigma': 6082838.857547522, 'sigma_mu': 1.2177650191427682, 'sigma_sigma': 1.9601088737064967}. Best is trial 104 with value: 172.69869995117188.\n",
      "sample: 100%|██████████| 15000/15000 [00:06<00:00, 2419.41it/s, 31 steps of size 1.03e-01. acc. prob=0.93]\n",
      "[I 2024-01-08 06:03:53,802] Trial 328 finished with value: 172.7664337158203 and parameters: {'I_y_and_I_z_mu_0': 1.975183459597397, 'I_y_and_I_z_mu_1': 0.07072860493916111, 'I_y_and_I_z_cov_0_0': 0.7125696756584964, 'I_y_and_I_z_cov_1_1': 1.3943816505687558, 'Q_mu': 636449846793274.1, 'Q_sigma': 4201093.489228165, 'sigma_mu': 1.164912807748719, 'sigma_sigma': 1.7901582096291344}. Best is trial 104 with value: 172.69869995117188.\n",
      "sample: 100%|██████████| 15000/15000 [00:05<00:00, 2581.41it/s, 15 steps of size 1.45e-01. acc. prob=0.92]\n",
      "[I 2024-01-08 06:04:00,709] Trial 329 finished with value: 173.45925903320312 and parameters: {'I_y_and_I_z_mu_0': 1.5341365350831544, 'I_y_and_I_z_mu_1': 0.6010266003723752, 'I_y_and_I_z_cov_0_0': 0.574889347707686, 'I_y_and_I_z_cov_1_1': 1.2279257356434319, 'Q_mu': 566286256990178.5, 'Q_sigma': 8236607.465234768, 'sigma_mu': 1.4116487964221318, 'sigma_sigma': 1.746480562092226}. Best is trial 104 with value: 172.69869995117188.\n",
      "sample: 100%|██████████| 15000/15000 [00:06<00:00, 2240.50it/s, 15 steps of size 8.03e-02. acc. prob=0.94]\n",
      "[I 2024-01-08 06:04:08,629] Trial 330 finished with value: 172.80857849121094 and parameters: {'I_y_and_I_z_mu_0': 1.603684056699273, 'I_y_and_I_z_mu_1': 0.5092133279027206, 'I_y_and_I_z_cov_0_0': 0.45693202522740817, 'I_y_and_I_z_cov_1_1': 1.3081804981295522, 'Q_mu': 815834010181358.2, 'Q_sigma': 4961279.588328734, 'sigma_mu': 1.7477318389454979, 'sigma_sigma': 1.5403067255258656}. Best is trial 104 with value: 172.69869995117188.\n",
      "sample: 100%|██████████| 15000/15000 [00:05<00:00, 2523.20it/s, 31 steps of size 1.23e-01. acc. prob=0.89]\n",
      "[I 2024-01-08 06:04:15,808] Trial 331 finished with value: 173.08168029785156 and parameters: {'I_y_and_I_z_mu_0': 1.4412223457292204, 'I_y_and_I_z_mu_1': 0.3214154087119938, 'I_y_and_I_z_cov_0_0': 0.5374837288667454, 'I_y_and_I_z_cov_1_1': 1.0290304152766183, 'Q_mu': 846974733732621.0, 'Q_sigma': 7503465.395537049, 'sigma_mu': 1.2763016229935615, 'sigma_sigma': 0.7558995274585463}. Best is trial 104 with value: 172.69869995117188.\n",
      "sample: 100%|██████████| 15000/15000 [00:06<00:00, 2248.26it/s, 15 steps of size 8.06e-02. acc. prob=0.94]\n",
      "[I 2024-01-08 06:04:23,640] Trial 332 finished with value: 172.89883422851562 and parameters: {'I_y_and_I_z_mu_0': 1.9036573724828527, 'I_y_and_I_z_mu_1': 0.20830227983845864, 'I_y_and_I_z_cov_0_0': 0.5925451456430575, 'I_y_and_I_z_cov_1_1': 1.3643945016677979, 'Q_mu': 871362675120353.8, 'Q_sigma': 4481095.062396006, 'sigma_mu': 1.035892612702838, 'sigma_sigma': 1.2557063076097574}. Best is trial 104 with value: 172.69869995117188.\n",
      "sample: 100%|██████████| 15000/15000 [00:06<00:00, 2226.60it/s, 15 steps of size 7.96e-02. acc. prob=0.94]\n",
      "[I 2024-01-08 06:04:31,620] Trial 333 finished with value: 172.8904571533203 and parameters: {'I_y_and_I_z_mu_0': 1.5498063779656124, 'I_y_and_I_z_mu_1': 0.2858066647404069, 'I_y_and_I_z_cov_0_0': 0.3599100074048728, 'I_y_and_I_z_cov_1_1': 1.126998179918843, 'Q_mu': 754518964174338.0, 'Q_sigma': 5362527.086166825, 'sigma_mu': 1.6493849109010024, 'sigma_sigma': 1.679042132144238}. Best is trial 104 with value: 172.69869995117188.\n",
      "sample: 100%|██████████| 15000/15000 [00:07<00:00, 2105.37it/s, 31 steps of size 6.47e-02. acc. prob=0.94]\n",
      "[I 2024-01-08 06:04:39,920] Trial 334 finished with value: 173.07046508789062 and parameters: {'I_y_and_I_z_mu_0': 1.7003186441937523, 'I_y_and_I_z_mu_1': 0.042788495076061285, 'I_y_and_I_z_cov_0_0': 0.4944548550814978, 'I_y_and_I_z_cov_1_1': 1.5006504936583607, 'Q_mu': 952934965792882.9, 'Q_sigma': 5541211.9269658, 'sigma_mu': 1.121468788925205, 'sigma_sigma': 1.6139517839973092}. Best is trial 104 with value: 172.69869995117188.\n",
      "sample: 100%|██████████| 15000/15000 [00:06<00:00, 2201.69it/s, 15 steps of size 7.06e-02. acc. prob=0.93]\n",
      "[I 2024-01-08 06:04:47,893] Trial 335 finished with value: 172.8073272705078 and parameters: {'I_y_and_I_z_mu_0': 1.811930853705525, 'I_y_and_I_z_mu_1': 0.13960331026314993, 'I_y_and_I_z_cov_0_0': 0.6309459708961946, 'I_y_and_I_z_cov_1_1': 1.1974817490433523, 'Q_mu': 922820965550784.9, 'Q_sigma': 5094310.951152833, 'sigma_mu': 1.4732099595824426, 'sigma_sigma': 1.9004846081140965}. Best is trial 104 with value: 172.69869995117188.\n",
      "sample: 100%|██████████| 15000/15000 [00:05<00:00, 2616.74it/s, 15 steps of size 1.34e-01. acc. prob=0.91]\n",
      "[I 2024-01-08 06:04:54,756] Trial 336 finished with value: 173.22552490234375 and parameters: {'I_y_and_I_z_mu_0': 1.153579027902675, 'I_y_and_I_z_mu_1': 0.37876668528020385, 'I_y_and_I_z_cov_0_0': 0.5453254221026891, 'I_y_and_I_z_cov_1_1': 1.4226064768184494, 'Q_mu': 775253070567248.2, 'Q_sigma': 4735340.16111258, 'sigma_mu': 1.3481388685597746, 'sigma_sigma': 1.567838909755721}. Best is trial 104 with value: 172.69869995117188.\n",
      "sample: 100%|██████████| 15000/15000 [00:05<00:00, 2577.77it/s, 31 steps of size 1.29e-01. acc. prob=0.93]\n",
      "[I 2024-01-08 06:05:01,814] Trial 337 finished with value: 173.3864288330078 and parameters: {'I_y_and_I_z_mu_0': 1.2997176278611113, 'I_y_and_I_z_mu_1': 0.2495379843246444, 'I_y_and_I_z_cov_0_0': 0.6046774548916871, 'I_y_and_I_z_cov_1_1': 1.2598233333733984, 'Q_mu': 706245174100928.4, 'Q_sigma': 7859533.2342108805, 'sigma_mu': 1.0911596216502708, 'sigma_sigma': 1.6513070864245334}. Best is trial 104 with value: 172.69869995117188.\n",
      "sample: 100%|██████████| 15000/15000 [00:05<00:00, 2625.30it/s, 15 steps of size 1.66e-01. acc. prob=0.93]\n",
      "[I 2024-01-08 06:05:08,780] Trial 338 finished with value: 173.42828369140625 and parameters: {'I_y_and_I_z_mu_0': 1.2165403945658262, 'I_y_and_I_z_mu_1': 1.5893672282928624, 'I_y_and_I_z_cov_0_0': 0.6849521083545664, 'I_y_and_I_z_cov_1_1': 1.2984110711862322, 'Q_mu': 896428266192097.9, 'Q_sigma': 5795007.547593666, 'sigma_mu': 1.1934271437780843, 'sigma_sigma': 1.7415809598593284}. Best is trial 104 with value: 172.69869995117188.\n",
      "sample: 100%|██████████| 15000/15000 [00:06<00:00, 2285.02it/s, 15 steps of size 8.15e-02. acc. prob=0.91]\n",
      "[I 2024-01-08 06:05:16,626] Trial 339 finished with value: 172.7294921875 and parameters: {'I_y_and_I_z_mu_0': 1.3782323561230918, 'I_y_and_I_z_mu_1': 0.42308160681481094, 'I_y_and_I_z_cov_0_0': 0.46218480311712284, 'I_y_and_I_z_cov_1_1': 1.3921023352251065, 'Q_mu': 853393234036403.6, 'Q_sigma': 4374580.534215502, 'sigma_mu': 1.1497119677169063, 'sigma_sigma': 1.8043935061416145}. Best is trial 104 with value: 172.69869995117188.\n",
      "sample: 100%|██████████| 15000/15000 [00:07<00:00, 2022.73it/s, 15 steps of size 7.22e-02. acc. prob=0.93]\n",
      "[I 2024-01-08 06:05:25,337] Trial 340 finished with value: 172.7485809326172 and parameters: {'I_y_and_I_z_mu_0': 1.6234759830617762, 'I_y_and_I_z_mu_1': 0.09210267970506167, 'I_y_and_I_z_cov_0_0': 0.5663850269472874, 'I_y_and_I_z_cov_1_1': 1.7626203312860245, 'Q_mu': 831710084655755.8, 'Q_sigma': 4908001.003008042, 'sigma_mu': 1.1092705752399485, 'sigma_sigma': 1.6993077178867861}. Best is trial 104 with value: 172.69869995117188.\n",
      "sample: 100%|██████████| 15000/15000 [00:06<00:00, 2337.72it/s, 31 steps of size 1.40e-01. acc. prob=0.90]\n",
      "[I 2024-01-08 06:05:33,144] Trial 341 finished with value: 173.1839141845703 and parameters: {'I_y_and_I_z_mu_0': 1.4926520933133247, 'I_y_and_I_z_mu_1': 0.18675604074464472, 'I_y_and_I_z_cov_0_0': 0.6454163082475256, 'I_y_and_I_z_cov_1_1': 1.3381683659677075, 'Q_mu': 600048342970161.2, 'Q_sigma': 4616467.4623080455, 'sigma_mu': 1.0622265753305873, 'sigma_sigma': 1.9729780788095523}. Best is trial 104 with value: 172.69869995117188.\n",
      "sample: 100%|██████████| 15000/15000 [00:06<00:00, 2330.42it/s, 15 steps of size 1.24e-01. acc. prob=0.92]\n",
      "[I 2024-01-08 06:05:40,885] Trial 342 finished with value: 172.76715087890625 and parameters: {'I_y_and_I_z_mu_0': 1.559821693688328, 'I_y_and_I_z_mu_1': 0.664488033117793, 'I_y_and_I_z_cov_0_0': 0.20667515147281446, 'I_y_and_I_z_cov_1_1': 1.8993036655282243, 'Q_mu': 430814722666121.75, 'Q_sigma': 5227947.306487857, 'sigma_mu': 1.9767060849364624, 'sigma_sigma': 1.427260449052427}. Best is trial 104 with value: 172.69869995117188.\n",
      "sample: 100%|██████████| 15000/15000 [00:06<00:00, 2299.89it/s, 31 steps of size 1.03e-01. acc. prob=0.92]\n",
      "[I 2024-01-08 06:05:48,712] Trial 343 finished with value: 172.79306030273438 and parameters: {'I_y_and_I_z_mu_0': 1.5153192644727806, 'I_y_and_I_z_mu_1': 0.32635410139487514, 'I_y_and_I_z_cov_0_0': 0.5046428091424029, 'I_y_and_I_z_cov_1_1': 1.4451920660188533, 'Q_mu': 668870060962346.2, 'Q_sigma': 4807143.690591989, 'sigma_mu': 1.229298278868409, 'sigma_sigma': 1.8449373460911949}. Best is trial 104 with value: 172.69869995117188.\n",
      "sample: 100%|██████████| 15000/15000 [00:06<00:00, 2483.79it/s, 11 steps of size 1.66e-01. acc. prob=0.93]\n",
      "[I 2024-01-08 06:05:56,054] Trial 344 finished with value: 173.4993896484375 and parameters: {'I_y_and_I_z_mu_0': 1.5791778757656778, 'I_y_and_I_z_mu_1': 0.13532265706831711, 'I_y_and_I_z_cov_0_0': 0.9753066911709203, 'I_y_and_I_z_cov_1_1': 1.3631400893904528, 'Q_mu': 534854547149720.4, 'Q_sigma': 4071403.8149504815, 'sigma_mu': 0.9921915414304281, 'sigma_sigma': 1.3956314099822573}. Best is trial 104 with value: 172.69869995117188.\n",
      "sample: 100%|██████████| 15000/15000 [00:06<00:00, 2279.78it/s, 31 steps of size 1.12e-01. acc. prob=0.93]\n",
      "[I 2024-01-08 06:06:03,982] Trial 345 finished with value: 172.83567810058594 and parameters: {'I_y_and_I_z_mu_0': 1.6663327370426229, 'I_y_and_I_z_mu_1': 1.1563669688395226, 'I_y_and_I_z_cov_0_0': 0.5465863728218504, 'I_y_and_I_z_cov_1_1': 1.2643705516950805, 'Q_mu': 795351628646669.8, 'Q_sigma': 5468872.687732563, 'sigma_mu': 1.173466551127313, 'sigma_sigma': 1.7539669913140945}. Best is trial 104 with value: 172.69869995117188.\n",
      "sample: 100%|██████████| 15000/15000 [00:06<00:00, 2359.85it/s, 31 steps of size 1.16e-01. acc. prob=0.91]\n",
      "[I 2024-01-08 06:06:11,638] Trial 346 finished with value: 172.83665466308594 and parameters: {'I_y_and_I_z_mu_0': 1.6214249025113374, 'I_y_and_I_z_mu_1': 0.9997495580903744, 'I_y_and_I_z_cov_0_0': 0.5915724462182917, 'I_y_and_I_z_cov_1_1': 1.0643996772114956, 'Q_mu': 884055148619958.2, 'Q_sigma': 5035568.562373028, 'sigma_mu': 1.5146510588053508, 'sigma_sigma': 1.9340601042440093}. Best is trial 104 with value: 172.69869995117188.\n",
      "sample: 100%|██████████| 15000/15000 [00:06<00:00, 2240.24it/s, 31 steps of size 8.43e-02. acc. prob=0.94]\n",
      "[I 2024-01-08 06:06:19,650] Trial 347 finished with value: 173.1337890625 and parameters: {'I_y_and_I_z_mu_0': 1.0898732885869293, 'I_y_and_I_z_mu_1': 0.046050991326162125, 'I_y_and_I_z_cov_0_0': 0.4215398662811918, 'I_y_and_I_z_cov_1_1': 1.5316084243423322, 'Q_mu': 941355718653152.1, 'Q_sigma': 8547334.6672962, 'sigma_mu': 1.0300487539998155, 'sigma_sigma': 1.6678293330459408}. Best is trial 104 with value: 172.69869995117188.\n",
      "sample: 100%|██████████| 15000/15000 [00:05<00:00, 2504.39it/s, 15 steps of size 1.71e-01. acc. prob=0.93]\n",
      "[I 2024-01-08 06:06:26,968] Trial 348 finished with value: 173.53268432617188 and parameters: {'I_y_and_I_z_mu_0': 1.1825342196124562, 'I_y_and_I_z_mu_1': 0.7563366084760453, 'I_y_and_I_z_cov_0_0': 0.7390818499905061, 'I_y_and_I_z_cov_1_1': 1.2092875321808125, 'Q_mu': 717137503379315.4, 'Q_sigma': 4533583.403348803, 'sigma_mu': 1.1238992305335693, 'sigma_sigma': 1.994543790905589}. Best is trial 104 with value: 172.69869995117188.\n",
      "sample: 100%|██████████| 15000/15000 [00:07<00:00, 1982.60it/s, 15 steps of size 7.05e-02. acc. prob=0.92]\n",
      "[I 2024-01-08 06:06:35,904] Trial 349 finished with value: 173.05606079101562 and parameters: {'I_y_and_I_z_mu_0': 1.5859033174792743, 'I_y_and_I_z_mu_1': 0.01106685797023571, 'I_y_and_I_z_cov_0_0': 0.4927980864166091, 'I_y_and_I_z_cov_1_1': 1.318287680504122, 'Q_mu': 912399410407658.1, 'Q_sigma': 4328871.247298032, 'sigma_mu': 1.079064616852824, 'sigma_sigma': 1.7220856497609311}. Best is trial 104 with value: 172.69869995117188.\n",
      "sample: 100%|██████████| 15000/15000 [00:06<00:00, 2214.12it/s, 15 steps of size 8.37e-02. acc. prob=0.95]\n",
      "[I 2024-01-08 06:06:43,994] Trial 350 finished with value: 172.8355712890625 and parameters: {'I_y_and_I_z_mu_0': 1.5251852302618185, 'I_y_and_I_z_mu_1': 0.27574034456765634, 'I_y_and_I_z_cov_0_0': 0.6208174634848017, 'I_y_and_I_z_cov_1_1': 1.1675469848731321, 'Q_mu': 866515679993977.8, 'Q_sigma': 5250974.2069978705, 'sigma_mu': 1.263463542993579, 'sigma_sigma': 1.6262573936168077}. Best is trial 104 with value: 172.69869995117188.\n",
      "sample: 100%|██████████| 15000/15000 [00:06<00:00, 2369.55it/s, 15 steps of size 1.22e-01. acc. prob=0.94]\n",
      "[I 2024-01-08 06:06:51,719] Trial 351 finished with value: 174.09848022460938 and parameters: {'I_y_and_I_z_mu_0': 0.9858020147852944, 'I_y_and_I_z_mu_1': 0.21526724366471048, 'I_y_and_I_z_cov_0_0': 0.5339927569146898, 'I_y_and_I_z_cov_1_1': 1.3889498210761935, 'Q_mu': 129121248462886.75, 'Q_sigma': 4767720.858787918, 'sigma_mu': 1.5835085555214277, 'sigma_sigma': 1.78135867202234}. Best is trial 104 with value: 172.69869995117188.\n",
      "sample: 100%|██████████| 15000/15000 [00:06<00:00, 2465.92it/s, 15 steps of size 1.69e-01. acc. prob=0.92]\n",
      "[I 2024-01-08 06:06:59,093] Trial 352 finished with value: 173.45907592773438 and parameters: {'I_y_and_I_z_mu_0': 1.727566592527001, 'I_y_and_I_z_mu_1': 0.0958680702420974, 'I_y_and_I_z_cov_0_0': 1.458491490633705, 'I_y_and_I_z_cov_1_1': 1.0036587506654273, 'Q_mu': 806204449736163.1, 'Q_sigma': 1817211.0957328812, 'sigma_mu': 1.1993161474387932, 'sigma_sigma': 1.8263600113421932}. Best is trial 104 with value: 172.69869995117188.\n",
      "sample: 100%|██████████| 15000/15000 [00:05<00:00, 2571.22it/s, 11 steps of size 1.49e-01. acc. prob=0.92]\n",
      "[I 2024-01-08 06:07:06,276] Trial 353 finished with value: 173.47976684570312 and parameters: {'I_y_and_I_z_mu_0': 1.4669337218148977, 'I_y_and_I_z_mu_1': 0.1659502373236141, 'I_y_and_I_z_cov_0_0': 1.0093606443381065, 'I_y_and_I_z_cov_1_1': 1.290081394515145, 'Q_mu': 743166949569423.0, 'Q_sigma': 5664499.613572371, 'sigma_mu': 1.3116836075947615, 'sigma_sigma': 1.4653534692035524}. Best is trial 104 with value: 172.69869995117188.\n",
      "sample: 100%|██████████| 15000/15000 [00:06<00:00, 2488.26it/s, 31 steps of size 1.35e-01. acc. prob=0.94]\n",
      "[I 2024-01-08 06:07:13,600] Trial 354 finished with value: 173.34249877929688 and parameters: {'I_y_and_I_z_mu_0': 1.8552711537934257, 'I_y_and_I_z_mu_1': 0.8095890649867048, 'I_y_and_I_z_cov_0_0': 0.8271740572926057, 'I_y_and_I_z_cov_1_1': 1.1180629083176132, 'Q_mu': 655204404351115.5, 'Q_sigma': 6542590.107417539, 'sigma_mu': 1.1458748857336343, 'sigma_sigma': 1.8736640301946261}. Best is trial 104 with value: 172.69869995117188.\n",
      "sample: 100%|██████████| 15000/15000 [00:06<00:00, 2493.20it/s, 15 steps of size 1.35e-01. acc. prob=0.94]\n",
      "[I 2024-01-08 06:07:20,904] Trial 355 finished with value: 173.33206176757812 and parameters: {'I_y_and_I_z_mu_0': 1.648901208101697, 'I_y_and_I_z_mu_1': 1.1143345778475249, 'I_y_and_I_z_cov_0_0': 0.6854090691887105, 'I_y_and_I_z_cov_1_1': 1.4727281862020882, 'Q_mu': 692135705242487.1, 'Q_sigma': 7296639.617415923, 'sigma_mu': 1.0883217635838753, 'sigma_sigma': 1.5985840271342213}. Best is trial 104 with value: 172.69869995117188.\n",
      "sample: 100%|██████████| 15000/15000 [00:06<00:00, 2297.01it/s, 15 steps of size 1.05e-01. acc. prob=0.89]\n",
      "[I 2024-01-08 06:07:28,709] Trial 356 finished with value: 173.18136596679688 and parameters: {'I_y_and_I_z_mu_0': 1.5506096693951008, 'I_y_and_I_z_mu_1': 0.3616387906112598, 'I_y_and_I_z_cov_0_0': 0.31064788760030665, 'I_y_and_I_z_cov_1_1': 1.3415713522619166, 'Q_mu': 833819208998852.2, 'Q_sigma': 5009846.19331895, 'sigma_mu': 1.0325467362319591, 'sigma_sigma': 1.7075181543553641}. Best is trial 104 with value: 172.69869995117188.\n",
      "sample: 100%|██████████| 15000/15000 [00:07<00:00, 2091.71it/s, 31 steps of size 6.50e-02. acc. prob=0.95]\n",
      "[I 2024-01-08 06:07:37,199] Trial 357 finished with value: 172.80322265625 and parameters: {'I_y_and_I_z_mu_0': 1.5996167729478354, 'I_y_and_I_z_mu_1': 0.052553309792313485, 'I_y_and_I_z_cov_0_0': 0.5799865477146753, 'I_y_and_I_z_cov_1_1': 1.4161784545504816, 'Q_mu': 894632346433884.0, 'Q_sigma': 7048558.945278902, 'sigma_mu': 0.21363539108037177, 'sigma_sigma': 1.1863167241819452}. Best is trial 104 with value: 172.69869995117188.\n",
      "sample: 100%|██████████| 15000/15000 [00:08<00:00, 1872.16it/s, 15 steps of size 8.95e-02. acc. prob=0.89]\n",
      "[I 2024-01-08 06:07:46,483] Trial 358 finished with value: 172.76622009277344 and parameters: {'I_y_and_I_z_mu_0': 1.4295719244939167, 'I_y_and_I_z_mu_1': 0.2328349292898774, 'I_y_and_I_z_cov_0_0': 0.45699667458154025, 'I_y_and_I_z_cov_1_1': 1.2401579469773465, 'Q_mu': 768989106270402.1, 'Q_sigma': 4148843.627156292, 'sigma_mu': 1.1203505315608926, 'sigma_sigma': 1.4969961066616362}. Best is trial 104 with value: 172.69869995117188.\n",
      "sample: 100%|██████████| 15000/15000 [00:05<00:00, 2516.27it/s, 15 steps of size 1.12e-01. acc. prob=0.95]\n",
      "[I 2024-01-08 06:07:53,761] Trial 359 finished with value: 173.1212921142578 and parameters: {'I_y_and_I_z_mu_0': 1.4952324132719068, 'I_y_and_I_z_mu_1': 0.4028687152030496, 'I_y_and_I_z_cov_0_0': 0.6554917289752418, 'I_y_and_I_z_cov_1_1': 0.34656224671685654, 'Q_mu': 859020553235183.8, 'Q_sigma': 4581668.713788088, 'sigma_mu': 0.9761021474104987, 'sigma_sigma': 0.5157370073198304}. Best is trial 104 with value: 172.69869995117188.\n",
      "sample: 100%|██████████| 15000/15000 [00:06<00:00, 2165.42it/s, 31 steps of size 7.12e-02. acc. prob=0.94]\n",
      "[I 2024-01-08 06:08:01,974] Trial 360 finished with value: 173.102783203125 and parameters: {'I_y_and_I_z_mu_0': 1.6793118893851229, 'I_y_and_I_z_mu_1': 0.29898020008401105, 'I_y_and_I_z_cov_0_0': 0.5085840009255088, 'I_y_and_I_z_cov_1_1': 1.3703178909700031, 'Q_mu': 991117879085237.4, 'Q_sigma': 3927797.5896418784, 'sigma_mu': 1.3909298429525336, 'sigma_sigma': 1.6730868546001676}. Best is trial 104 with value: 172.69869995117188.\n",
      "sample: 100%|██████████| 15000/15000 [00:05<00:00, 2590.89it/s, 31 steps of size 1.33e-01. acc. prob=0.93]\n",
      "[I 2024-01-08 06:08:09,041] Trial 361 finished with value: 173.28977966308594 and parameters: {'I_y_and_I_z_mu_0': 1.3530862436993976, 'I_y_and_I_z_mu_1': 0.49032355550541545, 'I_y_and_I_z_cov_0_0': 0.5610039063893102, 'I_y_and_I_z_cov_1_1': 1.2959074540986684, 'Q_mu': 564963616770601.9, 'Q_sigma': 4909615.732820208, 'sigma_mu': 1.1748964478475237, 'sigma_sigma': 1.064776732198205}. Best is trial 104 with value: 172.69869995117188.\n",
      "sample: 100%|██████████| 15000/15000 [00:07<00:00, 2140.98it/s, 31 steps of size 6.52e-02. acc. prob=0.95]\n",
      "[I 2024-01-08 06:08:17,369] Trial 362 finished with value: 172.73028564453125 and parameters: {'I_y_and_I_z_mu_0': 1.5375978253631692, 'I_y_and_I_z_mu_1': 0.11592775290386921, 'I_y_and_I_z_cov_0_0': 0.6140709255577937, 'I_y_and_I_z_cov_1_1': 1.4337847452061612, 'Q_mu': 928953568955574.1, 'Q_sigma': 5380210.756424039, 'sigma_mu': 1.2345186620246453, 'sigma_sigma': 1.7714649695617735}. Best is trial 104 with value: 172.69869995117188.\n",
      "sample: 100%|██████████| 15000/15000 [00:05<00:00, 2547.74it/s, 31 steps of size 1.19e-01. acc. prob=0.95]\n",
      "[I 2024-01-08 06:08:24,553] Trial 363 finished with value: 173.20327758789062 and parameters: {'I_y_and_I_z_mu_0': 1.5838327476114467, 'I_y_and_I_z_mu_1': 0.45731539323952997, 'I_y_and_I_z_cov_0_0': 0.7765517203272583, 'I_y_and_I_z_cov_1_1': 1.1621003399823249, 'Q_mu': 735404171602103.5, 'Q_sigma': 5115526.670560715, 'sigma_mu': 1.0608639240672748, 'sigma_sigma': 1.9982940268237903}. Best is trial 104 with value: 172.69869995117188.\n",
      "sample: 100%|██████████| 15000/15000 [00:05<00:00, 2591.85it/s, 15 steps of size 1.28e-01. acc. prob=0.94]\n",
      "[I 2024-01-08 06:08:31,612] Trial 364 finished with value: 173.46591186523438 and parameters: {'I_y_and_I_z_mu_0': 0.8652733450816216, 'I_y_and_I_z_mu_1': 0.18891967960653494, 'I_y_and_I_z_cov_0_0': 0.5287232821709178, 'I_y_and_I_z_cov_1_1': 1.3391254594773674, 'Q_mu': 888917298529361.8, 'Q_sigma': 4334420.367811099, 'sigma_mu': 1.1429719735399513, 'sigma_sigma': 1.9232507047816503}. Best is trial 104 with value: 172.69869995117188.\n",
      "sample: 100%|██████████| 15000/15000 [00:06<00:00, 2365.67it/s, 31 steps of size 9.72e-02. acc. prob=0.93]\n",
      "[I 2024-01-08 06:08:39,256] Trial 365 finished with value: 172.82125854492188 and parameters: {'I_y_and_I_z_mu_0': 1.6430065274787033, 'I_y_and_I_z_mu_1': 0.33594576745351107, 'I_y_and_I_z_cov_0_0': 0.5784575728915802, 'I_y_and_I_z_cov_1_1': 1.2780353252840775, 'Q_mu': 681873930348723.0, 'Q_sigma': 4684040.181730794, 'sigma_mu': 1.100305336409467, 'sigma_sigma': 1.554971021010072}. Best is trial 104 with value: 172.69869995117188.\n",
      "sample: 100%|██████████| 15000/15000 [00:05<00:00, 2548.05it/s, 15 steps of size 1.34e-01. acc. prob=0.93]\n",
      "[I 2024-01-08 06:08:46,433] Trial 366 finished with value: 173.31417846679688 and parameters: {'I_y_and_I_z_mu_0': 1.7514923458305125, 'I_y_and_I_z_mu_1': 0.7217154731866395, 'I_y_and_I_z_cov_0_0': 0.8620617834318673, 'I_y_and_I_z_cov_1_1': 1.8413010035753437, 'Q_mu': 839379161213296.4, 'Q_sigma': 8309637.824302164, 'sigma_mu': 1.2022601476473471, 'sigma_sigma': 1.7273832010120769}. Best is trial 104 with value: 172.69869995117188.\n",
      "sample: 100%|██████████| 15000/15000 [00:05<00:00, 2539.97it/s, 15 steps of size 1.63e-01. acc. prob=0.95]\n",
      "[I 2024-01-08 06:08:53,609] Trial 367 finished with value: 173.92489624023438 and parameters: {'I_y_and_I_z_mu_0': 0.487506819522981, 'I_y_and_I_z_mu_1': 0.0699527429264492, 'I_y_and_I_z_cov_0_0': 0.94559725058181, 'I_y_and_I_z_cov_1_1': 1.5535872741491377, 'Q_mu': 963586867721860.6, 'Q_sigma': 5905882.796116089, 'sigma_mu': 1.1622298656615666, 'sigma_sigma': 1.6370154974624338}. Best is trial 104 with value: 172.69869995117188.\n",
      "sample: 100%|██████████| 15000/15000 [00:05<00:00, 2613.59it/s, 31 steps of size 1.63e-01. acc. prob=0.91]\n",
      "[I 2024-01-08 06:09:00,636] Trial 368 finished with value: 173.26544189453125 and parameters: {'I_y_and_I_z_mu_0': 1.5126785494363195, 'I_y_and_I_z_mu_1': 0.2637603286894745, 'I_y_and_I_z_cov_0_0': 0.48482172142456814, 'I_y_and_I_z_cov_1_1': 1.081576004956879, 'Q_mu': 401726999602075.5, 'Q_sigma': 4464745.16777979, 'sigma_mu': 1.019548665515907, 'sigma_sigma': 1.8234170353105883}. Best is trial 104 with value: 172.69869995117188.\n",
      "sample: 100%|██████████| 15000/15000 [00:06<00:00, 2195.05it/s, 31 steps of size 6.74e-02. acc. prob=0.94]\n",
      "[I 2024-01-08 06:09:08,757] Trial 369 finished with value: 172.7378387451172 and parameters: {'I_y_and_I_z_mu_0': 1.6179430068729554, 'I_y_and_I_z_mu_1': 0.13926957010763813, 'I_y_and_I_z_cov_0_0': 0.6154491371748216, 'I_y_and_I_z_cov_1_1': 1.3906353545079644, 'Q_mu': 909882992027552.0, 'Q_sigma': 5186523.689123901, 'sigma_mu': 1.069680131306966, 'sigma_sigma': 1.6934128393237886}. Best is trial 104 with value: 172.69869995117188.\n",
      "sample: 100%|██████████| 15000/15000 [00:06<00:00, 2385.74it/s, 31 steps of size 9.85e-02. acc. prob=0.93]\n",
      "[I 2024-01-08 06:09:16,353] Trial 370 finished with value: 172.79666137695312 and parameters: {'I_y_and_I_z_mu_0': 1.5589076844413838, 'I_y_and_I_z_mu_1': 0.8705158798089554, 'I_y_and_I_z_cov_0_0': 0.3933309334038345, 'I_y_and_I_z_cov_1_1': 1.213830318655202, 'Q_mu': 818951221456676.0, 'Q_sigma': 4828111.000419089, 'sigma_mu': 1.1120568205962589, 'sigma_sigma': 1.7762455584540864}. Best is trial 104 with value: 172.69869995117188.\n",
      "sample: 100%|██████████| 15000/15000 [00:06<00:00, 2270.93it/s, 15 steps of size 8.19e-02. acc. prob=0.90]\n",
      "[I 2024-01-08 06:09:24,262] Trial 371 finished with value: 172.72296142578125 and parameters: {'I_y_and_I_z_mu_0': 1.4696854751638546, 'I_y_and_I_z_mu_1': 0.03621062031228612, 'I_y_and_I_z_cov_0_0': 0.5510507215593872, 'I_y_and_I_z_cov_1_1': 1.319932478588433, 'Q_mu': 876048109650363.8, 'Q_sigma': 5418593.384777351, 'sigma_mu': 1.244355392532106, 'sigma_sigma': 1.9557077881548377}. Best is trial 104 with value: 172.69869995117188.\n",
      "sample: 100%|██████████| 15000/15000 [00:05<00:00, 2669.63it/s, 15 steps of size 2.16e-01. acc. prob=0.91]\n",
      "[I 2024-01-08 06:09:31,183] Trial 372 finished with value: 174.06015014648438 and parameters: {'I_y_and_I_z_mu_0': 0.20924225167088428, 'I_y_and_I_z_mu_1': 0.2951161373940709, 'I_y_and_I_z_cov_0_0': 0.6588232655466798, 'I_y_and_I_z_cov_1_1': 1.4526168711161007, 'Q_mu': 715972191255700.1, 'Q_sigma': 4948528.4916852685, 'sigma_mu': 1.1417728438325707, 'sigma_sigma': 1.3018847169531205}. Best is trial 104 with value: 172.69869995117188.\n",
      "sample: 100%|██████████| 15000/15000 [00:06<00:00, 2481.24it/s, 31 steps of size 1.23e-01. acc. prob=0.94]\n",
      "[I 2024-01-08 06:09:38,529] Trial 373 finished with value: 173.28338623046875 and parameters: {'I_y_and_I_z_mu_0': 1.5810793465846997, 'I_y_and_I_z_mu_1': 0.4016743583303563, 'I_y_and_I_z_cov_0_0': 0.9267508504633695, 'I_y_and_I_z_cov_1_1': 1.259290278352399, 'Q_mu': 850492674519825.4, 'Q_sigma': 5634743.810957993, 'sigma_mu': 1.4634376273792709, 'sigma_sigma': 1.8967184890005293}. Best is trial 104 with value: 172.69869995117188.\n",
      "sample: 100%|██████████| 15000/15000 [00:06<00:00, 2211.03it/s, 11 steps of size 8.25e-02. acc. prob=0.92]\n",
      "[I 2024-01-08 06:09:46,615] Trial 374 finished with value: 172.81570434570312 and parameters: {'I_y_and_I_z_mu_0': 1.5292972521290007, 'I_y_and_I_z_mu_1': 0.2254434774953966, 'I_y_and_I_z_cov_0_0': 0.4407144380118113, 'I_y_and_I_z_cov_1_1': 1.0427914240855403, 'Q_mu': 785638522297718.4, 'Q_sigma': 4642778.077034943, 'sigma_mu': 1.2726716887650869, 'sigma_sigma': 1.7301090742440812}. Best is trial 104 with value: 172.69869995117188.\n",
      "sample: 100%|██████████| 15000/15000 [00:06<00:00, 2480.58it/s, 23 steps of size 1.16e-01. acc. prob=0.93]\n",
      "[I 2024-01-08 06:09:53,959] Trial 375 finished with value: 172.97305297851562 and parameters: {'I_y_and_I_z_mu_0': 1.620627830976803, 'I_y_and_I_z_mu_1': 0.6254612415272476, 'I_y_and_I_z_cov_0_0': 0.5205268277215644, 'I_y_and_I_z_cov_1_1': 1.375085468607503, 'Q_mu': 617389330728364.9, 'Q_sigma': 5078006.538775985, 'sigma_mu': 0.9471363469344752, 'sigma_sigma': 1.6508106064989314}. Best is trial 104 with value: 172.69869995117188.\n",
      "sample: 100%|██████████| 15000/15000 [00:06<00:00, 2499.52it/s, 15 steps of size 1.30e-01. acc. prob=0.91]\n",
      "[I 2024-01-08 06:10:01,260] Trial 376 finished with value: 173.21243286132812 and parameters: {'I_y_and_I_z_mu_0': 1.689600876506023, 'I_y_and_I_z_mu_1': 0.090525724482889, 'I_y_and_I_z_cov_0_0': 0.699781599259323, 'I_y_and_I_z_cov_1_1': 1.1246747773320216, 'Q_mu': 906803812155110.0, 'Q_sigma': 9769349.302855667, 'sigma_mu': 1.1971183630035738, 'sigma_sigma': 1.8048951020783064}. Best is trial 104 with value: 172.69869995117188.\n",
      "sample: 100%|██████████| 15000/15000 [00:05<00:00, 2620.45it/s, 15 steps of size 2.18e-01. acc. prob=0.91]\n",
      "[I 2024-01-08 06:10:08,323] Trial 377 finished with value: 173.68719482421875 and parameters: {'I_y_and_I_z_mu_0': 1.4287947501000002, 'I_y_and_I_z_mu_1': 0.35473764365634214, 'I_y_and_I_z_cov_0_0': 1.6497216527998724, 'I_y_and_I_z_cov_1_1': 1.4939460913039786, 'Q_mu': 871264037561127.0, 'Q_sigma': 4154578.695370012, 'sigma_mu': 0.9048893869714038, 'sigma_sigma': 1.5982441246274248}. Best is trial 104 with value: 172.69869995117188.\n",
      "sample: 100%|██████████| 15000/15000 [00:06<00:00, 2177.90it/s, 15 steps of size 7.66e-02. acc. prob=0.94]\n",
      "[I 2024-01-08 06:10:16,540] Trial 378 finished with value: 173.0225372314453 and parameters: {'I_y_and_I_z_mu_0': 1.9962444016528642, 'I_y_and_I_z_mu_1': 0.1604169413533954, 'I_y_and_I_z_cov_0_0': 0.5967133918935399, 'I_y_and_I_z_cov_1_1': 1.4101645479906761, 'Q_mu': 944261028451426.1, 'Q_sigma': 4501307.203282154, 'sigma_mu': 1.0624321444234204, 'sigma_sigma': 1.7524255428674669}. Best is trial 104 with value: 172.69869995117188.\n",
      "sample: 100%|██████████| 15000/15000 [00:06<00:00, 2492.99it/s, 15 steps of size 1.35e-01. acc. prob=0.92]\n",
      "[I 2024-01-08 06:10:23,864] Trial 379 finished with value: 174.6270294189453 and parameters: {'I_y_and_I_z_mu_0': 1.49399358998319, 'I_y_and_I_z_mu_1': 0.016656092541187516, 'I_y_and_I_z_cov_0_0': 0.47289381971442324, 'I_y_and_I_z_cov_1_1': 1.3321774899128724, 'Q_mu': 1696250091770.125, 'Q_sigma': 6099452.398468836, 'sigma_mu': 1.0013889715197823, 'sigma_sigma': 1.860458116674682}. Best is trial 104 with value: 172.69869995117188.\n",
      "sample: 100%|██████████| 15000/15000 [00:05<00:00, 2615.81it/s, 9 steps of size 1.78e-01. acc. prob=0.92] \n",
      "[I 2024-01-08 06:10:30,916] Trial 380 finished with value: 173.74192810058594 and parameters: {'I_y_and_I_z_mu_0': 1.568504381081132, 'I_y_and_I_z_mu_1': 0.25218728665461904, 'I_y_and_I_z_cov_0_0': 1.0507037109721764, 'I_y_and_I_z_cov_1_1': 0.9208378213695818, 'Q_mu': 357712215325980.7, 'Q_sigma': 4764410.387173905, 'sigma_mu': 1.101585465642105, 'sigma_sigma': 1.6922883865968297}. Best is trial 104 with value: 172.69869995117188.\n",
      "sample: 100%|██████████| 15000/15000 [00:06<00:00, 2410.99it/s, 15 steps of size 1.24e-01. acc. prob=0.92]\n",
      "[I 2024-01-08 06:10:38,461] Trial 381 finished with value: 172.9076385498047 and parameters: {'I_y_and_I_z_mu_0': 1.5942682993857242, 'I_y_and_I_z_mu_1': 1.0287640748098403, 'I_y_and_I_z_cov_0_0': 0.25244706011858975, 'I_y_and_I_z_cov_1_1': 1.2028887421589158, 'Q_mu': 701216354683850.5, 'Q_sigma': 5264886.55353545, 'sigma_mu': 1.171670734683988, 'sigma_sigma': 1.3608608261459516}. Best is trial 104 with value: 172.69869995117188.\n",
      "sample: 100%|██████████| 15000/15000 [00:05<00:00, 2550.28it/s, 31 steps of size 1.38e-01. acc. prob=0.92]\n",
      "[I 2024-01-08 06:10:45,662] Trial 382 finished with value: 173.12789916992188 and parameters: {'I_y_and_I_z_mu_0': 1.648429913840369, 'I_y_and_I_z_mu_1': 0.3173512473611935, 'I_y_and_I_z_cov_0_0': 0.5659473667193404, 'I_y_and_I_z_cov_1_1': 1.2963342525296597, 'Q_mu': 478523612300252.9, 'Q_sigma': 4299448.380345947, 'sigma_mu': 1.331034449718278, 'sigma_sigma': 1.6541965835892676}. Best is trial 104 with value: 172.69869995117188.\n",
      "sample: 100%|██████████| 15000/15000 [00:06<00:00, 2324.10it/s, 31 steps of size 9.24e-02. acc. prob=0.94]\n",
      "[I 2024-01-08 06:10:53,445] Trial 383 finished with value: 172.96490478515625 and parameters: {'I_y_and_I_z_mu_0': 1.5166787379268898, 'I_y_and_I_z_mu_1': 0.10935842503377316, 'I_y_and_I_z_cov_0_0': 0.6441256418498185, 'I_y_and_I_z_cov_1_1': 1.3605990575000555, 'Q_mu': 760794473472523.1, 'Q_sigma': 4898816.354936448, 'sigma_mu': 1.125983121844999, 'sigma_sigma': 1.7122784391805588}. Best is trial 104 with value: 172.69869995117188.\n",
      "sample: 100%|██████████| 15000/15000 [00:06<00:00, 2150.34it/s, 15 steps of size 8.16e-02. acc. prob=0.95]\n",
      "[I 2024-01-08 06:11:01,731] Trial 384 finished with value: 172.92172241210938 and parameters: {'I_y_and_I_z_mu_0': 1.394811251556226, 'I_y_and_I_z_mu_1': 0.19676964416079712, 'I_y_and_I_z_cov_0_0': 0.5225657011559871, 'I_y_and_I_z_cov_1_1': 1.7151267831911245, 'Q_mu': 634498728356074.9, 'Q_sigma': 3808246.2221564758, 'sigma_mu': 1.430307730053604, 'sigma_sigma': 1.2446973664670895}. Best is trial 104 with value: 172.69869995117188.\n",
      "sample: 100%|██████████| 15000/15000 [00:06<00:00, 2371.96it/s, 31 steps of size 1.10e-01. acc. prob=0.92]\n",
      "[I 2024-01-08 06:11:09,389] Trial 385 finished with value: 173.44448852539062 and parameters: {'I_y_and_I_z_mu_0': 1.555837347340137, 'I_y_and_I_z_mu_1': 0.058594760876025755, 'I_y_and_I_z_cov_0_0': 0.34020797142360126, 'I_y_and_I_z_cov_1_1': 1.2390450312486885, 'Q_mu': 929512315106678.9, 'Q_sigma': 247650.37397530582, 'sigma_mu': 1.044623902602798, 'sigma_sigma': 1.5778971004213789}. Best is trial 104 with value: 172.69869995117188.\n",
      "sample: 100%|██████████| 15000/15000 [00:06<00:00, 2327.14it/s, 15 steps of size 9.84e-02. acc. prob=0.94]\n",
      "[I 2024-01-08 06:11:17,193] Trial 386 finished with value: 172.86465454101562 and parameters: {'I_y_and_I_z_mu_0': 1.603529508534073, 'I_y_and_I_z_mu_1': 0.5590392591672421, 'I_y_and_I_z_cov_0_0': 0.605718963688867, 'I_y_and_I_z_cov_1_1': 1.4254869472652787, 'Q_mu': 815270668214666.9, 'Q_sigma': 5765640.637140785, 'sigma_mu': 1.5351396268970035, 'sigma_sigma': 1.4805586767071435}. Best is trial 104 with value: 172.69869995117188.\n",
      "sample: 100%|██████████| 15000/15000 [00:06<00:00, 2487.81it/s, 31 steps of size 1.12e-01. acc. prob=0.94]\n",
      "[I 2024-01-08 06:11:24,619] Trial 387 finished with value: 173.2405548095703 and parameters: {'I_y_and_I_z_mu_0': 1.2676144356788952, 'I_y_and_I_z_mu_1': 0.3688159984025069, 'I_y_and_I_z_cov_0_0': 0.7315755593933991, 'I_y_and_I_z_cov_1_1': 0.9789814203770756, 'Q_mu': 974608682106990.8, 'Q_sigma': 4665512.865675309, 'sigma_mu': 1.222549765753758, 'sigma_sigma': 1.8066376357945564}. Best is trial 104 with value: 172.69869995117188.\n",
      "sample: 100%|██████████| 15000/15000 [00:06<00:00, 2494.77it/s, 15 steps of size 1.38e-01. acc. prob=0.92]\n",
      "[I 2024-01-08 06:11:31,962] Trial 388 finished with value: 173.24990844726562 and parameters: {'I_y_and_I_z_mu_0': 1.4686304992009562, 'I_y_and_I_z_mu_1': 0.28005521174836284, 'I_y_and_I_z_cov_0_0': 0.5510156822984651, 'I_y_and_I_z_cov_1_1': 1.1634243097025911, 'Q_mu': 518147660661766.75, 'Q_sigma': 5409774.166605535, 'sigma_mu': 1.0813105835533658, 'sigma_sigma': 1.5223572674049266}. Best is trial 104 with value: 172.69869995117188.\n",
      "sample: 100%|██████████| 15000/15000 [00:07<00:00, 1899.17it/s, 15 steps of size 1.28e-01. acc. prob=0.90]\n",
      "[I 2024-01-08 06:11:41,355] Trial 389 finished with value: 173.29776000976562 and parameters: {'I_y_and_I_z_mu_0': 1.7190858587314948, 'I_y_and_I_z_mu_1': 0.5203401324090936, 'I_y_and_I_z_cov_0_0': 0.26050248495240724, 'I_y_and_I_z_cov_1_1': 1.315072925156341, 'Q_mu': 886539419469791.0, 'Q_sigma': 5158982.471840703, 'sigma_mu': 1.2975991958838204, 'sigma_sigma': 1.9204158277766128}. Best is trial 104 with value: 172.69869995117188.\n",
      "sample: 100%|██████████| 15000/15000 [00:07<00:00, 2090.75it/s, 47 steps of size 5.66e-02. acc. prob=0.95]\n",
      "[I 2024-01-08 06:11:49,888] Trial 390 finished with value: 172.73475646972656 and parameters: {'I_y_and_I_z_mu_0': 1.3347741424502682, 'I_y_and_I_z_mu_1': 0.13589763287831794, 'I_y_and_I_z_cov_0_0': 0.4890941040870165, 'I_y_and_I_z_cov_1_1': 1.5878178255327144, 'Q_mu': 859629405782710.2, 'Q_sigma': 4469597.842620286, 'sigma_mu': 0.7068819400526405, 'sigma_sigma': 1.965683699509863}. Best is trial 104 with value: 172.69869995117188.\n",
      "sample: 100%|██████████| 15000/15000 [00:06<00:00, 2420.92it/s, 15 steps of size 1.14e-01. acc. prob=0.93]\n",
      "[I 2024-01-08 06:11:57,338] Trial 391 finished with value: 173.21588134765625 and parameters: {'I_y_and_I_z_mu_0': 1.6617896267003427, 'I_y_and_I_z_mu_1': 0.01143314414147879, 'I_y_and_I_z_cov_0_0': 0.4240358571763253, 'I_y_and_I_z_cov_1_1': 1.3696507551562778, 'Q_mu': 671559250020178.4, 'Q_sigma': 9577493.743908659, 'sigma_mu': 1.1601071218509047, 'sigma_sigma': 1.7511615013542179}. Best is trial 104 with value: 172.69869995117188.\n",
      "sample: 100%|██████████| 15000/15000 [00:05<00:00, 2565.12it/s, 11 steps of size 1.76e-01. acc. prob=0.93]\n",
      "[I 2024-01-08 06:12:04,498] Trial 392 finished with value: 173.53489685058594 and parameters: {'I_y_and_I_z_mu_0': 1.0307432998826211, 'I_y_and_I_z_mu_1': 1.8345446891821393, 'I_y_and_I_z_cov_0_0': 0.5806880564449184, 'I_y_and_I_z_cov_1_1': 1.274806372433, 'Q_mu': 726589962509617.9, 'Q_sigma': 4968637.224799324, 'sigma_mu': 1.368512387476442, 'sigma_sigma': 1.6166966646988559}. Best is trial 104 with value: 172.69869995117188.\n",
      "sample: 100%|██████████| 15000/15000 [00:06<00:00, 2234.67it/s, 31 steps of size 1.20e-01. acc. prob=0.94]\n",
      "[I 2024-01-08 06:12:12,509] Trial 393 finished with value: 173.2137908935547 and parameters: {'I_y_and_I_z_mu_0': 1.542119210375215, 'I_y_and_I_z_mu_1': 0.9071591801259329, 'I_y_and_I_z_cov_0_0': 0.6392445351947422, 'I_y_and_I_z_cov_1_1': 1.475650850255869, 'Q_mu': 836925073240520.4, 'Q_sigma': 7637780.658357985, 'sigma_mu': 1.1178138121183085, 'sigma_sigma': 1.202328710722371}. Best is trial 104 with value: 172.69869995117188.\n",
      "sample: 100%|██████████| 15000/15000 [00:06<00:00, 2412.59it/s, 31 steps of size 1.01e-01. acc. prob=0.94]\n",
      "[I 2024-01-08 06:12:20,150] Trial 394 finished with value: 173.20416259765625 and parameters: {'I_y_and_I_z_mu_0': 1.095658354241925, 'I_y_and_I_z_mu_1': 0.08051702892370642, 'I_y_and_I_z_cov_0_0': 0.5284732859775033, 'I_y_and_I_z_cov_1_1': 1.3903266266687877, 'Q_mu': 803390243581473.2, 'Q_sigma': 4742760.62563564, 'sigma_mu': 1.034980257425796, 'sigma_sigma': 1.6688763659555275}. Best is trial 104 with value: 172.69869995117188.\n",
      "sample: 100%|██████████| 15000/15000 [00:06<00:00, 2451.14it/s, 31 steps of size 1.24e-01. acc. prob=0.92]\n",
      "[I 2024-01-08 06:12:27,606] Trial 395 finished with value: 173.0541229248047 and parameters: {'I_y_and_I_z_mu_0': 1.6177387178099614, 'I_y_and_I_z_mu_1': 0.9201090086463986, 'I_y_and_I_z_cov_0_0': 0.6800586024438766, 'I_y_and_I_z_cov_1_1': 1.3324473851946914, 'Q_mu': 913374292730773.0, 'Q_sigma': 6753361.7118937485, 'sigma_mu': 0.9713776788116993, 'sigma_sigma': 1.8363072645738225}. Best is trial 104 with value: 172.69869995117188.\n",
      "sample: 100%|██████████| 15000/15000 [00:06<00:00, 2471.52it/s, 31 steps of size 1.18e-01. acc. prob=0.90]\n",
      "[I 2024-01-08 06:12:35,034] Trial 396 finished with value: 173.02171325683594 and parameters: {'I_y_and_I_z_mu_0': 1.5013841633947533, 'I_y_and_I_z_mu_1': 0.1829264669071251, 'I_y_and_I_z_cov_0_0': 0.6016887038997298, 'I_y_and_I_z_cov_1_1': 1.0940578356819435, 'Q_mu': 745383367067980.5, 'Q_sigma': 5550186.455317621, 'sigma_mu': 1.0802169554507601, 'sigma_sigma': 1.7746767822591631}. Best is trial 104 with value: 172.69869995117188.\n",
      "sample: 100%|██████████| 15000/15000 [00:06<00:00, 2337.99it/s, 31 steps of size 1.03e-01. acc. prob=0.94]\n",
      "[I 2024-01-08 06:12:42,866] Trial 397 finished with value: 172.90737915039062 and parameters: {'I_y_and_I_z_mu_0': 1.5622725221104754, 'I_y_and_I_z_mu_1': 0.4503981269037405, 'I_y_and_I_z_cov_0_0': 0.4633995826160159, 'I_y_and_I_z_cov_1_1': 1.0129208118431436, 'Q_mu': 582525038492227.4, 'Q_sigma': 5086628.839206687, 'sigma_mu': 1.1950888455879554, 'sigma_sigma': 1.7022439224821033}. Best is trial 104 with value: 172.69869995117188.\n",
      "sample: 100%|██████████| 15000/15000 [00:07<00:00, 2136.72it/s, 31 steps of size 8.27e-02. acc. prob=0.91]\n",
      "[I 2024-01-08 06:12:51,223] Trial 398 finished with value: 172.71353149414062 and parameters: {'I_y_and_I_z_mu_0': 1.449197021521316, 'I_y_and_I_z_mu_1': 0.2308247465856946, 'I_y_and_I_z_cov_0_0': 0.56371076717515, 'I_y_and_I_z_cov_1_1': 1.229273913576713, 'Q_mu': 882042023432003.0, 'Q_sigma': 4027989.082825181, 'sigma_mu': 1.1371896056367548, 'sigma_sigma': 1.134286549777329}. Best is trial 104 with value: 172.69869995117188.\n",
      "sample: 100%|██████████| 15000/15000 [00:07<00:00, 2103.09it/s, 31 steps of size 6.93e-02. acc. prob=0.92]\n",
      "[I 2024-01-08 06:12:59,758] Trial 399 finished with value: 172.79092407226562 and parameters: {'I_y_and_I_z_mu_0': 1.4432834386668036, 'I_y_and_I_z_mu_1': 0.22515878225175037, 'I_y_and_I_z_cov_0_0': 0.5096371961628465, 'I_y_and_I_z_cov_1_1': 1.435630703536115, 'Q_mu': 865352527366763.2, 'Q_sigma': 3470310.6337986495, 'sigma_mu': 1.1567383204111081, 'sigma_sigma': 0.9227174230994623}. Best is trial 104 with value: 172.69869995117188.\n",
      "sample: 100%|██████████| 15000/15000 [00:06<00:00, 2446.94it/s, 11 steps of size 1.10e-01. acc. prob=0.91]\n",
      "[I 2024-01-08 06:13:07,306] Trial 400 finished with value: 172.97792053222656 and parameters: {'I_y_and_I_z_mu_0': 1.387837775187057, 'I_y_and_I_z_mu_1': 0.15414835919408434, 'I_y_and_I_z_cov_0_0': 0.5586914578520326, 'I_y_and_I_z_cov_1_1': 1.6753419710734285, 'Q_mu': 689137493419391.2, 'Q_sigma': 4040722.6074312143, 'sigma_mu': 1.2226099332889848, 'sigma_sigma': 1.1510818914581635}. Best is trial 104 with value: 172.69869995117188.\n",
      "sample: 100%|██████████| 15000/15000 [00:05<00:00, 2513.39it/s, 15 steps of size 1.54e-01. acc. prob=0.91]\n",
      "[I 2024-01-08 06:13:14,791] Trial 401 finished with value: 173.37936401367188 and parameters: {'I_y_and_I_z_mu_0': 1.4776017184636425, 'I_y_and_I_z_mu_1': 0.7736698287256396, 'I_y_and_I_z_cov_0_0': 0.38003258707989584, 'I_y_and_I_z_cov_1_1': 1.2377045626482612, 'Q_mu': 498836940621555.6, 'Q_sigma': 7945101.606538329, 'sigma_mu': 1.127589045742636, 'sigma_sigma': 1.062504672364546}. Best is trial 104 with value: 172.69869995117188.\n",
      "sample: 100%|██████████| 15000/15000 [00:05<00:00, 2699.16it/s, 15 steps of size 2.10e-01. acc. prob=0.92]\n",
      "[I 2024-01-08 06:13:22,058] Trial 402 finished with value: 173.7179718017578 and parameters: {'I_y_and_I_z_mu_0': 1.6749655730736757, 'I_y_and_I_z_mu_1': 0.2445640349966451, 'I_y_and_I_z_cov_0_0': 1.8525805819783536, 'I_y_and_I_z_cov_1_1': 1.2956704546392623, 'Q_mu': 653061312217080.4, 'Q_sigma': 4023615.7233451367, 'sigma_mu': 1.1770104005214648, 'sigma_sigma': 1.0105300185838877}. Best is trial 104 with value: 172.69869995117188.\n",
      "sample: 100%|██████████| 15000/15000 [00:05<00:00, 2503.01it/s, 31 steps of size 1.43e-01. acc. prob=0.92]\n",
      "[I 2024-01-08 06:13:29,431] Trial 403 finished with value: 173.01864624023438 and parameters: {'I_y_and_I_z_mu_0': 1.583672261349279, 'I_y_and_I_z_mu_1': 0.1951575229634358, 'I_y_and_I_z_cov_0_0': 0.14052917340764448, 'I_y_and_I_z_cov_1_1': 1.3633174563977053, 'Q_mu': 456784914181482.75, 'Q_sigma': 4236401.354895066, 'sigma_mu': 1.269086199169835, 'sigma_sigma': 1.547153349469994}. Best is trial 104 with value: 172.69869995117188.\n",
      "sample: 100%|██████████| 15000/15000 [00:05<00:00, 2592.12it/s, 15 steps of size 1.64e-01. acc. prob=0.93]\n",
      "[I 2024-01-08 06:13:36,577] Trial 404 finished with value: 173.29824829101562 and parameters: {'I_y_and_I_z_mu_0': 1.2010320136747132, 'I_y_and_I_z_mu_1': 1.2452346185361722, 'I_y_and_I_z_cov_0_0': 0.6251346150152098, 'I_y_and_I_z_cov_1_1': 1.404165022272628, 'Q_mu': 897952129456730.0, 'Q_sigma': 3743631.345521946, 'sigma_mu': 0.5415532525761813, 'sigma_sigma': 0.774196407264107}. Best is trial 104 with value: 172.69869995117188.\n",
      "sample: 100%|██████████| 15000/15000 [00:06<00:00, 2360.99it/s, 31 steps of size 9.68e-02. acc. prob=0.95]\n",
      "[I 2024-01-08 06:13:44,166] Trial 405 finished with value: 173.04071044921875 and parameters: {'I_y_and_I_z_mu_0': 1.769745000644049, 'I_y_and_I_z_mu_1': 0.05058952028773059, 'I_y_and_I_z_cov_0_0': 0.9200333822631015, 'I_y_and_I_z_cov_1_1': 1.26644592717267, 'Q_mu': 784630709646408.9, 'Q_sigma': 4401306.988107589, 'sigma_mu': 0.8512177839821795, 'sigma_sigma': 1.3091349474526677}. Best is trial 104 with value: 172.69869995117188.\n",
      "sample: 100%|██████████| 15000/15000 [00:06<00:00, 2308.27it/s, 31 steps of size 9.99e-02. acc. prob=0.93]\n",
      "[I 2024-01-08 06:13:51,897] Trial 406 finished with value: 172.8765869140625 and parameters: {'I_y_and_I_z_mu_0': 1.8187687434850477, 'I_y_and_I_z_mu_1': 1.054803770831985, 'I_y_and_I_z_cov_0_0': 0.5022997133497685, 'I_y_and_I_z_cov_1_1': 1.3365810668263114, 'Q_mu': 950904647341046.5, 'Q_sigma': 4257126.399300569, 'sigma_mu': 1.146389933608024, 'sigma_sigma': 1.3890122448669298}. Best is trial 104 with value: 172.69869995117188.\n",
      "sample: 100%|██████████| 15000/15000 [00:06<00:00, 2277.20it/s, 15 steps of size 1.16e-01. acc. prob=0.92]\n",
      "[I 2024-01-08 06:13:59,881] Trial 407 finished with value: 172.77947998046875 and parameters: {'I_y_and_I_z_mu_0': 1.9256414742361367, 'I_y_and_I_z_mu_1': 0.12372969956537806, 'I_y_and_I_z_cov_0_0': 0.5781161894092722, 'I_y_and_I_z_cov_1_1': 1.503106092475093, 'Q_mu': 555787722537888.5, 'Q_sigma': 4559394.920407333, 'sigma_mu': 1.091913692946931, 'sigma_sigma': 1.1331046943190826}. Best is trial 104 with value: 172.69869995117188.\n",
      "sample: 100%|██████████| 15000/15000 [00:07<00:00, 2123.39it/s, 47 steps of size 7.50e-02. acc. prob=0.94]\n",
      "[I 2024-01-08 06:14:08,428] Trial 408 finished with value: 173.14804077148438 and parameters: {'I_y_and_I_z_mu_0': 0.6790607971853211, 'I_y_and_I_z_mu_1': 1.1158556867617146, 'I_y_and_I_z_cov_0_0': 0.0971297151040923, 'I_y_and_I_z_cov_1_1': 1.176681650001373, 'Q_mu': 844445512776502.2, 'Q_sigma': 4056240.3400961733, 'sigma_mu': 1.239888998483309, 'sigma_sigma': 1.0703966230895514}. Best is trial 104 with value: 172.69869995117188.\n",
      "sample: 100%|██████████| 15000/15000 [00:07<00:00, 2054.35it/s, 31 steps of size 6.45e-02. acc. prob=0.95]\n",
      "[I 2024-01-08 06:14:17,179] Trial 409 finished with value: 172.89016723632812 and parameters: {'I_y_and_I_z_mu_0': 1.6306243300534753, 'I_y_and_I_z_mu_1': 0.26040509238470316, 'I_y_and_I_z_cov_0_0': 0.5422603598245137, 'I_y_and_I_z_cov_1_1': 1.045239325814796, 'Q_mu': 929901859305586.4, 'Q_sigma': 3884439.0389350043, 'sigma_mu': 1.1770712298897181, 'sigma_sigma': 1.2929171016819128}. Best is trial 104 with value: 172.69869995117188.\n",
      "sample: 100%|██████████| 15000/15000 [00:06<00:00, 2431.45it/s, 15 steps of size 1.40e-01. acc. prob=0.92]\n",
      "[I 2024-01-08 06:14:24,834] Trial 410 finished with value: 173.37411499023438 and parameters: {'I_y_and_I_z_mu_0': 1.2489917828948631, 'I_y_and_I_z_mu_1': 0.08984869819122177, 'I_y_and_I_z_cov_0_0': 0.6709760370705613, 'I_y_and_I_z_cov_1_1': 0.9537798368486005, 'Q_mu': 824952021401697.2, 'Q_sigma': 7406487.998827053, 'sigma_mu': 1.1221828791425206, 'sigma_sigma': 1.3530008798404183}. Best is trial 104 with value: 172.69869995117188.\n",
      "sample: 100%|██████████| 15000/15000 [00:06<00:00, 2264.28it/s, 15 steps of size 1.09e-01. acc. prob=0.92]\n",
      "[I 2024-01-08 06:14:32,868] Trial 411 finished with value: 173.06704711914062 and parameters: {'I_y_and_I_z_mu_0': 1.5218481181688952, 'I_y_and_I_z_mu_1': 0.16729947449502913, 'I_y_and_I_z_cov_0_0': 0.7892168012489642, 'I_y_and_I_z_cov_1_1': 1.2976525162204668, 'Q_mu': 881105515984949.8, 'Q_sigma': 4774148.650005048, 'sigma_mu': 1.574464613123523, 'sigma_sigma': 1.3260290051785748}. Best is trial 104 with value: 172.69869995117188.\n",
      "sample: 100%|██████████| 15000/15000 [00:06<00:00, 2476.32it/s, 15 steps of size 1.38e-01. acc. prob=0.90]\n",
      "[I 2024-01-08 06:14:40,301] Trial 412 finished with value: 173.251220703125 and parameters: {'I_y_and_I_z_mu_0': 1.4501123430313314, 'I_y_and_I_z_mu_1': 0.3353728189687703, 'I_y_and_I_z_cov_0_0': 0.44777565893970495, 'I_y_and_I_z_cov_1_1': 1.444957575558899, 'Q_mu': 704289166553759.1, 'Q_sigma': 9284100.141485915, 'sigma_mu': 1.1933228386570487, 'sigma_sigma': 1.8635339635381873}. Best is trial 104 with value: 172.69869995117188.\n",
      "sample: 100%|██████████| 15000/15000 [00:06<00:00, 2367.80it/s, 11 steps of size 1.78e-01. acc. prob=0.91]\n",
      "[I 2024-01-08 06:14:47,999] Trial 413 finished with value: 173.60711669921875 and parameters: {'I_y_and_I_z_mu_0': 1.5793746519429934, 'I_y_and_I_z_mu_1': 0.418451043079374, 'I_y_and_I_z_cov_0_0': 1.1242804666260375, 'I_y_and_I_z_cov_1_1': 1.1350668220845193, 'Q_mu': 613053498871997.1, 'Q_sigma': 5947820.1642069835, 'sigma_mu': 1.7266413231218827, 'sigma_sigma': 1.4042870857803083}. Best is trial 104 with value: 172.69869995117188.\n",
      "sample: 100%|██████████| 15000/15000 [00:07<00:00, 2088.10it/s, 15 steps of size 6.78e-02. acc. prob=0.92]\n",
      "[I 2024-01-08 06:14:56,771] Trial 414 finished with value: 172.73974609375 and parameters: {'I_y_and_I_z_mu_0': 1.5248816703502759, 'I_y_and_I_z_mu_1': 0.05433729618190755, 'I_y_and_I_z_cov_0_0': 0.5997444870876235, 'I_y_and_I_z_cov_1_1': 1.3543666721151089, 'Q_mu': 906373546329966.1, 'Q_sigma': 4419348.343623711, 'sigma_mu': 1.0966492997898185, 'sigma_sigma': 1.1033311819682867}. Best is trial 104 with value: 172.69869995117188.\n",
      "sample: 100%|██████████| 15000/15000 [00:06<00:00, 2311.14it/s, 31 steps of size 8.84e-02. acc. prob=0.94]\n",
      "[I 2024-01-08 06:15:04,639] Trial 415 finished with value: 172.90951538085938 and parameters: {'I_y_and_I_z_mu_0': 1.6291627100757569, 'I_y_and_I_z_mu_1': 0.22558027969866706, 'I_y_and_I_z_cov_0_0': 0.7194978152084864, 'I_y_and_I_z_cov_1_1': 1.2226305450691468, 'Q_mu': 859759555196315.8, 'Q_sigma': 5306645.512967745, 'sigma_mu': 0.8902686122859615, 'sigma_sigma': 1.2519985676016203}. Best is trial 104 with value: 172.69869995117188.\n",
      "sample: 100%|██████████| 15000/15000 [00:05<00:00, 2649.38it/s, 15 steps of size 2.05e-01. acc. prob=0.92]\n",
      "[I 2024-01-08 06:15:11,690] Trial 416 finished with value: 173.8716583251953 and parameters: {'I_y_and_I_z_mu_0': 0.9260478709958309, 'I_y_and_I_z_mu_1': 0.2886360154060557, 'I_y_and_I_z_cov_0_0': 1.2909724499301922, 'I_y_and_I_z_cov_1_1': 1.397800484665822, 'Q_mu': 717995894301283.8, 'Q_sigma': 4563294.945664372, 'sigma_mu': 1.1467374826167855, 'sigma_sigma': 1.9987776895711313}. Best is trial 104 with value: 172.69869995117188.\n",
      "sample: 100%|██████████| 15000/15000 [00:06<00:00, 2193.93it/s, 31 steps of size 7.18e-02. acc. prob=0.94]\n",
      "[I 2024-01-08 06:15:19,906] Trial 417 finished with value: 172.80535888671875 and parameters: {'I_y_and_I_z_mu_0': 1.7116877492387919, 'I_y_and_I_z_mu_1': 0.011824546160107141, 'I_y_and_I_z_cov_0_0': 0.49088715679126455, 'I_y_and_I_z_cov_1_1': 1.2635420748857518, 'Q_mu': 740292847713633.5, 'Q_sigma': 4897588.909670206, 'sigma_mu': 1.0099897446133068, 'sigma_sigma': 1.4976501165644849}. Best is trial 104 with value: 172.69869995117188.\n",
      "sample: 100%|██████████| 15000/15000 [00:05<00:00, 2626.23it/s, 15 steps of size 1.65e-01. acc. prob=0.92]\n",
      "[I 2024-01-08 06:15:27,037] Trial 418 finished with value: 173.458251953125 and parameters: {'I_y_and_I_z_mu_0': 1.4159477717567173, 'I_y_and_I_z_mu_1': 0.8551261920547415, 'I_y_and_I_z_cov_0_0': 0.8792181791746327, 'I_y_and_I_z_cov_1_1': 1.3214605320514579, 'Q_mu': 805043954319792.5, 'Q_sigma': 6351490.683117165, 'sigma_mu': 1.3057850646083782, 'sigma_sigma': 1.4480068797273995}. Best is trial 104 with value: 172.69869995117188.\n",
      "sample: 100%|██████████| 15000/15000 [00:06<00:00, 2280.82it/s, 31 steps of size 1.24e-01. acc. prob=0.94]\n",
      "[I 2024-01-08 06:15:35,003] Trial 419 finished with value: 173.23178100585938 and parameters: {'I_y_and_I_z_mu_0': 1.4887471069842173, 'I_y_and_I_z_mu_1': 0.1237142130687453, 'I_y_and_I_z_cov_0_0': 0.6305021592019647, 'I_y_and_I_z_cov_1_1': 1.3693545137841763, 'Q_mu': 601700786601221.1, 'Q_sigma': 5631819.878248372, 'sigma_mu': 1.6728345924378116, 'sigma_sigma': 1.7925316937216405}. Best is trial 104 with value: 172.69869995117188.\n",
      "sample: 100%|██████████| 15000/15000 [00:06<00:00, 2270.90it/s, 11 steps of size 1.12e-01. acc. prob=0.91]\n",
      "[I 2024-01-08 06:15:42,981] Trial 420 finished with value: 172.79129028320312 and parameters: {'I_y_and_I_z_mu_0': 1.875693075194984, 'I_y_and_I_z_mu_1': 0.7942188304586271, 'I_y_and_I_z_cov_0_0': 0.5370161285778834, 'I_y_and_I_z_cov_1_1': 1.5464614192660486, 'Q_mu': 763466041935672.9, 'Q_sigma': 4641377.449690543, 'sigma_mu': 1.0644800126109382, 'sigma_sigma': 0.5293053605767188}. Best is trial 104 with value: 172.69869995117188.\n",
      "sample: 100%|██████████| 15000/15000 [00:06<00:00, 2458.14it/s, 15 steps of size 1.61e-01. acc. prob=0.94]\n",
      "[I 2024-01-08 06:15:50,697] Trial 421 finished with value: 173.91195678710938 and parameters: {'I_y_and_I_z_mu_0': 0.8600200633909796, 'I_y_and_I_z_mu_1': 0.19206758942191965, 'I_y_and_I_z_cov_0_0': 0.5673308257071653, 'I_y_and_I_z_cov_1_1': 1.419346991193897, 'Q_mu': 175280383955416.75, 'Q_sigma': 3029579.309900121, 'sigma_mu': 1.2293609163827834, 'sigma_sigma': 1.8985269881222837}. Best is trial 104 with value: 172.69869995117188.\n",
      "sample: 100%|██████████| 15000/15000 [00:08<00:00, 1750.65it/s, 15 steps of size 7.13e-02. acc. prob=0.94]\n",
      "[I 2024-01-08 06:16:00,711] Trial 422 finished with value: 172.76046752929688 and parameters: {'I_y_and_I_z_mu_0': 1.3006034815971226, 'I_y_and_I_z_mu_1': 0.4790360445767348, 'I_y_and_I_z_cov_0_0': 0.4098822471278133, 'I_y_and_I_z_cov_1_1': 1.1833383204970842, 'Q_mu': 883421746877873.2, 'Q_sigma': 4185450.013346298, 'sigma_mu': 1.1157683626050532, 'sigma_sigma': 1.7372176323953585}. Best is trial 104 with value: 172.69869995117188.\n",
      "sample: 100%|██████████| 15000/15000 [00:06<00:00, 2468.56it/s, 15 steps of size 1.67e-01. acc. prob=0.91]\n",
      "[I 2024-01-08 06:16:08,194] Trial 423 finished with value: 173.27146911621094 and parameters: {'I_y_and_I_z_mu_0': 1.5563137764446653, 'I_y_and_I_z_mu_1': 0.9989081803191906, 'I_y_and_I_z_cov_0_0': 0.6584356817935262, 'I_y_and_I_z_cov_1_1': 1.0951190121560277, 'Q_mu': 674832012054477.1, 'Q_sigma': 5243184.920151832, 'sigma_mu': 0.9505528538471908, 'sigma_sigma': 1.1747222318134334}. Best is trial 104 with value: 172.69869995117188.\n",
      "sample: 100%|██████████| 15000/15000 [00:07<00:00, 2065.28it/s, 15 steps of size 8.27e-02. acc. prob=0.91]\n",
      "[I 2024-01-08 06:16:17,220] Trial 424 finished with value: 173.18763732910156 and parameters: {'I_y_and_I_z_mu_0': 1.6011399928983665, 'I_y_and_I_z_mu_1': 0.0827381090163305, 'I_y_and_I_z_cov_0_0': 0.4687657879030079, 'I_y_and_I_z_cov_1_1': 1.4636973611577007, 'Q_mu': 842890110298317.4, 'Q_sigma': 946877.635097499, 'sigma_mu': 1.2009151051569185, 'sigma_sigma': 1.9577354625461834}. Best is trial 104 with value: 172.69869995117188.\n",
      "sample: 100%|██████████| 15000/15000 [00:06<00:00, 2289.14it/s, 31 steps of size 1.08e-01. acc. prob=0.92]\n",
      "[I 2024-01-08 06:16:25,218] Trial 425 finished with value: 172.8007354736328 and parameters: {'I_y_and_I_z_mu_0': 1.5373068817242355, 'I_y_and_I_z_mu_1': 0.8470544290125561, 'I_y_and_I_z_cov_0_0': 0.6048901788906027, 'I_y_and_I_z_cov_1_1': 1.3084439200482145, 'Q_mu': 921877029634031.4, 'Q_sigma': 4879203.957533746, 'sigma_mu': 1.150473399016632, 'sigma_sigma': 1.7652051681337728}. Best is trial 104 with value: 172.69869995117188.\n",
      "sample: 100%|██████████| 15000/15000 [00:05<00:00, 2657.94it/s, 7 steps of size 2.88e-01. acc. prob=0.91] \n",
      "[I 2024-01-08 06:16:36,255] Trial 426 finished with value: 175.8861541748047 and parameters: {'I_y_and_I_z_mu_0': 1.6732153388688862, 'I_y_and_I_z_mu_1': 1.0755209296211206, 'I_y_and_I_z_cov_0_0': 0.5218613976076283, 'I_y_and_I_z_cov_1_1': 0.024035286395855393, 'Q_mu': 945567356017044.1, 'Q_sigma': 5497652.024980803, 'sigma_mu': 1.4911622170177972, 'sigma_sigma': 1.1082452120658595}. Best is trial 104 with value: 172.69869995117188.\n",
      "sample: 100%|██████████| 15000/15000 [00:07<00:00, 2083.52it/s, 15 steps of size 7.21e-02. acc. prob=0.92]\n",
      "[I 2024-01-08 06:16:44,865] Trial 427 finished with value: 172.81903076171875 and parameters: {'I_y_and_I_z_mu_0': 1.5925338335368024, 'I_y_and_I_z_mu_1': 0.38622774469858934, 'I_y_and_I_z_cov_0_0': 0.5718571933480744, 'I_y_and_I_z_cov_1_1': 1.2522494605569168, 'Q_mu': 999235911915518.5, 'Q_sigma': 4373520.648808536, 'sigma_mu': 1.4104354791276448, 'sigma_sigma': 1.2161925374887967}. Best is trial 104 with value: 172.69869995117188.\n",
      "sample: 100%|██████████| 15000/15000 [00:05<00:00, 2519.05it/s, 31 steps of size 1.35e-01. acc. prob=0.94]\n",
      "[I 2024-01-08 06:16:52,340] Trial 428 finished with value: 173.19577026367188 and parameters: {'I_y_and_I_z_mu_0': 1.6454030379285731, 'I_y_and_I_z_mu_1': 0.690102898103051, 'I_y_and_I_z_cov_0_0': 0.8341153411869915, 'I_y_and_I_z_cov_1_1': 0.8655227630622493, 'Q_mu': 827106953772934.1, 'Q_sigma': 4714224.014583582, 'sigma_mu': 1.3351892166172783, 'sigma_sigma': 1.588371121550701}. Best is trial 104 with value: 172.69869995117188.\n",
      "sample: 100%|██████████| 15000/15000 [00:06<00:00, 2451.13it/s, 31 steps of size 1.12e-01. acc. prob=0.94]\n",
      "[I 2024-01-08 06:16:59,876] Trial 429 finished with value: 173.14437866210938 and parameters: {'I_y_and_I_z_mu_0': 1.4890453004509598, 'I_y_and_I_z_mu_1': 0.2876717605420969, 'I_y_and_I_z_cov_0_0': 0.6247805047741214, 'I_y_and_I_z_cov_1_1': 1.3463637112964852, 'Q_mu': 645626565984394.8, 'Q_sigma': 5076890.8459513895, 'sigma_mu': 1.040961141231373, 'sigma_sigma': 1.7190692962153262}. Best is trial 104 with value: 172.69869995117188.\n",
      "sample: 100%|██████████| 15000/15000 [00:05<00:00, 2522.75it/s, 15 steps of size 1.58e-01. acc. prob=0.91]\n",
      "[I 2024-01-08 06:17:07,476] Trial 430 finished with value: 173.75161743164062 and parameters: {'I_y_and_I_z_mu_0': 1.5629378216106782, 'I_y_and_I_z_mu_1': 0.23114040024242596, 'I_y_and_I_z_cov_0_0': 1.9708075455107394, 'I_y_and_I_z_cov_1_1': 1.3823304695260092, 'Q_mu': 893968108192654.9, 'Q_sigma': 9076874.568626849, 'sigma_mu': 1.0948491635505393, 'sigma_sigma': 1.2587806572757145}. Best is trial 104 with value: 172.69869995117188.\n",
      "sample: 100%|██████████| 15000/15000 [00:05<00:00, 2582.20it/s, 7 steps of size 1.58e-01. acc. prob=0.93] \n",
      "[I 2024-01-08 06:17:14,692] Trial 431 finished with value: 173.31253051757812 and parameters: {'I_y_and_I_z_mu_0': 1.6137099738637106, 'I_y_and_I_z_mu_1': 0.05139493925826269, 'I_y_and_I_z_cov_0_0': 0.5004689549607413, 'I_y_and_I_z_cov_1_1': 1.058651121042339, 'Q_mu': 313424188380600.1, 'Q_sigma': 3605436.915212664, 'sigma_mu': 1.264779898736497, 'sigma_sigma': 1.8191991706645558}. Best is trial 104 with value: 172.69869995117188.\n",
      "sample: 100%|██████████| 15000/15000 [00:05<00:00, 2596.83it/s, 15 steps of size 1.67e-01. acc. prob=0.92]\n",
      "[I 2024-01-08 06:17:21,909] Trial 432 finished with value: 173.44248962402344 and parameters: {'I_y_and_I_z_mu_0': 1.3701305022034278, 'I_y_and_I_z_mu_1': 1.3325491808290817, 'I_y_and_I_z_cov_0_0': 0.5446193754250597, 'I_y_and_I_z_cov_1_1': 1.2893327047447607, 'Q_mu': 518131336739560.25, 'Q_sigma': 5735264.132476956, 'sigma_mu': 1.1720811377860636, 'sigma_sigma': 1.62882039424839}. Best is trial 104 with value: 172.69869995117188.\n",
      "sample: 100%|██████████| 15000/15000 [00:05<00:00, 2548.82it/s, 15 steps of size 1.51e-01. acc. prob=0.91]\n",
      "[I 2024-01-08 06:17:29,195] Trial 433 finished with value: 173.50506591796875 and parameters: {'I_y_and_I_z_mu_0': 1.5304821492195329, 'I_y_and_I_z_mu_1': 0.15898903488008914, 'I_y_and_I_z_cov_0_0': 1.0274586012771503, 'I_y_and_I_z_cov_1_1': 1.5035809662247277, 'Q_mu': 868412574578502.5, 'Q_sigma': 9502606.785237664, 'sigma_mu': 1.1318580033030368, 'sigma_sigma': 1.9243294877523482}. Best is trial 104 with value: 172.69869995117188.\n",
      "sample: 100%|██████████| 15000/15000 [00:06<00:00, 2307.29it/s, 31 steps of size 1.04e-01. acc. prob=0.91]\n",
      "[I 2024-01-08 06:17:37,148] Trial 434 finished with value: 172.73956298828125 and parameters: {'I_y_and_I_z_mu_0': 1.9406087315152343, 'I_y_and_I_z_mu_1': 0.3489010026464369, 'I_y_and_I_z_cov_0_0': 0.7017970189021955, 'I_y_and_I_z_cov_1_1': 1.203422675845207, 'Q_mu': 688460943422061.9, 'Q_sigma': 1985316.4827715252, 'sigma_mu': 1.069693958375227, 'sigma_sigma': 1.6865849683603147}. Best is trial 104 with value: 172.69869995117188.\n",
      "sample: 100%|██████████| 15000/15000 [00:07<00:00, 2138.38it/s, 31 steps of size 8.02e-02. acc. prob=0.93]\n",
      "[I 2024-01-08 06:17:45,664] Trial 435 finished with value: 172.91165161132812 and parameters: {'I_y_and_I_z_mu_0': 1.4525849129465942, 'I_y_and_I_z_mu_1': 0.7223830351404763, 'I_y_and_I_z_cov_0_0': 0.2222410880981197, 'I_y_and_I_z_cov_1_1': 1.7139805077392025, 'Q_mu': 967733399337629.5, 'Q_sigma': 9838169.22210652, 'sigma_mu': 1.2061678655714712, 'sigma_sigma': 0.9353327667793309}. Best is trial 104 with value: 172.69869995117188.\n",
      "sample: 100%|██████████| 15000/15000 [00:05<00:00, 2534.14it/s, 15 steps of size 2.20e-01. acc. prob=0.90]\n",
      "[I 2024-01-08 06:17:53,027] Trial 436 finished with value: 173.4584197998047 and parameters: {'I_y_and_I_z_mu_0': 1.5680302851166261, 'I_y_and_I_z_mu_1': 0.9604023103381163, 'I_y_and_I_z_cov_0_0': 0.7519361908043247, 'I_y_and_I_z_cov_1_1': 0.392278718243785, 'Q_mu': 773484893038016.6, 'Q_sigma': 4013720.24133641, 'sigma_mu': 1.0041684644504745, 'sigma_sigma': 1.8713706497309768}. Best is trial 104 with value: 172.69869995117188.\n",
      "sample: 100%|██████████| 15000/15000 [00:06<00:00, 2334.35it/s, 15 steps of size 1.09e-01. acc. prob=0.95]\n",
      "[I 2024-01-08 06:18:00,896] Trial 437 finished with value: 173.26295471191406 and parameters: {'I_y_and_I_z_mu_0': 1.5046918552129318, 'I_y_and_I_z_mu_1': 0.5402548029357754, 'I_y_and_I_z_cov_0_0': 0.5915651736254105, 'I_y_and_I_z_cov_1_1': 1.1384582169227293, 'Q_mu': 795527462693739.2, 'Q_sigma': 8424667.523564864, 'sigma_mu': 1.376686004054392, 'sigma_sigma': 1.2117214687136468}. Best is trial 104 with value: 172.69869995117188.\n",
      "sample: 100%|██████████| 15000/15000 [00:06<00:00, 2291.03it/s, 31 steps of size 9.12e-02. acc. prob=0.94]\n",
      "[I 2024-01-08 06:18:08,854] Trial 438 finished with value: 172.9837646484375 and parameters: {'I_y_and_I_z_mu_0': 1.6561314178509479, 'I_y_and_I_z_mu_1': 0.5944358013565372, 'I_y_and_I_z_cov_0_0': 0.3512128160810857, 'I_y_and_I_z_cov_1_1': 1.0026623171756635, 'Q_mu': 851810283379921.8, 'Q_sigma': 5295077.282840783, 'sigma_mu': 1.1055678497737587, 'sigma_sigma': 1.0130035577666514}. Best is trial 104 with value: 172.69869995117188.\n",
      "sample: 100%|██████████| 15000/15000 [00:05<00:00, 2503.11it/s, 23 steps of size 1.17e-01. acc. prob=0.93]\n",
      "[I 2024-01-08 06:18:16,247] Trial 439 finished with value: 173.219482421875 and parameters: {'I_y_and_I_z_mu_0': 0.9925335203135415, 'I_y_and_I_z_mu_1': 0.1114813199831764, 'I_y_and_I_z_cov_0_0': 0.4454275381788423, 'I_y_and_I_z_cov_1_1': 1.4083106273249328, 'Q_mu': 722308901958337.8, 'Q_sigma': 4474101.021102253, 'sigma_mu': 0.9320506777103517, 'sigma_sigma': 1.7508374569511431}. Best is trial 104 with value: 172.69869995117188.\n",
      "sample: 100%|██████████| 15000/15000 [00:05<00:00, 2681.02it/s, 15 steps of size 2.14e-01. acc. prob=0.92]\n",
      "[I 2024-01-08 06:18:23,824] Trial 440 finished with value: 173.96836853027344 and parameters: {'I_y_and_I_z_mu_0': 0.35518087780507424, 'I_y_and_I_z_mu_1': 0.011185809798056424, 'I_y_and_I_z_cov_0_0': 0.6553783509940045, 'I_y_and_I_z_cov_1_1': 1.338313061400161, 'Q_mu': 912292374074758.2, 'Q_sigma': 4967115.375237416, 'sigma_mu': 1.5367233184329854, 'sigma_sigma': 1.157879374571781}. Best is trial 104 with value: 172.69869995117188.\n",
      "sample: 100%|██████████| 15000/15000 [00:06<00:00, 2361.55it/s, 15 steps of size 9.70e-02. acc. prob=0.95]\n",
      "[I 2024-01-08 06:18:31,592] Trial 441 finished with value: 172.9300079345703 and parameters: {'I_y_and_I_z_mu_0': 1.6053328557493638, 'I_y_and_I_z_mu_1': 0.2601872720297477, 'I_y_and_I_z_cov_0_0': 0.5313274639525494, 'I_y_and_I_z_cov_1_1': 1.2481952571587043, 'Q_mu': 533079615607128.0, 'Q_sigma': 3867146.9091838086, 'sigma_mu': 1.1582453548157268, 'sigma_sigma': 1.7966588576893605}. Best is trial 104 with value: 172.69869995117188.\n",
      "sample: 100%|██████████| 15000/15000 [00:06<00:00, 2248.24it/s, 15 steps of size 8.11e-02. acc. prob=0.95]\n",
      "[I 2024-01-08 06:18:39,709] Trial 442 finished with value: 172.95867919921875 and parameters: {'I_y_and_I_z_mu_0': 1.1742634087641661, 'I_y_and_I_z_mu_1': 0.32128332396673415, 'I_y_and_I_z_cov_0_0': 0.48222790668150145, 'I_y_and_I_z_cov_1_1': 1.3118751851098043, 'Q_mu': 874921823294147.8, 'Q_sigma': 4771475.75118331, 'sigma_mu': 0.5016118394764185, 'sigma_sigma': 1.6334124047300915}. Best is trial 104 with value: 172.69869995117188.\n",
      "sample: 100%|██████████| 15000/15000 [00:06<00:00, 2338.56it/s, 31 steps of size 1.01e-01. acc. prob=0.95]\n",
      "[I 2024-01-08 06:18:47,577] Trial 443 finished with value: 173.28224182128906 and parameters: {'I_y_and_I_z_mu_0': 1.204409921761234, 'I_y_and_I_z_mu_1': 0.1800121438607601, 'I_y_and_I_z_cov_0_0': 0.559422391408532, 'I_y_and_I_z_cov_1_1': 1.4514737852397004, 'Q_mu': 929125017772230.1, 'Q_sigma': 8977549.35058749, 'sigma_mu': 1.050417255362703, 'sigma_sigma': 1.5573981207350407}. Best is trial 104 with value: 172.69869995117188.\n",
      "sample: 100%|██████████| 15000/15000 [00:07<00:00, 2073.03it/s, 15 steps of size 1.07e-01. acc. prob=0.92]\n",
      "[I 2024-01-08 06:18:56,611] Trial 444 finished with value: 172.88259887695312 and parameters: {'I_y_and_I_z_mu_0': 1.7520966946852952, 'I_y_and_I_z_mu_1': 0.21740450214784887, 'I_y_and_I_z_cov_0_0': 0.6095217426367308, 'I_y_and_I_z_cov_1_1': 1.3761895659383312, 'Q_mu': 665446336999315.5, 'Q_sigma': 5141327.5055965725, 'sigma_mu': 1.242742340229578, 'sigma_sigma': 0.6676099544309411}. Best is trial 104 with value: 172.69869995117188.\n",
      "sample: 100%|██████████| 15000/15000 [00:07<00:00, 2060.55it/s, 47 steps of size 6.45e-02. acc. prob=0.94]\n",
      "[I 2024-01-08 06:19:05,619] Trial 445 finished with value: 172.80288696289062 and parameters: {'I_y_and_I_z_mu_0': 1.5476544170625075, 'I_y_and_I_z_mu_1': 0.06556198904858106, 'I_y_and_I_z_cov_0_0': 0.5142153224894939, 'I_y_and_I_z_cov_1_1': 1.2780595952122547, 'Q_mu': 821637744881977.8, 'Q_sigma': 4300949.442972413, 'sigma_mu': 1.133513748623918, 'sigma_sigma': 1.9486068555457188}. Best is trial 104 with value: 172.69869995117188.\n",
      "sample: 100%|██████████| 15000/15000 [00:07<00:00, 2134.83it/s, 15 steps of size 8.02e-02. acc. prob=0.95]\n",
      "[I 2024-01-08 06:19:14,092] Trial 446 finished with value: 173.4408416748047 and parameters: {'I_y_and_I_z_mu_0': 1.128286385256576, 'I_y_and_I_z_mu_1': 0.4351043408295297, 'I_y_and_I_z_cov_0_0': 0.2032555042545796, 'I_y_and_I_z_cov_1_1': 1.415408006794566, 'Q_mu': 897309057470550.6, 'Q_sigma': 4582196.101437384, 'sigma_mu': 1.4473555263251554, 'sigma_sigma': 1.2793726143814617}. Best is trial 104 with value: 172.69869995117188.\n",
      "sample: 100%|██████████| 15000/15000 [00:06<00:00, 2295.77it/s, 15 steps of size 9.71e-02. acc. prob=0.94]\n",
      "[I 2024-01-08 06:19:22,083] Trial 447 finished with value: 172.8337860107422 and parameters: {'I_y_and_I_z_mu_0': 1.6833437799058517, 'I_y_and_I_z_mu_1': 0.12020678866878566, 'I_y_and_I_z_cov_0_0': 0.5767490088618469, 'I_y_and_I_z_cov_1_1': 1.226172157167273, 'Q_mu': 702479784471134.4, 'Q_sigma': 6061638.714330828, 'sigma_mu': 0.3653992360319729, 'sigma_sigma': 0.27069616261782814}. Best is trial 104 with value: 172.69869995117188.\n",
      "sample: 100%|██████████| 15000/15000 [00:05<00:00, 2572.50it/s, 15 steps of size 1.58e-01. acc. prob=0.93]\n",
      "[I 2024-01-08 06:19:29,875] Trial 448 finished with value: 173.53948974609375 and parameters: {'I_y_and_I_z_mu_0': 1.4774456801714602, 'I_y_and_I_z_mu_1': 0.28874595694735505, 'I_y_and_I_z_cov_0_0': 1.1614942121408722, 'I_y_and_I_z_cov_1_1': 1.3435194416319058, 'Q_mu': 743237270680750.0, 'Q_sigma': 5526866.917570885, 'sigma_mu': 1.0921885302942582, 'sigma_sigma': 1.6784742186440342}. Best is trial 104 with value: 172.69869995117188.\n",
      "sample: 100%|██████████| 15000/15000 [00:06<00:00, 2143.38it/s, 31 steps of size 7.21e-02. acc. prob=0.92]\n",
      "[I 2024-01-08 06:19:38,212] Trial 449 finished with value: 172.81924438476562 and parameters: {'I_y_and_I_z_mu_0': 1.4122317410015497, 'I_y_and_I_z_mu_1': 0.3912050786254251, 'I_y_and_I_z_cov_0_0': 0.4165677293489816, 'I_y_and_I_z_cov_1_1': 1.759672628529683, 'Q_mu': 846854784498468.8, 'Q_sigma': 4875410.82194595, 'sigma_mu': 1.2896307960560465, 'sigma_sigma': 1.833197149344699}. Best is trial 104 with value: 172.69869995117188.\n",
      "sample: 100%|██████████| 15000/15000 [00:06<00:00, 2340.12it/s, 31 steps of size 8.85e-02. acc. prob=0.93]\n",
      "[I 2024-01-08 06:19:45,943] Trial 450 finished with value: 172.75689697265625 and parameters: {'I_y_and_I_z_mu_0': 1.6270991830562607, 'I_y_and_I_z_mu_1': 0.15023519458257706, 'I_y_and_I_z_cov_0_0': 0.6490318074282265, 'I_y_and_I_z_cov_1_1': 1.0933566536299988, 'Q_mu': 869674160559271.5, 'Q_sigma': 5366017.5415568, 'sigma_mu': 1.1780247781230018, 'sigma_sigma': 1.4202551339648704}. Best is trial 104 with value: 172.69869995117188.\n",
      "sample: 100%|██████████| 15000/15000 [00:06<00:00, 2286.88it/s, 15 steps of size 8.87e-02. acc. prob=0.95]\n",
      "[I 2024-01-08 06:19:53,912] Trial 451 finished with value: 173.42086791992188 and parameters: {'I_y_and_I_z_mu_0': 1.5817681983844238, 'I_y_and_I_z_mu_1': 0.08225603771571958, 'I_y_and_I_z_cov_0_0': 0.319068258493869, 'I_y_and_I_z_cov_1_1': 1.176702403057497, 'Q_mu': 949887670991528.9, 'Q_sigma': 4189102.1032913695, 'sigma_mu': 0.8762011768365596, 'sigma_sigma': 1.730616990142183}. Best is trial 104 with value: 172.69869995117188.\n",
      "sample: 100%|██████████| 15000/15000 [00:05<00:00, 2624.66it/s, 15 steps of size 1.85e-01. acc. prob=0.93]\n",
      "[I 2024-01-08 06:20:01,066] Trial 452 finished with value: 173.7490234375 and parameters: {'I_y_and_I_z_mu_0': 1.526336264814391, 'I_y_and_I_z_mu_1': 0.8143125284847025, 'I_y_and_I_z_cov_0_0': 1.6708641596137377, 'I_y_and_I_z_cov_1_1': 1.4675266422972901, 'Q_mu': 634207024053927.0, 'Q_sigma': 4648915.514746814, 'sigma_mu': 0.9754783280017436, 'sigma_sigma': 1.7580648966292667}. Best is trial 104 with value: 172.69869995117188.\n",
      "sample: 100%|██████████| 15000/15000 [00:05<00:00, 2509.73it/s, 15 steps of size 1.88e-01. acc. prob=0.94]\n",
      "[I 2024-01-08 06:20:08,526] Trial 453 finished with value: 173.74560546875 and parameters: {'I_y_and_I_z_mu_0': 1.575839892880567, 'I_y_and_I_z_mu_1': 0.24687173700306292, 'I_y_and_I_z_cov_0_0': 1.4427465732707079, 'I_y_and_I_z_cov_1_1': 0.1798608124394162, 'Q_mu': 762137523151105.5, 'Q_sigma': 5065545.870253259, 'sigma_mu': 1.0267211509106577, 'sigma_sigma': 1.890208232496927}. Best is trial 104 with value: 172.69869995117188.\n",
      "sample: 100%|██████████| 15000/15000 [00:07<00:00, 2054.05it/s, 15 steps of size 1.89e-01. acc. prob=0.89]\n",
      "[I 2024-01-08 06:20:17,433] Trial 454 finished with value: 173.5199737548828 and parameters: {'I_y_and_I_z_mu_0': 1.7122778534756484, 'I_y_and_I_z_mu_1': 0.3182563781703261, 'I_y_and_I_z_cov_0_0': 1.0970885877516816, 'I_y_and_I_z_cov_1_1': 1.3101485898482184, 'Q_mu': 589838614463854.8, 'Q_sigma': 5850243.9670724515, 'sigma_mu': 1.2073050125357774, 'sigma_sigma': 0.9589530698359088}. Best is trial 104 with value: 172.69869995117188.\n",
      "sample: 100%|██████████| 15000/15000 [00:06<00:00, 2415.65it/s, 15 steps of size 1.51e-01. acc. prob=0.94]\n",
      "[I 2024-01-08 06:20:25,130] Trial 455 finished with value: 173.6766357421875 and parameters: {'I_y_and_I_z_mu_0': 1.3064261852606396, 'I_y_and_I_z_mu_1': 0.041027833263723446, 'I_y_and_I_z_cov_0_0': 0.9074892811571871, 'I_y_and_I_z_cov_1_1': 1.3875278985693644, 'Q_mu': 444846054230854.6, 'Q_sigma': 4862498.639087134, 'sigma_mu': 1.120120917818892, 'sigma_sigma': 0.8625108058119437}. Best is trial 104 with value: 172.69869995117188.\n",
      "sample: 100%|██████████| 15000/15000 [00:06<00:00, 2397.74it/s, 31 steps of size 1.03e-01. acc. prob=0.93]\n",
      "[I 2024-01-08 06:20:33,301] Trial 456 finished with value: 172.73541259765625 and parameters: {'I_y_and_I_z_mu_0': 1.5102191082958871, 'I_y_and_I_z_mu_1': 0.9371781857818591, 'I_y_and_I_z_cov_0_0': 0.46791010528756544, 'I_y_and_I_z_cov_1_1': 0.747772446515989, 'Q_mu': 894447632059963.8, 'Q_sigma': 4506927.53617827, 'sigma_mu': 1.350644803792195, 'sigma_sigma': 1.699021239190001}. Best is trial 104 with value: 172.69869995117188.\n",
      "sample: 100%|██████████| 15000/15000 [00:06<00:00, 2155.94it/s, 31 steps of size 8.10e-02. acc. prob=0.94]\n",
      "[I 2024-01-08 06:20:41,671] Trial 457 finished with value: 172.71893310546875 and parameters: {'I_y_and_I_z_mu_0': 1.639560135230052, 'I_y_and_I_z_mu_1': 0.21002482490564245, 'I_y_and_I_z_cov_0_0': 0.5624159494027765, 'I_y_and_I_z_cov_1_1': 1.0583370992536532, 'Q_mu': 789728995491076.6, 'Q_sigma': 5138224.502790718, 'sigma_mu': 1.0710990709492303, 'sigma_sigma': 1.965943132506038}. Best is trial 104 with value: 172.69869995117188.\n",
      "sample: 100%|██████████| 15000/15000 [00:06<00:00, 2148.50it/s, 15 steps of size 8.27e-02. acc. prob=0.93]\n",
      "[I 2024-01-08 06:20:50,150] Trial 458 finished with value: 172.79299926757812 and parameters: {'I_y_and_I_z_mu_0': 1.8037353225560582, 'I_y_and_I_z_mu_1': 0.19704064347066133, 'I_y_and_I_z_cov_0_0': 0.5322981655320796, 'I_y_and_I_z_cov_1_1': 1.0381863160507003, 'Q_mu': 803162575288248.9, 'Q_sigma': 5141427.355022733, 'sigma_mu': 1.060684318402687, 'sigma_sigma': 1.9698341923628344}. Best is trial 104 with value: 172.69869995117188.\n",
      "sample: 100%|██████████| 15000/15000 [00:06<00:00, 2382.41it/s, 31 steps of size 9.98e-02. acc. prob=0.92]\n",
      "[I 2024-01-08 06:20:57,910] Trial 459 finished with value: 172.892333984375 and parameters: {'I_y_and_I_z_mu_0': 1.6431882054180522, 'I_y_and_I_z_mu_1': 0.2314063351163736, 'I_y_and_I_z_cov_0_0': 0.6879629002513312, 'I_y_and_I_z_cov_1_1': 0.9766130930840246, 'Q_mu': 791358002808460.1, 'Q_sigma': 4928980.4639613675, 'sigma_mu': 1.016445533762579, 'sigma_sigma': 1.999226226226806}. Best is trial 104 with value: 172.69869995117188.\n",
      "sample: 100%|██████████| 15000/15000 [00:06<00:00, 2209.91it/s, 31 steps of size 8.24e-02. acc. prob=0.95]\n",
      "[I 2024-01-08 06:21:06,240] Trial 460 finished with value: 172.8521728515625 and parameters: {'I_y_and_I_z_mu_0': 1.449633199218742, 'I_y_and_I_z_mu_1': 0.1639558942665582, 'I_y_and_I_z_cov_0_0': 0.6195968960367342, 'I_y_and_I_z_cov_1_1': 1.8871548402290097, 'Q_mu': 826298975197129.5, 'Q_sigma': 4725236.762237354, 'sigma_mu': 0.7757121107554822, 'sigma_sigma': 1.9307948424934795}. Best is trial 104 with value: 172.69869995117188.\n",
      "sample: 100%|██████████| 15000/15000 [00:06<00:00, 2161.83it/s, 31 steps of size 9.13e-02. acc. prob=0.91]\n",
      "[I 2024-01-08 06:21:14,728] Trial 461 finished with value: 172.77279663085938 and parameters: {'I_y_and_I_z_mu_0': 1.6890458994994013, 'I_y_and_I_z_mu_1': 0.2644193453257624, 'I_y_and_I_z_cov_0_0': 0.5618073762373453, 'I_y_and_I_z_cov_1_1': 1.0666879586053466, 'Q_mu': 840076506787521.1, 'Q_sigma': 5253446.95368017, 'sigma_mu': 1.0808003274976583, 'sigma_sigma': 1.9319028417199502}. Best is trial 104 with value: 172.69869995117188.\n",
      "sample: 100%|██████████| 15000/15000 [00:06<00:00, 2297.44it/s, 15 steps of size 1.07e-01. acc. prob=0.95]\n",
      "[I 2024-01-08 06:21:22,739] Trial 462 finished with value: 173.22027587890625 and parameters: {'I_y_and_I_z_mu_0': 1.6191540477210653, 'I_y_and_I_z_mu_1': 0.11089312603871421, 'I_y_and_I_z_cov_0_0': 0.9667608069794659, 'I_y_and_I_z_cov_1_1': 1.029464293957388, 'Q_mu': 813338872168681.8, 'Q_sigma': 4386623.419152445, 'sigma_mu': 1.045114327894377, 'sigma_sigma': 1.4647649389452857}. Best is trial 104 with value: 172.69869995117188.\n",
      "sample: 100%|██████████| 15000/15000 [00:06<00:00, 2325.67it/s, 31 steps of size 1.57e-01. acc. prob=0.92]\n",
      "[I 2024-01-08 06:21:30,705] Trial 463 finished with value: 173.35647583007812 and parameters: {'I_y_and_I_z_mu_0': 1.3470537807958471, 'I_y_and_I_z_mu_1': 1.1763509167479664, 'I_y_and_I_z_cov_0_0': 0.09535483919388854, 'I_y_and_I_z_cov_1_1': 1.1133535060984856, 'Q_mu': 780581402283339.2, 'Q_sigma': 5097376.3506293725, 'sigma_mu': 1.1028229291508012, 'sigma_sigma': 0.9930075521069207}. Best is trial 104 with value: 172.69869995117188.\n",
      "sample: 100%|██████████| 15000/15000 [00:06<00:00, 2175.66it/s, 31 steps of size 1.12e-01. acc. prob=0.91]\n",
      "[I 2024-01-08 06:21:39,125] Trial 464 finished with value: 173.18765258789062 and parameters: {'I_y_and_I_z_mu_0': 1.5577029476605955, 'I_y_and_I_z_mu_1': 0.2007606173914924, 'I_y_and_I_z_cov_0_0': 0.2598499054199754, 'I_y_and_I_z_cov_1_1': 1.0006037664499847, 'Q_mu': 718775825775787.6, 'Q_sigma': 4738926.406245119, 'sigma_mu': 1.8553481330967165, 'sigma_sigma': 1.3625536595295458}. Best is trial 104 with value: 172.69869995117188.\n",
      "sample: 100%|██████████| 15000/15000 [00:06<00:00, 2196.29it/s, 11 steps of size 8.45e-02. acc. prob=0.94]\n",
      "[I 2024-01-08 06:21:47,438] Trial 465 finished with value: 172.82839965820312 and parameters: {'I_y_and_I_z_mu_0': 1.8507668250587535, 'I_y_and_I_z_mu_1': 0.15082389038637037, 'I_y_and_I_z_cov_0_0': 0.49650406079763826, 'I_y_and_I_z_cov_1_1': 1.1453935237564425, 'Q_mu': 739761410585404.6, 'Q_sigma': 4948143.389774187, 'sigma_mu': 0.9839915056789679, 'sigma_sigma': 1.9704075523842284}. Best is trial 104 with value: 172.69869995117188.\n",
      "sample: 100%|██████████| 15000/15000 [00:06<00:00, 2329.18it/s, 15 steps of size 1.54e-01. acc. prob=0.92]\n",
      "[I 2024-01-08 06:21:55,491] Trial 466 finished with value: 173.36154174804688 and parameters: {'I_y_and_I_z_mu_0': 1.1452357252921197, 'I_y_and_I_z_mu_1': 0.6593738902200995, 'I_y_and_I_z_cov_0_0': 0.5889646988731532, 'I_y_and_I_z_cov_1_1': 1.5235344055981066, 'Q_mu': 693643142298468.2, 'Q_sigma': 4546475.6054258505, 'sigma_mu': 1.1535740683920856, 'sigma_sigma': 1.6082541563748138}. Best is trial 104 with value: 172.69869995117188.\n",
      "sample: 100%|██████████| 15000/15000 [00:07<00:00, 1893.89it/s, 63 steps of size 6.23e-02. acc. prob=0.94]\n",
      "[I 2024-01-08 06:22:04,812] Trial 467 finished with value: 172.8036346435547 and parameters: {'I_y_and_I_z_mu_0': 1.4906695181796812, 'I_y_and_I_z_mu_1': 0.047735643609649256, 'I_y_and_I_z_cov_0_0': 0.5295103159283218, 'I_y_and_I_z_cov_1_1': 0.9110900439170404, 'Q_mu': 849803040076699.5, 'Q_sigma': 3654469.496247706, 'sigma_mu': 1.2649230523592245, 'sigma_sigma': 1.060904079922573}. Best is trial 104 with value: 172.69869995117188.\n",
      "sample: 100%|██████████| 15000/15000 [00:06<00:00, 2417.80it/s, 15 steps of size 1.93e-01. acc. prob=0.93]\n",
      "[I 2024-01-08 06:22:12,784] Trial 468 finished with value: 174.18832397460938 and parameters: {'I_y_and_I_z_mu_0': 0.012882178318217696, 'I_y_and_I_z_mu_1': 0.7633928287400359, 'I_y_and_I_z_cov_0_0': 1.9127168390895495, 'I_y_and_I_z_cov_1_1': 1.7795329157361306, 'Q_mu': 756670509759095.0, 'Q_sigma': 5355070.0826842915, 'sigma_mu': 1.0698929121129743, 'sigma_sigma': 1.5161050502640832}. Best is trial 104 with value: 172.69869995117188.\n",
      "sample: 100%|██████████| 15000/15000 [00:07<00:00, 2121.93it/s, 15 steps of size 1.48e-01. acc. prob=0.93]\n",
      "[I 2024-01-08 06:22:21,443] Trial 469 finished with value: 173.55206298828125 and parameters: {'I_y_and_I_z_mu_0': 1.6599394466083364, 'I_y_and_I_z_mu_1': 0.2095630747188735, 'I_y_and_I_z_cov_0_0': 0.44463122161038016, 'I_y_and_I_z_cov_1_1': 0.43924050308516016, 'Q_mu': 426931389648515.0, 'Q_sigma': 8151585.355835717, 'sigma_mu': 1.5027024463645242, 'sigma_sigma': 1.6581290745252162}. Best is trial 104 with value: 172.69869995117188.\n",
      "sample: 100%|██████████| 15000/15000 [00:07<00:00, 2140.47it/s, 15 steps of size 1.34e-01. acc. prob=0.94]\n",
      "[I 2024-01-08 06:22:30,356] Trial 470 finished with value: 173.42767333984375 and parameters: {'I_y_and_I_z_mu_0': 1.0319334926408525, 'I_y_and_I_z_mu_1': 0.09602505506198028, 'I_y_and_I_z_cov_0_0': 0.643889426794688, 'I_y_and_I_z_cov_1_1': 0.9523178282311491, 'Q_mu': 827159202772131.4, 'Q_sigma': 3947218.3297921633, 'sigma_mu': 1.1183725915279228, 'sigma_sigma': 1.128640202481387}. Best is trial 104 with value: 172.69869995117188.\n",
      "sample: 100%|██████████| 15000/15000 [00:06<00:00, 2258.42it/s, 15 steps of size 1.36e-01. acc. prob=0.93]\n",
      "[I 2024-01-08 06:22:38,646] Trial 471 finished with value: 173.43304443359375 and parameters: {'I_y_and_I_z_mu_0': 1.594695007741875, 'I_y_and_I_z_mu_1': 0.010466992081830391, 'I_y_and_I_z_cov_0_0': 0.5588598626712906, 'I_y_and_I_z_cov_1_1': 1.0648487268890514, 'Q_mu': 489211223458620.6, 'Q_sigma': 7713663.928297242, 'sigma_mu': 1.2129229039726275, 'sigma_sigma': 1.8979152828813781}. Best is trial 104 with value: 172.69869995117188.\n",
      "sample: 100%|██████████| 15000/15000 [00:05<00:00, 2504.93it/s, 11 steps of size 1.43e-01. acc. prob=0.89]\n",
      "[I 2024-01-08 06:22:46,219] Trial 472 finished with value: 174.11190795898438 and parameters: {'I_y_and_I_z_mu_0': 0.10075578722281375, 'I_y_and_I_z_mu_1': 0.27452934825736247, 'I_y_and_I_z_cov_0_0': 1.0806299456113586, 'I_y_and_I_z_cov_1_1': 1.118052190191014, 'Q_mu': 407081554580678.75, 'Q_sigma': 8005294.510618348, 'sigma_mu': 1.624474874809757, 'sigma_sigma': 1.3373694447744524}. Best is trial 104 with value: 172.69869995117188.\n",
      "sample: 100%|██████████| 15000/15000 [00:05<00:00, 2589.59it/s, 31 steps of size 1.36e-01. acc. prob=0.94]\n",
      "[I 2024-01-08 06:22:53,500] Trial 473 finished with value: 173.16177368164062 and parameters: {'I_y_and_I_z_mu_0': 1.5402788484407455, 'I_y_and_I_z_mu_1': 0.5754511216597328, 'I_y_and_I_z_cov_0_0': 0.49200976381251005, 'I_y_and_I_z_cov_1_1': 0.572023792472311, 'Q_mu': 547153642387060.2, 'Q_sigma': 5086686.522675725, 'sigma_mu': 1.4198397290786038, 'sigma_sigma': 1.9934916995330467}. Best is trial 104 with value: 172.69869995117188.\n",
      "sample: 100%|██████████| 15000/15000 [00:05<00:00, 2575.98it/s, 15 steps of size 1.55e-01. acc. prob=0.91]\n",
      "[I 2024-01-08 06:23:00,821] Trial 474 finished with value: 172.93472290039062 and parameters: {'I_y_and_I_z_mu_0': 1.7472600880439995, 'I_y_and_I_z_mu_1': 1.5774554485963117, 'I_y_and_I_z_cov_0_0': 0.3867819876061369, 'I_y_and_I_z_cov_1_1': 1.202457672564098, 'Q_mu': 453066263590565.25, 'Q_sigma': 4223857.120711305, 'sigma_mu': 1.179837772572542, 'sigma_sigma': 1.858774452280643}. Best is trial 104 with value: 172.69869995117188.\n",
      "sample: 100%|██████████| 15000/15000 [00:06<00:00, 2194.62it/s, 15 steps of size 7.11e-02. acc. prob=0.95]\n",
      "[I 2024-01-08 06:23:09,151] Trial 475 finished with value: 172.70504760742188 and parameters: {'I_y_and_I_z_mu_0': 1.6214039893154235, 'I_y_and_I_z_mu_1': 0.3049111501857493, 'I_y_and_I_z_cov_0_0': 0.6061518592629812, 'I_y_and_I_z_cov_1_1': 1.2367641925273292, 'Q_mu': 856519226776390.0, 'Q_sigma': 4760991.239100936, 'sigma_mu': 1.0225725946986812, 'sigma_sigma': 1.9632390733158376}. Best is trial 104 with value: 172.69869995117188.\n",
      "sample: 100%|██████████| 15000/15000 [00:05<00:00, 2587.12it/s, 31 steps of size 1.27e-01. acc. prob=0.93]\n",
      "[I 2024-01-08 06:23:16,433] Trial 476 finished with value: 173.25411987304688 and parameters: {'I_y_and_I_z_mu_0': 1.639659041969156, 'I_y_and_I_z_mu_1': 0.3318620317553316, 'I_y_and_I_z_cov_0_0': 0.728586568130038, 'I_y_and_I_z_cov_1_1': 1.2192142129066774, 'Q_mu': 680534395802201.6, 'Q_sigma': 6482894.437348805, 'sigma_mu': 1.0050416607467842, 'sigma_sigma': 1.9542590008234615}. Best is trial 104 with value: 172.69869995117188.\n",
      "sample: 100%|██████████| 15000/15000 [00:05<00:00, 2578.67it/s, 15 steps of size 1.38e-01. acc. prob=0.95]\n",
      "[I 2024-01-08 06:23:23,711] Trial 477 finished with value: 173.93096923828125 and parameters: {'I_y_and_I_z_mu_0': 1.6787347321262658, 'I_y_and_I_z_mu_1': 0.29428906662603155, 'I_y_and_I_z_cov_0_0': 1.0294457792941318, 'I_y_and_I_z_cov_1_1': 1.2753298104208508, 'Q_mu': 209752083786990.38, 'Q_sigma': 4648794.643175562, 'sigma_mu': 1.036842487057162, 'sigma_sigma': 1.9236959265320646}. Best is trial 104 with value: 172.69869995117188.\n",
      "sample: 100%|██████████| 15000/15000 [00:06<00:00, 2496.28it/s, 31 steps of size 1.19e-01. acc. prob=0.90]\n",
      "[I 2024-01-08 06:23:31,393] Trial 478 finished with value: 172.83380126953125 and parameters: {'I_y_and_I_z_mu_0': 1.7210967498971899, 'I_y_and_I_z_mu_1': 0.614944967200639, 'I_y_and_I_z_cov_0_0': 0.6795962903601207, 'I_y_and_I_z_cov_1_1': 1.1600638608045808, 'Q_mu': 810312059651364.2, 'Q_sigma': 4808778.715273401, 'sigma_mu': 0.9311186720632747, 'sigma_sigma': 1.9977320801074496}. Best is trial 104 with value: 172.69869995117188.\n",
      "sample: 100%|██████████| 15000/15000 [00:06<00:00, 2405.66it/s, 31 steps of size 9.11e-02. acc. prob=0.93]\n",
      "[I 2024-01-08 06:23:39,142] Trial 479 finished with value: 172.91824340820312 and parameters: {'I_y_and_I_z_mu_0': 1.6082999147859178, 'I_y_and_I_z_mu_1': 0.06702119431320952, 'I_y_and_I_z_cov_0_0': 0.7942032821821672, 'I_y_and_I_z_cov_1_1': 1.2365549175371715, 'Q_mu': 864900975737876.5, 'Q_sigma': 4433132.780546974, 'sigma_mu': 1.23315677256492, 'sigma_sigma': 1.9507837785247057}. Best is trial 104 with value: 172.69869995117188.\n",
      "sample: 100%|██████████| 15000/15000 [00:06<00:00, 2436.85it/s, 15 steps of size 1.49e-01. acc. prob=0.92]\n",
      "[I 2024-01-08 06:23:46,875] Trial 480 finished with value: 173.232177734375 and parameters: {'I_y_and_I_z_mu_0': 1.6416567922508867, 'I_y_and_I_z_mu_1': 0.3531705511264522, 'I_y_and_I_z_cov_0_0': 0.6178616340077226, 'I_y_and_I_z_cov_1_1': 1.0178447686371859, 'Q_mu': 474381084219725.2, 'Q_sigma': 4151808.8308316353, 'sigma_mu': 1.5553072835305723, 'sigma_sigma': 1.905191384332852}. Best is trial 104 with value: 172.69869995117188.\n",
      "sample: 100%|██████████| 15000/15000 [00:07<00:00, 1982.99it/s, 31 steps of size 5.94e-02. acc. prob=0.94] \n",
      "[I 2024-01-08 06:23:55,977] Trial 481 finished with value: 172.8135528564453 and parameters: {'I_y_and_I_z_mu_0': 1.581406960947953, 'I_y_and_I_z_mu_1': 0.1327182891192393, 'I_y_and_I_z_cov_0_0': 0.5931548861035623, 'I_y_and_I_z_cov_1_1': 1.1899694588506402, 'Q_mu': 980823529199957.6, 'Q_sigma': 4615062.3911028, 'sigma_mu': 1.1366065568735197, 'sigma_sigma': 1.5846076222948968}. Best is trial 104 with value: 172.69869995117188.\n",
      "sample: 100%|██████████| 15000/15000 [00:06<00:00, 2272.10it/s, 15 steps of size 1.20e-01. acc. prob=0.90]\n",
      "[I 2024-01-08 06:24:04,172] Trial 482 finished with value: 172.73532104492188 and parameters: {'I_y_and_I_z_mu_0': 1.7820747400202432, 'I_y_and_I_z_mu_1': 0.8882225905240376, 'I_y_and_I_z_cov_0_0': 0.6445070481529219, 'I_y_and_I_z_cov_1_1': 1.2581550223793074, 'Q_mu': 782042703346003.1, 'Q_sigma': 3439973.494333779, 'sigma_mu': 1.0900010176419843, 'sigma_sigma': 1.957915495872927}. Best is trial 104 with value: 172.69869995117188.\n",
      "sample: 100%|██████████| 15000/15000 [00:06<00:00, 2337.63it/s, 31 steps of size 9.86e-02. acc. prob=0.93]\n",
      "[I 2024-01-08 06:24:12,091] Trial 483 finished with value: 172.8513641357422 and parameters: {'I_y_and_I_z_mu_0': 1.617561896764209, 'I_y_and_I_z_mu_1': 0.30222695736570904, 'I_y_and_I_z_cov_0_0': 0.577748795822977, 'I_y_and_I_z_cov_1_1': 1.302278857863484, 'Q_mu': 715196018977633.9, 'Q_sigma': 4875787.845338627, 'sigma_mu': 1.1751336429810355, 'sigma_sigma': 0.4125517924826435}. Best is trial 104 with value: 172.69869995117188.\n",
      "sample: 100%|██████████| 15000/15000 [00:06<00:00, 2257.43it/s, 15 steps of size 8.26e-02. acc. prob=0.91]\n",
      "[I 2024-01-08 06:24:20,292] Trial 484 finished with value: 172.71954345703125 and parameters: {'I_y_and_I_z_mu_0': 1.561401989503598, 'I_y_and_I_z_mu_1': 0.250920590219155, 'I_y_and_I_z_cov_0_0': 0.6175339556644186, 'I_y_and_I_z_cov_1_1': 1.5826764294167233, 'Q_mu': 880347388991500.6, 'Q_sigma': 4361843.45126512, 'sigma_mu': 0.994600095298667, 'sigma_sigma': 1.8857735701505423}. Best is trial 104 with value: 172.69869995117188.\n",
      "sample: 100%|██████████| 15000/15000 [00:06<00:00, 2189.35it/s, 31 steps of size 8.41e-02. acc. prob=0.94]\n",
      "[I 2024-01-08 06:24:28,641] Trial 485 finished with value: 172.84588623046875 and parameters: {'I_y_and_I_z_mu_0': 1.5384455635505356, 'I_y_and_I_z_mu_1': 0.24605177150289367, 'I_y_and_I_z_cov_0_0': 0.7198321807676573, 'I_y_and_I_z_cov_1_1': 1.5018674026754657, 'Q_mu': 876281741826015.8, 'Q_sigma': 3840887.2870811783, 'sigma_mu': 0.9502463654182821, 'sigma_sigma': 1.8521933415215996}. Best is trial 104 with value: 172.69869995117188.\n",
      "sample: 100%|██████████| 15000/15000 [00:05<00:00, 2624.35it/s, 15 steps of size 2.00e-01. acc. prob=0.92]\n",
      "[I 2024-01-08 06:24:35,978] Trial 486 finished with value: 173.71499633789062 and parameters: {'I_y_and_I_z_mu_0': 0.7146070901547169, 'I_y_and_I_z_mu_1': 0.1965078042650089, 'I_y_and_I_z_cov_0_0': 0.6201858039677917, 'I_y_and_I_z_cov_1_1': 1.6326938673996125, 'Q_mu': 836819171228715.5, 'Q_sigma': 4300217.88148644, 'sigma_mu': 1.012846054894757, 'sigma_sigma': 1.8820355657571528}. Best is trial 104 with value: 172.69869995117188.\n",
      "sample: 100%|██████████| 15000/15000 [00:07<00:00, 2107.04it/s, 15 steps of size 1.87e-01. acc. prob=0.93]\n",
      "[I 2024-01-08 06:24:44,619] Trial 487 finished with value: 173.64849853515625 and parameters: {'I_y_and_I_z_mu_0': 0.8189840331945202, 'I_y_and_I_z_mu_1': 0.16765085737191088, 'I_y_and_I_z_cov_0_0': 0.6755812357675522, 'I_y_and_I_z_cov_1_1': 1.5526238802468617, 'Q_mu': 853693237720613.0, 'Q_sigma': 4413088.5647154385, 'sigma_mu': 0.9088377209408203, 'sigma_sigma': 1.6372176502033526}. Best is trial 104 with value: 172.69869995117188.\n",
      "sample: 100%|██████████| 15000/15000 [00:05<00:00, 2580.59it/s, 15 steps of size 1.57e-01. acc. prob=0.93]\n",
      "[I 2024-01-08 06:24:51,899] Trial 488 finished with value: 173.38125610351562 and parameters: {'I_y_and_I_z_mu_0': 1.5640651456535817, 'I_y_and_I_z_mu_1': 0.089919799981797, 'I_y_and_I_z_cov_0_0': 0.5340179107413233, 'I_y_and_I_z_cov_1_1': 1.6666576734405083, 'Q_mu': 337288757011171.1, 'Q_sigma': 4123305.2610571925, 'sigma_mu': 0.9625563947689082, 'sigma_sigma': 1.2094943432390441}. Best is trial 104 with value: 172.69869995117188.\n",
      "sample: 100%|██████████| 15000/15000 [00:06<00:00, 2342.95it/s, 15 steps of size 8.82e-02. acc. prob=0.95]\n",
      "[I 2024-01-08 06:24:59,783] Trial 489 finished with value: 173.11544799804688 and parameters: {'I_y_and_I_z_mu_0': 1.0622697452756797, 'I_y_and_I_z_mu_1': 0.045643917144518834, 'I_y_and_I_z_cov_0_0': 0.497712520698892, 'I_y_and_I_z_cov_1_1': 1.5369622549193913, 'Q_mu': 730141444772710.9, 'Q_sigma': 533692.783001814, 'sigma_mu': 0.9909538542027762, 'sigma_sigma': 1.0207680659156972}. Best is trial 104 with value: 172.69869995117188.\n",
      "sample: 100%|██████████| 15000/15000 [00:05<00:00, 2503.42it/s, 31 steps of size 1.14e-01. acc. prob=0.92]\n",
      "[I 2024-01-08 06:25:07,900] Trial 490 finished with value: 173.20294189453125 and parameters: {'I_y_and_I_z_mu_0': 1.2807620297712574, 'I_y_and_I_z_mu_1': 0.25812074503973137, 'I_y_and_I_z_cov_0_0': 0.57556736071444, 'I_y_and_I_z_cov_1_1': 1.5703318805365591, 'Q_mu': 816489743333861.6, 'Q_sigma': 6827550.577665763, 'sigma_mu': 0.8111893480568808, 'sigma_sigma': 1.5338086400128768}. Best is trial 104 with value: 172.69869995117188.\n",
      "sample: 100%|██████████| 15000/15000 [00:06<00:00, 2489.07it/s, 15 steps of size 9.64e-02. acc. prob=0.94]\n",
      "[I 2024-01-08 06:25:15,436] Trial 491 finished with value: 173.14202880859375 and parameters: {'I_y_and_I_z_mu_0': 1.2305914188380327, 'I_y_and_I_z_mu_1': 0.12772896342686202, 'I_y_and_I_z_cov_0_0': 0.6397723018909571, 'I_y_and_I_z_cov_1_1': 1.1171295434034652, 'Q_mu': 882380900734246.4, 'Q_sigma': 3991735.6789378477, 'sigma_mu': 1.0401719037570998, 'sigma_sigma': 1.8203105246034483}. Best is trial 104 with value: 172.69869995117188.\n",
      "sample: 100%|██████████| 15000/15000 [00:06<00:00, 2474.85it/s, 31 steps of size 9.71e-02. acc. prob=0.92]\n",
      "[I 2024-01-08 06:25:22,920] Trial 492 finished with value: 172.9483642578125 and parameters: {'I_y_and_I_z_mu_0': 0.8877333629833885, 'I_y_and_I_z_mu_1': 0.5091240628413392, 'I_y_and_I_z_cov_0_0': 0.30050581375437047, 'I_y_and_I_z_cov_1_1': 1.6072844693163582, 'Q_mu': 701039248639541.4, 'Q_sigma': 2311889.640978948, 'sigma_mu': 1.4706656825964834, 'sigma_sigma': 1.4591807569271575}. Best is trial 104 with value: 172.69869995117188.\n",
      "sample: 100%|██████████| 15000/15000 [00:05<00:00, 2594.32it/s, 31 steps of size 1.39e-01. acc. prob=0.92]\n",
      "[I 2024-01-08 06:25:30,221] Trial 493 finished with value: 173.23460388183594 and parameters: {'I_y_and_I_z_mu_0': 1.496799311512753, 'I_y_and_I_z_mu_1': 0.9574447541229668, 'I_y_and_I_z_cov_0_0': 0.7583129832069215, 'I_y_and_I_z_cov_1_1': 1.8271817110305135, 'Q_mu': 755787788452753.1, 'Q_sigma': 4509892.427981985, 'sigma_mu': 1.0631396178295311, 'sigma_sigma': 1.6718679627435284}. Best is trial 104 with value: 172.69869995117188.\n",
      "sample: 100%|██████████| 15000/15000 [00:05<00:00, 2579.69it/s, 31 steps of size 1.33e-01. acc. prob=0.90]\n",
      "[I 2024-01-08 06:25:37,567] Trial 494 finished with value: 173.21160888671875 and parameters: {'I_y_and_I_z_mu_0': 1.0801873974377834, 'I_y_and_I_z_mu_1': 0.22033903873800276, 'I_y_and_I_z_cov_0_0': 0.4675069216761363, 'I_y_and_I_z_cov_1_1': 1.1820617807673528, 'Q_mu': 656047905476095.2, 'Q_sigma': 3315283.124208669, 'sigma_mu': 1.038240743845821, 'sigma_sigma': 0.8456287130719433}. Best is trial 104 with value: 172.69869995117188.\n",
      "sample: 100%|██████████| 15000/15000 [00:05<00:00, 2648.62it/s, 15 steps of size 1.73e-01. acc. prob=0.91]\n",
      "[I 2024-01-08 06:25:44,810] Trial 495 finished with value: 173.45391845703125 and parameters: {'I_y_and_I_z_mu_0': 1.466531789062998, 'I_y_and_I_z_mu_1': 0.037616318184217463, 'I_y_and_I_z_cov_0_0': 1.1378124758298456, 'I_y_and_I_z_cov_1_1': 1.0851607231101246, 'Q_mu': 858053960243971.6, 'Q_sigma': 4288416.303622826, 'sigma_mu': 0.9680871836581568, 'sigma_sigma': 0.9056364486325779}. Best is trial 104 with value: 172.69869995117188.\n",
      "sample: 100%|██████████| 15000/15000 [00:06<00:00, 2459.56it/s, 15 steps of size 1.03e-01. acc. prob=0.93]\n",
      "[I 2024-01-08 06:25:52,470] Trial 496 finished with value: 172.959716796875 and parameters: {'I_y_and_I_z_mu_0': 1.4080974617622388, 'I_y_and_I_z_mu_1': 0.1714623940853714, 'I_y_and_I_z_cov_0_0': 0.5504655607511331, 'I_y_and_I_z_cov_1_1': 1.570049623307379, 'Q_mu': 806859301768119.9, 'Q_sigma': 6226764.761902688, 'sigma_mu': 0.8727985039328154, 'sigma_sigma': 0.7227146750354931}. Best is trial 104 with value: 172.69869995117188.\n",
      "sample: 100%|██████████| 15000/15000 [00:05<00:00, 2527.35it/s, 15 steps of size 1.48e-01. acc. prob=0.93]\n",
      "[I 2024-01-08 06:25:59,908] Trial 497 finished with value: 173.383544921875 and parameters: {'I_y_and_I_z_mu_0': 1.1548283317503645, 'I_y_and_I_z_mu_1': 0.09006714048573837, 'I_y_and_I_z_cov_0_0': 0.42656202084897993, 'I_y_and_I_z_cov_1_1': 1.639746286657035, 'Q_mu': 366254901403413.6, 'Q_sigma': 3742997.844583342, 'sigma_mu': 1.78424030196331, 'sigma_sigma': 1.782693736938859}. Best is trial 104 with value: 172.69869995117188.\n",
      "sample: 100%|██████████| 15000/15000 [00:05<00:00, 2542.49it/s, 31 steps of size 1.36e-01. acc. prob=0.94]\n",
      "[I 2024-01-08 06:26:07,320] Trial 498 finished with value: 173.45880126953125 and parameters: {'I_y_and_I_z_mu_0': 1.5802905156856648, 'I_y_and_I_z_mu_1': 0.2596829941086852, 'I_y_and_I_z_cov_0_0': 0.17130414178665798, 'I_y_and_I_z_cov_1_1': 1.239404120497014, 'Q_mu': 883007948290569.2, 'Q_sigma': 4656911.064253939, 'sigma_mu': 1.3300022976419437, 'sigma_sigma': 1.9093637697117882}. Best is trial 104 with value: 172.69869995117188.\n",
      "sample: 100%|██████████| 15000/15000 [00:06<00:00, 2394.47it/s, 15 steps of size 1.10e-01. acc. prob=0.93]\n",
      "[I 2024-01-08 06:26:15,140] Trial 499 finished with value: 172.87306213378906 and parameters: {'I_y_and_I_z_mu_0': 1.9622754354251228, 'I_y_and_I_z_mu_1': 0.6947508700134375, 'I_y_and_I_z_cov_0_0': 0.8930982452158123, 'I_y_and_I_z_cov_1_1': 1.9668799738967961, 'Q_mu': 835876160248597.0, 'Q_sigma': 4861658.674302197, 'sigma_mu': 0.7409002370612233, 'sigma_sigma': 1.2894332130239756}. Best is trial 104 with value: 172.69869995117188.\n",
      "sample: 100%|██████████| 15000/15000 [00:06<00:00, 2439.43it/s, 31 steps of size 1.39e-01. acc. prob=0.94]\n",
      "[I 2024-01-08 06:26:23,038] Trial 500 finished with value: 173.46511840820312 and parameters: {'I_y_and_I_z_mu_0': 1.54426882469155, 'I_y_and_I_z_mu_1': 0.31863164036553104, 'I_y_and_I_z_cov_0_0': 0.18049934663306832, 'I_y_and_I_z_cov_1_1': 1.942187356197328, 'Q_mu': 788548669273536.4, 'Q_sigma': 3130505.1349945925, 'sigma_mu': 1.098727399715056, 'sigma_sigma': 0.647149027937421}. Best is trial 104 with value: 172.69869995117188.\n",
      "sample: 100%|██████████| 15000/15000 [00:06<00:00, 2354.34it/s, 31 steps of size 1.00e-01. acc. prob=0.93]\n",
      "[I 2024-01-08 06:26:30,929] Trial 501 finished with value: 172.87364196777344 and parameters: {'I_y_and_I_z_mu_0': 1.6865522345887025, 'I_y_and_I_z_mu_1': 0.21643833362161788, 'I_y_and_I_z_cov_0_0': 0.599837297940288, 'I_y_and_I_z_cov_1_1': 1.7750219679734642, 'Q_mu': 674987341039636.6, 'Q_sigma': 5023956.715237118, 'sigma_mu': 0.9947379966434389, 'sigma_sigma': 1.3804429577402733}. Best is trial 104 with value: 172.69869995117188.\n",
      "sample: 100%|██████████| 15000/15000 [00:06<00:00, 2282.02it/s, 15 steps of size 8.95e-02. acc. prob=0.95]\n",
      "[I 2024-01-08 06:26:39,078] Trial 502 finished with value: 172.73391723632812 and parameters: {'I_y_and_I_z_mu_0': 1.511914194299094, 'I_y_and_I_z_mu_1': 1.322988591323915, 'I_y_and_I_z_cov_0_0': 0.5125561732491863, 'I_y_and_I_z_cov_1_1': 1.4621888343236873, 'Q_mu': 912177999473468.5, 'Q_sigma': 4477508.460232359, 'sigma_mu': 1.2997204330095036, 'sigma_sigma': 1.5768847606924143}. Best is trial 104 with value: 172.69869995117188.\n",
      "sample: 100%|██████████| 15000/15000 [00:06<00:00, 2430.84it/s, 31 steps of size 1.21e-01. acc. prob=0.94]\n",
      "[I 2024-01-08 06:26:46,839] Trial 503 finished with value: 173.259765625 and parameters: {'I_y_and_I_z_mu_0': 1.607182358138283, 'I_y_and_I_z_mu_1': 0.12801921919052667, 'I_y_and_I_z_cov_0_0': 0.6804767151175616, 'I_y_and_I_z_cov_1_1': 0.8425840782460121, 'Q_mu': 580801253003822.4, 'Q_sigma': 5510588.0313046565, 'sigma_mu': 1.600020829602529, 'sigma_sigma': 1.7106177884999088}. Best is trial 104 with value: 172.69869995117188.\n",
      "sample: 100%|██████████| 15000/15000 [00:05<00:00, 2578.69it/s, 15 steps of size 1.81e-01. acc. prob=0.91]\n",
      "[I 2024-01-08 06:26:54,190] Trial 504 finished with value: 173.4864959716797 and parameters: {'I_y_and_I_z_mu_0': 1.435388796737129, 'I_y_and_I_z_mu_1': 0.37128085730373617, 'I_y_and_I_z_cov_0_0': 0.9919382535674592, 'I_y_and_I_z_cov_1_1': 0.9513669234842764, 'Q_mu': 736920419439661.1, 'Q_sigma': 4117218.9028164437, 'sigma_mu': 1.1208645516535312, 'sigma_sigma': 1.2292172304812559}. Best is trial 104 with value: 172.69869995117188.\n",
      "sample: 100%|██████████| 15000/15000 [00:06<00:00, 2423.80it/s, 31 steps of size 9.88e-02. acc. prob=0.94]\n",
      "[I 2024-01-08 06:27:02,165] Trial 505 finished with value: 173.09707641601562 and parameters: {'I_y_and_I_z_mu_0': 1.652655151255766, 'I_y_and_I_z_mu_1': 0.04643213404716595, 'I_y_and_I_z_cov_0_0': 0.8421696478233307, 'I_y_and_I_z_cov_1_1': 1.143160501633606, 'Q_mu': 768140937524526.5, 'Q_sigma': 4740270.506567608, 'sigma_mu': 1.3838342917899726, 'sigma_sigma': 1.6151321638660432}. Best is trial 104 with value: 172.69869995117188.\n",
      "sample: 100%|██████████| 15000/15000 [00:05<00:00, 2668.14it/s, 15 steps of size 2.16e-01. acc. prob=0.94]\n",
      "[I 2024-01-08 06:27:09,320] Trial 506 finished with value: 174.0298309326172 and parameters: {'I_y_and_I_z_mu_0': 0.6477117256824925, 'I_y_and_I_z_mu_1': 1.3781576925853203, 'I_y_and_I_z_cov_0_0': 1.509256052524866, 'I_y_and_I_z_cov_1_1': 1.2757211068264058, 'Q_mu': 864195689231300.9, 'Q_sigma': 4336409.612531358, 'sigma_mu': 1.0701143655204977, 'sigma_sigma': 1.1048490131474378}. Best is trial 104 with value: 172.69869995117188.\n",
      "sample: 100%|██████████| 15000/15000 [00:06<00:00, 2316.33it/s, 31 steps of size 9.69e-02. acc. prob=0.93]\n",
      "[I 2024-01-08 06:27:17,327] Trial 507 finished with value: 172.79257202148438 and parameters: {'I_y_and_I_z_mu_0': 1.5719320358327147, 'I_y_and_I_z_mu_1': 0.28685109025608335, 'I_y_and_I_z_cov_0_0': 0.546906902500131, 'I_y_and_I_z_cov_1_1': 1.670807939027224, 'Q_mu': 707361271296541.2, 'Q_sigma': 5118481.653278434, 'sigma_mu': 0.6596252774240472, 'sigma_sigma': 1.8797397357456038}. Best is trial 104 with value: 172.69869995117188.\n",
      "sample: 100%|██████████| 15000/15000 [00:05<00:00, 2597.60it/s, 15 steps of size 1.64e-01. acc. prob=0.92]\n",
      "[I 2024-01-08 06:27:24,623] Trial 508 finished with value: 173.543212890625 and parameters: {'I_y_and_I_z_mu_0': 0.9749030111755506, 'I_y_and_I_z_mu_1': 0.7336636685235516, 'I_y_and_I_z_cov_0_0': 0.6102207101540897, 'I_y_and_I_z_cov_1_1': 1.4287604964537124, 'Q_mu': 894864936939000.2, 'Q_sigma': 7190541.843171509, 'sigma_mu': 1.0132777315148236, 'sigma_sigma': 1.8381475246676047}. Best is trial 104 with value: 172.69869995117188.\n",
      "sample: 100%|██████████| 15000/15000 [00:06<00:00, 2404.58it/s, 31 steps of size 9.95e-02. acc. prob=0.92]\n",
      "[I 2024-01-08 06:27:32,419] Trial 509 finished with value: 172.84231567382812 and parameters: {'I_y_and_I_z_mu_0': 1.524005040915141, 'I_y_and_I_z_mu_1': 0.01103565769678322, 'I_y_and_I_z_cov_0_0': 0.46756659124278066, 'I_y_and_I_z_cov_1_1': 1.0565496175403601, 'Q_mu': 609005880935220.4, 'Q_sigma': 5304826.081690159, 'sigma_mu': 1.1330650582232682, 'sigma_sigma': 1.6507655972912962}. Best is trial 104 with value: 172.69869995117188.\n",
      "sample: 100%|██████████| 15000/15000 [00:05<00:00, 2653.99it/s, 15 steps of size 1.78e-01. acc. prob=0.93]\n",
      "[I 2024-01-08 06:27:39,843] Trial 510 finished with value: 173.56912231445312 and parameters: {'I_y_and_I_z_mu_0': 1.6217076860611823, 'I_y_and_I_z_mu_1': 1.0781620966325316, 'I_y_and_I_z_cov_0_0': 1.3596539668838503, 'I_y_and_I_z_cov_1_1': 1.6149510699913763, 'Q_mu': 831871000927865.6, 'Q_sigma': 4665008.24042593, 'sigma_mu': 0.9107875021913379, 'sigma_sigma': 1.797164034707727}. Best is trial 104 with value: 172.69869995117188.\n",
      "sample: 100%|██████████| 15000/15000 [00:06<00:00, 2158.58it/s, 31 steps of size 6.31e-02. acc. prob=0.94]\n",
      "[I 2024-01-08 06:27:48,372] Trial 511 finished with value: 172.74009704589844 and parameters: {'I_y_and_I_z_mu_0': 1.469382648331787, 'I_y_and_I_z_mu_1': 0.1631165157017104, 'I_y_and_I_z_cov_0_0': 0.5715699457344562, 'I_y_and_I_z_cov_1_1': 1.3315391146360835, 'Q_mu': 939723839206889.1, 'Q_sigma': 4941308.173806746, 'sigma_mu': 1.077523212473836, 'sigma_sigma': 1.4343502466188451}. Best is trial 104 with value: 172.69869995117188.\n",
      "sample: 100%|██████████| 15000/15000 [00:06<00:00, 2356.34it/s, 15 steps of size 9.48e-02. acc. prob=0.93]\n",
      "[I 2024-01-08 06:27:56,288] Trial 512 finished with value: 172.79507446289062 and parameters: {'I_y_and_I_z_mu_0': 1.553760748915961, 'I_y_and_I_z_mu_1': 0.08269335617550395, 'I_y_and_I_z_cov_0_0': 0.5199492170249221, 'I_y_and_I_z_cov_1_1': 1.7064156916829591, 'Q_mu': 632757220643635.6, 'Q_sigma': 4538071.606665137, 'sigma_mu': 1.1611911804245705, 'sigma_sigma': 1.7355821514417649}. Best is trial 104 with value: 172.69869995117188.\n",
      "sample: 100%|██████████| 15000/15000 [00:06<00:00, 2465.89it/s, 15 steps of size 1.12e-01. acc. prob=0.93]\n",
      "[I 2024-01-08 06:28:03,922] Trial 513 finished with value: 172.93052673339844 and parameters: {'I_y_and_I_z_mu_0': 1.7320704427789493, 'I_y_and_I_z_mu_1': 0.22816858573111481, 'I_y_and_I_z_cov_0_0': 0.6466142001906814, 'I_y_and_I_z_cov_1_1': 0.9269158337479182, 'Q_mu': 688694599363827.5, 'Q_sigma': 5273396.965164817, 'sigma_mu': 1.1059012163803261, 'sigma_sigma': 1.69681068597224}. Best is trial 104 with value: 172.69869995117188.\n",
      "sample: 100%|██████████| 15000/15000 [00:06<00:00, 2242.09it/s, 63 steps of size 8.10e-02. acc. prob=0.94]\n",
      "[I 2024-01-08 06:28:12,162] Trial 514 finished with value: 172.78323364257812 and parameters: {'I_y_and_I_z_mu_0': 1.3794185613058576, 'I_y_and_I_z_mu_1': 0.26329429338441535, 'I_y_and_I_z_cov_0_0': 0.5925594618995287, 'I_y_and_I_z_cov_1_1': 0.9973529226656677, 'Q_mu': 970499075866936.8, 'Q_sigma': 4001118.253361725, 'sigma_mu': 1.9648590382947924, 'sigma_sigma': 1.5464423385247745}. Best is trial 104 with value: 172.69869995117188.\n",
      "sample: 100%|██████████| 15000/15000 [00:06<00:00, 2380.68it/s, 31 steps of size 1.03e-01. acc. prob=0.93]\n",
      "[I 2024-01-08 06:28:20,318] Trial 515 finished with value: 173.60064697265625 and parameters: {'I_y_and_I_z_mu_0': 0.9622377799083184, 'I_y_and_I_z_mu_1': 0.197523878595881, 'I_y_and_I_z_cov_0_0': 0.07455012460066512, 'I_y_and_I_z_cov_1_1': 1.4899244745818283, 'Q_mu': 850211375297379.2, 'Q_sigma': 8620366.243570007, 'sigma_mu': 1.0300900668662545, 'sigma_sigma': 1.9260281369754988}. Best is trial 104 with value: 172.69869995117188.\n",
      "sample: 100%|██████████| 15000/15000 [00:05<00:00, 2519.01it/s, 15 steps of size 1.34e-01. acc. prob=0.94]\n",
      "[I 2024-01-08 06:28:27,827] Trial 516 finished with value: 173.3975830078125 and parameters: {'I_y_and_I_z_mu_0': 1.5856705650781775, 'I_y_and_I_z_mu_1': 0.010236504310793367, 'I_y_and_I_z_cov_0_0': 0.35147024327000687, 'I_y_and_I_z_cov_1_1': 1.2117521866300556, 'Q_mu': 492569358433408.56, 'Q_sigma': 9158767.88682393, 'sigma_mu': 0.8058499571886657, 'sigma_sigma': 1.3219527425761264}. Best is trial 104 with value: 172.69869995117188.\n",
      "sample: 100%|██████████| 15000/15000 [00:05<00:00, 2645.41it/s, 15 steps of size 2.09e-01. acc. prob=0.93]\n",
      "[I 2024-01-08 06:28:35,085] Trial 517 finished with value: 173.6211700439453 and parameters: {'I_y_and_I_z_mu_0': 1.6465885030351632, 'I_y_and_I_z_mu_1': 0.7792860542400841, 'I_y_and_I_z_cov_0_0': 0.7026589686460983, 'I_y_and_I_z_cov_1_1': 0.17104006414255346, 'Q_mu': 795414530025127.1, 'Q_sigma': 4809189.958713164, 'sigma_mu': 1.1466862351040235, 'sigma_sigma': 1.7713717300089624}. Best is trial 104 with value: 172.69869995117188.\n",
      "sample: 100%|██████████| 15000/15000 [00:06<00:00, 2444.22it/s, 31 steps of size 1.05e-01. acc. prob=0.94]\n",
      "[I 2024-01-08 06:28:42,782] Trial 518 finished with value: 172.89491271972656 and parameters: {'I_y_and_I_z_mu_0': 1.50168634032527, 'I_y_and_I_z_mu_1': 0.48129037077922965, 'I_y_and_I_z_cov_0_0': 0.5383637977173442, 'I_y_and_I_z_cov_1_1': 1.267801253369809, 'Q_mu': 660620902388299.8, 'Q_sigma': 4332291.2367193, 'sigma_mu': 1.2633301820759852, 'sigma_sigma': 1.6203521063807558}. Best is trial 104 with value: 172.69869995117188.\n",
      "sample: 100%|██████████| 15000/15000 [00:07<00:00, 2127.47it/s, 15 steps of size 6.71e-02. acc. prob=0.93]\n",
      "[I 2024-01-08 06:28:51,429] Trial 519 finished with value: 173.01837158203125 and parameters: {'I_y_and_I_z_mu_0': 1.6730898909358314, 'I_y_and_I_z_mu_1': 0.13423704267303302, 'I_y_and_I_z_cov_0_0': 0.6208054230347569, 'I_y_and_I_z_cov_1_1': 1.3577192093826718, 'Q_mu': 923702917569165.4, 'Q_sigma': 3540896.2690793397, 'sigma_mu': 1.0643071749144009, 'sigma_sigma': 0.20664288184088309}. Best is trial 104 with value: 172.69869995117188.\n",
      "sample: 100%|██████████| 15000/15000 [00:07<00:00, 2084.97it/s, 11 steps of size 1.59e-01. acc. prob=0.93]\n",
      "[I 2024-01-08 06:29:00,352] Trial 520 finished with value: 173.47265625 and parameters: {'I_y_and_I_z_mu_0': 1.3238872088304274, 'I_y_and_I_z_mu_1': 0.3400242849049051, 'I_y_and_I_z_cov_0_0': 0.9448471480755406, 'I_y_and_I_z_cov_1_1': 1.3065253269914259, 'Q_mu': 871440466172533.4, 'Q_sigma': 5520348.641911458, 'sigma_mu': 1.098499510691247, 'sigma_sigma': 1.6713512679961608}. Best is trial 104 with value: 172.69869995117188.\n",
      "sample: 100%|██████████| 15000/15000 [00:05<00:00, 2630.32it/s, 15 steps of size 1.63e-01. acc. prob=0.93]\n",
      "[I 2024-01-08 06:29:07,628] Trial 521 finished with value: 173.45155334472656 and parameters: {'I_y_and_I_z_mu_0': 1.5991090852167147, 'I_y_and_I_z_mu_1': 0.4144759391918409, 'I_y_and_I_z_cov_0_0': 1.1608868283596625, 'I_y_and_I_z_cov_1_1': 1.1521373394982857, 'Q_mu': 822634986704901.8, 'Q_sigma': 5080848.585444608, 'sigma_mu': 0.21060601698687875, 'sigma_sigma': 1.1546903485655864}. Best is trial 104 with value: 172.69869995117188.\n",
      "sample: 100%|██████████| 15000/15000 [00:05<00:00, 2525.54it/s, 15 steps of size 1.53e-01. acc. prob=0.92]\n",
      "[I 2024-01-08 06:29:15,155] Trial 522 finished with value: 174.50408935546875 and parameters: {'I_y_and_I_z_mu_0': 1.5410513978450733, 'I_y_and_I_z_mu_1': 0.07616026694986075, 'I_y_and_I_z_cov_0_0': 0.40585842981246056, 'I_y_and_I_z_cov_1_1': 1.6014427869418775, 'Q_mu': 48964904457815.25, 'Q_sigma': 4592049.534166307, 'sigma_mu': 1.2128125749677192, 'sigma_sigma': 1.4862501865510567}. Best is trial 104 with value: 172.69869995117188.\n",
      "sample: 100%|██████████| 15000/15000 [00:05<00:00, 2542.61it/s, 31 steps of size 1.27e-01. acc. prob=0.94]\n",
      "[I 2024-01-08 06:29:22,598] Trial 523 finished with value: 173.207763671875 and parameters: {'I_y_and_I_z_mu_0': 1.9059642628958335, 'I_y_and_I_z_mu_1': 0.29214169699058545, 'I_y_and_I_z_cov_0_0': 1.0634712613319395, 'I_y_and_I_z_cov_1_1': 1.7221361053098208, 'Q_mu': 719991064370335.8, 'Q_sigma': 4932847.332800912, 'sigma_mu': 1.3496276249353967, 'sigma_sigma': 1.0488652758099044}. Best is trial 104 with value: 172.69869995117188.\n",
      "sample: 100%|██████████| 15000/15000 [00:07<00:00, 2140.31it/s, 31 steps of size 6.67e-02. acc. prob=0.95]\n",
      "[I 2024-01-08 06:29:31,180] Trial 524 finished with value: 172.9032440185547 and parameters: {'I_y_and_I_z_mu_0': 1.7098951412428347, 'I_y_and_I_z_mu_1': 0.17934614864407325, 'I_y_and_I_z_cov_0_0': 0.4799696472862872, 'I_y_and_I_z_cov_1_1': 1.4141151757481512, 'Q_mu': 887715820989839.6, 'Q_sigma': 5734992.630342016, 'sigma_mu': 0.8381483011012519, 'sigma_sigma': 0.8050869699859511}. Best is trial 104 with value: 172.69869995117188.\n",
      "sample: 100%|██████████| 15000/15000 [00:06<00:00, 2493.30it/s, 15 steps of size 1.28e-01. acc. prob=0.94]\n",
      "[I 2024-01-08 06:29:38,783] Trial 525 finished with value: 173.6389617919922 and parameters: {'I_y_and_I_z_mu_0': 1.016587074962815, 'I_y_and_I_z_mu_1': 1.9929848704948936, 'I_y_and_I_z_cov_0_0': 0.5621993197040199, 'I_y_and_I_z_cov_1_1': 1.2479937835018322, 'Q_mu': 772469950155609.0, 'Q_sigma': 9990989.936071768, 'sigma_mu': 1.4313734758330154, 'sigma_sigma': 0.9283128004298744}. Best is trial 104 with value: 172.69869995117188.\n",
      "sample: 100%|██████████| 15000/15000 [00:05<00:00, 2538.95it/s, 15 steps of size 1.41e-01. acc. prob=0.93]\n",
      "[I 2024-01-08 06:29:46,509] Trial 526 finished with value: 173.34725952148438 and parameters: {'I_y_and_I_z_mu_0': 1.443127505198931, 'I_y_and_I_z_mu_1': 1.1130311761961345, 'I_y_and_I_z_cov_0_0': 0.658185376000746, 'I_y_and_I_z_cov_1_1': 1.076716385184681, 'Q_mu': 905528781661091.0, 'Q_sigma': 7925847.447270588, 'sigma_mu': 1.19272420122791, 'sigma_sigma': 0.9820731704867371}. Best is trial 104 with value: 172.69869995117188.\n",
      "sample: 100%|██████████| 15000/15000 [00:05<00:00, 2529.86it/s, 15 steps of size 1.29e-01. acc. prob=0.90]\n",
      "[I 2024-01-08 06:29:54,002] Trial 527 finished with value: 172.95045471191406 and parameters: {'I_y_and_I_z_mu_0': 1.6170740328075577, 'I_y_and_I_z_mu_1': 0.11113854211216827, 'I_y_and_I_z_cov_0_0': 0.5118119365526275, 'I_y_and_I_z_cov_1_1': 1.3797093860062368, 'Q_mu': 533110498964142.4, 'Q_sigma': 4742543.986468511, 'sigma_mu': 1.1386094186281954, 'sigma_sigma': 1.8102337729675988}. Best is trial 104 with value: 172.69869995117188.\n",
      "sample: 100%|██████████| 15000/15000 [00:06<00:00, 2253.17it/s, 15 steps of size 8.16e-02. acc. prob=0.94]\n",
      "[I 2024-01-08 06:30:02,237] Trial 528 finished with value: 172.81204223632812 and parameters: {'I_y_and_I_z_mu_0': 1.56927602739332, 'I_y_and_I_z_mu_1': 0.6104367974952288, 'I_y_and_I_z_cov_0_0': 0.4409977026968168, 'I_y_and_I_z_cov_1_1': 1.5167750012872572, 'Q_mu': 751863150234122.2, 'Q_sigma': 3827841.576518349, 'sigma_mu': 1.0440690955674456, 'sigma_sigma': 1.7315120512151383}. Best is trial 104 with value: 172.69869995117188.\n",
      "sample: 100%|██████████| 15000/15000 [00:05<00:00, 2674.67it/s, 15 steps of size 2.03e-01. acc. prob=0.93]\n",
      "[I 2024-01-08 06:30:09,419] Trial 529 finished with value: 173.57305908203125 and parameters: {'I_y_and_I_z_mu_0': 1.4976651262683873, 'I_y_and_I_z_mu_1': 1.164401412752997, 'I_y_and_I_z_cov_0_0': 1.2295068477727704, 'I_y_and_I_z_cov_1_1': 1.3245178932586095, 'Q_mu': 845591045249033.1, 'Q_sigma': 4213639.803980683, 'sigma_mu': 0.9705658141662524, 'sigma_sigma': 1.1882317486146459}. Best is trial 104 with value: 172.69869995117188.\n",
      "sample: 100%|██████████| 15000/15000 [00:05<00:00, 2811.14it/s, 15 steps of size 2.45e-01. acc. prob=0.90]\n",
      "[I 2024-01-08 06:30:16,329] Trial 530 finished with value: 173.86778259277344 and parameters: {'I_y_and_I_z_mu_0': 0.5731116486515232, 'I_y_and_I_z_mu_1': 0.24600818015272907, 'I_y_and_I_z_cov_0_0': 0.8019366749828923, 'I_y_and_I_z_cov_1_1': 1.2095980015624688, 'Q_mu': 959250254742388.2, 'Q_sigma': 1345879.6242165347, 'sigma_mu': 0.5547898379723769, 'sigma_sigma': 1.8682750647860096}. Best is trial 104 with value: 172.69869995117188.\n",
      "sample: 100%|██████████| 15000/15000 [00:05<00:00, 2555.68it/s, 15 steps of size 1.40e-01. acc. prob=0.92]\n",
      "[I 2024-01-08 06:30:23,949] Trial 531 finished with value: 173.23529052734375 and parameters: {'I_y_and_I_z_mu_0': 1.54108279602148, 'I_y_and_I_z_mu_1': 0.04094079225932077, 'I_y_and_I_z_cov_0_0': 0.5947935596878818, 'I_y_and_I_z_cov_1_1': 1.4438031731941126, 'Q_mu': 508752672527098.9, 'Q_sigma': 5396474.944137712, 'sigma_mu': 1.303732834988877, 'sigma_sigma': 1.9621399508875426}. Best is trial 104 with value: 172.69869995117188.\n",
      "sample: 100%|██████████| 15000/15000 [00:05<00:00, 2596.40it/s, 15 steps of size 1.52e-01. acc. prob=0.93]\n",
      "[I 2024-01-08 06:30:31,269] Trial 532 finished with value: 173.30282592773438 and parameters: {'I_y_and_I_z_mu_0': 1.647684397394825, 'I_y_and_I_z_mu_1': 0.6478885810243014, 'I_y_and_I_z_cov_0_0': 0.5563001689651144, 'I_y_and_I_z_cov_1_1': 1.2851316141017646, 'Q_mu': 409483653298970.7, 'Q_sigma': 4388046.943325655, 'sigma_mu': 1.0964898092417592, 'sigma_sigma': 1.2557139150778136}. Best is trial 104 with value: 172.69869995117188.\n",
      "sample: 100%|██████████| 15000/15000 [00:06<00:00, 2317.37it/s, 31 steps of size 8.86e-02. acc. prob=0.96]\n",
      "[I 2024-01-08 06:30:39,372] Trial 533 finished with value: 172.74893188476562 and parameters: {'I_y_and_I_z_mu_0': 1.8333803965039834, 'I_y_and_I_z_mu_1': 0.3674175569262996, 'I_y_and_I_z_cov_0_0': 0.6350399292046112, 'I_y_and_I_z_cov_1_1': 1.0371512155766032, 'Q_mu': 560246530709188.3, 'Q_sigma': 1149352.3197707757, 'sigma_mu': 1.173574547448079, 'sigma_sigma': 1.692561535692892}. Best is trial 104 with value: 172.69869995117188.\n",
      "sample: 100%|██████████| 15000/15000 [00:05<00:00, 2735.74it/s, 15 steps of size 2.20e-01. acc. prob=0.91]\n",
      "[I 2024-01-08 06:30:46,425] Trial 534 finished with value: 173.93081665039062 and parameters: {'I_y_and_I_z_mu_0': 0.3842665278677807, 'I_y_and_I_z_mu_1': 0.20139517457945674, 'I_y_and_I_z_cov_0_0': 0.5098090445989558, 'I_y_and_I_z_cov_1_1': 0.7395449946962114, 'Q_mu': 803585561478973.2, 'Q_sigma': 5037311.986896321, 'sigma_mu': 1.0036618048925638, 'sigma_sigma': 1.6476128725621737}. Best is trial 104 with value: 172.69869995117188.\n",
      "sample: 100%|██████████| 15000/15000 [00:05<00:00, 2668.18it/s, 15 steps of size 2.01e-01. acc. prob=0.91]\n",
      "[I 2024-01-08 06:30:53,629] Trial 535 finished with value: 173.6483612060547 and parameters: {'I_y_and_I_z_mu_0': 1.5913434732704743, 'I_y_and_I_z_mu_1': 0.4463054035473057, 'I_y_and_I_z_cov_0_0': 1.6890616227856006, 'I_y_and_I_z_cov_1_1': 1.3638042936829908, 'Q_mu': 870368303473712.1, 'Q_sigma': 4542451.532078681, 'sigma_mu': 1.2459888791038378, 'sigma_sigma': 1.7598516743755563}. Best is trial 104 with value: 172.69869995117188.\n",
      "sample: 100%|██████████| 15000/15000 [00:06<00:00, 2493.31it/s, 31 steps of size 1.42e-01. acc. prob=0.94]\n",
      "[I 2024-01-08 06:31:01,249] Trial 536 finished with value: 173.239013671875 and parameters: {'I_y_and_I_z_mu_0': 1.5198800741097451, 'I_y_and_I_z_mu_1': 0.29987074016971454, 'I_y_and_I_z_cov_0_0': 0.2455245794010169, 'I_y_and_I_z_cov_1_1': 1.8522799304840825, 'Q_mu': 296131282566212.94, 'Q_sigma': 5165651.452802476, 'sigma_mu': 0.25547965616009005, 'sigma_sigma': 1.8454061576453684}. Best is trial 104 with value: 172.69869995117188.\n",
      "sample: 100%|██████████| 15000/15000 [00:05<00:00, 2530.67it/s, 15 steps of size 1.82e-01. acc. prob=0.90]\n",
      "[I 2024-01-08 06:31:08,878] Trial 537 finished with value: 173.76718139648438 and parameters: {'I_y_and_I_z_mu_0': 1.5658269199343857, 'I_y_and_I_z_mu_1': 0.14128828990147418, 'I_y_and_I_z_cov_0_0': 0.5813461808592136, 'I_y_and_I_z_cov_1_1': 1.406826051030869, 'Q_mu': 235667507130658.72, 'Q_sigma': 4822383.846463126, 'sigma_mu': 1.6244693539505792, 'sigma_sigma': 0.8249284269320835}. Best is trial 104 with value: 172.69869995117188.\n",
      "sample: 100%|██████████| 15000/15000 [00:06<00:00, 2422.26it/s, 31 steps of size 1.30e-01. acc. prob=0.93]\n",
      "[I 2024-01-08 06:31:16,666] Trial 538 finished with value: 174.11239624023438 and parameters: {'I_y_and_I_z_mu_0': 1.4619729886396768, 'I_y_and_I_z_mu_1': 0.8083087331802381, 'I_y_and_I_z_cov_0_0': 0.7653290248334484, 'I_y_and_I_z_cov_1_1': 1.6578233977668795, 'Q_mu': 140484230399586.44, 'Q_sigma': 5273580.9342629975, 'sigma_mu': 1.5406173350040167, 'sigma_sigma': 0.9617172892857875}. Best is trial 104 with value: 172.69869995117188.\n",
      "sample: 100%|██████████| 15000/15000 [00:05<00:00, 2569.49it/s, 15 steps of size 1.73e-01. acc. prob=0.92]\n",
      "[I 2024-01-08 06:31:24,256] Trial 539 finished with value: 173.20022583007812 and parameters: {'I_y_and_I_z_mu_0': 1.68288720592955, 'I_y_and_I_z_mu_1': 1.1962243144059677, 'I_y_and_I_z_cov_0_0': 0.6834797231580652, 'I_y_and_I_z_cov_1_1': 0.5862478810198937, 'Q_mu': 697662598729146.0, 'Q_sigma': 3121569.402452183, 'sigma_mu': 0.7471805248927124, 'sigma_sigma': 1.574302717079074}. Best is trial 104 with value: 172.69869995117188.\n",
      "sample: 100%|██████████| 15000/15000 [00:05<00:00, 2676.19it/s, 15 steps of size 2.18e-01. acc. prob=0.90]\n",
      "[I 2024-01-08 06:31:31,461] Trial 540 finished with value: 173.84725952148438 and parameters: {'I_y_and_I_z_mu_0': 0.7920561731064452, 'I_y_and_I_z_mu_1': 0.0645694950515245, 'I_y_and_I_z_cov_0_0': 0.9976357481724331, 'I_y_and_I_z_cov_1_1': 1.1210330359419414, 'Q_mu': 726986676730334.0, 'Q_sigma': 4671557.58605341, 'sigma_mu': 1.122366663209597, 'sigma_sigma': 1.397294672809725}. Best is trial 104 with value: 172.69869995117188.\n",
      "sample: 100%|██████████| 15000/15000 [00:06<00:00, 2261.53it/s, 31 steps of size 8.74e-02. acc. prob=0.92]\n",
      "[I 2024-01-08 06:31:39,739] Trial 541 finished with value: 173.22166442871094 and parameters: {'I_y_and_I_z_mu_0': 1.6207946518247047, 'I_y_and_I_z_mu_1': 0.24411986563891275, 'I_y_and_I_z_cov_0_0': 0.3780577039593456, 'I_y_and_I_z_cov_1_1': 1.1658492162706033, 'Q_mu': 920825925095901.2, 'Q_sigma': 4953357.04658441, 'sigma_mu': 1.0601532811647174, 'sigma_sigma': 1.9164163630378566}. Best is trial 104 with value: 172.69869995117188.\n",
      "sample: 100%|██████████| 15000/15000 [00:05<00:00, 2629.57it/s, 15 steps of size 1.96e-01. acc. prob=0.90]\n",
      "[I 2024-01-08 06:31:47,069] Trial 542 finished with value: 173.50360107421875 and parameters: {'I_y_and_I_z_mu_0': 1.4177373040859063, 'I_y_and_I_z_mu_1': 0.5365438904262713, 'I_y_and_I_z_cov_0_0': 0.1283819343376572, 'I_y_and_I_z_cov_1_1': 0.9727896729330788, 'Q_mu': 897011347953065.1, 'Q_sigma': 2427747.103521224, 'sigma_mu': 1.1536327477700707, 'sigma_sigma': 1.5031515561868856}. Best is trial 104 with value: 172.69869995117188.\n",
      "sample: 100%|██████████| 15000/15000 [00:05<00:00, 2536.72it/s, 15 steps of size 1.94e-01. acc. prob=0.89]\n",
      "[I 2024-01-08 06:31:54,731] Trial 543 finished with value: 173.33311462402344 and parameters: {'I_y_and_I_z_mu_0': 1.4859365256951718, 'I_y_and_I_z_mu_1': 1.2264351222366765, 'I_y_and_I_z_cov_0_0': 0.47364938893628045, 'I_y_and_I_z_cov_1_1': 1.5693497562898926, 'Q_mu': 379161389139352.25, 'Q_sigma': 4114468.393431096, 'sigma_mu': 1.6939933952785982, 'sigma_sigma': 1.7260125654545557}. Best is trial 104 with value: 172.69869995117188.\n",
      "sample: 100%|██████████| 15000/15000 [00:06<00:00, 2391.63it/s, 31 steps of size 1.17e-01. acc. prob=0.93]\n",
      "[I 2024-01-08 06:32:02,637] Trial 544 finished with value: 173.36929321289062 and parameters: {'I_y_and_I_z_mu_0': 1.267392177249571, 'I_y_and_I_z_mu_1': 0.09748590182128287, 'I_y_and_I_z_cov_0_0': 0.6180831084305483, 'I_y_and_I_z_cov_1_1': 1.3292418424696997, 'Q_mu': 847455150510817.8, 'Q_sigma': 9468884.032470569, 'sigma_mu': 1.2134985439848602, 'sigma_sigma': 1.610156244047245}. Best is trial 104 with value: 172.69869995117188.\n",
      "sample: 100%|██████████| 15000/15000 [00:05<00:00, 2573.90it/s, 31 steps of size 1.46e-01. acc. prob=0.94]\n",
      "[I 2024-01-08 06:32:10,125] Trial 545 finished with value: 173.5481414794922 and parameters: {'I_y_and_I_z_mu_0': 1.1118729016981888, 'I_y_and_I_z_mu_1': 0.9620426999321753, 'I_y_and_I_z_cov_0_0': 0.5258554395139314, 'I_y_and_I_z_cov_1_1': 0.8954403738749638, 'Q_mu': 674982196033505.9, 'Q_sigma': 6856564.530058004, 'sigma_mu': 0.941135925073926, 'sigma_sigma': 1.8901332027408853}. Best is trial 104 with value: 172.69869995117188.\n",
      "sample: 100%|██████████| 15000/15000 [00:06<00:00, 2298.35it/s, 15 steps of size 9.11e-02. acc. prob=0.92]\n",
      "[I 2024-01-08 06:32:18,279] Trial 546 finished with value: 172.73455810546875 and parameters: {'I_y_and_I_z_mu_0': 1.5371759978990356, 'I_y_and_I_z_mu_1': 0.32733429083703997, 'I_y_and_I_z_cov_0_0': 0.5648393924177738, 'I_y_and_I_z_cov_1_1': 1.2238273561997581, 'Q_mu': 823478872669303.5, 'Q_sigma': 4495626.682263074, 'sigma_mu': 1.0883836620888205, 'sigma_sigma': 1.8086532163613853}. Best is trial 104 with value: 172.69869995117188.\n",
      "sample: 100%|██████████| 15000/15000 [00:07<00:00, 2100.32it/s, 31 steps of size 6.18e-02. acc. prob=0.95]\n",
      "[I 2024-01-08 06:32:27,062] Trial 547 finished with value: 172.74295043945312 and parameters: {'I_y_and_I_z_mu_0': 1.5986137878418876, 'I_y_and_I_z_mu_1': 0.16437864559802473, 'I_y_and_I_z_cov_0_0': 0.7186105295492415, 'I_y_and_I_z_cov_1_1': 1.284508850274566, 'Q_mu': 866044912242174.2, 'Q_sigma': 743188.8469243618, 'sigma_mu': 0.42490445327428494, 'sigma_sigma': 1.9677910768774014}. Best is trial 104 with value: 172.69869995117188.\n",
      "sample: 100%|██████████| 15000/15000 [00:05<00:00, 2578.00it/s, 15 steps of size 1.96e-01. acc. prob=0.92]\n",
      "[I 2024-01-08 06:32:34,657] Trial 548 finished with value: 173.82565307617188 and parameters: {'I_y_and_I_z_mu_0': 0.8832459897414887, 'I_y_and_I_z_mu_1': 0.04968991686797792, 'I_y_and_I_z_cov_0_0': 1.2660866818340382, 'I_y_and_I_z_cov_1_1': 0.288769981919753, 'Q_mu': 938943737659968.0, 'Q_sigma': 5546630.778413931, 'sigma_mu': 0.29110206729637167, 'sigma_sigma': 0.5930941701414016}. Best is trial 104 with value: 172.69869995117188.\n",
      "sample: 100%|██████████| 15000/15000 [00:06<00:00, 2390.51it/s, 11 steps of size 1.20e-01. acc. prob=0.93]\n",
      "[I 2024-01-08 06:32:42,660] Trial 549 finished with value: 172.77713012695312 and parameters: {'I_y_and_I_z_mu_0': 1.7608217035513218, 'I_y_and_I_z_mu_1': 1.2800555900338804, 'I_y_and_I_z_cov_0_0': 0.439066744970803, 'I_y_and_I_z_cov_1_1': 1.4705950586114176, 'Q_mu': 653796755248379.8, 'Q_sigma': 2640215.649728818, 'sigma_mu': 1.0245800608610975, 'sigma_sigma': 1.6925098589527896}. Best is trial 104 with value: 172.69869995117188.\n",
      "sample: 100%|██████████| 15000/15000 [00:05<00:00, 2510.54it/s, 15 steps of size 1.43e-01. acc. prob=0.94]\n",
      "[I 2024-01-08 06:32:50,359] Trial 550 finished with value: 173.8013916015625 and parameters: {'I_y_and_I_z_mu_0': 1.1600498670208457, 'I_y_and_I_z_mu_1': 0.39403999901232706, 'I_y_and_I_z_cov_0_0': 1.376062642285398, 'I_y_and_I_z_cov_1_1': 1.3552381658586579, 'Q_mu': 880860761724996.9, 'Q_sigma': 8400920.218156837, 'sigma_mu': 1.1267114790506623, 'sigma_sigma': 0.42829446219242895}. Best is trial 104 with value: 172.69869995117188.\n",
      "sample: 100%|██████████| 15000/15000 [00:06<00:00, 2491.25it/s, 15 steps of size 1.41e-01. acc. prob=0.93]\n",
      "[I 2024-01-08 06:32:58,004] Trial 551 finished with value: 173.76177978515625 and parameters: {'I_y_and_I_z_mu_0': 1.647993445644324, 'I_y_and_I_z_mu_1': 0.20384071213394367, 'I_y_and_I_z_cov_0_0': 0.6035120673599988, 'I_y_and_I_z_cov_1_1': 1.096944040270446, 'Q_mu': 323744967429606.75, 'Q_sigma': 7794507.838572551, 'sigma_mu': 1.1786230163871807, 'sigma_sigma': 0.8507553248295106}. Best is trial 104 with value: 172.69869995117188.\n",
      "sample: 100%|██████████| 15000/15000 [00:05<00:00, 2675.98it/s, 7 steps of size 2.30e-01. acc. prob=0.92] \n",
      "[I 2024-01-08 06:33:05,261] Trial 552 finished with value: 173.4813232421875 and parameters: {'I_y_and_I_z_mu_0': 1.9843743734722312, 'I_y_and_I_z_mu_1': 1.8162206644326067, 'I_y_and_I_z_cov_0_0': 1.568736900960008, 'I_y_and_I_z_cov_1_1': 1.3911905064462176, 'Q_mu': 746720946752623.9, 'Q_sigma': 480178.7279459387, 'sigma_mu': 1.5079147249437368, 'sigma_sigma': 1.7818703721993265}. Best is trial 104 with value: 172.69869995117188.\n",
      "sample: 100%|██████████| 15000/15000 [00:06<00:00, 2177.35it/s, 31 steps of size 6.88e-02. acc. prob=0.95]\n",
      "[I 2024-01-08 06:33:13,844] Trial 553 finished with value: 172.72511291503906 and parameters: {'I_y_and_I_z_mu_0': 1.5626811105569367, 'I_y_and_I_z_mu_1': 0.010202105957041718, 'I_y_and_I_z_cov_0_0': 0.4952396394783096, 'I_y_and_I_z_cov_1_1': 1.3083523643458588, 'Q_mu': 775539380952277.0, 'Q_sigma': 6461419.612087782, 'sigma_mu': 1.0663390937292616, 'sigma_sigma': 1.936540003870761}. Best is trial 104 with value: 172.69869995117188.\n",
      "sample: 100%|██████████| 15000/15000 [00:08<00:00, 1771.70it/s, 31 steps of size 7.17e-02. acc. prob=0.94]\n",
      "[I 2024-01-08 06:33:24,086] Trial 554 finished with value: 172.7425537109375 and parameters: {'I_y_and_I_z_mu_0': 1.5247112779424872, 'I_y_and_I_z_mu_1': 0.28155463770595823, 'I_y_and_I_z_cov_0_0': 0.5457715655567416, 'I_y_and_I_z_cov_1_1': 1.2488643496501382, 'Q_mu': 837869981509849.2, 'Q_sigma': 4305739.318523737, 'sigma_mu': 1.2785682428247194, 'sigma_sigma': 1.0884478123355128}. Best is trial 104 with value: 172.69869995117188.\n",
      "sample: 100%|██████████| 15000/15000 [00:05<00:00, 2521.21it/s, 15 steps of size 1.30e-01. acc. prob=0.92]\n",
      "[I 2024-01-08 06:33:31,676] Trial 555 finished with value: 173.34109497070312 and parameters: {'I_y_and_I_z_mu_0': 1.2155203420047043, 'I_y_and_I_z_mu_1': 0.11210565253941326, 'I_y_and_I_z_cov_0_0': 0.6424528900314569, 'I_y_and_I_z_cov_1_1': 1.524239748187432, 'Q_mu': 713517492655218.8, 'Q_sigma': 5175435.239371052, 'sigma_mu': 1.112636600218055, 'sigma_sigma': 1.0163828826135275}. Best is trial 104 with value: 172.69869995117188.\n",
      "sample: 100%|██████████| 15000/15000 [00:05<00:00, 2510.58it/s, 15 steps of size 1.52e-01. acc. prob=0.93]\n",
      "[I 2024-01-08 06:33:39,484] Trial 556 finished with value: 173.56967163085938 and parameters: {'I_y_and_I_z_mu_0': 1.614571127308051, 'I_y_and_I_z_mu_1': 0.8299945802369595, 'I_y_and_I_z_cov_0_0': 1.2307092669898951, 'I_y_and_I_z_cov_1_1': 1.1881849611424071, 'Q_mu': 982104007010337.2, 'Q_sigma': 8774878.411333203, 'sigma_mu': 0.987235655802261, 'sigma_sigma': 0.8663970230425906}. Best is trial 104 with value: 172.69869995117188.\n",
      "sample: 100%|██████████| 15000/15000 [00:06<00:00, 2478.48it/s, 31 steps of size 1.31e-01. acc. prob=0.90]\n",
      "[I 2024-01-08 06:33:47,154] Trial 557 finished with value: 174.1719970703125 and parameters: {'I_y_and_I_z_mu_0': 1.3462213232553801, 'I_y_and_I_z_mu_1': 0.70061585205702, 'I_y_and_I_z_cov_0_0': 1.7093561552843375, 'I_y_and_I_z_cov_1_1': 0.5006200506891897, 'Q_mu': 231980404405738.12, 'Q_sigma': 7261355.304045479, 'sigma_mu': 1.1551568676134656, 'sigma_sigma': 1.6495887615981628}. Best is trial 104 with value: 172.69869995117188.\n",
      "sample: 100%|██████████| 15000/15000 [00:06<00:00, 2486.69it/s, 15 steps of size 1.33e-01. acc. prob=0.92]\n",
      "[I 2024-01-08 06:33:54,846] Trial 558 finished with value: 173.0970458984375 and parameters: {'I_y_and_I_z_mu_0': 1.8901943403101895, 'I_y_and_I_z_mu_1': 0.9818601728848078, 'I_y_and_I_z_cov_0_0': 0.6693076835430681, 'I_y_and_I_z_cov_1_1': 1.8190375283254707, 'Q_mu': 622231483180359.4, 'Q_sigma': 6001593.336440392, 'sigma_mu': 0.6882355181469964, 'sigma_sigma': 1.7140917634556065}. Best is trial 104 with value: 172.69869995117188.\n",
      "sample: 100%|██████████| 15000/15000 [00:06<00:00, 2479.45it/s, 15 steps of size 1.44e-01. acc. prob=0.94]\n",
      "[I 2024-01-08 06:34:02,547] Trial 559 finished with value: 173.81536865234375 and parameters: {'I_y_and_I_z_mu_0': 1.701820855088697, 'I_y_and_I_z_mu_1': 0.3491252137167461, 'I_y_and_I_z_cov_0_0': 1.084359380130481, 'I_y_and_I_z_cov_1_1': 1.802116596670138, 'Q_mu': 265655818989685.28, 'Q_sigma': 4811381.857306865, 'sigma_mu': 1.477719591201858, 'sigma_sigma': 1.8478928094451021}. Best is trial 104 with value: 172.69869995117188.\n",
      "sample: 100%|██████████| 15000/15000 [00:05<00:00, 2548.13it/s, 15 steps of size 1.47e-01. acc. prob=0.95]\n",
      "[I 2024-01-08 06:34:10,083] Trial 560 finished with value: 172.98330688476562 and parameters: {'I_y_and_I_z_mu_0': 1.5801218013510283, 'I_y_and_I_z_mu_1': 0.569037257111008, 'I_y_and_I_z_cov_0_0': 0.0643013304924479, 'I_y_and_I_z_cov_1_1': 1.4297044053626942, 'Q_mu': 353267951681712.0, 'Q_sigma': 3736089.334302379, 'sigma_mu': 1.8728836216534024, 'sigma_sigma': 1.7596166449523596}. Best is trial 104 with value: 172.69869995117188.\n",
      "sample: 100%|██████████| 15000/15000 [00:05<00:00, 2596.70it/s, 15 steps of size 1.58e-01. acc. prob=0.94]\n",
      "[I 2024-01-08 06:34:17,531] Trial 561 finished with value: 173.494384765625 and parameters: {'I_y_and_I_z_mu_0': 0.9127474874512996, 'I_y_and_I_z_mu_1': 0.23703964936763636, 'I_y_and_I_z_cov_0_0': 0.5832400573583055, 'I_y_and_I_z_cov_1_1': 1.0134255414772413, 'Q_mu': 911051501578308.1, 'Q_sigma': 4972512.850168025, 'sigma_mu': 1.0442188571955355, 'sigma_sigma': 0.7035913298063317}. Best is trial 104 with value: 172.69869995117188.\n",
      "sample: 100%|██████████| 15000/15000 [00:06<00:00, 2380.77it/s, 31 steps of size 1.15e-01. acc. prob=0.94]\n",
      "[I 2024-01-08 06:34:25,652] Trial 562 finished with value: 174.19107055664062 and parameters: {'I_y_and_I_z_mu_0': 1.492302099415884, 'I_y_and_I_z_mu_1': 0.8940486247327057, 'I_y_and_I_z_cov_0_0': 0.519769100842677, 'I_y_and_I_z_cov_1_1': 1.356082104355303, 'Q_mu': 176772822061820.94, 'Q_sigma': 9006680.471774694, 'sigma_mu': 1.7061532071016148, 'sigma_sigma': 1.5662651642404501}. Best is trial 104 with value: 172.69869995117188.\n",
      "sample: 100%|██████████| 15000/15000 [00:06<00:00, 2414.11it/s, 15 steps of size 1.57e-01. acc. prob=0.92]\n",
      "[I 2024-01-08 06:34:33,571] Trial 563 finished with value: 173.4588623046875 and parameters: {'I_y_and_I_z_mu_0': 1.656924298451441, 'I_y_and_I_z_mu_1': 0.05905097564167571, 'I_y_and_I_z_cov_0_0': 0.16195200337489063, 'I_y_and_I_z_cov_1_1': 1.9794057486582903, 'Q_mu': 804090168311545.1, 'Q_sigma': 4646227.6910803495, 'sigma_mu': 1.3763292610061828, 'sigma_sigma': 1.4355923296765547}. Best is trial 104 with value: 172.69869995117188.\n",
      "sample: 100%|██████████| 15000/15000 [00:06<00:00, 2388.41it/s, 31 steps of size 1.10e-01. acc. prob=0.94]\n",
      "[I 2024-01-08 06:34:41,344] Trial 564 finished with value: 173.30908203125 and parameters: {'I_y_and_I_z_mu_0': 0.815683047240645, 'I_y_and_I_z_mu_1': 0.6449688963889645, 'I_y_and_I_z_cov_0_0': 0.2728892839902296, 'I_y_and_I_z_cov_1_1': 1.2743250708343903, 'Q_mu': 856333477803730.0, 'Q_sigma': 8714638.127429439, 'sigma_mu': 1.2120851978819918, 'sigma_sigma': 1.3121571856478433}. Best is trial 104 with value: 172.69869995117188.\n",
      "sample: 100%|██████████| 15000/15000 [00:06<00:00, 2406.00it/s, 31 steps of size 9.48e-02. acc. prob=0.95]\n",
      "[I 2024-01-08 06:34:49,293] Trial 565 finished with value: 172.93280029296875 and parameters: {'I_y_and_I_z_mu_0': 1.5452112119864594, 'I_y_and_I_z_mu_1': 0.1775063115127335, 'I_y_and_I_z_cov_0_0': 0.5571793958395235, 'I_y_and_I_z_cov_1_1': 1.3103877281578447, 'Q_mu': 689594757955043.6, 'Q_sigma': 5392026.622552355, 'sigma_mu': 1.5820198796668103, 'sigma_sigma': 1.6134480845446677}. Best is trial 104 with value: 172.69869995117188.\n",
      "sample: 100%|██████████| 15000/15000 [00:06<00:00, 2262.87it/s, 39 steps of size 7.35e-02. acc. prob=0.94]\n",
      "[I 2024-01-08 06:34:57,719] Trial 566 finished with value: 172.71701049804688 and parameters: {'I_y_and_I_z_mu_0': 1.6219009438913492, 'I_y_and_I_z_mu_1': 0.2684918129997681, 'I_y_and_I_z_cov_0_0': 0.6245446483353563, 'I_y_and_I_z_cov_1_1': 1.2389460549834879, 'Q_mu': 891526235121172.2, 'Q_sigma': 4409491.176993351, 'sigma_mu': 1.093901043576538, 'sigma_sigma': 1.0461420550825147}. Best is trial 104 with value: 172.69869995117188.\n",
      "sample: 100%|██████████| 15000/15000 [00:06<00:00, 2353.98it/s, 15 steps of size 9.73e-02. acc. prob=0.93]\n",
      "[I 2024-01-08 06:35:05,735] Trial 567 finished with value: 172.73196411132812 and parameters: {'I_y_and_I_z_mu_0': 1.6305605234853466, 'I_y_and_I_z_mu_1': 1.0313841686223828, 'I_y_and_I_z_cov_0_0': 0.4810975120496579, 'I_y_and_I_z_cov_1_1': 1.2313952638737993, 'Q_mu': 930945936425355.2, 'Q_sigma': 5783803.184659967, 'sigma_mu': 1.0931734479790265, 'sigma_sigma': 1.0768653402440724}. Best is trial 104 with value: 172.69869995117188.\n",
      "sample: 100%|██████████| 15000/15000 [00:05<00:00, 2590.63it/s, 15 steps of size 1.48e-01. acc. prob=0.91]\n",
      "[I 2024-01-08 06:35:13,166] Trial 568 finished with value: 173.16796875 and parameters: {'I_y_and_I_z_mu_0': 1.7983949726832682, 'I_y_and_I_z_mu_1': 0.3155734429077594, 'I_y_and_I_z_cov_0_0': 0.5344554580843831, 'I_y_and_I_z_cov_1_1': 1.158017692345283, 'Q_mu': 450253435046472.6, 'Q_sigma': 4737761.229479252, 'sigma_mu': 1.783214704845385, 'sigma_sigma': 1.0341362905741136}. Best is trial 104 with value: 172.69869995117188.\n",
      "sample: 100%|██████████| 15000/15000 [00:05<00:00, 2538.62it/s, 15 steps of size 1.26e-01. acc. prob=0.91]\n",
      "[I 2024-01-08 06:35:20,693] Trial 569 finished with value: 173.22244262695312 and parameters: {'I_y_and_I_z_mu_0': 1.6992470407761349, 'I_y_and_I_z_mu_1': 0.08866906423819826, 'I_y_and_I_z_cov_0_0': 0.7035464502919244, 'I_y_and_I_z_cov_1_1': 1.1981965912182901, 'Q_mu': 893730469384946.1, 'Q_sigma': 9908197.260127557, 'sigma_mu': 1.1363842629610097, 'sigma_sigma': 0.8915691365618674}. Best is trial 104 with value: 172.69869995117188.\n",
      "sample: 100%|██████████| 15000/15000 [00:05<00:00, 2585.91it/s, 15 steps of size 1.99e-01. acc. prob=0.92]\n",
      "[I 2024-01-08 06:35:28,125] Trial 570 finished with value: 173.7786102294922 and parameters: {'I_y_and_I_z_mu_0': 1.6627366549803995, 'I_y_and_I_z_mu_1': 1.0127749026869388, 'I_y_and_I_z_cov_0_0': 1.9414551002545504, 'I_y_and_I_z_cov_1_1': 1.2742062379057097, 'Q_mu': 731943409380695.5, 'Q_sigma': 5005038.141270667, 'sigma_mu': 1.1834812273425308, 'sigma_sigma': 1.0055916287271924}. Best is trial 104 with value: 172.69869995117188.\n",
      "sample: 100%|██████████| 15000/15000 [00:07<00:00, 2125.83it/s, 63 steps of size 6.62e-02. acc. prob=0.94]\n",
      "[I 2024-01-08 06:35:36,920] Trial 571 finished with value: 172.77267456054688 and parameters: {'I_y_and_I_z_mu_0': 1.5945593070436324, 'I_y_and_I_z_mu_1': 0.27989507255277707, 'I_y_and_I_z_cov_0_0': 0.5972952154591018, 'I_y_and_I_z_cov_1_1': 0.7093349521566068, 'Q_mu': 997580523898236.6, 'Q_sigma': 3978105.3252703436, 'sigma_mu': 1.084788908876468, 'sigma_sigma': 1.0861297818675173}. Best is trial 104 with value: 172.69869995117188.\n",
      "sample: 100%|██████████| 15000/15000 [00:06<00:00, 2184.41it/s, 15 steps of size 7.49e-02. acc. prob=0.95]\n",
      "[I 2024-01-08 06:35:45,434] Trial 572 finished with value: 172.7650909423828 and parameters: {'I_y_and_I_z_mu_0': 1.3720380694478238, 'I_y_and_I_z_mu_1': 0.8362935462048342, 'I_y_and_I_z_cov_0_0': 0.4193100452806499, 'I_y_and_I_z_cov_1_1': 1.238613932875206, 'Q_mu': 949784441357058.2, 'Q_sigma': 4518635.00562176, 'sigma_mu': 1.412357488522175, 'sigma_sigma': 1.0397700163980765}. Best is trial 104 with value: 172.69869995117188.\n",
      "sample: 100%|██████████| 15000/15000 [00:05<00:00, 2552.86it/s, 15 steps of size 1.40e-01. acc. prob=0.95]\n",
      "[I 2024-01-08 06:35:52,972] Trial 573 finished with value: 173.4300537109375 and parameters: {'I_y_and_I_z_mu_0': 1.0760170435815464, 'I_y_and_I_z_mu_1': 0.47534423747708543, 'I_y_and_I_z_cov_0_0': 0.6331896004836427, 'I_y_and_I_z_cov_1_1': 0.8918202588257103, 'Q_mu': 787489771705392.9, 'Q_sigma': 1228048.4929120308, 'sigma_mu': 1.2500035026616017, 'sigma_sigma': 0.9664246290843875}. Best is trial 104 with value: 172.69869995117188.\n",
      "sample: 100%|██████████| 15000/15000 [00:05<00:00, 2547.61it/s, 31 steps of size 1.28e-01. acc. prob=0.94]\n",
      "[I 2024-01-08 06:36:00,517] Trial 574 finished with value: 173.70269775390625 and parameters: {'I_y_and_I_z_mu_0': 1.7395302649269286, 'I_y_and_I_z_mu_1': 0.14029741679963667, 'I_y_and_I_z_cov_0_0': 1.782437175159071, 'I_y_and_I_z_cov_1_1': 1.9265998879804664, 'Q_mu': 820208892628811.1, 'Q_sigma': 9706153.958633825, 'sigma_mu': 1.1208476949487483, 'sigma_sigma': 1.68599018066058}. Best is trial 104 with value: 172.69869995117188.\n",
      "sample: 100%|██████████| 15000/15000 [00:05<00:00, 2568.15it/s, 15 steps of size 1.78e-01. acc. prob=0.91]\n",
      "[I 2024-01-08 06:36:08,154] Trial 575 finished with value: 173.30694580078125 and parameters: {'I_y_and_I_z_mu_0': 1.6230500756033974, 'I_y_and_I_z_mu_1': 1.4344850243671168, 'I_y_and_I_z_cov_0_0': 0.8927769920039386, 'I_y_and_I_z_cov_1_1': 1.0492573260153888, 'Q_mu': 908289204567942.5, 'Q_sigma': 5127653.328859118, 'sigma_mu': 1.1544297539695492, 'sigma_sigma': 0.9505123917849687}. Best is trial 104 with value: 172.69869995117188.\n",
      "sample: 100%|██████████| 15000/15000 [00:06<00:00, 2401.96it/s, 31 steps of size 9.89e-02. acc. prob=0.91]\n",
      "[I 2024-01-08 06:36:16,076] Trial 576 finished with value: 172.78843688964844 and parameters: {'I_y_and_I_z_mu_0': 1.4448458799102073, 'I_y_and_I_z_mu_1': 0.4147436033505492, 'I_y_and_I_z_cov_0_0': 0.4932735998135513, 'I_y_and_I_z_cov_1_1': 1.1247952803668375, 'Q_mu': 755574924289062.5, 'Q_sigma': 4819813.703410674, 'sigma_mu': 0.5990098981539781, 'sigma_sigma': 1.003719939186927}. Best is trial 104 with value: 172.69869995117188.\n",
      "sample: 100%|██████████| 15000/15000 [00:05<00:00, 2709.66it/s, 15 steps of size 1.88e-01. acc. prob=0.93]\n",
      "[I 2024-01-08 06:36:23,234] Trial 577 finished with value: 173.44619750976562 and parameters: {'I_y_and_I_z_mu_0': 1.5117056799313762, 'I_y_and_I_z_mu_1': 0.010766497327124855, 'I_y_and_I_z_cov_0_0': 0.013562210957020149, 'I_y_and_I_z_cov_1_1': 1.1856935651429397, 'Q_mu': 602486323501653.9, 'Q_sigma': 5273912.278375704, 'sigma_mu': 1.326823258785379, 'sigma_sigma': 1.998189320158702}. Best is trial 104 with value: 172.69869995117188.\n",
      "sample: 100%|██████████| 15000/15000 [00:06<00:00, 2264.95it/s, 31 steps of size 8.14e-02. acc. prob=0.93]\n",
      "[I 2024-01-08 06:36:31,549] Trial 578 finished with value: 172.73350524902344 and parameters: {'I_y_and_I_z_mu_0': 1.5866161024940375, 'I_y_and_I_z_mu_1': 0.377301951565618, 'I_y_and_I_z_cov_0_0': 0.31220467606745494, 'I_y_and_I_z_cov_1_1': 1.32442804722859, 'Q_mu': 859751880153818.9, 'Q_sigma': 9352347.069989521, 'sigma_mu': 1.0850532808366868, 'sigma_sigma': 0.8842061749116211}. Best is trial 104 with value: 172.69869995117188.\n",
      "sample: 100%|██████████| 15000/15000 [00:06<00:00, 2391.64it/s, 31 steps of size 8.88e-02. acc. prob=0.96]\n",
      "[I 2024-01-08 06:36:39,375] Trial 579 finished with value: 172.87588500976562 and parameters: {'I_y_and_I_z_mu_0': 1.6740857744256028, 'I_y_and_I_z_mu_1': 0.2144746056848506, 'I_y_and_I_z_cov_0_0': 0.5685709518328323, 'I_y_and_I_z_cov_1_1': 0.26916793797706706, 'Q_mu': 656965702604702.8, 'Q_sigma': 4145343.9138408657, 'sigma_mu': 1.2315908105709348, 'sigma_sigma': 0.7988933275544883}. Best is trial 104 with value: 172.69869995117188.\n",
      "sample: 100%|██████████| 15000/15000 [00:05<00:00, 2579.03it/s, 15 steps of size 1.57e-01. acc. prob=0.95]\n",
      "[I 2024-01-08 06:36:46,934] Trial 580 finished with value: 173.731689453125 and parameters: {'I_y_and_I_z_mu_0': 0.7775647005710729, 'I_y_and_I_z_mu_1': 0.314808774789817, 'I_y_and_I_z_cov_0_0': 0.4588662315006576, 'I_y_and_I_z_cov_1_1': 0.24419827575039454, 'Q_mu': 705594004485726.9, 'Q_sigma': 5634575.482652358, 'sigma_mu': 1.0561109670522044, 'sigma_sigma': 1.1292703021020603}. Best is trial 104 with value: 172.69869995117188.\n",
      "sample: 100%|██████████| 15000/15000 [00:05<00:00, 2580.49it/s, 15 steps of size 1.65e-01. acc. prob=0.92]\n",
      "[I 2024-01-08 06:36:54,479] Trial 581 finished with value: 173.5157470703125 and parameters: {'I_y_and_I_z_mu_0': 1.6330863160065252, 'I_y_and_I_z_mu_1': 0.08492071874667585, 'I_y_and_I_z_cov_0_0': 0.6638352859665678, 'I_y_and_I_z_cov_1_1': 1.253046174412239, 'Q_mu': 338581726752371.1, 'Q_sigma': 4600961.31190817, 'sigma_mu': 1.111530873199115, 'sigma_sigma': 1.7418225388253206}. Best is trial 104 with value: 172.69869995117188.\n",
      "sample: 100%|██████████| 15000/15000 [00:05<00:00, 2641.25it/s, 15 steps of size 1.93e-01. acc. prob=0.92]\n",
      "[I 2024-01-08 06:37:01,754] Trial 582 finished with value: 174.02020263671875 and parameters: {'I_y_and_I_z_mu_0': 0.6224268622865288, 'I_y_and_I_z_mu_1': 0.1283841053646861, 'I_y_and_I_z_cov_0_0': 1.999948032081992, 'I_y_and_I_z_cov_1_1': 0.9367632356395821, 'Q_mu': 879793471899839.4, 'Q_sigma': 6245135.810113752, 'sigma_mu': 1.1764813981672575, 'sigma_sigma': 0.7437901173938526}. Best is trial 104 with value: 172.69869995117188.\n",
      "sample: 100%|██████████| 15000/15000 [00:05<00:00, 2640.91it/s, 7 steps of size 2.11e-01. acc. prob=0.93] \n",
      "[I 2024-01-08 06:37:09,109] Trial 583 finished with value: 174.08934020996094 and parameters: {'I_y_and_I_z_mu_0': 1.4740258518664486, 'I_y_and_I_z_mu_1': 0.7317826339849649, 'I_y_and_I_z_cov_0_0': 0.5293075326775352, 'I_y_and_I_z_cov_1_1': 0.10272465782741314, 'Q_mu': 416865021260801.75, 'Q_sigma': 4300780.38577845, 'sigma_mu': 1.1312360962002916, 'sigma_sigma': 1.659435303954708}. Best is trial 104 with value: 172.69869995117188.\n",
      "sample: 100%|██████████| 15000/15000 [00:06<00:00, 2458.61it/s, 31 steps of size 1.01e-01. acc. prob=0.92]\n",
      "[I 2024-01-08 06:37:16,912] Trial 584 finished with value: 173.04220581054688 and parameters: {'I_y_and_I_z_mu_0': 1.541360696850707, 'I_y_and_I_z_mu_1': 0.05530136813284123, 'I_y_and_I_z_cov_0_0': 0.7459301404699815, 'I_y_and_I_z_cov_1_1': 1.091919207598435, 'Q_mu': 836604425524359.1, 'Q_sigma': 4955432.745231045, 'sigma_mu': 1.287896667807836, 'sigma_sigma': 0.8269047350318017}. Best is trial 104 with value: 172.69869995117188.\n",
      "sample: 100%|██████████| 15000/15000 [00:05<00:00, 2644.14it/s, 15 steps of size 1.75e-01. acc. prob=0.94]\n",
      "[I 2024-01-08 06:37:24,385] Trial 585 finished with value: 173.600341796875 and parameters: {'I_y_and_I_z_mu_0': 0.9508157317137473, 'I_y_and_I_z_mu_1': 0.1769489606623111, 'I_y_and_I_z_cov_0_0': 0.5936812471390261, 'I_y_and_I_z_cov_1_1': 0.8355219352731517, 'Q_mu': 561418900773937.1, 'Q_sigma': 2862163.6083104396, 'sigma_mu': 1.2046865337296044, 'sigma_sigma': 1.0696550911505207}. Best is trial 104 with value: 172.69869995117188.\n",
      "sample: 100%|██████████| 15000/15000 [00:06<00:00, 2454.38it/s, 15 steps of size 1.23e-01. acc. prob=0.94]\n",
      "[I 2024-01-08 06:37:32,156] Trial 586 finished with value: 174.24246215820312 and parameters: {'I_y_and_I_z_mu_0': 1.4014956286688574, 'I_y_and_I_z_mu_1': 0.2566470338782579, 'I_y_and_I_z_cov_0_0': 0.5543842834926938, 'I_y_and_I_z_cov_1_1': 1.3903802706240986, 'Q_mu': 90901092546442.5, 'Q_sigma': 5377623.200955764, 'sigma_mu': 0.32984787682599137, 'sigma_sigma': 1.0376307104544575}. Best is trial 104 with value: 172.69869995117188.\n",
      "sample: 100%|██████████| 15000/15000 [00:07<00:00, 2115.15it/s, 7 steps of size 2.69e-01. acc. prob=0.91] \n",
      "[I 2024-01-08 06:37:40,945] Trial 587 finished with value: 173.78765869140625 and parameters: {'I_y_and_I_z_mu_0': 0.9120461302429677, 'I_y_and_I_z_mu_1': 1.8990066431608605, 'I_y_and_I_z_cov_0_0': 0.8560081593188402, 'I_y_and_I_z_cov_1_1': 1.218220508322259, 'Q_mu': 678596974604972.9, 'Q_sigma': 1771621.2173260367, 'sigma_mu': 0.6106592180059596, 'sigma_sigma': 1.7915286217740154}. Best is trial 104 with value: 172.69869995117188.\n",
      "sample: 100%|██████████| 15000/15000 [00:06<00:00, 2258.25it/s, 31 steps of size 7.02e-02. acc. prob=0.95]\n",
      "[I 2024-01-08 06:37:49,320] Trial 588 finished with value: 172.72003173828125 and parameters: {'I_y_and_I_z_mu_0': 1.5867078044706227, 'I_y_and_I_z_mu_1': 0.3493473000731987, 'I_y_and_I_z_cov_0_0': 0.6259737021993773, 'I_y_and_I_z_cov_1_1': 1.297633046323843, 'Q_mu': 922551642795318.2, 'Q_sigma': 4469150.917410663, 'sigma_mu': 1.035304331411019, 'sigma_sigma': 0.9863312487506262}. Best is trial 104 with value: 172.69869995117188.\n",
      "sample: 100%|██████████| 15000/15000 [00:05<00:00, 2765.74it/s, 7 steps of size 2.30e-01. acc. prob=0.90] \n",
      "[I 2024-01-08 06:37:56,404] Trial 589 finished with value: 173.59210205078125 and parameters: {'I_y_and_I_z_mu_0': 1.263213807447904, 'I_y_and_I_z_mu_1': 0.22004482966505845, 'I_y_and_I_z_cov_0_0': 0.03951153020893006, 'I_y_and_I_z_cov_1_1': 1.3487404655471122, 'Q_mu': 801900202716860.9, 'Q_sigma': 4758250.116393786, 'sigma_mu': 1.0773705862071685, 'sigma_sigma': 1.708146723099206}. Best is trial 104 with value: 172.69869995117188.\n",
      "sample: 100%|██████████| 15000/15000 [00:05<00:00, 2565.88it/s, 31 steps of size 1.26e-01. acc. prob=0.94]\n",
      "[I 2024-01-08 06:38:03,934] Trial 590 finished with value: 173.13217163085938 and parameters: {'I_y_and_I_z_mu_0': 1.5077064385393544, 'I_y_and_I_z_mu_1': 0.8968316759412756, 'I_y_and_I_z_cov_0_0': 0.5081734434244874, 'I_y_and_I_z_cov_1_1': 0.7900558776311113, 'Q_mu': 643051901631850.8, 'Q_sigma': 5197378.33105002, 'sigma_mu': 1.157656118241824, 'sigma_sigma': 1.2785387251666134}. Best is trial 104 with value: 172.69869995117188.\n",
      "sample: 100%|██████████| 15000/15000 [00:06<00:00, 2299.27it/s, 31 steps of size 7.86e-02. acc. prob=0.94]\n",
      "[I 2024-01-08 06:38:12,240] Trial 591 finished with value: 172.70529174804688 and parameters: {'I_y_and_I_z_mu_0': 1.842161858082758, 'I_y_and_I_z_mu_1': 0.2775528200280527, 'I_y_and_I_z_cov_0_0': 0.8094955930056772, 'I_y_and_I_z_cov_1_1': 1.4321026834971005, 'Q_mu': 957330606410947.6, 'Q_sigma': 4935427.221038911, 'sigma_mu': 1.108735906130813, 'sigma_sigma': 1.7590671450958708}. Best is trial 104 with value: 172.69869995117188.\n",
      "sample: 100%|██████████| 15000/15000 [00:05<00:00, 2660.11it/s, 15 steps of size 1.58e-01. acc. prob=0.93]\n",
      "[I 2024-01-08 06:38:19,579] Trial 592 finished with value: 173.4227752685547 and parameters: {'I_y_and_I_z_mu_0': 1.778183985309099, 'I_y_and_I_z_mu_1': 0.2849089316909257, 'I_y_and_I_z_cov_0_0': 0.7872238079281326, 'I_y_and_I_z_cov_1_1': 0.6810359571103379, 'Q_mu': 465106714179743.6, 'Q_sigma': 5021253.207413913, 'sigma_mu': 1.1107773542700619, 'sigma_sigma': 1.1133748143712685}. Best is trial 104 with value: 172.69869995117188.\n",
      "sample: 100%|██████████| 15000/15000 [00:06<00:00, 2439.71it/s, 31 steps of size 9.57e-02. acc. prob=0.93]\n",
      "[I 2024-01-08 06:38:27,401] Trial 593 finished with value: 172.81723022460938 and parameters: {'I_y_and_I_z_mu_0': 1.9939251827708955, 'I_y_and_I_z_mu_1': 0.3151677306952773, 'I_y_and_I_z_cov_0_0': 0.9346139846480916, 'I_y_and_I_z_cov_1_1': 1.1364949940886198, 'Q_mu': 966682801784724.1, 'Q_sigma': 5498691.952846558, 'sigma_mu': 1.081574400174051, 'sigma_sigma': 0.9156466865893685}. Best is trial 104 with value: 172.69869995117188.\n",
      "sample: 100%|██████████| 15000/15000 [00:06<00:00, 2318.31it/s, 31 steps of size 7.69e-02. acc. prob=0.93]\n",
      "[I 2024-01-08 06:38:35,667] Trial 594 finished with value: 172.72735595703125 and parameters: {'I_y_and_I_z_mu_0': 1.751733569149756, 'I_y_and_I_z_mu_1': 0.2661831060967291, 'I_y_and_I_z_cov_0_0': 0.7458719815422595, 'I_y_and_I_z_cov_1_1': 1.2701805498389631, 'Q_mu': 968920388311915.6, 'Q_sigma': 4898874.290972129, 'sigma_mu': 1.040757975225941, 'sigma_sigma': 0.7733164873909902}. Best is trial 104 with value: 172.69869995117188.\n",
      "sample: 100%|██████████| 15000/15000 [00:05<00:00, 2692.97it/s, 15 steps of size 1.80e-01. acc. prob=0.91]\n",
      "[I 2024-01-08 06:38:42,899] Trial 595 finished with value: 173.57669067382812 and parameters: {'I_y_and_I_z_mu_0': 1.8408751131789394, 'I_y_and_I_z_mu_1': 0.3571549407518195, 'I_y_and_I_z_cov_0_0': 0.8274059525210592, 'I_y_and_I_z_cov_1_1': 0.5471497072250173, 'Q_mu': 394484064611074.5, 'Q_sigma': 5164370.368390832, 'sigma_mu': 1.116485185020773, 'sigma_sigma': 1.3898045428030392}. Best is trial 104 with value: 172.69869995117188.\n",
      "sample: 100%|██████████| 15000/15000 [00:06<00:00, 2327.54it/s, 31 steps of size 7.80e-02. acc. prob=0.93]\n",
      "[I 2024-01-08 06:38:51,021] Trial 596 finished with value: 172.7115020751953 and parameters: {'I_y_and_I_z_mu_0': 1.7079509432411286, 'I_y_and_I_z_mu_1': 0.2373357461853782, 'I_y_and_I_z_cov_0_0': 0.7059375039091418, 'I_y_and_I_z_cov_1_1': 1.4444646387839328, 'Q_mu': 929348721036510.2, 'Q_sigma': 4721345.878682564, 'sigma_mu': 0.7475449645029146, 'sigma_sigma': 1.643893082325987}. Best is trial 104 with value: 172.69869995117188.\n",
      "sample: 100%|██████████| 15000/15000 [00:06<00:00, 2227.17it/s, 63 steps of size 6.67e-02. acc. prob=0.96]\n",
      "[I 2024-01-08 06:38:59,428] Trial 597 finished with value: 172.79925537109375 and parameters: {'I_y_and_I_z_mu_0': 1.871470459472485, 'I_y_and_I_z_mu_1': 0.21797629081817366, 'I_y_and_I_z_cov_0_0': 0.7024998330358878, 'I_y_and_I_z_cov_1_1': 0.3778692006754655, 'Q_mu': 986999171902751.0, 'Q_sigma': 3625801.507690417, 'sigma_mu': 0.8899052556485585, 'sigma_sigma': 1.335277839048102}. Best is trial 104 with value: 172.69869995117188.\n",
      "sample: 100%|██████████| 15000/15000 [00:06<00:00, 2275.33it/s, 31 steps of size 7.21e-02. acc. prob=0.94]\n",
      "[I 2024-01-08 06:39:07,735] Trial 598 finished with value: 172.76504516601562 and parameters: {'I_y_and_I_z_mu_0': 1.7900173470279528, 'I_y_and_I_z_mu_1': 0.20650473857860427, 'I_y_and_I_z_cov_0_0': 0.6760171185043841, 'I_y_and_I_z_cov_1_1': 1.4627976984175746, 'Q_mu': 931747373528826.2, 'Q_sigma': 4703303.3354716655, 'sigma_mu': 0.8754487123711874, 'sigma_sigma': 1.671262895032325}. Best is trial 104 with value: 172.69869995117188.\n",
      "sample: 100%|██████████| 15000/15000 [00:06<00:00, 2283.38it/s, 31 steps of size 6.76e-02. acc. prob=0.94]\n",
      "[I 2024-01-08 06:39:16,060] Trial 599 finished with value: 172.7237548828125 and parameters: {'I_y_and_I_z_mu_0': 1.7065702971406504, 'I_y_and_I_z_mu_1': 0.17684742915924279, 'I_y_and_I_z_cov_0_0': 0.713945471393334, 'I_y_and_I_z_cov_1_1': 1.437966115272964, 'Q_mu': 952630191248617.5, 'Q_sigma': 4881642.12161085, 'sigma_mu': 0.9470299694203446, 'sigma_sigma': 1.7307361475438678}. Best is trial 104 with value: 172.69869995117188.\n",
      "sample: 100%|██████████| 15000/15000 [00:06<00:00, 2298.65it/s, 31 steps of size 7.73e-02. acc. prob=0.95]\n",
      "[I 2024-01-08 06:39:24,298] Trial 600 finished with value: 172.7431182861328 and parameters: {'I_y_and_I_z_mu_0': 1.8497956509703468, 'I_y_and_I_z_mu_1': 0.24470034551756958, 'I_y_and_I_z_cov_0_0': 0.7727197115197304, 'I_y_and_I_z_cov_1_1': 1.3934934230720804, 'Q_mu': 928580231368401.2, 'Q_sigma': 5876935.312705642, 'sigma_mu': 0.831522915703538, 'sigma_sigma': 1.6393309521979187}. Best is trial 104 with value: 172.69869995117188.\n",
      "sample: 100%|██████████| 15000/15000 [00:05<00:00, 2569.60it/s, 31 steps of size 1.17e-01. acc. prob=0.93]\n",
      "[I 2024-01-08 06:39:31,858] Trial 601 finished with value: 173.0430908203125 and parameters: {'I_y_and_I_z_mu_0': 1.7050476121423295, 'I_y_and_I_z_mu_1': 0.27466973735793554, 'I_y_and_I_z_cov_0_0': 1.02458372918756, 'I_y_and_I_z_cov_1_1': 1.4188454065842333, 'Q_mu': 949650074192186.1, 'Q_sigma': 3293054.0413630293, 'sigma_mu': 0.5927518270368661, 'sigma_sigma': 1.9619552975333616}. Best is trial 104 with value: 172.69869995117188.\n",
      "sample: 100%|██████████| 15000/15000 [00:07<00:00, 2110.51it/s, 63 steps of size 6.10e-02. acc. prob=0.95]\n",
      "[I 2024-01-08 06:39:40,630] Trial 602 finished with value: 172.78665161132812 and parameters: {'I_y_and_I_z_mu_0': 1.8044022601934901, 'I_y_and_I_z_mu_1': 0.1554913020889161, 'I_y_and_I_z_cov_0_0': 0.6591100860859936, 'I_y_and_I_z_cov_1_1': 1.48735311732521, 'Q_mu': 903219978777130.8, 'Q_sigma': 4615432.928886164, 'sigma_mu': 1.398067570382652, 'sigma_sigma': 1.169721067261078}. Best is trial 104 with value: 172.69869995117188.\n",
      "sample: 100%|██████████| 15000/15000 [00:06<00:00, 2165.94it/s, 15 steps of size 8.46e-02. acc. prob=0.93]\n",
      "[I 2024-01-08 06:39:49,371] Trial 603 finished with value: 172.7562255859375 and parameters: {'I_y_and_I_z_mu_0': 1.932279398896907, 'I_y_and_I_z_mu_1': 0.5776171921866938, 'I_y_and_I_z_cov_0_0': 0.6711230150880092, 'I_y_and_I_z_cov_1_1': 1.3738829678073747, 'Q_mu': 943063371417165.0, 'Q_sigma': 5299649.006723637, 'sigma_mu': 0.7342537697657516, 'sigma_sigma': 1.8098414261600828}. Best is trial 104 with value: 172.69869995117188.\n",
      "sample: 100%|██████████| 15000/15000 [00:05<00:00, 2773.34it/s, 15 steps of size 1.92e-01. acc. prob=0.93]\n",
      "[I 2024-01-08 06:39:56,641] Trial 604 finished with value: 173.84237670898438 and parameters: {'I_y_and_I_z_mu_0': 0.7262127361088972, 'I_y_and_I_z_mu_1': 0.44770465299032514, 'I_y_and_I_z_cov_0_0': 0.9602490679352752, 'I_y_and_I_z_cov_1_1': 1.4479756952239689, 'Q_mu': 913914646665985.1, 'Q_sigma': 5086032.24672954, 'sigma_mu': 1.1537279793873065, 'sigma_sigma': 1.7633277020186937}. Best is trial 104 with value: 172.69869995117188.\n",
      "sample: 100%|██████████| 15000/15000 [00:05<00:00, 2760.12it/s, 15 steps of size 1.81e-01. acc. prob=0.91]\n",
      "[I 2024-01-08 06:40:03,752] Trial 605 finished with value: 173.4749298095703 and parameters: {'I_y_and_I_z_mu_0': 1.1816814626884173, 'I_y_and_I_z_mu_1': 1.2737517261779352, 'I_y_and_I_z_cov_0_0': 0.7044056240983987, 'I_y_and_I_z_cov_1_1': 1.3445114396740863, 'Q_mu': 892612124404117.6, 'Q_sigma': 5577846.618100424, 'sigma_mu': 0.7388854185988296, 'sigma_sigma': 0.6566248345726027}. Best is trial 104 with value: 172.69869995117188.\n",
      "sample: 100%|██████████| 15000/15000 [00:05<00:00, 2655.04it/s, 15 steps of size 1.42e-01. acc. prob=0.92]\n",
      "[I 2024-01-08 06:40:11,468] Trial 606 finished with value: 172.86077880859375 and parameters: {'I_y_and_I_z_mu_0': 1.733440785842589, 'I_y_and_I_z_mu_1': 1.6389382332671028, 'I_y_and_I_z_cov_0_0': 0.6369914559591288, 'I_y_and_I_z_cov_1_1': 1.0019687342705415, 'Q_mu': 938664379976306.8, 'Q_sigma': 4787518.05047156, 'sigma_mu': 0.4716121513073771, 'sigma_sigma': 1.703255330743843}. Best is trial 104 with value: 172.69869995117188.\n",
      "sample: 100%|██████████| 15000/15000 [00:06<00:00, 2283.55it/s, 15 steps of size 7.46e-02. acc. prob=0.93]\n",
      "[I 2024-01-08 06:40:19,719] Trial 607 finished with value: 172.7685546875 and parameters: {'I_y_and_I_z_mu_0': 1.8827484882331875, 'I_y_and_I_z_mu_1': 0.2449931523788725, 'I_y_and_I_z_cov_0_0': 0.7511769998840496, 'I_y_and_I_z_cov_1_1': 1.3926127869431295, 'Q_mu': 970084152494158.2, 'Q_sigma': 4449916.854302235, 'sigma_mu': 0.7906155673854243, 'sigma_sigma': 1.9298258995023765}. Best is trial 104 with value: 172.69869995117188.\n",
      "sample: 100%|██████████| 15000/15000 [00:05<00:00, 2714.31it/s, 15 steps of size 1.85e-01. acc. prob=0.90]\n",
      "[I 2024-01-08 06:40:26,951] Trial 608 finished with value: 173.5309600830078 and parameters: {'I_y_and_I_z_mu_0': 1.8659245792446213, 'I_y_and_I_z_mu_1': 0.1942370528816747, 'I_y_and_I_z_cov_0_0': 1.8229771347503068, 'I_y_and_I_z_cov_1_1': 1.0627804199750401, 'Q_mu': 912082338141261.6, 'Q_sigma': 5002780.203776298, 'sigma_mu': 0.6196425926693437, 'sigma_sigma': 1.60572120134195}. Best is trial 104 with value: 172.69869995117188.\n",
      "sample: 100%|██████████| 15000/15000 [00:06<00:00, 2401.00it/s, 31 steps of size 8.77e-02. acc. prob=0.93]\n",
      "[I 2024-01-08 06:40:34,916] Trial 609 finished with value: 172.71713256835938 and parameters: {'I_y_and_I_z_mu_0': 1.9371736234119032, 'I_y_and_I_z_mu_1': 0.30195766539961844, 'I_y_and_I_z_cov_0_0': 0.8026708204844294, 'I_y_and_I_z_cov_1_1': 1.323777328122853, 'Q_mu': 892502802429710.6, 'Q_sigma': 4650242.788006307, 'sigma_mu': 0.7908869092949593, 'sigma_sigma': 0.7416808676559368}. Best is trial 104 with value: 172.69869995117188.\n",
      "sample: 100%|██████████| 15000/15000 [00:05<00:00, 2651.09it/s, 15 steps of size 1.39e-01. acc. prob=0.92]\n",
      "[I 2024-01-08 06:40:42,327] Trial 610 finished with value: 173.29714965820312 and parameters: {'I_y_and_I_z_mu_0': 1.7523040484476935, 'I_y_and_I_z_mu_1': 0.5368753115736857, 'I_y_and_I_z_cov_0_0': 0.8545821856852057, 'I_y_and_I_z_cov_1_1': 1.3315722960376144, 'Q_mu': 898132509789285.9, 'Q_sigma': 8887882.37919021, 'sigma_mu': 0.7153698500763528, 'sigma_sigma': 0.8450454464643304}. Best is trial 104 with value: 172.69869995117188.\n",
      "sample: 100%|██████████| 15000/15000 [00:06<00:00, 2443.46it/s, 31 steps of size 8.90e-02. acc. prob=0.94]\n",
      "[I 2024-01-08 06:40:50,304] Trial 611 finished with value: 172.75091552734375 and parameters: {'I_y_and_I_z_mu_0': 1.8483970966501653, 'I_y_and_I_z_mu_1': 0.35053418696486793, 'I_y_and_I_z_cov_0_0': 0.832263640827793, 'I_y_and_I_z_cov_1_1': 1.305148362704596, 'Q_mu': 924284883446914.8, 'Q_sigma': 4599634.8756388845, 'sigma_mu': 0.6855261950092129, 'sigma_sigma': 0.6101768608335076}. Best is trial 104 with value: 172.69869995117188.\n",
      "sample: 100%|██████████| 15000/15000 [00:06<00:00, 2490.35it/s, 31 steps of size 1.01e-01. acc. prob=0.94]\n",
      "[I 2024-01-08 06:40:58,039] Trial 612 finished with value: 172.71786499023438 and parameters: {'I_y_and_I_z_mu_0': 1.958014787198032, 'I_y_and_I_z_mu_1': 1.1373358194344283, 'I_y_and_I_z_cov_0_0': 0.7624086863070322, 'I_y_and_I_z_cov_1_1': 1.3686500278979925, 'Q_mu': 882018569210195.1, 'Q_sigma': 2952361.236210498, 'sigma_mu': 0.6630586128655394, 'sigma_sigma': 0.8798075436177193}. Best is trial 104 with value: 172.69869995117188.\n",
      "sample: 100%|██████████| 15000/15000 [00:06<00:00, 2459.00it/s, 15 steps of size 9.63e-02. acc. prob=0.94]\n",
      "[I 2024-01-08 06:41:05,832] Trial 613 finished with value: 172.71481323242188 and parameters: {'I_y_and_I_z_mu_0': 1.9137714831657584, 'I_y_and_I_z_mu_1': 1.103260104204887, 'I_y_and_I_z_cov_0_0': 0.7349849687179904, 'I_y_and_I_z_cov_1_1': 1.3696924125887358, 'Q_mu': 906305564358966.0, 'Q_sigma': 3572232.241459733, 'sigma_mu': 0.7168759211034932, 'sigma_sigma': 0.8015149469314338}. Best is trial 104 with value: 172.69869995117188.\n",
      "sample: 100%|██████████| 15000/15000 [00:05<00:00, 2537.43it/s, 31 steps of size 1.15e-01. acc. prob=0.91]\n",
      "[I 2024-01-08 06:41:13,483] Trial 614 finished with value: 172.71240234375 and parameters: {'I_y_and_I_z_mu_0': 1.9349617758738378, 'I_y_and_I_z_mu_1': 1.1155214481102418, 'I_y_and_I_z_cov_0_0': 0.7732538741435182, 'I_y_and_I_z_cov_1_1': 1.4045615463346892, 'Q_mu': 885963089492833.2, 'Q_sigma': 2938827.329467482, 'sigma_mu': 0.5323683243013662, 'sigma_sigma': 0.8017191515548571}. Best is trial 104 with value: 172.69869995117188.\n",
      "sample: 100%|██████████| 15000/15000 [00:06<00:00, 2492.02it/s, 31 steps of size 1.07e-01. acc. prob=0.94]\n",
      "[I 2024-01-08 06:41:21,215] Trial 615 finished with value: 172.75332641601562 and parameters: {'I_y_and_I_z_mu_0': 1.9311488890671569, 'I_y_and_I_z_mu_1': 1.1298288270194992, 'I_y_and_I_z_cov_0_0': 0.8113955064216039, 'I_y_and_I_z_cov_1_1': 1.4325647198530977, 'Q_mu': 885128610096126.0, 'Q_sigma': 2960170.116121036, 'sigma_mu': 0.7519893599236795, 'sigma_sigma': 0.7898763639676246}. Best is trial 104 with value: 172.69869995117188.\n",
      "sample: 100%|██████████| 15000/15000 [00:06<00:00, 2484.57it/s, 31 steps of size 1.03e-01. acc. prob=0.93]\n",
      "[I 2024-01-08 06:41:29,004] Trial 616 finished with value: 172.72042846679688 and parameters: {'I_y_and_I_z_mu_0': 1.9577030739758177, 'I_y_and_I_z_mu_1': 1.1473452006909415, 'I_y_and_I_z_cov_0_0': 0.7648007514187072, 'I_y_and_I_z_cov_1_1': 1.399752615658878, 'Q_mu': 903556788041840.1, 'Q_sigma': 2931982.749879441, 'sigma_mu': 0.6702998564030864, 'sigma_sigma': 0.7282157899152701}. Best is trial 104 with value: 172.69869995117188.\n",
      "sample: 100%|██████████| 15000/15000 [00:05<00:00, 2607.09it/s, 15 steps of size 1.46e-01. acc. prob=0.92]\n",
      "[I 2024-01-08 06:41:36,476] Trial 617 finished with value: 172.94058227539062 and parameters: {'I_y_and_I_z_mu_0': 1.9533040201498957, 'I_y_and_I_z_mu_1': 1.1918103721043056, 'I_y_and_I_z_cov_0_0': 0.7880256308141476, 'I_y_and_I_z_cov_1_1': 0.6420921978638703, 'Q_mu': 882324632610168.6, 'Q_sigma': 3421736.010753687, 'sigma_mu': 0.7777710588261378, 'sigma_sigma': 0.8064700464699511}. Best is trial 104 with value: 172.69869995117188.\n",
      "sample: 100%|██████████| 15000/15000 [00:06<00:00, 2456.66it/s, 31 steps of size 9.67e-02. acc. prob=0.94]\n",
      "[I 2024-01-08 06:41:44,344] Trial 618 finished with value: 172.72561645507812 and parameters: {'I_y_and_I_z_mu_0': 1.9300514947110783, 'I_y_and_I_z_mu_1': 1.107460277890727, 'I_y_and_I_z_cov_0_0': 0.8064872466212258, 'I_y_and_I_z_cov_1_1': 1.4817210595709578, 'Q_mu': 917751794514003.6, 'Q_sigma': 3184789.087396523, 'sigma_mu': 0.6536138644725112, 'sigma_sigma': 0.7370870237233942}. Best is trial 104 with value: 172.69869995117188.\n",
      "sample: 100%|██████████| 15000/15000 [00:06<00:00, 2394.11it/s, 15 steps of size 9.58e-02. acc. prob=0.94]\n",
      "[I 2024-01-08 06:41:52,298] Trial 619 finished with value: 172.71124267578125 and parameters: {'I_y_and_I_z_mu_0': 1.9139818112613536, 'I_y_and_I_z_mu_1': 1.0981656048372188, 'I_y_and_I_z_cov_0_0': 0.7249640091995394, 'I_y_and_I_z_cov_1_1': 1.423867861044519, 'Q_mu': 897880464032902.4, 'Q_sigma': 3069456.1062975517, 'sigma_mu': 0.7160768286424014, 'sigma_sigma': 1.1800099508530204}. Best is trial 104 with value: 172.69869995117188.\n",
      "sample: 100%|██████████| 15000/15000 [00:05<00:00, 2512.20it/s, 31 steps of size 1.07e-01. acc. prob=0.92]\n",
      "[I 2024-01-08 06:41:59,976] Trial 620 finished with value: 172.71456909179688 and parameters: {'I_y_and_I_z_mu_0': 1.9039954982297735, 'I_y_and_I_z_mu_1': 1.0838961034857058, 'I_y_and_I_z_cov_0_0': 0.7454702850962975, 'I_y_and_I_z_cov_1_1': 1.4673561591656072, 'Q_mu': 929974503001528.8, 'Q_sigma': 2777990.818499187, 'sigma_mu': 0.8014432066592665, 'sigma_sigma': 0.7757901586471405}. Best is trial 104 with value: 172.69869995117188.\n",
      "sample: 100%|██████████| 15000/15000 [00:07<00:00, 1904.28it/s, 15 steps of size 9.15e-02. acc. prob=0.94]\n",
      "[I 2024-01-08 06:42:09,586] Trial 621 finished with value: 172.7425537109375 and parameters: {'I_y_and_I_z_mu_0': 1.9141405828717732, 'I_y_and_I_z_mu_1': 1.0120161071219005, 'I_y_and_I_z_cov_0_0': 0.7419537782368547, 'I_y_and_I_z_cov_1_1': 1.4762435811825998, 'Q_mu': 954688273423169.2, 'Q_sigma': 4040996.7978612175, 'sigma_mu': 0.9135454810337796, 'sigma_sigma': 0.6849739235746428}. Best is trial 104 with value: 172.69869995117188.\n",
      "sample: 100%|██████████| 15000/15000 [00:06<00:00, 2393.16it/s, 15 steps of size 9.77e-02. acc. prob=0.94]\n",
      "[I 2024-01-08 06:42:17,650] Trial 622 finished with value: 172.7473602294922 and parameters: {'I_y_and_I_z_mu_0': 1.9261913957629349, 'I_y_and_I_z_mu_1': 1.0734168336044667, 'I_y_and_I_z_cov_0_0': 0.7104312095087926, 'I_y_and_I_z_cov_1_1': 1.43506912782417, 'Q_mu': 935751125744886.8, 'Q_sigma': 2663989.2870966634, 'sigma_mu': 0.7312090753568883, 'sigma_sigma': 0.6988680722902292}. Best is trial 104 with value: 172.69869995117188.\n",
      "sample: 100%|██████████| 15000/15000 [00:06<00:00, 2469.44it/s, 31 steps of size 9.83e-02. acc. prob=0.94]\n",
      "[I 2024-01-08 06:42:25,450] Trial 623 finished with value: 172.73086547851562 and parameters: {'I_y_and_I_z_mu_0': 1.8811055768431495, 'I_y_and_I_z_mu_1': 1.0221169491953463, 'I_y_and_I_z_cov_0_0': 0.8080849950223499, 'I_y_and_I_z_cov_1_1': 1.5229256129234419, 'Q_mu': 917931108446306.0, 'Q_sigma': 3197943.2088074065, 'sigma_mu': 0.6755415787129682, 'sigma_sigma': 0.7758227127853586}. Best is trial 104 with value: 172.69869995117188.\n",
      "sample: 100%|██████████| 15000/15000 [00:06<00:00, 2283.17it/s, 15 steps of size 9.20e-02. acc. prob=0.94]\n",
      "[I 2024-01-08 06:42:33,723] Trial 624 finished with value: 172.72854614257812 and parameters: {'I_y_and_I_z_mu_0': 1.8993560342460987, 'I_y_and_I_z_mu_1': 1.0481453551364623, 'I_y_and_I_z_cov_0_0': 0.7402146112358143, 'I_y_and_I_z_cov_1_1': 1.4621928457056357, 'Q_mu': 934646025400317.6, 'Q_sigma': 2798176.339888041, 'sigma_mu': 0.7960937887398124, 'sigma_sigma': 0.8219476114498003}. Best is trial 104 with value: 172.69869995117188.\n",
      "sample: 100%|██████████| 15000/15000 [00:07<00:00, 2063.77it/s, 15 steps of size 8.52e-02. acc. prob=0.96]\n",
      "[I 2024-01-08 06:42:42,835] Trial 625 finished with value: 172.72605895996094 and parameters: {'I_y_and_I_z_mu_0': 1.8961670710605145, 'I_y_and_I_z_mu_1': 1.0912519342017342, 'I_y_and_I_z_cov_0_0': 0.7332293531007105, 'I_y_and_I_z_cov_1_1': 1.5119412747219656, 'Q_mu': 898860449591531.5, 'Q_sigma': 2775351.767386449, 'sigma_mu': 0.7071331554828089, 'sigma_sigma': 0.7317187564314166}. Best is trial 104 with value: 172.69869995117188.\n",
      "sample: 100%|██████████| 15000/15000 [00:06<00:00, 2228.58it/s, 31 steps of size 1.04e-01. acc. prob=0.93]\n",
      "[I 2024-01-08 06:42:51,458] Trial 626 finished with value: 172.73019409179688 and parameters: {'I_y_and_I_z_mu_0': 1.9935372382613576, 'I_y_and_I_z_mu_1': 1.088446172689505, 'I_y_and_I_z_cov_0_0': 0.8693458146401167, 'I_y_and_I_z_cov_1_1': 1.4202251750008414, 'Q_mu': 957141264665514.6, 'Q_sigma': 3143941.718333489, 'sigma_mu': 0.7707359495263922, 'sigma_sigma': 0.7538734087921851}. Best is trial 104 with value: 172.69869995117188.\n",
      "sample: 100%|██████████| 15000/15000 [00:06<00:00, 2388.95it/s, 31 steps of size 1.07e-01. acc. prob=0.92]\n",
      "[I 2024-01-08 06:42:59,485] Trial 627 finished with value: 172.7205810546875 and parameters: {'I_y_and_I_z_mu_0': 1.9557902083205758, 'I_y_and_I_z_mu_1': 1.123440609019391, 'I_y_and_I_z_cov_0_0': 0.7693803490717996, 'I_y_and_I_z_cov_1_1': 1.4821515467347428, 'Q_mu': 905511571786616.0, 'Q_sigma': 3395848.3834498096, 'sigma_mu': 0.79961708767958, 'sigma_sigma': 0.7720354509844742}. Best is trial 104 with value: 172.69869995117188.\n",
      "sample: 100%|██████████| 15000/15000 [00:06<00:00, 2213.82it/s, 31 steps of size 9.66e-02. acc. prob=0.94]\n",
      "[I 2024-01-08 06:43:08,238] Trial 628 finished with value: 172.73660278320312 and parameters: {'I_y_and_I_z_mu_0': 1.8846473721701513, 'I_y_and_I_z_mu_1': 1.045551445643055, 'I_y_and_I_z_cov_0_0': 0.8249595891580478, 'I_y_and_I_z_cov_1_1': 1.44322638888527, 'Q_mu': 943084537907646.6, 'Q_sigma': 2531216.387972421, 'sigma_mu': 0.8363521810085849, 'sigma_sigma': 0.9279787884709273}. Best is trial 104 with value: 172.69869995117188.\n",
      "sample: 100%|██████████| 15000/15000 [00:07<00:00, 2134.63it/s, 15 steps of size 9.68e-02. acc. prob=0.93]\n",
      "[I 2024-01-08 06:43:17,164] Trial 629 finished with value: 172.73692321777344 and parameters: {'I_y_and_I_z_mu_0': 1.8416759527979714, 'I_y_and_I_z_mu_1': 1.085032286624075, 'I_y_and_I_z_cov_0_0': 0.7131025348009344, 'I_y_and_I_z_cov_1_1': 1.4031178251970502, 'Q_mu': 974044766428816.2, 'Q_sigma': 2989167.4786743373, 'sigma_mu': 0.8249263284807212, 'sigma_sigma': 0.8256545896483004}. Best is trial 104 with value: 172.69869995117188.\n",
      "sample: 100%|██████████| 15000/15000 [00:06<00:00, 2305.85it/s, 31 steps of size 1.02e-01. acc. prob=0.93]\n",
      "[I 2024-01-08 06:43:25,549] Trial 630 finished with value: 172.73114013671875 and parameters: {'I_y_and_I_z_mu_0': 1.9275935490849248, 'I_y_and_I_z_mu_1': 1.156927549833319, 'I_y_and_I_z_cov_0_0': 0.8047889611321352, 'I_y_and_I_z_cov_1_1': 1.3804014404193832, 'Q_mu': 919560262544459.4, 'Q_sigma': 2316126.931334801, 'sigma_mu': 0.7730653714460024, 'sigma_sigma': 0.71484918623059}. Best is trial 104 with value: 172.69869995117188.\n",
      "sample: 100%|██████████| 15000/15000 [00:06<00:00, 2230.04it/s, 15 steps of size 9.32e-02. acc. prob=0.95]\n",
      "[I 2024-01-08 06:43:34,060] Trial 631 finished with value: 172.75698852539062 and parameters: {'I_y_and_I_z_mu_0': 1.828108421071152, 'I_y_and_I_z_mu_1': 1.0860713583853743, 'I_y_and_I_z_cov_0_0': 0.7782731709162517, 'I_y_and_I_z_cov_1_1': 1.3580962753447303, 'Q_mu': 872452661372258.2, 'Q_sigma': 2648708.5782897035, 'sigma_mu': 0.71724341923834, 'sigma_sigma': 0.7771977511718386}. Best is trial 104 with value: 172.69869995117188.\n",
      "sample: 100%|██████████| 15000/15000 [00:06<00:00, 2308.08it/s, 31 steps of size 1.16e-01. acc. prob=0.92]\n",
      "[I 2024-01-08 06:43:42,385] Trial 632 finished with value: 172.73243713378906 and parameters: {'I_y_and_I_z_mu_0': 1.9091084936376506, 'I_y_and_I_z_mu_1': 1.1944321345288773, 'I_y_and_I_z_cov_0_0': 0.7262715128698152, 'I_y_and_I_z_cov_1_1': 1.418212076289766, 'Q_mu': 899571958801360.9, 'Q_sigma': 3758321.5079620522, 'sigma_mu': 0.8315930219065255, 'sigma_sigma': 1.1601568116879422}. Best is trial 104 with value: 172.69869995117188.\n",
      "sample: 100%|██████████| 15000/15000 [00:06<00:00, 2425.10it/s, 31 steps of size 1.29e-01. acc. prob=0.93]\n",
      "[I 2024-01-08 06:43:50,478] Trial 633 finished with value: 172.85821533203125 and parameters: {'I_y_and_I_z_mu_0': 1.9928633901382788, 'I_y_and_I_z_mu_1': 1.1456049224856268, 'I_y_and_I_z_cov_0_0': 0.7085599136451125, 'I_y_and_I_z_cov_1_1': 1.4675155317306479, 'Q_mu': 581870047647905.8, 'Q_sigma': 3046307.782221603, 'sigma_mu': 0.6391031975696729, 'sigma_sigma': 0.8050643029313269}. Best is trial 104 with value: 172.69869995117188.\n",
      "sample: 100%|██████████| 15000/15000 [00:06<00:00, 2448.96it/s, 31 steps of size 1.10e-01. acc. prob=0.92]\n",
      "[I 2024-01-08 06:43:58,430] Trial 634 finished with value: 172.72720336914062 and parameters: {'I_y_and_I_z_mu_0': 1.9083854548494288, 'I_y_and_I_z_mu_1': 1.056908773571906, 'I_y_and_I_z_cov_0_0': 0.7990617974591108, 'I_y_and_I_z_cov_1_1': 1.4903485170888484, 'Q_mu': 927280042675697.5, 'Q_sigma': 3528718.836822287, 'sigma_mu': 0.8579530785821681, 'sigma_sigma': 1.2157978130305103}. Best is trial 104 with value: 172.69869995117188.\n",
      "sample: 100%|██████████| 15000/15000 [00:06<00:00, 2322.92it/s, 31 steps of size 1.06e-01. acc. prob=0.94]\n",
      "[I 2024-01-08 06:44:06,699] Trial 635 finished with value: 172.75152587890625 and parameters: {'I_y_and_I_z_mu_0': 1.9563584769693896, 'I_y_and_I_z_mu_1': 1.064400856388579, 'I_y_and_I_z_cov_0_0': 0.6755319962187085, 'I_y_and_I_z_cov_1_1': 0.7998649114755225, 'Q_mu': 958833352127243.6, 'Q_sigma': 2858453.5239631915, 'sigma_mu': 0.8111238694709355, 'sigma_sigma': 0.8806442668894029}. Best is trial 104 with value: 172.69869995117188.\n",
      "sample: 100%|██████████| 15000/15000 [00:06<00:00, 2476.77it/s, 31 steps of size 1.35e-01. acc. prob=0.91]\n",
      "[I 2024-01-08 06:44:14,547] Trial 636 finished with value: 172.91302490234375 and parameters: {'I_y_and_I_z_mu_0': 1.862724419607407, 'I_y_and_I_z_mu_1': 1.1248258836092608, 'I_y_and_I_z_cov_0_0': 0.8937013267844023, 'I_y_and_I_z_cov_1_1': 1.4078375581945706, 'Q_mu': 867896596037149.9, 'Q_sigma': 3298589.7814183263, 'sigma_mu': 0.7672745391813587, 'sigma_sigma': 1.1314223474717737}. Best is trial 104 with value: 172.69869995117188.\n",
      "sample: 100%|██████████| 15000/15000 [00:06<00:00, 2331.26it/s, 31 steps of size 1.01e-01. acc. prob=0.94]\n",
      "[I 2024-01-08 06:44:22,672] Trial 637 finished with value: 172.739013671875 and parameters: {'I_y_and_I_z_mu_0': 1.8616733729446007, 'I_y_and_I_z_mu_1': 1.157160337064441, 'I_y_and_I_z_cov_0_0': 0.7601691993390703, 'I_y_and_I_z_cov_1_1': 1.3592488077676812, 'Q_mu': 903175025574372.8, 'Q_sigma': 2803337.3862355934, 'sigma_mu': 0.704688662117818, 'sigma_sigma': 0.8452557274342838}. Best is trial 104 with value: 172.69869995117188.\n",
      "sample: 100%|██████████| 15000/15000 [00:05<00:00, 2519.40it/s, 15 steps of size 1.23e-01. acc. prob=0.92]\n",
      "[I 2024-01-08 06:44:30,476] Trial 638 finished with value: 172.85678100585938 and parameters: {'I_y_and_I_z_mu_0': 1.8095921236544639, 'I_y_and_I_z_mu_1': 1.2247164536181745, 'I_y_and_I_z_cov_0_0': 0.8482472480500257, 'I_y_and_I_z_cov_1_1': 1.4495727601801245, 'Q_mu': 884583002690015.9, 'Q_sigma': 2532709.6332003362, 'sigma_mu': 0.54626241549072, 'sigma_sigma': 0.7227024232589294}. Best is trial 104 with value: 172.69869995117188.\n",
      "sample: 100%|██████████| 15000/15000 [00:06<00:00, 2299.37it/s, 31 steps of size 9.34e-02. acc. prob=0.94]\n",
      "[I 2024-01-08 06:44:38,840] Trial 639 finished with value: 172.75355529785156 and parameters: {'I_y_and_I_z_mu_0': 1.9544489426887826, 'I_y_and_I_z_mu_1': 1.0920514250413027, 'I_y_and_I_z_cov_0_0': 0.6914390040362414, 'I_y_and_I_z_cov_1_1': 1.3977722307405898, 'Q_mu': 940905399496970.8, 'Q_sigma': 3156599.1893158797, 'sigma_mu': 0.45682590647835075, 'sigma_sigma': 0.7552678060103674}. Best is trial 104 with value: 172.69869995117188.\n",
      "sample: 100%|██████████| 15000/15000 [00:05<00:00, 2552.64it/s, 15 steps of size 1.47e-01. acc. prob=0.92]\n",
      "[I 2024-01-08 06:44:46,499] Trial 640 finished with value: 172.89105224609375 and parameters: {'I_y_and_I_z_mu_0': 1.8986233233286622, 'I_y_and_I_z_mu_1': 1.023614826240163, 'I_y_and_I_z_cov_0_0': 0.7305821275841237, 'I_y_and_I_z_cov_1_1': 0.4324795588692406, 'Q_mu': 984513368558702.4, 'Q_sigma': 3519311.3680860163, 'sigma_mu': 0.7434937754975445, 'sigma_sigma': 0.647680471969527}. Best is trial 104 with value: 172.69869995117188.\n",
      "sample: 100%|██████████| 15000/15000 [00:05<00:00, 2590.37it/s, 15 steps of size 1.46e-01. acc. prob=0.94]\n",
      "[I 2024-01-08 06:44:54,068] Trial 641 finished with value: 173.19937133789062 and parameters: {'I_y_and_I_z_mu_0': 1.8245024989741, 'I_y_and_I_z_mu_1': 1.1337391936971422, 'I_y_and_I_z_cov_0_0': 0.7736135788220635, 'I_y_and_I_z_cov_1_1': 1.538017346399877, 'Q_mu': 514528599131773.25, 'Q_sigma': 3340271.884278431, 'sigma_mu': 0.5752955250186431, 'sigma_sigma': 1.0952853367599917}. Best is trial 104 with value: 172.69869995117188.\n",
      "sample: 100%|██████████| 15000/15000 [00:06<00:00, 2375.54it/s, 31 steps of size 9.49e-02. acc. prob=0.95]\n",
      "[I 2024-01-08 06:45:02,244] Trial 642 finished with value: 172.74014282226562 and parameters: {'I_y_and_I_z_mu_0': 1.9554594820240987, 'I_y_and_I_z_mu_1': 1.1921721804574106, 'I_y_and_I_z_cov_0_0': 0.6677596987295737, 'I_y_and_I_z_cov_1_1': 1.3345159187577025, 'Q_mu': 859247552222438.1, 'Q_sigma': 2737115.8304742887, 'sigma_mu': 0.6164278518134847, 'sigma_sigma': 0.7005907866301102}. Best is trial 104 with value: 172.69869995117188.\n",
      "sample: 100%|██████████| 15000/15000 [00:06<00:00, 2293.00it/s, 15 steps of size 9.36e-02. acc. prob=0.90]\n",
      "[I 2024-01-08 06:45:10,662] Trial 643 finished with value: 172.8278045654297 and parameters: {'I_y_and_I_z_mu_0': 1.9118323382407547, 'I_y_and_I_z_mu_1': 0.38085266130060347, 'I_y_and_I_z_cov_0_0': 0.6868832146260756, 'I_y_and_I_z_cov_1_1': 1.3767022078197304, 'Q_mu': 907702420863370.0, 'Q_sigma': 3031669.530570802, 'sigma_mu': 0.5691963165392241, 'sigma_sigma': 0.9205451538547584}. Best is trial 104 with value: 172.69869995117188.\n",
      "sample: 100%|██████████| 15000/15000 [00:06<00:00, 2405.36it/s, 31 steps of size 1.01e-01. acc. prob=0.93]\n",
      "[I 2024-01-08 06:45:18,707] Trial 644 finished with value: 172.73733520507812 and parameters: {'I_y_and_I_z_mu_0': 1.868853906726952, 'I_y_and_I_z_mu_1': 1.069839973620267, 'I_y_and_I_z_cov_0_0': 0.7399181468173686, 'I_y_and_I_z_cov_1_1': 1.4510976749955375, 'Q_mu': 925072490552136.1, 'Q_sigma': 3480508.1575477696, 'sigma_mu': 0.7084325631692474, 'sigma_sigma': 0.7955347586718321}. Best is trial 104 with value: 172.69869995117188.\n",
      "sample: 100%|██████████| 15000/15000 [00:05<00:00, 2611.51it/s, 31 steps of size 1.45e-01. acc. prob=0.94]\n",
      "[I 2024-01-08 06:45:26,269] Trial 645 finished with value: 173.123046875 and parameters: {'I_y_and_I_z_mu_0': 1.7842780720609897, 'I_y_and_I_z_mu_1': 1.104183078828365, 'I_y_and_I_z_cov_0_0': 0.9143132936702626, 'I_y_and_I_z_cov_1_1': 0.8777835512845013, 'Q_mu': 889837591507365.1, 'Q_sigma': 3599459.175968188, 'sigma_mu': 0.5154909118854131, 'sigma_sigma': 0.6112617500140984}. Best is trial 104 with value: 172.69869995117188.\n",
      "sample: 100%|██████████| 15000/15000 [00:05<00:00, 2664.40it/s, 31 steps of size 1.66e-01. acc. prob=0.93]\n",
      "[I 2024-01-08 06:45:33,719] Trial 646 finished with value: 173.13308715820312 and parameters: {'I_y_and_I_z_mu_0': 1.967606869294677, 'I_y_and_I_z_mu_1': 0.9989768519733424, 'I_y_and_I_z_cov_0_0': 0.6638167190979561, 'I_y_and_I_z_cov_1_1': 1.341753894389166, 'Q_mu': 386968054286452.5, 'Q_sigma': 2317190.220340848, 'sigma_mu': 0.40780323118644923, 'sigma_sigma': 0.7603960455815909}. Best is trial 104 with value: 172.69869995117188.\n",
      "sample: 100%|██████████| 15000/15000 [00:06<00:00, 2374.99it/s, 31 steps of size 9.53e-02. acc. prob=0.94] \n",
      "[I 2024-01-08 06:45:41,880] Trial 647 finished with value: 172.71505737304688 and parameters: {'I_y_and_I_z_mu_0': 1.9247156668022571, 'I_y_and_I_z_mu_1': 0.9725070083098974, 'I_y_and_I_z_cov_0_0': 0.813616421161926, 'I_y_and_I_z_cov_1_1': 1.4291908262080477, 'Q_mu': 956690607147404.2, 'Q_sigma': 2851636.744200967, 'sigma_mu': 0.4914340944602118, 'sigma_sigma': 1.2464925006553098}. Best is trial 104 with value: 172.69869995117188.\n",
      "sample: 100%|██████████| 15000/15000 [00:06<00:00, 2389.75it/s, 31 steps of size 1.00e-01. acc. prob=0.93]\n",
      "[I 2024-01-08 06:45:49,988] Trial 648 finished with value: 172.72683715820312 and parameters: {'I_y_and_I_z_mu_0': 1.9284230289631155, 'I_y_and_I_z_mu_1': 0.9914946726755052, 'I_y_and_I_z_cov_0_0': 0.7951144379507789, 'I_y_and_I_z_cov_1_1': 1.5052830421043488, 'Q_mu': 960143210434026.0, 'Q_sigma': 2576608.2424351927, 'sigma_mu': 0.4859392851998303, 'sigma_sigma': 1.2213061193063532}. Best is trial 104 with value: 172.69869995117188.\n",
      "sample: 100%|██████████| 15000/15000 [00:05<00:00, 2724.65it/s, 31 steps of size 1.98e-01. acc. prob=0.94]\n",
      "[I 2024-01-08 06:45:57,314] Trial 649 finished with value: 173.240234375 and parameters: {'I_y_and_I_z_mu_0': 1.984104599156494, 'I_y_and_I_z_mu_1': 1.3525986368182954, 'I_y_and_I_z_cov_0_0': 0.8624788203982138, 'I_y_and_I_z_cov_1_1': 0.3305466878700519, 'Q_mu': 980820909120616.5, 'Q_sigma': 2745252.4191657277, 'sigma_mu': 0.7732002508707763, 'sigma_sigma': 1.166821628785217}. Best is trial 104 with value: 172.69869995117188.\n",
      "sample: 100%|██████████| 15000/15000 [00:05<00:00, 2941.61it/s, 7 steps of size 4.40e-01. acc. prob=0.89] \n",
      "[I 2024-01-08 06:46:04,231] Trial 650 finished with value: 175.53506469726562 and parameters: {'I_y_and_I_z_mu_0': 1.8850179124896287, 'I_y_and_I_z_mu_1': 1.2295637795465175, 'I_y_and_I_z_cov_0_0': 0.8408951829993339, 'I_y_and_I_z_cov_1_1': 0.031112272769334037, 'Q_mu': 961195907789014.8, 'Q_sigma': 2935950.572487791, 'sigma_mu': 0.5218597282447935, 'sigma_sigma': 1.1902108688328419}. Best is trial 104 with value: 172.69869995117188.\n",
      "sample: 100%|██████████| 15000/15000 [00:06<00:00, 2353.10it/s, 15 steps of size 9.93e-02. acc. prob=0.92]\n",
      "[I 2024-01-08 06:46:12,442] Trial 651 finished with value: 172.730712890625 and parameters: {'I_y_and_I_z_mu_0': 1.9335150410777457, 'I_y_and_I_z_mu_1': 0.9300974355127207, 'I_y_and_I_z_cov_0_0': 0.8074456864774717, 'I_y_and_I_z_cov_1_1': 1.4178145801254483, 'Q_mu': 991258013875792.4, 'Q_sigma': 2452354.369180478, 'sigma_mu': 0.544845547393459, 'sigma_sigma': 1.1367617278360358}. Best is trial 104 with value: 172.69869995117188.\n",
      "sample: 100%|██████████| 15000/15000 [00:06<00:00, 2332.73it/s, 31 steps of size 9.70e-02. acc. prob=0.94]\n",
      "[I 2024-01-08 06:46:20,728] Trial 652 finished with value: 172.72857666015625 and parameters: {'I_y_and_I_z_mu_0': 1.9985962192098143, 'I_y_and_I_z_mu_1': 0.9697149406910699, 'I_y_and_I_z_cov_0_0': 0.8838327205335581, 'I_y_and_I_z_cov_1_1': 1.4525194688000034, 'Q_mu': 927578095098224.0, 'Q_sigma': 3202967.474589899, 'sigma_mu': 0.4710893018835978, 'sigma_sigma': 0.6934279241475112}. Best is trial 104 with value: 172.69869995117188.\n",
      "sample: 100%|██████████| 15000/15000 [00:06<00:00, 2306.48it/s, 15 steps of size 8.90e-02. acc. prob=0.93]\n",
      "[I 2024-01-08 06:46:29,083] Trial 653 finished with value: 172.71847534179688 and parameters: {'I_y_and_I_z_mu_0': 1.9031379910850077, 'I_y_and_I_z_mu_1': 0.7789288722062334, 'I_y_and_I_z_cov_0_0': 0.7634388034050266, 'I_y_and_I_z_cov_1_1': 1.50387415055292, 'Q_mu': 929794398609033.0, 'Q_sigma': 2865296.49444565, 'sigma_mu': 0.5008007128913674, 'sigma_sigma': 1.2624025767982574}. Best is trial 104 with value: 172.69869995117188.\n",
      "sample: 100%|██████████| 15000/15000 [00:05<00:00, 2712.50it/s, 15 steps of size 1.89e-01. acc. prob=0.93]\n",
      "[I 2024-01-08 06:46:36,424] Trial 654 finished with value: 173.37210083007812 and parameters: {'I_y_and_I_z_mu_0': 1.816263719859443, 'I_y_and_I_z_mu_1': 1.1823958149110603, 'I_y_and_I_z_cov_0_0': 1.3931170062925686, 'I_y_and_I_z_cov_1_1': 1.4175990919349482, 'Q_mu': 945501565036528.4, 'Q_sigma': 3047529.135924982, 'sigma_mu': 0.6512370913429308, 'sigma_sigma': 1.1694112195551996}. Best is trial 104 with value: 172.69869995117188.\n",
      "sample: 100%|██████████| 15000/15000 [00:07<00:00, 2056.81it/s, 15 steps of size 1.76e-01. acc. prob=0.92]\n",
      "[I 2024-01-08 06:46:45,575] Trial 655 finished with value: 173.85293579101562 and parameters: {'I_y_and_I_z_mu_0': 1.0593294362773726, 'I_y_and_I_z_mu_1': 0.9621979374032866, 'I_y_and_I_z_cov_0_0': 1.5820706227369132, 'I_y_and_I_z_cov_1_1': 1.4710418626146178, 'Q_mu': 954485614709678.6, 'Q_sigma': 7651027.995596382, 'sigma_mu': 0.6039793191532792, 'sigma_sigma': 1.2307420639235067}. Best is trial 104 with value: 172.69869995117188.\n",
      "sample: 100%|██████████| 15000/15000 [00:06<00:00, 2331.07it/s, 15 steps of size 9.12e-02. acc. prob=0.94]\n",
      "[I 2024-01-08 06:46:53,849] Trial 656 finished with value: 172.7408905029297 and parameters: {'I_y_and_I_z_mu_0': 1.8848071048582147, 'I_y_and_I_z_mu_1': 1.0409660395668205, 'I_y_and_I_z_cov_0_0': 0.7140103687617817, 'I_y_and_I_z_cov_1_1': 1.3759332669794482, 'Q_mu': 974141985105153.6, 'Q_sigma': 2380432.379745152, 'sigma_mu': 0.5436684529435482, 'sigma_sigma': 1.1004628186980976}. Best is trial 104 with value: 172.69869995117188.\n",
      "sample: 100%|██████████| 15000/15000 [00:06<00:00, 2437.70it/s, 15 steps of size 1.04e-01. acc. prob=0.94]\n",
      "[I 2024-01-08 06:47:01,943] Trial 657 finished with value: 172.74868774414062 and parameters: {'I_y_and_I_z_mu_0': 1.9265774750528306, 'I_y_and_I_z_mu_1': 1.2956238720197084, 'I_y_and_I_z_cov_0_0': 0.8349060827208599, 'I_y_and_I_z_cov_1_1': 1.5380902041008067, 'Q_mu': 914069377017802.4, 'Q_sigma': 2640261.7346884203, 'sigma_mu': 0.4397871619675297, 'sigma_sigma': 1.1926998620091802}. Best is trial 104 with value: 172.69869995117188.\n",
      "sample: 100%|██████████| 15000/15000 [00:06<00:00, 2172.87it/s, 7 steps of size 1.60e-01. acc. prob=0.91] \n",
      "[I 2024-01-08 06:47:59,599] Trial 658 finished with value: 173.2281494140625 and parameters: {'I_y_and_I_z_mu_0': 1.8562545932459158, 'I_y_and_I_z_mu_1': 0.8504679978974834, 'I_y_and_I_z_cov_0_0': 1.2077092859842389, 'I_y_and_I_z_cov_1_1': 1.4248441621431112, 'Q_mu': 899379516663740.0, 'Q_sigma': 2822430.6884245803, 'sigma_mu': 0.48595101201434676, 'sigma_sigma': 1.3591093876134743}. Best is trial 104 with value: 172.69869995117188.\n",
      "sample: 100%|██████████| 15000/15000 [00:46<00:00, 319.68it/s, 15 steps of size 1.76e-01. acc. prob=0.92] \n",
      "[I 2024-01-08 07:11:31,649] Trial 659 finished with value: 173.3272705078125 and parameters: {'I_y_and_I_z_mu_0': 1.8558276131085234, 'I_y_and_I_z_mu_1': 1.2544912496448908, 'I_y_and_I_z_cov_0_0': 0.7412762427622517, 'I_y_and_I_z_cov_1_1': 0.45982607049816815, 'Q_mu': 867534329962830.9, 'Q_sigma': 6620716.74897166, 'sigma_mu': 0.700982367727634, 'sigma_sigma': 0.8809686185887589}. Best is trial 104 with value: 172.69869995117188.\n",
      "sample: 100%|██████████| 15000/15000 [00:06<00:00, 2276.84it/s, 15 steps of size 7.54e-02. acc. prob=0.95]\n"
     ]
    },
    {
     "ename": "",
     "evalue": "",
     "output_type": "error",
     "traceback": [
      "\u001b[1;31mThe Kernel crashed while executing code in the the current cell or a previous cell. Please review the code in the cell(s) to identify a possible cause of the failure. Click <a href='https://aka.ms/vscodeJupyterKernelCrash'>here</a> for more info. View Jupyter <a href='command:jupyter.viewOutput'>log</a> for further details."
     ]
    }
   ],
   "source": [
    "optimising_parameters = {\n",
    "                    'I_y_and_I_z_mu_0': [1e-2, 2],\n",
    "                    'I_y_and_I_z_mu_1': [1e-2, 2],\n",
    "                    'I_y_and_I_z_cov_0_0': [1e-2, 2],\n",
    "                    'I_y_and_I_z_cov_1_1': [1e-2, 2],\n",
    "                    'Q_mu': [1e12, 1e15],\n",
    "                    'Q_sigma': [1e5, 1e7],\n",
    "                    'sigma_mu':[0.2, 2],\n",
    "                    'sigma_sigma':[0.2, 2]\n",
    "                }\n",
    "\n",
    "optimiser = Optimiser(results_name=results_name, \n",
    "                  data_params=data_params,\n",
    "                  default_params=default_params)\n",
    "\n",
    "# AIC\n",
    "study = optimiser.run(n_trials=1000, optimiser_name='AIC_1', optimising_parameters=optimising_parameters, index_name='aic')\n",
    "optimiser.get_plots(study)\n",
    "domain = Domain('cone_from_source_z_limited', resolution=80)\n",
    "domain.add_domain_param('r', 1000)\n",
    "domain.add_domain_param('theta', np.pi/8)\n",
    "domain.add_domain_param('source', [0,0,5])\n",
    "domain.add_domain_param('z_slice', 0)\n",
    "domain.add_domain_param('y_slice', 0)\n",
    "domain.add_domain_param('x_slice', 100)\n",
    "\n",
    "optimiser.run_best_params(study, domain, name = 'small_scale', prior_plots=prior_plots)\n",
    "\n",
    "# # # # RMSE\n",
    "# # # study = optimiser.run(n_trials=100, optimiser_name='RMSE_1', optimising_parameters=optimising_parameters, index_name='rmse')\n",
    "# # # optimiser.get_plots(study)\n",
    "# # # domain = Domain('cone_from_source_z_limited', resolution=80)\n",
    "# # # domain.add_domain_param('r', 1000)\n",
    "# # # domain.add_domain_param('theta', np.pi/8)\n",
    "# # # domain.add_domain_param('source', [0,0,10])\n",
    "# # # optimiser.run_best_params(study, domain, name = 'small_scale_3D_plots', prior_plots=prior_plots)\n",
    "\n",
    "# # # # BIC\n",
    "# # # study = optimiser.run(n_trials=100, optimiser_name='BIC_1', optimising_parameters=optimising_parameters, index_name='bic')\n",
    "# # # optimiser.get_plots(study)\n",
    "# # # domain = Domain('cone_from_source_z_limited', resolution=80)\n",
    "# # # domain.add_domain_param('r', 1000)\n",
    "# # # domain.add_domain_param('theta', np.pi/8)\n",
    "# # # domain.add_domain_param('source', [0,0,10])\n",
    "# # # optimiser.run_best_params(study, domain, name = 'small_scale_3D_plots', prior_plots=prior_plots)"
   ]
  }
 ],
 "metadata": {
  "kernelspec": {
   "display_name": "base",
   "language": "python",
   "name": "python3"
  },
  "language_info": {
   "codemirror_mode": {
    "name": "ipython",
    "version": 3
   },
   "file_extension": ".py",
   "mimetype": "text/x-python",
   "name": "python",
   "nbconvert_exporter": "python",
   "pygments_lexer": "ipython3",
   "version": "3.9.16"
  },
  "orig_nbformat": 4
 },
 "nbformat": 4,
 "nbformat_minor": 2
}
