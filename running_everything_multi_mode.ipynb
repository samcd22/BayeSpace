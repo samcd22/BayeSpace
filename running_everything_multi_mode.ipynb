{
 "cells": [
  {
   "attachments": {},
   "cell_type": "markdown",
   "metadata": {},
   "source": [
    "# Controller #"
   ]
  },
  {
   "attachments": {},
   "cell_type": "markdown",
   "metadata": {},
   "source": [
    "Import all neccessary packages"
   ]
  },
  {
   "cell_type": "code",
   "execution_count": 1,
   "metadata": {},
   "outputs": [
    {
     "name": "stderr",
     "output_type": "stream",
     "text": [
      "No GPU/TPU found, falling back to CPU. (Set TF_CPP_MIN_LOG_LEVEL=0 and rerun for more info.)\n"
     ]
    }
   ],
   "source": [
    "import os\n",
    "import pandas as pd\n",
    "import numpy as np\n",
    "\n",
    "from controllers.inference_controllers.sandbox import Sandbox\n",
    "from controllers.inference_controllers.generator import Generator\n",
    "from controllers.inference_controllers.optimiser import Optimiser\n",
    "\n",
    "from toolboxes.plotting_toolbox.domain import Domain\n",
    "from toolboxes.inference_toolbox.parameter import Parameter\n",
    "from toolboxes.inference_toolbox.model import Model\n",
    "from toolboxes.inference_toolbox.likelihood import Likelihood\n",
    "\n",
    "current_directory = os.getcwd()\n",
    "if current_directory != '/project/':\n",
    "    os.chdir('/project/')"
   ]
  },
  {
   "attachments": {},
   "cell_type": "markdown",
   "metadata": {},
   "source": [
    "Defining simulated data"
   ]
  },
  {
   "cell_type": "code",
   "execution_count": 2,
   "metadata": {},
   "outputs": [],
   "source": [
    "data_params = {\n",
    "    'data_type': 'simulated_data',\n",
    "    'model': {\n",
    "        'model_select': 'log_gpm_norm',\n",
    "        'model_params':{\n",
    "            'H': 10\n",
    "        },\n",
    "        'inference_params':{\n",
    "            'I_y': 1.6,\n",
    "            'I_z': 1.2,\n",
    "            'Q': 3e13,\n",
    "            # 'sigma': 1\n",
    "        }\n",
    "    },\n",
    "    'domain':{\n",
    "        'domain_select': 'cone_from_source_z_limited',\n",
    "        'domain_params': {\n",
    "            'r': 1000,\n",
    "            'theta': np.pi/8,\n",
    "            'source': [0,0,10]\n",
    "        },\n",
    "        'resolution': 20\n",
    "    },\n",
    "    'noise_dist': 'gaussian',\n",
    "    'noise_percentage': 0.01,\n",
    "    'output_header': 'Concentration',\n",
    "}\n",
    "\n",
    "# data_params = {\n",
    "#     'data_type': 'normalised_data',\n",
    "#     'data_select': 'GBR_data',\n",
    "#     'normaliser_select': 'GBR_normaliser',\n",
    "#     'normaliser_params':{\n",
    "#         'experiments_list': [\n",
    "#             'Exp1',\n",
    "#             'Exp2',\n",
    "#             'Exp3',\n",
    "#             'Exp4',\n",
    "#             'Exp5',\n",
    "#             'Exp6',\n",
    "#             'Exp7',\n",
    "#             'Exp8',\n",
    "#             'Exp9',\n",
    "#             'Exp10',\n",
    "#             'Exp11',\n",
    "#             'Exp12',\n",
    "#         ],\n",
    "#         'meta_data_select': 'GBR_data_summary',\n",
    "#         'input_header': 'Concentration'\n",
    "#     },\n",
    "#     'log':True,\n",
    "#     'output_header': 'Concentration',\n",
    "#     'gridding': [100,100,25]\n",
    "# }\n",
    "\n",
    "prior_plots = [\n",
    "    {\n",
    "        'Q': [1e12, 5e13],\n",
    "        'references':{\n",
    "            'Q' : [2.82e13, 3.11e13, 2.89e13, 4.83e13],\n",
    "            'labels': ['250m','200m','750m','1000m'] \n",
    "        }\n",
    "    },\n",
    "    # {\n",
    "    #     'sigma': [0.001, 4],\n",
    "    # },\n",
    "    {\n",
    "        'I_y': [0.0001, 1.7],\n",
    "        'I_z': [0.0001, 1.7],\n",
    "        'references':{\n",
    "            'I_y' : [0.22, 1.6, 0.11, 0.08, 0.06, 0.04],\n",
    "            'I_z' : [0.2, 1.2, 0.08, 0.06, 0.03, 0.016],\n",
    "            'labels': ['A','B','C','D','E','F'] \n",
    "        }\n",
    "    }\n",
    "]\n",
    "\n",
    "results_name = 'simulated_data_2'"
   ]
  },
  {
   "cell_type": "markdown",
   "metadata": {},
   "source": [
    "Defining default parameters and prior plots for gamma priors of the simulated data"
   ]
  },
  {
   "cell_type": "code",
   "execution_count": 3,
   "metadata": {},
   "outputs": [],
   "source": [
    "default_params = {\n",
    "    'infered_params':pd.Series({\n",
    "        'model_params':pd.Series({\n",
    "            'I_y_and_I_z': Parameter('I_y','I_z', prior_select='multi_mode_log_norm')\n",
    "                                    .add_prior_param('mus', [[0.12, 0.09], [0.22, 0.2], [1.6,1.2]])\n",
    "                                    .add_prior_param('covs', [[[0.01,0],[0,0.01]], [[0.003,0],[0,0.003]], [[0.003,0],[0,0.003]]]),\n",
    "            'Q': Parameter('Q', prior_select = 'log_norm').add_prior_param('mu', 6e13).add_prior_param('sigma',6e6),\n",
    "        })\n",
    "        ,\n",
    "        'likelihood_params':pd.Series({\n",
    "        #     'sigma': Parameter('sigma', prior_select = 'log_norm').add_prior_param('mu', 1.5).add_prior_param('sigma',0.7)\n",
    "        })\n",
    "    }),\n",
    "    'model':Model('log_gpm_norm').add_model_param('H',5),\n",
    "    'likelihood': Likelihood('gaussian_fixed_sigma').add_likelihood_param('sigma',0.05),\n",
    "    'sampler': {\n",
    "        'n_samples': 10000,\n",
    "        'n_chains': 3,\n",
    "        'thinning_rate': 1\n",
    "    }\n",
    "}"
   ]
  },
  {
   "attachments": {},
   "cell_type": "markdown",
   "metadata": {},
   "source": [
    "Running a general instance for gamma priors and simulated data"
   ]
  },
  {
   "cell_type": "code",
   "execution_count": 4,
   "metadata": {},
   "outputs": [
    {
     "name": "stderr",
     "output_type": "stream",
     "text": [
      "sample: 100%|██████████| 15000/15000 [00:08<00:00, 1834.70it/s, 127 steps of size 2.75e-02. acc. prob=0.93]\n",
      "sample: 100%|██████████| 15000/15000 [00:06<00:00, 2248.04it/s, 3 steps of size 2.66e-02. acc. prob=0.94]  \n",
      "sample: 100%|██████████| 15000/15000 [00:07<00:00, 1994.50it/s, 55 steps of size 2.28e-02. acc. prob=0.96] \n"
     ]
    },
    {
     "name": "stdout",
     "output_type": "stream",
     "text": [
      "Creating instance\n"
     ]
    },
    {
     "ename": "KeyError",
     "evalue": "'sigma'",
     "output_type": "error",
     "traceback": [
      "\u001b[0;31m---------------------------------------------------------------------------\u001b[0m",
      "\u001b[0;31mKeyError\u001b[0m                                  Traceback (most recent call last)",
      "File \u001b[0;32m/build/miniconda3/lib/python3.9/site-packages/pandas/core/indexes/base.py:3802\u001b[0m, in \u001b[0;36mIndex.get_loc\u001b[0;34m(self, key, method, tolerance)\u001b[0m\n\u001b[1;32m   3801\u001b[0m \u001b[39mtry\u001b[39;00m:\n\u001b[0;32m-> 3802\u001b[0m     \u001b[39mreturn\u001b[39;00m \u001b[39mself\u001b[39;49m\u001b[39m.\u001b[39;49m_engine\u001b[39m.\u001b[39;49mget_loc(casted_key)\n\u001b[1;32m   3803\u001b[0m \u001b[39mexcept\u001b[39;00m \u001b[39mKeyError\u001b[39;00m \u001b[39mas\u001b[39;00m err:\n",
      "File \u001b[0;32m/build/miniconda3/lib/python3.9/site-packages/pandas/_libs/index.pyx:138\u001b[0m, in \u001b[0;36mpandas._libs.index.IndexEngine.get_loc\u001b[0;34m()\u001b[0m\n",
      "File \u001b[0;32m/build/miniconda3/lib/python3.9/site-packages/pandas/_libs/index.pyx:165\u001b[0m, in \u001b[0;36mpandas._libs.index.IndexEngine.get_loc\u001b[0;34m()\u001b[0m\n",
      "File \u001b[0;32mpandas/_libs/hashtable_class_helper.pxi:5745\u001b[0m, in \u001b[0;36mpandas._libs.hashtable.PyObjectHashTable.get_item\u001b[0;34m()\u001b[0m\n",
      "File \u001b[0;32mpandas/_libs/hashtable_class_helper.pxi:5753\u001b[0m, in \u001b[0;36mpandas._libs.hashtable.PyObjectHashTable.get_item\u001b[0;34m()\u001b[0m\n",
      "\u001b[0;31mKeyError\u001b[0m: 'sigma'",
      "\nThe above exception was the direct cause of the following exception:\n",
      "\u001b[0;31mKeyError\u001b[0m                                  Traceback (most recent call last)",
      "\u001b[1;32m/project/running_everything_multi_mode.ipynb Cell 9\u001b[0m line \u001b[0;36m9\n\u001b[1;32m      <a href='vscode-notebook-cell://dev-container%2B7b22686f737450617468223a22633a5c5c55736572735c5c53616d5c5c4f6e6544726976655c5c446f63756d656e74735c5c5068445c5c5068445f70726f6a656374222c22636f6e66696746696c65223a7b22246d6964223a312c22667350617468223a22633a5c5c55736572735c5c53616d5c5c4f6e6544726976655c5c446f63756d656e74735c5c5068445c5c5068445f70726f6a6563745c5c2e646576636f6e7461696e65725c5c646576636f6e7461696e65722e6a736f6e222c225f736570223a312c2265787465726e616c223a2266696c653a2f2f2f632533412f55736572732f53616d2f4f6e6544726976652f446f63756d656e74732f5068442f5068445f70726f6a6563742f2e646576636f6e7461696e65722f646576636f6e7461696e65722e6a736f6e222c2270617468223a222f633a2f55736572732f53616d2f4f6e6544726976652f446f63756d656e74732f5068442f5068445f70726f6a6563742f2e646576636f6e7461696e65722f646576636f6e7461696e65722e6a736f6e222c22736368656d65223a2266696c65227d7d/project/running_everything_multi_mode.ipynb#X11sdnNjb2RlLXJlbW90ZQ%3D%3D?line=6'>7</a>\u001b[0m visualiser\u001b[39m.\u001b[39mget_traceplot()\n\u001b[1;32m      <a href='vscode-notebook-cell://dev-container%2B7b22686f737450617468223a22633a5c5c55736572735c5c53616d5c5c4f6e6544726976655c5c446f63756d656e74735c5c5068445c5c5068445f70726f6a656374222c22636f6e66696746696c65223a7b22246d6964223a312c22667350617468223a22633a5c5c55736572735c5c53616d5c5c4f6e6544726976655c5c446f63756d656e74735c5c5068445c5c5068445f70726f6a6563745c5c2e646576636f6e7461696e65725c5c646576636f6e7461696e65722e6a736f6e222c225f736570223a312c2265787465726e616c223a2266696c653a2f2f2f632533412f55736572732f53616d2f4f6e6544726976652f446f63756d656e74732f5068442f5068445f70726f6a6563742f2e646576636f6e7461696e65722f646576636f6e7461696e65722e6a736f6e222c2270617468223a222f633a2f55736572732f53616d2f4f6e6544726976652f446f63756d656e74732f5068442f5068445f70726f6a6563742f2e646576636f6e7461696e65722f646576636f6e7461696e65722e6a736f6e222c22736368656d65223a2266696c65227d7d/project/running_everything_multi_mode.ipynb#X11sdnNjb2RlLXJlbW90ZQ%3D%3D?line=7'>8</a>\u001b[0m visualiser\u001b[39m.\u001b[39mget_autocorrelations()\n\u001b[0;32m----> <a href='vscode-notebook-cell://dev-container%2B7b22686f737450617468223a22633a5c5c55736572735c5c53616d5c5c4f6e6544726976655c5c446f63756d656e74735c5c5068445c5c5068445f70726f6a656374222c22636f6e66696746696c65223a7b22246d6964223a312c22667350617468223a22633a5c5c55736572735c5c53616d5c5c4f6e6544726976655c5c446f63756d656e74735c5c5068445c5c5068445f70726f6a6563745c5c2e646576636f6e7461696e65725c5c646576636f6e7461696e65722e6a736f6e222c225f736570223a312c2265787465726e616c223a2266696c653a2f2f2f632533412f55736572732f53616d2f4f6e6544726976652f446f63756d656e74732f5068442f5068445f70726f6a6563742f2e646576636f6e7461696e65722f646576636f6e7461696e65722e6a736f6e222c2270617468223a222f633a2f55736572732f53616d2f4f6e6544726976652f446f63756d656e74732f5068442f5068445f70726f6a6563742f2e646576636f6e7461696e65722f646576636f6e7461696e65722e6a736f6e222c22736368656d65223a2266696c65227d7d/project/running_everything_multi_mode.ipynb#X11sdnNjb2RlLXJlbW90ZQ%3D%3D?line=8'>9</a>\u001b[0m visualiser\u001b[39m.\u001b[39;49mget_prior_plots(prior_plots)\n\u001b[1;32m     <a href='vscode-notebook-cell://dev-container%2B7b22686f737450617468223a22633a5c5c55736572735c5c53616d5c5c4f6e6544726976655c5c446f63756d656e74735c5c5068445c5c5068445f70726f6a656374222c22636f6e66696746696c65223a7b22246d6964223a312c22667350617468223a22633a5c5c55736572735c5c53616d5c5c4f6e6544726976655c5c446f63756d656e74735c5c5068445c5c5068445f70726f6a6563745c5c2e646576636f6e7461696e65725c5c646576636f6e7461696e65722e6a736f6e222c225f736570223a312c2265787465726e616c223a2266696c653a2f2f2f632533412f55736572732f53616d2f4f6e6544726976652f446f63756d656e74732f5068442f5068445f70726f6a6563742f2e646576636f6e7461696e65722f646576636f6e7461696e65722e6a736f6e222c2270617468223a222f633a2f55736572732f53616d2f4f6e6544726976652f446f63756d656e74732f5068442f5068445f70726f6a6563742f2e646576636f6e7461696e65722f646576636f6e7461696e65722e6a736f6e222c22736368656d65223a2266696c65227d7d/project/running_everything_multi_mode.ipynb#X11sdnNjb2RlLXJlbW90ZQ%3D%3D?line=10'>11</a>\u001b[0m domain \u001b[39m=\u001b[39m Domain(\u001b[39m'\u001b[39m\u001b[39mcone_from_source_z_limited\u001b[39m\u001b[39m'\u001b[39m, resolution\u001b[39m=\u001b[39m\u001b[39m80\u001b[39m)\n\u001b[1;32m     <a href='vscode-notebook-cell://dev-container%2B7b22686f737450617468223a22633a5c5c55736572735c5c53616d5c5c4f6e6544726976655c5c446f63756d656e74735c5c5068445c5c5068445f70726f6a656374222c22636f6e66696746696c65223a7b22246d6964223a312c22667350617468223a22633a5c5c55736572735c5c53616d5c5c4f6e6544726976655c5c446f63756d656e74735c5c5068445c5c5068445f70726f6a6563745c5c2e646576636f6e7461696e65725c5c646576636f6e7461696e65722e6a736f6e222c225f736570223a312c2265787465726e616c223a2266696c653a2f2f2f632533412f55736572732f53616d2f4f6e6544726976652f446f63756d656e74732f5068442f5068445f70726f6a6563742f2e646576636f6e7461696e65722f646576636f6e7461696e65722e6a736f6e222c2270617468223a222f633a2f55736572732f53616d2f4f6e6544726976652f446f63756d656e74732f5068442f5068445f70726f6a6563742f2e646576636f6e7461696e65722f646576636f6e7461696e65722e6a736f6e222c22736368656d65223a2266696c65227d7d/project/running_everything_multi_mode.ipynb#X11sdnNjb2RlLXJlbW90ZQ%3D%3D?line=11'>12</a>\u001b[0m domain\u001b[39m.\u001b[39madd_domain_param(\u001b[39m'\u001b[39m\u001b[39mr\u001b[39m\u001b[39m'\u001b[39m, \u001b[39m1000\u001b[39m)\n",
      "File \u001b[0;32m/project/toolboxes/inference_toolbox/visualiser.py:307\u001b[0m, in \u001b[0;36mVisualiser.get_prior_plots\u001b[0;34m(self, prior_plots)\u001b[0m\n\u001b[1;32m    305\u001b[0m     \u001b[39mself\u001b[39m\u001b[39m.\u001b[39mplot_two_priors(params[\u001b[39m0\u001b[39m], params[\u001b[39m1\u001b[39m], prior_plot_info[params[\u001b[39m0\u001b[39m]], prior_plot_info[params[\u001b[39m1\u001b[39m]], references)\n\u001b[1;32m    306\u001b[0m \u001b[39melif\u001b[39;00m \u001b[39mlen\u001b[39m(params) \u001b[39m==\u001b[39m \u001b[39m1\u001b[39m:\n\u001b[0;32m--> 307\u001b[0m     \u001b[39mself\u001b[39;49m\u001b[39m.\u001b[39;49mplot_one_prior(params[\u001b[39m0\u001b[39;49m], prior_plot_info[params[\u001b[39m0\u001b[39;49m]], references)\n",
      "File \u001b[0;32m/project/toolboxes/inference_toolbox/visualiser.py:385\u001b[0m, in \u001b[0;36mVisualiser.plot_one_prior\u001b[0;34m(self, param, param_range, references)\u001b[0m\n\u001b[1;32m    382\u001b[0m \u001b[39mdef\u001b[39;00m \u001b[39mplot_one_prior\u001b[39m(\u001b[39mself\u001b[39m, param, param_range, references \u001b[39m=\u001b[39m \u001b[39mNone\u001b[39;00m):\n\u001b[1;32m    383\u001b[0m     \n\u001b[1;32m    384\u001b[0m     \u001b[39m# Correction to fit estimated value into distribution\u001b[39;00m\n\u001b[0;32m--> 385\u001b[0m     \u001b[39mif\u001b[39;00m param_range[\u001b[39m0\u001b[39m] \u001b[39m>\u001b[39m \u001b[39mself\u001b[39;49m\u001b[39m.\u001b[39;49mparams_mean[param]:\n\u001b[1;32m    386\u001b[0m         param_range[\u001b[39m0\u001b[39m] \u001b[39m=\u001b[39m \u001b[39mself\u001b[39m\u001b[39m.\u001b[39mparams_mean[param]\n\u001b[1;32m    387\u001b[0m     \u001b[39melif\u001b[39;00m param_range[\u001b[39m1\u001b[39m] \u001b[39m<\u001b[39m \u001b[39mself\u001b[39m\u001b[39m.\u001b[39mparams_mean[param]:\n",
      "File \u001b[0;32m/build/miniconda3/lib/python3.9/site-packages/pandas/core/series.py:981\u001b[0m, in \u001b[0;36mSeries.__getitem__\u001b[0;34m(self, key)\u001b[0m\n\u001b[1;32m    978\u001b[0m     \u001b[39mreturn\u001b[39;00m \u001b[39mself\u001b[39m\u001b[39m.\u001b[39m_values[key]\n\u001b[1;32m    980\u001b[0m \u001b[39melif\u001b[39;00m key_is_scalar:\n\u001b[0;32m--> 981\u001b[0m     \u001b[39mreturn\u001b[39;00m \u001b[39mself\u001b[39;49m\u001b[39m.\u001b[39;49m_get_value(key)\n\u001b[1;32m    983\u001b[0m \u001b[39mif\u001b[39;00m is_hashable(key):\n\u001b[1;32m    984\u001b[0m     \u001b[39m# Otherwise index.get_value will raise InvalidIndexError\u001b[39;00m\n\u001b[1;32m    985\u001b[0m     \u001b[39mtry\u001b[39;00m:\n\u001b[1;32m    986\u001b[0m         \u001b[39m# For labels that don't resolve as scalars like tuples and frozensets\u001b[39;00m\n",
      "File \u001b[0;32m/build/miniconda3/lib/python3.9/site-packages/pandas/core/series.py:1089\u001b[0m, in \u001b[0;36mSeries._get_value\u001b[0;34m(self, label, takeable)\u001b[0m\n\u001b[1;32m   1086\u001b[0m     \u001b[39mreturn\u001b[39;00m \u001b[39mself\u001b[39m\u001b[39m.\u001b[39m_values[label]\n\u001b[1;32m   1088\u001b[0m \u001b[39m# Similar to Index.get_value, but we do not fall back to positional\u001b[39;00m\n\u001b[0;32m-> 1089\u001b[0m loc \u001b[39m=\u001b[39m \u001b[39mself\u001b[39;49m\u001b[39m.\u001b[39;49mindex\u001b[39m.\u001b[39;49mget_loc(label)\n\u001b[1;32m   1090\u001b[0m \u001b[39mreturn\u001b[39;00m \u001b[39mself\u001b[39m\u001b[39m.\u001b[39mindex\u001b[39m.\u001b[39m_get_values_for_loc(\u001b[39mself\u001b[39m, loc, label)\n",
      "File \u001b[0;32m/build/miniconda3/lib/python3.9/site-packages/pandas/core/indexes/base.py:3804\u001b[0m, in \u001b[0;36mIndex.get_loc\u001b[0;34m(self, key, method, tolerance)\u001b[0m\n\u001b[1;32m   3802\u001b[0m     \u001b[39mreturn\u001b[39;00m \u001b[39mself\u001b[39m\u001b[39m.\u001b[39m_engine\u001b[39m.\u001b[39mget_loc(casted_key)\n\u001b[1;32m   3803\u001b[0m \u001b[39mexcept\u001b[39;00m \u001b[39mKeyError\u001b[39;00m \u001b[39mas\u001b[39;00m err:\n\u001b[0;32m-> 3804\u001b[0m     \u001b[39mraise\u001b[39;00m \u001b[39mKeyError\u001b[39;00m(key) \u001b[39mfrom\u001b[39;00m \u001b[39merr\u001b[39;00m\n\u001b[1;32m   3805\u001b[0m \u001b[39mexcept\u001b[39;00m \u001b[39mTypeError\u001b[39;00m:\n\u001b[1;32m   3806\u001b[0m     \u001b[39m# If we have a listlike key, _check_indexing_error will raise\u001b[39;00m\n\u001b[1;32m   3807\u001b[0m     \u001b[39m#  InvalidIndexError. Otherwise we fall through and re-raise\u001b[39;00m\n\u001b[1;32m   3808\u001b[0m     \u001b[39m#  the TypeError.\u001b[39;00m\n\u001b[1;32m   3809\u001b[0m     \u001b[39mself\u001b[39m\u001b[39m.\u001b[39m_check_indexing_error(key)\n",
      "\u001b[0;31mKeyError\u001b[0m: 'sigma'"
     ]
    }
   ],
   "source": [
    "sandbox = Sandbox(results_name=results_name, \n",
    "                  data_params=data_params,\n",
    "                  default_params=default_params)\n",
    "\n",
    "visualiser = sandbox.run()\n",
    "visualiser.get_summary()\n",
    "visualiser.get_traceplot()\n",
    "visualiser.get_autocorrelations()\n",
    "visualiser.get_prior_plots(prior_plots)\n",
    "\n",
    "domain = Domain('cone_from_source_z_limited', resolution=80)\n",
    "domain.add_domain_param('r', 1000)\n",
    "domain.add_domain_param('theta', np.pi/8)\n",
    "domain.add_domain_param('source', [0,0,5])\n",
    "domain.add_domain_param('z_slice', 0)\n",
    "domain.add_domain_param('y_slice', 0)\n",
    "domain.add_domain_param('x_slice', 100)\n",
    "\n",
    "visualiser.visualise_results(domain = domain, plot_type = '2D_slice', name = 'small_scale', title='Log Concentration of Droplets', log_results=False)\n",
    "visualiser.visualise_results(domain = domain, plot_type = '3D', name = 'small_scale', title='Log Concentration of Droplets', log_results=False)"
   ]
  }
 ],
 "metadata": {
  "kernelspec": {
   "display_name": "base",
   "language": "python",
   "name": "python3"
  },
  "language_info": {
   "codemirror_mode": {
    "name": "ipython",
    "version": 3
   },
   "file_extension": ".py",
   "mimetype": "text/x-python",
   "name": "python",
   "nbconvert_exporter": "python",
   "pygments_lexer": "ipython3",
   "version": "3.9.16"
  },
  "orig_nbformat": 4
 },
 "nbformat": 4,
 "nbformat_minor": 2
}
