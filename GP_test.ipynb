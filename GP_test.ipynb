{
 "cells": [
  {
   "attachments": {},
   "cell_type": "markdown",
   "metadata": {},
   "source": [
    "# Controller #"
   ]
  },
  {
   "attachments": {},
   "cell_type": "markdown",
   "metadata": {},
   "source": [
    "Import all neccessary packages"
   ]
  },
  {
   "cell_type": "code",
   "execution_count": 1,
   "metadata": {},
   "outputs": [
    {
     "name": "stderr",
     "output_type": "stream",
     "text": [
      "No GPU/TPU found, falling back to CPU. (Set TF_CPP_MIN_LOG_LEVEL=0 and rerun for more info.)\n"
     ]
    }
   ],
   "source": [
    "import os\n",
    "import numpy as np\n",
    "\n",
    "from controllers.GP_controllers.gaussian_processor import GaussianProcessor\n",
    "from toolboxes.plotting_toolbox.domain import Domain\n",
    "\n",
    "\n",
    "current_directory = os.getcwd()\n",
    "if current_directory != '/project/':\n",
    "    os.chdir('/project/')"
   ]
  },
  {
   "attachments": {},
   "cell_type": "markdown",
   "metadata": {},
   "source": [
    "Define how the data is to be generated and what default inputs should be used"
   ]
  },
  {
   "cell_type": "code",
   "execution_count": 2,
   "metadata": {},
   "outputs": [],
   "source": [
    "data_params = {\n",
    "    'data_type': 'dummy',\n",
    "    'data_path': 'data',\n",
    "    'sigma': 1,\n",
    "    'model_select': 'log_gpm_alt_norm',\n",
    "    'noise_dist': 'gaussian',\n",
    "    'model': {\n",
    "        'model_params':{\n",
    "            'H': 10\n",
    "        },\n",
    "        'inference_params':{\n",
    "            'I_y': 0.1,\n",
    "            'I_z': 0.1,\n",
    "            'Q': 3e13,\n",
    "            'sigma': 1\n",
    "        },\n",
    "    },\n",
    "    'domain': {\n",
    "        'domain_select': 'cone_from_source_z_limited', \n",
    "        'resolution': 20,\n",
    "        'domain_params':{\n",
    "            'r': 100,\n",
    "            'theta': np.pi/8,\n",
    "            'source': [0,0,10]}\n",
    "    },\n",
    "    'output_header': 'Concentration'\n",
    "}\n",
    "\n",
    "# data_params = {\n",
    "#     'data_type': 'gridded',\n",
    "#     'output_header': 'Concentration',\n",
    "#     'log':True,\n",
    "#     'grid_size': [100,100,25],\n",
    "#     'target': False,\n",
    "#     'data_path':'data'\n",
    "# }\n",
    "\n",
    "\n",
    "results_name = 'simulated_data'"
   ]
  },
  {
   "cell_type": "code",
   "execution_count": 3,
   "metadata": {},
   "outputs": [
    {
     "ename": "Exception",
     "evalue": "Default generator parameters do not match for this folder name!",
     "output_type": "error",
     "traceback": [
      "\u001b[0;31m---------------------------------------------------------------------------\u001b[0m",
      "\u001b[0;31mException\u001b[0m                                 Traceback (most recent call last)",
      "Cell \u001b[0;32mIn[3], line 1\u001b[0m\n\u001b[0;32m----> 1\u001b[0m gp \u001b[39m=\u001b[39m GaussianProcessor(results_name\u001b[39m=\u001b[39;49mresults_name, \n\u001b[1;32m      2\u001b[0m                   data_params\u001b[39m=\u001b[39;49mdata_params)\n\u001b[1;32m      4\u001b[0m domain \u001b[39m=\u001b[39m Domain(\u001b[39m'\u001b[39m\u001b[39mcone_from_source_z_limited\u001b[39m\u001b[39m'\u001b[39m, resolution\u001b[39m=\u001b[39m\u001b[39m80\u001b[39m)\n\u001b[1;32m      5\u001b[0m domain\u001b[39m.\u001b[39madd_domain_param(\u001b[39m'\u001b[39m\u001b[39mr\u001b[39m\u001b[39m'\u001b[39m, \u001b[39m1000\u001b[39m)\n",
      "File \u001b[0;32m/project/controllers/GP_controllers/gaussian_processor.py:59\u001b[0m, in \u001b[0;36mGaussianProcessor.__init__\u001b[0;34m(self, results_name, data_params, results_path)\u001b[0m\n\u001b[1;32m     56\u001b[0m construction \u001b[39m=\u001b[39m \u001b[39mself\u001b[39m\u001b[39m.\u001b[39mget_constriction()\n\u001b[1;32m     58\u001b[0m \u001b[39m# Initialises the construction\u001b[39;00m\n\u001b[0;32m---> 59\u001b[0m \u001b[39mself\u001b[39;49m\u001b[39m.\u001b[39;49minit_construction(construction)\n\u001b[1;32m     61\u001b[0m data \u001b[39m=\u001b[39m get_data(data_params[\u001b[39m'\u001b[39m\u001b[39mdata_type\u001b[39m\u001b[39m'\u001b[39m], data_params)\n\u001b[1;32m     62\u001b[0m \u001b[39mself\u001b[39m\u001b[39m.\u001b[39mtraining_data, \u001b[39mself\u001b[39m\u001b[39m.\u001b[39mtesting_data \u001b[39m=\u001b[39m train_test_split(data, test_size\u001b[39m=\u001b[39m\u001b[39m0.2\u001b[39m, random_state \u001b[39m=\u001b[39m \u001b[39m1\u001b[39m)\n",
      "File \u001b[0;32m/project/controllers/GP_controllers/gaussian_processor.py:81\u001b[0m, in \u001b[0;36mGaussianProcessor.init_construction\u001b[0;34m(self, construction)\u001b[0m\n\u001b[1;32m     78\u001b[0m     f\u001b[39m.\u001b[39mclose()\n\u001b[1;32m     80\u001b[0m     \u001b[39mif\u001b[39;00m saved_construction \u001b[39m!=\u001b[39m construction:\n\u001b[0;32m---> 81\u001b[0m         \u001b[39mraise\u001b[39;00m \u001b[39mException\u001b[39;00m(\u001b[39m'\u001b[39m\u001b[39mDefault generator parameters do not match for this folder name!\u001b[39m\u001b[39m'\u001b[39m)\n\u001b[1;32m     82\u001b[0m \u001b[39melse\u001b[39;00m:\n\u001b[1;32m     83\u001b[0m     \u001b[39mwith\u001b[39;00m \u001b[39mopen\u001b[39m(\u001b[39mself\u001b[39m\u001b[39m.\u001b[39mfull_results_path \u001b[39m+\u001b[39m \u001b[39m'\u001b[39m\u001b[39m/construction.json\u001b[39m\u001b[39m'\u001b[39m, \u001b[39m\"\u001b[39m\u001b[39mw\u001b[39m\u001b[39m\"\u001b[39m) \u001b[39mas\u001b[39;00m fp:\n",
      "\u001b[0;31mException\u001b[0m: Default generator parameters do not match for this folder name!"
     ]
    }
   ],
   "source": [
    "gp = GaussianProcessor(results_name=results_name, \n",
    "                  data_params=data_params)\n",
    "\n",
    "domain = Domain('cone_from_source_z_limited', resolution=80)\n",
    "domain.add_domain_param('r', 1000)\n",
    "domain.add_domain_param('theta', np.pi/8)\n",
    "domain.add_domain_param('source', [0,0,10])\n",
    "\n",
    "kernel_type = 'matern_white'\n",
    "name = 'small_scale_3D_plots'\n",
    "\n",
    "gp.run(kernel_type, domain, name)"
   ]
  }
 ],
 "metadata": {
  "kernelspec": {
   "display_name": "base",
   "language": "python",
   "name": "python3"
  },
  "language_info": {
   "codemirror_mode": {
    "name": "ipython",
    "version": 3
   },
   "file_extension": ".py",
   "mimetype": "text/x-python",
   "name": "python",
   "nbconvert_exporter": "python",
   "pygments_lexer": "ipython3",
   "version": "3.9.16"
  },
  "orig_nbformat": 4
 },
 "nbformat": 4,
 "nbformat_minor": 2
}
