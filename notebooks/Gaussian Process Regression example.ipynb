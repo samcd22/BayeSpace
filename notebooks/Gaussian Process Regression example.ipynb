{
 "cells": [
  {
   "cell_type": "markdown",
   "metadata": {},
   "source": [
    "# Gaussian Process Regression with BayeSpace Using Simulated Data\n",
    "\n",
    "This notebook demonstrates the use of **Gaussian Process Regression (GPR)** with BayeSpace on a series of simulated datasets, increasing in complexity. The goal is to showcase how BayeSpace can model complex functions and spatial patterns using GPR — a flexible, non-parametric method that infers function values and uncertainty without assuming a specific model form.\n",
    "\n",
    "We will walk through the following examples:\n",
    "\n",
    "- A simple **line** (1D regression)\n",
    "- A **curve** (non-linear polynomial)\n",
    "- A **plane** (2D regression)\n",
    "- A **non-linear** 2D function\n",
    "\n",
    "For each example, we generate noisy data, define a kernel structure, and train a Gaussian Process model using BayeSpace. We then visualise the predicted function values and uncertainties over the domain.\n",
    "\n",
    "This notebook serves as both a tutorial and a showcase of BayeSpace’s GPR functionality across increasingly complex regression problems — from smooth trends to sharp non-linearities.\n"
   ]
  },
  {
   "cell_type": "markdown",
   "metadata": {},
   "source": [
    "### Install Libraries"
   ]
  },
  {
   "cell_type": "code",
   "execution_count": null,
   "metadata": {},
   "outputs": [],
   "source": [
    "import os\n",
    "import jax\n",
    "\n",
    "os.chdir('/PhD_project/app/')\n",
    "\n",
    "from regression_toolbox.model import Model, add_model, delete_model\n",
    "\n",
    "from visualisation_toolbox.domain import Domain\n",
    "from visualisation_toolbox.visualiser import GPVisualiser\n",
    "\n",
    "from data_processing.sim_data_processor import SimDataProcessor\n",
    "\n",
    "from gaussian_process_toolbox.kernel import Kernel\n",
    "from gaussian_process_toolbox.gaussian_processor import GP\n",
    "from gaussian_process_toolbox.transformation import Transformation\n",
    "\n",
    "os.chdir('/PhD_project/')\n",
    "jax.config.update(\"jax_enable_x64\", True)\n"
   ]
  },
  {
   "cell_type": "markdown",
   "metadata": {},
   "source": [
    "## Example 1: Gaussian Process Regression on a Line\n",
    "\n",
    "In this first example, we use BayeSpace to perform **Gaussian Process Regression (GPR)** on simulated data generated from a simple line:  \n",
    "$$\n",
    "f(x) = ax + b\n",
    "$$\n",
    "\n",
    "The true values used to generate the data are $ a = 1 $, $ b = 1 $, with Gaussian noise of standard deviation 1 added to simulate measurement uncertainty.\n",
    "\n",
    "Unlike Bayesian Regression, which infers explicit parameter values for $ a $, $ b $, and $ \\sigma $, GPR directly models the function $ f(x) $ as a distribution over possible functions, conditioned on the observed data. We use a **Matérn kernel** defined over the 1D input space $ x $, with length scale and smoothness hyperparameters optimised during training.\n",
    "\n",
    "We visualise the GP’s predictive mean and uncertainty across the domain, demonstrating how GPR captures both the trend and confidence of the inferred function — even for a simple linear case.\n",
    "\n",
    "This example serves as a baseline for understanding BayeSpace’s GPR capability on well-behaved, 1D data.\n"
   ]
  },
  {
   "cell_type": "code",
   "execution_count": 2,
   "metadata": {},
   "outputs": [
    {
     "name": "stdout",
     "output_type": "stream",
     "text": [
      "Data loaded from /PhD_project/data/processed_sim_data/linear_example\n",
      "Plot saved at: /PhD_project/data/processed_sim_data/linear_example\n",
      "Loading existing GP model from /PhD_project/results/gaussian_process_results/linear_example/instance_1/gaussian_process_model.pkl\n"
     ]
    }
   ],
   "source": [
    "# Add this line if model doesn't exist yet\n",
    "# add_model('line', 'a*x + b', ['x'], 'y', ['a', 'b'])\n",
    "\n",
    "# Define the true model for simulation: a line with a = 1, b = 1\n",
    "sim_model = Model('line').add_fixed_model_param('a', 1).add_fixed_model_param('b', 1)\n",
    "\n",
    "# Define the input domain for the simulation: 50 points from 0 to 100\n",
    "sim_domain = Domain(1, 'linear').add_domain_param('min', 0).add_domain_param('max', 100).add_domain_param('n_points', 50)\n",
    "sim_domain.build_domain()\n",
    "\n",
    "# Generate noisy data using the model and domain, with Gaussian noise\n",
    "sim_data_processor = SimDataProcessor('linear_example', sim_model, sim_domain, noise_dist='gaussian', noise_level=1)\n",
    "\n",
    "kernel_config = {('matern', 'x'): [0]} \n",
    "\n",
    "# Instantiate the kernel with hyperparameters\n",
    "kernel_obj = Kernel(kernel_config)\n",
    "kernel_obj.add_kernel_param('matern', 'x', 'length_scale', 1)           # Initial guess\n",
    "kernel_obj.add_kernel_param('matern', 'x', 'nu', 2.5)                              # Smoothness\n",
    "kernel_obj.add_kernel_param('matern', 'x', 'length_scale_bounds', (0.001, 100))     # Bounds for optimisation\n",
    "\n",
    "# Identity transformation — data remains in log-space\n",
    "transformation = Transformation('identity')\n",
    "\n",
    "# Initialise the GP model using the real-world data processor\n",
    "gp = GP(sim_data_processor, kernel_obj, transformation=transformation, uncertainty_method='constant', uncertainty_params={'constant_error':1})\n",
    "\n",
    "# Train the GP — fit hyperparameters and compute posterior\n",
    "gp_model = gp.train()\n",
    "\n",
    "# Visualise traceplots and autocorrelations for diagnostics\n",
    "visualiser = GPVisualiser(gp)\n",
    "\n",
    "# Visualise predicted line with posterior uncertainty\n",
    "vis_domain = Domain(1, 'linear').add_domain_param('min', 0).add_domain_param('max', 100).add_domain_param('n_points', 100)\n",
    "vis_domain.build_domain()\n",
    "visualiser.show_predictions(sim_domain, 'predictions', '1D')"
   ]
  },
  {
   "cell_type": "markdown",
   "metadata": {},
   "source": [
    "## Example 2: Gaussian Process Regression on a Polynomial Curve\n",
    "\n",
    "In this example, we use BayeSpace’s Gaussian Process Regression (GPR) capabilities to model the same second-degree polynomial relationship:\n",
    "\n",
    "$$\n",
    "f(x) = ax^2 + bx + c\n",
    "$$\n",
    "\n",
    "Instead of explicitly parameterising the polynomial, we treat the function as an unknown process and place a **Matern kernel** over the input space to infer its structure non-parametrically. The simulated dataset remains the same as in the Bayesian regression case, with true values $ a = 1.8 $, $ b = 2.8 $, and $ c = 1.4 $, and Gaussian noise with standard deviation $ \\sigma = 1 $.\n",
    "\n",
    "The Matern kernel used has a smoothness parameter $ \\nu = 2.5 $, allowing for flexible yet relatively smooth functions. Hyperparameters such as the length scale are inferred during training, while a constant observational error of 1 is assumed.\n",
    "\n",
    "This example highlights the flexibility of GPR to model complex functional forms without requiring an explicit equation, making it especially useful when the underlying structure is unknown or difficult to express analytically.\n"
   ]
  },
  {
   "cell_type": "code",
   "execution_count": 3,
   "metadata": {},
   "outputs": [
    {
     "name": "stdout",
     "output_type": "stream",
     "text": [
      "Data loaded from /PhD_project/data/processed_sim_data/polynomial_example\n",
      "Plot saved at: /PhD_project/data/processed_sim_data/polynomial_example\n",
      "Loading existing GP model from /PhD_project/results/gaussian_process_results/polynomial_example/instance_1/gaussian_process_model.pkl\n"
     ]
    }
   ],
   "source": [
    "# Add this line if the model doesn't exist yet\n",
    "# add_model('polynomial', 'a*x**2 + b*x + c', ['x'], 'y', ['a', 'b', 'c'])\n",
    "\n",
    "# Step 1: Define the true model and generate synthetic data\n",
    "sim_model = Model('polynomial').add_fixed_model_param('a', 1.8).add_fixed_model_param('b', 2.8).add_fixed_model_param('c', 1.4)\n",
    "\n",
    "sim_domain = Domain(1, 'linear').add_domain_param('min', -3).add_domain_param('max', 3).add_domain_param('n_points', 100)\n",
    "sim_domain.build_domain()\n",
    "\n",
    "sim_data_processor = SimDataProcessor('polynomial_example', sim_model, sim_domain, noise_dist='gaussian', noise_level=1)\n",
    "\n",
    "# Step 2: Define a Matern kernel for GPR\n",
    "kernel_config = {('matern', 'x'): [0]}\n",
    "kernel_obj = Kernel(kernel_config)\n",
    "kernel_obj.add_kernel_param('matern', 'x', 'length_scale', 1)\n",
    "kernel_obj.add_kernel_param('matern', 'x', 'nu', 2.5)\n",
    "kernel_obj.add_kernel_param('matern', 'x', 'length_scale_bounds', (0.001, 100))\n",
    "\n",
    "# Step 3: Apply identity transformation\n",
    "transformation = Transformation('identity')\n",
    "\n",
    "# Step 4: Fit the GP model\n",
    "gp = GP(sim_data_processor, kernel_obj, transformation=transformation, uncertainty_method='constant', uncertainty_params={'constant_error': 1})\n",
    "gp_model = gp.train()\n",
    "\n",
    "# Step 5: Visualise predictions\n",
    "visualiser = GPVisualiser(gp)\n",
    "\n",
    "vis_domain = Domain(1, 'linear').add_domain_param('min', -3).add_domain_param('max', 3).add_domain_param('n_points', 100)\n",
    "vis_domain.build_domain()\n",
    "\n",
    "visualiser.show_predictions(vis_domain, 'predictions', '1D')\n"
   ]
  },
  {
   "cell_type": "markdown",
   "metadata": {},
   "source": [
    "## Example 3: Gaussian Process Regression on a Plane\n",
    "\n",
    "In this example, we use BayeSpace to apply Gaussian Process Regression (GPR) on data simulated from a plane:\n",
    "\n",
    "$$\n",
    "f(x, y) = ax + by\n",
    "$$\n",
    "\n",
    "The data are generated on a 2D grid from $ -3 $ to $ 3 $ in both $ x $ and $ y $, using true parameter values $ a = 1 $ and $ b = 2 $, with added Gaussian noise of standard deviation $ \\sigma = 1 $.\n",
    "\n",
    "Instead of explicitly parameterizing $ a $ and $ b $ as in Bayesian regression, we model the surface as a Gaussian Process with a **Matern kernel** in both $ x $ and $ y $. This kernel accounts for spatial structure and smoothness in the function, allowing flexible, non-parametric modelling of the plane surface.\n",
    "\n",
    "After fitting the GP, we visualise the predictive surface with confidence intervals to assess the model’s performance. This example demonstrates BayeSpace’s ability to generalise beyond parametric forms and effectively model multivariate input domains with spatial correlation.\n"
   ]
  },
  {
   "cell_type": "code",
   "execution_count": 4,
   "metadata": {},
   "outputs": [
    {
     "name": "stdout",
     "output_type": "stream",
     "text": [
      "Data loaded from /PhD_project/data/processed_sim_data/plane_example\n",
      "Plot saved at: /PhD_project/data/processed_sim_data/plane_example\n",
      "Loading existing GP model from /PhD_project/results/gaussian_process_results/plane_example/instance_1/gaussian_process_model.pkl\n"
     ]
    }
   ],
   "source": [
    "# Add this line if model doesn't exist yet\n",
    "# add_model('plane', 'a*x + b*y', ['x', 'y'], 'C', ['a', 'b'])\n",
    "\n",
    "# Step 1: Define the true model and generate synthetic data\n",
    "sim_model = Model('plane').add_fixed_model_param('a', 1).add_fixed_model_param('b', 2)\n",
    "\n",
    "sim_domain = Domain(2, 'rectangular').add_domain_param('min_x', -3)\\\n",
    "                                     .add_domain_param('max_x', 3)\\\n",
    "                                     .add_domain_param('n_points_x', 20)\\\n",
    "                                     .add_domain_param('min_y', -3)\\\n",
    "                                     .add_domain_param('max_y', 3)\\\n",
    "                                     .add_domain_param('n_points_y', 20)\n",
    "sim_domain.build_domain()\n",
    "\n",
    "sim_data_processor = SimDataProcessor('plane_example', sim_model, sim_domain, noise_dist='gaussian', noise_level=1)\n",
    "\n",
    "# Step 2: Define a Matern kernel in x and y\n",
    "kernel_config = {('matern', 'xy'): [0, 1]}\n",
    "kernel_obj = Kernel(kernel_config)\n",
    "kernel_obj.add_kernel_param('matern', 'xy', 'length_scale', [1,1])\n",
    "kernel_obj.add_kernel_param('matern', 'xy', 'nu', 2.5)\n",
    "kernel_obj.add_kernel_param('matern', 'xy', 'length_scale_bounds', (0.001, 100))\n",
    "\n",
    "# Step 3: Identity transformation for direct modelling\n",
    "transformation = Transformation('identity')\n",
    "\n",
    "# Step 4: Train the GP model\n",
    "gp = GP(sim_data_processor, kernel_obj, transformation=transformation, uncertainty_method='constant', uncertainty_params={'constant_error': 1})\n",
    "gp_model = gp.train()\n",
    "\n",
    "# Step 5: Visualise the predictions\n",
    "visualiser = GPVisualiser(gp)\n",
    "\n",
    "vis_domain = Domain(2, 'rectangular').add_domain_param('min_x', -3)\\\n",
    "                                     .add_domain_param('max_x', 3)\\\n",
    "                                     .add_domain_param('n_points_x', 100)\\\n",
    "                                     .add_domain_param('min_y', -3)\\\n",
    "                                     .add_domain_param('max_y', 3)\\\n",
    "                                     .add_domain_param('n_points_y', 100)\n",
    "vis_domain.build_domain()\n",
    "\n",
    "visualiser.show_predictions(vis_domain, 'predictions', '2D')\n"
   ]
  },
  {
   "cell_type": "markdown",
   "metadata": {},
   "source": [
    "## Example 4: Gaussian Process Regression on a Non-Linear 2D Function\n",
    "\n",
    "In this final example, we use BayeSpace to perform Gaussian Process Regression (GPR) on a complex, non-linear function:\n",
    "\n",
    "$$\n",
    "f(x, y) = \\frac{\\sin(x)}{y + a} + \\frac{1}{b + x^2}\n",
    "$$\n",
    "\n",
    "The function introduces significant non-linearity and potential instability due to the division by $ y + a $. The true parameters used to simulate the data are $ a = 2 $ and $ b = 3 $, with Gaussian noise of standard deviation 1. We generate data on a grid over $ x, y \\in [0, 10] $ using 40 points in each direction.\n",
    "\n",
    "To model this surface, we use a **Matern kernel** for each input dimension, which provides flexibility and smoothness while remaining robust to sharp changes in curvature. GPR is especially suited to this kind of problem, where the function is non-linear and potentially sensitive to small changes in input.\n",
    "\n",
    "After training, we visualise the GP’s prediction surface along with uncertainty, highlighting BayeSpace’s capability to model noisy, sensitive systems using non-parametric methods.\n"
   ]
  },
  {
   "cell_type": "code",
   "execution_count": 5,
   "metadata": {},
   "outputs": [
    {
     "name": "stdout",
     "output_type": "stream",
     "text": [
      "Data generated and saved to /PhD_project/data/processed_sim_data/nonlinear_example\n",
      "Plot saved at: /PhD_project/data/processed_sim_data/nonlinear_example\n",
      "Fitted new GP model and saving to /PhD_project/results/gaussian_process_results/nonlinear_example/instance_1/gaussian_process_model.pkl\n"
     ]
    }
   ],
   "source": [
    "# Add this line if model doesn't exist yet\n",
    "# add_model('nonlinear_2D', 'sin(x)/(y+a) + 1/(b+x^2)', ['x', 'y'], 'C', ['a', 'b'])\n",
    "\n",
    "# Step 1: Define the true model\n",
    "sim_model = Model('nonlinear_2D').add_fixed_model_param('a', 2).add_fixed_model_param('b', 3)\n",
    "\n",
    "# Step 2: Define 2D rectangular domain\n",
    "sim_domain = Domain(2, 'rectangular')\\\n",
    "    .add_domain_param('min_x', 0)\\\n",
    "    .add_domain_param('max_x', 10)\\\n",
    "    .add_domain_param('min_y', 0)\\\n",
    "    .add_domain_param('max_y', 10)\\\n",
    "    .add_domain_param('n_points_x', 40)\\\n",
    "    .add_domain_param('n_points_y', 40)\n",
    "sim_domain.build_domain()\n",
    "\n",
    "# Step 3: Generate noisy data\n",
    "sim_data_processor = SimDataProcessor('nonlinear_example', sim_model, sim_domain, noise_dist='gaussian', noise_level=1)\n",
    "\n",
    "# Step 4: Define Matern kernel in x and y\n",
    "kernel_config = {('matern', 'xy'): [0, 1]}\n",
    "kernel_obj = Kernel(kernel_config)\n",
    "kernel_obj.add_kernel_param('matern', 'xy', 'length_scale', [1,1])\n",
    "kernel_obj.add_kernel_param('matern', 'xy', 'nu', 2.5)\n",
    "kernel_obj.add_kernel_param('matern', 'xy', 'length_scale_bounds', (0.001, 100))\n",
    "\n",
    "# Step 5: Use identity transformation\n",
    "transformation = Transformation('identity')\n",
    "\n",
    "# Step 6: Train GP model\n",
    "gp = GP(sim_data_processor, kernel_obj, transformation=transformation, uncertainty_method='constant', uncertainty_params={'constant_error': 1})\n",
    "gp_model = gp.train()\n",
    "\n",
    "# Step 7: Create high-res prediction domain for plotting\n",
    "vis_domain = Domain(2, 'rectangular')\\\n",
    "    .add_domain_param('min_x', 0)\\\n",
    "    .add_domain_param('max_x', 10)\\\n",
    "    .add_domain_param('min_y', 0)\\\n",
    "    .add_domain_param('max_y', 10)\\\n",
    "    .add_domain_param('n_points_x', 100)\\\n",
    "    .add_domain_param('n_points_y', 100)\n",
    "vis_domain.build_domain()\n",
    "\n",
    "# Step 8: Visualise predicted surface with uncertainty\n",
    "visualiser = GPVisualiser(gp)\n",
    "visualiser.show_predictions(vis_domain, 'predictions', '2D')\n"
   ]
  }
 ],
 "metadata": {
  "kernelspec": {
   "display_name": "myenv",
   "language": "python",
   "name": "python3"
  },
  "language_info": {
   "codemirror_mode": {
    "name": "ipython",
    "version": 3
   },
   "file_extension": ".py",
   "mimetype": "text/x-python",
   "name": "python",
   "nbconvert_exporter": "python",
   "pygments_lexer": "ipython3",
   "version": "3.10.16"
  }
 },
 "nbformat": 4,
 "nbformat_minor": 2
}
