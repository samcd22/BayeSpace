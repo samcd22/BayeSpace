{
 "cells": [
  {
   "cell_type": "markdown",
   "metadata": {},
   "source": [
    "# Gaussian Process Regression with BayeSpace Using Simulated Data\n",
    "\n",
    "This notebook demonstrates the use of **Gaussian Process Regression (GPR)** with BayeSpace on a series of simulated datasets, increasing in complexity. The goal is to showcase how BayeSpace can model complex functions and spatial patterns using GPR — a flexible, non-parametric method that infers function values and uncertainty without assuming a specific model form.\n",
    "\n",
    "We will walk through the following examples:\n",
    "\n",
    "- A simple **line** (1D regression)\n",
    "- A **curve** (non-linear polynomial)\n",
    "- A **plane** (2D regression)\n",
    "- A **non-linear** 2D function\n",
    "\n",
    "For each example, we generate noisy data, define a kernel structure, and train a Gaussian Process model using BayeSpace. We then visualise the predicted function values and uncertainties over the domain.\n",
    "\n",
    "This notebook serves as both a tutorial and a showcase of BayeSpace’s GPR functionality across increasingly complex regression problems — from smooth trends to sharp non-linearities.\n"
   ]
  },
  {
   "cell_type": "markdown",
   "metadata": {},
   "source": [
    "### Install Libraries"
   ]
  },
  {
   "cell_type": "code",
   "execution_count": null,
   "metadata": {},
   "outputs": [],
   "source": [
    "from app.regression_toolbox.model import Model, add_model, delete_model\n",
    "\n",
    "from app.visualisation_toolbox.domain import Domain\n",
    "from app.visualisation_toolbox.visualiser import GPVisualiser\n",
    "\n",
    "from app.data_processing.sim_data_processor import SimDataProcessor\n",
    "\n",
    "from app.gaussian_process_toolbox.kernel import Kernel\n",
    "from app.gaussian_process_toolbox.gaussian_processor import GP\n",
    "from app.gaussian_process_toolbox.transformation import Transformation\n",
    "\n",
    "import os\n",
    "import jax\n",
    "\n",
    "os.chdir('/PhD_project/')\n",
    "jax.config.update(\"jax_enable_x64\", True)\n"
   ]
  },
  {
   "cell_type": "markdown",
   "metadata": {},
   "source": [
    "## Example 1: Gaussian Process Regression on a Line\n",
    "\n",
    "In this first example, we use BayeSpace to perform **Gaussian Process Regression (GPR)** on simulated data generated from a simple line:  \n",
    "$$\n",
    "f(x) = ax + b\n",
    "$$\n",
    "\n",
    "The true values used to generate the data are $ a = 1 $, $ b = 1 $, with Gaussian noise of standard deviation 1 added to simulate measurement uncertainty.\n",
    "\n",
    "Unlike Bayesian Regression, which infers explicit parameter values for $ a $, $ b $, and $ \\sigma $, GPR directly models the function $ f(x) $ as a distribution over possible functions, conditioned on the observed data. We use a **Matérn kernel** defined over the 1D input space $ x $, with length scale and smoothness hyperparameters optimised during training.\n",
    "\n",
    "We visualise the GP’s predictive mean and uncertainty across the domain, demonstrating how GPR captures both the trend and confidence of the inferred function — even for a simple linear case.\n",
    "\n",
    "This example serves as a baseline for understanding BayeSpace’s GPR capability on well-behaved, 1D data.\n"
   ]
  },
  {
   "cell_type": "code",
   "execution_count": 2,
   "metadata": {},
   "outputs": [
    {
     "name": "stdout",
     "output_type": "stream",
     "text": [
      "Data loaded from /PhD_project/data/processed_sim_data/linear_example\n",
      "Plot saved at: /PhD_project/data/processed_sim_data/linear_example\n",
      "Loading existing GP model from /PhD_project/results/gaussian_process_results/linear_example/instance_1/gaussian_process_model.pkl\n"
     ]
    }
   ],
   "source": [
    "# Add this line if model doesn't exist yet\n",
    "# add_model('line', 'a*x + b', ['x'], 'y', ['a', 'b'])\n",
    "\n",
    "# Define the true model for simulation: a line with a = 1, b = 1\n",
    "sim_model = Model('line').add_fixed_model_param('a', 1).add_fixed_model_param('b', 1)\n",
    "\n",
    "# Define the input domain for the simulation: 50 points from 0 to 100\n",
    "sim_domain = Domain(1, 'linear').add_domain_param('min', 0).add_domain_param('max', 100).add_domain_param('n_points', 50)\n",
    "sim_domain.build_domain()\n",
    "\n",
    "# Generate noisy data using the model and domain, with Gaussian noise\n",
    "sim_data_processor = SimDataProcessor('linear_example', sim_model, sim_domain, noise_dist='gaussian', noise_level=1)\n",
    "\n",
    "kernel_config = {('matern', 'x'): [0]} \n",
    "\n",
    "# Instantiate the kernel with hyperparameters\n",
    "kernel_obj = Kernel(kernel_config)\n",
    "kernel_obj.add_kernel_param('matern', 'x', 'length_scale', 1)           # Initial guess\n",
    "kernel_obj.add_kernel_param('matern', 'x', 'nu', 2.5)                              # Smoothness\n",
    "kernel_obj.add_kernel_param('matern', 'x', 'length_scale_bounds', (0.001, 100))     # Bounds for optimisation\n",
    "\n",
    "# Identity transformation — data remains in log-space\n",
    "transformation = Transformation('identity')\n",
    "\n",
    "# Initialise the GP model using the real-world data processor\n",
    "gp = GP(sim_data_processor, kernel_obj, transformation=transformation, uncertainty_method='constant', uncertainty_params={'constant_error':1})\n",
    "\n",
    "# Train the GP — fit hyperparameters and compute posterior\n",
    "gp_model = gp.train()\n",
    "\n",
    "# Visualise traceplots and autocorrelations for diagnostics\n",
    "visualiser = GPVisualiser(gp)\n",
    "\n",
    "# Visualise predicted line with posterior uncertainty\n",
    "vis_domain = Domain(1, 'linear').add_domain_param('min', 0).add_domain_param('max', 100).add_domain_param('n_points', 100)\n",
    "vis_domain.build_domain()\n",
    "visualiser.show_predictions(sim_domain, 'predictions', '1D')"
   ]
  },
  {
   "cell_type": "markdown",
   "metadata": {},
   "source": [
    "## Example 2: Gaussian Process Regression on a Polynomial Curve\n",
    "\n",
    "In this example, we use BayeSpace’s Gaussian Process Regression (GPR) capabilities to model the same second-degree polynomial relationship:\n",
    "\n",
    "$$\n",
    "f(x) = ax^2 + bx + c\n",
    "$$\n",
    "\n",
    "Instead of explicitly parameterising the polynomial, we treat the function as an unknown process and place a **Matern kernel** over the input space to infer its structure non-parametrically. The simulated dataset remains the same as in the Bayesian regression case, with true values $ a = 1.8 $, $ b = 2.8 $, and $ c = 1.4 $, and Gaussian noise with standard deviation $ \\sigma = 1 $.\n",
    "\n",
    "The Matern kernel used has a smoothness parameter $ \\nu = 2.5 $, allowing for flexible yet relatively smooth functions. Hyperparameters such as the length scale are inferred during training, while a constant observational error of 1 is assumed.\n",
    "\n",
    "This example highlights the flexibility of GPR to model complex functional forms without requiring an explicit equation, making it especially useful when the underlying structure is unknown or difficult to express analytically.\n"
   ]
  },
  {
   "cell_type": "code",
   "execution_count": 3,
   "metadata": {},
   "outputs": [
    {
     "name": "stdout",
     "output_type": "stream",
     "text": [
      "Data loaded from /PhD_project/data/processed_sim_data/polynomial_example\n",
      "Plot saved at: /PhD_project/data/processed_sim_data/polynomial_example\n",
      "Loading existing GP model from /PhD_project/results/gaussian_process_results/polynomial_example/instance_1/gaussian_process_model.pkl\n"
     ]
    }
   ],
   "source": [
    "# Add this line if the model doesn't exist yet\n",
    "# add_model('polynomial', 'a*x**2 + b*x + c', ['x'], 'y', ['a', 'b', 'c'])\n",
    "\n",
    "# Step 1: Define the true model and generate synthetic data\n",
    "sim_model = Model('polynomial').add_fixed_model_param('a', 1.8).add_fixed_model_param('b', 2.8).add_fixed_model_param('c', 1.4)\n",
    "\n",
    "sim_domain = Domain(1, 'linear').add_domain_param('min', -3).add_domain_param('max', 3).add_domain_param('n_points', 100)\n",
    "sim_domain.build_domain()\n",
    "\n",
    "sim_data_processor = SimDataProcessor('polynomial_example', sim_model, sim_domain, noise_dist='gaussian', noise_level=1)\n",
    "\n",
    "# Step 2: Define a Matern kernel for GPR\n",
    "kernel_config = {('matern', 'x'): [0]}\n",
    "kernel_obj = Kernel(kernel_config)\n",
    "kernel_obj.add_kernel_param('matern', 'x', 'length_scale', 1)\n",
    "kernel_obj.add_kernel_param('matern', 'x', 'nu', 2.5)\n",
    "kernel_obj.add_kernel_param('matern', 'x', 'length_scale_bounds', (0.001, 100))\n",
    "\n",
    "# Step 3: Apply identity transformation\n",
    "transformation = Transformation('identity')\n",
    "\n",
    "# Step 4: Fit the GP model\n",
    "gp = GP(sim_data_processor, kernel_obj, transformation=transformation, uncertainty_method='constant', uncertainty_params={'constant_error': 1})\n",
    "gp_model = gp.train()\n",
    "\n",
    "# Step 5: Visualise predictions\n",
    "visualiser = GPVisualiser(gp)\n",
    "\n",
    "vis_domain = Domain(1, 'linear').add_domain_param('min', -3).add_domain_param('max', 3).add_domain_param('n_points', 100)\n",
    "vis_domain.build_domain()\n",
    "\n",
    "visualiser.show_predictions(vis_domain, 'predictions', '1D')\n"
   ]
  },
  {
   "cell_type": "markdown",
   "metadata": {},
   "source": [
    "## Example 3: Gaussian Process Regression on a Plane\n",
    "\n",
    "In this example, we use BayeSpace to apply Gaussian Process Regression (GPR) on data simulated from a plane:\n",
    "\n",
    "$$\n",
    "f(x, y) = ax + by\n",
    "$$\n",
    "\n",
    "The data are generated on a 2D grid from $ -3 $ to $ 3 $ in both $ x $ and $ y $, using true parameter values $ a = 1 $ and $ b = 2 $, with added Gaussian noise of standard deviation $ \\sigma = 1 $.\n",
    "\n",
    "Instead of explicitly parameterizing $ a $ and $ b $ as in Bayesian regression, we model the surface as a Gaussian Process with a **Matern kernel** in both $ x $ and $ y $. This kernel accounts for spatial structure and smoothness in the function, allowing flexible, non-parametric modelling of the plane surface.\n",
    "\n",
    "After fitting the GP, we visualise the predictive surface with confidence intervals to assess the model’s performance. This example demonstrates BayeSpace’s ability to generalise beyond parametric forms and effectively model multivariate input domains with spatial correlation.\n"
   ]
  },
  {
   "cell_type": "code",
   "execution_count": 4,
   "metadata": {},
   "outputs": [
    {
     "name": "stdout",
     "output_type": "stream",
     "text": [
      "Data loaded from /PhD_project/data/processed_sim_data/plane_example\n",
      "Plot saved at: /PhD_project/data/processed_sim_data/plane_example\n",
      "Loading existing GP model from /PhD_project/results/gaussian_process_results/plane_example/instance_1/gaussian_process_model.pkl\n"
     ]
    }
   ],
   "source": [
    "# Add this line if model doesn't exist yet\n",
    "# add_model('plane', 'a*x + b*y', ['x', 'y'], 'C', ['a', 'b'])\n",
    "\n",
    "# Step 1: Define the true model and generate synthetic data\n",
    "sim_model = Model('plane').add_fixed_model_param('a', 1).add_fixed_model_param('b', 2)\n",
    "\n",
    "sim_domain = Domain(2, 'rectangular').add_domain_param('min_x', -3)\\\n",
    "                                     .add_domain_param('max_x', 3)\\\n",
    "                                     .add_domain_param('n_points_x', 20)\\\n",
    "                                     .add_domain_param('min_y', -3)\\\n",
    "                                     .add_domain_param('max_y', 3)\\\n",
    "                                     .add_domain_param('n_points_y', 20)\n",
    "sim_domain.build_domain()\n",
    "\n",
    "sim_data_processor = SimDataProcessor('plane_example', sim_model, sim_domain, noise_dist='gaussian', noise_level=1)\n",
    "\n",
    "# Step 2: Define a Matern kernel in x and y\n",
    "kernel_config = {('matern', 'xy'): [0, 1]}\n",
    "kernel_obj = Kernel(kernel_config)\n",
    "kernel_obj.add_kernel_param('matern', 'xy', 'length_scale', [1,1])\n",
    "kernel_obj.add_kernel_param('matern', 'xy', 'nu', 2.5)\n",
    "kernel_obj.add_kernel_param('matern', 'xy', 'length_scale_bounds', (0.001, 100))\n",
    "\n",
    "# Step 3: Identity transformation for direct modelling\n",
    "transformation = Transformation('identity')\n",
    "\n",
    "# Step 4: Train the GP model\n",
    "gp = GP(sim_data_processor, kernel_obj, transformation=transformation, uncertainty_method='constant', uncertainty_params={'constant_error': 1})\n",
    "gp_model = gp.train()\n",
    "\n",
    "# Step 5: Visualise the predictions\n",
    "visualiser = GPVisualiser(gp)\n",
    "\n",
    "vis_domain = Domain(2, 'rectangular').add_domain_param('min_x', -3)\\\n",
    "                                     .add_domain_param('max_x', 3)\\\n",
    "                                     .add_domain_param('n_points_x', 100)\\\n",
    "                                     .add_domain_param('min_y', -3)\\\n",
    "                                     .add_domain_param('max_y', 3)\\\n",
    "                                     .add_domain_param('n_points_y', 100)\n",
    "vis_domain.build_domain()\n",
    "\n",
    "visualiser.show_predictions(vis_domain, 'predictions', '2D')\n"
   ]
  },
  {
   "cell_type": "markdown",
   "metadata": {},
   "source": [
    "## Example 4: Gaussian Process Regression on a Non-Linear 2D Function\n",
    "\n",
    "In this final example, we use BayeSpace to perform Gaussian Process Regression (GPR) on a complex, non-linear function:\n",
    "\n",
    "$$\n",
    "f(x, y) = \\frac{\\sin(x)}{y + a} + \\frac{1}{b + x^2}\n",
    "$$\n",
    "\n",
    "The function introduces significant non-linearity and potential instability due to the division by $ y + a $. The true parameters used to simulate the data are $ a = 2 $ and $ b = 3 $, with Gaussian noise of standard deviation 1. We generate data on a grid over $ x, y \\in [0, 10] $ using 40 points in each direction.\n",
    "\n",
    "To model this surface, we use a **Matern kernel** for each input dimension, which provides flexibility and smoothness while remaining robust to sharp changes in curvature. GPR is especially suited to this kind of problem, where the function is non-linear and potentially sensitive to small changes in input.\n",
    "\n",
    "After training, we visualise the GP’s prediction surface along with uncertainty, highlighting BayeSpace’s capability to model noisy, sensitive systems using non-parametric methods.\n"
   ]
  },
  {
   "cell_type": "code",
   "execution_count": 5,
   "metadata": {},
   "outputs": [
    {
     "name": "stdout",
     "output_type": "stream",
     "text": [
      "Data generated and saved to /PhD_project/data/processed_sim_data/nonlinear_example\n",
      "Plot saved at: /PhD_project/data/processed_sim_data/nonlinear_example\n",
      "Fitted new GP model and saving to /PhD_project/results/gaussian_process_results/nonlinear_example/instance_1/gaussian_process_model.pkl\n"
     ]
    }
   ],
   "source": [
    "# Add this line if model doesn't exist yet\n",
    "# add_model('nonlinear_2D', 'sin(x)/(y+a) + 1/(b+x^2)', ['x', 'y'], 'C', ['a', 'b'])\n",
    "\n",
    "# Step 1: Define the true model\n",
    "sim_model = Model('nonlinear_2D').add_fixed_model_param('a', 2).add_fixed_model_param('b', 3)\n",
    "\n",
    "# Step 2: Define 2D rectangular domain\n",
    "sim_domain = Domain(2, 'rectangular')\\\n",
    "    .add_domain_param('min_x', 0)\\\n",
    "    .add_domain_param('max_x', 10)\\\n",
    "    .add_domain_param('min_y', 0)\\\n",
    "    .add_domain_param('max_y', 10)\\\n",
    "    .add_domain_param('n_points_x', 40)\\\n",
    "    .add_domain_param('n_points_y', 40)\n",
    "sim_domain.build_domain()\n",
    "\n",
    "# Step 3: Generate noisy data\n",
    "sim_data_processor = SimDataProcessor('nonlinear_example', sim_model, sim_domain, noise_dist='gaussian', noise_level=1)\n",
    "\n",
    "# Step 4: Define Matern kernel in x and y\n",
    "kernel_config = {('matern', 'xy'): [0, 1]}\n",
    "kernel_obj = Kernel(kernel_config)\n",
    "kernel_obj.add_kernel_param('matern', 'xy', 'length_scale', [1,1])\n",
    "kernel_obj.add_kernel_param('matern', 'xy', 'nu', 2.5)\n",
    "kernel_obj.add_kernel_param('matern', 'xy', 'length_scale_bounds', (0.001, 100))\n",
    "\n",
    "# Step 5: Use identity transformation\n",
    "transformation = Transformation('identity')\n",
    "\n",
    "# Step 6: Train GP model\n",
    "gp = GP(sim_data_processor, kernel_obj, transformation=transformation, uncertainty_method='constant', uncertainty_params={'constant_error': 1})\n",
    "gp_model = gp.train()\n",
    "\n",
    "# Step 7: Create high-res prediction domain for plotting\n",
    "vis_domain = Domain(2, 'rectangular')\\\n",
    "    .add_domain_param('min_x', 0)\\\n",
    "    .add_domain_param('max_x', 10)\\\n",
    "    .add_domain_param('min_y', 0)\\\n",
    "    .add_domain_param('max_y', 10)\\\n",
    "    .add_domain_param('n_points_x', 100)\\\n",
    "    .add_domain_param('n_points_y', 100)\n",
    "vis_domain.build_domain()\n",
    "\n",
    "# Step 8: Visualise predicted surface with uncertainty\n",
    "visualiser = GPVisualiser(gp)\n",
    "visualiser.show_predictions(vis_domain, 'predictions', '2D')\n"
   ]
  },
  {
   "cell_type": "code",
   "execution_count": null,
   "metadata": {},
   "outputs": [
    {
     "name": "stdout",
     "output_type": "stream",
     "text": [
      "Data loaded from /PhD_project/data/processed_sim_data/gp_test_10\n",
      "Plot saved at: /PhD_project/data/processed_sim_data/gp_test_10\n"
     ]
    },
    {
     "data": {
      "text/plain": [
       "[    Unnamed: 0          x         y    y_true\n",
       " 12          12   2.448980  0.729252  0.638550\n",
       " 4            4   0.816327  0.835853  0.728635\n",
       " 37          37   7.551020  0.798296  0.954457\n",
       " 8            8   1.632653  0.858149  0.998087\n",
       " 3            3   0.612245  0.531819  0.574706\n",
       " 6            6   1.224490  0.771494  0.940633\n",
       " 41          41   8.367347  0.948427  0.871097\n",
       " 46          46   9.387755  0.036783  0.037014\n",
       " 47          47   9.591837 -0.177167 -0.166283\n",
       " 15          15   3.061224  0.080543  0.080282\n",
       " 9            9   1.836735  1.070700  0.964846\n",
       " 16          16   3.265306 -0.121329 -0.123398\n",
       " 24          24   4.897959 -1.289284 -0.982831\n",
       " 34          34   6.938776  0.658580  0.609627\n",
       " 31          31   6.326531  0.043978  0.043332\n",
       " 0            0   0.000000  0.000000  0.000000\n",
       " 44          44   8.979592  0.450965  0.430626\n",
       " 27          27   5.510204 -0.714968 -0.698272\n",
       " 33          33   6.734694  0.431780  0.436323\n",
       " 5            5   1.020408  0.459608  0.852322\n",
       " 29          29   5.918367 -0.402309 -0.356779\n",
       " 11          11   2.244898  0.728168  0.781268\n",
       " 36          36   7.346939  1.000052  0.874184\n",
       " 1            1   0.204082  0.198028  0.202668\n",
       " 21          21   4.285714 -0.564484 -0.910347\n",
       " 2            2   0.408163  0.466448  0.396924\n",
       " 43          43   8.775510  0.520112  0.604603\n",
       " 35          35   7.142857  0.757496  0.757628\n",
       " 23          23   4.693878 -0.617231 -0.999829\n",
       " 40          40   8.163265  0.874760  0.952552\n",
       " 10          10   2.040816  1.318572  0.891559\n",
       " 22          22   4.489796 -1.079079 -0.975328\n",
       " 18          18   3.673469 -0.482045 -0.507152\n",
       " 49          49  10.000000 -0.573813 -0.544021\n",
       " 20          20   4.081633 -0.784387 -0.807582\n",
       " 7            7   1.428571  1.044880  0.989903\n",
       " 42          42   8.571429  0.847722  0.753487\n",
       " 14          14   2.857143  0.296835  0.280629\n",
       " 28          28   5.714286 -0.503260 -0.538705\n",
       " 38          38   7.755102  0.928046  0.995115,\n",
       "     Unnamed: 0         x         y    y_true\n",
       " 13          13  2.653061  0.519296  0.469330\n",
       " 39          39  7.959184  0.954345  0.994471\n",
       " 30          30  6.122449 -0.161761 -0.160045\n",
       " 45          45  9.183673  0.252159  0.238775\n",
       " 17          17  3.469388 -0.287527 -0.321956\n",
       " 48          48  9.795918 -0.348207 -0.362678\n",
       " 26          26  5.306122 -1.162261 -0.828858\n",
       " 25          25  5.102041 -1.199873 -0.925041\n",
       " 32          32  6.530612  0.280251  0.244910\n",
       " 19          19  3.877551 -0.772139 -0.671298]"
      ]
     },
     "execution_count": 13,
     "metadata": {},
     "output_type": "execute_result"
    }
   ],
   "source": [
    "# add_model('sin', 'A * sin(B * x + C) + D', ['x'], 'y', ['A', 'B', 'C', 'D'])\n",
    "\n",
    "sim_model = Model('sin').add_fixed_model_param('A', 1).add_fixed_model_param('B', 1).add_fixed_model_param('C', 0).add_fixed_model_param('D', 0)\n",
    "sim_domain = Domain(1, 'linear').add_domain_param('min', 0).add_domain_param('max', 10).add_domain_param('n_points', 50)\n",
    "sim_domain.build_domain()\n",
    "sim_data_processor = SimDataProcessor('gp_test_10', sim_model, sim_domain, noise_dist='gaussian', noise_percentage=0.5)\n",
    "sim_data_processor.process_data()"
   ]
  },
  {
   "cell_type": "code",
   "execution_count": null,
   "metadata": {},
   "outputs": [
    {
     "name": "stdout",
     "output_type": "stream",
     "text": [
      "Data loaded from /PhD_project/data/processed_sim_data/gp_test_11\n",
      "Plot saved at: /PhD_project/data/processed_sim_data/gp_test_11\n"
     ]
    },
    {
     "data": {
      "text/plain": [
       "[      Unnamed: 0         x         y         C    C_true\n",
       " 3290        3290  0.514582  0.969710  2.913460  2.484293\n",
       " 2333        2333 -0.738732 -3.480437 -2.121768 -3.219169\n",
       " 4553        4553  2.394553 -4.131678 -0.282135 -0.737125\n",
       " 3168        3168  0.389251 -2.395035 -1.621613 -1.005785\n",
       " 2760        2760 -0.174741  3.249054  4.076328  4.074314\n",
       " ...          ...       ...       ...       ...       ...\n",
       " 3772        3772  1.203905  4.117376  6.912167  6.321281\n",
       " 5191        5191  3.459870  0.427009  5.277960  4.886880\n",
       " 5226        5226  3.585202 -2.937736  1.945506  1.647465\n",
       " 5390        5390  3.835865  1.295331  4.455971  6.131196\n",
       " 860          860 -2.932032  1.946572  1.054759  0.014540\n",
       " \n",
       " [4613 rows x 5 columns],\n",
       "       Unnamed: 0         x         y         C    C_true\n",
       " 3262        3262  0.577248 -2.069415  0.260225 -0.492167\n",
       " 4577        4577  2.394553 -1.526714 -0.356621  1.867839\n",
       " 2213        2213 -0.926729  3.249054  3.164142  3.322325\n",
       " 3226        3226  0.451916  3.900295  6.065730  5.352212\n",
       " 4652        4652  2.582551 -2.069415  1.781443  1.513136\n",
       " ...          ...       ...       ...       ...       ...\n",
       " 339          339 -3.997349  2.706353 -1.168541 -0.290995\n",
       " 4078        4078  1.705231 -0.984013  2.726637  1.721218\n",
       " 4183        4183  1.830562  1.078251  5.288584  3.908813\n",
       " 387          387 -3.872017  1.620951 -1.672492 -1.251066\n",
       " 4367        4367  2.018559  2.489273  5.128233  5.507832\n",
       " \n",
       " [1154 rows x 5 columns]]"
      ]
     },
     "execution_count": 14,
     "metadata": {},
     "output_type": "execute_result"
    }
   ],
   "source": [
    "# add_model('plane', 'a*x + b*y +c', ['x', 'y'], 'C', ['a', 'b', 'c'])\n",
    "\n",
    "sim_model = Model('plane').add_fixed_model_param('a', 1).add_fixed_model_param('b', 1).add_fixed_model_param('c', 1)\n",
    "sim_domain = Domain(2, 'circular').add_domain_param('radius', 5).add_domain_param('mass', 5000)\n",
    "sim_domain.build_domain()\n",
    "sim_data_processor = SimDataProcessor('gp_test_11', sim_model, sim_domain, noise_dist='gaussian', noise_level = 1)\n",
    "sim_data_processor.process_data()"
   ]
  },
  {
   "cell_type": "code",
   "execution_count": null,
   "metadata": {},
   "outputs": [
    {
     "name": "stdout",
     "output_type": "stream",
     "text": [
      "Data loaded from /PhD_project/data/processed_sim_data/gp_test_12\n",
      "Plot saved at: /PhD_project/data/processed_sim_data/gp_test_12\n"
     ]
    },
    {
     "data": {
      "text/plain": [
       "[      Unnamed: 0         x         y         z         C     C_true\n",
       " 1600        1600 -3.651099  1.541821 -2.663636 -4.275061  -3.772914\n",
       " 90            90  0.665383 -0.093635 -5.000000 -3.403425  -3.428252\n",
       " 5997        5997  3.632964 -2.663636  4.812731  6.854899   6.782060\n",
       " 5642        5642 -2.571979  3.410912  3.878185  5.065299   5.717118\n",
       " 3946        3946  1.744503  3.410912  1.074548  7.514325   7.229963\n",
       " ...          ...       ...       ...       ...       ...        ...\n",
       " 3772        3772  1.204943 -1.261817  1.074548  1.976058   2.017674\n",
       " 5191        5191  4.442305  1.074548  3.410912  7.543197   9.927764\n",
       " 5226        5226  4.442305  2.009093  3.410912  4.211169  10.862310\n",
       " 5390        5390 -2.302199 -3.598181  3.878185 -0.993752  -1.022195\n",
       " 860          860 -2.032419 -3.130908 -3.598181 -9.237878  -7.761508\n",
       " \n",
       " [5204 rows x 6 columns],\n",
       "       Unnamed: 0         x         y         z         C     C_true\n",
       " 5638        5638  3.093404  2.943639  3.878185  9.687199  10.915228\n",
       " 3153        3153  1.474723 -2.663636  0.140002 -0.049054  -0.048910\n",
       " 6270        6270  0.665383 -1.962726  5.280004  5.405054   4.982660\n",
       " 217          217 -0.683518  3.177276 -5.000000 -1.493865  -1.506242\n",
       " 2339        2339 -2.032419 -1.729090 -1.261817 -3.640582  -4.023325\n",
       " ...          ...       ...       ...       ...       ...        ...\n",
       " 1419        1419  0.395603 -3.598181 -2.663636 -4.523468  -4.866214\n",
       " 2578        2578 -2.302199 -2.663636 -0.794544 -4.227905  -4.760378\n",
       " 5273        5273  2.014283  2.476366  3.410912  4.229144   8.901562\n",
       " 3455        3455 -3.651099 -2.897272  0.607275 -4.256502  -4.941097\n",
       " 1618        1618 -3.381319  2.009093 -2.663636 -2.917789  -3.035861\n",
       " \n",
       " [1301 rows x 6 columns]]"
      ]
     },
     "execution_count": 15,
     "metadata": {},
     "output_type": "execute_result"
    }
   ],
   "source": [
    "# add_model('3D_plane', 'a*x + b*y +c*z + d', ['x', 'y', 'z'], 'C', ['a', 'b', 'c', 'd'])\n",
    "\n",
    "sim_model = Model('3D_plane').add_fixed_model_param('a', 1).add_fixed_model_param('b', 1).add_fixed_model_param('c', 1).add_fixed_model_param('d', 1)\n",
    "sim_domain = Domain(3, 'cylindrical').add_domain_param('radius', 5).add_domain_param('mass', 5000).add_domain_param('height', 10)\n",
    "sim_domain.build_domain()\n",
    "sim_data_processor = SimDataProcessor('gp_test_12', sim_model, sim_domain, noise_dist='gaussian', noise_percentage=  0.2)\n",
    "sim_data_processor.process_data()"
   ]
  },
  {
   "cell_type": "code",
   "execution_count": null,
   "metadata": {},
   "outputs": [
    {
     "name": "stdout",
     "output_type": "stream",
     "text": [
      "Data generated and saved to /PhD_project/data/processed_sim_data/gp_test_13\n",
      "Plot saved at: /PhD_project/data/processed_sim_data/gp_test_13\n"
     ]
    },
    {
     "data": {
      "text/plain": [
       "[             x         y  t         C    C_true\n",
       " 3196 -0.838506 -4.485149  1 -0.155656 -0.055696\n",
       " 3071 -1.333922  3.409238  1  0.055979  0.035995\n",
       " 6662  3.422071 -0.537955  2  0.075841 -0.011142\n",
       " 5582 -0.640340 -0.023104  2 -0.248044  0.037490\n",
       " 969  -0.541257 -1.224424  0  0.082949 -0.008311\n",
       " ...        ...       ... ..       ...       ...\n",
       " 3772  1.242240 -4.656766  1 -0.200068 -0.250639\n",
       " 5191 -2.027505  0.148513  2  0.117006  0.004203\n",
       " 5226 -1.829338 -3.112212  2 -0.099339  0.010175\n",
       " 5390 -1.135756 -3.627063  2 -0.344071 -0.005789\n",
       " 860  -1.036673 -0.366338  0 -0.128389 -0.505075\n",
       " \n",
       " [5527 rows x 5 columns],\n",
       "              x         y  t         C    C_true\n",
       " 5665 -0.442174  4.267324  2  0.173385  0.135307\n",
       " 994  -0.541257  3.066004  0  0.328946  0.513804\n",
       " 6061  1.044074  2.722770  2 -0.454100  0.000164\n",
       " 5711 -0.244007  2.207918  2  0.082971 -0.063321\n",
       " 4094  2.233072  3.752472  1 -0.040791 -0.001347\n",
       " ...        ...       ... ..       ...       ...\n",
       " 3918  1.539490  1.178216  1  0.236763 -0.110340\n",
       " 3898  1.638573 -2.254126  1  0.333086  0.055382\n",
       " 227  -3.414669 -2.768978  0 -0.120060 -0.251188\n",
       " 5934  0.647741  0.663365  2  0.078755  0.000336\n",
       " 2970 -1.631172 -4.485149  1 -0.213746  0.204397\n",
       " \n",
       " [1382 rows x 5 columns]]"
      ]
     },
     "execution_count": 27,
     "metadata": {},
     "output_type": "execute_result"
    }
   ],
   "source": [
    "delete_model('exp_test')\n",
    "add_model('exp_test', '(A * sin(x/a + omega * t) * cos(y/b + nu * t) + B * exp(-(x**2 + y**2)/c**2)) * exp(-alpha * t)', ['x', 'y', 't'], 'C', ['A', 'B', 'a', 'b', 'c', 'omega', 'nu', 'alpha'])\n",
    "\n",
    "sim_model = Model('exp_test').add_fixed_model_param('A', 1).add_fixed_model_param('B', 1).add_fixed_model_param('a', 1).add_fixed_model_param('b', 1).add_fixed_model_param('c', 1).add_fixed_model_param('alpha', 1).add_fixed_model_param('omega', 1).add_fixed_model_param('nu', 1)\n",
    "sim_domain = Domain(2, 'circular', dim_names=['x', 'y', 't'], time_array=[0, 1, 2]).add_domain_param('radius', 5).add_domain_param('mass', 2000)\n",
    "sim_domain.build_domain()\n",
    "sim_data_processor = SimDataProcessor('gp_test_13', sim_model, sim_domain, noise_dist='gaussian', noise_level = 0.5)\n",
    "sim_data_processor.process_data()"
   ]
  },
  {
   "cell_type": "markdown",
   "metadata": {},
   "source": []
  }
 ],
 "metadata": {
  "kernelspec": {
   "display_name": "myenv",
   "language": "python",
   "name": "python3"
  },
  "language_info": {
   "codemirror_mode": {
    "name": "ipython",
    "version": 3
   },
   "file_extension": ".py",
   "mimetype": "text/x-python",
   "name": "python",
   "nbconvert_exporter": "python",
   "pygments_lexer": "ipython3",
   "version": "3.10.16"
  }
 },
 "nbformat": 4,
 "nbformat_minor": 2
}
