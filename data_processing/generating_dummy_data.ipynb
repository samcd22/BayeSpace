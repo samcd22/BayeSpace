{
 "cells": [
  {
   "cell_type": "code",
   "execution_count": 3,
   "metadata": {},
   "outputs": [
    {
     "name": "stdout",
     "output_type": "stream",
     "text": [
      "Empty DataFrame\n",
      "Columns: [x, y, z, Concentration]\n",
      "Index: []\n"
     ]
    }
   ],
   "source": [
    "import numpy as np\n",
    "import pandas as pd\n",
    "\n",
    "I_y = 0.1\n",
    "I_z = 0.1\n",
    "Q = 3e13\n",
    "\n",
    "H=10\n",
    "\n",
    "sigma = 1e12\n",
    "\n",
    "x = np.linspace(0.1, 1200, 21)\n",
    "y = np.linspace(-1000, 1000, 21)\n",
    "z = np.linspace(0,200, 21)\n",
    "\n",
    "X,Y,Z = np.meshgrid(x,y,z)\n",
    "\n",
    "def C_func(x, y, z, I_y, I_z, Q, H, sigma):\n",
    "    return Q/(np.pi*I_y*I_z*x**2)*np.exp(-y**2/(2*I_y**2*x**2))*(np.exp(-(z-H)**2/(2*I_z**2*x**2))+np.exp(-(z+H)**2/(2*I_z**2*x**2))) + sigma * np.random.normal()\n",
    "\n",
    "    # mu =  Q/(np.pi*I_y*I_z*x**2)*np.exp(-y**2/(2*I_y**2*x**2))*(np.exp(-(z-H)**2/(2*I_z**2*x**2))+np.exp(-(z+H)**2/(2*I_z**2*x**2)))\n",
    "    # beta = mu/sigma**2\n",
    "    # a = mu**2/sigma**2\n",
    "    # return stats.gamma.rvs(a,scale=1/beta)\n",
    "\n",
    "C = C_func(X, Y, Z, I_y, I_z, Q, H, sigma)\n",
    "\n",
    "X = X.flatten()\n",
    "Y = Y.flatten()\n",
    "Z = Z.flatten()\n",
    "C = C.flatten()\n",
    "\n",
    "data = pd.DataFrame(data = [X,Y,Z,C]).T\n",
    "data.columns = ['x', 'y', 'z', 'Concentration']\n",
    "\n",
    "print(data[data['Concentration']<0])\n",
    "\n",
    "data.to_csv('dummy_data.csv')\n",
    "\n"
   ]
  }
 ],
 "metadata": {
  "kernelspec": {
   "display_name": "base",
   "language": "python",
   "name": "python3"
  },
  "language_info": {
   "codemirror_mode": {
    "name": "ipython",
    "version": 3
   },
   "file_extension": ".py",
   "mimetype": "text/x-python",
   "name": "python",
   "nbconvert_exporter": "python",
   "pygments_lexer": "ipython3",
   "version": "3.9.15"
  },
  "orig_nbformat": 4
 },
 "nbformat": 4,
 "nbformat_minor": 2
}
