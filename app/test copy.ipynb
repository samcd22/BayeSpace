{
 "cells": [
  {
   "cell_type": "markdown",
   "metadata": {},
   "source": [
    "Import Packages"
   ]
  },
  {
   "cell_type": "code",
   "execution_count": 1,
   "metadata": {},
   "outputs": [
    {
     "name": "stderr",
     "output_type": "stream",
     "text": [
      "/build/miniconda3/lib/python3.12/site-packages/tqdm/auto.py:21: TqdmWarning: IProgress not found. Please update jupyter and ipywidgets. See https://ipywidgets.readthedocs.io/en/stable/user_install.html\n",
      "  from .autonotebook import tqdm as notebook_tqdm\n"
     ]
    }
   ],
   "source": [
    "from toolboxes.inference_toolbox.model import Model, add_model, delete_model\n",
    "from toolboxes.inference_toolbox.likelihood import Likelihood\n",
    "from toolboxes.inference_toolbox.parameter import Parameter\n",
    "from toolboxes.plotting_toolbox.domain import Domain\n",
    "from toolboxes.inference_toolbox.sampler import Sampler\n",
    "from toolboxes.inference_toolbox.visualiser import Visualiser\n",
    "from toolboxes.data_processing_toolbox.sim_data_processor import SimDataProcessor\n",
    "from toolboxes.data_processing_toolbox.raw_data_processor import RawDataProcessor\n",
    "import numpy as np\n",
    "import pandas as pd\n",
    "import os\n",
    "\n",
    "os.chdir('/PhD_project/')"
   ]
  },
  {
   "cell_type": "markdown",
   "metadata": {},
   "source": [
    "Adding a model to the model library"
   ]
  },
  {
   "cell_type": "code",
   "execution_count": 2,
   "metadata": {},
   "outputs": [],
   "source": [
    "# add_model('rocket_motor_regression','a*P**n',\n",
    "#            all_param_names=['a', 'n'], independent_variables=['P'], dependent_variables=['r'])"
   ]
  },
  {
   "cell_type": "markdown",
   "metadata": {},
   "source": [
    "Simulated data"
   ]
  },
  {
   "cell_type": "code",
   "execution_count": 3,
   "metadata": {},
   "outputs": [
    {
     "name": "stdout",
     "output_type": "stream",
     "text": [
      "Data already simulated, loading data...\n",
      "Samples already exists, loading data...\n"
     ]
    }
   ],
   "source": [
    "sim_model = Model('rocket_motor_regression').add_fixed_model_param('a', 0.145).add_fixed_model_param('n',0.333)\n",
    "sim_domain = Domain('one_D').add_domain_param('points',[118, 91, 71, 56.99, 46.25, 188.63, 97.21, 73.23, 56.54])\n",
    "simulator_params = {\n",
    "    'output_header': 'r',\n",
    "    'log_output_data': False,\n",
    "}\n",
    "\n",
    "sim_data_processor = SimDataProcessor('sim_data_regression_0.5', sim_model, sim_domain, simulator_params, noise_dist='gaussian', noise_percentage=0.5)\n",
    "\n",
    "\n",
    "model = Model('rocket_motor_regression')\n",
    "likelihood = Likelihood('gaussian_percentage_error')\n",
    "a = Parameter(name='a',prior_select='log_norm').add_prior_param('peak', 0.145).add_prior_param('scale', 0.1)\n",
    "n = Parameter(name='n',prior_select='gaussian').add_prior_param('mu',  0.333).add_prior_param('sigma', 0.5)\n",
    "error = Parameter(name='error',prior_select='uniform').add_prior_param('low',  0).add_prior_param('high', 1)\n",
    "inference_params = pd.Series({'a': a, 'n': n, 'error':error})\n",
    "\n",
    "sampler = Sampler(inference_params, model, likelihood, sim_data_processor, n_samples = 10000, n_chains=3)\n",
    "# sampler = Sampler(inference_params, model, likelihood, raw_data_processor, n_samples = 10000, n_chains=3)\n",
    "sampler.sample_all()\n",
    "\n",
    "visualiser = Visualiser(sampler)\n",
    "visualiser.get_traceplots()\n",
    "\n",
    "domain = Domain('one_D').add_domain_param('points',[118, 91, 71, 56.99, 46.25, 188.63, 97.21, 73.23, 56.54])\n",
    "\n",
    "visualiser.show_predictions(domain, 'test', title = 'Rocket Motor Regression Prediction', plot_type='1D')\n",
    "visualiser.get_autocorrelations()\n",
    "visualiser.get_summary()\n",
    "\n",
    "visualiser.plot_prior('a', [0.0001,0.5])\n",
    "visualiser.plot_prior('n', [-0.2, 0.8])\n",
    "visualiser.plot_prior('error', [0,1])\n",
    "\n",
    "visualiser.plot_posterior('a', [0.0001,0.5])\n",
    "visualiser.plot_posterior('n', [-0.2, 0.8])\n",
    "visualiser.plot_posterior('error', [0,1])\n"
   ]
  }
 ],
 "metadata": {
  "kernelspec": {
   "display_name": "base",
   "language": "python",
   "name": "python3"
  },
  "language_info": {
   "codemirror_mode": {
    "name": "ipython",
    "version": 3
   },
   "file_extension": ".py",
   "mimetype": "text/x-python",
   "name": "python",
   "nbconvert_exporter": "python",
   "pygments_lexer": "ipython3",
   "version": "3.12.2"
  }
 },
 "nbformat": 4,
 "nbformat_minor": 2
}
