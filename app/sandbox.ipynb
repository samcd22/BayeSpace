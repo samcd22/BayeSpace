{
 "cells": [
  {
   "cell_type": "code",
   "execution_count": 1,
   "metadata": {},
   "outputs": [
    {
     "name": "stderr",
     "output_type": "stream",
     "text": [
      "/build/miniconda3/lib/python3.12/site-packages/tqdm/auto.py:21: TqdmWarning: IProgress not found. Please update jupyter and ipywidgets. See https://ipywidgets.readthedocs.io/en/stable/user_install.html\n",
      "  from .autonotebook import tqdm as notebook_tqdm\n"
     ]
    }
   ],
   "source": [
    "from regression_toolbox.model import Model, add_model, delete_model\n",
    "from regression_toolbox.likelihood import Likelihood\n",
    "from regression_toolbox.parameter import Parameter\n",
    "from visualisation_toolbox.domain import Domain\n",
    "from regression_toolbox.sampler import Sampler\n",
    "from visualisation_toolbox.visualiser import Visualiser\n",
    "from data_processing.sim_data_processor import SimDataProcessor\n",
    "from data_processing.raw_data_processor import RawDataProcessor\n",
    "import numpy as np\n",
    "import pandas as pd\n",
    "import os\n",
    "import jax\n",
    "\n",
    "os.chdir('/PhD_project/')\n",
    "\n",
    "jax.config.update(\"jax_enable_x64\", True)\n"
   ]
  },
  {
   "cell_type": "code",
   "execution_count": 2,
   "metadata": {},
   "outputs": [
    {
     "name": "stdout",
     "output_type": "stream",
     "text": [
      "Data loaded from /PhD_project/data/processed_sim_data/sandbox_2\n"
     ]
    },
    {
     "name": "stderr",
     "output_type": "stream",
     "text": [
      "sample: 100%|██████████| 1500/1500 [00:01<00:00, 917.07it/s, 15 steps of size 3.37e-01. acc. prob=0.95] \n"
     ]
    },
    {
     "name": "stdout",
     "output_type": "stream",
     "text": [
      "Samples saved to /PhD_project/results/inference_results/sandbox_2/general_instances/instance_3\n"
     ]
    }
   ],
   "source": [
    "sim_model = Model('line').add_fixed_model_param('a', 1).add_fixed_model_param('b', 1)\n",
    "sim_domain = Domain('one_D').add_domain_param('x_min', 0).add_domain_param('x_max', 10).add_domain_param('resolution', 100)\n",
    "sim_data_processor = SimDataProcessor('sandbox_2', sim_model, sim_domain,noise_dist='gaussian' ,noise_level=1)\n",
    "\n",
    "\n",
    "model = Model('line')\n",
    "\n",
    "# likelihood = Likelihood('gaussian_percentage_error')\n",
    "likelihood = Likelihood('gaussian')\n",
    "\n",
    "a_b = Parameter(name=['a','b'],prior_select='log_norm', multi_mode=True).add_prior_param('peak',  [[0.5,0.5], [1.5,1.5]]).add_prior_param('overall_scale', 0.1)\n",
    "\n",
    "sigma = Parameter(name='sigma',prior_select='uniform').add_prior_param('low',  0.0001).add_prior_param('high', 5)\n",
    "\n",
    "inference_params = pd.Series({'a_and_b': a_b, 'sigma':sigma})\n",
    "\n",
    "sampler = Sampler(inference_params, model, likelihood, sim_data_processor, n_samples = 1000, n_chains=1)\n",
    "# sampler = Sampler(inference_params, model, likelihood, raw_data_processor, n_samples = 10000, n_chains=3)\n",
    "sampler.sample_all()\n",
    "\n",
    "visualiser = Visualiser(sampler)\n",
    "visualiser.get_traceplots()\n",
    "\n",
    "visualiser.plot_prior('a_and_b', [[0.001,3],[0.001,3]])\n",
    "\n",
    "visualiser.plot_posterior('a_and_b', [[0.001,3],[0.001,3]])"
   ]
  },
  {
   "cell_type": "code",
   "execution_count": null,
   "metadata": {},
   "outputs": [],
   "source": []
  }
 ],
 "metadata": {
  "kernelspec": {
   "display_name": "base",
   "language": "python",
   "name": "python3"
  },
  "language_info": {
   "codemirror_mode": {
    "name": "ipython",
    "version": 3
   },
   "file_extension": ".py",
   "mimetype": "text/x-python",
   "name": "python",
   "nbconvert_exporter": "python",
   "pygments_lexer": "ipython3",
   "version": "3.12.5"
  }
 },
 "nbformat": 4,
 "nbformat_minor": 2
}
