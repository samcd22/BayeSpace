{
 "cells": [
  {
   "cell_type": "code",
   "execution_count": 1,
   "metadata": {},
   "outputs": [
    {
     "name": "stderr",
     "output_type": "stream",
     "text": [
      "/build/miniconda3/lib/python3.12/site-packages/tqdm/auto.py:21: TqdmWarning: IProgress not found. Please update jupyter and ipywidgets. See https://ipywidgets.readthedocs.io/en/stable/user_install.html\n",
      "  from .autonotebook import tqdm as notebook_tqdm\n"
     ]
    }
   ],
   "source": [
    "from regression_toolbox.model import Model, add_model, delete_model\n",
    "from regression_toolbox.likelihood import Likelihood\n",
    "from regression_toolbox.parameter import Parameter\n",
    "from visualisation_toolbox.domain import Domain\n",
    "from regression_toolbox.sampler import Sampler\n",
    "from visualisation_toolbox.visualiser import Visualiser, RegressionVisualiser\n",
    "from data_processing.sim_data_processor import SimDataProcessor\n",
    "from data_processing.raw_data_processor import RawDataProcessor\n",
    "import numpy as np\n",
    "import pandas as pd\n",
    "import os\n",
    "import jax\n",
    "\n",
    "os.chdir('/PhD_project/')\n",
    "\n",
    "jax.config.update(\"jax_enable_x64\", True)\n"
   ]
  },
  {
   "cell_type": "code",
   "execution_count": null,
   "metadata": {},
   "outputs": [
    {
     "name": "stdout",
     "output_type": "stream",
     "text": [
      "Data loaded from /PhD_project/data/processed_sim_data/sandbox_5\n",
      "Plot saved at: /PhD_project/data/processed_sim_data/sandbox_5\n",
      "Samples loaded from /PhD_project/results/regression_results/sandbox_5/instance_8\n"
     ]
    }
   ],
   "source": [
    "\n",
    "delete_model('nonlinear_3D')\n",
    "add_model('nonlinear_3D', 'a * x**y * sin(b * y / (z + x))', ['x', 'y', 'z'], 'C', ['a', 'b'])\n",
    "\n",
    "sim_model = Model('nonlinear_3D').add_fixed_model_param('a', 1).add_fixed_model_param('b', 1)\n",
    "sim_domain = Domain(3, 'cuboidal')\\\n",
    "    .add_domain_param('min_x', 0)\\\n",
    "    .add_domain_param('max_x', 10)\\\n",
    "    .add_domain_param('min_y', 0)\\\n",
    "    .add_domain_param('max_y', 10)\\\n",
    "    .add_domain_param('min_z', 0)\\\n",
    "    .add_domain_param('max_z', 10)\\\n",
    "    .add_domain_param('n_points_x', 20)\\\n",
    "    .add_domain_param('n_points_y', 20)\\\n",
    "    .add_domain_param('n_points_z', 20)\n",
    "sim_domain.build_domain()\n",
    "sim_data_processor = SimDataProcessor('sandbox_5', sim_model, sim_domain,noise_dist='gaussian' ,noise_level=2)\n",
    "\n",
    "\n",
    "model = Model('line')\n",
    "\n",
    "# likelihood = Likelihood('gaussian_percentage_error')\n",
    "likelihood = Likelihood('gaussian')\n",
    "\n",
    "a = Parameter(name='a',prior_select='gaussian').add_prior_param('mu', 100).add_prior_param('sigma', 0.01)\n",
    "b = Parameter(name='b',prior_select='gaussian').add_prior_param('mu', 100).add_prior_param('sigma', 0.01)\n",
    "sigma = Parameter(name='sigma',prior_select='uniform').add_prior_param('low',  0.0001).add_prior_param('high', 0.1)\n",
    "\n",
    "inference_params = pd.Series({'a': a, 'b': b, 'sigma': sigma})\n",
    "\n",
    "sampler = Sampler(inference_params, model, likelihood, sim_data_processor, n_samples = 1000, n_chains=1)\n",
    "# sampler = Sampler(inference_params, model, likelihood, raw_data_processor, n_samples = 10000, n_chains=3)\n",
    "sampler.sample_all()\n",
    "\n",
    "visualiser = RegressionVisualiser(sampler)\n",
    "visualiser.get_traceplots()\n",
    "visualiser.get_autocorrelations()\n",
    "\n",
    "\n",
    "# visualiser.plot_prior('a_and_b', [[0.001,3],[0.001,3]])\n",
    "\n",
    "# visualiser.plot_posterior('a_and_b', [[0.001,3],[0.001,3]])"
   ]
  },
  {
   "cell_type": "code",
   "execution_count": 4,
   "metadata": {},
   "outputs": [
    {
     "name": "stdout",
     "output_type": "stream",
     "text": [
      "Data loaded from /PhD_project/data/processed_sim_data/sandbox\n",
      "Plot saved at: /PhD_project/data/processed_sim_data/sandbox\n",
      "Samples loaded from /PhD_project/results/regression_results/sandbox/instance_3\n"
     ]
    }
   ],
   "source": [
    "sim_model = Model('line').add_fixed_model_param('a', 1).add_fixed_model_param('b', 1)\n",
    "sim_domain = Domain(1, 'linear')\\\n",
    "    .add_domain_param('min', 0)\\\n",
    "    .add_domain_param('max', 10)\\\n",
    "    .add_domain_param('n_points', 100)\n",
    "sim_domain.build_domain()\n",
    "sim_data_processor = SimDataProcessor('sandbox', sim_model, sim_domain,noise_dist='gaussian' ,noise_level=1)\n",
    "\n",
    "\n",
    "model = Model('line')\n",
    "\n",
    "# likelihood = Likelihood('gaussian_percentage_error')\n",
    "likelihood = Likelihood('gaussian')\n",
    "\n",
    "a = Parameter(name='a',prior_select='gaussian').add_prior_param('mu', 0).add_prior_param('sigma', 1)\n",
    "b = Parameter(name='b',prior_select='gaussian').add_prior_param('mu', 0).add_prior_param('sigma', 1)\n",
    "sigma = Parameter(name='sigma',prior_select='uniform').add_prior_param('low',  0.0001).add_prior_param('high', 5)\n",
    "\n",
    "inference_params = pd.Series({'a': a, 'b': b, 'sigma': sigma})\n",
    "\n",
    "sampler = Sampler(inference_params, model, likelihood, sim_data_processor, n_samples = 10000, n_chains=1)\n",
    "# sampler = Sampler(inference_params, model, likelihood, raw_data_processor, n_samples = 10000, n_chains=3)\n",
    "sampler.sample_all()\n",
    "\n",
    "visualiser = RegressionVisualiser(sampler)\n",
    "visualiser.get_traceplots()\n",
    "visualiser.get_autocorrelations()\n",
    "\n",
    "# visualiser.plot_prior('a_and_b', [[0.001,3],[0.001,3]])\n",
    "\n",
    "# visualiser.plot_posterior('a_and_b', [[0.001,3],[0.001,3]])\n",
    "\n",
    "vis_domain = Domain(1, 'linear')\\\n",
    "    .add_domain_param('min', 0)\\\n",
    "    .add_domain_param('max', 10)\\\n",
    "    .add_domain_param('n_points', 100)\n",
    "vis_domain.build_domain()\n",
    "visualiser.show_predictions(vis_domain, 'predictions', '1D')"
   ]
  },
  {
   "cell_type": "code",
   "execution_count": null,
   "metadata": {},
   "outputs": [],
   "source": []
  }
 ],
 "metadata": {
  "kernelspec": {
   "display_name": "base",
   "language": "python",
   "name": "python3"
  },
  "language_info": {
   "codemirror_mode": {
    "name": "ipython",
    "version": 3
   },
   "file_extension": ".py",
   "mimetype": "text/x-python",
   "name": "python",
   "nbconvert_exporter": "python",
   "pygments_lexer": "ipython3",
   "version": "3.12.5"
  }
 },
 "nbformat": 4,
 "nbformat_minor": 2
}
