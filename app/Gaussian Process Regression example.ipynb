{
 "cells": [
  {
   "cell_type": "markdown",
   "metadata": {},
   "source": [
    "# Gaussian Process Regression with BayeSpace Using Simulated Data\n",
    "\n",
    "This notebook demonstrates the use of **Gaussian Process Regression (GPR)** with BayeSpace on a series of simulated datasets, increasing in complexity. The goal is to showcase how BayeSpace can model complex functions and spatial patterns using GPR — a flexible, non-parametric method that infers function values and uncertainty without assuming a specific model form.\n",
    "\n",
    "We will walk through the following examples:\n",
    "\n",
    "- A simple **line** (1D regression)\n",
    "- A **curve** (non-linear polynomial)\n",
    "- A **plane** (2D regression)\n",
    "- A **non-linear** 2D function\n",
    "\n",
    "For each example, we generate noisy data, define a kernel structure, and train a Gaussian Process model using BayeSpace. We then visualise the predicted function values and uncertainties over the domain.\n",
    "\n",
    "This notebook serves as both a tutorial and a showcase of BayeSpace’s GPR functionality across increasingly complex regression problems — from smooth trends to sharp non-linearities.\n"
   ]
  },
  {
   "cell_type": "markdown",
   "metadata": {},
   "source": [
    "### Install Libraries"
   ]
  },
  {
   "cell_type": "code",
   "execution_count": 1,
   "metadata": {},
   "outputs": [],
   "source": [
    "from regression_toolbox.model import Model, add_model, delete_model\n",
    "\n",
    "from visualisation_toolbox.domain import Domain\n",
    "from visualisation_toolbox.visualiser import GPVisualiser\n",
    "\n",
    "from data_processing.sim_data_processor import SimDataProcessor\n",
    "from data_processing.raw_data_processor import RawDataProcessor\n",
    "\n",
    "from gaussian_process_toolbox.kernel import Kernel\n",
    "from gaussian_process_toolbox.gaussian_processor import GP\n",
    "from gaussian_process_toolbox.transformation import Transformation\n",
    "\n",
    "import numpy as np\n",
    "import pandas as pd\n",
    "import os\n",
    "import jax\n",
    "\n",
    "os.chdir('/PhD_project/')\n",
    "jax.config.update(\"jax_enable_x64\", True)\n"
   ]
  },
  {
   "cell_type": "markdown",
   "metadata": {},
   "source": [
    "## Example 1: Gaussian Process Regression on a Line\n",
    "\n",
    "In this first example, we use BayeSpace to perform **Gaussian Process Regression (GPR)** on simulated data generated from a simple line:  \n",
    "$$\n",
    "f(x) = ax + b\n",
    "$$\n",
    "\n",
    "The true values used to generate the data are \\( a = 1 \\), \\( b = 1 \\), with Gaussian noise of standard deviation 1 added to simulate measurement uncertainty.\n",
    "\n",
    "Unlike Bayesian Regression, which infers explicit parameter values for \\( a \\), \\( b \\), and \\( \\sigma \\), GPR directly models the function \\( f(x) \\) as a distribution over possible functions, conditioned on the observed data. We use a **Matérn kernel** defined over the 1D input space \\( x \\), with length scale and smoothness hyperparameters optimised during training.\n",
    "\n",
    "We visualise the GP’s predictive mean and uncertainty across the domain, demonstrating how GPR captures both the trend and confidence of the inferred function — even for a simple linear case.\n",
    "\n",
    "This example serves as a baseline for understanding BayeSpace’s GPR capability on well-behaved, 1D data.\n"
   ]
  },
  {
   "cell_type": "code",
   "execution_count": null,
   "metadata": {},
   "outputs": [
    {
     "ename": "FileNotFoundError",
     "evalue": "[Errno 2] No such file or directory: '/PhD_project/data/processed_sim_data'",
     "output_type": "error",
     "traceback": [
      "\u001b[0;31m---------------------------------------------------------------------------\u001b[0m",
      "\u001b[0;31mFileNotFoundError\u001b[0m                         Traceback (most recent call last)",
      "Cell \u001b[0;32mIn[2], line 26\u001b[0m\n\u001b[1;32m     23\u001b[0m transformation \u001b[38;5;241m=\u001b[39m Transformation(\u001b[38;5;124m'\u001b[39m\u001b[38;5;124midentity\u001b[39m\u001b[38;5;124m'\u001b[39m)\n\u001b[1;32m     25\u001b[0m \u001b[38;5;66;03m# Initialise the GP model using the real-world data processor\u001b[39;00m\n\u001b[0;32m---> 26\u001b[0m gp \u001b[38;5;241m=\u001b[39m \u001b[43mGP\u001b[49m\u001b[43m(\u001b[49m\u001b[43msim_data_processor\u001b[49m\u001b[43m,\u001b[49m\u001b[43m \u001b[49m\u001b[43mkernel_obj\u001b[49m\u001b[43m,\u001b[49m\u001b[43m \u001b[49m\u001b[43mtransformation\u001b[49m\u001b[38;5;241;43m=\u001b[39;49m\u001b[43mtransformation\u001b[49m\u001b[43m)\u001b[49m\n\u001b[1;32m     28\u001b[0m \u001b[38;5;66;03m# Train the GP — fit hyperparameters and compute posterior\u001b[39;00m\n\u001b[1;32m     29\u001b[0m gp_model \u001b[38;5;241m=\u001b[39m gp\u001b[38;5;241m.\u001b[39mtrain()\n",
      "File \u001b[0;32m/PhD_project/app/gaussian_process_toolbox/gaussian_processor.py:102\u001b[0m, in \u001b[0;36mGP.__init__\u001b[0;34m(self, data_processor, kernel, uncertainty_method, uncertainty_params, transformation, root_results_path)\u001b[0m\n\u001b[1;32m     98\u001b[0m \u001b[38;5;28mself\u001b[39m\u001b[38;5;241m.\u001b[39muncertainty_params \u001b[38;5;241m=\u001b[39m uncertainty_params\n\u001b[1;32m    100\u001b[0m \u001b[38;5;28mself\u001b[39m\u001b[38;5;241m.\u001b[39mtransformation \u001b[38;5;241m=\u001b[39m transformation\n\u001b[0;32m--> 102\u001b[0m \u001b[38;5;28mself\u001b[39m\u001b[38;5;241m.\u001b[39mtraining_data, \u001b[38;5;28mself\u001b[39m\u001b[38;5;241m.\u001b[39mtesting_data \u001b[38;5;241m=\u001b[39m \u001b[43mdata_processor\u001b[49m\u001b[38;5;241;43m.\u001b[39;49m\u001b[43mprocess_data\u001b[49m\u001b[43m(\u001b[49m\u001b[43m)\u001b[49m\n\u001b[1;32m    103\u001b[0m \u001b[38;5;28mself\u001b[39m\u001b[38;5;241m.\u001b[39mdata_construction \u001b[38;5;241m=\u001b[39m data_processor\u001b[38;5;241m.\u001b[39mget_construction()\n\u001b[1;32m    105\u001b[0m \u001b[38;5;28mself\u001b[39m\u001b[38;5;241m.\u001b[39mindependent_variables \u001b[38;5;241m=\u001b[39m data_processor\u001b[38;5;241m.\u001b[39mindependent_variables\n",
      "File \u001b[0;32m/PhD_project/app/data_processing/sim_data_processor.py:226\u001b[0m, in \u001b[0;36mSimDataProcessor.process_data\u001b[0;34m(self)\u001b[0m\n\u001b[1;32m    224\u001b[0m     data\u001b[38;5;241m.\u001b[39mdropna(inplace\u001b[38;5;241m=\u001b[39m\u001b[38;5;28;01mTrue\u001b[39;00m)\n\u001b[1;32m    225\u001b[0m     \u001b[38;5;28mself\u001b[39m\u001b[38;5;241m.\u001b[39mprocessed_data \u001b[38;5;241m=\u001b[39m data\n\u001b[0;32m--> 226\u001b[0m     \u001b[38;5;28;43mself\u001b[39;49m\u001b[38;5;241;43m.\u001b[39;49m\u001b[43m_save_data\u001b[49m\u001b[43m(\u001b[49m\u001b[38;5;28;43mself\u001b[39;49m\u001b[38;5;241;43m.\u001b[39;49m\u001b[43mprocessed_data\u001b[49m\u001b[43m)\u001b[49m\n\u001b[1;32m    227\u001b[0m \u001b[38;5;28;01melse\u001b[39;00m:\n\u001b[1;32m    228\u001b[0m     data_path \u001b[38;5;241m=\u001b[39m \u001b[38;5;28mself\u001b[39m\u001b[38;5;241m.\u001b[39mdata_path \u001b[38;5;241m+\u001b[39m \u001b[38;5;124m'\u001b[39m\u001b[38;5;124m/processed_sim_data/\u001b[39m\u001b[38;5;124m'\u001b[39m \u001b[38;5;241m+\u001b[39m \\\n\u001b[1;32m    229\u001b[0m         \u001b[38;5;28mself\u001b[39m\u001b[38;5;241m.\u001b[39mprocessed_data_name\n",
      "File \u001b[0;32m/PhD_project/app/data_processing/sim_data_processor.py:176\u001b[0m, in \u001b[0;36mSimDataProcessor._save_data\u001b[0;34m(self, simulated_data)\u001b[0m\n\u001b[1;32m    173\u001b[0m data_file_path \u001b[38;5;241m=\u001b[39m \u001b[38;5;28mself\u001b[39m\u001b[38;5;241m.\u001b[39mdata_path \u001b[38;5;241m+\u001b[39m \u001b[38;5;124m'\u001b[39m\u001b[38;5;124m/processed_sim_data/\u001b[39m\u001b[38;5;124m'\u001b[39m \u001b[38;5;241m+\u001b[39m \\\n\u001b[1;32m    174\u001b[0m     \u001b[38;5;28mself\u001b[39m\u001b[38;5;241m.\u001b[39mprocessed_data_name\n\u001b[1;32m    175\u001b[0m \u001b[38;5;28;01mif\u001b[39;00m \u001b[38;5;129;01mnot\u001b[39;00m os\u001b[38;5;241m.\u001b[39mpath\u001b[38;5;241m.\u001b[39mexists(data_file_path):\n\u001b[0;32m--> 176\u001b[0m     \u001b[43mos\u001b[49m\u001b[38;5;241;43m.\u001b[39;49m\u001b[43mmakedirs\u001b[49m\u001b[43m(\u001b[49m\u001b[43mdata_file_path\u001b[49m\u001b[43m)\u001b[49m\n\u001b[1;32m    177\u001b[0m simulated_data\u001b[38;5;241m.\u001b[39mto_csv(data_file_path \u001b[38;5;241m+\u001b[39m \u001b[38;5;124m'\u001b[39m\u001b[38;5;124m/data.csv\u001b[39m\u001b[38;5;124m'\u001b[39m)\n\u001b[1;32m    178\u001b[0m \u001b[38;5;28;01mwith\u001b[39;00m \u001b[38;5;28mopen\u001b[39m(data_file_path \u001b[38;5;241m+\u001b[39m \u001b[38;5;124m'\u001b[39m\u001b[38;5;124m/construction.json\u001b[39m\u001b[38;5;124m'\u001b[39m, \u001b[38;5;124m'\u001b[39m\u001b[38;5;124mw\u001b[39m\u001b[38;5;124m'\u001b[39m) \u001b[38;5;28;01mas\u001b[39;00m f:\n",
      "File \u001b[0;32m/build/miniconda3/envs/myenv/lib/python3.10/os.py:215\u001b[0m, in \u001b[0;36mmakedirs\u001b[0;34m(name, mode, exist_ok)\u001b[0m\n\u001b[1;32m    213\u001b[0m \u001b[38;5;28;01mif\u001b[39;00m head \u001b[38;5;129;01mand\u001b[39;00m tail \u001b[38;5;129;01mand\u001b[39;00m \u001b[38;5;129;01mnot\u001b[39;00m path\u001b[38;5;241m.\u001b[39mexists(head):\n\u001b[1;32m    214\u001b[0m     \u001b[38;5;28;01mtry\u001b[39;00m:\n\u001b[0;32m--> 215\u001b[0m         \u001b[43mmakedirs\u001b[49m\u001b[43m(\u001b[49m\u001b[43mhead\u001b[49m\u001b[43m,\u001b[49m\u001b[43m \u001b[49m\u001b[43mexist_ok\u001b[49m\u001b[38;5;241;43m=\u001b[39;49m\u001b[43mexist_ok\u001b[49m\u001b[43m)\u001b[49m\n\u001b[1;32m    216\u001b[0m     \u001b[38;5;28;01mexcept\u001b[39;00m \u001b[38;5;167;01mFileExistsError\u001b[39;00m:\n\u001b[1;32m    217\u001b[0m         \u001b[38;5;66;03m# Defeats race condition when another thread created the path\u001b[39;00m\n\u001b[1;32m    218\u001b[0m         \u001b[38;5;28;01mpass\u001b[39;00m\n",
      "File \u001b[0;32m/build/miniconda3/envs/myenv/lib/python3.10/os.py:225\u001b[0m, in \u001b[0;36mmakedirs\u001b[0;34m(name, mode, exist_ok)\u001b[0m\n\u001b[1;32m    223\u001b[0m         \u001b[38;5;28;01mreturn\u001b[39;00m\n\u001b[1;32m    224\u001b[0m \u001b[38;5;28;01mtry\u001b[39;00m:\n\u001b[0;32m--> 225\u001b[0m     \u001b[43mmkdir\u001b[49m\u001b[43m(\u001b[49m\u001b[43mname\u001b[49m\u001b[43m,\u001b[49m\u001b[43m \u001b[49m\u001b[43mmode\u001b[49m\u001b[43m)\u001b[49m\n\u001b[1;32m    226\u001b[0m \u001b[38;5;28;01mexcept\u001b[39;00m \u001b[38;5;167;01mOSError\u001b[39;00m:\n\u001b[1;32m    227\u001b[0m     \u001b[38;5;66;03m# Cannot rely on checking for EEXIST, since the operating system\u001b[39;00m\n\u001b[1;32m    228\u001b[0m     \u001b[38;5;66;03m# could give priority to other errors like EACCES or EROFS\u001b[39;00m\n\u001b[1;32m    229\u001b[0m     \u001b[38;5;28;01mif\u001b[39;00m \u001b[38;5;129;01mnot\u001b[39;00m exist_ok \u001b[38;5;129;01mor\u001b[39;00m \u001b[38;5;129;01mnot\u001b[39;00m path\u001b[38;5;241m.\u001b[39misdir(name):\n",
      "\u001b[0;31mFileNotFoundError\u001b[0m: [Errno 2] No such file or directory: '/PhD_project/data/processed_sim_data'"
     ]
    }
   ],
   "source": [
    "# Add this line if model doesn't exist yet\n",
    "# add_model('line', 'a*x + b', ['x'], 'y', ['a', 'b'])\n",
    "\n",
    "# Define the true model for simulation: a line with a = 1, b = 1\n",
    "sim_model = Model('line').add_fixed_model_param('a', 1).add_fixed_model_param('b', 1)\n",
    "\n",
    "# Define the input domain for the simulation: 50 points from 0 to 100\n",
    "sim_domain = Domain(1, 'linear').add_domain_param('min', 0).add_domain_param('max', 100).add_domain_param('n_points', 50)\n",
    "sim_domain.build_domain()\n",
    "\n",
    "# Generate noisy data using the model and domain, with Gaussian noise\n",
    "sim_data_processor = SimDataProcessor('linear_example', sim_model, sim_domain, noise_dist='gaussian', noise_level=1)\n",
    "\n",
    "kernel_config = {('matern', 'x'): [0]} \n",
    "\n",
    "# Instantiate the kernel with hyperparameters\n",
    "kernel_obj = Kernel(kernel_config)\n",
    "kernel_obj.add_kernel_param('matern', 'x', 'length_scale', 1)           # Initial guess\n",
    "kernel_obj.add_kernel_param('matern', 'x', 'nu', 2.5)                              # Smoothness\n",
    "kernel_obj.add_kernel_param('matern', 'x', 'length_scale_bounds', (0.001, 100))     # Bounds for optimisation\n",
    "\n",
    "# Identity transformation — data remains in log-space\n",
    "transformation = Transformation('identity')\n",
    "\n",
    "# Initialise the GP model using the real-world data processor\n",
    "gp = GP(sim_data_processor, kernel_obj, transformation=transformation)\n",
    "\n",
    "# Train the GP — fit hyperparameters and compute posterior\n",
    "gp_model = gp.train()\n",
    "\n",
    "# Visualise traceplots and autocorrelations for diagnostics\n",
    "visualiser = GPVisualiser(gp)\n",
    "\n",
    "# Visualise predicted line with posterior uncertainty\n",
    "vis_domain = Domain(1, 'linear').add_domain_param('min', 0).add_domain_param('max', 100).add_domain_param('n_points', 100)\n",
    "vis_domain.build_domain()\n",
    "visualiser.show_predictions(sim_domain, 'predictions', '1D')"
   ]
  },
  {
   "cell_type": "code",
   "execution_count": null,
   "metadata": {},
   "outputs": [
    {
     "name": "stdout",
     "output_type": "stream",
     "text": [
      "Predictions: [1.17985564 1.64034934 1.17305659 1.45529517 1.40458538]\n",
      "Prediction Standard Deviations: [0.00185778 0.00111878 0.00059362 0.00208792 0.0008923 ]\n",
      "Optimized Kernel: _KernelTransformer(2.2, 2.12) * _KernelTransformer(3.04)\n"
     ]
    }
   ],
   "source": [
    "from sklearn.gaussian_process import GaussianProcessRegressor\n",
    "from gaussian_process_toolbox.kernel import Kernel\n",
    "\n",
    "# Define a spatiotemporal kernel configuration\n",
    "kernel_config = {\n",
    "    ('matern', 'xy'): [0, 1],  # Apply Matern kernel to spatial dimensions (latitude, longitude)\n",
    "    ('rbf', 't'): [2]          # Apply RBF kernel to temporal dimension (time)\n",
    "}\n",
    "\n",
    "# Create kernel instance\n",
    "kernel_obj = Kernel(kernel_config, kernel_concatination='*')\n",
    "\n",
    "# Set kernel parameters\n",
    "kernel_obj.add_kernel_param('matern', 'xy', 'length_scale', [1.5, 1.5])\n",
    "kernel_obj.add_kernel_param('matern', 'xy', 'nu', 1.5)  # Smoothness parameter\n",
    "kernel_obj.add_kernel_param('rbf', 't', 'length_scale', 2.0)\n",
    "\n",
    "# Retrieve the kernel\n",
    "gp_kernel = kernel_obj.get_kernel()\n",
    "\n",
    "# Generate synthetic training data: 50 samples in (latitude, longitude, time)\n",
    "X_train = np.random.rand(50, 3)\n",
    "y_train = np.sin(X_train[:, 0]) + np.cos(X_train[:, 1]) + 0.1 * X_train[:, 2]\n",
    "\n",
    "# Fit a Gaussian Process Regressor\n",
    "gp = GaussianProcessRegressor(kernel=gp_kernel, n_restarts_optimizer=5)\n",
    "gp.fit(X_train, y_train)\n",
    "\n",
    "# Predict on new data\n",
    "X_test = np.random.rand(5, 3)\n",
    "y_pred, y_std = gp.predict(X_test, return_std=True)\n",
    "\n",
    "print(\"Predictions:\", y_pred)\n",
    "print(\"Prediction Standard Deviations:\", y_std)\n",
    "print(\"Optimized Kernel:\", gp.kernel_)\n"
   ]
  },
  {
   "cell_type": "code",
   "execution_count": null,
   "metadata": {},
   "outputs": [
    {
     "name": "stdout",
     "output_type": "stream",
     "text": [
      "Predictions: [0.32265258 0.6288256  0.45706933 0.13910396 0.57288473 0.63817096\n",
      " 0.88780468 0.66552526 0.48251856 0.45153111]\n",
      "Prediction Standard Deviations: [0.01075919 0.01581199 0.01703142 0.01478308 0.01334436 0.01450039\n",
      " 0.02180461 0.01180803 0.01291184 0.01140789]\n",
      "Optimized Kernel: _KernelTransformer(5.29, 6.12) * _KernelTransformer(2.8)\n"
     ]
    }
   ],
   "source": [
    "# Define a multi-Matern kernel configuration\n",
    "kernel_config = {\n",
    "    ('matern', 'spatial'): [0, 1],  # Matern kernel for depth and distance\n",
    "    ('matern', 'temporal'): [2]     # Separate Matern kernel for time\n",
    "}\n",
    "\n",
    "# Create kernel instance\n",
    "kernel_obj = Kernel(kernel_config, kernel_concatination='*')\n",
    "\n",
    "# Set kernel parameters\n",
    "kernel_obj.add_kernel_param('matern', 'spatial', 'length_scale', [3.0, 3.0])\n",
    "kernel_obj.add_kernel_param('matern', 'spatial', 'nu', 0.5)  # Rougher process\n",
    "kernel_obj.add_kernel_param('matern', 'temporal', 'length_scale', 5.0)\n",
    "kernel_obj.add_kernel_param('matern', 'temporal', 'nu', 1.5)  # Smoother process\n",
    "\n",
    "# Retrieve the kernel\n",
    "gp_kernel = kernel_obj.get_kernel()\n",
    "\n",
    "# Generate synthetic training data: 100 samples (depth, distance, time)\n",
    "X_train = np.random.rand(100, 3)\n",
    "y_train = np.sin(X_train[:, 0]) * np.cos(X_train[:, 1]) + 0.2 * X_train[:, 2]\n",
    "\n",
    "# Fit Gaussian Process Regressor\n",
    "gp = GaussianProcessRegressor(kernel=gp_kernel, n_restarts_optimizer=5)\n",
    "gp.fit(X_train, y_train)\n",
    "\n",
    "# Predict on new data\n",
    "X_test = np.random.rand(10, 3)\n",
    "y_pred, y_std = gp.predict(X_test, return_std=True)\n",
    "\n",
    "print(\"Predictions:\", y_pred)\n",
    "print(\"Prediction Standard Deviations:\", y_std)\n",
    "print(\"Optimized Kernel:\", gp.kernel_)\n"
   ]
  },
  {
   "cell_type": "code",
   "execution_count": null,
   "metadata": {},
   "outputs": [
    {
     "name": "stdout",
     "output_type": "stream",
     "text": [
      "Constructed Kernel: _KernelTransformer(0.405) + _KernelTransformer(0)\n",
      "Predictions: [ 0.3001465   0.30639726  0.31114469  0.31506418  0.31904065  0.32412901\n",
      "  0.33149124  0.34231135  0.35769197  0.37853859  0.40544037  0.43855773\n",
      "  0.47752872  0.52140559  0.56863238  0.61707141  0.66408309  0.70665865\n",
      "  0.74159985  0.76573472  0.77615322  0.77044317  0.74690491  0.70472335\n",
      "  0.64407855  0.56618079  0.47322268  0.36824858  0.25495001  0.1374033\n",
      "  0.01977201 -0.09399902 -0.2004701  -0.2969469  -0.38165238 -0.45381511\n",
      " -0.51366688 -0.56235174 -0.60175719 -0.63428573 -0.66259028 -0.68929972\n",
      " -0.71676079 -0.74681956 -0.78066108 -0.81871871 -0.86065765 -0.90542947\n",
      " -0.9513882  -0.99645328]\n",
      "Prediction Standard Deviations: [0.32443083 0.24430753 0.17012683 0.11614847 0.11197529 0.15516286\n",
      " 0.21225988 0.26780059 0.31626328 0.35512343 0.38308831 0.39962329\n",
      " 0.40479738 0.39921062 0.38393518 0.36044846 0.330553   0.29628486\n",
      " 0.25981556 0.22335259 0.18903824 0.15882838 0.13430081 0.116333\n",
      " 0.10473158 0.09819385 0.09488467 0.09322495 0.09229427 0.09177647\n",
      " 0.09169753 0.09215804 0.0931583  0.09454661 0.09606833 0.09746072\n",
      " 0.09854054 0.09925512 0.09968749 0.10001532 0.10042949 0.10103165\n",
      " 0.10175048 0.10232736 0.10241214 0.10178829 0.10073739 0.10052584\n",
      " 0.10379998 0.11419724]\n",
      "Optimized Kernel: _KernelTransformer(-1.56) + _KernelTransformer(-4.89)\n"
     ]
    },
    {
     "data": {
      "image/png": "[encoded data removed]",
      "text/plain": [
       "<Figure size 640x480 with 1 Axes>"
      ]
     },
     "metadata": {},
     "output_type": "display_data"
    }
   ],
   "source": [
    "from matplotlib import pyplot as plt\n",
    "import numpy as np\n",
    "from sklearn.gaussian_process import GaussianProcessRegressor\n",
    "\n",
    "# Define kernel configuration for a single RBF kernel applied to 'x' (dimension index 0)\n",
    "kernel_config = {('rbf', 'x'): [0],\n",
    "                 ('white', 'x'): [0]}\n",
    "\n",
    "# Create kernel instance\n",
    "kernel_obj = Kernel(kernel_config)\n",
    "\n",
    "# Set kernel parameters\n",
    "kernel_obj.add_kernel_param('rbf', 'x', 'length_scale', 1.5)\n",
    "\n",
    "# Retrieve the kernel\n",
    "gp_kernel = kernel_obj.get_kernel()\n",
    "print(f\"Constructed Kernel: {gp_kernel}\")\n",
    "\n",
    "# Generate synthetic training data\n",
    "X_train = np.random.rand(20, 1)  # 20 samples, 1D input (since we're using only 'x')\n",
    "# Generate synthetic training data with noise\n",
    "y_train = np.sin(5 * X_train).flatten() + 0.1 * np.random.randn(20)\n",
    "\n",
    "# Fit a Gaussian Process Regressor\n",
    "gp = GaussianProcessRegressor(kernel=gp_kernel, n_restarts_optimizer=5)\n",
    "gp.fit(X_train, y_train)\n",
    "\n",
    "# Predict on new data\n",
    "X_test = np.linspace(0, 1, 50).reshape(-1, 1)  # 50 test points\n",
    "y_pred, y_std = gp.predict(X_test, return_std=True)\n",
    "\n",
    "# Print results\n",
    "print(\"Predictions:\", y_pred)\n",
    "print(\"Prediction Standard Deviations:\", y_std)\n",
    "print(\"Optimized Kernel:\", gp.kernel_)\n",
    "\n",
    "\n",
    "plt.figure()\n",
    "plt.plot(X_train, y_train, 'r.', label='Training Data')\n",
    "plt.errorbar(X_train, y_train, yerr=0.1, fmt='r.', label='Training Data with Error Bars')\n",
    "plt.plot(X_test, y_pred, 'b-', label='Predictions')\n",
    "plt.fill_between(X_test.flatten(), y_pred - y_std, y_pred + y_std, alpha=0.2, color='blue')\n",
    "plt.xlabel('x')\n",
    "plt.ylabel('f(x)')\n",
    "plt.title('Gaussian Process Regression')\n",
    "plt.legend()\n",
    "plt.show()\n"
   ]
  },
  {
   "cell_type": "code",
   "execution_count": null,
   "metadata": {},
   "outputs": [
    {
     "name": "stdout",
     "output_type": "stream",
     "text": [
      "Data loaded from /PhD_project/data/processed_sim_data/gp_test_1\n",
      "Plot saved at: /PhD_project/data/processed_sim_data/gp_test_1\n",
      "Loading existing GP model from /PhD_project/results/gaussian_process_results/gp_test_1/instance_2/gaussian_process_model.pkl\n"
     ]
    }
   ],
   "source": [
    "sim_model = Model('line').add_fixed_model_param('a', 1).add_fixed_model_param('b', 1)\n",
    "sim_domain = Domain(1, 'linear').add_domain_param('min', 0).add_domain_param('max', 10).add_domain_param('n_points', 50)\n",
    "sim_domain.build_domain()\n",
    "\n",
    "sim_data_processor = SimDataProcessor('gp_test_1', sim_model, sim_domain, noise_dist='gaussian', noise_level=1)\n",
    "\n",
    "# Define kernel configuration with Matern kernel applied to 'x' (dimension index 0)\n",
    "kernel_config = {\n",
    "    ('matern', 'x'): [0],  # Replace 'rbf' with 'matern'\n",
    "    ('white', 'x'): [0]     # Keep WhiteKernel for noise handling\n",
    "}\n",
    "\n",
    "# Create kernel instance with sensible hyperparameters\n",
    "kernel_obj = Kernel(kernel_config) \\\n",
    "    .add_kernel_param('matern', 'x', 'length_scale', 1.0) \\\n",
    "    .add_kernel_param('matern', 'x', 'nu', 1.5) \\\n",
    "    .add_kernel_param('white', 'x', 'noise_level', 1) \\\n",
    "\n",
    "\n",
    "# Train the GP model with the new kernel\n",
    "gp = GP(sim_data_processor, kernel_obj)\n",
    "gp.train()\n",
    "\n",
    "# Create a domain for visualization\n",
    "vis_domain = Domain(1, 'linear').add_domain_param('min', 0).add_domain_param('max', 10).add_domain_param('n_points', 1000)\n",
    "vis_domain.build_domain()\n",
    "\n",
    "# Visualize the results\n",
    "visualiser = GPVisualiser(gp)\n",
    "visualiser.show_predictions(vis_domain, 'test', title='GP Test 4 (Matern Kernel)', plot_type='1D')\n"
   ]
  },
  {
   "cell_type": "code",
   "execution_count": null,
   "metadata": {},
   "outputs": [
    {
     "name": "stdout",
     "output_type": "stream",
     "text": [
      "Data loaded from /PhD_project/data/processed_sim_data/gp_test_2\n",
      "Plot saved at: /PhD_project/data/processed_sim_data/gp_test_2\n",
      "Loading existing GP model from /PhD_project/results/gaussian_process_results/gp_test_2/instance_2/gaussian_process_model.pkl\n"
     ]
    }
   ],
   "source": [
    "sim_model = Model('parabaloid').add_fixed_model_param('a', 3).add_fixed_model_param('b', 1)\n",
    "sim_domain = Domain(2, 'rectangular').add_domain_param('min_x', -10).add_domain_param('max_x', 10).add_domain_param('min_y', -10).add_domain_param('max_y', 10).add_domain_param('n_points_x', 40).add_domain_param('n_points_y', 40)\n",
    "sim_domain.build_domain()\n",
    "sim_data_processor = SimDataProcessor('gp_test_2', sim_model, sim_domain,noise_dist='gaussian' ,noise_level=1)\n",
    "\n",
    "kernel_config = {('matern', 'xy'): [0, 1]}\n",
    "\n",
    "kernel_obj = Kernel(kernel_config).add_kernel_param('matern', 'xy', 'length_scale', [1, 1])\n",
    "kernel_obj.add_kernel_param('matern', 'xy', 'nu', 2.5)\n",
    "kernel_obj.add_kernel_param('matern', 'xy', 'length_scale_bounds', [(0.1, 10), (0.1,10)])\n",
    "\n",
    "gp = GP(sim_data_processor, kernel_obj)\n",
    "gp_model = gp.train()\n",
    "\n",
    "vis_domain = Domain(2, 'circular').add_domain_param('radius', 5).add_domain_param('mass', 10000)\n",
    "vis_domain.build_domain()\n",
    "\n",
    "visualiser = GPVisualiser(gp)\n",
    "visualiser.show_predictions(vis_domain, 'test', title = 'GP Test 5', plot_type='2D')\n",
    "\n",
    "\n"
   ]
  },
  {
   "cell_type": "code",
   "execution_count": null,
   "metadata": {},
   "outputs": [
    {
     "name": "stdout",
     "output_type": "stream",
     "text": [
      "Data loaded from /PhD_project/data/processed_sim_data/gp_test_3\n",
      "Plot saved at: /PhD_project/data/processed_sim_data/gp_test_3\n",
      "Loading existing GP model from /PhD_project/results/gaussian_process_results/gp_test_3/instance_6/gaussian_process_model.pkl\n"
     ]
    }
   ],
   "source": [
    "# add_model('test2D', 'A*sin(x/a)*cos(y/b) + B*exp(-(x^2 + y^2)/c^2)', ['x', 'y'], 'C', ['A', 'B', 'a', 'b', 'c'])\n",
    "\n",
    "# add_model('test2D_4', 'exp(sqrt(x^2 + y^2)/c^2)', ['x', 'y'], 'C', ['c'])\n",
    "\n",
    "sim_model = Model('test2D_4').add_fixed_model_param('c', 1)\n",
    "sim_domain = Domain(2, 'rectangular').add_domain_param('min_x', -10).add_domain_param('max_x', 10).add_domain_param('min_y', -10).add_domain_param('max_y', 10).add_domain_param('n_points_x', 60).add_domain_param('n_points_y', 60)\n",
    "sim_domain.build_domain()\n",
    "sim_data_processor = SimDataProcessor('gp_test_3', sim_model, sim_domain,noise_dist='gaussian' ,noise_level=0)\n",
    "\n",
    "kernel_config = {('matern', 'xy'): [0, 1]}\n",
    "\n",
    "kernel_obj = Kernel(kernel_config).add_kernel_param('matern', 'xy', 'length_scale', [1, 1])\n",
    "kernel_obj.add_kernel_param('matern', 'xy', 'nu', 1.5)\n",
    "kernel_obj.add_kernel_param('matern', 'xy', 'length_scale_bounds', [(0.01, 100), (0.01,100)])\n",
    "\n",
    "gp = GP(sim_data_processor, kernel_obj, transformation=Transformation('log'))\n",
    "gp_model = gp.train()\n",
    "\n",
    "vis_domain = Domain(2, 'circular').add_domain_param('radius', 5).add_domain_param('mass', 10000)\n",
    "vis_domain.build_domain()\n",
    "\n",
    "visualiser = GPVisualiser(gp)\n",
    "visualiser.show_predictions(vis_domain, 'test', title = 'GP Test 5', plot_type='2D', scale='log')\n",
    "\n",
    "\n"
   ]
  },
  {
   "cell_type": "code",
   "execution_count": null,
   "metadata": {},
   "outputs": [
    {
     "name": "stdout",
     "output_type": "stream",
     "text": [
      "Data loaded from /PhD_project/data/processed_sim_data/gp_test_6\n",
      "Plot saved at: /PhD_project/data/processed_sim_data/gp_test_6\n",
      "Loading existing GP model from /PhD_project/results/gaussian_process_results/gp_test_6/instance_2/gaussian_process_model.pkl\n"
     ]
    }
   ],
   "source": [
    "# add_model('ellipsoid3D', 'A * exp(-(x^2/a^2 + y^2/b^2 + z^2/c^2))', \n",
    "#           ['x', 'y', 'z'], 'D', ['A', 'a', 'b', 'c'])\n",
    "\n",
    "\n",
    "sim_model = Model('ellipsoid3D').add_fixed_model_param('A', 1).add_fixed_model_param('a', 3).add_fixed_model_param('b', 4).add_fixed_model_param('c', 5)\n",
    "sim_domain = Domain(3, 'cuboidal').add_domain_param('min_x', -10).add_domain_param('max_x', 10).add_domain_param('min_y', -10).add_domain_param('max_y', 10).add_domain_param('n_points_x', 10).add_domain_param('n_points_y', 10).add_domain_param('min_z', -10).add_domain_param('max_z', 10).add_domain_param('n_points_z', 10)\n",
    "sim_domain.build_domain()\n",
    "sim_data_processor = SimDataProcessor('gp_test_6', sim_model, sim_domain,noise_dist='gaussian' ,noise_level=0.1)\n",
    "\n",
    "kernel_config = {('matern', 'xyz'): [0, 1, 2]}\n",
    "\n",
    "kernel_obj = Kernel(kernel_config).add_kernel_param('matern', 'xyz', 'length_scale', [1, 1, 1])\n",
    "kernel_obj.add_kernel_param('matern', 'xyz', 'nu', 2.5)\n",
    "kernel_obj.add_kernel_param('matern', 'xyz', 'length_scale_bounds', (0.01, 100))\n",
    "\n",
    "gp = GP(sim_data_processor, kernel_obj)\n",
    "gp_model = gp.train()\n",
    "\n",
    "vis_domain = Domain(3, 'spherical').add_domain_param('radius', 5).add_domain_param('mass', 10000)\n",
    "vis_domain.build_domain()\n",
    "\n",
    "visualiser = GPVisualiser(gp)\n",
    "visualiser.show_predictions(vis_domain, 'test', title = 'GP Test 5', plot_type='3D')\n",
    "visualiser.show_predictions(vis_domain, 'test', title = 'GP Test 5', plot_type='3D_recursive')"
   ]
  },
  {
   "cell_type": "code",
   "execution_count": null,
   "metadata": {},
   "outputs": [
    {
     "name": "stdout",
     "output_type": "stream",
     "text": [
      "Data loaded from /PhD_project/data/processed_sim_data/gp_test_7\n",
      "Plot saved at: /PhD_project/data/processed_sim_data/gp_test_7\n",
      "Loading existing GP model from /PhD_project/results/gaussian_process_results/gp_test_7/instance_2/gaussian_process_model.pkl\n"
     ]
    }
   ],
   "source": [
    "# add_model('wave1D', 'A * sin(2 * pi * (x / a - t / b))', \n",
    "#           ['x', 't'], 'D', ['A', 'a', 'b'])\n",
    " \n",
    "sim_model = Model('wave1D').add_fixed_model_param('A', 1).add_fixed_model_param('a', 3).add_fixed_model_param('b', 4)\n",
    "sim_domain = Domain(1, 'linear', time_array = np.linspace(0.5,5,10), dim_names=['x', 't']).add_domain_param('min', 0).add_domain_param('max', 10).add_domain_param('n_points', 50)\n",
    "sim_domain.build_domain()\n",
    "sim_data_processor = SimDataProcessor('gp_test_7', sim_model, sim_domain,noise_dist='gaussian' ,noise_level=0.1)\n",
    "\n",
    "kernel_config = {('matern', 'x'): [0], ('rbf', 't'): [1]}\n",
    "kernel_obj = Kernel(kernel_config).add_kernel_param('matern', 'x', 'length_scale', 1.5)\n",
    "kernel_obj.add_kernel_param('rbf', 't', 'length_scale', 2.0)\n",
    "\n",
    "gp = GP(sim_data_processor, kernel_obj)\n",
    "gp_model = gp.train()\n",
    "\n",
    "vis_domain = Domain(1, 'linear', time_array = np.linspace(0.5,5,10), dim_names=['x', 't']).add_domain_param('min', 0).add_domain_param('max', 10).add_domain_param('n_points', 100)\n",
    "vis_domain.build_domain()\n",
    "\n",
    "visualiser = GPVisualiser(gp)\n",
    "visualiser.show_predictions(vis_domain, 'test', title = 'GP Test 5', plot_type='1D_time')"
   ]
  },
  {
   "cell_type": "code",
   "execution_count": null,
   "metadata": {},
   "outputs": [
    {
     "name": "stdout",
     "output_type": "stream",
     "text": [
      "Data loaded from /PhD_project/data/processed_sim_data/gp_test_8\n",
      "Plot saved at: /PhD_project/data/processed_sim_data/gp_test_8\n",
      "Loading existing GP model from /PhD_project/results/gaussian_process_results/gp_test_8/instance_2/gaussian_process_model.pkl\n"
     ]
    }
   ],
   "source": [
    "# add_model('wave2D', 'A * sin(2 * pi * (x / a + y / b - t / c))', \n",
    "#           ['x', 'y', 't'], 'D', ['A', 'a', 'b', 'c'])\n",
    "\n",
    "sim_model = Model('wave2D') \\\n",
    "    .add_fixed_model_param('A', 1) \\\n",
    "    .add_fixed_model_param('a', 3) \\\n",
    "    .add_fixed_model_param('b', 4) \\\n",
    "    .add_fixed_model_param('c', 5)\n",
    "\n",
    "sim_domain = Domain(2, 'rectangular', time_array=np.linspace(0, 5, 10), dim_names=['x', 'y', 't']) \\\n",
    "    .add_domain_param('min_x', 0).add_domain_param('max_x', 10).add_domain_param('n_points_x', 15) \\\n",
    "    .add_domain_param('min_y', 0).add_domain_param('max_y', 10).add_domain_param('n_points_y', 15)\n",
    "\n",
    "sim_domain.build_domain()\n",
    "sim_data_processor = SimDataProcessor('gp_test_8', sim_model, sim_domain, noise_dist='gaussian', noise_level=0.1)\n",
    "\n",
    "kernel_config = {('matern', 'xy'): [0, 1], ('rbf', 't'): [2]}\n",
    "kernel_obj = Kernel(kernel_config) \\\n",
    "    .add_kernel_param('matern', 'xy', 'length_scale', [1.5, 1.5]) \\\n",
    "    .add_kernel_param('matern', 'xy', 'nu', 1.5) \\\n",
    "    .add_kernel_param('matern', 'xy', 'length_scale_bounds', (0.1, 10)) \\\n",
    "    .add_kernel_param('rbf', 't', 'length_scale', 2.0) \\\n",
    "    .add_kernel_param('rbf', 't', 'length_scale_bounds', (0.1, 10))\n",
    "\n",
    "gp = GP(sim_data_processor, kernel_obj)\n",
    "gp_model = gp.train()\n",
    "\n",
    "vis_domain = Domain(2, 'rectangular', time_array=np.linspace(0, 5, 10), dim_names=['x', 'y', 't']) \\\n",
    "    .add_domain_param('min_x', 0).add_domain_param('max_x', 10).add_domain_param('n_points_x', 30) \\\n",
    "    .add_domain_param('min_y', 0).add_domain_param('max_y', 10).add_domain_param('n_points_y', 30)\n",
    "\n",
    "vis_domain.build_domain()\n",
    "\n",
    "visualiser = GPVisualiser(gp)\n",
    "visualiser.show_predictions(vis_domain, 'test', title='GP Test 2D Time', plot_type='2D_time')\n"
   ]
  },
  {
   "cell_type": "code",
   "execution_count": null,
   "metadata": {},
   "outputs": [
    {
     "name": "stdout",
     "output_type": "stream",
     "text": [
      "Data loaded from /PhD_project/data/processed_sim_data/gp_test_9\n",
      "Plot saved at: /PhD_project/data/processed_sim_data/gp_test_9\n",
      "Data loaded from /PhD_project/data/processed_sim_data/gp_test_9\n",
      "Plot saved at: /PhD_project/data/processed_sim_data/gp_test_9\n",
      "Loading existing GP model from /PhD_project/results/gaussian_process_results/gp_test_9/instance_9/gaussian_process_model.pkl\n"
     ]
    }
   ],
   "source": [
    "# add_model('wave3D_2', 'A * exp(-((x/a)^2 + (y/b)^2 + (z/c)^2)) * exp(2 * pi * (t / d))', \n",
    "#           ['x', 'y', 'z', 't'], 'D', ['A', 'a', 'b', 'c', 'd'])\n",
    "\n",
    "sim_model = Model('wave3D_2') \\\n",
    "    .add_fixed_model_param('A', 1) \\\n",
    "    .add_fixed_model_param('a', 3) \\\n",
    "    .add_fixed_model_param('b', 4) \\\n",
    "    .add_fixed_model_param('c', 5) \\\n",
    "    .add_fixed_model_param('d', 6)\n",
    "\n",
    "sim_domain = Domain(3, 'cuboidal', time_array=np.linspace(0, 5, 5), dim_names=['x', 'y', 'z', 't']) \\\n",
    "    .add_domain_param('min_x', -5).add_domain_param('max_x', 5).add_domain_param('n_points_x', 5) \\\n",
    "    .add_domain_param('min_y', -5).add_domain_param('max_y', 5).add_domain_param('n_points_y', 5) \\\n",
    "    .add_domain_param('min_z', -5).add_domain_param('max_z', 5).add_domain_param('n_points_z', 5)\n",
    "\n",
    "sim_domain.build_domain()\n",
    "sim_data_processor = SimDataProcessor('gp_test_9', sim_model, sim_domain, noise_dist='gaussian', noise_level=0)\n",
    "\n",
    "kernel_config = {('matern', 'xyz'): [0, 1, 2], ('rbf', 't'): [3]}\n",
    "kernel_obj = Kernel(kernel_config) \\\n",
    "    .add_kernel_param('matern', 'xyz', 'length_scale', [1.5, 1.5, 1.5]) \\\n",
    "    .add_kernel_param('matern', 'xyz', 'nu', 1.5) \\\n",
    "    .add_kernel_param('matern', 'xyz', 'length_scale_bounds', (0.1, 10)) \\\n",
    "    .add_kernel_param('rbf', 't', 'length_scale', 2.0) \\\n",
    "    .add_kernel_param('rbf', 't', 'length_scale_bounds', (0.1, 10))\n",
    "\n",
    "uncertainty_params = {\n",
    "    'precision_error': 0.1,\n",
    "}\n",
    "gp = GP(sim_data_processor, \n",
    "        kernel_obj, \n",
    "        transformation=Transformation('log1p'), \n",
    "        uncertainty_method='precision', \n",
    "        uncertainty_params=uncertainty_params)\n",
    "gp = GP(sim_data_processor, kernel_obj)\n",
    "gp_model = gp.train()\n",
    "\n",
    "vis_domain = Domain(3, 'cuboidal', time_array=np.linspace(0, 5, 10), dim_names=['x', 'y', 'z', 't']) \\\n",
    "    .add_domain_param('min_x', -5).add_domain_param('max_x', 5).add_domain_param('n_points_x', 30) \\\n",
    "    .add_domain_param('min_y', -5).add_domain_param('max_y', 5).add_domain_param('n_points_y', 30) \\\n",
    "    .add_domain_param('min_z', -5).add_domain_param('max_z', 5).add_domain_param('n_points_z', 30)\n",
    "\n",
    "vis_domain.build_domain()\n",
    "\n",
    "visualiser = GPVisualiser(gp)\n",
    "visualiser.show_predictions(vis_domain, 'test', title='GP Test 3D Time', plot_type='3D_time')\n"
   ]
  },
  {
   "cell_type": "code",
   "execution_count": null,
   "metadata": {},
   "outputs": [
    {
     "name": "stdout",
     "output_type": "stream",
     "text": [
      "Data loaded from data/processed_raw_data/xylo_test_2\n",
      "Data loaded from data/processed_raw_data/xylo_test_2\n",
      "Loading existing GP model from /PhD_project/results/gaussian_process_results/xylo_test_2/instance_2/gaussian_process_model.pkl\n"
     ]
    }
   ],
   "source": [
    "processor_params = {\n",
    "    'identifier': 'aves',\n",
    "    'tax_group': 'class',\n",
    "    'num_x_cells': 10,\n",
    "    'num_y_cells': 10,\n",
    "    'timestep': 'year',\n",
    "    'output_header': 'counts'\n",
    "}\n",
    "\n",
    "raw_data_processor = RawDataProcessor('xylo_test_project', 'xylo_test_2', 'XYLO_processor', processor_params)\n",
    "processed_data, _ = raw_data_processor.process_data()\n",
    "x_min = processed_data['x'].min()\n",
    "x_max = processed_data['x'].max()\n",
    "y_min = processed_data['y'].min()\n",
    "y_max = processed_data['y'].max()\n",
    "t_min = processed_data['t'].min()\n",
    "t_max = processed_data['t'].max()\n",
    "\n",
    "kernel_config = {('matern', 'xy'): [0, 1], ('rbf', 't'): [2]}\n",
    "kernel_obj = Kernel(kernel_config) \\\n",
    "    .add_kernel_param('matern', 'xy', 'length_scale', [1.5, 1.5]) \\\n",
    "    .add_kernel_param('matern', 'xy', 'nu', 1.5) \\\n",
    "    .add_kernel_param('matern', 'xy', 'length_scale_bounds', (0.1, 10)) \\\n",
    "    .add_kernel_param('rbf', 't', 'length_scale', 2.0) \\\n",
    "    .add_kernel_param('rbf', 't', 'length_scale_bounds', (0.1, 10))\n",
    "\n",
    "uncertainty_params = {\n",
    "    'precision_error': 0.1,\n",
    "    'zero_count_error': 1\n",
    "}\n",
    "gp = GP(raw_data_processor, \n",
    "        kernel_obj, \n",
    "        transformation=Transformation('log1p'), \n",
    "        uncertainty_method='XYLO_uncertainty', \n",
    "        uncertainty_params=uncertainty_params)\n",
    "\n",
    "gp_model = gp.train()\n",
    "\n",
    "vis_domain = Domain(2, 'rectangular', time_array=np.arange(t_min, t_max, 1), dim_names=['x', 'y', 't']) \\\n",
    "    .add_domain_param('min_x', x_min).add_domain_param('max_x', x_max).add_domain_param('n_points_x', 30) \\\n",
    "    .add_domain_param('min_y', y_min).add_domain_param('max_y', y_max).add_domain_param('n_points_y', 30)\n",
    "\n",
    "vis_domain.build_domain()\n",
    "\n",
    "visualiser = GPVisualiser(gp)\n",
    "visualiser.show_predictions(vis_domain, 'test', title='GP Test 2D Time', plot_type='2D_time')"
   ]
  },
  {
   "cell_type": "code",
   "execution_count": null,
   "metadata": {},
   "outputs": [
    {
     "name": "stdout",
     "output_type": "stream",
     "text": [
      "Data loaded from /PhD_project/data/processed_sim_data/gp_test_10\n",
      "Plot saved at: /PhD_project/data/processed_sim_data/gp_test_10\n"
     ]
    },
    {
     "data": {
      "text/plain": [
       "[    Unnamed: 0          x         y    y_true\n",
       " 12          12   2.448980  0.729252  0.638550\n",
       " 4            4   0.816327  0.835853  0.728635\n",
       " 37          37   7.551020  0.798296  0.954457\n",
       " 8            8   1.632653  0.858149  0.998087\n",
       " 3            3   0.612245  0.531819  0.574706\n",
       " 6            6   1.224490  0.771494  0.940633\n",
       " 41          41   8.367347  0.948427  0.871097\n",
       " 46          46   9.387755  0.036783  0.037014\n",
       " 47          47   9.591837 -0.177167 -0.166283\n",
       " 15          15   3.061224  0.080543  0.080282\n",
       " 9            9   1.836735  1.070700  0.964846\n",
       " 16          16   3.265306 -0.121329 -0.123398\n",
       " 24          24   4.897959 -1.289284 -0.982831\n",
       " 34          34   6.938776  0.658580  0.609627\n",
       " 31          31   6.326531  0.043978  0.043332\n",
       " 0            0   0.000000  0.000000  0.000000\n",
       " 44          44   8.979592  0.450965  0.430626\n",
       " 27          27   5.510204 -0.714968 -0.698272\n",
       " 33          33   6.734694  0.431780  0.436323\n",
       " 5            5   1.020408  0.459608  0.852322\n",
       " 29          29   5.918367 -0.402309 -0.356779\n",
       " 11          11   2.244898  0.728168  0.781268\n",
       " 36          36   7.346939  1.000052  0.874184\n",
       " 1            1   0.204082  0.198028  0.202668\n",
       " 21          21   4.285714 -0.564484 -0.910347\n",
       " 2            2   0.408163  0.466448  0.396924\n",
       " 43          43   8.775510  0.520112  0.604603\n",
       " 35          35   7.142857  0.757496  0.757628\n",
       " 23          23   4.693878 -0.617231 -0.999829\n",
       " 40          40   8.163265  0.874760  0.952552\n",
       " 10          10   2.040816  1.318572  0.891559\n",
       " 22          22   4.489796 -1.079079 -0.975328\n",
       " 18          18   3.673469 -0.482045 -0.507152\n",
       " 49          49  10.000000 -0.573813 -0.544021\n",
       " 20          20   4.081633 -0.784387 -0.807582\n",
       " 7            7   1.428571  1.044880  0.989903\n",
       " 42          42   8.571429  0.847722  0.753487\n",
       " 14          14   2.857143  0.296835  0.280629\n",
       " 28          28   5.714286 -0.503260 -0.538705\n",
       " 38          38   7.755102  0.928046  0.995115,\n",
       "     Unnamed: 0         x         y    y_true\n",
       " 13          13  2.653061  0.519296  0.469330\n",
       " 39          39  7.959184  0.954345  0.994471\n",
       " 30          30  6.122449 -0.161761 -0.160045\n",
       " 45          45  9.183673  0.252159  0.238775\n",
       " 17          17  3.469388 -0.287527 -0.321956\n",
       " 48          48  9.795918 -0.348207 -0.362678\n",
       " 26          26  5.306122 -1.162261 -0.828858\n",
       " 25          25  5.102041 -1.199873 -0.925041\n",
       " 32          32  6.530612  0.280251  0.244910\n",
       " 19          19  3.877551 -0.772139 -0.671298]"
      ]
     },
     "execution_count": 13,
     "metadata": {},
     "output_type": "execute_result"
    }
   ],
   "source": [
    "# add_model('sin', 'A * sin(B * x + C) + D', ['x'], 'y', ['A', 'B', 'C', 'D'])\n",
    "\n",
    "sim_model = Model('sin').add_fixed_model_param('A', 1).add_fixed_model_param('B', 1).add_fixed_model_param('C', 0).add_fixed_model_param('D', 0)\n",
    "sim_domain = Domain(1, 'linear').add_domain_param('min', 0).add_domain_param('max', 10).add_domain_param('n_points', 50)\n",
    "sim_domain.build_domain()\n",
    "sim_data_processor = SimDataProcessor('gp_test_10', sim_model, sim_domain, noise_dist='gaussian', noise_percentage=0.5)\n",
    "sim_data_processor.process_data()"
   ]
  },
  {
   "cell_type": "code",
   "execution_count": null,
   "metadata": {},
   "outputs": [
    {
     "name": "stdout",
     "output_type": "stream",
     "text": [
      "Data loaded from /PhD_project/data/processed_sim_data/gp_test_11\n",
      "Plot saved at: /PhD_project/data/processed_sim_data/gp_test_11\n"
     ]
    },
    {
     "data": {
      "text/plain": [
       "[      Unnamed: 0         x         y         C    C_true\n",
       " 3290        3290  0.514582  0.969710  2.913460  2.484293\n",
       " 2333        2333 -0.738732 -3.480437 -2.121768 -3.219169\n",
       " 4553        4553  2.394553 -4.131678 -0.282135 -0.737125\n",
       " 3168        3168  0.389251 -2.395035 -1.621613 -1.005785\n",
       " 2760        2760 -0.174741  3.249054  4.076328  4.074314\n",
       " ...          ...       ...       ...       ...       ...\n",
       " 3772        3772  1.203905  4.117376  6.912167  6.321281\n",
       " 5191        5191  3.459870  0.427009  5.277960  4.886880\n",
       " 5226        5226  3.585202 -2.937736  1.945506  1.647465\n",
       " 5390        5390  3.835865  1.295331  4.455971  6.131196\n",
       " 860          860 -2.932032  1.946572  1.054759  0.014540\n",
       " \n",
       " [4613 rows x 5 columns],\n",
       "       Unnamed: 0         x         y         C    C_true\n",
       " 3262        3262  0.577248 -2.069415  0.260225 -0.492167\n",
       " 4577        4577  2.394553 -1.526714 -0.356621  1.867839\n",
       " 2213        2213 -0.926729  3.249054  3.164142  3.322325\n",
       " 3226        3226  0.451916  3.900295  6.065730  5.352212\n",
       " 4652        4652  2.582551 -2.069415  1.781443  1.513136\n",
       " ...          ...       ...       ...       ...       ...\n",
       " 339          339 -3.997349  2.706353 -1.168541 -0.290995\n",
       " 4078        4078  1.705231 -0.984013  2.726637  1.721218\n",
       " 4183        4183  1.830562  1.078251  5.288584  3.908813\n",
       " 387          387 -3.872017  1.620951 -1.672492 -1.251066\n",
       " 4367        4367  2.018559  2.489273  5.128233  5.507832\n",
       " \n",
       " [1154 rows x 5 columns]]"
      ]
     },
     "execution_count": 14,
     "metadata": {},
     "output_type": "execute_result"
    }
   ],
   "source": [
    "# add_model('plane', 'a*x + b*y +c', ['x', 'y'], 'C', ['a', 'b', 'c'])\n",
    "\n",
    "sim_model = Model('plane').add_fixed_model_param('a', 1).add_fixed_model_param('b', 1).add_fixed_model_param('c', 1)\n",
    "sim_domain = Domain(2, 'circular').add_domain_param('radius', 5).add_domain_param('mass', 5000)\n",
    "sim_domain.build_domain()\n",
    "sim_data_processor = SimDataProcessor('gp_test_11', sim_model, sim_domain, noise_dist='gaussian', noise_level = 1)\n",
    "sim_data_processor.process_data()"
   ]
  },
  {
   "cell_type": "code",
   "execution_count": null,
   "metadata": {},
   "outputs": [
    {
     "name": "stdout",
     "output_type": "stream",
     "text": [
      "Data loaded from /PhD_project/data/processed_sim_data/gp_test_12\n",
      "Plot saved at: /PhD_project/data/processed_sim_data/gp_test_12\n"
     ]
    },
    {
     "data": {
      "text/plain": [
       "[      Unnamed: 0         x         y         z         C     C_true\n",
       " 1600        1600 -3.651099  1.541821 -2.663636 -4.275061  -3.772914\n",
       " 90            90  0.665383 -0.093635 -5.000000 -3.403425  -3.428252\n",
       " 5997        5997  3.632964 -2.663636  4.812731  6.854899   6.782060\n",
       " 5642        5642 -2.571979  3.410912  3.878185  5.065299   5.717118\n",
       " 3946        3946  1.744503  3.410912  1.074548  7.514325   7.229963\n",
       " ...          ...       ...       ...       ...       ...        ...\n",
       " 3772        3772  1.204943 -1.261817  1.074548  1.976058   2.017674\n",
       " 5191        5191  4.442305  1.074548  3.410912  7.543197   9.927764\n",
       " 5226        5226  4.442305  2.009093  3.410912  4.211169  10.862310\n",
       " 5390        5390 -2.302199 -3.598181  3.878185 -0.993752  -1.022195\n",
       " 860          860 -2.032419 -3.130908 -3.598181 -9.237878  -7.761508\n",
       " \n",
       " [5204 rows x 6 columns],\n",
       "       Unnamed: 0         x         y         z         C     C_true\n",
       " 5638        5638  3.093404  2.943639  3.878185  9.687199  10.915228\n",
       " 3153        3153  1.474723 -2.663636  0.140002 -0.049054  -0.048910\n",
       " 6270        6270  0.665383 -1.962726  5.280004  5.405054   4.982660\n",
       " 217          217 -0.683518  3.177276 -5.000000 -1.493865  -1.506242\n",
       " 2339        2339 -2.032419 -1.729090 -1.261817 -3.640582  -4.023325\n",
       " ...          ...       ...       ...       ...       ...        ...\n",
       " 1419        1419  0.395603 -3.598181 -2.663636 -4.523468  -4.866214\n",
       " 2578        2578 -2.302199 -2.663636 -0.794544 -4.227905  -4.760378\n",
       " 5273        5273  2.014283  2.476366  3.410912  4.229144   8.901562\n",
       " 3455        3455 -3.651099 -2.897272  0.607275 -4.256502  -4.941097\n",
       " 1618        1618 -3.381319  2.009093 -2.663636 -2.917789  -3.035861\n",
       " \n",
       " [1301 rows x 6 columns]]"
      ]
     },
     "execution_count": 15,
     "metadata": {},
     "output_type": "execute_result"
    }
   ],
   "source": [
    "# add_model('3D_plane', 'a*x + b*y +c*z + d', ['x', 'y', 'z'], 'C', ['a', 'b', 'c', 'd'])\n",
    "\n",
    "sim_model = Model('3D_plane').add_fixed_model_param('a', 1).add_fixed_model_param('b', 1).add_fixed_model_param('c', 1).add_fixed_model_param('d', 1)\n",
    "sim_domain = Domain(3, 'cylindrical').add_domain_param('radius', 5).add_domain_param('mass', 5000).add_domain_param('height', 10)\n",
    "sim_domain.build_domain()\n",
    "sim_data_processor = SimDataProcessor('gp_test_12', sim_model, sim_domain, noise_dist='gaussian', noise_percentage=  0.2)\n",
    "sim_data_processor.process_data()"
   ]
  },
  {
   "cell_type": "code",
   "execution_count": null,
   "metadata": {},
   "outputs": [
    {
     "name": "stdout",
     "output_type": "stream",
     "text": [
      "Data generated and saved to /PhD_project/data/processed_sim_data/gp_test_13\n",
      "Plot saved at: /PhD_project/data/processed_sim_data/gp_test_13\n"
     ]
    },
    {
     "data": {
      "text/plain": [
       "[             x         y  t         C    C_true\n",
       " 3196 -0.838506 -4.485149  1 -0.155656 -0.055696\n",
       " 3071 -1.333922  3.409238  1  0.055979  0.035995\n",
       " 6662  3.422071 -0.537955  2  0.075841 -0.011142\n",
       " 5582 -0.640340 -0.023104  2 -0.248044  0.037490\n",
       " 969  -0.541257 -1.224424  0  0.082949 -0.008311\n",
       " ...        ...       ... ..       ...       ...\n",
       " 3772  1.242240 -4.656766  1 -0.200068 -0.250639\n",
       " 5191 -2.027505  0.148513  2  0.117006  0.004203\n",
       " 5226 -1.829338 -3.112212  2 -0.099339  0.010175\n",
       " 5390 -1.135756 -3.627063  2 -0.344071 -0.005789\n",
       " 860  -1.036673 -0.366338  0 -0.128389 -0.505075\n",
       " \n",
       " [5527 rows x 5 columns],\n",
       "              x         y  t         C    C_true\n",
       " 5665 -0.442174  4.267324  2  0.173385  0.135307\n",
       " 994  -0.541257  3.066004  0  0.328946  0.513804\n",
       " 6061  1.044074  2.722770  2 -0.454100  0.000164\n",
       " 5711 -0.244007  2.207918  2  0.082971 -0.063321\n",
       " 4094  2.233072  3.752472  1 -0.040791 -0.001347\n",
       " ...        ...       ... ..       ...       ...\n",
       " 3918  1.539490  1.178216  1  0.236763 -0.110340\n",
       " 3898  1.638573 -2.254126  1  0.333086  0.055382\n",
       " 227  -3.414669 -2.768978  0 -0.120060 -0.251188\n",
       " 5934  0.647741  0.663365  2  0.078755  0.000336\n",
       " 2970 -1.631172 -4.485149  1 -0.213746  0.204397\n",
       " \n",
       " [1382 rows x 5 columns]]"
      ]
     },
     "execution_count": 27,
     "metadata": {},
     "output_type": "execute_result"
    }
   ],
   "source": [
    "delete_model('exp_test')\n",
    "add_model('exp_test', '(A * sin(x/a + omega * t) * cos(y/b + nu * t) + B * exp(-(x**2 + y**2)/c**2)) * exp(-alpha * t)', ['x', 'y', 't'], 'C', ['A', 'B', 'a', 'b', 'c', 'omega', 'nu', 'alpha'])\n",
    "\n",
    "sim_model = Model('exp_test').add_fixed_model_param('A', 1).add_fixed_model_param('B', 1).add_fixed_model_param('a', 1).add_fixed_model_param('b', 1).add_fixed_model_param('c', 1).add_fixed_model_param('alpha', 1).add_fixed_model_param('omega', 1).add_fixed_model_param('nu', 1)\n",
    "sim_domain = Domain(2, 'circular', dim_names=['x', 'y', 't'], time_array=[0, 1, 2]).add_domain_param('radius', 5).add_domain_param('mass', 2000)\n",
    "sim_domain.build_domain()\n",
    "sim_data_processor = SimDataProcessor('gp_test_13', sim_model, sim_domain, noise_dist='gaussian', noise_level = 0.5)\n",
    "sim_data_processor.process_data()"
   ]
  },
  {
   "cell_type": "markdown",
   "metadata": {},
   "source": []
  }
 ],
 "metadata": {
  "kernelspec": {
   "display_name": "myenv",
   "language": "python",
   "name": "python3"
  },
  "language_info": {
   "codemirror_mode": {
    "name": "ipython",
    "version": 3
   },
   "file_extension": ".py",
   "mimetype": "text/x-python",
   "name": "python",
   "nbconvert_exporter": "python",
   "pygments_lexer": "ipython3",
   "version": "3.10.16"
  }
 },
 "nbformat": 4,
 "nbformat_minor": 2
}
