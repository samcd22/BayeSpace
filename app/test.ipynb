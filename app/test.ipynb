{
 "cells": [
  {
   "cell_type": "code",
   "execution_count": 1,
   "metadata": {},
   "outputs": [],
   "source": [
    "# import numpy as np\n",
    "\n",
    "# from toolboxes.inference_toolbox.parameter import Parameter\n",
    "# from toolboxes.inference_toolbox.likelihood import Likelihood\n",
    "# from toolboxes.inference_toolbox.model import Model\n",
    "\n",
    "# I_y = Parameter(name=['I_y','I_z'],prior_select='gaussian',multi_mode=True).add_prior_param(\n",
    "#     'mu',  [[0,0], [10,10], [20,20]]).add_prior_param(\n",
    "#         'cov',[[[1,0],[0,1]],[[2,0],[0,2]],[[3,0],[0,3]]])\n",
    "# I_y.sample_param()\n",
    "\n"
   ]
  },
  {
   "cell_type": "code",
   "execution_count": 2,
   "metadata": {},
   "outputs": [],
   "source": [
    "import numpy as np\n",
    "import pandas as pd\n",
    "from toolboxes.inference_toolbox.model import Model, add_model, delete_model\n",
    "\n",
    "add_model('full_log_gpm','log10(Q/(2*u*pi*I_y*I_z*(x-x_0)**2)*exp(-(y-y_0)**2/(2*I_y**2*(x-x_0)**2))*(exp(-(z-z_0)**2/(2*I_z**2*(x-x_0)**2))+exp(-(z+z_0)**2/(2*I_z**2*(x-x_0)**2))))',\n",
    "#            all_param_names=['I_y','I_z','Q','H','u', 'x_0', 'y_0', 'z_0'], independent_variables=['x','y','z'], dependent_variables=['Concentration'])\n",
    "\n",
    "    # delete_model('gpm_norm')\n",
    "# add_model('curve', 'm*x**2+c',all_param_names=['m','c'], dependent_variables=['y'], independent_variables=['x'])\n",
    "model = Model('full_log_gpm').add_fixed_model_param('H', 1).add_fixed_model_param('u', 1).add_fixed_model_param('x_0', 0).add_fixed_model_param('y_0', 1).add_fixed_model_param('z_0', 1)\n",
    "model.get_model()(pd.Series({'I_y': 1, 'I_z':2, 'Q':3}), [np.array([1,2,3]), np.array([4,5,6]), np.array([7,8,9])])"
   ]
  },
  {
   "cell_type": "code",
   "execution_count": 3,
   "metadata": {
    "metadata": {}
   },
   "outputs": [],
   "source": [
    "# from toolboxes.data_processing_toolbox.raw_data_processor import RawDataProcessor\n",
    "\n",
    "# import os\n",
    "\n",
    "# os.chdir('/PhD_project/')\n",
    "\n",
    "# processor_params = {\n",
    "#     'experiments_list': [\n",
    "#         'Exp1',\n",
    "#         'Exp2',\n",
    "#         'Exp3',\n",
    "#         'Exp4',\n",
    "#         'Exp5',\n",
    "#         'Exp6',\n",
    "#         'Exp7',\n",
    "#         'Exp8',\n",
    "#         'Exp9',\n",
    "#         'Exp10',\n",
    "#         'Exp11',\n",
    "#         'Exp12',\n",
    "#     ],\n",
    "#     'meta_data_select': 'GBR_data_summary',\n",
    "#     'input_header': 'Concentration',\n",
    "#     'output_header': 'Concentration',\n",
    "#     'log_output_data':True,\n",
    "#     'gridding': [500,500,100]\n",
    "# }\n",
    "\n",
    "# train, test = RawDataProcessor('GBR_data', 'GBR_data_gridded_500_500_100', 'GBR_processor', processor_params).process_data()\n",
    "# train"
   ]
  },
  {
   "cell_type": "code",
   "execution_count": 4,
   "metadata": {},
   "outputs": [
    {
     "name": "stderr",
     "output_type": "stream",
     "text": [
      "/build/miniconda3/lib/python3.12/site-packages/tqdm/auto.py:21: TqdmWarning: IProgress not found. Please update jupyter and ipywidgets. See https://ipywidgets.readthedocs.io/en/stable/user_install.html\n",
      "  from .autonotebook import tqdm as notebook_tqdm\n"
     ]
    },
    {
     "name": "stdout",
     "output_type": "stream",
     "text": [
      "Data already simulated, loading data...\n"
     ]
    },
    {
     "name": "stderr",
     "output_type": "stream",
     "text": [
      "sample: 100%|██████████| 150/150 [00:34<00:00,  4.29it/s, 511 steps of size 1.22e-13. acc. prob=0.43] \n"
     ]
    }
   ],
   "source": [
    "from toolboxes.inference_toolbox.model import Model\n",
    "from toolboxes.inference_toolbox.likelihood import Likelihood\n",
    "from toolboxes.inference_toolbox.parameter import Parameter\n",
    "from toolboxes.plotting_toolbox.domain import Domain\n",
    "from toolboxes.inference_toolbox.sampler import Sampler\n",
    "from toolboxes.data_processing_toolbox.sim_data_processor import SimDataProcessor\n",
    "import numpy as np\n",
    "import pandas as pd\n",
    "import os\n",
    "\n",
    "os.chdir('/PhD_project/')\n",
    "\n",
    "\n",
    "\n",
    "# Define your main process as a function\n",
    "sim_model = Model('log_gpm_norm').add_fixed_model_param('H', 1).add_fixed_model_param('I_y',1).add_fixed_model_param('I_z',1).add_fixed_model_param('Q',1e13)\n",
    "sim_domain = Domain('cone_from_source_z_limited').add_domain_param('r',1000).add_domain_param('theta',np.pi/8).add_domain_param('source', [0,0,1]).add_domain_param('resolution',100)\n",
    "simulator_params = {\n",
    "    'output_header': 'Concentration',\n",
    "    'log_output_data': True,\n",
    "}\n",
    "\n",
    "sim_data_processor = SimDataProcessor('sim_data_2', sim_model, sim_domain, simulator_params)\n",
    "\n",
    "model = Model('log_gpm_norm').add_fixed_model_param('H', 1)\n",
    "likelihood = Likelihood('gaussian')\n",
    "I_y_and_I_z = Parameter(name=['I_y','I_z'],prior_select='log_norm',multi_mode=True).add_prior_param('mu',  [[1,1], [1.1,1.1], [1.2,1.2]]).add_prior_param('cov',[[[1,0],[0,1]],[[2,0],[0,2]],[[3,0],[0,3]]])\n",
    "Q = Parameter(name='Q',prior_select='log_norm').add_prior_param('mu',  1e13).add_prior_param('cov', 1e12)\n",
    "sigma = Parameter(name='sigma',prior_select='log_norm').add_prior_param('mu',  1).add_prior_param('cov', 1)\n",
    "inference_params = pd.Series({'I_y_and_I_z': I_y_and_I_z, 'Q': Q, 'sigma':sigma})\n",
    "\n",
    "samples, chain_samples, fields = Sampler(inference_params, model, likelihood, sim_data_processor, n_samples = 100).sample_all()\n"
   ]
  },
  {
   "cell_type": "code",
   "execution_count": 5,
   "metadata": {},
   "outputs": [
    {
     "name": "stdout",
     "output_type": "stream",
     "text": [
      "def _lambdifygenerated(x, y, z, I_y):\n",
      "    return log(5000000000000.0*(exp(-0.5*(z + 1.0)**2/x**2) + exp(-0.5*(z - 1.0)**2/x**2))*exp(-1/2*y**2/(I_y**2*x**2))/(pi*I_y*x**2))/log(10)\n",
      "\n"
     ]
    }
   ],
   "source": [
    "from toolboxes.inference_toolbox.model import Model\n",
    "import inspect\n",
    "\n",
    "sim_model = Model('log_gpm_norm').add_fixed_model_param('H', 1).add_fixed_model_param('I_z',1).add_fixed_model_param('Q',1e13)\n",
    "\n",
    "# Define some example parameters and independent variables\n",
    "example_params = {'I_y': 3.0}\n",
    "example_independent_vars = {'x': [1, 2, 3,1,2,3,4,5,6,7,8,9,1,2,3,4,5,6,7,8,9,1,2,3,4,5,6,7,8,9], 'y': [4, 5, 6,1,2,3,4,5,6,7,8,9,1,2,3,4,5,6,7,8,9,1,2,3,4,5,6,7,8,9], 'z': [7, 8, 9,1,2,3,4,5,6,7,8,9,1,2,3,4,5,6,7,8,9,1,2,3,4,5,6,7,8,9]}\n",
    "\n",
    "# Get the model function\n",
    "model_func = sim_model.get_model()\n",
    "\n",
    "import inspect\n",
    "lines = inspect.getsource(sim_model.expr_func)\n",
    "print(lines)"
   ]
  }
 ],
 "metadata": {
  "kernelspec": {
   "display_name": "base",
   "language": "python",
   "name": "python3"
  },
  "language_info": {
   "codemirror_mode": {
    "name": "ipython",
    "version": 3
   },
   "file_extension": ".py",
   "mimetype": "text/x-python",
   "name": "python",
   "nbconvert_exporter": "python",
   "pygments_lexer": "ipython3",
   "version": "3.12.2"
  }
 },
 "nbformat": 4,
 "nbformat_minor": 2
}
