{
 "cells": [
  {
   "cell_type": "markdown",
   "metadata": {},
   "source": [
    "Import Packages"
   ]
  },
  {
   "cell_type": "code",
   "execution_count": 1,
   "metadata": {},
   "outputs": [
    {
     "name": "stderr",
     "output_type": "stream",
     "text": [
      "/build/miniconda3/lib/python3.12/site-packages/tqdm/auto.py:21: TqdmWarning: IProgress not found. Please update jupyter and ipywidgets. See https://ipywidgets.readthedocs.io/en/stable/user_install.html\n",
      "  from .autonotebook import tqdm as notebook_tqdm\n"
     ]
    }
   ],
   "source": [
    "from toolboxes.inference_toolbox.model import Model, add_model, delete_model\n",
    "from toolboxes.inference_toolbox.likelihood import Likelihood\n",
    "from toolboxes.inference_toolbox.parameter import Parameter\n",
    "from toolboxes.plotting_toolbox.domain import Domain\n",
    "from toolboxes.inference_toolbox.sampler import Sampler\n",
    "from toolboxes.inference_toolbox.visualiser import Visualiser\n",
    "from toolboxes.data_processing_toolbox.sim_data_processor import SimDataProcessor\n",
    "from toolboxes.data_processing_toolbox.raw_data_processor import RawDataProcessor\n",
    "import numpy as np\n",
    "import pandas as pd\n",
    "import os\n",
    "\n",
    "os.chdir('/PhD_project/')"
   ]
  },
  {
   "cell_type": "markdown",
   "metadata": {},
   "source": [
    "Example of adding a model to the model library"
   ]
  },
  {
   "cell_type": "code",
   "execution_count": 2,
   "metadata": {},
   "outputs": [],
   "source": [
    "# add_model('full_log_gpm','log10(Q/(2*u*pi*I_y*I_z*(x-x_0)**2)*exp(-(y-y_0)**2/(2*I_y**2*(x-x_0)**2))*(exp(-(z-z_0)**2/(2*I_z**2*(x-x_0)**2))+exp(-(z+z_0)**2/(2*I_z**2*(x-x_0)**2))))',\n",
    "#            all_param_names=['I_y','I_z','Q','H','u', 'x_0', 'y_0', 'z_0'], independent_variables=['x','y','z'], dependent_variables=['Concentration'])"
   ]
  },
  {
   "cell_type": "markdown",
   "metadata": {},
   "source": [
    "Simulated data"
   ]
  },
  {
   "cell_type": "code",
   "execution_count": 3,
   "metadata": {},
   "outputs": [
    {
     "name": "stdout",
     "output_type": "stream",
     "text": [
      "Data already simulated, loading data...\n",
      "Samples already exists, loading data...\n"
     ]
    }
   ],
   "source": [
    "sim_model = Model('log_gpm_norm').add_fixed_model_param('H', 1).add_fixed_model_param('I_y',1).add_fixed_model_param('I_z',1).add_fixed_model_param('Q',1e13)\n",
    "sim_domain = Domain('cone_from_source_z_limited').add_domain_param('r',1000).add_domain_param('theta',np.pi/8).add_domain_param('source', [0,0,1]).add_domain_param('resolution',20)\n",
    "simulator_params = {\n",
    "    'output_header': 'Concentration',\n",
    "    'log_output_data': False,\n",
    "}\n",
    "\n",
    "sim_data_processor = SimDataProcessor('sim_data_np_0.01', sim_model, sim_domain, simulator_params, noise_dist='gaussian', noise_percentage=0.01)\n",
    "\n",
    "# processor_params = {\n",
    "#     'experiments_list': [\n",
    "#         'Exp1',\n",
    "#         'Exp2',\n",
    "#         'Exp3',\n",
    "#         'Exp4',\n",
    "#         'Exp5',\n",
    "#         'Exp6',\n",
    "#         'Exp7',\n",
    "#         'Exp8',\n",
    "#         'Exp9',\n",
    "#         'Exp10',\n",
    "#         'Exp11',\n",
    "#         'Exp12',\n",
    "#     ],\n",
    "#     'meta_data_select': 'GBR_data_summary',\n",
    "#     'input_header': 'Concentration',\n",
    "#     'output_header': 'Concentration',\n",
    "#     'log_output_data':True,\n",
    "#     'gridding': [100,100,25]\n",
    "# }\n",
    "\n",
    "# raw_data_processor = RawDataProcessor('GBR_data', 'GBR_data_gridded_100_100_25', 'GBR_processor', processor_params=processor_params)\n",
    "\n",
    "\n",
    "model = Model('log_gpm_norm').add_fixed_model_param('H', 1)\n",
    "likelihood = Likelihood('gaussian_percentage_error')\n",
    "I_y_and_I_z = Parameter(name=['I_y','I_z'],prior_select='log_norm', multi_mode=True).add_prior_param('peak',  [[0.0725, 0.0465], [0.22, 0.2], [1.6,1.2]] ).add_prior_param('overall_scale', 0.1)\n",
    "# I_y_and_I_z = Parameter(name=['I_y','I_z'],prior_select='log_norm').add_prior_param('peak', [0.35,0.26] ).add_prior_param('scale',[[1,0],[0,1]])\n",
    "Q = Parameter(name='Q',prior_select='log_norm', order = 13).add_prior_param('peak',  1).add_prior_param('scale', 0.001)\n",
    "# Q = Parameter(name='Q',prior_select='log_norm', order = 13).add_prior_param('peak',  3.41).add_prior_param('scale', 0.825)\n",
    "# sigma = Parameter(name='sigma',prior_select='log_norm').add_prior_param('peak',  0.1).add_prior_param('scale', 1)\n",
    "error = Parameter(name='error',prior_select='uniform').add_prior_param('low',  0).add_prior_param('high', 1)\n",
    "# error = Parameter(name='error',prior_select='log_norm').add_prior_param('peak',  0.8).add_prior_param('scale', 0.00001)\n",
    "# inference_params = pd.Series({'I_y_and_I_z': I_y_and_I_z, 'Q': Q, 'sigma':sigma})\n",
    "inference_params = pd.Series({'I_y_and_I_z': I_y_and_I_z, 'Q': Q, 'error':error})\n",
    "\n",
    "sampler = Sampler(inference_params, model, likelihood, sim_data_processor, n_samples = 10000, n_chains=3)\n",
    "# sampler = Sampler(inference_params, model, likelihood, raw_data_processor, n_samples = 10000, n_chains=3)\n",
    "sampler.sample_all()\n",
    "\n",
    "visualiser = Visualiser(sampler)\n",
    "visualiser.get_traceplots()\n",
    "\n",
    "domain = Domain('cone_from_source_z_limited').add_domain_param('r',1000).add_domain_param('theta',np.pi/8).add_domain_param('source', [0,0,1]).add_domain_param('resolution',40)\n",
    "domain.add_domain_param('z_slice', 0)\n",
    "domain.add_domain_param('y_slice', 0)\n",
    "domain.add_domain_param('x_slice', 100)\n",
    "\n",
    "visualiser.show_predictions(domain, 'test', title = 'Concentration of Droplets', plot_type='3D')\n",
    "visualiser.show_predictions(domain, 'test', title = 'Concentration of Droplets', plot_type='2D_slice')\n",
    "visualiser.get_autocorrelations()\n",
    "visualiser.get_summary()\n",
    "\n",
    "Q_ref = {\n",
    "            'vals' : [2.82e13, 3.11e13, 2.89e13, 4.83e13],\n",
    "            'labels': ['250m','200m','750m','1000m'] \n",
    "        }\n",
    "\n",
    "I_y_and_I_z_ref = {\n",
    "            'vals' : [[0.22,0.2],[1.6,1.2],[0.11,0.08],[0.08,0.06], [0.06,0.03], [0.04,0.016]],\n",
    "            'labels': ['A','B','C','D','E','F'] \n",
    "        }\n",
    "\n",
    "visualiser.plot_prior('Q', [1e12,5e13], Q_ref)\n",
    "# visualiser.plot_prior('sigma', [0.5,1])\n",
    "visualiser.plot_prior('error', [0,1])\n",
    "visualiser.plot_prior('I_y_and_I_z', [[0.0001,1.7],[0.0001,1.7]], I_y_and_I_z_ref)\n",
    "\n",
    "visualiser.plot_posterior('Q', [1e12,5e13], Q_ref)\n",
    "# visualiser.plot_posterior('sigma', [0.5,1])\n",
    "visualiser.plot_posterior('error', [0,1])\n",
    "visualiser.plot_posterior('I_y_and_I_z', [[0.0001,1.7],[0.0001,1.7]], I_y_and_I_z_ref)\n"
   ]
  },
  {
   "cell_type": "code",
   "execution_count": 4,
   "metadata": {},
   "outputs": [
    {
     "name": "stdout",
     "output_type": "stream",
     "text": [
      "8.25e+12\n"
     ]
    }
   ],
   "source": [
    "num = np.std([2.82e13, 3.11e13, 2.89e13, 4.83e13], axis=0)\n",
    "print(f\"{num:.2e}\")"
   ]
  },
  {
   "cell_type": "code",
   "execution_count": 5,
   "metadata": {},
   "outputs": [],
   "source": [
    "# from mpl_toolkits.mplot3d import Axes3D\n",
    "# import matplotlib.pyplot as plt\n",
    "\n",
    "# data = sim_data_processor.processed_data\n",
    "\n",
    "# fig = plt.figure()\n",
    "# ax = fig.add_subplot(111, projection='3d')\n",
    "\n",
    "# ax.scatter(data.x, data.y, data.z, c=data.Concentration, s=5)\n",
    "# ax.set_xlabel('X')\n",
    "# ax.set_ylabel('Y')\n",
    "# ax.set_zlabel('Z')\n",
    "# # Add a colorbar\n",
    "# cbar = fig.colorbar(ax.collections[0])\n",
    "# cbar.set_label('Concentration')\n",
    "# plt.show()\n",
    "\n",
    "\n",
    "# average_y = data.groupby(['x','z'])['Concentration'].mean().reset_index()\n",
    "# plt.scatter(average_y['x'], average_y['z'], c=average_y['Concentration'], cmap='viridis')\n",
    "# plt.xlabel('X')\n",
    "# plt.ylabel('Average Y')\n",
    "# plt.colorbar(label='Y')\n",
    "# plt.show()"
   ]
  },
  {
   "cell_type": "markdown",
   "metadata": {},
   "source": [
    "Raw GBR Data Prior 1"
   ]
  },
  {
   "cell_type": "code",
   "execution_count": 6,
   "metadata": {},
   "outputs": [
    {
     "name": "stdout",
     "output_type": "stream",
     "text": [
      "5.61e-01\n",
      "0.35166666666666674\n",
      "4.23e-01\n",
      "0.26433333333333336\n"
     ]
    }
   ],
   "source": [
    "a = [0.22, 1.6, 0.11, 0.08, 0.06, 0.04]\n",
    "print(f\"{np.std(a):.2e}\")\n",
    "print(np.mean(a))\n",
    "\n",
    "b = [0.2, 1.2, 0.08, 0.06, 0.03, 0.016]\n",
    "print(f\"{np.std(b):.2e}\")\n",
    "print(np.mean(b))\n"
   ]
  },
  {
   "cell_type": "markdown",
   "metadata": {},
   "source": [
    "Raw GBR Data Prior 2"
   ]
  },
  {
   "cell_type": "markdown",
   "metadata": {},
   "source": [
    "Generating multiple instances"
   ]
  }
 ],
 "metadata": {
  "kernelspec": {
   "display_name": "base",
   "language": "python",
   "name": "python3"
  },
  "language_info": {
   "codemirror_mode": {
    "name": "ipython",
    "version": 3
   },
   "file_extension": ".py",
   "mimetype": "text/x-python",
   "name": "python",
   "nbconvert_exporter": "python",
   "pygments_lexer": "ipython3",
   "version": "3.12.2"
  }
 },
 "nbformat": 4,
 "nbformat_minor": 2
}
