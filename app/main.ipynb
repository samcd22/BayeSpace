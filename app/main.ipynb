{
 "cells": [
  {
   "cell_type": "code",
   "execution_count": 1,
   "metadata": {},
   "outputs": [
    {
     "name": "stderr",
     "output_type": "stream",
     "text": [
      "/build/miniconda3/lib/python3.12/site-packages/tqdm/auto.py:21: TqdmWarning: IProgress not found. Please update jupyter and ipywidgets. See https://ipywidgets.readthedocs.io/en/stable/user_install.html\n",
      "  from .autonotebook import tqdm as notebook_tqdm\n"
     ]
    }
   ],
   "source": [
    "from inference_toolbox.model import Model, add_model, delete_model\n",
    "from inference_toolbox.likelihood import Likelihood\n",
    "from inference_toolbox.parameter import Parameter\n",
    "from visualisation_toolbox.domain import Domain\n",
    "from controllers.sampler import Sampler\n",
    "from visualisation_toolbox.visualiser import Visualiser\n",
    "from data_processing.sim_data_processor import SimDataProcessor\n",
    "from data_processing.raw_data_processor import RawDataProcessor\n",
    "import numpy as np\n",
    "import pandas as pd\n",
    "import os\n",
    "import jax\n",
    "\n",
    "os.chdir('/PhD_project/')\n",
    "\n",
    "jax.config.update(\"jax_enable_x64\", True)\n"
   ]
  },
  {
   "cell_type": "code",
   "execution_count": 2,
   "metadata": {},
   "outputs": [
    {
     "name": "stdout",
     "output_type": "stream",
     "text": [
      "Data loaded from data/processed_raw_data/GBR_data_gridded_100_100_25\n"
     ]
    },
    {
     "name": "stderr",
     "output_type": "stream",
     "text": [
      "sample: 100%|██████████| 15000/15000 [00:10<00:00, 1408.08it/s, 7 steps of size 6.28e-01. acc. prob=0.94]\n",
      "sample: 100%|██████████| 15000/15000 [00:09<00:00, 1652.86it/s, 1 steps of size 8.08e-01. acc. prob=0.90] \n",
      "sample: 100%|██████████| 15000/15000 [00:09<00:00, 1591.69it/s, 7 steps of size 7.68e-01. acc. prob=0.91]\n"
     ]
    },
    {
     "name": "stdout",
     "output_type": "stream",
     "text": [
      "Samples saved to /PhD_project/results/inference_results/GBR_data_gridded_100_100_25/general_instances/instance_6\n"
     ]
    }
   ],
   "source": [
    "report_title = ''\n",
    "\n",
    "# sim_model = Model('log_gpm_norm').add_fixed_model_param('H', 5).add_fixed_model_param('I_y',0.04).add_fixed_model_param('I_z',0.0016).add_fixed_model_param('Q',3.41e13)\n",
    "# sim_domain = Domain('cone_from_source_z_limited').add_domain_param('r',1000).add_domain_param('theta',np.pi/8).add_domain_param('source', [0,0,5]).add_domain_param('resolution',20)\n",
    "\n",
    "# sim_data_processor = SimDataProcessor('F_log_gaus_noise_pn_10', sim_model, sim_domain,noise_dist='gaussian' ,noise_percentage=0.1)\n",
    "\n",
    "processor_params = {\n",
    "    'experiments_list': [\n",
    "        'Exp1',\n",
    "        'Exp2',\n",
    "        'Exp3',\n",
    "        'Exp4',\n",
    "        'Exp5',\n",
    "        'Exp6',\n",
    "        'Exp7',\n",
    "        'Exp8',\n",
    "        'Exp9',\n",
    "        'Exp10',\n",
    "        'Exp11',\n",
    "        'Exp12',\n",
    "    ],\n",
    "    'meta_data_select': 'GBR_data_summary',\n",
    "    'input_header': 'Concentration',\n",
    "    'output_header': 'Concentration',\n",
    "    'log_output_data':True,\n",
    "    'gridding': [100,100,25]\n",
    "}\n",
    "\n",
    "raw_data_processor = RawDataProcessor('GBR_data', \n",
    "                                      'GBR_data_gridded_100_100_25', \n",
    "                                      'GBR_processor', \n",
    "                                      processor_params=processor_params,\n",
    "                                      slices = {'y':0, 'z':5})\n",
    "\n",
    "\n",
    "model = Model('log_gpm_norm').add_fixed_model_param('H', 5).add_fixed_model_param('Q',3.41e13)\n",
    "# likelihood = Likelihood('gaussian_percentage_error')\n",
    "likelihood = Likelihood('gaussian')\n",
    "# I_y_and_I_z = Parameter(name=['I_y','I_z'],prior_select='log_norm', multi_mode=True).add_prior_param('peak',  [[0.22,0.2],[0.16,0.12],[0.11,0.08],[0.08,0.06], [0.06,0.03], [0.04,0.016]] ).add_prior_param('overall_scale', 1)\n",
    "# I_y = Parameter(name='I_y',prior_select='log_norm', multi_mode=True).add_prior_param('peak',  [0.22,0.16,0.11,0.08,0.06,0.04] ).add_prior_param('overall_scale', 5)\n",
    "# I_z = Parameter(name='I_z',prior_select='log_norm', multi_mode=True).add_prior_param('peak',  [0.2,0.12,0.08,0.06,0.03,0.016] ).add_prior_param('overall_scale', 5)\n",
    "\n",
    "I_y = Parameter(name='I_y',prior_select='uniform').add_prior_param('low',  0.0001).add_prior_param('high', 1)\n",
    "I_z = Parameter(name='I_z',prior_select='uniform').add_prior_param('low',  0.0001).add_prior_param('high', 1)\n",
    "\n",
    "# I_y_and_I_z = Parameter(name=['I_y','I_z'],prior_select='log_norm').add_prior_param('peak', [0.11,0.11] ).add_prior_param('scale',[[1,0],[0,1]])\n",
    "# Q = Parameter(name='Q',prior_select='log_norm', order = 13).add_prior_param('peak',  1).add_prior_param('scale', 0.001)\n",
    "# sigma = Parameter(name='sigma',prior_select='log_norm').add_prior_param('peak',  1).add_prior_param('scale', 1)\n",
    "# sigma = Parameter(name='sigma',prior_select='uniform').add_prior_param('low',  0.0001).add_prior_param('high', 5)\n",
    "sigma = Parameter(name='sigma',prior_select='uniform').add_prior_param('low',  0.0001).add_prior_param('high', 5)\n",
    "error = Parameter(name='error',prior_select='uniform').add_prior_param('low',  0.0001).add_prior_param('high', 1)\n",
    "# error = Parameter(name='error',prior_select='log_norm').add_prior_param('peak',  0.8).add_prior_param('scale', 0.00001)\n",
    "# inference_params = pd.Series({'I_y_and_I_z': I_y_and_I_z, 'sigma':sigma})\n",
    "# inference_params = pd.Series({'I_y_and_I_z': I_y_and_I_z, 'error':error})\n",
    "# inference_params = pd.Series({'I_y_and_I_z': I_y_and_I_z})\n",
    "# inference_params = pd.Series({'I_y': I_y, 'I_z': I_z, 'error':error})\n",
    "inference_params = pd.Series({'I_y': I_y, 'I_z': I_z, 'sigma':sigma})\n",
    "\n",
    "\n",
    "# sampler = Sampler(inference_params, model, likelihood, sim_data_processor, n_samples = 10000, n_chains=3)\n",
    "sampler = Sampler(inference_params, model, likelihood, raw_data_processor, n_samples = 10000, n_chains=3)\n",
    "sampler.sample_all()\n",
    "\n",
    "visualiser = Visualiser(sampler)\n",
    "visualiser.get_traceplots()\n",
    "\n",
    "domain = Domain('cone_from_source_z_limited').add_domain_param('r',1000).add_domain_param('theta',np.pi/8).add_domain_param('source', [0,0,1]).add_domain_param('resolution',40)\n",
    "domain.add_domain_param('z_slice', 0)\n",
    "domain.add_domain_param('y_slice', 0)\n",
    "domain.add_domain_param('x_slice', 100)\n",
    "\n",
    "# visualiser.show_predictions(domain, 'test', title = 'Concentration of Droplets', plot_type='3D')\n",
    "# visualiser.show_predictions(domain, 'test', title = 'Concentration of Droplets', plot_type='2D_slice')\n",
    "visualiser.get_autocorrelations()\n",
    "visualiser.get_summary()\n",
    "\n",
    "Q_ref = {\n",
    "            'vals' : [2.82e13, 3.11e13, 2.89e13, 4.83e13],\n",
    "            'labels': ['250m','200m','750m','1000m'] \n",
    "        }\n",
    "\n",
    "I_y_and_I_z_ref = {\n",
    "            'vals' : [[0.22,0.2],[0.16,0.12],[0.11,0.08],[0.08,0.06], [0.06,0.03], [0.04,0.016]],\n",
    "            'labels': ['A','B','C','D','E','F'] \n",
    "        }\n",
    "\n",
    "I_y_ref = {\n",
    "            'vals' : [0.22,0.16,0.11,0.08,0.06,0.04],\n",
    "            'labels': ['A','B','C','D','E','F'] \n",
    "        }\n",
    "\n",
    "I_z_ref = {'vals' : [0.2,0.12,0.08,0.06,0.03,0.016],\n",
    "            'labels': ['A','B','C','D','E','F'] \n",
    "        }\n",
    "\n",
    "visualiser.plot_prior('sigma', [0.0001,5])\n",
    "# visualiser.plot_prior('error', [0,1])\n",
    "# visualiser.plot_prior('I_y_and_I_z', [[0.0001,0.3],[0.0001,0.3]], I_y_and_I_z_ref)\n",
    "\n",
    "visualiser.plot_prior('I_y', [0.0001,0.5], I_y_ref)\n",
    "visualiser.plot_prior('I_z', [0.0001,0.5], I_z_ref)\n",
    "\n",
    "visualiser.plot_posterior('sigma', [0.0001,5])\n",
    "# visualiser.plot_posterior('error', [0,1])\n",
    "# visualiser.plot_posterior('I_y_and_I_z', [[0.0001,0.3],[0.0001,0.3]], I_y_and_I_z_ref)\n",
    "\n",
    "visualiser.plot_posterior('I_y', [0.0001,0.5], I_y_ref)\n",
    "visualiser.plot_posterior('I_z', [0.0001,0.5], I_z_ref)\n",
    "\n",
    "visualiser.generate_report(report_title)\n",
    "visualiser.embed_report()\n"
   ]
  },
  {
   "cell_type": "code",
   "execution_count": null,
   "metadata": {},
   "outputs": [],
   "source": []
  }
 ],
 "metadata": {
  "kernelspec": {
   "display_name": "base",
   "language": "python",
   "name": "python3"
  },
  "language_info": {
   "codemirror_mode": {
    "name": "ipython",
    "version": 3
   },
   "file_extension": ".py",
   "mimetype": "text/x-python",
   "name": "python",
   "nbconvert_exporter": "python",
   "pygments_lexer": "ipython3",
   "version": "3.12.5"
  }
 },
 "nbformat": 4,
 "nbformat_minor": 2
}
