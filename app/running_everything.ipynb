{
 "cells": [
  {
   "attachments": {},
   "cell_type": "markdown",
   "metadata": {},
   "source": [
    "# Controller #"
   ]
  },
  {
   "attachments": {},
   "cell_type": "markdown",
   "metadata": {},
   "source": [
    "Import all neccessary packages"
   ]
  },
  {
   "cell_type": "code",
   "execution_count": 1,
   "metadata": {},
   "outputs": [
    {
     "name": "stderr",
     "output_type": "stream",
     "text": [
      "c:\\Users\\Sam\\OneDrive\\Documents\\PhD\\PhD_project\\venv\\lib\\site-packages\\tqdm\\auto.py:21: TqdmWarning: IProgress not found. Please update jupyter and ipywidgets. See https://ipywidgets.readthedocs.io/en/stable/user_install.html\n",
      "  from .autonotebook import tqdm as notebook_tqdm\n"
     ]
    },
    {
     "ename": "FileNotFoundError",
     "evalue": "[WinError 2] The system cannot find the file specified: '/PhD_project/'",
     "output_type": "error",
     "traceback": [
      "\u001b[1;31m---------------------------------------------------------------------------\u001b[0m",
      "\u001b[1;31mFileNotFoundError\u001b[0m                         Traceback (most recent call last)",
      "Cell \u001b[1;32mIn[1], line 16\u001b[0m\n\u001b[0;32m     14\u001b[0m current_directory \u001b[38;5;241m=\u001b[39m os\u001b[38;5;241m.\u001b[39mgetcwd()\n\u001b[0;32m     15\u001b[0m \u001b[38;5;28;01mif\u001b[39;00m current_directory \u001b[38;5;241m!=\u001b[39m \u001b[38;5;124m'\u001b[39m\u001b[38;5;124m/PhD_project/\u001b[39m\u001b[38;5;124m'\u001b[39m:\n\u001b[1;32m---> 16\u001b[0m     \u001b[43mos\u001b[49m\u001b[38;5;241;43m.\u001b[39;49m\u001b[43mchdir\u001b[49m\u001b[43m(\u001b[49m\u001b[38;5;124;43m'\u001b[39;49m\u001b[38;5;124;43m/PhD_project/\u001b[39;49m\u001b[38;5;124;43m'\u001b[39;49m\u001b[43m)\u001b[49m\n",
      "\u001b[1;31mFileNotFoundError\u001b[0m: [WinError 2] The system cannot find the file specified: '/PhD_project/'"
     ]
    }
   ],
   "source": [
    "import os\n",
    "import pandas as pd\n",
    "import numpy as np\n",
    "\n",
    "from controllers.inference_controllers.sandbox import Sandbox\n",
    "from controllers.inference_controllers.generator import Generator\n",
    "from controllers.inference_controllers.optimiser import Optimiser\n",
    "\n",
    "from toolboxes.plotting_toolbox.domain import Domain\n",
    "from toolboxes.inference_toolbox.parameter import Parameter\n",
    "from toolboxes.inference_toolbox.model import Model\n",
    "from toolboxes.inference_toolbox.likelihood import Likelihood\n",
    "\n",
    "current_directory = os.getcwd()\n",
    "if current_directory != '/PhD_project/':\n",
    "    os.chdir('/PhD_project/')"
   ]
  },
  {
   "attachments": {},
   "cell_type": "markdown",
   "metadata": {},
   "source": [
    "Defining simulated data"
   ]
  },
  {
   "cell_type": "code",
   "execution_count": null,
   "metadata": {},
   "outputs": [],
   "source": [
    "data_params = {\n",
    "    'data_type': 'normalised_data',\n",
    "    'data_select': 'GBR_data',\n",
    "    'normaliser_select': 'GBR_normaliser',\n",
    "    'normaliser_params':{\n",
    "        'experiments_list': [\n",
    "            'Exp1',\n",
    "            'Exp2',\n",
    "            'Exp3',\n",
    "            'Exp4',\n",
    "            'Exp5',\n",
    "            'Exp6',\n",
    "            'Exp7',\n",
    "            'Exp8',\n",
    "            'Exp9',\n",
    "            'Exp10',\n",
    "            'Exp11',\n",
    "            'Exp12',\n",
    "        ],\n",
    "        'meta_data_select': 'GBR_data_summary',\n",
    "        'input_header': 'Concentration'\n",
    "    },\n",
    "    'log':True,\n",
    "    'output_header': 'Concentration',\n",
    "    'gridding': [100,100,25]\n",
    "}\n",
    "\n",
    "prior_plots = [\n",
    "    {\n",
    "        'Q': [1e12, 5e13],\n",
    "        'references':{\n",
    "            'Q' : [2.82e13, 3.11e13, 2.89e13, 4.83e13],\n",
    "            'labels': ['250m','200m','750m','1000m'] \n",
    "        }\n",
    "    },\n",
    "    {\n",
    "        'sigma': [0.001, 4],\n",
    "    },\n",
    "    {\n",
    "        'I_y': [0.0001, 1.7],\n",
    "        'I_z': [0.0001, 1.7],\n",
    "        'references':{\n",
    "            'I_y' : [0.22, 1.6, 0.11, 0.08, 0.06, 0.04],\n",
    "            'I_z' : [0.2, 1.2, 0.08, 0.06, 0.03, 0.016],\n",
    "            'labels': ['A','B','C','D','E','F'] \n",
    "        }\n",
    "    }\n",
    "]\n",
    "\n",
    "results_name = 'GBR_data_gridded_100_100_25'"
   ]
  },
  {
   "cell_type": "markdown",
   "metadata": {},
   "source": [
    "Defining default parameters and prior plots for gamma priors of the simulated data"
   ]
  },
  {
   "cell_type": "code",
   "execution_count": null,
   "metadata": {},
   "outputs": [],
   "source": [
    "default_params = {\n",
    "    'infered_params':pd.Series({\n",
    "        'model_params':pd.Series({\n",
    "            'I_y_and_I_z': Parameter('I_y','I_z', prior_select='log_norm')\n",
    "                                    .add_prior_param('mu', [0.4,0.4])\n",
    "                                    .add_prior_param('cov', [[0.8,0],[0,0.8]]),\n",
    "            'Q': Parameter('Q', prior_select = 'log_norm', order = 1e13).add_prior_param('mu',3.41).add_prior_param('cov',0.01),\n",
    "        }),\n",
    "        'likelihood_params':pd.Series({\n",
    "            'sigma': Parameter('sigma', prior_select = 'log_norm').add_prior_param('mu', 1.5).add_prior_param('cov',0.7)\n",
    "        })\n",
    "    }),\n",
    "    'model':Model('log_gpm_norm').add_model_param('H',5),\n",
    "    'likelihood': Likelihood('gaussian'),\n",
    "    'sampler': {\n",
    "        'n_samples': 10000,\n",
    "        'n_chains': 3,\n",
    "        'thinning_rate': 1\n",
    "    }\n",
    "}"
   ]
  },
  {
   "attachments": {},
   "cell_type": "markdown",
   "metadata": {},
   "source": [
    "Running a general instance for gamma priors and simulated data"
   ]
  },
  {
   "cell_type": "code",
   "execution_count": null,
   "metadata": {},
   "outputs": [
    {
     "ename": "FileNotFoundError",
     "evalue": "[Errno 2] No such file or directory: 'data/raw_data/GBR_data.csv'",
     "output_type": "error",
     "traceback": [
      "\u001b[1;31m---------------------------------------------------------------------------\u001b[0m",
      "\u001b[1;31mFileNotFoundError\u001b[0m                         Traceback (most recent call last)",
      "Cell \u001b[1;32mIn[4], line 5\u001b[0m\n\u001b[0;32m      1\u001b[0m sandbox \u001b[38;5;241m=\u001b[39m Sandbox(results_name\u001b[38;5;241m=\u001b[39mresults_name, \n\u001b[0;32m      2\u001b[0m                   data_params\u001b[38;5;241m=\u001b[39mdata_params,\n\u001b[0;32m      3\u001b[0m                   default_params\u001b[38;5;241m=\u001b[39mdefault_params)\n\u001b[1;32m----> 5\u001b[0m visualiser \u001b[38;5;241m=\u001b[39m \u001b[43msandbox\u001b[49m\u001b[38;5;241;43m.\u001b[39;49m\u001b[43mrun\u001b[49m\u001b[43m(\u001b[49m\u001b[43m)\u001b[49m\n\u001b[0;32m      6\u001b[0m visualiser\u001b[38;5;241m.\u001b[39mget_summary()\n\u001b[0;32m      7\u001b[0m visualiser\u001b[38;5;241m.\u001b[39mget_traceplot()\n",
      "File \u001b[1;32mc:\\Users\\Sam\\OneDrive\\Documents\\PhD\\PhD_project\\app\\controllers\\inference_controllers\\sandbox.py:65\u001b[0m, in \u001b[0;36mSandbox.run\u001b[1;34m(self)\u001b[0m\n\u001b[0;32m     63\u001b[0m \u001b[38;5;28;01mdef\u001b[39;00m \u001b[38;5;21mrun\u001b[39m(\u001b[38;5;28mself\u001b[39m):\n\u001b[0;32m     64\u001b[0m     \u001b[38;5;66;03m# Generates the data\u001b[39;00m\n\u001b[1;32m---> 65\u001b[0m     data \u001b[38;5;241m=\u001b[39m \u001b[43mget_data\u001b[49m\u001b[43m(\u001b[49m\u001b[38;5;28;43mself\u001b[39;49m\u001b[38;5;241;43m.\u001b[39;49m\u001b[43mdata_params\u001b[49m\u001b[43m)\u001b[49m\n\u001b[0;32m     66\u001b[0m     training_data, testing_data \u001b[38;5;241m=\u001b[39m train_test_split(data, test_size\u001b[38;5;241m=\u001b[39m\u001b[38;5;241m0.2\u001b[39m, random_state\u001b[38;5;241m=\u001b[39m\u001b[38;5;241m1\u001b[39m)\n\u001b[0;32m     68\u001b[0m     \u001b[38;5;66;03m# return training_data, testing_data\u001b[39;00m\n\u001b[0;32m     69\u001b[0m \n\u001b[0;32m     70\u001b[0m     \u001b[38;5;66;03m# Assigns the parameter, likelihood, model and sampler specification variables\u001b[39;00m\n",
      "File \u001b[1;32mc:\\Users\\Sam\\OneDrive\\Documents\\PhD\\PhD_project\\app\\toolboxes\\data_processing_toolbox\\get_data.py:16\u001b[0m, in \u001b[0;36mget_data\u001b[1;34m(data_params)\u001b[0m\n\u001b[0;32m     14\u001b[0m \u001b[38;5;28;01melif\u001b[39;00m data_params[\u001b[38;5;124m'\u001b[39m\u001b[38;5;124mdata_type\u001b[39m\u001b[38;5;124m'\u001b[39m] \u001b[38;5;241m==\u001b[39m \u001b[38;5;124m'\u001b[39m\u001b[38;5;124mnormalised_data\u001b[39m\u001b[38;5;124m'\u001b[39m:\n\u001b[0;32m     15\u001b[0m     data_normaliser \u001b[38;5;241m=\u001b[39m DataNormaliser(data_params, suppress_prints \u001b[38;5;241m=\u001b[39m \u001b[38;5;28;01mTrue\u001b[39;00m)\n\u001b[1;32m---> 16\u001b[0m     data \u001b[38;5;241m=\u001b[39m \u001b[43mdata_normaliser\u001b[49m\u001b[38;5;241;43m.\u001b[39;49m\u001b[43mnormalise_data\u001b[49m\u001b[43m(\u001b[49m\u001b[43m)\u001b[49m\n\u001b[0;32m     17\u001b[0m \u001b[38;5;28;01mreturn\u001b[39;00m data\n",
      "File \u001b[1;32mc:\\Users\\Sam\\OneDrive\\Documents\\PhD\\PhD_project\\app\\toolboxes\\data_processing_toolbox\\data_normaliser.py:76\u001b[0m, in \u001b[0;36mDataNormaliser.normalise_data\u001b[1;34m(self)\u001b[0m\n\u001b[0;32m     74\u001b[0m \u001b[38;5;28;01mif\u001b[39;00m \u001b[38;5;129;01mnot\u001b[39;00m os\u001b[38;5;241m.\u001b[39mpath\u001b[38;5;241m.\u001b[39mexists(\u001b[38;5;28mself\u001b[39m\u001b[38;5;241m.\u001b[39minstance_path \u001b[38;5;241m+\u001b[39m \u001b[38;5;124m'\u001b[39m\u001b[38;5;124m/data.csv\u001b[39m\u001b[38;5;124m'\u001b[39m):\n\u001b[0;32m     75\u001b[0m     \u001b[38;5;28;01mif\u001b[39;00m \u001b[38;5;28mself\u001b[39m\u001b[38;5;241m.\u001b[39mdata_params[\u001b[38;5;124m'\u001b[39m\u001b[38;5;124mnormaliser_select\u001b[39m\u001b[38;5;124m'\u001b[39m] \u001b[38;5;241m==\u001b[39m \u001b[38;5;124m'\u001b[39m\u001b[38;5;124mGBR_normaliser\u001b[39m\u001b[38;5;124m'\u001b[39m:\n\u001b[1;32m---> 76\u001b[0m         data \u001b[38;5;241m=\u001b[39m \u001b[38;5;28;43mself\u001b[39;49m\u001b[38;5;241;43m.\u001b[39;49m\u001b[43mgbr_normaliser\u001b[49m\u001b[43m(\u001b[49m\u001b[43m)\u001b[49m\n\u001b[0;32m     77\u001b[0m     \u001b[38;5;28;01melse\u001b[39;00m:\n\u001b[0;32m     78\u001b[0m         \u001b[38;5;28;01mraise\u001b[39;00m \u001b[38;5;167;01mException\u001b[39;00m(\u001b[38;5;124m'\u001b[39m\u001b[38;5;124mNo valid normaliser selected!\u001b[39m\u001b[38;5;124m'\u001b[39m)\n",
      "File \u001b[1;32mc:\\Users\\Sam\\OneDrive\\Documents\\PhD\\PhD_project\\app\\toolboxes\\data_processing_toolbox\\data_normaliser.py:104\u001b[0m, in \u001b[0;36mDataNormaliser.gbr_normaliser\u001b[1;34m(self)\u001b[0m\n\u001b[0;32m    103\u001b[0m \u001b[38;5;28;01mdef\u001b[39;00m \u001b[38;5;21mgbr_normaliser\u001b[39m(\u001b[38;5;28mself\u001b[39m):\n\u001b[1;32m--> 104\u001b[0m     raw_data \u001b[38;5;241m=\u001b[39m \u001b[43mpd\u001b[49m\u001b[38;5;241;43m.\u001b[39;49m\u001b[43mread_csv\u001b[49m\u001b[43m(\u001b[49m\u001b[38;5;124;43m'\u001b[39;49m\u001b[38;5;124;43mdata/raw_data/\u001b[39;49m\u001b[38;5;124;43m'\u001b[39;49m\u001b[43m \u001b[49m\u001b[38;5;241;43m+\u001b[39;49m\u001b[43m \u001b[49m\u001b[38;5;28;43mself\u001b[39;49m\u001b[38;5;241;43m.\u001b[39;49m\u001b[43mdata_params\u001b[49m\u001b[43m[\u001b[49m\u001b[38;5;124;43m'\u001b[39;49m\u001b[38;5;124;43mdata_select\u001b[39;49m\u001b[38;5;124;43m'\u001b[39;49m\u001b[43m]\u001b[49m\u001b[43m \u001b[49m\u001b[38;5;241;43m+\u001b[39;49m\u001b[43m \u001b[49m\u001b[38;5;124;43m'\u001b[39;49m\u001b[38;5;124;43m.csv\u001b[39;49m\u001b[38;5;124;43m'\u001b[39;49m\u001b[43m)\u001b[49m\n\u001b[0;32m    105\u001b[0m     meta_data \u001b[38;5;241m=\u001b[39m pd\u001b[38;5;241m.\u001b[39mread_csv(\u001b[38;5;124m'\u001b[39m\u001b[38;5;124mdata/raw_data/\u001b[39m\u001b[38;5;124m'\u001b[39m \u001b[38;5;241m+\u001b[39m \u001b[38;5;28mself\u001b[39m\u001b[38;5;241m.\u001b[39mdata_params[\u001b[38;5;124m'\u001b[39m\u001b[38;5;124mnormaliser_params\u001b[39m\u001b[38;5;124m'\u001b[39m][\u001b[38;5;124m'\u001b[39m\u001b[38;5;124mmeta_data_select\u001b[39m\u001b[38;5;124m'\u001b[39m] \u001b[38;5;241m+\u001b[39m \u001b[38;5;124m'\u001b[39m\u001b[38;5;124m.csv\u001b[39m\u001b[38;5;124m'\u001b[39m)\n\u001b[0;32m    106\u001b[0m     selected_experiments \u001b[38;5;241m=\u001b[39m \u001b[38;5;28mself\u001b[39m\u001b[38;5;241m.\u001b[39mdata_params[\u001b[38;5;124m'\u001b[39m\u001b[38;5;124mnormaliser_params\u001b[39m\u001b[38;5;124m'\u001b[39m][\u001b[38;5;124m'\u001b[39m\u001b[38;5;124mexperiments_list\u001b[39m\u001b[38;5;124m'\u001b[39m]\n",
      "File \u001b[1;32mc:\\Users\\Sam\\OneDrive\\Documents\\PhD\\PhD_project\\venv\\lib\\site-packages\\pandas\\io\\parsers\\readers.py:1026\u001b[0m, in \u001b[0;36mread_csv\u001b[1;34m(filepath_or_buffer, sep, delimiter, header, names, index_col, usecols, dtype, engine, converters, true_values, false_values, skipinitialspace, skiprows, skipfooter, nrows, na_values, keep_default_na, na_filter, verbose, skip_blank_lines, parse_dates, infer_datetime_format, keep_date_col, date_parser, date_format, dayfirst, cache_dates, iterator, chunksize, compression, thousands, decimal, lineterminator, quotechar, quoting, doublequote, escapechar, comment, encoding, encoding_errors, dialect, on_bad_lines, delim_whitespace, low_memory, memory_map, float_precision, storage_options, dtype_backend)\u001b[0m\n\u001b[0;32m   1013\u001b[0m kwds_defaults \u001b[38;5;241m=\u001b[39m _refine_defaults_read(\n\u001b[0;32m   1014\u001b[0m     dialect,\n\u001b[0;32m   1015\u001b[0m     delimiter,\n\u001b[1;32m   (...)\u001b[0m\n\u001b[0;32m   1022\u001b[0m     dtype_backend\u001b[38;5;241m=\u001b[39mdtype_backend,\n\u001b[0;32m   1023\u001b[0m )\n\u001b[0;32m   1024\u001b[0m kwds\u001b[38;5;241m.\u001b[39mupdate(kwds_defaults)\n\u001b[1;32m-> 1026\u001b[0m \u001b[38;5;28;01mreturn\u001b[39;00m \u001b[43m_read\u001b[49m\u001b[43m(\u001b[49m\u001b[43mfilepath_or_buffer\u001b[49m\u001b[43m,\u001b[49m\u001b[43m \u001b[49m\u001b[43mkwds\u001b[49m\u001b[43m)\u001b[49m\n",
      "File \u001b[1;32mc:\\Users\\Sam\\OneDrive\\Documents\\PhD\\PhD_project\\venv\\lib\\site-packages\\pandas\\io\\parsers\\readers.py:620\u001b[0m, in \u001b[0;36m_read\u001b[1;34m(filepath_or_buffer, kwds)\u001b[0m\n\u001b[0;32m    617\u001b[0m _validate_names(kwds\u001b[38;5;241m.\u001b[39mget(\u001b[38;5;124m\"\u001b[39m\u001b[38;5;124mnames\u001b[39m\u001b[38;5;124m\"\u001b[39m, \u001b[38;5;28;01mNone\u001b[39;00m))\n\u001b[0;32m    619\u001b[0m \u001b[38;5;66;03m# Create the parser.\u001b[39;00m\n\u001b[1;32m--> 620\u001b[0m parser \u001b[38;5;241m=\u001b[39m TextFileReader(filepath_or_buffer, \u001b[38;5;241m*\u001b[39m\u001b[38;5;241m*\u001b[39mkwds)\n\u001b[0;32m    622\u001b[0m \u001b[38;5;28;01mif\u001b[39;00m chunksize \u001b[38;5;129;01mor\u001b[39;00m iterator:\n\u001b[0;32m    623\u001b[0m     \u001b[38;5;28;01mreturn\u001b[39;00m parser\n",
      "File \u001b[1;32mc:\\Users\\Sam\\OneDrive\\Documents\\PhD\\PhD_project\\venv\\lib\\site-packages\\pandas\\io\\parsers\\readers.py:1620\u001b[0m, in \u001b[0;36mTextFileReader.__init__\u001b[1;34m(self, f, engine, **kwds)\u001b[0m\n\u001b[0;32m   1617\u001b[0m     \u001b[38;5;28mself\u001b[39m\u001b[38;5;241m.\u001b[39moptions[\u001b[38;5;124m\"\u001b[39m\u001b[38;5;124mhas_index_names\u001b[39m\u001b[38;5;124m\"\u001b[39m] \u001b[38;5;241m=\u001b[39m kwds[\u001b[38;5;124m\"\u001b[39m\u001b[38;5;124mhas_index_names\u001b[39m\u001b[38;5;124m\"\u001b[39m]\n\u001b[0;32m   1619\u001b[0m \u001b[38;5;28mself\u001b[39m\u001b[38;5;241m.\u001b[39mhandles: IOHandles \u001b[38;5;241m|\u001b[39m \u001b[38;5;28;01mNone\u001b[39;00m \u001b[38;5;241m=\u001b[39m \u001b[38;5;28;01mNone\u001b[39;00m\n\u001b[1;32m-> 1620\u001b[0m \u001b[38;5;28mself\u001b[39m\u001b[38;5;241m.\u001b[39m_engine \u001b[38;5;241m=\u001b[39m \u001b[38;5;28;43mself\u001b[39;49m\u001b[38;5;241;43m.\u001b[39;49m\u001b[43m_make_engine\u001b[49m\u001b[43m(\u001b[49m\u001b[43mf\u001b[49m\u001b[43m,\u001b[49m\u001b[43m \u001b[49m\u001b[38;5;28;43mself\u001b[39;49m\u001b[38;5;241;43m.\u001b[39;49m\u001b[43mengine\u001b[49m\u001b[43m)\u001b[49m\n",
      "File \u001b[1;32mc:\\Users\\Sam\\OneDrive\\Documents\\PhD\\PhD_project\\venv\\lib\\site-packages\\pandas\\io\\parsers\\readers.py:1880\u001b[0m, in \u001b[0;36mTextFileReader._make_engine\u001b[1;34m(self, f, engine)\u001b[0m\n\u001b[0;32m   1878\u001b[0m     \u001b[38;5;28;01mif\u001b[39;00m \u001b[38;5;124m\"\u001b[39m\u001b[38;5;124mb\u001b[39m\u001b[38;5;124m\"\u001b[39m \u001b[38;5;129;01mnot\u001b[39;00m \u001b[38;5;129;01min\u001b[39;00m mode:\n\u001b[0;32m   1879\u001b[0m         mode \u001b[38;5;241m+\u001b[39m\u001b[38;5;241m=\u001b[39m \u001b[38;5;124m\"\u001b[39m\u001b[38;5;124mb\u001b[39m\u001b[38;5;124m\"\u001b[39m\n\u001b[1;32m-> 1880\u001b[0m \u001b[38;5;28mself\u001b[39m\u001b[38;5;241m.\u001b[39mhandles \u001b[38;5;241m=\u001b[39m \u001b[43mget_handle\u001b[49m\u001b[43m(\u001b[49m\n\u001b[0;32m   1881\u001b[0m \u001b[43m    \u001b[49m\u001b[43mf\u001b[49m\u001b[43m,\u001b[49m\n\u001b[0;32m   1882\u001b[0m \u001b[43m    \u001b[49m\u001b[43mmode\u001b[49m\u001b[43m,\u001b[49m\n\u001b[0;32m   1883\u001b[0m \u001b[43m    \u001b[49m\u001b[43mencoding\u001b[49m\u001b[38;5;241;43m=\u001b[39;49m\u001b[38;5;28;43mself\u001b[39;49m\u001b[38;5;241;43m.\u001b[39;49m\u001b[43moptions\u001b[49m\u001b[38;5;241;43m.\u001b[39;49m\u001b[43mget\u001b[49m\u001b[43m(\u001b[49m\u001b[38;5;124;43m\"\u001b[39;49m\u001b[38;5;124;43mencoding\u001b[39;49m\u001b[38;5;124;43m\"\u001b[39;49m\u001b[43m,\u001b[49m\u001b[43m \u001b[49m\u001b[38;5;28;43;01mNone\u001b[39;49;00m\u001b[43m)\u001b[49m\u001b[43m,\u001b[49m\n\u001b[0;32m   1884\u001b[0m \u001b[43m    \u001b[49m\u001b[43mcompression\u001b[49m\u001b[38;5;241;43m=\u001b[39;49m\u001b[38;5;28;43mself\u001b[39;49m\u001b[38;5;241;43m.\u001b[39;49m\u001b[43moptions\u001b[49m\u001b[38;5;241;43m.\u001b[39;49m\u001b[43mget\u001b[49m\u001b[43m(\u001b[49m\u001b[38;5;124;43m\"\u001b[39;49m\u001b[38;5;124;43mcompression\u001b[39;49m\u001b[38;5;124;43m\"\u001b[39;49m\u001b[43m,\u001b[49m\u001b[43m \u001b[49m\u001b[38;5;28;43;01mNone\u001b[39;49;00m\u001b[43m)\u001b[49m\u001b[43m,\u001b[49m\n\u001b[0;32m   1885\u001b[0m \u001b[43m    \u001b[49m\u001b[43mmemory_map\u001b[49m\u001b[38;5;241;43m=\u001b[39;49m\u001b[38;5;28;43mself\u001b[39;49m\u001b[38;5;241;43m.\u001b[39;49m\u001b[43moptions\u001b[49m\u001b[38;5;241;43m.\u001b[39;49m\u001b[43mget\u001b[49m\u001b[43m(\u001b[49m\u001b[38;5;124;43m\"\u001b[39;49m\u001b[38;5;124;43mmemory_map\u001b[39;49m\u001b[38;5;124;43m\"\u001b[39;49m\u001b[43m,\u001b[49m\u001b[43m \u001b[49m\u001b[38;5;28;43;01mFalse\u001b[39;49;00m\u001b[43m)\u001b[49m\u001b[43m,\u001b[49m\n\u001b[0;32m   1886\u001b[0m \u001b[43m    \u001b[49m\u001b[43mis_text\u001b[49m\u001b[38;5;241;43m=\u001b[39;49m\u001b[43mis_text\u001b[49m\u001b[43m,\u001b[49m\n\u001b[0;32m   1887\u001b[0m \u001b[43m    \u001b[49m\u001b[43merrors\u001b[49m\u001b[38;5;241;43m=\u001b[39;49m\u001b[38;5;28;43mself\u001b[39;49m\u001b[38;5;241;43m.\u001b[39;49m\u001b[43moptions\u001b[49m\u001b[38;5;241;43m.\u001b[39;49m\u001b[43mget\u001b[49m\u001b[43m(\u001b[49m\u001b[38;5;124;43m\"\u001b[39;49m\u001b[38;5;124;43mencoding_errors\u001b[39;49m\u001b[38;5;124;43m\"\u001b[39;49m\u001b[43m,\u001b[49m\u001b[43m \u001b[49m\u001b[38;5;124;43m\"\u001b[39;49m\u001b[38;5;124;43mstrict\u001b[39;49m\u001b[38;5;124;43m\"\u001b[39;49m\u001b[43m)\u001b[49m\u001b[43m,\u001b[49m\n\u001b[0;32m   1888\u001b[0m \u001b[43m    \u001b[49m\u001b[43mstorage_options\u001b[49m\u001b[38;5;241;43m=\u001b[39;49m\u001b[38;5;28;43mself\u001b[39;49m\u001b[38;5;241;43m.\u001b[39;49m\u001b[43moptions\u001b[49m\u001b[38;5;241;43m.\u001b[39;49m\u001b[43mget\u001b[49m\u001b[43m(\u001b[49m\u001b[38;5;124;43m\"\u001b[39;49m\u001b[38;5;124;43mstorage_options\u001b[39;49m\u001b[38;5;124;43m\"\u001b[39;49m\u001b[43m,\u001b[49m\u001b[43m \u001b[49m\u001b[38;5;28;43;01mNone\u001b[39;49;00m\u001b[43m)\u001b[49m\u001b[43m,\u001b[49m\n\u001b[0;32m   1889\u001b[0m \u001b[43m\u001b[49m\u001b[43m)\u001b[49m\n\u001b[0;32m   1890\u001b[0m \u001b[38;5;28;01massert\u001b[39;00m \u001b[38;5;28mself\u001b[39m\u001b[38;5;241m.\u001b[39mhandles \u001b[38;5;129;01mis\u001b[39;00m \u001b[38;5;129;01mnot\u001b[39;00m \u001b[38;5;28;01mNone\u001b[39;00m\n\u001b[0;32m   1891\u001b[0m f \u001b[38;5;241m=\u001b[39m \u001b[38;5;28mself\u001b[39m\u001b[38;5;241m.\u001b[39mhandles\u001b[38;5;241m.\u001b[39mhandle\n",
      "File \u001b[1;32mc:\\Users\\Sam\\OneDrive\\Documents\\PhD\\PhD_project\\venv\\lib\\site-packages\\pandas\\io\\common.py:873\u001b[0m, in \u001b[0;36mget_handle\u001b[1;34m(path_or_buf, mode, encoding, compression, memory_map, is_text, errors, storage_options)\u001b[0m\n\u001b[0;32m    868\u001b[0m \u001b[38;5;28;01melif\u001b[39;00m \u001b[38;5;28misinstance\u001b[39m(handle, \u001b[38;5;28mstr\u001b[39m):\n\u001b[0;32m    869\u001b[0m     \u001b[38;5;66;03m# Check whether the filename is to be opened in binary mode.\u001b[39;00m\n\u001b[0;32m    870\u001b[0m     \u001b[38;5;66;03m# Binary mode does not support 'encoding' and 'newline'.\u001b[39;00m\n\u001b[0;32m    871\u001b[0m     \u001b[38;5;28;01mif\u001b[39;00m ioargs\u001b[38;5;241m.\u001b[39mencoding \u001b[38;5;129;01mand\u001b[39;00m \u001b[38;5;124m\"\u001b[39m\u001b[38;5;124mb\u001b[39m\u001b[38;5;124m\"\u001b[39m \u001b[38;5;129;01mnot\u001b[39;00m \u001b[38;5;129;01min\u001b[39;00m ioargs\u001b[38;5;241m.\u001b[39mmode:\n\u001b[0;32m    872\u001b[0m         \u001b[38;5;66;03m# Encoding\u001b[39;00m\n\u001b[1;32m--> 873\u001b[0m         handle \u001b[38;5;241m=\u001b[39m \u001b[38;5;28;43mopen\u001b[39;49m\u001b[43m(\u001b[49m\n\u001b[0;32m    874\u001b[0m \u001b[43m            \u001b[49m\u001b[43mhandle\u001b[49m\u001b[43m,\u001b[49m\n\u001b[0;32m    875\u001b[0m \u001b[43m            \u001b[49m\u001b[43mioargs\u001b[49m\u001b[38;5;241;43m.\u001b[39;49m\u001b[43mmode\u001b[49m\u001b[43m,\u001b[49m\n\u001b[0;32m    876\u001b[0m \u001b[43m            \u001b[49m\u001b[43mencoding\u001b[49m\u001b[38;5;241;43m=\u001b[39;49m\u001b[43mioargs\u001b[49m\u001b[38;5;241;43m.\u001b[39;49m\u001b[43mencoding\u001b[49m\u001b[43m,\u001b[49m\n\u001b[0;32m    877\u001b[0m \u001b[43m            \u001b[49m\u001b[43merrors\u001b[49m\u001b[38;5;241;43m=\u001b[39;49m\u001b[43merrors\u001b[49m\u001b[43m,\u001b[49m\n\u001b[0;32m    878\u001b[0m \u001b[43m            \u001b[49m\u001b[43mnewline\u001b[49m\u001b[38;5;241;43m=\u001b[39;49m\u001b[38;5;124;43m\"\u001b[39;49m\u001b[38;5;124;43m\"\u001b[39;49m\u001b[43m,\u001b[49m\n\u001b[0;32m    879\u001b[0m \u001b[43m        \u001b[49m\u001b[43m)\u001b[49m\n\u001b[0;32m    880\u001b[0m     \u001b[38;5;28;01melse\u001b[39;00m:\n\u001b[0;32m    881\u001b[0m         \u001b[38;5;66;03m# Binary mode\u001b[39;00m\n\u001b[0;32m    882\u001b[0m         handle \u001b[38;5;241m=\u001b[39m \u001b[38;5;28mopen\u001b[39m(handle, ioargs\u001b[38;5;241m.\u001b[39mmode)\n",
      "\u001b[1;31mFileNotFoundError\u001b[0m: [Errno 2] No such file or directory: 'data/raw_data/GBR_data.csv'"
     ]
    }
   ],
   "source": [
    "sandbox = Sandbox(results_name=results_name, \n",
    "                  data_params=data_params,\n",
    "                  default_params=default_params)\n",
    "\n",
    "visualiser = sandbox.run()\n",
    "visualiser.get_summary()\n",
    "visualiser.get_traceplot()\n",
    "visualiser.get_autocorrelations()\n",
    "visualiser.get_prior_plots(prior_plots)\n",
    "\n",
    "domain = Domain('cone_from_source_z_limited', resolution=80)\n",
    "domain.add_domain_param('r', 1000)\n",
    "domain.add_domain_param('theta', np.pi/8)\n",
    "domain.add_domain_param('source', [0,0,5])\n",
    "domain.add_domain_param('z_slice', 0)\n",
    "domain.add_domain_param('y_slice', 0)\n",
    "domain.add_domain_param('x_slice', 100)\n",
    "\n",
    "visualiser.visualise_results(domain = domain, plot_type = '2D_slice', name = 'small_scale', title='Log Concentration of Droplets', log_results=False)\n",
    "visualiser.visualise_results(domain = domain, plot_type = '3D', name = 'small_scale', title='Log Concentration of Droplets', log_results=False)"
   ]
  },
  {
   "cell_type": "code",
   "execution_count": null,
   "metadata": {},
   "outputs": [],
   "source": [
    "default_params = {\n",
    "    'infered_params':pd.Series({\n",
    "        'model_params':pd.Series({\n",
    "            'I_y_and_I_z': Parameter('I_y','I_z', prior_select='log_norm')\n",
    "                                    .add_prior_param('mu', [0.4,0.4])\n",
    "                                    .add_prior_param('cov', [[0.8,0],[0,0.8]]),\n",
    "            'Q': Parameter('Q', prior_select = 'log_norm', order = 1e13).add_prior_param('mu',3.41).add_prior_param('cov',0.01),\n",
    "        }),\n",
    "        'likelihood_params':pd.Series({\n",
    "            'sigma': Parameter('sigma', prior_select = 'log_norm').add_prior_param('mu', 1.5).add_prior_param('cov',0.7)\n",
    "        })\n",
    "    }),\n",
    "    'model':Model('log_gpm_norm').add_model_param('H',5),\n",
    "    'likelihood': Likelihood('gaussian'),\n",
    "    'sampler': {\n",
    "        'n_samples': 10000,\n",
    "        'n_chains': 1,\n",
    "        'thinning_rate': 1\n",
    "    }\n",
    "}"
   ]
  },
  {
   "attachments": {},
   "cell_type": "markdown",
   "metadata": {},
   "source": [
    "Analysing the sensitivity of the gamma prior simulated data"
   ]
  },
  {
   "cell_type": "code",
   "execution_count": null,
   "metadata": {},
   "outputs": [],
   "source": [
    "# generator = Generator(results_name=results_name, \n",
    "#                   data_params=data_params,\n",
    "#                   default_params=default_params)\n",
    "\n",
    "# analysis_iterations = {\n",
    "#     'parameters_1': ['I_y_and_I_z_mu_0','I_y_and_I_z_mu_1','Q_mu','sigma_mu'],\n",
    "#     'parameters_2': ['I_y_and_I_z_cov_0_0','I_y_and_I_z_cov_1_1','Q_sigma','sigma_sigma'],\n",
    "#     'values_1':\n",
    "#     [\n",
    "#         np.array([1e-4, 1e-3, 1e-2, 1e-1, 1e0, 1e1, 1e2, 1e3, 1e4, 1e5]),\n",
    "#         np.array([1e-4, 1e-3, 1e-2, 1e-1, 1e0, 1e1, 1e2, 1e3, 1e4, 1e5]),\n",
    "#         # np.array([1e9, 1e10, 1e11, 1e12, 1e13, 1e14, 1e15, 1e16, 1e17, 1e18]),\n",
    "#         # np.array([1e-4, 1e-3, 1e-2, 1e-1, 1e0, 1e1, 1e2, 1e3, 1e4, 1e5])     \n",
    "#     ],\n",
    "\n",
    "#     'values_2':\n",
    "#     [\n",
    "#         np.array([1e-4, 1e-3, 1e-2, 1e-1, 1e0, 1e1, 1e2, 1e3, 1e4, 1e5]),\n",
    "#         np.array([1e-4, 1e-3, 1e-2, 1e-1, 1e0, 1e1, 1e2, 1e3, 1e4, 1e5]),\n",
    "#         # np.array([1e7, 1e8, 1e9, 1e10, 1e11, 1e12, 1e13, 1e14, 1e15, 1e16]),\n",
    "#         # np.array([1e-4, 1e-3, 1e-2, 1e-1, 1e0, 1e1, 1e2, 1e3, 1e4, 1e5]) \n",
    "#     ],\n",
    "#     'scales_1': ['log','log', 'log', 'log'],\n",
    "#     'scales_2': ['log','log', 'log', 'log'],\n",
    "# }\n",
    "\n",
    "# for i in range(len(analysis_iterations['parameters_1'])):\n",
    "#     parameter_1 = analysis_iterations['parameters_1'][i]\n",
    "#     parameter_2 = analysis_iterations['parameters_2'][i]\n",
    "\n",
    "#     print('Working on varying ' + parameter_1 + ' and ' + parameter_2 + '...')\n",
    "#     values_1 = analysis_iterations['values_1'][i]\n",
    "#     values_2 = analysis_iterations['values_2'][i]\n",
    "\n",
    "#     scale_1 = analysis_iterations['scales_1'][i]\n",
    "#     scale_2 = analysis_iterations['scales_2'][i]\n",
    "\n",
    "#     inputs = generator.vary_two_parameters(parameter_1, parameter_2, values_1, values_2, scale_1=scale_1, scale_2=scale_2, plot=True)"
   ]
  },
  {
   "attachments": {},
   "cell_type": "markdown",
   "metadata": {},
   "source": [
    "Optimising the hyperparameters for gamma prior simulated data"
   ]
  },
  {
   "cell_type": "code",
   "execution_count": null,
   "metadata": {},
   "outputs": [
    {
     "name": "stderr",
     "output_type": "stream",
     "text": [
      "[I 2024-03-12 01:05:20,036] A new study created in RDB with name: AIC_3\n",
      "sample: 100%|██████████| 15000/15000 [00:04<00:00, 3384.48it/s, 7 steps of size 6.56e-01. acc. prob=0.90]\n",
      "[I 2024-03-12 01:05:26,856] Trial 0 finished with value: 2509.04931640625 and parameters: {'I_y_and_I_z_mu_0': 1.8346931561471396, 'I_y_and_I_z_mu_1': 0.5114051387332733}. Best is trial 0 with value: 2509.04931640625.\n",
      "sample: 100%|██████████| 15000/15000 [00:04<00:00, 3321.74it/s, 10 steps of size 2.63e-01. acc. prob=0.77]\n",
      "[I 2024-03-12 01:05:31,840] Trial 1 finished with value: 2509.03466796875 and parameters: {'I_y_and_I_z_mu_0': 1.6349182371943114, 'I_y_and_I_z_mu_1': 0.03521465017209284}. Best is trial 1 with value: 2509.03466796875.\n",
      "sample: 100%|██████████| 15000/15000 [00:04<00:00, 3365.13it/s, 7 steps of size 5.75e-01. acc. prob=0.89]\n",
      "[I 2024-03-12 01:05:36,787] Trial 2 finished with value: 2509.084716796875 and parameters: {'I_y_and_I_z_mu_0': 1.2511808301923515, 'I_y_and_I_z_mu_1': 0.9751381656126065}. Best is trial 1 with value: 2509.03466796875.\n",
      "sample: 100%|██████████| 15000/15000 [00:04<00:00, 3065.83it/s, 58 steps of size 6.34e-02. acc. prob=0.90]\n",
      "[I 2024-03-12 01:05:42,135] Trial 3 finished with value: 2509.015869140625 and parameters: {'I_y_and_I_z_mu_0': 0.02221570540015328, 'I_y_and_I_z_mu_1': 0.4855206932989464}. Best is trial 3 with value: 2509.015869140625.\n",
      "sample: 100%|██████████| 15000/15000 [00:04<00:00, 3330.14it/s, 7 steps of size 4.34e-01. acc. prob=0.91]\n",
      "[I 2024-03-12 01:05:47,156] Trial 4 finished with value: 2509.0908203125 and parameters: {'I_y_and_I_z_mu_0': 1.1647990197626426, 'I_y_and_I_z_mu_1': 0.7974646304607135}. Best is trial 3 with value: 2509.015869140625.\n",
      "sample: 100%|██████████| 15000/15000 [00:04<00:00, 3216.75it/s, 15 steps of size 1.96e-01. acc. prob=0.98]\n",
      "[I 2024-03-12 01:05:52,291] Trial 5 finished with value: 2509.037841796875 and parameters: {'I_y_and_I_z_mu_0': 1.349481156949559, 'I_y_and_I_z_mu_1': 1.8757573305584136}. Best is trial 3 with value: 2509.015869140625.\n",
      "sample: 100%|██████████| 15000/15000 [00:04<00:00, 3067.38it/s, 24 steps of size 1.13e-01. acc. prob=0.88]\n",
      "[I 2024-03-12 01:05:57,664] Trial 6 finished with value: 2509.023681640625 and parameters: {'I_y_and_I_z_mu_0': 0.306866860936406, 'I_y_and_I_z_mu_1': 0.8379727241154235}. Best is trial 3 with value: 2509.015869140625.\n",
      "sample: 100%|██████████| 15000/15000 [00:04<00:00, 3439.02it/s, 3 steps of size 8.46e-01. acc. prob=0.89]\n",
      "[I 2024-03-12 01:06:02,520] Trial 7 finished with value: 2509.048828125 and parameters: {'I_y_and_I_z_mu_0': 1.883881022334493, 'I_y_and_I_z_mu_1': 1.4116332920888364}. Best is trial 3 with value: 2509.015869140625.\n",
      "sample: 100%|██████████| 15000/15000 [00:04<00:00, 3232.57it/s, 14 steps of size 2.03e-01. acc. prob=0.81]\n",
      "[I 2024-03-12 01:06:07,674] Trial 8 finished with value: 2509.151611328125 and parameters: {'I_y_and_I_z_mu_0': 0.18464196044159312, 'I_y_and_I_z_mu_1': 0.6328442184975975}. Best is trial 3 with value: 2509.015869140625.\n",
      "sample: 100%|██████████| 15000/15000 [00:04<00:00, 3427.28it/s, 7 steps of size 8.00e-01. acc. prob=0.89]\n",
      "[I 2024-03-12 01:06:12,581] Trial 9 finished with value: 2509.046142578125 and parameters: {'I_y_and_I_z_mu_0': 1.5817040705614651, 'I_y_and_I_z_mu_1': 1.3743313155403043}. Best is trial 3 with value: 2509.015869140625.\n",
      "sample: 100%|██████████| 15000/15000 [00:04<00:00, 3067.30it/s, 12 steps of size 1.04e-01. acc. prob=0.86]\n",
      "[I 2024-03-12 01:06:17,956] Trial 10 finished with value: 2509.01708984375 and parameters: {'I_y_and_I_z_mu_0': 0.7191124196427094, 'I_y_and_I_z_mu_1': 0.11615230528793274}. Best is trial 3 with value: 2509.015869140625.\n",
      "sample: 100%|██████████| 15000/15000 [00:04<00:00, 3046.19it/s, 22 steps of size 9.45e-02. acc. prob=0.87]\n",
      "[I 2024-03-12 01:06:23,379] Trial 11 finished with value: 2509.10693359375 and parameters: {'I_y_and_I_z_mu_0': 0.6214532327845022, 'I_y_and_I_z_mu_1': 0.15662169323839226}. Best is trial 3 with value: 2509.015869140625.\n",
      "sample: 100%|██████████| 15000/15000 [00:05<00:00, 2956.83it/s, 63 steps of size 7.21e-02. acc. prob=0.92]\n",
      "[I 2024-03-12 01:06:28,964] Trial 12 finished with value: 2509.1279296875 and parameters: {'I_y_and_I_z_mu_0': 0.7434282053992395, 'I_y_and_I_z_mu_1': 0.3530003831886045}. Best is trial 3 with value: 2509.015869140625.\n",
      "sample: 100%|██████████| 15000/15000 [00:04<00:00, 3093.05it/s, 25 steps of size 7.44e-02. acc. prob=0.88]\n",
      "[I 2024-03-12 01:06:34,342] Trial 13 finished with value: 2509.172607421875 and parameters: {'I_y_and_I_z_mu_0': 0.024330430282740068, 'I_y_and_I_z_mu_1': 0.26988033262933453}. Best is trial 3 with value: 2509.015869140625.\n",
      "sample: 100%|██████████| 15000/15000 [00:04<00:00, 3176.10it/s, 14 steps of size 1.23e-01. acc. prob=0.83]\n",
      "[I 2024-03-12 01:06:39,573] Trial 14 finished with value: 2509.02001953125 and parameters: {'I_y_and_I_z_mu_0': 0.8316527312904087, 'I_y_and_I_z_mu_1': 0.046934605777187166}. Best is trial 3 with value: 2509.015869140625.\n",
      "sample: 100%|██████████| 15000/15000 [00:10<00:00, 1460.80it/s, 255 steps of size 7.15e-03. acc. prob=0.98]\n",
      "[I 2024-03-12 01:06:50,369] Trial 15 finished with value: 2509.124267578125 and parameters: {'I_y_and_I_z_mu_0': 0.41929388102612913, 'I_y_and_I_z_mu_1': 0.36749447969614557}. Best is trial 3 with value: 2509.015869140625.\n",
      "sample: 100%|██████████| 15000/15000 [00:04<00:00, 3077.57it/s, 14 steps of size 2.46e-01. acc. prob=0.81]\n",
      "[I 2024-03-12 01:06:55,756] Trial 16 finished with value: 2509.122802734375 and parameters: {'I_y_and_I_z_mu_0': 0.5035238198116777, 'I_y_and_I_z_mu_1': 0.4996558591294955}. Best is trial 3 with value: 2509.015869140625.\n",
      "sample: 100%|██████████| 15000/15000 [00:04<00:00, 3053.19it/s, 17 steps of size 8.53e-02. acc. prob=0.86]\n",
      "[I 2024-03-12 01:07:01,184] Trial 17 finished with value: 2509.078125 and parameters: {'I_y_and_I_z_mu_0': 0.011402016475289045, 'I_y_and_I_z_mu_1': 0.20773193419881955}. Best is trial 3 with value: 2509.015869140625.\n",
      "sample: 100%|██████████| 15000/15000 [00:04<00:00, 3251.72it/s, 7 steps of size 3.09e-01. acc. prob=0.88] \n",
      "[I 2024-03-12 01:07:06,316] Trial 18 finished with value: 2509.04638671875 and parameters: {'I_y_and_I_z_mu_0': 0.9799168362930292, 'I_y_and_I_z_mu_1': 0.5932321816764592}. Best is trial 3 with value: 2509.015869140625.\n",
      "sample: 100%|██████████| 15000/15000 [00:04<00:00, 3193.09it/s, 13 steps of size 1.35e-01. acc. prob=0.80]\n",
      "[I 2024-03-12 01:07:11,520] Trial 19 finished with value: 2509.23388671875 and parameters: {'I_y_and_I_z_mu_0': 0.5150548336642158, 'I_y_and_I_z_mu_1': 0.0223246353549732}. Best is trial 3 with value: 2509.015869140625.\n",
      "sample: 100%|██████████| 15000/15000 [00:05<00:00, 2905.67it/s, 58 steps of size 6.34e-02. acc. prob=0.90]\n"
     ]
    }
   ],
   "source": [
    "optimising_parameters = {\n",
    "                    'I_y_and_I_z_mu_0': [1e-2, 2],\n",
    "                    'I_y_and_I_z_mu_1': [1e-2, 2],\n",
    "                    # 'I_y_and_I_z_cov_0_0': [1e-2, 2],\n",
    "                    # 'I_y_and_I_z_cov_1_1': [1e-2, 2],\n",
    "                }\n",
    "\n",
    "optimiser = Optimiser(results_name=results_name, \n",
    "                  data_params=data_params,\n",
    "                  default_params=default_params)\n",
    "\n",
    "# AIC\n",
    "study = optimiser.run(n_trials=20, optimiser_name='AIC_3', optimising_parameters=optimising_parameters, index_name='aic')\n",
    "optimiser.get_plots(study)\n",
    "domain = Domain('cone_from_source_z_limited', resolution=80)\n",
    "domain.add_domain_param('r', 1000)\n",
    "domain.add_domain_param('theta', np.pi/8)\n",
    "domain.add_domain_param('source', [0,0,5])\n",
    "domain.add_domain_param('z_slice', 0)\n",
    "domain.add_domain_param('y_slice', 0)\n",
    "domain.add_domain_param('x_slice', 100)\n",
    "\n",
    "optimiser.run_best_params(study, domain, name = 'small_scale', prior_plots=prior_plots)\n",
    "\n",
    "# # # # RMSE\n",
    "# # # study = optimiser.run(n_trials=100, optimiser_name='RMSE_1', optimising_parameters=optimising_parameters, index_name='rmse')\n",
    "# # # optimiser.get_plots(study)\n",
    "# # # domain = Domain('cone_from_source_z_limited', resolution=80)\n",
    "# # # domain.add_domain_param('r', 1000)\n",
    "# # # domain.add_domain_param('theta', np.pi/8)\n",
    "# # # domain.add_domain_param('source', [0,0,10])\n",
    "# # # optimiser.run_best_params(study, domain, name = 'small_scale_3D_plots', prior_plots=prior_plots)\n",
    "\n",
    "# # # # BIC\n",
    "# # # study = optimiser.run(n_trials=100, optimiser_name='BIC_1', optimising_parameters=optimising_parameters, index_name='bic')\n",
    "# # # optimiser.get_plots(study)\n",
    "# # # domain = Domain('cone_from_source_z_limited', resolution=80)\n",
    "# # # domain.add_domain_param('r', 1000)\n",
    "# # # domain.add_domain_param('theta', np.pi/8)\n",
    "# # # domain.add_domain_param('source', [0,0,10])\n",
    "# # # optimiser.run_best_params(study, domain, name = 'small_scale_3D_plots', prior_plots=prior_plots)"
   ]
  }
 ],
 "metadata": {
  "kernelspec": {
   "display_name": "base",
   "language": "python",
   "name": "python3"
  },
  "language_info": {
   "codemirror_mode": {
    "name": "ipython",
    "version": 3
   },
   "file_extension": ".py",
   "mimetype": "text/x-python",
   "name": "python",
   "nbconvert_exporter": "python",
   "pygments_lexer": "ipython3",
   "version": "3.9.15"
  },
  "orig_nbformat": 4
 },
 "nbformat": 4,
 "nbformat_minor": 2
}
