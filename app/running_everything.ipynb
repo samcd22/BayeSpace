{
 "cells": [
  {
   "attachments": {},
   "cell_type": "markdown",
   "metadata": {},
   "source": [
    "# Controller #"
   ]
  },
  {
   "attachments": {},
   "cell_type": "markdown",
   "metadata": {},
   "source": [
    "Import all neccessary packages"
   ]
  },
  {
   "cell_type": "code",
   "execution_count": 1,
   "metadata": {},
   "outputs": [
    {
     "name": "stderr",
     "output_type": "stream",
     "text": [
      "/build/miniconda3/lib/python3.12/site-packages/tqdm/auto.py:21: TqdmWarning: IProgress not found. Please update jupyter and ipywidgets. See https://ipywidgets.readthedocs.io/en/stable/user_install.html\n",
      "  from .autonotebook import tqdm as notebook_tqdm\n"
     ]
    }
   ],
   "source": [
    "import os\n",
    "import pandas as pd\n",
    "import numpy as np\n",
    "\n",
    "from controllers.inference_controllers.sandbox import Sandbox\n",
    "from controllers.inference_controllers.generator import Generator\n",
    "from controllers.inference_controllers.optimiser import Optimiser\n",
    "\n",
    "from toolboxes.plotting_toolbox.domain import Domain\n",
    "from toolboxes.inference_toolbox.parameter import Parameter\n",
    "from toolboxes.inference_toolbox.model import Model\n",
    "from toolboxes.inference_toolbox.likelihood import Likelihood\n",
    "\n",
    "current_directory = os.getcwd()\n",
    "if current_directory != '/PhD_project/':\n",
    "    os.chdir('/PhD_project/')"
   ]
  },
  {
   "attachments": {},
   "cell_type": "markdown",
   "metadata": {},
   "source": [
    "Defining simulated data"
   ]
  },
  {
   "cell_type": "code",
   "execution_count": 2,
   "metadata": {},
   "outputs": [],
   "source": [
    "data_params = {\n",
    "    'data_type': 'normalised_data',\n",
    "    'data_select': 'GBR_data',\n",
    "    'normaliser_select': 'GBR_normaliser',\n",
    "    'normaliser_params':{\n",
    "        'experiments_list': [\n",
    "            'Exp1',\n",
    "            'Exp2',\n",
    "            'Exp3',\n",
    "            'Exp4',\n",
    "            'Exp5',\n",
    "            'Exp6',\n",
    "            'Exp7',\n",
    "            'Exp8',\n",
    "            'Exp9',\n",
    "            'Exp10',\n",
    "            'Exp11',\n",
    "            'Exp12',\n",
    "        ],\n",
    "        'meta_data_select': 'GBR_data_summary',\n",
    "        'input_header': 'Concentration'\n",
    "    },\n",
    "    'log':True,\n",
    "    'output_header': 'Concentration',\n",
    "    'gridding': [100,100,25]\n",
    "}\n",
    "\n",
    "prior_plots = [\n",
    "    {\n",
    "        'Q': [1e12, 5e13],\n",
    "        'references':{\n",
    "            'Q' : [2.82e13, 3.11e13, 2.89e13, 4.83e13],\n",
    "            'labels': ['250m','200m','750m','1000m'] \n",
    "        }\n",
    "    },\n",
    "    {\n",
    "        'sigma': [0.001, 4],\n",
    "    },\n",
    "    {\n",
    "        'I_y': [0.0001, 1.7],\n",
    "        'I_z': [0.0001, 1.7],\n",
    "        'references':{\n",
    "            'I_y' : [0.22, 1.6, 0.11, 0.08, 0.06, 0.04],\n",
    "            'I_z' : [0.2, 1.2, 0.08, 0.06, 0.03, 0.016],\n",
    "            'labels': ['A','B','C','D','E','F'] \n",
    "        }\n",
    "    }\n",
    "]\n",
    "\n",
    "results_name = 'GBR_data_gridded_100_100_25'"
   ]
  },
  {
   "cell_type": "markdown",
   "metadata": {},
   "source": [
    "Defining default parameters and prior plots for gamma priors of the simulated data"
   ]
  },
  {
   "cell_type": "code",
   "execution_count": 3,
   "metadata": {},
   "outputs": [],
   "source": [
    "default_params = {\n",
    "    'infered_params':pd.Series({\n",
    "        'model_params':pd.Series({\n",
    "            'I_y_and_I_z': Parameter(['I_y','I_z'], prior_select='log_norm')\n",
    "                                    .add_prior_param('mu', [0.4,0.4])\n",
    "                                    .add_prior_param('cov', [[0.8,0],[0,0.8]]),\n",
    "            'Q': Parameter('Q', prior_select = 'log_norm', order = 1e13).add_prior_param('mu',3.42).add_prior_param('cov',0.01),\n",
    "        }),\n",
    "        'likelihood_params':pd.Series({\n",
    "            'sigma': Parameter('sigma', prior_select = 'log_norm').add_prior_param('mu', 1.5).add_prior_param('cov',0.7)\n",
    "        })\n",
    "    }),\n",
    "    'model':Model('log_gpm_norm').add_fixed_model_param('H',5),\n",
    "    'likelihood': Likelihood('gaussian'),\n",
    "    'sampler': {\n",
    "        'n_samples': 10000,\n",
    "        'n_chains': 3,\n",
    "        'thinning_rate': 1\n",
    "    }\n",
    "}"
   ]
  },
  {
   "attachments": {},
   "cell_type": "markdown",
   "metadata": {},
   "source": [
    "Running a general instance for gamma priors and simulated data"
   ]
  },
  {
   "cell_type": "code",
   "execution_count": 4,
   "metadata": {},
   "outputs": [
    {
     "ename": "TypeError",
     "evalue": "Sampler() takes no arguments",
     "output_type": "error",
     "traceback": [
      "\u001b[0;31m---------------------------------------------------------------------------\u001b[0m",
      "\u001b[0;31mTypeError\u001b[0m                                 Traceback (most recent call last)",
      "Cell \u001b[0;32mIn[4], line 5\u001b[0m\n\u001b[1;32m      1\u001b[0m sandbox \u001b[38;5;241m=\u001b[39m Sandbox(results_name\u001b[38;5;241m=\u001b[39mresults_name, \n\u001b[1;32m      2\u001b[0m                   data_params\u001b[38;5;241m=\u001b[39mdata_params,\n\u001b[1;32m      3\u001b[0m                   default_params\u001b[38;5;241m=\u001b[39mdefault_params)\n\u001b[0;32m----> 5\u001b[0m visualiser \u001b[38;5;241m=\u001b[39m \u001b[43msandbox\u001b[49m\u001b[38;5;241;43m.\u001b[39;49m\u001b[43mrun\u001b[49m\u001b[43m(\u001b[49m\u001b[43m)\u001b[49m\n\u001b[1;32m      6\u001b[0m visualiser\u001b[38;5;241m.\u001b[39mget_summary()\n\u001b[1;32m      7\u001b[0m visualiser\u001b[38;5;241m.\u001b[39mget_traceplot()\n",
      "File \u001b[0;32m/PhD_project/app/controllers/inference_controllers/sandbox.py:95\u001b[0m, in \u001b[0;36mSandbox.run\u001b[0;34m(self)\u001b[0m\n\u001b[1;32m     92\u001b[0m n_chains \u001b[38;5;241m=\u001b[39m \u001b[38;5;28mself\u001b[39m\u001b[38;5;241m.\u001b[39mdefault_params[\u001b[38;5;124m'\u001b[39m\u001b[38;5;124msampler\u001b[39m\u001b[38;5;124m'\u001b[39m][\u001b[38;5;124m'\u001b[39m\u001b[38;5;124mn_chains\u001b[39m\u001b[38;5;124m'\u001b[39m]\n\u001b[1;32m     93\u001b[0m thinning_rate \u001b[38;5;241m=\u001b[39m \u001b[38;5;28mself\u001b[39m\u001b[38;5;241m.\u001b[39mdefault_params[\u001b[38;5;124m'\u001b[39m\u001b[38;5;124msampler\u001b[39m\u001b[38;5;124m'\u001b[39m][\u001b[38;5;124m'\u001b[39m\u001b[38;5;124mthinning_rate\u001b[39m\u001b[38;5;124m'\u001b[39m]\n\u001b[0;32m---> 95\u001b[0m \u001b[38;5;28mself\u001b[39m\u001b[38;5;241m.\u001b[39msampler \u001b[38;5;241m=\u001b[39m \u001b[43mSampler\u001b[49m\u001b[43m(\u001b[49m\u001b[43mparams\u001b[49m\u001b[43m,\u001b[49m\n\u001b[1;32m     96\u001b[0m \u001b[43m                       \u001b[49m\u001b[43mmodel\u001b[49m\u001b[43m,\u001b[49m\n\u001b[1;32m     97\u001b[0m \u001b[43m                       \u001b[49m\u001b[43mlikelihood\u001b[49m\u001b[43m,\u001b[49m\n\u001b[1;32m     98\u001b[0m \u001b[43m                       \u001b[49m\u001b[43mtraining_data\u001b[49m\u001b[43m,\u001b[49m\n\u001b[1;32m     99\u001b[0m \u001b[43m                       \u001b[49m\u001b[43mtesting_data\u001b[49m\u001b[43m,\u001b[49m\n\u001b[1;32m    100\u001b[0m \u001b[43m                       \u001b[49m\u001b[43mn_samples\u001b[49m\u001b[43m,\u001b[49m\n\u001b[1;32m    101\u001b[0m \u001b[43m                       \u001b[49m\u001b[43mn_chains\u001b[49m\u001b[38;5;241;43m=\u001b[39;49m\u001b[43mn_chains\u001b[49m\u001b[43m,\u001b[49m\n\u001b[1;32m    102\u001b[0m \u001b[43m                       \u001b[49m\u001b[43mthinning_rate\u001b[49m\u001b[38;5;241;43m=\u001b[39;49m\u001b[43mthinning_rate\u001b[49m\u001b[43m,\u001b[49m\n\u001b[1;32m    103\u001b[0m \u001b[43m                       \u001b[49m\u001b[43mdata_path\u001b[49m\u001b[38;5;241;43m=\u001b[39;49m\u001b[38;5;28;43mself\u001b[39;49m\u001b[38;5;241;43m.\u001b[39;49m\u001b[43mfull_results_path\u001b[49m\u001b[43m)\u001b[49m\n\u001b[1;32m    105\u001b[0m \u001b[38;5;28mself\u001b[39m\u001b[38;5;241m.\u001b[39msampler\u001b[38;5;241m.\u001b[39msample_all()\n\u001b[1;32m    107\u001b[0m visualiser \u001b[38;5;241m=\u001b[39m Visualiser(testing_data,\n\u001b[1;32m    108\u001b[0m                         \u001b[38;5;28mself\u001b[39m\u001b[38;5;241m.\u001b[39msampler,\n\u001b[1;32m    109\u001b[0m                         model,\n\u001b[1;32m    110\u001b[0m                         previous_instance\u001b[38;5;241m=\u001b[39m\u001b[38;5;28mself\u001b[39m\u001b[38;5;241m.\u001b[39msampler\u001b[38;5;241m.\u001b[39minstance,\n\u001b[1;32m    111\u001b[0m                         data_path\u001b[38;5;241m=\u001b[39m\u001b[38;5;28mself\u001b[39m\u001b[38;5;241m.\u001b[39mfull_results_path,\n\u001b[1;32m    112\u001b[0m                         actual_values\u001b[38;5;241m=\u001b[39m\u001b[38;5;28mself\u001b[39m\u001b[38;5;241m.\u001b[39mactual_values)\n",
      "\u001b[0;31mTypeError\u001b[0m: Sampler() takes no arguments"
     ]
    }
   ],
   "source": [
    "sandbox = Sandbox(results_name=results_name, \n",
    "                  data_params=data_params,\n",
    "                  default_params=default_params)\n",
    "\n",
    "visualiser = sandbox.run()\n",
    "visualiser.get_summary()\n",
    "visualiser.get_traceplot()\n",
    "visualiser.get_autocorrelations()\n",
    "visualiser.get_prior_plots(prior_plots)\n",
    "\n",
    "domain = Domain('cone_from_source_z_limited', resolution=80)\n",
    "domain.add_domain_param('r', 1000)\n",
    "domain.add_domain_param('theta', np.pi/8)\n",
    "domain.add_domain_param('source', [0,0,5])\n",
    "domain.add_domain_param('z_slice', 0)\n",
    "domain.add_domain_param('y_slice', 0)\n",
    "domain.add_domain_param('x_slice', 100)\n",
    "\n",
    "visualiser.visualise_results(domain = domain, plot_type = '2D_slice', name = 'small_scale', title='Log Concentration of Droplets', log_results=False)\n",
    "visualiser.visualise_results(domain = domain, plot_type = '3D', name = 'small_scale', title='Log Concentration of Droplets', log_results=False)"
   ]
  },
  {
   "cell_type": "code",
   "execution_count": null,
   "metadata": {},
   "outputs": [
    {
     "ename": "TypeError",
     "evalue": "Parameter.__init__() got multiple values for argument 'prior_select'",
     "output_type": "error",
     "traceback": [
      "\u001b[0;31m---------------------------------------------------------------------------\u001b[0m",
      "\u001b[0;31mTypeError\u001b[0m                                 Traceback (most recent call last)",
      "Cell \u001b[0;32mIn[5], line 4\u001b[0m\n\u001b[1;32m      1\u001b[0m default_params \u001b[38;5;241m=\u001b[39m {\n\u001b[1;32m      2\u001b[0m     \u001b[38;5;124m'\u001b[39m\u001b[38;5;124minfered_params\u001b[39m\u001b[38;5;124m'\u001b[39m:pd\u001b[38;5;241m.\u001b[39mSeries({\n\u001b[1;32m      3\u001b[0m         \u001b[38;5;124m'\u001b[39m\u001b[38;5;124mmodel_params\u001b[39m\u001b[38;5;124m'\u001b[39m:pd\u001b[38;5;241m.\u001b[39mSeries({\n\u001b[0;32m----> 4\u001b[0m             \u001b[38;5;124m'\u001b[39m\u001b[38;5;124mI_y_and_I_z\u001b[39m\u001b[38;5;124m'\u001b[39m: \u001b[43mParameter\u001b[49m\u001b[43m(\u001b[49m\u001b[38;5;124;43m'\u001b[39;49m\u001b[38;5;124;43mI_y\u001b[39;49m\u001b[38;5;124;43m'\u001b[39;49m\u001b[43m,\u001b[49m\u001b[38;5;124;43m'\u001b[39;49m\u001b[38;5;124;43mI_z\u001b[39;49m\u001b[38;5;124;43m'\u001b[39;49m\u001b[43m,\u001b[49m\u001b[43m \u001b[49m\u001b[43mprior_select\u001b[49m\u001b[38;5;241;43m=\u001b[39;49m\u001b[38;5;124;43m'\u001b[39;49m\u001b[38;5;124;43mlog_norm\u001b[39;49m\u001b[38;5;124;43m'\u001b[39;49m\u001b[43m)\u001b[49m\n\u001b[1;32m      5\u001b[0m                                     \u001b[38;5;241m.\u001b[39madd_prior_param(\u001b[38;5;124m'\u001b[39m\u001b[38;5;124mmu\u001b[39m\u001b[38;5;124m'\u001b[39m, [\u001b[38;5;241m0.4\u001b[39m,\u001b[38;5;241m0.4\u001b[39m])\n\u001b[1;32m      6\u001b[0m                                     \u001b[38;5;241m.\u001b[39madd_prior_param(\u001b[38;5;124m'\u001b[39m\u001b[38;5;124mcov\u001b[39m\u001b[38;5;124m'\u001b[39m, [[\u001b[38;5;241m0.8\u001b[39m,\u001b[38;5;241m0\u001b[39m],[\u001b[38;5;241m0\u001b[39m,\u001b[38;5;241m0.8\u001b[39m]]),\n\u001b[1;32m      7\u001b[0m             \u001b[38;5;124m'\u001b[39m\u001b[38;5;124mQ\u001b[39m\u001b[38;5;124m'\u001b[39m: Parameter(\u001b[38;5;124m'\u001b[39m\u001b[38;5;124mQ\u001b[39m\u001b[38;5;124m'\u001b[39m, prior_select \u001b[38;5;241m=\u001b[39m \u001b[38;5;124m'\u001b[39m\u001b[38;5;124mlog_norm\u001b[39m\u001b[38;5;124m'\u001b[39m, order \u001b[38;5;241m=\u001b[39m \u001b[38;5;241m1e13\u001b[39m)\u001b[38;5;241m.\u001b[39madd_prior_param(\u001b[38;5;124m'\u001b[39m\u001b[38;5;124mmu\u001b[39m\u001b[38;5;124m'\u001b[39m,\u001b[38;5;241m3.41\u001b[39m)\u001b[38;5;241m.\u001b[39madd_prior_param(\u001b[38;5;124m'\u001b[39m\u001b[38;5;124mcov\u001b[39m\u001b[38;5;124m'\u001b[39m,\u001b[38;5;241m0.01\u001b[39m),\n\u001b[1;32m      8\u001b[0m         }),\n\u001b[1;32m      9\u001b[0m         \u001b[38;5;124m'\u001b[39m\u001b[38;5;124mlikelihood_params\u001b[39m\u001b[38;5;124m'\u001b[39m:pd\u001b[38;5;241m.\u001b[39mSeries({\n\u001b[1;32m     10\u001b[0m             \u001b[38;5;124m'\u001b[39m\u001b[38;5;124msigma\u001b[39m\u001b[38;5;124m'\u001b[39m: Parameter(\u001b[38;5;124m'\u001b[39m\u001b[38;5;124msigma\u001b[39m\u001b[38;5;124m'\u001b[39m, prior_select \u001b[38;5;241m=\u001b[39m \u001b[38;5;124m'\u001b[39m\u001b[38;5;124mlog_norm\u001b[39m\u001b[38;5;124m'\u001b[39m)\u001b[38;5;241m.\u001b[39madd_prior_param(\u001b[38;5;124m'\u001b[39m\u001b[38;5;124mmu\u001b[39m\u001b[38;5;124m'\u001b[39m, \u001b[38;5;241m1.5\u001b[39m)\u001b[38;5;241m.\u001b[39madd_prior_param(\u001b[38;5;124m'\u001b[39m\u001b[38;5;124mcov\u001b[39m\u001b[38;5;124m'\u001b[39m,\u001b[38;5;241m0.7\u001b[39m)\n\u001b[1;32m     11\u001b[0m         })\n\u001b[1;32m     12\u001b[0m     }),\n\u001b[1;32m     13\u001b[0m     \u001b[38;5;124m'\u001b[39m\u001b[38;5;124mmodel\u001b[39m\u001b[38;5;124m'\u001b[39m:Model(\u001b[38;5;124m'\u001b[39m\u001b[38;5;124mlog_gpm_norm\u001b[39m\u001b[38;5;124m'\u001b[39m)\u001b[38;5;241m.\u001b[39madd_model_param(\u001b[38;5;124m'\u001b[39m\u001b[38;5;124mH\u001b[39m\u001b[38;5;124m'\u001b[39m,\u001b[38;5;241m5\u001b[39m),\n\u001b[1;32m     14\u001b[0m     \u001b[38;5;124m'\u001b[39m\u001b[38;5;124mlikelihood\u001b[39m\u001b[38;5;124m'\u001b[39m: Likelihood(\u001b[38;5;124m'\u001b[39m\u001b[38;5;124mgaussian\u001b[39m\u001b[38;5;124m'\u001b[39m),\n\u001b[1;32m     15\u001b[0m     \u001b[38;5;124m'\u001b[39m\u001b[38;5;124msampler\u001b[39m\u001b[38;5;124m'\u001b[39m: {\n\u001b[1;32m     16\u001b[0m         \u001b[38;5;124m'\u001b[39m\u001b[38;5;124mn_samples\u001b[39m\u001b[38;5;124m'\u001b[39m: \u001b[38;5;241m10000\u001b[39m,\n\u001b[1;32m     17\u001b[0m         \u001b[38;5;124m'\u001b[39m\u001b[38;5;124mn_chains\u001b[39m\u001b[38;5;124m'\u001b[39m: \u001b[38;5;241m1\u001b[39m,\n\u001b[1;32m     18\u001b[0m         \u001b[38;5;124m'\u001b[39m\u001b[38;5;124mthinning_rate\u001b[39m\u001b[38;5;124m'\u001b[39m: \u001b[38;5;241m1\u001b[39m\n\u001b[1;32m     19\u001b[0m     }\n\u001b[1;32m     20\u001b[0m }\n",
      "\u001b[0;31mTypeError\u001b[0m: Parameter.__init__() got multiple values for argument 'prior_select'"
     ]
    }
   ],
   "source": [
    "default_params = {\n",
    "    'infered_params':pd.Series({\n",
    "        'model_params':pd.Series({\n",
    "            'I_y_and_I_z': Parameter('I_y','I_z', prior_select='log_norm')\n",
    "                                    .add_prior_param('mu', [0.4,0.4])\n",
    "                                    .add_prior_param('cov', [[0.8,0],[0,0.8]]),\n",
    "            'Q': Parameter('Q', prior_select = 'log_norm', order = 1e13).add_prior_param('mu',3.41).add_prior_param('cov',0.01),\n",
    "        }),\n",
    "        'likelihood_params':pd.Series({\n",
    "            'sigma': Parameter('sigma', prior_select = 'log_norm').add_prior_param('mu', 1.5).add_prior_param('cov',0.7)\n",
    "        })\n",
    "    }),\n",
    "    'model':Model('log_gpm_norm').add_model_param('H',5),\n",
    "    'likelihood': Likelihood('gaussian'),\n",
    "    'sampler': {\n",
    "        'n_samples': 10000,\n",
    "        'n_chains': 1,\n",
    "        'thinning_rate': 1\n",
    "    }\n",
    "}"
   ]
  },
  {
   "attachments": {},
   "cell_type": "markdown",
   "metadata": {},
   "source": [
    "Analysing the sensitivity of the gamma prior simulated data"
   ]
  },
  {
   "cell_type": "code",
   "execution_count": null,
   "metadata": {},
   "outputs": [],
   "source": [
    "# generator = Generator(results_name=results_name, \n",
    "#                   data_params=data_params,\n",
    "#                   default_params=default_params)\n",
    "\n",
    "# analysis_iterations = {\n",
    "#     'parameters_1': ['I_y_and_I_z_mu_0','I_y_and_I_z_mu_1','Q_mu','sigma_mu'],\n",
    "#     'parameters_2': ['I_y_and_I_z_cov_0_0','I_y_and_I_z_cov_1_1','Q_sigma','sigma_sigma'],\n",
    "#     'values_1':\n",
    "#     [\n",
    "#         np.array([1e-4, 1e-3, 1e-2, 1e-1, 1e0, 1e1, 1e2, 1e3, 1e4, 1e5]),\n",
    "#         np.array([1e-4, 1e-3, 1e-2, 1e-1, 1e0, 1e1, 1e2, 1e3, 1e4, 1e5]),\n",
    "#         # np.array([1e9, 1e10, 1e11, 1e12, 1e13, 1e14, 1e15, 1e16, 1e17, 1e18]),\n",
    "#         # np.array([1e-4, 1e-3, 1e-2, 1e-1, 1e0, 1e1, 1e2, 1e3, 1e4, 1e5])     \n",
    "#     ],\n",
    "\n",
    "#     'values_2':\n",
    "#     [\n",
    "#         np.array([1e-4, 1e-3, 1e-2, 1e-1, 1e0, 1e1, 1e2, 1e3, 1e4, 1e5]),\n",
    "#         np.array([1e-4, 1e-3, 1e-2, 1e-1, 1e0, 1e1, 1e2, 1e3, 1e4, 1e5]),\n",
    "#         # np.array([1e7, 1e8, 1e9, 1e10, 1e11, 1e12, 1e13, 1e14, 1e15, 1e16]),\n",
    "#         # np.array([1e-4, 1e-3, 1e-2, 1e-1, 1e0, 1e1, 1e2, 1e3, 1e4, 1e5]) \n",
    "#     ],\n",
    "#     'scales_1': ['log','log', 'log', 'log'],\n",
    "#     'scales_2': ['log','log', 'log', 'log'],\n",
    "# }\n",
    "\n",
    "# for i in range(len(analysis_iterations['parameters_1'])):\n",
    "#     parameter_1 = analysis_iterations['parameters_1'][i]\n",
    "#     parameter_2 = analysis_iterations['parameters_2'][i]\n",
    "\n",
    "#     print('Working on varying ' + parameter_1 + ' and ' + parameter_2 + '...')\n",
    "#     values_1 = analysis_iterations['values_1'][i]\n",
    "#     values_2 = analysis_iterations['values_2'][i]\n",
    "\n",
    "#     scale_1 = analysis_iterations['scales_1'][i]\n",
    "#     scale_2 = analysis_iterations['scales_2'][i]\n",
    "\n",
    "#     inputs = generator.vary_two_parameters(parameter_1, parameter_2, values_1, values_2, scale_1=scale_1, scale_2=scale_2, plot=True)"
   ]
  },
  {
   "attachments": {},
   "cell_type": "markdown",
   "metadata": {},
   "source": [
    "Optimising the hyperparameters for gamma prior simulated data"
   ]
  },
  {
   "cell_type": "code",
   "execution_count": null,
   "metadata": {},
   "outputs": [
    {
     "name": "stderr",
     "output_type": "stream",
     "text": [
      "[I 2024-04-29 07:13:39,991] Using an existing study with name 'AIC_3' instead of creating a new one.\n",
      "sample: 100%|██████████| 15000/15000 [00:03<00:00, 4028.67it/s, 7 steps of size 5.37e-01. acc. prob=0.78]\n",
      "[I 2024-04-29 07:13:44,210] Trial 7 finished with value: 2509.12060546875 and parameters: {'I_y_and_I_z_mu_0': 0.8504878037039512, 'I_y_and_I_z_mu_1': 1.4385781499389758}. Best is trial 3 with value: 2509.005126953125.\n",
      "sample: 100%|██████████| 15000/15000 [00:03<00:00, 3922.63it/s, 15 steps of size 3.33e-01. acc. prob=0.90]\n",
      "[I 2024-04-29 07:13:48,448] Trial 8 finished with value: 2509.081298828125 and parameters: {'I_y_and_I_z_mu_0': 1.0350672174531816, 'I_y_and_I_z_mu_1': 1.1097820644115541}. Best is trial 3 with value: 2509.005126953125.\n",
      "sample: 100%|██████████| 15000/15000 [00:04<00:00, 3415.77it/s, 30 steps of size 6.00e-02. acc. prob=0.93]\n",
      "[I 2024-04-29 07:13:53,254] Trial 9 finished with value: 2509.13623046875 and parameters: {'I_y_and_I_z_mu_0': 1.3142729015319192, 'I_y_and_I_z_mu_1': 0.10473593002944771}. Best is trial 3 with value: 2509.005126953125.\n",
      "sample: 100%|██████████| 15000/15000 [00:03<00:00, 4107.91it/s, 7 steps of size 6.55e-01. acc. prob=0.89]\n",
      "[I 2024-04-29 07:13:57,328] Trial 10 finished with value: 2509.03369140625 and parameters: {'I_y_and_I_z_mu_0': 1.3076790589919454, 'I_y_and_I_z_mu_1': 1.9103702807333391}. Best is trial 3 with value: 2509.005126953125.\n",
      "sample: 100%|██████████| 15000/15000 [00:03<00:00, 4055.69it/s, 7 steps of size 6.64e-01. acc. prob=0.92]\n",
      "[I 2024-04-29 07:14:01,445] Trial 11 finished with value: 2509.057861328125 and parameters: {'I_y_and_I_z_mu_0': 1.5786707927922032, 'I_y_and_I_z_mu_1': 0.853070856725305}. Best is trial 3 with value: 2509.005126953125.\n",
      "sample: 100%|██████████| 15000/15000 [00:03<00:00, 4299.35it/s, 3 steps of size 8.19e-01. acc. prob=0.90]\n",
      "[I 2024-04-29 07:14:05,372] Trial 12 finished with value: 2509.037109375 and parameters: {'I_y_and_I_z_mu_0': 1.9865504491902788, 'I_y_and_I_z_mu_1': 1.2595828608747257}. Best is trial 3 with value: 2509.005126953125.\n",
      "sample: 100%|██████████| 15000/15000 [00:03<00:00, 3999.49it/s, 14 steps of size 1.82e-01. acc. prob=0.82]\n",
      "[I 2024-04-29 07:14:09,547] Trial 13 finished with value: 2509.135986328125 and parameters: {'I_y_and_I_z_mu_0': 0.07740116586175916, 'I_y_and_I_z_mu_1': 1.5055059330515106}. Best is trial 3 with value: 2509.005126953125.\n",
      "sample: 100%|██████████| 15000/15000 [00:04<00:00, 3697.95it/s, 13 steps of size 1.99e-01. acc. prob=0.77]\n",
      "[I 2024-04-29 07:14:14,035] Trial 14 finished with value: 2509.11669921875 and parameters: {'I_y_and_I_z_mu_0': 0.01974871315668525, 'I_y_and_I_z_mu_1': 0.5063036387417306}. Best is trial 3 with value: 2509.005126953125.\n",
      "sample: 100%|██████████| 15000/15000 [00:03<00:00, 3847.60it/s, 11 steps of size 2.99e-01. acc. prob=0.78]\n",
      "[I 2024-04-29 07:14:18,388] Trial 15 finished with value: 2509.097900390625 and parameters: {'I_y_and_I_z_mu_0': 0.444198211941917, 'I_y_and_I_z_mu_1': 1.6346518161596761}. Best is trial 3 with value: 2509.005126953125.\n",
      "sample: 100%|██████████| 15000/15000 [00:04<00:00, 3733.81it/s, 1 steps of size 1.46e-01. acc. prob=0.86] \n",
      "[I 2024-04-29 07:14:22,870] Trial 16 finished with value: 2509.12158203125 and parameters: {'I_y_and_I_z_mu_0': 0.41232478601302874, 'I_y_and_I_z_mu_1': 1.0466563437702527}. Best is trial 3 with value: 2509.005126953125.\n",
      "sample: 100%|██████████| 15000/15000 [00:06<00:00, 2250.07it/s, 127 steps of size 1.72e-02. acc. prob=0.98]\n",
      "[I 2024-04-29 07:14:29,980] Trial 17 finished with value: 2509.036376953125 and parameters: {'I_y_and_I_z_mu_0': 0.6171342973626844, 'I_y_and_I_z_mu_1': 1.9654392753821708}. Best is trial 3 with value: 2509.005126953125.\n",
      "sample: 100%|██████████| 15000/15000 [00:03<00:00, 3969.30it/s, 7 steps of size 5.05e-01. acc. prob=0.81]\n",
      "[I 2024-04-29 07:14:34,216] Trial 18 finished with value: 2509.019287109375 and parameters: {'I_y_and_I_z_mu_0': 0.9271924403346983, 'I_y_and_I_z_mu_1': 0.6503175815856094}. Best is trial 3 with value: 2509.005126953125.\n",
      "sample: 100%|██████████| 15000/15000 [00:03<00:00, 3870.63it/s, 14 steps of size 1.80e-01. acc. prob=0.83]\n",
      "[I 2024-04-29 07:14:38,526] Trial 19 finished with value: 2509.0498046875 and parameters: {'I_y_and_I_z_mu_0': 0.9643008345572174, 'I_y_and_I_z_mu_1': 0.17014398250858653}. Best is trial 3 with value: 2509.005126953125.\n",
      "sample: 100%|██████████| 15000/15000 [00:03<00:00, 3991.80it/s, 7 steps of size 7.26e-01. acc. prob=0.91]\n"
     ]
    }
   ],
   "source": [
    "optimising_parameters = {\n",
    "                    'I_y_and_I_z_mu_0': [1e-2, 2],\n",
    "                    'I_y_and_I_z_mu_1': [1e-2, 2],\n",
    "                    # 'I_y_and_I_z_cov_0_0': [1e-2, 2],\n",
    "                    # 'I_y_and_I_z_cov_1_1': [1e-2, 2],\n",
    "                }\n",
    "\n",
    "optimiser = Optimiser(results_name=results_name, \n",
    "                  data_params=data_params,\n",
    "                  default_params=default_params)\n",
    "\n",
    "# AIC\n",
    "study = optimiser.run(n_trials=20, optimiser_name='AIC_3', optimising_parameters=optimising_parameters, index_name='aic')\n",
    "optimiser.get_plots(study)\n",
    "domain = Domain('cone_from_source_z_limited', resolution=80)\n",
    "domain.add_domain_param('r', 1000)\n",
    "domain.add_domain_param('theta', np.pi/8)\n",
    "domain.add_domain_param('source', [0,0,5])\n",
    "domain.add_domain_param('z_slice', 0)\n",
    "domain.add_domain_param('y_slice', 0)\n",
    "domain.add_domain_param('x_slice', 100)\n",
    "\n",
    "optimiser.run_best_params(study, domain, name = 'small_scale', prior_plots=prior_plots)\n",
    "\n",
    "# # # # RMSE\n",
    "# # # study = optimiser.run(n_trials=100, optimiser_name='RMSE_1', optimising_parameters=optimising_parameters, index_name='rmse')\n",
    "# # # optimiser.get_plots(study)\n",
    "# # # domain = Domain('cone_from_source_z_limited', resolution=80)\n",
    "# # # domain.add_domain_param('r', 1000)\n",
    "# # # domain.add_domain_param('theta', np.pi/8)\n",
    "# # # domain.add_domain_param('source', [0,0,10])\n",
    "# # # optimiser.run_best_params(study, domain, name = 'small_scale_3D_plots', prior_plots=prior_plots)\n",
    "\n",
    "# # # # BIC\n",
    "# # # study = optimiser.run(n_trials=100, optimiser_name='BIC_1', optimising_parameters=optimising_parameters, index_name='bic')\n",
    "# # # optimiser.get_plots(study)\n",
    "# # # domain = Domain('cone_from_source_z_limited', resolution=80)\n",
    "# # # domain.add_domain_param('r', 1000)\n",
    "# # # domain.add_domain_param('theta', np.pi/8)\n",
    "# # # domain.add_domain_param('source', [0,0,10])\n",
    "# # # optimiser.run_best_params(study, domain, name = 'small_scale_3D_plots', prior_plots=prior_plots)"
   ]
  }
 ],
 "metadata": {
  "kernelspec": {
   "display_name": "base",
   "language": "python",
   "name": "python3"
  },
  "language_info": {
   "codemirror_mode": {
    "name": "ipython",
    "version": 3
   },
   "file_extension": ".py",
   "mimetype": "text/x-python",
   "name": "python",
   "nbconvert_exporter": "python",
   "pygments_lexer": "ipython3",
   "version": "3.12.2"
  },
  "orig_nbformat": 4
 },
 "nbformat": 4,
 "nbformat_minor": 2
}
