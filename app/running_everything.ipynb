{
 "cells": [
  {
   "attachments": {},
   "cell_type": "markdown",
   "metadata": {},
   "source": [
    "# Controller #"
   ]
  },
  {
   "attachments": {},
   "cell_type": "markdown",
   "metadata": {},
   "source": [
    "Import all neccessary packages"
   ]
  },
  {
   "cell_type": "code",
   "execution_count": 1,
   "metadata": {},
   "outputs": [
    {
     "name": "stderr",
     "output_type": "stream",
     "text": [
      "No GPU/TPU found, falling back to CPU. (Set TF_CPP_MIN_LOG_LEVEL=0 and rerun for more info.)\n"
     ]
    }
   ],
   "source": [
    "import os\n",
    "import pandas as pd\n",
    "import numpy as np\n",
    "\n",
    "from controllers.inference_controllers.sandbox import Sandbox\n",
    "from controllers.inference_controllers.generator import Generator\n",
    "from controllers.inference_controllers.optimiser import Optimiser\n",
    "\n",
    "from toolboxes.plotting_toolbox.domain import Domain\n",
    "from toolboxes.inference_toolbox.parameter import Parameter\n",
    "from toolboxes.inference_toolbox.model import Model\n",
    "from toolboxes.inference_toolbox.likelihood import Likelihood\n",
    "\n",
    "current_directory = os.getcwd()\n",
    "if current_directory != '/project/':\n",
    "    os.chdir('/project/')"
   ]
  },
  {
   "attachments": {},
   "cell_type": "markdown",
   "metadata": {},
   "source": [
    "Defining simulated data"
   ]
  },
  {
   "cell_type": "code",
   "execution_count": 2,
   "metadata": {},
   "outputs": [],
   "source": [
    "data_params = {\n",
    "    'data_type': 'normalised_data',\n",
    "    'data_select': 'GBR_data',\n",
    "    'normaliser_select': 'GBR_normaliser',\n",
    "    'normaliser_params':{\n",
    "        'experiments_list': [\n",
    "            'Exp1',\n",
    "            'Exp2',\n",
    "            'Exp3',\n",
    "            'Exp4',\n",
    "            'Exp5',\n",
    "            'Exp6',\n",
    "            'Exp7',\n",
    "            'Exp8',\n",
    "            'Exp9',\n",
    "            'Exp10',\n",
    "            'Exp11',\n",
    "            'Exp12',\n",
    "        ],\n",
    "        'meta_data_select': 'GBR_data_summary',\n",
    "        'input_header': 'Concentration'\n",
    "    },\n",
    "    'log':True,\n",
    "    'output_header': 'Concentration',\n",
    "    'gridding': [100,100,25]\n",
    "}\n",
    "\n",
    "prior_plots = [\n",
    "    {\n",
    "        'Q': [1e12, 5e13],\n",
    "        'references':{\n",
    "            'Q' : [2.82e13, 3.11e13, 2.89e13, 4.83e13],\n",
    "            'labels': ['250m','200m','750m','1000m'] \n",
    "        }\n",
    "    },\n",
    "    {\n",
    "        'sigma': [0.001, 4],\n",
    "    },\n",
    "    {\n",
    "        'I_y': [0.0001, 1.7],\n",
    "        'I_z': [0.0001, 1.7],\n",
    "        'references':{\n",
    "            'I_y' : [0.22, 1.6, 0.11, 0.08, 0.06, 0.04],\n",
    "            'I_z' : [0.2, 1.2, 0.08, 0.06, 0.03, 0.016],\n",
    "            'labels': ['A','B','C','D','E','F'] \n",
    "        }\n",
    "    }\n",
    "]\n",
    "\n",
    "results_name = 'GBR_data_gridded_100_100_25'"
   ]
  },
  {
   "cell_type": "markdown",
   "metadata": {},
   "source": [
    "Defining default parameters and prior plots for gamma priors of the simulated data"
   ]
  },
  {
   "cell_type": "code",
   "execution_count": 3,
   "metadata": {},
   "outputs": [],
   "source": [
    "default_params = {\n",
    "    'infered_params':pd.Series({\n",
    "        'model_params':pd.Series({\n",
    "            'I_y_and_I_z': Parameter('I_y','I_z', prior_select='log_norm')\n",
    "                                    .add_prior_param('mu', [0.4,0.4])\n",
    "                                    .add_prior_param('cov', [[0.8,0],[0,0.8]]),\n",
    "            'Q': Parameter('Q', prior_select = 'log_norm', order = 1e13).add_prior_param('mu',3.41).add_prior_param('cov',0.01),\n",
    "        }),\n",
    "        'likelihood_params':pd.Series({\n",
    "            'sigma': Parameter('sigma', prior_select = 'log_norm').add_prior_param('mu', 1.5).add_prior_param('cov',0.7)\n",
    "        })\n",
    "    }),\n",
    "    'model':Model('log_gpm_norm').add_model_param('H',5),\n",
    "    'likelihood': Likelihood('gaussian'),\n",
    "    'sampler': {\n",
    "        'n_samples': 10000,\n",
    "        'n_chains': 3,\n",
    "        'thinning_rate': 1\n",
    "    }\n",
    "}"
   ]
  },
  {
   "attachments": {},
   "cell_type": "markdown",
   "metadata": {},
   "source": [
    "Running a general instance for gamma priors and simulated data"
   ]
  },
  {
   "cell_type": "code",
   "execution_count": 4,
   "metadata": {},
   "outputs": [
    {
     "name": "stdout",
     "output_type": "stream",
     "text": [
      "Loading Chain Samples...\n",
      "Loading Samples...\n",
      "Traceplot 1 already exists\n",
      "Traceplot 2 already exists\n",
      "Traceplot 3 already exists\n",
      "2D slice plot already exists!\n",
      "2D slice plot already exists!\n",
      "2D slice plot already exists!\n",
      "Animation already exist!\n"
     ]
    }
   ],
   "source": [
    "sandbox = Sandbox(results_name=results_name, \n",
    "                  data_params=data_params,\n",
    "                  default_params=default_params)\n",
    "\n",
    "visualiser = sandbox.run()\n",
    "visualiser.get_summary()\n",
    "visualiser.get_traceplot()\n",
    "visualiser.get_autocorrelations()\n",
    "visualiser.get_prior_plots(prior_plots)\n",
    "\n",
    "domain = Domain('cone_from_source_z_limited', resolution=80)\n",
    "domain.add_domain_param('r', 1000)\n",
    "domain.add_domain_param('theta', np.pi/8)\n",
    "domain.add_domain_param('source', [0,0,5])\n",
    "domain.add_domain_param('z_slice', 0)\n",
    "domain.add_domain_param('y_slice', 0)\n",
    "domain.add_domain_param('x_slice', 100)\n",
    "\n",
    "visualiser.visualise_results(domain = domain, plot_type = '2D_slice', name = 'small_scale', title='Log Concentration of Droplets', log_results=False)\n",
    "visualiser.visualise_results(domain = domain, plot_type = '3D', name = 'small_scale', title='Log Concentration of Droplets', log_results=False)"
   ]
  },
  {
   "cell_type": "code",
   "execution_count": 5,
   "metadata": {},
   "outputs": [],
   "source": [
    "default_params = {\n",
    "    'infered_params':pd.Series({\n",
    "        'model_params':pd.Series({\n",
    "            'I_y_and_I_z': Parameter('I_y','I_z', prior_select='log_norm')\n",
    "                                    .add_prior_param('mu', [0.4,0.4])\n",
    "                                    .add_prior_param('cov', [[0.8,0],[0,0.8]]),\n",
    "            'Q': Parameter('Q', prior_select = 'log_norm', order = 1e13).add_prior_param('mu',3.41).add_prior_param('cov',0.01),\n",
    "        }),\n",
    "        'likelihood_params':pd.Series({\n",
    "            'sigma': Parameter('sigma', prior_select = 'log_norm').add_prior_param('mu', 1.5).add_prior_param('cov',0.7)\n",
    "        })\n",
    "    }),\n",
    "    'model':Model('log_gpm_norm').add_model_param('H',5),\n",
    "    'likelihood': Likelihood('gaussian'),\n",
    "    'sampler': {\n",
    "        'n_samples': 10000,\n",
    "        'n_chains': 1,\n",
    "        'thinning_rate': 1\n",
    "    }\n",
    "}"
   ]
  },
  {
   "attachments": {},
   "cell_type": "markdown",
   "metadata": {},
   "source": [
    "Analysing the sensitivity of the gamma prior simulated data"
   ]
  },
  {
   "cell_type": "code",
   "execution_count": 6,
   "metadata": {},
   "outputs": [],
   "source": [
    "# generator = Generator(results_name=results_name, \n",
    "#                   data_params=data_params,\n",
    "#                   default_params=default_params)\n",
    "\n",
    "# analysis_iterations = {\n",
    "#     'parameters_1': ['I_y_and_I_z_mu_0','I_y_and_I_z_mu_1','Q_mu','sigma_mu'],\n",
    "#     'parameters_2': ['I_y_and_I_z_cov_0_0','I_y_and_I_z_cov_1_1','Q_sigma','sigma_sigma'],\n",
    "#     'values_1':\n",
    "#     [\n",
    "#         np.array([1e-4, 1e-3, 1e-2, 1e-1, 1e0, 1e1, 1e2, 1e3, 1e4, 1e5]),\n",
    "#         np.array([1e-4, 1e-3, 1e-2, 1e-1, 1e0, 1e1, 1e2, 1e3, 1e4, 1e5]),\n",
    "#         # np.array([1e9, 1e10, 1e11, 1e12, 1e13, 1e14, 1e15, 1e16, 1e17, 1e18]),\n",
    "#         # np.array([1e-4, 1e-3, 1e-2, 1e-1, 1e0, 1e1, 1e2, 1e3, 1e4, 1e5])     \n",
    "#     ],\n",
    "\n",
    "#     'values_2':\n",
    "#     [\n",
    "#         np.array([1e-4, 1e-3, 1e-2, 1e-1, 1e0, 1e1, 1e2, 1e3, 1e4, 1e5]),\n",
    "#         np.array([1e-4, 1e-3, 1e-2, 1e-1, 1e0, 1e1, 1e2, 1e3, 1e4, 1e5]),\n",
    "#         # np.array([1e7, 1e8, 1e9, 1e10, 1e11, 1e12, 1e13, 1e14, 1e15, 1e16]),\n",
    "#         # np.array([1e-4, 1e-3, 1e-2, 1e-1, 1e0, 1e1, 1e2, 1e3, 1e4, 1e5]) \n",
    "#     ],\n",
    "#     'scales_1': ['log','log', 'log', 'log'],\n",
    "#     'scales_2': ['log','log', 'log', 'log'],\n",
    "# }\n",
    "\n",
    "# for i in range(len(analysis_iterations['parameters_1'])):\n",
    "#     parameter_1 = analysis_iterations['parameters_1'][i]\n",
    "#     parameter_2 = analysis_iterations['parameters_2'][i]\n",
    "\n",
    "#     print('Working on varying ' + parameter_1 + ' and ' + parameter_2 + '...')\n",
    "#     values_1 = analysis_iterations['values_1'][i]\n",
    "#     values_2 = analysis_iterations['values_2'][i]\n",
    "\n",
    "#     scale_1 = analysis_iterations['scales_1'][i]\n",
    "#     scale_2 = analysis_iterations['scales_2'][i]\n",
    "\n",
    "#     inputs = generator.vary_two_parameters(parameter_1, parameter_2, values_1, values_2, scale_1=scale_1, scale_2=scale_2, plot=True)"
   ]
  },
  {
   "attachments": {},
   "cell_type": "markdown",
   "metadata": {},
   "source": [
    "Optimising the hyperparameters for gamma prior simulated data"
   ]
  },
  {
   "cell_type": "code",
   "execution_count": 7,
   "metadata": {},
   "outputs": [
    {
     "name": "stderr",
     "output_type": "stream",
     "text": [
      "[I 2024-03-12 01:05:20,036] A new study created in RDB with name: AIC_3\n",
      "sample: 100%|██████████| 15000/15000 [00:04<00:00, 3384.48it/s, 7 steps of size 6.56e-01. acc. prob=0.90]\n",
      "[I 2024-03-12 01:05:26,856] Trial 0 finished with value: 2509.04931640625 and parameters: {'I_y_and_I_z_mu_0': 1.8346931561471396, 'I_y_and_I_z_mu_1': 0.5114051387332733}. Best is trial 0 with value: 2509.04931640625.\n",
      "sample: 100%|██████████| 15000/15000 [00:04<00:00, 3321.74it/s, 10 steps of size 2.63e-01. acc. prob=0.77]\n",
      "[I 2024-03-12 01:05:31,840] Trial 1 finished with value: 2509.03466796875 and parameters: {'I_y_and_I_z_mu_0': 1.6349182371943114, 'I_y_and_I_z_mu_1': 0.03521465017209284}. Best is trial 1 with value: 2509.03466796875.\n",
      "sample: 100%|██████████| 15000/15000 [00:04<00:00, 3365.13it/s, 7 steps of size 5.75e-01. acc. prob=0.89]\n",
      "[I 2024-03-12 01:05:36,787] Trial 2 finished with value: 2509.084716796875 and parameters: {'I_y_and_I_z_mu_0': 1.2511808301923515, 'I_y_and_I_z_mu_1': 0.9751381656126065}. Best is trial 1 with value: 2509.03466796875.\n",
      "sample: 100%|██████████| 15000/15000 [00:04<00:00, 3065.83it/s, 58 steps of size 6.34e-02. acc. prob=0.90]\n",
      "[I 2024-03-12 01:05:42,135] Trial 3 finished with value: 2509.015869140625 and parameters: {'I_y_and_I_z_mu_0': 0.02221570540015328, 'I_y_and_I_z_mu_1': 0.4855206932989464}. Best is trial 3 with value: 2509.015869140625.\n",
      "sample: 100%|██████████| 15000/15000 [00:04<00:00, 3330.14it/s, 7 steps of size 4.34e-01. acc. prob=0.91]\n",
      "[I 2024-03-12 01:05:47,156] Trial 4 finished with value: 2509.0908203125 and parameters: {'I_y_and_I_z_mu_0': 1.1647990197626426, 'I_y_and_I_z_mu_1': 0.7974646304607135}. Best is trial 3 with value: 2509.015869140625.\n",
      "sample: 100%|██████████| 15000/15000 [00:04<00:00, 3216.75it/s, 15 steps of size 1.96e-01. acc. prob=0.98]\n",
      "[I 2024-03-12 01:05:52,291] Trial 5 finished with value: 2509.037841796875 and parameters: {'I_y_and_I_z_mu_0': 1.349481156949559, 'I_y_and_I_z_mu_1': 1.8757573305584136}. Best is trial 3 with value: 2509.015869140625.\n",
      "sample: 100%|██████████| 15000/15000 [00:04<00:00, 3067.38it/s, 24 steps of size 1.13e-01. acc. prob=0.88]\n",
      "[I 2024-03-12 01:05:57,664] Trial 6 finished with value: 2509.023681640625 and parameters: {'I_y_and_I_z_mu_0': 0.306866860936406, 'I_y_and_I_z_mu_1': 0.8379727241154235}. Best is trial 3 with value: 2509.015869140625.\n",
      "sample: 100%|██████████| 15000/15000 [00:04<00:00, 3439.02it/s, 3 steps of size 8.46e-01. acc. prob=0.89]\n",
      "[I 2024-03-12 01:06:02,520] Trial 7 finished with value: 2509.048828125 and parameters: {'I_y_and_I_z_mu_0': 1.883881022334493, 'I_y_and_I_z_mu_1': 1.4116332920888364}. Best is trial 3 with value: 2509.015869140625.\n",
      "sample: 100%|██████████| 15000/15000 [00:04<00:00, 3232.57it/s, 14 steps of size 2.03e-01. acc. prob=0.81]\n",
      "[I 2024-03-12 01:06:07,674] Trial 8 finished with value: 2509.151611328125 and parameters: {'I_y_and_I_z_mu_0': 0.18464196044159312, 'I_y_and_I_z_mu_1': 0.6328442184975975}. Best is trial 3 with value: 2509.015869140625.\n",
      "sample: 100%|██████████| 15000/15000 [00:04<00:00, 3427.28it/s, 7 steps of size 8.00e-01. acc. prob=0.89]\n",
      "[I 2024-03-12 01:06:12,581] Trial 9 finished with value: 2509.046142578125 and parameters: {'I_y_and_I_z_mu_0': 1.5817040705614651, 'I_y_and_I_z_mu_1': 1.3743313155403043}. Best is trial 3 with value: 2509.015869140625.\n",
      "sample: 100%|██████████| 15000/15000 [00:04<00:00, 3067.30it/s, 12 steps of size 1.04e-01. acc. prob=0.86]\n",
      "[I 2024-03-12 01:06:17,956] Trial 10 finished with value: 2509.01708984375 and parameters: {'I_y_and_I_z_mu_0': 0.7191124196427094, 'I_y_and_I_z_mu_1': 0.11615230528793274}. Best is trial 3 with value: 2509.015869140625.\n",
      "sample: 100%|██████████| 15000/15000 [00:04<00:00, 3046.19it/s, 22 steps of size 9.45e-02. acc. prob=0.87]\n",
      "[I 2024-03-12 01:06:23,379] Trial 11 finished with value: 2509.10693359375 and parameters: {'I_y_and_I_z_mu_0': 0.6214532327845022, 'I_y_and_I_z_mu_1': 0.15662169323839226}. Best is trial 3 with value: 2509.015869140625.\n",
      "sample: 100%|██████████| 15000/15000 [00:05<00:00, 2956.83it/s, 63 steps of size 7.21e-02. acc. prob=0.92]\n",
      "[I 2024-03-12 01:06:28,964] Trial 12 finished with value: 2509.1279296875 and parameters: {'I_y_and_I_z_mu_0': 0.7434282053992395, 'I_y_and_I_z_mu_1': 0.3530003831886045}. Best is trial 3 with value: 2509.015869140625.\n",
      "sample: 100%|██████████| 15000/15000 [00:04<00:00, 3093.05it/s, 25 steps of size 7.44e-02. acc. prob=0.88]\n",
      "[I 2024-03-12 01:06:34,342] Trial 13 finished with value: 2509.172607421875 and parameters: {'I_y_and_I_z_mu_0': 0.024330430282740068, 'I_y_and_I_z_mu_1': 0.26988033262933453}. Best is trial 3 with value: 2509.015869140625.\n",
      "sample: 100%|██████████| 15000/15000 [00:04<00:00, 3176.10it/s, 14 steps of size 1.23e-01. acc. prob=0.83]\n",
      "[I 2024-03-12 01:06:39,573] Trial 14 finished with value: 2509.02001953125 and parameters: {'I_y_and_I_z_mu_0': 0.8316527312904087, 'I_y_and_I_z_mu_1': 0.046934605777187166}. Best is trial 3 with value: 2509.015869140625.\n",
      "sample: 100%|██████████| 15000/15000 [00:10<00:00, 1460.80it/s, 255 steps of size 7.15e-03. acc. prob=0.98]\n",
      "[I 2024-03-12 01:06:50,369] Trial 15 finished with value: 2509.124267578125 and parameters: {'I_y_and_I_z_mu_0': 0.41929388102612913, 'I_y_and_I_z_mu_1': 0.36749447969614557}. Best is trial 3 with value: 2509.015869140625.\n",
      "sample: 100%|██████████| 15000/15000 [00:04<00:00, 3077.57it/s, 14 steps of size 2.46e-01. acc. prob=0.81]\n",
      "[I 2024-03-12 01:06:55,756] Trial 16 finished with value: 2509.122802734375 and parameters: {'I_y_and_I_z_mu_0': 0.5035238198116777, 'I_y_and_I_z_mu_1': 0.4996558591294955}. Best is trial 3 with value: 2509.015869140625.\n",
      "sample: 100%|██████████| 15000/15000 [00:04<00:00, 3053.19it/s, 17 steps of size 8.53e-02. acc. prob=0.86]\n",
      "[I 2024-03-12 01:07:01,184] Trial 17 finished with value: 2509.078125 and parameters: {'I_y_and_I_z_mu_0': 0.011402016475289045, 'I_y_and_I_z_mu_1': 0.20773193419881955}. Best is trial 3 with value: 2509.015869140625.\n",
      "sample: 100%|██████████| 15000/15000 [00:04<00:00, 3251.72it/s, 7 steps of size 3.09e-01. acc. prob=0.88] \n",
      "[I 2024-03-12 01:07:06,316] Trial 18 finished with value: 2509.04638671875 and parameters: {'I_y_and_I_z_mu_0': 0.9799168362930292, 'I_y_and_I_z_mu_1': 0.5932321816764592}. Best is trial 3 with value: 2509.015869140625.\n",
      "sample: 100%|██████████| 15000/15000 [00:04<00:00, 3193.09it/s, 13 steps of size 1.35e-01. acc. prob=0.80]\n",
      "[I 2024-03-12 01:07:11,520] Trial 19 finished with value: 2509.23388671875 and parameters: {'I_y_and_I_z_mu_0': 0.5150548336642158, 'I_y_and_I_z_mu_1': 0.0223246353549732}. Best is trial 3 with value: 2509.015869140625.\n",
      "sample: 100%|██████████| 15000/15000 [00:05<00:00, 2905.67it/s, 58 steps of size 6.34e-02. acc. prob=0.90]\n"
     ]
    }
   ],
   "source": [
    "optimising_parameters = {\n",
    "                    'I_y_and_I_z_mu_0': [1e-2, 2],\n",
    "                    'I_y_and_I_z_mu_1': [1e-2, 2],\n",
    "                    # 'I_y_and_I_z_cov_0_0': [1e-2, 2],\n",
    "                    # 'I_y_and_I_z_cov_1_1': [1e-2, 2],\n",
    "                }\n",
    "\n",
    "optimiser = Optimiser(results_name=results_name, \n",
    "                  data_params=data_params,\n",
    "                  default_params=default_params)\n",
    "\n",
    "# AIC\n",
    "study = optimiser.run(n_trials=20, optimiser_name='AIC_3', optimising_parameters=optimising_parameters, index_name='aic')\n",
    "optimiser.get_plots(study)\n",
    "domain = Domain('cone_from_source_z_limited', resolution=80)\n",
    "domain.add_domain_param('r', 1000)\n",
    "domain.add_domain_param('theta', np.pi/8)\n",
    "domain.add_domain_param('source', [0,0,5])\n",
    "domain.add_domain_param('z_slice', 0)\n",
    "domain.add_domain_param('y_slice', 0)\n",
    "domain.add_domain_param('x_slice', 100)\n",
    "\n",
    "optimiser.run_best_params(study, domain, name = 'small_scale', prior_plots=prior_plots)\n",
    "\n",
    "# # # # RMSE\n",
    "# # # study = optimiser.run(n_trials=100, optimiser_name='RMSE_1', optimising_parameters=optimising_parameters, index_name='rmse')\n",
    "# # # optimiser.get_plots(study)\n",
    "# # # domain = Domain('cone_from_source_z_limited', resolution=80)\n",
    "# # # domain.add_domain_param('r', 1000)\n",
    "# # # domain.add_domain_param('theta', np.pi/8)\n",
    "# # # domain.add_domain_param('source', [0,0,10])\n",
    "# # # optimiser.run_best_params(study, domain, name = 'small_scale_3D_plots', prior_plots=prior_plots)\n",
    "\n",
    "# # # # BIC\n",
    "# # # study = optimiser.run(n_trials=100, optimiser_name='BIC_1', optimising_parameters=optimising_parameters, index_name='bic')\n",
    "# # # optimiser.get_plots(study)\n",
    "# # # domain = Domain('cone_from_source_z_limited', resolution=80)\n",
    "# # # domain.add_domain_param('r', 1000)\n",
    "# # # domain.add_domain_param('theta', np.pi/8)\n",
    "# # # domain.add_domain_param('source', [0,0,10])\n",
    "# # # optimiser.run_best_params(study, domain, name = 'small_scale_3D_plots', prior_plots=prior_plots)"
   ]
  }
 ],
 "metadata": {
  "kernelspec": {
   "display_name": "base",
   "language": "python",
   "name": "python3"
  },
  "language_info": {
   "codemirror_mode": {
    "name": "ipython",
    "version": 3
   },
   "file_extension": ".py",
   "mimetype": "text/x-python",
   "name": "python",
   "nbconvert_exporter": "python",
   "pygments_lexer": "ipython3",
   "version": "3.9.16"
  },
  "orig_nbformat": 4
 },
 "nbformat": 4,
 "nbformat_minor": 2
}
