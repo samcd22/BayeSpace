{
 "cells": [
  {
   "cell_type": "code",
   "execution_count": 1,
   "metadata": {},
   "outputs": [
    {
     "name": "stdout",
     "output_type": "stream",
     "text": [
      "plot\n",
      "Generating grid averages...\n"
     ]
    },
    {
     "name": "stderr",
     "output_type": "stream",
     "text": [
      "/project/toolboxes/data_processing_toolbox/box_gridder.py:105: RuntimeWarning: invalid value encountered in divide\n",
      "  averages = sums/counts\n"
     ]
    }
   ],
   "source": [
    "import numpy as np\n",
    "from toolboxes.data_processing_toolbox.get_data import get_data\n",
    "import os\n",
    "\n",
    "current_directory = os.getcwd()\n",
    "if current_directory != '/project/':\n",
    "    os.chdir('/project/')\n",
    "\n",
    "data_params = {\n",
    "    'data_type': 'normalised_data',\n",
    "    'data_select': 'GBR_data',\n",
    "    'normaliser_select': 'GBR_normaliser',\n",
    "    'normaliser_params':{\n",
    "        'experiments_list': [\n",
    "            'Exp1',\n",
    "            'Exp2',\n",
    "            'Exp3',\n",
    "            'Exp4',\n",
    "            'Exp5',\n",
    "            'Exp6',\n",
    "            'Exp7',\n",
    "            'Exp8',\n",
    "            'Exp9',\n",
    "            'Exp10',\n",
    "            'Exp11',\n",
    "            'Exp12',\n",
    "        ],\n",
    "        'meta_data_select': 'GBR_data_summary',\n",
    "        'input_header': 'Concentration'\n",
    "    },\n",
    "    'log':True,\n",
    "    'output_header': 'Concentration',\n",
    "    'gridding': [200,200,50]\n",
    "}\n",
    "\n",
    "data = get_data(data_params)\n"
   ]
  }
 ],
 "metadata": {
  "kernelspec": {
   "display_name": "base",
   "language": "python",
   "name": "python3"
  },
  "language_info": {
   "codemirror_mode": {
    "name": "ipython",
    "version": 3
   },
   "file_extension": ".py",
   "mimetype": "text/x-python",
   "name": "python",
   "nbconvert_exporter": "python",
   "pygments_lexer": "ipython3",
   "version": "3.9.16"
  },
  "orig_nbformat": 4
 },
 "nbformat": 4,
 "nbformat_minor": 2
}
