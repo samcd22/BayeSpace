{
 "cells": [
  {
   "attachments": {},
   "cell_type": "markdown",
   "metadata": {},
   "source": [
    "# Controller #"
   ]
  },
  {
   "attachments": {},
   "cell_type": "markdown",
   "metadata": {},
   "source": [
    "Import all neccessary packages"
   ]
  },
  {
   "cell_type": "code",
   "execution_count": 1,
   "metadata": {},
   "outputs": [
    {
     "name": "stderr",
     "output_type": "stream",
     "text": [
      "No GPU/TPU found, falling back to CPU. (Set TF_CPP_MIN_LOG_LEVEL=0 and rerun for more info.)\n"
     ]
    }
   ],
   "source": [
    "import os\n",
    "import numpy as np\n",
    "\n",
    "from controllers.GP_controllers.gaussian_processor import GaussianProcessor\n",
    "from toolboxes.plotting_toolbox.domain import Domain\n",
    "\n",
    "\n",
    "current_directory = os.getcwd()\n",
    "if current_directory != '/project/':\n",
    "    os.chdir('/project/')"
   ]
  },
  {
   "attachments": {},
   "cell_type": "markdown",
   "metadata": {},
   "source": [
    "Define how the data is to be generated and what default inputs should be used"
   ]
  },
  {
   "cell_type": "code",
   "execution_count": 2,
   "metadata": {},
   "outputs": [],
   "source": [
    "# data_params = {\n",
    "#     'data_type': 'simulated_data',\n",
    "#     'model': {\n",
    "#         'model_select': 'log_gpm_norm',\n",
    "#         'model_params':{\n",
    "#             'H': 10\n",
    "#         },\n",
    "#         'inference_params':{\n",
    "#             'I_y': 0.1,\n",
    "#             'I_z': 0.1,\n",
    "#             'Q': 3e13\n",
    "#         }\n",
    "#     },\n",
    "#     'domain':{\n",
    "#         'domain_select': 'cone_from_source_z_limited',\n",
    "#         'domain_params': {\n",
    "#             'r': 100,\n",
    "#             'theta': np.pi/8,\n",
    "#             'source': [0,0,10]\n",
    "#         },\n",
    "#         'resolution': 20\n",
    "#     },\n",
    "#     'noise_dist': 'gaussian',\n",
    "#     'noise_level': 1,\n",
    "#     'output_header': 'Concentration',\n",
    "# }\n",
    "\n",
    "data_params = {\n",
    "    'data_type': 'normalised_data',\n",
    "    'data_select': 'GBR_data',\n",
    "    'normaliser_select': 'GBR_normaliser',\n",
    "    'normaliser_params':{\n",
    "        'experiments_list': [\n",
    "            'Exp1',\n",
    "            'Exp2',\n",
    "            'Exp3',\n",
    "            'Exp4',\n",
    "            'Exp5',\n",
    "            'Exp6',\n",
    "            'Exp7',\n",
    "            'Exp8',\n",
    "            'Exp9',\n",
    "            'Exp10',\n",
    "            'Exp11',\n",
    "            'Exp12',\n",
    "        ],\n",
    "        'meta_data_select': 'GBR_data_summary',\n",
    "        'input_header': 'Concentration'\n",
    "    },\n",
    "    'log':True,\n",
    "    'output_header': 'Concentration',\n",
    "    'gridding': [100,100,25]\n",
    "}\n",
    "\n",
    "\n",
    "results_name = 'gridded_GRB_data_100_100_25'"
   ]
  },
  {
   "cell_type": "code",
   "execution_count": 3,
   "metadata": {},
   "outputs": [],
   "source": [
    "gp = GaussianProcessor(results_name=results_name, \n",
    "                  data_params=data_params)\n",
    "\n",
    "domain = Domain('cone_from_source_z_limited', resolution=60)\n",
    "domain.add_domain_param('r', 1000)\n",
    "domain.add_domain_param('theta', np.pi/8)\n",
    "domain.add_domain_param('source', [0,0,10])\n",
    "\n",
    "kernel_type = 'matern_white'\n",
    "name = 'resolution_60'\n",
    "\n",
    "gp.run(kernel_type, domain, name)"
   ]
  }
 ],
 "metadata": {
  "kernelspec": {
   "display_name": "base",
   "language": "python",
   "name": "python3"
  },
  "language_info": {
   "codemirror_mode": {
    "name": "ipython",
    "version": 3
   },
   "file_extension": ".py",
   "mimetype": "text/x-python",
   "name": "python",
   "nbconvert_exporter": "python",
   "pygments_lexer": "ipython3",
   "version": "3.9.16"
  },
  "orig_nbformat": 4
 },
 "nbformat": 4,
 "nbformat_minor": 2
}
