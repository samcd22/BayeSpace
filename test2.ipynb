{
 "cells": [
  {
   "cell_type": "code",
   "execution_count": 3,
   "metadata": {},
   "outputs": [
    {
     "name": "stdout",
     "output_type": "stream",
     "text": [
      "Working on varying I_y_sigma...\n",
      "Generating instance 1...\n"
     ]
    },
    {
     "name": "stderr",
     "output_type": "stream",
     "text": [
      "sample: 100%|██████████| 12500/12500 [00:03<00:00, 3788.68it/s, 3 steps of size 1.74e-10. acc. prob=0.92]\n",
      "sample: 100%|██████████| 12500/12500 [00:02<00:00, 6126.58it/s, 3 steps of size 2.50e-10. acc. prob=0.92]\n",
      "sample: 100%|██████████| 12500/12500 [00:01<00:00, 6360.55it/s, 3 steps of size 6.10e-11. acc. prob=0.91]\n"
     ]
    },
    {
     "name": "stdout",
     "output_type": "stream",
     "text": [
      "Generating instance 2...\n"
     ]
    },
    {
     "name": "stderr",
     "output_type": "stream",
     "text": [
      "sample: 100%|██████████| 12500/12500 [00:03<00:00, 3604.71it/s, 7 steps of size 6.63e-10. acc. prob=0.84]\n",
      "sample: 100%|██████████| 12500/12500 [00:01<00:00, 6417.98it/s, 1 steps of size 4.21e-10. acc. prob=0.90]\n",
      "sample: 100%|██████████| 12500/12500 [00:02<00:00, 6179.05it/s, 3 steps of size 1.47e-09. acc. prob=0.89]\n"
     ]
    },
    {
     "name": "stdout",
     "output_type": "stream",
     "text": [
      "Generating instance 3...\n"
     ]
    },
    {
     "name": "stderr",
     "output_type": "stream",
     "text": [
      "sample: 100%|██████████| 12500/12500 [00:03<00:00, 3703.12it/s, 7 steps of size 2.13e-09. acc. prob=0.84] \n",
      "sample: 100%|██████████| 12500/12500 [00:02<00:00, 6245.69it/s, 1 steps of size 3.94e-09. acc. prob=0.80]\n",
      "sample: 100%|██████████| 12500/12500 [00:44<00:00, 284.03it/s, 127 steps of size 3.43e-11. acc. prob=0.76] \n"
     ]
    },
    {
     "name": "stdout",
     "output_type": "stream",
     "text": [
      "Generating instance 4...\n"
     ]
    },
    {
     "name": "stderr",
     "output_type": "stream",
     "text": [
      "sample: 100%|██████████| 12500/12500 [00:52<00:00, 236.32it/s, 1023 steps of size 3.01e-10. acc. prob=0.81]\n",
      "sample: 100%|██████████| 12500/12500 [00:47<00:00, 261.70it/s, 511 steps of size 1.85e-09. acc. prob=0.79] \n",
      "sample: 100%|██████████| 12500/12500 [00:49<00:00, 252.74it/s, 511 steps of size 8.12e-09. acc. prob=0.81] \n"
     ]
    },
    {
     "name": "stdout",
     "output_type": "stream",
     "text": [
      "Generating instance 5...\n"
     ]
    },
    {
     "name": "stderr",
     "output_type": "stream",
     "text": [
      "sample: 100%|██████████| 12500/12500 [00:49<00:00, 250.21it/s, 1023 steps of size 5.67e-07. acc. prob=0.81]\n",
      "sample: 100%|██████████| 12500/12500 [00:48<00:00, 258.68it/s, 511 steps of size 3.15e-07. acc. prob=0.82] \n",
      "sample: 100%|██████████| 12500/12500 [00:49<00:00, 250.74it/s, 511 steps of size 1.19e-07. acc. prob=0.80] \n"
     ]
    },
    {
     "name": "stdout",
     "output_type": "stream",
     "text": [
      "Generating instance 6...\n"
     ]
    },
    {
     "name": "stderr",
     "output_type": "stream",
     "text": [
      "sample: 100%|██████████| 12500/12500 [00:49<00:00, 251.74it/s, 1023 steps of size 2.46e-05. acc. prob=0.87]\n",
      "sample: 100%|██████████| 12500/12500 [00:47<00:00, 264.31it/s, 511 steps of size 3.50e-05. acc. prob=0.80] \n",
      "sample: 100%|██████████| 12500/12500 [00:48<00:00, 255.83it/s, 1023 steps of size 2.71e-05. acc. prob=0.86]\n"
     ]
    },
    {
     "name": "stdout",
     "output_type": "stream",
     "text": [
      "Generating instance 7...\n"
     ]
    },
    {
     "name": "stderr",
     "output_type": "stream",
     "text": [
      "sample: 100%|██████████| 12500/12500 [00:03<00:00, 3165.43it/s, 7 steps of size 4.51e-01. acc. prob=0.90] \n",
      "sample: 100%|██████████| 12500/12500 [00:02<00:00, 6067.40it/s, 3 steps of size 4.61e-01. acc. prob=0.90]\n",
      "sample: 100%|██████████| 12500/12500 [00:02<00:00, 6110.32it/s, 3 steps of size 4.90e-01. acc. prob=0.89]\n"
     ]
    },
    {
     "name": "stdout",
     "output_type": "stream",
     "text": [
      "Generating instance 8...\n"
     ]
    },
    {
     "name": "stderr",
     "output_type": "stream",
     "text": [
      "sample: 100%|██████████| 12500/12500 [00:03<00:00, 3685.73it/s, 7 steps of size 6.41e-01. acc. prob=0.91]\n",
      "sample: 100%|██████████| 12500/12500 [00:02<00:00, 6003.38it/s, 1 steps of size 7.07e-01. acc. prob=0.89]\n",
      "sample: 100%|██████████| 12500/12500 [00:02<00:00, 5848.36it/s, 3 steps of size 6.24e-01. acc. prob=0.92]\n"
     ]
    },
    {
     "name": "stdout",
     "output_type": "stream",
     "text": [
      "Generating instance 9...\n"
     ]
    },
    {
     "name": "stderr",
     "output_type": "stream",
     "text": [
      "sample: 100%|██████████| 12500/12500 [00:04<00:00, 3056.88it/s, 7 steps of size 5.48e-01. acc. prob=0.91]\n",
      "sample: 100%|██████████| 12500/12500 [00:02<00:00, 5507.10it/s, 1 steps of size 5.71e-01. acc. prob=0.90]\n",
      "sample: 100%|██████████| 12500/12500 [00:02<00:00, 5763.46it/s, 3 steps of size 5.75e-01. acc. prob=0.90]\n"
     ]
    },
    {
     "name": "stdout",
     "output_type": "stream",
     "text": [
      "Generating instance 10...\n"
     ]
    },
    {
     "name": "stderr",
     "output_type": "stream",
     "text": [
      "sample: 100%|██████████| 12500/12500 [00:03<00:00, 3442.40it/s, 7 steps of size 4.63e-01. acc. prob=0.93]\n",
      "sample: 100%|██████████| 12500/12500 [00:02<00:00, 5741.62it/s, 1 steps of size 5.48e-01. acc. prob=0.91] \n",
      "sample: 100%|██████████| 12500/12500 [00:02<00:00, 5752.79it/s, 3 steps of size 5.44e-01. acc. prob=0.91] \n"
     ]
    },
    {
     "name": "stdout",
     "output_type": "stream",
     "text": [
      "Generating instance 11...\n"
     ]
    },
    {
     "name": "stderr",
     "output_type": "stream",
     "text": [
      "sample: 100%|██████████| 12500/12500 [00:03<00:00, 3293.81it/s, 7 steps of size 5.01e-01. acc. prob=0.93]\n",
      "sample: 100%|██████████| 12500/12500 [00:02<00:00, 5439.12it/s, 1 steps of size 5.03e-01. acc. prob=0.92]\n",
      "sample: 100%|██████████| 12500/12500 [00:02<00:00, 5421.64it/s, 3 steps of size 5.49e-01. acc. prob=0.90]\n"
     ]
    },
    {
     "name": "stdout",
     "output_type": "stream",
     "text": [
      "Generating instance 12...\n"
     ]
    },
    {
     "name": "stderr",
     "output_type": "stream",
     "text": [
      "sample: 100%|██████████| 12500/12500 [00:03<00:00, 3505.55it/s, 7 steps of size 4.74e-01. acc. prob=0.93]\n",
      "sample: 100%|██████████| 12500/12500 [00:02<00:00, 5841.32it/s, 3 steps of size 5.09e-01. acc. prob=0.92]\n",
      "sample: 100%|██████████| 12500/12500 [00:02<00:00, 5864.43it/s, 3 steps of size 5.02e-01. acc. prob=0.91]\n"
     ]
    },
    {
     "name": "stdout",
     "output_type": "stream",
     "text": [
      "Generating instance 13...\n"
     ]
    },
    {
     "name": "stderr",
     "output_type": "stream",
     "text": [
      "sample: 100%|██████████| 12500/12500 [00:03<00:00, 3509.85it/s, 7 steps of size 4.86e-01. acc. prob=0.93] \n",
      "sample: 100%|██████████| 12500/12500 [00:02<00:00, 5689.81it/s, 1 steps of size 5.80e-01. acc. prob=0.90]\n",
      "sample: 100%|██████████| 12500/12500 [00:02<00:00, 5886.09it/s, 3 steps of size 5.05e-01. acc. prob=0.92]\n"
     ]
    },
    {
     "name": "stdout",
     "output_type": "stream",
     "text": [
      "Generating instance 14...\n"
     ]
    },
    {
     "name": "stderr",
     "output_type": "stream",
     "text": [
      "sample: 100%|██████████| 12500/12500 [00:03<00:00, 3470.25it/s, 7 steps of size 4.72e-01. acc. prob=0.93]\n",
      "sample: 100%|██████████| 12500/12500 [00:02<00:00, 5889.04it/s, 7 steps of size 6.13e-01. acc. prob=0.88]\n",
      "sample: 100%|██████████| 12500/12500 [00:02<00:00, 5713.13it/s, 3 steps of size 5.07e-01. acc. prob=0.92] \n"
     ]
    },
    {
     "name": "stdout",
     "output_type": "stream",
     "text": [
      "Generating instance 15...\n"
     ]
    },
    {
     "name": "stderr",
     "output_type": "stream",
     "text": [
      "sample: 100%|██████████| 12500/12500 [00:03<00:00, 3551.23it/s, 7 steps of size 5.27e-01. acc. prob=0.91]\n",
      "sample: 100%|██████████| 12500/12500 [00:02<00:00, 6004.96it/s, 3 steps of size 5.48e-01. acc. prob=0.91]\n",
      "sample: 100%|██████████| 12500/12500 [00:02<00:00, 5866.93it/s, 3 steps of size 5.13e-01. acc. prob=0.92] \n"
     ]
    },
    {
     "name": "stdout",
     "output_type": "stream",
     "text": [
      "Generating instance 16...\n"
     ]
    },
    {
     "name": "stderr",
     "output_type": "stream",
     "text": [
      "sample: 100%|██████████| 12500/12500 [00:03<00:00, 3483.24it/s, 7 steps of size 5.35e-01. acc. prob=0.91]\n",
      "sample: 100%|██████████| 12500/12500 [00:02<00:00, 5773.36it/s, 1 steps of size 5.54e-01. acc. prob=0.90]\n",
      "sample: 100%|██████████| 12500/12500 [00:02<00:00, 5739.58it/s, 3 steps of size 5.18e-01. acc. prob=0.92] \n"
     ]
    },
    {
     "name": "stdout",
     "output_type": "stream",
     "text": [
      "Generating instance 17...\n"
     ]
    },
    {
     "name": "stderr",
     "output_type": "stream",
     "text": [
      "sample: 100%|██████████| 12500/12500 [00:03<00:00, 3492.62it/s, 7 steps of size 5.00e-01. acc. prob=0.92]\n",
      "sample: 100%|██████████| 12500/12500 [00:02<00:00, 5742.53it/s, 1 steps of size 5.65e-01. acc. prob=0.90]\n",
      "sample: 100%|██████████| 12500/12500 [00:02<00:00, 5695.44it/s, 3 steps of size 5.01e-01. acc. prob=0.93]\n"
     ]
    },
    {
     "name": "stdout",
     "output_type": "stream",
     "text": [
      "Generating instance 18...\n"
     ]
    },
    {
     "name": "stderr",
     "output_type": "stream",
     "text": [
      "sample: 100%|██████████| 12500/12500 [00:03<00:00, 3518.28it/s, 7 steps of size 4.94e-01. acc. prob=0.93] \n",
      "sample: 100%|██████████| 12500/12500 [00:02<00:00, 5836.57it/s, 3 steps of size 5.23e-01. acc. prob=0.91] \n",
      "sample: 100%|██████████| 12500/12500 [00:02<00:00, 5783.50it/s, 3 steps of size 5.45e-01. acc. prob=0.90] \n"
     ]
    },
    {
     "name": "stdout",
     "output_type": "stream",
     "text": [
      "Generating instance 19...\n"
     ]
    },
    {
     "name": "stderr",
     "output_type": "stream",
     "text": [
      "sample: 100%|██████████| 12500/12500 [00:03<00:00, 3446.89it/s, 7 steps of size 4.60e-01. acc. prob=0.94] \n",
      "sample: 100%|██████████| 12500/12500 [00:02<00:00, 5747.70it/s, 1 steps of size 5.56e-01. acc. prob=0.90]\n",
      "sample: 100%|██████████| 12500/12500 [00:02<00:00, 5692.94it/s, 3 steps of size 5.34e-01. acc. prob=0.91]\n"
     ]
    },
    {
     "name": "stdout",
     "output_type": "stream",
     "text": [
      "Generating instance 20...\n"
     ]
    },
    {
     "name": "stderr",
     "output_type": "stream",
     "text": [
      "sample: 100%|██████████| 12500/12500 [00:03<00:00, 3507.02it/s, 7 steps of size 4.95e-01. acc. prob=0.92] \n",
      "sample: 100%|██████████| 12500/12500 [00:02<00:00, 5713.41it/s, 1 steps of size 4.98e-01. acc. prob=0.93]\n",
      "sample: 100%|██████████| 12500/12500 [00:02<00:00, 5753.33it/s, 3 steps of size 5.41e-01. acc. prob=0.91] \n"
     ]
    },
    {
     "name": "stdout",
     "output_type": "stream",
     "text": [
      "Generating instance 21...\n"
     ]
    },
    {
     "name": "stderr",
     "output_type": "stream",
     "text": [
      "sample: 100%|██████████| 12500/12500 [00:03<00:00, 3553.87it/s, 7 steps of size 5.57e-01. acc. prob=0.90]\n",
      "sample: 100%|██████████| 12500/12500 [00:02<00:00, 5597.65it/s, 1 steps of size 5.50e-01. acc. prob=0.91] \n",
      "sample: 100%|██████████| 12500/12500 [00:02<00:00, 5757.71it/s, 3 steps of size 5.68e-01. acc. prob=0.89]\n"
     ]
    },
    {
     "name": "stdout",
     "output_type": "stream",
     "text": [
      "Working on varying I_z_sigma...\n",
      "Generating instance 1...\n"
     ]
    },
    {
     "name": "stderr",
     "output_type": "stream",
     "text": [
      "sample: 100%|██████████| 12500/12500 [00:03<00:00, 3762.34it/s, 1 steps of size 2.03e-09. acc. prob=0.92]\n",
      "sample: 100%|██████████| 12500/12500 [00:01<00:00, 6360.83it/s, 3 steps of size 6.75e-10. acc. prob=0.91]\n",
      "sample: 100%|██████████| 12500/12500 [00:01<00:00, 6530.00it/s, 1 steps of size 4.96e-11. acc. prob=0.92]\n"
     ]
    },
    {
     "name": "stdout",
     "output_type": "stream",
     "text": [
      "Generating instance 2...\n"
     ]
    },
    {
     "name": "stderr",
     "output_type": "stream",
     "text": [
      "sample: 100%|██████████| 12500/12500 [00:03<00:00, 3663.56it/s, 7 steps of size 9.13e-09. acc. prob=0.88]\n",
      "sample: 100%|██████████| 12500/12500 [00:02<00:00, 5937.52it/s, 15 steps of size 1.93e-10. acc. prob=0.87]\n",
      "sample: 100%|██████████| 12500/12500 [00:02<00:00, 6189.70it/s, 1 steps of size 2.59e-10. acc. prob=0.89]\n"
     ]
    },
    {
     "name": "stdout",
     "output_type": "stream",
     "text": [
      "Generating instance 3...\n"
     ]
    },
    {
     "name": "stderr",
     "output_type": "stream",
     "text": [
      "sample: 100%|██████████| 12500/12500 [00:11<00:00, 1042.83it/s, 31 steps of size 9.75e-10. acc. prob=0.77] \n",
      "sample: 100%|██████████| 12500/12500 [00:02<00:00, 5646.75it/s, 1 steps of size 2.60e-09. acc. prob=0.85] \n",
      "sample: 100%|██████████| 12500/12500 [00:41<00:00, 299.57it/s, 255 steps of size 3.20e-11. acc. prob=0.77] \n"
     ]
    },
    {
     "name": "stdout",
     "output_type": "stream",
     "text": [
      "Generating instance 4...\n"
     ]
    },
    {
     "name": "stderr",
     "output_type": "stream",
     "text": [
      "sample: 100%|██████████| 12500/12500 [00:49<00:00, 253.10it/s, 1023 steps of size 5.39e-09. acc. prob=0.82]\n",
      "sample: 100%|██████████| 12500/12500 [00:49<00:00, 252.87it/s, 255 steps of size 3.25e-10. acc. prob=0.77] \n",
      "sample: 100%|██████████| 12500/12500 [00:51<00:00, 244.56it/s, 1023 steps of size 3.71e-09. acc. prob=0.84]\n"
     ]
    },
    {
     "name": "stdout",
     "output_type": "stream",
     "text": [
      "Generating instance 5...\n"
     ]
    },
    {
     "name": "stderr",
     "output_type": "stream",
     "text": [
      "sample: 100%|██████████| 12500/12500 [00:50<00:00, 245.71it/s, 1023 steps of size 1.30e-07. acc. prob=0.82]\n",
      "sample: 100%|██████████| 12500/12500 [00:48<00:00, 255.69it/s, 255 steps of size 1.20e-08. acc. prob=0.77] \n",
      "sample: 100%|██████████| 12500/12500 [00:49<00:00, 253.81it/s, 1023 steps of size 7.75e-08. acc. prob=0.78]\n"
     ]
    },
    {
     "name": "stdout",
     "output_type": "stream",
     "text": [
      "Generating instance 6...\n"
     ]
    },
    {
     "name": "stderr",
     "output_type": "stream",
     "text": [
      "sample: 100%|██████████| 12500/12500 [00:50<00:00, 246.62it/s, 1023 steps of size 1.94e-06. acc. prob=0.83]\n",
      "sample: 100%|██████████| 12500/12500 [00:50<00:00, 249.56it/s, 255 steps of size 3.12e-06. acc. prob=0.77] \n",
      "sample: 100%|██████████| 12500/12500 [00:51<00:00, 241.55it/s, 1023 steps of size 2.85e-05. acc. prob=0.84]\n"
     ]
    },
    {
     "name": "stdout",
     "output_type": "stream",
     "text": [
      "Generating instance 7...\n"
     ]
    },
    {
     "name": "stderr",
     "output_type": "stream",
     "text": [
      "sample: 100%|██████████| 12500/12500 [00:03<00:00, 3523.66it/s, 3 steps of size 4.24e-01. acc. prob=0.90]\n",
      "sample: 100%|██████████| 12500/12500 [00:02<00:00, 5893.92it/s, 7 steps of size 4.89e-01. acc. prob=0.88]\n",
      "sample: 100%|██████████| 12500/12500 [00:02<00:00, 5770.55it/s, 3 steps of size 4.08e-01. acc. prob=0.91] \n"
     ]
    },
    {
     "name": "stdout",
     "output_type": "stream",
     "text": [
      "Generating instance 8...\n"
     ]
    },
    {
     "name": "stderr",
     "output_type": "stream",
     "text": [
      "sample: 100%|██████████| 12500/12500 [00:03<00:00, 3560.39it/s, 7 steps of size 5.22e-01. acc. prob=0.93] \n",
      "sample: 100%|██████████| 12500/12500 [00:02<00:00, 5822.15it/s, 1 steps of size 5.99e-01. acc. prob=0.91]\n",
      "sample: 100%|██████████| 12500/12500 [00:02<00:00, 5899.12it/s, 3 steps of size 5.46e-01. acc. prob=0.93]\n"
     ]
    },
    {
     "name": "stdout",
     "output_type": "stream",
     "text": [
      "Generating instance 9...\n"
     ]
    },
    {
     "name": "stderr",
     "output_type": "stream",
     "text": [
      "sample: 100%|██████████| 12500/12500 [00:03<00:00, 3692.23it/s, 7 steps of size 4.75e-01. acc. prob=0.93]\n",
      "sample: 100%|██████████| 12500/12500 [00:02<00:00, 6148.34it/s, 1 steps of size 5.83e-01. acc. prob=0.90] \n",
      "sample: 100%|██████████| 12500/12500 [00:02<00:00, 5978.01it/s, 3 steps of size 5.14e-01. acc. prob=0.92] \n"
     ]
    },
    {
     "name": "stdout",
     "output_type": "stream",
     "text": [
      "Generating instance 10...\n"
     ]
    },
    {
     "name": "stderr",
     "output_type": "stream",
     "text": [
      "sample: 100%|██████████| 12500/12500 [00:03<00:00, 3613.46it/s, 7 steps of size 4.92e-01. acc. prob=0.93]\n",
      "sample: 100%|██████████| 12500/12500 [00:02<00:00, 5787.40it/s, 1 steps of size 5.96e-01. acc. prob=0.89]\n",
      "sample: 100%|██████████| 12500/12500 [00:02<00:00, 5719.73it/s, 3 steps of size 5.33e-01. acc. prob=0.92] \n"
     ]
    },
    {
     "name": "stdout",
     "output_type": "stream",
     "text": [
      "Generating instance 11...\n"
     ]
    },
    {
     "name": "stderr",
     "output_type": "stream",
     "text": [
      "sample: 100%|██████████| 12500/12500 [00:03<00:00, 3533.70it/s, 7 steps of size 5.07e-01. acc. prob=0.92]\n",
      "sample: 100%|██████████| 12500/12500 [00:02<00:00, 5894.56it/s, 1 steps of size 4.90e-01. acc. prob=0.93] \n",
      "sample: 100%|██████████| 12500/12500 [00:02<00:00, 5746.92it/s, 3 steps of size 4.79e-01. acc. prob=0.93] \n"
     ]
    },
    {
     "name": "stdout",
     "output_type": "stream",
     "text": [
      "Generating instance 12...\n"
     ]
    },
    {
     "name": "stderr",
     "output_type": "stream",
     "text": [
      "sample: 100%|██████████| 12500/12500 [00:03<00:00, 3636.17it/s, 7 steps of size 5.17e-01. acc. prob=0.92] \n",
      "sample: 100%|██████████| 12500/12500 [00:02<00:00, 5992.25it/s, 1 steps of size 5.23e-01. acc. prob=0.92]\n",
      "sample: 100%|██████████| 12500/12500 [00:02<00:00, 5822.04it/s, 3 steps of size 5.18e-01. acc. prob=0.92]\n"
     ]
    },
    {
     "name": "stdout",
     "output_type": "stream",
     "text": [
      "Generating instance 13...\n"
     ]
    },
    {
     "name": "stderr",
     "output_type": "stream",
     "text": [
      "sample: 100%|██████████| 12500/12500 [00:03<00:00, 3560.00it/s, 7 steps of size 5.39e-01. acc. prob=0.91]\n",
      "sample: 100%|██████████| 12500/12500 [00:02<00:00, 5857.22it/s, 1 steps of size 5.08e-01. acc. prob=0.92]\n",
      "sample: 100%|██████████| 12500/12500 [00:02<00:00, 6051.21it/s, 3 steps of size 5.47e-01. acc. prob=0.90] \n"
     ]
    },
    {
     "name": "stdout",
     "output_type": "stream",
     "text": [
      "Generating instance 14...\n"
     ]
    },
    {
     "name": "stderr",
     "output_type": "stream",
     "text": [
      "sample: 100%|██████████| 12500/12500 [00:03<00:00, 3592.69it/s, 7 steps of size 4.69e-01. acc. prob=0.93] \n",
      "sample: 100%|██████████| 12500/12500 [00:02<00:00, 6034.55it/s, 1 steps of size 6.02e-01. acc. prob=0.89]\n",
      "sample: 100%|██████████| 12500/12500 [00:02<00:00, 5923.87it/s, 3 steps of size 5.28e-01. acc. prob=0.92] \n"
     ]
    },
    {
     "name": "stdout",
     "output_type": "stream",
     "text": [
      "Generating instance 15...\n"
     ]
    },
    {
     "name": "stderr",
     "output_type": "stream",
     "text": [
      "sample: 100%|██████████| 12500/12500 [00:03<00:00, 3575.35it/s, 7 steps of size 5.16e-01. acc. prob=0.92] \n",
      "sample: 100%|██████████| 12500/12500 [00:02<00:00, 5861.14it/s, 1 steps of size 4.67e-01. acc. prob=0.94] \n",
      "sample: 100%|██████████| 12500/12500 [00:02<00:00, 5913.59it/s, 3 steps of size 5.06e-01. acc. prob=0.92] \n"
     ]
    },
    {
     "name": "stdout",
     "output_type": "stream",
     "text": [
      "Generating instance 16...\n"
     ]
    },
    {
     "name": "stderr",
     "output_type": "stream",
     "text": [
      "sample: 100%|██████████| 12500/12500 [00:03<00:00, 3570.37it/s, 7 steps of size 4.96e-01. acc. prob=0.92]\n",
      "sample: 100%|██████████| 12500/12500 [00:02<00:00, 6020.62it/s, 1 steps of size 5.18e-01. acc. prob=0.92]\n",
      "sample: 100%|██████████| 12500/12500 [00:02<00:00, 6225.76it/s, 3 steps of size 6.04e-01. acc. prob=0.88]\n"
     ]
    },
    {
     "name": "stdout",
     "output_type": "stream",
     "text": [
      "Generating instance 17...\n"
     ]
    },
    {
     "name": "stderr",
     "output_type": "stream",
     "text": [
      "sample: 100%|██████████| 12500/12500 [00:03<00:00, 3689.73it/s, 7 steps of size 5.27e-01. acc. prob=0.91]\n",
      "sample: 100%|██████████| 12500/12500 [00:02<00:00, 6144.30it/s, 7 steps of size 6.02e-01. acc. prob=0.88]\n",
      "sample: 100%|██████████| 12500/12500 [00:02<00:00, 6041.48it/s, 3 steps of size 5.05e-01. acc. prob=0.93] \n"
     ]
    },
    {
     "name": "stdout",
     "output_type": "stream",
     "text": [
      "Generating instance 18...\n"
     ]
    },
    {
     "name": "stderr",
     "output_type": "stream",
     "text": [
      "sample: 100%|██████████| 12500/12500 [00:03<00:00, 3752.70it/s, 7 steps of size 5.06e-01. acc. prob=0.92]\n",
      "sample: 100%|██████████| 12500/12500 [00:02<00:00, 6147.99it/s, 3 steps of size 5.28e-01. acc. prob=0.92] \n",
      "sample: 100%|██████████| 12500/12500 [00:02<00:00, 6051.79it/s, 3 steps of size 5.05e-01. acc. prob=0.92] \n"
     ]
    },
    {
     "name": "stdout",
     "output_type": "stream",
     "text": [
      "Generating instance 19...\n"
     ]
    },
    {
     "name": "stderr",
     "output_type": "stream",
     "text": [
      "sample: 100%|██████████| 12500/12500 [00:03<00:00, 3504.83it/s, 7 steps of size 5.02e-01. acc. prob=0.92]\n",
      "sample: 100%|██████████| 12500/12500 [00:02<00:00, 5721.75it/s, 1 steps of size 5.21e-01. acc. prob=0.92] \n",
      "sample: 100%|██████████| 12500/12500 [00:02<00:00, 5930.98it/s, 3 steps of size 5.19e-01. acc. prob=0.92] \n"
     ]
    },
    {
     "name": "stdout",
     "output_type": "stream",
     "text": [
      "Generating instance 20...\n"
     ]
    },
    {
     "name": "stderr",
     "output_type": "stream",
     "text": [
      "sample: 100%|██████████| 12500/12500 [00:03<00:00, 3658.68it/s, 7 steps of size 4.95e-01. acc. prob=0.93]\n",
      "sample: 100%|██████████| 12500/12500 [00:02<00:00, 6014.31it/s, 1 steps of size 4.84e-01. acc. prob=0.93]\n",
      "sample: 100%|██████████| 12500/12500 [00:02<00:00, 6122.90it/s, 3 steps of size 5.12e-01. acc. prob=0.92]\n"
     ]
    },
    {
     "name": "stdout",
     "output_type": "stream",
     "text": [
      "Generating instance 21...\n"
     ]
    },
    {
     "name": "stderr",
     "output_type": "stream",
     "text": [
      "sample: 100%|██████████| 12500/12500 [00:03<00:00, 3726.73it/s, 7 steps of size 5.32e-01. acc. prob=0.91] \n",
      "sample: 100%|██████████| 12500/12500 [00:02<00:00, 6154.26it/s, 1 steps of size 5.70e-01. acc. prob=0.89]\n",
      "sample: 100%|██████████| 12500/12500 [00:02<00:00, 6161.12it/s, 3 steps of size 5.53e-01. acc. prob=0.90]\n"
     ]
    },
    {
     "name": "stdout",
     "output_type": "stream",
     "text": [
      "Working on varying Q_sigma...\n",
      "Generating instance 1...\n"
     ]
    },
    {
     "name": "stderr",
     "output_type": "stream",
     "text": [
      "sample: 100%|██████████| 12500/12500 [00:03<00:00, 3985.58it/s, 1 steps of size 2.83e-15. acc. prob=0.92]\n",
      "sample: 100%|██████████| 12500/12500 [00:01<00:00, 6690.11it/s, 3 steps of size 1.72e-15. acc. prob=0.92]\n",
      "sample: 100%|██████████| 12500/12500 [00:01<00:00, 6781.48it/s, 1 steps of size 6.46e-15. acc. prob=0.92]\n"
     ]
    },
    {
     "name": "stdout",
     "output_type": "stream",
     "text": [
      "Generating instance 2...\n"
     ]
    },
    {
     "name": "stderr",
     "output_type": "stream",
     "text": [
      "sample: 100%|██████████| 12500/12500 [00:03<00:00, 3955.28it/s, 3 steps of size 2.99e-14. acc. prob=0.92]\n",
      "sample: 100%|██████████| 12500/12500 [00:01<00:00, 6512.21it/s, 3 steps of size 3.04e-13. acc. prob=0.92]\n",
      "sample: 100%|██████████| 12500/12500 [00:01<00:00, 6663.45it/s, 3 steps of size 4.81e-14. acc. prob=0.92]\n"
     ]
    },
    {
     "name": "stdout",
     "output_type": "stream",
     "text": [
      "Generating instance 3...\n"
     ]
    },
    {
     "name": "stderr",
     "output_type": "stream",
     "text": [
      "sample: 100%|██████████| 12500/12500 [00:03<00:00, 3987.65it/s, 3 steps of size 6.30e-11. acc. prob=0.92]\n",
      "sample: 100%|██████████| 12500/12500 [00:01<00:00, 6743.94it/s, 1 steps of size 4.63e-13. acc. prob=0.92]\n",
      "sample: 100%|██████████| 12500/12500 [00:01<00:00, 6732.78it/s, 3 steps of size 5.75e-13. acc. prob=0.92]\n"
     ]
    },
    {
     "name": "stdout",
     "output_type": "stream",
     "text": [
      "Generating instance 4...\n"
     ]
    },
    {
     "name": "stderr",
     "output_type": "stream",
     "text": [
      "sample: 100%|██████████| 12500/12500 [00:03<00:00, 4012.63it/s, 3 steps of size 2.10e-12. acc. prob=0.92]\n",
      "sample: 100%|██████████| 12500/12500 [00:01<00:00, 6791.54it/s, 1 steps of size 2.51e-12. acc. prob=0.92]\n",
      "sample: 100%|██████████| 12500/12500 [00:01<00:00, 6701.02it/s, 3 steps of size 3.06e-12. acc. prob=0.92]\n"
     ]
    },
    {
     "name": "stdout",
     "output_type": "stream",
     "text": [
      "Generating instance 5...\n"
     ]
    },
    {
     "name": "stderr",
     "output_type": "stream",
     "text": [
      "sample: 100%|██████████| 12500/12500 [00:03<00:00, 3933.10it/s, 1 steps of size 1.66e-11. acc. prob=0.92]\n",
      "sample: 100%|██████████| 12500/12500 [00:01<00:00, 6635.11it/s, 3 steps of size 1.71e-11. acc. prob=0.92]\n",
      "sample: 100%|██████████| 12500/12500 [00:01<00:00, 6755.38it/s, 1 steps of size 7.16e-11. acc. prob=0.00]\n"
     ]
    },
    {
     "name": "stdout",
     "output_type": "stream",
     "text": [
      "Generating instance 6...\n"
     ]
    },
    {
     "name": "stderr",
     "output_type": "stream",
     "text": [
      "sample: 100%|██████████| 12500/12500 [00:03<00:00, 3711.59it/s, 3 steps of size 4.12e-10. acc. prob=0.91]\n",
      "sample: 100%|██████████| 12500/12500 [00:48<00:00, 255.50it/s, 255 steps of size 3.37e-15. acc. prob=0.84] \n",
      "sample: 100%|██████████| 12500/12500 [00:01<00:00, 6647.92it/s, 1 steps of size 1.77e-10. acc. prob=0.91]\n"
     ]
    },
    {
     "name": "stdout",
     "output_type": "stream",
     "text": [
      "Generating instance 7...\n"
     ]
    },
    {
     "name": "stderr",
     "output_type": "stream",
     "text": [
      "sample: 100%|██████████| 12500/12500 [00:03<00:00, 3592.42it/s, 7 steps of size 1.54e-09. acc. prob=0.93]\n",
      "sample: 100%|██████████| 12500/12500 [00:01<00:00, 6345.28it/s, 7 steps of size 1.16e-09. acc. prob=0.91]\n",
      "sample: 100%|██████████| 12500/12500 [00:01<00:00, 6319.83it/s, 3 steps of size 1.38e-09. acc. prob=0.90]\n"
     ]
    },
    {
     "name": "stdout",
     "output_type": "stream",
     "text": [
      "Generating instance 8...\n"
     ]
    },
    {
     "name": "stderr",
     "output_type": "stream",
     "text": [
      "sample: 100%|██████████| 12500/12500 [00:55<00:00, 224.86it/s, 1023 steps of size 9.96e-11. acc. prob=0.81]\n",
      "sample: 100%|██████████| 12500/12500 [00:50<00:00, 249.09it/s, 255 steps of size 7.11e-11. acc. prob=0.87] \n",
      "sample: 100%|██████████| 12500/12500 [00:48<00:00, 256.07it/s, 1023 steps of size 8.86e-11. acc. prob=0.85]\n"
     ]
    },
    {
     "name": "stdout",
     "output_type": "stream",
     "text": [
      "Generating instance 9...\n"
     ]
    },
    {
     "name": "stderr",
     "output_type": "stream",
     "text": [
      "sample: 100%|██████████| 12500/12500 [00:52<00:00, 239.66it/s, 1023 steps of size 7.24e-10. acc. prob=0.81]\n",
      "sample: 100%|██████████| 12500/12500 [00:50<00:00, 249.28it/s, 255 steps of size 1.72e-09. acc. prob=0.84] \n",
      "sample: 100%|██████████| 12500/12500 [00:52<00:00, 238.43it/s, 1023 steps of size 7.88e-10. acc. prob=0.79]\n"
     ]
    },
    {
     "name": "stdout",
     "output_type": "stream",
     "text": [
      "Generating instance 10...\n"
     ]
    },
    {
     "name": "stderr",
     "output_type": "stream",
     "text": [
      "sample: 100%|██████████| 12500/12500 [00:50<00:00, 245.95it/s, 1023 steps of size 2.14e-07. acc. prob=0.81]\n",
      "sample: 100%|██████████| 12500/12500 [00:49<00:00, 253.00it/s, 255 steps of size 1.20e-06. acc. prob=0.84] \n",
      "sample: 100%|██████████| 12500/12500 [00:50<00:00, 248.56it/s, 1023 steps of size 4.79e-08. acc. prob=0.81]\n"
     ]
    },
    {
     "name": "stdout",
     "output_type": "stream",
     "text": [
      "Generating instance 11...\n"
     ]
    },
    {
     "name": "stderr",
     "output_type": "stream",
     "text": [
      "sample: 100%|██████████| 12500/12500 [00:51<00:00, 243.17it/s, 1023 steps of size 2.18e-06. acc. prob=0.81]\n",
      "sample: 100%|██████████| 12500/12500 [00:49<00:00, 253.72it/s, 255 steps of size 1.82e-05. acc. prob=0.77] \n",
      "sample: 100%|██████████| 12500/12500 [00:49<00:00, 251.03it/s, 1023 steps of size 3.87e-05. acc. prob=0.81]\n"
     ]
    },
    {
     "name": "stdout",
     "output_type": "stream",
     "text": [
      "Generating instance 12...\n"
     ]
    },
    {
     "name": "stderr",
     "output_type": "stream",
     "text": [
      "sample: 100%|██████████| 12500/12500 [00:03<00:00, 3676.59it/s, 3 steps of size 6.62e-01. acc. prob=0.91]\n",
      "sample: 100%|██████████| 12500/12500 [00:01<00:00, 6377.24it/s, 7 steps of size 7.00e-01. acc. prob=0.91]\n",
      "sample: 100%|██████████| 12500/12500 [00:01<00:00, 6338.27it/s, 3 steps of size 7.17e-01. acc. prob=0.91]\n"
     ]
    },
    {
     "name": "stdout",
     "output_type": "stream",
     "text": [
      "Generating instance 13...\n"
     ]
    },
    {
     "name": "stderr",
     "output_type": "stream",
     "text": [
      "sample: 100%|██████████| 12500/12500 [00:03<00:00, 3877.20it/s, 3 steps of size 8.27e-01. acc. prob=0.89]\n",
      "sample: 100%|██████████| 12500/12500 [00:02<00:00, 6193.80it/s, 7 steps of size 7.74e-01. acc. prob=0.90]\n",
      "sample: 100%|██████████| 12500/12500 [00:01<00:00, 6365.26it/s, 3 steps of size 8.71e-01. acc. prob=0.88]\n"
     ]
    },
    {
     "name": "stdout",
     "output_type": "stream",
     "text": [
      "Generating instance 14...\n"
     ]
    },
    {
     "name": "stderr",
     "output_type": "stream",
     "text": [
      "sample: 100%|██████████| 12500/12500 [00:03<00:00, 3734.16it/s, 7 steps of size 5.33e-01. acc. prob=0.91]\n",
      "sample: 100%|██████████| 12500/12500 [00:02<00:00, 6037.30it/s, 1 steps of size 4.98e-01. acc. prob=0.93] \n",
      "sample: 100%|██████████| 12500/12500 [00:02<00:00, 6091.21it/s, 3 steps of size 5.02e-01. acc. prob=0.92]\n"
     ]
    },
    {
     "name": "stdout",
     "output_type": "stream",
     "text": [
      "Generating instance 15...\n"
     ]
    },
    {
     "name": "stderr",
     "output_type": "stream",
     "text": [
      "sample: 100%|██████████| 12500/12500 [00:03<00:00, 3738.29it/s, 7 steps of size 4.35e-01. acc. prob=0.94] \n",
      "sample: 100%|██████████| 12500/12500 [00:02<00:00, 6047.85it/s, 3 steps of size 4.76e-01. acc. prob=0.93]\n",
      "sample: 100%|██████████| 12500/12500 [00:02<00:00, 5899.82it/s, 3 steps of size 4.60e-01. acc. prob=0.93] \n"
     ]
    },
    {
     "name": "stdout",
     "output_type": "stream",
     "text": [
      "Generating instance 16...\n"
     ]
    },
    {
     "name": "stderr",
     "output_type": "stream",
     "text": [
      "sample: 100%|██████████| 12500/12500 [00:03<00:00, 3678.41it/s, 7 steps of size 5.00e-01. acc. prob=0.92]\n",
      "sample: 100%|██████████| 12500/12500 [00:02<00:00, 5691.49it/s, 3 steps of size 4.98e-01. acc. prob=0.92]\n",
      "sample: 100%|██████████| 12500/12500 [00:02<00:00, 5591.07it/s, 1 steps of size 4.53e-01. acc. prob=0.93]\n"
     ]
    },
    {
     "name": "stdout",
     "output_type": "stream",
     "text": [
      "Generating instance 17...\n"
     ]
    },
    {
     "name": "stderr",
     "output_type": "stream",
     "text": [
      "sample: 100%|██████████| 12500/12500 [00:03<00:00, 3779.55it/s, 7 steps of size 5.05e-01. acc. prob=0.92] \n",
      "sample: 100%|██████████| 12500/12500 [00:02<00:00, 5950.05it/s, 1 steps of size 5.31e-01. acc. prob=0.91] \n",
      "sample: 100%|██████████| 12500/12500 [00:02<00:00, 5955.74it/s, 3 steps of size 5.61e-01. acc. prob=0.89] \n"
     ]
    },
    {
     "name": "stdout",
     "output_type": "stream",
     "text": [
      "Generating instance 18...\n"
     ]
    },
    {
     "name": "stderr",
     "output_type": "stream",
     "text": [
      "sample: 100%|██████████| 12500/12500 [00:03<00:00, 3731.54it/s, 7 steps of size 5.09e-01. acc. prob=0.91]\n",
      "sample: 100%|██████████| 12500/12500 [00:02<00:00, 6192.49it/s, 1 steps of size 5.48e-01. acc. prob=0.89]\n",
      "sample: 100%|██████████| 12500/12500 [00:02<00:00, 5316.59it/s, 3 steps of size 4.77e-01. acc. prob=0.93] \n"
     ]
    },
    {
     "name": "stdout",
     "output_type": "stream",
     "text": [
      "Generating instance 19...\n"
     ]
    },
    {
     "name": "stderr",
     "output_type": "stream",
     "text": [
      "sample: 100%|██████████| 12500/12500 [00:03<00:00, 3649.68it/s, 7 steps of size 5.15e-01. acc. prob=0.91] \n",
      "sample: 100%|██████████| 12500/12500 [00:02<00:00, 6204.29it/s, 1 steps of size 5.42e-01. acc. prob=0.90]\n",
      "sample: 100%|██████████| 12500/12500 [00:02<00:00, 6060.01it/s, 3 steps of size 4.95e-01. acc. prob=0.92] \n"
     ]
    },
    {
     "name": "stdout",
     "output_type": "stream",
     "text": [
      "Generating instance 20...\n"
     ]
    },
    {
     "name": "stderr",
     "output_type": "stream",
     "text": [
      "sample: 100%|██████████| 12500/12500 [00:03<00:00, 3801.77it/s, 7 steps of size 4.72e-01. acc. prob=0.92]\n",
      "sample: 100%|██████████| 12500/12500 [00:02<00:00, 6248.57it/s, 1 steps of size 5.26e-01. acc. prob=0.91]\n",
      "sample: 100%|██████████| 12500/12500 [00:02<00:00, 6181.01it/s, 3 steps of size 4.99e-01. acc. prob=0.91]\n"
     ]
    },
    {
     "name": "stdout",
     "output_type": "stream",
     "text": [
      "Generating instance 21...\n"
     ]
    },
    {
     "name": "stderr",
     "output_type": "stream",
     "text": [
      "sample: 100%|██████████| 12500/12500 [00:03<00:00, 3741.14it/s, 7 steps of size 5.03e-01. acc. prob=0.92] \n",
      "sample: 100%|██████████| 12500/12500 [00:01<00:00, 6318.52it/s, 15 steps of size 5.87e-01. acc. prob=0.88]\n",
      "sample: 100%|██████████| 12500/12500 [00:02<00:00, 6104.75it/s, 3 steps of size 4.76e-01. acc. prob=0.93] \n"
     ]
    }
   ],
   "source": [
    "from generator import Generator\n",
    "import os\n",
    "import numpy as np\n",
    "current_directory = os.getcwd()\n",
    "if current_directory != '/project/':\n",
    "    os.chdir('/project/')\n",
    "\n",
    "analysis_iterations = {\n",
    "    'parameters':\n",
    "    [\n",
    "        'I_y_mu', \n",
    "        'I_z_mu',\n",
    "        'Q_mu'\n",
    "    ],\n",
    "    'values':\n",
    "    [\n",
    "        np.array([1e-10, 1e-9, 1e-8, 1e-7, 1e-6, 1e-5, 1e-4, 1e-3, 1e-2, 1e-1, 1, 10, 100, 1000, 10000, 100000, 1000000, 1e7, 1e8, 1e9, 1e10]),\n",
    "        np.array([1e-10, 1e-9, 1e-8, 1e-7, 1e-6, 1e-5, 1e-4, 1e-3, 1e-2, 1e-1, 1, 10, 100, 1000, 10000, 100000, 1000000, 1e7, 1e8, 1e9, 1e10]),\n",
    "        np.array([1e0, 1e1, 1e2, 1e3, 1e4, 1e5, 1e6, 1e7, 1e8, 1e9, 1e10, 1e11, 1e12, 1e13, 1e14, 1e15, 1e16, 1e17, 1e18, 1e19, 1e20])\n",
    "                 \n",
    "    ]\n",
    "}\n",
    "\n",
    "\n",
    "generator = Generator(log_data=True)\n",
    "\n",
    "for i in range(len(analysis_iterations['parameters'])):\n",
    "    parameter = analysis_iterations['parameters'][i]\n",
    "    print('Working on varying ' + parameter + '...')\n",
    "    values = analysis_iterations['values'][i]\n",
    "    inputs = generator.vary_one_parameter(parameter, values, xscale='log', plot=True)\n",
    "\n",
    "# values = np.array([1e-10, 1e-9, 1e-8, 1e-7, 1e-6, 1e-5, 1e-4, 1e-3, 1e-2, 1e-1, 1, 10, 100, 1000, 10000, 100000, 1000000, 1e7, 1e8, 1e9, 1e10])\n",
    "# values_1 = np.array([3e9, 3e10, 3e11, 3e12, 3e13, 3e14, 3e15, 3e16, 3e17, 3e18])\n",
    "# values_2 = np.array([0.2, 0.4, 0.6, 0.8, 1, 1.2, 1.4, 1.6, 1.8, 2])"
   ]
  }
 ],
 "metadata": {
  "kernelspec": {
   "display_name": "base",
   "language": "python",
   "name": "python3"
  },
  "language_info": {
   "codemirror_mode": {
    "name": "ipython",
    "version": 3
   },
   "file_extension": ".py",
   "mimetype": "text/x-python",
   "name": "python",
   "nbconvert_exporter": "python",
   "pygments_lexer": "ipython3",
   "version": "3.9.16"
  },
  "orig_nbformat": 4
 },
 "nbformat": 4,
 "nbformat_minor": 2
}
