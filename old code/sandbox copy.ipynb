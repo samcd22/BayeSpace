{
 "cells": [
  {
   "cell_type": "code",
   "execution_count": 1,
   "id": "0a4f4454",
   "metadata": {},
   "outputs": [
    {
     "name": "stderr",
     "output_type": "stream",
     "text": [
      "No GPU/TPU found, falling back to CPU. (Set TF_CPP_MIN_LOG_LEVEL=0 and rerun for more info.)\n"
     ]
    }
   ],
   "source": [
    "import numpy as np\n",
    "import pandas as pd\n",
    "from sklearn.model_selection import train_test_split\n",
    "\n",
    "from inference_toolbox.parameter import Parameter\n",
    "from inference_toolbox.model import Model\n",
    "from inference_toolbox.likelihood import Likelihood\n",
    "from inference_toolbox.sampler import Sampler\n",
    "from inference_toolbox.visualiser import Visualiser\n",
    "from inference_toolbox.domain import Domain\n",
    "\n",
    "from data_processing.get_data import get_data\n",
    "import os\n",
    "\n",
    "current_directory = os.getcwd()\n",
    "if current_directory != '/project/':\n",
    "    os.chdir('/project/')"
   ]
  },
  {
   "cell_type": "code",
   "execution_count": 2,
   "id": "fa3038cb",
   "metadata": {},
   "outputs": [],
   "source": [
    "data_type = 'dummy'\n",
    "data_params = {\n",
    "    'data_type': 'dummy',\n",
    "    'data_path': 'data',\n",
    "    'sigma': 1,\n",
    "    'model_select': 'log_gpm_alt_norm',\n",
    "    'noise_dist': 'gaussian',\n",
    "    'model': {\n",
    "        'model_params':{\n",
    "            'H': 10\n",
    "        },\n",
    "        'inference_params':{\n",
    "            'I_y': 0.1,\n",
    "            'I_z': 0.1,\n",
    "            'Q': 3e13,\n",
    "        },\n",
    "    },\n",
    "    'domain': {\n",
    "        'domain_select': 'cone_from_source_z_limited', \n",
    "        'resolution': 20,\n",
    "        'domain_params':{\n",
    "            'r': 100,\n",
    "            'theta': np.pi/8,\n",
    "            'source': [0,0,10]}\n",
    "    },\n",
    "    'output_header': 'Concentration'\n",
    "}\n",
    "\n",
    "data_type = 'gridded'\n",
    "data_params = {\n",
    "    'data_type': 'gridded',\n",
    "    'output_header': 'Concentration',\n",
    "    'log':True,\n",
    "    'grid_size': [200,200,50],\n",
    "    'target': False,\n",
    "    'data_path':'data'\n",
    "}\n",
    "\n",
    "data = get_data(data_type, data_params)"
   ]
  },
  {
   "cell_type": "code",
   "execution_count": 3,
   "id": "705fa2e8",
   "metadata": {},
   "outputs": [],
   "source": [
    "# training_data, testing_data = train_test_split(averaged_df, test_size=0.2)\n",
    "training_data, testing_data = train_test_split(data, test_size=0.2)"
   ]
  },
  {
   "cell_type": "code",
   "execution_count": 4,
   "id": "28eafd50",
   "metadata": {},
   "outputs": [
    {
     "name": "stderr",
     "output_type": "stream",
     "text": [
      "/project/inference_toolbox/sampler.py:59: UserWarning: There are not enough devices to run parallel chains: expected 3 but got 1. Chains will be drawn sequentially. If you are running MCMC in CPU, consider using `numpyro.set_host_device_count(3)` at the beginning of your program. You can double-check how many devices are available in your system using `jax.local_device_count()`.\n",
      "  self.mcmc_obj = numpyro.infer.MCMC(kernel, num_warmup=self.n_warmup, num_samples=self.n_samples, num_chains=self.n_chains, thinning=self.thinning_rate)\n",
      "sample: 100%|██████████| 12500/12500 [00:03<00:00, 3594.31it/s, 7 steps of size 3.33e-01. acc. prob=0.93] \n",
      "sample: 100%|██████████| 12500/12500 [00:01<00:00, 6363.85it/s, 15 steps of size 2.25e-01. acc. prob=0.93]\n",
      "sample: 100%|██████████| 12500/12500 [00:01<00:00, 6463.17it/s, 3 steps of size 2.26e-01. acc. prob=0.93] \n"
     ]
    }
   ],
   "source": [
    "# Initialize parameter series\n",
    "params = pd.Series({},dtype='float64')\n",
    "\n",
    "# Parameter Assignment\n",
    "I_y = Parameter(name = 'I_y', prior_select=\"gamma\")\n",
    "I_y.add_prior_param(\"mu\",5.2640)\n",
    "I_y.add_prior_param(\"sigma\",5.3316)\n",
    "params['I_y'] = I_y\n",
    "\n",
    "I_z = Parameter(name = 'I_z', prior_select=\"gamma\")\n",
    "I_z.add_prior_param(\"mu\",1.7125)\n",
    "I_z.add_prior_param(\"sigma\",2.6842)\n",
    "params['I_z'] = I_z\n",
    "\n",
    "Q = Parameter(name = 'Q', prior_select=\"gamma\")\n",
    "Q.add_prior_param(\"mu\",5.0986e16)\n",
    "Q.add_prior_param(\"sigma\",6.5244e17)\n",
    "params['Q'] = Q\n",
    "\n",
    "sigma = Parameter(name = 'sigma', prior_select=\"gamma\")\n",
    "sigma.add_prior_param(\"mu\",1.2003)\n",
    "sigma.add_prior_param(\"sigma\", 1.8308)\n",
    "params['sigma'] = sigma\n",
    "\n",
    "# Model Assignment\n",
    "model = Model('log_gpm_alt_norm')\n",
    "model.add_model_param(\"H\",10)\n",
    "\n",
    "# Likelihood function assigmnent\n",
    "likelihood = Likelihood(\"gaussian\")\n",
    "# likelihood.add_likelihood_param(\"sigma\",1)\n",
    "# likelihood.add_likelihood_param(\"lambda_1\",1)\n",
    "# likelihood.add_likelihood_param(\"lambda_2\",0.05)\n",
    "\n",
    "num_samples = 10000\n",
    "\n",
    "data_path = 'results/gridded_drone_data_2/inference/general_instances'\n",
    "\n",
    "# Initialize the sampler\n",
    "sampler = Sampler(params, \n",
    "                  model, \n",
    "                  likelihood, \n",
    "                  training_data, \n",
    "                  testing_data,\n",
    "                  num_samples, \n",
    "                  show_sample_info = True, \n",
    "                  n_chains=3, \n",
    "                  thinning_rate=1,\n",
    "                  data_path = data_path)\n",
    "\n",
    "# Sample the parameters\n",
    "params_samples, chain_samples, fields = sampler.sample_all()"
   ]
  },
  {
   "cell_type": "code",
   "execution_count": 5,
   "id": "83666bb2",
   "metadata": {},
   "outputs": [
    {
     "name": "stdout",
     "output_type": "stream",
     "text": [
      "Creating instance\n",
      "Log Likelihood:  -14.270524\n",
      "AIC:  22.27052402496338\n",
      "RMSE:  0.41333362\n"
     ]
    }
   ],
   "source": [
    "# visualiser = Visualiser(testing_data, \n",
    "#                         params_samples, \n",
    "#                         model, \n",
    "#                         sampler.hyperparams, \n",
    "#                         chain_samples=chain_samples,\n",
    "#                         fields = fields, \n",
    "#                         previous_instance = sampler.instance, \n",
    "#                         data_path = data_path, \n",
    "#                         actual_values=[\n",
    "#                             data_params['model']['inference_params']['I_y'], \n",
    "#                             data_params['model']['inference_params']['I_z'],\n",
    "#                             data_params['model']['inference_params']['Q'],\n",
    "#                             data_params['sigma']])\n",
    "\n",
    "visualiser = Visualiser(testing_data, \n",
    "                        sampler,\n",
    "                        model, \n",
    "                        previous_instance = sampler.instance, \n",
    "                        data_path = data_path)\n",
    "\n",
    "visualiser.get_summary()\n",
    "visualiser.get_traceplot()\n",
    "visualiser.get_autocorrelations()\n",
    "print('Log Likelihood: ', visualiser.log_likelihood)\n",
    "print('AIC: ', visualiser.AIC)\n",
    "print('RMSE: ', visualiser.RMSE)\n",
    "\n",
    "domain = Domain('cone_from_source_z_limited', resolution=80)\n",
    "domain.add_domain_param('r', 100)\n",
    "domain.add_domain_param('theta', np.pi/8)\n",
    "domain.add_domain_param('source', [0,0,10])\n",
    "\n",
    "visualiser.visualise_results(domain = domain, name = 'small_scale_3D_plots', title='Log Concentration of Droplets', log_results=False)\n",
    "visualiser.animate(name = 'small_scale_3D_plots')"
   ]
  }
 ],
 "metadata": {
  "kernelspec": {
   "display_name": "base",
   "language": "python",
   "name": "python3"
  },
  "language_info": {
   "codemirror_mode": {
    "name": "ipython",
    "version": 3
   },
   "file_extension": ".py",
   "mimetype": "text/x-python",
   "name": "python",
   "nbconvert_exporter": "python",
   "pygments_lexer": "ipython3",
   "version": "3.9.16"
  },
  "vscode": {
   "interpreter": {
    "hash": "4836aab9230707cf36e93c729ff9a67bdbebd51947e18404ed5a25d63daeec60"
   }
  }
 },
 "nbformat": 4,
 "nbformat_minor": 5
}
