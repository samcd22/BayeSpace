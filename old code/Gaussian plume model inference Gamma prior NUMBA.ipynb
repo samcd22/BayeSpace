{
 "cells": [
  {
   "cell_type": "code",
   "execution_count": 1,
   "id": "584f66e8",
   "metadata": {},
   "outputs": [
    {
     "data": {
      "text/plain": [
       "0"
      ]
     },
     "execution_count": 1,
     "metadata": {},
     "output_type": "execute_result"
    }
   ],
   "source": [
    "# Import code and data.\n",
    "\n",
    "import gc   # For manual garbage collection.\n",
    "import numpy as np\n",
    "import pandas as pd\n",
    "from matplotlib import pyplot as plt\n",
    "from numba import njit\n",
    "\n",
    "experiment = 'Exp1'\n",
    "\n",
    "# Import and select data.\n",
    "all_data = pd.read_csv('total_data.csv',\n",
    "    usecols = ['gps.lat', 'gps.lon', 'altitudeRelative', 'Concentration', 'Experiment'],\n",
    ")\n",
    "all_data = all_data[all_data['Experiment'] == experiment]\n",
    "all_data = all_data.drop(columns = ['Experiment'])\n",
    "\n",
    "# Import and select metadata.\n",
    "data_summary = pd.read_csv('data_summary.csv',\n",
    "    usecols = ['Experiment', 'Wind_Dir', 'WindSpeed', 'boat.lat', 'boat.lon']\n",
    ")\n",
    "data_summary = data_summary[data_summary['Experiment'] == experiment]\n",
    "wind_dir = data_summary['Wind_Dir'].values[0]\n",
    "wind_speed = data_summary['WindSpeed'].values[0]\n",
    "\n",
    "# Convert lat and lon to distances from boat in downwind and crosswind directions.\n",
    "all_data['dist_lat'] = (all_data['gps.lat'] - data_summary['boat.lat'].values[0]) * 111000\n",
    "all_data['dist_lon'] = (all_data['gps.lon'] - data_summary['boat.lon'].values[0]) * 111000\n",
    "all_data['x'] = all_data['dist_lon'] * np.cos(270 - wind_dir) + all_data['dist_lat'] * np.sin(270 - wind_dir)\n",
    "all_data['y'] = all_data['dist_lon'] * np.cos(360 - wind_dir) + all_data['dist_lat'] * np.sin(360 - wind_dir)\n",
    "all_data['z'] = all_data['altitudeRelative']\n",
    "\n",
    "# Modify concentrations.\n",
    "all_data['Concentration'] = all_data['Concentration']\n",
    "\n",
    "# Split data, 80% for training and 20% for testing, shuffling rows first.\n",
    "all_data = all_data.drop(columns = ['altitudeRelative', 'dist_lat', 'dist_lon', 'gps.lat', 'gps.lon'])\n",
    "all_data = np.asarray(all_data)   # Prepare for Numba.\n",
    "np.random.seed(1)                 # Ensure the same split each time.\n",
    "np.random.shuffle(all_data)\n",
    "training_data, testing_data = np.split(all_data, [int(0.8 * len(all_data))])\n",
    "\n",
    "# Release unused memory.\n",
    "del(all_data)\n",
    "del(data_summary)\n",
    "del(experiment)\n",
    "del(wind_dir)\n",
    "gc.collect()"
   ]
  },
  {
   "cell_type": "code",
   "execution_count": 2,
   "id": "94605400",
   "metadata": {},
   "outputs": [],
   "source": [
    "# Model parameter and functions setup.\n",
    "\n",
    "# Inference and model parameters.\n",
    "H = np.float64(0.0)\n",
    "#prior_param_1 = np.array([0.33, 0.86, 1.1e-3])   # Legacy settings for k_a, k_b, k_Q.\n",
    "#prior_param_2 = np.array([1.0, 1.0, 1e-3])       # Legacy settings for theta_a, theta_b, theta_Q.\n",
    "prior_param_1 = np.array([0.33, 0.86, 100, 100])\n",
    "prior_param_2 = np.array([1.0, 1.0, 10, 10])\n",
    "\n",
    "\n",
    "################################################################################\n",
    "\n",
    "# Non-jitted functions.\n",
    "\n",
    "# Function for calculating the conditional probability for parameters a, b or Q.\n",
    "def log_prob_params(params, prior_param_1, prior_param_2, log_lhood, dist):\n",
    "\n",
    "    if dist == 'uniform':\n",
    "        return log_lhood\n",
    "    elif dist == 'gamma':\n",
    "        return (prior_param_1 - 1) * np.log(params) - params / prior_param_2 + log_lhood\n",
    "    elif dist == 'gaussian':\n",
    "        return -(params - prior_param_1) **2 / (2 * prior_param_2 ** 2) + log_lhood\n",
    "\n",
    "\n",
    "# MCMC Sampler for a, b or Q.\n",
    "def sample_params(current_params, current_sigma, prior_param_1, prior_param_2, ss, precalc2a, precalc2, condition, N_data, dist):\n",
    "\n",
    "    # Set current and proposed values for a, b, Q and sigma.\n",
    "    # np.random.normal generates random numbers from a normal distribution.\n",
    "    proposed_params = np.random.normal(loc = current_params, scale = ss)\n",
    "\n",
    "    # Calculating the conditional probability of current and proposed a, b, Q and sigma.\n",
    "    # It's assumed that \"condition\" is either 0 or 1, and only 1 when dealing with sigma.\n",
    "    if condition:\n",
    "        tmp = np.sqrt(2 * np.pi)\n",
    "        log_l_curr_params = precalc2a - N_data * np.log(tmp * current_sigma)\n",
    "        log_l_prop_params = precalc2 / proposed_params**2 - N_data * np.log(tmp * proposed_params)\n",
    "    else:\n",
    "        log_l_curr_params = precalc2a\n",
    "        log_l_prop_params = precalc2 / current_sigma**2\n",
    "\n",
    "    # Though an ostensibly unnecessary variable declaration (the logic can be added directly inside the np.exp call below),\n",
    "    # it's needed for correct Numba execution.\n",
    "    log_p_prop_params = log_prob_params(proposed_params, prior_param_1, prior_param_2, log_l_prop_params, dist)\n",
    "\n",
    "    # Acceptance criteria.\n",
    "    # N.B. Using parameter names in \"uniform\" breaks Numba.\n",
    "    if np.random.uniform(0.0, 1.0) < np.exp(log_p_prop_params - log_prob_params(current_params, prior_param_1, prior_param_2, log_l_curr_params, dist)):\n",
    "        return proposed_params, 1\n",
    "    else:\n",
    "        return current_params, 0\n",
    "\n",
    "\n",
    "# Full MCMC sampler.\n",
    "def sample_process(N_samples, ss, u, H, data, params_init, prior_param_2):\n",
    "\n",
    "    np.random.seed(117)   # Seed the Numba rng.\n",
    "\n",
    "    # Intialisation.\n",
    "    # - Pre-allocate memory space for data where relevant.\n",
    "    # - Variables declared in order of largest to smallest.\n",
    "    negysqr = -data[:,2]**2            # Column 2 holds \"y\" values.\n",
    "    zdownsqr = -(data[:,3] - H)**2     # Column 3 holds \"z\" values.\n",
    "    zupsqr = -(data[:,3] + H)**2\n",
    "    #\n",
    "    params_means = np.empty((N_samples, len(params_init)), np.float64)    # rows = N_samples, cols = len(params_init). Use rounded brackets, not square, for \"empty\" in Numba.\n",
    "    params_means[:] = np.NaN\n",
    "    params_samples = params_means.copy()\n",
    "    params = params_init.copy()\n",
    "    #\n",
    "    params_init = 1 - params_init\n",
    "    #\n",
    "    piu = np.pi * u                      # Saved as np.float64.\n",
    "    accept_tot_0 = 0                     # Saved as integer.\n",
    "    accept_tot_1 = 0                     # Saved as integer.\n",
    "    accept_tot_2 = 0                     # Saved as integer.\n",
    "    accept_tot_3 = 0                     # Saved as integer.\n",
    "    count = 0                            # Saved as integer.\n",
    "    N_data = data[:,1].size\n",
    "\n",
    "    for j in range(N_samples):\n",
    "\n",
    "        count = count + 1\n",
    "        if (count % 10000 == 0):\n",
    "            print('Running sample ' + str(count) + '...')\n",
    "\n",
    "        # Column 1 holds \"x\" values.\n",
    "        precalc1 = 2.0 * params[0] * data[:,1] ** params[1]\n",
    "        # Column 0 holds \"Concentration\" values.\n",
    "        precalc2 = -sum((params[2] / precalc1 * piu * np.exp(negysqr / precalc1) * (np.exp(zdownsqr / precalc1) + np.exp(zupsqr / precalc1)) - data[:,0])**2) / 2\n",
    "        precalc2a = precalc2 / params[3]**2\n",
    "\n",
    "        params[0], accept_0 = sample_params(params[0], params[3], params_init[0], prior_param_2[0], ss[0], precalc2a, precalc2, 0, N_data, 'uniform')   # a\n",
    "        params[1], accept_1 = sample_params(params[1], params[3], params_init[1], prior_param_2[1], ss[1], precalc2a, precalc2, 0, N_data, 'uniform')   # b\n",
    "        params[2], accept_2 = sample_params(params[2], params[3], params_init[2], prior_param_2[2], ss[2], precalc2a, precalc2, 0, N_data, 'uniform')   # Q\n",
    "        params[3], accept_3 = sample_params(params[3], params[3], params_init[3], prior_param_2[3], ss[3], precalc2a, precalc2, 1, N_data, 'uniform')   # sigma\n",
    "\n",
    "        accept_tot_0 += accept_0\n",
    "        accept_tot_1 += accept_1\n",
    "        accept_tot_2 += accept_2\n",
    "        accept_tot_3 += accept_3\n",
    "\n",
    "        params_samples[j] = params\n",
    "        #params_means[j] = np.mean(params_samples[:count, :], axis = 0)   # Numba doesn't support an axis argument for \"mean\".\n",
    "        params_means[j, 0] = np.mean(params_samples[:count, 0:1])\n",
    "        params_means[j, 1] = np.mean(params_samples[:count, 1:2])\n",
    "        params_means[j, 2] = np.mean(params_samples[:count, 2:3])\n",
    "        params_means[j, 3] = np.mean(params_samples[:count, 3:4])\n",
    "\n",
    "    print('Sampling complete.')\n",
    "    print('a Acceptance Rate: ', accept_tot_0 / N_samples)\n",
    "    print('b Acceptance Rate: ', accept_tot_1 / N_samples)\n",
    "    print('Q Acceptance Rate: ', accept_tot_2 / N_samples)\n",
    "    print('sigma Acceptance Rate: ', accept_tot_3 / N_samples)\n",
    "\n",
    "    return params_samples, params_means\n",
    "\n",
    "\n",
    "################################################################################\n",
    "\n",
    "# Jitted versions of the sampling functions.\n",
    "\n",
    "# Function for calculating the conditional probability for parameters a, b or Q.\n",
    "@njit(nogil=True)\n",
    "def log_prob_params_jit(params, prior_param_1, prior_param_2, log_lhood, dist):\n",
    "\n",
    "    if dist == 'uniform':\n",
    "        return log_lhood\n",
    "    elif dist == 'gamma':\n",
    "        return (prior_param_1 - 1) * np.log(params) - params / prior_param_2 + log_lhood\n",
    "    elif dist == 'gaussian':\n",
    "        return -(params - prior_param_1) **2 / (2 * prior_param_2 ** 2) + log_lhood\n",
    "\n",
    "\n",
    "# MCMC Sampler for a, b or Q.\n",
    "@njit(nogil=True)\n",
    "def sample_params_jit(current_params, current_sigma, prior_param_1, prior_param_2, ss, precalc2a, precalc2, condition, N_data, dist):\n",
    "\n",
    "    # Set current and proposed values for a, b, Q and sigma.\n",
    "    # np.random.normal generates random numbers from a normal distribution.\n",
    "    proposed_params = np.random.normal(loc = current_params, scale = ss)\n",
    "\n",
    "   # Calculating the conditional probability of current and proposed a, b, Q and sigma.\n",
    "    # It's assumed that \"condition\" is either 0 or 1, and only 1 when dealing with sigma.\n",
    "    if condition:\n",
    "        tmp = np.sqrt(2 * np.pi)\n",
    "        log_l_curr_params = precalc2a - N_data * np.log(tmp * current_sigma)\n",
    "        log_l_prop_params = precalc2 / proposed_params**2 - N_data * np.log(tmp * proposed_params)\n",
    "    else:\n",
    "        log_l_curr_params = precalc2a\n",
    "        log_l_prop_params = precalc2 / current_sigma**2\n",
    "\n",
    "    # Though an ostensibly unnecessary variable declaration (the logic can be added directly inside the np.exp call below),\n",
    "    # it's needed for correct Numba execution.\n",
    "    log_p_prop_params = log_prob_params_jit(proposed_params, prior_param_1, prior_param_2, log_l_prop_params, dist)\n",
    "\n",
    "    # Acceptance criteria.\n",
    "    # N.B. Using parameter names in \"uniform\" breaks Numba.\n",
    "    if np.random.uniform(0.0, 1.0) < np.exp(log_p_prop_params - log_prob_params_jit(current_params, prior_param_1, prior_param_2, log_l_curr_params, dist)):\n",
    "        return proposed_params, 1\n",
    "    else:\n",
    "        return current_params, 0\n",
    "\n",
    "\n",
    "# Full MCMC sampler.\n",
    "@njit(nogil=True)\n",
    "def sample_process_jit(N_samples, ss, u, H, data, params_init, prior_param_2):\n",
    "\n",
    "    np.random.seed(117)   # Seed the Numba rng.\n",
    "\n",
    "    # Intialisation.\n",
    "    # - Pre-allocate memory space for data where relevant.\n",
    "    # - Variables declared in order of largest to smallest.\n",
    "    negysqr = -data[:,2]**2            # Column 2 holds \"y\" values.\n",
    "    zdownsqr = -(data[:,3] - H)**2     # Column 3 holds \"z\" values.\n",
    "    zupsqr = -(data[:,3] + H)**2\n",
    "    #\n",
    "    params_means = np.empty((N_samples, len(params_init)), np.float64)    # rows = N_samples, cols = len(params_init). Use rounded brackets, not square, for \"empty\" in Numba.\n",
    "    params_means[:] = np.NaN\n",
    "    params_samples = params_means.copy()\n",
    "    params = params_init.copy()\n",
    "    #\n",
    "    params_init = 1 - params_init\n",
    "    #\n",
    "    piu = np.pi * u                      # Saved as np.float64.\n",
    "    accept_tot_0 = 0                     # Saved as integer.\n",
    "    accept_tot_1 = 0                     # Saved as integer.\n",
    "    accept_tot_2 = 0                     # Saved as integer.\n",
    "    accept_tot_3 = 0                     # Saved as integer.\n",
    "    count = 0                            # Saved as integer.\n",
    "    N_data = data[:,1].size\n",
    "\n",
    "    for j in range(N_samples):\n",
    "\n",
    "        count = count + 1\n",
    "        if (count % 10000 == 0):\n",
    "            print('Running sample ' + str(count) + '...')\n",
    "\n",
    "        # Column 1 holds \"x\" values.\n",
    "        precalc1 = 2.0 * params[0] * data[:,1] ** params[1]\n",
    "        # Column 0 holds \"Concentration\" values.\n",
    "        precalc2 = -sum((params[2] / precalc1 * piu * np.exp(negysqr / precalc1) * (np.exp(zdownsqr / precalc1) + np.exp(zupsqr / precalc1)) - data[:,0])**2) / 2\n",
    "        precalc2a = precalc2 / params[3]**2\n",
    "\n",
    "        params[0], accept_0 = sample_params_jit(params[0], params[3], params_init[0], prior_param_2[0], ss[0], precalc2a, precalc2, 0, N_data, 'uniform')   # a\n",
    "        params[1], accept_1 = sample_params_jit(params[1], params[3], params_init[1], prior_param_2[1], ss[1], precalc2a, precalc2, 0, N_data, 'uniform')   # b\n",
    "        params[2], accept_2 = sample_params_jit(params[2], params[3], params_init[2], prior_param_2[2], ss[2], precalc2a, precalc2, 0, N_data, 'uniform')   # Q\n",
    "        params[3], accept_3 = sample_params_jit(params[3], params[3], params_init[3], prior_param_2[3], ss[3], precalc2a, precalc2, 1, N_data, 'uniform')   # sigma\n",
    "\n",
    "        accept_tot_0 += accept_0\n",
    "        accept_tot_1 += accept_1\n",
    "        accept_tot_2 += accept_2\n",
    "        accept_tot_3 += accept_3\n",
    "\n",
    "        params_samples[j] = params\n",
    "        #params_means[j] = np.mean(params_samples[:count, :], axis = 0)   # Numba doesn't support an axis argument for \"mean\".\n",
    "        params_means[j, 0] = np.mean(params_samples[:count, 0:1])\n",
    "        params_means[j, 1] = np.mean(params_samples[:count, 1:2])\n",
    "        params_means[j, 2] = np.mean(params_samples[:count, 2:3])\n",
    "        params_means[j, 3] = np.mean(params_samples[:count, 3:4])\n",
    "\n",
    "    print('Sampling complete.')\n",
    "    print('a Acceptance Rate: ', accept_tot_0 / N_samples)\n",
    "    print('b Acceptance Rate: ', accept_tot_1 / N_samples)\n",
    "    print('Q Acceptance Rate: ', accept_tot_2 / N_samples)\n",
    "    print('sigma Acceptance Rate: ', accept_tot_3 / N_samples)\n",
    "\n",
    "    return params_samples, params_means\n",
    "\n",
    "\n",
    "################################################################################\n",
    "\n",
    "# Utility functions.\n",
    "\n",
    "# Gaussian Plume Model for concentration.\n",
    "def C_func(x, y, z, u, a, b, Q, H):\n",
    "    tmp = 2*a*x**b\n",
    "    C = Q / (tmp * np.pi*u) * (np.exp(-(y**2) / tmp)) * (np.exp(-(z-H)**2 / tmp) + np.exp(-(z+H)**2 / tmp))\n",
    "    return C\n",
    "\n",
    "\n",
    "# Sampling traceplots.\n",
    "def traceplots(x, xnames = None, title = None):\n",
    "\n",
    "    d = x.shape[1]\n",
    "    fig = plt.figure()\n",
    "    left, tracewidth, histwidth = 0.1, 0.65, 0.15\n",
    "    bottom, rowheight = 0.1, 0.8/d\n",
    "\n",
    "    for i in range(d):\n",
    "        # Set the location of the trace and histogram viewports,\n",
    "        # starting with the first dimension from the bottom of the canvas.\n",
    "        rowbottom = bottom + i * rowheight\n",
    "        rect_trace = (left, rowbottom, tracewidth, rowheight)\n",
    "        rect_hist = (left + tracewidth, rowbottom, histwidth, rowheight)\n",
    "\n",
    "        # First set of trace plot axes.\n",
    "        if i == 0:\n",
    "            ax_trace = fig.add_axes(rect_trace)\n",
    "            ax_trace.plot(x[:,i])\n",
    "            ax_trace.set_xlabel(\"Sample Count\")\n",
    "            ax_tr0 = ax_trace\n",
    "\n",
    "        # Other sets of trace plot axes that share the first trace's x-axis.\n",
    "        # Make tick labels invisible so they don't clutter up the plot.\n",
    "        elif i > 0:\n",
    "            ax_trace = fig.add_axes(rect_trace, sharex=ax_tr0)\n",
    "            ax_trace.plot(x[:,i])\n",
    "            plt.setp(ax_trace.get_xticklabels(), visible=False)\n",
    "\n",
    "        # Title at the top.\n",
    "        if i == d-1 and title is not None:\n",
    "            plt.title(title)\n",
    "\n",
    "        # Trace y-axis labels.\n",
    "        if xnames is not None:\n",
    "            ax_trace.set_ylabel(xnames[i])\n",
    "\n",
    "        # Trace histograms at the right.\n",
    "        ax_hist = fig.add_axes(rect_hist, sharey=ax_trace)\n",
    "        ax_hist.hist(x[:,i], orientation='horizontal', bins=50)\n",
    "        plt.setp(ax_hist.get_xticklabels(), visible=False)\n",
    "        plt.setp(ax_hist.get_yticklabels(), visible=False)\n",
    "        xlim = ax_hist.get_xlim()\n",
    "        ax_hist.set_xlim([xlim[0], 1.1*xlim[1]])\n"
   ]
  },
  {
   "cell_type": "code",
   "execution_count": 3,
   "id": "9d424099",
   "metadata": {},
   "outputs": [
    {
     "name": "stdout",
     "output_type": "stream",
     "text": [
      "Sampling complete.\n",
      "a Acceptance Rate:  0.35294117647058826\n",
      "b Acceptance Rate:  0.35294117647058826\n",
      "Q Acceptance Rate:  0.35294117647058826\n",
      "sigma Acceptance Rate:  0.17647058823529413\n"
     ]
    },
    {
     "name": "stderr",
     "output_type": "stream",
     "text": [
      "C:\\Users\\Sam\\AppData\\Local\\Temp\\ipykernel_19820\\1227948304.py:49: RuntimeWarning: overflow encountered in exp\n",
      "  if np.random.uniform(0.0, 1.0) < np.exp(log_p_prop_params - log_prob_params(current_params, prior_param_1, prior_param_2, log_l_curr_params, dist)):\n",
      "C:\\Users\\Sam\\AppData\\Local\\Temp\\ipykernel_19820\\1227948304.py:91: RuntimeWarning: overflow encountered in exp\n",
      "  precalc2 = -sum((params[2] / precalc1 * piu * np.exp(negysqr / precalc1) * (np.exp(zdownsqr / precalc1) + np.exp(zupsqr / precalc1)) - data[:,0])**2) / 2\n",
      "C:\\Users\\Sam\\AppData\\Local\\Temp\\ipykernel_19820\\1227948304.py:91: RuntimeWarning: overflow encountered in multiply\n",
      "  precalc2 = -sum((params[2] / precalc1 * piu * np.exp(negysqr / precalc1) * (np.exp(zdownsqr / precalc1) + np.exp(zupsqr / precalc1)) - data[:,0])**2) / 2\n",
      "C:\\Users\\Sam\\AppData\\Local\\Temp\\ipykernel_19820\\1227948304.py:91: RuntimeWarning: overflow encountered in square\n",
      "  precalc2 = -sum((params[2] / precalc1 * piu * np.exp(negysqr / precalc1) * (np.exp(zdownsqr / precalc1) + np.exp(zupsqr / precalc1)) - data[:,0])**2) / 2\n",
      "C:\\Users\\Sam\\AppData\\Local\\Temp\\ipykernel_19820\\1227948304.py:49: RuntimeWarning: invalid value encountered in double_scalars\n",
      "  if np.random.uniform(0.0, 1.0) < np.exp(log_p_prop_params - log_prob_params(current_params, prior_param_1, prior_param_2, log_l_curr_params, dist)):\n"
     ]
    }
   ],
   "source": [
    "# Sampling, unjitted.\n",
    "#params_samples, params_means = sample_process(N_samples = 100000, ss = np.array([0.1, 0.1, 1e5, 1e7]), u = wind_speed, H = H, data = training_data,\n",
    "#                                              params_init = prior_param_1.copy(), prior_param_2 = prior_param_2)\n",
    "\n",
    "# Sampling, unjitted. DEBUGGING.\n",
    "params_samples, params_means = sample_process(N_samples = 51, ss = np.array([0.1, 0.1, 1, 1]), u = wind_speed, H = H, data = training_data,\n",
    "                                             params_init = prior_param_1.copy(), prior_param_2 = prior_param_2)\n",
    "\n",
    "# Legacy:   ss = np.array([0.1, 0.1, 1e-4])"
   ]
  },
  {
   "cell_type": "code",
   "execution_count": 4,
   "id": "a51550af",
   "metadata": {},
   "outputs": [
    {
     "name": "stdout",
     "output_type": "stream",
     "text": [
      "Sampling complete.\n",
      "a Acceptance Rate:  1.0\n",
      "b Acceptance Rate:  1.0\n",
      "Q Acceptance Rate:  1.0\n",
      "sigma Acceptance Rate:  1.0\n",
      "Running sample 10000...\n",
      "Running sample 20000...\n",
      "Running sample 30000...\n",
      "Running sample 40000...\n",
      "Running sample 50000...\n",
      "Running sample 60000...\n",
      "Running sample 70000...\n",
      "Running sample 80000...\n",
      "Running sample 90000...\n",
      "Running sample 100000...\n",
      "Sampling complete.\n",
      "a Acceptance Rate:  0.00018\n",
      "b Acceptance Rate:  0.00018\n",
      "Q Acceptance Rate:  0.00018\n",
      "sigma Acceptance Rate:  9e-05\n"
     ]
    }
   ],
   "source": [
    "# Sampling, jitted.\n",
    "\n",
    "# Numpy warmup run. Retain to invoke compilation.\n",
    "params_samples_jit, params_means_jit = sample_process_jit(N_samples = 1, ss = np.array([0.1, 0.1, 1, 1]), u = wind_speed, H = H, data = training_data,\n",
    "                                                          params_init = prior_param_1.copy(), prior_param_2 = prior_param_2)\n",
    "\n",
    "# Sampling proper.\n",
    "params_samples_jit, params_means_jit = sample_process_jit(N_samples = 100000, ss = np.array([0.1, 0.1, 1, 1]), u = wind_speed, H = H, data = training_data,\n",
    "                                                          params_init = prior_param_1.copy(), prior_param_2 = prior_param_2)\n",
    "\n",
    "# Multithreaded execution.\n",
    "#import concurrent.futures\n",
    "#with concurrent.futures.ThreadPoolExecutor() as executor:\n",
    "#    for x in range(6):\n",
    "#        executor.submit(sample_process_jit, N_samples = 100000, ss = np.array([0.1, 0.1, 1e5, 1e7]), u = wind_speed, H = H, data = training_data,\n",
    "#                                            params_init = prior_param_1.copy(), prior_param_2 = prior_param_2)\n",
    "\n",
    "# Legacy:   ss = np.array([0.1, 0.1, 1e-4])"
   ]
  },
  {
   "cell_type": "code",
   "execution_count": 5,
   "id": "3388cf29",
   "metadata": {},
   "outputs": [
    {
     "data": {
      "image/png": "[encoded data removed]",
      "text/plain": [
       "<Figure size 432x288 with 8 Axes>"
      ]
     },
     "metadata": {
      "needs_background": "light"
     },
     "output_type": "display_data"
    },
    {
     "data": {
      "image/png": "[encoded data removed]",
      "text/plain": [
       "<Figure size 432x288 with 8 Axes>"
      ]
     },
     "metadata": {
      "needs_background": "light"
     },
     "output_type": "display_data"
    }
   ],
   "source": [
    "# Visualise results, unjitted.\n",
    "traceplots(params_samples, xnames = ['a', 'b', 'Q', 'sigma'], title = 'MCMC samples, unjitted')\n",
    "traceplots(params_means, xnames = ['a', 'b', 'Q', 'sigma'], title = 'MCMC means, unjitted')"
   ]
  },
  {
   "cell_type": "code",
   "execution_count": 6,
   "id": "fe43ed93",
   "metadata": {},
   "outputs": [
    {
     "data": {
      "image/png": "[encoded data removed]",
      "text/plain": [
       "<Figure size 432x288 with 8 Axes>"
      ]
     },
     "metadata": {
      "needs_background": "light"
     },
     "output_type": "display_data"
    },
    {
     "data": {
      "image/png": "[encoded data removed]",
      "text/plain": [
       "<Figure size 432x288 with 8 Axes>"
      ]
     },
     "metadata": {
      "needs_background": "light"
     },
     "output_type": "display_data"
    }
   ],
   "source": [
    "# Visualise results, jitted.\n",
    "traceplots(params_samples_jit, xnames = ['a', 'b', 'Q', 'sigma'], title = 'MCMC samples, jitted')\n",
    "traceplots(params_means_jit, xnames = ['a', 'b', 'Q', 'sigma'], title = 'MCMC means, jitted')"
   ]
  },
  {
   "cell_type": "code",
   "execution_count": 7,
   "id": "e5b381ac",
   "metadata": {},
   "outputs": [
    {
     "name": "stderr",
     "output_type": "stream",
     "text": [
      "C:\\Users\\Sam\\AppData\\Local\\Temp\\ipykernel_19820\\1227948304.py:239: RuntimeWarning: overflow encountered in exp\n",
      "  C = Q / (tmp * np.pi*u) * (np.exp(-(y**2) / tmp)) * (np.exp(-(z-H)**2 / tmp) + np.exp(-(z+H)**2 / tmp))\n",
      "C:\\Users\\Sam\\AppData\\Local\\Temp\\ipykernel_19820\\1227948304.py:239: RuntimeWarning: overflow encountered in multiply\n",
      "  C = Q / (tmp * np.pi*u) * (np.exp(-(y**2) / tmp)) * (np.exp(-(z-H)**2 / tmp) + np.exp(-(z+H)**2 / tmp))\n"
     ]
    },
    {
     "name": "stdout",
     "output_type": "stream",
     "text": [
      "Inferred means: x = -0.09, y = 0.86, z = 104.55.\n"
     ]
    },
    {
     "data": {
      "image/png": "[encoded data removed]",
      "text/plain": [
       "<Figure size 432x288 with 2 Axes>"
      ]
     },
     "metadata": {
      "needs_background": "light"
     },
     "output_type": "display_data"
    }
   ],
   "source": [
    "# Plot slices of the plume at set Z values using the mean values of the parameters.\n",
    "# Jitted values adopted.\n",
    "\n",
    "params_mean = params_means_jit[-1]\n",
    "x = np.linspace(0.1, 200, 201)\n",
    "y = np.linspace(-20, 20, 201)\n",
    "#z = np.linspace(0, 400, 201)\n",
    "X,Y = np.meshgrid(x, y)\n",
    "Z = 10\n",
    "C = C_func(X, Y, Z, wind_speed, params_mean[0], params_mean[1], params_mean[2], H)\n",
    "plt.pcolor(X, Y, C, shading = 'auto')\n",
    "plt.colorbar()\n",
    "plt.title('Plume concentration at z = ' + str(Z))\n",
    "plt.xlabel('x')\n",
    "plt.ylabel('y')\n",
    "print('Inferred means: x = ', round(params_mean[0], 2), ', y = ', round(params_mean[1], 2), ', z = ', round(params_mean[2], 2), '.', sep = '')\n",
    "\n",
    "del(x)\n",
    "del(y)"
   ]
  },
  {
   "cell_type": "code",
   "execution_count": 8,
   "id": "045dc4bb",
   "metadata": {},
   "outputs": [
    {
     "name": "stdout",
     "output_type": "stream",
     "text": [
      " RMSE = inf\n",
      "Range = 10483.296070256554\n"
     ]
    },
    {
     "name": "stderr",
     "output_type": "stream",
     "text": [
      "C:\\Users\\Sam\\AppData\\Local\\Temp\\ipykernel_19820\\2190171313.py:15: RuntimeWarning: overflow encountered in exp\n",
      "  precalc2 = (abQ[2] / precalc1 * piu * np.exp(negysqr / precalc1) * (np.exp(zdownsqr / precalc1) + np.exp(zupsqr / precalc1)) - data[:,0])**2\n",
      "C:\\Users\\Sam\\AppData\\Local\\Temp\\ipykernel_19820\\2190171313.py:15: RuntimeWarning: overflow encountered in multiply\n",
      "  precalc2 = (abQ[2] / precalc1 * piu * np.exp(negysqr / precalc1) * (np.exp(zdownsqr / precalc1) + np.exp(zupsqr / precalc1)) - data[:,0])**2\n",
      "C:\\Users\\Sam\\AppData\\Local\\Temp\\ipykernel_19820\\2190171313.py:15: RuntimeWarning: overflow encountered in square\n",
      "  precalc2 = (abQ[2] / precalc1 * piu * np.exp(negysqr / precalc1) * (np.exp(zdownsqr / precalc1) + np.exp(zupsqr / precalc1)) - data[:,0])**2\n"
     ]
    }
   ],
   "source": [
    "# Calculate the RMSE of this new model based on the data.\n",
    "def RMSE_func(abQ, u, H, data):\n",
    "\n",
    "    # Gaussian Plume Model for concentration.\n",
    "\n",
    "    # Initialisations.\n",
    "    negysqr = -data[:,2]**2            # Column 2 holds \"y\" values.\n",
    "    zdownsqr = -(data[:,3] - H)**2     # Column 3 holds \"z\" values.\n",
    "    zupsqr = -(data[:,3] + H)**2\n",
    "    piu = np.pi * u                    # Saved as np.float64.\n",
    "\n",
    "    # Column 1 holds \"x\" values.\n",
    "    precalc1 = 2 * abQ[0] * data[:,1] ** abQ[1]\n",
    "    # Column 0 holds \"Concentration\" values.\n",
    "    precalc2 = (abQ[2] / precalc1 * piu * np.exp(negysqr / precalc1) * (np.exp(zdownsqr / precalc1) + np.exp(zupsqr / precalc1)) - data[:,0])**2\n",
    "\n",
    "    # print(np.max(np.sqrt(precalc2)))\n",
    "\n",
    "    RMSE = np.sqrt(sum(precalc2) / data.shape[0])\n",
    "    print(' RMSE = ' + str(RMSE))\n",
    "    return RMSE\n",
    "\n",
    "\n",
    "RMSE = RMSE_func(params_mean, wind_speed, H, testing_data)\n",
    "\n",
    "data_range = np.max(testing_data[:,0]) - np.min(testing_data[:,0])\n",
    "print('Range = ' + str(data_range))\n",
    "\n",
    "## saving_samples = pd.DataFrame({'a':params_samples[:,0],'b':params_samples[:,1],'Q':params_samples[:,2]})\n",
    "# saving_samples = pd.DataFrame(params_samples,columns=['a','b','Q'])\n",
    "# saving_samples.to_csv('samples.csv')"
   ]
  },
  {
   "cell_type": "code",
   "execution_count": 9,
   "id": "c156bea7",
   "metadata": {},
   "outputs": [
    {
     "name": "stdout",
     "output_type": "stream",
     "text": [
      "Unjitted values:\n",
      "a = 0.01846836817552033 +/- 0.1636635316976165\n",
      "b = 0.9578186892068815 +/- 0.19615462430405983\n",
      "Q = 103.89015337958901 +/- 1.2399537640615346\n",
      "sigma = 106.41004971682862 +/- 2.036322825092995\n",
      "\n",
      "Jitted values:\n",
      "a = -0.08625117837167477 +/- 0.004388204715881959\n",
      "b = 0.8617819277981754 +/- 0.004932468468475642\n",
      "Q = 104.55353661351245 +/- 0.031759588710613275\n",
      "sigma = 107.42650801609999 +/- 0.05140005750466579\n"
     ]
    }
   ],
   "source": [
    "# Print the values of a, b and Q.\n",
    "def print_vals(params_samples):\n",
    "\n",
    "    params_samples = np.array(params_samples)\n",
    "    vals = ['a','b','Q', 'sigma']\n",
    "    for i in range(params_samples.shape[1]):\n",
    "        print(vals[i] + ' = ' + str(np.mean(params_samples[:,i])) + ' +/- ' + str(np.std(params_samples[:,i])))\n",
    "\n",
    "# Unjitted values.\n",
    "print(\"Unjitted values:\")\n",
    "print_vals(params_samples)\n",
    "print(\"\")\n",
    "# Jitted values.\n",
    "print(\"Jitted values:\")\n",
    "print_vals(params_samples_jit)\n"
   ]
  }
 ],
 "metadata": {
  "kernelspec": {
   "display_name": "Python 3 (ipykernel)",
   "language": "python",
   "name": "python3"
  },
  "language_info": {
   "codemirror_mode": {
    "name": "ipython",
    "version": 3
   },
   "file_extension": ".py",
   "mimetype": "text/x-python",
   "name": "python",
   "nbconvert_exporter": "python",
   "pygments_lexer": "ipython3",
   "version": "3.9.12"
  },
  "vscode": {
   "interpreter": {
    "hash": "f132f6c4237cba2d865fbf0594f77c169f5660f7b7d39a372371b1e40073e867"
   }
  }
 },
 "nbformat": 4,
 "nbformat_minor": 5
}
