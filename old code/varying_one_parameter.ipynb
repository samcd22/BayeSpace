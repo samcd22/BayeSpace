{
 "cells": [
  {
   "cell_type": "code",
   "execution_count": 1,
   "metadata": {},
   "outputs": [
    {
     "name": "stderr",
     "output_type": "stream",
     "text": [
      "No GPU/TPU found, falling back to CPU. (Set TF_CPP_MIN_LOG_LEVEL=0 and rerun for more info.)\n"
     ]
    },
    {
     "ename": "TypeError",
     "evalue": "__init__() got an unexpected keyword argument 'generator_defaults'",
     "output_type": "error",
     "traceback": [
      "\u001b[0;31m---------------------------------------------------------------------------\u001b[0m",
      "\u001b[0;31mTypeError\u001b[0m                                 Traceback (most recent call last)",
      "Cell \u001b[0;32mIn[1], line 72\u001b[0m\n\u001b[1;32m     34\u001b[0m \u001b[39m# Set up data\u001b[39;00m\n\u001b[1;32m     35\u001b[0m \u001b[39m# data_params = {\u001b[39;00m\n\u001b[1;32m     36\u001b[0m \u001b[39m#     'data_type': 'dummy',\u001b[39;00m\n\u001b[0;32m   (...)\u001b[0m\n\u001b[1;32m     60\u001b[0m \u001b[39m#     'output_header': 'Concentration'\u001b[39;00m\n\u001b[1;32m     61\u001b[0m \u001b[39m# }\u001b[39;00m\n\u001b[1;32m     63\u001b[0m data_params \u001b[39m=\u001b[39m {\n\u001b[1;32m     64\u001b[0m     \u001b[39m'\u001b[39m\u001b[39mdata_type\u001b[39m\u001b[39m'\u001b[39m: \u001b[39m'\u001b[39m\u001b[39mgridded\u001b[39m\u001b[39m'\u001b[39m,\n\u001b[1;32m     65\u001b[0m     \u001b[39m'\u001b[39m\u001b[39moutput_header\u001b[39m\u001b[39m'\u001b[39m: \u001b[39m'\u001b[39m\u001b[39mConcentration\u001b[39m\u001b[39m'\u001b[39m,\n\u001b[0;32m   (...)\u001b[0m\n\u001b[1;32m     69\u001b[0m     \u001b[39m'\u001b[39m\u001b[39mdata_path\u001b[39m\u001b[39m'\u001b[39m:\u001b[39m'\u001b[39m\u001b[39mdata\u001b[39m\u001b[39m'\u001b[39m,\n\u001b[1;32m     70\u001b[0m }\n\u001b[0;32m---> 72\u001b[0m generator \u001b[39m=\u001b[39m Generator(generator_defaults\u001b[39m=\u001b[39;49mgenerator_defaults, data_params\u001b[39m=\u001b[39;49mdata_params, data_name \u001b[39m=\u001b[39;49m \u001b[39m'\u001b[39;49m\u001b[39mgridded_drone_data_2\u001b[39;49m\u001b[39m'\u001b[39;49m)\n\u001b[1;32m     74\u001b[0m analysis_iterations \u001b[39m=\u001b[39m {\n\u001b[1;32m     75\u001b[0m     \u001b[39m'\u001b[39m\u001b[39mparameters\u001b[39m\u001b[39m'\u001b[39m:\n\u001b[1;32m     76\u001b[0m     [\n\u001b[0;32m   (...)\u001b[0m\n\u001b[1;32m     82\u001b[0m     ]\n\u001b[1;32m     83\u001b[0m }\n\u001b[1;32m     85\u001b[0m \u001b[39mfor\u001b[39;00m i \u001b[39min\u001b[39;00m \u001b[39mrange\u001b[39m(\u001b[39mlen\u001b[39m(analysis_iterations[\u001b[39m'\u001b[39m\u001b[39mparameters\u001b[39m\u001b[39m'\u001b[39m])):\n",
      "\u001b[0;31mTypeError\u001b[0m: __init__() got an unexpected keyword argument 'generator_defaults'"
     ]
    }
   ],
   "source": [
    "from inference_toolbox.parameter import Parameter\n",
    "from inference_toolbox.model import Model\n",
    "from inference_toolbox.likelihood import Likelihood\n",
    "from drivers.generator import Generator\n",
    "\n",
    "import os\n",
    "import numpy as np\n",
    "import pandas as pd\n",
    "\n",
    "current_directory = os.getcwd()\n",
    "if current_directory != '/project/':\n",
    "    os.chdir('/project/')\n",
    "\n",
    "generator_defaults = {\n",
    "    'infered_params':{\n",
    "        'model_params':pd.Series({\n",
    "            'I_y': Parameter('I_y', prior_select = 'gamma', default_value=0.1).add_prior_param('mu', 0.1).add_prior_param('sigma',0.1),\n",
    "            'I_z': Parameter('I_z', prior_select = 'gamma', default_value=0.1).add_prior_param('mu', 0.1).add_prior_param('sigma',0.1),\n",
    "            'Q': Parameter('Q', prior_select = 'gamma', default_value=3e13).add_prior_param('mu', 3e13).add_prior_param('sigma',1e13),\n",
    "        }),\n",
    "        'likelihood_params':pd.Series({\n",
    "            'sigma': Parameter('sigma', prior_select = 'gamma', default_value=1).add_prior_param('mu', 1).add_prior_param('sigma',1),\n",
    "        })\n",
    "    },\n",
    "    'model':Model('log_gpm_alt_norm').add_model_param('H',10),\n",
    "    'likelihood': Likelihood('gaussian'),\n",
    "    'sampler': {\n",
    "        'n_samples': 10000,\n",
    "        'n_chains': 3,\n",
    "        'thinning_rate': 1\n",
    "    }\n",
    "}\n",
    "\n",
    "data_params = {\n",
    "    'data_type': 'gridded',\n",
    "    'output_header': 'Concentration',\n",
    "    'log':True,\n",
    "    'grid_size': [200,200,50],\n",
    "    'target': False,\n",
    "    'data_path':'data',\n",
    "}\n",
    "\n",
    "generator = Generator(generator_defaults=generator_defaults, data_params=data_params, data_name = 'gridded_drone_data_2')\n",
    "\n",
    "analysis_iterations = {\n",
    "    'parameters':\n",
    "    [\n",
    "        'sigma_sigma', \n",
    "    ],\n",
    "    'values':\n",
    "    [\n",
    "        np.array([0.2, 0.4, 0.6, 0.8, 1, 1.2, 1.4, 1.6, 1.8, 2, 2.2, 2.4, 2.6, 2.8, 3, 3.2, 3.4, 3.6, 3.8, 4])\n",
    "    ]\n",
    "}\n",
    "\n",
    "for i in range(len(analysis_iterations['parameters'])):\n",
    "    parameter = analysis_iterations['parameters'][i]\n",
    "    print('Working on varying ' + parameter + '...')\n",
    "    values = analysis_iterations['values'][i]\n",
    "    inputs = generator.vary_one_parameter(parameter, values, xscale='linear', plot=True)\n",
    "\n",
    "# values = np.array([1e-10, 1e-9, 1e-8, 1e-7, 1e-6, 1e-5, 1e-4, 1e-3, 1e-2, 1e-1, 1, 10, 100, 1000, 10000, 100000, 1000000, 1e7, 1e8, 1e9, 1e10])\n",
    "# values_1 = np.array([3e9, 3e10, 3e11, 3e12, 3e13, 3e14, 3e15, 3e16, 3e17, 3e18])\n",
    "# values_2 = np.array([0.2, 0.4, 0.6, 0.8, 1, 1.2, 1.4, 1.6, 1.8, 2])"
   ]
  }
 ],
 "metadata": {
  "kernelspec": {
   "display_name": "base",
   "language": "python",
   "name": "python3"
  },
  "language_info": {
   "codemirror_mode": {
    "name": "ipython",
    "version": 3
   },
   "file_extension": ".py",
   "mimetype": "text/x-python",
   "name": "python",
   "nbconvert_exporter": "python",
   "pygments_lexer": "ipython3",
   "version": "3.9.16"
  },
  "orig_nbformat": 4
 },
 "nbformat": 4,
 "nbformat_minor": 2
}
