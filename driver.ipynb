{
 "cells": [
  {
   "cell_type": "code",
   "execution_count": 1,
   "id": "0a4f4454",
   "metadata": {},
   "outputs": [],
   "source": [
    "import numpy as np\n",
    "import pandas as pd\n",
    "from sklearn.model_selection import train_test_split\n",
    "\n",
    "from inference_toolbox.parameter import Parameter\n",
    "from inference_toolbox.model import Model\n",
    "from inference_toolbox.likelihood import Likelihood\n",
    "from inference_toolbox.sampler import Sampler\n",
    "from inference_toolbox.visualiser import Visualiser\n",
    "from inference_toolbox.domain import Domain\n",
    "\n",
    "from data_processing.normaliser import Normaliser\n",
    "from data_processing.box_gridder import BoxGridder\n",
    "from gaussian_processor.gaussian_processor import GaussianProcessor"
   ]
  },
  {
   "cell_type": "code",
   "execution_count": 2,
   "id": "657693e4",
   "metadata": {},
   "outputs": [],
   "source": [
    "# # Import and select data.\n",
    "# all_data = pd.read_csv('data/total_data.csv')\n",
    "\n",
    "# # Import and select metadata.\n",
    "# metadata = pd.read_csv('data/data_summary.csv',\n",
    "#     usecols = ['Experiment', 'Wind_Dir', 'WindSpeed', 'boat.lat', 'boat.lon']\n",
    "# )"
   ]
  },
  {
   "cell_type": "code",
   "execution_count": 3,
   "id": "5874f43b",
   "metadata": {
    "scrolled": true
   },
   "outputs": [],
   "source": [
    "\n",
    "# normaliser = Normaliser(all_data, metadata)\n",
    "\n",
    "# all_experiments = normaliser.get_experiments_list()\n",
    "\n",
    "# selected_experiments = np.delete(all_experiments, np.where(all_experiments == 'Control'))\n",
    "\n",
    "# normalised_data = normaliser.normalise_data(selected_experiments)\n"
   ]
  },
  {
   "cell_type": "code",
   "execution_count": 4,
   "id": "b3b91589",
   "metadata": {},
   "outputs": [],
   "source": [
    "# box_gridder = BoxGridder(normalised_data)\n",
    "\n",
    "# averaged_df = box_gridder.get_averages([200,200,50],False)\n",
    "\n",
    "# # box_gridder.visualise_average_data(averaged_df)\n",
    "\n",
    "# # averaged_df"
   ]
  },
  {
   "cell_type": "code",
   "execution_count": 5,
   "id": "2e1e21b7",
   "metadata": {
    "scrolled": false
   },
   "outputs": [],
   "source": [
    "# gp = GaussianProcessor(averaged_df, kernel = 'matern_white', data_norm='sqrt')\n",
    "# training_data, test_data = gp.train_test_split()\n",
    "# print(training_data)\n",
    "# gp.train_gp(training_data)\n",
    "# gp.test(test_data)\n",
    "# grid = box_gridder.get_grid([10,10,10])\n",
    "# gp.predict_from_gp(grid, threeD=True, save=True, log_results=True)\n",
    "# gp.animate() "
   ]
  },
  {
   "cell_type": "code",
   "execution_count": 6,
   "id": "fa3038cb",
   "metadata": {},
   "outputs": [],
   "source": [
    "# Get dummy data\n",
    "log_dummy_data = pd.read_csv('data/log_dummy_data.csv')\n"
   ]
  },
  {
   "cell_type": "code",
   "execution_count": 7,
   "id": "705fa2e8",
   "metadata": {},
   "outputs": [],
   "source": [
    "# training_data, testing_data = train_test_split(averaged_df, test_size=0.2)\n",
    "training_data, testing_data = train_test_split(log_dummy_data, test_size=0.2)"
   ]
  },
  {
   "cell_type": "code",
   "execution_count": 8,
   "id": "28eafd50",
   "metadata": {},
   "outputs": [
    {
     "name": "stdout",
     "output_type": "stream",
     "text": [
      "Running sample 1000...\n"
     ]
    }
   ],
   "source": [
    "# Initialize parameter series\n",
    "params = pd.Series({},dtype='float64')\n",
    "\n",
    "# Parameter Assignment\n",
    "I_y = Parameter(init_val = 0.1, step_select = \"gamma\", step_size = 0.02, prior_select = \"no prior\")\n",
    "I_y.add_prior_param(\"mu\",0.1)\n",
    "I_y.add_prior_param(\"sigma\",0.1)\n",
    "params['I_y'] = I_y\n",
    "\n",
    "I_z = Parameter(init_val = 0.1, step_select = \"gamma\", step_size = 0.02, prior_select = \"no prior\")\n",
    "I_z.add_prior_param(\"mu\",0.1)\n",
    "I_z.add_prior_param(\"sigma\",0.1)\n",
    "params['I_z'] = I_z\n",
    "\n",
    "Q = Parameter(init_val = 3e13, step_select = \"gamma\", step_size = 1e12, prior_select = \"no prior\")\n",
    "Q.add_prior_param(\"mu\",3e13)\n",
    "Q.add_prior_param(\"sigma\",1e13)\n",
    "params['Q'] = Q\n",
    "\n",
    "# Model Assignment\n",
    "model = Model('log_GPM_alt_norm')\n",
    "model.add_model_param(\"H\",10)\n",
    "\n",
    "# Likelihood function assigmnent\n",
    "likelihood = Likelihood(\"gaussian_fixed_sigma\")\n",
    "likelihood.add_likelihood_param(\"sigma\",1)\n",
    "# likelihood.add_likelihood_param(\"lambda_1\",1)\n",
    "# likelihood.add_likelihood_param(\"lambda_2\",0.05)\n",
    "\n",
    "# Initialize the sampler\n",
    "sampler = Sampler(params, model, likelihood, training_data, show_sample_info = True)\n",
    "hyperparams = sampler.get_hyperparams()\n",
    "\n",
    "# Sample the parameters\n",
    "params_samples, acceptance_rate = sampler.sample_all(1000)"
   ]
  },
  {
   "cell_type": "code",
   "execution_count": 9,
   "id": "83666bb2",
   "metadata": {},
   "outputs": [
    {
     "name": "stdout",
     "output_type": "stream",
     "text": [
      "Creating instance\n"
     ]
    }
   ],
   "source": [
    "visualiser = Visualiser(testing_data, params_samples, model, hyperparams, acceptance_rate, previous_instance = sampler.instance, data_path = 'results/inference')\n",
    "visualiser.save_samples()\n",
    "visualiser.get_traceplot()\n",
    "visualiser.get_autocorrelations()\n",
    "\n",
    "domain = Domain('cone_from_source_z_limited', resolution=100)\n",
    "domain.add_domain_param('r', 100)\n",
    "domain.add_domain_param('theta', np.pi/8)\n",
    "domain.add_domain_param('source', [0,0,10])\n",
    "\n",
    "visualiser.visualise_results(domain = domain, name = 'small_scale_3D_plots', title='Log Concentration of Droplets', log_results=False)\n",
    "visualiser.animate(name = 'small_scale_3D_plots')"
   ]
  },
  {
   "cell_type": "markdown",
   "id": "8cab6123",
   "metadata": {},
   "source": []
  }
 ],
 "metadata": {
  "kernelspec": {
   "display_name": "base",
   "language": "python",
   "name": "python3"
  },
  "language_info": {
   "codemirror_mode": {
    "name": "ipython",
    "version": 3
   },
   "file_extension": ".py",
   "mimetype": "text/x-python",
   "name": "python",
   "nbconvert_exporter": "python",
   "pygments_lexer": "ipython3",
   "version": "3.9.15"
  },
  "vscode": {
   "interpreter": {
    "hash": "4836aab9230707cf36e93c729ff9a67bdbebd51947e18404ed5a25d63daeec60"
   }
  }
 },
 "nbformat": 4,
 "nbformat_minor": 5
}
