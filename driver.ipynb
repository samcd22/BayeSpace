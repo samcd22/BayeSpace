{
 "cells": [
  {
   "cell_type": "code",
   "execution_count": 1,
   "id": "0a4f4454",
   "metadata": {},
   "outputs": [
    {
     "name": "stderr",
     "output_type": "stream",
     "text": [
      "No GPU/TPU found, falling back to CPU. (Set TF_CPP_MIN_LOG_LEVEL=0 and rerun for more info.)\n"
     ]
    }
   ],
   "source": [
    "import numpy as np\n",
    "import pandas as pd\n",
    "from sklearn.model_selection import train_test_split\n",
    "\n",
    "from inference_toolbox.parameter import Parameter\n",
    "from inference_toolbox.model import Model\n",
    "from inference_toolbox.likelihood import Likelihood\n",
    "from inference_toolbox.sampler import Sampler\n",
    "# from inference_toolbox.visualiser import Visualiser\n",
    "from inference_toolbox.domain import Domain\n",
    "\n",
    "from data_processing.normaliser import Normaliser\n",
    "from data_processing.box_gridder import BoxGridder\n",
    "# from gaussian_processor.gaussian_processor import GaussianProcessor"
   ]
  },
  {
   "cell_type": "code",
   "execution_count": 2,
   "id": "657693e4",
   "metadata": {},
   "outputs": [],
   "source": [
    "# # Import and select data.\n",
    "# all_data = pd.read_csv('data/total_data.csv')\n",
    "\n",
    "# # Import and select metadata.\n",
    "# metadata = pd.read_csv('data/data_summary.csv',\n",
    "#     usecols = ['Experiment', 'Wind_Dir', 'WindSpeed', 'boat.lat', 'boat.lon']\n",
    "# )"
   ]
  },
  {
   "cell_type": "code",
   "execution_count": 3,
   "id": "5874f43b",
   "metadata": {
    "scrolled": true
   },
   "outputs": [],
   "source": [
    "\n",
    "# normaliser = Normaliser(all_data, metadata)\n",
    "\n",
    "# all_experiments = normaliser.get_experiments_list()\n",
    "\n",
    "# selected_experiments = np.delete(all_experiments, np.where(all_experiments == 'Control'))\n",
    "\n",
    "# normalised_data = normaliser.normalise_data(selected_experiments)"
   ]
  },
  {
   "cell_type": "code",
   "execution_count": 4,
   "id": "b3b91589",
   "metadata": {},
   "outputs": [],
   "source": [
    "# box_gridder = BoxGridder(normalised_data)\n",
    "\n",
    "# averaged_df = box_gridder.get_averages([200,200,50],False)\n",
    "\n",
    "# # box_gridder.visualise_average_data(averaged_df)\n",
    "\n",
    "# # averaged_df"
   ]
  },
  {
   "cell_type": "code",
   "execution_count": 2,
   "id": "2e1e21b7",
   "metadata": {
    "scrolled": false
   },
   "outputs": [],
   "source": [
    "# gp = GaussianProcessor(averaged_df, kernel = 'matern_white', data_norm='sqrt')\n",
    "# training_data, test_data = gp.train_test_split()\n",
    "# print(training_data)\n",
    "# gp.train_gp(training_data)\n",
    "# gp.test(test_data)\n",
    "# grid = box_gridder.get_grid([10,10,10])\n",
    "# gp.predict_from_gp(grid, threeD=True, save=True, log_results=True)\n",
    "# gp.animate() \n",
    "\n",
    "import os\n",
    "\n",
    "current_directory = os.getcwd()\n",
    "if current_directory != '/project/':\n",
    "    os.chdir('/project/')"
   ]
  },
  {
   "cell_type": "code",
   "execution_count": 3,
   "id": "fa3038cb",
   "metadata": {},
   "outputs": [],
   "source": [
    "# Get dummy data\n",
    "dummy_data = pd.read_csv('data/dummy_data.csv')\n"
   ]
  },
  {
   "cell_type": "code",
   "execution_count": 4,
   "id": "705fa2e8",
   "metadata": {},
   "outputs": [],
   "source": [
    "# training_data, testing_data = train_test_split(averaged_df, test_size=0.2)\n",
    "training_data, testing_data = train_test_split(dummy_data, test_size=0.2)"
   ]
  },
  {
   "cell_type": "code",
   "execution_count": 5,
   "id": "28eafd50",
   "metadata": {},
   "outputs": [
    {
     "name": "stdout",
     "output_type": "stream",
     "text": [
      "<function Likelihood.get_likelihood_function.<locals>.gaussian_likelihood_fixed_sigma at 0x7fe9680e71f0>\n",
      "1.8226433\n"
     ]
    },
    {
     "ename": "TypeError",
     "evalue": "Argument '201   -0.003312\n262   -0.020225\n126   -0.025824\n168   -0.018874\n21    -0.025824\n         ...   \n105   -0.016673\n191   -0.019269\n34    -0.002609\n150   -0.012492\n252   -0.010806\nLength: 230, dtype: float64' of type <class 'pandas.core.series.Series'> is not a valid JAX type.",
     "output_type": "error",
     "traceback": [
      "\u001b[0;31m---------------------------------------------------------------------------\u001b[0m",
      "\u001b[0;31mTypeError\u001b[0m                                 Traceback (most recent call last)",
      "Cell \u001b[0;32mIn[5], line 35\u001b[0m\n\u001b[1;32m     32\u001b[0m hyperparams \u001b[39m=\u001b[39m sampler\u001b[39m.\u001b[39mget_hyperparams()\n\u001b[1;32m     34\u001b[0m \u001b[39m# Sample the parameters\u001b[39;00m\n\u001b[0;32m---> 35\u001b[0m params_samples \u001b[39m=\u001b[39m sampler\u001b[39m.\u001b[39;49msample_all(\u001b[39m1000\u001b[39;49m)\n",
      "File \u001b[0;32m/project/inference_toolbox/sampler.py:49\u001b[0m, in \u001b[0;36mSampler.sample_all\u001b[0;34m(self, n_samples, n_warmup, rng_key)\u001b[0m\n\u001b[1;32m     47\u001b[0m kernel \u001b[39m=\u001b[39m numpyro\u001b[39m.\u001b[39minfer\u001b[39m.\u001b[39mNUTS(\u001b[39mself\u001b[39m\u001b[39m.\u001b[39msample_one)\n\u001b[1;32m     48\u001b[0m mcmc_obj \u001b[39m=\u001b[39m numpyro\u001b[39m.\u001b[39minfer\u001b[39m.\u001b[39mMCMC(kernel, num_warmup\u001b[39m=\u001b[39mn_warmup, num_samples\u001b[39m=\u001b[39mn_samples)\n\u001b[0;32m---> 49\u001b[0m mcmc_obj\u001b[39m.\u001b[39;49mrun(rng_key\u001b[39m=\u001b[39;49mrng_key)\n\u001b[1;32m     50\u001b[0m mcmc_obj\u001b[39m.\u001b[39mprint_summary()\n\u001b[1;32m     51\u001b[0m samples \u001b[39m=\u001b[39m mcmc_obj\u001b[39m.\u001b[39mget_samples()\n",
      "File \u001b[0;32m/build/miniconda3/lib/python3.9/site-packages/numpyro/infer/mcmc.py:594\u001b[0m, in \u001b[0;36mMCMC.run\u001b[0;34m(self, rng_key, extra_fields, init_params, *args, **kwargs)\u001b[0m\n\u001b[1;32m    592\u001b[0m map_args \u001b[39m=\u001b[39m (rng_key, init_state, init_params)\n\u001b[1;32m    593\u001b[0m \u001b[39mif\u001b[39;00m \u001b[39mself\u001b[39m\u001b[39m.\u001b[39mnum_chains \u001b[39m==\u001b[39m \u001b[39m1\u001b[39m:\n\u001b[0;32m--> 594\u001b[0m     states_flat, last_state \u001b[39m=\u001b[39m partial_map_fn(map_args)\n\u001b[1;32m    595\u001b[0m     states \u001b[39m=\u001b[39m tree_map(\u001b[39mlambda\u001b[39;00m x: x[jnp\u001b[39m.\u001b[39mnewaxis, \u001b[39m.\u001b[39m\u001b[39m.\u001b[39m\u001b[39m.\u001b[39m], states_flat)\n\u001b[1;32m    596\u001b[0m \u001b[39melse\u001b[39;00m:\n",
      "File \u001b[0;32m/build/miniconda3/lib/python3.9/site-packages/numpyro/infer/mcmc.py:381\u001b[0m, in \u001b[0;36mMCMC._single_chain_mcmc\u001b[0;34m(self, init, args, kwargs, collect_fields)\u001b[0m\n\u001b[1;32m    379\u001b[0m rng_key, init_state, init_params \u001b[39m=\u001b[39m init\n\u001b[1;32m    380\u001b[0m \u001b[39mif\u001b[39;00m init_state \u001b[39mis\u001b[39;00m \u001b[39mNone\u001b[39;00m:\n\u001b[0;32m--> 381\u001b[0m     init_state \u001b[39m=\u001b[39m \u001b[39mself\u001b[39;49m\u001b[39m.\u001b[39;49msampler\u001b[39m.\u001b[39;49minit(\n\u001b[1;32m    382\u001b[0m         rng_key,\n\u001b[1;32m    383\u001b[0m         \u001b[39mself\u001b[39;49m\u001b[39m.\u001b[39;49mnum_warmup,\n\u001b[1;32m    384\u001b[0m         init_params,\n\u001b[1;32m    385\u001b[0m         model_args\u001b[39m=\u001b[39;49margs,\n\u001b[1;32m    386\u001b[0m         model_kwargs\u001b[39m=\u001b[39;49mkwargs,\n\u001b[1;32m    387\u001b[0m     )\n\u001b[1;32m    388\u001b[0m sample_fn, postprocess_fn \u001b[39m=\u001b[39m \u001b[39mself\u001b[39m\u001b[39m.\u001b[39m_get_cached_fns()\n\u001b[1;32m    389\u001b[0m diagnostics \u001b[39m=\u001b[39m (\n\u001b[1;32m    390\u001b[0m     \u001b[39mlambda\u001b[39;00m x: \u001b[39mself\u001b[39m\u001b[39m.\u001b[39msampler\u001b[39m.\u001b[39mget_diagnostics_str(x[\u001b[39m0\u001b[39m])\n\u001b[1;32m    391\u001b[0m     \u001b[39mif\u001b[39;00m rng_key\u001b[39m.\u001b[39mndim \u001b[39m==\u001b[39m \u001b[39m1\u001b[39m\n\u001b[1;32m    392\u001b[0m     \u001b[39melse\u001b[39;00m \u001b[39m\"\u001b[39m\u001b[39m\"\u001b[39m\n\u001b[1;32m    393\u001b[0m )  \u001b[39m# noqa: E731\u001b[39;00m\n",
      "File \u001b[0;32m/build/miniconda3/lib/python3.9/site-packages/numpyro/infer/hmc.py:706\u001b[0m, in \u001b[0;36mHMC.init\u001b[0;34m(self, rng_key, num_warmup, init_params, model_args, model_kwargs)\u001b[0m\n\u001b[1;32m    701\u001b[0m \u001b[39m# vectorized\u001b[39;00m\n\u001b[1;32m    702\u001b[0m \u001b[39melse\u001b[39;00m:\n\u001b[1;32m    703\u001b[0m     rng_key, rng_key_init_model \u001b[39m=\u001b[39m jnp\u001b[39m.\u001b[39mswapaxes(\n\u001b[1;32m    704\u001b[0m         vmap(random\u001b[39m.\u001b[39msplit)(rng_key), \u001b[39m0\u001b[39m, \u001b[39m1\u001b[39m\n\u001b[1;32m    705\u001b[0m     )\n\u001b[0;32m--> 706\u001b[0m init_params \u001b[39m=\u001b[39m \u001b[39mself\u001b[39;49m\u001b[39m.\u001b[39;49m_init_state(\n\u001b[1;32m    707\u001b[0m     rng_key_init_model, model_args, model_kwargs, init_params\n\u001b[1;32m    708\u001b[0m )\n\u001b[1;32m    709\u001b[0m \u001b[39mif\u001b[39;00m \u001b[39mself\u001b[39m\u001b[39m.\u001b[39m_potential_fn \u001b[39mand\u001b[39;00m init_params \u001b[39mis\u001b[39;00m \u001b[39mNone\u001b[39;00m:\n\u001b[1;32m    710\u001b[0m     \u001b[39mraise\u001b[39;00m \u001b[39mValueError\u001b[39;00m(\n\u001b[1;32m    711\u001b[0m         \u001b[39m\"\u001b[39m\u001b[39mValid value of `init_params` must be provided with\u001b[39m\u001b[39m\"\u001b[39m \u001b[39m\"\u001b[39m\u001b[39m `potential_fn`.\u001b[39m\u001b[39m\"\u001b[39m\n\u001b[1;32m    712\u001b[0m     )\n",
      "File \u001b[0;32m/build/miniconda3/lib/python3.9/site-packages/numpyro/infer/hmc.py:652\u001b[0m, in \u001b[0;36mHMC._init_state\u001b[0;34m(self, rng_key, model_args, model_kwargs, init_params)\u001b[0m\n\u001b[1;32m    650\u001b[0m \u001b[39mdef\u001b[39;00m \u001b[39m_init_state\u001b[39m(\u001b[39mself\u001b[39m, rng_key, model_args, model_kwargs, init_params):\n\u001b[1;32m    651\u001b[0m     \u001b[39mif\u001b[39;00m \u001b[39mself\u001b[39m\u001b[39m.\u001b[39m_model \u001b[39mis\u001b[39;00m \u001b[39mnot\u001b[39;00m \u001b[39mNone\u001b[39;00m:\n\u001b[0;32m--> 652\u001b[0m         init_params, potential_fn, postprocess_fn, model_trace \u001b[39m=\u001b[39m initialize_model(\n\u001b[1;32m    653\u001b[0m             rng_key,\n\u001b[1;32m    654\u001b[0m             \u001b[39mself\u001b[39;49m\u001b[39m.\u001b[39;49m_model,\n\u001b[1;32m    655\u001b[0m             dynamic_args\u001b[39m=\u001b[39;49m\u001b[39mTrue\u001b[39;49;00m,\n\u001b[1;32m    656\u001b[0m             init_strategy\u001b[39m=\u001b[39;49m\u001b[39mself\u001b[39;49m\u001b[39m.\u001b[39;49m_init_strategy,\n\u001b[1;32m    657\u001b[0m             model_args\u001b[39m=\u001b[39;49mmodel_args,\n\u001b[1;32m    658\u001b[0m             model_kwargs\u001b[39m=\u001b[39;49mmodel_kwargs,\n\u001b[1;32m    659\u001b[0m             forward_mode_differentiation\u001b[39m=\u001b[39;49m\u001b[39mself\u001b[39;49m\u001b[39m.\u001b[39;49m_forward_mode_differentiation,\n\u001b[1;32m    660\u001b[0m         )\n\u001b[1;32m    661\u001b[0m         \u001b[39mif\u001b[39;00m \u001b[39mself\u001b[39m\u001b[39m.\u001b[39m_init_fn \u001b[39mis\u001b[39;00m \u001b[39mNone\u001b[39;00m:\n\u001b[1;32m    662\u001b[0m             \u001b[39mself\u001b[39m\u001b[39m.\u001b[39m_init_fn, \u001b[39mself\u001b[39m\u001b[39m.\u001b[39m_sample_fn \u001b[39m=\u001b[39m hmc(\n\u001b[1;32m    663\u001b[0m                 potential_fn_gen\u001b[39m=\u001b[39mpotential_fn,\n\u001b[1;32m    664\u001b[0m                 kinetic_fn\u001b[39m=\u001b[39m\u001b[39mself\u001b[39m\u001b[39m.\u001b[39m_kinetic_fn,\n\u001b[1;32m    665\u001b[0m                 algo\u001b[39m=\u001b[39m\u001b[39mself\u001b[39m\u001b[39m.\u001b[39m_algo,\n\u001b[1;32m    666\u001b[0m             )\n",
      "File \u001b[0;32m/build/miniconda3/lib/python3.9/site-packages/numpyro/infer/util.py:609\u001b[0m, in \u001b[0;36minitialize_model\u001b[0;34m(rng_key, model, init_strategy, dynamic_args, model_args, model_kwargs, forward_mode_differentiation, validate_grad)\u001b[0m\n\u001b[1;32m    599\u001b[0m model_kwargs \u001b[39m=\u001b[39m {} \u001b[39mif\u001b[39;00m model_kwargs \u001b[39mis\u001b[39;00m \u001b[39mNone\u001b[39;00m \u001b[39melse\u001b[39;00m model_kwargs\n\u001b[1;32m    600\u001b[0m substituted_model \u001b[39m=\u001b[39m substitute(\n\u001b[1;32m    601\u001b[0m     seed(model, rng_key \u001b[39mif\u001b[39;00m jnp\u001b[39m.\u001b[39mndim(rng_key) \u001b[39m==\u001b[39m \u001b[39m1\u001b[39m \u001b[39melse\u001b[39;00m rng_key[\u001b[39m0\u001b[39m]),\n\u001b[1;32m    602\u001b[0m     substitute_fn\u001b[39m=\u001b[39minit_strategy,\n\u001b[1;32m    603\u001b[0m )\n\u001b[1;32m    604\u001b[0m (\n\u001b[1;32m    605\u001b[0m     inv_transforms,\n\u001b[1;32m    606\u001b[0m     replay_model,\n\u001b[1;32m    607\u001b[0m     has_enumerate_support,\n\u001b[1;32m    608\u001b[0m     model_trace,\n\u001b[0;32m--> 609\u001b[0m ) \u001b[39m=\u001b[39m _get_model_transforms(substituted_model, model_args, model_kwargs)\n\u001b[1;32m    610\u001b[0m \u001b[39m# substitute param sites from model_trace to model so\u001b[39;00m\n\u001b[1;32m    611\u001b[0m \u001b[39m# we don't need to generate again parameters of `numpyro.module`\u001b[39;00m\n\u001b[1;32m    612\u001b[0m model \u001b[39m=\u001b[39m substitute(\n\u001b[1;32m    613\u001b[0m     model,\n\u001b[1;32m    614\u001b[0m     data\u001b[39m=\u001b[39m{\n\u001b[0;32m   (...)\u001b[0m\n\u001b[1;32m    618\u001b[0m     },\n\u001b[1;32m    619\u001b[0m )\n",
      "File \u001b[0;32m/build/miniconda3/lib/python3.9/site-packages/numpyro/infer/util.py:407\u001b[0m, in \u001b[0;36m_get_model_transforms\u001b[0;34m(model, model_args, model_kwargs)\u001b[0m\n\u001b[1;32m    405\u001b[0m \u001b[39mdef\u001b[39;00m \u001b[39m_get_model_transforms\u001b[39m(model, model_args\u001b[39m=\u001b[39m(), model_kwargs\u001b[39m=\u001b[39m\u001b[39mNone\u001b[39;00m):\n\u001b[1;32m    406\u001b[0m     model_kwargs \u001b[39m=\u001b[39m {} \u001b[39mif\u001b[39;00m model_kwargs \u001b[39mis\u001b[39;00m \u001b[39mNone\u001b[39;00m \u001b[39melse\u001b[39;00m model_kwargs\n\u001b[0;32m--> 407\u001b[0m     model_trace \u001b[39m=\u001b[39m trace(model)\u001b[39m.\u001b[39;49mget_trace(\u001b[39m*\u001b[39;49mmodel_args, \u001b[39m*\u001b[39;49m\u001b[39m*\u001b[39;49mmodel_kwargs)\n\u001b[1;32m    408\u001b[0m     inv_transforms \u001b[39m=\u001b[39m {}\n\u001b[1;32m    409\u001b[0m     \u001b[39m# model code may need to be replayed in the presence of deterministic sites\u001b[39;00m\n",
      "File \u001b[0;32m/build/miniconda3/lib/python3.9/site-packages/numpyro/handlers.py:171\u001b[0m, in \u001b[0;36mtrace.get_trace\u001b[0;34m(self, *args, **kwargs)\u001b[0m\n\u001b[1;32m    163\u001b[0m \u001b[39mdef\u001b[39;00m \u001b[39mget_trace\u001b[39m(\u001b[39mself\u001b[39m, \u001b[39m*\u001b[39margs, \u001b[39m*\u001b[39m\u001b[39m*\u001b[39mkwargs):\n\u001b[1;32m    164\u001b[0m \u001b[39m    \u001b[39m\u001b[39m\"\"\"\u001b[39;00m\n\u001b[1;32m    165\u001b[0m \u001b[39m    Run the wrapped callable and return the recorded trace.\u001b[39;00m\n\u001b[1;32m    166\u001b[0m \n\u001b[0;32m   (...)\u001b[0m\n\u001b[1;32m    169\u001b[0m \u001b[39m    :return: `OrderedDict` containing the execution trace.\u001b[39;00m\n\u001b[1;32m    170\u001b[0m \u001b[39m    \"\"\"\u001b[39;00m\n\u001b[0;32m--> 171\u001b[0m     \u001b[39mself\u001b[39;49m(\u001b[39m*\u001b[39;49margs, \u001b[39m*\u001b[39;49m\u001b[39m*\u001b[39;49mkwargs)\n\u001b[1;32m    172\u001b[0m     \u001b[39mreturn\u001b[39;00m \u001b[39mself\u001b[39m\u001b[39m.\u001b[39mtrace\n",
      "File \u001b[0;32m/build/miniconda3/lib/python3.9/site-packages/numpyro/primitives.py:105\u001b[0m, in \u001b[0;36mMessenger.__call__\u001b[0;34m(self, *args, **kwargs)\u001b[0m\n\u001b[1;32m    103\u001b[0m     \u001b[39mreturn\u001b[39;00m \u001b[39mself\u001b[39m\n\u001b[1;32m    104\u001b[0m \u001b[39mwith\u001b[39;00m \u001b[39mself\u001b[39m:\n\u001b[0;32m--> 105\u001b[0m     \u001b[39mreturn\u001b[39;00m \u001b[39mself\u001b[39;49m\u001b[39m.\u001b[39;49mfn(\u001b[39m*\u001b[39;49margs, \u001b[39m*\u001b[39;49m\u001b[39m*\u001b[39;49mkwargs)\n",
      "File \u001b[0;32m/build/miniconda3/lib/python3.9/site-packages/numpyro/primitives.py:105\u001b[0m, in \u001b[0;36mMessenger.__call__\u001b[0;34m(self, *args, **kwargs)\u001b[0m\n\u001b[1;32m    103\u001b[0m     \u001b[39mreturn\u001b[39;00m \u001b[39mself\u001b[39m\n\u001b[1;32m    104\u001b[0m \u001b[39mwith\u001b[39;00m \u001b[39mself\u001b[39m:\n\u001b[0;32m--> 105\u001b[0m     \u001b[39mreturn\u001b[39;00m \u001b[39mself\u001b[39;49m\u001b[39m.\u001b[39;49mfn(\u001b[39m*\u001b[39;49margs, \u001b[39m*\u001b[39;49m\u001b[39m*\u001b[39;49mkwargs)\n",
      "File \u001b[0;32m/build/miniconda3/lib/python3.9/site-packages/numpyro/primitives.py:105\u001b[0m, in \u001b[0;36mMessenger.__call__\u001b[0;34m(self, *args, **kwargs)\u001b[0m\n\u001b[1;32m    103\u001b[0m     \u001b[39mreturn\u001b[39;00m \u001b[39mself\u001b[39m\n\u001b[1;32m    104\u001b[0m \u001b[39mwith\u001b[39;00m \u001b[39mself\u001b[39m:\n\u001b[0;32m--> 105\u001b[0m     \u001b[39mreturn\u001b[39;00m \u001b[39mself\u001b[39;49m\u001b[39m.\u001b[39;49mfn(\u001b[39m*\u001b[39;49margs, \u001b[39m*\u001b[39;49m\u001b[39m*\u001b[39;49mkwargs)\n",
      "File \u001b[0;32m/project/inference_toolbox/sampler.py:55\u001b[0m, in \u001b[0;36mSampler.sample_one\u001b[0;34m(self)\u001b[0m\n\u001b[1;32m     54\u001b[0m \u001b[39mdef\u001b[39;00m \u001b[39msample_one\u001b[39m(\u001b[39mself\u001b[39m):\n\u001b[0;32m---> 55\u001b[0m     mu \u001b[39m=\u001b[39m \u001b[39mself\u001b[39;49m\u001b[39m.\u001b[39;49mmodel_func(\u001b[39mself\u001b[39;49m\u001b[39m.\u001b[39;49mparams, \u001b[39mself\u001b[39;49m\u001b[39m.\u001b[39;49mdata\u001b[39m.\u001b[39;49mx, \u001b[39mself\u001b[39;49m\u001b[39m.\u001b[39;49mdata\u001b[39m.\u001b[39;49my, \u001b[39mself\u001b[39;49m\u001b[39m.\u001b[39;49mdata\u001b[39m.\u001b[39;49mz)\n\u001b[1;32m     56\u001b[0m     numpyro\u001b[39m.\u001b[39mdeterministic(\u001b[39m'\u001b[39m\u001b[39mmu\u001b[39m\u001b[39m'\u001b[39m, mu)\n\u001b[1;32m     57\u001b[0m     observations_modelled \u001b[39m=\u001b[39m numpyro\u001b[39m.\u001b[39msample(\u001b[39m'\u001b[39m\u001b[39mobs\u001b[39m\u001b[39m'\u001b[39m, \u001b[39mself\u001b[39m\u001b[39m.\u001b[39mlikelihood_func(mu, \u001b[39mself\u001b[39m\u001b[39m.\u001b[39mparams))\n",
      "File \u001b[0;32m/project/inference_toolbox/model.py:46\u001b[0m, in \u001b[0;36mModel.get_model.<locals>.GPM_alt_norm\u001b[0;34m(params, x, y, z)\u001b[0m\n\u001b[1;32m     44\u001b[0m \u001b[39mprint\u001b[39m(I_y)\n\u001b[1;32m     45\u001b[0m H \u001b[39m=\u001b[39m \u001b[39mself\u001b[39m\u001b[39m.\u001b[39mmodel_params\u001b[39m.\u001b[39mH\n\u001b[0;32m---> 46\u001b[0m \u001b[39mreturn\u001b[39;00m Q\u001b[39m/\u001b[39m(jnp\u001b[39m.\u001b[39mpi\u001b[39m*\u001b[39mI_y\u001b[39m*\u001b[39mI_z\u001b[39m*\u001b[39mx\u001b[39m*\u001b[39m\u001b[39m*\u001b[39m\u001b[39m2\u001b[39m)\u001b[39m*\u001b[39mjnp\u001b[39m.\u001b[39;49mexp(\u001b[39m-\u001b[39;49my\u001b[39m*\u001b[39;49m\u001b[39m*\u001b[39;49m\u001b[39m2\u001b[39;49m\u001b[39m/\u001b[39;49m(\u001b[39m2\u001b[39;49m\u001b[39m*\u001b[39;49mI_y\u001b[39m*\u001b[39;49m\u001b[39m*\u001b[39;49m\u001b[39m2\u001b[39;49m\u001b[39m*\u001b[39;49mx\u001b[39m*\u001b[39;49m\u001b[39m*\u001b[39;49m\u001b[39m2\u001b[39;49m))\u001b[39m*\u001b[39m(jnp\u001b[39m.\u001b[39mexp(\u001b[39m-\u001b[39m(z\u001b[39m-\u001b[39mH)\u001b[39m*\u001b[39m\u001b[39m*\u001b[39m\u001b[39m2\u001b[39m\u001b[39m/\u001b[39m(\u001b[39m2\u001b[39m\u001b[39m*\u001b[39mI_z\u001b[39m*\u001b[39m\u001b[39m*\u001b[39m\u001b[39m2\u001b[39m\u001b[39m*\u001b[39mx\u001b[39m*\u001b[39m\u001b[39m*\u001b[39m\u001b[39m2\u001b[39m))\u001b[39m+\u001b[39mjnp\u001b[39m.\u001b[39mexp(\u001b[39m-\u001b[39m(z\u001b[39m+\u001b[39mH)\u001b[39m*\u001b[39m\u001b[39m*\u001b[39m\u001b[39m2\u001b[39m\u001b[39m/\u001b[39m(\u001b[39m2\u001b[39m\u001b[39m*\u001b[39mI_z\u001b[39m*\u001b[39m\u001b[39m*\u001b[39m\u001b[39m2\u001b[39m\u001b[39m*\u001b[39mx\u001b[39m*\u001b[39m\u001b[39m*\u001b[39m\u001b[39m2\u001b[39m)))\n",
      "    \u001b[0;31m[... skipping hidden 3 frame]\u001b[0m\n",
      "File \u001b[0;32m/build/miniconda3/lib/python3.9/site-packages/jax/_src/dispatch.py:643\u001b[0m, in \u001b[0;36mcheck_arg\u001b[0;34m(arg)\u001b[0m\n\u001b[1;32m    641\u001b[0m \u001b[39mdef\u001b[39;00m \u001b[39mcheck_arg\u001b[39m(arg):\n\u001b[1;32m    642\u001b[0m   \u001b[39mif\u001b[39;00m \u001b[39mnot\u001b[39;00m (\u001b[39misinstance\u001b[39m(arg, core\u001b[39m.\u001b[39mTracer) \u001b[39mor\u001b[39;00m _valid_jaxtype(arg)):\n\u001b[0;32m--> 643\u001b[0m     \u001b[39mraise\u001b[39;00m \u001b[39mTypeError\u001b[39;00m(\u001b[39mf\u001b[39m\u001b[39m\"\u001b[39m\u001b[39mArgument \u001b[39m\u001b[39m'\u001b[39m\u001b[39m{\u001b[39;00marg\u001b[39m}\u001b[39;00m\u001b[39m'\u001b[39m\u001b[39m of type \u001b[39m\u001b[39m{\u001b[39;00m\u001b[39mtype\u001b[39m(arg)\u001b[39m}\u001b[39;00m\u001b[39m is not a valid \u001b[39m\u001b[39m\"\u001b[39m\n\u001b[1;32m    644\u001b[0m                     \u001b[39m\"\u001b[39m\u001b[39mJAX type.\u001b[39m\u001b[39m\"\u001b[39m)\n",
      "\u001b[0;31mTypeError\u001b[0m: Argument '201   -0.003312\n262   -0.020225\n126   -0.025824\n168   -0.018874\n21    -0.025824\n         ...   \n105   -0.016673\n191   -0.019269\n34    -0.002609\n150   -0.012492\n252   -0.010806\nLength: 230, dtype: float64' of type <class 'pandas.core.series.Series'> is not a valid JAX type."
     ]
    }
   ],
   "source": [
    "# Initialize parameter series\n",
    "params = pd.Series({},dtype='float64')\n",
    "\n",
    "# Parameter Assignment\n",
    "I_y = Parameter(name = 'I_y', prior_select=\"gamma\")\n",
    "I_y.add_prior_param(\"mu\",0.1)\n",
    "I_y.add_prior_param(\"sigma\",0.1)\n",
    "params['I_y'] = I_y\n",
    "\n",
    "I_z = Parameter(name = 'I_z', prior_select=\"gamma\")\n",
    "I_z.add_prior_param(\"mu\",0.1)\n",
    "I_z.add_prior_param(\"sigma\",0.1)\n",
    "params['I_z'] = I_z\n",
    "\n",
    "Q = Parameter(name = 'Q', prior_select=\"gamma\")\n",
    "Q.add_prior_param(\"mu\",3e13)\n",
    "Q.add_prior_param(\"sigma\",1e13)\n",
    "params['Q'] = Q\n",
    "\n",
    "# Model Assignment\n",
    "model = Model('GPM_alt_norm')\n",
    "model.add_model_param(\"H\",10)\n",
    "\n",
    "# Likelihood function assigmnent\n",
    "likelihood = Likelihood(\"gamma_fixed_sigma\")\n",
    "likelihood.add_likelihood_param(\"sigma\",1)\n",
    "# likelihood.add_likelihood_param(\"lambda_1\",1)\n",
    "# likelihood.add_likelihood_param(\"lambda_2\",0.05)\n",
    "\n",
    "# Initialize the sampler\n",
    "sampler = Sampler(params, model, likelihood, training_data, show_sample_info = True)\n",
    "hyperparams = sampler.get_hyperparams()\n",
    "\n",
    "# Sample the parameters\n",
    "params_samples = sampler.sample_all(1000)"
   ]
  },
  {
   "cell_type": "code",
   "execution_count": null,
   "id": "83666bb2",
   "metadata": {},
   "outputs": [
    {
     "name": "stdout",
     "output_type": "stream",
     "text": [
      "Creating instance\n"
     ]
    }
   ],
   "source": [
    "# visualiser = Visualiser(testing_data, params_samples, model, hyperparams, acceptance_rate, previous_instance = sampler.instance, data_path = 'results/inference')\n",
    "# visualiser.save_samples()\n",
    "# visualiser.get_traceplot()\n",
    "# visualiser.get_autocorrelations()\n",
    "\n",
    "# domain = Domain('cone_from_source_z_limited', resolution=100)\n",
    "# domain.add_domain_param('r', 100)\n",
    "# domain.add_domain_param('theta', np.pi/8)\n",
    "# domain.add_domain_param('source', [0,0,10])\n",
    "\n",
    "# visualiser.visualise_results(domain = domain, name = 'small_scale_3D_plots', title='Log Concentration of Droplets', log_results=False)\n",
    "# visualiser.animate(name = 'small_scale_3D_plots')"
   ]
  },
  {
   "cell_type": "markdown",
   "id": "8cab6123",
   "metadata": {},
   "source": []
  }
 ],
 "metadata": {
  "kernelspec": {
   "display_name": "base",
   "language": "python",
   "name": "python3"
  },
  "language_info": {
   "codemirror_mode": {
    "name": "ipython",
    "version": 3
   },
   "file_extension": ".py",
   "mimetype": "text/x-python",
   "name": "python",
   "nbconvert_exporter": "python",
   "pygments_lexer": "ipython3",
   "version": "3.9.16"
  },
  "vscode": {
   "interpreter": {
    "hash": "4836aab9230707cf36e93c729ff9a67bdbebd51947e18404ed5a25d63daeec60"
   }
  }
 },
 "nbformat": 4,
 "nbformat_minor": 5
}
