{
 "cells": [
  {
   "cell_type": "code",
   "execution_count": 1,
   "id": "0a4f4454",
   "metadata": {},
   "outputs": [],
   "source": [
    "import numpy as np\n",
    "import pandas as pd\n",
    "from sklearn.model_selection import train_test_split\n",
    "\n",
    "from inference_toolbox.parameter import Parameter\n",
    "from inference_toolbox.model import Model\n",
    "from inference_toolbox.likelihood import Likelihood\n",
    "from inference_toolbox.sampler import Sampler\n",
    "from inference_toolbox.visualiser import Visualiser\n",
    "from inference_toolbox.domain import Domain\n",
    "\n",
    "from data_processing.normaliser import Normaliser\n",
    "from data_processing.box_gridder import BoxGridder\n",
    "from gaussian_processor import GaussianProcessor"
   ]
  },
  {
   "cell_type": "code",
   "execution_count": 2,
   "id": "657693e4",
   "metadata": {},
   "outputs": [],
   "source": [
    "# # Import and select data.\n",
    "# all_data = pd.read_csv('data/total_data.csv')\n",
    "\n",
    "# # Import and select metadata.\n",
    "# metadata = pd.read_csv('data/data_summary.csv',\n",
    "#     usecols = ['Experiment', 'Wind_Dir', 'WindSpeed', 'boat.lat', 'boat.lon']\n",
    "# )"
   ]
  },
  {
   "cell_type": "code",
   "execution_count": 3,
   "id": "5874f43b",
   "metadata": {
    "scrolled": true
   },
   "outputs": [],
   "source": [
    "\n",
    "# normaliser = Normaliser(all_data, metadata)\n",
    "\n",
    "# all_experiments = normaliser.get_experiments_list()\n",
    "\n",
    "# selected_experiments = np.delete(all_experiments, np.where(all_experiments == 'Control'))\n",
    "\n",
    "# normalised_data = normaliser.normalise_data(selected_experiments)\n"
   ]
  },
  {
   "cell_type": "code",
   "execution_count": 4,
   "id": "b3b91589",
   "metadata": {},
   "outputs": [],
   "source": [
    "# box_gridder = BoxGridder(normalised_data)\n",
    "\n",
    "# averaged_df = box_gridder.get_averages([200,200,50],False)\n",
    "\n",
    "# # box_gridder.visualise_average_data(averaged_df)\n",
    "\n",
    "# # averaged_df"
   ]
  },
  {
   "cell_type": "code",
   "execution_count": 5,
   "id": "2e1e21b7",
   "metadata": {
    "scrolled": false
   },
   "outputs": [],
   "source": [
    "# gp = GaussianProcessor(averaged_df, kernel = 'matern_white', data_norm='sqrt')\n",
    "# training_data, test_data = gp.train_test_split()\n",
    "# print(training_data)\n",
    "# gp.train_gp(training_data)\n",
    "# gp.test(test_data)\n",
    "# grid = box_gridder.get_grid([10,10,10])\n",
    "# gp.predict_from_gp(grid, threeD=True, save=True, log_results=True)\n",
    "# gp.animate() "
   ]
  },
  {
   "cell_type": "code",
   "execution_count": 6,
   "id": "fa3038cb",
   "metadata": {},
   "outputs": [],
   "source": [
    "# Get dummy data\n",
    "log_dummy_data = pd.read_csv('data/log_dummy_data.csv')\n"
   ]
  },
  {
   "cell_type": "code",
   "execution_count": 7,
   "id": "705fa2e8",
   "metadata": {},
   "outputs": [],
   "source": [
    "# training_data, testing_data = train_test_split(averaged_df, test_size=0.2)\n",
    "training_data, testing_data = train_test_split(log_dummy_data, test_size=0.2)"
   ]
  },
  {
   "cell_type": "code",
   "execution_count": 8,
   "id": "28eafd50",
   "metadata": {},
   "outputs": [
    {
     "name": "stdout",
     "output_type": "stream",
     "text": [
      "     modelled  measured     residuals\n",
      "67   7.791692  7.791692  0.000000e+00\n",
      "224  9.085680  9.085680  1.776357e-15\n",
      "88   7.572623  7.572623  8.881784e-16\n",
      "272  9.194635  9.194635  0.000000e+00\n",
      "243  8.661163  8.661163  0.000000e+00\n",
      "..        ...       ...           ...\n",
      "42   8.347373  8.347373  0.000000e+00\n",
      "269  8.522598  8.522598  0.000000e+00\n",
      "141  7.945721  7.945721  0.000000e+00\n",
      "242  8.276507  8.276507  0.000000e+00\n",
      "15   7.069572  7.069572  0.000000e+00\n",
      "\n",
      "[230 rows x 3 columns]\n",
      "      modelled  measured  residuals\n",
      "67    0.963936  7.791692   6.827756\n",
      "224   9.544872  9.085680   0.459193\n",
      "88    0.217813  7.572623   7.354810\n",
      "272  10.468720  9.194635   1.274085\n",
      "243   7.621960  8.661163   1.039203\n",
      "..         ...       ...        ...\n",
      "42    2.926641  8.347373   5.420733\n",
      "269   7.115505  8.522598   1.407092\n",
      "141   2.950636  7.945721   4.995084\n",
      "242   5.703319  8.276507   2.573188\n",
      "15   -5.751503  7.069572  12.821075\n",
      "\n",
      "[230 rows x 3 columns]\n",
      "     modelled  measured     residuals\n",
      "67   7.791692  7.791692  0.000000e+00\n",
      "224  9.085680  9.085680  1.776357e-15\n",
      "88   7.572623  7.572623  8.881784e-16\n",
      "272  9.194635  9.194635  0.000000e+00\n",
      "243  8.661163  8.661163  0.000000e+00\n",
      "..        ...       ...           ...\n",
      "42   8.347373  8.347373  0.000000e+00\n",
      "269  8.522598  8.522598  0.000000e+00\n",
      "141  7.945721  7.945721  0.000000e+00\n",
      "242  8.276507  8.276507  0.000000e+00\n",
      "15   7.069572  7.069572  0.000000e+00\n",
      "\n",
      "[230 rows x 3 columns]\n",
      "     modelled  measured  residuals\n",
      "67   7.920149  7.791692   0.128457\n",
      "224  9.775578  9.085680   0.689898\n",
      "88   7.689998  7.572623   0.117374\n",
      "272  9.948431  9.194635   0.753797\n",
      "243  9.269607  8.661163   0.608444\n",
      "..        ...       ...        ...\n",
      "42   8.527759  8.347373   0.180385\n",
      "269  9.116255  8.522598   0.593657\n",
      "141  8.260727  7.945721   0.315006\n",
      "242  8.793243  8.276507   0.516736\n",
      "15   6.909339  7.069572   0.160234\n",
      "\n",
      "[230 rows x 3 columns]\n",
      "     modelled  measured     residuals\n",
      "67   7.791692  7.791692  0.000000e+00\n",
      "224  9.085680  9.085680  1.776357e-15\n",
      "88   7.572623  7.572623  8.881784e-16\n",
      "272  9.194635  9.194635  0.000000e+00\n",
      "243  8.661163  8.661163  0.000000e+00\n",
      "..        ...       ...           ...\n",
      "42   8.347373  8.347373  0.000000e+00\n",
      "269  8.522598  8.522598  0.000000e+00\n",
      "141  7.945721  7.945721  0.000000e+00\n",
      "242  8.276507  8.276507  0.000000e+00\n",
      "15   7.069572  7.069572  0.000000e+00\n",
      "\n",
      "[230 rows x 3 columns]\n",
      "     modelled  measured  residuals\n",
      "67   1.471014  7.791692   6.320678\n",
      "224  8.769589  9.085680   0.316091\n",
      "88   0.830339  7.572623   6.742285\n",
      "272  9.548609  9.194635   0.353975\n",
      "243  7.120177  8.661163   1.540986\n",
      "..        ...       ...        ...\n",
      "42   3.147582  8.347373   5.199791\n",
      "269  6.681893  8.522598   1.840705\n",
      "141  3.153616  7.945721   4.792105\n",
      "242  5.479853  8.276507   2.796654\n",
      "15  -4.348141  7.069572  11.417713\n",
      "\n",
      "[230 rows x 3 columns]\n",
      "     modelled  measured     residuals\n",
      "67   7.791692  7.791692  0.000000e+00\n",
      "224  9.085680  9.085680  1.776357e-15\n",
      "88   7.572623  7.572623  8.881784e-16\n",
      "272  9.194635  9.194635  0.000000e+00\n",
      "243  8.661163  8.661163  0.000000e+00\n",
      "..        ...       ...           ...\n",
      "42   8.347373  8.347373  0.000000e+00\n",
      "269  8.522598  8.522598  0.000000e+00\n",
      "141  7.945721  7.945721  0.000000e+00\n",
      "242  8.276507  8.276507  0.000000e+00\n",
      "15   7.069572  7.069572  0.000000e+00\n",
      "\n",
      "[230 rows x 3 columns]\n",
      "     modelled  measured  residuals\n",
      "67   8.939796  7.791692   1.148104\n",
      "224  8.502553  9.085680   0.583126\n",
      "88   8.841210  7.572623   1.268586\n",
      "272  8.418471  9.194635   0.776163\n",
      "243  8.430474  8.661163   0.230689\n",
      "..        ...       ...        ...\n",
      "42   9.176158  8.347373   0.828784\n",
      "269  8.378084  8.522598   0.144513\n",
      "141  8.651592  7.945721   0.705871\n",
      "242  8.407213  8.276507   0.130706\n",
      "15   9.754876  7.069572   2.685304\n",
      "\n",
      "[230 rows x 3 columns]\n",
      "     modelled  measured     residuals\n",
      "67   7.791692  7.791692  0.000000e+00\n",
      "224  9.085680  9.085680  1.776357e-15\n",
      "88   7.572623  7.572623  8.881784e-16\n",
      "272  9.194635  9.194635  0.000000e+00\n",
      "243  8.661163  8.661163  0.000000e+00\n",
      "..        ...       ...           ...\n",
      "42   8.347373  8.347373  0.000000e+00\n",
      "269  8.522598  8.522598  0.000000e+00\n",
      "141  7.945721  7.945721  0.000000e+00\n",
      "242  8.276507  8.276507  0.000000e+00\n",
      "15   7.069572  7.069572  0.000000e+00\n",
      "\n",
      "[230 rows x 3 columns]\n",
      "     modelled  measured  residuals\n",
      "67  -0.294272  7.791692   8.085964\n",
      "224  8.571962  9.085680   0.513717\n",
      "88  -1.050221  7.572623   8.622844\n",
      "272  9.526467  9.194635   0.331832\n",
      "243  6.598623  8.661163   2.062540\n",
      "..        ...       ...        ...\n",
      "42   1.690096  8.347373   6.657277\n",
      "269  6.080629  8.522598   2.441969\n",
      "141  1.779816  7.945721   6.165905\n",
      "242  4.626969  8.276507   3.649538\n",
      "15  -7.428558  7.069572  14.498130\n",
      "\n",
      "[230 rows x 3 columns]\n"
     ]
    }
   ],
   "source": [
    "# Initialize parameter series\n",
    "params = pd.Series({},dtype='float64')\n",
    "\n",
    "# Parameter Assignment\n",
    "I_y = Parameter(init_val = 0.1, step_select = \"gamma\", step_size = 0.1, prior_select = \"no prior\")\n",
    "I_y.add_prior_param(\"mu\",0.1)\n",
    "I_y.add_prior_param(\"sigma\",0.1)\n",
    "params['I_y'] = I_y\n",
    "\n",
    "I_z = Parameter(init_val = 0.1, step_select = \"gamma\", step_size = 0.1, prior_select = \"no prior\")\n",
    "I_z.add_prior_param(\"mu\",0.1)\n",
    "I_z.add_prior_param(\"sigma\",0.1)\n",
    "params['I_z'] = I_z\n",
    "\n",
    "Q = Parameter(init_val = 3e13, step_select = \"gamma\", step_size = 1e13, prior_select = \"no prior\")\n",
    "Q.add_prior_param(\"mu\",3e13)\n",
    "Q.add_prior_param(\"sigma\",1e13)\n",
    "params['Q'] = Q\n",
    "\n",
    "# Model Assignment\n",
    "model = Model('log_GPM_alt_norm')\n",
    "model.add_model_param(\"H\",10)\n",
    "\n",
    "# Likelihood function assigmnent\n",
    "likelihood = Likelihood(\"gaussian_fixed_sigma\")\n",
    "likelihood.add_likelihood_param(\"sigma\",1)\n",
    "# likelihood.add_likelihood_param(\"lambda_1\",1)\n",
    "# likelihood.add_likelihood_param(\"lambda_2\",0.05)\n",
    "\n",
    "# Initialize the sampler\n",
    "sampler = Sampler(params, model, likelihood, training_data, show_sample_info = True)\n",
    "hyperparams = sampler.get_hyperparams()\n",
    "\n",
    "# Sample the parameters\n",
    "params_samples, acceptance_rate = sampler.sample_all(5)"
   ]
  },
  {
   "cell_type": "code",
   "execution_count": 9,
   "id": "83666bb2",
   "metadata": {},
   "outputs": [
    {
     "name": "stdout",
     "output_type": "stream",
     "text": [
      "Creating instance\n"
     ]
    },
    {
     "name": "stderr",
     "output_type": "stream",
     "text": [
      "c:\\Users\\Sam\\OneDrive\\Documents\\PhD\\Gaussian_plume_models\\plume_inference\\inference_toolbox\\visualiser.py:333: RuntimeWarning: invalid value encountered in true_divide\n",
      "  z = (xp-np.mean(xp, axis=0))/np.std(xp, axis=0)\n"
     ]
    }
   ],
   "source": [
    "visualiser = Visualiser(testing_data, params_samples, model, hyperparams, acceptance_rate, previous_instance = sampler.instance)\n",
    "visualiser.save_samples()\n",
    "visualiser.get_traceplot()\n",
    "visualiser.get_autocorrelations()\n",
    "\n",
    "domain = Domain('cone_from_source_z_limited', resolution=200)\n",
    "domain.add_domain_param('r', 1000)\n",
    "domain.add_domain_param('theta', np.pi/8)\n",
    "domain.add_domain_param('source', [0,0,10])\n",
    "\n",
    "visualiser.visualise_results(domain = domain, name = 'small_scale_3D_plots', title='Log Concentration of Droplets', log_results=False, data_path = 'results/inference')\n",
    "visualiser.animate(name = 'small_scale_3D_plots')"
   ]
  },
  {
   "cell_type": "markdown",
   "id": "8cab6123",
   "metadata": {},
   "source": []
  }
 ],
 "metadata": {
  "kernelspec": {
   "display_name": "base",
   "language": "python",
   "name": "python3"
  },
  "language_info": {
   "codemirror_mode": {
    "name": "ipython",
    "version": 3
   },
   "file_extension": ".py",
   "mimetype": "text/x-python",
   "name": "python",
   "nbconvert_exporter": "python",
   "pygments_lexer": "ipython3",
   "version": "3.9.15"
  },
  "vscode": {
   "interpreter": {
    "hash": "4836aab9230707cf36e93c729ff9a67bdbebd51947e18404ed5a25d63daeec60"
   }
  }
 },
 "nbformat": 4,
 "nbformat_minor": 5
}
