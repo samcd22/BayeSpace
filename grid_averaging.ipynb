{
 "cells": [
  {
   "cell_type": "code",
   "execution_count": 1,
   "id": "0a4f4454",
   "metadata": {},
   "outputs": [],
   "source": [
    "import numpy as np\n",
    "import pandas as pd\n",
    "from matplotlib import pyplot as plt\n",
    "from sklearn.model_selection import train_test_split\n",
    "\n",
    "from inference_toolbox import Parameter, Model, Likelihood, Sampler, Visualiser\n",
    "from normaliser import Normaliser\n",
    "from box_gridder import BoxGridder\n",
    "from gaussian_processor import GaussianProcessor\n",
    "\n",
    "\n",
    "import numpy as np"
   ]
  },
  {
   "cell_type": "code",
   "execution_count": 2,
   "id": "657693e4",
   "metadata": {},
   "outputs": [],
   "source": [
    "# Import and select data.\n",
    "all_data = pd.read_csv('total_data.csv')\n",
    "\n",
    "# Import and select metadata.\n",
    "metadata = pd.read_csv('data_summary.csv',\n",
    "    usecols = ['Experiment', 'Wind_Dir', 'WindSpeed', 'boat.lat', 'boat.lon']\n",
    ")"
   ]
  },
  {
   "cell_type": "code",
   "execution_count": 3,
   "id": "5874f43b",
   "metadata": {
    "scrolled": true
   },
   "outputs": [],
   "source": [
    "\n",
    "normaliser = Normaliser(all_data, metadata)\n",
    "\n",
    "all_experiments = normaliser.get_experiments_list()\n",
    "\n",
    "selected_experiments = np.delete(all_experiments, np.where(all_experiments == 'Control'))\n",
    "\n",
    "normalised_data = normaliser.normalise_data(selected_experiments)\n"
   ]
  },
  {
   "cell_type": "code",
   "execution_count": 4,
   "id": "b3b91589",
   "metadata": {},
   "outputs": [
    {
     "name": "stderr",
     "output_type": "stream",
     "text": [
      "c:\\Users\\Sam\\OneDrive\\Documents\\PhD\\Gaussian_plume_models\\plume_inference\\box_gridder.py:89: RuntimeWarning: invalid value encountered in true_divide\n",
      "  averages = sums/counts\n"
     ]
    }
   ],
   "source": [
    "box_gridder = BoxGridder(normalised_data)\n",
    "\n",
    "averaged_df = box_gridder.get_averages([200,200,50],False)\n",
    "# box_gridder.visualise_average_data(averaged_df)\n",
    "\n",
    "# averaged_df"
   ]
  },
  {
   "cell_type": "code",
   "execution_count": 5,
   "id": "2e1e21b7",
   "metadata": {
    "scrolled": false
   },
   "outputs": [],
   "source": [
    "# gp = GaussianProcessor(averaged_df, kernel = 'matern_white', data_norm='sqrt')\n",
    "# training_data, test_data = gp.train_test_split()\n",
    "# print(training_data)\n",
    "# gp.train_gp(training_data)\n",
    "# gp.test(test_data)\n",
    "# grid = box_gridder.get_grid([10,10,10])\n",
    "# gp.predict_from_gp(grid, threeD=True, save=True, log_results=True)\n",
    "# gp.animate() "
   ]
  },
  {
   "cell_type": "code",
   "execution_count": 6,
   "id": "705fa2e8",
   "metadata": {},
   "outputs": [],
   "source": [
    "training_data, testing_data = train_test_split(averaged_df, test_size=0.2)"
   ]
  },
  {
   "cell_type": "code",
   "execution_count": 7,
   "id": "28eafd50",
   "metadata": {},
   "outputs": [
    {
     "name": "stdout",
     "output_type": "stream",
     "text": [
      "Running sample 1000...\n",
      "Running sample 2000...\n",
      "Running sample 3000...\n",
      "Running sample 4000...\n",
      "Running sample 5000...\n",
      "Running sample 6000...\n",
      "Running sample 7000...\n",
      "Running sample 8000...\n",
      "Running sample 9000...\n",
      "Running sample 10000...\n",
      "Running sample 11000...\n",
      "Running sample 12000...\n",
      "Running sample 13000...\n",
      "Running sample 14000...\n",
      "Running sample 15000...\n",
      "Running sample 16000...\n",
      "Running sample 17000...\n",
      "Running sample 18000...\n",
      "Running sample 19000...\n",
      "Running sample 20000...\n",
      "Running sample 21000...\n",
      "Running sample 22000...\n",
      "Running sample 23000...\n",
      "Running sample 24000...\n",
      "Running sample 25000...\n",
      "Running sample 26000...\n",
      "Running sample 27000...\n",
      "Running sample 28000...\n",
      "Running sample 29000...\n",
      "Running sample 30000...\n",
      "Running sample 31000...\n",
      "Running sample 32000...\n",
      "Running sample 33000...\n",
      "Running sample 34000...\n",
      "Running sample 35000...\n",
      "Running sample 36000...\n",
      "Running sample 37000...\n",
      "Running sample 38000...\n",
      "Running sample 39000...\n",
      "Running sample 40000...\n",
      "Running sample 41000...\n",
      "Running sample 42000...\n",
      "Running sample 43000...\n",
      "Running sample 44000...\n",
      "Running sample 45000...\n",
      "Running sample 46000...\n",
      "Running sample 47000...\n",
      "Running sample 48000...\n",
      "Running sample 49000...\n"
     ]
    },
    {
     "name": "stderr",
     "output_type": "stream",
     "text": [
      "c:\\Users\\Sam\\OneDrive\\Documents\\PhD\\Gaussian_plume_models\\plume_inference\\inference_toolbox.py:35: RuntimeWarning: divide by zero encountered in double_scalars\n",
      "  return stats.gamma.logpdf(val, a, scale=1/beta)\n",
      "c:\\Users\\Sam\\OneDrive\\Documents\\PhD\\Gaussian_plume_models\\plume_inference\\inference_toolbox.py:35: RuntimeWarning: overflow encountered in double_scalars\n",
      "  return stats.gamma.logpdf(val, a, scale=1/beta)\n"
     ]
    },
    {
     "name": "stdout",
     "output_type": "stream",
     "text": [
      "Running sample 50000...\n",
      "Running sample 51000...\n",
      "Running sample 52000...\n",
      "Running sample 53000...\n",
      "Running sample 54000...\n",
      "Running sample 55000...\n",
      "Running sample 56000...\n",
      "Running sample 57000...\n",
      "Running sample 58000...\n",
      "Running sample 59000...\n",
      "Running sample 60000...\n",
      "Running sample 61000...\n",
      "Running sample 62000...\n",
      "Running sample 63000...\n",
      "Running sample 64000...\n",
      "Running sample 65000...\n",
      "Running sample 66000...\n",
      "Running sample 67000...\n",
      "Running sample 68000...\n",
      "Running sample 69000...\n",
      "Running sample 70000...\n",
      "Running sample 71000...\n",
      "Running sample 72000...\n",
      "Running sample 73000...\n",
      "Running sample 74000...\n",
      "Running sample 75000...\n",
      "Running sample 76000...\n",
      "Running sample 77000...\n",
      "Running sample 78000...\n",
      "Running sample 79000...\n",
      "Running sample 80000...\n",
      "Running sample 81000...\n",
      "Running sample 82000...\n",
      "Running sample 83000...\n",
      "Running sample 84000...\n",
      "Running sample 85000...\n",
      "Running sample 86000...\n",
      "Running sample 87000...\n",
      "Running sample 88000...\n",
      "Running sample 89000...\n",
      "Running sample 90000...\n",
      "Running sample 91000...\n",
      "Running sample 92000...\n",
      "Running sample 93000...\n",
      "Running sample 94000...\n",
      "Running sample 95000...\n",
      "Running sample 96000...\n",
      "Running sample 97000...\n",
      "Running sample 98000...\n",
      "Running sample 99000...\n",
      "Running sample 100000...\n"
     ]
    }
   ],
   "source": [
    "# Initialize parameter series\n",
    "params = pd.Series({},dtype='float64')\n",
    "\n",
    "# Parameter Assignment\n",
    "I_y = Parameter(init_val = 0.1, step_select = \"gamma\", step_size = 0.1, prior_select = \"no prior\")\n",
    "I_y.add_prior_param(\"mu\",0.1)\n",
    "I_y.add_prior_param(\"sigma\",0.1)\n",
    "params['I_y'] = I_y\n",
    "\n",
    "I_z = Parameter(init_val = 0.1, step_select = \"gamma\", step_size = 0.1, prior_select = \"no prior\")\n",
    "I_z.add_prior_param(\"mu\",0.1)\n",
    "I_z.add_prior_param(\"sigma\",0.1)\n",
    "params['I_z'] = I_z\n",
    "\n",
    "Q = Parameter(init_val = 3e13, step_select = \"gamma\", step_size = 1e12, prior_select = \"no prior\")\n",
    "Q.add_prior_param(\"mu\",3e13)\n",
    "Q.add_prior_param(\"sigma\",1e12)\n",
    "params['Q'] = Q\n",
    "\n",
    "# Model Assignment\n",
    "model = Model('GPM_alt_norm')\n",
    "model.add_model_param(\"H\",10)\n",
    "\n",
    "# Likelihood function assigmnent\n",
    "likelihood = Likelihood(\"gaussian_fixed_sigma\")\n",
    "likelihood.add_likelihood_param(\"sigma\",1e10)\n",
    "# likelihood.add_likelihood_param(\"lambda_1\",1)\n",
    "# likelihood.add_likelihood_param(\"lambda_2\",0.05)\n",
    "\n",
    "# Initialize the sampler\n",
    "sampler = Sampler(params, model, likelihood, training_data)\n",
    "hyperparams = sampler.get_hyperparams()\n",
    "\n",
    "# Sample the parameters\n",
    "params_samples, acceptance_rate = sampler.sample_all(100000)\n",
    "\n",
    "params_mean = sampler.get_mean_samples(params_samples)\n",
    "params_lower = sampler.get_lower_samples(params_samples)\n",
    "params_upper = sampler.get_upper_samples(params_samples)"
   ]
  },
  {
   "cell_type": "code",
   "execution_count": 8,
   "id": "83666bb2",
   "metadata": {},
   "outputs": [],
   "source": [
    "x = np.linspace(0.1, 1200, 81)\n",
    "y = np.linspace(-1000, 1000, 81)\n",
    "z = np.linspace(0,200,81)\n",
    "\n",
    "domain = np.array([x,y,z]).T\n",
    "\n",
    "params_all = [params_lower, params_mean, params_upper]\n",
    "\n",
    "visualiser = Visualiser(testing_data, params_all, model, hyperparams, acceptance_rate)\n",
    "instance = visualiser.visualise_results(domain, save = True)\n",
    "visualiser.get_traceplot(params_samples, instance, save = True)\n",
    "visualiser.animate(instance)"
   ]
  }
 ],
 "metadata": {
  "kernelspec": {
   "display_name": "base",
   "language": "python",
   "name": "python3"
  },
  "language_info": {
   "codemirror_mode": {
    "name": "ipython",
    "version": 3
   },
   "file_extension": ".py",
   "mimetype": "text/x-python",
   "name": "python",
   "nbconvert_exporter": "python",
   "pygments_lexer": "ipython3",
   "version": "3.9.15"
  },
  "vscode": {
   "interpreter": {
    "hash": "4836aab9230707cf36e93c729ff9a67bdbebd51947e18404ed5a25d63daeec60"
   }
  }
 },
 "nbformat": 4,
 "nbformat_minor": 5
}
