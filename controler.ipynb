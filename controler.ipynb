{
 "cells": [
  {
   "attachments": {},
   "cell_type": "markdown",
   "metadata": {},
   "source": [
    "# Controller #"
   ]
  },
  {
   "attachments": {},
   "cell_type": "markdown",
   "metadata": {},
   "source": [
    "Import all neccessary packages"
   ]
  },
  {
   "cell_type": "code",
   "execution_count": null,
   "metadata": {},
   "outputs": [],
   "source": [
    "import os\n",
    "import pandas as pd\n",
    "import numpy as np\n",
    "\n",
    "from drivers.sandbox import Sandbox\n",
    "from drivers.generator import Generator\n",
    "from drivers.optimiser import Optimiser\n",
    "\n",
    "from inference_toolbox.domain import Domain\n",
    "from inference_toolbox.parameter import Parameter\n",
    "from inference_toolbox.model import Model\n",
    "from inference_toolbox.likelihood import Likelihood\n",
    "\n",
    "current_directory = os.getcwd()\n",
    "if current_directory != '/project/':\n",
    "    os.chdir('/project/')"
   ]
  },
  {
   "attachments": {},
   "cell_type": "markdown",
   "metadata": {},
   "source": [
    "Define how the data is to be generated and what default inputs should be used"
   ]
  },
  {
   "cell_type": "code",
   "execution_count": 2,
   "metadata": {},
   "outputs": [],
   "source": [
    "data_params = {\n",
    "    'data_type': 'gridded',\n",
    "    'output_header': 'Concentration',\n",
    "    'log':True,\n",
    "    'grid_size': [200,200,50],\n",
    "    'target': False,\n",
    "    'data_path':'data'\n",
    "}\n",
    "\n",
    "default_params = {\n",
    "    'infered_params':pd.Series({\n",
    "        'model_params':pd.Series({\n",
    "            'I_y': Parameter('I_y', prior_select = 'gamma', default_value=0.1).add_prior_param('mu', 0.1).add_prior_param('sigma',0.1),\n",
    "            'I_z': Parameter('I_z', prior_select = 'gamma', default_value=0.1).add_prior_param('mu', 0.1).add_prior_param('sigma',0.1),\n",
    "            'Q': Parameter('Q', prior_select = 'gamma', default_value=3e13).add_prior_param('mu', 3e13).add_prior_param('sigma',1e13),\n",
    "        }),\n",
    "        'likelihood_params':pd.Series({})\n",
    "    }),\n",
    "    'model':Model('log_gpm_alt_norm').add_model_param('H',10),\n",
    "    'likelihood': Likelihood('gaussian_fixed_sigma').add_likelihood_param('sigma',1),\n",
    "    'sampler': {\n",
    "        'n_samples': 10000,\n",
    "        'n_chains': 3,\n",
    "        'thinning_rate': 1\n",
    "    }\n",
    "}"
   ]
  },
  {
   "attachments": {},
   "cell_type": "markdown",
   "metadata": {},
   "source": [
    "## Sandbox ##\n",
    "\n",
    "Create an instance with the inputted default parameters and visualise it in different ways"
   ]
  },
  {
   "cell_type": "code",
   "execution_count": 3,
   "metadata": {},
   "outputs": [
    {
     "name": "stdout",
     "output_type": "stream",
     "text": [
      "Loading Chain Samples...\n",
      "Loading Samples...\n",
      "Traceplot 1 already exists\n",
      "Traceplot 2 already exists\n",
      "Traceplot 3 already exists\n",
      "Autocorrelations plot 1 already exists\n",
      "Autocorrelations plot 2 already exists\n",
      "Autocorrelations plot 3 already exists\n",
      "Plots already exist!\n",
      "Animation already exist!\n"
     ]
    }
   ],
   "source": [
    "sandbox = Sandbox(results_name='gridded_data_200_200_50_real_fixed_sigma', \n",
    "                  default_params=default_params, \n",
    "                  data_params=data_params)\n",
    "\n",
    "visualiser = sandbox.run()\n",
    "visualiser.get_summary()\n",
    "visualiser.get_traceplot()\n",
    "visualiser.get_autocorrelations()\n",
    "\n",
    "domain = Domain('cone_from_source_z_limited', resolution=80)\n",
    "domain.add_domain_param('r', 100)\n",
    "domain.add_domain_param('theta', np.pi/8)\n",
    "domain.add_domain_param('source', [0,0,10])\n",
    "\n",
    "visualiser.visualise_results(domain = domain, name = 'small_scale_3D_plots', title='Log Concentration of Droplets', log_results=False)\n",
    "visualiser.animate(name = 'small_scale_3D_plots')"
   ]
  },
  {
   "attachments": {},
   "cell_type": "markdown",
   "metadata": {},
   "source": [
    "## Generator ##\n",
    "\n",
    "Generate different instances by varying the hyperparameters with respect to their defaults"
   ]
  },
  {
   "cell_type": "code",
   "execution_count": 4,
   "metadata": {},
   "outputs": [],
   "source": [
    "generator = Generator(results_name='gridded_data_200_200_50_real_fixed_sigma', \n",
    "                  default_params=default_params, \n",
    "                  data_params=data_params)"
   ]
  },
  {
   "attachments": {},
   "cell_type": "markdown",
   "metadata": {},
   "source": [
    "Vary one hyperparameter"
   ]
  },
  {
   "cell_type": "code",
   "execution_count": 5,
   "metadata": {},
   "outputs": [
    {
     "name": "stdout",
     "output_type": "stream",
     "text": [
      "Working on varying likelihood_sigma...\n"
     ]
    }
   ],
   "source": [
    "analysis_iterations = {\n",
    "    'parameters':\n",
    "    [\n",
    "        'likelihood_sigma', \n",
    "    ],\n",
    "    'values':\n",
    "    [\n",
    "        np.array([0.2, 0.4, 0.6, 0.8, 1, 1.2, 1.4, 1.6, 1.8, 2, 2.2, 2.4, 2.6, 2.8, 3, 3.2, 3.4, 3.6, 3.8, 4])\n",
    "    ]\n",
    "}\n",
    "\n",
    "for i in range(len(analysis_iterations['parameters'])):\n",
    "    parameter = analysis_iterations['parameters'][i]\n",
    "    print('Working on varying ' + parameter + '...')\n",
    "    values = analysis_iterations['values'][i]\n",
    "    inputs = generator.vary_one_parameter(parameter, values, xscale='linear', plot=True)"
   ]
  },
  {
   "attachments": {},
   "cell_type": "markdown",
   "metadata": {},
   "source": [
    "Vary two hyperparameters"
   ]
  },
  {
   "cell_type": "code",
   "execution_count": 6,
   "metadata": {},
   "outputs": [
    {
     "name": "stdout",
     "output_type": "stream",
     "text": [
      "Working on varying I_y_sigma...\n",
      "Generating instance 1...\n"
     ]
    },
    {
     "name": "stderr",
     "output_type": "stream",
     "text": [
      "sample: 100%|██████████| 12500/12500 [00:12<00:00, 1040.08it/s, 1023 steps of size 2.87e-07. acc. prob=0.80]\n",
      "sample: 100%|██████████| 12500/12500 [00:10<00:00, 1164.70it/s, 511 steps of size 2.50e-07. acc. prob=0.82] \n",
      "sample: 100%|██████████| 12500/12500 [00:10<00:00, 1182.80it/s, 511 steps of size 2.65e-07. acc. prob=0.81] \n"
     ]
    },
    {
     "name": "stdout",
     "output_type": "stream",
     "text": [
      "Generating instance 2...\n"
     ]
    },
    {
     "name": "stderr",
     "output_type": "stream",
     "text": [
      "sample: 100%|██████████| 12500/12500 [00:03<00:00, 3843.81it/s, 3 steps of size 7.07e-01. acc. prob=0.90]\n",
      "sample: 100%|██████████| 12500/12500 [00:01<00:00, 6551.00it/s, 7 steps of size 7.15e-01. acc. prob=0.90]\n",
      "sample: 100%|██████████| 12500/12500 [00:01<00:00, 6498.00it/s, 3 steps of size 7.20e-01. acc. prob=0.89]\n"
     ]
    },
    {
     "name": "stdout",
     "output_type": "stream",
     "text": [
      "Generating instance 3...\n"
     ]
    },
    {
     "name": "stderr",
     "output_type": "stream",
     "text": [
      "sample: 100%|██████████| 12500/12500 [00:03<00:00, 3928.09it/s, 3 steps of size 6.87e-01. acc. prob=0.91]\n",
      "sample: 100%|██████████| 12500/12500 [00:01<00:00, 6560.86it/s, 7 steps of size 6.45e-01. acc. prob=0.92]\n",
      "sample: 100%|██████████| 12500/12500 [00:01<00:00, 6413.05it/s, 3 steps of size 6.41e-01. acc. prob=0.93]\n"
     ]
    },
    {
     "name": "stdout",
     "output_type": "stream",
     "text": [
      "Generating instance 4...\n"
     ]
    },
    {
     "name": "stderr",
     "output_type": "stream",
     "text": [
      "sample: 100%|██████████| 12500/12500 [00:03<00:00, 3795.06it/s, 7 steps of size 6.97e-01. acc. prob=0.91]\n",
      "sample: 100%|██████████| 12500/12500 [00:01<00:00, 6442.49it/s, 1 steps of size 8.00e-01. acc. prob=0.88]\n",
      "sample: 100%|██████████| 12500/12500 [00:01<00:00, 6324.24it/s, 3 steps of size 6.92e-01. acc. prob=0.91]\n"
     ]
    },
    {
     "name": "stdout",
     "output_type": "stream",
     "text": [
      "Generating instance 5...\n"
     ]
    },
    {
     "name": "stderr",
     "output_type": "stream",
     "text": [
      "sample: 100%|██████████| 12500/12500 [00:03<00:00, 3605.14it/s, 3 steps of size 6.61e-01. acc. prob=0.92]\n",
      "sample: 100%|██████████| 12500/12500 [00:01<00:00, 6472.32it/s, 7 steps of size 7.24e-01. acc. prob=0.91]\n",
      "sample: 100%|██████████| 12500/12500 [00:01<00:00, 6318.68it/s, 3 steps of size 6.78e-01. acc. prob=0.92]\n"
     ]
    },
    {
     "name": "stdout",
     "output_type": "stream",
     "text": [
      "Generating instance 6...\n"
     ]
    },
    {
     "name": "stderr",
     "output_type": "stream",
     "text": [
      "sample: 100%|██████████| 12500/12500 [00:03<00:00, 3864.88it/s, 3 steps of size 7.19e-01. acc. prob=0.91]\n",
      "sample: 100%|██████████| 12500/12500 [00:01<00:00, 6595.41it/s, 7 steps of size 7.44e-01. acc. prob=0.90]\n",
      "sample: 100%|██████████| 12500/12500 [00:01<00:00, 6643.58it/s, 3 steps of size 6.53e-01. acc. prob=0.93]\n"
     ]
    },
    {
     "name": "stdout",
     "output_type": "stream",
     "text": [
      "Generating instance 7...\n"
     ]
    },
    {
     "name": "stderr",
     "output_type": "stream",
     "text": [
      "sample: 100%|██████████| 12500/12500 [00:03<00:00, 3849.08it/s, 3 steps of size 8.17e-01. acc. prob=0.88]\n",
      "sample: 100%|██████████| 12500/12500 [00:01<00:00, 6600.03it/s, 7 steps of size 8.66e-01. acc. prob=0.86]\n",
      "sample: 100%|██████████| 12500/12500 [00:01<00:00, 6618.30it/s, 3 steps of size 6.74e-01. acc. prob=0.93]\n"
     ]
    },
    {
     "name": "stdout",
     "output_type": "stream",
     "text": [
      "Generating instance 8...\n"
     ]
    },
    {
     "name": "stderr",
     "output_type": "stream",
     "text": [
      "sample: 100%|██████████| 12500/12500 [00:03<00:00, 3862.58it/s, 7 steps of size 6.00e-01. acc. prob=0.92]\n",
      "sample: 100%|██████████| 12500/12500 [00:01<00:00, 6554.57it/s, 7 steps of size 7.05e-01. acc. prob=0.89]\n",
      "sample: 100%|██████████| 12500/12500 [00:01<00:00, 6563.90it/s, 3 steps of size 6.02e-01. acc. prob=0.93]\n"
     ]
    },
    {
     "name": "stdout",
     "output_type": "stream",
     "text": [
      "Generating instance 9...\n"
     ]
    },
    {
     "name": "stderr",
     "output_type": "stream",
     "text": [
      "sample: 100%|██████████| 12500/12500 [00:03<00:00, 3934.81it/s, 3 steps of size 7.76e-01. acc. prob=0.86]\n",
      "sample: 100%|██████████| 12500/12500 [00:01<00:00, 6411.53it/s, 7 steps of size 6.92e-01. acc. prob=0.90]\n",
      "sample: 100%|██████████| 12500/12500 [00:01<00:00, 6504.24it/s, 3 steps of size 6.81e-01. acc. prob=0.91]\n"
     ]
    },
    {
     "name": "stdout",
     "output_type": "stream",
     "text": [
      "Generating instance 10...\n"
     ]
    },
    {
     "name": "stderr",
     "output_type": "stream",
     "text": [
      "sample: 100%|██████████| 12500/12500 [00:03<00:00, 3698.37it/s, 3 steps of size 7.64e-01. acc. prob=0.91]\n",
      "sample: 100%|██████████| 12500/12500 [00:01<00:00, 6307.23it/s, 7 steps of size 7.48e-01. acc. prob=0.91]\n",
      "sample: 100%|██████████| 12500/12500 [00:01<00:00, 6401.97it/s, 3 steps of size 8.56e-01. acc. prob=0.89] \n"
     ]
    },
    {
     "name": "stdout",
     "output_type": "stream",
     "text": [
      "Generating instance 11...\n"
     ]
    },
    {
     "name": "stderr",
     "output_type": "stream",
     "text": [
      "sample: 100%|██████████| 12500/12500 [00:12<00:00, 1032.28it/s, 1023 steps of size 2.73e-07. acc. prob=0.80]\n",
      "sample: 100%|██████████| 12500/12500 [00:10<00:00, 1150.52it/s, 511 steps of size 2.47e-07. acc. prob=0.82] \n",
      "sample: 100%|██████████| 12500/12500 [00:10<00:00, 1159.71it/s, 511 steps of size 2.62e-07. acc. prob=0.81] \n"
     ]
    },
    {
     "name": "stdout",
     "output_type": "stream",
     "text": [
      "Generating instance 12...\n"
     ]
    },
    {
     "name": "stderr",
     "output_type": "stream",
     "text": [
      "sample: 100%|██████████| 12500/12500 [00:03<00:00, 3762.65it/s, 14 steps of size 1.25e-02. acc. prob=0.75]\n",
      "sample: 100%|██████████| 12500/12500 [00:01<00:00, 6333.80it/s, 1 steps of size 1.75e-02. acc. prob=0.69] \n",
      "sample: 100%|██████████| 12500/12500 [00:01<00:00, 6347.70it/s, 8 steps of size 9.95e-03. acc. prob=0.78] \n"
     ]
    },
    {
     "name": "stdout",
     "output_type": "stream",
     "text": [
      "Generating instance 13...\n"
     ]
    },
    {
     "name": "stderr",
     "output_type": "stream",
     "text": [
      "sample: 100%|██████████| 12500/12500 [00:03<00:00, 3716.15it/s, 3 steps of size 7.71e-01. acc. prob=0.91]\n",
      "sample: 100%|██████████| 12500/12500 [00:01<00:00, 6365.16it/s, 1 steps of size 8.29e-01. acc. prob=0.90]\n",
      "sample: 100%|██████████| 12500/12500 [00:01<00:00, 6373.16it/s, 3 steps of size 8.22e-01. acc. prob=0.90] \n"
     ]
    },
    {
     "name": "stdout",
     "output_type": "stream",
     "text": [
      "Generating instance 14...\n"
     ]
    },
    {
     "name": "stderr",
     "output_type": "stream",
     "text": [
      "sample: 100%|██████████| 12500/12500 [00:03<00:00, 3789.06it/s, 3 steps of size 7.60e-01. acc. prob=0.91]\n",
      "sample: 100%|██████████| 12500/12500 [00:01<00:00, 6464.03it/s, 7 steps of size 7.92e-01. acc. prob=0.90]\n",
      "sample: 100%|██████████| 12500/12500 [00:01<00:00, 6368.96it/s, 3 steps of size 7.20e-01. acc. prob=0.92]\n"
     ]
    },
    {
     "name": "stdout",
     "output_type": "stream",
     "text": [
      "Generating instance 15...\n"
     ]
    },
    {
     "name": "stderr",
     "output_type": "stream",
     "text": [
      "sample: 100%|██████████| 12500/12500 [00:03<00:00, 3790.67it/s, 3 steps of size 8.23e-01. acc. prob=0.89]\n",
      "sample: 100%|██████████| 12500/12500 [00:01<00:00, 6389.71it/s, 1 steps of size 7.20e-01. acc. prob=0.92] \n",
      "sample: 100%|██████████| 12500/12500 [00:01<00:00, 6433.90it/s, 3 steps of size 7.48e-01. acc. prob=0.92]\n"
     ]
    },
    {
     "name": "stdout",
     "output_type": "stream",
     "text": [
      "Generating instance 16...\n"
     ]
    },
    {
     "name": "stderr",
     "output_type": "stream",
     "text": [
      "sample: 100%|██████████| 12500/12500 [00:03<00:00, 3763.17it/s, 3 steps of size 7.17e-01. acc. prob=0.91]\n",
      "sample: 100%|██████████| 12500/12500 [00:01<00:00, 6366.76it/s, 1 steps of size 7.00e-01. acc. prob=0.92]\n",
      "sample: 100%|██████████| 12500/12500 [00:01<00:00, 6429.45it/s, 3 steps of size 7.33e-01. acc. prob=0.91]\n"
     ]
    },
    {
     "name": "stdout",
     "output_type": "stream",
     "text": [
      "Generating instance 17...\n"
     ]
    },
    {
     "name": "stderr",
     "output_type": "stream",
     "text": [
      "sample: 100%|██████████| 12500/12500 [00:03<00:00, 3813.54it/s, 3 steps of size 8.42e-01. acc. prob=0.88]\n",
      "sample: 100%|██████████| 12500/12500 [00:01<00:00, 6425.61it/s, 7 steps of size 7.80e-01. acc. prob=0.90]\n",
      "sample: 100%|██████████| 12500/12500 [00:01<00:00, 6497.62it/s, 3 steps of size 7.39e-01. acc. prob=0.91]\n"
     ]
    },
    {
     "name": "stdout",
     "output_type": "stream",
     "text": [
      "Generating instance 18...\n"
     ]
    },
    {
     "name": "stderr",
     "output_type": "stream",
     "text": [
      "sample: 100%|██████████| 12500/12500 [00:03<00:00, 3650.74it/s, 3 steps of size 7.24e-01. acc. prob=0.92]\n",
      "sample: 100%|██████████| 12500/12500 [00:02<00:00, 6176.18it/s, 7 steps of size 7.98e-01. acc. prob=0.89]\n",
      "sample: 100%|██████████| 12500/12500 [00:01<00:00, 6259.47it/s, 3 steps of size 7.27e-01. acc. prob=0.92]\n"
     ]
    },
    {
     "name": "stdout",
     "output_type": "stream",
     "text": [
      "Generating instance 19...\n"
     ]
    },
    {
     "name": "stderr",
     "output_type": "stream",
     "text": [
      "sample: 100%|██████████| 12500/12500 [00:03<00:00, 3612.59it/s, 3 steps of size 8.00e-01. acc. prob=0.90]\n",
      "sample: 100%|██████████| 12500/12500 [00:01<00:00, 6314.05it/s, 1 steps of size 7.42e-01. acc. prob=0.91]\n",
      "sample: 100%|██████████| 12500/12500 [00:01<00:00, 6371.20it/s, 3 steps of size 7.73e-01. acc. prob=0.90]\n"
     ]
    },
    {
     "name": "stdout",
     "output_type": "stream",
     "text": [
      "Generating instance 20...\n"
     ]
    },
    {
     "name": "stderr",
     "output_type": "stream",
     "text": [
      "sample: 100%|██████████| 12500/12500 [00:03<00:00, 3762.79it/s, 3 steps of size 7.02e-01. acc. prob=0.92]\n",
      "sample: 100%|██████████| 12500/12500 [00:01<00:00, 6373.50it/s, 1 steps of size 7.18e-01. acc. prob=0.91]\n",
      "sample: 100%|██████████| 12500/12500 [00:01<00:00, 6392.61it/s, 3 steps of size 8.37e-01. acc. prob=0.89]\n"
     ]
    },
    {
     "name": "stdout",
     "output_type": "stream",
     "text": [
      "Generating instance 21...\n"
     ]
    },
    {
     "name": "stderr",
     "output_type": "stream",
     "text": [
      "sample: 100%|██████████| 12500/12500 [00:12<00:00, 1038.28it/s, 1023 steps of size 2.74e-07. acc. prob=0.80]\n",
      "sample: 100%|██████████| 12500/12500 [00:10<00:00, 1190.82it/s, 511 steps of size 2.48e-07. acc. prob=0.82] \n",
      "sample: 100%|██████████| 12500/12500 [00:10<00:00, 1176.25it/s, 511 steps of size 2.63e-07. acc. prob=0.81] \n"
     ]
    },
    {
     "name": "stdout",
     "output_type": "stream",
     "text": [
      "Generating instance 22...\n"
     ]
    },
    {
     "name": "stderr",
     "output_type": "stream",
     "text": [
      "sample: 100%|██████████| 12500/12500 [00:03<00:00, 3639.36it/s, 23 steps of size 6.78e-03. acc. prob=0.78]\n",
      "sample: 100%|██████████| 12500/12500 [00:02<00:00, 6231.72it/s, 1 steps of size 1.58e-02. acc. prob=0.62]\n",
      "sample: 100%|██████████| 12500/12500 [00:01<00:00, 6296.00it/s, 3 steps of size 8.77e-03. acc. prob=0.74]\n"
     ]
    },
    {
     "name": "stdout",
     "output_type": "stream",
     "text": [
      "Generating instance 23...\n"
     ]
    },
    {
     "name": "stderr",
     "output_type": "stream",
     "text": [
      "sample: 100%|██████████| 12500/12500 [00:03<00:00, 3753.59it/s, 3 steps of size 7.73e-01. acc. prob=0.91]\n",
      "sample: 100%|██████████| 12500/12500 [00:01<00:00, 6349.02it/s, 7 steps of size 7.50e-01. acc. prob=0.92]\n",
      "sample: 100%|██████████| 12500/12500 [00:01<00:00, 6301.23it/s, 3 steps of size 8.32e-01. acc. prob=0.90]\n"
     ]
    },
    {
     "name": "stdout",
     "output_type": "stream",
     "text": [
      "Generating instance 24...\n"
     ]
    },
    {
     "name": "stderr",
     "output_type": "stream",
     "text": [
      "sample: 100%|██████████| 12500/12500 [00:03<00:00, 3782.41it/s, 3 steps of size 7.40e-01. acc. prob=0.92]\n",
      "sample: 100%|██████████| 12500/12500 [00:01<00:00, 6333.32it/s, 1 steps of size 8.30e-01. acc. prob=0.89] \n",
      "sample: 100%|██████████| 12500/12500 [00:01<00:00, 6252.57it/s, 3 steps of size 7.84e-01. acc. prob=0.91]\n"
     ]
    },
    {
     "name": "stdout",
     "output_type": "stream",
     "text": [
      "Generating instance 25...\n"
     ]
    },
    {
     "name": "stderr",
     "output_type": "stream",
     "text": [
      "sample: 100%|██████████| 12500/12500 [00:03<00:00, 3692.96it/s, 3 steps of size 7.64e-01. acc. prob=0.91]\n",
      "sample: 100%|██████████| 12500/12500 [00:01<00:00, 6441.71it/s, 1 steps of size 7.62e-01. acc. prob=0.91] \n",
      "sample: 100%|██████████| 12500/12500 [00:01<00:00, 6431.46it/s, 3 steps of size 8.13e-01. acc. prob=0.90]\n"
     ]
    },
    {
     "name": "stdout",
     "output_type": "stream",
     "text": [
      "Generating instance 26...\n"
     ]
    },
    {
     "name": "stderr",
     "output_type": "stream",
     "text": [
      "sample: 100%|██████████| 12500/12500 [00:03<00:00, 3781.94it/s, 3 steps of size 8.65e-01. acc. prob=0.89] \n",
      "sample: 100%|██████████| 12500/12500 [00:02<00:00, 6235.27it/s, 1 steps of size 7.85e-01. acc. prob=0.91]\n",
      "sample: 100%|██████████| 12500/12500 [00:01<00:00, 6268.10it/s, 3 steps of size 8.21e-01. acc. prob=0.91]\n"
     ]
    },
    {
     "name": "stdout",
     "output_type": "stream",
     "text": [
      "Generating instance 27...\n"
     ]
    },
    {
     "name": "stderr",
     "output_type": "stream",
     "text": [
      "sample: 100%|██████████| 12500/12500 [00:03<00:00, 3646.17it/s, 3 steps of size 6.87e-01. acc. prob=0.93]\n",
      "sample: 100%|██████████| 12500/12500 [00:01<00:00, 6302.14it/s, 1 steps of size 7.27e-01. acc. prob=0.92]\n",
      "sample: 100%|██████████| 12500/12500 [00:01<00:00, 6284.24it/s, 3 steps of size 6.86e-01. acc. prob=0.93]\n"
     ]
    },
    {
     "name": "stdout",
     "output_type": "stream",
     "text": [
      "Generating instance 28...\n"
     ]
    },
    {
     "name": "stderr",
     "output_type": "stream",
     "text": [
      "sample: 100%|██████████| 12500/12500 [00:03<00:00, 3763.66it/s, 3 steps of size 8.77e-01. acc. prob=0.88]\n",
      "sample: 100%|██████████| 12500/12500 [00:02<00:00, 6131.30it/s, 7 steps of size 8.72e-01. acc. prob=0.89]\n",
      "sample: 100%|██████████| 12500/12500 [00:01<00:00, 6268.88it/s, 3 steps of size 8.09e-01. acc. prob=0.91]\n"
     ]
    },
    {
     "name": "stdout",
     "output_type": "stream",
     "text": [
      "Generating instance 29...\n"
     ]
    },
    {
     "name": "stderr",
     "output_type": "stream",
     "text": [
      "sample: 100%|██████████| 12500/12500 [00:03<00:00, 3686.12it/s, 3 steps of size 7.22e-01. acc. prob=0.91]\n",
      "sample: 100%|██████████| 12500/12500 [00:01<00:00, 6261.20it/s, 1 steps of size 8.39e-01. acc. prob=0.87]\n",
      "sample: 100%|██████████| 12500/12500 [00:02<00:00, 6249.04it/s, 3 steps of size 7.66e-01. acc. prob=0.90]\n"
     ]
    },
    {
     "name": "stdout",
     "output_type": "stream",
     "text": [
      "Generating instance 30...\n"
     ]
    },
    {
     "name": "stderr",
     "output_type": "stream",
     "text": [
      "sample: 100%|██████████| 12500/12500 [00:03<00:00, 3655.32it/s, 3 steps of size 8.40e-01. acc. prob=0.89]\n",
      "sample: 100%|██████████| 12500/12500 [00:02<00:00, 6064.45it/s, 1 steps of size 7.64e-01. acc. prob=0.92]\n",
      "sample: 100%|██████████| 12500/12500 [00:01<00:00, 6308.78it/s, 3 steps of size 7.94e-01. acc. prob=0.91]\n"
     ]
    },
    {
     "name": "stdout",
     "output_type": "stream",
     "text": [
      "Generating instance 31...\n"
     ]
    },
    {
     "name": "stderr",
     "output_type": "stream",
     "text": [
      "sample: 100%|██████████| 12500/12500 [00:12<00:00, 1017.03it/s, 1023 steps of size 2.84e-07. acc. prob=0.80]\n",
      "sample: 100%|██████████| 12500/12500 [00:10<00:00, 1157.90it/s, 511 steps of size 2.49e-07. acc. prob=0.82] \n",
      "sample: 100%|██████████| 12500/12500 [00:10<00:00, 1166.86it/s, 511 steps of size 2.63e-07. acc. prob=0.81] \n"
     ]
    },
    {
     "name": "stdout",
     "output_type": "stream",
     "text": [
      "Generating instance 32...\n"
     ]
    },
    {
     "name": "stderr",
     "output_type": "stream",
     "text": [
      "sample: 100%|██████████| 12500/12500 [00:03<00:00, 3631.31it/s, 21 steps of size 4.88e-03. acc. prob=0.80]\n",
      "sample: 100%|██████████| 12500/12500 [00:02<00:00, 6115.47it/s, 1 steps of size 1.24e-02. acc. prob=0.62] \n",
      "sample: 100%|██████████| 12500/12500 [00:02<00:00, 5916.57it/s, 9 steps of size 2.50e-03. acc. prob=0.87] \n"
     ]
    },
    {
     "name": "stdout",
     "output_type": "stream",
     "text": [
      "Generating instance 33...\n"
     ]
    },
    {
     "name": "stderr",
     "output_type": "stream",
     "text": [
      "sample: 100%|██████████| 12500/12500 [00:03<00:00, 3822.92it/s, 7 steps of size 7.04e-01. acc. prob=0.93]\n",
      "sample: 100%|██████████| 12500/12500 [00:01<00:00, 6396.61it/s, 3 steps of size 7.99e-01. acc. prob=0.90]\n",
      "sample: 100%|██████████| 12500/12500 [00:01<00:00, 6396.70it/s, 3 steps of size 7.47e-01. acc. prob=0.92]\n"
     ]
    },
    {
     "name": "stdout",
     "output_type": "stream",
     "text": [
      "Generating instance 34...\n"
     ]
    },
    {
     "name": "stderr",
     "output_type": "stream",
     "text": [
      "sample: 100%|██████████| 12500/12500 [00:03<00:00, 3658.54it/s, 3 steps of size 7.55e-01. acc. prob=0.91]\n",
      "sample: 100%|██████████| 12500/12500 [00:02<00:00, 6111.11it/s, 1 steps of size 7.23e-01. acc. prob=0.92]\n",
      "sample: 100%|██████████| 12500/12500 [00:01<00:00, 6252.18it/s, 3 steps of size 7.75e-01. acc. prob=0.91] \n"
     ]
    },
    {
     "name": "stdout",
     "output_type": "stream",
     "text": [
      "Generating instance 35...\n"
     ]
    },
    {
     "name": "stderr",
     "output_type": "stream",
     "text": [
      "sample: 100%|██████████| 12500/12500 [00:03<00:00, 3648.16it/s, 3 steps of size 7.60e-01. acc. prob=0.91]\n",
      "sample: 100%|██████████| 12500/12500 [00:02<00:00, 6129.23it/s, 1 steps of size 8.20e-01. acc. prob=0.89]\n",
      "sample: 100%|██████████| 12500/12500 [00:02<00:00, 6166.56it/s, 3 steps of size 7.21e-01. acc. prob=0.93]\n"
     ]
    },
    {
     "name": "stdout",
     "output_type": "stream",
     "text": [
      "Generating instance 36...\n"
     ]
    },
    {
     "name": "stderr",
     "output_type": "stream",
     "text": [
      "sample: 100%|██████████| 12500/12500 [00:03<00:00, 3600.45it/s, 3 steps of size 7.23e-01. acc. prob=0.92]\n",
      "sample: 100%|██████████| 12500/12500 [00:02<00:00, 6185.51it/s, 1 steps of size 7.91e-01. acc. prob=0.90]\n",
      "sample: 100%|██████████| 12500/12500 [00:02<00:00, 6203.17it/s, 3 steps of size 6.91e-01. acc. prob=0.93]\n"
     ]
    },
    {
     "name": "stdout",
     "output_type": "stream",
     "text": [
      "Generating instance 37...\n"
     ]
    },
    {
     "name": "stderr",
     "output_type": "stream",
     "text": [
      "sample: 100%|██████████| 12500/12500 [00:03<00:00, 3584.79it/s, 3 steps of size 7.70e-01. acc. prob=0.90] \n",
      "sample: 100%|██████████| 12500/12500 [00:02<00:00, 6224.22it/s, 7 steps of size 7.44e-01. acc. prob=0.92]\n",
      "sample: 100%|██████████| 12500/12500 [00:01<00:00, 6269.94it/s, 3 steps of size 8.02e-01. acc. prob=0.90]\n"
     ]
    },
    {
     "name": "stdout",
     "output_type": "stream",
     "text": [
      "Generating instance 38...\n"
     ]
    },
    {
     "name": "stderr",
     "output_type": "stream",
     "text": [
      "sample: 100%|██████████| 12500/12500 [00:03<00:00, 3627.11it/s, 3 steps of size 7.77e-01. acc. prob=0.91]\n",
      "sample: 100%|██████████| 12500/12500 [00:02<00:00, 6094.21it/s, 11 steps of size 8.38e-01. acc. prob=0.89]\n",
      "sample: 100%|██████████| 12500/12500 [00:01<00:00, 6251.18it/s, 3 steps of size 8.33e-01. acc. prob=0.90]\n"
     ]
    },
    {
     "name": "stdout",
     "output_type": "stream",
     "text": [
      "Generating instance 39...\n"
     ]
    },
    {
     "name": "stderr",
     "output_type": "stream",
     "text": [
      "sample: 100%|██████████| 12500/12500 [00:03<00:00, 3634.91it/s, 3 steps of size 7.84e-01. acc. prob=0.90]\n",
      "sample: 100%|██████████| 12500/12500 [00:02<00:00, 5794.15it/s, 7 steps of size 7.38e-01. acc. prob=0.91]\n",
      "sample: 100%|██████████| 12500/12500 [00:01<00:00, 6254.57it/s, 3 steps of size 8.67e-01. acc. prob=0.88]\n"
     ]
    },
    {
     "name": "stdout",
     "output_type": "stream",
     "text": [
      "Generating instance 40...\n"
     ]
    },
    {
     "name": "stderr",
     "output_type": "stream",
     "text": [
      "sample: 100%|██████████| 12500/12500 [00:03<00:00, 3613.84it/s, 3 steps of size 7.05e-01. acc. prob=0.92]\n",
      "sample: 100%|██████████| 12500/12500 [00:02<00:00, 6240.85it/s, 1 steps of size 7.49e-01. acc. prob=0.91]\n",
      "sample: 100%|██████████| 12500/12500 [00:01<00:00, 6276.37it/s, 3 steps of size 7.09e-01. acc. prob=0.92]\n"
     ]
    },
    {
     "name": "stdout",
     "output_type": "stream",
     "text": [
      "Generating instance 41...\n"
     ]
    },
    {
     "name": "stderr",
     "output_type": "stream",
     "text": [
      "sample: 100%|██████████| 12500/12500 [00:12<00:00, 1039.04it/s, 1023 steps of size 2.85e-07. acc. prob=0.80]\n",
      "sample: 100%|██████████| 12500/12500 [00:10<00:00, 1169.81it/s, 511 steps of size 2.49e-07. acc. prob=0.82] \n",
      "sample: 100%|██████████| 12500/12500 [00:10<00:00, 1170.98it/s, 511 steps of size 2.64e-07. acc. prob=0.81] \n"
     ]
    },
    {
     "name": "stdout",
     "output_type": "stream",
     "text": [
      "Generating instance 42...\n"
     ]
    },
    {
     "name": "stderr",
     "output_type": "stream",
     "text": [
      "sample: 100%|██████████| 12500/12500 [00:03<00:00, 3602.93it/s, 14 steps of size 6.13e-03. acc. prob=0.72]\n",
      "sample: 100%|██████████| 12500/12500 [00:02<00:00, 5915.35it/s, 2 steps of size 7.71e-03. acc. prob=0.68]\n",
      "sample: 100%|██████████| 12500/12500 [00:02<00:00, 6033.48it/s, 7 steps of size 5.75e-03. acc. prob=0.74] \n"
     ]
    },
    {
     "name": "stdout",
     "output_type": "stream",
     "text": [
      "Generating instance 43...\n"
     ]
    },
    {
     "name": "stderr",
     "output_type": "stream",
     "text": [
      "sample: 100%|██████████| 12500/12500 [00:03<00:00, 3632.46it/s, 3 steps of size 8.24e-01. acc. prob=0.90] \n",
      "sample: 100%|██████████| 12500/12500 [00:02<00:00, 6113.76it/s, 7 steps of size 8.05e-01. acc. prob=0.91]\n",
      "sample: 100%|██████████| 12500/12500 [00:02<00:00, 6072.82it/s, 3 steps of size 7.89e-01. acc. prob=0.92]\n"
     ]
    },
    {
     "name": "stdout",
     "output_type": "stream",
     "text": [
      "Generating instance 44...\n"
     ]
    },
    {
     "name": "stderr",
     "output_type": "stream",
     "text": [
      "sample: 100%|██████████| 12500/12500 [00:03<00:00, 3668.42it/s, 7 steps of size 7.11e-01. acc. prob=0.92]\n",
      "sample: 100%|██████████| 12500/12500 [00:02<00:00, 6098.68it/s, 7 steps of size 7.09e-01. acc. prob=0.92]\n",
      "sample: 100%|██████████| 12500/12500 [00:02<00:00, 6183.51it/s, 3 steps of size 7.06e-01. acc. prob=0.93]\n"
     ]
    },
    {
     "name": "stdout",
     "output_type": "stream",
     "text": [
      "Generating instance 45...\n"
     ]
    },
    {
     "name": "stderr",
     "output_type": "stream",
     "text": [
      "sample: 100%|██████████| 12500/12500 [00:03<00:00, 3547.29it/s, 7 steps of size 6.45e-01. acc. prob=0.94]\n",
      "sample: 100%|██████████| 12500/12500 [00:02<00:00, 6071.63it/s, 1 steps of size 7.73e-01. acc. prob=0.91]\n",
      "sample: 100%|██████████| 12500/12500 [00:02<00:00, 6073.17it/s, 3 steps of size 7.48e-01. acc. prob=0.92]\n"
     ]
    },
    {
     "name": "stdout",
     "output_type": "stream",
     "text": [
      "Generating instance 46...\n"
     ]
    },
    {
     "name": "stderr",
     "output_type": "stream",
     "text": [
      "sample: 100%|██████████| 12500/12500 [00:03<00:00, 3594.43it/s, 3 steps of size 7.93e-01. acc. prob=0.90]\n",
      "sample: 100%|██████████| 12500/12500 [00:02<00:00, 6134.69it/s, 7 steps of size 8.84e-01. acc. prob=0.87]\n",
      "sample: 100%|██████████| 12500/12500 [00:01<00:00, 6251.21it/s, 3 steps of size 7.63e-01. acc. prob=0.91]\n"
     ]
    },
    {
     "name": "stdout",
     "output_type": "stream",
     "text": [
      "Generating instance 47...\n"
     ]
    },
    {
     "name": "stderr",
     "output_type": "stream",
     "text": [
      "sample: 100%|██████████| 12500/12500 [00:03<00:00, 3535.93it/s, 7 steps of size 7.30e-01. acc. prob=0.92]\n",
      "sample: 100%|██████████| 12500/12500 [00:02<00:00, 6101.49it/s, 1 steps of size 7.83e-01. acc. prob=0.90]\n",
      "sample: 100%|██████████| 12500/12500 [00:01<00:00, 6292.34it/s, 3 steps of size 7.88e-01. acc. prob=0.91]\n"
     ]
    },
    {
     "name": "stdout",
     "output_type": "stream",
     "text": [
      "Generating instance 48...\n"
     ]
    },
    {
     "name": "stderr",
     "output_type": "stream",
     "text": [
      "sample: 100%|██████████| 12500/12500 [00:03<00:00, 3665.41it/s, 3 steps of size 7.59e-01. acc. prob=0.91]\n",
      "sample: 100%|██████████| 12500/12500 [00:01<00:00, 6255.99it/s, 1 steps of size 7.88e-01. acc. prob=0.90]\n",
      "sample: 100%|██████████| 12500/12500 [00:02<00:00, 6135.71it/s, 3 steps of size 7.71e-01. acc. prob=0.91]\n"
     ]
    },
    {
     "name": "stdout",
     "output_type": "stream",
     "text": [
      "Generating instance 49...\n"
     ]
    },
    {
     "name": "stderr",
     "output_type": "stream",
     "text": [
      "sample: 100%|██████████| 12500/12500 [00:04<00:00, 2953.93it/s, 3 steps of size 6.88e-01. acc. prob=0.92]\n",
      "sample: 100%|██████████| 12500/12500 [00:02<00:00, 6246.68it/s, 3 steps of size 8.21e-01. acc. prob=0.89]\n",
      "sample: 100%|██████████| 12500/12500 [00:02<00:00, 6247.00it/s, 3 steps of size 7.32e-01. acc. prob=0.92]\n"
     ]
    },
    {
     "name": "stdout",
     "output_type": "stream",
     "text": [
      "Generating instance 50...\n"
     ]
    },
    {
     "name": "stderr",
     "output_type": "stream",
     "text": [
      "sample: 100%|██████████| 12500/12500 [00:03<00:00, 3715.18it/s, 3 steps of size 8.01e-01. acc. prob=0.91]\n",
      "sample: 100%|██████████| 12500/12500 [00:02<00:00, 6249.84it/s, 1 steps of size 8.00e-01. acc. prob=0.90]\n",
      "sample: 100%|██████████| 12500/12500 [00:02<00:00, 6243.22it/s, 3 steps of size 7.69e-01. acc. prob=0.91]\n"
     ]
    },
    {
     "name": "stdout",
     "output_type": "stream",
     "text": [
      "Generating instance 51...\n"
     ]
    },
    {
     "name": "stderr",
     "output_type": "stream",
     "text": [
      "sample: 100%|██████████| 12500/12500 [00:12<00:00, 1026.76it/s, 1023 steps of size 2.76e-07. acc. prob=0.80]\n",
      "sample: 100%|██████████| 12500/12500 [00:11<00:00, 1127.81it/s, 511 steps of size 2.50e-07. acc. prob=0.82] \n",
      "sample: 100%|██████████| 12500/12500 [00:10<00:00, 1185.90it/s, 511 steps of size 2.65e-07. acc. prob=0.81] \n"
     ]
    },
    {
     "name": "stdout",
     "output_type": "stream",
     "text": [
      "Generating instance 52...\n"
     ]
    },
    {
     "name": "stderr",
     "output_type": "stream",
     "text": [
      "sample: 100%|██████████| 12500/12500 [00:03<00:00, 3649.10it/s, 27 steps of size 3.28e-03. acc. prob=0.81]\n",
      "sample: 100%|██████████| 12500/12500 [00:01<00:00, 6253.49it/s, 2 steps of size 6.45e-03. acc. prob=0.70]\n",
      "sample: 100%|██████████| 12500/12500 [00:02<00:00, 6239.76it/s, 7 steps of size 3.47e-03. acc. prob=0.81] \n"
     ]
    },
    {
     "name": "stdout",
     "output_type": "stream",
     "text": [
      "Generating instance 53...\n"
     ]
    },
    {
     "name": "stderr",
     "output_type": "stream",
     "text": [
      "sample: 100%|██████████| 12500/12500 [00:03<00:00, 3505.12it/s, 3 steps of size 8.06e-01. acc. prob=0.90]\n",
      "sample: 100%|██████████| 12500/12500 [00:02<00:00, 5202.20it/s, 7 steps of size 7.66e-01. acc. prob=0.92]\n",
      "sample: 100%|██████████| 12500/12500 [00:02<00:00, 5841.73it/s, 3 steps of size 8.33e-01. acc. prob=0.90] \n"
     ]
    },
    {
     "name": "stdout",
     "output_type": "stream",
     "text": [
      "Generating instance 54...\n"
     ]
    },
    {
     "name": "stderr",
     "output_type": "stream",
     "text": [
      "sample: 100%|██████████| 12500/12500 [00:03<00:00, 3693.80it/s, 3 steps of size 7.57e-01. acc. prob=0.91]\n",
      "sample: 100%|██████████| 12500/12500 [00:02<00:00, 6122.81it/s, 1 steps of size 7.19e-01. acc. prob=0.92]\n",
      "sample: 100%|██████████| 12500/12500 [00:02<00:00, 5123.78it/s, 3 steps of size 7.94e-01. acc. prob=0.90]\n"
     ]
    },
    {
     "name": "stdout",
     "output_type": "stream",
     "text": [
      "Generating instance 55...\n"
     ]
    },
    {
     "name": "stderr",
     "output_type": "stream",
     "text": [
      "sample: 100%|██████████| 12500/12500 [00:03<00:00, 3622.32it/s, 7 steps of size 6.40e-01. acc. prob=0.93]\n",
      "sample: 100%|██████████| 12500/12500 [00:02<00:00, 5826.34it/s, 1 steps of size 7.34e-01. acc. prob=0.92]\n",
      "sample: 100%|██████████| 12500/12500 [00:02<00:00, 5302.78it/s, 3 steps of size 7.67e-01. acc. prob=0.91]\n"
     ]
    },
    {
     "name": "stdout",
     "output_type": "stream",
     "text": [
      "Generating instance 56...\n"
     ]
    },
    {
     "name": "stderr",
     "output_type": "stream",
     "text": [
      "sample: 100%|██████████| 12500/12500 [00:03<00:00, 3128.04it/s, 3 steps of size 8.21e-01. acc. prob=0.89] \n",
      "sample: 100%|██████████| 12500/12500 [00:02<00:00, 6187.29it/s, 7 steps of size 7.74e-01. acc. prob=0.90]\n",
      "sample: 100%|██████████| 12500/12500 [00:01<00:00, 6375.11it/s, 3 steps of size 8.16e-01. acc. prob=0.90]\n"
     ]
    },
    {
     "name": "stdout",
     "output_type": "stream",
     "text": [
      "Generating instance 57...\n"
     ]
    },
    {
     "name": "stderr",
     "output_type": "stream",
     "text": [
      "sample: 100%|██████████| 12500/12500 [00:03<00:00, 3767.75it/s, 3 steps of size 7.33e-01. acc. prob=0.91]\n",
      "sample: 100%|██████████| 12500/12500 [00:02<00:00, 6215.91it/s, 1 steps of size 7.76e-01. acc. prob=0.90]\n",
      "sample: 100%|██████████| 12500/12500 [00:01<00:00, 6301.44it/s, 3 steps of size 7.52e-01. acc. prob=0.92]\n"
     ]
    },
    {
     "name": "stdout",
     "output_type": "stream",
     "text": [
      "Generating instance 58...\n"
     ]
    },
    {
     "name": "stderr",
     "output_type": "stream",
     "text": [
      "sample: 100%|██████████| 12500/12500 [00:03<00:00, 3759.47it/s, 3 steps of size 8.16e-01. acc. prob=0.88]\n",
      "sample: 100%|██████████| 12500/12500 [00:01<00:00, 6406.61it/s, 7 steps of size 7.69e-01. acc. prob=0.90]\n",
      "sample: 100%|██████████| 12500/12500 [00:01<00:00, 6283.86it/s, 3 steps of size 8.20e-01. acc. prob=0.90]\n"
     ]
    },
    {
     "name": "stdout",
     "output_type": "stream",
     "text": [
      "Generating instance 59...\n"
     ]
    },
    {
     "name": "stderr",
     "output_type": "stream",
     "text": [
      "sample: 100%|██████████| 12500/12500 [00:03<00:00, 3571.97it/s, 3 steps of size 7.94e-01. acc. prob=0.90]\n",
      "sample: 100%|██████████| 12500/12500 [00:02<00:00, 6182.16it/s, 1 steps of size 8.13e-01. acc. prob=0.90]\n",
      "sample: 100%|██████████| 12500/12500 [00:02<00:00, 6182.98it/s, 3 steps of size 7.72e-01. acc. prob=0.91]\n"
     ]
    },
    {
     "name": "stdout",
     "output_type": "stream",
     "text": [
      "Generating instance 60...\n"
     ]
    },
    {
     "name": "stderr",
     "output_type": "stream",
     "text": [
      "sample: 100%|██████████| 12500/12500 [00:03<00:00, 3432.55it/s, 3 steps of size 6.49e-01. acc. prob=0.94]\n",
      "sample: 100%|██████████| 12500/12500 [00:02<00:00, 5777.84it/s, 1 steps of size 7.42e-01. acc. prob=0.92]\n",
      "sample: 100%|██████████| 12500/12500 [00:02<00:00, 5230.78it/s, 3 steps of size 6.91e-01. acc. prob=0.93]\n"
     ]
    },
    {
     "name": "stdout",
     "output_type": "stream",
     "text": [
      "Generating instance 61...\n"
     ]
    },
    {
     "name": "stderr",
     "output_type": "stream",
     "text": [
      "sample: 100%|██████████| 12500/12500 [00:12<00:00, 990.91it/s, 1023 steps of size 2.77e-07. acc. prob=0.80] \n",
      "sample: 100%|██████████| 12500/12500 [00:11<00:00, 1132.75it/s, 511 steps of size 2.51e-07. acc. prob=0.82] \n",
      "sample: 100%|██████████| 12500/12500 [00:11<00:00, 1131.72it/s, 511 steps of size 2.66e-07. acc. prob=0.81] \n"
     ]
    },
    {
     "name": "stdout",
     "output_type": "stream",
     "text": [
      "Generating instance 62...\n"
     ]
    },
    {
     "name": "stderr",
     "output_type": "stream",
     "text": [
      "sample: 100%|██████████| 12500/12500 [00:03<00:00, 3512.77it/s, 28 steps of size 1.88e-03. acc. prob=0.87]\n",
      "sample: 100%|██████████| 12500/12500 [00:02<00:00, 5925.42it/s, 3 steps of size 5.50e-03. acc. prob=0.70] \n",
      "sample: 100%|██████████| 12500/12500 [00:02<00:00, 5909.53it/s, 7 steps of size 2.15e-03. acc. prob=0.85] \n"
     ]
    },
    {
     "name": "stdout",
     "output_type": "stream",
     "text": [
      "Generating instance 63...\n"
     ]
    },
    {
     "name": "stderr",
     "output_type": "stream",
     "text": [
      "sample: 100%|██████████| 12500/12500 [00:03<00:00, 3640.04it/s, 3 steps of size 7.61e-01. acc. prob=0.92]\n",
      "sample: 100%|██████████| 12500/12500 [00:02<00:00, 6178.86it/s, 7 steps of size 8.15e-01. acc. prob=0.90]\n",
      "sample: 100%|██████████| 12500/12500 [00:02<00:00, 5954.01it/s, 3 steps of size 8.36e-01. acc. prob=0.90]\n"
     ]
    },
    {
     "name": "stdout",
     "output_type": "stream",
     "text": [
      "Generating instance 64...\n"
     ]
    },
    {
     "name": "stderr",
     "output_type": "stream",
     "text": [
      "sample: 100%|██████████| 12500/12500 [00:03<00:00, 3696.38it/s, 3 steps of size 6.88e-01. acc. prob=0.93]\n",
      "sample: 100%|██████████| 12500/12500 [00:01<00:00, 6320.12it/s, 7 steps of size 8.20e-01. acc. prob=0.90]\n",
      "sample: 100%|██████████| 12500/12500 [00:02<00:00, 6001.97it/s, 3 steps of size 8.14e-01. acc. prob=0.90]\n"
     ]
    },
    {
     "name": "stdout",
     "output_type": "stream",
     "text": [
      "Generating instance 65...\n"
     ]
    },
    {
     "name": "stderr",
     "output_type": "stream",
     "text": [
      "sample: 100%|██████████| 12500/12500 [00:03<00:00, 3639.22it/s, 3 steps of size 8.11e-01. acc. prob=0.89]\n",
      "sample: 100%|██████████| 12500/12500 [00:02<00:00, 6128.67it/s, 7 steps of size 8.39e-01. acc. prob=0.87]\n",
      "sample: 100%|██████████| 12500/12500 [00:02<00:00, 6069.26it/s, 3 steps of size 7.15e-01. acc. prob=0.93]\n"
     ]
    },
    {
     "name": "stdout",
     "output_type": "stream",
     "text": [
      "Generating instance 66...\n"
     ]
    },
    {
     "name": "stderr",
     "output_type": "stream",
     "text": [
      "sample: 100%|██████████| 12500/12500 [00:03<00:00, 3467.58it/s, 3 steps of size 7.42e-01. acc. prob=0.91]\n",
      "sample: 100%|██████████| 12500/12500 [00:02<00:00, 5967.79it/s, 7 steps of size 8.08e-01. acc. prob=0.89]\n",
      "sample: 100%|██████████| 12500/12500 [00:02<00:00, 6106.46it/s, 3 steps of size 7.03e-01. acc. prob=0.93]\n"
     ]
    },
    {
     "name": "stdout",
     "output_type": "stream",
     "text": [
      "Generating instance 67...\n"
     ]
    },
    {
     "name": "stderr",
     "output_type": "stream",
     "text": [
      "sample: 100%|██████████| 12500/12500 [00:03<00:00, 3595.23it/s, 3 steps of size 7.82e-01. acc. prob=0.90] \n",
      "sample: 100%|██████████| 12500/12500 [00:02<00:00, 6080.79it/s, 1 steps of size 8.06e-01. acc. prob=0.89]\n",
      "sample: 100%|██████████| 12500/12500 [00:02<00:00, 5969.76it/s, 3 steps of size 7.53e-01. acc. prob=0.91]\n"
     ]
    },
    {
     "name": "stdout",
     "output_type": "stream",
     "text": [
      "Generating instance 68...\n"
     ]
    },
    {
     "name": "stderr",
     "output_type": "stream",
     "text": [
      "sample: 100%|██████████| 12500/12500 [00:03<00:00, 3682.72it/s, 7 steps of size 7.20e-01. acc. prob=0.92]\n",
      "sample: 100%|██████████| 12500/12500 [00:02<00:00, 6225.31it/s, 1 steps of size 8.17e-01. acc. prob=0.88]\n",
      "sample: 100%|██████████| 12500/12500 [00:01<00:00, 6273.87it/s, 3 steps of size 6.97e-01. acc. prob=0.93]\n"
     ]
    },
    {
     "name": "stdout",
     "output_type": "stream",
     "text": [
      "Generating instance 69...\n"
     ]
    },
    {
     "name": "stderr",
     "output_type": "stream",
     "text": [
      "sample: 100%|██████████| 12500/12500 [00:03<00:00, 3644.17it/s, 3 steps of size 8.16e-01. acc. prob=0.89]\n",
      "sample: 100%|██████████| 12500/12500 [00:02<00:00, 5999.95it/s, 1 steps of size 7.74e-01. acc. prob=0.89]\n",
      "sample: 100%|██████████| 12500/12500 [00:02<00:00, 6149.81it/s, 3 steps of size 7.22e-01. acc. prob=0.92]\n"
     ]
    },
    {
     "name": "stdout",
     "output_type": "stream",
     "text": [
      "Generating instance 70...\n"
     ]
    },
    {
     "name": "stderr",
     "output_type": "stream",
     "text": [
      "sample: 100%|██████████| 12500/12500 [00:03<00:00, 3661.31it/s, 3 steps of size 8.01e-01. acc. prob=0.89]\n",
      "sample: 100%|██████████| 12500/12500 [00:01<00:00, 6279.26it/s, 1 steps of size 7.14e-01. acc. prob=0.92]\n",
      "sample: 100%|██████████| 12500/12500 [00:02<00:00, 6211.07it/s, 3 steps of size 7.38e-01. acc. prob=0.92]\n"
     ]
    }
   ],
   "source": [
    "analysis_iterations = {\n",
    "    'parameters_1':\n",
    "    [\n",
    "        'I_y_sigma', \n",
    "    ],\n",
    "    'parameters_2':\n",
    "    [\n",
    "        'likelihood_sigma', \n",
    "    ],\n",
    "    'values_1':\n",
    "    [\n",
    "        np.array([1e-4, 1e-3, 1e-2, 1e-1, 1e0, 1e1, 1e2, 1e3, 1e4, 1e5]),\n",
    "    ],\n",
    "    'values_2':\n",
    "    [\n",
    "        np.array([0.2, 0.4, 0.6, 0.8, 1, 1.2, 1.4, 1.6, 1.8, 2]),\n",
    "    ]\n",
    "}\n",
    "\n",
    "for i in range(len(analysis_iterations['parameters_1'])):\n",
    "    parameter_1 = analysis_iterations['parameters_1'][i]\n",
    "    parameter_2 = analysis_iterations['parameters_2'][i]\n",
    "\n",
    "    print('Working on varying ' + parameter_1 + '...')\n",
    "    values_1 = analysis_iterations['values_1'][i]\n",
    "    values_2 = analysis_iterations['values_2'][i]\n",
    "    inputs = generator.vary_two_parameters(parameter_1, parameter_2, values_1, values_2, scale_1='log', scale_2='linear', plot=True)"
   ]
  },
  {
   "attachments": {},
   "cell_type": "markdown",
   "metadata": {},
   "source": [
    "## Optimiser ##\n",
    "\n",
    "Optimise the default construction using Bayesian Optimisation"
   ]
  },
  {
   "cell_type": "code",
   "execution_count": null,
   "metadata": {},
   "outputs": [],
   "source": [
    "optimising_parameters = {\n",
    "                    'I_y_mu': [1e-2, 10],\n",
    "                    'I_y_sigma': [1e-2, 10],\n",
    "                    'I_z_mu': [1e-2, 10],\n",
    "                    'I_z_sigma': [1e-2, 10],\n",
    "                    'Q_mu': [1e9, 1e18],\n",
    "                    'Q_sigma': [1e9, 1e18],\n",
    "                }\n",
    "\n",
    "optimiser = Optimiser(results_name='gridded_data_200_200_50_real_fixed_sigma', \n",
    "                  default_params=default_params, \n",
    "                  data_params=data_params)\n",
    "\n",
    "study = optimiser.run(n_trials=10, optimiser_name='optimiser_1', optimising_parameters=optimising_parameters, index_name='aic')\n",
    "optimiser.get_plots(study)\n",
    "\n",
    "optimiser.run_best_params(study)"
   ]
  }
 ],
 "metadata": {
  "kernelspec": {
   "display_name": "base",
   "language": "python",
   "name": "python3"
  },
  "language_info": {
   "codemirror_mode": {
    "name": "ipython",
    "version": 3
   },
   "file_extension": ".py",
   "mimetype": "text/x-python",
   "name": "python",
   "nbconvert_exporter": "python",
   "pygments_lexer": "ipython3",
   "version": "3.9.16"
  },
  "orig_nbformat": 4
 },
 "nbformat": 4,
 "nbformat_minor": 2
}
