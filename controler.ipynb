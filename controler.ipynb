{
 "cells": [
  {
   "attachments": {},
   "cell_type": "markdown",
   "metadata": {},
   "source": [
    "# Controller #"
   ]
  },
  {
   "attachments": {},
   "cell_type": "markdown",
   "metadata": {},
   "source": [
    "Import all neccessary packages"
   ]
  },
  {
   "cell_type": "code",
   "execution_count": 1,
   "metadata": {},
   "outputs": [
    {
     "name": "stderr",
     "output_type": "stream",
     "text": [
      "No GPU/TPU found, falling back to CPU. (Set TF_CPP_MIN_LOG_LEVEL=0 and rerun for more info.)\n"
     ]
    }
   ],
   "source": [
    "import os\n",
    "import pandas as pd\n",
    "import numpy as np\n",
    "\n",
    "from drivers.sandbox import Sandbox\n",
    "from drivers.generator import Generator\n",
    "from drivers.optimiser import Optimiser\n",
    "\n",
    "from inference_toolbox.domain import Domain\n",
    "from inference_toolbox.parameter import Parameter\n",
    "from inference_toolbox.model import Model\n",
    "from inference_toolbox.likelihood import Likelihood\n",
    "\n",
    "current_directory = os.getcwd()\n",
    "if current_directory != '/project/':\n",
    "    os.chdir('/project/')"
   ]
  },
  {
   "attachments": {},
   "cell_type": "markdown",
   "metadata": {},
   "source": [
    "Define how the data is to be generated and what default inputs should be used"
   ]
  },
  {
   "cell_type": "code",
   "execution_count": 2,
   "metadata": {},
   "outputs": [],
   "source": [
    "# data_params = {\n",
    "#     'data_type': 'dummy',\n",
    "#     'data_path': 'data',\n",
    "#     'sigma': 1,\n",
    "#     'model_select': 'log_gpm_alt_norm',\n",
    "#     'noise_dist': 'gaussian',\n",
    "#     'model': {\n",
    "#         'model_params':{\n",
    "#             'H': 10\n",
    "#         },\n",
    "#         'inference_params':{\n",
    "#             'I_y': 0.1,\n",
    "#             'I_z': 0.1,\n",
    "#             'Q': 3e13,\n",
    "#             'sigma': 1\n",
    "#         },\n",
    "#     },\n",
    "#     'domain': {\n",
    "#         'domain_select': 'cone_from_source_z_limited', \n",
    "#         'resolution': 20,\n",
    "#         'domain_params':{\n",
    "#             'r': 100,\n",
    "#             'theta': np.pi/8,\n",
    "#             'source': [0,0,10]}\n",
    "#     },\n",
    "#     'output_header': 'Concentration'\n",
    "# }\n",
    "\n",
    "data_params = {\n",
    "    'data_type': 'gridded',\n",
    "    'output_header': 'Concentration',\n",
    "    'log':True,\n",
    "    'grid_size': [100,100,25],\n",
    "    'target': False,\n",
    "    'data_path':'data'\n",
    "}\n",
    "\n",
    "\n",
    "default_params = {\n",
    "    'infered_params':pd.Series({\n",
    "        'model_params':pd.Series({\n",
    "            'I_y': Parameter('I_y', prior_select = 'gamma', default_value=0.1).add_prior_param('mu', 0.1).add_prior_param('sigma',0.1),\n",
    "            'I_z': Parameter('I_z', prior_select = 'gamma', default_value=0.1).add_prior_param('mu', 0.1).add_prior_param('sigma',0.1),\n",
    "            'Q': Parameter('Q', prior_select = 'gamma', default_value=3e13).add_prior_param('mu', 3e13).add_prior_param('sigma',1e13),\n",
    "        }),\n",
    "        'likelihood_params':pd.Series({\n",
    "            'sigma': Parameter('sigma', prior_select = 'gamma', default_value=1).add_prior_param('mu', 1).add_prior_param('sigma',1)\n",
    "        })\n",
    "    }),\n",
    "    'model':Model('log_gpm_alt_norm').add_model_param('H',10),\n",
    "    'likelihood': Likelihood('gaussian'),\n",
    "    'sampler': {\n",
    "        'n_samples': 10000,\n",
    "        'n_chains': 3,\n",
    "        'thinning_rate': 1\n",
    "    }\n",
    "}\n",
    "\n",
    "results_name = 'gridded_data_100_100_25_real'"
   ]
  },
  {
   "attachments": {},
   "cell_type": "markdown",
   "metadata": {},
   "source": [
    "## Sandbox ##\n",
    "\n",
    "Create an instance with the inputted default parameters and visualise it in different ways"
   ]
  },
  {
   "cell_type": "code",
   "execution_count": 3,
   "metadata": {},
   "outputs": [
    {
     "name": "stdout",
     "output_type": "stream",
     "text": [
      "Loading Chain Samples...\n",
      "Loading Samples...\n",
      "Traceplot 1 already exists\n",
      "Traceplot 2 already exists\n",
      "Traceplot 3 already exists\n",
      "Autocorrelations plot 1 already exists\n",
      "Autocorrelations plot 2 already exists\n",
      "Autocorrelations plot 3 already exists\n",
      "Plots already exist!\n",
      "Animation already exist!\n"
     ]
    }
   ],
   "source": [
    "sandbox = Sandbox(results_name=results_name, \n",
    "                  default_params=default_params, \n",
    "                  data_params=data_params)\n",
    "\n",
    "visualiser = sandbox.run()\n",
    "visualiser.get_summary()\n",
    "visualiser.get_traceplot()\n",
    "visualiser.get_autocorrelations()\n",
    "\n",
    "domain = Domain('cone_from_source_z_limited', resolution=80)\n",
    "domain.add_domain_param('r', 1000)\n",
    "domain.add_domain_param('theta', np.pi/8)\n",
    "domain.add_domain_param('source', [0,0,10])\n",
    "\n",
    "visualiser.visualise_results(domain = domain, name = 'small_scale_3D_plots', title='Log Concentration of Droplets', log_results=False)\n",
    "visualiser.animate(name = 'small_scale_3D_plots')"
   ]
  },
  {
   "attachments": {},
   "cell_type": "markdown",
   "metadata": {},
   "source": [
    "## Generator ##\n",
    "\n",
    "Generate different instances by varying the hyperparameters with respect to their defaults"
   ]
  },
  {
   "cell_type": "code",
   "execution_count": 4,
   "metadata": {},
   "outputs": [],
   "source": [
    "generator = Generator(results_name=results_name, \n",
    "                  default_params=default_params, \n",
    "                  data_params=data_params)"
   ]
  },
  {
   "attachments": {},
   "cell_type": "markdown",
   "metadata": {},
   "source": [
    "Vary one hyperparameter"
   ]
  },
  {
   "cell_type": "code",
   "execution_count": 5,
   "metadata": {},
   "outputs": [],
   "source": [
    "# analysis_iterations = {\n",
    "#     'parameters':\n",
    "#     [\n",
    "#         'sigma_mu', \n",
    "#         'sigma_sigma'\n",
    "#     ],\n",
    "#     'values':\n",
    "#     [\n",
    "#         np.array([0.2, 0.4, 0.6, 0.8, 1, 1.2, 1.4, 1.6, 1.8, 2]),\n",
    "#         np.array([0.2, 0.4, 0.6, 0.8, 1, 1.2, 1.4, 1.6, 1.8, 2]),\n",
    "#     ]\n",
    "# }\n",
    "\n",
    "# for i in range(len(analysis_iterations['parameters'])):\n",
    "#     parameter = analysis_iterations['parameters'][i]\n",
    "#     print('Working on varying ' + parameter + '...')\n",
    "#     values = analysis_iterations['values'][i]\n",
    "#     inputs = generator.vary_one_parameter(parameter, values, xscale='linear', plot=True)"
   ]
  },
  {
   "attachments": {},
   "cell_type": "markdown",
   "metadata": {},
   "source": [
    "Vary two hyperparameters"
   ]
  },
  {
   "cell_type": "code",
   "execution_count": 6,
   "metadata": {},
   "outputs": [
    {
     "name": "stdout",
     "output_type": "stream",
     "text": [
      "Working on varying I_y_mu...\n",
      "Working on varying I_z_mu...\n",
      "Working on varying Q_mu...\n"
     ]
    }
   ],
   "source": [
    "analysis_iterations = {\n",
    "    'parameters_1':\n",
    "    [\n",
    "        'sigma_mu',\n",
    "         \n",
    "    ],\n",
    "    'parameters_2':\n",
    "    [\n",
    "        'sigma_sigma',\n",
    "    ],\n",
    "    'values_1':\n",
    "    [\n",
    "        np.array([0.4, 0.8, 1.2, 1.6, 2, 2.4, 2.8, 3.2, 3.6, 4])\n",
    "    ],\n",
    "    'values_2':\n",
    "    [\n",
    "        np.array([0.4, 0.8, 1.2, 1.6, 2, 2.4, 2.8, 3.2, 3.6, 4])\n",
    "    ]\n",
    "}\n",
    "\n",
    "for i in range(len(analysis_iterations['parameters_1'])):\n",
    "    parameter_1 = analysis_iterations['parameters_1'][i]\n",
    "    parameter_2 = analysis_iterations['parameters_2'][i]\n",
    "\n",
    "    print('Working on varying ' + parameter_1 + '...')\n",
    "    values_1 = analysis_iterations['values_1'][i]\n",
    "    values_2 = analysis_iterations['values_2'][i]\n",
    "    inputs = generator.vary_two_parameters(parameter_1, parameter_2, values_1, values_2, scale_1='log', scale_2='log', plot=True)"
   ]
  },
  {
   "attachments": {},
   "cell_type": "markdown",
   "metadata": {},
   "source": [
    "## Optimiser ##\n",
    "\n",
    "Optimise the default construction using Bayesian Optimisation"
   ]
  },
  {
   "cell_type": "code",
   "execution_count": 7,
   "metadata": {},
   "outputs": [
    {
     "name": "stderr",
     "output_type": "stream",
     "text": [
      "[I 2023-07-27 16:24:14,774] A new study created in memory with name: no-name-fc1fd927-aac4-43be-a52e-1ef577fb35ff\n",
      "sample: 100%|██████████| 12500/12500 [00:07<00:00, 1641.55it/s, 7 steps of size 4.22e-01. acc. prob=0.92] \n",
      "sample: 100%|██████████| 12500/12500 [00:03<00:00, 3340.96it/s, 7 steps of size 3.77e-01. acc. prob=0.93] \n",
      "sample: 100%|██████████| 12500/12500 [00:04<00:00, 2999.43it/s, 15 steps of size 3.92e-01. acc. prob=0.92]\n",
      "[I 2023-07-27 16:24:35,029] Trial 0 finished with value: 83.53607177734375 and parameters: {'I_y_mu': 4.61055628394951, 'I_y_sigma': 6.30158802521391, 'I_z_mu': 4.197865548850372, 'I_z_sigma': 0.3707295487249489, 'Q_mu': 9.037180455140252e+17, 'Q_sigma': 8.298234319609466e+17, 'sigma_mu': 1.768326271735175, 'sigma_sigma': 0.5980090196820267}. Best is trial 0 with value: 83.53607177734375.\n",
      "sample: 100%|██████████| 12500/12500 [00:07<00:00, 1659.93it/s, 3 steps of size 7.67e-01. acc. prob=0.89]\n",
      "sample: 100%|██████████| 12500/12500 [00:03<00:00, 3532.13it/s, 3 steps of size 7.57e-01. acc. prob=0.90]\n",
      "sample: 100%|██████████| 12500/12500 [00:03<00:00, 3699.68it/s, 7 steps of size 7.51e-01. acc. prob=0.90]\n",
      "[I 2023-07-27 16:24:51,869] Trial 1 finished with value: 79.43879699707031 and parameters: {'I_y_mu': 7.997301362470987, 'I_y_sigma': 0.13697693548032544, 'I_z_mu': 5.939157007560699, 'I_z_sigma': 2.2028061865171784, 'Q_mu': 3.756149662546317e+17, 'Q_sigma': 5.0765986021650355e+17, 'sigma_mu': 1.0097392281885187, 'sigma_sigma': 1.5716054650423588}. Best is trial 1 with value: 79.43879699707031.\n",
      "sample: 100%|██████████| 12500/12500 [00:07<00:00, 1636.91it/s, 7 steps of size 7.32e-01. acc. prob=0.89]\n",
      "sample: 100%|██████████| 12500/12500 [00:03<00:00, 3432.55it/s, 3 steps of size 7.09e-01. acc. prob=0.89]\n",
      "sample: 100%|██████████| 12500/12500 [00:03<00:00, 3812.64it/s, 7 steps of size 8.00e-01. acc. prob=0.86] \n",
      "[I 2023-07-27 16:25:08,687] Trial 2 finished with value: 83.58810424804688 and parameters: {'I_y_mu': 1.9473966857094007, 'I_y_sigma': 0.6667177021713834, 'I_z_mu': 4.211735534839881, 'I_z_sigma': 0.10072670319104277, 'Q_mu': 8.350729222439212e+17, 'Q_sigma': 3.545777809726293e+17, 'sigma_mu': 0.778278942036027, 'sigma_sigma': 1.508912869869055}. Best is trial 1 with value: 79.43879699707031.\n",
      "sample: 100%|██████████| 12500/12500 [00:08<00:00, 1504.57it/s, 7 steps of size 6.07e-01. acc. prob=0.93]\n",
      "sample: 100%|██████████| 12500/12500 [00:03<00:00, 3278.61it/s, 7 steps of size 6.69e-01. acc. prob=0.90]\n",
      "sample: 100%|██████████| 12500/12500 [00:03<00:00, 3607.92it/s, 7 steps of size 7.24e-01. acc. prob=0.89]\n",
      "[I 2023-07-27 16:25:26,507] Trial 3 finished with value: 68.23397064208984 and parameters: {'I_y_mu': 0.24808626456899388, 'I_y_sigma': 9.201154160213859, 'I_z_mu': 1.0440531551644057, 'I_z_sigma': 4.874269807739721, 'Q_mu': 5.7324470936045734e+17, 'Q_sigma': 4.7642910423358394e+17, 'sigma_mu': 0.8972164990337907, 'sigma_sigma': 1.1195328274220238}. Best is trial 3 with value: 68.23397064208984.\n",
      "sample: 100%|██████████| 12500/12500 [00:07<00:00, 1764.78it/s, 7 steps of size 6.01e-01. acc. prob=0.93]\n",
      "sample: 100%|██████████| 12500/12500 [00:03<00:00, 3377.62it/s, 3 steps of size 6.78e-01. acc. prob=0.90]\n",
      "sample: 100%|██████████| 12500/12500 [00:03<00:00, 3347.39it/s, 3 steps of size 7.44e-01. acc. prob=0.89]\n",
      "[I 2023-07-27 16:25:43,661] Trial 4 finished with value: 68.22188568115234 and parameters: {'I_y_mu': 0.4041916326557029, 'I_y_sigma': 8.284814772574384, 'I_z_mu': 3.1076609843656136, 'I_z_sigma': 7.691611150976457, 'Q_mu': 2.541430277148315e+17, 'Q_sigma': 3.8716881307366176e+17, 'sigma_mu': 0.9961145009247594, 'sigma_sigma': 0.47415055215279633}. Best is trial 4 with value: 68.22188568115234.\n",
      "sample: 100%|██████████| 12500/12500 [00:06<00:00, 1858.27it/s, 3 steps of size 6.80e-01. acc. prob=0.91]\n",
      "sample: 100%|██████████| 12500/12500 [00:03<00:00, 3568.60it/s, 3 steps of size 7.47e-01. acc. prob=0.88]\n",
      "sample: 100%|██████████| 12500/12500 [00:03<00:00, 3307.93it/s, 3 steps of size 7.87e-01. acc. prob=0.87]\n",
      "[I 2023-07-27 16:26:00,671] Trial 5 finished with value: 68.1683235168457 and parameters: {'I_y_mu': 0.682360431907213, 'I_y_sigma': 2.1751197224060195, 'I_z_mu': 3.1851220960265176, 'I_z_sigma': 6.835796446316678, 'Q_mu': 9.145242723921432e+17, 'Q_sigma': 6.11302263600861e+17, 'sigma_mu': 1.6525142723520276, 'sigma_sigma': 0.6050887873785098}. Best is trial 5 with value: 68.1683235168457.\n",
      "sample: 100%|██████████| 12500/12500 [00:08<00:00, 1518.52it/s, 3 steps of size 6.91e-01. acc. prob=0.90]\n",
      "sample: 100%|██████████| 12500/12500 [00:03<00:00, 3435.94it/s, 3 steps of size 7.81e-01. acc. prob=0.86]\n",
      "sample: 100%|██████████| 12500/12500 [00:04<00:00, 3005.61it/s, 3 steps of size 6.70e-01. acc. prob=0.91] \n",
      "[I 2023-07-27 16:26:19,257] Trial 6 finished with value: 68.2591781616211 and parameters: {'I_y_mu': 7.142252548673927, 'I_y_sigma': 6.5790227377737684, 'I_z_mu': 5.115745958088174, 'I_z_sigma': 9.467195069530703, 'Q_mu': 5.7607788508651923e+17, 'Q_sigma': 8.489612521420099e+17, 'sigma_mu': 1.7369988455221304, 'sigma_sigma': 0.9043506053906119}. Best is trial 5 with value: 68.1683235168457.\n",
      "sample: 100%|██████████| 12500/12500 [00:08<00:00, 1428.66it/s, 3 steps of size 6.37e-01. acc. prob=0.92]\n",
      "sample: 100%|██████████| 12500/12500 [00:03<00:00, 3286.68it/s, 3 steps of size 7.40e-01. acc. prob=0.88] \n",
      "sample: 100%|██████████| 12500/12500 [00:03<00:00, 3371.63it/s, 7 steps of size 6.89e-01. acc. prob=0.90]\n",
      "[I 2023-07-27 16:26:38,229] Trial 7 finished with value: 78.46623992919922 and parameters: {'I_y_mu': 6.56867739255629, 'I_y_sigma': 0.012825763419239047, 'I_z_mu': 6.069375726784568, 'I_z_sigma': 8.28739004783464, 'Q_mu': 4.88109404589318e+17, 'Q_sigma': 1.2499910017788878e+17, 'sigma_mu': 0.5065984412165645, 'sigma_sigma': 0.34046387983134113}. Best is trial 5 with value: 68.1683235168457.\n",
      "sample: 100%|██████████| 12500/12500 [00:08<00:00, 1515.86it/s, 7 steps of size 6.22e-01. acc. prob=0.92]\n",
      "sample: 100%|██████████| 12500/12500 [00:03<00:00, 3396.93it/s, 7 steps of size 6.86e-01. acc. prob=0.90]\n",
      "sample: 100%|██████████| 12500/12500 [00:04<00:00, 3041.57it/s, 5 steps of size 6.77e-01. acc. prob=0.91]\n",
      "[I 2023-07-27 16:26:58,876] Trial 8 finished with value: 68.45710754394531 and parameters: {'I_y_mu': 3.974344831686848, 'I_y_sigma': 1.2644154431732546, 'I_z_mu': 0.13761875510189717, 'I_z_sigma': 6.636896326168395, 'Q_mu': 5.595112660680358e+17, 'Q_sigma': 9.313082080285407e+17, 'sigma_mu': 0.8005557505592131, 'sigma_sigma': 1.8204190282773347}. Best is trial 5 with value: 68.1683235168457.\n",
      "sample: 100%|██████████| 12500/12500 [00:09<00:00, 1383.91it/s, 7 steps of size 3.34e-01. acc. prob=0.94] \n",
      "sample: 100%|██████████| 12500/12500 [00:04<00:00, 2615.02it/s, 7 steps of size 3.93e-01. acc. prob=0.91] \n",
      "sample: 100%|██████████| 12500/12500 [00:03<00:00, 3490.19it/s, 15 steps of size 3.62e-01. acc. prob=0.93]\n",
      "[I 2023-07-27 16:27:19,422] Trial 9 finished with value: 78.7710189819336 and parameters: {'I_y_mu': 5.268965218959174, 'I_y_sigma': 0.41546954621768967, 'I_z_mu': 6.7769760104910315, 'I_z_sigma': 9.832290989144287, 'Q_mu': 1.039595800095115e+17, 'Q_sigma': 5.241838807149149e+17, 'sigma_mu': 0.5557157764400991, 'sigma_sigma': 0.7525332374891864}. Best is trial 5 with value: 68.1683235168457.\n",
      "sample: 100%|██████████| 12500/12500 [00:09<00:00, 1329.92it/s, 7 steps of size 6.36e-01. acc. prob=0.92]\n",
      "sample: 100%|██████████| 12500/12500 [00:04<00:00, 3034.08it/s, 7 steps of size 6.22e-01. acc. prob=0.92]\n",
      "sample: 100%|██████████| 12500/12500 [00:03<00:00, 3446.84it/s, 7 steps of size 7.13e-01. acc. prob=0.90]\n",
      "[I 2023-07-27 16:27:40,303] Trial 10 finished with value: 68.33870697021484 and parameters: {'I_y_mu': 9.608565951106106, 'I_y_sigma': 3.4394350713251853, 'I_z_mu': 9.394835075411295, 'I_z_sigma': 5.675248084468791, 'Q_mu': 9.690161717725171e+17, 'Q_sigma': 7.188327053539026e+17, 'sigma_mu': 1.3395532137853459, 'sigma_sigma': 0.20790653057742037}. Best is trial 5 with value: 68.1683235168457.\n",
      "sample: 100%|██████████| 12500/12500 [00:08<00:00, 1523.74it/s, 7 steps of size 6.47e-01. acc. prob=0.92]\n",
      "sample: 100%|██████████| 12500/12500 [00:03<00:00, 3154.29it/s, 7 steps of size 7.00e-01. acc. prob=0.90]\n",
      "sample: 100%|██████████| 12500/12500 [00:03<00:00, 3195.69it/s, 3 steps of size 6.62e-01. acc. prob=0.92]\n",
      "[I 2023-07-27 16:27:59,795] Trial 11 finished with value: 68.2079086303711 and parameters: {'I_y_mu': 0.04967442254143073, 'I_y_sigma': 9.612905546715458, 'I_z_mu': 2.413009530984229, 'I_z_sigma': 7.234946709751946, 'Q_mu': 1.7143193748222464e+17, 'Q_sigma': 2.7340406549297133e+17, 'sigma_mu': 1.2785806933052464, 'sigma_sigma': 0.5033928985618611}. Best is trial 5 with value: 68.1683235168457.\n",
      "sample: 100%|██████████| 12500/12500 [00:08<00:00, 1436.00it/s, 7 steps of size 6.31e-01. acc. prob=0.92]\n",
      "sample: 100%|██████████| 12500/12500 [00:04<00:00, 2714.05it/s, 7 steps of size 6.63e-01. acc. prob=0.91]\n",
      "sample: 100%|██████████| 12500/12500 [00:03<00:00, 3291.88it/s, 7 steps of size 7.15e-01. acc. prob=0.90]\n",
      "[I 2023-07-27 16:28:23,451] Trial 12 finished with value: 68.20323181152344 and parameters: {'I_y_mu': 2.327602145978887, 'I_y_sigma': 9.932692745175626, 'I_z_mu': 2.3182028528973637, 'I_z_sigma': 4.911254330850499, 'Q_mu': 1.3311260385671104e+16, 'Q_sigma': 4.165572909867398e+16, 'sigma_mu': 1.3615169798787876, 'sigma_sigma': 0.5523868516892607}. Best is trial 5 with value: 68.1683235168457.\n",
      "sample: 100%|██████████| 12500/12500 [00:07<00:00, 1575.77it/s, 3 steps of size 7.03e-01. acc. prob=0.90]\n",
      "sample: 100%|██████████| 12500/12500 [00:04<00:00, 2785.76it/s, 7 steps of size 6.97e-01. acc. prob=0.89]\n",
      "sample: 100%|██████████| 12500/12500 [00:03<00:00, 3316.10it/s, 3 steps of size 7.65e-01. acc. prob=0.88]\n",
      "[I 2023-07-27 16:28:42,594] Trial 13 finished with value: 68.21956253051758 and parameters: {'I_y_mu': 2.2833432501519466, 'I_y_sigma': 3.803152447656559, 'I_z_mu': 2.1626335304645714, 'I_z_sigma': 4.783201381716505, 'Q_mu': 2.210964343505088e+16, 'Q_sigma': 1.1175235472458618e+17, 'sigma_mu': 1.9921311124259165, 'sigma_sigma': 0.8710401373406013}. Best is trial 5 with value: 68.1683235168457.\n",
      "sample: 100%|██████████| 12500/12500 [00:08<00:00, 1528.81it/s, 7 steps of size 5.92e-01. acc. prob=0.93]\n",
      "sample: 100%|██████████| 12500/12500 [00:05<00:00, 2449.91it/s, 3 steps of size 6.80e-01. acc. prob=0.90]\n",
      "sample: 100%|██████████| 12500/12500 [00:04<00:00, 2633.31it/s, 7 steps of size 7.18e-01. acc. prob=0.90]\n",
      "[I 2023-07-27 16:29:03,708] Trial 14 finished with value: 68.05667495727539 and parameters: {'I_y_mu': 2.4639580715727116, 'I_y_sigma': 9.999060790482341, 'I_z_mu': 1.3567029936312789, 'I_z_sigma': 3.3657503031941314, 'Q_mu': 7.502127668807498e+17, 'Q_sigma': 6.658894770241444e+17, 'sigma_mu': 1.4526544374947181, 'sigma_sigma': 0.20568904299715163}. Best is trial 14 with value: 68.05667495727539.\n",
      "sample: 100%|██████████| 12500/12500 [00:07<00:00, 1600.48it/s, 7 steps of size 6.35e-01. acc. prob=0.92]\n",
      "sample: 100%|██████████| 12500/12500 [00:03<00:00, 3424.46it/s, 3 steps of size 6.96e-01. acc. prob=0.90]\n",
      "sample: 100%|██████████| 12500/12500 [00:04<00:00, 2914.65it/s, 3 steps of size 7.51e-01. acc. prob=0.88]\n",
      "[I 2023-07-27 16:29:23,818] Trial 15 finished with value: 68.08257675170898 and parameters: {'I_y_mu': 3.046571869352152, 'I_y_sigma': 2.387382157457928, 'I_z_mu': 0.13056796749267985, 'I_z_sigma': 3.196523666609858, 'Q_mu': 8.125929357198303e+17, 'Q_sigma': 6.547404109818488e+17, 'sigma_mu': 1.5505498765152195, 'sigma_sigma': 0.2707082647114362}. Best is trial 14 with value: 68.05667495727539.\n",
      "sample: 100%|██████████| 12500/12500 [00:07<00:00, 1592.40it/s, 7 steps of size 6.14e-01. acc. prob=0.93]\n",
      "sample: 100%|██████████| 12500/12500 [00:03<00:00, 3191.52it/s, 7 steps of size 6.32e-01. acc. prob=0.92]\n",
      "sample: 100%|██████████| 12500/12500 [00:04<00:00, 2509.62it/s, 5 steps of size 6.83e-01. acc. prob=0.91]\n",
      "[I 2023-07-27 16:29:46,338] Trial 16 finished with value: 68.07586669921875 and parameters: {'I_y_mu': 3.6803751164705854, 'I_y_sigma': 4.60523271115646, 'I_z_mu': 0.14087067848338258, 'I_z_sigma': 3.2651040577277537, 'Q_mu': 7.543779007478432e+17, 'Q_sigma': 6.774654756933564e+17, 'sigma_mu': 1.497981952894139, 'sigma_sigma': 0.24411444294963325}. Best is trial 14 with value: 68.05667495727539.\n",
      "sample: 100%|██████████| 12500/12500 [00:08<00:00, 1401.74it/s, 7 steps of size 6.28e-01. acc. prob=0.92]\n",
      "sample: 100%|██████████| 12500/12500 [00:04<00:00, 2610.62it/s, 3 steps of size 7.08e-01. acc. prob=0.90]\n",
      "sample: 100%|██████████| 12500/12500 [00:04<00:00, 2627.21it/s, 7 steps of size 7.01e-01. acc. prob=0.90]\n",
      "[I 2023-07-27 16:30:09,975] Trial 17 finished with value: 68.122314453125 and parameters: {'I_y_mu': 3.702896675915756, 'I_y_sigma': 5.179000888305799, 'I_z_mu': 1.2257548665813929, 'I_z_sigma': 3.3422284308917236, 'Q_mu': 7.396048069095363e+17, 'Q_sigma': 7.409451388970068e+17, 'sigma_mu': 1.1756806102380333, 'sigma_sigma': 0.24978206033634592}. Best is trial 14 with value: 68.05667495727539.\n",
      "sample: 100%|██████████| 12500/12500 [00:08<00:00, 1448.33it/s, 3 steps of size 6.92e-01. acc. prob=0.91] \n",
      "sample: 100%|██████████| 12500/12500 [00:04<00:00, 2552.37it/s, 3 steps of size 7.26e-01. acc. prob=0.88]\n",
      "sample: 100%|██████████| 12500/12500 [00:03<00:00, 3234.98it/s, 3 steps of size 7.45e-01. acc. prob=0.88]\n",
      "[I 2023-07-27 16:30:32,811] Trial 18 finished with value: 68.07723999023438 and parameters: {'I_y_mu': 5.271075190395873, 'I_y_sigma': 7.843507240956047, 'I_z_mu': 1.0307188405363565, 'I_z_sigma': 1.8501297143684707, 'Q_mu': 7.189226714142048e+17, 'Q_sigma': 9.82889952625834e+17, 'sigma_mu': 1.4608589662728655, 'sigma_sigma': 0.2028621062420359}. Best is trial 14 with value: 68.05667495727539.\n",
      "sample: 100%|██████████| 12500/12500 [00:10<00:00, 1215.41it/s, 3 steps of size 6.51e-01. acc. prob=0.91]\n",
      "sample: 100%|██████████| 12500/12500 [00:04<00:00, 2856.26it/s, 3 steps of size 7.09e-01. acc. prob=0.89]\n",
      "sample: 100%|██████████| 12500/12500 [00:03<00:00, 3344.79it/s, 7 steps of size 7.08e-01. acc. prob=0.90]\n",
      "[I 2023-07-27 16:30:56,159] Trial 19 finished with value: 68.18774795532227 and parameters: {'I_y_mu': 1.6136046750116733, 'I_y_sigma': 5.161249029814841, 'I_z_mu': 0.2897022539106531, 'I_z_sigma': 3.914856233890218, 'Q_mu': 6.884658076586732e+17, 'Q_sigma': 6.062267326916105e+17, 'sigma_mu': 1.1647635947297954, 'sigma_sigma': 0.42662419878703567}. Best is trial 14 with value: 68.05667495727539.\n",
      "sample: 100%|██████████| 12500/12500 [00:09<00:00, 1331.49it/s, 7 steps of size 6.31e-01. acc. prob=0.92]\n",
      "sample: 100%|██████████| 12500/12500 [00:04<00:00, 2703.35it/s, 3 steps of size 7.05e-01. acc. prob=0.90]\n",
      "sample: 100%|██████████| 12500/12500 [00:04<00:00, 2733.15it/s, 3 steps of size 6.72e-01. acc. prob=0.91]\n",
      "[I 2023-07-27 16:31:19,892] Trial 20 finished with value: 68.2635498046875 and parameters: {'I_y_mu': 3.295943198821419, 'I_y_sigma': 6.2126683607750435, 'I_z_mu': 1.5409005324823115, 'I_z_sigma': 1.9570218631551466, 'Q_mu': 6.60459426318229e+17, 'Q_sigma': 7.657581074707476e+17, 'sigma_mu': 0.20150874285178422, 'sigma_sigma': 0.4169353193531953}. Best is trial 14 with value: 68.05667495727539.\n",
      "sample: 100%|██████████| 12500/12500 [00:15<00:00, 817.57it/s, 3 steps of size 6.98e-01. acc. prob=0.90] \n",
      "sample: 100%|██████████| 12500/12500 [00:05<00:00, 2346.38it/s, 3 steps of size 7.78e-01. acc. prob=0.87]\n",
      "sample: 100%|██████████| 12500/12500 [00:04<00:00, 2599.18it/s, 3 steps of size 7.32e-01. acc. prob=0.89]\n",
      "[I 2023-07-27 16:31:51,347] Trial 21 finished with value: 68.07502365112305 and parameters: {'I_y_mu': 5.12516098916191, 'I_y_sigma': 8.253300874300386, 'I_z_mu': 0.9764512468722233, 'I_z_sigma': 1.77869920925595, 'Q_mu': 7.540819082596549e+17, 'Q_sigma': 9.729284267074331e+17, 'sigma_mu': 1.470230403925766, 'sigma_sigma': 0.22042278272447746}. Best is trial 14 with value: 68.05667495727539.\n",
      "sample: 100%|██████████| 12500/12500 [00:09<00:00, 1378.25it/s, 3 steps of size 6.77e-01. acc. prob=0.91]\n",
      "sample: 100%|██████████| 12500/12500 [00:03<00:00, 3187.35it/s, 3 steps of size 7.02e-01. acc. prob=0.90]\n",
      "sample: 100%|██████████| 12500/12500 [00:04<00:00, 2836.82it/s, 7 steps of size 7.26e-01. acc. prob=0.90]\n",
      "[I 2023-07-27 16:32:12,538] Trial 22 finished with value: 68.13925552368164 and parameters: {'I_y_mu': 4.522872779373895, 'I_y_sigma': 8.368790787597652, 'I_z_mu': 0.15824464339288047, 'I_z_sigma': 2.7594534808874576, 'Q_mu': 9.962329705403822e+17, 'Q_sigma': 8.845958849022337e+17, 'sigma_mu': 1.4915666392184779, 'sigma_sigma': 0.37632105136851424}. Best is trial 14 with value: 68.05667495727539.\n",
      "sample: 100%|██████████| 12500/12500 [00:08<00:00, 1544.24it/s, 7 steps of size 7.15e-01. acc. prob=0.90]\n",
      "sample: 100%|██████████| 12500/12500 [00:03<00:00, 3224.79it/s, 3 steps of size 6.59e-01. acc. prob=0.91]\n",
      "sample: 100%|██████████| 12500/12500 [00:04<00:00, 3003.82it/s, 5 steps of size 7.31e-01. acc. prob=0.89]\n",
      "[I 2023-07-27 16:32:35,469] Trial 23 finished with value: 68.15974426269531 and parameters: {'I_y_mu': 2.829748588898007, 'I_y_sigma': 9.013747194820311, 'I_z_mu': 1.5076966703194727, 'I_z_sigma': 1.1696489056439638, 'Q_mu': 8.122460367841446e+17, 'Q_sigma': 9.732338839113887e+17, 'sigma_mu': 1.567265450210845, 'sigma_sigma': 0.34397631940579515}. Best is trial 14 with value: 68.05667495727539.\n",
      "sample: 100%|██████████| 12500/12500 [00:08<00:00, 1410.55it/s, 7 steps of size 6.50e-01. acc. prob=0.92]\n",
      "sample: 100%|██████████| 12500/12500 [00:03<00:00, 3142.52it/s, 3 steps of size 6.64e-01. acc. prob=0.91]\n",
      "sample: 100%|██████████| 12500/12500 [00:04<00:00, 3108.65it/s, 3 steps of size 6.69e-01. acc. prob=0.91]\n"
     ]
    },
    {
     "ename": "",
     "evalue": "",
     "output_type": "error",
     "traceback": [
      "\u001b[1;31mCannot execute code, session has been disposed. Please try restarting the Kernel."
     ]
    },
    {
     "ename": "",
     "evalue": "",
     "output_type": "error",
     "traceback": [
      "\u001b[1;31mThe Kernel crashed while executing code in the the current cell or a previous cell. Please review the code in the cell(s) to identify a possible cause of the failure. Click <a href='https://aka.ms/vscodeJupyterKernelCrash'>here</a> for more info. View Jupyter <a href='command:jupyter.viewOutput'>log</a> for further details."
     ]
    }
   ],
   "source": [
    "optimising_parameters = {\n",
    "                    'I_y_mu': [1e-2, 10],\n",
    "                    'I_y_sigma': [1e-2, 10],\n",
    "                    'I_z_mu': [1e-2, 10],\n",
    "                    'I_z_sigma': [1e-2, 10],\n",
    "                    'Q_mu': [1e9, 1e18],\n",
    "                    'Q_sigma': [1e9, 1e18],\n",
    "                    'sigma_mu':[0.2, 2],\n",
    "                    'sigma_sigma':[0.2, 2]\n",
    "                }\n",
    "\n",
    "optimiser = Optimiser(results_name=results_name, \n",
    "                  default_params=default_params, \n",
    "                  data_params=data_params)\n",
    "\n",
    "study = optimiser.run(n_trials=100, optimiser_name='optimiser_1', optimising_parameters=optimising_parameters, index_name='aic')\n",
    "optimiser.get_plots(study)\n",
    "\n",
    "optimiser.run_best_params(study)"
   ]
  }
 ],
 "metadata": {
  "kernelspec": {
   "display_name": "base",
   "language": "python",
   "name": "python3"
  },
  "language_info": {
   "codemirror_mode": {
    "name": "ipython",
    "version": 3
   },
   "file_extension": ".py",
   "mimetype": "text/x-python",
   "name": "python",
   "nbconvert_exporter": "python",
   "pygments_lexer": "ipython3",
   "version": "3.9.16"
  },
  "orig_nbformat": 4
 },
 "nbformat": 4,
 "nbformat_minor": 2
}
