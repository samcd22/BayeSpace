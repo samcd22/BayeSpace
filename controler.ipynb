{
 "cells": [
  {
   "attachments": {},
   "cell_type": "markdown",
   "metadata": {},
   "source": [
    "# Controller #"
   ]
  },
  {
   "attachments": {},
   "cell_type": "markdown",
   "metadata": {},
   "source": [
    "Import all neccessary packages"
   ]
  },
  {
   "cell_type": "code",
   "execution_count": 1,
   "metadata": {},
   "outputs": [
    {
     "name": "stderr",
     "output_type": "stream",
     "text": [
      "No GPU/TPU found, falling back to CPU. (Set TF_CPP_MIN_LOG_LEVEL=0 and rerun for more info.)\n"
     ]
    }
   ],
   "source": [
    "import os\n",
    "import pandas as pd\n",
    "import numpy as np\n",
    "\n",
    "from drivers.sandbox import Sandbox\n",
    "from drivers.generator import Generator\n",
    "from drivers.optimiser import Optimiser\n",
    "\n",
    "from inference_toolbox.domain import Domain\n",
    "from inference_toolbox.parameter import Parameter\n",
    "from inference_toolbox.model import Model\n",
    "from inference_toolbox.likelihood import Likelihood\n",
    "\n",
    "current_directory = os.getcwd()\n",
    "if current_directory != '/project/':\n",
    "    os.chdir('/project/')"
   ]
  },
  {
   "attachments": {},
   "cell_type": "markdown",
   "metadata": {},
   "source": [
    "Define how the data is to be generated and what default inputs should be used"
   ]
  },
  {
   "cell_type": "code",
   "execution_count": 2,
   "metadata": {},
   "outputs": [],
   "source": [
    "data_params = {\n",
    "    'data_type': 'dummy',\n",
    "    'data_path': 'data',\n",
    "    'sigma': 1,\n",
    "    'model_select': 'log_gpm_alt_norm',\n",
    "    'noise_dist': 'gaussian',\n",
    "    'model': {\n",
    "        'model_params':{\n",
    "            'H': 10\n",
    "        },\n",
    "        'inference_params':{\n",
    "            'I_y': 0.1,\n",
    "            'I_z': 0.1,\n",
    "            'Q': 3e13\n",
    "        },\n",
    "    },\n",
    "    'domain': {\n",
    "        'domain_select': 'cone_from_source_z_limited', \n",
    "        'resolution': 20,\n",
    "        'domain_params':{\n",
    "            'r': 100,\n",
    "            'theta': np.pi/8,\n",
    "            'source': [0,0,10]}\n",
    "    },\n",
    "    'output_header': 'Concentration'\n",
    "}\n",
    "\n",
    "default_params = {\n",
    "    'infered_params':pd.Series({\n",
    "        'model_params':pd.Series({\n",
    "            'I_y': Parameter('I_y', prior_select = 'gamma', default_value=0.1).add_prior_param('mu', 0.1).add_prior_param('sigma',0.1),\n",
    "            'I_z': Parameter('I_z', prior_select = 'gamma', default_value=0.1).add_prior_param('mu', 0.1).add_prior_param('sigma',0.1),\n",
    "            'Q': Parameter('Q', prior_select = 'gamma', default_value=3e13).add_prior_param('mu', 3e13).add_prior_param('sigma',1e13),\n",
    "        }),\n",
    "        'likelihood_params':pd.Series({\n",
    "            'sigma': Parameter('sigma', prior_select = 'gamma', default_value=1).add_prior_param('mu', 1).add_prior_param('sigma',1)\n",
    "        })\n",
    "    }),\n",
    "    'model':Model('log_gpm_alt_norm').add_model_param('H',10),\n",
    "    'likelihood': Likelihood('gaussian'),\n",
    "    'sampler': {\n",
    "        'n_samples': 10000,\n",
    "        'n_chains': 3,\n",
    "        'thinning_rate': 1\n",
    "    }\n",
    "}\n",
    "\n",
    "results_name = 'simulated_data'"
   ]
  },
  {
   "attachments": {},
   "cell_type": "markdown",
   "metadata": {},
   "source": [
    "## Sandbox ##\n",
    "\n",
    "Create an instance with the inputted default parameters and visualise it in different ways"
   ]
  },
  {
   "cell_type": "code",
   "execution_count": 3,
   "metadata": {},
   "outputs": [
    {
     "ename": "TypeError",
     "evalue": "can't multiply sequence by non-int of type 'float'",
     "output_type": "error",
     "traceback": [
      "\u001b[0;31m---------------------------------------------------------------------------\u001b[0m",
      "\u001b[0;31mTypeError\u001b[0m                                 Traceback (most recent call last)",
      "Cell \u001b[0;32mIn[3], line 5\u001b[0m\n\u001b[1;32m      1\u001b[0m sandbox \u001b[39m=\u001b[39m Sandbox(results_name\u001b[39m=\u001b[39mresults_name, \n\u001b[1;32m      2\u001b[0m                   default_params\u001b[39m=\u001b[39mdefault_params, \n\u001b[1;32m      3\u001b[0m                   data_params\u001b[39m=\u001b[39mdata_params)\n\u001b[0;32m----> 5\u001b[0m visualiser \u001b[39m=\u001b[39m sandbox\u001b[39m.\u001b[39;49mrun()\n\u001b[1;32m      6\u001b[0m visualiser\u001b[39m.\u001b[39mget_summary()\n\u001b[1;32m      7\u001b[0m visualiser\u001b[39m.\u001b[39mget_traceplot()\n",
      "File \u001b[0;32m/project/drivers/sandbox.py:97\u001b[0m, in \u001b[0;36mSandbox.run\u001b[0;34m(self)\u001b[0m\n\u001b[1;32m     96\u001b[0m \u001b[39mdef\u001b[39;00m \u001b[39mrun\u001b[39m(\u001b[39mself\u001b[39m):\n\u001b[0;32m---> 97\u001b[0m     data \u001b[39m=\u001b[39m get_data(\u001b[39mself\u001b[39;49m\u001b[39m.\u001b[39;49mdata_params[\u001b[39m'\u001b[39;49m\u001b[39mdata_type\u001b[39;49m\u001b[39m'\u001b[39;49m], \u001b[39mself\u001b[39;49m\u001b[39m.\u001b[39;49mdata_params)\n\u001b[1;32m     98\u001b[0m     training_data, testing_data \u001b[39m=\u001b[39m train_test_split(data, test_size\u001b[39m=\u001b[39m\u001b[39m0.2\u001b[39m, random_state\u001b[39m=\u001b[39m\u001b[39m1\u001b[39m)\n\u001b[1;32m     99\u001b[0m     params \u001b[39m=\u001b[39m pd\u001b[39m.\u001b[39mconcat([\u001b[39mself\u001b[39m\u001b[39m.\u001b[39mdefault_params[\u001b[39m'\u001b[39m\u001b[39minfered_params\u001b[39m\u001b[39m'\u001b[39m][\u001b[39m'\u001b[39m\u001b[39mmodel_params\u001b[39m\u001b[39m'\u001b[39m], \u001b[39m*\u001b[39m\u001b[39mself\u001b[39m\u001b[39m.\u001b[39mdefault_params[\u001b[39m'\u001b[39m\u001b[39minfered_params\u001b[39m\u001b[39m'\u001b[39m][\u001b[39m'\u001b[39m\u001b[39mlikelihood_params\u001b[39m\u001b[39m'\u001b[39m]])\n",
      "File \u001b[0;32m/project/data_processing/get_data.py:15\u001b[0m, in \u001b[0;36mget_data\u001b[0;34m(data_type, params)\u001b[0m\n\u001b[1;32m     13\u001b[0m     \u001b[39mif\u001b[39;00m params \u001b[39m==\u001b[39m {} \u001b[39mor\u001b[39;00m params[\u001b[39m'\u001b[39m\u001b[39mdata_type\u001b[39m\u001b[39m'\u001b[39m] \u001b[39m!=\u001b[39m \u001b[39m'\u001b[39m\u001b[39mdummy\u001b[39m\u001b[39m'\u001b[39m:\n\u001b[1;32m     14\u001b[0m         data_param_not_exist()\n\u001b[0;32m---> 15\u001b[0m     \u001b[39mreturn\u001b[39;00m generate_dummy_data(params[\u001b[39m'\u001b[39;49m\u001b[39msigma\u001b[39;49m\u001b[39m'\u001b[39;49m], params[\u001b[39m'\u001b[39;49m\u001b[39mmodel_select\u001b[39;49m\u001b[39m'\u001b[39;49m], noise_dist \u001b[39m=\u001b[39;49m params[\u001b[39m'\u001b[39;49m\u001b[39mnoise_dist\u001b[39;49m\u001b[39m'\u001b[39;49m], \n\u001b[1;32m     16\u001b[0m                         model_params \u001b[39m=\u001b[39;49m params[\u001b[39m'\u001b[39;49m\u001b[39mmodel\u001b[39;49m\u001b[39m'\u001b[39;49m], \n\u001b[1;32m     17\u001b[0m                         data_path \u001b[39m=\u001b[39;49m params[\u001b[39m'\u001b[39;49m\u001b[39mdata_path\u001b[39;49m\u001b[39m'\u001b[39;49m], \n\u001b[1;32m     18\u001b[0m                         domain_params\u001b[39m=\u001b[39;49m params[\u001b[39m'\u001b[39;49m\u001b[39mdomain\u001b[39;49m\u001b[39m'\u001b[39;49m], output_header \u001b[39m=\u001b[39;49m params[\u001b[39m'\u001b[39;49m\u001b[39moutput_header\u001b[39;49m\u001b[39m'\u001b[39;49m])\n\u001b[1;32m     20\u001b[0m \u001b[39melif\u001b[39;00m data_type \u001b[39m==\u001b[39m \u001b[39m'\u001b[39m\u001b[39mnormalised\u001b[39m\u001b[39m'\u001b[39m \u001b[39mor\u001b[39;00m data_type \u001b[39m==\u001b[39m \u001b[39m'\u001b[39m\u001b[39mgridded\u001b[39m\u001b[39m'\u001b[39m:\n\u001b[1;32m     23\u001b[0m     \u001b[39mif\u001b[39;00m os\u001b[39m.\u001b[39mpath\u001b[39m.\u001b[39mexists(params[\u001b[39m'\u001b[39m\u001b[39mdata_path\u001b[39m\u001b[39m'\u001b[39m] \u001b[39m+\u001b[39m \u001b[39m'\u001b[39m\u001b[39m/normalised_data.csv\u001b[39m\u001b[39m'\u001b[39m):\n",
      "File \u001b[0;32m/project/data_processing/generate_dummy_data.py:46\u001b[0m, in \u001b[0;36mgenerate_dummy_data\u001b[0;34m(sigma, model_select, noise_dist, model_params, data_path, domain_params, output_header)\u001b[0m\n\u001b[1;32m     43\u001b[0m mu \u001b[39m=\u001b[39m model_func(inference_params, points[:,\u001b[39m0\u001b[39m], points[:,\u001b[39m1\u001b[39m], points[:,\u001b[39m2\u001b[39m])\n\u001b[1;32m     45\u001b[0m \u001b[39mif\u001b[39;00m noise_dist \u001b[39m==\u001b[39m \u001b[39m'\u001b[39m\u001b[39mgaussian\u001b[39m\u001b[39m'\u001b[39m:\n\u001b[0;32m---> 46\u001b[0m     C \u001b[39m=\u001b[39m np\u001b[39m.\u001b[39marray([val \u001b[39m+\u001b[39m sigma\u001b[39m*\u001b[39mnp\u001b[39m.\u001b[39mrandom\u001b[39m.\u001b[39mnormal() \u001b[39mfor\u001b[39;00m val \u001b[39min\u001b[39;00m mu])\n\u001b[1;32m     47\u001b[0m \u001b[39melif\u001b[39;00m noise_dist \u001b[39m==\u001b[39m \u001b[39m'\u001b[39m\u001b[39mgamma\u001b[39m\u001b[39m'\u001b[39m:\n\u001b[1;32m     48\u001b[0m     a \u001b[39m=\u001b[39m mu\u001b[39m*\u001b[39m\u001b[39m*\u001b[39m\u001b[39m2\u001b[39m\u001b[39m/\u001b[39msigma\u001b[39m*\u001b[39m\u001b[39m*\u001b[39m\u001b[39m2\u001b[39m\n",
      "File \u001b[0;32m/project/data_processing/generate_dummy_data.py:46\u001b[0m, in \u001b[0;36m<listcomp>\u001b[0;34m(.0)\u001b[0m\n\u001b[1;32m     43\u001b[0m mu \u001b[39m=\u001b[39m model_func(inference_params, points[:,\u001b[39m0\u001b[39m], points[:,\u001b[39m1\u001b[39m], points[:,\u001b[39m2\u001b[39m])\n\u001b[1;32m     45\u001b[0m \u001b[39mif\u001b[39;00m noise_dist \u001b[39m==\u001b[39m \u001b[39m'\u001b[39m\u001b[39mgaussian\u001b[39m\u001b[39m'\u001b[39m:\n\u001b[0;32m---> 46\u001b[0m     C \u001b[39m=\u001b[39m np\u001b[39m.\u001b[39marray([val \u001b[39m+\u001b[39m sigma\u001b[39m*\u001b[39;49mnp\u001b[39m.\u001b[39;49mrandom\u001b[39m.\u001b[39;49mnormal() \u001b[39mfor\u001b[39;00m val \u001b[39min\u001b[39;00m mu])\n\u001b[1;32m     47\u001b[0m \u001b[39melif\u001b[39;00m noise_dist \u001b[39m==\u001b[39m \u001b[39m'\u001b[39m\u001b[39mgamma\u001b[39m\u001b[39m'\u001b[39m:\n\u001b[1;32m     48\u001b[0m     a \u001b[39m=\u001b[39m mu\u001b[39m*\u001b[39m\u001b[39m*\u001b[39m\u001b[39m2\u001b[39m\u001b[39m/\u001b[39msigma\u001b[39m*\u001b[39m\u001b[39m*\u001b[39m\u001b[39m2\u001b[39m\n",
      "\u001b[0;31mTypeError\u001b[0m: can't multiply sequence by non-int of type 'float'"
     ]
    }
   ],
   "source": [
    "sandbox = Sandbox(results_name=results_name, \n",
    "                  default_params=default_params, \n",
    "                  data_params=data_params)\n",
    "\n",
    "visualiser = sandbox.run()\n",
    "visualiser.get_summary()\n",
    "visualiser.get_traceplot()\n",
    "visualiser.get_autocorrelations()\n",
    "\n",
    "domain = Domain('cone_from_source_z_limited', resolution=80)\n",
    "domain.add_domain_param('r', 100)\n",
    "domain.add_domain_param('theta', np.pi/8)\n",
    "domain.add_domain_param('source', [0,0,10])\n",
    "\n",
    "visualiser.visualise_results(domain = domain, name = 'small_scale_3D_plots', title='Log Concentration of Droplets', log_results=False)\n",
    "visualiser.animate(name = 'small_scale_3D_plots')"
   ]
  },
  {
   "attachments": {},
   "cell_type": "markdown",
   "metadata": {},
   "source": [
    "## Generator ##\n",
    "\n",
    "Generate different instances by varying the hyperparameters with respect to their defaults"
   ]
  },
  {
   "cell_type": "code",
   "execution_count": null,
   "metadata": {},
   "outputs": [],
   "source": [
    "generator = Generator(results_name=results_name, \n",
    "                  default_params=default_params, \n",
    "                  data_params=data_params)"
   ]
  },
  {
   "attachments": {},
   "cell_type": "markdown",
   "metadata": {},
   "source": [
    "Vary one hyperparameter"
   ]
  },
  {
   "cell_type": "code",
   "execution_count": null,
   "metadata": {},
   "outputs": [
    {
     "name": "stdout",
     "output_type": "stream",
     "text": [
      "Working on varying likelihood_sigma...\n",
      "Generating instance 1...\n"
     ]
    },
    {
     "name": "stderr",
     "output_type": "stream",
     "text": [
      "sample: 100%|██████████| 12500/12500 [00:03<00:00, 3634.40it/s, 7 steps of size 6.11e-01. acc. prob=0.92]\n",
      "sample: 100%|██████████| 12500/12500 [00:02<00:00, 5811.75it/s, 7 steps of size 6.44e-01. acc. prob=0.92]\n",
      "sample: 100%|██████████| 12500/12500 [00:02<00:00, 5913.85it/s, 3 steps of size 6.66e-01. acc. prob=0.92]\n"
     ]
    },
    {
     "name": "stdout",
     "output_type": "stream",
     "text": [
      "Generating instance 2...\n"
     ]
    },
    {
     "name": "stderr",
     "output_type": "stream",
     "text": [
      "warmup:   4%|▍         | 561/12500 [00:01<00:28, 420.56it/s, 1 steps of size 3.90e-01. acc. prob=0.79]\n"
     ]
    },
    {
     "ename": "KeyboardInterrupt",
     "evalue": "",
     "output_type": "error",
     "traceback": [
      "\u001b[0;31m---------------------------------------------------------------------------\u001b[0m",
      "\u001b[0;31mKeyboardInterrupt\u001b[0m                         Traceback (most recent call last)",
      "Cell \u001b[0;32mIn[8], line 16\u001b[0m\n\u001b[1;32m     14\u001b[0m \u001b[39mprint\u001b[39m(\u001b[39m'\u001b[39m\u001b[39mWorking on varying \u001b[39m\u001b[39m'\u001b[39m \u001b[39m+\u001b[39m parameter \u001b[39m+\u001b[39m \u001b[39m'\u001b[39m\u001b[39m...\u001b[39m\u001b[39m'\u001b[39m)\n\u001b[1;32m     15\u001b[0m values \u001b[39m=\u001b[39m analysis_iterations[\u001b[39m'\u001b[39m\u001b[39mvalues\u001b[39m\u001b[39m'\u001b[39m][i]\n\u001b[0;32m---> 16\u001b[0m inputs \u001b[39m=\u001b[39m generator\u001b[39m.\u001b[39;49mvary_one_parameter(parameter, values, xscale\u001b[39m=\u001b[39;49m\u001b[39m'\u001b[39;49m\u001b[39mlinear\u001b[39;49m\u001b[39m'\u001b[39;49m, plot\u001b[39m=\u001b[39;49m\u001b[39mTrue\u001b[39;49;00m)\n",
      "File \u001b[0;32m/project/drivers/generator.py:284\u001b[0m, in \u001b[0;36mGenerator.vary_one_parameter\u001b[0;34m(self, parameter_name, values, plot, xscale)\u001b[0m\n\u001b[1;32m    282\u001b[0m     inputs\u001b[39m.\u001b[39mcolumns \u001b[39m=\u001b[39m pd\u001b[39m.\u001b[39mMultiIndex\u001b[39m.\u001b[39mfrom_tuples(inputs\u001b[39m.\u001b[39mcolumns)\n\u001b[1;32m    283\u001b[0m     inputs\u001b[39m.\u001b[39mindex \u001b[39m+\u001b[39m\u001b[39m=\u001b[39m \u001b[39m1\u001b[39m\n\u001b[0;32m--> 284\u001b[0m     results \u001b[39m=\u001b[39m \u001b[39mself\u001b[39;49m\u001b[39m.\u001b[39;49mgenerate(inputs, results_path)\n\u001b[1;32m    286\u001b[0m \u001b[39mif\u001b[39;00m plot:\n\u001b[1;32m    287\u001b[0m     \u001b[39mself\u001b[39m\u001b[39m.\u001b[39mplot_varying_one(results, parameter_name, results_path, xscale \u001b[39m=\u001b[39m xscale)\n",
      "File \u001b[0;32m/project/drivers/generator.py:233\u001b[0m, in \u001b[0;36mGenerator.generate\u001b[0;34m(self, inputs, results_path)\u001b[0m\n\u001b[1;32m    231\u001b[0m \u001b[39m# Run sampler and visualiser\u001b[39;00m\n\u001b[1;32m    232\u001b[0m sampler \u001b[39m=\u001b[39m Sampler(params, model, likelihood, training_data, testing_data, num_samples, show_sample_info \u001b[39m=\u001b[39m \u001b[39mTrue\u001b[39;00m, n_chains\u001b[39m=\u001b[39mnum_chains, thinning_rate\u001b[39m=\u001b[39mthinning_rate, data_path \u001b[39m=\u001b[39m instances_path)\n\u001b[0;32m--> 233\u001b[0m sampler\u001b[39m.\u001b[39;49msample_all()\n\u001b[1;32m    234\u001b[0m visualiser \u001b[39m=\u001b[39m Visualiser(testing_data, \n\u001b[1;32m    235\u001b[0m                         sampler, \n\u001b[1;32m    236\u001b[0m                         model, \n\u001b[0;32m   (...)\u001b[0m\n\u001b[1;32m    239\u001b[0m                         suppress_prints \u001b[39m=\u001b[39m \u001b[39mTrue\u001b[39;00m, \n\u001b[1;32m    240\u001b[0m                         actual_values \u001b[39m=\u001b[39m actual_values)\n\u001b[1;32m    241\u001b[0m summary \u001b[39m=\u001b[39m visualiser\u001b[39m.\u001b[39mget_summary()\n",
      "File \u001b[0;32m/project/inference_toolbox/sampler.py:60\u001b[0m, in \u001b[0;36mSampler.sample_all\u001b[0;34m(self, rng_key)\u001b[0m\n\u001b[1;32m     58\u001b[0m kernel \u001b[39m=\u001b[39m numpyro\u001b[39m.\u001b[39minfer\u001b[39m.\u001b[39mNUTS(\u001b[39mself\u001b[39m\u001b[39m.\u001b[39msample_one)\n\u001b[1;32m     59\u001b[0m \u001b[39mself\u001b[39m\u001b[39m.\u001b[39mmcmc_obj \u001b[39m=\u001b[39m numpyro\u001b[39m.\u001b[39minfer\u001b[39m.\u001b[39mMCMC(kernel, num_warmup\u001b[39m=\u001b[39m\u001b[39mself\u001b[39m\u001b[39m.\u001b[39mn_warmup, num_samples\u001b[39m=\u001b[39m\u001b[39mself\u001b[39m\u001b[39m.\u001b[39mn_samples, num_chains\u001b[39m=\u001b[39m\u001b[39mself\u001b[39m\u001b[39m.\u001b[39mn_chains, thinning\u001b[39m=\u001b[39m\u001b[39mself\u001b[39m\u001b[39m.\u001b[39mthinning_rate)\n\u001b[0;32m---> 60\u001b[0m \u001b[39mself\u001b[39;49m\u001b[39m.\u001b[39;49mmcmc_obj\u001b[39m.\u001b[39;49mrun(rng_key\u001b[39m=\u001b[39;49mrng_key)\n\u001b[1;32m     61\u001b[0m samples \u001b[39m=\u001b[39m \u001b[39mself\u001b[39m\u001b[39m.\u001b[39mmcmc_obj\u001b[39m.\u001b[39mget_samples(group_by_chain\u001b[39m=\u001b[39m\u001b[39mTrue\u001b[39;00m)\n\u001b[1;32m     62\u001b[0m \u001b[39mself\u001b[39m\u001b[39m.\u001b[39mfields \u001b[39m=\u001b[39m \u001b[39mself\u001b[39m\u001b[39m.\u001b[39mmcmc_obj\u001b[39m.\u001b[39mget_extra_fields(group_by_chain\u001b[39m=\u001b[39m\u001b[39mTrue\u001b[39;00m)\n",
      "File \u001b[0;32m/build/miniconda3/lib/python3.9/site-packages/numpyro/infer/mcmc.py:598\u001b[0m, in \u001b[0;36mMCMC.run\u001b[0;34m(self, rng_key, extra_fields, init_params, *args, **kwargs)\u001b[0m\n\u001b[1;32m    596\u001b[0m \u001b[39melse\u001b[39;00m:\n\u001b[1;32m    597\u001b[0m     \u001b[39mif\u001b[39;00m \u001b[39mself\u001b[39m\u001b[39m.\u001b[39mchain_method \u001b[39m==\u001b[39m \u001b[39m\"\u001b[39m\u001b[39msequential\u001b[39m\u001b[39m\"\u001b[39m:\n\u001b[0;32m--> 598\u001b[0m         states, last_state \u001b[39m=\u001b[39m _laxmap(partial_map_fn, map_args)\n\u001b[1;32m    599\u001b[0m     \u001b[39melif\u001b[39;00m \u001b[39mself\u001b[39m\u001b[39m.\u001b[39mchain_method \u001b[39m==\u001b[39m \u001b[39m\"\u001b[39m\u001b[39mparallel\u001b[39m\u001b[39m\"\u001b[39m:\n\u001b[1;32m    600\u001b[0m         states, last_state \u001b[39m=\u001b[39m pmap(partial_map_fn)(map_args)\n",
      "File \u001b[0;32m/build/miniconda3/lib/python3.9/site-packages/numpyro/infer/mcmc.py:160\u001b[0m, in \u001b[0;36m_laxmap\u001b[0;34m(f, xs)\u001b[0m\n\u001b[1;32m    158\u001b[0m \u001b[39mfor\u001b[39;00m i \u001b[39min\u001b[39;00m \u001b[39mrange\u001b[39m(n):\n\u001b[1;32m    159\u001b[0m     x \u001b[39m=\u001b[39m jit(_get_value_from_index)(xs, i)\n\u001b[0;32m--> 160\u001b[0m     ys\u001b[39m.\u001b[39mappend(f(x))\n\u001b[1;32m    162\u001b[0m \u001b[39mreturn\u001b[39;00m tree_map(\u001b[39mlambda\u001b[39;00m \u001b[39m*\u001b[39margs: jnp\u001b[39m.\u001b[39mstack(args), \u001b[39m*\u001b[39mys)\n",
      "File \u001b[0;32m/build/miniconda3/lib/python3.9/site-packages/numpyro/infer/mcmc.py:404\u001b[0m, in \u001b[0;36mMCMC._single_chain_mcmc\u001b[0;34m(self, init, args, kwargs, collect_fields)\u001b[0m\n\u001b[1;32m    398\u001b[0m collection_size \u001b[39m=\u001b[39m \u001b[39mself\u001b[39m\u001b[39m.\u001b[39m_collection_params[\u001b[39m\"\u001b[39m\u001b[39mcollection_size\u001b[39m\u001b[39m\"\u001b[39m]\n\u001b[1;32m    399\u001b[0m collection_size \u001b[39m=\u001b[39m (\n\u001b[1;32m    400\u001b[0m     collection_size\n\u001b[1;32m    401\u001b[0m     \u001b[39mif\u001b[39;00m collection_size \u001b[39mis\u001b[39;00m \u001b[39mNone\u001b[39;00m\n\u001b[1;32m    402\u001b[0m     \u001b[39melse\u001b[39;00m collection_size \u001b[39m/\u001b[39m\u001b[39m/\u001b[39m \u001b[39mself\u001b[39m\u001b[39m.\u001b[39mthinning\n\u001b[1;32m    403\u001b[0m )\n\u001b[0;32m--> 404\u001b[0m collect_vals \u001b[39m=\u001b[39m fori_collect(\n\u001b[1;32m    405\u001b[0m     lower_idx,\n\u001b[1;32m    406\u001b[0m     upper_idx,\n\u001b[1;32m    407\u001b[0m     sample_fn,\n\u001b[1;32m    408\u001b[0m     init_val,\n\u001b[1;32m    409\u001b[0m     transform\u001b[39m=\u001b[39;49m_collect_fn(collect_fields),\n\u001b[1;32m    410\u001b[0m     progbar\u001b[39m=\u001b[39;49m\u001b[39mself\u001b[39;49m\u001b[39m.\u001b[39;49mprogress_bar,\n\u001b[1;32m    411\u001b[0m     return_last_val\u001b[39m=\u001b[39;49m\u001b[39mTrue\u001b[39;49;00m,\n\u001b[1;32m    412\u001b[0m     thinning\u001b[39m=\u001b[39;49m\u001b[39mself\u001b[39;49m\u001b[39m.\u001b[39;49mthinning,\n\u001b[1;32m    413\u001b[0m     collection_size\u001b[39m=\u001b[39;49mcollection_size,\n\u001b[1;32m    414\u001b[0m     progbar_desc\u001b[39m=\u001b[39;49mpartial(_get_progbar_desc_str, lower_idx, phase),\n\u001b[1;32m    415\u001b[0m     diagnostics_fn\u001b[39m=\u001b[39;49mdiagnostics,\n\u001b[1;32m    416\u001b[0m     num_chains\u001b[39m=\u001b[39;49m\u001b[39mself\u001b[39;49m\u001b[39m.\u001b[39;49mnum_chains \u001b[39mif\u001b[39;49;00m \u001b[39mself\u001b[39;49m\u001b[39m.\u001b[39;49mchain_method \u001b[39m==\u001b[39;49m \u001b[39m\"\u001b[39;49m\u001b[39mparallel\u001b[39;49m\u001b[39m\"\u001b[39;49m \u001b[39melse\u001b[39;49;00m \u001b[39m1\u001b[39;49m,\n\u001b[1;32m    417\u001b[0m )\n\u001b[1;32m    418\u001b[0m states, last_val \u001b[39m=\u001b[39m collect_vals\n\u001b[1;32m    419\u001b[0m \u001b[39m# Get first argument of type `HMCState`\u001b[39;00m\n",
      "File \u001b[0;32m/build/miniconda3/lib/python3.9/site-packages/numpyro/util.py:361\u001b[0m, in \u001b[0;36mfori_collect\u001b[0;34m(lower, upper, body_fun, init_val, transform, progbar, return_last_val, collection_size, thinning, **progbar_opts)\u001b[0m\n\u001b[1;32m    359\u001b[0m                 t\u001b[39m.\u001b[39mset_description(progbar_desc(i), refresh\u001b[39m=\u001b[39m\u001b[39mFalse\u001b[39;00m)\n\u001b[1;32m    360\u001b[0m                 \u001b[39mif\u001b[39;00m diagnostics_fn:\n\u001b[0;32m--> 361\u001b[0m                     t\u001b[39m.\u001b[39mset_postfix_str(diagnostics_fn(vals[\u001b[39m0\u001b[39;49m]), refresh\u001b[39m=\u001b[39m\u001b[39mFalse\u001b[39;00m)\n\u001b[1;32m    363\u001b[0m     last_val, collection, _, _ \u001b[39m=\u001b[39m vals\n\u001b[1;32m    365\u001b[0m unravel_collection \u001b[39m=\u001b[39m vmap(unravel_fn)(collection)\n",
      "File \u001b[0;32m/build/miniconda3/lib/python3.9/site-packages/numpyro/infer/mcmc.py:390\u001b[0m, in \u001b[0;36mMCMC._single_chain_mcmc.<locals>.<lambda>\u001b[0;34m(x)\u001b[0m\n\u001b[1;32m    381\u001b[0m     init_state \u001b[39m=\u001b[39m \u001b[39mself\u001b[39m\u001b[39m.\u001b[39msampler\u001b[39m.\u001b[39minit(\n\u001b[1;32m    382\u001b[0m         rng_key,\n\u001b[1;32m    383\u001b[0m         \u001b[39mself\u001b[39m\u001b[39m.\u001b[39mnum_warmup,\n\u001b[0;32m   (...)\u001b[0m\n\u001b[1;32m    386\u001b[0m         model_kwargs\u001b[39m=\u001b[39mkwargs,\n\u001b[1;32m    387\u001b[0m     )\n\u001b[1;32m    388\u001b[0m sample_fn, postprocess_fn \u001b[39m=\u001b[39m \u001b[39mself\u001b[39m\u001b[39m.\u001b[39m_get_cached_fns()\n\u001b[1;32m    389\u001b[0m diagnostics \u001b[39m=\u001b[39m (\n\u001b[0;32m--> 390\u001b[0m     \u001b[39mlambda\u001b[39;00m x: \u001b[39mself\u001b[39;49m\u001b[39m.\u001b[39;49msampler\u001b[39m.\u001b[39;49mget_diagnostics_str(x[\u001b[39m0\u001b[39;49m])\n\u001b[1;32m    391\u001b[0m     \u001b[39mif\u001b[39;00m rng_key\u001b[39m.\u001b[39mndim \u001b[39m==\u001b[39m \u001b[39m1\u001b[39m\n\u001b[1;32m    392\u001b[0m     \u001b[39melse\u001b[39;00m \u001b[39m\"\u001b[39m\u001b[39m\"\u001b[39m\n\u001b[1;32m    393\u001b[0m )  \u001b[39m# noqa: E731\u001b[39;00m\n\u001b[1;32m    394\u001b[0m init_val \u001b[39m=\u001b[39m (init_state, args, kwargs) \u001b[39mif\u001b[39;00m \u001b[39mself\u001b[39m\u001b[39m.\u001b[39m_jit_model_args \u001b[39melse\u001b[39;00m (init_state,)\n\u001b[1;32m    395\u001b[0m lower_idx \u001b[39m=\u001b[39m \u001b[39mself\u001b[39m\u001b[39m.\u001b[39m_collection_params[\u001b[39m\"\u001b[39m\u001b[39mlower\u001b[39m\u001b[39m\"\u001b[39m]\n",
      "File \u001b[0;32m/build/miniconda3/lib/python3.9/site-packages/numpyro/infer/hmc.py:691\u001b[0m, in \u001b[0;36mHMC.get_diagnostics_str\u001b[0;34m(self, state)\u001b[0m\n\u001b[1;32m    690\u001b[0m \u001b[39mdef\u001b[39;00m \u001b[39mget_diagnostics_str\u001b[39m(\u001b[39mself\u001b[39m, state):\n\u001b[0;32m--> 691\u001b[0m     \u001b[39mreturn\u001b[39;00m \u001b[39m\"\u001b[39;49m\u001b[39m{}\u001b[39;49;00m\u001b[39m steps of size \u001b[39;49m\u001b[39m{:.2e}\u001b[39;49;00m\u001b[39m. acc. prob=\u001b[39;49m\u001b[39m{:.2f}\u001b[39;49;00m\u001b[39m\"\u001b[39;49m\u001b[39m.\u001b[39;49mformat(\n\u001b[1;32m    692\u001b[0m         state\u001b[39m.\u001b[39;49mnum_steps, state\u001b[39m.\u001b[39;49madapt_state\u001b[39m.\u001b[39;49mstep_size, state\u001b[39m.\u001b[39;49mmean_accept_prob\n\u001b[1;32m    693\u001b[0m     )\n",
      "File \u001b[0;32m/build/miniconda3/lib/python3.9/site-packages/jax/_src/array.py:266\u001b[0m, in \u001b[0;36mArrayImpl.__format__\u001b[0;34m(self, format_spec)\u001b[0m\n\u001b[1;32m    263\u001b[0m \u001b[39mdef\u001b[39;00m \u001b[39m__format__\u001b[39m(\u001b[39mself\u001b[39m, format_spec):\n\u001b[1;32m    264\u001b[0m   \u001b[39m# Simulates behavior of https://github.com/numpy/numpy/pull/9883\u001b[39;00m\n\u001b[1;32m    265\u001b[0m   \u001b[39mif\u001b[39;00m \u001b[39mself\u001b[39m\u001b[39m.\u001b[39mndim \u001b[39m==\u001b[39m \u001b[39m0\u001b[39m:\n\u001b[0;32m--> 266\u001b[0m     \u001b[39mreturn\u001b[39;00m \u001b[39mformat\u001b[39m(\u001b[39mself\u001b[39;49m\u001b[39m.\u001b[39;49m_value[()], format_spec)\n\u001b[1;32m    267\u001b[0m   \u001b[39melse\u001b[39;00m:\n\u001b[1;32m    268\u001b[0m     \u001b[39mreturn\u001b[39;00m \u001b[39mformat\u001b[39m(\u001b[39mself\u001b[39m\u001b[39m.\u001b[39m_value, format_spec)\n",
      "File \u001b[0;32m/build/miniconda3/lib/python3.9/site-packages/jax/_src/array.py:497\u001b[0m, in \u001b[0;36mArrayImpl._value\u001b[0;34m(self)\u001b[0m\n\u001b[1;32m    495\u001b[0m \u001b[39mif\u001b[39;00m \u001b[39mself\u001b[39m\u001b[39m.\u001b[39mis_fully_replicated:\n\u001b[1;32m    496\u001b[0m   \u001b[39mself\u001b[39m\u001b[39m.\u001b[39m_npy_value \u001b[39m=\u001b[39m np\u001b[39m.\u001b[39masarray(\u001b[39mself\u001b[39m\u001b[39m.\u001b[39m_arrays[\u001b[39m0\u001b[39m])  \u001b[39m# type: ignore\u001b[39;00m\n\u001b[0;32m--> 497\u001b[0m   \u001b[39mself\u001b[39;49m\u001b[39m.\u001b[39;49m_npy_value\u001b[39m.\u001b[39;49mflags\u001b[39m.\u001b[39mwriteable \u001b[39m=\u001b[39m \u001b[39mFalse\u001b[39;00m\n\u001b[1;32m    498\u001b[0m   \u001b[39mreturn\u001b[39;00m cast(np\u001b[39m.\u001b[39mndarray, \u001b[39mself\u001b[39m\u001b[39m.\u001b[39m_npy_value)\n\u001b[1;32m    500\u001b[0m \u001b[39mif\u001b[39;00m \u001b[39mnot\u001b[39;00m \u001b[39mself\u001b[39m\u001b[39m.\u001b[39mis_fully_addressable:\n",
      "\u001b[0;31mKeyboardInterrupt\u001b[0m: "
     ]
    }
   ],
   "source": [
    "analysis_iterations = {\n",
    "    'parameters':\n",
    "    [\n",
    "        'likelihood_sigma', \n",
    "    ],\n",
    "    'values':\n",
    "    [\n",
    "        np.array([0.2, 0.4, 0.6, 0.8, 1, 1.2, 1.4, 1.6, 1.8, 2, 2.2, 2.4, 2.6, 2.8, 3, 3.2, 3.4, 3.6, 3.8, 4])\n",
    "    ]\n",
    "}\n",
    "\n",
    "for i in range(len(analysis_iterations['parameters'])):\n",
    "    parameter = analysis_iterations['parameters'][i]\n",
    "    print('Working on varying ' + parameter + '...')\n",
    "    values = analysis_iterations['values'][i]\n",
    "    inputs = generator.vary_one_parameter(parameter, values, xscale='linear', plot=True)"
   ]
  },
  {
   "attachments": {},
   "cell_type": "markdown",
   "metadata": {},
   "source": [
    "Vary two hyperparameters"
   ]
  },
  {
   "cell_type": "code",
   "execution_count": null,
   "metadata": {},
   "outputs": [
    {
     "name": "stdout",
     "output_type": "stream",
     "text": [
      "Working on varying I_y_sigma...\n",
      "Generating instance 1...\n"
     ]
    },
    {
     "name": "stderr",
     "output_type": "stream",
     "text": [
      "sample: 100%|██████████| 12500/12500 [00:31<00:00, 402.65it/s, 1023 steps of size 3.01e-07. acc. prob=0.81]\n",
      "sample: 100%|██████████| 12500/12500 [00:28<00:00, 432.54it/s, 511 steps of size 2.81e-07. acc. prob=0.81] \n",
      "sample: 100%|██████████| 12500/12500 [00:29<00:00, 416.91it/s, 511 steps of size 3.02e-07. acc. prob=0.80] \n"
     ]
    },
    {
     "name": "stdout",
     "output_type": "stream",
     "text": [
      "Generating instance 2...\n"
     ]
    },
    {
     "name": "stderr",
     "output_type": "stream",
     "text": [
      "sample: 100%|██████████| 12500/12500 [00:04<00:00, 2876.57it/s, 13 steps of size 3.30e-01. acc. prob=0.94]\n",
      "sample: 100%|██████████| 12500/12500 [00:02<00:00, 4603.90it/s, 7 steps of size 4.04e-01. acc. prob=0.92] \n",
      "sample: 100%|██████████| 12500/12500 [00:02<00:00, 4715.87it/s, 3 steps of size 3.65e-01. acc. prob=0.93] \n"
     ]
    },
    {
     "name": "stdout",
     "output_type": "stream",
     "text": [
      "Generating instance 3...\n"
     ]
    },
    {
     "name": "stderr",
     "output_type": "stream",
     "text": [
      "sample: 100%|██████████| 12500/12500 [00:03<00:00, 3152.22it/s, 3 steps of size 8.89e-01. acc. prob=0.87]\n",
      "sample: 100%|██████████| 12500/12500 [00:02<00:00, 5243.68it/s, 7 steps of size 8.68e-01. acc. prob=0.88] \n",
      "sample: 100%|██████████| 12500/12500 [00:02<00:00, 5428.75it/s, 3 steps of size 7.43e-01. acc. prob=0.92]\n"
     ]
    },
    {
     "name": "stdout",
     "output_type": "stream",
     "text": [
      "Generating instance 4...\n"
     ]
    },
    {
     "name": "stderr",
     "output_type": "stream",
     "text": [
      "sample: 100%|██████████| 12500/12500 [00:03<00:00, 3232.18it/s, 3 steps of size 7.14e-01. acc. prob=0.91]\n",
      "sample: 100%|██████████| 12500/12500 [00:02<00:00, 5518.28it/s, 7 steps of size 6.51e-01. acc. prob=0.92]\n",
      "sample: 100%|██████████| 12500/12500 [00:02<00:00, 5592.18it/s, 3 steps of size 6.60e-01. acc. prob=0.93]\n"
     ]
    },
    {
     "name": "stdout",
     "output_type": "stream",
     "text": [
      "Generating instance 5...\n"
     ]
    },
    {
     "name": "stderr",
     "output_type": "stream",
     "text": [
      "sample: 100%|██████████| 12500/12500 [00:03<00:00, 3221.81it/s, 3 steps of size 6.96e-01. acc. prob=0.92]\n",
      "sample: 100%|██████████| 12500/12500 [00:02<00:00, 5369.66it/s, 1 steps of size 7.11e-01. acc. prob=0.91]\n",
      "sample: 100%|██████████| 12500/12500 [00:02<00:00, 5577.26it/s, 3 steps of size 6.97e-01. acc. prob=0.92]\n"
     ]
    },
    {
     "name": "stdout",
     "output_type": "stream",
     "text": [
      "Generating instance 6...\n"
     ]
    },
    {
     "name": "stderr",
     "output_type": "stream",
     "text": [
      "sample: 100%|██████████| 12500/12500 [00:03<00:00, 3268.53it/s, 3 steps of size 7.86e-01. acc. prob=0.89]\n",
      "sample: 100%|██████████| 12500/12500 [00:02<00:00, 5531.68it/s, 5 steps of size 7.03e-01. acc. prob=0.91]\n",
      "sample: 100%|██████████| 12500/12500 [00:02<00:00, 5460.79it/s, 3 steps of size 6.96e-01. acc. prob=0.92]\n"
     ]
    },
    {
     "name": "stdout",
     "output_type": "stream",
     "text": [
      "Generating instance 7...\n"
     ]
    },
    {
     "name": "stderr",
     "output_type": "stream",
     "text": [
      "sample: 100%|██████████| 12500/12500 [00:03<00:00, 3303.85it/s, 3 steps of size 7.01e-01. acc. prob=0.92]\n",
      "sample: 100%|██████████| 12500/12500 [00:02<00:00, 5677.72it/s, 7 steps of size 7.82e-01. acc. prob=0.89]\n",
      "sample: 100%|██████████| 12500/12500 [00:02<00:00, 5474.25it/s, 3 steps of size 6.94e-01. acc. prob=0.92]\n"
     ]
    },
    {
     "name": "stdout",
     "output_type": "stream",
     "text": [
      "Generating instance 8...\n"
     ]
    },
    {
     "name": "stderr",
     "output_type": "stream",
     "text": [
      "sample: 100%|██████████| 12500/12500 [00:03<00:00, 3429.20it/s, 7 steps of size 7.32e-01. acc. prob=0.91]\n",
      "sample: 100%|██████████| 12500/12500 [00:02<00:00, 5541.42it/s, 7 steps of size 6.72e-01. acc. prob=0.92]\n",
      "sample: 100%|██████████| 12500/12500 [00:02<00:00, 5571.46it/s, 3 steps of size 7.25e-01. acc. prob=0.91]\n"
     ]
    },
    {
     "name": "stdout",
     "output_type": "stream",
     "text": [
      "Generating instance 9...\n"
     ]
    },
    {
     "name": "stderr",
     "output_type": "stream",
     "text": [
      "sample: 100%|██████████| 12500/12500 [00:04<00:00, 3113.43it/s, 3 steps of size 7.75e-01. acc. prob=0.90]\n",
      "sample: 100%|██████████| 12500/12500 [00:02<00:00, 5534.07it/s, 5 steps of size 7.35e-01. acc. prob=0.90]\n",
      "sample: 100%|██████████| 12500/12500 [00:02<00:00, 5747.21it/s, 3 steps of size 6.78e-01. acc. prob=0.92]\n"
     ]
    },
    {
     "name": "stdout",
     "output_type": "stream",
     "text": [
      "Generating instance 10...\n"
     ]
    },
    {
     "name": "stderr",
     "output_type": "stream",
     "text": [
      "sample: 100%|██████████| 12500/12500 [00:04<00:00, 2977.52it/s, 7 steps of size 6.72e-01. acc. prob=0.92]\n",
      "sample: 100%|██████████| 12500/12500 [00:02<00:00, 5224.86it/s, 7 steps of size 6.84e-01. acc. prob=0.92]\n",
      "sample: 100%|██████████| 12500/12500 [00:02<00:00, 5279.32it/s, 3 steps of size 6.55e-01. acc. prob=0.93]\n"
     ]
    },
    {
     "name": "stdout",
     "output_type": "stream",
     "text": [
      "Generating instance 11...\n"
     ]
    },
    {
     "name": "stderr",
     "output_type": "stream",
     "text": [
      "sample: 100%|██████████| 12500/12500 [00:31<00:00, 400.99it/s, 1023 steps of size 2.89e-07. acc. prob=0.80]\n",
      "sample: 100%|██████████| 12500/12500 [00:29<00:00, 428.96it/s, 511 steps of size 2.53e-07. acc. prob=0.82] \n",
      "sample: 100%|██████████| 12500/12500 [00:29<00:00, 428.49it/s, 511 steps of size 2.68e-07. acc. prob=0.81] \n"
     ]
    },
    {
     "name": "stdout",
     "output_type": "stream",
     "text": [
      "Generating instance 12...\n"
     ]
    },
    {
     "name": "stderr",
     "output_type": "stream",
     "text": [
      "sample: 100%|██████████| 12500/12500 [00:04<00:00, 2906.00it/s, 28 steps of size 2.73e-02. acc. prob=0.90]\n",
      "sample: 100%|██████████| 12500/12500 [00:02<00:00, 5449.45it/s, 1 steps of size 1.38e-01. acc. prob=0.67]\n",
      "sample: 100%|██████████| 12500/12500 [00:02<00:00, 5550.25it/s, 7 steps of size 9.81e-02. acc. prob=0.74]\n"
     ]
    },
    {
     "name": "stdout",
     "output_type": "stream",
     "text": [
      "Generating instance 13...\n"
     ]
    },
    {
     "name": "stderr",
     "output_type": "stream",
     "text": [
      "sample: 100%|██████████| 12500/12500 [00:03<00:00, 3193.80it/s, 3 steps of size 8.48e-01. acc. prob=0.90]\n",
      "sample: 100%|██████████| 12500/12500 [00:02<00:00, 5616.41it/s, 7 steps of size 8.27e-01. acc. prob=0.90]\n",
      "sample: 100%|██████████| 12500/12500 [00:02<00:00, 5683.77it/s, 3 steps of size 8.93e-01. acc. prob=0.89]\n"
     ]
    },
    {
     "name": "stdout",
     "output_type": "stream",
     "text": [
      "Generating instance 14...\n"
     ]
    },
    {
     "name": "stderr",
     "output_type": "stream",
     "text": [
      "sample: 100%|██████████| 12500/12500 [00:03<00:00, 3293.12it/s, 3 steps of size 7.73e-01. acc. prob=0.91]\n",
      "sample: 100%|██████████| 12500/12500 [00:02<00:00, 5603.29it/s, 5 steps of size 7.54e-01. acc. prob=0.91] \n",
      "sample: 100%|██████████| 12500/12500 [00:02<00:00, 5630.18it/s, 3 steps of size 7.09e-01. acc. prob=0.92]\n"
     ]
    },
    {
     "name": "stdout",
     "output_type": "stream",
     "text": [
      "Generating instance 15...\n"
     ]
    },
    {
     "name": "stderr",
     "output_type": "stream",
     "text": [
      "sample: 100%|██████████| 12500/12500 [00:03<00:00, 3372.22it/s, 3 steps of size 8.28e-01. acc. prob=0.88] \n",
      "sample: 100%|██████████| 12500/12500 [00:02<00:00, 5678.26it/s, 7 steps of size 7.76e-01. acc. prob=0.90]\n",
      "sample: 100%|██████████| 12500/12500 [00:02<00:00, 5743.09it/s, 3 steps of size 6.72e-01. acc. prob=0.93]\n"
     ]
    },
    {
     "name": "stdout",
     "output_type": "stream",
     "text": [
      "Generating instance 16...\n"
     ]
    },
    {
     "name": "stderr",
     "output_type": "stream",
     "text": [
      "sample: 100%|██████████| 12500/12500 [00:03<00:00, 3405.40it/s, 3 steps of size 7.98e-01. acc. prob=0.90]\n",
      "sample: 100%|██████████| 12500/12500 [00:02<00:00, 5748.39it/s, 5 steps of size 7.58e-01. acc. prob=0.90]\n",
      "sample: 100%|██████████| 12500/12500 [00:02<00:00, 5738.95it/s, 3 steps of size 7.64e-01. acc. prob=0.91]\n"
     ]
    },
    {
     "name": "stdout",
     "output_type": "stream",
     "text": [
      "Generating instance 17...\n"
     ]
    },
    {
     "name": "stderr",
     "output_type": "stream",
     "text": [
      "sample: 100%|██████████| 12500/12500 [00:03<00:00, 3424.94it/s, 3 steps of size 7.59e-01. acc. prob=0.91]\n",
      "sample: 100%|██████████| 12500/12500 [00:02<00:00, 5708.37it/s, 5 steps of size 7.44e-01. acc. prob=0.91]\n",
      "sample: 100%|██████████| 12500/12500 [00:02<00:00, 5699.49it/s, 3 steps of size 7.49e-01. acc. prob=0.91]\n"
     ]
    },
    {
     "name": "stdout",
     "output_type": "stream",
     "text": [
      "Generating instance 18...\n"
     ]
    },
    {
     "name": "stderr",
     "output_type": "stream",
     "text": [
      "sample: 100%|██████████| 12500/12500 [00:03<00:00, 3148.46it/s, 3 steps of size 7.58e-01. acc. prob=0.91]\n",
      "sample: 100%|██████████| 12500/12500 [00:02<00:00, 5380.94it/s, 5 steps of size 7.56e-01. acc. prob=0.91]\n",
      "sample: 100%|██████████| 12500/12500 [00:02<00:00, 5568.85it/s, 3 steps of size 7.56e-01. acc. prob=0.91]\n"
     ]
    },
    {
     "name": "stdout",
     "output_type": "stream",
     "text": [
      "Generating instance 19...\n"
     ]
    },
    {
     "name": "stderr",
     "output_type": "stream",
     "text": [
      "sample: 100%|██████████| 12500/12500 [00:03<00:00, 3314.83it/s, 3 steps of size 7.52e-01. acc. prob=0.91]\n",
      "sample: 100%|██████████| 12500/12500 [00:02<00:00, 5627.65it/s, 5 steps of size 7.92e-01. acc. prob=0.90] \n",
      "sample: 100%|██████████| 12500/12500 [00:02<00:00, 5588.49it/s, 3 steps of size 7.96e-01. acc. prob=0.90]\n"
     ]
    },
    {
     "name": "stdout",
     "output_type": "stream",
     "text": [
      "Generating instance 20...\n"
     ]
    },
    {
     "name": "stderr",
     "output_type": "stream",
     "text": [
      "sample: 100%|██████████| 12500/12500 [00:03<00:00, 3215.51it/s, 3 steps of size 8.12e-01. acc. prob=0.89]\n",
      "sample: 100%|██████████| 12500/12500 [00:02<00:00, 5599.12it/s, 5 steps of size 7.54e-01. acc. prob=0.91]\n",
      "sample: 100%|██████████| 12500/12500 [00:02<00:00, 5698.44it/s, 3 steps of size 7.40e-01. acc. prob=0.91]\n"
     ]
    },
    {
     "name": "stdout",
     "output_type": "stream",
     "text": [
      "Generating instance 21...\n"
     ]
    },
    {
     "name": "stderr",
     "output_type": "stream",
     "text": [
      "sample: 100%|██████████| 12500/12500 [00:31<00:00, 396.78it/s, 1023 steps of size 2.87e-07. acc. prob=0.80]\n",
      "sample: 100%|██████████| 12500/12500 [00:29<00:00, 428.76it/s, 511 steps of size 2.52e-07. acc. prob=0.82] \n",
      "sample: 100%|██████████| 12500/12500 [00:28<00:00, 431.27it/s, 511 steps of size 2.67e-07. acc. prob=0.81] \n"
     ]
    },
    {
     "name": "stdout",
     "output_type": "stream",
     "text": [
      "Generating instance 22...\n"
     ]
    },
    {
     "name": "stderr",
     "output_type": "stream",
     "text": [
      "sample: 100%|██████████| 12500/12500 [00:03<00:00, 3153.43it/s, 23 steps of size 6.51e-03. acc. prob=0.78]\n",
      "sample: 100%|██████████| 12500/12500 [00:02<00:00, 5604.57it/s, 1 steps of size 1.48e-02. acc. prob=0.62]\n",
      "sample: 100%|██████████| 12500/12500 [00:02<00:00, 5453.07it/s, 7 steps of size 7.96e-03. acc. prob=0.75] \n"
     ]
    },
    {
     "name": "stdout",
     "output_type": "stream",
     "text": [
      "Generating instance 23...\n"
     ]
    },
    {
     "name": "stderr",
     "output_type": "stream",
     "text": [
      "sample: 100%|██████████| 12500/12500 [00:03<00:00, 3368.76it/s, 3 steps of size 8.60e-01. acc. prob=0.89]\n",
      "sample: 100%|██████████| 12500/12500 [00:02<00:00, 5691.91it/s, 3 steps of size 8.15e-01. acc. prob=0.90] \n",
      "sample: 100%|██████████| 12500/12500 [00:02<00:00, 5690.24it/s, 3 steps of size 8.48e-01. acc. prob=0.90]\n"
     ]
    },
    {
     "name": "stdout",
     "output_type": "stream",
     "text": [
      "Generating instance 24...\n"
     ]
    },
    {
     "name": "stderr",
     "output_type": "stream",
     "text": [
      "sample: 100%|██████████| 12500/12500 [00:03<00:00, 3376.74it/s, 3 steps of size 8.70e-01. acc. prob=0.88]\n",
      "sample: 100%|██████████| 12500/12500 [00:02<00:00, 5612.75it/s, 1 steps of size 7.56e-01. acc. prob=0.92]\n",
      "sample: 100%|██████████| 12500/12500 [00:02<00:00, 5601.63it/s, 3 steps of size 8.67e-01. acc. prob=0.89] \n"
     ]
    },
    {
     "name": "stdout",
     "output_type": "stream",
     "text": [
      "Generating instance 25...\n"
     ]
    },
    {
     "name": "stderr",
     "output_type": "stream",
     "text": [
      "sample: 100%|██████████| 12500/12500 [00:03<00:00, 3437.12it/s, 3 steps of size 7.50e-01. acc. prob=0.91]\n",
      "sample: 100%|██████████| 12500/12500 [00:02<00:00, 5727.10it/s, 7 steps of size 7.83e-01. acc. prob=0.90]\n",
      "sample: 100%|██████████| 12500/12500 [00:02<00:00, 5742.54it/s, 3 steps of size 8.40e-01. acc. prob=0.89]\n"
     ]
    },
    {
     "name": "stdout",
     "output_type": "stream",
     "text": [
      "Generating instance 26...\n"
     ]
    },
    {
     "name": "stderr",
     "output_type": "stream",
     "text": [
      "sample: 100%|██████████| 12500/12500 [00:03<00:00, 3242.20it/s, 3 steps of size 8.24e-01. acc. prob=0.89]\n",
      "sample: 100%|██████████| 12500/12500 [00:02<00:00, 5278.11it/s, 5 steps of size 7.87e-01. acc. prob=0.91]\n",
      "sample: 100%|██████████| 12500/12500 [00:02<00:00, 5478.64it/s, 3 steps of size 7.75e-01. acc. prob=0.91]\n"
     ]
    },
    {
     "name": "stdout",
     "output_type": "stream",
     "text": [
      "Generating instance 27...\n"
     ]
    },
    {
     "name": "stderr",
     "output_type": "stream",
     "text": [
      "sample: 100%|██████████| 12500/12500 [00:03<00:00, 3280.12it/s, 3 steps of size 7.28e-01. acc. prob=0.92]\n",
      "sample: 100%|██████████| 12500/12500 [00:02<00:00, 5500.31it/s, 7 steps of size 7.46e-01. acc. prob=0.91]\n",
      "sample: 100%|██████████| 12500/12500 [00:02<00:00, 5590.73it/s, 3 steps of size 8.04e-01. acc. prob=0.90]\n"
     ]
    },
    {
     "name": "stdout",
     "output_type": "stream",
     "text": [
      "Generating instance 28...\n"
     ]
    },
    {
     "name": "stderr",
     "output_type": "stream",
     "text": [
      "sample: 100%|██████████| 12500/12500 [00:03<00:00, 3132.27it/s, 3 steps of size 7.07e-01. acc. prob=0.92]\n",
      "sample: 100%|██████████| 12500/12500 [00:02<00:00, 5603.73it/s, 5 steps of size 8.01e-01. acc. prob=0.90]\n",
      "sample: 100%|██████████| 12500/12500 [00:02<00:00, 5604.78it/s, 3 steps of size 7.25e-01. acc. prob=0.93]\n"
     ]
    },
    {
     "name": "stdout",
     "output_type": "stream",
     "text": [
      "Generating instance 29...\n"
     ]
    },
    {
     "name": "stderr",
     "output_type": "stream",
     "text": [
      "sample: 100%|██████████| 12500/12500 [00:03<00:00, 3290.47it/s, 3 steps of size 8.41e-01. acc. prob=0.88] \n",
      "sample: 100%|██████████| 12500/12500 [00:02<00:00, 5692.05it/s, 11 steps of size 8.27e-01. acc. prob=0.89]\n",
      "sample: 100%|██████████| 12500/12500 [00:02<00:00, 5625.94it/s, 3 steps of size 8.72e-01. acc. prob=0.89]\n"
     ]
    },
    {
     "name": "stdout",
     "output_type": "stream",
     "text": [
      "Generating instance 30...\n"
     ]
    },
    {
     "name": "stderr",
     "output_type": "stream",
     "text": [
      "sample: 100%|██████████| 12500/12500 [00:03<00:00, 3389.54it/s, 7 steps of size 7.25e-01. acc. prob=0.92]\n",
      "sample: 100%|██████████| 12500/12500 [00:02<00:00, 5729.96it/s, 7 steps of size 7.88e-01. acc. prob=0.90]\n",
      "sample: 100%|██████████| 12500/12500 [00:02<00:00, 5654.31it/s, 3 steps of size 7.98e-01. acc. prob=0.91]\n"
     ]
    },
    {
     "name": "stdout",
     "output_type": "stream",
     "text": [
      "Generating instance 31...\n"
     ]
    },
    {
     "name": "stderr",
     "output_type": "stream",
     "text": [
      "sample: 100%|██████████| 12500/12500 [00:30<00:00, 411.40it/s, 1023 steps of size 6.07e-07. acc. prob=0.81]\n",
      "sample: 100%|██████████| 12500/12500 [00:28<00:00, 433.62it/s, 511 steps of size 5.44e-07. acc. prob=0.82] \n",
      "sample: 100%|██████████| 12500/12500 [00:29<00:00, 428.12it/s, 511 steps of size 5.92e-07. acc. prob=0.80] \n"
     ]
    },
    {
     "name": "stdout",
     "output_type": "stream",
     "text": [
      "Generating instance 32...\n"
     ]
    },
    {
     "name": "stderr",
     "output_type": "stream",
     "text": [
      "sample: 100%|██████████| 12500/12500 [00:03<00:00, 3171.89it/s, 3 steps of size 7.31e-01. acc. prob=0.91]\n",
      "sample: 100%|██████████| 12500/12500 [00:02<00:00, 5118.99it/s, 3 steps of size 7.18e-01. acc. prob=0.92]\n",
      "sample: 100%|██████████| 12500/12500 [00:02<00:00, 5631.33it/s, 3 steps of size 7.53e-01. acc. prob=0.91]\n"
     ]
    },
    {
     "name": "stdout",
     "output_type": "stream",
     "text": [
      "Generating instance 33...\n"
     ]
    },
    {
     "name": "stderr",
     "output_type": "stream",
     "text": [
      "sample: 100%|██████████| 12500/12500 [00:03<00:00, 3306.50it/s, 3 steps of size 8.16e-01. acc. prob=0.90]\n",
      "sample: 100%|██████████| 12500/12500 [00:02<00:00, 5594.39it/s, 1 steps of size 8.72e-01. acc. prob=0.89]\n",
      "sample: 100%|██████████| 12500/12500 [00:02<00:00, 5675.54it/s, 3 steps of size 8.45e-01. acc. prob=0.90]\n"
     ]
    },
    {
     "name": "stdout",
     "output_type": "stream",
     "text": [
      "Generating instance 34...\n"
     ]
    },
    {
     "name": "stderr",
     "output_type": "stream",
     "text": [
      "sample: 100%|██████████| 12500/12500 [00:03<00:00, 3293.04it/s, 3 steps of size 7.54e-01. acc. prob=0.91]\n",
      "sample: 100%|██████████| 12500/12500 [00:02<00:00, 5527.06it/s, 7 steps of size 7.63e-01. acc. prob=0.91]\n",
      "sample: 100%|██████████| 12500/12500 [00:02<00:00, 5552.97it/s, 3 steps of size 8.84e-01. acc. prob=0.88]\n"
     ]
    },
    {
     "name": "stdout",
     "output_type": "stream",
     "text": [
      "Generating instance 35...\n"
     ]
    },
    {
     "name": "stderr",
     "output_type": "stream",
     "text": [
      "sample: 100%|██████████| 12500/12500 [00:03<00:00, 3341.76it/s, 3 steps of size 8.45e-01. acc. prob=0.88]\n",
      "sample: 100%|██████████| 12500/12500 [00:02<00:00, 5521.52it/s, 7 steps of size 8.37e-01. acc. prob=0.89]\n",
      "sample: 100%|██████████| 12500/12500 [00:02<00:00, 5559.15it/s, 3 steps of size 8.42e-01. acc. prob=0.90]\n"
     ]
    },
    {
     "name": "stdout",
     "output_type": "stream",
     "text": [
      "Generating instance 36...\n"
     ]
    },
    {
     "name": "stderr",
     "output_type": "stream",
     "text": [
      "sample: 100%|██████████| 12500/12500 [00:03<00:00, 3332.69it/s, 3 steps of size 7.41e-01. acc. prob=0.92]\n",
      "sample: 100%|██████████| 12500/12500 [00:02<00:00, 5621.08it/s, 5 steps of size 6.81e-01. acc. prob=0.93]\n",
      "sample: 100%|██████████| 12500/12500 [00:02<00:00, 5677.24it/s, 3 steps of size 8.19e-01. acc. prob=0.91]\n"
     ]
    },
    {
     "name": "stdout",
     "output_type": "stream",
     "text": [
      "Generating instance 37...\n"
     ]
    },
    {
     "name": "stderr",
     "output_type": "stream",
     "text": [
      "sample: 100%|██████████| 12500/12500 [00:03<00:00, 3350.11it/s, 3 steps of size 7.83e-01. acc. prob=0.91]\n",
      "sample: 100%|██████████| 12500/12500 [00:02<00:00, 5673.69it/s, 7 steps of size 8.46e-01. acc. prob=0.89]\n",
      "sample: 100%|██████████| 12500/12500 [00:02<00:00, 5724.79it/s, 3 steps of size 8.15e-01. acc. prob=0.91]\n"
     ]
    },
    {
     "name": "stdout",
     "output_type": "stream",
     "text": [
      "Generating instance 38...\n"
     ]
    },
    {
     "name": "stderr",
     "output_type": "stream",
     "text": [
      "sample: 100%|██████████| 12500/12500 [00:04<00:00, 2836.82it/s, 3 steps of size 7.92e-01. acc. prob=0.90]\n",
      "sample: 100%|██████████| 12500/12500 [00:02<00:00, 5753.96it/s, 5 steps of size 7.80e-01. acc. prob=0.91]\n",
      "sample: 100%|██████████| 12500/12500 [00:02<00:00, 5791.29it/s, 3 steps of size 7.11e-01. acc. prob=0.92]\n"
     ]
    },
    {
     "name": "stdout",
     "output_type": "stream",
     "text": [
      "Generating instance 39...\n"
     ]
    },
    {
     "name": "stderr",
     "output_type": "stream",
     "text": [
      "sample: 100%|██████████| 12500/12500 [00:03<00:00, 3350.36it/s, 3 steps of size 7.98e-01. acc. prob=0.90]\n",
      "sample: 100%|██████████| 12500/12500 [00:02<00:00, 5753.99it/s, 7 steps of size 7.18e-01. acc. prob=0.92]\n",
      "sample: 100%|██████████| 12500/12500 [00:02<00:00, 5814.21it/s, 3 steps of size 7.77e-01. acc. prob=0.92]\n"
     ]
    },
    {
     "name": "stdout",
     "output_type": "stream",
     "text": [
      "Generating instance 40...\n"
     ]
    },
    {
     "name": "stderr",
     "output_type": "stream",
     "text": [
      "sample: 100%|██████████| 12500/12500 [00:03<00:00, 3323.40it/s, 3 steps of size 7.50e-01. acc. prob=0.91]\n",
      "sample: 100%|██████████| 12500/12500 [00:02<00:00, 5722.67it/s, 1 steps of size 8.02e-01. acc. prob=0.90]\n",
      "sample: 100%|██████████| 12500/12500 [00:02<00:00, 5704.56it/s, 3 steps of size 8.19e-01. acc. prob=0.90]\n"
     ]
    },
    {
     "name": "stdout",
     "output_type": "stream",
     "text": [
      "Generating instance 41...\n"
     ]
    },
    {
     "name": "stderr",
     "output_type": "stream",
     "text": [
      "sample: 100%|██████████| 12500/12500 [00:29<00:00, 418.45it/s, 1023 steps of size 2.88e-07. acc. prob=0.80]\n",
      "sample: 100%|██████████| 12500/12500 [00:28<00:00, 442.22it/s, 511 steps of size 2.53e-07. acc. prob=0.82] \n",
      "sample: 100%|██████████| 12500/12500 [00:28<00:00, 442.70it/s, 511 steps of size 2.68e-07. acc. prob=0.81] \n"
     ]
    },
    {
     "name": "stdout",
     "output_type": "stream",
     "text": [
      "Generating instance 42...\n"
     ]
    },
    {
     "name": "stderr",
     "output_type": "stream",
     "text": [
      "sample: 100%|██████████| 12500/12500 [00:03<00:00, 3189.97it/s, 30 steps of size 3.15e-03. acc. prob=0.84]\n",
      "sample: 100%|██████████| 12500/12500 [00:02<00:00, 5451.70it/s, 3 steps of size 7.82e-03. acc. prob=0.69] \n",
      "sample: 100%|██████████| 12500/12500 [00:02<00:00, 5609.11it/s, 3 steps of size 9.66e-03. acc. prob=0.66] \n"
     ]
    },
    {
     "name": "stdout",
     "output_type": "stream",
     "text": [
      "Generating instance 43...\n"
     ]
    },
    {
     "name": "stderr",
     "output_type": "stream",
     "text": [
      "sample: 100%|██████████| 12500/12500 [00:03<00:00, 3407.03it/s, 7 steps of size 6.85e-01. acc. prob=0.94]\n",
      "sample: 100%|██████████| 12500/12500 [00:02<00:00, 5757.44it/s, 7 steps of size 8.00e-01. acc. prob=0.91]\n",
      "sample: 100%|██████████| 12500/12500 [00:02<00:00, 5739.25it/s, 3 steps of size 8.25e-01. acc. prob=0.90]\n"
     ]
    },
    {
     "name": "stdout",
     "output_type": "stream",
     "text": [
      "Generating instance 44...\n"
     ]
    },
    {
     "name": "stderr",
     "output_type": "stream",
     "text": [
      "sample: 100%|██████████| 12500/12500 [00:03<00:00, 3450.28it/s, 3 steps of size 6.79e-01. acc. prob=0.93]\n",
      "sample: 100%|██████████| 12500/12500 [00:02<00:00, 5717.69it/s, 1 steps of size 7.61e-01. acc. prob=0.92]\n",
      "sample: 100%|██████████| 12500/12500 [00:02<00:00, 5771.02it/s, 3 steps of size 7.51e-01. acc. prob=0.92]\n"
     ]
    },
    {
     "name": "stdout",
     "output_type": "stream",
     "text": [
      "Generating instance 45...\n"
     ]
    },
    {
     "name": "stderr",
     "output_type": "stream",
     "text": [
      "sample: 100%|██████████| 12500/12500 [00:03<00:00, 3496.32it/s, 3 steps of size 8.30e-01. acc. prob=0.89]\n",
      "sample: 100%|██████████| 12500/12500 [00:02<00:00, 5718.81it/s, 1 steps of size 7.47e-01. acc. prob=0.92]\n",
      "sample: 100%|██████████| 12500/12500 [00:02<00:00, 5801.39it/s, 3 steps of size 8.06e-01. acc. prob=0.90]\n"
     ]
    },
    {
     "name": "stdout",
     "output_type": "stream",
     "text": [
      "Generating instance 46...\n"
     ]
    },
    {
     "name": "stderr",
     "output_type": "stream",
     "text": [
      "sample: 100%|██████████| 12500/12500 [00:03<00:00, 3494.86it/s, 3 steps of size 7.49e-01. acc. prob=0.91]\n",
      "sample: 100%|██████████| 12500/12500 [00:02<00:00, 5781.43it/s, 7 steps of size 7.48e-01. acc. prob=0.92]\n",
      "sample: 100%|██████████| 12500/12500 [00:02<00:00, 5754.01it/s, 3 steps of size 8.21e-01. acc. prob=0.90]\n"
     ]
    },
    {
     "name": "stdout",
     "output_type": "stream",
     "text": [
      "Generating instance 47...\n"
     ]
    },
    {
     "name": "stderr",
     "output_type": "stream",
     "text": [
      "sample: 100%|██████████| 12500/12500 [00:04<00:00, 2799.12it/s, 3 steps of size 7.93e-01. acc. prob=0.91]\n",
      "sample: 100%|██████████| 12500/12500 [00:02<00:00, 5717.14it/s, 1 steps of size 7.41e-01. acc. prob=0.92]\n",
      "sample: 100%|██████████| 12500/12500 [00:02<00:00, 5790.86it/s, 3 steps of size 8.30e-01. acc. prob=0.90]\n"
     ]
    },
    {
     "name": "stdout",
     "output_type": "stream",
     "text": [
      "Generating instance 48...\n"
     ]
    },
    {
     "name": "stderr",
     "output_type": "stream",
     "text": [
      "sample: 100%|██████████| 12500/12500 [00:03<00:00, 3498.51it/s, 7 steps of size 7.58e-01. acc. prob=0.91]\n",
      "sample: 100%|██████████| 12500/12500 [00:02<00:00, 5824.95it/s, 1 steps of size 7.55e-01. acc. prob=0.91]\n",
      "sample: 100%|██████████| 12500/12500 [00:02<00:00, 5753.04it/s, 3 steps of size 8.22e-01. acc. prob=0.90]\n"
     ]
    },
    {
     "name": "stdout",
     "output_type": "stream",
     "text": [
      "Generating instance 49...\n"
     ]
    },
    {
     "name": "stderr",
     "output_type": "stream",
     "text": [
      "sample: 100%|██████████| 12500/12500 [00:03<00:00, 3499.54it/s, 3 steps of size 7.26e-01. acc. prob=0.92]\n",
      "sample: 100%|██████████| 12500/12500 [00:02<00:00, 5792.11it/s, 1 steps of size 7.46e-01. acc. prob=0.92]\n",
      "sample: 100%|██████████| 12500/12500 [00:02<00:00, 5796.43it/s, 3 steps of size 8.35e-01. acc. prob=0.90]\n"
     ]
    },
    {
     "name": "stdout",
     "output_type": "stream",
     "text": [
      "Generating instance 50...\n"
     ]
    },
    {
     "name": "stderr",
     "output_type": "stream",
     "text": [
      "sample: 100%|██████████| 12500/12500 [00:03<00:00, 3360.50it/s, 7 steps of size 7.68e-01. acc. prob=0.91]\n",
      "sample: 100%|██████████| 12500/12500 [00:02<00:00, 5705.30it/s, 7 steps of size 8.52e-01. acc. prob=0.89]\n",
      "sample: 100%|██████████| 12500/12500 [00:02<00:00, 5662.01it/s, 3 steps of size 7.58e-01. acc. prob=0.92]\n"
     ]
    },
    {
     "name": "stdout",
     "output_type": "stream",
     "text": [
      "Generating instance 51...\n"
     ]
    },
    {
     "name": "stderr",
     "output_type": "stream",
     "text": [
      "sample: 100%|██████████| 12500/12500 [00:29<00:00, 419.16it/s, 1023 steps of size 6.00e-07. acc. prob=0.81]\n",
      "sample: 100%|██████████| 12500/12500 [00:28<00:00, 437.72it/s, 511 steps of size 5.38e-07. acc. prob=0.82] \n",
      "sample: 100%|██████████| 12500/12500 [00:29<00:00, 428.91it/s, 511 steps of size 5.86e-07. acc. prob=0.80] \n"
     ]
    },
    {
     "name": "stdout",
     "output_type": "stream",
     "text": [
      "Generating instance 52...\n"
     ]
    },
    {
     "name": "stderr",
     "output_type": "stream",
     "text": [
      "sample: 100%|██████████| 12500/12500 [00:03<00:00, 3205.65it/s, 31 steps of size 2.87e-03. acc. prob=0.85]\n",
      "sample: 100%|██████████| 12500/12500 [00:02<00:00, 5686.00it/s, 2 steps of size 8.21e-03. acc. prob=0.67]\n",
      "sample: 100%|██████████| 12500/12500 [00:02<00:00, 5498.35it/s, 2 steps of size 5.93e-03. acc. prob=0.73] \n"
     ]
    },
    {
     "name": "stdout",
     "output_type": "stream",
     "text": [
      "Generating instance 53...\n"
     ]
    },
    {
     "name": "stderr",
     "output_type": "stream",
     "text": [
      "sample: 100%|██████████| 12500/12500 [00:03<00:00, 3454.90it/s, 3 steps of size 8.29e-01. acc. prob=0.90]\n",
      "sample: 100%|██████████| 12500/12500 [00:02<00:00, 5788.77it/s, 1 steps of size 8.82e-01. acc. prob=0.89]\n",
      "sample: 100%|██████████| 12500/12500 [00:02<00:00, 5791.56it/s, 3 steps of size 7.35e-01. acc. prob=0.93]\n"
     ]
    },
    {
     "name": "stdout",
     "output_type": "stream",
     "text": [
      "Generating instance 54...\n"
     ]
    },
    {
     "name": "stderr",
     "output_type": "stream",
     "text": [
      "sample: 100%|██████████| 12500/12500 [00:03<00:00, 3446.31it/s, 7 steps of size 7.32e-01. acc. prob=0.92]\n",
      "sample: 100%|██████████| 12500/12500 [00:02<00:00, 5776.50it/s, 5 steps of size 7.55e-01. acc. prob=0.91]\n",
      "sample: 100%|██████████| 12500/12500 [00:02<00:00, 5826.32it/s, 3 steps of size 7.82e-01. acc. prob=0.92]\n"
     ]
    },
    {
     "name": "stdout",
     "output_type": "stream",
     "text": [
      "Generating instance 55...\n"
     ]
    },
    {
     "name": "stderr",
     "output_type": "stream",
     "text": [
      "sample: 100%|██████████| 12500/12500 [00:03<00:00, 3485.92it/s, 7 steps of size 6.33e-01. acc. prob=0.94]\n",
      "sample: 100%|██████████| 12500/12500 [00:02<00:00, 5781.82it/s, 1 steps of size 7.71e-01. acc. prob=0.91]\n",
      "sample: 100%|██████████| 12500/12500 [00:02<00:00, 5869.22it/s, 3 steps of size 7.97e-01. acc. prob=0.91]\n"
     ]
    },
    {
     "name": "stdout",
     "output_type": "stream",
     "text": [
      "Generating instance 56...\n"
     ]
    },
    {
     "name": "stderr",
     "output_type": "stream",
     "text": [
      "sample: 100%|██████████| 12500/12500 [00:03<00:00, 3498.75it/s, 3 steps of size 7.04e-01. acc. prob=0.92]\n",
      "sample: 100%|██████████| 12500/12500 [00:02<00:00, 5786.12it/s, 5 steps of size 7.87e-01. acc. prob=0.91]\n",
      "sample: 100%|██████████| 12500/12500 [00:02<00:00, 5817.53it/s, 3 steps of size 8.05e-01. acc. prob=0.91]\n"
     ]
    },
    {
     "name": "stdout",
     "output_type": "stream",
     "text": [
      "Generating instance 57...\n"
     ]
    },
    {
     "name": "stderr",
     "output_type": "stream",
     "text": [
      "sample: 100%|██████████| 12500/12500 [00:03<00:00, 3467.11it/s, 3 steps of size 7.70e-01. acc. prob=0.91]\n",
      "sample: 100%|██████████| 12500/12500 [00:02<00:00, 5812.75it/s, 1 steps of size 7.87e-01. acc. prob=0.91]\n",
      "sample: 100%|██████████| 12500/12500 [00:02<00:00, 5848.50it/s, 3 steps of size 8.38e-01. acc. prob=0.90]\n"
     ]
    },
    {
     "name": "stdout",
     "output_type": "stream",
     "text": [
      "Generating instance 58...\n"
     ]
    },
    {
     "name": "stderr",
     "output_type": "stream",
     "text": [
      "sample: 100%|██████████| 12500/12500 [00:03<00:00, 3459.13it/s, 3 steps of size 7.83e-01. acc. prob=0.90]\n",
      "sample: 100%|██████████| 12500/12500 [00:02<00:00, 5692.08it/s, 1 steps of size 7.71e-01. acc. prob=0.91]\n",
      "sample: 100%|██████████| 12500/12500 [00:02<00:00, 5725.72it/s, 3 steps of size 8.04e-01. acc. prob=0.91]\n"
     ]
    },
    {
     "name": "stdout",
     "output_type": "stream",
     "text": [
      "Generating instance 59...\n"
     ]
    },
    {
     "name": "stderr",
     "output_type": "stream",
     "text": [
      "sample: 100%|██████████| 12500/12500 [00:03<00:00, 3383.37it/s, 7 steps of size 6.40e-01. acc. prob=0.94]\n",
      "sample: 100%|██████████| 12500/12500 [00:02<00:00, 5609.33it/s, 1 steps of size 7.41e-01. acc. prob=0.92]\n",
      "sample: 100%|██████████| 12500/12500 [00:02<00:00, 5792.55it/s, 3 steps of size 7.60e-01. acc. prob=0.92]\n"
     ]
    },
    {
     "name": "stdout",
     "output_type": "stream",
     "text": [
      "Generating instance 60...\n"
     ]
    },
    {
     "name": "stderr",
     "output_type": "stream",
     "text": [
      "sample: 100%|██████████| 12500/12500 [00:03<00:00, 3391.76it/s, 3 steps of size 8.09e-01. acc. prob=0.90]\n",
      "sample: 100%|██████████| 12500/12500 [00:02<00:00, 5723.35it/s, 7 steps of size 7.69e-01. acc. prob=0.91]\n",
      "sample: 100%|██████████| 12500/12500 [00:02<00:00, 5680.89it/s, 3 steps of size 7.94e-01. acc. prob=0.91]\n"
     ]
    },
    {
     "name": "stdout",
     "output_type": "stream",
     "text": [
      "Generating instance 61...\n"
     ]
    },
    {
     "name": "stderr",
     "output_type": "stream",
     "text": [
      "sample: 100%|██████████| 12500/12500 [00:31<00:00, 400.49it/s, 1023 steps of size 2.89e-07. acc. prob=0.80]\n",
      "sample: 100%|██████████| 12500/12500 [00:30<00:00, 411.07it/s, 511 steps of size 2.54e-07. acc. prob=0.82] \n",
      "sample: 100%|██████████| 12500/12500 [00:29<00:00, 417.69it/s, 511 steps of size 2.69e-07. acc. prob=0.81] \n"
     ]
    },
    {
     "name": "stdout",
     "output_type": "stream",
     "text": [
      "Generating instance 62...\n"
     ]
    },
    {
     "name": "stderr",
     "output_type": "stream",
     "text": [
      "sample: 100%|██████████| 12500/12500 [00:03<00:00, 3134.25it/s, 31 steps of size 2.98e-03. acc. prob=0.83]\n",
      "sample: 100%|██████████| 12500/12500 [00:02<00:00, 5287.43it/s, 7 steps of size 3.70e-03. acc. prob=0.80] \n",
      "sample: 100%|██████████| 12500/12500 [00:02<00:00, 5110.96it/s, 7 steps of size 3.72e-03. acc. prob=0.80] \n"
     ]
    },
    {
     "name": "stdout",
     "output_type": "stream",
     "text": [
      "Generating instance 63...\n"
     ]
    },
    {
     "name": "stderr",
     "output_type": "stream",
     "text": [
      "sample: 100%|██████████| 12500/12500 [00:03<00:00, 3494.38it/s, 3 steps of size 8.01e-01. acc. prob=0.91]\n",
      "sample: 100%|██████████| 12500/12500 [00:02<00:00, 5733.99it/s, 3 steps of size 8.58e-01. acc. prob=0.90]\n",
      "sample: 100%|██████████| 12500/12500 [00:02<00:00, 5088.08it/s, 3 steps of size 7.96e-01. acc. prob=0.91]\n"
     ]
    },
    {
     "name": "stdout",
     "output_type": "stream",
     "text": [
      "Generating instance 64...\n"
     ]
    },
    {
     "name": "stderr",
     "output_type": "stream",
     "text": [
      "sample: 100%|██████████| 12500/12500 [00:03<00:00, 3435.61it/s, 3 steps of size 8.61e-01. acc. prob=0.89]\n",
      "sample: 100%|██████████| 12500/12500 [00:02<00:00, 5571.60it/s, 7 steps of size 7.96e-01. acc. prob=0.91]\n",
      "sample: 100%|██████████| 12500/12500 [00:02<00:00, 5694.90it/s, 3 steps of size 8.74e-01. acc. prob=0.89]\n"
     ]
    },
    {
     "name": "stdout",
     "output_type": "stream",
     "text": [
      "Generating instance 65...\n"
     ]
    },
    {
     "name": "stderr",
     "output_type": "stream",
     "text": [
      "sample: 100%|██████████| 12500/12500 [00:03<00:00, 3140.79it/s, 3 steps of size 8.36e-01. acc. prob=0.89]\n",
      "sample: 100%|██████████| 12500/12500 [00:02<00:00, 5436.65it/s, 7 steps of size 6.98e-01. acc. prob=0.93]\n",
      "sample: 100%|██████████| 12500/12500 [00:02<00:00, 5715.18it/s, 3 steps of size 8.84e-01. acc. prob=0.88]\n"
     ]
    },
    {
     "name": "stdout",
     "output_type": "stream",
     "text": [
      "Generating instance 66...\n"
     ]
    },
    {
     "name": "stderr",
     "output_type": "stream",
     "text": [
      "sample: 100%|██████████| 12500/12500 [00:03<00:00, 3205.30it/s, 3 steps of size 8.24e-01. acc. prob=0.89]\n",
      "sample: 100%|██████████| 12500/12500 [00:02<00:00, 5598.01it/s, 1 steps of size 8.28e-01. acc. prob=0.89]\n",
      "sample: 100%|██████████| 12500/12500 [00:02<00:00, 5594.81it/s, 3 steps of size 7.62e-01. acc. prob=0.92]\n"
     ]
    },
    {
     "name": "stdout",
     "output_type": "stream",
     "text": [
      "Generating instance 67...\n"
     ]
    },
    {
     "name": "stderr",
     "output_type": "stream",
     "text": [
      "sample: 100%|██████████| 12500/12500 [00:04<00:00, 3070.55it/s, 3 steps of size 8.24e-01. acc. prob=0.90]\n",
      "sample: 100%|██████████| 12500/12500 [00:02<00:00, 5550.71it/s, 1 steps of size 7.07e-01. acc. prob=0.92]\n",
      "sample: 100%|██████████| 12500/12500 [00:02<00:00, 5689.54it/s, 3 steps of size 8.06e-01. acc. prob=0.91]\n"
     ]
    },
    {
     "name": "stdout",
     "output_type": "stream",
     "text": [
      "Generating instance 68...\n"
     ]
    },
    {
     "name": "stderr",
     "output_type": "stream",
     "text": [
      "sample: 100%|██████████| 12500/12500 [00:03<00:00, 3214.36it/s, 3 steps of size 8.04e-01. acc. prob=0.90]\n",
      "sample: 100%|██████████| 12500/12500 [00:02<00:00, 5477.41it/s, 1 steps of size 7.80e-01. acc. prob=0.91]\n",
      "sample: 100%|██████████| 12500/12500 [00:02<00:00, 5635.21it/s, 3 steps of size 8.17e-01. acc. prob=0.90]\n"
     ]
    },
    {
     "name": "stdout",
     "output_type": "stream",
     "text": [
      "Generating instance 69...\n"
     ]
    },
    {
     "name": "stderr",
     "output_type": "stream",
     "text": [
      "sample: 100%|██████████| 12500/12500 [00:03<00:00, 3462.67it/s, 3 steps of size 7.43e-01. acc. prob=0.91]\n",
      "sample: 100%|██████████| 12500/12500 [00:02<00:00, 5691.72it/s, 1 steps of size 7.63e-01. acc. prob=0.91]\n",
      "sample: 100%|██████████| 12500/12500 [00:02<00:00, 5745.43it/s, 3 steps of size 7.77e-01. acc. prob=0.91]\n"
     ]
    },
    {
     "name": "stdout",
     "output_type": "stream",
     "text": [
      "Generating instance 70...\n"
     ]
    },
    {
     "name": "stderr",
     "output_type": "stream",
     "text": [
      "sample: 100%|██████████| 12500/12500 [00:03<00:00, 3429.21it/s, 3 steps of size 8.02e-01. acc. prob=0.90]\n",
      "sample: 100%|██████████| 12500/12500 [00:02<00:00, 5652.57it/s, 1 steps of size 7.76e-01. acc. prob=0.91]\n",
      "sample: 100%|██████████| 12500/12500 [00:02<00:00, 5774.89it/s, 3 steps of size 8.31e-01. acc. prob=0.90] \n"
     ]
    },
    {
     "name": "stdout",
     "output_type": "stream",
     "text": [
      "Generating instance 71...\n"
     ]
    },
    {
     "name": "stderr",
     "output_type": "stream",
     "text": [
      "sample: 100%|██████████| 12500/12500 [00:32<00:00, 387.00it/s, 1023 steps of size 5.99e-07. acc. prob=0.81]\n",
      "sample: 100%|██████████| 12500/12500 [00:29<00:00, 423.83it/s, 511 steps of size 5.38e-07. acc. prob=0.82] \n",
      "sample: 100%|██████████| 12500/12500 [00:28<00:00, 434.28it/s, 511 steps of size 5.85e-07. acc. prob=0.80] \n"
     ]
    },
    {
     "name": "stdout",
     "output_type": "stream",
     "text": [
      "Generating instance 72...\n"
     ]
    },
    {
     "name": "stderr",
     "output_type": "stream",
     "text": [
      "sample: 100%|██████████| 12500/12500 [00:04<00:00, 3030.96it/s, 15 steps of size 4.36e-03. acc. prob=0.77]\n",
      "sample: 100%|██████████| 12500/12500 [00:02<00:00, 4960.03it/s, 5 steps of size 4.00e-03. acc. prob=0.78] \n",
      "sample: 100%|██████████| 12500/12500 [00:02<00:00, 5346.58it/s, 7 steps of size 4.74e-03. acc. prob=0.75] \n"
     ]
    },
    {
     "name": "stdout",
     "output_type": "stream",
     "text": [
      "Generating instance 73...\n"
     ]
    },
    {
     "name": "stderr",
     "output_type": "stream",
     "text": [
      "sample: 100%|██████████| 12500/12500 [00:03<00:00, 3245.79it/s, 3 steps of size 7.58e-01. acc. prob=0.92]\n",
      "sample: 100%|██████████| 12500/12500 [00:02<00:00, 5575.27it/s, 3 steps of size 8.76e-01. acc. prob=0.89]\n",
      "sample: 100%|██████████| 12500/12500 [00:02<00:00, 5634.65it/s, 3 steps of size 7.92e-01. acc. prob=0.91]\n"
     ]
    },
    {
     "name": "stdout",
     "output_type": "stream",
     "text": [
      "Generating instance 74...\n"
     ]
    },
    {
     "name": "stderr",
     "output_type": "stream",
     "text": [
      "sample: 100%|██████████| 12500/12500 [00:03<00:00, 3411.69it/s, 3 steps of size 8.00e-01. acc. prob=0.90]\n",
      "sample: 100%|██████████| 12500/12500 [00:02<00:00, 5411.62it/s, 1 steps of size 7.31e-01. acc. prob=0.92]\n",
      "sample: 100%|██████████| 12500/12500 [00:02<00:00, 5406.25it/s, 3 steps of size 7.85e-01. acc. prob=0.91]\n"
     ]
    },
    {
     "name": "stdout",
     "output_type": "stream",
     "text": [
      "Generating instance 75...\n"
     ]
    },
    {
     "name": "stderr",
     "output_type": "stream",
     "text": [
      "sample: 100%|██████████| 12500/12500 [00:04<00:00, 2925.37it/s, 3 steps of size 7.34e-01. acc. prob=0.92]\n",
      "sample: 100%|██████████| 12500/12500 [00:02<00:00, 5161.17it/s, 1 steps of size 6.84e-01. acc. prob=0.93]\n",
      "sample: 100%|██████████| 12500/12500 [00:02<00:00, 5497.48it/s, 3 steps of size 6.67e-01. acc. prob=0.94]\n"
     ]
    },
    {
     "name": "stdout",
     "output_type": "stream",
     "text": [
      "Generating instance 76...\n"
     ]
    },
    {
     "name": "stderr",
     "output_type": "stream",
     "text": [
      "sample: 100%|██████████| 12500/12500 [00:03<00:00, 3284.23it/s, 3 steps of size 7.88e-01. acc. prob=0.91]\n",
      "sample: 100%|██████████| 12500/12500 [00:02<00:00, 5357.42it/s, 1 steps of size 8.05e-01. acc. prob=0.90]\n",
      "sample: 100%|██████████| 12500/12500 [00:02<00:00, 5365.94it/s, 3 steps of size 7.24e-01. acc. prob=0.92]\n"
     ]
    },
    {
     "name": "stdout",
     "output_type": "stream",
     "text": [
      "Generating instance 77...\n"
     ]
    },
    {
     "name": "stderr",
     "output_type": "stream",
     "text": [
      "sample: 100%|██████████| 12500/12500 [00:04<00:00, 3071.70it/s, 7 steps of size 7.00e-01. acc. prob=0.92]\n",
      "sample: 100%|██████████| 12500/12500 [00:02<00:00, 5393.33it/s, 1 steps of size 8.05e-01. acc. prob=0.90]\n",
      "sample: 100%|██████████| 12500/12500 [00:02<00:00, 5338.52it/s, 3 steps of size 7.74e-01. acc. prob=0.91]\n"
     ]
    },
    {
     "name": "stdout",
     "output_type": "stream",
     "text": [
      "Generating instance 78...\n"
     ]
    },
    {
     "name": "stderr",
     "output_type": "stream",
     "text": [
      "sample: 100%|██████████| 12500/12500 [00:03<00:00, 3329.77it/s, 3 steps of size 7.39e-01. acc. prob=0.92]\n",
      "sample: 100%|██████████| 12500/12500 [00:02<00:00, 5639.28it/s, 5 steps of size 7.38e-01. acc. prob=0.92]\n",
      "sample: 100%|██████████| 12500/12500 [00:02<00:00, 5685.96it/s, 3 steps of size 8.18e-01. acc. prob=0.90]\n"
     ]
    },
    {
     "name": "stdout",
     "output_type": "stream",
     "text": [
      "Generating instance 79...\n"
     ]
    },
    {
     "name": "stderr",
     "output_type": "stream",
     "text": [
      "sample: 100%|██████████| 12500/12500 [00:03<00:00, 3342.12it/s, 3 steps of size 8.38e-01. acc. prob=0.89]\n",
      "sample: 100%|██████████| 12500/12500 [00:02<00:00, 5598.78it/s, 7 steps of size 7.77e-01. acc. prob=0.91]\n",
      "sample: 100%|██████████| 12500/12500 [00:02<00:00, 5657.65it/s, 3 steps of size 8.32e-01. acc. prob=0.90]\n"
     ]
    },
    {
     "name": "stdout",
     "output_type": "stream",
     "text": [
      "Generating instance 80...\n"
     ]
    },
    {
     "name": "stderr",
     "output_type": "stream",
     "text": [
      "sample: 100%|██████████| 12500/12500 [00:03<00:00, 3211.46it/s, 3 steps of size 7.39e-01. acc. prob=0.92]\n",
      "sample: 100%|██████████| 12500/12500 [00:02<00:00, 5771.80it/s, 1 steps of size 7.60e-01. acc. prob=0.91]\n",
      "sample: 100%|██████████| 12500/12500 [00:02<00:00, 5769.34it/s, 3 steps of size 8.39e-01. acc. prob=0.89]\n"
     ]
    },
    {
     "name": "stdout",
     "output_type": "stream",
     "text": [
      "Generating instance 81...\n"
     ]
    },
    {
     "name": "stderr",
     "output_type": "stream",
     "text": [
      "sample: 100%|██████████| 12500/12500 [00:31<00:00, 399.12it/s, 1023 steps of size 2.90e-07. acc. prob=0.80]\n",
      "sample: 100%|██████████| 12500/12500 [00:29<00:00, 422.07it/s, 511 steps of size 2.55e-07. acc. prob=0.82] \n",
      "sample: 100%|██████████| 12500/12500 [00:29<00:00, 422.51it/s, 511 steps of size 2.70e-07. acc. prob=0.81] \n"
     ]
    },
    {
     "name": "stdout",
     "output_type": "stream",
     "text": [
      "Generating instance 82...\n"
     ]
    },
    {
     "name": "stderr",
     "output_type": "stream",
     "text": [
      "sample: 100%|██████████| 12500/12500 [00:03<00:00, 3158.59it/s, 26 steps of size 2.27e-03. acc. prob=0.85]\n",
      "sample: 100%|██████████| 12500/12500 [00:02<00:00, 5003.24it/s, 3 steps of size 5.00e-03. acc. prob=0.72] \n",
      "sample: 100%|██████████| 12500/12500 [00:02<00:00, 4899.92it/s, 3 steps of size 5.16e-03. acc. prob=0.73] \n"
     ]
    },
    {
     "name": "stdout",
     "output_type": "stream",
     "text": [
      "Generating instance 83...\n"
     ]
    },
    {
     "name": "stderr",
     "output_type": "stream",
     "text": [
      "sample: 100%|██████████| 12500/12500 [00:03<00:00, 3435.95it/s, 3 steps of size 8.28e-01. acc. prob=0.90]\n",
      "sample: 100%|██████████| 12500/12500 [00:02<00:00, 5671.60it/s, 7 steps of size 8.10e-01. acc. prob=0.90]\n",
      "sample: 100%|██████████| 12500/12500 [00:02<00:00, 5597.04it/s, 3 steps of size 7.74e-01. acc. prob=0.91]\n"
     ]
    },
    {
     "name": "stdout",
     "output_type": "stream",
     "text": [
      "Generating instance 84...\n"
     ]
    },
    {
     "name": "stderr",
     "output_type": "stream",
     "text": [
      "sample: 100%|██████████| 12500/12500 [00:03<00:00, 3270.88it/s, 3 steps of size 7.25e-01. acc. prob=0.92]\n",
      "sample: 100%|██████████| 12500/12500 [00:02<00:00, 5401.56it/s, 1 steps of size 7.51e-01. acc. prob=0.92]\n",
      "sample: 100%|██████████| 12500/12500 [00:02<00:00, 5615.14it/s, 3 steps of size 7.72e-01. acc. prob=0.92]\n"
     ]
    },
    {
     "name": "stdout",
     "output_type": "stream",
     "text": [
      "Generating instance 85...\n"
     ]
    },
    {
     "name": "stderr",
     "output_type": "stream",
     "text": [
      "sample: 100%|██████████| 12500/12500 [00:03<00:00, 3391.63it/s, 3 steps of size 7.47e-01. acc. prob=0.91]\n",
      "sample: 100%|██████████| 12500/12500 [00:02<00:00, 5737.02it/s, 5 steps of size 7.48e-01. acc. prob=0.92]\n",
      "sample: 100%|██████████| 12500/12500 [00:02<00:00, 5753.28it/s, 3 steps of size 7.97e-01. acc. prob=0.91]\n"
     ]
    },
    {
     "name": "stdout",
     "output_type": "stream",
     "text": [
      "Generating instance 86...\n"
     ]
    },
    {
     "name": "stderr",
     "output_type": "stream",
     "text": [
      "sample: 100%|██████████| 12500/12500 [00:03<00:00, 3362.65it/s, 3 steps of size 7.35e-01. acc. prob=0.91]\n",
      "sample: 100%|██████████| 12500/12500 [00:02<00:00, 5501.19it/s, 1 steps of size 7.60e-01. acc. prob=0.91]\n",
      "sample: 100%|██████████| 12500/12500 [00:02<00:00, 5009.49it/s, 3 steps of size 8.42e-01. acc. prob=0.89]\n"
     ]
    },
    {
     "name": "stdout",
     "output_type": "stream",
     "text": [
      "Generating instance 87...\n"
     ]
    },
    {
     "name": "stderr",
     "output_type": "stream",
     "text": [
      "sample: 100%|██████████| 12500/12500 [00:05<00:00, 2366.34it/s, 3 steps of size 7.42e-01. acc. prob=0.92]\n",
      "sample: 100%|██████████| 12500/12500 [00:02<00:00, 5730.02it/s, 1 steps of size 7.59e-01. acc. prob=0.91]\n",
      "sample: 100%|██████████| 12500/12500 [00:02<00:00, 5753.14it/s, 3 steps of size 7.85e-01. acc. prob=0.91]\n"
     ]
    },
    {
     "name": "stdout",
     "output_type": "stream",
     "text": [
      "Generating instance 88...\n"
     ]
    },
    {
     "name": "stderr",
     "output_type": "stream",
     "text": [
      "sample: 100%|██████████| 12500/12500 [00:03<00:00, 3462.10it/s, 3 steps of size 7.70e-01. acc. prob=0.91]\n",
      "sample: 100%|██████████| 12500/12500 [00:02<00:00, 5789.12it/s, 5 steps of size 7.35e-01. acc. prob=0.92]\n",
      "sample: 100%|██████████| 12500/12500 [00:02<00:00, 5769.28it/s, 3 steps of size 8.12e-01. acc. prob=0.90]\n"
     ]
    },
    {
     "name": "stdout",
     "output_type": "stream",
     "text": [
      "Generating instance 89...\n"
     ]
    },
    {
     "name": "stderr",
     "output_type": "stream",
     "text": [
      "sample: 100%|██████████| 12500/12500 [00:03<00:00, 3465.87it/s, 7 steps of size 7.10e-01. acc. prob=0.92]\n",
      "sample: 100%|██████████| 12500/12500 [00:02<00:00, 5650.63it/s, 1 steps of size 7.65e-01. acc. prob=0.91]\n",
      "sample: 100%|██████████| 12500/12500 [00:02<00:00, 5756.29it/s, 3 steps of size 7.88e-01. acc. prob=0.91]\n"
     ]
    },
    {
     "name": "stdout",
     "output_type": "stream",
     "text": [
      "Generating instance 90...\n"
     ]
    },
    {
     "name": "stderr",
     "output_type": "stream",
     "text": [
      "sample: 100%|██████████| 12500/12500 [00:03<00:00, 3257.33it/s, 3 steps of size 7.78e-01. acc. prob=0.91]\n",
      "sample: 100%|██████████| 12500/12500 [00:02<00:00, 5712.12it/s, 1 steps of size 7.89e-01. acc. prob=0.91]\n",
      "sample: 100%|██████████| 12500/12500 [00:02<00:00, 5652.91it/s, 3 steps of size 7.27e-01. acc. prob=0.92]\n"
     ]
    },
    {
     "name": "stdout",
     "output_type": "stream",
     "text": [
      "Generating instance 91...\n"
     ]
    },
    {
     "name": "stderr",
     "output_type": "stream",
     "text": [
      "sample: 100%|██████████| 12500/12500 [00:30<00:00, 403.79it/s, 1023 steps of size 2.91e-07. acc. prob=0.80]\n",
      "sample: 100%|██████████| 12500/12500 [00:30<00:00, 410.10it/s, 511 steps of size 2.55e-07. acc. prob=0.82] \n",
      "sample: 100%|██████████| 12500/12500 [00:29<00:00, 427.20it/s, 511 steps of size 2.70e-07. acc. prob=0.81] \n"
     ]
    },
    {
     "name": "stdout",
     "output_type": "stream",
     "text": [
      "Generating instance 92...\n"
     ]
    },
    {
     "name": "stderr",
     "output_type": "stream",
     "text": [
      "sample: 100%|██████████| 12500/12500 [00:03<00:00, 3275.07it/s, 15 steps of size 4.12e-03. acc. prob=0.77]\n",
      "sample: 100%|██████████| 12500/12500 [00:02<00:00, 5381.30it/s, 3 steps of size 5.97e-03. acc. prob=0.69] \n",
      "sample: 100%|██████████| 12500/12500 [00:02<00:00, 4850.24it/s, 10 steps of size 1.63e-03. acc. prob=0.87]\n"
     ]
    },
    {
     "name": "stdout",
     "output_type": "stream",
     "text": [
      "Generating instance 93...\n"
     ]
    },
    {
     "name": "stderr",
     "output_type": "stream",
     "text": [
      "sample: 100%|██████████| 12500/12500 [00:03<00:00, 3406.22it/s, 3 steps of size 8.19e-01. acc. prob=0.90]\n",
      "sample: 100%|██████████| 12500/12500 [00:02<00:00, 5695.45it/s, 7 steps of size 8.84e-01. acc. prob=0.89]\n",
      "sample: 100%|██████████| 12500/12500 [00:02<00:00, 5767.59it/s, 3 steps of size 9.14e-01. acc. prob=0.88]\n"
     ]
    },
    {
     "name": "stdout",
     "output_type": "stream",
     "text": [
      "Generating instance 94...\n"
     ]
    },
    {
     "name": "stderr",
     "output_type": "stream",
     "text": [
      "sample: 100%|██████████| 12500/12500 [00:03<00:00, 3422.60it/s, 3 steps of size 7.20e-01. acc. prob=0.92]\n",
      "sample: 100%|██████████| 12500/12500 [00:02<00:00, 5660.22it/s, 1 steps of size 7.38e-01. acc. prob=0.92]\n",
      "sample: 100%|██████████| 12500/12500 [00:02<00:00, 5734.35it/s, 3 steps of size 8.38e-01. acc. prob=0.89]\n"
     ]
    },
    {
     "name": "stdout",
     "output_type": "stream",
     "text": [
      "Generating instance 95...\n"
     ]
    },
    {
     "name": "stderr",
     "output_type": "stream",
     "text": [
      "sample: 100%|██████████| 12500/12500 [00:03<00:00, 3187.65it/s, 3 steps of size 7.42e-01. acc. prob=0.91]\n",
      "sample: 100%|██████████| 12500/12500 [00:02<00:00, 5654.20it/s, 1 steps of size 7.11e-01. acc. prob=0.92]\n",
      "sample: 100%|██████████| 12500/12500 [00:02<00:00, 5535.99it/s, 3 steps of size 7.04e-01. acc. prob=0.93]\n"
     ]
    },
    {
     "name": "stdout",
     "output_type": "stream",
     "text": [
      "Generating instance 96...\n"
     ]
    },
    {
     "name": "stderr",
     "output_type": "stream",
     "text": [
      "sample: 100%|██████████| 12500/12500 [00:03<00:00, 3426.22it/s, 3 steps of size 7.63e-01. acc. prob=0.91]\n",
      "sample: 100%|██████████| 12500/12500 [00:02<00:00, 5700.13it/s, 1 steps of size 8.14e-01. acc. prob=0.90]\n",
      "sample: 100%|██████████| 12500/12500 [00:02<00:00, 5503.60it/s, 3 steps of size 7.88e-01. acc. prob=0.91]\n"
     ]
    },
    {
     "name": "stdout",
     "output_type": "stream",
     "text": [
      "Generating instance 97...\n"
     ]
    },
    {
     "name": "stderr",
     "output_type": "stream",
     "text": [
      "sample: 100%|██████████| 12500/12500 [00:03<00:00, 3424.83it/s, 3 steps of size 7.99e-01. acc. prob=0.90]\n",
      "sample: 100%|██████████| 12500/12500 [00:02<00:00, 5641.81it/s, 1 steps of size 7.46e-01. acc. prob=0.92]\n",
      "sample: 100%|██████████| 12500/12500 [00:02<00:00, 5779.49it/s, 3 steps of size 8.66e-01. acc. prob=0.88]\n"
     ]
    },
    {
     "name": "stdout",
     "output_type": "stream",
     "text": [
      "Generating instance 98...\n"
     ]
    },
    {
     "name": "stderr",
     "output_type": "stream",
     "text": [
      "sample: 100%|██████████| 12500/12500 [00:03<00:00, 3478.12it/s, 3 steps of size 7.65e-01. acc. prob=0.91]\n",
      "sample: 100%|██████████| 12500/12500 [00:02<00:00, 5635.13it/s, 1 steps of size 7.87e-01. acc. prob=0.90]\n",
      "sample: 100%|██████████| 12500/12500 [00:02<00:00, 5666.03it/s, 3 steps of size 8.43e-01. acc. prob=0.89]\n"
     ]
    },
    {
     "name": "stdout",
     "output_type": "stream",
     "text": [
      "Generating instance 99...\n"
     ]
    },
    {
     "name": "stderr",
     "output_type": "stream",
     "text": [
      "sample: 100%|██████████| 12500/12500 [00:03<00:00, 3394.38it/s, 7 steps of size 6.35e-01. acc. prob=0.94]\n",
      "sample: 100%|██████████| 12500/12500 [00:02<00:00, 5683.14it/s, 7 steps of size 8.77e-01. acc. prob=0.88]\n",
      "sample: 100%|██████████| 12500/12500 [00:02<00:00, 5592.02it/s, 3 steps of size 7.12e-01. acc. prob=0.93]\n"
     ]
    },
    {
     "name": "stdout",
     "output_type": "stream",
     "text": [
      "Generating instance 100...\n"
     ]
    },
    {
     "name": "stderr",
     "output_type": "stream",
     "text": [
      "sample: 100%|██████████| 12500/12500 [00:03<00:00, 3329.17it/s, 7 steps of size 6.32e-01. acc. prob=0.94]\n",
      "sample: 100%|██████████| 12500/12500 [00:02<00:00, 5710.72it/s, 1 steps of size 8.04e-01. acc. prob=0.90]\n",
      "sample: 100%|██████████| 12500/12500 [00:02<00:00, 5647.36it/s, 3 steps of size 7.95e-01. acc. prob=0.91]\n"
     ]
    }
   ],
   "source": [
    "analysis_iterations = {\n",
    "    'parameters_1':\n",
    "    [\n",
    "        'I_y_sigma', \n",
    "    ],\n",
    "    'parameters_2':\n",
    "    [\n",
    "        'likelihood_sigma', \n",
    "    ],\n",
    "    'values_1':\n",
    "    [\n",
    "        np.array([1e-4, 1e-3, 1e-2, 1e-1, 1e0, 1e1, 1e2, 1e3, 1e4, 1e5]),\n",
    "    ],\n",
    "    'values_2':\n",
    "    [\n",
    "        np.array([0.2, 0.4, 0.6, 0.8, 1, 1.2, 1.4, 1.6, 1.8, 2]),\n",
    "    ]\n",
    "}\n",
    "\n",
    "for i in range(len(analysis_iterations['parameters_1'])):\n",
    "    parameter_1 = analysis_iterations['parameters_1'][i]\n",
    "    parameter_2 = analysis_iterations['parameters_2'][i]\n",
    "\n",
    "    print('Working on varying ' + parameter_1 + '...')\n",
    "    values_1 = analysis_iterations['values_1'][i]\n",
    "    values_2 = analysis_iterations['values_2'][i]\n",
    "    inputs = generator.vary_two_parameters(parameter_1, parameter_2, values_1, values_2, scale_1='log', scale_2='linear', plot=True)"
   ]
  },
  {
   "attachments": {},
   "cell_type": "markdown",
   "metadata": {},
   "source": [
    "## Optimiser ##\n",
    "\n",
    "Optimise the default construction using Bayesian Optimisation"
   ]
  },
  {
   "cell_type": "code",
   "execution_count": null,
   "metadata": {},
   "outputs": [
    {
     "name": "stderr",
     "output_type": "stream",
     "text": [
      "[I 2023-07-06 00:21:47,140] A new study created in memory with name: no-name-cc165d2b-6bdf-4d36-b8c5-833100a69fa9\n"
     ]
    },
    {
     "name": "stderr",
     "output_type": "stream",
     "text": [
      "sample: 100%|██████████| 12500/12500 [00:04<00:00, 3117.80it/s, 31 steps of size 2.05e-01. acc. prob=0.89]\n",
      "sample: 100%|██████████| 12500/12500 [00:02<00:00, 5078.58it/s, 7 steps of size 1.83e-01. acc. prob=0.93] \n",
      "sample: 100%|██████████| 12500/12500 [00:02<00:00, 5038.78it/s, 7 steps of size 1.88e-01. acc. prob=0.93] \n",
      "[I 2023-07-06 00:21:58,484] Trial 0 finished with value: 116.59412384033203 and parameters: {'I_y_mu': 7.242819636870754, 'I_y_sigma': 5.38475701400792, 'I_z_mu': 2.7184932409094564, 'I_z_sigma': 6.154708994918618, 'Q_mu': 9.417718564821115e+17, 'Q_sigma': 4.1170024922262496e+17}. Best is trial 0 with value: 116.59412384033203.\n",
      "sample: 100%|██████████| 12500/12500 [00:04<00:00, 3063.14it/s, 19 steps of size 1.49e-01. acc. prob=0.94]\n",
      "sample: 100%|██████████| 12500/12500 [00:02<00:00, 4885.72it/s, 7 steps of size 1.26e-01. acc. prob=0.94] \n",
      "sample: 100%|██████████| 12500/12500 [00:02<00:00, 5040.89it/s, 3 steps of size 1.49e-01. acc. prob=0.92] \n",
      "[I 2023-07-06 00:22:09,968] Trial 1 finished with value: 115.3094482421875 and parameters: {'I_y_mu': 9.997879256923916, 'I_y_sigma': 2.9375794646617095, 'I_z_mu': 2.9383912510108017, 'I_z_sigma': 7.178588319400818, 'Q_mu': 7.95869135102434e+17, 'Q_sigma': 7.305416591379677e+17}. Best is trial 1 with value: 115.3094482421875.\n",
      "sample: 100%|██████████| 12500/12500 [00:03<00:00, 3193.10it/s, 11 steps of size 3.02e-01. acc. prob=0.91]\n",
      "sample: 100%|██████████| 12500/12500 [00:02<00:00, 5224.80it/s, 15 steps of size 2.67e-01. acc. prob=0.93]\n",
      "sample: 100%|██████████| 12500/12500 [00:02<00:00, 5193.28it/s, 7 steps of size 2.65e-01. acc. prob=0.94] \n",
      "[I 2023-07-06 00:22:21,039] Trial 2 finished with value: 119.0263671875 and parameters: {'I_y_mu': 4.252529044888664, 'I_y_sigma': 4.362328903146705, 'I_z_mu': 7.587805816720313, 'I_z_sigma': 0.796006671862991, 'Q_mu': 3.539974782886292e+17, 'Q_sigma': 9.402021085712725e+16}. Best is trial 1 with value: 115.3094482421875.\n",
      "sample: 100%|██████████| 12500/12500 [00:03<00:00, 3255.26it/s, 31 steps of size 1.98e-01. acc. prob=0.94]\n",
      "sample: 100%|██████████| 12500/12500 [00:02<00:00, 5101.33it/s, 7 steps of size 1.94e-01. acc. prob=0.94] \n",
      "sample: 100%|██████████| 12500/12500 [00:02<00:00, 5204.75it/s, 3 steps of size 2.30e-01. acc. prob=0.92] \n",
      "[I 2023-07-06 00:22:32,126] Trial 3 finished with value: 116.22158813476562 and parameters: {'I_y_mu': 0.7803110010681431, 'I_y_sigma': 7.013482814338026, 'I_z_mu': 6.408714858728212, 'I_z_sigma': 7.983364154890666, 'Q_mu': 8.057559299441161e+17, 'Q_sigma': 3.047394142158536e+17}. Best is trial 1 with value: 115.3094482421875.\n",
      "sample: 100%|██████████| 12500/12500 [00:03<00:00, 3271.05it/s, 15 steps of size 2.44e-01. acc. prob=0.92]\n",
      "sample: 100%|██████████| 12500/12500 [00:02<00:00, 5212.83it/s, 3 steps of size 2.20e-01. acc. prob=0.94] \n",
      "sample: 100%|██████████| 12500/12500 [00:02<00:00, 5232.83it/s, 3 steps of size 2.49e-01. acc. prob=0.94] \n",
      "[I 2023-07-06 00:22:43,077] Trial 4 finished with value: 115.33213806152344 and parameters: {'I_y_mu': 8.812265282992941, 'I_y_sigma': 2.122416080421951, 'I_z_mu': 3.778787057825807, 'I_z_sigma': 6.787966454876031, 'Q_mu': 2.2471038490196515e+17, 'Q_sigma': 7.055269795113356e+17}. Best is trial 1 with value: 115.3094482421875.\n",
      "sample: 100%|██████████| 12500/12500 [00:03<00:00, 3304.58it/s, 23 steps of size 4.62e-01. acc. prob=0.88]\n",
      "sample: 100%|██████████| 12500/12500 [00:02<00:00, 4481.37it/s, 11 steps of size 3.21e-02. acc. prob=0.93]\n",
      "sample: 100%|██████████| 12500/12500 [00:02<00:00, 5146.03it/s, 3 steps of size 2.22e-01. acc. prob=0.91] \n",
      "[I 2023-07-06 00:22:54,431] Trial 5 finished with value: 119.04302978515625 and parameters: {'I_y_mu': 8.022264544702686, 'I_y_sigma': 1.383908977255896, 'I_z_mu': 6.09724061327507, 'I_z_sigma': 6.161260006535485, 'Q_mu': 9.740111082160786e+17, 'Q_sigma': 3.726761342482237e+17}. Best is trial 1 with value: 115.3094482421875.\n",
      "sample: 100%|██████████| 12500/12500 [00:03<00:00, 3245.45it/s, 15 steps of size 2.42e-01. acc. prob=0.92]\n",
      "sample: 100%|██████████| 12500/12500 [00:02<00:00, 5136.55it/s, 15 steps of size 2.04e-01. acc. prob=0.93]\n",
      "sample: 100%|██████████| 12500/12500 [00:02<00:00, 5091.10it/s, 7 steps of size 2.02e-01. acc. prob=0.95] \n",
      "[I 2023-07-06 00:23:05,531] Trial 6 finished with value: 118.92825317382812 and parameters: {'I_y_mu': 6.299384890266973, 'I_y_sigma': 1.7251650387205333, 'I_z_mu': 6.484854844211485, 'I_z_sigma': 1.6184572029028614, 'Q_mu': 5.1930381022854445e+17, 'Q_sigma': 1.8835961600595594e+17}. Best is trial 1 with value: 115.3094482421875.\n",
      "sample: 100%|██████████| 12500/12500 [00:03<00:00, 3279.71it/s, 15 steps of size 2.59e-01. acc. prob=0.93]\n",
      "sample: 100%|██████████| 12500/12500 [00:02<00:00, 5271.35it/s, 1 steps of size 3.17e-01. acc. prob=0.89] \n",
      "sample: 100%|██████████| 12500/12500 [00:02<00:00, 5297.50it/s, 3 steps of size 3.08e-01. acc. prob=0.91] \n",
      "[I 2023-07-06 00:23:16,458] Trial 7 finished with value: 115.19990539550781 and parameters: {'I_y_mu': 0.6957478283694343, 'I_y_sigma': 9.688300545025772, 'I_z_mu': 0.2884540692667419, 'I_z_sigma': 0.3670768661022244, 'Q_mu': 2.5798865237298253e+17, 'Q_sigma': 6.981218198072947e+16}. Best is trial 7 with value: 115.19990539550781.\n",
      "sample: 100%|██████████| 12500/12500 [00:03<00:00, 3186.91it/s, 3 steps of size 6.11e-01. acc. prob=0.91]\n",
      "sample: 100%|██████████| 12500/12500 [00:02<00:00, 5413.34it/s, 1 steps of size 5.52e-01. acc. prob=0.92]\n",
      "sample: 100%|██████████| 12500/12500 [00:02<00:00, 5415.04it/s, 3 steps of size 5.88e-01. acc. prob=0.91]\n",
      "[I 2023-07-06 00:23:27,410] Trial 8 finished with value: 113.13556671142578 and parameters: {'I_y_mu': 3.768053988772884, 'I_y_sigma': 5.963543000282927, 'I_z_mu': 8.52529614871596, 'I_z_sigma': 8.402146419052892, 'Q_mu': 3.388184125011668e+17, 'Q_sigma': 5.6345523163107e+17}. Best is trial 8 with value: 113.13556671142578.\n",
      "sample: 100%|██████████| 12500/12500 [00:03<00:00, 3216.36it/s, 23 steps of size 2.75e-01. acc. prob=0.90]\n",
      "sample: 100%|██████████| 12500/12500 [00:02<00:00, 5173.33it/s, 3 steps of size 2.78e-01. acc. prob=0.92] \n",
      "sample: 100%|██████████| 12500/12500 [00:02<00:00, 5019.28it/s, 3 steps of size 2.90e-01. acc. prob=0.94] \n",
      "[I 2023-07-06 00:23:38,637] Trial 9 finished with value: 116.2497787475586 and parameters: {'I_y_mu': 0.743901137688475, 'I_y_sigma': 9.315156588074858, 'I_z_mu': 2.5659588782541807, 'I_z_sigma': 8.265648760582863, 'Q_mu': 6.68399417034683e+17, 'Q_sigma': 1.8410876004550304e+17}. Best is trial 8 with value: 113.13556671142578.\n"
     ]
    },
    {
     "name": "stdout",
     "output_type": "stream",
     "text": [
      "Study statistics: \n",
      " Number of finished trials:  10\n",
      " Number of pruned trials:  0\n",
      " Number of complete trials:  10\n",
      "Best trial:\n",
      " Value:  113.13556671142578\n",
      "Params: \n",
      "    I_y_mu: 3.768053988772884\n",
      "    I_y_sigma: 5.963543000282927\n",
      "    I_z_mu: 8.52529614871596\n",
      "    I_z_sigma: 8.402146419052892\n",
      "    Q_mu: 3.388184125011668e+17\n",
      "    Q_sigma: 5.6345523163107e+17\n"
     ]
    },
    {
     "name": "stderr",
     "output_type": "stream",
     "text": [
      "sample: 100%|██████████| 12500/12500 [00:03<00:00, 3302.11it/s, 3 steps of size 6.11e-01. acc. prob=0.91]\n",
      "sample: 100%|██████████| 12500/12500 [00:02<00:00, 5502.07it/s, 1 steps of size 5.52e-01. acc. prob=0.92]\n",
      "sample: 100%|██████████| 12500/12500 [00:02<00:00, 5541.74it/s, 3 steps of size 5.88e-01. acc. prob=0.91]\n"
     ]
    }
   ],
   "source": [
    "optimising_parameters = {\n",
    "                    'I_y_mu': [1e-2, 10],\n",
    "                    'I_y_sigma': [1e-2, 10],\n",
    "                    'I_z_mu': [1e-2, 10],\n",
    "                    'I_z_sigma': [1e-2, 10],\n",
    "                    'Q_mu': [1e9, 1e18],\n",
    "                    'Q_sigma': [1e9, 1e18],\n",
    "                }\n",
    "\n",
    "optimiser = Optimiser(results_name=results_name, \n",
    "                  default_params=default_params, \n",
    "                  data_params=data_params)\n",
    "\n",
    "study = optimiser.run(n_trials=10, optimiser_name='optimiser_1', optimising_parameters=optimising_parameters, index_name='aic')\n",
    "optimiser.get_plots(study)\n",
    "\n",
    "optimiser.run_best_params(study)"
   ]
  }
 ],
 "metadata": {
  "kernelspec": {
   "display_name": "base",
   "language": "python",
   "name": "python3"
  },
  "language_info": {
   "codemirror_mode": {
    "name": "ipython",
    "version": 3
   },
   "file_extension": ".py",
   "mimetype": "text/x-python",
   "name": "python",
   "nbconvert_exporter": "python",
   "pygments_lexer": "ipython3",
   "version": "3.9.16"
  },
  "orig_nbformat": 4
 },
 "nbformat": 4,
 "nbformat_minor": 2
}
