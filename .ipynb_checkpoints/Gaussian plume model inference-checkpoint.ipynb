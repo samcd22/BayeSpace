{
 "cells": [
  {
   "cell_type": "code",
   "execution_count": 1,
   "id": "584f66e8",
   "metadata": {},
   "outputs": [
    {
     "name": "stderr",
     "output_type": "stream",
     "text": [
      "C:\\Users\\Sam\\OneDrive\\Documents\\PhD\\Gaussian_plume_models\\plume_inference\\inference_toolbox.py:7: FutureWarning: The default dtype for empty Series will be 'object' instead of 'float64' in a future version. Specify a dtype explicitly to silence this warning.\n",
      "  prior_params = pd.Series({})\n",
      "C:\\Users\\Sam\\OneDrive\\Documents\\PhD\\Gaussian_plume_models\\plume_inference\\inference_toolbox.py:56: FutureWarning: The default dtype for empty Series will be 'object' instead of 'float64' in a future version. Specify a dtype explicitly to silence this warning.\n",
      "  model_params = pd.Series({})\n",
      "C:\\Users\\Sam\\OneDrive\\Documents\\PhD\\Gaussian_plume_models\\plume_inference\\inference_toolbox.py:81: FutureWarning: The default dtype for empty Series will be 'object' instead of 'float64' in a future version. Specify a dtype explicitly to silence this warning.\n",
      "  likelihood_params = pd.Series({})\n"
     ]
    },
    {
     "data": {
      "text/plain": [
       "71"
      ]
     },
     "execution_count": 1,
     "metadata": {},
     "output_type": "execute_result"
    }
   ],
   "source": [
    "import gc   # For manual garbage collection.\n",
    "import numpy as np\n",
    "import pandas as pd\n",
    "from matplotlib import pyplot as plt\n",
    "\n",
    "from utils import traceplots\n",
    "from inference_toolbox import Parameter, Model, Likelihood, Sampler\n",
    "from GPM_analysis import GPM_analysis\n",
    "\n",
    "experiment = 'Exp1'\n",
    "\n",
    "# Import and select data.\n",
    "all_data = pd.read_csv('total_data.csv',\n",
    "    usecols = ['gps.lat', 'gps.lon', 'altitudeRelative', 'Concentration', 'Experiment','Transect','Peak_Dist'],\n",
    ")\n",
    "all_data = all_data[all_data['Experiment'] == experiment]\n",
    "all_data = all_data.drop(columns = ['Experiment'])\n",
    "\n",
    "# Import and select metadata.\n",
    "experiment_metadata = pd.read_csv('data_summary.csv',\n",
    "    usecols = ['Experiment', 'Wind_Dir', 'WindSpeed', 'boat.lat', 'boat.lon']\n",
    ")\n",
    "experiment_metadata = experiment_metadata[experiment_metadata['Experiment'] == experiment]\n",
    "wind_dir = experiment_metadata['Wind_Dir'].values[0]\n",
    "wind_speed = experiment_metadata['WindSpeed'].values[0]\n",
    "\n",
    "# Converting lat and lon to distances from boat in downwind and crosswind directions.\n",
    "all_data['dist_lat'] = (all_data['gps.lat'] - experiment_metadata['boat.lat'].values[0]) * 111000\n",
    "all_data['dist_lon'] = (all_data['gps.lon'] - experiment_metadata['boat.lon'].values[0]) * 111000\n",
    "all_data['x'] = all_data['dist_lon'] * np.cos(270 - wind_dir) + all_data['dist_lat'] * np.sin(270 - wind_dir)\n",
    "all_data['y'] = all_data['dist_lon'] * np.cos(360 - wind_dir) + all_data['dist_lat'] * np.sin(360 - wind_dir)\n",
    "all_data['z'] = all_data['altitudeRelative']\n",
    "all_data['T'] = all_data['Transect']\n",
    "all_data['PD'] = all_data['Peak_Dist']\n",
    "\n",
    "all_data['Concentration'] = all_data['Concentration']*100**3\n",
    "\n",
    "# Split data, 80% for training and 20% for testing, shuffling rows first.\n",
    "all_data = all_data.drop(columns = ['altitudeRelative', 'dist_lat', 'dist_lon', 'gps.lat', 'gps.lon','Transect','Peak_Dist'])\n",
    "all_data = np.asarray(all_data)   # Prepare for Numba.\n",
    "np.random.seed(1)                 # Ensure the same split each time.\n",
    "np.random.shuffle(all_data)\n",
    "training_data, testing_data = np.split(all_data, [int(0.8 * len(all_data))])\n",
    "\n",
    "# Release unused memory.\n",
    "del(experiment)\n",
    "del(experiment_metadata)\n",
    "del(wind_dir)\n",
    "gc.collect()"
   ]
  },
  {
   "cell_type": "code",
   "execution_count": 2,
   "id": "166a3f02",
   "metadata": {},
   "outputs": [
    {
     "ename": "NameError",
     "evalue": "name 'float64' is not defined",
     "output_type": "error",
     "traceback": [
      "\u001b[1;31m---------------------------------------------------------------------------\u001b[0m",
      "\u001b[1;31mNameError\u001b[0m                                 Traceback (most recent call last)",
      "Input \u001b[1;32mIn [2]\u001b[0m, in \u001b[0;36m<cell line: 2>\u001b[1;34m()\u001b[0m\n\u001b[0;32m      1\u001b[0m \u001b[38;5;66;03m# Initialize parameter series\u001b[39;00m\n\u001b[1;32m----> 2\u001b[0m params \u001b[38;5;241m=\u001b[39m pd\u001b[38;5;241m.\u001b[39mSeries({},dtype\u001b[38;5;241m=\u001b[39m\u001b[43mfloat64\u001b[49m)\n\u001b[0;32m      4\u001b[0m \u001b[38;5;66;03m# Parameter Assignment\u001b[39;00m\n\u001b[0;32m      5\u001b[0m a \u001b[38;5;241m=\u001b[39m Parameter(init_val \u001b[38;5;241m=\u001b[39m \u001b[38;5;241m0.33\u001b[39m, step_select \u001b[38;5;241m=\u001b[39m \u001b[38;5;124m\"\u001b[39m\u001b[38;5;124mpositive gaussian\u001b[39m\u001b[38;5;124m\"\u001b[39m, step_size \u001b[38;5;241m=\u001b[39m \u001b[38;5;241m0.01\u001b[39m, prior_select \u001b[38;5;241m=\u001b[39m \u001b[38;5;124m\"\u001b[39m\u001b[38;5;124mgaussian\u001b[39m\u001b[38;5;124m\"\u001b[39m)\n",
      "\u001b[1;31mNameError\u001b[0m: name 'float64' is not defined"
     ]
    }
   ],
   "source": [
    "# Initialize parameter series\n",
    "params = pd.Series({},dtype='float64')\n",
    "\n",
    "# Parameter Assignment\n",
    "a = Parameter(init_val = 0.33, step_select = \"positive gaussian\", step_size = 0.01, prior_select = \"gaussian\")\n",
    "a.add_prior_param(\"mu\",0.33)\n",
    "a.add_prior_param(\"sigma\",0.01)\n",
    "params['a'] = a\n",
    "\n",
    "b = Parameter(init_val = 0.87, step_select = \"positive gaussian\", step_size = 0.01, prior_select = \"gaussian\")\n",
    "b.add_prior_param(\"mu\",0.87)\n",
    "b.add_prior_param(\"sigma\",0.01)\n",
    "params['b'] = b\n",
    "\n",
    "Q = Parameter(init_val = 3e13, step_select = \"positive gaussian\", step_size = 1e12, prior_select = \"gaussian\")\n",
    "Q.add_prior_param(\"mu\",3e13)\n",
    "Q.add_prior_param(\"sigma\",1e12)\n",
    "params['Q'] = Q\n",
    "\n",
    "# Model Assignment\n",
    "model = Model()\n",
    "model.add_model_param(\"H\",10)\n",
    "model.add_model_param(\"u\",wind_speed)\n",
    "model_func = model.get_model('GPM')\n",
    "\n",
    "# Likelihood function assigmnent\n",
    "likelihood = Likelihood()\n",
    "likelihood.add_likelihood_param(\"sigma\",1e11)\n",
    "likelihood.add_likelihood_param(\"lambda_1\",1)\n",
    "likelihood.add_likelihood_param(\"lambda_2\",0.05)\n",
    "\n",
    "likelihood_func = likelihood.get_log_likelihood_func(\"gaussian hetroscedastic fixed sigma\")\n",
    "\n",
    "# Initialize and run sampler\n",
    "sampler = Sampler(params, model_func, likelihood_func, training_data)\n",
    "params_samples = sampler.sample_all(10000)\n",
    "\n",
    "# Get mean values from samples\n",
    "params_mean = sampler.get_mean_samples(params_samples)"
   ]
  },
  {
   "cell_type": "code",
   "execution_count": null,
   "id": "3388cf29",
   "metadata": {},
   "outputs": [],
   "source": [
    "# Format samples and construct traceplots\n",
    "params_samples_formatted = params_samples.copy()\n",
    "for col in params_samples_formatted:\n",
    "    params_samples_formatted[col] = params_samples_formatted[col].apply(lambda x: x.val)\n",
    "traceplots(np.array(params_samples_formatted), xnames = params_samples_formatted.columns, title = 'MCMC samples')"
   ]
  },
  {
   "cell_type": "code",
   "execution_count": null,
   "id": "045dc4bb",
   "metadata": {},
   "outputs": [],
   "source": [
    "# Analyse the predictions\n",
    "test_predictions = model_func(params,testing_data[:,1],testing_data[:,2],testing_data[:,3])\n",
    "GPM_analyser = GPM_analysis(test_predictions, testing_data)\n",
    "RMSE = GPM_analyser.RMSE_func()\n",
    "pdist = GPM_analyser.peak_distance()\n",
    "GPM_analyser.compare_transects()"
   ]
  },
  {
   "cell_type": "code",
   "execution_count": null,
   "id": "e5b381ac",
   "metadata": {},
   "outputs": [],
   "source": [
    "# Plotting slices of the plume at set Z values using the mean values of the parameters.\n",
    "\n",
    "x = np.linspace(0.1, 1200, 501)\n",
    "y = np.linspace(-1000, 1000, 501)\n",
    "X,Y = np.meshgrid(x, y)\n",
    "Z = 20\n",
    "\n",
    "del(x)\n",
    "del(y)\n",
    "\n",
    "grid = np.zeros((X.shape[0]**2,3))\n",
    "grid[:,0] = X.reshape(X.shape[0]**2)\n",
    "grid[:,1] = Y.reshape(Y.shape[0]**2)\n",
    "grid[:,2] = np.ones(X.shape[0]**2)*Z\n",
    "\n",
    "unique_transects = np.unique(all_data[:,4])\n",
    "maximums = []\n",
    "for transect in unique_transects:\n",
    "    transect_data = all_data[all_data[:,4]==transect]\n",
    "    max_ind = np.argmax(transect_data[:,0])\n",
    "    maximums.append([transect_data[max_ind,1],transect_data[max_ind,2],transect_data[max_ind,3],transect_data[max_ind,0]])\n",
    "maximums = np.array(maximums)\n",
    "\n",
    "print(maximums[:,2])\n",
    "\n",
    "C = model_func(params_mean, X,Y,Z)\n",
    "\n",
    "plt.pcolor(X, Y, np.log(C), shading = 'auto')\n",
    "plt.colorbar()\n",
    "plt.scatter(maximums[:,0], maximums[:,1], s=maximums[:,3]/1e8)\n",
    "plt.title('Plume (log) number density at z = ' + str(Z)+'m')\n",
    "plt.xlabel('x (m)')\n",
    "plt.ylabel('y (m)')\n",
    "plt.show()\n",
    "\n",
    "print('a = ',params_mean.a.val)\n",
    "print('b = ',params_mean.b.val)\n",
    "print('Q = ',params_mean.Q.val)"
   ]
  },
  {
   "cell_type": "code",
   "execution_count": null,
   "id": "c2c87a3d",
   "metadata": {},
   "outputs": [],
   "source": []
  },
  {
   "cell_type": "code",
   "execution_count": null,
   "id": "090f0ad8",
   "metadata": {},
   "outputs": [],
   "source": []
  }
 ],
 "metadata": {
  "kernelspec": {
   "display_name": "Python 3 (ipykernel)",
   "language": "python",
   "name": "python3"
  },
  "language_info": {
   "codemirror_mode": {
    "name": "ipython",
    "version": 3
   },
   "file_extension": ".py",
   "mimetype": "text/x-python",
   "name": "python",
   "nbconvert_exporter": "python",
   "pygments_lexer": "ipython3",
   "version": "3.9.12"
  },
  "vscode": {
   "interpreter": {
    "hash": "f132f6c4237cba2d865fbf0594f77c169f5660f7b7d39a372371b1e40073e867"
   }
  }
 },
 "nbformat": 4,
 "nbformat_minor": 5
}
